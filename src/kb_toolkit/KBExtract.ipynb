{
 "cells": [
  {
   "cell_type": "code",
   "execution_count": 1,
   "metadata": {},
   "outputs": [],
   "source": [
    "base_dir=\"/mnt/efs/shared/meg_shared_scripts/meg-kb\"\n",
    "data_ac=\"indeeda-meg-ac\"\n",
    "data_pt=\"indeeda-meg-pt\"\n",
    "yutong_base_dir=\"/home/ubuntu/users/yutong\""
   ]
  },
  {
   "cell_type": "code",
   "execution_count": 2,
   "metadata": {},
   "outputs": [
    {
     "name": "stdout",
     "output_type": "stream",
     "text": [
      "/mnt/efs/shared/meg_shared_scripts/meg-kb/src/concept_learning\n"
     ]
    }
   ],
   "source": [
    "%cd $base_dir/src/concept_learning/"
   ]
  },
  {
   "cell_type": "code",
   "execution_count": 3,
   "metadata": {},
   "outputs": [],
   "source": [
    "from tqdm.notebook import tqdm\n",
    "import argparse\n",
    "import re\n",
    "import numpy as np\n",
    "from scipy.spatial.distance import cosine\n",
    "from scipy.stats import pearsonr, entropy, gmean\n",
    "import random\n",
    "import torch\n",
    "from transformers import AutoTokenizer, AutoModel, AutoConfig\n",
    "from transformers import BertTokenizer, BertModel, BertForMaskedLM\n",
    "from transformers import GPT2Tokenizer, GPT2LMHeadModel\n",
    "import json\n",
    "from collections import defaultdict\n",
    "import time\n",
    "\n",
    "import logging\n",
    "from sklearn.cluster import KMeans, AgglomerativeClustering\n",
    "from sklearn.manifold import TSNE\n",
    "import pandas as pd\n",
    "import os\n",
    "import sys\n",
    "import math\n",
    "from annoy import AnnoyIndex\n",
    "import matplotlib\n",
    "from matplotlib import pyplot as plt\n",
    "import networkx as nx\n",
    "\n",
    "import spacy\n",
    "from spacy.matcher import Matcher\n",
    "from spacy.lang.en import English\n",
    "nlp = English()\n",
    "nlp.add_pipe(nlp.create_pipe('sentencizer'))\n",
    "spacy_tokenizer = nlp.tokenizer\n",
    "\n",
    "\n",
    "from compute_concept_clusters import knn\n",
    "from compute_keyphrase_embeddings import ensure_tensor_on_device, mean_pooling\n",
    "\n",
    "from lm_probes import LMProbe, LMProbe_GPT2\n",
    "from utils import load_embeddings, load_seed_aligned_concepts, load_seed_aligned_relations, load_benchmark\n",
    "from utils import get_masked_contexts, bert_untokenize\n",
    "\n",
    "from roberta_ses.interface import Roberta_SES_Entailment"
   ]
  },
  {
   "cell_type": "code",
   "execution_count": 4,
   "metadata": {},
   "outputs": [],
   "source": [
    "seed_concepts_path = os.path.join(base_dir, f'data/indeed-benchmark/seed_concepts.csv')\n",
    "seed_relations_path = os.path.join(base_dir, f'data/indeed-benchmark/seed_relations.csv')\n",
    "\n",
    "seed_aligned_concepts_path = os.path.join(base_dir, f'data/indeed-benchmark/seed_aligned_concepts.csv')\n",
    "seed_aligned_relations_path = os.path.join(base_dir, f'data/indeed-benchmark/seed_aligned_relations.csv')"
   ]
  },
  {
   "cell_type": "markdown",
   "metadata": {},
   "source": [
    "# Data Preprocessing"
   ]
  },
  {
   "cell_type": "code",
   "execution_count": 2,
   "metadata": {},
   "outputs": [],
   "source": [
    "# Input: text corpus\n",
    "# step 1: extract key phrases (autophrase)\n",
    "# step 2: generate embeddings"
   ]
  },
  {
   "cell_type": "markdown",
   "metadata": {},
   "source": [
    "## Extract Key Phrases"
   ]
  },
  {
   "cell_type": "code",
   "execution_count": 3,
   "metadata": {},
   "outputs": [],
   "source": [
    "# details here: https://github.com/rit-git/meg-kb/tree/main/src/keyword_extraction"
   ]
  },
  {
   "cell_type": "code",
   "execution_count": 8,
   "metadata": {},
   "outputs": [
    {
     "name": "stdout",
     "output_type": "stream",
     "text": [
      "/mnt/efs/shared/meg_shared_scripts/meg-kb/src/keyword_extraction\n"
     ]
    }
   ],
   "source": [
    "#change to keyword extractor directory\n",
    "%cd $base_dir/src/keyword_extraction/"
   ]
  },
  {
   "cell_type": "code",
   "execution_count": 9,
   "metadata": {},
   "outputs": [],
   "source": [
    "!chmod +x ./corpusProcess.sh"
   ]
  },
  {
   "cell_type": "code",
   "execution_count": 5,
   "metadata": {},
   "outputs": [],
   "source": [
    "# select the dataset and thread no\n",
    "data_ac = 'indeeda-meg-ac'\n",
    "data_pt = 'indeeda-meg-pt'\n",
    "thread = 8"
   ]
  },
  {
   "cell_type": "code",
   "execution_count": 463,
   "metadata": {
    "scrolled": true
   },
   "outputs": [
    {
     "name": "stdout",
     "output_type": "stream",
     "text": [
      "/mnt/efs/shared/meg_shared_scripts/meg-kb/src/keyword_extraction\n",
      "\u001b[32m===Corpus Name: sample-indeeda-meg-ac===\u001b[m\n",
      "\u001b[32m===Current Path: /mnt/efs/shared/meg_shared_scripts/meg-kb/src/keyword_extraction===\u001b[m\n",
      "\u001b[32m===Cleaning input corpus===\u001b[m\n",
      "\u001b[32m===Running AutoPhrase===\u001b[m\n",
      "make: Nothing to be done for 'all'.\n",
      "\u001b[32m===RAW_TRAIN: ../../../data/sample-indeeda-meg-ac/source/corpus.clean.txt===\u001b[m\n",
      "auto_phrase.sh parameters: sample-indeeda-meg-ac ../../../data/sample-indeeda-meg-ac/source/corpus.clean.txt 10 data/EN/wiki_quality.txt 8\n",
      "\u001b[32m===Compilation===\u001b[m\n",
      "\u001b[32m===Tokenization===\u001b[m\n",
      "Current step: Tokenizing input file...\u001b[0K\n",
      "real\t0m0.702s\n",
      "user\t0m1.668s\n",
      "sys\t0m0.100s\n",
      "Detected Language: EN\u001b[0K\n",
      "Current step: Tokenizing wikipedia phrases...\u001b[0K\n",
      "No provided expert labels.\u001b[0K\n",
      "\u001b[32m===Part-Of-Speech Tagging===\u001b[m\n",
      "\u001b[32m===AutoPhrasing===\u001b[m\n",
      "=== Current Settings ===\n",
      "Iterations = 2\n",
      "Minimum Support Threshold = 10\n",
      "Maximum Length Threshold = 6\n",
      "POS-Tagging Mode Disabled\n",
      "Discard Ratio = 0.050000\n",
      "Number of threads = 8\n",
      "Labeling Method = DPDN\n",
      "\tAuto labels from knowledge bases\n",
      "\tMax Positive Samples = -1\n",
      "=======\n",
      "Loading data...\n",
      "# of total tokens = 6553\n",
      "max word token id = 1450\n",
      "# of documents = 500\n",
      "# of distinct POS tags = 0\n",
      "Mining frequent phrases...\n",
      "selected MAGIC = 1451\n",
      "# of frequent phrases = 1483\n",
      "Extracting features...\n",
      "Constructing label pools...\n",
      "\tThe size of the positive pool = 192\n",
      "\tThe size of the negative pool = 1282\n",
      "# truth patterns = 1202\n",
      "Estimating Phrase Quality...\n",
      "0 32\n",
      "[ERROR] not enough training data found!\n",
      "Segmenting...\n",
      "Rectifying features...\n",
      "Estimating Phrase Quality...\n",
      "0 32\n",
      "[ERROR] not enough training data found!\n",
      "Segmenting...\n",
      "Dumping results...\n",
      "Done.\n",
      "\n",
      "real\t0m1.922s\n",
      "user\t0m2.496s\n",
      "sys\t0m0.016s\n",
      "\u001b[32m===Saving Model and Results===\u001b[m\n",
      "\u001b[32m===Generating Output===\u001b[m\n",
      "phrasal_segmentation.sh parameters: sample-indeeda-meg-ac ../../../data/sample-indeeda-meg-ac/source/corpus.clean.txt 0.5 0.9 8\n",
      "\u001b[32m===Compilation===\u001b[m\n",
      "\u001b[32m===Tokenization===\u001b[m\n",
      "Current step: Tokenizing input file...\u001b[0K\n",
      "real\t0m0.568s\n",
      "user\t0m1.396s\n",
      "sys\t0m0.108s\n",
      "Detected Language: EN\u001b[0K\n",
      "\u001b[32m===Part-Of-Speech Tagging===\u001b[m\n",
      "\u001b[32m===Phrasal Segmentation===\u001b[m\n",
      "=== Current Settings ===\n",
      "Segmentation Model Path = models/sample-indeeda-meg-ac/segmentation.model\n",
      "After the phrasal segmentation, only following phrases will be highlighted with <phrase> and </phrase>\n",
      "\tQ(multi-word phrases) >= 0.500000\n",
      "\tQ(single-word phrases) >= 0.900000\n",
      "=======\n",
      "Length penalty model loaded.\n",
      "\tpenalty = 199.805\n",
      "# of loaded patterns = 136\n",
      "# of loaded truth patterns = 1394\n",
      "Phrasal segmentation finished.\n",
      "   # of total highlighted quality phrases = 715\n",
      "   # of total processed sentences = 828\n",
      "   avg highlights per sentence = 0.863527\n",
      "\n",
      "real\t0m0.050s\n",
      "user\t0m0.016s\n",
      "sys\t0m0.000s\n",
      "\u001b[32m===Generating Output===\u001b[m\n",
      "\u001b[32m===Generating Phrase Text===\u001b[m\n",
      "process_segmentation.py parameters: ../../../data/sample-indeeda-meg-ac/intermediate/ 0.5 0.9\n",
      "11.152\n",
      "\u001b[32m===Running NLP Feature Extraction===\u001b[m\n",
      "100%|███████████████████████████████████████████| 51/51 [00:00<00:00, 66.53it/s]\n",
      " 71%|██████████████████████████████▌            | 47/66 [00:00<00:00, 58.53it/s]Finish NLP processing, using time 0.8209497928619385 (second)\n",
      "100%|███████████████████████████████████████████| 57/57 [00:00<00:00, 65.72it/s]\n",
      " 80%|██████████████████████████████████▌        | 53/66 [00:00<00:00, 57.33it/s]Finish NLP processing, using time 0.9230477809906006 (second)\n",
      "100%|███████████████████████████████████████████| 62/62 [00:00<00:00, 70.06it/s]\n",
      "100%|███████████████████████████████████████████| 46/46 [00:00<00:00, 57.63it/s]\n",
      "Finish NLP processing, using time 0.9408359527587891 (second)\n",
      " 95%|████████████████████████████████████████▉  | 60/63 [00:00<00:00, 74.56it/s]Finish NLP processing, using time 0.8718316555023193 (second)\n",
      "100%|███████████████████████████████████████████| 66/66 [00:01<00:00, 62.34it/s]\n",
      "100%|███████████████████████████████████████████| 63/63 [00:00<00:00, 68.87it/s]\n",
      "Finish NLP processing, using time 1.1157433986663818 (second)\n",
      "100%|███████████████████████████████████████████| 76/76 [00:00<00:00, 80.52it/s]\n",
      "Finish NLP processing, using time 0.9821081161499023 (second)\n",
      "Finish NLP processing, using time 1.003368854522705 (second)\n",
      "100%|███████████████████████████████████████████| 79/79 [00:01<00:00, 76.95it/s]\n",
      "Finish NLP processing, using time 1.0861637592315674 (second)\n",
      "\u001b[32m===Clean unnecessary files===\u001b[m\n",
      "\u001b[32m===Key Term Extraction===\u001b[m\n",
      "Extract Key Terms from Corpus: 100%|███████| 694/694 [00:00<00:00, 24407.16it/s]\n",
      "\u001b[32m===Sentence-wise Entity Segmentation===\u001b[m\n",
      "loading corpus for word2vec training: 100%|█| 694/694 [00:00<00:00, 288117.09it/\n",
      "100%|███████████████████████████████████████| 94/94 [00:00<00:00, 431834.15it/s]\n",
      "100%|█████████████████████████████████████| 122/122 [00:00<00:00, 423947.88it/s]\n",
      "100%|█████████████████████████████████████| 118/118 [00:00<00:00, 377519.35it/s]\n"
     ]
    }
   ],
   "source": [
    "# process corpus and generate key prhases\n",
    "!./corpusProcess.sh $data_ac $thread"
   ]
  },
  {
   "cell_type": "code",
   "execution_count": 464,
   "metadata": {},
   "outputs": [],
   "source": [
    "# copy these results to sample-meg-pt\n",
    "!cp -r ../../data/$data_ac ../../data/$data_pt"
   ]
  },
  {
   "cell_type": "markdown",
   "metadata": {},
   "source": [
    "## Corpus with company names"
   ]
  },
  {
   "cell_type": "code",
   "execution_count": 33,
   "metadata": {},
   "outputs": [],
   "source": [
    "dataset_path = '/home/ubuntu/users/nikita/data/indeed/indeedQA/question_answers.csv'\n",
    "company_path = '/home/ubuntu/users/nikita/data/indeed/indeedQA/fccid-companyName.csv'\n",
    "entity_emb_num_path = os.path.join(base_dir, f'data/{data_ac}/intermediate/BERTembednum+seeds.txt')\n",
    "out_corpus_path = os.path.join(base_dir, f'data/{data_ac}/intermediate/sentences_with_company.json')"
   ]
  },
  {
   "cell_type": "code",
   "execution_count": 34,
   "metadata": {},
   "outputs": [
    {
     "data": {
      "text/plain": [
       "8053"
      ]
     },
     "execution_count": 34,
     "metadata": {},
     "output_type": "execute_result"
    }
   ],
   "source": [
    "with open(entity_emb_num_path, 'r') as f:\n",
    "    entities = [l.strip().rsplit(' ', 1)[0] for l in f.readlines()]\n",
    "len(entities)"
   ]
  },
  {
   "cell_type": "code",
   "execution_count": null,
   "metadata": {
    "scrolled": true
   },
   "outputs": [],
   "source": [
    "df_dataset = pd.read_csv(dataset_path) \n",
    "df_dataset = df_dataset[df_dataset['answerContent'].notna()]\n",
    "df_company = pd.read_csv(company_path)\n",
    "\n",
    "df_merged_dataset = df_dataset.merge(df_company, how='inner', on='fccompanyId')\n",
    "df_merged_dataset.head(10)"
   ]
  },
  {
   "cell_type": "code",
   "execution_count": 36,
   "metadata": {},
   "outputs": [
    {
     "data": {
      "text/plain": [
       "(307122, 11)"
      ]
     },
     "execution_count": 36,
     "metadata": {},
     "output_type": "execute_result"
    }
   ],
   "source": [
    "df_merged_dataset.shape"
   ]
  },
  {
   "cell_type": "code",
   "execution_count": 37,
   "metadata": {
    "scrolled": true
   },
   "outputs": [
    {
     "data": {
      "text/plain": [
       "[I, applied, online, and, submitted, all, attachments, that, I, could, .]"
      ]
     },
     "execution_count": 37,
     "metadata": {},
     "output_type": "execute_result"
    }
   ],
   "source": [
    "row = df_merged_dataset.iloc[1]\n",
    "_d = nlp(row[\"answerContent\"])\n",
    "list(_d.sents)\n",
    "list(list(_d.sents)[0])"
   ]
  },
  {
   "cell_type": "code",
   "execution_count": null,
   "metadata": {
    "scrolled": true
   },
   "outputs": [],
   "source": [
    "out_corpus = []\n",
    "\n",
    "for i, row in df_merged_dataset.iterrows():\n",
    "    if i > 0 and i % 5000 == 0:\n",
    "        print(f'Progress: {i} / {df_merged_dataset.shape[0]}')\n",
    "    \n",
    "    company = row[\"companyName\"]\n",
    "    ans = row[\"answerContent\"]\n",
    "    ans_nlp = nlp(ans)\n",
    "    for sent in ans_nlp.sents:\n",
    "        sent_tok_list = [str(t) for t in sent]\n",
    "        _s = f' {company} : {\" \".join(sent_tok_list)} '.lower()\n",
    "        _ents = []\n",
    "        for _e in entities:\n",
    "            if f' {_e} ' in _s:\n",
    "                _ents.append(_e)\n",
    "        out_corpus.append({\n",
    "            \"tokens\": sent_tok_list,\n",
    "            \"company\": company,\n",
    "            \"entities\": _ents,\n",
    "        })"
   ]
  },
  {
   "cell_type": "code",
   "execution_count": null,
   "metadata": {},
   "outputs": [],
   "source": [
    "len(out_corpus), out_corpus[0]"
   ]
  },
  {
   "cell_type": "code",
   "execution_count": 43,
   "metadata": {},
   "outputs": [],
   "source": [
    "with open(out_corpus_path, 'w') as f:\n",
    "    for d in out_corpus:\n",
    "        f.write(json.dumps(d) + '\\n')"
   ]
  },
  {
   "cell_type": "code",
   "execution_count": 42,
   "metadata": {},
   "outputs": [
    {
     "name": "stdout",
     "output_type": "stream",
     "text": [
      "Processing lines: 100%|████████████████| 307122/307122 [11:51<00:00, 431.47it/s]\n"
     ]
    }
   ],
   "source": [
    "# Use script\n",
    "!python build_corpus_with_companies.py \\\n",
    "-d $base_dir/data/$data_ac/intermediate \\\n",
    "-b $base_dir/data/indeed-benchmark \\\n",
    "-rd /home/ubuntu/users/nikita/data/indeed/indeedQA\n"
   ]
  },
  {
   "cell_type": "code",
   "execution_count": null,
   "metadata": {},
   "outputs": [],
   "source": []
  },
  {
   "cell_type": "code",
   "execution_count": null,
   "metadata": {},
   "outputs": [],
   "source": []
  },
  {
   "cell_type": "markdown",
   "metadata": {},
   "source": [
    "# Generate Embeddings"
   ]
  },
  {
   "cell_type": "code",
   "execution_count": 465,
   "metadata": {},
   "outputs": [],
   "source": [
    "# details here: https://github.com/rit-git/meg-kb/tree/main/src/concept_learning"
   ]
  },
  {
   "cell_type": "code",
   "execution_count": 11,
   "metadata": {},
   "outputs": [
    {
     "name": "stdout",
     "output_type": "stream",
     "text": [
      "/mnt/efs/shared/meg_shared_scripts/meg-kb/src/concept_learning\n"
     ]
    }
   ],
   "source": [
    "#change to concept learning directory\n",
    "%cd $base_dir/src/concept_learning/"
   ]
  },
  {
   "cell_type": "markdown",
   "metadata": {},
   "source": [
    "## Sentence Embedding"
   ]
  },
  {
   "cell_type": "code",
   "execution_count": 467,
   "metadata": {},
   "outputs": [
    {
     "name": "stdout",
     "output_type": "stream",
     "text": [
      "loading corpus: 100%|█████████████████████| 694/694 [00:00<00:00, 194471.34it/s]\n",
      "computing entity-wise embedding: 100%|████████| 177/177 [00:03<00:00, 50.59it/s]\n",
      "Saving embedding\n"
     ]
    }
   ],
   "source": [
    "!python compute_keyphrase_embeddings.py -m bert-base-uncased -et ac -d ../../data/$data_ac/intermediate -c 750"
   ]
  },
  {
   "cell_type": "markdown",
   "metadata": {},
   "source": [
    "## Concatenated Token Embedding"
   ]
  },
  {
   "cell_type": "code",
   "execution_count": 468,
   "metadata": {},
   "outputs": [
    {
     "name": "stdout",
     "output_type": "stream",
     "text": [
      "loading corpus: 100%|█████████████████████| 694/694 [00:00<00:00, 191566.11it/s]\n",
      "computing entity-wise embedding: 100%|████████| 177/177 [00:03<00:00, 53.88it/s]\n",
      "Saving embedding\n"
     ]
    }
   ],
   "source": [
    "!python compute_keyphrase_embeddings.py -m bert-base-uncased -et pt -d ../../data/$data_pt/intermediate -c 750"
   ]
  },
  {
   "cell_type": "markdown",
   "metadata": {},
   "source": [
    "## Token Embedding"
   ]
  },
  {
   "cell_type": "code",
   "execution_count": 469,
   "metadata": {},
   "outputs": [
    {
     "name": "stdout",
     "output_type": "stream",
     "text": [
      "/mnt/efs/shared/meg_shared_scripts/meg-kb/src/tools/AutoPhrase\n"
     ]
    }
   ],
   "source": [
    "# change directory to autophrase\n",
    "%cd $base_dir/src/tools/AutoPhrase"
   ]
  },
  {
   "cell_type": "code",
   "execution_count": 470,
   "metadata": {},
   "outputs": [],
   "source": [
    "data_corel = 'sample-indeeda-corel'"
   ]
  },
  {
   "cell_type": "code",
   "execution_count": 471,
   "metadata": {
    "scrolled": true
   },
   "outputs": [
    {
     "name": "stdout",
     "output_type": "stream",
     "text": [
      "1\n",
      "2021-06-18 00:36:18,384 : INFO : loading file https://s3.amazonaws.com/models.huggingface.co/bert/bert-base-uncased-vocab.txt from cache at /home/ubuntu/.cache/torch/pytorch_transformers/26bc1ad6c0ac742e9b52263248f6d0f00068293b33709fae12320c0e35ccfbbb.542ce4285a40d23a559526243235df47c5f75c197f04f37d1a0c124c32c9a084\n",
      "2021-06-18 00:36:18,776 : INFO : loading configuration file https://s3.amazonaws.com/models.huggingface.co/bert/bert-base-uncased-config.json from cache at /home/ubuntu/.cache/torch/pytorch_transformers/4dad0251492946e18ac39290fcfe91b89d370fee250efe9521476438fe8ca185.7156163d5fdc189c3016baca0775ffce230789d7fa2a42ef516483e4ca884517\n",
      "2021-06-18 00:36:18,777 : INFO : Model config {\n",
      "  \"architectures\": [\n",
      "    \"BertForMaskedLM\"\n",
      "  ],\n",
      "  \"attention_probs_dropout_prob\": 0.1,\n",
      "  \"finetuning_task\": null,\n",
      "  \"hidden_act\": \"gelu\",\n",
      "  \"hidden_dropout_prob\": 0.1,\n",
      "  \"hidden_size\": 768,\n",
      "  \"initializer_range\": 0.02,\n",
      "  \"intermediate_size\": 3072,\n",
      "  \"layer_norm_eps\": 1e-12,\n",
      "  \"max_position_embeddings\": 512,\n",
      "  \"model_type\": \"bert\",\n",
      "  \"num_attention_heads\": 12,\n",
      "  \"num_hidden_layers\": 12,\n",
      "  \"num_labels\": 2,\n",
      "  \"output_attentions\": false,\n",
      "  \"output_hidden_states\": false,\n",
      "  \"pad_token_id\": 0,\n",
      "  \"pruned_heads\": {},\n",
      "  \"torchscript\": false,\n",
      "  \"type_vocab_size\": 2,\n",
      "  \"vocab_size\": 30522\n",
      "}\n",
      "\n",
      "2021-06-18 00:36:19,108 : INFO : loading weights file https://s3.amazonaws.com/models.huggingface.co/bert/bert-base-uncased-pytorch_model.bin from cache at /home/ubuntu/.cache/torch/pytorch_transformers/aa1ef1aede4482d0dbcd4d52baad8ae300e60902e88fcb0bebdec09afd232066.36ca03ab34a1a5d5fa7bc3d03d55c4fa650fed07220e2eeebc06ce58d0e9a157\n",
      "Traceback (most recent call last):\n",
      "  File \"extractBertEmbedding.py\", line 86, in <module>\n",
      "    with open(inputFilePath, \"r\") as fin:\n",
      "FileNotFoundError: [Errno 2] No such file or directory: '../../../data/sample-indeeda-corel/intermediate//sent_segmentation.txt'\n"
     ]
    }
   ],
   "source": [
    "!CUDA_VISIBLE_DEVICES=0 python extractBertEmbedding.py ../../../data/$data_corel/intermediate/ $thread"
   ]
  },
  {
   "cell_type": "code",
   "execution_count": null,
   "metadata": {},
   "outputs": [],
   "source": []
  },
  {
   "cell_type": "markdown",
   "metadata": {},
   "source": [
    "## Add embeddings for seed instances"
   ]
  },
  {
   "cell_type": "code",
   "execution_count": 13,
   "metadata": {
    "hide_input": true
   },
   "outputs": [],
   "source": [
    "def get_masked_contexts_for_entities(entities, input_file):\n",
    "    \"\"\"Return a (list of) sentence(s) with entity replaced with MASK.\"\"\"\n",
    "    \"\"\"YS: input should be sentences.json\"\"\"\n",
    "    \n",
    "    ent_freq = {ent : 0 for ent in entities}\n",
    "    ent_context = {ent : [] for ent in entities}\n",
    "    \n",
    "    with open(input_file, \"r\") as fin:\n",
    "        lines = fin.readlines()\n",
    "        for line in tqdm(lines, total=len(lines), desc=\"loading corpus\"):\n",
    "            json_dict = json.loads(line)\n",
    "            sent = ' ' + ' '.join(json_dict['tokens']).lower() + ' '\n",
    "            #entities = [match.group(1) for match in re.finditer(pat, line)]\n",
    "            \n",
    "            for entity in entities:\n",
    "                pat = f' {entity} '\n",
    "                if pat not in sent:\n",
    "                    continue\n",
    "\n",
    "                context = sent.replace(pat, ' [MASK] ').strip()\n",
    "                c = context.split('[MASK]')\n",
    "                if len(c) != 2:  # sanity to not have too many repeating phrases in the context\n",
    "                    continue\n",
    "\n",
    "                # ignore too short contexts\n",
    "                if len(context) < 15:\n",
    "                    continue\n",
    "\n",
    "                # print(entity)\n",
    "                # print(context)\n",
    "                \n",
    "                _freq = ent_freq.get(entity, 0)\n",
    "                ent_freq[entity] = _freq + 1\n",
    "\n",
    "                context_lst = ent_context.get(entity, [])\n",
    "                context_lst.append(context)\n",
    "                ent_context[entity] = context_lst\n",
    "\n",
    "    dedup_context = {}\n",
    "    for e, v in ent_context.items():\n",
    "        dedup_context[e] = list(set(v))\n",
    "    return ent_freq, dedup_context\n"
   ]
  },
  {
   "cell_type": "code",
   "execution_count": 14,
   "metadata": {
    "code_folding": [],
    "hide_input": true
   },
   "outputs": [],
   "source": [
    "def get_avg_context_embedding_for_entities(entities, model_path, input_file, max_context_ct):\n",
    "    '''\n",
    "    mean pooling from sentence-transformers\n",
    "    :param entity: List[str], the entities to compute embeddings for\n",
    "    :param model_path:\n",
    "    :param input_file:\n",
    "    :return:\n",
    "    '''\n",
    "    tokenizer = AutoTokenizer.from_pretrained(model_path)\n",
    "    model = AutoModel.from_pretrained(model_path)\n",
    "    device = torch.device(\"cuda\" if torch.cuda.is_available() else \"cpu\")\n",
    "    model.to(device)\n",
    "    model.eval()\n",
    "    mask_token_id = tokenizer.mask_token_id\n",
    "\n",
    "    ent_freq, ent_context = get_masked_contexts_for_entities(entities, input_file)\n",
    "    \n",
    "    entity_embeddings = {}\n",
    "    for entity, en_context_lst in tqdm(ent_context.items(), total=len(ent_context), desc=\"computing entity-wise embedding\"):\n",
    "#     for entity, en_context_lst in ent_context.items():\n",
    "        print(entity)\n",
    "        en_context_lst = random.sample(en_context_lst, min(len(en_context_lst), max_context_ct))\n",
    "        chunks = [en_context_lst[i:i + 100] for i in range(0, len(en_context_lst), 100)]\n",
    "        # print(entity)\n",
    "        # print(len(en_context_lst))\n",
    "        all_context_embeddings = []\n",
    "        for chunk in chunks:\n",
    "            encoded_input = tokenizer.batch_encode_plus(chunk, return_token_type_ids=True, add_special_tokens=True, max_length=128, return_tensors='pt', padding=True, pad_to_max_length=True, truncation=True)\n",
    "            mask = encoded_input['input_ids'] != mask_token_id\n",
    "            with torch.no_grad():\n",
    "                encoded_input = ensure_tensor_on_device(device, **encoded_input)\n",
    "                model_output = model(**encoded_input)  # Compute token embeddings\n",
    "            context_embeddings = mean_pooling(model_output, mask)  # mean pooling\n",
    "            all_context_embeddings.append(context_embeddings)\n",
    "            \n",
    "        assert len(all_context_embeddings) > 0\n",
    "            \n",
    "        entity_embedding = torch.mean(torch.cat(all_context_embeddings, dim=0), dim=0).cpu().detach().numpy().tolist()\n",
    "        entity_embeddings[entity] = entity_embedding\n",
    "    \n",
    "    return entity_embeddings, ent_freq"
   ]
  },
  {
   "cell_type": "code",
   "execution_count": null,
   "metadata": {
    "hide_input": true,
    "scrolled": true
   },
   "outputs": [],
   "source": [
    "corpus_path = os.path.join(base_dir, f'data/{data_ac}/intermediate/sentences.json')\n",
    "seed_aligned_concepts_path = os.path.join(base_dir, f'data/indeed-benchmark/seed_aligned_concepts.csv')\n",
    "\n",
    "orig_bert_emb_path = os.path.join(base_dir, f'data/{data_ac}/intermediate/BERTembed.txt')\n",
    "orig_bert_emb_num_path = os.path.join(base_dir, f'data/{data_ac}/intermediate/BERTembednum.txt')\n",
    "\n",
    "new_bert_emb_path = os.path.join(base_dir, f'data/{data_ac}/intermediate/BERTembed+seeds.txt')\n",
    "new_bert_emb_num_path = os.path.join(base_dir, f'data/{data_ac}/intermediate/BERTembednum+seeds.txt')\n",
    "\n",
    "orig_emb_df = load_embeddings(bert_emb_path, 768)\n",
    "emb_dict = dict(zip(orig_emb_df['entity'].to_list(), orig_emb_df['embedding'].to_list()))\n",
    "\n",
    "with open(orig_bert_emb_num_path, 'r') as f:\n",
    "    lines = f.readlines()\n",
    "    emb_freq_dict = dict([l.strip().rsplit(' ', 1) for l in lines])\n",
    "\n",
    "concepts_df = load_seed_aligned_concepts(seed_aligned_concepts_path)\n",
    "seed_instances_list = [inst for _, (_a_con, _u_con, _gnrl, _seed_instances) in concepts_df.iterrows()\n",
    "                           for inst in _seed_instances]\n",
    "\n",
    "## debug\n",
    "seed_instances_list = seed_instances_list[::10]\n",
    "\n",
    "print(seed_instances_list)\n",
    "\n",
    "entity_embeddings, ent_freq = \\\n",
    "    get_avg_context_embedding_for_entities(entities=seed_instances_list, \n",
    "                                           model_path='bert-base-uncased',\n",
    "                                           input_file=corpus_path,\n",
    "                                           max_context_ct=750)"
   ]
  },
  {
   "cell_type": "code",
   "execution_count": null,
   "metadata": {
    "hide_input": true
   },
   "outputs": [],
   "source": [
    "for inst in seed_instances_list:\n",
    "    emb = entity_embeddings[inst]\n",
    "    freq = ent_freq[inst]\n",
    "    if inst in emb_dict:\n",
    "        print(f'Already exists: {inst}')\n",
    "#         assert np.allclose(emb_dict[inst], emb)\n",
    "#         assert emb_freq_dict[inst] == freq, f'{inst}: orig {emb_freq_dict[inst]} != new {freq}'\n",
    "#         print(f'Check passed: {inst}')\n",
    "    else:\n",
    "        emb_dict[inst] = emb\n",
    "        emb_freq_dict[inst] = freq"
   ]
  },
  {
   "cell_type": "code",
   "execution_count": null,
   "metadata": {
    "hide_input": true
   },
   "outputs": [],
   "source": [
    "entity_embeddings.keys()"
   ]
  },
  {
   "cell_type": "code",
   "execution_count": null,
   "metadata": {
    "hide_input": true
   },
   "outputs": [],
   "source": [
    "with open(new_bert_emb_path, 'w') as f, open(new_bert_emb_num_path, 'w') as f2:\n",
    "    for inst in seed_instances_list:\n",
    "        emb = emb_dict[inst]\n",
    "        freq = ent_freq[inst]\n",
    "        f.write(\"{} {}\\n\".format(inst, ' '.join([str(x) for x in emb])))\n",
    "        f2.write(\"{} {}\\n\".format(inst, freq))\n"
   ]
  },
  {
   "cell_type": "code",
   "execution_count": 735,
   "metadata": {
    "scrolled": true
   },
   "outputs": [
    {
     "name": "stdout",
     "output_type": "stream",
     "text": [
      "Seed instances: ['walmart', 'amazon', 'subway', 'microsoft', 'target', 'business casual', 'uniform', 'hair color', 'tattoos', 'facial hair', 'shoes', 'piercings', 'delivery driver', 'store manager', 'cashier', 'package handler', 'sales associate', 'barista', 'dishwasher', 'weekly', 'biweekly', 'friday', 'saturday', 'health insurance', 'flexible schedule', '401k', 'paid vacation', 'sick leave', 'vision insurance', 'base pay', 'stock options', 'benefits', 'overtime pay', 'bonus', 'checks', 'direct deposit', 'prepaid card', 'drug test', 'criminal background check', 'employment verification', 'felons', 'criminals', 'disabled', 'drug addicts', 'high schoolers', 'misdemeanor', 'pregnant', 'students', 'seniors', 'hiring age', 'bachelors degree', 'prior experience', 'working permit', 'heavy lifting', 'night shift', 'dinner shift', 'early morning shift', '8 hour shift', 'christmas eve', 'early morning', 'hoilday', '7 days', 'saturday', 'sunday', 'weekend', 'full time', 'part time', 'seasonal', 'orientation', 'introduction', 'workstation', 'training', 'team lunch']\n",
      "New instances: ['uniform', 'hair color', 'tattoos', 'shoes', 'cashier', 'weekly', 'biweekly', 'friday', 'saturday', '401k', 'stock options', 'benefits', 'overtime pay', 'bonus', 'checks', 'employment verification', 'felons', 'criminals', 'disabled', 'drug addicts', 'high schoolers', 'pregnant', 'students', 'seniors', '8 hour shift', 'hoilday', '7 days', 'saturday', 'sunday', 'weekend', 'full time', 'part time', 'seasonal', 'orientation', 'introduction', 'training', 'team lunch']\n",
      "loading corpus: 100%|████████████████| 465226/465226 [00:09<00:00, 47556.15it/s]\n",
      "computing entity-wise embedding: 100%|██████████| 36/36 [00:41<00:00,  1.14s/it]\n",
      "Saving embedding\n"
     ]
    }
   ],
   "source": [
    "# Using script\n",
    "\n",
    "!python add_seed_instances_embeddings.py -m bert-base-uncased -et ac -d $base_dir/data/$data_ac/intermediate -b $base_dir/data/indeed-benchmark -c 750\n"
   ]
  },
  {
   "cell_type": "code",
   "execution_count": null,
   "metadata": {},
   "outputs": [],
   "source": []
  },
  {
   "cell_type": "markdown",
   "metadata": {},
   "source": [
    "## Check embeddings"
   ]
  },
  {
   "cell_type": "code",
   "execution_count": 15,
   "metadata": {},
   "outputs": [
    {
     "data": {
      "text/plain": [
       "8053"
      ]
     },
     "execution_count": 15,
     "metadata": {},
     "output_type": "execute_result"
    }
   ],
   "source": [
    "data_sub_dir = data_ac\n",
    "bert_emb_path = os.path.join(base_dir, f'data/{data_sub_dir}/intermediate/BERTembed+seeds.txt')\n",
    "\n",
    "embeddings = load_embeddings(bert_emb_path, 768)\n",
    "len(embeddings)"
   ]
  },
  {
   "cell_type": "code",
   "execution_count": 16,
   "metadata": {},
   "outputs": [
    {
     "data": {
      "text/html": [
       "<div>\n",
       "<style scoped>\n",
       "    .dataframe tbody tr th:only-of-type {\n",
       "        vertical-align: middle;\n",
       "    }\n",
       "\n",
       "    .dataframe tbody tr th {\n",
       "        vertical-align: top;\n",
       "    }\n",
       "\n",
       "    .dataframe thead th {\n",
       "        text-align: right;\n",
       "    }\n",
       "</style>\n",
       "<table border=\"1\" class=\"dataframe\">\n",
       "  <thead>\n",
       "    <tr style=\"text-align: right;\">\n",
       "      <th></th>\n",
       "      <th>entity</th>\n",
       "      <th>embedding</th>\n",
       "    </tr>\n",
       "  </thead>\n",
       "  <tbody>\n",
       "    <tr>\n",
       "      <th>8023</th>\n",
       "      <td>biweekly</td>\n",
       "      <td>[0.06975648552179337, -0.06970633566379547, 0....</td>\n",
       "    </tr>\n",
       "  </tbody>\n",
       "</table>\n",
       "</div>"
      ],
      "text/plain": [
       "        entity                                          embedding\n",
       "8023  biweekly  [0.06975648552179337, -0.06970633566379547, 0...."
      ]
     },
     "execution_count": 16,
     "metadata": {},
     "output_type": "execute_result"
    }
   ],
   "source": [
    "embeddings[embeddings['entity'] == 'biweekly']"
   ]
  },
  {
   "cell_type": "markdown",
   "metadata": {},
   "source": [
    "## (X) Other ways of embeddings / clustering"
   ]
  },
  {
   "cell_type": "code",
   "execution_count": 155,
   "metadata": {},
   "outputs": [
    {
     "name": "stderr",
     "output_type": "stream",
     "text": [
      "loading corpus: 100%|██████████| 458/458 [00:00<00:00, 73813.30it/s]\n"
     ]
    },
    {
     "data": {
      "text/plain": [
       "(175, 175)"
      ]
     },
     "execution_count": 155,
     "metadata": {},
     "output_type": "execute_result"
    }
   ],
   "source": [
    "input_file_path = os.path.join(base_dir, f'data/{data_sub_dir}/intermediate/sent_segmentation.txt')\n",
    "ent_freq, dedup_context = get_masked_contexts(input_file_path)\n",
    "len(ent_freq), len(dedup_context)"
   ]
  },
  {
   "cell_type": "code",
   "execution_count": 452,
   "metadata": {},
   "outputs": [
    {
     "data": {
      "text/plain": [
       "(2,\n",
       " [\"we dropped by in hopes of finding atkinson 's peanut_butter bars ( we first tried them from honey salt 's [MASK] bowl ) and after searching a few minutes , we found it .\",\n",
       "  \"if you 're searching for a [MASK] or soda_pop you grew up with and can no longer find , there 's a good chance you 'll find it here .\"])"
      ]
     },
     "execution_count": 452,
     "metadata": {},
     "output_type": "execute_result"
    }
   ],
   "source": [
    "ent_freq['candy'], dedup_context['candy']"
   ]
  },
  {
   "cell_type": "code",
   "execution_count": 208,
   "metadata": {
    "code_folding": [
     0
    ]
   },
   "outputs": [],
   "source": [
    "def get_all_context_embeddings(model_path, input_file, max_context_ct):\n",
    "    '''\n",
    "    Adapted from get_avg_context_embeddings()\n",
    "    keep all context embeddings, using max similarity for knn\n",
    "    :param model_path:\n",
    "    :param input_file:\n",
    "    :return:\n",
    "    '''\n",
    "    tokenizer = AutoTokenizer.from_pretrained(model_path)\n",
    "    model = AutoModel.from_pretrained(model_path)\n",
    "    device = torch.device(\"cuda:0\" if torch.cuda.is_available() else \"cpu\")\n",
    "    model.to(device)\n",
    "    model.eval()\n",
    "    mask_token_id = tokenizer.mask_token_id\n",
    "\n",
    "    ent_freq, ent_context = get_masked_contexts(input_file)\n",
    "    entity_embeddings = {}\n",
    "    for entity, en_context_lst in tqdm(ent_context.items(), total=len(ent_context), desc=\"computing entity-wise embedding\"):\n",
    "        en_context_lst = random.sample(en_context_lst, min(len(en_context_lst), max_context_ct))\n",
    "        chunks = [en_context_lst[i:i + 100] for i in range(0, len(en_context_lst), 100)]\n",
    "        # print(entity)\n",
    "        # print(len(en_context_lst))\n",
    "        all_context_embeddings = []\n",
    "        for chunk in chunks:\n",
    "            encoded_input = tokenizer.batch_encode_plus(chunk, return_token_type_ids=True, add_special_tokens=True, max_length=128, return_tensors='pt', padding=True, pad_to_max_length=True, truncation=True)\n",
    "            mask = encoded_input['input_ids'] != mask_token_id\n",
    "            with torch.no_grad():\n",
    "                encoded_input = ensure_tensor_on_device(device, **encoded_input)\n",
    "                model_output = model(**encoded_input)  # Compute token embeddings\n",
    "            context_embeddings = mean_pooling(model_output, mask)  # mean pooling\n",
    "            # print(context_embeddings.size())\n",
    "            all_context_embeddings.append(context_embeddings)\n",
    "            \n",
    "        # entity_embedding = torch.mean(torch.cat(all_context_embeddings, dim=0), dim=0).cpu().detach().numpy().tolist()\n",
    "        # entity_embeddings[entity] = entity_embedding\n",
    "        entity_embeddings[entity] = torch.cat(all_context_embeddings, dim=0).cpu().detach().numpy().tolist()\n",
    "        \n",
    "    return entity_embeddings, ent_freq"
   ]
  },
  {
   "cell_type": "code",
   "execution_count": 209,
   "metadata": {},
   "outputs": [
    {
     "name": "stderr",
     "output_type": "stream",
     "text": [
      "loading corpus: 100%|██████████| 458/458 [00:00<00:00, 150194.78it/s]\n",
      "computing entity-wise embedding: 100%|██████████| 175/175 [00:04<00:00, 41.74it/s]\n"
     ]
    },
    {
     "data": {
      "text/plain": [
       "(175, 175)"
      ]
     },
     "execution_count": 209,
     "metadata": {},
     "output_type": "execute_result"
    }
   ],
   "source": [
    "model_path = 'bert-base-uncased'\n",
    "input_file_path = os.path.join(base_dir, f'data/{data_sub_dir}/intermediate/sent_segmentation.txt')\n",
    "max_context_ct = 10\n",
    "\n",
    "entity_embeddings, ent_freq = get_all_context_embeddings(model_path, input_file_path, max_context_ct)\n",
    "len(entity_embeddings), len(ent_freq)"
   ]
  },
  {
   "cell_type": "code",
   "execution_count": 213,
   "metadata": {},
   "outputs": [
    {
     "data": {
      "text/plain": [
       "768"
      ]
     },
     "execution_count": 213,
     "metadata": {},
     "output_type": "execute_result"
    }
   ],
   "source": [
    "len(entity_embeddings['candy'][0])"
   ]
  },
  {
   "cell_type": "code",
   "execution_count": 234,
   "metadata": {
    "code_folding": [
     0
    ]
   },
   "outputs": [],
   "source": [
    "def _knn(entity_embeddings, embedding_dim, cluster_size, thread_ct=None, cluster_dest=None, **kwargs):\n",
    "    # entity_embeddings = load_embeddings(embed_src, embedding_dim)\n",
    "    \n",
    "    t = AnnoyIndex(embedding_dim, 'angular')\n",
    "    # entities = entity_embeddings['entity'].tolist()\n",
    "    entities = [f'{entity}-{_i}' for entity, embs in entity_embeddings.items() for _i in range(len(embs))]\n",
    "    # print(entities)\n",
    "    # for i, row in tqdm(entity_embeddings.iterrows(), total=entity_embeddings.shape[0], desc=\"building entity index\"):\n",
    "    #     t.add_item(i, row['embedding'])\n",
    "    i = 0\n",
    "    for entity, embs in tqdm(entity_embeddings.items(), total=len(entity_embeddings)):\n",
    "        for emb in embs:\n",
    "            t.add_item(i, emb)\n",
    "            i += 1\n",
    "    assert i == len(entities)\n",
    "    \n",
    "    t.build(100)\n",
    "    \n",
    "    neighbors = []\n",
    "    for i, entity in enumerate(tqdm(entities, desc=\"finding nearest neighbors by entity\")):\n",
    "        # print(i, entity)\n",
    "        nns, dists = t.get_nns_by_item(i, cluster_size + 1, include_distances=True)\n",
    "        cos_sim_scores = [(2 - d ** 2) / 2 for d in dists]  # convert angular distance to cosine similarity\n",
    "        zipped = list(zip(nns, cos_sim_scores))\n",
    "        sorted_nns = sorted(zipped, key=lambda x: x[1], reverse=True)\n",
    "        if len(sorted_nns) > 0:\n",
    "            for nn_idx, d in sorted_nns:\n",
    "                neighbor_entity = entities[nn_idx]\n",
    "                if neighbor_entity == entity:\n",
    "                    continue\n",
    "                neighbors.append({\"entity\": entity, \"neighbor\": neighbor_entity, \"sim\": d})\n",
    "    c_df = pd.DataFrame(neighbors)\n",
    "    return c_df"
   ]
  },
  {
   "cell_type": "code",
   "execution_count": 235,
   "metadata": {},
   "outputs": [
    {
     "name": "stderr",
     "output_type": "stream",
     "text": [
      "100%|██████████| 175/175 [00:00<00:00, 24854.50it/s]\n",
      "finding nearest neighbors by entity: 100%|██████████| 269/269 [00:00<00:00, 6006.44it/s]\n"
     ]
    }
   ],
   "source": [
    "knn_results = _knn(entity_embeddings, 768, 20)"
   ]
  },
  {
   "cell_type": "code",
   "execution_count": null,
   "metadata": {
    "scrolled": true
   },
   "outputs": [],
   "source": [
    "query = 'meat'\n",
    "\n",
    "df = knn_results\n",
    "\n",
    "n_embs = len(entity_embeddings[query])\n",
    "sub_frames = []\n",
    "for _i in range(n_embs):\n",
    "    ent_name = f'{query}-{_i}'\n",
    "    sub_frames.append(df[df['entity'] == ent_name])\n",
    "\n",
    "pd.concat(sub_frames).sort_values('sim', ascending=False).head(10)"
   ]
  },
  {
   "cell_type": "code",
   "execution_count": null,
   "metadata": {},
   "outputs": [],
   "source": [
    "# original avg context knn \n",
    "knn_path = os.path.join(base_dir, f'data/{data_sub_dir}/intermediate/knn_100.csv')\n",
    "\n",
    "knn_results = pd.read_csv(knn_path)\n",
    "df = knn_results\n",
    "\n",
    "query = 'walmart'\n",
    "sub_frame = df[df['entity'] == query]\n",
    "sub_frame.sort_values('sim', ascending=False).head(10)"
   ]
  },
  {
   "cell_type": "code",
   "execution_count": null,
   "metadata": {},
   "outputs": [],
   "source": []
  },
  {
   "cell_type": "markdown",
   "metadata": {},
   "source": [
    "# Expand Seed Entities (clustering)"
   ]
  },
  {
   "cell_type": "code",
   "execution_count": 99,
   "metadata": {},
   "outputs": [],
   "source": [
    "# details here: https://github.com/rit-git/meg-kb/tree/main/src/concept_learning"
   ]
  },
  {
   "cell_type": "code",
   "execution_count": 299,
   "metadata": {},
   "outputs": [
    {
     "name": "stdout",
     "output_type": "stream",
     "text": [
      "/mnt/efs/shared/meg_shared_scripts/meg-kb/src/concept_learning\n"
     ]
    }
   ],
   "source": [
    "#change to concept learning directory\n",
    "%cd ../../concept_learning/"
   ]
  },
  {
   "cell_type": "markdown",
   "metadata": {},
   "source": [
    "## knn sentence-embedding"
   ]
  },
  {
   "cell_type": "code",
   "execution_count": 365,
   "metadata": {},
   "outputs": [],
   "source": [
    "clusters = 100\n",
    "output = '../../data/'+data_ac+'/intermediate/knn_'+str(clusters)+'.csv'\n",
    "dim = 768"
   ]
  },
  {
   "cell_type": "code",
   "execution_count": 366,
   "metadata": {},
   "outputs": [
    {
     "name": "stdout",
     "output_type": "stream",
     "text": [
      "building entity index: 100%|████████████████| 177/177 [00:00<00:00, 5435.26it/s]\n",
      "finding nearest neighbors by entity: 100%|██| 177/177 [00:00<00:00, 2001.57it/s]\n"
     ]
    }
   ],
   "source": [
    "!python compute_concept_clusters.py -d ../../data/$data_ac/intermediate/ -ca knn -s $clusters -dim $dim -o $output"
   ]
  },
  {
   "cell_type": "markdown",
   "metadata": {},
   "source": [
    "## knn token concatenated"
   ]
  },
  {
   "cell_type": "code",
   "execution_count": 308,
   "metadata": {},
   "outputs": [],
   "source": [
    "clusters = 20\n",
    "output = '../../data/'+data_pt+'/intermediate/knn_'+str(clusters)+'.csv'\n",
    "dim = 3072"
   ]
  },
  {
   "cell_type": "code",
   "execution_count": 309,
   "metadata": {},
   "outputs": [
    {
     "name": "stdout",
     "output_type": "stream",
     "text": [
      "building entity index: 100%|████████████████| 177/177 [00:00<00:00, 3661.18it/s]\n",
      "finding nearest neighbors by entity: 100%|██| 177/177 [00:00<00:00, 4052.00it/s]\n"
     ]
    }
   ],
   "source": [
    "!python compute_concept_clusters.py -d ../../data/$data_pt/intermediate/ -ca knn -s $clusters -dim $dim -o $output"
   ]
  },
  {
   "cell_type": "markdown",
   "metadata": {},
   "source": [
    "## knn token"
   ]
  },
  {
   "cell_type": "code",
   "execution_count": null,
   "metadata": {},
   "outputs": [],
   "source": [
    "clusters = 20\n",
    "output = '../../data/'+data_pt+'/intermediate/knn_'+str(clusters)+'.csv'\n",
    "dim = 768"
   ]
  },
  {
   "cell_type": "code",
   "execution_count": null,
   "metadata": {},
   "outputs": [],
   "source": [
    "!python compute_concept_clusters.py -d ../../data/$data_corel/intermediate/ -ca knn -s $clusters -dim $dim -o $output"
   ]
  },
  {
   "cell_type": "code",
   "execution_count": null,
   "metadata": {},
   "outputs": [],
   "source": []
  },
  {
   "cell_type": "markdown",
   "metadata": {},
   "source": [
    "## Seed instances clustering\n",
    "(using all seed instances of a concept to find neighbors)"
   ]
  },
  {
   "cell_type": "code",
   "execution_count": 21,
   "metadata": {
    "hide_input": true
   },
   "outputs": [],
   "source": [
    "# seed_concepts_path = os.path.join(base_dir, f'data/indeed-benchmark/seed_concepts.csv')\n",
    "# seed_relations_path = os.path.join(base_dir, f'data/indeed-benchmark/seed_relations.csv')\n",
    "\n",
    "seed_aligned_concepts_path = os.path.join(base_dir, f'data/indeed-benchmark/seed_aligned_concepts.csv')\n",
    "seed_aligned_relations_path = os.path.join(base_dir, f'data/indeed-benchmark/seed_aligned_relations.csv')"
   ]
  },
  {
   "cell_type": "code",
   "execution_count": 744,
   "metadata": {
    "hide_input": true
   },
   "outputs": [],
   "source": [
    "def get_concept_knn(embed_src, embedding_dim, seed_aligned_concept_src, cluster_size, thread_ct, cluster_dest, **kwargs):\n",
    "    seed_concepts_df = load_seed_aligned_concepts(seed_aligned_concept_src)\n",
    "    \n",
    "    entity_embeddings = load_embeddings(embed_src, embedding_dim)\n",
    "    t = AnnoyIndex(embedding_dim, 'angular')\n",
    "    entities = entity_embeddings['entity'].tolist()\n",
    "    for i, row in tqdm(entity_embeddings.iterrows(), total=entity_embeddings.shape[0], desc=\"building entity index\"):\n",
    "        t.add_item(i, row['embedding'])\n",
    "    t.build(100)\n",
    "    \n",
    "    entity_emb_dict = dict(zip(entities, entity_embeddings['embedding'].tolist()))\n",
    "\n",
    "    neighbors = []\n",
    "    for i, (a_concept, u_concept, gnrl, seed_instances) in tqdm(seed_concepts_df.iterrows(), desc=\"finding nearest neighbors by concept\"):\n",
    "        embs = []\n",
    "        for inst in seed_instances:\n",
    "            try:\n",
    "                embs.append(entity_emb_dict[inst])\n",
    "            except KeyError:\n",
    "                print(f\"{inst} not found in entity_emb_dict??\")\n",
    "                continue\n",
    "        if len(embs) == 0:\n",
    "            continue\n",
    "        concept_emb = np.mean(embs, axis=0)\n",
    "        \n",
    "        nns, dists = t.get_nns_by_vector(concept_emb, cluster_size + 1, include_distances=True)\n",
    "        cos_sim_scores = [(2 - d ** 2) / 2 for d in dists]  # convert angular distance to cosine similarity\n",
    "        zipped = list(zip(nns, cos_sim_scores))\n",
    "        sorted_nns = sorted(zipped, key=lambda x: x[1], reverse=True)\n",
    "        if len(sorted_nns) > 0:\n",
    "            for nn_idx, d in sorted_nns:\n",
    "                neighbor_entity = entities[nn_idx]\n",
    "                if neighbor_entity in seed_instances:\n",
    "                    continue\n",
    "                neighbors.append({\"concept\": a_concept, \"neighbor\": neighbor_entity, \"sim\": d})\n",
    "    c_df = pd.DataFrame(neighbors)\n",
    "    c_df.to_csv(cluster_dest, index=None)"
   ]
  },
  {
   "cell_type": "code",
   "execution_count": null,
   "metadata": {
    "hide_input": true
   },
   "outputs": [],
   "source": [
    "cluster_size = 1000\n",
    "\n",
    "bert_emb_path = os.path.join(base_dir, f'data/{data_ac}/intermediate/BERTembed+seeds.txt')\n",
    "seed_concepts_path = os.path.join(base_dir, f'data/indeed-benchmark/seed_concepts.csv')\n",
    "seed_relations_path = os.path.join(base_dir, f'data/indeed-benchmark/seed_relations.csv')\n",
    "concept_knn_path = os.path.join(base_dir, f'data/{data_ac}/intermediate/concept_knn_{cluster_size}.csv')\n",
    "\n",
    "get_concept_knn(embed_src=bert_emb_path,\n",
    "            embedding_dim=768,\n",
    "            seed_aligned_concept_src=seed_aligned_concepts_path,\n",
    "            cluster_size=1000,\n",
    "            thread_ct=1,\n",
    "            cluster_dest=concept_knn_path)\n"
   ]
  },
  {
   "cell_type": "code",
   "execution_count": 24,
   "metadata": {},
   "outputs": [
    {
     "name": "stdout",
     "output_type": "stream",
     "text": [
      "/mnt/efs/shared/meg_shared_scripts/meg-kb/src/concept_learning\n"
     ]
    }
   ],
   "source": [
    "%cd $base_dir/src/concept_learning"
   ]
  },
  {
   "cell_type": "code",
   "execution_count": 163,
   "metadata": {},
   "outputs": [
    {
     "name": "stdout",
     "output_type": "stream",
     "text": [
      "building entity index: 100%|██████████████| 8053/8053 [00:01<00:00, 6521.18it/s]\n",
      "finding nearest neighbors by concept: 14it [00:00, 433.85it/s]\n"
     ]
    }
   ],
   "source": [
    "# Use script\n",
    "cluster_size = 100\n",
    "!python compute_concept_seeds_knn.py -d $base_dir/data/$data_ac/intermediate -b $base_dir/data/indeed-benchmark -s 100 -o $base_dir/data/$data_ac/intermediate/concept_knn_100.csv"
   ]
  },
  {
   "cell_type": "code",
   "execution_count": null,
   "metadata": {
    "scrolled": true
   },
   "outputs": [],
   "source": [
    "# check results \n",
    "concept_knn_path = os.path.join(base_dir, f'data/{data_ac}/intermediate/concept_knn_{cluster_size}.csv')\n",
    "\n",
    "df = pd.read_csv(concept_knn_path)\n",
    "df[df['concept'] == 'company'].head(10)"
   ]
  },
  {
   "cell_type": "code",
   "execution_count": null,
   "metadata": {},
   "outputs": [],
   "source": [
    "df = pd.read_csv(concept_knn_path)\n",
    "df[df['concept'] == 'pay_schedule'].head(10)"
   ]
  },
  {
   "cell_type": "code",
   "execution_count": null,
   "metadata": {},
   "outputs": [],
   "source": []
  },
  {
   "cell_type": "markdown",
   "metadata": {},
   "source": [
    "## Analyzing Clustering Results"
   ]
  },
  {
   "cell_type": "code",
   "execution_count": 107,
   "metadata": {},
   "outputs": [],
   "source": [
    "#Visit here: /meg_shared_scripts/meg-kb/src/analysis/concept_learning-test.ipynb"
   ]
  },
  {
   "cell_type": "code",
   "execution_count": 71,
   "metadata": {},
   "outputs": [],
   "source": [
    "bert_emb_path = os.path.join(base_dir, f'data/{data_ac}/intermediate/BERTembed+seeds.txt')\n",
    "seed_aligned_concepts_path = os.path.join(base_dir, f'data/indeed-benchmark/seed_aligned_concepts.csv')\n",
    "seed_aligned_relations_path = os.path.join(base_dir, f'data/indeed-benchmark/seed_aligned_relations.csv')\n",
    "\n",
    "concept_knn_path = concept_knn_path = os.path.join(base_dir, f'data/{data_ac}/intermediate/concept_knn_100.csv')"
   ]
  },
  {
   "cell_type": "code",
   "execution_count": 72,
   "metadata": {},
   "outputs": [],
   "source": [
    "entity_embeddings = load_embeddings(bert_emb_path, 768)\n",
    "entity_emb_dict = dict(zip(entity_embeddings['entity'].tolist(), entity_embeddings['embedding'].tolist()))\n",
    "\n",
    "seed_concepts_df = load_seed_aligned_concepts(seed_aligned_concepts_path)\n",
    "\n",
    "concepts_knn_df = pd.read_csv(concept_knn_path)"
   ]
  },
  {
   "cell_type": "code",
   "execution_count": 73,
   "metadata": {},
   "outputs": [],
   "source": [
    "vis_records = []\n",
    "# record item: List[\n",
    "#     (con_name, con_emb),\n",
    "#     List[(seed_name, seed_emb)],\n",
    "#     List[(inst_name, inst_emb)],\n",
    "# ]\n",
    "\n",
    "for i, (a_concept, u_concept, gnrl, _seed_instances) in seed_concepts_df.iterrows():\n",
    "    _seed_embs = []\n",
    "    for inst in _seed_instances:\n",
    "        try:\n",
    "            _emb = entity_emb_dict[inst]\n",
    "            _seed_embs.append(_emb)\n",
    "        except KeyError:\n",
    "            print(f\"{inst} not found in entity_emb_dict??\")\n",
    "            continue\n",
    "    if len(_seed_embs) == 0:\n",
    "        continue\n",
    "    _concept_emb = np.mean(_seed_embs, axis=0)\n",
    "    \n",
    "    _concept_knns = concepts_knn_df[concepts_knn_df['concept'] == a_concept]['neighbor'].tolist()\n",
    "    _concept_knn_embs = [entity_emb_dict[inst] for inst in _concept_knns]\n",
    "    \n",
    "    _record = [(a_concept, _concept_emb),\n",
    "       list(zip(seed_instances, _seed_embs)),\n",
    "       list(zip(_concept_knns, _concept_knn_embs))\n",
    "    ]\n",
    "    \n",
    "    vis_records.append(_record)"
   ]
  },
  {
   "cell_type": "code",
   "execution_count": 146,
   "metadata": {},
   "outputs": [],
   "source": [
    "_label_list = []\n",
    "_raw_emb_list = []\n",
    "_size_list = []   # knn = 1, seed = 2, concept = 3 \n",
    "_color_id_list = []\n",
    "\n",
    "_CONCEPT_SIZE = 100\n",
    "_SEED_SIZE = 30\n",
    "_CAND_SIZE = 1\n",
    "\n",
    "for c_id, ((_con, _con_emb), _seeds, _knns) in enumerate(vis_records):\n",
    "    _label_list.append(_con)\n",
    "    _raw_emb_list.append(_con_emb)\n",
    "    _size_list.append(_CONCEPT_SIZE)\n",
    "    _color_id_list.append(c_id)\n",
    "    for _seed, _seed_emb in _seeds:\n",
    "        _label_list.append(_seed)\n",
    "        _raw_emb_list.append(_seed_emb)\n",
    "        _size_list.append(_SEED_SIZE)\n",
    "        _color_id_list.append(c_id)\n",
    "    for _inst, _inst_emb in _knns:\n",
    "        _label_list.append(_inst)\n",
    "        _raw_emb_list.append(_inst_emb)\n",
    "        _size_list.append(_CAND_SIZE)\n",
    "        _color_id_list.append(c_id)"
   ]
  },
  {
   "cell_type": "code",
   "execution_count": 84,
   "metadata": {},
   "outputs": [
    {
     "data": {
      "text/plain": [
       "1432"
      ]
     },
     "execution_count": 84,
     "metadata": {},
     "output_type": "execute_result"
    }
   ],
   "source": [
    "len(_raw_emb_list)"
   ]
  },
  {
   "cell_type": "code",
   "execution_count": 78,
   "metadata": {},
   "outputs": [],
   "source": [
    "tsne = TSNE()\n",
    "_tsne_emb_list = tsne.fit_transform(_raw_emb_list).tolist()"
   ]
  },
  {
   "cell_type": "code",
   "execution_count": 147,
   "metadata": {
    "scrolled": false
   },
   "outputs": [
    {
     "data": {
      "image/png": "[encoded data removed]",
      "text/plain": [
       "<Figure size 864x576 with 1 Axes>"
      ]
     },
     "metadata": {
      "needs_background": "light"
     },
     "output_type": "display_data"
    }
   ],
   "source": [
    "_tsne_x, _tsne_y = list(zip(*_tsne_emb_list))\n",
    "\n",
    "fig = plt.figure(figsize=(12, 8))\n",
    "ax = fig.gca()\n",
    "\n",
    "# _scatter = ax.scatter(_tsne_x, _tsne_y, s=_size_list, c=_color_id_list)\n",
    "\n",
    "cmap = plt.get_cmap(name='viridis')\n",
    "\n",
    "for c_id, _record in enumerate(vis_records[:10]):\n",
    "    _data_ids = [i for i, c in enumerate(_color_id_list) if c == c_id]\n",
    "    _x = [_tsne_x[i] for i in _data_ids]\n",
    "    _y = [_tsne_y[i] for i in _data_ids]\n",
    "    _s = [_size_list[i] for i in _data_ids]\n",
    "#     _c = [c_id for i in _data_ids]\n",
    "#     _c = matplotlib.colors.rgb2hex(cmap(1.0 * c_id / len(vis_records)))\n",
    "    ax.scatter(_x, _y, s=_s, label=_record[0][0])\n",
    "\n",
    "ax.legend()\n",
    "fig.show()"
   ]
  },
  {
   "cell_type": "code",
   "execution_count": null,
   "metadata": {},
   "outputs": [],
   "source": [
    "# legend1 = ax.legend(*_scatter.legend_elements(), title=\"Classes\")\n",
    "# # ax.add_artist(legend1)\n",
    "# fig.show()"
   ]
  },
  {
   "cell_type": "code",
   "execution_count": null,
   "metadata": {},
   "outputs": [],
   "source": [
    "# matplotlib.colors.rgb2hex(cmap(0.9))"
   ]
  },
  {
   "cell_type": "code",
   "execution_count": null,
   "metadata": {},
   "outputs": [],
   "source": []
  },
  {
   "cell_type": "code",
   "execution_count": null,
   "metadata": {},
   "outputs": [],
   "source": []
  },
  {
   "cell_type": "markdown",
   "metadata": {},
   "source": [
    "## Entity expansion evaluation\n",
    "Now using benchmark entities, mean reciprocal rank"
   ]
  },
  {
   "cell_type": "code",
   "execution_count": 129,
   "metadata": {
    "scrolled": true
   },
   "outputs": [
    {
     "name": "stdout",
     "output_type": "stream",
     "text": [
      "['company', 'dress_code', 'job_position', 'pay_schedule', 'benefits', 'compensation', 'payment_option', 'background_screening', 'person', 'hire_prerequisite', 'shifts', 'schedule', 'employee_type', 'onboarding_steps']\n",
      "['has_pay_schedule', 'has_pay_schedule', 'has_dress_code', 'has_dress_code', 'has_background_screening', 'has_benefits', 'has_benefits', 'hires_person', 'has_compensation', 'has_compensation', 'has_hire_prerequisite', 'operates_on', 'hires_employee_type', 'has_onboarding_steps', 'has_shifts', 'has_shifts', 'has_job_position', 'has_hiring_policy', 'has_payment_option']\n",
      "{'onboarding_steps', 'pay_schedule', 'shifts', 'schedule', 'company', 'job_position', 'hire_prerequisite', 'payment_option', 'benefits', 'background_screening', 'person', 'employee_type', 'dress_code', 'compensation'}\n",
      "(706, 17)\n"
     ]
    }
   ],
   "source": [
    "seed_aligned_concepts_path = os.path.join(base_dir, f'data/indeed-benchmark/seed_aligned_concepts.csv')\n",
    "seed_aligned_relations_path = os.path.join(base_dir, f'data/indeed-benchmark/seed_aligned_relations.csv')\n",
    "benchmark_path = os.path.join(base_dir, f'data/indeed-benchmark/benchmark_evidence_clean.csv')\n",
    "concept_knn_path = os.path.join(base_dir, f'data/{data_ac}/intermediate/concept_knn_1000.csv')\n",
    "\n",
    "seed_aligned_concepts = load_seed_aligned_concepts(seed_aligned_concepts_path)\n",
    "seed_aligned_relations = load_seed_aligned_relations(seed_aligned_relations_path)\n",
    "benchmark = pd.read_csv(benchmark_path)\n",
    "concept_knn = pd.read_csv(concept_knn_path)\n",
    "\n",
    "print(seed_aligned_concepts['alignedCategoryName'].tolist())\n",
    "print(seed_aligned_relations['alignedRelationName'].tolist())\n",
    "print(set(concept_knn['concept'].tolist()))\n",
    "print(benchmark.shape)"
   ]
  },
  {
   "cell_type": "code",
   "execution_count": 62,
   "metadata": {},
   "outputs": [],
   "source": [
    "def evaluate_EE(predictions_path,\n",
    "                seed_concepts_path,\n",
    "                seed_relations_path,\n",
    "                benchmark_path):\n",
    "    '''Format of prediction file: CSV, with column \"concept\" and \"neighbor\"(entity) '''\n",
    "    preds_df = pd.read_csv(predictions_path)\n",
    "    \n",
    "    all_benchmark_instances, _ = load_benchmark(benchmark_path, seed_concepts_path, seed_relations_path)\n",
    "    seed_aligned_concepts = load_seed_aligned_concepts(seed_concepts_path)\n",
    "    \n",
    "    mrr_dict = dict()\n",
    "    for i, d in seed_aligned_concepts.iterrows():\n",
    "        a_concept = d[\"alignedCategoryName\"]\n",
    "        u_concept = d[\"unalignedCategoryName\"]\n",
    "        seed_instances = d[\"seedInstances\"]\n",
    "\n",
    "#         concept_knn_instances = concept_knn[concept_knn[\"concept\"] == a_concept][\"neighbor\"].to_list()\n",
    "        pred_instances = preds_df[preds_df[\"concept\"] == a_concept][\"neighbor\"].to_list()\n",
    "\n",
    "#         _b_head_instances = benchmark[benchmark[\"n_head_category\"] == a_concept][\"n_head\"].to_list()\n",
    "#         _b_tail_instances = benchmark[benchmark[\"n_tail_category\"] == a_concept][\"n_tail\"].to_list()\n",
    "#         benchmark_instances = list(set(_b_head_instances + _b_tail_instances))\n",
    "        benchmark_instances = all_benchmark_instances[a_concept]\n",
    "\n",
    "        print(f'Concept: {a_concept} / {u_concept}')\n",
    "        print(f'seeds: {seed_instances}')\n",
    "        b_inst_ranks = dict()\n",
    "        recip_ranks = []\n",
    "        for _inst in benchmark_instances:\n",
    "            if _inst in seed_instances:\n",
    "                b_inst_ranks[_inst] = -1\n",
    "            elif _inst in pred_instances:\n",
    "                _rank = pred_instances.index(_inst) + 1\n",
    "                b_inst_ranks[_inst] = _rank\n",
    "                recip_ranks.append(1.0 / _rank)\n",
    "            else:\n",
    "                b_inst_ranks[_inst] = float('nan')\n",
    "                recip_ranks.append(0.0)\n",
    "                \n",
    "        mrr = np.mean(recip_ranks) if len(recip_ranks) > 0 else 0.0\n",
    "        mrr_dict[a_concept] = mrr\n",
    "        print(json.dumps(b_inst_ranks, indent=4))\n",
    "        print('MRR:', mrr)\n",
    "        print()\n",
    "\n",
    "    print('--- Summary ---')\n",
    "    print(json.dumps(mrr_dict, indent=2))"
   ]
  },
  {
   "cell_type": "code",
   "execution_count": null,
   "metadata": {},
   "outputs": [],
   "source": [
    "seed_aligned_concepts_path = os.path.join(base_dir, f'data/indeed-benchmark/seed_aligned_concepts.csv')\n",
    "seed_aligned_relations_path = os.path.join(base_dir, f'data/indeed-benchmark/seed_aligned_relations_nodup.csv')\n",
    "benchmark_path = os.path.join(base_dir, f'data/indeed-benchmark/benchmark_evidence_clean.csv')\n",
    "concept_knn_path = os.path.join(base_dir, f'data/{data_ac}/intermediate/concept_knn_1000.csv')\n",
    "\n",
    "evaluate_EE(predictions_path=concept_knn_path,\n",
    "            seed_concepts_path=seed_aligned_concepts_path,\n",
    "            seed_relations_path=seed_aligned_relations_path,\n",
    "            benchmark_path=benchmark_path)"
   ]
  },
  {
   "cell_type": "code",
   "execution_count": 264,
   "metadata": {},
   "outputs": [
    {
     "name": "stdout",
     "output_type": "stream",
     "text": [
      "Concept: company / company\r\n",
      "seeds: ['walmart', 'amazon', 'subway', 'microsoft', 'target']\r\n",
      "{\r\n",
      "    \"frito\": NaN,\r\n",
      "    \"verizon\": NaN,\r\n",
      "    \"olive garden\": NaN,\r\n",
      "    \"lowe's\": NaN,\r\n",
      "    \"family dollar\": NaN,\r\n",
      "    \"wells fargo\": NaN,\r\n",
      "    \"panera\": NaN,\r\n",
      "    \"instacart\": NaN,\r\n",
      "    \"t-mobile\": NaN,\r\n",
      "    \"chipotle\": NaN,\r\n",
      "    \"training\": NaN,\r\n",
      "    \"barnes & noble\": NaN,\r\n",
      "    \"american eagle outfitters\": NaN,\r\n",
      "    \"concentrix\": NaN,\r\n",
      "    \"domino's\": NaN,\r\n",
      "    \"mcdonald's\": NaN,\r\n",
      "    \"foot locker\": NaN,\r\n",
      "    \"ihop\": NaN,\r\n",
      "    \"panera bread\": NaN,\r\n",
      "    \"dunkin donuts\": NaN,\r\n",
      "    \"frito lay\": NaN,\r\n",
      "    \"fedex ground\": NaN,\r\n",
      "    \"electric\": NaN,\r\n",
      "    \"marshalls\": 272,\r\n",
      "    \"victoria's secret\": NaN,\r\n",
      "    \"g4s\": NaN,\r\n",
      "    \"chilis\": NaN,\r\n",
      "    \"cvs\": 426,\r\n",
      "    \"pepsi\": NaN,\r\n",
      "    \"dollar general\": 251,\r\n",
      "    \"sonic drive-in\": NaN,\r\n",
      "    \"costco\": NaN,\r\n",
      "    \"allied universal security services, systems and solutions\": NaN,\r\n",
      "    \"wendys\": NaN,\r\n",
      "    \"pizza hut\": NaN,\r\n",
      "    \"geico\": NaN,\r\n",
      "    \"spectrum\": NaN,\r\n",
      "    \"chipotle mexican grill\": NaN,\r\n",
      "    \"whataburger\": NaN,\r\n",
      "    \"lowes\": NaN,\r\n",
      "    \"cracker barrel\": NaN,\r\n",
      "    \"subway\": -1,\r\n",
      "    \"united states postal service\": NaN,\r\n",
      "    \"goodwill industries\": NaN,\r\n",
      "    \"taco bell\": NaN,\r\n",
      "    \"starbucks\": 34,\r\n",
      "    \"old navy\": NaN,\r\n",
      "    \"teleperformance\": NaN,\r\n",
      "    \"quiktrip\": NaN,\r\n",
      "    \"frito-lay\": NaN,\r\n",
      "    \"tj maxx\": NaN,\r\n",
      "    \"target\": -1,\r\n",
      "    \"planet fitness\": NaN,\r\n",
      "    \"mcdonalds\": 295,\r\n",
      "    \"marriott international, inc.\": NaN,\r\n",
      "    \"ulta\": NaN,\r\n",
      "    \"whole foods market\": NaN,\r\n",
      "    \"publix\": NaN,\r\n",
      "    \"dd\": NaN,\r\n",
      "    \"kroger stores\": NaN,\r\n",
      "    \"little caesars\": NaN,\r\n",
      "    \"doordash\": NaN,\r\n",
      "    \"macy's\": NaN,\r\n",
      "    \"petsmart\": NaN,\r\n",
      "    \"t.j. maxx\": NaN,\r\n",
      "    \"heb\": NaN,\r\n",
      "    \"mcdonald\": NaN,\r\n",
      "    \"best buy\": NaN,\r\n",
      "    \"amazon\": -1,\r\n",
      "    \"fedex\": NaN,\r\n",
      "    \"subways\": NaN,\r\n",
      "    \"chili's\": NaN,\r\n",
      "    \"ross dress for less\": NaN,\r\n",
      "    \"sam's club\": NaN,\r\n",
      "    \"walmart\": -1,\r\n",
      "    \"dollar tree\": NaN,\r\n",
      "    \"amazon.com\": NaN,\r\n",
      "    \"costco wholesale\": NaN,\r\n",
      "    \"chick-fil-a\": NaN,\r\n",
      "    \"the wendy's company\": NaN,\r\n",
      "    \"the home depot\": NaN,\r\n",
      "    \"alorica\": NaN,\r\n",
      "    \"at&t\": NaN,\r\n",
      "    \"walgreens\": NaN,\r\n",
      "    \"primark\": NaN,\r\n",
      "    \"applebee's\": NaN,\r\n",
      "    \"hobby lobby\": NaN,\r\n",
      "    \"burger king\": NaN,\r\n",
      "    \"kfc\": NaN,\r\n",
      "    \"enterprise holdings\": NaN,\r\n",
      "    \"dick's sporting goods\": NaN,\r\n",
      "    \"cvs health\": 375,\r\n",
      "    \"menards\": NaN,\r\n",
      "    \"kroger\": NaN,\r\n",
      "    \"burlington stores\": NaN,\r\n",
      "    \"jcpenney\": NaN,\r\n",
      "    \"ups\": NaN,\r\n",
      "    \"safeway\": NaN,\r\n",
      "    \"dunkin' donuts\": NaN,\r\n",
      "    \"sitel\": 428,\r\n",
      "    \"pepsico\": NaN,\r\n",
      "    \"home depot\": 228,\r\n",
      "    \"kohl's\": NaN,\r\n",
      "    \"aldi\": NaN,\r\n",
      "    \"tim hortons\": NaN\r\n",
      "}\r\n",
      "MRR: 0.0005168180947036233\r\n",
      "\r\n",
      "Concept: dress_code / dress code\r\n",
      "seeds: ['business casual', 'uniform', 'hair color', 'tattoos', 'facial hair', 'shoes', 'piercings']\r\n",
      "{\r\n",
      "    \"facial piercings\": 3,\r\n",
      "    \"black jeans\": 413,\r\n",
      "    \"jeans\": NaN,\r\n",
      "    \"resistant shoes\": 76,\r\n",
      "    \"strict dress code\": 252,\r\n",
      "    \"color hair\": 36,\r\n",
      "    \"unnatural hair colors\": NaN,\r\n",
      "    \"hat\": NaN,\r\n",
      "    \"attire\": NaN,\r\n",
      "    \"blue collar\": 37,\r\n",
      "    \"wear fake nails\": NaN,\r\n",
      "    \"hairnets\": NaN,\r\n",
      "    \"professional\": 16,\r\n",
      "    \"wear jeans\": 198,\r\n",
      "    \"dress pants\": 27,\r\n",
      "    \"uniform\": -1,\r\n",
      "    \"ponytail\": NaN,\r\n",
      "    \"uniform shirts\": 44,\r\n",
      "    \"shoes\": -1,\r\n",
      "    \"uniform policy\": 144,\r\n",
      "    \"dress shirts\": 46,\r\n",
      "    \"black slacks\": NaN,\r\n",
      "    \"fake nails\": 429,\r\n",
      "    \"skirts\": NaN,\r\n",
      "    \"uniforms\": NaN,\r\n",
      "    \"non slip shoes\": NaN,\r\n",
      "    \"red shirts\": NaN,\r\n",
      "    \"brown pants\": 264,\r\n",
      "    \"mustaches\": NaN,\r\n",
      "    \"shorts\": NaN,\r\n",
      "    \"hats\": NaN,\r\n",
      "    \"unnatural colored hair\": 142,\r\n",
      "    \"wear shorts\": NaN,\r\n",
      "    \"polo shirts\": NaN,\r\n",
      "    \"shirt\": NaN,\r\n",
      "    \"natural colored hair\": 47,\r\n",
      "    \"scrubs\": 123,\r\n",
      "    \"hair color\": -1,\r\n",
      "    \"casual dress code\": 82,\r\n",
      "    \"casual\": NaN,\r\n",
      "    \"colorful hair\": 417,\r\n",
      "    \"nose rings\": 55,\r\n",
      "    \"pants\": NaN,\r\n",
      "    \"shirts\": NaN,\r\n",
      "    \"piercings\": -1,\r\n",
      "    \"face tattoos\": 4,\r\n",
      "    \"hair colors\": NaN,\r\n",
      "    \"facial hair\": -1,\r\n",
      "    \"hair net\": NaN,\r\n",
      "    \"jewelry\": NaN,\r\n",
      "    \"natural colors\": 407,\r\n",
      "    \"black pants\": 283,\r\n",
      "    \"unnatural hair color\": NaN,\r\n",
      "    \"business casual\": -1,\r\n",
      "    \"lab coats\": NaN\r\n",
      "}\r\n",
      "MRR: 0.01826566099506606\r\n",
      "\r\n",
      "Concept: job_position / job position\r\n",
      "seeds: ['delivery driver', 'store manager', 'cashier', 'package handler', 'sales associate', 'barista', 'dishwasher']\r\n",
      "{\r\n",
      "    \"server\": NaN,\r\n",
      "    \"truck drivers\": NaN,\r\n",
      "    \"servers\": NaN,\r\n",
      "    \"shift leader\": 207,\r\n",
      "    \"cashier\": -1\r\n",
      "}\r\n",
      "MRR: 0.0012077294685990338\r\n",
      "\r\n",
      "Concept: pay_schedule / pay period\r\n",
      "seeds: ['weekly', 'biweekly', 'friday', 'saturday']\r\n",
      "{\r\n",
      "    \"weekly\": -1,\r\n",
      "    \"paid bi weekly\": 21,\r\n",
      "    \"paid weekly\": 8,\r\n",
      "    \"biweekly\": -1,\r\n",
      "    \"bi weekly\": 2,\r\n",
      "    \"friday\": -1,\r\n",
      "    \"tuesday\": NaN,\r\n",
      "    \"tuesdays\": NaN,\r\n",
      "    \"week\": NaN,\r\n",
      "    \"weeks\": NaN,\r\n",
      "    \"paid biweekly\": NaN,\r\n",
      "    \"fridays\": NaN\r\n",
      "}\r\n",
      "MRR: 0.07473544973544974\r\n",
      "\r\n",
      "Concept: benefits / benefits\r\n",
      "seeds: ['health insurance', 'flexible schedule', '401k', 'paid vacation', 'sick leave', 'vision insurance']\r\n",
      "{\r\n",
      "    \"sick leave\": -1,\r\n",
      "    \"schooling\": NaN,\r\n",
      "    \"pto\": NaN,\r\n",
      "    \"prescription drugs\": NaN,\r\n",
      "    \"health\": 133,\r\n",
      "    \"healthcare\": 63,\r\n",
      "    \"pension\": NaN,\r\n",
      "    \"tuition assistance\": 93,\r\n",
      "    \"discounts\": NaN,\r\n",
      "    \"retirement plan\": 105,\r\n",
      "    \"health plans\": NaN,\r\n",
      "    \"relocation\": NaN,\r\n",
      "    \"discount\": NaN,\r\n",
      "    \"health benefits\": 72,\r\n",
      "    \"health care\": 37,\r\n",
      "    \"paid vacations\": 54,\r\n",
      "    \"relocate\": NaN,\r\n",
      "    \"free lunch\": NaN,\r\n",
      "    \"vacations\": NaN,\r\n",
      "    \"retirement\": NaN,\r\n",
      "    \"sick days\": 22,\r\n",
      "    \"health coverage\": NaN,\r\n",
      "    \"401k\": -1,\r\n",
      "    \"401 k\": NaN,\r\n",
      "    \"health insurance\": -1,\r\n",
      "    \"401k plan\": NaN,\r\n",
      "    \"monthly bonus\": NaN,\r\n",
      "    \"breakfast\": NaN,\r\n",
      "    \"life insurance\": 8,\r\n",
      "    \"vacation\": NaN\r\n",
      "}\r\n",
      "MRR: 0.010131751498160353\r\n",
      "\r\n",
      "Concept: compensation / compensation\r\n",
      "seeds: ['base pay', 'stock options', 'benefits', 'overtime pay', 'bonus']\r\n",
      "{\r\n",
      "    \"benefits\": -1,\r\n",
      "    \"benfits\": NaN,\r\n",
      "    \"compensation\": NaN\r\n",
      "}\r\n",
      "MRR: 0.0\r\n",
      "\r\n",
      "Concept: payment_option / nan\r\n",
      "seeds: ['checks', 'direct deposit', 'prepaid card']\r\n",
      "{\r\n",
      "    \"direct deposits\": 19,\r\n",
      "    \"checks\": -1,\r\n",
      "    \"prepaid card\": -1,\r\n",
      "    \"paycheck\": NaN,\r\n",
      "    \"direct deposit\": -1,\r\n",
      "    \"paper checks\": NaN\r\n",
      "}\r\n",
      "MRR: 0.017543859649122806\r\n",
      "\r\n",
      "Concept: background_screening / background screening\r\n",
      "seeds: ['drug test', 'criminal background check', 'employment verification']\r\n",
      "{\r\n",
      "    \"credit checks\": 182,\r\n",
      "    \"random drug test\": 9,\r\n",
      "    \"saliva drug test\": 27,\r\n",
      "    \"follicle test\": NaN,\r\n",
      "    \"urine tests\": 71,\r\n",
      "    \"previous employment\": 78,\r\n",
      "    \"testing\": NaN,\r\n",
      "    \"mouth swab\": NaN,\r\n",
      "    \"criminal background checks\": NaN,\r\n",
      "    \"criminal record\": 50,\r\n",
      "    \"mouth swap\": NaN,\r\n",
      "    \"background checks\": 146,\r\n",
      "    \"cannabis\": NaN,\r\n",
      "    \"cheek swab\": NaN,\r\n",
      "    \"urine\": NaN,\r\n",
      "    \"blood test\": 3,\r\n",
      "    \"backround check\": NaN,\r\n",
      "    \"criminal background check\": -1,\r\n",
      "    \"swab test\": NaN,\r\n",
      "    \"saliva test\": 23,\r\n",
      "    \"test\": 48,\r\n",
      "    \"credit history\": 105,\r\n",
      "    \"hair follicle test\": NaN,\r\n",
      "    \"mouth swabs\": NaN,\r\n",
      "    \"drug screened\": NaN,\r\n",
      "    \"social security number\": 61,\r\n",
      "    \"drug tested\": NaN,\r\n",
      "    \"urine drug test\": 18,\r\n",
      "    \"urine test\": 6,\r\n",
      "    \"urine testing\": NaN,\r\n",
      "    \"criminal background\": 100,\r\n",
      "    \"saliva\": NaN,\r\n",
      "    \"dui\": NaN,\r\n",
      "    \"urine sample\": NaN,\r\n",
      "    \"hair sample\": NaN,\r\n",
      "    \"previous employer\": NaN,\r\n",
      "    \"credit score\": 195,\r\n",
      "    \"urine drug screen\": NaN,\r\n",
      "    \"random tests\": 177,\r\n",
      "    \"background check\": 36,\r\n",
      "    \"background report\": 119,\r\n",
      "    \"drug\": NaN,\r\n",
      "    \"drug screen\": NaN,\r\n",
      "    \"drug tests\": 14,\r\n",
      "    \"previous employers\": NaN,\r\n",
      "    \"criminal records\": 99,\r\n",
      "    \"drugs\": NaN,\r\n",
      "    \"previous jobs\": NaN,\r\n",
      "    \"credit report\": 40,\r\n",
      "    \"random drug testing\": 106,\r\n",
      "    \"alcohol\": NaN,\r\n",
      "    \"drug test\": -1,\r\n",
      "    \"screen\": NaN,\r\n",
      "    \"criminal backgrounds\": NaN,\r\n",
      "    \"criminal history\": 218,\r\n",
      "    \"drugged tested\": NaN,\r\n",
      "    \"backround\": NaN,\r\n",
      "    \"drug text\": NaN,\r\n",
      "    \"credit check\": 35,\r\n",
      "    \"backround checks\": NaN,\r\n",
      "    \"drug testing\": 44,\r\n",
      "    \"drug screens\": NaN,\r\n",
      "    \"previously worked\": NaN,\r\n",
      "    \"screening process\": NaN,\r\n",
      "    \"social security\": NaN,\r\n",
      "    \"driving record\": 94,\r\n",
      "    \"backgrounds\": NaN,\r\n",
      "    \"random drug tests\": 57,\r\n",
      "    \"screening\": NaN,\r\n",
      "    \"drug screening\": 134,\r\n",
      "    \"social media\": NaN,\r\n",
      "    \"mouth\": NaN,\r\n",
      "    \"pre employment drug screening\": NaN\r\n",
      "}\r\n",
      "MRR: 0.015741333766030093\r\n",
      "\r\n",
      "Concept: person / nan\r\n",
      "seeds: ['felons', 'criminals', 'disabled', 'drug addicts', 'high schoolers', 'misdemeanor', 'pregnant', 'students', 'seniors']\r\n",
      "{\r\n",
      "    \"pregnant\": -1,\r\n",
      "    \"felony\": NaN,\r\n",
      "    \"seniors\": -1,\r\n",
      "    \"high school students\": NaN,\r\n",
      "    \"high schoolers\": -1,\r\n",
      "    \"disabled\": -1,\r\n",
      "    \"felony record\": NaN,\r\n",
      "    \"felonys\": NaN,\r\n",
      "    \"school students\": NaN,\r\n",
      "    \"disabilities\": NaN,\r\n",
      "    \"misdemeanor charges\": NaN,\r\n",
      "    \"ex felons\": NaN,\r\n",
      "    \"high school graduate\": NaN,\r\n",
      "    \"high school\": NaN,\r\n",
      "    \"pregnant women\": 361,\r\n",
      "    \"schoolers\": NaN,\r\n",
      "    \"seniority\": NaN,\r\n",
      "    \"misdemeanor theft\": NaN,\r\n",
      "    \"sex offenders\": 6,\r\n",
      "    \"felonies\": NaN,\r\n",
      "    \"felons\": -1,\r\n",
      "    \"senior citizens\": 30,\r\n",
      "    \"misdemeanor\": -1,\r\n",
      "    \"criminals\": -1,\r\n",
      "    \"convicted felons\": NaN\r\n",
      "}\r\n",
      "MRR: 0.01126500461680517\r\n",
      "\r\n",
      "Concept: hire_prerequisite / qualification\r\n",
      "seeds: ['hiring age', 'bachelors degree', 'prior experience', 'working permit', 'heavy lifting']\r\n",
      "{\r\n",
      "    \"gpa\": NaN,\r\n",
      "    \"college degree\": 14,\r\n",
      "    \"ged\": NaN,\r\n",
      "    \"workers permit\": 179,\r\n",
      "    \"working permit\": -1,\r\n",
      "    \"diploma\": 205,\r\n",
      "    \"high school diploma\": 30,\r\n",
      "    \"hs diploma\": 243,\r\n",
      "    \"degrees\": NaN,\r\n",
      "    \"birth certificate\": 192,\r\n",
      "    \"high school education\": 77,\r\n",
      "    \"bachelor degree\": 6\r\n",
      "}\r\n",
      "MRR: 0.02765488954960228\r\n",
      "\r\n",
      "Concept: shifts / work shift\r\n",
      "seeds: ['night shift', 'dinner shift', 'early morning shift', '8 hour shift']\r\n",
      "{\r\n",
      "    \"3rd shift\": 31,\r\n",
      "    \"12 hour shifts\": 50,\r\n",
      "    \"night shifts\": 4,\r\n",
      "    \"open 24 hours\": NaN,\r\n",
      "    \"weekend shift\": 2\r\n",
      "}\r\n",
      "MRR: 0.1604516129032258\r\n",
      "\r\n",
      "Concept: schedule / nan\r\n",
      "seeds: ['christmas eve', 'early morning', 'hoilday', '7 days', 'saturday', 'sunday', 'weekend']\r\n",
      "{\r\n",
      "    \"saturday\": -1,\r\n",
      "    \"saturdays\": NaN,\r\n",
      "    \"federal holidays\": NaN,\r\n",
      "    \"early morning\": -1,\r\n",
      "    \"open 7 days\": NaN,\r\n",
      "    \"christmas eve\": -1,\r\n",
      "    \"weekend\": -1,\r\n",
      "    \"sunday\": -1,\r\n",
      "    \"weekends\": NaN,\r\n",
      "    \"hoildays\": NaN\r\n",
      "}\r\n",
      "MRR: 0.0\r\n",
      "\r\n",
      "Concept: employee_type / nan\r\n",
      "seeds: ['full time', 'part time', 'seasonal']\r\n",
      "{\r\n",
      "    \"seasonal positions\": NaN,\r\n",
      "    \"ft\": NaN,\r\n",
      "    \"season\": NaN,\r\n",
      "    \"seasonal workers\": NaN,\r\n",
      "    \"seasons\": NaN,\r\n",
      "    \"seasonal employees\": 183,\r\n",
      "    \"fulltime\": NaN,\r\n",
      "    \"seasonal\": -1,\r\n",
      "    \"seasonals\": NaN\r\n",
      "}\r\n",
      "MRR: 0.0006830601092896175\r\n",
      "\r\n"
     ]
    },
    {
     "name": "stdout",
     "output_type": "stream",
     "text": [
      "Concept: onboarding_steps / onboarding process steps\r\n",
      "seeds: ['orientation', 'introduction', 'workstation', 'training', 'team lunch']\r\n",
      "{\r\n",
      "    \"training classes\": 179,\r\n",
      "    \"training program\": 54,\r\n",
      "    \"training\": -1,\r\n",
      "    \"orientation\": -1\r\n",
      "}\r\n",
      "MRR: 0.012052555348644734\r\n",
      "\r\n",
      "--- Summary ---\r\n",
      "{\r\n",
      "  \"company\": 0.0005168180947036233,\r\n",
      "  \"dress_code\": 0.01826566099506606,\r\n",
      "  \"job_position\": 0.0012077294685990338,\r\n",
      "  \"pay_schedule\": 0.07473544973544974,\r\n",
      "  \"benefits\": 0.010131751498160353,\r\n",
      "  \"compensation\": 0.0,\r\n",
      "  \"payment_option\": 0.017543859649122806,\r\n",
      "  \"background_screening\": 0.015741333766030093,\r\n",
      "  \"person\": 0.01126500461680517,\r\n",
      "  \"hire_prerequisite\": 0.02765488954960228,\r\n",
      "  \"shifts\": 0.1604516129032258,\r\n",
      "  \"schedule\": 0.0,\r\n",
      "  \"employee_type\": 0.0006830601092896175,\r\n",
      "  \"onboarding_steps\": 0.012052555348644734\r\n",
      "}\r\n"
     ]
    }
   ],
   "source": [
    "# Use script\n",
    "!python eval_entities.py \\\n",
    "-b $base_dir/data/indeed-benchmark \\\n",
    "-pred $base_dir/data/$data_ac/intermediate/concept_corr_100.csv"
   ]
  },
  {
   "cell_type": "code",
   "execution_count": 265,
   "metadata": {},
   "outputs": [
    {
     "name": "stdout",
     "output_type": "stream",
     "text": [
      "Concept: company / company\n",
      "seeds: ['walmart', 'amazon', 'subway', 'microsoft', 'target']\n",
      "{\n",
      "    \"geico\": 30,\n",
      "    \"goodwill industries\": NaN,\n",
      "    \"dunkin' donuts\": NaN,\n",
      "    \"wells fargo\": 50,\n",
      "    \"sonic drive-in\": NaN,\n",
      "    \"domino's\": NaN,\n",
      "    \"pizza hut\": 9,\n",
      "    \"frito-lay\": NaN,\n",
      "    \"marshalls\": 35,\n",
      "    \"fedex ground\": NaN,\n",
      "    \"whole foods market\": NaN,\n",
      "    \"burger king\": 32,\n",
      "    \"target\": -1,\n",
      "    \"tim hortons\": NaN,\n",
      "    \"t.j. maxx\": NaN,\n",
      "    \"cracker barrel\": 20,\n",
      "    \"subways\": NaN,\n",
      "    \"ulta\": NaN,\n",
      "    \"olive garden\": 12,\n",
      "    \"kroger\": 7,\n",
      "    \"spectrum\": 18,\n",
      "    \"verizon\": 38,\n",
      "    \"united states postal service\": NaN,\n",
      "    \"frito\": NaN,\n",
      "    \"taco bell\": 37,\n",
      "    \"mcdonald\": NaN,\n",
      "    \"dick's sporting goods\": NaN,\n",
      "    \"training\": 92,\n",
      "    \"ups\": NaN,\n",
      "    \"panera bread\": 11,\n",
      "    \"lowe's\": NaN,\n",
      "    \"walgreens\": 6,\n",
      "    \"primark\": NaN,\n",
      "    \"mcdonalds\": 14,\n",
      "    \"foot locker\": NaN,\n",
      "    \"applebee's\": NaN,\n",
      "    \"chipotle\": 34,\n",
      "    \"dollar tree\": 17,\n",
      "    \"t-mobile\": NaN,\n",
      "    \"costco wholesale\": NaN,\n",
      "    \"cvs\": 25,\n",
      "    \"little caesars\": 74,\n",
      "    \"best buy\": 13,\n",
      "    \"kohl's\": NaN,\n",
      "    \"allied universal security services, systems and solutions\": NaN,\n",
      "    \"marriott international, inc.\": NaN,\n",
      "    \"chilis\": NaN,\n",
      "    \"cvs health\": NaN,\n",
      "    \"costco\": 2,\n",
      "    \"tj maxx\": 49,\n",
      "    \"enterprise holdings\": NaN,\n",
      "    \"at&t\": 41,\n",
      "    \"electric\": NaN,\n",
      "    \"fedex\": 36,\n",
      "    \"whataburger\": NaN,\n",
      "    \"mcdonald's\": NaN,\n",
      "    \"the wendy's company\": NaN,\n",
      "    \"panera\": NaN,\n",
      "    \"planet fitness\": 65,\n",
      "    \"sam's club\": NaN,\n",
      "    \"menards\": 24,\n",
      "    \"walmart\": -1,\n",
      "    \"teleperformance\": NaN,\n",
      "    \"alorica\": NaN,\n",
      "    \"amazon\": -1,\n",
      "    \"macy's\": NaN,\n",
      "    \"kfc\": 19,\n",
      "    \"kroger stores\": NaN,\n",
      "    \"publix\": 8,\n",
      "    \"american eagle outfitters\": NaN,\n",
      "    \"starbucks\": 10,\n",
      "    \"burlington stores\": NaN,\n",
      "    \"subway\": -1,\n",
      "    \"sitel\": 42,\n",
      "    \"home depot\": 5,\n",
      "    \"ross dress for less\": NaN,\n",
      "    \"hobby lobby\": 73,\n",
      "    \"aldi\": NaN,\n",
      "    \"concentrix\": NaN,\n",
      "    \"chipotle mexican grill\": NaN,\n",
      "    \"lowes\": NaN,\n",
      "    \"instacart\": NaN,\n",
      "    \"old navy\": 16,\n",
      "    \"dunkin donuts\": 43,\n",
      "    \"petsmart\": 40,\n",
      "    \"safeway\": 22,\n",
      "    \"the home depot\": NaN,\n",
      "    \"quiktrip\": NaN,\n",
      "    \"doordash\": NaN,\n",
      "    \"wendys\": NaN,\n",
      "    \"chick-fil-a\": NaN,\n",
      "    \"pepsi\": 39,\n",
      "    \"chili's\": NaN,\n",
      "    \"victoria's secret\": NaN,\n",
      "    \"dollar general\": 3,\n",
      "    \"family dollar\": 15,\n",
      "    \"pepsico\": 53,\n",
      "    \"barnes & noble\": NaN,\n",
      "    \"jcpenney\": 21,\n",
      "    \"g4s\": 44,\n",
      "    \"heb\": NaN,\n",
      "    \"amazon.com\": NaN,\n",
      "    \"ihop\": 26,\n",
      "    \"frito lay\": 33,\n",
      "    \"dd\": 84\n",
      "}\n",
      "MRR: 0.030340620401210584\n",
      "\n",
      "Concept: dress_code / dress code\n",
      "seeds: ['business casual', 'uniform', 'hair color', 'tattoos', 'facial hair', 'shoes', 'piercings']\n",
      "{\n",
      "    \"hats\": NaN,\n",
      "    \"red shirts\": NaN,\n",
      "    \"unnatural hair colors\": NaN,\n",
      "    \"wear jeans\": NaN,\n",
      "    \"ponytail\": NaN,\n",
      "    \"shirts\": NaN,\n",
      "    \"unnatural colored hair\": NaN,\n",
      "    \"uniform policy\": 23,\n",
      "    \"face tattoos\": NaN,\n",
      "    \"shorts\": NaN,\n",
      "    \"shirt\": NaN,\n",
      "    \"black slacks\": NaN,\n",
      "    \"hair color\": -1,\n",
      "    \"mustaches\": NaN,\n",
      "    \"black jeans\": NaN,\n",
      "    \"jewelry\": NaN,\n",
      "    \"hair net\": NaN,\n",
      "    \"wear fake nails\": NaN,\n",
      "    \"dress shirts\": NaN,\n",
      "    \"hairnets\": NaN,\n",
      "    \"nose rings\": 9,\n",
      "    \"business casual\": -1,\n",
      "    \"attire\": NaN,\n",
      "    \"uniform shirts\": NaN,\n",
      "    \"non slip shoes\": NaN,\n",
      "    \"professional\": 21,\n",
      "    \"hair colors\": NaN,\n",
      "    \"strict dress code\": 48,\n",
      "    \"dress pants\": NaN,\n",
      "    \"uniforms\": NaN,\n",
      "    \"scrubs\": 58,\n",
      "    \"facial piercings\": 3,\n",
      "    \"lab coats\": NaN,\n",
      "    \"casual dress code\": NaN,\n",
      "    \"hat\": NaN,\n",
      "    \"brown pants\": NaN,\n",
      "    \"pants\": NaN,\n",
      "    \"jeans\": NaN,\n",
      "    \"natural colored hair\": NaN,\n",
      "    \"piercings\": -1,\n",
      "    \"shoes\": -1,\n",
      "    \"color hair\": 35,\n",
      "    \"fake nails\": 8,\n",
      "    \"colorful hair\": 62,\n",
      "    \"unnatural hair color\": NaN,\n",
      "    \"uniform\": -1,\n",
      "    \"blue collar\": NaN,\n",
      "    \"wear shorts\": NaN,\n",
      "    \"polo shirts\": NaN,\n",
      "    \"facial hair\": -1,\n",
      "    \"casual\": NaN,\n",
      "    \"natural colors\": 78,\n",
      "    \"skirts\": NaN,\n",
      "    \"resistant shoes\": NaN,\n",
      "    \"black pants\": NaN\n",
      "}\n",
      "MRR: 0.015431376310749822\n",
      "\n",
      "Concept: job_position / job position\n",
      "seeds: ['delivery driver', 'store manager', 'cashier', 'package handler', 'sales associate', 'barista', 'dishwasher']\n",
      "{\n",
      "    \"cashier\": -1,\n",
      "    \"servers\": NaN,\n",
      "    \"shift leader\": 10,\n",
      "    \"truck drivers\": NaN,\n",
      "    \"server\": NaN\n",
      "}\n",
      "MRR: 0.025\n",
      "\n",
      "Concept: pay_schedule / pay period\n",
      "seeds: ['weekly', 'biweekly', 'friday', 'saturday']\n",
      "{\n",
      "    \"tuesdays\": NaN,\n",
      "    \"week\": NaN,\n",
      "    \"paid biweekly\": NaN,\n",
      "    \"bi weekly\": 3,\n",
      "    \"tuesday\": NaN,\n",
      "    \"paid weekly\": NaN,\n",
      "    \"weeks\": NaN,\n",
      "    \"friday\": -1,\n",
      "    \"paid bi weekly\": NaN,\n",
      "    \"fridays\": NaN,\n",
      "    \"biweekly\": -1,\n",
      "    \"weekly\": -1\n",
      "}\n",
      "MRR: 0.037037037037037035\n",
      "\n",
      "Concept: benefits / benefits\n",
      "seeds: ['health insurance', 'flexible schedule', '401k', 'paid vacation', 'sick leave', 'vision insurance']\n",
      "{\n",
      "    \"health insurance\": -1,\n",
      "    \"tuition assistance\": NaN,\n",
      "    \"health care\": 2,\n",
      "    \"health\": 7,\n",
      "    \"retirement\": NaN,\n",
      "    \"health coverage\": NaN,\n",
      "    \"retirement plan\": 74,\n",
      "    \"relocation\": NaN,\n",
      "    \"sick days\": 10,\n",
      "    \"monthly bonus\": NaN,\n",
      "    \"paid vacations\": 65,\n",
      "    \"vacation\": NaN,\n",
      "    \"401k\": -1,\n",
      "    \"life insurance\": 8,\n",
      "    \"relocate\": NaN,\n",
      "    \"schooling\": NaN,\n",
      "    \"pto\": NaN,\n",
      "    \"health benefits\": NaN,\n",
      "    \"breakfast\": NaN,\n",
      "    \"pension\": 63,\n",
      "    \"401 k\": NaN,\n",
      "    \"free lunch\": NaN,\n",
      "    \"sick leave\": -1,\n",
      "    \"prescription drugs\": NaN,\n",
      "    \"discounts\": NaN,\n",
      "    \"discount\": NaN,\n",
      "    \"vacations\": NaN,\n",
      "    \"healthcare\": 1,\n",
      "    \"401k plan\": NaN,\n",
      "    \"health plans\": NaN\n",
      "}\n",
      "MRR: 0.0708380847269736\n",
      "\n",
      "Concept: compensation / compensation\n",
      "seeds: ['base pay', 'stock options', 'benefits', 'overtime pay', 'bonus']\n",
      "{\n",
      "    \"benfits\": NaN,\n",
      "    \"benefits\": -1,\n",
      "    \"compensation\": NaN\n",
      "}\n",
      "MRR: 0.0\n",
      "\n",
      "Concept: payment_option / nan\n",
      "seeds: ['checks', 'direct deposit', 'prepaid card']\n",
      "{\n",
      "    \"prepaid card\": -1,\n",
      "    \"direct deposits\": 13,\n",
      "    \"checks\": -1,\n",
      "    \"paycheck\": 14,\n",
      "    \"direct deposit\": -1,\n",
      "    \"paper checks\": NaN\n",
      "}\n",
      "MRR: 0.04945054945054945\n",
      "\n",
      "Concept: background_screening / background screening\n",
      "seeds: ['drug test', 'criminal background check', 'employment verification']\n",
      "{\n",
      "    \"drug tests\": 82,\n",
      "    \"mouth swap\": NaN,\n",
      "    \"hair sample\": NaN,\n",
      "    \"criminal background\": 8,\n",
      "    \"criminal backgrounds\": NaN,\n",
      "    \"random drug testing\": NaN,\n",
      "    \"credit check\": 18,\n",
      "    \"backround checks\": NaN,\n",
      "    \"cheek swab\": NaN,\n",
      "    \"background checks\": NaN,\n",
      "    \"credit score\": NaN,\n",
      "    \"hair follicle test\": NaN,\n",
      "    \"saliva\": NaN,\n",
      "    \"saliva drug test\": NaN,\n",
      "    \"saliva test\": NaN,\n",
      "    \"social media\": 54,\n",
      "    \"social security number\": 50,\n",
      "    \"drug screening\": NaN,\n",
      "    \"drug screens\": NaN,\n",
      "    \"swab test\": NaN,\n",
      "    \"urine drug screen\": NaN,\n",
      "    \"credit history\": 89,\n",
      "    \"criminal records\": NaN,\n",
      "    \"urine drug test\": NaN,\n",
      "    \"drugs\": 40,\n",
      "    \"drug screen\": NaN,\n",
      "    \"previous employer\": NaN,\n",
      "    \"previous employment\": 34,\n",
      "    \"screening\": NaN,\n",
      "    \"drug text\": NaN,\n",
      "    \"drug test\": -1,\n",
      "    \"mouth swab\": NaN,\n",
      "    \"blood test\": NaN,\n",
      "    \"background report\": NaN,\n",
      "    \"urine\": NaN,\n",
      "    \"previous employers\": NaN,\n",
      "    \"credit report\": 63,\n",
      "    \"backround check\": NaN,\n",
      "    \"mouth\": NaN,\n",
      "    \"dui\": 29,\n",
      "    \"previously worked\": NaN,\n",
      "    \"urine sample\": NaN,\n",
      "    \"background check\": 14,\n",
      "    \"screen\": NaN,\n",
      "    \"test\": 11,\n",
      "    \"drug tested\": NaN,\n",
      "    \"follicle test\": NaN,\n",
      "    \"urine tests\": NaN,\n",
      "    \"alcohol\": NaN,\n",
      "    \"mouth swabs\": NaN,\n",
      "    \"social security\": NaN,\n",
      "    \"urine testing\": NaN,\n",
      "    \"criminal record\": 10,\n",
      "    \"previous jobs\": NaN,\n",
      "    \"drugged tested\": NaN,\n",
      "    \"criminal background checks\": NaN,\n",
      "    \"testing\": NaN,\n",
      "    \"screening process\": NaN,\n",
      "    \"urine test\": NaN,\n",
      "    \"credit checks\": NaN,\n",
      "    \"drug testing\": NaN,\n",
      "    \"random drug tests\": 75,\n",
      "    \"cannabis\": NaN,\n",
      "    \"drug screened\": NaN,\n",
      "    \"criminal history\": 1,\n",
      "    \"random tests\": NaN,\n",
      "    \"criminal background check\": -1,\n",
      "    \"driving record\": 6,\n",
      "    \"random drug test\": 80,\n",
      "    \"pre employment drug screening\": NaN,\n",
      "    \"drug\": 77,\n",
      "    \"backgrounds\": NaN,\n",
      "    \"backround\": NaN\n",
      "}\n",
      "MRR: 0.025564751628249813\n",
      "\n",
      "Concept: person / nan\n",
      "seeds: ['felons', 'criminals', 'disabled', 'drug addicts', 'high schoolers', 'misdemeanor', 'pregnant', 'students', 'seniors']\n",
      "{\n",
      "    \"disabilities\": NaN,\n",
      "    \"high schoolers\": -1,\n",
      "    \"felony record\": NaN,\n",
      "    \"high school\": 55,\n",
      "    \"felonies\": 44,\n",
      "    \"pregnant women\": 25,\n",
      "    \"seniors\": -1,\n",
      "    \"disabled\": -1,\n",
      "    \"misdemeanor theft\": NaN,\n",
      "    \"pregnant\": -1,\n",
      "    \"sex offenders\": NaN,\n",
      "    \"convicted felons\": NaN,\n",
      "    \"felonys\": NaN,\n",
      "    \"high school graduate\": NaN,\n",
      "    \"schoolers\": NaN,\n",
      "    \"seniority\": NaN,\n",
      "    \"misdemeanor\": -1,\n",
      "    \"felons\": -1,\n",
      "    \"criminals\": -1,\n",
      "    \"felony\": NaN,\n",
      "    \"high school students\": NaN,\n",
      "    \"senior citizens\": 57,\n",
      "    \"misdemeanor charges\": NaN,\n",
      "    \"ex felons\": 50,\n",
      "    \"school students\": NaN\n",
      "}\n",
      "MRR: 0.006580719475456317\n",
      "\n",
      "Concept: hire_prerequisite / qualification\n",
      "seeds: ['hiring age', 'bachelors degree', 'prior experience', 'working permit', 'heavy lifting']\n",
      "{\n",
      "    \"birth certificate\": NaN,\n",
      "    \"working permit\": -1,\n",
      "    \"high school diploma\": NaN,\n",
      "    \"gpa\": NaN,\n",
      "    \"bachelor degree\": NaN,\n",
      "    \"degrees\": NaN,\n",
      "    \"diploma\": 76,\n",
      "    \"high school education\": NaN,\n",
      "    \"college degree\": 97,\n",
      "    \"hs diploma\": NaN,\n",
      "    \"workers permit\": NaN,\n",
      "    \"ged\": NaN\n",
      "}\n",
      "MRR: 0.0021333793715779606\n",
      "\n",
      "Concept: shifts / work shift\n",
      "seeds: ['night shift', 'dinner shift', 'early morning shift', '8 hour shift']\n",
      "{\n",
      "    \"weekend shift\": 12,\n",
      "    \"12 hour shifts\": 17,\n",
      "    \"3rd shift\": 37,\n",
      "    \"night shifts\": 10,\n",
      "    \"open 24 hours\": NaN\n",
      "}\n",
      "MRR: 0.05383677795442501\n",
      "\n",
      "Concept: schedule / nan\n",
      "seeds: ['christmas eve', 'early morning', 'hoilday', '7 days', 'saturday', 'sunday', 'weekend']\n",
      "{\n",
      "    \"open 7 days\": NaN,\n",
      "    \"early morning\": -1,\n",
      "    \"hoildays\": NaN,\n",
      "    \"saturday\": -1,\n",
      "    \"christmas eve\": -1,\n",
      "    \"saturdays\": NaN,\n",
      "    \"sunday\": -1,\n",
      "    \"federal holidays\": NaN,\n",
      "    \"weekends\": NaN,\n",
      "    \"weekend\": -1\n",
      "}\n",
      "MRR: 0.0\n",
      "\n",
      "Concept: employee_type / nan\n",
      "seeds: ['full time', 'part time', 'seasonal']\n",
      "{\n",
      "    \"seasonal\": -1,\n",
      "    \"seasons\": NaN,\n",
      "    \"seasonals\": NaN,\n",
      "    \"seasonal employees\": 10,\n",
      "    \"ft\": NaN,\n",
      "    \"fulltime\": NaN,\n",
      "    \"season\": NaN,\n",
      "    \"seasonal workers\": 64,\n",
      "    \"seasonal positions\": NaN\n",
      "}\n",
      "MRR: 0.014453125\n",
      "\n",
      "Concept: onboarding_steps / onboarding process steps\n",
      "seeds: ['orientation', 'introduction', 'workstation', 'training', 'team lunch']\n",
      "{\n",
      "    \"training\": -1,\n",
      "    \"training classes\": 38,\n",
      "    \"orientation\": -1,\n",
      "    \"training program\": NaN\n",
      "}\n",
      "MRR: 0.013157894736842105\n",
      "\n",
      "--- Summary ---\n",
      "{\n",
      "  \"company\": 0.030340620401210584,\n",
      "  \"dress_code\": 0.015431376310749822,\n",
      "  \"job_position\": 0.025,\n",
      "  \"pay_schedule\": 0.037037037037037035,\n",
      "  \"benefits\": 0.0708380847269736,\n",
      "  \"compensation\": 0.0,\n",
      "  \"payment_option\": 0.04945054945054945,\n",
      "  \"background_screening\": 0.025564751628249813,\n",
      "  \"person\": 0.006580719475456317,\n",
      "  \"hire_prerequisite\": 0.0021333793715779606,\n",
      "  \"shifts\": 0.05383677795442501,\n",
      "  \"schedule\": 0.0,\n",
      "  \"employee_type\": 0.014453125,\n",
      "  \"onboarding_steps\": 0.013157894736842105\n",
      "}\n"
     ]
    }
   ],
   "source": [
    "# Use script\n",
    "!python eval_entities.py \\\n",
    "-b $base_dir/data/indeed-benchmark \\\n",
    "-pred $base_dir/data/$data_ac/intermediate/concept_knn_100.csv\n"
   ]
  },
  {
   "cell_type": "markdown",
   "metadata": {},
   "source": [
    "# LM probes"
   ]
  },
  {
   "cell_type": "markdown",
   "metadata": {},
   "source": [
    "## LM correlation-based"
   ]
  },
  {
   "cell_type": "markdown",
   "metadata": {},
   "source": [
    "### BERT"
   ]
  },
  {
   "cell_type": "code",
   "execution_count": 226,
   "metadata": {},
   "outputs": [],
   "source": [
    "# corpus_path = os.path.join(base_dir, f'data/{data_ac}/intermediate/sentences_with_company.json')\n",
    "\n",
    "# with open(corpus_path, 'r') as f:\n",
    "#     sent_dicts = [json.loads(l) for l in f]"
   ]
  },
  {
   "cell_type": "code",
   "execution_count": 227,
   "metadata": {},
   "outputs": [
    {
     "name": "stderr",
     "output_type": "stream",
     "text": [
      "Some weights of the model checkpoint at bert-base-uncased were not used when initializing BertForMaskedLM: ['cls.seq_relationship.weight', 'cls.seq_relationship.bias']\n",
      "- This IS expected if you are initializing BertForMaskedLM from the checkpoint of a model trained on another task or with another architecture (e.g. initializing a BertForSequenceClassification model from a BertForPretraining model).\n",
      "- This IS NOT expected if you are initializing BertForMaskedLM from the checkpoint of a model that you expect to be exactly identical (initializing a BertForSequenceClassification model from a BertForSequenceClassification model).\n"
     ]
    }
   ],
   "source": [
    "lm_probe = LMProbe()"
   ]
  },
  {
   "cell_type": "code",
   "execution_count": 228,
   "metadata": {
    "scrolled": true
   },
   "outputs": [],
   "source": [
    "# input_file_path = os.path.join(base_dir, f'data/{data_ac}/intermediate/sent_segmentation.txt')\n",
    "# ent_freq, dedup_context = get_masked_contexts(input_file_path)\n",
    "\n",
    "corpus_path = os.path.join(base_dir, f'data/{data_ac}/intermediate/sentences_with_company.json')\n",
    "embed_num_path = os.path.join(base_dir, f'data/{data_ac}/intermediate/BERTembednum+seeds.txt')\n",
    "\n",
    "entities, dedup_context = get_masked_contexts(corpus_path, embed_num_path)"
   ]
  },
  {
   "cell_type": "code",
   "execution_count": 229,
   "metadata": {},
   "outputs": [
    {
     "data": {
      "text/plain": [
       "(8064, 8064, 7921)"
      ]
     },
     "execution_count": 229,
     "metadata": {},
     "output_type": "execute_result"
    }
   ],
   "source": [
    "len(entities), len(set(entities)), len(dedup_context)"
   ]
  },
  {
   "cell_type": "code",
   "execution_count": 230,
   "metadata": {},
   "outputs": [
    {
     "data": {
      "text/plain": [
       "[2372, 4132, 1144, 314, 55]"
      ]
     },
     "execution_count": 230,
     "metadata": {},
     "output_type": "execute_result"
    }
   ],
   "source": [
    "all_ents_tokenized = [tuple(lm_probe.tokenizer.tokenize(e)) for e in entities]\n",
    "all_ents_tokenized = list(set(all_ents_tokenized))\n",
    "[sum([len(e_t) == _l for e_t in all_ents_tokenized]) for _l in (1,2,3,4,5)]"
   ]
  },
  {
   "cell_type": "code",
   "execution_count": 247,
   "metadata": {},
   "outputs": [],
   "source": [
    "## TODO: keep rank in output\n",
    "\n",
    "def entity_expansion_corr(seed_concepts_path=seed_aligned_concepts_path,\n",
    "                          all_contexts=dedup_context, \n",
    "                          all_ents_tokenized=all_ents_tokenized, \n",
    "                          lm_probe=lm_probe,\n",
    "                          max_allowed_ngrams=3,\n",
    "                          max_contexts=50,\n",
    "                          top_k=100):\n",
    "    if lm_probe is None:\n",
    "        lm_probe = LMProbe()\n",
    "        \n",
    "    seed_concepts_df = load_seed_aligned_concepts(seed_concepts_path)\n",
    "    \n",
    "#     if contexts is None:\n",
    "#         try:\n",
    "#             contexts = dedup_context[entity]\n",
    "#         except KeyError:\n",
    "#             print(f'\"{entity}\" not an extracted entity!')\n",
    "#             return None\n",
    "\n",
    "    _out_records = []\n",
    "\n",
    "    for i, (a_concept, u_concept, gnrl, seed_instances) in tqdm(seed_concepts_df.iterrows(), total=seed_concepts_df.shape[0]):\n",
    "        _expand_set = set()\n",
    "        _expand_records = []\n",
    "        \n",
    "        for _inst in seed_instances:\n",
    "            print(f'{a_concept} :: {_inst}')\n",
    "            try:\n",
    "                contexts = all_contexts[_inst]\n",
    "            except KeyError:\n",
    "                print(f'\"{_inst}\" not an extracted entity!')\n",
    "                continue\n",
    "            if len(contexts) < 2:\n",
    "                print(f'\"{_inst}\" only have {len(contexts)} context')\n",
    "                continue\n",
    "\n",
    "            _entity_pieces = lm_probe.tokenizer.tokenize(_inst)\n",
    "            if len(_entity_pieces) > max_allowed_ngrams:\n",
    "                print(f'{_entity_pieces} too many word pieces (max {max_allowed_ngrams})')\n",
    "                continue\n",
    "\n",
    "            entity2probs = defaultdict(list)\n",
    "\n",
    "            for _context in contexts[:max_contexts]:\n",
    "                for n_grams in range(1, max_allowed_ngrams+1):\n",
    "                    _ctxt = _context.replace('[MASK]', '[MASK]' + ' [MASK]' * (n_grams-1))\n",
    "                    _ctxt = '[CLS] ' + _ctxt + ' [SEP]'\n",
    "                    _cands = [e_t for e_t in all_ents_tokenized if len(e_t) == n_grams]\n",
    "                    _cand_scores = lm_probe.score_candidates(_ctxt, _cands)\n",
    "\n",
    "                    for _d in _cand_scores:\n",
    "                        _c = ' '.join(_d['cand']).replace(' ##', '')\n",
    "                        _s = _d['score']\n",
    "                        entity2probs[_c].append(_s)\n",
    "\n",
    "        #     print('entity2probs:', len(entity2probs), len(entity2probs[entity]))\n",
    "            for _e, _ss in entity2probs.items():\n",
    "                assert len(_ss) == len(entity2probs[_inst]), \\\n",
    "                    f'entity: {_e} | {lm_probe.tokenizer.tokenize(_e)}\\n\\\n",
    "                    len(_ss) = {len(_ss)}\\n\\\n",
    "                    len(entity2probs[\"{entity}\"]) = {len(entity2probs[entity])}'\n",
    "\n",
    "            _target_ss = entity2probs[_inst]\n",
    "            _target_ss = _target_ss / np.sum(_target_ss)\n",
    "\n",
    "        #     print(_target_ss.shape, _target_ss)\n",
    "\n",
    "            mean_l = [(_e, np.mean(_ss)) for _e, _ss in entity2probs.items()]\n",
    "            mean_l.sort(key=lambda p : p[-1], reverse=True)\n",
    "            kl_l = [(_e, entropy(_target_ss, _ss)) for _e, _ss in entity2probs.items()]\n",
    "            kl_l.sort(key=lambda p : p[-1], reverse=False)\n",
    "            pearson_l = [(_e, pearsonr(_target_ss, _ss)[0]) for _e, _ss in entity2probs.items()]\n",
    "            pearson_l.sort(key=lambda p : p[-1], reverse=True)\n",
    "\n",
    "            entity2ranks = defaultdict(list)\n",
    "            entity2scores = defaultdict(dict)\n",
    "            for i, (_e, _s) in enumerate(mean_l):\n",
    "                entity2ranks[_e].append(i)\n",
    "                entity2scores[_e][\"mean\"] = _s\n",
    "            for i, (_e, _s) in enumerate(kl_l):\n",
    "                entity2ranks[_e].append(i)\n",
    "                entity2scores[_e][\"kl\"] = _s\n",
    "            for i, (_e, _s) in enumerate(pearson_l):\n",
    "                entity2ranks[_e].append(i)\n",
    "                entity2scores[_e][\"pearson\"] = _s\n",
    "            # To simile top-k set intersection, keep the highest rank of _e among each criteria\n",
    "            entity_overall_ranks = [(_e, max(_ranks)) for _e, _ranks in entity2ranks.items()]\n",
    "            entity_overall_ranks.sort(key=lambda p : p[-1])\n",
    "            entity_overall_ranks_dict = dict(entity_overall_ranks)\n",
    "#             # Now, the top-k is for the final selection, not for each criteria\n",
    "            sel_entities = [_e for _e, _ in entity_overall_ranks[:top_k]]\n",
    "\n",
    "#             ints_mean_l = [p for p in mean_l if p[0] in sel_entities]\n",
    "#             ints_kl_l = [p for p in kl_l if p[0] in sel_entities]\n",
    "#             ints_pearson_l = [p for p in pearson_l if p[0] in sel_entities]\n",
    "\n",
    "#             return {\n",
    "#                 \"entity2probs\": entity2probs,\n",
    "#                 \"mean_l\": mean_l,\n",
    "#                 \"kl_l\": kl_l,\n",
    "#                 \"pearson_l\": pearson_l,\n",
    "#                 \"sel_entities\": sel_entities,\n",
    "#                 \"ints_mean_l\": ints_mean_l,\n",
    "#                 \"ints_kl_l\": ints_kl_l,\n",
    "#                 \"ints_pearson_l\": ints_pearson_l,\n",
    "#             }\n",
    "\n",
    "            for _e in sel_entities:\n",
    "                if (_e in _expand_set) or (_e in seed_instances):\n",
    "                    continue\n",
    "                _expand_set.add(_e)\n",
    "                _d = dict(entity2scores[_e])\n",
    "                _d['max_rank'] = entity_overall_ranks_dict[_e]\n",
    "                _expand_records.append((_e, _d))\n",
    "\n",
    "#         for _inst in seed_instances:\n",
    "#             _expand_set.discard(_inst)\n",
    "\n",
    "        for _e, _d in _expand_records:\n",
    "            _out_d = dict(_d)\n",
    "            _out_d['concept'] = a_concept\n",
    "            _out_d['neighbor'] = _e\n",
    "            _out_records.append(_out_d)\n",
    "\n",
    "    return _out_records"
   ]
  },
  {
   "cell_type": "markdown",
   "metadata": {},
   "source": [
    "#### full run & save"
   ]
  },
  {
   "cell_type": "code",
   "execution_count": 248,
   "metadata": {},
   "outputs": [],
   "source": [
    "corr_expansion_out_path = os.path.join(base_dir, f'data/{data_ac}/intermediate/concept_corr_100.csv')"
   ]
  },
  {
   "cell_type": "code",
   "execution_count": null,
   "metadata": {},
   "outputs": [],
   "source": [
    "entity_expansion_corr(max_contexts=5)"
   ]
  },
  {
   "cell_type": "code",
   "execution_count": 263,
   "metadata": {
    "scrolled": true
   },
   "outputs": [
    {
     "name": "stdout",
     "output_type": "stream",
     "text": [
      "Some weights of the model checkpoint at bert-base-uncased were not used when initializing BertForMaskedLM: ['cls.seq_relationship.weight', 'cls.seq_relationship.bias']\n",
      "- This IS expected if you are initializing BertForMaskedLM from the checkpoint of a model trained on another task or with another architecture (e.g. initializing a BertForSequenceClassification model from a BertForPretraining model).\n",
      "- This IS NOT expected if you are initializing BertForMaskedLM from the checkpoint of a model that you expect to be exactly identical (initializing a BertForSequenceClassification model from a BertForSequenceClassification model).\n",
      "  0%|                                                    | 0/14 [00:00<?, ?it/s]company :: walmart\n",
      "company :: amazon\n",
      "company :: subway\n",
      "company :: microsoft\n",
      "company :: target\n",
      "  7%|███▏                                        | 1/14 [01:13<16:01, 73.94s/it]dress_code :: business casual\n",
      "dress_code :: uniform\n",
      "dress_code :: hair color\n",
      "dress_code :: tattoos\n",
      "dress_code :: facial hair\n",
      "dress_code :: shoes\n",
      "dress_code :: piercings\n",
      " 14%|██████▎                                     | 2/14 [03:16<17:43, 88.60s/it]job_position :: delivery driver\n",
      "job_position :: store manager\n",
      "job_position :: cashier\n",
      "job_position :: package handler\n",
      "job_position :: sales associate\n",
      "job_position :: barista\n",
      "job_position :: dishwasher\n",
      " 21%|█████████▍                                  | 3/14 [05:17<18:00, 98.21s/it]pay_schedule :: weekly\n",
      "pay_schedule :: biweekly\n",
      "pay_schedule :: friday\n",
      "pay_schedule :: saturday\n",
      " 29%|████████████▌                               | 4/14 [06:27<14:56, 89.66s/it]benefits :: health insurance\n",
      "benefits :: flexible schedule\n",
      "benefits :: 401k\n",
      "benefits :: paid vacation\n",
      "benefits :: sick leave\n",
      "benefits :: vision insurance\n",
      " 36%|███████████████▋                            | 5/14 [08:02<13:42, 91.37s/it]compensation :: base pay\n",
      "compensation :: stock options\n",
      "compensation :: benefits\n",
      "compensation :: overtime pay\n",
      "compensation :: bonus\n",
      " 43%|██████████████████▊                         | 6/14 [09:24<11:49, 88.67s/it]payment_option :: checks\n",
      "payment_option :: direct deposit\n",
      "payment_option :: prepaid card\n",
      " 50%|██████████████████████                      | 7/14 [10:06<08:41, 74.55s/it]background_screening :: drug test\n",
      "background_screening :: criminal background check\n",
      "background_screening :: employment verification\n",
      " 57%|█████████████████████████▏                  | 8/14 [10:44<06:20, 63.48s/it]person :: felons\n",
      "person :: criminals\n",
      "person :: disabled\n",
      "person :: drug addicts\n",
      "person :: high schoolers\n",
      "person :: misdemeanor\n",
      "['mis', '##de', '##me', '##anor'] too many word pieces (max 3)\n",
      "person :: pregnant\n",
      "person :: students\n",
      "person :: seniors\n",
      " 64%|████████████████████████████▎               | 9/14 [12:34<06:27, 77.49s/it]hire_prerequisite :: hiring age\n",
      "hire_prerequisite :: bachelors degree\n",
      "hire_prerequisite :: prior experience\n",
      "hire_prerequisite :: working permit\n",
      "hire_prerequisite :: heavy lifting\n",
      " 71%|██████████████████████████████▋            | 10/14 [13:44<05:01, 75.42s/it]shifts :: night shift\n",
      "shifts :: dinner shift\n",
      "shifts :: early morning shift\n",
      "shifts :: 8 hour shift\n",
      " 79%|█████████████████████████████████▊         | 11/14 [14:28<03:17, 65.96s/it]schedule :: christmas eve\n",
      "schedule :: early morning\n",
      "schedule :: hoilday\n",
      "schedule :: 7 days\n",
      "schedule :: saturday\n",
      "schedule :: sunday\n",
      "schedule :: weekend\n",
      " 86%|████████████████████████████████████▊      | 12/14 [16:11<02:33, 76.86s/it]employee_type :: full time\n",
      "employee_type :: part time\n",
      "employee_type :: seasonal\n",
      " 93%|███████████████████████████████████████▉   | 13/14 [17:01<01:08, 68.90s/it]onboarding_steps :: orientation\n",
      "onboarding_steps :: introduction\n",
      "onboarding_steps :: workstation\n",
      "onboarding_steps :: training\n",
      "onboarding_steps :: team lunch\n",
      "\"team lunch\" only have 1 context\n",
      "100%|███████████████████████████████████████████| 14/14 [17:41<00:00, 75.82s/it]\n"
     ]
    }
   ],
   "source": [
    "# Use scripts\n",
    "!python compute_EE_corr.py \\\n",
    "-d $base_dir/data/$data_ac/intermediate \\\n",
    "-b $base_dir/data/indeed-benchmark \\\n",
    "-o $base_dir/data/$data_ac/intermediate/concept_corr_100.csv \\\n",
    "-ng 3 \\\n",
    "-ct 50 \\\n",
    "-top_k 100"
   ]
  },
  {
   "cell_type": "markdown",
   "metadata": {},
   "source": [
    "#### observations"
   ]
  },
  {
   "cell_type": "code",
   "execution_count": 20,
   "metadata": {},
   "outputs": [
    {
     "data": {
      "application/vnd.jupyter.widget-view+json": {
       "model_id": "5220cc3e4090474b913a67258c0d98e2",
       "version_major": 2,
       "version_minor": 0
      },
      "text/plain": [
       "HBox(children=(FloatProgress(value=0.0, max=50.0), HTML(value='')))"
      ]
     },
     "metadata": {},
     "output_type": "display_data"
    },
    {
     "name": "stdout",
     "output_type": "stream",
     "text": [
      "\n"
     ]
    }
   ],
   "source": [
    "_entity = 'health insurance'\n",
    "_results = entity_expansion_multiways(_entity)"
   ]
  },
  {
   "cell_type": "code",
   "execution_count": 216,
   "metadata": {},
   "outputs": [
    {
     "data": {
      "text/plain": [
       "20"
      ]
     },
     "execution_count": 216,
     "metadata": {},
     "output_type": "execute_result"
    }
   ],
   "source": [
    "len(_results['sel_entities'])"
   ]
  },
  {
   "cell_type": "code",
   "execution_count": 217,
   "metadata": {
    "scrolled": true
   },
   "outputs": [
    {
     "data": {
      "text/plain": [
       "['insurance',\n",
       " 'health insurance',\n",
       " 'life insurance',\n",
       " 'property insurance',\n",
       " 'disability insurance',\n",
       " 'health care insurance',\n",
       " 'personal life',\n",
       " 'car insurance',\n",
       " 'offer health insurance',\n",
       " 'vision insurance',\n",
       " 'medical insurance',\n",
       " 'dental insurance',\n",
       " 'social life',\n",
       " 'healthcare',\n",
       " 'vehicle insurance',\n",
       " 'health care',\n",
       " 'social services',\n",
       " 'financial services',\n",
       " 'personal property',\n",
       " 'insurance company']"
      ]
     },
     "execution_count": 217,
     "metadata": {},
     "output_type": "execute_result"
    }
   ],
   "source": [
    "_results['sel_entities']"
   ]
  },
  {
   "cell_type": "code",
   "execution_count": 218,
   "metadata": {},
   "outputs": [
    {
     "data": {
      "application/vnd.jupyter.widget-view+json": {
       "model_id": "42782ed502f8477b8db39b8079ec0903",
       "version_major": 2,
       "version_minor": 0
      },
      "text/plain": [
       "HBox(children=(FloatProgress(value=0.0, max=50.0), HTML(value='')))"
      ]
     },
     "metadata": {},
     "output_type": "display_data"
    },
    {
     "name": "stdout",
     "output_type": "stream",
     "text": [
      "\n"
     ]
    }
   ],
   "source": [
    "_entity = 'paid vacation'\n",
    "_results = entity_expansion_multiways(_entity)"
   ]
  },
  {
   "cell_type": "code",
   "execution_count": 219,
   "metadata": {
    "scrolled": false
   },
   "outputs": [
    {
     "data": {
      "text/plain": [
       "(20,\n",
       " ['paid vacation',\n",
       "  'free food',\n",
       "  'extra hours',\n",
       "  'personal life',\n",
       "  'additional training',\n",
       "  'pay rent',\n",
       "  'extra cash',\n",
       "  'employment',\n",
       "  'extra money',\n",
       "  'regular employee',\n",
       "  'actual training',\n",
       "  'free market',\n",
       "  'home office',\n",
       "  'paid weekly',\n",
       "  'lunch break',\n",
       "  'employment contract',\n",
       "  'paid vacations',\n",
       "  'starting pay',\n",
       "  'training class',\n",
       "  'cash office'])"
      ]
     },
     "execution_count": 219,
     "metadata": {},
     "output_type": "execute_result"
    }
   ],
   "source": [
    "len(_results['sel_entities']), _results['sel_entities']"
   ]
  },
  {
   "cell_type": "code",
   "execution_count": 220,
   "metadata": {},
   "outputs": [
    {
     "data": {
      "text/plain": [
       "[('paid vacation', 0.0044874584203954135),\n",
       " ('free food', 0.0030260901631086125),\n",
       " ('employment', 0.0026738146242238693),\n",
       " ('additional training', 0.002321403750532552),\n",
       " ('pay rent', 0.0016830003481619713),\n",
       " ('extra money', 0.0012204012291167322),\n",
       " ('extra hours', 0.0012082061174470255),\n",
       " ('paid vacations', 0.00120581120557009),\n",
       " ('personal life', 0.001053836581509607),\n",
       " ('extra cash', 0.0009903957854880568),\n",
       " ('free market', 0.0007903035967739137),\n",
       " ('employment contract', 0.0007457378170482977),\n",
       " ('regular employee', 0.0007120051084749063),\n",
       " ('actual training', 0.0006806927853699615),\n",
       " ('home office', 0.0006772145559134888),\n",
       " ('paid weekly', 0.0006510896439229592),\n",
       " ('lunch break', 0.0006262294878335945),\n",
       " ('starting pay', 0.0005959591850205348),\n",
       " ('training class', 0.0005751933163302262),\n",
       " ('cash office', 0.0005385432788353982)]"
      ]
     },
     "execution_count": 220,
     "metadata": {},
     "output_type": "execute_result"
    }
   ],
   "source": [
    "_results['ints_mean_l']"
   ]
  },
  {
   "cell_type": "code",
   "execution_count": 222,
   "metadata": {},
   "outputs": [
    {
     "data": {
      "text/plain": [
       "[('paid vacation', 0.0),\n",
       " ('paid weekly', 0.3553680094673442),\n",
       " ('regular employee', 0.5651236328627899),\n",
       " ('starting pay', 0.6403464447016876),\n",
       " ('home office', 0.702709761379911),\n",
       " ('extra hours', 0.7882322979791239),\n",
       " ('cash office', 0.8216374067668454),\n",
       " ('additional training', 0.8231515801756707),\n",
       " ('free food', 0.8235410993620799),\n",
       " ('extra cash', 0.8406818348940776),\n",
       " ('lunch break', 0.8554870473017729),\n",
       " ('extra money', 0.8671142026312799),\n",
       " ('actual training', 0.8861361628894645),\n",
       " ('free market', 0.8934745945926472),\n",
       " ('personal life', 0.905080634158609),\n",
       " ('pay rent', 0.9191154476332102),\n",
       " ('training class', 0.9618010548607787),\n",
       " ('employment', 1.0064966364964134),\n",
       " ('employment contract', 1.0666759660272174),\n",
       " ('paid vacations', 1.07702367185203)]"
      ]
     },
     "execution_count": 222,
     "metadata": {},
     "output_type": "execute_result"
    }
   ],
   "source": [
    "_results['ints_kl_l']"
   ]
  },
  {
   "cell_type": "code",
   "execution_count": 221,
   "metadata": {},
   "outputs": [
    {
     "data": {
      "text/plain": [
       "[('paid vacation', 1.0),\n",
       " ('paid weekly', 0.6898791401226259),\n",
       " ('personal life', 0.6470476793642793),\n",
       " ('home office', 0.6137368598658344),\n",
       " ('employment', 0.5939260343586834),\n",
       " ('regular employee', 0.5934659341843702),\n",
       " ('free food', 0.5814593375358278),\n",
       " ('actual training', 0.5171393046252428),\n",
       " ('extra hours', 0.48931553441132725),\n",
       " ('cash office', 0.4649905535739707),\n",
       " ('training class', 0.45922641771917155),\n",
       " ('additional training', 0.453205530878079),\n",
       " ('starting pay', 0.4452037644119071),\n",
       " ('employment contract', 0.439553353761904),\n",
       " ('pay rent', 0.4366836227238857),\n",
       " ('lunch break', 0.43380180618257874),\n",
       " ('extra cash', 0.4258937516890552),\n",
       " ('extra money', 0.4070871841193142),\n",
       " ('paid vacations', 0.4019298655642553),\n",
       " ('free market', 0.40088368759801624)]"
      ]
     },
     "execution_count": 221,
     "metadata": {},
     "output_type": "execute_result"
    }
   ],
   "source": [
    "_results['ints_pearson_l']"
   ]
  },
  {
   "cell_type": "code",
   "execution_count": 223,
   "metadata": {
    "scrolled": true
   },
   "outputs": [
    {
     "data": {
      "text/plain": [
       "[('Both medical and dental insurance is provided as well as [MASK]',\n",
       "  6.578818802360679e-06,\n",
       "  0.00015682175491799882,\n",
       "  0.0018069056141044838),\n",
       " ('No the [MASK] tome will be put on your final pay check',\n",
       "  9.477934070825445e-05,\n",
       "  0.00179112735515401,\n",
       "  0.01783658171282455),\n",
       " (\"A new policy came out apparently saying that you do n't get a week of [MASK] in the first year , if you start after June 1st .\",\n",
       "  0.4888658700418125,\n",
       "  1.0,\n",
       "  0.08162912113546698),\n",
       " ('It is very true that dollar tree do nt pay out your owed [MASK] when you are no longer working for them .',\n",
       "  0.0022030048390930365,\n",
       "  0.0038430425562789427,\n",
       "  0.6893102387382053),\n",
       " ('But they offer no [MASK] and no sick leave .',\n",
       "  0.026742685344147428,\n",
       "  0.05176876375876567,\n",
       "  0.25499081609946683),\n",
       " ('They give [MASK] and sick time , health and dental insurance , 401k , life insurance',\n",
       "  0.9423141194865929,\n",
       "  0.027970293703116284,\n",
       "  0.8023113287226477),\n",
       " ('only assistant managers and general managers received [MASK] pay and sick pay',\n",
       "  0.23182283459346942,\n",
       "  0.07829888924495584,\n",
       "  0.2731482003476367),\n",
       " ('For full time : [MASK] , Sick time , PTO .',\n",
       "  0.24500194640098488,\n",
       "  0.7806978269661807,\n",
       "  0.25867774481661543),\n",
       " ('Once being hired a year [MASK]', 1.4996146523943373e-06, 0.0, 0.0),\n",
       " ('Chase has disability benefits , along with [MASK] ,',\n",
       "  0.0037400833352556565,\n",
       "  0.04770937225247506,\n",
       "  0.10147697923671468),\n",
       " ('health medical , Dental , etc . ; Training ; 401 K , [MASK] .',\n",
       "  0.0030263398273425797,\n",
       "  0.017775233716358415,\n",
       "  0.8941691680646828),\n",
       " ('No [MASK] , no health insurance , nothing !',\n",
       "  0.002597835448280048,\n",
       "  0.03854780193934496,\n",
       "  0.09310450978417306),\n",
       " ('Such as , health care and [MASK] .',\n",
       "  0.0002824426112442476,\n",
       "  0.010915291304438643,\n",
       "  0.019053301564483566),\n",
       " ('I never took any vacations day , I m sure it was nt a [MASK]',\n",
       "  1.976805280428444e-05,\n",
       "  0.0001259792190053521,\n",
       "  0.000134409594121865),\n",
       " ('No [MASK] after a year .',\n",
       "  0.003960501793724179,\n",
       "  0.06561470134708737,\n",
       "  0.08128028100733416),\n",
       " ('Each store is independently owned , so you may have a [MASK] system at your store .',\n",
       "  0.0032324147746924593,\n",
       "  0.014717367664602299,\n",
       "  0.10989044586843134),\n",
       " ('I had to work for a whole year or twelve calendar months before getting a [MASK] time .',\n",
       "  0.30591641551090204,\n",
       "  0.152602106761983,\n",
       "  0.07817021447081042),\n",
       " (\"publix offers [MASK] and sick day but I have n't work long enough to use the benefit .\",\n",
       "  0.23402681471194037,\n",
       "  0.07906629652148292,\n",
       "  0.050667007914498345),\n",
       " ('You receive about a $ 1 . 00 raise , but also you receive [MASK] , sick leave , and guaranteed 2 days off .',\n",
       "  0.3446607765500741,\n",
       "  0.13353111458553363,\n",
       "  0.3233051276691392),\n",
       " ('Vision , Dental , [MASK] , 401 K',\n",
       "  0.0005212524718306747,\n",
       "  0.007993453839044417,\n",
       "  0.017517814788640586),\n",
       " ('After one year and depending on the number of hours you work will depend on how many [MASK] hours / days you will receive .',\n",
       "  0.3262417605927743,\n",
       "  0.1185306531558913,\n",
       "  0.26145063044661676),\n",
       " ('Paid Vacation accumulated over the weeks , non [MASK] was also available',\n",
       "  0.14561309892795496,\n",
       "  0.014946605749923899,\n",
       "  0.20467539264024986),\n",
       " (\"Part time does n't get any [MASK] .\",\n",
       "  0.004818101540371127,\n",
       "  0.014704183796864093,\n",
       "  0.05149127556073687),\n",
       " (\"I did n't qualify for [MASK]\",\n",
       "  0.0,\n",
       "  0.00013833383264332213,\n",
       "  2.200855882550398e-05),\n",
       " ('401k , [MASK] , sick time , medical , dental , vision , bonuses and other incentives',\n",
       "  0.06065868847182519,\n",
       "  0.21872545029662457,\n",
       "  1.0),\n",
       " ('Eligible workers gain access to healthcare coverage , 401 ( k ) retirement plans , sick leave , personal days , and [MASK] , flexible spending accounts , and life insurance options',\n",
       "  0.1725192364944353,\n",
       "  0.007755238396722399,\n",
       "  0.06916860209127944),\n",
       " ('None we do nt recieve [MASK] .',\n",
       "  0.00011854472739062176,\n",
       "  0.0005104552857867912,\n",
       "  0.0010478279669635128),\n",
       " ('Managers receive [MASK] and one free meal a day .',\n",
       "  0.11762298466492851,\n",
       "  0.13096663181722554,\n",
       "  0.39809365947980163),\n",
       " ('401k plan medical and dental [MASK] raise after 90 days',\n",
       "  0.0019179289900465575,\n",
       "  0.041361645716974614,\n",
       "  0.17611902760501727),\n",
       " ('Yes for full time there is a week [MASK]',\n",
       "  6.786200812762701e-05,\n",
       "  0.0003338251452162233,\n",
       "  0.00044098957539795696),\n",
       " ('crew members do not receive [MASK]',\n",
       "  7.044122238550834e-06,\n",
       "  0.0026251276287963398,\n",
       "  0.0008307958414410135),\n",
       " ('You have to work 40 hours to get 1 hour of [MASK] time',\n",
       "  0.16521148326526203,\n",
       "  0.6045480850184173,\n",
       "  0.34156337793211217),\n",
       " ('All the managers and the asst managers got a [MASK]',\n",
       "  1.2137215756066526e-05,\n",
       "  4.405567898891748e-05,\n",
       "  0.000350441742950686),\n",
       " ('No there is not a [MASK]',\n",
       "  4.056053445523595e-06,\n",
       "  2.1407120805241987e-05,\n",
       "  8.023251704585847e-05),\n",
       " (\"U do n't get any [MASK] time are sick time at all\",\n",
       "  0.019711473143794515,\n",
       "  0.006265320269293292,\n",
       "  0.05247547496634478),\n",
       " ('Only managers are full time which means no [MASK]',\n",
       "  3.752162015695963e-05,\n",
       "  0.0035209274956039724,\n",
       "  0.0007831260955182229),\n",
       " ('Unless you are a full time career employee , you do not get any [MASK] time',\n",
       "  1.0,\n",
       "  0.3411526648071449,\n",
       "  0.7082231131298945),\n",
       " (\"If you just went past your 90 day mark then i do n't see why you would n't be able to , but keep in mind , you do not get a [MASK] , and most places will most likely let you go because they ca n't leave a vacant spot for almost two months .\",\n",
       "  0.11149749877991277,\n",
       "  0.017488687437352903,\n",
       "  0.03329519275389829),\n",
       " ('On your 5 year anniversary you will get 500 dollars or a [MASK] .',\n",
       "  0.018360237747319093,\n",
       "  0.0246834791755306,\n",
       "  0.16996853648783594),\n",
       " ('Yes bonuses an [MASK]',\n",
       "  4.2854114280321426e-05,\n",
       "  0.0004991132662695892,\n",
       "  0.0010505137273542167),\n",
       " ('80 hrs of [MASK] per year .',\n",
       "  0.0005614906462792095,\n",
       "  0.0022177594685687013,\n",
       "  0.000172809475151608),\n",
       " ('You do need to be a shift manager for at least a year before you get your [MASK] ( at least in my experience with a franchise location )',\n",
       "  0.012128350336706043,\n",
       "  0.04237491910517959,\n",
       "  0.05330261507094856),\n",
       " ('Store managers   15 + an hour with guaranteed overtime and a week of [MASK] .',\n",
       "  0.6706696047262527,\n",
       "  0.39104137513535925,\n",
       "  0.1529266104320991),\n",
       " ('6 [MASK] days .',\n",
       "  0.0009005486490436924,\n",
       "  0.002073908147796622,\n",
       "  0.005603226966475566),\n",
       " ('menards does not offer maternity leave only [MASK] .',\n",
       "  0.0080900575648695,\n",
       "  0.004675857911426127,\n",
       "  0.012895954396048733),\n",
       " ('How can you get a [MASK] on under 40 hours ? ? ? ?',\n",
       "  0.002360870884724027,\n",
       "  0.07419871925889387,\n",
       "  0.05708052606396038),\n",
       " ('None I barely had hours to get a [MASK]',\n",
       "  3.6816430912121303e-06,\n",
       "  9.8261197820452e-06,\n",
       "  2.154213247477965e-05),\n",
       " ('There is no [MASK] , however they are lenient about your schedule',\n",
       "  0.0018703822220601277,\n",
       "  0.355697917601864,\n",
       "  0.09015526800849852),\n",
       " (\"During my time working there I did n't hear or know about [MASK] .\",\n",
       "  0.0006690955461960481,\n",
       "  0.02424166740629815,\n",
       "  0.022162387860887593),\n",
       " (\"If you do n't have enough hours for [MASK] you can still go on vacation without payment .\",\n",
       "  0.022655908428214726,\n",
       "  0.13233636096964954,\n",
       "  0.02674802956927661)]"
      ]
     },
     "execution_count": 223,
     "metadata": {},
     "output_type": "execute_result"
    }
   ],
   "source": [
    "entity2probs = _results['entity2probs']\n",
    "_ser1 = entity2probs['paid vacation']\n",
    "_ser2 = entity2probs['training class']\n",
    "_ser3 = entity2probs['cash office']\n",
    "\n",
    "_ser1 = (_ser1 - min(_ser1)) / (max(_ser1) - min(_ser1))\n",
    "_ser2 = (_ser2 - min(_ser2)) / (max(_ser2) - min(_ser2))\n",
    "_ser3 = (_ser3 - min(_ser3)) / (max(_ser3) - min(_ser3))\n",
    "\n",
    "list(zip(dedup_context['paid vacation'], _ser1, _ser2, _ser3))"
   ]
  },
  {
   "cell_type": "code",
   "execution_count": null,
   "metadata": {},
   "outputs": [],
   "source": []
  },
  {
   "cell_type": "code",
   "execution_count": null,
   "metadata": {
    "scrolled": true
   },
   "outputs": [],
   "source": [
    "_entity = 'flexible schedule'\n",
    "_results = entity_expansion_multiways(_entity)"
   ]
  },
  {
   "cell_type": "code",
   "execution_count": null,
   "metadata": {},
   "outputs": [],
   "source": [
    "len(_results['mean_set'] & _results['kl_set'] & _results['pearson_set']), \\\n",
    "_results['mean_set'] & _results['kl_set'] & _results['pearson_set']"
   ]
  },
  {
   "cell_type": "code",
   "execution_count": null,
   "metadata": {},
   "outputs": [],
   "source": [
    "_results['ints_mean_l']"
   ]
  },
  {
   "cell_type": "code",
   "execution_count": null,
   "metadata": {},
   "outputs": [],
   "source": [
    "_results['ints_pearson_l']"
   ]
  },
  {
   "cell_type": "code",
   "execution_count": null,
   "metadata": {},
   "outputs": [],
   "source": [
    "entity2probs = _results['entity2probs']\n",
    "_ser1 = entity2probs['flexible schedule']\n",
    "_ser2 = entity2probs['model']\n",
    "_ser3 = entity2probs['low level']\n",
    "\n",
    "_ser1 = (_ser1 - min(_ser1)) / (max(_ser1) - min(_ser1))\n",
    "_ser2 = (_ser2 - min(_ser2)) / (max(_ser2) - min(_ser2))\n",
    "_ser3 = (_ser3 - min(_ser3)) / (max(_ser3) - min(_ser3))\n",
    "\n",
    "list(zip(dedup_context['flexible schedule'], _ser1, _ser2, _ser3))"
   ]
  },
  {
   "cell_type": "code",
   "execution_count": null,
   "metadata": {},
   "outputs": [],
   "source": [
    "lm_probe.fill_multi_mask(\"[CLS] They have a very [MASK] [MASK] for most departments and if your schedule does n't fit , you 'll more than likely just be moved . [SEP]\", topk=20)"
   ]
  },
  {
   "cell_type": "code",
   "execution_count": null,
   "metadata": {
    "scrolled": true
   },
   "outputs": [],
   "source": [
    "_entity = 'black jeans'\n",
    "mean_set, kl_set, pearson_set = entity_expansion_multiways(_entity)"
   ]
  },
  {
   "cell_type": "code",
   "execution_count": null,
   "metadata": {
    "scrolled": true
   },
   "outputs": [],
   "source": [
    "len(mean_set & kl_set & pearson_set), mean_set & kl_set & pearson_set"
   ]
  },
  {
   "cell_type": "code",
   "execution_count": null,
   "metadata": {},
   "outputs": [],
   "source": [
    "_entity = 'walmart'\n",
    "mean_set, kl_set, pearson_set = entity_expansion_multiways(_entity)"
   ]
  },
  {
   "cell_type": "code",
   "execution_count": null,
   "metadata": {},
   "outputs": [],
   "source": [
    "len(mean_set & kl_set & pearson_set), mean_set & kl_set & pearson_set"
   ]
  },
  {
   "cell_type": "code",
   "execution_count": null,
   "metadata": {},
   "outputs": [],
   "source": []
  },
  {
   "cell_type": "markdown",
   "metadata": {},
   "source": [
    "### GPT2"
   ]
  },
  {
   "cell_type": "code",
   "execution_count": 10,
   "metadata": {},
   "outputs": [],
   "source": [
    "lm_probe_gpt2 = LMProbe_GPT2()"
   ]
  },
  {
   "cell_type": "code",
   "execution_count": 13,
   "metadata": {},
   "outputs": [],
   "source": [
    "def entity_expansion_multiways_GPT2(entity, \n",
    "                                    contexts=None, \n",
    "                                    entities=entities, \n",
    "                                    lm_probe=lm_probe_gpt2, \n",
    "                                    top_k=20):\n",
    "    if lm_probe is None:\n",
    "        lm_probe = LMProbe_GPT2()\n",
    "    if contexts is None:\n",
    "        contexts = dedup_context[entity]\n",
    "    \n",
    "    # test: speed up x100\n",
    "    entities = entities[::100]\n",
    "    \n",
    "    entity2probs = defaultdict(list)\n",
    "\n",
    "    for _context in tqdm(contexts[:50]):\n",
    "        _cand_scores = lm_probe.score_candidates(_context, entities)\n",
    "\n",
    "        for _d in _cand_scores:\n",
    "            _c = _d['cand']\n",
    "            _s = _d['score']\n",
    "            entity2probs[_c].append(_s)\n",
    "    \n",
    "#     print('entity2probs:', len(entity2probs), len(entity2probs[entity]))\n",
    "    for _e, _ss in entity2probs.items():\n",
    "        assert len(_ss) == len(entity2probs[entity]), \\\n",
    "            f'entity: {_e} | {lm_probe.tokenizer.tokenize(_e)}; len(_ss): {len(_ss)}'\n",
    "    \n",
    "    _target_ss = entity2probs[entity]\n",
    "    _target_ss = _target_ss / np.sum(_target_ss)\n",
    "    \n",
    "    mean_l = [(_e, np.mean(_ss)) for _e, _ss in entity2probs.items()]\n",
    "    mean_l.sort(key=lambda p : p[-1], reverse=True)\n",
    "    kl_l = [(_e, entropy(_target_ss, _ss)) for _e, _ss in entity2probs.items()]\n",
    "    kl_l.sort(key=lambda p : p[-1], reverse=False)\n",
    "    pearson_l = [(_e, pearsonr(_target_ss, _ss)[0]) for _e, _ss in entity2probs.items()]\n",
    "    pearson_l.sort(key=lambda p : p[-1], reverse=True)\n",
    "    \n",
    "    entity2ranks = defaultdict(list)\n",
    "    for i, (_e, _s) in enumerate(mean_l):\n",
    "        entity2ranks[_e].append(i)\n",
    "    for i, (_e, _s) in enumerate(kl_l):\n",
    "        entity2ranks[_e].append(i)\n",
    "    for i, (_e, _s) in enumerate(pearson_l):\n",
    "        entity2ranks[_e].append(i)\n",
    "    # To simile top-k set intersection, keep the highest rank of _e among each criteria\n",
    "    entity_overall_ranks = [(_e, max(_ranks)) for _e, _ranks in entity2ranks.items()]\n",
    "    entity_overall_ranks.sort(key=lambda p : p[-1])\n",
    "    # Now, the top-k is for the final selection, not for each criteria\n",
    "    sel_entities = [_e for _e, _ in entity_overall_ranks[:top_k]]\n",
    "    \n",
    "#     mean_set = set([_e for _e, _s in mean_l[:top_k]])\n",
    "#     kl_set = set([_e for _e, _s in kl_l[:top_k]])\n",
    "#     pearson_set = set([_e for _e, _s in pearson_l[:top_k]])\n",
    "    \n",
    "#     sel_entities = mean_set & kl_set & pearson_set\n",
    "    ints_mean_l = [p for p in mean_l if p[0] in sel_entities]\n",
    "    ints_kl_l = [p for p in kl_l if p[0] in sel_entities]\n",
    "    ints_pearson_l = [p for p in pearson_l if p[0] in sel_entities]\n",
    "    \n",
    "    return {\n",
    "        \"entity2probs\": entity2probs,\n",
    "        \"mean_l\": mean_l,\n",
    "        \"kl_l\": kl_l,\n",
    "        \"pearson_l\": pearson_l,\n",
    "#         \"mean_set\": mean_set,\n",
    "#         \"kl_set\": kl_set,\n",
    "#         \"pearson_set\": pearson_set,\n",
    "        \"sel_entities\": sel_entities,\n",
    "        \"ints_mean_l\": ints_mean_l,\n",
    "        \"ints_kl_l\": ints_kl_l,\n",
    "        \"ints_pearson_l\": ints_pearson_l,\n",
    "    }\n",
    "    "
   ]
  },
  {
   "cell_type": "code",
   "execution_count": null,
   "metadata": {},
   "outputs": [],
   "source": [
    "_entity = 'health insurance'\n",
    "_results = entity_expansion_multiways_GPT2(_entity)"
   ]
  },
  {
   "cell_type": "code",
   "execution_count": null,
   "metadata": {},
   "outputs": [],
   "source": []
  },
  {
   "cell_type": "markdown",
   "metadata": {},
   "source": [
    "## BERT greedy-filling"
   ]
  },
  {
   "cell_type": "code",
   "execution_count": 380,
   "metadata": {},
   "outputs": [],
   "source": [
    "class LMProbe_PMI(object):\n",
    "    def __init__(self, model_name='bert-base-uncased', use_gpu=False):\n",
    "        self.device = torch.device('cuda' if torch.cuda.is_available() and use_gpu else 'cpu')\n",
    "        self.tokenizer = BertTokenizer.from_pretrained(model_name)\n",
    "        self.model = BertForMaskedLM.from_pretrained(model_name)\n",
    "        self.model.to(self.device)\n",
    "        self.model.eval()\n",
    "\n",
    "        self.mask_token = self.tokenizer.mask_token\n",
    "\n",
    "    def fill_multi_mask(self, input_txt, topk=3):\n",
    "        raise NotImplementedError\n",
    "    \n",
    "    def score_tail(self, input_txt, tail, head=None, head_len=None, head_first=True):\n",
    "        # input_txt: str, with [HEAD] for head and [TAIL] for tail \n",
    "        # tail: str, the tail entity \n",
    "        # head: str, the head entity \n",
    "        # head_len: int, the length of head entity\n",
    "        # Should only give head or head_len \n",
    "        # head_first: bool, whether the first [MASK] is the head \n",
    "        \n",
    "        assert (head is None) + (head_len is None) == 1, \\\n",
    "            f\"head = {head}, head_len = {head_len}\"\n",
    "        assert input_txt.count(\"[HEAD]\") == input_txt.count(\"[TAIL]\") == 1, \\\n",
    "            f\"Input string must have [HEAD] and [TAIL], got {input_txt}\"\n",
    "        \n",
    "        \n",
    "        tail_toks = self.tokenizer.tokenize(tail)\n",
    "        tail_len = len(tail_toks)\n",
    "        input_txt = input_txt.replace('[TAIL]', '[MASK]' + ' [MASK]' * (tail_len-1))\n",
    "        \n",
    "        if head is not None:\n",
    "            head_toks = self.tokenizer.tokenize(head)\n",
    "            head_len = len(head_toks)\n",
    "            print(head_toks, head_len)\n",
    "            input_txt = input_txt.replace('[HEAD]', head)\n",
    "        else:\n",
    "            input_txt = input_txt.replace('[HEAD]', '[MASK]' + ' [MASK]' * (head_len-1))\n",
    "        \n",
    "        tokenized_txt = self.tokenizer.tokenize(input_txt)\n",
    "        tokenized_txt = ['[CLS]'] + tokenized_txt + ['[SEP]']\n",
    "\n",
    "        indexed_tokens = self.tokenizer.convert_tokens_to_ids(tokenized_txt)\n",
    "        tokens_tensor = torch.tensor([indexed_tokens])\n",
    "        mask_indices = [i for i, x in enumerate(tokenized_txt) if x == \"[MASK]\"]\n",
    "        if head is not None:\n",
    "            # head is not [MASK] \n",
    "            tail_indices = mask_indices\n",
    "        elif head_first:\n",
    "            # head is [MASK] and first \n",
    "            tail_indices = mask_indices[head_len:]\n",
    "        else:\n",
    "            # head is [MASK] and second \n",
    "            tail_indices = mask_indices[:tail_len]\n",
    "        print(tokenized_txt, tail_indices)\n",
    "        \n",
    "        segment_idx = tokens_tensor * 0\n",
    "        tokens_tensor = tokens_tensor.to(self.device)\n",
    "        segments_tensors = segment_idx.to(self.device)\n",
    "\n",
    "        with torch.no_grad():\n",
    "            outputs = self.model(tokens_tensor, token_type_ids=segments_tensors)\n",
    "            predictions = outputs[0]\n",
    "\n",
    "        probs = torch.softmax(predictions, dim=-1)[0]\n",
    "        probs = probs.detach().cpu().numpy()\n",
    "        \n",
    "        _scores = []\n",
    "        tail_tok_ids = self.tokenizer.convert_tokens_to_ids(tail_toks)\n",
    "        for i, token_id in zip(tail_indices, tail_tok_ids):\n",
    "            _scores.append(probs[i, token_id].item())\n",
    "        score = gmean(_scores)\n",
    "\n",
    "        return score"
   ]
  },
  {
   "cell_type": "code",
   "execution_count": 381,
   "metadata": {},
   "outputs": [],
   "source": [
    "class LMProbe_PMI_greedy(object):\n",
    "    def __init__(self, model_name='bert-base-uncased', use_gpu=False):\n",
    "        self.device = torch.device('cuda' if torch.cuda.is_available() and use_gpu else 'cpu')\n",
    "        self.tokenizer = BertTokenizer.from_pretrained(model_name)\n",
    "        self.model = BertForMaskedLM.from_pretrained(model_name)\n",
    "        self.model.to(self.device)\n",
    "        self.model.eval()\n",
    "\n",
    "        self.mask_token = self.tokenizer.mask_token\n",
    "\n",
    "    def fill_multi_mask(self, input_txt, topk=3):\n",
    "        raise NotImplementedError\n",
    "    \n",
    "    def score_tail(self, input_txt, tail, head=None, head_len=None, head_first=True):\n",
    "        # input_txt: str, with [HEAD] for head and [TAIL] for tail \n",
    "        # tail: str, the tail entity \n",
    "        # head: str, the head entity \n",
    "        # head_len: int, the length of head entity\n",
    "        # Should only give head or head_len \n",
    "        # head_first: bool, whether the first [MASK] is the head \n",
    "        \n",
    "        assert (head is None) + (head_len is None) == 1, \\\n",
    "            f\"head = {head}, head_len = {head_len}\"\n",
    "        assert input_txt.count(\"[HEAD]\") == input_txt.count(\"[TAIL]\") == 1, \\\n",
    "            f\"Input string must have [HEAD] and [TAIL], got {input_txt}\"\n",
    "                \n",
    "        tail_toks = self.tokenizer.tokenize(tail)\n",
    "        tail_len = len(tail_toks)\n",
    "        input_txt = input_txt.replace('[TAIL]', '[MASK]' + ' [MASK]' * (tail_len-1))\n",
    "        \n",
    "        if head is not None:\n",
    "            head_toks = self.tokenizer.tokenize(head)\n",
    "            head_len = len(head_toks)\n",
    "            print(head_toks, head_len)\n",
    "            input_txt = input_txt.replace('[HEAD]', head)\n",
    "        else:\n",
    "            input_txt = input_txt.replace('[HEAD]', '[MASK]' + ' [MASK]' * (head_len-1))\n",
    "        \n",
    "        tokenized_txt = self.tokenizer.tokenize(input_txt)\n",
    "        tokenized_txt = ['[CLS]'] + tokenized_txt + ['[SEP]']\n",
    "        mask_indices = [i for i, x in enumerate(tokenized_txt) if x == \"[MASK]\"]\n",
    "\n",
    "        if head is not None:\n",
    "            # head is not [MASK] \n",
    "            tail_indices = mask_indices\n",
    "        elif head_first:\n",
    "            # head is [MASK] and first \n",
    "            tail_indices = mask_indices[head_len:]\n",
    "        else:\n",
    "            # head is [MASK] and second \n",
    "            tail_indices = mask_indices[:tail_len]\n",
    "        \n",
    "        # Greedy filling \n",
    "        unfilled_indices = list(tail_indices)\n",
    "        scores = []\n",
    "        while len(unfilled_indices) > 0:\n",
    "            print(tokenized_txt, unfilled_indices)\n",
    "            \n",
    "            indexed_tokens = self.tokenizer.convert_tokens_to_ids(tokenized_txt)\n",
    "            tokens_tensor = torch.tensor([indexed_tokens])\n",
    "            \n",
    "            segment_idx = tokens_tensor * 0\n",
    "            tokens_tensor = tokens_tensor.to(self.device)\n",
    "            segments_tensors = segment_idx.to(self.device)\n",
    "\n",
    "            with torch.no_grad():\n",
    "                outputs = self.model(tokens_tensor, token_type_ids=segments_tensors)\n",
    "                predictions = outputs[0]\n",
    "\n",
    "            probs = torch.softmax(predictions, dim=-1)[0]\n",
    "            probs = probs.detach().cpu().numpy()\n",
    "\n",
    "            _tok_scores = []\n",
    "            tail_tok_ids = self.tokenizer.convert_tokens_to_ids(tail_toks)\n",
    "            for i, token_id in zip(tail_indices, tail_tok_ids):\n",
    "                if i not in unfilled_indices:\n",
    "                    continue\n",
    "                _score = probs[i, token_id].item()\n",
    "                _tok_scores.append((i, token_id, _score))\n",
    "                \n",
    "            _tok_scores.sort(key=lambda p : p[1], reverse=True)\n",
    "            _fill_idx, _fill_tok, _score = _tok_scores[0]\n",
    "            unfilled_indices.remove(_fill_idx)\n",
    "            scores.append(_score)\n",
    "            tokenized_txt[_fill_idx] = self.tokenizer.convert_ids_to_tokens(_fill_tok)\n",
    "        \n",
    "        return np.prod(scores)\n",
    "        "
   ]
  },
  {
   "cell_type": "code",
   "execution_count": 382,
   "metadata": {},
   "outputs": [
    {
     "name": "stderr",
     "output_type": "stream",
     "text": [
      "Some weights of the model checkpoint at bert-base-uncased were not used when initializing BertForMaskedLM: ['cls.seq_relationship.weight', 'cls.seq_relationship.bias']\n",
      "- This IS expected if you are initializing BertForMaskedLM from the checkpoint of a model trained on another task or with another architecture (e.g. initializing a BertForSequenceClassification model from a BertForPretraining model).\n",
      "- This IS NOT expected if you are initializing BertForMaskedLM from the checkpoint of a model that you expect to be exactly identical (initializing a BertForSequenceClassification model from a BertForSequenceClassification model).\n"
     ]
    }
   ],
   "source": [
    "lm_probe_greedy = LMProbe_PMI_greedy()"
   ]
  },
  {
   "cell_type": "code",
   "execution_count": 386,
   "metadata": {},
   "outputs": [
    {
     "name": "stdout",
     "output_type": "stream",
     "text": [
      "['microsoft'] 1\n",
      "['[CLS]', 'microsoft', 'hires', '[MASK]', '[MASK]', '.', '[SEP]'] [3, 4]\n",
      "['[CLS]', 'microsoft', 'hires', '[MASK]', 'engineers', '.', '[SEP]'] [3]\n"
     ]
    },
    {
     "data": {
      "text/plain": [
       "0.0002394940119523417"
      ]
     },
     "execution_count": 386,
     "metadata": {},
     "output_type": "execute_result"
    }
   ],
   "source": [
    "_sent = '[HEAD] hires [TAIL] .'\n",
    "\n",
    "lm_probe_greedy.score_tail(_sent, tail='software engineers', head='microsoft', head_first=True)"
   ]
  },
  {
   "cell_type": "code",
   "execution_count": 387,
   "metadata": {},
   "outputs": [
    {
     "name": "stdout",
     "output_type": "stream",
     "text": [
      "['target'] 1\n",
      "['[CLS]', 'target', 'hires', '[MASK]', '[MASK]', '.', '[SEP]'] [3, 4]\n",
      "['[CLS]', 'target', 'hires', '[MASK]', 'engineers', '.', '[SEP]'] [3]\n"
     ]
    },
    {
     "data": {
      "text/plain": [
       "5.490697362450423e-06"
      ]
     },
     "execution_count": 387,
     "metadata": {},
     "output_type": "execute_result"
    }
   ],
   "source": [
    "lm_probe_greedy.score_tail(_sent, tail='software engineers', head='target', head_first=True)"
   ]
  },
  {
   "cell_type": "code",
   "execution_count": 388,
   "metadata": {},
   "outputs": [
    {
     "name": "stdout",
     "output_type": "stream",
     "text": [
      "['[CLS]', '[MASK]', 'hires', '[MASK]', '[MASK]', '.', '[SEP]'] [3, 4]\n",
      "['[CLS]', '[MASK]', 'hires', '[MASK]', 'engineers', '.', '[SEP]'] [3]\n"
     ]
    },
    {
     "data": {
      "text/plain": [
       "8.044167127037733e-07"
      ]
     },
     "execution_count": 388,
     "metadata": {},
     "output_type": "execute_result"
    }
   ],
   "source": [
    "lm_probe_greedy.score_tail(_sent, tail='software engineers', head_len=1, head_first=True)"
   ]
  },
  {
   "cell_type": "code",
   "execution_count": null,
   "metadata": {},
   "outputs": [],
   "source": []
  },
  {
   "cell_type": "code",
   "execution_count": null,
   "metadata": {},
   "outputs": [],
   "source": []
  },
  {
   "cell_type": "code",
   "execution_count": null,
   "metadata": {},
   "outputs": [],
   "source": []
  },
  {
   "cell_type": "markdown",
   "metadata": {},
   "source": [
    "# Relation Extraction Baselines\n",
    "Currently only for single relation. TODO: include all relations"
   ]
  },
  {
   "cell_type": "markdown",
   "metadata": {},
   "source": [
    "## Null baseline - Cartesian product"
   ]
  },
  {
   "cell_type": "code",
   "execution_count": 200,
   "metadata": {},
   "outputs": [],
   "source": [
    "def full_Cartesian_RE(seed_concepts_path,\n",
    "                      seed_relations_path,\n",
    "                      concept_knn_path,\n",
    "                      relation,\n",
    "                      topk=None,\n",
    "                      dest=None,\n",
    "                      **kwargs):\n",
    "    \n",
    "    seed_concepts_df = load_seed_aligned_concepts(seed_concepts_path)\n",
    "    seed_relations_df = pd.read_csv(seed_relations_path)\n",
    "    relation_row = seed_relations_df[seed_relations_df['alignedRelationName'] == relation].iloc[0]\n",
    "    concept_knn_results = pd.read_csv(concept_knn_path)\n",
    "    \n",
    "    head_type = relation_row['domain']\n",
    "    tail_type = relation_row['range']\n",
    "    print(head_type, '\\t', tail_type)\n",
    "    seed_heads = seed_concepts_df[seed_concepts_df['alignedCategoryName'] == head_type]['seedInstances'].item()\n",
    "#     seed_heads = eval(list(seed_heads)[0])\n",
    "    seed_tails = seed_concepts_df[seed_concepts_df['alignedCategoryName'] == tail_type]['seedInstances'].item()\n",
    "#     seed_tails = eval(list(seed_tails)[0])\n",
    "    print('seed_heads:', seed_heads)\n",
    "    print('seed_tails:', seed_tails)\n",
    "\n",
    "    # Candidate heads / tails from concept knn \n",
    "    cand_heads_df = concept_knn_results[concept_knn_results['concept'] == head_type]\n",
    "    cand_tails_df = concept_knn_results[concept_knn_results['concept'] == tail_type]\n",
    "    cand_heads = [(_h, 1.0) for _h in seed_heads] + \\\n",
    "        list(zip(cand_heads_df['neighbor'].tolist(), cand_heads_df['sim'].tolist()))\n",
    "    cand_tails = [(_t, 1.0) for _t in seed_tails] + \\\n",
    "        list(zip(cand_tails_df['neighbor'].tolist(), cand_tails_df['sim'].tolist()))\n",
    "\n",
    "    if topk is not None:\n",
    "        cand_heads = cand_heads[:topk]\n",
    "        cand_tails = cand_tails[:topk]\n",
    "        \n",
    "    print('cand_heads:', list(zip(*cand_heads))[0])\n",
    "    print('cand_tails:', list(zip(*cand_tails))[0])\n",
    "    \n",
    "    out_rels = []\n",
    "    for _h, _hs in cand_heads:\n",
    "        for _t, _ts in cand_tails:\n",
    "            out_rels.append({\n",
    "                'head': _h, 'relation': relation, 'tail': _t,\n",
    "                'overall_score': _hs * _ts\n",
    "            })\n",
    "    out_rels.sort(key=lambda d : d['overall_score'], reverse=True)\n",
    "    \n",
    "    out_rels_df = pd.DataFrame(out_rels)\n",
    "    if dest is not None:\n",
    "        out_rels_df.to_csv(dest, index=False)\n",
    "    return out_rels_df"
   ]
  },
  {
   "cell_type": "code",
   "execution_count": 226,
   "metadata": {},
   "outputs": [],
   "source": [
    "seed_concepts_path = os.path.join(base_dir, f'data/indeed-benchmark/seed_concepts.csv')\n",
    "seed_relations_path = os.path.join(base_dir, f'data/indeed-benchmark/seed_relations.csv')\n",
    "seed_aligned_concepts_path = os.path.join(base_dir, f'data/indeed-benchmark/seed_aligned_concepts.csv')\n",
    "seed_aligned_relations_path = os.path.join(base_dir, f'data/indeed-benchmark/seed_aligned_relations_nodup.csv')\n",
    "# knn_path = os.path.join(base_dir, f'data/{data_ac}/intermediate/knn_{cluster_size}.csv')\n",
    "concept_knn_path = os.path.join(base_dir, f'data/{data_ac}/intermediate/concept_knn_1000.csv')\n",
    "\n",
    "relation = 'has_benefits'\n",
    "cartesian_re_path = os.path.join(base_dir, f'data/{data_ac}/intermediate/rel_cartesian-{relation}.csv')"
   ]
  },
  {
   "cell_type": "code",
   "execution_count": 227,
   "metadata": {
    "scrolled": false
   },
   "outputs": [
    {
     "name": "stdout",
     "output_type": "stream",
     "text": [
      "company \t benefits\n",
      "seed_heads: ['walmart', 'amazon', 'subway', 'microsoft', 'target']\n",
      "seed_tails: ['health insurance', 'flexible schedule', '401k', 'paid vacation', 'sick leave', 'vision insurance']\n",
      "cand_heads: ('walmart', 'amazon', 'subway', 'microsoft', 'target', 'wal mart', 'costco', 'publix', 'walgreens', 'kroger', 'home depot', \"sam 's club\", 'dollar general', 'family dollar', 'jcpenney', 'pizza hut', 'starbucks', 'apple', 'kfc', 'dollar tree', 'panera bread', 'safeway', 'hobby lobby', 'cracker barrel', 'spectrum', 'menards', 'chick fil a', 'old navy', 'mcdonalds', 'taco bell', 'marshalls', 'burlington', 'olive garden', 'cvs', 'pepsico', 'sitel', 'burger king', 'petsmart', 'jcp', 'pepsi', \"macy 's\", 'geico', 'whole foods', 'ihop', 'fedex', 'best buy', 'frito lay', 'dunkin donuts', 'chipotle', 'tj maxx', 'verizon', 't mobile', 'g4s', 'usps', 'jc penney', 'at&t', 'planet fitness', 'little caesars', 'company', 'mcdonald')\n",
      "cand_tails: ('health insurance', 'flexible schedule', '401k', 'paid vacation', 'sick leave', 'vision insurance', 'insurance', 'healthcare', 'medical insurance', 'health care', 'health', 'medical', 'paid vacations', 'sick days', 'life insurance', 'dental insurance', 'pension', '401k plan', 'holiday pay', 'maternity leave', 'tuition reimbursement', 'discount card', 'vacation days', 'profit sharing', 'employee discounts', 'employee discount', 'retirement plan', 'great benefits', 'health care insurance', 'disability', 'benefits package', 'tuition assistance', 'employee benefits', 'part timers', 'higher pay', 'medicare', 'flexible schedules', 'mandatory', 'pay increase', 'heath', 'education', 'union', 'weekly pay', 'free', 'cobra', 'job security', 'work life balance', 'previous experience', 'cards', 'family', 'child care', 'tax', 'medicaid', 'competitive pay', 'leaves', 'free food', '90 days', 'cigna', 'fair', 'p / t')\n",
      "done.\n"
     ]
    }
   ],
   "source": [
    "full_Cartesian_RE(seed_concepts_path=seed_aligned_concepts_path,\n",
    "                  seed_relations_path=seed_aligned_relations_path,\n",
    "                  concept_knn_path=concept_knn_path,\n",
    "                  relation=relation,\n",
    "                  topk=60,\n",
    "                  dest=cartesian_re_path)\n",
    "print('done.')"
   ]
  },
  {
   "cell_type": "code",
   "execution_count": 64,
   "metadata": {},
   "outputs": [
    {
     "name": "stdout",
     "output_type": "stream",
     "text": [
      "company \t benefits\r\n",
      "seed_heads: ['walmart', 'amazon', 'subway', 'microsoft', 'target']\r\n",
      "seed_tails: ['health insurance', 'flexible schedule', '401k', 'paid vacation', 'sick leave', 'vision insurance']\r\n",
      "cand_heads: ('walmart', 'amazon', 'subway', 'microsoft', 'target', 'wal mart', 'costco', 'publix', 'walgreens', 'kroger', 'home depot', \"sam 's club\", 'dollar general', 'family dollar', 'jcpenney', 'pizza hut', 'starbucks', 'apple', 'kfc', 'dollar tree', 'panera bread', 'safeway', 'hobby lobby', 'cracker barrel', 'spectrum', 'menards', 'chick fil a', 'old navy', 'mcdonalds', 'taco bell', 'marshalls', 'burlington', 'olive garden', 'cvs', 'pepsico', 'sitel', 'burger king', 'petsmart', 'jcp', 'pepsi', \"macy 's\", 'geico', 'whole foods', 'ihop', 'fedex', 'best buy', 'frito lay', 'dunkin donuts', 'chipotle', 'tj maxx', 'verizon', 't mobile', 'g4s', 'usps', 'jc penney', 'at&t', 'planet fitness', 'little caesars', 'company', 'mcdonald')\r\n",
      "cand_tails: ('health insurance', 'flexible schedule', '401k', 'paid vacation', 'sick leave', 'vision insurance', 'insurance', 'healthcare', 'medical insurance', 'health care', 'health', 'medical', 'paid vacations', 'sick days', 'life insurance', 'dental insurance', 'pension', '401k plan', 'holiday pay', 'maternity leave', 'tuition reimbursement', 'discount card', 'vacation days', 'profit sharing', 'employee discounts', 'employee discount', 'retirement plan', 'great benefits', 'health care insurance', 'disability', 'benefits package', 'tuition assistance', 'employee benefits', 'part timers', 'higher pay', 'medicare', 'flexible schedules', 'mandatory', 'pay increase', 'heath', 'education', 'union', 'weekly pay', 'free', 'cobra', 'job security', 'work life balance', 'previous experience', 'cards', 'family', 'child care', 'tax', 'medicaid', 'competitive pay', 'leaves', 'free food', '90 days', 'cigna', 'fair', 'p / t')\r\n"
     ]
    }
   ],
   "source": [
    "# Use script \n",
    "!python relation_extraction_cartesian.py \\\n",
    "-d $base_dir/data/$data_ac/intermediate \\\n",
    "-b $base_dir/data/indeed-benchmark \\\n",
    "-o $base_dir/data/$data_ac/intermediate/rel_extraction-has_benefits-RE=Ct.csv \\\n",
    "-r has_benefits \\\n",
    "-cknn $base_dir/data/$data_ac/intermediate/concept_knn_1000.csv \\\n",
    "-topk 60"
   ]
  },
  {
   "cell_type": "markdown",
   "metadata": {},
   "source": [
    "## Relation Extraction - GPT2 scores (analysis)"
   ]
  },
  {
   "cell_type": "code",
   "execution_count": 292,
   "metadata": {},
   "outputs": [],
   "source": [
    "# observation \n",
    "\n",
    "gpt2_tokenizer = GPT2Tokenizer.from_pretrained('gpt2')\n",
    "gpt2_model = GPT2LMHeadModel.from_pretrained('gpt2', return_dict=True)"
   ]
  },
  {
   "cell_type": "code",
   "execution_count": 290,
   "metadata": {},
   "outputs": [],
   "source": [
    "def gpt2_score(sentence):\n",
    "    tokenized_input = gpt2_tokenizer(sentence, return_tensors=\"pt\")\n",
    "    with torch.no_grad():\n",
    "        model_outputs = gpt2_model(**tokenized_input, labels=tokenized_input[\"input_ids\"])\n",
    "    score = model_outputs.loss.item()\n",
    "    return score"
   ]
  },
  {
   "cell_type": "code",
   "execution_count": 351,
   "metadata": {},
   "outputs": [
    {
     "name": "stdout",
     "output_type": "stream",
     "text": [
      "(NLL) X offers Y        \tbenefits\t401k plan\tpaid vacation\tfamily  \n",
      "company                 \t8.153534\t6.109497\t6.707372\t8.615242\n",
      "walmart                 \t9.049321\t6.962499\t8.100282\t8.999038\n",
      "google                  \t8.491952\t6.307848\t7.430027\t9.093484\n",
      "california              \t6.713108\t5.849362\t6.076878\t6.828558\n",
      "\n"
     ]
    }
   ],
   "source": [
    "_sent_template = '{0} offers {1}'\n",
    "_heads = ['company', 'walmart', 'google', 'california']\n",
    "_tails = ['benefits', '401k plan', 'paid vacation', 'family']\n",
    "\n",
    "_print_msg = f\"{'(NLL) ' + _sent_template.format('X', 'Y'):24s}\"\n",
    "_print_msg += '\\t' + '\\t'.join([f\"{_t:8s}\" for _t in _tails]) + '\\n'\n",
    "for _h in _heads:\n",
    "    _print_msg += f\"{_h:24s}\"\n",
    "    for _t in _tails:\n",
    "        _sent = _sent_template.format(_h, _t)\n",
    "        _score = gpt2_score(_sent)\n",
    "#         print(f\"(NLL = {_score:.6f}) {_sent}\")\n",
    "        _print_msg += f\"\\t{_score:.6f}\"\n",
    "    _print_msg += \"\\n\"\n",
    "\n",
    "print(_print_msg)"
   ]
  },
  {
   "cell_type": "code",
   "execution_count": 350,
   "metadata": {},
   "outputs": [
    {
     "name": "stdout",
     "output_type": "stream",
     "text": [
      "(NLL) X allows Y        \tdress code\tjeans   \ttattoos \tdrugs   \n",
      "company                 \t7.646885\t11.025874\t10.445228\t9.259410\n",
      "walmart                 \t8.517221\t10.956227\t10.929914\t10.295705\n",
      "google                  \t8.461215\t12.038675\t12.965143\t10.222376\n",
      "california              \t6.353935\t7.937030\t7.359611\t6.910169\n",
      "\n"
     ]
    }
   ],
   "source": [
    "_sent_template = '{0} allows {1}'\n",
    "_heads = ['company', 'walmart', 'google', 'california']\n",
    "_tails = ['dress code', 'jeans', 'tattoos', 'drugs']\n",
    "\n",
    "_print_msg = f\"{'(NLL) ' + _sent_template.format('X', 'Y'):24s}\"\n",
    "_print_msg += '\\t' + '\\t'.join([f\"{_t:8s}\" for _t in _tails]) + '\\n'\n",
    "for _h in _heads:\n",
    "    _print_msg += f\"{_h:24s}\"\n",
    "    for _t in _tails:\n",
    "        _sent = _sent_template.format(_h, _t)\n",
    "        _score = gpt2_score(_sent)\n",
    "#         print(f\"(NLL = {_score:.6f}) {_sent}\")\n",
    "        _print_msg += f\"\\t{_score:.6f}\"\n",
    "    _print_msg += \"\\n\"\n",
    "\n",
    "print(_print_msg)"
   ]
  },
  {
   "cell_type": "code",
   "execution_count": 352,
   "metadata": {},
   "outputs": [
    {
     "name": "stdout",
     "output_type": "stream",
     "text": [
      "(NLL) X pays Y          \tschedule\tweekly  \tevery friday\tminimum wage\n",
      "company                 \t11.049671\t9.899395\t7.250698\t6.185252\n",
      "walmart                 \t11.554404\t10.105996\t7.789978\t7.334626\n",
      "google                  \t11.968147\t10.422943\t7.292716\t7.170493\n",
      "california              \t8.314291\t7.803281\t6.406629\t5.754911\n",
      "\n"
     ]
    }
   ],
   "source": [
    "_sent_template = '{0} pays {1}'\n",
    "_heads = ['company', 'walmart', 'google', 'california']\n",
    "_tails = ['schedule', 'weekly', 'every friday', 'minimum wage']\n",
    "\n",
    "_print_msg = f\"{'(NLL) ' + _sent_template.format('X', 'Y'):24s}\"\n",
    "_print_msg += '\\t' + '\\t'.join([f\"{_t:8s}\" for _t in _tails]) + '\\n'\n",
    "for _h in _heads:\n",
    "    _print_msg += f\"{_h:24s}\"\n",
    "    for _t in _tails:\n",
    "        _sent = _sent_template.format(_h, _t)\n",
    "        _score = gpt2_score(_sent)\n",
    "#         print(f\"(NLL = {_score:.6f}) {_sent}\")\n",
    "        _print_msg += f\"\\t{_score:.6f}\"\n",
    "    _print_msg += \"\\n\"\n",
    "\n",
    "print(_print_msg)"
   ]
  },
  {
   "cell_type": "code",
   "execution_count": null,
   "metadata": {},
   "outputs": [],
   "source": []
  },
  {
   "cell_type": "code",
   "execution_count": null,
   "metadata": {},
   "outputs": [],
   "source": []
  },
  {
   "cell_type": "markdown",
   "metadata": {},
   "source": [
    "## Relation Extraction - scores weighted average"
   ]
  },
  {
   "cell_type": "code",
   "execution_count": null,
   "metadata": {
    "hide_input": false
   },
   "outputs": [],
   "source": [
    "lm_probe = LMProbe()"
   ]
  },
  {
   "cell_type": "code",
   "execution_count": null,
   "metadata": {
    "code_folding": [
     0
    ],
    "hide_input": true
   },
   "outputs": [],
   "source": [
    "def get_direct_probing_candidates(templates,\n",
    "                                  lm_probe=None,\n",
    "                                  head_entity=None,\n",
    "                                  tail_entity=None,\n",
    "                                  context=None,\n",
    "                                  topk=10):\n",
    "    '''\n",
    "    Direct probing: let BERT propose possible entities  \n",
    "    :param templates: List[str]: each have 2 slots, {0} for head, {1} for tail \n",
    "    :return: Dict[str, float]: proposed entities and scores \n",
    "    '''\n",
    "    \n",
    "    # ensure given one and propose one \n",
    "    assert (head_entity is None) != (tail_entity is None), f'{head_entity} {tail_entity}'\n",
    "\n",
    "    if lm_probe is None:\n",
    "        lm_probe = LMProbe()\n",
    "    \n",
    "    names_scores = {}\n",
    "    for template in templates:\n",
    "        if head_entity is not None:\n",
    "            # head -> tail \n",
    "            _unigram_template = template.format(head_entity, '[MASK]')\n",
    "            _bigram_template = template.format(head_entity, '[MASK] [MASK]')\n",
    "        else:\n",
    "            # tail -> head \n",
    "            _unigram_template = template.format('[MASK]', tail_entity)\n",
    "            _bigram_template = template.format('[MASK] [MASK]', tail_entity)\n",
    "        \n",
    "        for _template in [_unigram_template, _bigram_template]:\n",
    "            if context:\n",
    "                query = '[CLS] ' + _template + '[SEP]' + context + '[SEP]'\n",
    "            else:\n",
    "                query = '[CLS] ' + _template + '[SEP]'\n",
    "            preds = lm_probe.fill_multi_mask(query, topk=topk)\n",
    "            for pred in preds:\n",
    "                name = ' '.join([p['token_str'] for p in pred])\n",
    "                name = name.replace(' ##', '')\n",
    "                score = np.prod([p['prob'] for p in pred])\n",
    "                scores = names_scores.get(name, [])\n",
    "                scores.append(score)\n",
    "                names_scores[name] = scores\n",
    "                \n",
    "    names_avg_scores = {k: float(sum(v))/ len(v) for k,v in names_scores.items()}\n",
    "    names_avg_scores = {k: v for k, v in sorted(names_avg_scores.items(), reverse=True, key=lambda item: item[1])[:topk]}\n",
    "    return names_avg_scores"
   ]
  },
  {
   "cell_type": "code",
   "execution_count": 52,
   "metadata": {
    "code_folding": []
   },
   "outputs": [],
   "source": [
    "def direct_probing_RE_v4(seed_concepts_path,\n",
    "                         seed_relations_path,\n",
    "                         emb_path,\n",
    "                         concept_knn_path,\n",
    "                         templates_path,\n",
    "                         relation,\n",
    "                         lm_probe=None,\n",
    "                         embedding_dim=768,\n",
    "                         scores_agg_func=None,\n",
    "                         topk=10,\n",
    "                         dest=None,\n",
    "                         **kwargs):\n",
    "    '''\n",
    "    For each head / tail, rank candidate tails / heads by overall scores. \n",
    "    (v4: Not limited to base -> new; can be new -> new; however, only head->tail, no tail->head)\n",
    "    Current (default) overall score: 0.1 * ht_sim + 10 * concept_sim + 0.1 * log(lm_prob)\n",
    "    '''\n",
    "    \n",
    "    seed_concepts_df = load_seed_aligned_concepts(seed_concepts_path)\n",
    "    seed_relations_df = pd.read_csv(seed_relations_path)\n",
    "    relation_row = seed_relations_df[seed_relations_df['alignedRelationName'] == relation].iloc[0]\n",
    "    entity_embeddings = load_embeddings(emb_path, embedding_dim)\n",
    "    entity_emb_dict = dict(zip(entity_embeddings['entity'].tolist(),\n",
    "                               entity_embeddings['embedding'].tolist()))\n",
    "    concept_knn_results = pd.read_csv(concept_knn_path)\n",
    "    \n",
    "    with open(templates_path, 'r') as f:\n",
    "        all_templates = json.load(f)\n",
    "    templates = all_templates[relation]\n",
    "    templates = templates['positive'] + templates['negative']\n",
    "\n",
    "    if lm_probe is None:\n",
    "        lm_probe = LMProbe()\n",
    "    if scores_agg_func is None:\n",
    "        scores_agg_func = lambda ht_sim, h_sim, t_sim, lm_prob : ht_sim + h_sim + t_sim + np.log10(lm_prob)\n",
    "    \n",
    "    head_type = relation_row['domain']\n",
    "    tail_type = relation_row['range']\n",
    "#     head_type = \"company\"\n",
    "#     tail_type = \"dress_code\"\n",
    "    print(head_type, '\\t', tail_type)\n",
    "    seed_heads = seed_concepts_df[seed_concepts_df['alignedCategoryName'] == head_type]['seedInstances'].item()\n",
    "#     seed_heads = eval(list(seed_heads)[0])\n",
    "    seed_tails = seed_concepts_df[seed_concepts_df['alignedCategoryName'] == tail_type]['seedInstances'].item()\n",
    "#     seed_tails = eval(list(seed_tails)[0])\n",
    "    print('seed_heads:', seed_heads)\n",
    "    print('seed_tails:', seed_tails)\n",
    "\n",
    "    # Candidate heads / tails from concept knn \n",
    "    cand_heads_df = concept_knn_results[concept_knn_results['concept'] == head_type]\n",
    "    cand_tails_df = concept_knn_results[concept_knn_results['concept'] == tail_type]\n",
    "    cand_heads_dict = dict(zip(cand_heads_df['neighbor'].tolist(), cand_heads_df['sim'].tolist()))\n",
    "    cand_tails_dict = dict(zip(cand_tails_df['neighbor'].tolist(), cand_tails_df['sim'].tolist()))\n",
    "    for h in seed_heads:\n",
    "        assert h not in cand_heads_dict\n",
    "        cand_heads_dict[h] = 1.0\n",
    "    for t in seed_tails:\n",
    "        assert t not in cand_tails_dict\n",
    "        cand_tails_dict[t] = 1.0\n",
    "        \n",
    "    \n",
    "    all_extraction_results = []\n",
    "    \n",
    "    for c_head in tqdm(cand_heads_dict.keys(), total=len(cand_heads_dict)):\n",
    "        c_head_tokenized = lm_probe.tokenizer.tokenize(c_head)\n",
    "        if len(c_head_tokenized) > 2:\n",
    "            continue\n",
    "\n",
    "        extraction_results = []\n",
    "\n",
    "        ## For each tail, extract concept sim, head sim, lm score, combine and report\n",
    "        \n",
    "        cand_bins = {1: [], 2: []} ## TODO: allow higher grams; switch to GPT-2 for fair probs \n",
    "        for c_tail in cand_tails_dict.keys():\n",
    "            if c_tail == c_head:\n",
    "                continue\n",
    "            c_tail_tokenized = lm_probe.tokenizer.tokenize(c_tail)\n",
    "            if len(c_tail_tokenized) in [1, 2]:\n",
    "                cand_bins[len(c_tail_tokenized)].append(c_tail_tokenized)\n",
    "        \n",
    "        cand_scores_per_template = []\n",
    "        for template in templates:\n",
    "            _unigram_template = '[CLS] ' + template.format(c_head, '[MASK]') + '[SEP]'\n",
    "            _bigram_template = '[CLS] ' + template.format(c_head, '[MASK] [MASK]') + '[SEP]'\n",
    "\n",
    "            _cand_scores_1 = lm_probe.score_candidates(_unigram_template, cand_bins[1])\n",
    "            _cand_scores_2 = lm_probe.score_candidates(_bigram_template, cand_bins[2])\n",
    "            _cand_scores = sorted(_cand_scores_1 + _cand_scores_2, key=lambda d : d[\"cand\"])\n",
    "            # List[Dict[\"cand\", \"score\"]]\n",
    "            cand_scores_per_template.append(_cand_scores)\n",
    "    \n",
    "        cand_scores = []  # List[Dict[\"cand\", \"score\"]], for each \"cand\" the average score \n",
    "        for _cand_score_lst in zip(*cand_scores_per_template):\n",
    "            # _cand_score_lst: List[Dict[\"cand\", \"score\"]], for the same \"cand\" and different template \n",
    "            _cand = _cand_score_lst[0][\"cand\"]\n",
    "            assert all(d[\"cand\"] == _cand for d in _cand_score_lst), _cand_score_lst\n",
    "            _score = np.mean([d[\"score\"] for d in _cand_score_lst])\n",
    "            cand_scores.append({\"cand\": _cand, \"score\": _score})\n",
    "#         cand_scores.sort(key = lambda d : d[\"score\"], reverse=True)\n",
    "\n",
    "        for d in cand_scores:\n",
    "            e_tail = ' '.join(d[\"cand\"]).replace(' ##', '')\n",
    "            if e_tail not in cand_tails_dict:\n",
    "                continue\n",
    "\n",
    "            lm_score = d[\"score\"]\n",
    "            try:\n",
    "                ht_sim_score = 1 - cosine(entity_emb_dict[c_head], entity_emb_dict[e_tail])\n",
    "            except KeyError:\n",
    "                print(f'** embedding of {c_head}: {(c_head in entity_emb_dict)}')\n",
    "                print(f'** embedding of {e_tail}: {(e_tail in entity_emb_dict)}')\n",
    "                ht_sim_score = float(\"nan\")\n",
    "            head_sim_score = cand_heads_dict[c_head]\n",
    "            tail_sim_score = cand_tails_dict[e_tail]\n",
    "            overall_score = scores_agg_func(ht_sim_score, head_sim_score, tail_sim_score, lm_score)\n",
    "\n",
    "            extraction_results.append({'head': c_head, 'relation': relation, 'tail': e_tail,\n",
    "                                       'ht_sim_score': ht_sim_score,\n",
    "                                       'head_sim_score': head_sim_score,\n",
    "                                       'tail_sim_score': tail_sim_score,\n",
    "                                       'lm_score': lm_score,\n",
    "                                       'overall_score': overall_score})\n",
    "        \n",
    "        # extraction_results.sort(key=lambda d : d['overall_score'], reverse=True)\n",
    "        all_extraction_results.extend(extraction_results[:topk])\n",
    "\n",
    "    all_extraction_results.sort(key=lambda d : d['overall_score'], reverse=True)\n",
    "    all_extraction_results = all_extraction_results[:topk]\n",
    "        \n",
    "    results_df = pd.DataFrame(all_extraction_results)\n",
    "    if dest is not None:\n",
    "        results_df.to_csv(dest, index=None)\n",
    "    return results_df\n"
   ]
  },
  {
   "cell_type": "code",
   "execution_count": 53,
   "metadata": {
    "scrolled": true
   },
   "outputs": [
    {
     "name": "stdout",
     "output_type": "stream",
     "text": [
      "company \t benefits\n",
      "seed_heads: ['walmart', 'amazon', 'subway', 'microsoft', 'target']\n",
      "seed_tails: ['health insurance', 'flexible schedule', '401k', 'paid vacation', 'sick leave', 'vision insurance']\n"
     ]
    },
    {
     "data": {
      "application/vnd.jupyter.widget-view+json": {
       "model_id": "a9307f6c82c94efcae96615f9f922a5a",
       "version_major": 2,
       "version_minor": 0
      },
      "text/plain": [
       "HBox(children=(FloatProgress(value=0.0, max=102.0), HTML(value='')))"
      ]
     },
     "metadata": {},
     "output_type": "display_data"
    },
    {
     "name": "stdout",
     "output_type": "stream",
     "text": [
      "\n"
     ]
    },
    {
     "data": {
      "text/html": [
       "<div>\n",
       "<style scoped>\n",
       "    .dataframe tbody tr th:only-of-type {\n",
       "        vertical-align: middle;\n",
       "    }\n",
       "\n",
       "    .dataframe tbody tr th {\n",
       "        vertical-align: top;\n",
       "    }\n",
       "\n",
       "    .dataframe thead th {\n",
       "        text-align: right;\n",
       "    }\n",
       "</style>\n",
       "<table border=\"1\" class=\"dataframe\">\n",
       "  <thead>\n",
       "    <tr style=\"text-align: right;\">\n",
       "      <th></th>\n",
       "      <th>head</th>\n",
       "      <th>relation</th>\n",
       "      <th>tail</th>\n",
       "      <th>ht_sim_score</th>\n",
       "      <th>head_sim_score</th>\n",
       "      <th>tail_sim_score</th>\n",
       "      <th>lm_score</th>\n",
       "      <th>overall_score</th>\n",
       "    </tr>\n",
       "  </thead>\n",
       "  <tbody>\n",
       "    <tr>\n",
       "      <th>0</th>\n",
       "      <td>company</td>\n",
       "      <td>has_benefits</td>\n",
       "      <td>business</td>\n",
       "      <td>0.993406</td>\n",
       "      <td>0.991990</td>\n",
       "      <td>0.972477</td>\n",
       "      <td>0.002870</td>\n",
       "      <td>0.415795</td>\n",
       "    </tr>\n",
       "    <tr>\n",
       "      <th>1</th>\n",
       "      <td>home depot</td>\n",
       "      <td>has_benefits</td>\n",
       "      <td>car insurance</td>\n",
       "      <td>0.959858</td>\n",
       "      <td>0.996124</td>\n",
       "      <td>0.973259</td>\n",
       "      <td>0.002527</td>\n",
       "      <td>0.331895</td>\n",
       "    </tr>\n",
       "    <tr>\n",
       "      <th>2</th>\n",
       "      <td>fulfillment center</td>\n",
       "      <td>has_benefits</td>\n",
       "      <td>business</td>\n",
       "      <td>0.983125</td>\n",
       "      <td>0.987292</td>\n",
       "      <td>0.972477</td>\n",
       "      <td>0.001832</td>\n",
       "      <td>0.205897</td>\n",
       "    </tr>\n",
       "    <tr>\n",
       "      <th>3</th>\n",
       "      <td>corporate office</td>\n",
       "      <td>has_benefits</td>\n",
       "      <td>business</td>\n",
       "      <td>0.984971</td>\n",
       "      <td>0.988309</td>\n",
       "      <td>0.972477</td>\n",
       "      <td>0.001797</td>\n",
       "      <td>0.200351</td>\n",
       "    </tr>\n",
       "    <tr>\n",
       "      <th>4</th>\n",
       "      <td>store level</td>\n",
       "      <td>has_benefits</td>\n",
       "      <td>cards</td>\n",
       "      <td>0.977417</td>\n",
       "      <td>0.988855</td>\n",
       "      <td>0.975875</td>\n",
       "      <td>0.001735</td>\n",
       "      <td>0.181516</td>\n",
       "    </tr>\n",
       "  </tbody>\n",
       "</table>\n",
       "</div>"
      ],
      "text/plain": [
       "                 head      relation           tail  ht_sim_score  \\\n",
       "0             company  has_benefits       business      0.993406   \n",
       "1          home depot  has_benefits  car insurance      0.959858   \n",
       "2  fulfillment center  has_benefits       business      0.983125   \n",
       "3    corporate office  has_benefits       business      0.984971   \n",
       "4         store level  has_benefits          cards      0.977417   \n",
       "\n",
       "   head_sim_score  tail_sim_score  lm_score  overall_score  \n",
       "0        0.991990        0.972477  0.002870       0.415795  \n",
       "1        0.996124        0.973259  0.002527       0.331895  \n",
       "2        0.987292        0.972477  0.001832       0.205897  \n",
       "3        0.988309        0.972477  0.001797       0.200351  \n",
       "4        0.988855        0.975875  0.001735       0.181516  "
      ]
     },
     "execution_count": 53,
     "metadata": {},
     "output_type": "execute_result"
    }
   ],
   "source": [
    "# seed_concepts_path = os.path.join(base_dir, f'data/indeed-benchmark/seed_concepts.csv')\n",
    "# seed_relations_path = os.path.join(base_dir, f'data/indeed-benchmark/seed_relations.csv')\n",
    "seed_aligned_concepts_path = os.path.join(base_dir, f'data/indeed-benchmark/seed_aligned_concepts.csv')\n",
    "seed_aligned_relations_path = os.path.join(base_dir, f'data/indeed-benchmark/seed_aligned_relations_nodup.csv')\n",
    "# knn_path = os.path.join(base_dir, f'data/{data_ac}/intermediate/knn_{cluster_size}.csv')\n",
    "concept_knn_path = os.path.join(base_dir, f'data/{data_ac}/intermediate/concept_knn_100.csv')\n",
    "bert_emb_path = os.path.join(base_dir, f'data/{data_ac}/intermediate/BERTembed+seeds.txt')\n",
    "\n",
    "templates_path = 'templates_manual.json'\n",
    "\n",
    "extraction_save_path = os.path.join(base_dir, f'data/{data_ac}/intermediate/rel_extraction.csv')\n",
    "# extraction_save_path = None\n",
    "\n",
    "extraction_results = direct_probing_RE_v4(seed_concepts_path=seed_aligned_concepts_path,\n",
    "                                          seed_relations_path=seed_aligned_relations_path,\n",
    "                                          emb_path=bert_emb_path,\n",
    "                                          concept_knn_path=concept_knn_path,\n",
    "                                          templates_path=templates_path,\n",
    "                                          relation='has_benefits',\n",
    "                                          lm_probe=lm_probe,\n",
    "                                          topk=10,\n",
    "                                          save_path=extraction_save_path)\n",
    "\n",
    "extraction_results.head(5)"
   ]
  },
  {
   "cell_type": "code",
   "execution_count": null,
   "metadata": {
    "scrolled": true
   },
   "outputs": [],
   "source": [
    "df = extraction_results.copy()\n",
    "df[df['head'] == 'walmart'].head(50)\n",
    "# df['overall_score'] = df['ht_sim_score'] * 0.1 + df['concept_sim_score'] * 10 + np.log10(df['lm_score'])\n",
    "# df.sort_values(by='overall_score', ascending=False)"
   ]
  },
  {
   "cell_type": "code",
   "execution_count": null,
   "metadata": {
    "scrolled": true
   },
   "outputs": [],
   "source": [
    "df = extraction_results.copy()\n",
    "df[df['tail'] == 'hair color'].head(50)\n",
    "# df['overall_score'] = df['ht_sim_score'] * 0.1 + df['concept_sim_score'] * 10 + np.log10(df['lm_score'])\n",
    "# df.sort_values(by='overall_score', ascending=False).head(50)"
   ]
  },
  {
   "cell_type": "code",
   "execution_count": 171,
   "metadata": {},
   "outputs": [
    {
     "name": "stdout",
     "output_type": "stream",
     "text": [
      "Some weights of the model checkpoint at bert-base-uncased were not used when initializing BertForMaskedLM: ['cls.seq_relationship.weight', 'cls.seq_relationship.bias']\n",
      "- This IS expected if you are initializing BertForMaskedLM from the checkpoint of a model trained on another task or with another architecture (e.g. initializing a BertForSequenceClassification model from a BertForPretraining model).\n",
      "- This IS NOT expected if you are initializing BertForMaskedLM from the checkpoint of a model that you expect to be exactly identical (initializing a BertForSequenceClassification model from a BertForSequenceClassification model).\n",
      "company \t benefits\n",
      "seed_heads: ['walmart', 'amazon', 'subway', 'microsoft', 'target']\n",
      "seed_tails: ['health insurance', 'flexible schedule', '401k', 'paid vacation', 'sick leave', 'vision insurance']\n",
      "seed_head: walmart\n",
      "seed_head: amazon\n",
      "seed_head: subway\n",
      "seed_head: microsoft\n",
      "seed_head: target\n",
      "seed_tail: health insurance\n",
      "seed_tail: flexible schedule\n",
      "seed_tail: 401k\n",
      "seed_tail: paid vacation\n",
      "seed_tail: sick leave\n",
      "seed_tail: vision insurance\n"
     ]
    }
   ],
   "source": [
    "# Use script \n",
    "!python relation_extraction_avg_scores.py \\\n",
    "-d $base_dir/data/$data_ac/intermediate \\\n",
    "-b $base_dir/data/indeed-benchmark \\\n",
    "-o $base_dir/data/$data_ac/intermediate/rel_extraction-has_benefits-RE.csv \\\n",
    "-r has_benefits \\\n",
    "-cknn $base_dir/data/$data_ac/intermediate/concept_knn_1000.csv \\\n",
    "-topk 300 \\\n",
    "-dim 768\n"
   ]
  },
  {
   "cell_type": "markdown",
   "metadata": {},
   "source": [
    "## Relation Extraction - LM scores"
   ]
  },
  {
   "cell_type": "code",
   "execution_count": null,
   "metadata": {},
   "outputs": [],
   "source": [
    "# Use script \n",
    "!python relation_extraction_LM.py \\\n",
    "-d $base_dir/data/$data_ac/intermediate \\\n",
    "-b $base_dir/data/indeed-benchmark \\\n",
    "-o $base_dir/data/$data_ac/intermediate/rel_extraction-has_benefits-RE=LM_joint.csv \\\n",
    "-r has_benefits \\\n",
    "-ee $base_dir/data/$data_ac/intermediate/concept_knn_100.csv \\\n",
    "-lm joint \\\n",
    "-topk 300 \\\n",
    "-dim 768\n"
   ]
  },
  {
   "cell_type": "code",
   "execution_count": null,
   "metadata": {},
   "outputs": [],
   "source": [
    "!python relation_extraction_LM.py \\\n",
    "-d $base_dir/data/$data_ac/intermediate \\\n",
    "-b $base_dir/data/indeed-benchmark \\\n",
    "-o $base_dir/data/$data_ac/intermediate/rel_extraction-has_benefits-RE=LM_pmi.csv \\\n",
    "-r has_benefits \\\n",
    "-ee $base_dir/data/$data_ac/intermediate/concept_knn_100.csv \\\n",
    "-lm pmi \\\n",
    "-topk 300 \\\n",
    "-dim 768"
   ]
  },
  {
   "cell_type": "code",
   "execution_count": null,
   "metadata": {},
   "outputs": [],
   "source": []
  },
  {
   "cell_type": "markdown",
   "metadata": {},
   "source": [
    "## Relation Extraction Evaluation"
   ]
  },
  {
   "cell_type": "code",
   "execution_count": 156,
   "metadata": {
    "code_folding": []
   },
   "outputs": [],
   "source": [
    "## Evaluation \n",
    "\n",
    "def load_benchmark(benchmark_full_path,\n",
    "                   seed_concepts_path,\n",
    "                   seed_relations_path):\n",
    "    benchmark = pd.read_csv(benchmark_full_path)\n",
    "    concepts_df = load_seed_aligned_concepts(seed_concepts_path)\n",
    "    relations_df = load_seed_aligned_relations(seed_relations_path)\n",
    "    \n",
    "    concepts_dict = dict(zip(concepts_df['alignedCategoryName'].tolist(), concepts_df.to_dict('records')))\n",
    "    relations_dict = dict(zip(relations_df['alignedRelationName'].tolist(), relations_df.to_dict('records')))\n",
    "    \n",
    "    # Dict[str(_type), Set[str(_e)]]\n",
    "    all_concepts = defaultdict(set)\n",
    "    # Dict[str(_r), Set[Tuple(_h, _r, _t)]]\n",
    "    all_rel_tuples = defaultdict(set)\n",
    "    \n",
    "    for i, row in benchmark.iterrows():\n",
    "        if row['type'] != 'fact':\n",
    "            continue\n",
    "        \n",
    "        _r = row['relation_name']\n",
    "        _h_type = row['n_head_category']\n",
    "        _t_type = row['n_tail_category']\n",
    "        \n",
    "        if _r not in relations_dict:\n",
    "            continue\n",
    "        _relation_row = relations_dict[_r]\n",
    "        if _relation_row['domain'] != _h_type or _relation_row['range'] != _t_type:\n",
    "            continue\n",
    "        \n",
    "        row_n_head = str(row['n_head']).lower()\n",
    "        row_n_tail = str(row['n_tail']).lower()\n",
    "        \n",
    "        if row_n_head == 'company':\n",
    "            evidence_sents = eval(str(row['sentences']))\n",
    "            head_instances = eval(str(row['Evidence']))\n",
    "            assert len(evidence_sents) == len(head_instances), f'Line {i} length mismatch'\n",
    "\n",
    "            for inst in head_instances:\n",
    "                if len(inst) > 0:\n",
    "                    all_concepts[_h_type].add(inst.lower())\n",
    "                    all_concepts[_t_type].add(row_n_tail)\n",
    "                    all_rel_tuples[_r].add(\n",
    "                        (inst.lower(), _r, row_n_tail)\n",
    "                    )\n",
    "        else:\n",
    "            # treat n_head directly as instance \n",
    "            all_concepts[_h_type].add(row_n_head)\n",
    "            all_concepts[_t_type].add(row_n_tail)\n",
    "            all_rel_tuples[_r].add(\n",
    "                (row_n_head, _r, row_n_tail)\n",
    "            )\n",
    "        \n",
    "    return all_concepts, all_rel_tuples\n"
   ]
  },
  {
   "cell_type": "code",
   "execution_count": 157,
   "metadata": {
    "scrolled": true
   },
   "outputs": [
    {
     "data": {
      "text/plain": [
       "(15, 14)"
      ]
     },
     "execution_count": 157,
     "metadata": {},
     "output_type": "execute_result"
    }
   ],
   "source": [
    "benchmark_path = os.path.join(base_dir, f'data/indeed-benchmark/benchmark_evidence_clean.csv')\n",
    "seed_aligned_concepts_path = os.path.join(base_dir, f'data/indeed-benchmark/seed_aligned_concepts.csv')\n",
    "seed_aligned_relations_path = os.path.join(base_dir, f'data/indeed-benchmark/seed_aligned_relations_nodup.csv')\n",
    "\n",
    "benchmark_concepts, benchmark_relations = load_benchmark(benchmark_full_path=benchmark_path,\n",
    "                                              seed_concepts_path=seed_aligned_concepts_path,\n",
    "                                              seed_relations_path=seed_aligned_relations_path)\n",
    "\n",
    "len(benchmark_concepts), len(benchmark_relations)"
   ]
  },
  {
   "cell_type": "code",
   "execution_count": 15,
   "metadata": {},
   "outputs": [],
   "source": [
    "rel_extraction_path = os.path.join(base_dir, f'data/{data_ac}/intermediate/rel_extraction.csv')\n",
    "\n",
    "rel_extraction = pd.read_csv(rel_extraction_path)\n",
    "rel_extraction_list = rel_extraction[['head', 'tail']].to_dict('records')"
   ]
  },
  {
   "cell_type": "code",
   "execution_count": 16,
   "metadata": {},
   "outputs": [
    {
     "data": {
      "text/plain": [
       "(107, 3597, 6)"
      ]
     },
     "execution_count": 16,
     "metadata": {},
     "output_type": "execute_result"
    }
   ],
   "source": [
    "benchmark_relations_set = set([tuple(d.values()) for d in benchmark_relations_list])\n",
    "rel_extraction_set = set([tuple(d.values()) for d in rel_extraction_list])\n",
    "\n",
    "intersection = benchmark_relations_set & rel_extraction_set\n",
    "\n",
    "len(benchmark_relations_set), len(rel_extraction_set), len(intersection)\n"
   ]
  },
  {
   "cell_type": "markdown",
   "metadata": {},
   "source": [
    "### has_dress_code"
   ]
  },
  {
   "cell_type": "code",
   "execution_count": 206,
   "metadata": {},
   "outputs": [
    {
     "name": "stdout",
     "output_type": "stream",
     "text": [
      "--- RE Results ---\r\n",
      "Benchmark relations: 107\r\n",
      "Predicted relations: 3600\r\n",
      "Intersection: 15\r\n",
      "P = 0.0042, R = 0.1402, F1 = 0.0081\r\n",
      "\r\n",
      "Intersection:\r\n",
      "('jcpenney', 'has_dress_code', 'uniform policy')\r\n",
      "('olive garden', 'has_dress_code', 'facial hair')\r\n",
      "('walgreens', 'has_dress_code', 'hair color')\r\n",
      "('marshalls', 'has_dress_code', 'color hair')\r\n",
      "('at&t', 'has_dress_code', 'uniform')\r\n",
      "('costco', 'has_dress_code', 'hair color')\r\n",
      "('walmart', 'has_dress_code', 'uniform')\r\n",
      "('taco bell', 'has_dress_code', 'nose rings')\r\n",
      "('walmart', 'has_dress_code', 'face tattoos')\r\n",
      "('dollar general', 'has_dress_code', 'strict dress code')\r\n",
      "('best buy', 'has_dress_code', 'uniform')\r\n",
      "('family dollar', 'has_dress_code', 'facial hair')\r\n",
      "('subway', 'has_dress_code', 'piercings')\r\n",
      "('dollar tree', 'has_dress_code', 'uniform')\r\n",
      "('dollar tree', 'has_dress_code', 'professional')\r\n",
      "\r\n"
     ]
    }
   ],
   "source": [
    "!python eval_relations.py \\\n",
    "-b $base_dir/data/indeed-benchmark \\\n",
    "-pred $base_dir/data/$data_ac/intermediate/rel_cartesian-has_dress_code.csv \\\n",
    "-r has_dress_code"
   ]
  },
  {
   "cell_type": "code",
   "execution_count": 31,
   "metadata": {},
   "outputs": [
    {
     "name": "stdout",
     "output_type": "stream",
     "text": [
      "--- RE Results ---\r\n",
      "Benchmark relations: 107\r\n",
      "Predicted relations: 1018\r\n",
      "Intersection: 13\r\n",
      "P = 0.0128, R = 0.1215, F1 = 0.0231\r\n",
      "\r\n",
      "Intersection:\r\n",
      "('taco bell', 'has_dress_code', 'nose rings')\r\n",
      "('olive garden', 'has_dress_code', 'facial hair')\r\n",
      "('costco', 'has_dress_code', 'hair color')\r\n",
      "('jcpenney', 'has_dress_code', 'uniform policy')\r\n",
      "('dollar tree', 'has_dress_code', 'uniform')\r\n",
      "('best buy', 'has_dress_code', 'uniform')\r\n",
      "('marshalls', 'has_dress_code', 'color hair')\r\n",
      "('walmart', 'has_dress_code', 'uniform')\r\n",
      "('subway', 'has_dress_code', 'piercings')\r\n",
      "('dollar tree', 'has_dress_code', 'professional')\r\n",
      "('walgreens', 'has_dress_code', 'hair color')\r\n",
      "('at&t', 'has_dress_code', 'uniform')\r\n",
      "('family dollar', 'has_dress_code', 'facial hair')\r\n",
      "\r\n"
     ]
    }
   ],
   "source": [
    "!python eval_relations.py \\\n",
    "-b $base_dir/data/indeed-benchmark \\\n",
    "-pred $base_dir/data/$data_ac/intermediate/rel_extraction-has_dress_code-RE=Ct+KV=0.9.csv \\\n",
    "-r has_dress_code"
   ]
  },
  {
   "cell_type": "code",
   "execution_count": 353,
   "metadata": {},
   "outputs": [
    {
     "name": "stdout",
     "output_type": "stream",
     "text": [
      "--- RE Results ---\r\n",
      "Benchmark relations: 107\r\n",
      "Predicted relations: 300\r\n",
      "Intersection: 0\r\n",
      "P = 0.0000, R = 0.0000, F1 = 0.0000\r\n",
      "\r\n",
      "Intersection:\r\n",
      "\r\n"
     ]
    }
   ],
   "source": [
    "!python eval_relations.py \\\n",
    "-b $base_dir/data/indeed-benchmark \\\n",
    "-pred $base_dir/data/$data_ac/intermediate/rel_extraction-has_dress_code-RE=LM_bert.csv \\\n",
    "-r has_dress_code"
   ]
  },
  {
   "cell_type": "code",
   "execution_count": 354,
   "metadata": {},
   "outputs": [
    {
     "name": "stdout",
     "output_type": "stream",
     "text": [
      "--- RE Results ---\r\n",
      "Benchmark relations: 107\r\n",
      "Predicted relations: 76\r\n",
      "Intersection: 0\r\n",
      "P = 0.0000, R = 0.0000, F1 = 0.0000\r\n",
      "\r\n",
      "Intersection:\r\n",
      "\r\n"
     ]
    }
   ],
   "source": [
    "!python eval_relations.py \\\n",
    "-b $base_dir/data/indeed-benchmark \\\n",
    "-pred $base_dir/data/$data_ac/intermediate/rel_extraction-has_dress_code-RE=avg+KV=0.9.csv \\\n",
    "-r has_dress_code"
   ]
  },
  {
   "cell_type": "markdown",
   "metadata": {},
   "source": [
    "### has_benefits"
   ]
  },
  {
   "cell_type": "code",
   "execution_count": 228,
   "metadata": {},
   "outputs": [
    {
     "name": "stdout",
     "output_type": "stream",
     "text": [
      "--- RE Results ---\r\n",
      "Benchmark relations: 56\r\n",
      "Predicted relations: 3600\r\n",
      "Intersection: 11\r\n",
      "P = 0.0031, R = 0.1964, F1 = 0.0060\r\n",
      "\r\n",
      "Intersection:\r\n",
      "('burger king', 'has_benefits', 'health')\r\n",
      "('burger king', 'has_benefits', 'sick leave')\r\n",
      "('walmart', 'has_benefits', '401k')\r\n",
      "('walmart', 'has_benefits', '401k plan')\r\n",
      "('olive garden', 'has_benefits', '401k plan')\r\n",
      "('g4s', 'has_benefits', 'sick leave')\r\n",
      "('walmart', 'has_benefits', 'life insurance')\r\n",
      "('target', 'has_benefits', 'health insurance')\r\n",
      "('walmart', 'has_benefits', 'paid vacations')\r\n",
      "('starbucks', 'has_benefits', 'health')\r\n",
      "('dollar general', 'has_benefits', 'health insurance')\r\n",
      "\r\n"
     ]
    }
   ],
   "source": [
    "!python eval_relations.py \\\n",
    "-b $base_dir/data/indeed-benchmark \\\n",
    "-pred $base_dir/data/$data_ac/intermediate/rel_cartesian-has_benefits.csv \\\n",
    "-r has_benefits"
   ]
  },
  {
   "cell_type": "code",
   "execution_count": 32,
   "metadata": {},
   "outputs": [
    {
     "name": "stdout",
     "output_type": "stream",
     "text": [
      "--- RE Results ---\r\n",
      "Benchmark relations: 56\r\n",
      "Predicted relations: 1312\r\n",
      "Intersection: 11\r\n",
      "P = 0.0084, R = 0.1964, F1 = 0.0161\r\n",
      "\r\n",
      "Intersection:\r\n",
      "('starbucks', 'has_benefits', 'health')\r\n",
      "('dollar general', 'has_benefits', 'health insurance')\r\n",
      "('walmart', 'has_benefits', '401k plan')\r\n",
      "('walmart', 'has_benefits', 'life insurance')\r\n",
      "('target', 'has_benefits', 'health insurance')\r\n",
      "('burger king', 'has_benefits', 'health')\r\n",
      "('walmart', 'has_benefits', 'paid vacations')\r\n",
      "('burger king', 'has_benefits', 'sick leave')\r\n",
      "('g4s', 'has_benefits', 'sick leave')\r\n",
      "('walmart', 'has_benefits', '401k')\r\n",
      "('olive garden', 'has_benefits', '401k plan')\r\n",
      "\r\n"
     ]
    }
   ],
   "source": [
    "!python eval_relations.py \\\n",
    "-b $base_dir/data/indeed-benchmark \\\n",
    "-pred $base_dir/data/$data_ac/intermediate/rel_extraction-has_benefits-RE=Ct+KV=0.9.csv \\\n",
    "-r has_benefits"
   ]
  },
  {
   "cell_type": "code",
   "execution_count": 414,
   "metadata": {
    "scrolled": true
   },
   "outputs": [
    {
     "name": "stdout",
     "output_type": "stream",
     "text": [
      "--- RE Results ---\r\n",
      "Benchmark relations: 56\r\n",
      "Predicted relations: 300\r\n",
      "Intersection: 0\r\n",
      "P = 0.0000, R = 0.0000, F1 = 0.0000\r\n",
      "\r\n",
      "Intersection:\r\n",
      "\r\n"
     ]
    }
   ],
   "source": [
    "!python eval_relations.py \\\n",
    "-b $base_dir/data/indeed-benchmark \\\n",
    "-pred $base_dir/data/$data_ac/intermediate/rel_extraction-has_benefits-RE=LM_bert.csv \\\n",
    "-r has_benefits"
   ]
  },
  {
   "cell_type": "code",
   "execution_count": 415,
   "metadata": {
    "scrolled": true
   },
   "outputs": [
    {
     "name": "stdout",
     "output_type": "stream",
     "text": [
      "--- RE Results ---\r\n",
      "Benchmark relations: 56\r\n",
      "Predicted relations: 300\r\n",
      "Intersection: 1\r\n",
      "P = 0.0033, R = 0.0179, F1 = 0.0056\r\n",
      "\r\n",
      "Intersection:\r\n",
      "('dollar general', 'has_benefits', 'health insurance')\r\n",
      "\r\n"
     ]
    }
   ],
   "source": [
    "!python eval_relations.py \\\n",
    "-b $base_dir/data/indeed-benchmark \\\n",
    "-pred $base_dir/data/$data_ac/intermediate/rel_extraction-has_benefits-RE=LM_joint.csv \\\n",
    "-r has_benefits"
   ]
  },
  {
   "cell_type": "code",
   "execution_count": 109,
   "metadata": {},
   "outputs": [
    {
     "name": "stdout",
     "output_type": "stream",
     "text": [
      "--- RE Results ---\r\n",
      "Benchmark relations: 56\r\n",
      "Predicted relations: 300\r\n",
      "Intersection: 2\r\n",
      "P = 0.0067, R = 0.0357, F1 = 0.0112\r\n",
      "\r\n",
      "Intersection:\r\n",
      "('dollar general', 'has_benefits', 'health insurance')\r\n",
      "('target', 'has_benefits', 'health insurance')\r\n",
      "\r\n"
     ]
    }
   ],
   "source": [
    "!python eval_relations.py \\\n",
    "-b $base_dir/data/indeed-benchmark \\\n",
    "-pred $base_dir/data/$data_ac/intermediate/rel_extraction-has_benefits-RE=LM_gpt2.csv \\\n",
    "-r has_benefits"
   ]
  },
  {
   "cell_type": "code",
   "execution_count": null,
   "metadata": {},
   "outputs": [],
   "source": []
  },
  {
   "cell_type": "markdown",
   "metadata": {},
   "source": [
    "## LMProbe-Joint"
   ]
  },
  {
   "cell_type": "code",
   "execution_count": 244,
   "metadata": {},
   "outputs": [],
   "source": [
    "gpt2_tokenizer = GPT2Tokenizer.from_pretrained('gpt2')\n",
    "gpt2_model = GPT2LMHeadModel.from_pretrained('gpt2', return_dict=True)"
   ]
  },
  {
   "cell_type": "code",
   "execution_count": 249,
   "metadata": {},
   "outputs": [
    {
     "data": {
      "text/plain": [
       "{'input_ids': tensor([[15496,    11,   616,  3290,   318, 13779]]), 'attention_mask': tensor([[1, 1, 1, 1, 1, 1]])}"
      ]
     },
     "execution_count": 249,
     "metadata": {},
     "output_type": "execute_result"
    }
   ],
   "source": [
    "_inputs = gpt2_tokenizer(\"Hello, my dog is cute\", return_tensors=\"pt\")\n",
    "_inputs"
   ]
  },
  {
   "cell_type": "code",
   "execution_count": 246,
   "metadata": {},
   "outputs": [],
   "source": [
    "with torch.no_grad():\n",
    "    _outputs = gpt2_model(**_inputs, labels=_inputs[\"input_ids\"])"
   ]
  },
  {
   "cell_type": "code",
   "execution_count": 252,
   "metadata": {},
   "outputs": [
    {
     "data": {
      "text/plain": [
       "3.9901607036590576"
      ]
     },
     "execution_count": 252,
     "metadata": {},
     "output_type": "execute_result"
    }
   ],
   "source": [
    "_outputs.loss.item()"
   ]
  },
  {
   "cell_type": "code",
   "execution_count": null,
   "metadata": {},
   "outputs": [],
   "source": []
  },
  {
   "cell_type": "code",
   "execution_count": 149,
   "metadata": {
    "scrolled": true
   },
   "outputs": [
    {
     "name": "stderr",
     "output_type": "stream",
     "text": [
      "Some weights of the model checkpoint at bert-base-uncased were not used when initializing BertForMaskedLM: ['cls.seq_relationship.weight', 'cls.seq_relationship.bias']\n",
      "- This IS expected if you are initializing BertForMaskedLM from the checkpoint of a model trained on another task or with another architecture (e.g. initializing a BertForSequenceClassification model from a BertForPretraining model).\n",
      "- This IS NOT expected if you are initializing BertForMaskedLM from the checkpoint of a model that you expect to be exactly identical (initializing a BertForSequenceClassification model from a BertForSequenceClassification model).\n"
     ]
    }
   ],
   "source": [
    "lm_probe = LMProbe()"
   ]
  },
  {
   "cell_type": "code",
   "execution_count": null,
   "metadata": {
    "scrolled": true
   },
   "outputs": [],
   "source": [
    "lm_probe.fill_multi_mask(\"[CLS] The payment [MASK] [MASK] is nice. [SEP]\", topk=10)"
   ]
  },
  {
   "cell_type": "code",
   "execution_count": 271,
   "metadata": {},
   "outputs": [],
   "source": [
    "# test\n",
    "lm_probe_gpt2 = LMProbe_GPT2()"
   ]
  },
  {
   "cell_type": "code",
   "execution_count": 272,
   "metadata": {},
   "outputs": [
    {
     "data": {
      "text/plain": [
       "[{'cand': 'good plan', 'score': -4.1346964836120605},\n",
       " {'cand': 'good', 'score': -4.260444641113281},\n",
       " {'cand': 'plan', 'score': -5.5930562019348145}]"
      ]
     },
     "execution_count": 272,
     "metadata": {},
     "output_type": "execute_result"
    }
   ],
   "source": [
    "lm_probe_gpt2.score_candidates(\"They have a very [MASK] .\", [\"good\", \"plan\", \"good plan\"])"
   ]
  },
  {
   "cell_type": "code",
   "execution_count": null,
   "metadata": {},
   "outputs": [],
   "source": []
  },
  {
   "cell_type": "code",
   "execution_count": 208,
   "metadata": {},
   "outputs": [
    {
     "data": {
      "text/plain": [
       "40.47902297973633"
      ]
     },
     "execution_count": 208,
     "metadata": {},
     "output_type": "execute_result"
    }
   ],
   "source": [
    "_sent = \"Hello ! I would like to have a pizzaaaa\"\n",
    "_inputs = lm_probe_joint.gpt2_tokenizer(_sent, return_tensors=\"pt\")\n",
    "with torch.no_grad():\n",
    "    _outputs = lm_probe_joint.gpt2_model(**_inputs, labels=_inputs[\"input_ids\"])\n",
    "_outputs.loss.item() * (len(_sent.split(' ')) - 1)"
   ]
  },
  {
   "cell_type": "code",
   "execution_count": 222,
   "metadata": {},
   "outputs": [
    {
     "data": {
      "text/plain": [
       "{'input_ids': [15496, 5145, 314, 561, 588, 284, 423, 257, 14256, 46071], 'attention_mask': [1, 1, 1, 1, 1, 1, 1, 1, 1, 1]}"
      ]
     },
     "execution_count": 222,
     "metadata": {},
     "output_type": "execute_result"
    }
   ],
   "source": [
    "lm_probe_joint.gpt2_tokenizer(_sent)"
   ]
  },
  {
   "cell_type": "code",
   "execution_count": 209,
   "metadata": {},
   "outputs": [
    {
     "data": {
      "text/plain": [
       "{'input_ids': tensor([[15496,  5145,   314,   561,   588,   284,   423,   257, 14256, 46071]]), 'attention_mask': tensor([[1, 1, 1, 1, 1, 1, 1, 1, 1, 1]])}"
      ]
     },
     "execution_count": 209,
     "metadata": {},
     "output_type": "execute_result"
    }
   ],
   "source": [
    "_inputs"
   ]
  },
  {
   "cell_type": "code",
   "execution_count": 211,
   "metadata": {},
   "outputs": [
    {
     "data": {
      "text/plain": [
       "['Hello', 'Ġ!', 'ĠI', 'Ġwould', 'Ġlike', 'Ġto', 'Ġhave', 'Ġa', 'Ġpizza', 'aaa']"
      ]
     },
     "execution_count": 211,
     "metadata": {},
     "output_type": "execute_result"
    }
   ],
   "source": [
    "lm_probe_joint.gpt2_tokenizer.convert_ids_to_tokens([15496,  5145,   314,   561,   588,   284,   423,   257, 14256, 46071])"
   ]
  },
  {
   "cell_type": "code",
   "execution_count": 223,
   "metadata": {
    "code_folding": [
     17
    ]
   },
   "outputs": [],
   "source": [
    "# LMProbe_Joint with bert probs renormalized by gpt2 \n",
    "\n",
    "def _bert_untokenize(pieces):\n",
    "    return ' '.join(pieces).replace(' ##', '')\n",
    "\n",
    "class LMProbe_Joint(object):\n",
    "    def __init__(self,\n",
    "                 bert_model_name='bert-base-uncased',\n",
    "                 gpt2_model_name='gpt2',\n",
    "                 max_n_grams=5,\n",
    "                 use_gpu=False):\n",
    "        self.device = torch.device('cuda' if torch.cuda.is_available() and use_gpu else 'cpu')\n",
    "        self.bert_tokenizer = BertTokenizer.from_pretrained(bert_model_name)\n",
    "        self.bert_model = BertForMaskedLM.from_pretrained(bert_model_name)\n",
    "        self.bert_model.to(self.device)\n",
    "        self.bert_model.eval()\n",
    "        self.bert_mask_token = self.bert_tokenizer.mask_token\n",
    "        \n",
    "        self.gpt2_tokenizer = GPT2Tokenizer.from_pretrained(gpt2_model_name)\n",
    "        self.gpt2_model = GPT2LMHeadModel.from_pretrained(gpt2_model_name, return_dict=True)\n",
    "        self.gpt2_model.to(self.device)\n",
    "        self.gpt2_model.eval()\n",
    "        \n",
    "        self.max_n_grams = max_n_grams\n",
    "        \n",
    "    def joint_score_candidates(self, input_txt, cands, renorm_n=10):\n",
    "        # cands: List[str], list candidates (untokenzied) \n",
    "        \n",
    "        if input_txt.count(\"[MASK]\") != 1:\n",
    "            raise Exception(f'Input string must have exactly one mask token, got {input_txt}')\n",
    "\n",
    "        cand_bins = {i : [] for i in range(1, self.max_n_grams + 1)}\n",
    "        for c in cands:\n",
    "            c_tokenized = self.bert_tokenizer.tokenize(c)\n",
    "            if len(c_tokenized) > self.max_n_grams:\n",
    "                print(f'{c_tokenized}: too many wordpieces')\n",
    "                continue\n",
    "            cand_bins[len(c_tokenized)].append(c_tokenized)\n",
    "        \n",
    "        all_cand_scores = []\n",
    "        for c_len in range(1, self.max_n_grams + 1):\n",
    "            _cands = cand_bins[c_len]\n",
    "            if len(_cands) == 0:\n",
    "                continue\n",
    "            \n",
    "            _input = \"[CLS] \" + input_txt.replace(\"[MASK]\", \"[MASK]\" + \" [MASK]\" * (c_len - 1)) + \" [SEP]\"\n",
    "            _cand_scores = self.bert_score_candidates(_input, _cands)\n",
    "            \n",
    "            _renorm_cand_dicts = _cand_scores[:renorm_n]\n",
    "            _renorm_bert_scores = {_bert_untokenize(d['cand']) : d['score'] for d in _renorm_cand_dicts}\n",
    "            _renorm_cands = list(_renorm_bert_scores.keys())\n",
    "            \n",
    "            _gpt2_cand_scores = self.gpt2_score_candidates(input_txt, _renorm_cands)\n",
    "            _renorm_gpt2_scores = {d['cand'] : d['score'] for d in _gpt2_cand_scores}\n",
    "            \n",
    "#             print('BERT scores:')\n",
    "#             print(json.dumps(_renorm_bert_scores, indent=2))\n",
    "#             print('GPT2 scores:')\n",
    "#             print(json.dumps(_renorm_gpt2_scores, indent=2))\n",
    "#             if len(_renorm_cands) > 2:\n",
    "#                 print('Pearson:')\n",
    "#                 print(pearsonr(\n",
    "#                     np.exp([_renorm_bert_scores[c] for c in _renorm_cands]),\n",
    "#                     np.exp([_renorm_gpt2_scores[c] for c in _renorm_cands])))\n",
    "            \n",
    "            # bert_ll + _renorm_bias -> gpt2_ll\n",
    "            _renorm_bias = np.log(np.sum(np.exp(list(_renorm_gpt2_scores.values())))) \\\n",
    "                - np.log(np.sum(np.exp(list(_renorm_bert_scores.values()))))\n",
    "            \n",
    "            _gpt2_len = len(self.gpt2_tokenizer(input_txt.replace('[MASK]', _renorm_cands[0]))['input_ids'])\n",
    "            \n",
    "            _renormed_cand_scores = [\n",
    "                {'cand': _bert_untokenize(d['cand']),\n",
    "                 'score': (d['score'] + _renorm_bias) / _gpt2_len}\n",
    "                for d in _cand_scores\n",
    "            ]\n",
    "            all_cand_scores.extend(_renormed_cand_scores)\n",
    "        \n",
    "        all_cand_scores.sort(key=lambda d : d['score'], reverse=True)\n",
    "        return all_cand_scores\n",
    "    \n",
    "    \n",
    "    def bert_score_candidates(self, input_txt, cands):\n",
    "        # cands: List[List[str]], list of tokenized candidates \n",
    "        tokenized_txt = self.bert_tokenizer.tokenize(input_txt)\n",
    "        \n",
    "        if tokenized_txt[0] != \"[CLS]\" or tokenized_txt[-1] != \"[SEP]\":\n",
    "            raise Exception(f'Input string must start with [CLS] and end with [SEP], got {input_txt}')\n",
    "        if \"[MASK]\" not in tokenized_txt:\n",
    "            raise Exception(f'Input string must have at least one mask token, got {input_txt}')\n",
    "        \n",
    "        indexed_tokens = self.bert_tokenizer.convert_tokens_to_ids(tokenized_txt)\n",
    "        tokens_tensor = torch.tensor([indexed_tokens])\n",
    "        mask_indices = [i for i, x in enumerate(tokenized_txt) if x == \"[MASK]\"]\n",
    "        segment_idx = tokens_tensor * 0\n",
    "        tokens_tensor = tokens_tensor.to(self.device)\n",
    "        segments_tensors = segment_idx.to(self.device)\n",
    "\n",
    "        with torch.no_grad():\n",
    "            outputs = self.bert_model(tokens_tensor, token_type_ids=segments_tensors)\n",
    "            predictions = outputs[0]\n",
    "\n",
    "        probs = torch.softmax(predictions, dim=-1)[0]\n",
    "        probs = probs.detach().cpu().numpy()\n",
    "\n",
    "        cand_scores = []\n",
    "        for c in cands:\n",
    "            assert len(c) == len(mask_indices), f'cand {c}; len(mask_indices) = {len(mask_indices)}'\n",
    "\n",
    "            _scores = []\n",
    "            c_token_ids = self.bert_tokenizer.convert_tokens_to_ids(c)\n",
    "            for i, token_id in zip(mask_indices, c_token_ids):\n",
    "                _scores.append(probs[i, token_id].item())\n",
    "            score = np.sum(np.log(_scores))  # sum(log(p))\n",
    "            cand_scores.append({\"cand\": c, \"score\": score})\n",
    "\n",
    "        cand_scores.sort(key=lambda d : d[\"score\"], reverse=True)\n",
    "        return cand_scores\n",
    "    \n",
    "    def gpt2_score_candidates(self, input_txt, cands):\n",
    "        # cands: List[str], list candidates (untokenzied) \n",
    "        \n",
    "        if input_txt.count(\"[MASK]\") != 1:\n",
    "            raise Exception(f'Input string must have exactly one mask token, got {input_txt}')\n",
    "\n",
    "        cand_scores = []\n",
    "        for c in cands:\n",
    "            cand_input_txt = input_txt.replace(\"[MASK]\", c)\n",
    "            tokenized_input = self.gpt2_tokenizer(cand_input_txt, return_tensors=\"pt\")\n",
    "            with torch.no_grad():\n",
    "                model_outputs = self.gpt2_model(**tokenized_input, labels=tokenized_input[\"input_ids\"])\n",
    "                \n",
    "            _input_len = tokenized_input['input_ids'].size(1)\n",
    "            score = -model_outputs.loss.item() * (_input_len - 1)  # (log(p))\n",
    "            cand_scores.append({\"cand\": c, \"score\": score})\n",
    "\n",
    "        cand_scores.sort(key=lambda d : d[\"score\"], reverse=True)\n",
    "        return cand_scores\n",
    "    \n",
    "    "
   ]
  },
  {
   "cell_type": "code",
   "execution_count": 224,
   "metadata": {},
   "outputs": [
    {
     "name": "stderr",
     "output_type": "stream",
     "text": [
      "Some weights of the model checkpoint at bert-base-uncased were not used when initializing BertForMaskedLM: ['cls.seq_relationship.weight', 'cls.seq_relationship.bias']\n",
      "- This IS expected if you are initializing BertForMaskedLM from the checkpoint of a model trained on another task or with another architecture (e.g. initializing a BertForSequenceClassification model from a BertForPretraining model).\n",
      "- This IS NOT expected if you are initializing BertForMaskedLM from the checkpoint of a model that you expect to be exactly identical (initializing a BertForSequenceClassification model from a BertForSequenceClassification model).\n"
     ]
    }
   ],
   "source": [
    "lm_probe_joint = LMProbe_Joint()"
   ]
  },
  {
   "cell_type": "code",
   "execution_count": 225,
   "metadata": {
    "scrolled": true
   },
   "outputs": [
    {
     "name": "stdout",
     "output_type": "stream",
     "text": [
      "BERT scores:\n",
      "{\n",
      "  \"good\": -3.820184215986424,\n",
      "  \"plan\": -5.464548142423097,\n",
      "  \"nice\": -5.78993798238308\n",
      "}\n",
      "GPT2 scores:\n",
      "{\n",
      "  \"good\": -21.302223205566406,\n",
      "  \"nice\": -23.64457607269287,\n",
      "  \"plan\": -27.965281009674072\n",
      "}\n",
      "Pearson:\n",
      "(0.9899664636147664, 0.09025804686068711)\n",
      "BERT scores:\n",
      "{\n",
      "  \"good plan\": -7.813247270006006\n",
      "}\n",
      "GPT2 scores:\n",
      "{\n",
      "  \"good plan\": -24.808178901672363\n",
      "}\n"
     ]
    },
    {
     "data": {
      "text/plain": [
       "[{'cand': 'good plan', 'score': -3.544025557381766},\n",
       " {'cand': 'good', 'score': -3.582741819734341},\n",
       " {'cand': 'plan', 'score': -3.856802474140453},\n",
       " {'cand': 'nice', 'score': -3.9110341141337837}]"
      ]
     },
     "execution_count": 225,
     "metadata": {},
     "output_type": "execute_result"
    }
   ],
   "source": [
    "lm_probe_joint.joint_score_candidates(\"They have a very [MASK] .\", [\"good\", \"plan\", \"nice\", \"good plan\"])"
   ]
  },
  {
   "cell_type": "code",
   "execution_count": null,
   "metadata": {},
   "outputs": [],
   "source": []
  },
  {
   "cell_type": "code",
   "execution_count": null,
   "metadata": {},
   "outputs": [],
   "source": []
  },
  {
   "cell_type": "markdown",
   "metadata": {},
   "source": [
    "# Knowledge Verification baseline\n",
    "(finding co-occurrences of head / tail from corpus)"
   ]
  },
  {
   "cell_type": "code",
   "execution_count": 44,
   "metadata": {},
   "outputs": [],
   "source": [
    "# rel_extraction_path = os.path.join(base_dir, f'data/{data_ac}/intermediate/rel_extraction.csv')\n",
    "# # corpus_path = os.path.join(base_dir, f'data/{data_ac}/intermediate/sentences.json')\n",
    "\n",
    "# indeed_dataset_path = '/home/ubuntu/users/nikita/data/indeed/indeedQA/question_answers.csv'\n",
    "# company_path = '/home/ubuntu/users/nikita/data/indeed/indeedQA/fccid-companyName.csv'\n",
    "\n",
    "# # with open(corpus_path, 'r') as f:\n",
    "# #     sent_dicts = [json.loads(l) for l in tqdm(f.readlines())]\n",
    "\n",
    "# indeed_dataset = pd.read_csv(indeed_dataset_path)\n",
    "# indeed_dataset = indeed_dataset[indeed_dataset['answerContent'].notna()]\n",
    "# company_df = pd.read_csv(company_path)\n",
    "# company_dict = dict(zip(company_df[\"fccompanyId\"].to_list(), company_df[\"companyName\"].to_list()))\n",
    "\n",
    "# indeed_dataset.shape, len(company_dict)"
   ]
  },
  {
   "cell_type": "code",
   "execution_count": 54,
   "metadata": {},
   "outputs": [],
   "source": [
    "rel_extraction_path = os.path.join(base_dir, f'data/{data_ac}/intermediate/rel_extraction.csv')\n",
    "corpus_path = os.path.join(base_dir, f'data/{data_ac}/intermediate/sentences_with_company.json')"
   ]
  },
  {
   "cell_type": "code",
   "execution_count": 55,
   "metadata": {},
   "outputs": [
    {
     "data": {
      "text/plain": [
       "(3600, 7)"
      ]
     },
     "execution_count": 55,
     "metadata": {},
     "output_type": "execute_result"
    }
   ],
   "source": [
    "df_relations = pd.read_csv(rel_extraction_path)\n",
    "df_relations.shape"
   ]
  },
  {
   "cell_type": "code",
   "execution_count": 56,
   "metadata": {},
   "outputs": [
    {
     "data": {
      "application/vnd.jupyter.widget-view+json": {
       "model_id": "1819f0b55e494a85aab302ac773cb8fd",
       "version_major": 2,
       "version_minor": 0
      },
      "text/plain": [
       "HBox(children=(FloatProgress(value=0.0, max=413232.0), HTML(value='')))"
      ]
     },
     "metadata": {},
     "output_type": "display_data"
    },
    {
     "name": "stdout",
     "output_type": "stream",
     "text": [
      "\n"
     ]
    },
    {
     "data": {
      "text/plain": [
       "413232"
      ]
     },
     "execution_count": 56,
     "metadata": {},
     "output_type": "execute_result"
    }
   ],
   "source": [
    "with open(corpus_path, 'r') as f:\n",
    "    sent_dicts = [json.loads(l) for l in tqdm(f.readlines())]\n",
    "\n",
    "len(sent_dicts)"
   ]
  },
  {
   "cell_type": "code",
   "execution_count": 57,
   "metadata": {},
   "outputs": [
    {
     "data": {
      "text/plain": [
       "{'tokens': ['What', 'is', 'the', 'age', 'limit', '.'],\n",
       " 'company': 'Marshalls',\n",
       " 'entities': ['age limit', 'marshalls']}"
      ]
     },
     "execution_count": 57,
     "metadata": {},
     "output_type": "execute_result"
    }
   ],
   "source": [
    "sent_dicts[1010]"
   ]
  },
  {
   "cell_type": "code",
   "execution_count": 58,
   "metadata": {},
   "outputs": [],
   "source": [
    "## Entailment model \n",
    "yutong_base_dir = \"/home/ubuntu/users/yutong\"\n",
    "roberta_ses_dir = os.path.join(yutong_base_dir, \"repos\", \"Roberta_SES\")"
   ]
  },
  {
   "cell_type": "code",
   "execution_count": 59,
   "metadata": {},
   "outputs": [],
   "source": [
    "# 0 = contra, 1 = neutral, 2 = entail\n",
    "entailment_model = Roberta_SES_Entailment(roberta_path='/home/ubuntu/users/yutong/models/roberta-large',\n",
    "        ckpt_path=os.path.join(roberta_ses_dir, 'checkpoints/epoch=2-valid_loss=-0.2620-valid_acc_end=0.9223.ckpt'),\n",
    "        max_length=512,\n",
    "        device_name='cpu')"
   ]
  },
  {
   "cell_type": "code",
   "execution_count": 60,
   "metadata": {},
   "outputs": [
    {
     "data": {
      "text/plain": [
       "(tensor(0), tensor([0.9978, 0.0012, 0.0010]))"
      ]
     },
     "execution_count": 60,
     "metadata": {},
     "output_type": "execute_result"
    }
   ],
   "source": [
    "entailment_model.predict(\n",
    "    \"walmart : no you can have tattoo\",\n",
    "    \"walmart allows tattoos\"\n",
    ")"
   ]
  },
  {
   "cell_type": "code",
   "execution_count": 61,
   "metadata": {
    "code_folding": [
     12
    ]
   },
   "outputs": [],
   "source": [
    "# KV for (walmart, has_dress_code, uniform)\n",
    "\n",
    "_pos_templates = [\n",
    "    '{0} allows {1}',\n",
    "    '{0} requires {1}',\n",
    "]\n",
    "\n",
    "_neg_templates = [\n",
    "    '{0} doesn\\'t allow {1}',\n",
    "    '{0} doesn\\'t require {1}',\n",
    "]\n",
    "\n",
    "def find_evidences(head, tail, corpus=sent_dicts):\n",
    "    # (s1(evid), s2(tmpl), score)\n",
    "    _pos_evidences = []\n",
    "    _neg_evidences = []\n",
    "\n",
    "    for i, d in enumerate(sent_dicts):\n",
    "        if i > 0 and i % 50000 == 0:\n",
    "            print(f'Progress: {i} / {len(sent_dicts)}')\n",
    "            \n",
    "#         _company_id = row['fccompanyId']\n",
    "#         _company = company_dict[_company_id]\n",
    "\n",
    "#         _answer = row['answerContent']\n",
    "#         _tokens = [str(t) for t in spacy_tokenizer(_answer)]\n",
    "#         _s = f\" {_company.lower()} : {' '.join(_tokens).lower()} \"\n",
    "        _company = d['company']\n",
    "        _tokens = d['tokens']\n",
    "        _s = f\"{_company.lower()} : {' '.join(_tokens).lower()}\"\n",
    "\n",
    "        if head in d['entities'] and tail in d['entities']:\n",
    "            # Try all pos/neg relation templates, save the best template  \n",
    "            _max_pos_ev = (None, None, 0)\n",
    "            for _tmpl in _pos_templates:\n",
    "                _tmpl_filled = _tmpl.format(head, tail)\n",
    "                _entail_pred, _entail_probs = entailment_model.predict(_s, _tmpl_filled)\n",
    "                _entail_score = _entail_probs[2].item()\n",
    "                if _entail_score > _max_pos_ev[-1]:\n",
    "                    _max_pos_ev = (_s, _tmpl_filled, _entail_score)\n",
    "\n",
    "            _max_neg_ev = (None, None, 0)\n",
    "            for _tmpl in _neg_templates:\n",
    "                _tmpl_filled = _tmpl.format(head, tail)\n",
    "                _entail_pred, _entail_probs = entailment_model.predict(_s, _tmpl_filled)\n",
    "                _entail_score = _entail_probs[2].item()\n",
    "                if _entail_score > _max_neg_ev[-1]:\n",
    "                    _max_neg_ev = (_s, _tmpl_filled, _entail_score)\n",
    "\n",
    "            _pos_evidences.append(_max_pos_ev)\n",
    "            _neg_evidences.append(_max_neg_ev)\n",
    "    \n",
    "    _pos_evidences.sort(key=lambda p : p[-1], reverse=True)\n",
    "    _neg_evidences.sort(key=lambda p : p[-1], reverse=True)\n",
    "    \n",
    "    return _pos_evidences, _neg_evidences"
   ]
  },
  {
   "cell_type": "code",
   "execution_count": null,
   "metadata": {
    "scrolled": true
   },
   "outputs": [],
   "source": [
    "_pos_evidences, _neg_evidences = find_evidences('walmart', 'black jeans')\n",
    "'POS:', _pos_evidences[:10], 'NEG:', _neg_evidences[:10]"
   ]
  },
  {
   "cell_type": "code",
   "execution_count": 80,
   "metadata": {
    "hide_input": true
   },
   "outputs": [],
   "source": [
    "def find_evidences_RE(df_relations, corpus=sent_dicts, p_thres=0.7):\n",
    "    ## TODO: to script \n",
    "    \n",
    "    # Dict[Tuple(head, rel, tail): List[Tuple(s1(evid), s2(tmpl), score)]]\n",
    "    pos_evidences = defaultdict(list)\n",
    "    neg_evidences = defaultdict(list)\n",
    "    \n",
    "    # collect all relations \n",
    "    rels = []\n",
    "    head2rels = defaultdict(list)\n",
    "    tail2rels = defaultdict(list)\n",
    "    for i, row in df_relations.iterrows():\n",
    "        _h = row['head']\n",
    "        _t = row['tail']\n",
    "        _r = 'has_dress_code'\n",
    "        rels.append((_h, _r, _t))\n",
    "        if row['base'] == 'HEAD':\n",
    "            head2rels[_h].append((_h, _r, _t))\n",
    "        else:\n",
    "            tail2rels[_t].append((_h, _r, _t))\n",
    "\n",
    "    # collect sents for each entity \n",
    "    entity2sents = defaultdict(set)\n",
    "    for i, d in enumerate(sent_dicts):\n",
    "        _s = f\"{d['company']} : {' '.join(d['tokens'])}\".lower()\n",
    "        for _e in d['entities']:\n",
    "            entity2sents[_e].add(_s)\n",
    "    \n",
    "    for _h, _r, _t in tqdm(rels[200::200]):\n",
    "        # assure key existence\n",
    "        _ = pos_evidences[(_h, _r, _t)]\n",
    "        _ = neg_evidences[(_h, _r, _t)]\n",
    "        \n",
    "        h_sents = entity2sents[_h]\n",
    "        t_sents = entity2sents[_t]\n",
    "        intersect_sents = h_sents & t_sents\n",
    "        \n",
    "        for _s in intersect_sents:\n",
    "            _ss = _s.strip()\n",
    "\n",
    "            # Try all pos/neg relation templates, save the best template  \n",
    "            _max_pos_ev = (None, None, 0)\n",
    "            for _tmpl in _pos_templates:\n",
    "                _tmpl_filled = _tmpl.format(_h, _t)\n",
    "                _entail_pred, _entail_probs = entailment_model.predict(_ss, _tmpl_filled)\n",
    "                _entail_score = _entail_probs[2].item()\n",
    "                if _entail_score > _max_pos_ev[-1]:\n",
    "                    _max_pos_ev = (_ss, _tmpl_filled, _entail_score)\n",
    "\n",
    "            _max_neg_ev = (None, None, 0)\n",
    "            for _tmpl in _neg_templates:\n",
    "                _tmpl_filled = _tmpl.format(_h, _t)\n",
    "                _entail_pred, _entail_probs = entailment_model.predict(_ss, _tmpl_filled)\n",
    "                _entail_score = _entail_probs[2].item()\n",
    "                if _entail_score > _max_neg_ev[-1]:\n",
    "                    _max_neg_ev = (_ss, _tmpl_filled, _entail_score)\n",
    "\n",
    "            if _max_pos_ev[-1] > p_thres:\n",
    "                pos_evidences[(_h, _r, _t)].append(_max_pos_ev)\n",
    "            if _max_neg_ev[-1] > p_thres:\n",
    "                neg_evidences[(_h, _r, _t)].append(_max_neg_ev)\n",
    "    \n",
    "    \n",
    "#     # Head-base\n",
    "#     for _h, _rels in rel_head_index.items():\n",
    "#         # First find sentences with _h\n",
    "#         _h_sents = [] \n",
    "#         for i, d in enumerate(sent_dicts):\n",
    "#             _company = d['company']\n",
    "#             _tokens = d['tokens']\n",
    "#             _s = f\" {_company.lower()} : {' '.join(_tokens).lower()} \"\n",
    "#             if f' {_h} ' in _s:\n",
    "#                 _h_sents.append(_s)\n",
    "        \n",
    "#         # KV: check for _t only; entail\n",
    "#         for _h, _r, _t in tqdm(_rels):\n",
    "#             for _s in _h_sents:\n",
    "#                 if f' {_t} ' in _s:\n",
    "#                     _ss = _s.strip()\n",
    "                    \n",
    "#                     # Try all pos/neg relation templates, save the best template  \n",
    "#                     _max_pos_ev = (None, None, 0)\n",
    "#                     for _tmpl in _pos_templates:\n",
    "#                         _tmpl_filled = _tmpl.format(_h, _t)\n",
    "#                         _entail_pred, _entail_probs = entailment_model.predict(_ss, _tmpl_filled)\n",
    "#                         _entail_score = _entail_probs[2].item()\n",
    "#                         if _entail_score > _max_pos_ev[-1]:\n",
    "#                             _max_pos_ev = (_ss, _tmpl_filled, _entail_score)\n",
    "\n",
    "#                     _max_neg_ev = (None, None, 0)\n",
    "#                     for _tmpl in _neg_templates:\n",
    "#                         _tmpl_filled = _tmpl.format(_h, _t)\n",
    "#                         _entail_pred, _entail_probs = entailment_model.predict(_ss, _tmpl_filled)\n",
    "#                         _entail_score = _entail_probs[2].item()\n",
    "#                         if _entail_score > _max_neg_ev[-1]:\n",
    "#                             _max_neg_ev = (_ss, _tmpl_filled, _entail_score)\n",
    "\n",
    "#                     if _max_pos_ev[-1] > p_thres:\n",
    "#                         pos_evidences[(_h, _r, _t)].append(_max_pos_ev)\n",
    "#                     if _max_neg_ev[-1] > p_thres:\n",
    "#                         neg_evidences[(_h, _r, _t)].append(_max_neg_ev)\n",
    "\n",
    "#     # Tail-base\n",
    "#     for _t, _rels in tqdm(rel_tail_index.items(), total=len(rel_tail_index)):\n",
    "#         # First find sentences with _t\n",
    "#         _t_sents = [] \n",
    "#         for i, d in enumerate(sent_dicts):\n",
    "#             _company = d['company']\n",
    "#             _tokens = d['tokens']\n",
    "#             _s = f\" {_company.lower()} : {' '.join(_tokens).lower()} \"\n",
    "#             if f' {_t} ' in _s:\n",
    "#                 _t_sents.append(_s)\n",
    "        \n",
    "#         # KV: check for _h only; entail\n",
    "#         for _h, _r, _t in tqdm(_rels):\n",
    "#             if (_h, _r, _t) in pos_evidences or (_h, _r, _t) in neg_evidences:\n",
    "#                 # already computed \n",
    "#                 continue\n",
    "#             for _s in _t_sents:\n",
    "#                 if f' {_h} ' in _s:\n",
    "#                     _ss = _s.strip()\n",
    "                    \n",
    "#                     # Try all pos/neg relation templates, save the best template  \n",
    "#                     _max_pos_ev = (None, None, 0)\n",
    "#                     for _tmpl in _pos_templates:\n",
    "#                         _tmpl_filled = _tmpl.format(head, tail)\n",
    "#                         _entail_pred, _entail_probs = entailment_model.predict(_ss, _tmpl_filled)\n",
    "#                         _entail_score = _entail_probs[2].item()\n",
    "#                         if _entail_score > _max_pos_ev[-1]:\n",
    "#                             _max_pos_ev = (_ss, _tmpl_filled, _entail_score)\n",
    "\n",
    "#                     _max_neg_ev = (None, None, 0)\n",
    "#                     for _tmpl in _neg_templates:\n",
    "#                         _tmpl_filled = _tmpl.format(head, tail)\n",
    "#                         _entail_pred, _entail_probs = entailment_model.predict(_ss, _tmpl_filled)\n",
    "#                         _entail_score = _entail_probs[2].item()\n",
    "#                         if _entail_score > _max_neg_ev[-1]:\n",
    "#                             _max_neg_ev = (_ss, _tmpl_filled, _entail_score)\n",
    "\n",
    "#                     if _max_pos_ev[-1] > p_thres:\n",
    "#                         pos_evidences[(_h, _r, _t)].append(_max_pos_ev)\n",
    "#                     if _max_neg_ev[-1] > p_thres:\n",
    "#                         neg_evidences[(_h, _r, _t)].append(_max_neg_ev)\n",
    "\n",
    "    for _rel, _evidences in pos_evidences.items():\n",
    "        _evidences.sort(key=lambda p : p[-1], reverse=True)\n",
    "    for _rel, _evidences in neg_evidences.items():\n",
    "        _evidences.sort(key=lambda p : p[-1], reverse=True)\n",
    "    \n",
    "    return pos_evidences, neg_evidences"
   ]
  },
  {
   "cell_type": "code",
   "execution_count": null,
   "metadata": {},
   "outputs": [],
   "source": [
    "pos, neg = find_evidences_RE(df_relations)"
   ]
  },
  {
   "cell_type": "code",
   "execution_count": null,
   "metadata": {
    "scrolled": true
   },
   "outputs": [],
   "source": [
    "dict(pos)"
   ]
  },
  {
   "cell_type": "code",
   "execution_count": null,
   "metadata": {
    "scrolled": true
   },
   "outputs": [],
   "source": [
    "dict(neg)"
   ]
  },
  {
   "cell_type": "code",
   "execution_count": null,
   "metadata": {
    "scrolled": true
   },
   "outputs": [],
   "source": [
    "# Use script \n",
    "!python knowledge_verification_entail.py \\\n",
    "-d $base_dir/data/$data_ac/intermediate \\\n",
    "-in $base_dir/data/$data_ac/intermediate/rel_extraction-has_benefits-RE.csv \\\n",
    "-o_kv $base_dir/data/$data_ac/intermediate/kv_evidences-has_benefits-RE.json \\\n",
    "-o_re $base_dir/data/$data_ac/intermediate/rel_extraction-has_benefits-RE+KV_0.9.csv \\\n",
    "-r $yutong_base_dir/models/roberta-large \\\n",
    "-rs $yutong_base_dir/repos/Roberta_SES/checkpoints/epoch=2-valid_loss=-0.2620-valid_acc_end=0.9223.ckpt \\\n",
    "-p_kv 0.7 \\\n",
    "-p_re 0.9 \\\n",
    "--fast_skip"
   ]
  },
  {
   "cell_type": "code",
   "execution_count": null,
   "metadata": {},
   "outputs": [],
   "source": []
  },
  {
   "cell_type": "code",
   "execution_count": 102,
   "metadata": {},
   "outputs": [
    {
     "data": {
      "text/plain": [
       "138"
      ]
     },
     "execution_count": 102,
     "metadata": {},
     "output_type": "execute_result"
    }
   ],
   "source": [
    "# Evaluate \n",
    "benchmark_path = os.path.join(base_dir, f'data/indeed-benchmark/benchmark_evidence_clean.csv')\n",
    "\n",
    "benchmark_relations_list = load_benchmark_relations(benchmark_path)\n",
    "len(benchmark_relations_list)"
   ]
  },
  {
   "cell_type": "code",
   "execution_count": 103,
   "metadata": {},
   "outputs": [
    {
     "data": {
      "text/plain": [
       "933"
      ]
     },
     "execution_count": 103,
     "metadata": {},
     "output_type": "execute_result"
    }
   ],
   "source": [
    "kv_evidences_path = os.path.join(base_dir, f'data/{data_ac}/intermediate/kv_evidences.json')\n",
    "\n",
    "with open(kv_evidences_path, 'r') as f:\n",
    "    kv_evidences = [json.loads(l) for l in f.readlines()]\n",
    "len(kv_evidences)"
   ]
  },
  {
   "cell_type": "code",
   "execution_count": 126,
   "metadata": {
    "scrolled": false
   },
   "outputs": [
    {
     "data": {
      "text/plain": [
       "666"
      ]
     },
     "execution_count": 126,
     "metadata": {},
     "output_type": "execute_result"
    }
   ],
   "source": [
    "p_thres = 0.9\n",
    "\n",
    "kv_filtered_rels = []\n",
    "for d in kv_evidences:\n",
    "    _h, _r, _t = d['relation']\n",
    "    _pos_evs = d['pos_evidences']\n",
    "    _neg_evs = d['neg_evidences']\n",
    "    if (len(_pos_evs) > 0 and _pos_evs[0][-1] > p_thres):\n",
    "        kv_filtered_rels.append((_h, _t))\n",
    "    elif (len(_neg_evs) > 0 and _neg_evs[0][-1] > p_thres):\n",
    "        kv_filtered_rels.append((_h, _t))\n",
    "\n",
    "len(kv_filtered_rels)"
   ]
  },
  {
   "cell_type": "code",
   "execution_count": 127,
   "metadata": {},
   "outputs": [
    {
     "data": {
      "text/plain": [
       "(107, 665, 6)"
      ]
     },
     "execution_count": 127,
     "metadata": {},
     "output_type": "execute_result"
    }
   ],
   "source": [
    "benchmark_relations_set = set([tuple(d.values()) for d in benchmark_relations_list])\n",
    "kv_filtered_rels_set = set(kv_filtered_rels)\n",
    "\n",
    "intersection = benchmark_relations_set & kv_filtered_rels_set\n",
    "\n",
    "len(benchmark_relations_set), len(kv_filtered_rels_set), len(intersection)\n"
   ]
  },
  {
   "cell_type": "code",
   "execution_count": 128,
   "metadata": {},
   "outputs": [
    {
     "data": {
      "text/plain": [
       "{('best buy', 'uniform'),\n",
       " ('costco', 'hair color'),\n",
       " ('dd', 'facial hair'),\n",
       " ('dollar tree', 'uniform'),\n",
       " ('family dollar', 'facial hair'),\n",
       " ('walmart', 'uniform')}"
      ]
     },
     "execution_count": 128,
     "metadata": {},
     "output_type": "execute_result"
    }
   ],
   "source": [
    "intersection"
   ]
  },
  {
   "cell_type": "code",
   "execution_count": null,
   "metadata": {},
   "outputs": [],
   "source": [
    "for d in kv_evidences:\n",
    "    _h, _r, _t = d['relation']\n",
    "    _pos_evs = d['pos_evidences']\n",
    "    _neg_evs = d['neg_evidences']\n",
    "    \n",
    "    if (_h, _t) in intersection:\n",
    "        print(_h, _t)\n",
    "        _max = sorted(_pos_evs + _neg_evs, key=lambda p : p[-1], reverse=True)[0]\n",
    "        print(_max)\n",
    "        print()"
   ]
  },
  {
   "cell_type": "code",
   "execution_count": null,
   "metadata": {},
   "outputs": [],
   "source": [
    "test_kv_evidences = list(kv_evidences)\n",
    "\n",
    "for d in test_kv_evidences:\n",
    "    _h, _r, _t = d['relation']\n",
    "    _pos_evs = d['pos_evidences'][:5]\n",
    "    _neg_evs = d['neg_evidences'][:5]\n",
    "    \n",
    "    _max = sorted(_pos_evs + _neg_evs, key=lambda p : p[-1], reverse=True)[0]\n",
    "    d['pos_evidences'] = _pos_evs\n",
    "    d['neg_evidences'] = _neg_evs\n",
    "    d['max_ev'] = _max\n",
    "\n",
    "sorted(test_kv_evidences, key=lambda d : d['max_ev'][-1], reverse=True)[:20]"
   ]
  },
  {
   "cell_type": "code",
   "execution_count": null,
   "metadata": {},
   "outputs": [],
   "source": []
  },
  {
   "cell_type": "code",
   "execution_count": null,
   "metadata": {},
   "outputs": [],
   "source": []
  },
  {
   "cell_type": "code",
   "execution_count": null,
   "metadata": {},
   "outputs": [],
   "source": [
    "# Discussions:\n",
    "# coherence clustering / ensemble models?\n",
    "# trying for other relations or entities\n",
    "# using entities in sub-categories\n",
    "# fine-tuning\n",
    "# ambiguous samples (high for pos and neg)\n",
    "# quantitative-evaluation"
   ]
  },
  {
   "cell_type": "code",
   "execution_count": null,
   "metadata": {},
   "outputs": [],
   "source": []
  },
  {
   "cell_type": "code",
   "execution_count": null,
   "metadata": {},
   "outputs": [],
   "source": []
  },
  {
   "cell_type": "markdown",
   "metadata": {},
   "source": [
    "# Mine Prompts"
   ]
  },
  {
   "cell_type": "code",
   "execution_count": 13,
   "metadata": {},
   "outputs": [],
   "source": [
    "# Explore various techniques\n",
    "# Get prompts \"between\" entities\n",
    "# Get prompts by syntactic parsing\n",
    "# Get prompts by paraphrasing\n",
    "# Get prompts uisng AutoPrompt"
   ]
  },
  {
   "cell_type": "code",
   "execution_count": 14,
   "metadata": {},
   "outputs": [],
   "source": [
    "# visit here: /meg-kb/src/analysis/pattern_mining.ipynb"
   ]
  },
  {
   "cell_type": "code",
   "execution_count": 15,
   "metadata": {},
   "outputs": [],
   "source": [
    "_nlp = spacy.load('en_core_web_sm')"
   ]
  },
  {
   "cell_type": "code",
   "execution_count": 98,
   "metadata": {},
   "outputs": [
    {
     "name": "stdout",
     "output_type": "stream",
     "text": [
      "0 Amazon []\n",
      "1 is [Amazon, place, .]\n",
      "2 a []\n",
      "3 good []\n",
      "4 place [a, good, for]\n",
      "5 for [working]\n",
      "6 working [as]\n",
      "7 as [time]\n",
      "8 a []\n",
      "9 part []\n",
      "10 - []\n",
      "11 time [a, part, -]\n",
      "12 . []\n"
     ]
    }
   ],
   "source": [
    "_sent = \"Amazon is a good place for working as a part-time.\"\n",
    "_doc = _nlp(_sent)\n",
    "for _t in _doc:\n",
    "    print(_t.i, _t, list(_t.children))"
   ]
  },
  {
   "cell_type": "code",
   "execution_count": 99,
   "metadata": {},
   "outputs": [
    {
     "data": {
      "text/plain": [
       "<networkx.classes.graph.Graph at 0x7fbf27eb0430>"
      ]
     },
     "execution_count": 99,
     "metadata": {},
     "output_type": "execute_result"
    }
   ],
   "source": [
    "edges = []\n",
    "for _t in _doc:\n",
    "    for child in _t.children:\n",
    "        edges.append(('{}-{}'.format(_t.lower_,_t.i), '{}-{}'.format(child.lower_,child.i))) \n",
    "\n",
    "graph = nx.Graph(edges)\n",
    "graph"
   ]
  },
  {
   "cell_type": "code",
   "execution_count": 100,
   "metadata": {},
   "outputs": [
    {
     "data": {
      "text/plain": [
       "EdgeView([('is-1', 'amazon-0'), ('is-1', 'place-4'), ('is-1', '.-12'), ('place-4', 'a-2'), ('place-4', 'good-3'), ('place-4', 'for-5'), ('for-5', 'working-6'), ('working-6', 'as-7'), ('as-7', 'time-11'), ('time-11', 'a-8'), ('time-11', 'part-9'), ('time-11', '--10')])"
      ]
     },
     "execution_count": 100,
     "metadata": {},
     "output_type": "execute_result"
    }
   ],
   "source": [
    "graph.edges"
   ]
  },
  {
   "cell_type": "code",
   "execution_count": 101,
   "metadata": {},
   "outputs": [
    {
     "name": "stdout",
     "output_type": "stream",
     "text": [
      "['amazon-0', 'is-1', 'place-4', 'for-5', 'working-6', 'as-7', 'time-11']\n"
     ]
    }
   ],
   "source": [
    "_src = 'amazon-0'\n",
    "_tgt = 'time-11'\n",
    "if nx.has_path(graph, source=_src, target=_tgt):\n",
    "    path = nx.shortest_path(graph, source=_src, target=_tgt)\n",
    "    print(path)"
   ]
  },
  {
   "cell_type": "code",
   "execution_count": 102,
   "metadata": {},
   "outputs": [
    {
     "data": {
      "text/plain": [
       "True"
      ]
     },
     "execution_count": 102,
     "metadata": {},
     "output_type": "execute_result"
    }
   ],
   "source": [
    "'amazon-0' in graph"
   ]
  },
  {
   "cell_type": "code",
   "execution_count": 103,
   "metadata": {},
   "outputs": [
    {
     "data": {
      "text/plain": [
       "False"
      ]
     },
     "execution_count": 103,
     "metadata": {},
     "output_type": "execute_result"
    }
   ],
   "source": [
    "('is-1', 'amazon-0') in graph"
   ]
  },
  {
   "cell_type": "markdown",
   "metadata": {},
   "source": [
    "## Using prompts to retrieve"
   ]
  },
  {
   "cell_type": "code",
   "execution_count": 7,
   "metadata": {},
   "outputs": [],
   "source": [
    "corpus_path = os.path.join(base_dir, f'data/{data_ac}/intermediate/sentences_with_company.json')"
   ]
  },
  {
   "cell_type": "code",
   "execution_count": 8,
   "metadata": {},
   "outputs": [
    {
     "data": {
      "text/plain": [
       "413232"
      ]
     },
     "execution_count": 8,
     "metadata": {},
     "output_type": "execute_result"
    }
   ],
   "source": [
    "with open(corpus_path, 'r') as f:\n",
    "    corpus = [json.loads(l) for l in f]\n",
    "len(corpus)"
   ]
  },
  {
   "cell_type": "code",
   "execution_count": 104,
   "metadata": {},
   "outputs": [],
   "source": [
    "def _prompt_retrieve(prompt):\n",
    "    ret = []\n",
    "    \n",
    "    for d in corpus:\n",
    "        _entities = d['entities']\n",
    "        _tokens = d['tokens']\n",
    "        if len(_entities) < 2:\n",
    "            continue\n",
    "\n",
    "        _sent = ' '.join(_tokens).lower()\n",
    "        if f' {prompt} ' not in _sent:\n",
    "            continue\n",
    "        \n",
    "        _p_idx = _sent.index(f' {prompt} ') + 1\n",
    "        _e_indices = [_sent.find(e) for e in _entities]\n",
    "        if max(_e_indices) < 0:\n",
    "            continue\n",
    "        _l_indices = [(i, e) for i, e in zip(_e_indices, _entities) if 0 <= i < _p_idx]\n",
    "        _r_indices = [(i, e) for i, e in zip(_e_indices, _entities) if i > _p_idx]\n",
    "        if len(_l_indices) == 0 or len(_r_indices) == 0:\n",
    "            continue\n",
    "        _l_idx, _l_ent = max(_l_indices, key=lambda p: p[0])\n",
    "        _r_idx, _r_ent = min(_r_indices, key=lambda p: p[0])\n",
    "#         _r_idx += len(_r_ent)\n",
    "\n",
    "        ## Extracting dep path \n",
    "        doc = _nlp(_sent)\n",
    "        src_matcher = Matcher(nlp.vocab)\n",
    "        src_pattern = [{\"LOWER\": t} for t in _l_ent.split(' ')]\n",
    "        src_matcher.add(\"src\", [src_pattern])\n",
    "        \n",
    "        prompt_matcher = Matcher(nlp.vocab)\n",
    "        prompt_pattern = [{\"LOWER\": t} for t in prompt.split(' ')]\n",
    "        prompt_matcher.add(\"prompt\", [prompt_pattern])\n",
    "\n",
    "        tgt_matcher = Matcher(nlp.vocab)\n",
    "        tgt_pattern = [{\"LOWER\": t} for t in _r_ent.split(' ')]\n",
    "        tgt_matcher.add(\"tgt\", [tgt_pattern])\n",
    "        \n",
    "        src_matches = src_matcher(doc)\n",
    "        if len(src_matches) == 0:\n",
    "            print('src not matched')\n",
    "            continue\n",
    "        tgt_matches = tgt_matcher(doc)\n",
    "        if len(tgt_matches) == 0:\n",
    "            print('tgt not matched')\n",
    "            continue\n",
    "        prompt_matches = prompt_matcher(doc)\n",
    "        if len(prompt_matches) == 0:\n",
    "            print('prompt not matched')\n",
    "            continue\n",
    "        \n",
    "        src_match = None\n",
    "        src_span = None\n",
    "        for _m in src_matches:\n",
    "            if doc[_m[1]].idx == _l_idx:\n",
    "                src_match = _m[0]\n",
    "                src_span = doc[_m[1]: _m[2]]\n",
    "                break\n",
    "        \n",
    "        prompt_match = None\n",
    "        prompt_span = None\n",
    "        for _m in prompt_matches:\n",
    "            if doc[_m[1]].idx == _p_idx:\n",
    "                prompt_match = _m[0]\n",
    "                prompt_span = doc[_m[1]: _m[2]]\n",
    "                break\n",
    "        \n",
    "        tgt_match = None\n",
    "        tgt_span = None\n",
    "        for _m in tgt_matches:\n",
    "            if doc[_m[1]].idx == _r_idx:\n",
    "                tgt_match = _m[0]\n",
    "                tgt_span = doc[_m[1]: _m[2]]\n",
    "                break\n",
    "        \n",
    "        if None in (src_match, prompt_match, tgt_match):\n",
    "            print('_sent:', _sent)\n",
    "            print(_l_ent, prompt, _r_ent)\n",
    "            print(src_match, prompt_match, tgt_match)\n",
    "            print()\n",
    "            continue\n",
    "        \n",
    "        if len(spacy.util.filter_spans([src_span, prompt_span, tgt_span])) != 3: # distinct_spans\n",
    "            print('overlapping spans')\n",
    "            continue\n",
    "        \n",
    "        src_root = src_span.root\n",
    "        prompt_root = prompt_span.root\n",
    "        tgt_root = tgt_span.root\n",
    "        \n",
    "        edges = []\n",
    "        for token in doc:\n",
    "            for child in token.children:\n",
    "                edges.append(('{}-{}'.format(token.lower_,token.i), '{}-{}'.format(child.lower_,child.i)))\n",
    "#         print(edges)\n",
    "        \n",
    "        graph = nx.Graph(edges)\n",
    "        path = None\n",
    "        source = '{}-{}'.format(src_root.lower_, src_root.i)\n",
    "        middle = '{}-{}'.format(prompt_root.lower_, prompt_root.i)\n",
    "        target = '{}-{}'.format(tgt_root.lower_, tgt_root.i)\n",
    "        if any([n not in graph for n in (source, middle, target)]):\n",
    "            continue\n",
    "        if nx.has_path(graph, source=source, target=middle) and nx.has_path(graph, source=middle, target=target):\n",
    "            path1 = nx.shortest_path(graph, source=source, target=middle)\n",
    "            path2 = nx.shortest_path(graph, source=middle, target=target)\n",
    "            path = path1 + path2[1:]\n",
    "        \n",
    "        if path is not None:\n",
    "            for t in src_span:\n",
    "                n = '{}-{}'.format(t.lower_, t.i)  \n",
    "                if n not in path:\n",
    "                    path.append(n)\n",
    "            for t in prompt_span:\n",
    "                n = '{}-{}'.format(t.lower_, t.i)\n",
    "                if n not in path:\n",
    "                    path.append(n)\n",
    "            for t in tgt_span:\n",
    "                n = '{}-{}'.format(t.lower_, t.i)\n",
    "                if n not in path:\n",
    "                    path.append(n)\n",
    "        else:\n",
    "            continue\n",
    "        \n",
    "        path_nodes = dict()\n",
    "        for p in path:\n",
    "            t, i = p.rsplit('-', 1)\n",
    "            i = int(i)\n",
    "            path_nodes[i] = t\n",
    "        path_nodes = sorted(path_nodes.items(), key=lambda x: x[0])\n",
    "        pattern = ' '.join([p[1] for p in path_nodes])\n",
    "\n",
    "        print('_sent:', _sent)\n",
    "        print(path)\n",
    "        print(pattern, (_l_ent, _r_ent))\n",
    "        print()\n",
    "        ret.append(pattern)\n",
    "        if len(ret) >= 100:\n",
    "            break\n",
    "        \n",
    "    return ret\n",
    "    "
   ]
  },
  {
   "cell_type": "code",
   "execution_count": 105,
   "metadata": {},
   "outputs": [
    {
     "name": "stdout",
     "output_type": "stream",
     "text": [
      "_sent: this company has a great lp !\n",
      "['company-1', 'has-2', 'lp-5']\n",
      "company has lp ('company', 'lp')\n",
      "\n",
      "_sent: at&t has many ways to receive higher education .\n",
      "['at&t-0', 'has-1', 'ways-3', 'receive-5', 'education-7', 'higher-6']\n",
      "at&t has ways receive higher education ('at&t', 'higher education')\n",
      "\n",
      "_sent: will at&t hire someone who has a pending felony charge but has not been convicted of it from over three years ago ?\n",
      "['at&t-1', 'hire-2', 'someone-3', 'has-5', 'charge-9', 'pending-7', 'felony-8']\n",
      "at&t hire someone has pending felony charge ('at&t', 'pending felony')\n",
      "\n",
      "_sent: yes , at&t has a generous telecommuting policy .\n",
      "['at&t-2', 'has-3', 'policy-7', 'telecommuting-6']\n",
      "at&t has telecommuting policy ('at&t', 'telecommuting')\n",
      "\n",
      "_sent: management has their own issues because upper management keeps pressure on lower management for unattainable results .\n",
      "['management-0', 'has-1', 'keeps-8', 'management-7', 'upper-6']\n",
      "management has upper management keeps ('management', 'upper')\n",
      "\n",
      "_sent: at&t has all company policy and procedures .\n",
      "['at&t-0', 'has-1', 'policy-4', 'company-3']\n",
      "at&t has company policy ('at&t', 'company')\n",
      "\n",
      "_sent: like all call centers , at&t has a strict attendance policy .\n",
      "['at&t-5', 'has-6', 'policy-10', 'attendance-9']\n",
      "at&t has attendance policy ('at&t', 'attendance policy')\n",
      "\n",
      "_sent: i started right out of high school and had been my only career , but the last three to four years has been the ultimate worst side of our company i have ever seen .\n",
      "['school-6', 'of-4', 'out-3', 'started-1', 'been-22', 'has-21', 'been-22', 'side-26', 'of-27', 'company-29']\n",
      "started out of school has been side of company ('school', 'company')\n",
      "\n",
      "_sent: management has been made to micromanage on the hour , every hour to monitor results , and so much focus on call flow , makes the customers feel like we are n't listening to them when we follow it .\n",
      "['management-0', 'made-3', 'has-1', 'made-3', 'micromanage-5', 'hour-11', 'monitor-13', 'results-14']\n",
      "management has made micromanage hour monitor results ('management', 'results')\n",
      "\n",
      "_sent:   company has put an emphasis in contracting and outsourcing to overseas .\n",
      "['company-1', 'put-3', 'has-2', 'put-3', 'in-6', 'contracting-7', 'outsourcing-9']\n",
      "company has put in contracting outsourcing ('company', 'outsourcing')\n",
      "\n",
      "_sent: my personal experience , yes , at&t , has the right and they exercise that right , to randomly drug test you , any given time of any day , when you arrive at work or during that day of work you can be notified to go get tested , you do so ..... asap\n",
      "['at&t-6', 'experience-2', 'has-8', 'exercise-13', 'randomly-18', 'drug-19', 'test-20']\n",
      "experience at&t has exercise randomly drug test ('at&t', 'randomly drug test')\n",
      "\n",
      "_sent: i would imagine that at&t , like many companies that operate call centers , probably has positions that allow for telecommuting , though i did not work in such a capacity for them .\n",
      "['centers-12', 'operate-10', 'companies-8', 'like-6', 'has-15', 'positions-16', 'allow-18', 'for-19', 'telecommuting-20', 'call-11']\n",
      "like companies operate call centers has positions allow for telecommuting ('call centers', 'telecommuting')\n",
      "\n",
      "_sent: at&t has a very strict code of business conduct and have a zero tolerance attitude towards violating any of the policies .\n",
      "['at&t-0', 'has-1', 'code-5', 'of-6', 'conduct-8', 'business-7']\n",
      "at&t has code of business conduct ('at&t', 'business')\n",
      "\n",
      "_sent: at&t as far as i know has n't ever done a credit check on me or any other employee .\n",
      "['at&t-0', 'far-2', 'done-9', 'has-6', 'done-9', 'check-12', 'credit-11']\n",
      "at&t far has done credit check ('at&t', 'credit check')\n",
      "\n",
      "_sent: no , at&t has a no marijuana policy .\n",
      "['at&t-2', 'has-3', 'policy-7', 'marijuana-6']\n",
      "at&t has marijuana policy ('at&t', 'marijuana')\n",
      "\n",
      "_sent:   the company has very good benefits and will reward you for hard work .\n",
      "['company-2', 'has-3', 'benefits-6']\n",
      "company has benefits ('company', 'benefits')\n",
      "\n",
      "_sent: at&t has slow internal decision processes , have patience .\n",
      "['at&t-0', 'has-1', 'have-7', 'patience-8']\n",
      "at&t has have patience ('at&t', 'patience')\n",
      "\n",
      "_sent: skechers has non slip , they are the most comfortable , durable , work shoes i 've ever bought .\n",
      "['skechers-0', 'has-1', 'slip-3', 'non-2']\n",
      "skechers has non slip ('skechers', 'non slip')\n",
      "\n",
      "_sent: oh we had a guy that fell his background check for  \n",
      "  impostering police and firemen brought it to our manager 's attention it 's on the \n",
      " internet that he 's a liar and a scammer scammer and has done time in prison nothing got done so it really does n't matter about the background check so yeah you got hired congratulations\n",
      "['internet-28', 'on-25', \"'s-24\", \"'s-31\", 'done-40', 'has-39', 'done-40', 'in-42', 'prison-43']\n",
      "'s on internet 's has done in prison ('internet', 'prison')\n",
      "\n",
      "_sent: can go through cb to get oxfords for roughly $ 10 a piece ) \n",
      "\n",
      " apron ( depending upon position can have decorative pins ) \n",
      "\n",
      " pants must reach the ankle and be of either cotton or polyester material in navy blue , black , or khaki ( if it has belt loops a belt has to be worn -- i think brown leather ) .\n",
      "['khaki-46', 'black-43', 'blue-41', 'in-39', 'cotton-35', 'of-33', 'be-32', 'reach-28', 'has-55', 'has-50', 'loops-52', 'belt-51']\n",
      "reach be of cotton in blue black khaki has belt loops has ('khaki', 'belt loops')\n",
      "\n",
      "_sent: cracker barrel has a website where you can order uniforms\n",
      "['barrel-1', 'has-2', 'website-4', 'cracker-0']\n",
      "cracker barrel has website ('cracker barrel', 'website')\n",
      "\n",
      "_sent: their daily volume of guests and the need to step into the age of technology has caused them to update their hiring process .\n",
      "['technology-14', 'of-13', 'age-12', 'into-10', 'step-9', 'need-7', 'volume-2', 'caused-16', 'has-15', 'caused-16', 'update-19', 'process-22', 'hiring-21']\n",
      "volume need step into age of technology has caused update hiring process ('technology', 'hiring process')\n",
      "\n",
      "_sent: raises are given out frequently but it should be known retail has probably the lowest pay scale in the store and they keep adding to the responsibilities .\n",
      "['retail-10', 'has-11', 'scale-16', 'pay-15']\n",
      "retail has pay scale ('retail', 'pay scale')\n",
      "\n",
      "_sent: i believe that cracker barrel should pay for drug tests , especially if the test comes back negative and if that person has no history of drug use .\n",
      "test has history\n",
      "None 10540441779542591554 14930118741968279164\n",
      "\n",
      "_sent: nail polish / acrylic is allowed only if you do not handle food products and it has to be a color that matches your skin tone\n",
      "['products-13', 'handle-11', 'allowed-5', 'has-16', 'be-18', 'color-20', 'matches-22', 'tone-25', 'skin-24']\n",
      "allowed handle products has be color matches skin tone ('products', 'skin')\n",
      "\n",
      "_sent: yes the company has lay offs\n",
      "['company-2', 'lay-4', 'has-3', 'lay-4', 'offs-5']\n",
      "company has lay offs ('company', 'lay offs')\n",
      "\n",
      "_sent: tattoos has to be covered because it is a corporate setting .\n",
      "['tattoos-0', 'has-1', 'covered-4']\n",
      "tattoos has covered ('tattoos', 'covered')\n",
      "\n",
      "_sent: my hiring process was atypical , however , generally once a \" panel \" interview has been completed , the hiring manager makes a decision and either the manager , or possibly the administrative assistant , will make an offer .\n",
      "['process-2', 'was-3', 'completed-17', 'has-15', 'completed-17', 'was-3', 'makes-22', 'manager-21', 'hiring-1', 'hiring-20']\n",
      "hiring process was has completed hiring manager makes ('hiring process', 'hiring manager')\n",
      "\n",
      "_sent: wells fargo has their mortgage officers separately that periodically visit the banks when personal bankers give them leads .\n",
      "['fargo-1', 'has-2', 'officers-5', 'mortgage-4']\n",
      "fargo has mortgage officers ('fargo', 'mortgage')\n",
      "\n",
      "_sent:   wells fargo has a very thorough background check procedure .\n",
      "['fargo-2', 'has-3', 'procedure-9', 'check-8', 'background-7']\n",
      "fargo has background check procedure ('fargo', 'background check')\n",
      "\n",
      "_sent: wells fargo has an on - site cafeteria at most locations .\n",
      "['fargo-1', 'has-2', 'cafeteria-7']\n",
      "fargo has cafeteria ('fargo', 'cafeteria')\n",
      "\n",
      "_sent: yes , retail has trained you in customer service , they will continue your trading to ensure you understand why you are requesting additional documents .\n",
      "['retail-2', 'trained-4', 'has-3', 'trained-4', 'in-6', 'service-8', 'customer-7']\n",
      "retail has trained in customer service ('retail', 'customer service')\n",
      "\n",
      "_sent: i am not sure my job description is not a chasier or has nothing to do with that area\n",
      "['description-6', 'is-7', 'has-12', 'nothing-13', 'do-15', 'with-16', 'area-18', 'job-5']\n",
      "job description is has nothing do with area ('job description', 'area')\n",
      "\n"
     ]
    },
    {
     "name": "stdout",
     "output_type": "stream",
     "text": [
      "_sent: this starting salary is the same as the guy i work with who 's been there for 5 years that has only gotten a dollar raise since he started .\n",
      "['salary-2', 'is-3', 'same-5', 'as-6', 'guy-8', 'work-10', 'with-11', 'been-14', 'for-16', 'years-18', 'gotten-22', 'has-20', 'gotten-22', 'raise-25', 'starting-1', 'dollar-24']\n",
      "starting salary is same as guy work with been for years has gotten dollar raise ('starting salary', 'dollar raise')\n",
      "\n",
      "_sent: yes ,   the company has a mixture of gender and races .\n",
      "['company-4', 'has-5', 'mixture-7', 'of-8', 'gender-9']\n",
      "company has mixture of gender ('company', 'gender')\n",
      "\n",
      "_sent: home depot has there own shipping and receiving dept .\n",
      "['depot-1', 'has-2', 'own-4', 'shipping-5', 'home-0', 'and-6', 'receiving-7']\n",
      "home depot has own shipping and receiving ('home depot', 'shipping and receiving')\n",
      "\n",
      "_sent:   home depot has good training methods , i 've learned a lot , more than i 've ever known & it feels good to be knowledgeable about retail .\n",
      "['depot-2', 'has-3', 'methods-6', 'training-5', 'home-1']\n",
      "home depot has training methods ('home depot', 'training')\n",
      "\n",
      "_sent: home depot has a lack of management .\n",
      "['depot-1', 'has-2', 'lack-4', 'of-5', 'management-6', 'home-0']\n",
      "home depot has lack of management ('home depot', 'management')\n",
      "\n",
      "_sent: management has clearly shown favoritism , and exclusion of employees they do n’t like from company gifts and promotions .\n",
      "['management-0', 'shown-3', 'has-1', 'shown-3', 'exclusion-7', 'do-11', 'like-13', 'from-14', 'gifts-16', 'company-15']\n",
      "management has shown exclusion do like from company gifts ('management', 'company')\n",
      "\n",
      "_sent: fyi - all of the entries below depict a fair assessment of how this conglomerate company has achieved it 's market share .\n",
      "['company-15', 'achieved-17', 'has-16', 'achieved-17', 'of-11', 'assessment-10', 'depict-7', \"'s-19\", 'share-21', 'market-20']\n",
      "depict assessment of company has achieved 's market share ('company', 'market share')\n",
      "\n",
      "_sent: home depot has a team in place for asset protection .\n",
      "['depot-1', 'has-2', 'team-4', 'in-5', 'place-6', 'for-7', 'protection-9', 'home-0', 'asset-8']\n",
      "home depot has team in place for asset protection ('home depot', 'asset protection')\n",
      "\n",
      "_sent: work was without any on the job training whatsoever and the employee has to ask questions in order to perform their duties !\n",
      "['training-7', 'on-4', 'was-1', 'has-12', 'ask-14', 'in-16', 'order-17']\n",
      "was on training has ask in order ('training', 'order')\n",
      "\n",
      "_sent: my home depot experience has been in rock hill , sc and i do not know how many years back this company goes on a background check .\n",
      "['depot-2', 'experience-3', 'been-5', 'has-4', 'been-5', 'in-6', 'hill-8', 'rock-7', 'home-1']\n",
      "home depot experience has been in rock hill ('home depot', 'rock')\n",
      "\n",
      "_sent: the company has many new types of flooring technology and hardware equipment that make our lives easier .\n",
      "['company-1', 'has-2', 'types-5', 'of-6', 'equipment-11', 'technology-8']\n",
      "company has types of technology equipment ('company', 'technology')\n",
      "\n",
      "_sent: you can wear a hat as long as it has a home depot logo on it .\n",
      "['long-6', 'has-9', 'logo-13', 'depot-12', 'home-11']\n",
      "long has home depot logo ('long', 'home depot')\n",
      "\n",
      "_sent: not sure if home depot has 3rd hour night shifts .\n",
      "['depot-4', 'has-5', 'shifts-9', 'home-3', 'night-8']\n",
      "home depot has night shifts ('home depot', 'night shifts')\n",
      "\n",
      "_sent: no my pay rate has not changed from new york to north carolina\n",
      "['rate-3', 'changed-6', 'has-4', 'changed-6', 'from-7', 'york-9', 'pay-2', 'new-8']\n",
      "pay rate has changed from new york ('pay rate', 'new york')\n",
      "\n",
      "_sent: so if you live in a state that has legal weed , they will still turn you down for weed usage- despite having medical use cards and all the such .\n",
      "['state-6', 'has-8', 'weed-10']\n",
      "state has weed ('state', 'weed')\n",
      "\n",
      "_sent: thd has the right to drug test at any time .\n",
      "['thd-0', 'has-1', 'right-3', 'to-4', 'test-6', 'drug-5']\n",
      "thd has right to drug test ('thd', 'drug')\n",
      "\n",
      "_sent: do n't know about washington but california home depot does run a drug test as a part of the application process and the company is & has a no tolerance for drugs & alcohol .\n",
      "['company-23', 'is-24', 'has-26', 'tolerance-29', 'for-30', 'drugs-31']\n",
      "company is has tolerance for drugs ('company', 'drugs')\n",
      "\n",
      "_sent: no the company has a dress code .\n",
      "['company-2', 'has-3', 'code-6', 'dress-5']\n",
      "company has dress code ('company', 'dress code')\n",
      "\n",
      "_sent: yes home depot has a company wide drug testing policy .\n",
      "['depot-2', 'has-3', 'policy-9', 'company-5', 'home-1']\n",
      "home depot has company policy ('home depot', 'company')\n",
      "\n",
      "_sent: the home depot has a policy to test for drugs upon injury .\n",
      "['depot-2', 'has-3', 'policy-5', 'test-7', 'home-1']\n",
      "home depot has policy test ('home depot', 'test')\n",
      "\n",
      "_sent: yes , i 've had purple hair before , two of my coworkers has had pink hair , and a former coworker had blue , purple , and red hair .\n",
      "['hair-7', 'had-5', 'had-15', 'has-14', 'had-15', 'hair-17', 'pink-16']\n",
      "had hair has had pink hair ('hair', 'pink')\n",
      "\n",
      "_sent: home depot has their own loss prevention which works for them\n",
      "['depot-1', 'has-2', 'prevention-6', 'home-0', 'loss-5']\n",
      "home depot has loss prevention ('home depot', 'loss prevention')\n",
      "\n",
      "_sent: the company is huge and has locations all over the united states .\n",
      "['company-1', 'is-2', 'has-5', 'locations-6', 'over-8', 'states-11', 'united-10']\n",
      "company is has locations over united states ('company', 'united states')\n",
      "\n",
      "_sent: no , the home depot has a place for anyone no matter the age .\n",
      "['depot-4', 'has-5', 'matter-11', 'home-3']\n",
      "home depot has matter ('home depot', 'matter')\n",
      "\n",
      "_sent: \n",
      " full time has better coverage with aetna but not very good deductibles .\n",
      "['time-2', 'has-3', 'coverage-5', 'with-6', 'aetna-7', 'full-1']\n",
      "full time has coverage with aetna ('full time', 'aetna')\n",
      "\n",
      "_sent: yes the home depot has healthcare\n",
      "['depot-3', 'has-4', 'healthcare-5', 'home-2']\n",
      "home depot has healthcare ('home depot', 'healthcare')\n",
      "\n",
      "_sent: medical coverage has different tiers , so you can pick one that works within your budget , but is really excellent insurance .\n",
      "['medical-0', 'coverage-1', 'has-2', 'pick-9', 'is-18', 'insurance-21']\n",
      "medical coverage has pick is insurance ('medical', 'insurance')\n",
      "\n",
      "_sent: geico has employees ranging from all ages and walks of life .\n",
      "['geico-0', 'has-1', 'employees-2', 'ranging-3', 'from-4', 'ages-6', 'walks-8']\n",
      "geico has employees ranging from ages walks ('geico', 'walks')\n",
      "\n",
      "_sent: they make you jump through an endless cycle of hoops like almost thousands , you would think that you were interviewing for ceo of a company , not a location that has 10 or 11 pages of nothing but one - star reviews on yelp for their claims being wrongfully denied ( poway , ca ) .\n",
      "['company-25', 'of-23', 'ceo-22', 'location-29', 'has-31', 'pages-35', 'of-36', 'nothing-37', 'but-38', 'reviews-42', 'star-41']\n",
      "ceo of company location has pages of nothing but star reviews ('company', 'star')\n",
      "\n",
      "_sent: they will find a reason to fire someone with a disability because they do n't want to keep someone with the company that has special needs or has to take time off for doctors appointments\n",
      "['company-21', 'has-23', 'needs-25', 'special-24']\n",
      "company has special needs ('company', 'special needs')\n",
      "\n",
      "_sent:   any training that i have had done has been within geico .\n",
      "['training-2', 'been-9', 'has-8', 'been-9', 'within-10', 'geico-11']\n",
      "training has been within geico ('training', 'geico')\n",
      "\n",
      "_sent:   they spend a great deal of time , money and effort on training for the employees to ensure that everyone has the correct information and is comfortable with what they have learned before they need to \" go out into the real world \" to use it .\n",
      "['training-13', 'ensure-18', 'has-21', 'information-24']\n",
      "training ensure has information ('training', 'information')\n",
      "\n",
      "_sent: the company has since changed the hours for certain positions due to different needs in different locations , but sales and customer service are day hours .\n",
      "['company-1', 'changed-4', 'has-2', 'changed-4', 'are-23', 'sales-19', 'service-22', 'customer-21']\n",
      "company has changed sales customer service are ('company', 'customer service')\n",
      "\n",
      "_sent: so i was punished because i was given incorrect information by someone that has no business in that position .\n",
      "['information-9', 'by-10', 'someone-11', 'has-13', 'business-15']\n",
      "information by someone has business ('information', 'business')\n",
      "\n",
      "_sent: i work at a fulfilment center and while each loaction has different ways of operations , everything comes down to are you willing to stand on your feet for extended period of time ?\n",
      "['center-5', 'at-2', 'work-1', 'comes-17', 'has-10', 'comes-17', 'are-20', 'willing-22', 'stand-24', 'for-28', 'period-30']\n"
     ]
    },
    {
     "name": "stdout",
     "output_type": "stream",
     "text": [
      "work at center has comes are willing stand for period ('center', 'period')\n",
      "\n",
      "_sent: amazon has a half million employees worldwide , nobody cares about your work / life balance .\n",
      "['amazon-0', 'has-1', 'cares-9', 'about-10', 'balance-15', 'work-12', '/-13', 'life-14']\n",
      "amazon has cares about work / life balance ('amazon', 'work / life balance')\n",
      "\n",
      "_sent: well as an amazon employee ( waiting for my start date ) and as an amazon prime member and a human who has this very issue of an off balanced work / life balance i just want to focus on learning from my past mistakes and fixing them .\n",
      "['human-20', 'has-22', 'issue-25', 'of-26', 'balance-33', 'work-30', '/-31', 'life-32']\n",
      "human has issue of work / life balance ('human', 'work / life balance')\n",
      "\n",
      "_sent: amazon has a bunch of unqualified am 's and pa 's who do n't know nothing .\n",
      "['amazon-0', 'has-1', 'bunch-3', 'of-4', 'am-6', 'pa-9']\n",
      "amazon has bunch of am pa ('amazon', 'pa')\n",
      "\n",
      "_sent: it ’s disgusting that jeff bezos has become the richest man off the literal blood and sweat of his slaves .\n",
      "['bezos-5', 'become-7', 'has-6', 'become-7', 'man-10', 'off-11', 'blood-14', 'jeff-4']\n",
      "jeff bezos has become man off blood ('jeff bezos', 'blood')\n",
      "\n",
      "_sent: have read at least fifty job requirements and amazon has stated that they are a eeo employer and they use all standards except for disability and age related people .\n",
      "['amazon-8', 'requirements-6', 'stated-10', 'has-9', 'stated-10', 'are-13', 'use-19', 'except-22', 'for-23', 'disability-24']\n",
      "requirements amazon has stated are use except for disability ('amazon', 'disability')\n",
      "\n",
      "_sent:   management has its clicks and base all information on gossip .\n",
      "['management-1', 'has-2', 'base-6', 'information-8']\n",
      "management has base information ('management', 'information')\n",
      "\n",
      "_sent: \n",
      "\n",
      " amazon really has no bias for promoting the company is focused on hiring but never on promotion .\n",
      "['amazon-1', 'has-3', 'bias-5', 'for-6', 'promoting-7', 'company-9']\n",
      "amazon has bias for promoting company ('amazon', 'company')\n",
      "\n",
      "_sent: this company has reached a point where it simply needs warm bodies .\n",
      "['company-1', 'reached-3', 'has-2', 'reached-3', 'point-5', 'needs-9', 'bodies-11', 'warm-10']\n",
      "company has reached point needs warm bodies ('company', 'warm bodies')\n",
      "\n",
      "_sent: it is easier to get a job in a bank , than to be able to finish an applicatiuon on line , nochance to choose shift hours , lack of website information , people from other countries answering to the online chat , amazon has become a s ... hole to even apply to , it might be because they announced $ 15 an hour , and now they are all trying to minimize new hires ? ? ?\n",
      "['amazon-43', 'become-45', 'has-44', 'become-45', 'be-57', 'announced-60', 'trying-71', 'minimize-73', 'hires-75', 'new-74']\n",
      "amazon has become be announced trying minimize new hires ('amazon', 'new hires')\n",
      "\n",
      "_sent: my college education has spread out over the years with moving from state to state , employment , relocations and   family .\n",
      "['education-2', 'spread-4', 'has-3', 'spread-4', 'out-5']\n",
      "education has spread out ('education', 'spread out')\n",
      "\n",
      "_sent: amazon prime now has one of the worst hiring practices that i 've ever experienced .\n",
      "['prime-1', 'has-3', 'one-4', 'of-5', 'practices-9', 'now-2', 'hiring-8']\n",
      "prime now has one of hiring practices ('prime now', 'hiring practices')\n",
      "\n",
      "_sent: 6am-6pm.the company has many different shifts esp during seasonal /holidays .\n",
      "['company-1', 'has-2', 'during-7', 'seasonal-8']\n",
      "company has during seasonal ('company', 'seasonal')\n",
      "\n",
      "_sent: dallas has one inside the city but you will not be able to work at the one i am reviewing .\n",
      "['dallas-0', 'has-1', 'one-2', 'inside-3', 'city-5']\n",
      "dallas has one inside city ('dallas', 'city')\n",
      "\n",
      "_sent: amazon has a lot of great benefits to reward their associates because they know how hard they will work .\n",
      "['amazon-0', 'has-1', 'lot-3', 'of-4', 'benefits-6', 'great-5']\n",
      "amazon has lot of great benefits ('amazon', 'great benefits')\n",
      "\n",
      "_sent: amazon has never requested a urine drug test\n",
      "['amazon-0', 'requested-3', 'has-1', 'requested-3', 'test-7', 'urine-5']\n",
      "amazon has requested urine test ('amazon', 'urine')\n",
      "\n",
      "_sent: every corporation has it problems but , with opening communication and respect for others goes a long way .. i believe in right person for the right sit .\n",
      "['corporation-1', 'has-2', 'goes-14', 'with-7', 'opening-8', 'communication-9']\n",
      "corporation has with opening communication goes ('corporation', 'communication')\n",
      "\n",
      "_sent: they terminated me , and the letter said because i executed a confidentiality and invention assignment agreement , i do not see how that has anything to do with being absent and sick with a doctor 's note ?\n",
      "['invention-14', 'confidentiality-12', 'assignment-15', 'agreement-16', 'executed-10', 'see-21', 'has-24', 'anything-25', 'do-27', 'with-28', 'being-29', 'absent-30', 'sick-32', 'with-33', 'note-37', 'doctor-35', \"'s-36\"]\n",
      "executed confidentiality invention assignment agreement see has anything do with being absent sick with doctor 's note ('invention', \"doctor 's note\")\n",
      "\n",
      "_sent: i work at a brand new sort facility smf5 , my morale has dropped due to earning so little money in the last month .\n",
      "['morale-11', 'dropped-13', 'has-12', 'dropped-13', 'earning-16', 'money-19']\n",
      "morale has dropped earning money ('morale', 'money')\n",
      "\n",
      "_sent: i live in a suburb of cleveland and wondering if amazon has work from home positions .\n",
      "['amazon-10', 'has-11', 'work-12', 'from-13', 'positions-15', 'home-14']\n",
      "amazon has work from home positions ('amazon', 'home positions')\n",
      "\n",
      "_sent:   if an individual was given an invitation to apply for ft position and they have not met their quota by the time amazon fulfills their ft and pt company needs and the individual still has n't   been contacted by hr or a manager , may not have been selected to continue employment and should have received an email or letter in the mail .\n",
      "['company-29', 'needs-30', 'fulfills-24', 'time-22', 'by-20', 'met-17', 'contacted-39', 'has-35', 'contacted-39', 'by-40', 'hr-41', 'manager-44']\n",
      "met by time fulfills company needs has contacted by hr manager ('company', 'manager')\n",
      "\n",
      "_sent: yes , amazon has hired felons .\n",
      "['amazon-2', 'hired-4', 'has-3', 'hired-4', 'felons-5']\n",
      "amazon has hired felons ('amazon', 'felons')\n",
      "\n",
      "_sent: the company has gotten bad press about these measures as many people would like to see a union perhaps with this never happening more than likely because of the effect on wages and safety being paramount as with product .\n",
      "['company-1', 'gotten-3', 'has-2', 'gotten-3', 'like-13', 'see-15', 'union-17']\n",
      "company has gotten like see union ('company', 'union')\n",
      "\n",
      "_sent: for these reasons management has to step up as though people are important just as the bottom line is and , the catharsis lay in the middle without a union which are for far more dangerous professions e.g. aircraft assembly\n",
      "['management-3', 'has-4', 'step-6', 'is-18', 'line-17', 'bottom-16']\n",
      "management has step bottom line is ('management', 'bottom line')\n",
      "\n",
      "_sent: management has to talk with them and also collect all the reasons enclind with the matter and solve with accepting all losical matter .\n",
      "['management-0', 'has-1', 'talk-3']\n",
      "management has talk ('management', 'talk')\n",
      "\n",
      "_sent: never had a problem yet they have been great management has been nice and very helpful ... i am definitely happy with my job ...\n",
      "['management-9', 'been-7', 'had-1', 'been-11', 'has-10', 'been-11', 'nice-12']\n",
      "had been management has been nice ('management', 'nice')\n",
      "\n",
      "_sent: treat people the way the law has order it .\n",
      "['law-5', 'has-6', 'way-3', 'order-7']\n",
      "way law has order ('law', 'order')\n",
      "\n",
      "_sent: for few ( not couple of them ) employees watch video clips on you - tube whole day , \" pa \" enjoying free drinks at bar after work hours by certain employees so they do n't have to work as hard as other employees who has to and are forced to work till last minute while others can stop processing atleast 30 minutes shift ends .\n",
      "['free-23', 'drinks-24', 'enjoying-22', 'have-37', 'work-39', 'hard-41', 'as-42', 'employees-44', 'has-46', 'forced-50', 'work-52', 'till-53']\n",
      "enjoying free drinks have work hard as employees has forced work till ('free', 'till')\n",
      "\n",
      "_sent: as you know , shannon , the president or ceo of this company is a brutal guy and at least for now is keeping his mouth closed in the role he has with trump .\n",
      "['mouth-25', 'keeping-23', 'closed-26', 'in-27', 'role-29', 'has-31', 'role-29', 'in-27', 'closed-26', 'with-32', 'trump-33']\n",
      "keeping mouth closed in role has with trump ('mouth', 'trump')\n",
      "\n",
      "_sent: make sure the products each one receives is awesome and has good reviews and working order before shipping to anybody makes a lasting customer relationship\n",
      "['products-3', 'is-7', 'has-10', 'reviews-12', 'order-15']\n",
      "products is has reviews order ('products', 'order')\n",
      "\n",
      "_sent: i was shocked to be terminated suddenly by an email stating that “ as everyone has heard that the packages were coming in later ” and “ we did communicate during our all - hands meeting that we needed volunteers from our associates to switch their schedules to nit sorts ” .\n",
      "['email-9', 'stating-10', 'that-11', '“-12', 'heard-16', 'has-15', 'heard-16', 'communicate-29', 'during-30', 'meeting-35', 'needed-38', 'switch-44', 'to-47', 'sorts-49', 'nit-48']\n",
      "email stating that “ has heard communicate during meeting needed switch to nit sorts ('email', 'nit')\n",
      "\n",
      "_sent: i live about 40 minutes away and my route has a lot of construction which can cause me to have to leave the house an hour to an hour and a half early in the morning to make sure i get to work on time .\n",
      "['live-1', 'has-9', 'lot-11', 'of-12', 'construction-13']\n",
      "live has lot of construction ('live', 'construction')\n",
      "\n",
      "_sent: amazon provides a livable wage and has been at the forefront of global innovation in retail .\n",
      "['wage-4', 'provides-1', 'been-7', 'has-6', 'been-7', 'at-8', 'forefront-10', 'of-11', 'innovation-13', 'livable-3']\n",
      "provides livable wage has been at forefront of innovation ('livable wage', 'innovation')\n",
      "\n",
      "_sent: \n",
      "\n",
      " it is so disheartening that such a great company has such a poor organization .\n",
      "['company-9', 'has-10', 'organization-14']\n",
      "company has organization ('company', 'organization')\n",
      "\n",
      "company has lp\n",
      "at&t has ways receive higher education\n",
      "at&t hire someone has pending felony charge\n",
      "at&t has telecommuting policy\n",
      "management has upper management keeps\n",
      "at&t has company policy\n",
      "at&t has attendance policy\n",
      "started out of school has been side of company\n",
      "management has made micromanage hour monitor results\n",
      "company has put in contracting outsourcing\n",
      "experience at&t has exercise randomly drug test\n",
      "like companies operate call centers has positions allow for telecommuting\n",
      "at&t has code of business conduct\n",
      "at&t far has done credit check\n",
      "at&t has marijuana policy\n",
      "company has benefits\n",
      "at&t has have patience\n",
      "skechers has non slip\n",
      "'s on internet 's has done in prison\n",
      "reach be of cotton in blue black khaki has belt loops has\n",
      "cracker barrel has website\n",
      "volume need step into age of technology has caused update hiring process\n",
      "retail has pay scale\n",
      "allowed handle products has be color matches skin tone\n",
      "company has lay offs\n",
      "tattoos has covered\n",
      "hiring process was has completed hiring manager makes\n",
      "fargo has mortgage officers\n",
      "fargo has background check procedure\n",
      "fargo has cafeteria\n",
      "retail has trained in customer service\n",
      "job description is has nothing do with area\n",
      "starting salary is same as guy work with been for years has gotten dollar raise\n",
      "company has mixture of gender\n",
      "home depot has own shipping and receiving\n",
      "home depot has training methods\n",
      "home depot has lack of management\n",
      "management has shown exclusion do like from company gifts\n",
      "depict assessment of company has achieved 's market share\n",
      "home depot has team in place for asset protection\n",
      "was on training has ask in order\n",
      "home depot experience has been in rock hill\n",
      "company has types of technology equipment\n",
      "long has home depot logo\n",
      "home depot has night shifts\n",
      "pay rate has changed from new york\n",
      "state has weed\n",
      "thd has right to drug test\n",
      "company is has tolerance for drugs\n",
      "company has dress code\n",
      "home depot has company policy\n",
      "home depot has policy test\n",
      "had hair has had pink hair\n",
      "home depot has loss prevention\n",
      "company is has locations over united states\n",
      "home depot has matter\n",
      "full time has coverage with aetna\n",
      "home depot has healthcare\n",
      "medical coverage has pick is insurance\n",
      "geico has employees ranging from ages walks\n",
      "ceo of company location has pages of nothing but star reviews\n",
      "company has special needs\n",
      "training has been within geico\n",
      "training ensure has information\n",
      "company has changed sales customer service are\n",
      "information by someone has business\n",
      "work at center has comes are willing stand for period\n",
      "amazon has cares about work / life balance\n",
      "human has issue of work / life balance\n",
      "amazon has bunch of am pa\n",
      "jeff bezos has become man off blood\n",
      "requirements amazon has stated are use except for disability\n",
      "management has base information\n",
      "amazon has bias for promoting company\n",
      "company has reached point needs warm bodies\n",
      "amazon has become be announced trying minimize new hires\n",
      "education has spread out\n",
      "prime now has one of hiring practices\n",
      "company has during seasonal\n",
      "dallas has one inside city\n",
      "amazon has lot of great benefits\n",
      "amazon has requested urine test\n",
      "corporation has with opening communication goes\n",
      "executed confidentiality invention assignment agreement see has anything do with being absent sick with doctor 's note\n",
      "morale has dropped earning money\n",
      "amazon has work from home positions\n",
      "met by time fulfills company needs has contacted by hr manager\n",
      "amazon has hired felons\n",
      "company has gotten like see union\n",
      "management has step bottom line is\n",
      "management has talk\n",
      "had been management has been nice\n",
      "way law has order\n",
      "enjoying free drinks have work hard as employees has forced work till\n",
      "keeping mouth closed in role has with trump\n",
      "products is has reviews order\n",
      "email stating that “ has heard communicate during meeting needed switch to nit sorts\n",
      "live has lot of construction\n",
      "provides livable wage has been at forefront of innovation\n",
      "company has organization\n"
     ]
    }
   ],
   "source": [
    "print('\\n'.join(_prompt_retrieve('has')))"
   ]
  },
  {
   "cell_type": "code",
   "execution_count": 106,
   "metadata": {},
   "outputs": [
    {
     "name": "stdout",
     "output_type": "stream",
     "text": [
      "_sent: \n",
      " and the company does n't hire your if you do n't have a tam card ..\n",
      "['company-3', 'hire-6', 'have-12', 'do-10', 'have-12', 'card-15']\n",
      "company hire do have card ('company', 'card')\n",
      "\n",
      "_sent: yes that s what i lke about rhis company is that you can be yourself they do nt judge or makes you wear clothes or shoes do nt like\n",
      "['company-8', 'about-6', 'lke-5', 's-2', 'is-9', 'be-13', 'yourself-14', 'judge-18', 'do-16', 'judge-18']\n",
      "s lke about company is be yourself do judge ('company', 'judge')\n",
      "\n",
      "_sent: no marshalls does not do any drug test .\n",
      "['marshalls-1', 'do-4', 'test-7', 'drug-6']\n",
      "marshalls do drug test ('marshalls', 'drug')\n",
      "\n",
      "_sent: how much is the pay in durham nc and do they pay every week or bi weekly\n",
      "['nc-7', 'in-5', 'pay-4', 'is-2', 'pay-11', 'do-9', 'pay-11', 'week-13', 'bi-15', 'weekly-16']\n",
      "is pay in nc do pay week bi weekly ('nc', 'bi weekly')\n",
      "\n",
      "_sent: marshalls do not allow leggings to be worn at any time .\n",
      "['marshalls-0', 'allow-3', 'do-1', 'allow-3', 'worn-7', 'leggings-4']\n",
      "marshalls do allow leggings worn ('marshalls', 'leggings')\n",
      "\n",
      "_sent: the drug test they would do is urine .\n",
      "['test-2', 'do-5', 'test-2', 'is-6', 'urine-7']\n",
      "test do is urine ('test', 'urine')\n",
      "\n",
      "_sent: i did n't mind it at first for a part time job to have me do something while i was in community college , but now that i left i 'd say that this is a great first job if you 're wanting to experience what retail is like .\n",
      "['time-10', 'job-11', 'have-13', 'do-15', 'was-19', 'in-20', 'college-22', 'community-21', 'part-9']\n",
      "part time job have do was in community college ('part time', 'community')\n",
      "\n",
      "_sent: the company will do drug testing and will ask for background checks .\n",
      "['company-1', 'do-3', 'testing-5', 'drug-4']\n",
      "company do drug testing ('company', 'drug')\n",
      "\n",
      "_sent: they allow you to dress freely as long as you do n't wear big logos or ripped jeans .\n",
      "['long-7', 'wear-12', 'do-10', 'wear-12', 'logos-14']\n",
      "long do wear logos ('long', 'logos')\n",
      "\n",
      "_sent: depending on when do you apply to a position , and for how long that position would be posted , it could take a minimum of 3 weeks ( for existing employees ) to 5 weeks for new hired employees .\n",
      "['depending-0', 'apply-5', 'do-3', 'apply-5', 'take-22', 'for-11', 'posted-18', 'long-13', 'on-1']\n",
      "depending on do apply for long posted take ('depending on', 'long')\n",
      "\n",
      "_sent: i sent my application may 11th 2019 on may 13th they sent me an email to do the video interview .\n",
      "['email-14', 'do-16', 'interview-19', 'video-18']\n",
      "email do video interview ('email', 'video')\n",
      "\n",
      "_sent: at&t do take drug test .\n",
      "['at&t-0', 'take-2', 'do-1', 'take-2', 'test-4', 'drug-3']\n",
      "at&t do take drug test ('at&t', 'drug')\n",
      "\n",
      "_sent:   i would think with those working in non - management positions such as outside plant and installers , they probably do have drug testing .\n",
      "['plant-15', 'as-13', 'positions-11', 'in-7', 'working-6', 'those-5', 'with-4', 'think-3', 'have-22', 'do-21', 'have-22', 'testing-24', 'drug-23']\n",
      "think with those working in positions as plant do have drug testing ('plant', 'drug')\n",
      "\n",
      "_sent: how much knowledge do you have regarding new cell phones , accessories and tablets .\n",
      "['knowledge-2', 'have-5', 'do-3', 'have-5', 'regarding-6', 'phones-9', 'cell-8']\n",
      "knowledge do have regarding cell phones ('knowledge', 'cell phones')\n",
      "\n",
      "_sent: like working for hitler they do not care about employees as long as they can make themselves look good .\n",
      "['hitler-3', 'for-2', 'working-1', 'like-0', 'care-7', 'do-5', 'care-7', 'long-11']\n",
      "like working for hitler do care long ('hitler', 'long')\n",
      "\n",
      "_sent: your life is over and they do not care about you or your family .\n",
      "['life-1', 'is-2', 'care-8', 'do-6', 'care-8', 'about-9', 'you-10', 'family-13']\n",
      "life is do care about you family ('life', 'family')\n",
      "\n",
      "_sent: i went to college , they do not work with school\n",
      "['college-3', 'to-2', 'went-1', 'work-8', 'do-6', 'work-8', 'with-9', 'school-10']\n",
      "went to college do work with school ('college', 'school')\n",
      "\n",
      "_sent: management thinks you should sleep with them , and if you do nt your life will be misery , and good luck reporting it , i tried that route and was told oh i 'm so sorry and nothing was even done about it or even looked at even though i had concrete proof and other agents had reported the same manager harassing them as well .\n",
      "['sleep-4', 'thinks-1', 'be-16', 'do-11', 'be-16', 'life-14']\n",
      "thinks sleep do life be ('sleep', 'life')\n",
      "\n",
      "_sent: so far major lipservice is all you have managed to do in this area .\n",
      "['major-2', 'lipservice-3', 'is-4', 'all-5', 'managed-8', 'do-10', 'in-11', 'area-13']\n",
      "major lipservice is all managed do in area ('major', 'area')\n",
      "\n",
      "_sent: lack of support from management and the fact that i do n't count .\n",
      "['management-4', 'from-3', 'support-2', 'of-1', 'lack-0', 'fact-7', 'count-12', 'do-10', 'count-12']\n",
      "lack of support from management fact do count ('management', 'count')\n",
      "\n",
      "_sent: i had weekends off most of my career with at&t and there were lots of employees you could do a shift trade with .\n",
      "['at&t-9', 'with-8', 'weekends-2', 'had-1', 'do-18', 'trade-21']\n",
      "had weekends with at&t do trade ('at&t', 'trade')\n",
      "\n",
      "_sent: yes , there are flexible schedules that do allow for training etc .\n",
      "['schedules-5', 'allow-8', 'do-7', 'allow-8', 'for-9', 'etc-11', 'training-10', 'flexible-4']\n",
      "flexible schedules do allow for training etc ('flexible schedules', 'training')\n",
      "\n",
      "_sent:   i am a retiree and would love to do something on contract with at&t.   i started in the call center and from there promoted up to 1st and then 2nd level in 12 years .\n",
      "['love-7', 'do-9', 'something-10', 'on-11', 'contract-12']\n",
      "love do something on contract ('love', 'contract')\n",
      "\n",
      "_sent: how long do you work there until the health insurance kicks in\n",
      "['long-1', 'work-4', 'do-2', 'work-4', 'until-6', 'kicks-10', 'insurance-9', 'health-8']\n",
      "long do work until health insurance kicks ('long', 'health')\n",
      "\n",
      "_sent: i have no idea as my position with at&t had nothing to do with hiring decisions .\n",
      "['at&t-8', 'with-7', 'position-6', 'had-9', 'nothing-10', 'do-12', 'with-13', 'hiring-14', 'decisions-15']\n",
      "position with at&t had nothing do with hiring decisions ('at&t', 'hiring decisions')\n",
      "\n",
      "_sent: i 'm sure if you 're going to be working in a retail environment with at&t they do a pretty extensive background check .\n",
      "['at&t-16', 'with-15', 'working-10', 'going-7', 'do-18', 'check-23', 'extensive-21', 'background-22']\n",
      "going working with at&t do extensive background check ('at&t', 'extensive background check')\n",
      "\n",
      "_sent: nothing in particular as management employees do not get top notch \" paid benefits \"\n",
      "['management-4', 'employees-5', 'get-8', 'do-6', 'get-8', 'benefits-13']\n",
      "management employees do get benefits ('management', 'benefits')\n",
      "\n",
      "_sent: make sure there is a contact number or email in order to do a follow up .\n",
      "['order-10', 'do-12', 'follow-14', 'up-15']\n",
      "order do follow up ('order', 'follow up')\n",
      "\n",
      "_sent: what is your ambition in life and where do you see yourself in 5 years with at&t ?\n",
      "['life-5', 'in-4', 'ambition-3', 'is-1', 'see-10', 'do-8', 'see-10', 'with-15', 'at&t-16']\n",
      "is ambition in life do see with at&t ('life', 'at&t')\n",
      "\n",
      "_sent: no if your part time they do not extend benefits and the union acts like your invisible\n",
      "['time-4', 'extend-8', 'do-6', 'extend-8', 'benefits-9', 'part-3']\n",
      "part time do extend benefits ('part time', 'benefits')\n",
      "\n",
      "_sent:  \n",
      "\n",
      " answer : it cost less to maintain at&t system in texas rather than in california , do to personnel and the needs of the business .\n",
      "['california-15', 'in-14', 'maintain-7', 'cost-4', 'do-17', 'to-18', 'personnel-19', 'needs-22', 'of-23', 'business-25']\n",
      "cost maintain in california do to personnel needs of business ('california', 'business')\n",
      "\n",
      "_sent: not long at all , you will do a few days of training and you will start making phone calls after a few training sessions via online .\n",
      "['long-1', 'all-3', 'do-7', 'days-10', 'of-11', 'training-12']\n",
      "long all do days of training ('long', 'training')\n",
      "\n",
      "_sent: i was not associated or involved in the hr department and do not know at&t pay rates .\n",
      "['department-9', 'in-6', 'involved-5', 'associated-3', 'know-13', 'do-11', 'know-13', 'rates-16', 'at&t-14']\n",
      "associated involved in department do know at&t rates ('department', 'at&t')\n",
      "\n",
      "_sent: i was not associated or involved in the hr department and do not know at&t hiring / substance use policies .\n",
      "['department-9', 'in-6', 'involved-5', 'associated-3', 'know-13', 'do-11', 'know-13', 'use-18', 'substance-17', 'at&t-14']\n",
      "associated involved in department do know at&t substance use ('department', 'at&t')\n",
      "\n",
      "_sent: drugs are a non factor , there is so much to do with such short time frames , those that use drugs do so far from the job and to their own detriment .\n",
      "['drugs-0', 'are-1', 'is-7', 'much-9', 'do-11', 'with-12', 'frames-16', 'time-15', 'short-14']\n",
      "drugs are is much do with short time frames ('drugs', 'short')\n",
      "\n",
      "_sent: since hostess shifts are generally 6 hours long with no one to cover , i do not get time to have an employee meal .\n",
      "['cover-12', 'one-10', 'with-8', 'are-3', 'get-17', 'do-15', 'get-17', 'time-18', 'have-20', 'meal-23', 'employee-22']\n",
      "are with one cover do get time have employee meal ('cover', 'employee meal')\n",
      "\n",
      "_sent: does cracker barrel do direct deposit\n",
      "['barrel-2', 'do-3', 'deposit-5', 'cracker-1', 'direct-4']\n",
      "cracker barrel do direct deposit ('cracker barrel', 'direct deposit')\n",
      "\n",
      "_sent: what web site do i go under to check the cracker barrel background check .\n",
      "['site-2', 'go-5', 'do-3', 'go-5', 'check-8', 'check-13', 'barrel-11', 'web-1', 'cracker-10']\n",
      "web site do go check cracker barrel check ('web site', 'cracker barrel')\n",
      "\n",
      "_sent: how long do it take for a background check to come back\n",
      "['long-1', 'take-4', 'do-2', 'take-4', 'for-5', 'check-8', 'background-7']\n",
      "long do take for background check ('long', 'background check')\n",
      "\n",
      "_sent: the only one suffering is the guest ; get in the business of retaining   ( you are exhausting yourself ) when all you do is train .\n",
      "['business-11', 'in-9', 'get-8', 'exhausting-18', 'is-25', 'all-22', 'do-24', 'all-22', 'is-25', 'train-26']\n",
      "get in business exhausting all do is train ('business', 'train')\n",
      "\n",
      "_sent: i am not very familiar with the hiring process of the company , but i know they do a background check .\n",
      "['company-11', 'of-9', 'process-8', 'with-5', 'familiar-4', 'am-1', 'know-15', 'do-17', 'check-20', 'background-19']\n",
      "am familiar with process of company know do background check ('company', 'background check')\n",
      "\n",
      "_sent: but in my store the district manager and store manager do not mind very small nose piercings\n",
      "['manager-9', 'mind-12', 'do-10', 'mind-12', 'piercings-16', 'store-8', 'nose-15']\n",
      "store manager do mind nose piercings ('store manager', 'nose piercings')\n",
      "\n",
      "_sent: i got to watch a video and do paper work then they made me come back and do an online course which took at 3 hours .\n",
      "['video-5', 'watch-3', 'do-7', 'work-9', 'paper-8']\n",
      "watch video do paper work ('video', 'paper')\n",
      "\n",
      "_sent: usually they only want natural hair colors however they do n't always make a big deal about it .\n",
      "['hair-5', 'colors-6', 'want-3', 'make-12', 'do-9', 'make-12', 'deal-15', 'big-14']\n",
      "want hair colors do make big deal ('hair', 'big deal')\n",
      "\n",
      "_sent: yea they will hire you as long as you do n't have violent crime\n",
      "['long-6', 'have-11', 'do-9', 'have-11', 'crime-13', 'violent-12']\n",
      "long do have violent crime ('long', 'violent crime')\n",
      "\n"
     ]
    },
    {
     "name": "stdout",
     "output_type": "stream",
     "text": [
      "_sent: ask if they can undergo high stress environment with extreme heat some can do one or the other but doing both is a big deal while working at cracker barrel\n",
      "['heat-10', 'with-8', 'undergo-4', 'do-13', 'is-21', 'deal-24', 'big-23']\n",
      "undergo with heat do is big deal ('heat', 'big deal')\n",
      "\n",
      "_sent: does cracker barrel do direct deposit\n",
      "['barrel-2', 'do-3', 'deposit-5', 'cracker-1', 'direct-4']\n",
      "cracker barrel do direct deposit ('cracker barrel', 'direct deposit')\n",
      "\n",
      "_sent: nail polish / acrylic is allowed only if you do not handle food products and it has to be a color that matches your skin tone\n",
      "['polish-1', 'acrylic-3', 'allowed-5', 'handle-11', 'do-9', 'handle-11', 'products-13', 'food-12']\n",
      "polish acrylic allowed do handle food products ('polish', 'food')\n",
      "\n",
      "src not matched\n",
      "_sent: classes normally ran from 8:00 am - 4:30 pm , however , i would normally be an hour early and stay at least a half hour late to do all of my daily emails and voice messages .\n",
      "['hour-25', 'late-26', 'stay-20', 'do-28', 'all-29', 'of-30', 'emails-33', 'daily-32', 'half-24']\n",
      "stay half hour late do all of daily emails ('half hour', 'daily')\n",
      "\n",
      "_sent: some jobs at the bank do not require dealing with counting large amounts of money and much is done electronically .\n",
      "['bank-4', 'at-2', 'jobs-1', 'require-7', 'do-5', 'require-7', 'dealing-8', 'with-9', 'counting-10', 'amounts-12', 'of-13', 'money-14']\n",
      "jobs at bank do require dealing with counting amounts of money ('bank', 'money')\n",
      "\n",
      "_sent: yes , as most banks do require a credit check , backround check - fingerprinting .\n",
      "['banks-4', 'require-6', 'do-5', 'require-6', 'check-9', 'credit-8']\n",
      "banks do require credit check ('banks', 'credit check')\n",
      "\n",
      "_sent: during my 2nd interview i was asked if i could do a third interview with the hiring manager so i had my 3rd interview in the same day .\n",
      "['interview-3', 'during-0', 'asked-6', 'do-10', 'interview-13', 'with-14', 'manager-17', '2nd-2', 'hiring-16']\n",
      "during 2nd interview asked do interview with hiring manager ('2nd interview', 'hiring manager')\n",
      "\n",
      "_sent: i think wells fargo needs to do a mental health screening on all their current managers .\n",
      "['fargo-3', 'needs-4', 'do-6', 'screening-10', 'mental-8', 'health-9']\n",
      "fargo needs do mental health screening ('fargo', 'mental health')\n",
      "\n",
      "_sent: in our department we did not do credit checks , but they may have done so at different departments .\n",
      "['department-2', 'in-0', 'do-6', 'checks-8', 'credit-7']\n",
      "in department do credit checks ('department', 'credit checks')\n",
      "\n",
      "_sent: it was really quick , i got a phone call to do a one on one after the group interview about three or four hours after the end of the group interview .\n",
      "['call-9', 'do-11', 'interview-19', 'phone-8', 'group-18']\n",
      "phone call do group interview ('phone call', 'group interview')\n",
      "\n",
      "_sent: yes , part timers do get benefits just the same as a full timer .\n",
      "['timers-3', 'get-5', 'do-4', 'get-5', 'benefits-6', 'part-2']\n",
      "part timers do get benefits ('part timers', 'benefits')\n",
      "\n",
      "_sent: just a general do not reply email to confirm my 2nd interview appointment .\n",
      "['general-2', 'reply-5', 'do-3', 'reply-5', 'email-6']\n",
      "general do reply email ('general', 'email')\n",
      "\n",
      "_sent: teller does not that the same password and does not have to do as much as lead .\n",
      "['password-6', 'does-1', 'have-10', 'do-12', 'much-14', 'as-15', 'lead-16']\n",
      "does password have do much as lead ('password', 'lead')\n",
      "\n",
      "_sent: working remotely out of the san antonio area , but i do believe when i first started with world savings there was random drug testing involved during the hiring process .\n",
      "['area-7', 'of-3', 'out-2', 'working-0', 'believe-12', 'do-11', 'believe-12', 'was-21', 'testing-24', 'random-22', 'drug-23']\n",
      "working out of area do believe was random drug testing ('area', 'random drug testing')\n",
      "\n",
      "_sent: yes take finger prints and do drug test .\n",
      "['prints-3', 'take-1', 'do-5', 'test-7', 'drug-6', 'finger-2']\n",
      "take finger prints do drug test ('finger prints', 'drug')\n",
      "\n",
      "_sent: wells fargo does do a background check before you are eligible to start work there .\n",
      "['fargo-1', 'do-3', 'check-6', 'background-5']\n",
      "fargo do background check ('fargo', 'background check')\n",
      "\n",
      "_sent: yes all job with this company do drug test\n",
      "['company-5', 'with-3', 'job-2', 'do-6', 'test-8', 'drug-7']\n",
      "job with company do drug test ('company', 'drug')\n",
      "\n",
      "_sent: i am not sure what a phone banker is , nor do i know roanoke va .\n",
      "['banker-7', 'is-8', 'sure-3', 'am-1', 'know-13', 'do-11', 'know-13', 'va-15', 'roanoke-14', 'phone-6']\n",
      "am sure phone banker is do know roanoke va ('phone banker', 'roanoke')\n",
      "\n",
      "_sent: criminal history , i believe they do a credit check too\n",
      "['history-1', 'believe-4', 'do-6', 'check-9', 'credit-8']\n",
      "history believe do credit check ('history', 'credit check')\n",
      "\n",
      "_sent: does anybody know if wells fargo background check have alot to do with education ?\n",
      "['check-7', 'have-8', 'alot-9', 'do-11', 'with-12', 'education-13', 'background-6']\n",
      "background check have alot do with education ('background check', 'education')\n",
      "\n",
      "_sent: have to take a phone interview and then come in to do a group interview\n",
      "['interview-5', 'take-2', 'come-8', 'do-11', 'interview-14', 'phone-4', 'group-13']\n",
      "take phone interview come do group interview ('phone interview', 'group interview')\n",
      "\n",
      "_sent:   they will fingerprint you but do not administer any drug tests .\n",
      "['fingerprint-3', 'administer-8', 'do-6', 'administer-8', 'tests-11', 'drug-10']\n",
      "fingerprint do administer drug tests ('fingerprint', 'drug')\n",
      "\n",
      "_sent: part time employees do not receive benefits that i am aware of .\n",
      "['time-1', 'receive-5', 'do-3', 'receive-5', 'benefits-6', 'part-0']\n",
      "part time do receive benefits ('part time', 'benefits')\n",
      "\n",
      "_sent: yes the management of home depot do not discriminate in any way towards those with a criminal record , it anything they are always willing to help people get back on their feet .\n",
      "['depot-5', 'of-3', 'management-2', 'discriminate-8', 'do-6', 'discriminate-8', 'in-9', 'way-11', 'towards-12', 'those-13', 'with-14', 'record-17', 'home-4', 'criminal-16']\n",
      "management of home depot do discriminate in way towards those with criminal record ('home depot', 'criminal record')\n",
      "\n",
      "_sent: i did a drug screening for employment at home depot how do i give list of prescription drugs i 'm on ? ?\n",
      "['depot-9', 'at-7', 'did-1', 'give-13', 'do-11', 'give-13', 'list-14', 'of-15', 'drugs-17', 'home-8', 'prescription-16']\n",
      "did at home depot do give list of prescription drugs ('home depot', 'prescription drugs')\n",
      "\n",
      "_sent: the home depot on thompson lane in nashville tn does drug test and they do mouth swab\n",
      "['test-11', 'does-9', 'do-14', 'swab-16', 'mouth-15']\n",
      "does test do mouth swab ('test', 'mouth')\n",
      "\n",
      "_sent: how does home depot   do the pre drug test is it swab or urine\n",
      "['depot-3', 'do-5', 'is-10', 'test-9', 'drug-8', 'home-2']\n",
      "home depot do drug test is ('home depot', 'drug')\n",
      "\n",
      "_sent: for asheville nc   home depot how do they do the test swab or urine\n",
      "['depot-5', 'do-9', 'do-7', 'do-9', 'swab-12', 'test-11', 'home-4']\n",
      "home depot do do test swab ('home depot', 'test')\n",
      "\n",
      "_sent: part time workers do not get benefits besides some vacation days and sick days .\n",
      "['time-1', 'workers-2', 'get-5', 'do-3', 'get-5', 'benefits-6', 'part-0']\n",
      "part time workers do get benefits ('part time', 'benefits')\n",
      "\n",
      "_sent: i am not sure my job description is not a chasier or has nothing to do with that area\n",
      "['description-6', 'is-7', 'has-12', 'nothing-13', 'do-15', 'with-16', 'area-18', 'job-5']\n",
      "job description is has nothing do with area ('job description', 'area')\n",
      "\n",
      "_sent: department managers do not work set schedules\n",
      "['department-0', 'managers-1', 'work-4', 'do-2', 'work-4', 'set-5', 'schedules-6']\n",
      "department managers do work set schedules ('department', 'set schedules')\n",
      "\n",
      "_sent: are you a friendly outgoing person do you like working with the public how are your customer service skills\n",
      "['friendly-3', 'outgoing-4', 'person-5', 'are-0', 'like-8', 'do-6', 'like-8', 'working-9', 'with-10', 'public-12']\n",
      "are friendly outgoing person do like working with public ('friendly', 'public')\n",
      "\n",
      "_sent: no the home depot do not hire felons\n",
      "['depot-3', 'hire-6', 'do-4', 'hire-6', 'home-2', 'felons-7']\n",
      "home depot do hire felons ('home depot', 'hire felons')\n",
      "\n",
      "_sent: management only cares about the numbers and if you do n't get a customer to apply for a credit card you will receive a note in the system and then terminated .\n",
      "['management-0', 'cares-2', 'get-11', 'do-9', 'get-11', 'apply-15', 'for-16', 'card-19', 'credit-18']\n",
      "management cares do get apply for credit card ('management', 'credit card')\n",
      "\n",
      "_sent: department heads are rude and do n't know how to talk to their workers , then they expect you to do they work while they take credit for it unless it is done incorrectly .\n",
      "['department-0', 'heads-1', 'are-2', 'know-7', 'do-5', 'know-7', 'talk-10']\n",
      "department heads are do know talk ('department', 'talk')\n",
      "\n",
      "_sent: company hires some of the most incompetent managers , which is your corporate district people , they absolutely do not   have a good work life balance ,   do n't plan on making it a career because if you work your way up to a decent wage and your in your 40 ' s   you can be assured they will shove you around till you leave , home depot is famous for getting rid of older people making good money , but very careful how they do it ,   look up history on a law suite in co. any good people they suck dry ,   the negetives you read are true\n",
      "['district-13', 'people-14', 'is-10', 'managers-7', 'of-3', 'some-2', 'hires-1', 'have-21', 'do-18', 'have-21', 'balance-26', 'work-24', 'life-25']\n",
      "hires some of managers is district people do have work life balance ('district', 'work life balance')\n",
      "\n",
      "_sent: new district manager who spent thousands of dollars to make things pretty , removed anti - fatigue mats , self - checkout registers do n't work , bad working conditions , threaten to take away your breaks and lunches because no coverage .\n",
      "['anti-14', '--15', 'fatigue-16', 'mats-17', 'manager-2', 'work-25', 'do-23', 'work-25', 'conditions-29', 'working-28']\n",
      "manager anti - fatigue mats do work working conditions ('anti', 'working conditions')\n",
      "\n",
      "_sent: butt off get all your funky reeards you hand out and do e fluzy thier only 1year get promoted to full time .\n",
      "e do full time\n",
      "None 10540441779542591554 14930118741968279164\n",
      "\n"
     ]
    },
    {
     "name": "stdout",
     "output_type": "stream",
     "text": [
      "_sent: management has clearly shown favoritism , and exclusion of employees they do n’t like from company gifts and promotions .\n",
      "['management-0', 'shown-3', 'exclusion-7', 'do-11', 'like-13', 'from-14', 'gifts-16', 'company-15']\n",
      "management shown exclusion do like from company gifts ('management', 'company')\n",
      "\n",
      "_sent: if part time you do n't get a weekend off , ever , unless you request it .\n",
      "['time-2', 'get-6', 'do-4', 'get-6', 'weekend-8', 'part-1', 'off-9']\n",
      "part time do get weekend off ('part time', 'weekend off')\n",
      "\n",
      "_sent: what products home depot sells , what 's my work experience like , anything to do with customer relations .\n",
      "['depot-3', 'sells-4', \"'s-7\", 'anything-13', 'do-15', 'with-16', 'relations-18', 'home-2', 'customer-17']\n",
      "home depot sells 's anything do with customer relations ('home depot', 'customer relations')\n",
      "\n",
      "_sent: as long as you wear a collared shirt or polo and do not show any rude logos they do not care .\n",
      "['polo-9', 'shirt-7', 'wear-4', 'show-13', 'do-11', 'show-13', 'logos-16']\n",
      "wear shirt polo do show logos ('polo', 'logos')\n",
      "\n",
      "_sent: \n",
      " how long do you think you would stay @ home depot ?\n",
      "['long-2', 'think-5', 'do-3', 'think-5', 'stay-8', '@-9', 'depot-11', 'home-10']\n",
      "long do think stay @ home depot ('long', 'home depot')\n",
      "\n",
      "_sent: urine , i do n't do drugs so not really a concern .\n",
      "['urine-0', 'do-5', 'do-3', 'do-5', 'drugs-6']\n",
      "urine do do drugs ('urine', 'drugs')\n",
      "\n",
      "_sent: not sure , but as long as you do n't operate heavy machinery , i think you 'll be fine .\n",
      "['long-5', 'operate-10', 'do-8', 'operate-10', 'machinery-12', 'heavy-11']\n",
      "long do operate heavy machinery ('long', 'heavy machinery')\n",
      "\n",
      "_sent: worst company ever if your in houston texas jake   mcord is a lying weasel and snake , promise to pay but never do , worthless excuse of a marine\n",
      "['snake-16', 'weasel-14', 'is-11', 'promise-18', 'pay-20', 'do-23', 'excuse-26', 'of-27', 'marine-29']\n",
      "is weasel snake promise pay do excuse of marine ('snake', 'marine')\n",
      "\n",
      "_sent: home depot will do their best to work with you through your disability .\n",
      "['depot-1', 'do-3', 'work-7', 'through-10', 'disability-12', 'home-0']\n",
      "home depot do work through disability ('home depot', 'disability')\n",
      "\n",
      "_sent: i started with the company 16 years ago and i do not recall if there was   a background check .\n",
      "['company-4', 'with-2', 'started-1', 'recall-12', 'do-10', 'recall-12', 'was-15', 'check-19', 'background-18']\n",
      "started with company do recall was background check ('company', 'background check')\n",
      "\n",
      "_sent: easy to pass , as long as you do n't do anything for 24 - 72 hours before your test !\n",
      "['long-5', 'do-10', 'do-8', 'do-10', 'before-17', 'test-19']\n",
      "long do do before test ('long', 'test')\n",
      "\n",
      "_sent: i did n't work in this location , but all home depot stores do individual criminal background checks i believe , but not sure .\n",
      "['depot-11', 'stores-12', 'do-13', 'checks-17', 'background-16', 'home-10', 'criminal-15']\n",
      "home depot stores do criminal background checks ('home depot', 'criminal background')\n",
      "\n",
      "src not matched\n",
      "_sent: no idea is this location does drug testing or not i do n't know why they chose wind him connecticut because i worked at a home depot in mount pleasant texas\n",
      "['drug-6', 'testing-7', 'does-5', 'know-13', 'do-11', 'know-13', 'chose-16', 'wind-17']\n",
      "does drug testing do know chose wind ('drug', 'wind')\n",
      "\n",
      "_sent: as long as you do n't have a felony you should be ok .\n",
      "['long-1', 'have-6', 'do-4', 'have-6', 'felony-8']\n",
      "long do have felony ('long', 'felony')\n",
      "\n",
      "_sent: these associates are considered home depot associates and do receive home depot benefits\n",
      "['depot-5', 'associates-6', 'considered-3', 'receive-9', 'do-8', 'receive-9', 'benefits-12', 'home-4']\n",
      "considered home depot associates do receive benefits ('home depot', 'benefits')\n",
      "\n",
      "_sent: in orlando , florida , i was required to do the saliva swab drug test .\n",
      "['florida-3', 'orlando-1', 'in-0', 'required-7', 'do-9', 'test-14', 'saliva-11']\n",
      "in orlando florida required do saliva test ('florida', 'saliva')\n",
      "\n",
      "_sent: if you are offered a position with the home depot you do have a drug test administered on - site .\n",
      "['depot-9', 'have-12', 'do-11', 'have-12', 'test-15', 'drug-14', 'home-8']\n",
      "home depot do have drug test ('home depot', 'drug')\n",
      "\n",
      "_sent: i never whent to hawaii to do the drug screening i did it in new jersey\n",
      "['hawaii-4', 'do-6', 'screening-9', 'drug-8']\n",
      "hawaii do drug screening ('hawaii', 'drug')\n",
      "\n",
      "company hire do have card\n",
      "s lke about company is be yourself do judge\n",
      "marshalls do drug test\n",
      "is pay in nc do pay week bi weekly\n",
      "marshalls do allow leggings worn\n",
      "test do is urine\n",
      "part time job have do was in community college\n",
      "company do drug testing\n",
      "long do wear logos\n",
      "depending on do apply for long posted take\n",
      "email do video interview\n",
      "at&t do take drug test\n",
      "think with those working in positions as plant do have drug testing\n",
      "knowledge do have regarding cell phones\n",
      "like working for hitler do care long\n",
      "life is do care about you family\n",
      "went to college do work with school\n",
      "thinks sleep do life be\n",
      "major lipservice is all managed do in area\n",
      "lack of support from management fact do count\n",
      "had weekends with at&t do trade\n",
      "flexible schedules do allow for training etc\n",
      "love do something on contract\n",
      "long do work until health insurance kicks\n",
      "position with at&t had nothing do with hiring decisions\n",
      "going working with at&t do extensive background check\n",
      "management employees do get benefits\n",
      "order do follow up\n",
      "is ambition in life do see with at&t\n",
      "part time do extend benefits\n",
      "cost maintain in california do to personnel needs of business\n",
      "long all do days of training\n",
      "associated involved in department do know at&t rates\n",
      "associated involved in department do know at&t substance use\n",
      "drugs are is much do with short time frames\n",
      "are with one cover do get time have employee meal\n",
      "cracker barrel do direct deposit\n",
      "web site do go check cracker barrel check\n",
      "long do take for background check\n",
      "get in business exhausting all do is train\n",
      "am familiar with process of company know do background check\n",
      "store manager do mind nose piercings\n",
      "watch video do paper work\n",
      "want hair colors do make big deal\n",
      "long do have violent crime\n",
      "undergo with heat do is big deal\n",
      "cracker barrel do direct deposit\n",
      "polish acrylic allowed do handle food products\n",
      "stay half hour late do all of daily emails\n",
      "jobs at bank do require dealing with counting amounts of money\n",
      "banks do require credit check\n",
      "during 2nd interview asked do interview with hiring manager\n",
      "fargo needs do mental health screening\n",
      "in department do credit checks\n",
      "phone call do group interview\n",
      "part timers do get benefits\n",
      "general do reply email\n",
      "does password have do much as lead\n",
      "working out of area do believe was random drug testing\n",
      "take finger prints do drug test\n",
      "fargo do background check\n",
      "job with company do drug test\n",
      "am sure phone banker is do know roanoke va\n",
      "history believe do credit check\n",
      "background check have alot do with education\n",
      "take phone interview come do group interview\n",
      "fingerprint do administer drug tests\n",
      "part time do receive benefits\n",
      "management of home depot do discriminate in way towards those with criminal record\n",
      "did at home depot do give list of prescription drugs\n",
      "does test do mouth swab\n",
      "home depot do drug test is\n",
      "home depot do do test swab\n",
      "part time workers do get benefits\n",
      "job description is has nothing do with area\n",
      "department managers do work set schedules\n",
      "are friendly outgoing person do like working with public\n",
      "home depot do hire felons\n",
      "management cares do get apply for credit card\n",
      "department heads are do know talk\n",
      "hires some of managers is district people do have work life balance\n",
      "manager anti - fatigue mats do work working conditions\n",
      "management shown exclusion do like from company gifts\n",
      "part time do get weekend off\n",
      "home depot sells 's anything do with customer relations\n",
      "wear shirt polo do show logos\n",
      "long do think stay @ home depot\n",
      "urine do do drugs\n",
      "long do operate heavy machinery\n",
      "is weasel snake promise pay do excuse of marine\n",
      "home depot do work through disability\n",
      "started with company do recall was background check\n",
      "long do do before test\n",
      "home depot stores do criminal background checks\n",
      "does drug testing do know chose wind\n",
      "long do have felony\n",
      "considered home depot associates do receive benefits\n",
      "in orlando florida required do saliva test\n",
      "home depot do have drug test\n",
      "hawaii do drug screening\n"
     ]
    }
   ],
   "source": [
    "print('\\n'.join(_prompt_retrieve('do')))"
   ]
  },
  {
   "cell_type": "code",
   "execution_count": 107,
   "metadata": {
    "scrolled": true
   },
   "outputs": [
    {
     "name": "stdout",
     "output_type": "stream",
     "text": [
      "_sent: marshalls pays employees every other week , or biweekly .\n",
      "['marshalls-0', 'pays-1', 'biweekly-8']\n",
      "marshalls pays biweekly ('marshalls', 'biweekly')\n",
      "\n",
      "_sent: marshalls pays weekly\n",
      "['marshalls-0', 'pays-1', 'weekly-2']\n",
      "marshalls pays weekly ('marshalls', 'weekly')\n",
      "\n",
      "_sent: marshalls pays weekly , i myself have never had any problems with my paycheck while working here .\n",
      "['marshalls-0', 'pays-1', 'weekly-2']\n",
      "marshalls pays weekly ('marshalls', 'weekly')\n",
      "\n",
      "_sent: the marshall 's division pays associates on a weekly basis .\n",
      "['division-3', 'pays-4', 'on-6', 'basis-9', 'weekly-8']\n",
      "division pays on weekly basis ('division', 'weekly basis')\n",
      "\n",
      "_sent: the company pays weekly\n",
      "['company-1', 'pays-2', 'weekly-3']\n",
      "company pays weekly ('company', 'weekly')\n",
      "\n",
      "_sent: wells fargo pays biweekly pay periods for base pay and monthly for commission .\n",
      "['fargo-1', 'pays-2', 'pay-4', 'biweekly-3']\n",
      "fargo pays biweekly pay ('fargo', 'biweekly')\n",
      "\n",
      "_sent: i stayed with wells fargo because they are the only bank where i live that pays enough to support a family .\n",
      "['live-13', 'bank-10', 'pays-15', 'support-18', 'family-20']\n",
      "bank live pays support family ('live', 'family')\n",
      "\n",
      "_sent: yes i would be able to work with college courses as well , i could take morning or night classes , whatever fits in with my work schedule , i want a job that pays decent money so i can afford my funds at school along with extra money for stuff i need\n",
      "['college-8', 'courses-9', 'with-7', 'work-6', 'able-4', 'be-3', 'take-15', 'want-30', 'job-32', 'pays-34', 'money-36', 'decent-35']\n",
      "be able work with college courses take want job pays decent money ('college', 'decent money')\n",
      "\n",
      "_sent: home depot pays biweekly .\n",
      "['depot-1', 'pays-2', 'biweekly-3', 'home-0']\n",
      "home depot pays biweekly ('home depot', 'biweekly')\n",
      "\n",
      "_sent: home depot pays you biweekly\n",
      "['depot-1', 'pays-2', 'biweekly-4', 'home-0']\n",
      "home depot pays biweekly ('home depot', 'biweekly')\n",
      "\n",
      "_sent: a full time associate roughly pays $ 200 for medical insurance .\n",
      "['time-2', 'associate-3', 'pays-5', '200-7', 'for-8', 'insurance-10', 'medical-9', 'full-1']\n",
      "full time associate pays 200 for medical insurance ('full time', 'medical')\n",
      "\n",
      "_sent: home depot pays bi - weekly\n",
      "['depot-1', 'pays-2', 'weekly-5', 'home-0']\n",
      "home depot pays weekly ('home depot', 'weekly')\n",
      "\n",
      "_sent: home depot pays biweekly\n",
      "['depot-1', 'pays-2', 'biweekly-3', 'home-0']\n",
      "home depot pays biweekly ('home depot', 'biweekly')\n",
      "\n",
      "_sent: i m currently still working my full time job monday through friday , that pays the bills .\n",
      "['friday-11', 'through-10', 'working-4', 'pays-14', 'bills-16']\n",
      "working through friday pays bills ('friday', 'bills')\n",
      "\n",
      "_sent: amazon pays weekly\n",
      "['amazon-0', 'pays-1', 'weekly-2']\n",
      "amazon pays weekly ('amazon', 'weekly')\n",
      "\n",
      "_sent: 20 - 30 full time pays better but night shift make more lmoney lesson .\n",
      "['time-4', 'pays-5', 'make-10', 'shift-9', 'full-3', 'night-8']\n",
      "full time pays night shift make ('full time', 'night shift')\n",
      "\n",
      "_sent: dollar tree warehouse pays their employees more thn amazon and that s sad ! !\n",
      "['warehouse-2', 'pays-3', 'amazon-8']\n",
      "warehouse pays amazon ('warehouse', 'amazon')\n",
      "\n",
      "_sent: would mainly be because everywhere else has a pay increase or pays much more for less the stress of worrying about being terminated because you could nt make rate due to amazon system .\n",
      "['increase-9', 'has-6', 'pays-11', 'make-27', 'due-29', 'to-30', 'system-32', 'amazon-31', 'pay-8']\n",
      "has pay increase pays make due to amazon system ('pay increase', 'amazon')\n",
      "\n",
      "_sent: favoritism ... straight from the top , managers are instructed not to disipline the people from neopaul or any person from a foreign country ... these people are why amazon pays no taxes,,they make their production rate @460 items processed , then stop working .\n",
      "['amazon-29', 'pays-30', 'make-33', 'rate-36', 'production-35']\n",
      "amazon pays make production rate ('amazon', 'production')\n",
      "\n",
      "_sent: tampa pays seasonal $ 10.50 , full time starts at $ 11.00\n",
      "['tampa-0', 'pays-1', 'seasonal-2']\n",
      "tampa pays seasonal ('tampa', 'seasonal')\n",
      "\n",
      "_sent: tjmaxx distribuition center pays 1.25 as shift differential .\n",
      "['center-2', 'pays-3', 'as-5', 'differential-7', 'shift-6']\n",
      "center pays as shift differential ('center', 'shift differential')\n",
      "\n",
      "_sent: hope that answered your question but always ask because i know they only have that shift in columbus and all pays jump state to state and country to etc .\n",
      "['columbus-17', 'in-16', 'shift-15', 'have-13', 'pays-20', 'state-22']\n",
      "have shift in columbus pays state ('columbus', 'state')\n",
      "\n",
      "_sent: amazon pays bi weekly\n",
      "['amazon-0', 'pays-1', 'bi-2', 'weekly-3']\n",
      "amazon pays bi weekly ('amazon', 'bi weekly')\n",
      "\n",
      "_sent: from personal experience amazon pays bi - weekly .\n",
      "['amazon-3', 'from-0', 'pays-4', 'weekly-7']\n",
      "from amazon pays weekly ('amazon', 'weekly')\n",
      "\n",
      "_sent: amazon pays on a by weekly fashion\n",
      "['amazon-0', 'pays-1', 'by-4', 'fashion-6', 'weekly-5']\n",
      "amazon pays by weekly fashion ('amazon', 'weekly')\n",
      "\n",
      "_sent: amazon pays weekly for the roll i was hired for .\n",
      "['amazon-0', 'pays-1', 'weekly-2']\n",
      "amazon pays weekly ('amazon', 'weekly')\n",
      "\n",
      "_sent: no , subway pays bi - weekly so every 2 weeks .\n",
      "['subway-2', 'pays-3', 'weekly-6']\n",
      "subway pays weekly ('subway', 'weekly')\n",
      "\n",
      "src not matched\n",
      "_sent: most people give you \" that look \" when you say you work in fast food , but it pays the bills and it 's a great work environment .\n",
      "['food-15', 'in-13', 'work-12', 'say-10', 'look-6', 'give-2', 'pays-19', 'bills-21']\n",
      "give look say work in food pays bills ('food', 'bills')\n",
      "\n",
      "_sent: working night ( 3 - 9 average ) is just the same as working morning , it pays minimum wage and is n't worth it .\n",
      "['average-6', 'night-1', 'is-8', 'pays-17', 'wage-19', 'minimum-18']\n",
      "night average is pays minimum wage ('average', 'minimum wage')\n",
      "\n",
      "_sent: subway pays biweekly\n",
      "['subway-0', 'pays-1', 'biweekly-2']\n",
      "subway pays biweekly ('subway', 'biweekly')\n",
      "\n",
      "_sent: subway pays biweekly\n",
      "['subway-0', 'pays-1', 'biweekly-2']\n",
      "subway pays biweekly ('subway', 'biweekly')\n",
      "\n",
      "_sent: subway pays weekly\n",
      "['subway-0', 'pays-1', 'weekly-2']\n",
      "subway pays weekly ('subway', 'weekly')\n",
      "\n",
      "_sent: subway pays bi weekly on wednesday\n",
      "['subway-0', 'pays-1', 'bi-2', 'weekly-3']\n",
      "subway pays bi weekly ('subway', 'bi weekly')\n",
      "\n",
      "_sent: rural retreat subway pays bi weekly .\n",
      "['subway-2', 'pays-3', 'bi-4', 'weekly-5']\n",
      "subway pays bi weekly ('subway', 'bi weekly')\n",
      "\n",
      "_sent: if subway pays on friday , where does salary start counting hours ; what day , to where it caps ; ditto ?\n",
      "['subway-1', 'pays-2', 'on-3', 'friday-4']\n",
      "subway pays on friday ('subway', 'friday')\n",
      "\n",
      "_sent: subway pays the employees bi - weekly plus the occasional small tips .\n",
      "['subway-0', 'pays-1', 'weekly-6']\n",
      "subway pays weekly ('subway', 'weekly')\n",
      "\n",
      "_sent: subway pays biweekly\n",
      "['subway-0', 'pays-1', 'biweekly-2']\n",
      "subway pays biweekly ('subway', 'biweekly')\n",
      "\n",
      "_sent: fedex home delivery pays on a weekly basis .\n",
      "['fedex-0', 'delivery-2', 'pays-3', 'on-4', 'basis-7', 'weekly-6']\n",
      "fedex delivery pays on weekly basis ('fedex', 'weekly basis')\n",
      "\n",
      "_sent: weekly it pays every friday\n",
      "['weekly-0', 'pays-2', 'friday-4']\n",
      "weekly pays friday ('weekly', 'friday')\n",
      "\n",
      "_sent: fedex pays for the costs of the drug test .\n",
      "['fedex-0', 'pays-1', 'for-2', 'costs-4', 'of-5', 'test-8', 'drug-7']\n",
      "fedex pays for costs of drug test ('fedex', 'drug')\n",
      "\n",
      "_sent: fedex pays weekly\n",
      "['fedex-0', 'pays-1', 'weekly-2']\n",
      "fedex pays weekly ('fedex', 'weekly')\n",
      "\n",
      "_sent: yes , fedex pays for orientation and training .\n",
      "['fedex-2', 'pays-3', 'for-4', 'orientation-5']\n",
      "fedex pays for orientation ('fedex', 'orientation')\n",
      "\n",
      "_sent: yes , the management pays special attention to the new hires\n",
      "['management-3', 'pays-4', 'to-7', 'hires-10', 'new-9']\n",
      "management pays to new hires ('management', 'new hires')\n",
      "\n",
      "_sent: starbucks pays retail employees bi weekly .\n",
      "['starbucks-0', 'pays-1', 'employees-3', 'retail-2']\n",
      "starbucks pays retail employees ('starbucks', 'retail')\n",
      "\n",
      "_sent: starbucks pays bi - weekly .\n",
      "['starbucks-0', 'pays-1', 'weekly-4']\n",
      "starbucks pays weekly ('starbucks', 'weekly')\n",
      "\n",
      "_sent: starbucks pays bi - weekly\n",
      "['starbucks-0', 'pays-1', 'weekly-4']\n",
      "starbucks pays weekly ('starbucks', 'weekly')\n",
      "\n",
      "_sent: starbucks pays you bi - weekly .\n",
      "['starbucks-0', 'pays-1', 'weekly-5']\n",
      "starbucks pays weekly ('starbucks', 'weekly')\n",
      "\n",
      "_sent: starbucks pays biweekly\n",
      "['starbucks-0', 'pays-1', 'biweekly-2']\n",
      "starbucks pays biweekly ('starbucks', 'biweekly')\n",
      "\n",
      "_sent: starbucks pays biweekly with no stipend however you do get tips once a week .\n",
      "['starbucks-0', 'pays-1', 'biweekly-2']\n",
      "starbucks pays biweekly ('starbucks', 'biweekly')\n",
      "\n",
      "_sent: starbucks pays biweekly .\n",
      "['starbucks-0', 'pays-1', 'biweekly-2']\n",
      "starbucks pays biweekly ('starbucks', 'biweekly')\n",
      "\n",
      "_sent: starbucks pays their employees biweekly\n",
      "['starbucks-0', 'pays-1', 'biweekly-4']\n",
      "starbucks pays biweekly ('starbucks', 'biweekly')\n",
      "\n",
      "_sent: starbucks pays biweekly\n",
      "['starbucks-0', 'pays-1', 'biweekly-2']\n",
      "starbucks pays biweekly ('starbucks', 'biweekly')\n",
      "\n",
      "_sent: starbucks pays by weekly\n",
      "['starbucks-0', 'pays-1', 'by-2', 'weekly-3']\n",
      "starbucks pays by weekly ('starbucks', 'weekly')\n",
      "\n"
     ]
    },
    {
     "name": "stdout",
     "output_type": "stream",
     "text": [
      "_sent: starbucks pays weekly\n",
      "['starbucks-0', 'pays-1', 'weekly-2']\n",
      "starbucks pays weekly ('starbucks', 'weekly')\n",
      "\n",
      "_sent: all of harmans kfc pays weekly which is great !\n",
      "['kfc-3', 'of-1', 'all-0', 'pays-4', 'weekly-5']\n",
      "all of kfc pays weekly ('kfc', 'weekly')\n",
      "\n",
      "_sent: kfc pays biweekly .\n",
      "['kfc-0', 'pays-1', 'biweekly-2']\n",
      "kfc pays biweekly ('kfc', 'biweekly')\n",
      "\n",
      "_sent: i think mcdonalds pays more and chock - fill - a gives more benefits like for example shcolarships\n",
      "['mcdonalds-2', 'pays-3', 'think-1', 'gives-11', 'benefits-13']\n",
      "think mcdonalds pays gives benefits ('mcdonalds', 'benefits')\n",
      "\n",
      "_sent: macy 's pays weekly + commission\n",
      "['macy-0', 'pays-2', 'weekly-3', \"'s-1\"]\n",
      "macy 's pays weekly (\"macy 's\", 'weekly')\n",
      "\n",
      "_sent: in florida and idaho macy 's pays weekly .\n",
      "['macy-4', 'florida-1', 'in-0', 'weekly-7', 'pays-6', 'weekly-7', \"'s-5\"]\n",
      "in florida macy 's pays weekly (\"macy 's\", 'weekly')\n",
      "\n",
      "_sent: chipotle mexican grill pays bi weekly .\n",
      "['mexican-1', 'grill-2', 'pays-3', 'bi-4', 'weekly-5']\n",
      "mexican grill pays bi weekly ('mexican', 'bi weekly')\n",
      "\n",
      "_sent: chipotle pays biweekly .\n",
      "['chipotle-0', 'pays-1', 'biweekly-2']\n",
      "chipotle pays biweekly ('chipotle', 'biweekly')\n",
      "\n",
      "_sent: chipotle pays bi - weekly .\n",
      "['chipotle-0', 'pays-1', 'weekly-4']\n",
      "chipotle pays weekly ('chipotle', 'weekly')\n",
      "\n",
      "_sent: chipotle pays bi - weekly\n",
      "['chipotle-0', 'pays-1', 'weekly-4']\n",
      "chipotle pays weekly ('chipotle', 'weekly')\n",
      "\n",
      "_sent: i am a college student , and no one pays my bills for me .\n",
      "['student-4', 'am-1', 'pays-9', 'bills-11']\n",
      "am student pays bills ('student', 'bills')\n",
      "\n",
      "_sent: it will be three weeks since panera bread pays bi - weekly .\n",
      "['bread-7', 'pays-8', 'weekly-11']\n",
      "bread pays weekly ('bread', 'weekly')\n",
      "\n",
      "_sent: jcpenney pays on a biweekly basis .\n",
      "['jcpenney-0', 'pays-1', 'on-2', 'basis-5', 'biweekly-4']\n",
      "jcpenney pays on biweekly basis ('jcpenney', 'biweekly')\n",
      "\n",
      "_sent: jcpenney pays biweekly .\n",
      "['jcpenney-0', 'pays-1', 'biweekly-2']\n",
      "jcpenney pays biweekly ('jcpenney', 'biweekly')\n",
      "\n",
      "_sent: jcpenney pays bi - weekly\n",
      "['jcpenney-0', 'pays-1', 'weekly-4']\n",
      "jcpenney pays weekly ('jcpenney', 'weekly')\n",
      "\n",
      "_sent: target pays weekly\n",
      "['target-0', 'pays-1', 'weekly-2']\n",
      "target pays weekly ('target', 'weekly')\n",
      "\n",
      "_sent: target pays bi - weekly\n",
      "['target-0', 'pays-1', 'weekly-4']\n",
      "target pays weekly ('target', 'weekly')\n",
      "\n",
      "_sent: target pays on a biweekly rate\n",
      "['target-0', 'pays-1', 'on-2', 'rate-5', 'biweekly-4']\n",
      "target pays on biweekly rate ('target', 'biweekly')\n",
      "\n",
      "_sent: target pays biweekly .\n",
      "['target-0', 'pays-1', 'biweekly-2']\n",
      "target pays biweekly ('target', 'biweekly')\n",
      "\n",
      "_sent: target pays biweekly .\n",
      "['target-0', 'pays-1', 'biweekly-2']\n",
      "target pays biweekly ('target', 'biweekly')\n",
      "\n",
      "_sent: yes target pays while you are in orientation .\n",
      "['target-1', 'pays-2', 'are-5', 'in-6', 'orientation-7']\n",
      "target pays are in orientation ('target', 'orientation')\n",
      "\n",
      "_sent: this company pays weekly\n",
      "['company-1', 'pays-2', 'weekly-3']\n",
      "company pays weekly ('company', 'weekly')\n",
      "\n",
      "_sent: target pays biweekly .\n",
      "['target-0', 'pays-1', 'biweekly-2']\n",
      "target pays biweekly ('target', 'biweekly')\n",
      "\n",
      "_sent: target pays its workers bi - weekly\n",
      "['target-0', 'pays-1', 'weekly-6']\n",
      "target pays weekly ('target', 'weekly')\n",
      "\n",
      "_sent: target pays biweekly\n",
      "['target-0', 'pays-1', 'biweekly-2']\n",
      "target pays biweekly ('target', 'biweekly')\n",
      "\n",
      "_sent: target pays bi weekly\n",
      "['target-0', 'pays-1', 'bi-2', 'weekly-3']\n",
      "target pays bi weekly ('target', 'bi weekly')\n",
      "\n",
      "_sent: target pays biweekly\n",
      "['target-0', 'pays-1', 'biweekly-2']\n",
      "target pays biweekly ('target', 'biweekly')\n",
      "\n",
      "_sent: target pays weekly\n",
      "['target-0', 'pays-1', 'weekly-2']\n",
      "target pays weekly ('target', 'weekly')\n",
      "\n",
      "_sent: olive garden pays bi - weekly\n",
      "['garden-1', 'pays-2', 'weekly-5']\n",
      "garden pays weekly ('garden', 'weekly')\n",
      "\n",
      "_sent: olive garden pays weekly\n",
      "['garden-1', 'pays-2', 'weekly-3']\n",
      "garden pays weekly ('garden', 'weekly')\n",
      "\n",
      "_sent: olive garden pays weekly\n",
      "['garden-1', 'pays-2', 'weekly-3']\n",
      "garden pays weekly ('garden', 'weekly')\n",
      "\n",
      "_sent: olive garden pays every friday\n",
      "['garden-1', 'pays-2', 'friday-4']\n",
      "garden pays friday ('garden', 'friday')\n",
      "\n",
      "_sent: olive garden pays bi - weekly\n",
      "['garden-1', 'pays-2', 'weekly-5']\n",
      "garden pays weekly ('garden', 'weekly')\n",
      "\n",
      "_sent: taken off wiki of goodwill mission statement , really when they should be eliminating ... \n",
      "\n",
      " they underpay people , underappreciate people , undervalue people , they want to find others to rule with an iron fist alongside them and most of all they do n't care for you ... literally if you do n't meet the production quota ( why do we have quotas when this company states and claims they want to eliminate barriers in the work force yet they then go around in the shadow and say if you do n't get these numbers you 're fired ... literally in the employee handbook ( idgaf about disposing confidential information they 're putting you on a leash until you get fired then silence you with threats as always ) \n",
      "\n",
      " mcdonalds pays better and at least have a more professional management ... \n",
      "\n",
      " now if you 'll excuse me i got a month left until i leave this horrid place and then hopefully my manager gets fired or found out about how abusive she freak'n is .\n",
      "['mcdonalds-132', 'pays-133', 'have-138', 'management-142', 'professional-141']\n",
      "mcdonalds pays have professional management ('mcdonalds', 'professional')\n",
      "\n",
      "_sent: this company pays biweekly .\n",
      "['company-1', 'pays-2', 'biweekly-3']\n",
      "company pays biweekly ('company', 'biweekly')\n",
      "\n",
      "_sent: burger king pays weekly .\n",
      "['king-1', 'pays-2', 'weekly-3']\n",
      "king pays weekly ('king', 'weekly')\n",
      "\n",
      "src not matched\n",
      "_sent: burger king pays biweekly\n",
      "['king-1', 'pays-2', 'biweekly-3']\n",
      "king pays biweekly ('king', 'biweekly')\n",
      "\n",
      "_sent: michigan burger king pays weekly ... what about terre haute indiana\n",
      "['king-2', 'pays-3', 'weekly-4']\n",
      "king pays weekly ('king', 'weekly')\n",
      "\n",
      "_sent: burger king in my experience pays bi - weekly(every 2 weeks ) and paydays usually fall on a friday .\n",
      "['king-1', 'pays-5', 'fall-15', 'on-16', 'friday-18']\n",
      "king pays fall on friday ('king', 'friday')\n",
      "\n",
      "_sent: i do n't know how burger king pays in baltimore but in scott city , mo , we got paid twice a month , once on the 7th of the month and once on the 22nd of the month .\n",
      "['king-6', 'pays-7', 'in-8', 'baltimore-9']\n",
      "king pays in baltimore ('king', 'baltimore')\n",
      "\n",
      "_sent: yes , burger king pays employees before thanksgiving .\n",
      "['king-3', 'pays-4', 'before-6', 'thanksgiving-7']\n",
      "king pays before thanksgiving ('king', 'thanksgiving')\n",
      "\n",
      "_sent: no , burger king pays bi - weekly .\n",
      "['king-3', 'pays-4', 'weekly-7']\n",
      "king pays weekly ('king', 'weekly')\n",
      "\n",
      "_sent: mburger king pays bi weekly\n",
      "['king-1', 'pays-2', 'bi-3', 'weekly-4']\n",
      "king pays bi weekly ('king', 'bi weekly')\n",
      "\n",
      "_sent: yes burger king pays you for jury duty\n",
      "['king-2', 'pays-3', 'for-5', 'duty-7', 'jury-6']\n",
      "king pays for jury duty ('king', 'jury duty')\n",
      "\n",
      "_sent: t - mobile pays bi - weekly .\n",
      "['mobile-2', 'pays-3', 'weekly-6']\n",
      "mobile pays weekly ('mobile', 'weekly')\n",
      "\n",
      "_sent: chili 's pays bi - weekly .\n",
      "['chili-0', 'pays-2', 'chili-0', 'weekly-5']\n",
      "chili pays weekly ('chili', 'weekly')\n",
      "\n",
      "_sent: chilis pays biweekly\n",
      "['chilis-0', 'pays-1', 'biweekly-2']\n",
      "chilis pays biweekly ('chilis', 'biweekly')\n",
      "\n",
      "marshalls pays biweekly\n",
      "marshalls pays weekly\n",
      "marshalls pays weekly\n",
      "division pays on weekly basis\n",
      "company pays weekly\n",
      "fargo pays biweekly pay\n",
      "bank live pays support family\n",
      "be able work with college courses take want job pays decent money\n",
      "home depot pays biweekly\n",
      "home depot pays biweekly\n",
      "full time associate pays 200 for medical insurance\n",
      "home depot pays weekly\n",
      "home depot pays biweekly\n",
      "working through friday pays bills\n",
      "amazon pays weekly\n",
      "full time pays night shift make\n",
      "warehouse pays amazon\n",
      "has pay increase pays make due to amazon system\n",
      "amazon pays make production rate\n",
      "tampa pays seasonal\n",
      "center pays as shift differential\n",
      "have shift in columbus pays state\n",
      "amazon pays bi weekly\n",
      "from amazon pays weekly\n",
      "amazon pays by weekly fashion\n",
      "amazon pays weekly\n",
      "subway pays weekly\n",
      "give look say work in food pays bills\n",
      "night average is pays minimum wage\n",
      "subway pays biweekly\n",
      "subway pays biweekly\n",
      "subway pays weekly\n",
      "subway pays bi weekly\n",
      "subway pays bi weekly\n",
      "subway pays on friday\n",
      "subway pays weekly\n",
      "subway pays biweekly\n",
      "fedex delivery pays on weekly basis\n",
      "weekly pays friday\n",
      "fedex pays for costs of drug test\n",
      "fedex pays weekly\n",
      "fedex pays for orientation\n",
      "management pays to new hires\n",
      "starbucks pays retail employees\n",
      "starbucks pays weekly\n",
      "starbucks pays weekly\n",
      "starbucks pays weekly\n",
      "starbucks pays biweekly\n",
      "starbucks pays biweekly\n",
      "starbucks pays biweekly\n",
      "starbucks pays biweekly\n",
      "starbucks pays biweekly\n",
      "starbucks pays by weekly\n",
      "starbucks pays weekly\n",
      "all of kfc pays weekly\n",
      "kfc pays biweekly\n",
      "think mcdonalds pays gives benefits\n",
      "macy 's pays weekly\n",
      "in florida macy 's pays weekly\n",
      "mexican grill pays bi weekly\n",
      "chipotle pays biweekly\n",
      "chipotle pays weekly\n",
      "chipotle pays weekly\n",
      "am student pays bills\n",
      "bread pays weekly\n",
      "jcpenney pays on biweekly basis\n",
      "jcpenney pays biweekly\n",
      "jcpenney pays weekly\n",
      "target pays weekly\n",
      "target pays weekly\n",
      "target pays on biweekly rate\n",
      "target pays biweekly\n",
      "target pays biweekly\n",
      "target pays are in orientation\n",
      "company pays weekly\n",
      "target pays biweekly\n",
      "target pays weekly\n",
      "target pays biweekly\n",
      "target pays bi weekly\n",
      "target pays biweekly\n",
      "target pays weekly\n",
      "garden pays weekly\n",
      "garden pays weekly\n",
      "garden pays weekly\n",
      "garden pays friday\n",
      "garden pays weekly\n",
      "mcdonalds pays have professional management\n",
      "company pays biweekly\n",
      "king pays weekly\n",
      "king pays biweekly\n",
      "king pays weekly\n",
      "king pays fall on friday\n",
      "king pays in baltimore\n",
      "king pays before thanksgiving\n",
      "king pays weekly\n",
      "king pays bi weekly\n",
      "king pays for jury duty\n",
      "mobile pays weekly\n",
      "chili pays weekly\n",
      "chilis pays biweekly\n"
     ]
    }
   ],
   "source": [
    "print('\\n'.join(_prompt_retrieve('pays')))"
   ]
  },
  {
   "cell_type": "code",
   "execution_count": 108,
   "metadata": {
    "scrolled": true
   },
   "outputs": [
    {
     "name": "stdout",
     "output_type": "stream",
     "text": [
      "_sent: with the unemployment rate being so low ( and you ’re not the only company that receives all of these complaints it ’s the way our whole system / economy is set up ) all of you corporations better be careful because people are clearly getting fed up being treated like americanized sweat shop workers .\n",
      "['company-14', 'receives-16', 'company-14', '’re-10', 'way-24', 'set-31', 'economy-29']\n",
      "’re company receives way economy set ('company', 'economy')\n",
      "\n",
      "_sent: make sure the products each one receives is awesome and has good reviews and working order before shipping to anybody makes a lasting customer relationship\n",
      "['products-3', 'receives-6', 'products-3', 'is-7', 'has-10', 'reviews-12', 'order-15']\n",
      "products receives is has reviews order ('products', 'order')\n",
      "\n",
      "_sent: once the candidate receives the drug screen email from infomart , containing a link to the drug screen then there , the canada is responsible for selecting a testing facility / collection site , printing the e - passport provided and bringing the e - passport and proper identification to drug screen collection site within 2 business days not including weekends and holidays , of receipt of the drug screen email from infomart .\n",
      "e receives drug\n",
      "None 10540441779542591554 14930118741968279164\n",
      "\n",
      "_sent: you qualify for certain ones as part time , full time receives all benefits .\n",
      "['time-10', 'receives-11', 'benefits-13', 'full-9']\n",
      "full time receives benefits ('full time', 'benefits')\n",
      "\n",
      "_sent: but for all i know so far , the students who do work here receives good benefits from target .\n",
      "['students-9', 'receives-14', 'benefits-16']\n",
      "students receives benefits ('students', 'benefits')\n",
      "\n",
      "_sent: after the organization receives the background check , they may decide to do their own investigating to determine whether or not a potential candidate can be hired .\n",
      "['organization-2', 'receives-3', 'check-6', 'background-5']\n",
      "organization receives background check ('organization', 'background check')\n",
      "\n",
      "_sent: you receive a drug test form and take it to a hospital and then petsmart receives the results .\n",
      "['petsmart-14', 'receives-15', 'results-17']\n",
      "petsmart receives results ('petsmart', 'results')\n",
      "\n",
      "_sent: no we do not only management receives sick days\n",
      "['management-5', 'receives-6', 'days-8', 'sick-7']\n",
      "management receives sick days ('management', 'sick days')\n",
      "\n",
      "_sent: yes , once the management receives the results , you should be informed within a week of taking the test\n",
      "['management-4', 'receives-5', 'results-7']\n",
      "management receives results ('management', 'results')\n",
      "\n",
      "_sent: yes everyoone   that works for walmart receives health insurance\n",
      "['walmart-6', 'for-5', 'works-4', 'receives-7', 'insurance-9', 'health-8']\n",
      "works for walmart receives health insurance ('walmart', 'health')\n",
      "\n",
      "_sent: 40 hours a week unless its around the holidays then they may ask you stay and collect overtime.usually everyone with open availability receives no less than 32 hrs .\n",
      "['availability-21', 'with-19', 'everyone-18', 'receives-22', 'hrs-27', 'open-20', '32-26']\n",
      "everyone with open availability receives 32 hrs ('open availability', '32 hrs')\n",
      "\n",
      "_sent: mobile department of best buy receives 30 % bonus on sales at the end of the month .\n",
      "['buy-4', 'of-2', 'department-1', 'receives-5', 'bonus-8', 'best-3']\n",
      "department of best buy receives bonus ('best buy', 'bonus')\n",
      "\n",
      "_sent: full time receives dental , vision , medical .\n",
      "['time-1', 'receives-2', 'dental-3', 'vision-5', 'medical-7', 'full-0']\n",
      "full time receives dental vision medical ('full time', 'medical')\n",
      "\n",
      "_sent: \n",
      " for sick leave , a part time employee receives no pay ; you must have a doctor 's note to explain these days off as well .\n",
      "['time-7', 'employee-8', 'receives-9', 'have-15', 'note-19', 'part-6', 'doctor-17', \"'s-18\"]\n",
      "part time employee receives have doctor 's note ('part time', \"doctor 's note\")\n",
      "\n",
      "_sent: none for part - time and i 'm unaware if full time receives any benefits as its never been offer to me or anyof my co - workers that i know of .\n",
      "['time-12', 'receives-13', 'benefits-15', 'full-11']\n",
      "full time receives benefits ('full time', 'benefits')\n",
      "\n",
      "_sent: management also receives quarterly bonuses .\n",
      "['management-0', 'receives-2', 'bonuses-4', 'quarterly-3']\n",
      "management receives quarterly bonuses ('management', 'quarterly bonuses')\n",
      "\n",
      "_sent: the company will send you an email as soon as the store that you applied for receives your assessment test .\n",
      "['email-6', 'send-3', 'soon-8', 'as-9', 'store-11', 'applied-14', 'for-15', 'receives-16', 'test-19', 'assessment-18']\n",
      "send email soon as store applied for receives assessment test ('email', 'assessment test')\n",
      "\n",
      "_sent: only management receives benefits if they opt in .\n",
      "['management-1', 'receives-2', 'benefits-3']\n",
      "management receives benefits ('management', 'benefits')\n",
      "\n",
      "_sent:   but management receives no support from corporate , forcing them to try to find quick fixes to problems with no real thought given to the long term effect .\n",
      "['management-2', 'receives-3', 'forcing-9', 'try-12', 'find-14', 'to-17', 'problems-18', 'with-19', 'thought-22', 'given-23', 'to-24', 'effect-28', 'term-27', 'long-26']\n",
      "management receives forcing try find to problems with thought given to long term effect ('management', 'long')\n",
      "\n",
      "’re company receives way economy set\n",
      "products receives is has reviews order\n",
      "full time receives benefits\n",
      "students receives benefits\n",
      "organization receives background check\n",
      "petsmart receives results\n",
      "management receives sick days\n",
      "management receives results\n",
      "works for walmart receives health insurance\n",
      "everyone with open availability receives 32 hrs\n",
      "department of best buy receives bonus\n",
      "full time receives dental vision medical\n",
      "part time employee receives have doctor 's note\n",
      "full time receives benefits\n",
      "management receives quarterly bonuses\n",
      "send email soon as store applied for receives assessment test\n",
      "management receives benefits\n",
      "management receives forcing try find to problems with thought given to long term effect\n"
     ]
    }
   ],
   "source": [
    "print('\\n'.join(_prompt_retrieve('receives')))"
   ]
  },
  {
   "cell_type": "code",
   "execution_count": 86,
   "metadata": {
    "scrolled": true
   },
   "outputs": [
    {
     "name": "stdout",
     "output_type": "stream",
     "text": [
      "_sent: they use mostly dress shoes or at least shoes that a professional would wear which does n't allow sandals , sneakers , or sports shoes of any kind .\n",
      "['professional-11', 'wear-13', 'allow-17', 'sandals-18', 'sneakers-20', 'shoes-24', 'sports-23', 'does-15', \"n't-16\"]\n",
      "professional wear does n't allow sandals sneakers sports shoes ('professional', 'sports')\n",
      "\n",
      "_sent: only if you 're a full time employee , which target does n't allow team members to come close to 40 hours .\n",
      "['target-10', 'allow-13', 'come-17', 'members-15', 'does-11', \"n't-12\", 'team-14']\n",
      "target does n't allow team members come ('target', 'team members')\n",
      "\n",
      "_sent: union does n't allow employees to be drug tested unless you have an accident .\n",
      "['union-0', 'allow-3', 'be-6', 'drug-7', 'does-1', \"n't-2\"]\n",
      "union does n't allow be drug ('union', 'drug')\n",
      "\n",
      "_sent: it might be the opposite because i do know that the company does n't allow hourly associates to have overtime but i 'm not sure how that works at a dc .\n",
      "['company-11', 'allow-14', 'have-18', 'associates-16', 'does-12', \"n't-13\", 'hourly-15']\n",
      "company does n't allow hourly associates have ('company', 'hourly associates')\n",
      "\n",
      "_sent: union does n't allow employees to be screened after the pre employment screening .\n",
      "['union-0', 'allow-3', 'screened-7', 'after-8', 'screening-12', 'employment-11', 'does-1', \"n't-2\", 'pre-10']\n",
      "union does n't allow screened after pre employment screening ('union', 'pre employment')\n",
      "\n",
      "_sent: stand ... management does n't allow seats unless you have an injury and doctor note for reasonable accommodation and they still give you a hard time about that .. you have to fight for decent human rights\n",
      "['management-2', 'allow-5', 'have-9', 'note-14', 'for-15', 'accommodation-17', 'does-3', \"n't-4\", 'reasonable-16']\n",
      "management does n't allow have note for reasonable accommodation ('management', 'reasonable accommodation')\n",
      "\n",
      "professional wear does n't allow sandals sneakers sports shoes\n",
      "target does n't allow team members come\n",
      "union does n't allow be drug\n",
      "company does n't allow hourly associates have\n",
      "union does n't allow screened after pre employment screening\n",
      "management does n't allow have note for reasonable accommodation\n"
     ]
    }
   ],
   "source": [
    "print('\\n'.join(_prompt_retrieve('does n\\'t allow')))"
   ]
  },
  {
   "cell_type": "code",
   "execution_count": null,
   "metadata": {},
   "outputs": [],
   "source": []
  },
  {
   "cell_type": "markdown",
   "metadata": {},
   "source": [
    "# Retrieve Prompt Evidence"
   ]
  },
  {
   "cell_type": "code",
   "execution_count": 109,
   "metadata": {},
   "outputs": [],
   "source": [
    "# visit here: /meg-kb/src/analysis/lm_probing.ipynb"
   ]
  },
  {
   "cell_type": "code",
   "execution_count": null,
   "metadata": {},
   "outputs": [],
   "source": []
  },
  {
   "cell_type": "code",
   "execution_count": null,
   "metadata": {},
   "outputs": [],
   "source": []
  },
  {
   "cell_type": "code",
   "execution_count": null,
   "metadata": {},
   "outputs": [],
   "source": []
  },
  {
   "cell_type": "markdown",
   "metadata": {},
   "source": [
    "# Suggest Quality Prompts"
   ]
  }
 ],
 "metadata": {
  "hide_input": false,
  "kernelspec": {
   "display_name": "Environment (conda_transformers_nikita)",
   "language": "python",
   "name": "conda_transformers_nikita"
  },
  "language_info": {
   "codemirror_mode": {
    "name": "ipython",
    "version": 3
   },
   "file_extension": ".py",
   "mimetype": "text/x-python",
   "name": "python",
   "nbconvert_exporter": "python",
   "pygments_lexer": "ipython3",
   "version": "3.8.3"
  },
  "toc": {
   "base_numbering": 1,
   "nav_menu": {},
   "number_sections": true,
   "sideBar": true,
   "skip_h1_title": false,
   "title_cell": "Table of Contents",
   "title_sidebar": "Contents",
   "toc_cell": false,
   "toc_position": {
    "height": "calc(100% - 180px)",
    "left": "10px",
    "top": "150px",
    "width": "288px"
   },
   "toc_section_display": true,
   "toc_window_display": true
  }
 },
 "nbformat": 4,
 "nbformat_minor": 2
}
