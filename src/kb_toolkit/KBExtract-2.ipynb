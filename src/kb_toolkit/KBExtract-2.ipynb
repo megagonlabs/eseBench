{
 "cells": [
  {
   "cell_type": "code",
   "execution_count": 1,
   "metadata": {},
   "outputs": [],
   "source": [
    "base_dir=\"/mnt/efs/shared/meg_shared_scripts/meg-kb\"\n",
    "data_ac=\"indeeda-meg-ac\"\n",
    "data_pt=\"indeeda-meg-pt\"\n",
    "yutong_base_dir=\"/home/ubuntu/users/yutong\""
   ]
  },
  {
   "cell_type": "code",
   "execution_count": 2,
   "metadata": {},
   "outputs": [
    {
     "name": "stdout",
     "output_type": "stream",
     "text": [
      "/mnt/efs/shared/meg_shared_scripts/meg-kb/src/concept_learning\n"
     ]
    }
   ],
   "source": [
    "%cd $base_dir/src/concept_learning/"
   ]
  },
  {
   "cell_type": "code",
   "execution_count": 3,
   "metadata": {},
   "outputs": [],
   "source": [
    "from tqdm.notebook import tqdm\n",
    "import argparse\n",
    "import re\n",
    "import numpy as np\n",
    "from scipy.spatial.distance import cosine\n",
    "from scipy.stats import pearsonr, entropy, gmean\n",
    "import random\n",
    "import torch\n",
    "from transformers import AutoTokenizer, AutoModel, AutoConfig\n",
    "from transformers import BertTokenizer, BertModel, BertForMaskedLM\n",
    "from transformers import GPT2Tokenizer, GPT2LMHeadModel\n",
    "import json\n",
    "from collections import defaultdict, Counter\n",
    "import time\n",
    "import importlib\n",
    "\n",
    "import logging\n",
    "from sklearn.cluster import KMeans, AgglomerativeClustering\n",
    "from sklearn.manifold import TSNE\n",
    "from sklearn.metrics.pairwise import cosine_similarity\n",
    "import pandas as pd\n",
    "import os\n",
    "import sys\n",
    "import math\n",
    "from annoy import AnnoyIndex\n",
    "import matplotlib\n",
    "from matplotlib import pyplot as plt\n",
    "import networkx as nx\n",
    "\n",
    "import spacy\n",
    "from spacy.matcher import Matcher\n",
    "from spacy.lang.en import English\n",
    "nlp = English()\n",
    "nlp.add_pipe(nlp.create_pipe('sentencizer'))\n",
    "spacy_tokenizer = nlp.tokenizer\n",
    "\n",
    "nlp_full = spacy.load('en_core_web_sm')\n",
    "\n",
    "from compute_concept_clusters import knn\n",
    "from compute_keyphrase_embeddings import ensure_tensor_on_device, mean_pooling\n",
    "\n",
    "from lm_probes import LMProbe, LMProbe_GPT2, LMProbe_Joint, LMProbe_PMI, LMProbe_PMI_greedy\n",
    "from utils import load_embeddings, load_seed_aligned_concepts, load_seed_aligned_relations, load_benchmark\n",
    "from utils import load_EE_labels\n",
    "from utils import get_masked_contexts, bert_untokenize\n",
    "from utils import learn_patterns\n",
    "\n",
    "from roberta_ses.interface import Roberta_SES_Entailment"
   ]
  },
  {
   "cell_type": "code",
   "execution_count": 72,
   "metadata": {},
   "outputs": [],
   "source": [
    "import utils\n",
    "importlib.reload(utils)\n",
    "from utils import load_embeddings, load_seed_aligned_concepts, load_seed_aligned_relations, load_benchmark\n",
    "from utils import load_EE_labels\n",
    "from utils import get_masked_contexts, bert_untokenize\n",
    "from utils import learn_patterns\n",
    "\n",
    "import lm_probes\n",
    "importlib.reload(lm_probes)\n",
    "from lm_probes import LMProbe, LMProbe_GPT2, LMProbe_Joint, LMProbe_PMI, LMProbe_PMI_greedy"
   ]
  },
  {
   "cell_type": "code",
   "execution_count": 5,
   "metadata": {},
   "outputs": [],
   "source": [
    "seed_aligned_concepts_path = os.path.join(base_dir, f'data/indeed-benchmark/seed_aligned_concepts.csv')\n",
    "seed_aux_concepts_path = os.path.join(base_dir, f'data/indeed-benchmark/seed_aligned_concepts_aux.csv')\n",
    "seed_aligned_relations_path = os.path.join(base_dir, f'data/indeed-benchmark/seed_aligned_relations_nodup.csv')\n",
    "seed_aux_relations_path = os.path.join(base_dir, f'data/indeed-benchmark/seed_aligned_relations_aux.csv')\n",
    "benchmark_path = os.path.join(base_dir, f'data/indeed-benchmark/benchmark_evidence_clean.csv')"
   ]
  },
  {
   "cell_type": "markdown",
   "metadata": {},
   "source": [
    "# Data Preprocessing"
   ]
  },
  {
   "cell_type": "code",
   "execution_count": 2,
   "metadata": {},
   "outputs": [],
   "source": [
    "# Input: text corpus\n",
    "# step 1: extract key phrases (autophrase)\n",
    "# step 2: generate embeddings"
   ]
  },
  {
   "cell_type": "markdown",
   "metadata": {},
   "source": [
    "## Extract Key Phrases"
   ]
  },
  {
   "cell_type": "code",
   "execution_count": 3,
   "metadata": {},
   "outputs": [],
   "source": [
    "# details here: https://github.com/rit-git/meg-kb/tree/main/src/keyword_extraction"
   ]
  },
  {
   "cell_type": "code",
   "execution_count": 8,
   "metadata": {},
   "outputs": [
    {
     "name": "stdout",
     "output_type": "stream",
     "text": [
      "/mnt/efs/shared/meg_shared_scripts/meg-kb/src/keyword_extraction\n"
     ]
    }
   ],
   "source": [
    "#change to keyword extractor directory\n",
    "%cd $base_dir/src/keyword_extraction/"
   ]
  },
  {
   "cell_type": "code",
   "execution_count": 9,
   "metadata": {},
   "outputs": [],
   "source": [
    "!chmod +x ./corpusProcess.sh"
   ]
  },
  {
   "cell_type": "code",
   "execution_count": 5,
   "metadata": {},
   "outputs": [],
   "source": [
    "# select the dataset and thread no\n",
    "data_ac = 'indeeda-meg-ac'\n",
    "data_pt = 'indeeda-meg-pt'\n",
    "thread = 8"
   ]
  },
  {
   "cell_type": "code",
   "execution_count": null,
   "metadata": {
    "scrolled": true
   },
   "outputs": [],
   "source": [
    "# process corpus and generate key prhases\n",
    "!./corpusProcess.sh $data_ac $thread"
   ]
  },
  {
   "cell_type": "code",
   "execution_count": 464,
   "metadata": {},
   "outputs": [],
   "source": [
    "# copy these results to sample-meg-pt\n",
    "!cp -r $base_dir/data/$data_ac $base_dir/data/$data_pt"
   ]
  },
  {
   "cell_type": "markdown",
   "metadata": {},
   "source": [
    "## Corpus with company names"
   ]
  },
  {
   "cell_type": "code",
   "execution_count": 33,
   "metadata": {},
   "outputs": [],
   "source": [
    "dataset_path = '/home/ubuntu/users/nikita/data/indeed/indeedQA/question_answers.csv'\n",
    "company_path = '/home/ubuntu/users/nikita/data/indeed/indeedQA/fccid-companyName.csv'\n",
    "entity_emb_num_path = os.path.join(base_dir, f'data/{data_ac}/intermediate/BERTembednum+seeds.txt')\n",
    "out_corpus_path = os.path.join(base_dir, f'data/{data_ac}/intermediate/sentences_with_company.json')"
   ]
  },
  {
   "cell_type": "code",
   "execution_count": 161,
   "metadata": {},
   "outputs": [
    {
     "name": "stdout",
     "output_type": "stream",
     "text": [
      "Processing lines: 100%|████████████████| 307122/307122 [11:31<00:00, 444.12it/s]\n"
     ]
    }
   ],
   "source": [
    "# Use script\n",
    "!python build_corpus_with_companies.py \\\n",
    "-d $base_dir/data/$data_ac/intermediate \\\n",
    "-b $base_dir/data/indeed-benchmark \\\n",
    "-rd /home/ubuntu/users/nikita/data/indeed/indeedQA\n"
   ]
  },
  {
   "cell_type": "code",
   "execution_count": 114,
   "metadata": {},
   "outputs": [],
   "source": [
    "!cp $base_dir/data/$data_ac/intermediate/sentences_with_company.json $base_dir/data/$data_pt/intermediate/"
   ]
  },
  {
   "cell_type": "code",
   "execution_count": null,
   "metadata": {},
   "outputs": [],
   "source": []
  },
  {
   "cell_type": "markdown",
   "metadata": {},
   "source": [
    "# Generate Embeddings"
   ]
  },
  {
   "cell_type": "code",
   "execution_count": 465,
   "metadata": {},
   "outputs": [],
   "source": [
    "# details here: https://github.com/rit-git/meg-kb/tree/main/src/concept_learning"
   ]
  },
  {
   "cell_type": "code",
   "execution_count": 11,
   "metadata": {},
   "outputs": [
    {
     "name": "stdout",
     "output_type": "stream",
     "text": [
      "/mnt/efs/shared/meg_shared_scripts/meg-kb/src/concept_learning\n"
     ]
    }
   ],
   "source": [
    "#change to concept learning directory\n",
    "%cd $base_dir/src/concept_learning/"
   ]
  },
  {
   "cell_type": "markdown",
   "metadata": {},
   "source": [
    "## Sentence Embedding"
   ]
  },
  {
   "cell_type": "code",
   "execution_count": 86,
   "metadata": {},
   "outputs": [
    {
     "name": "stdout",
     "output_type": "stream",
     "text": [
      "loading corpus: 100%|███████████████| 901796/901796 [00:03<00:00, 274660.12it/s]\n",
      "computing entity-wise embedding: 100%|██████| 8028/8028 [04:55<00:00, 27.21it/s]\n",
      "Saving embedding\n"
     ]
    }
   ],
   "source": [
    "!CUDA_VISIBLE_DEVICES=2 python compute_keyphrase_embeddings.py \\\n",
    "-m roberta-base \\\n",
    "-et ac \\\n",
    "-ename RoBERTa \\\n",
    "-d $base_dir/data/$data_ac/intermediate \\\n",
    "-c 750"
   ]
  },
  {
   "cell_type": "markdown",
   "metadata": {},
   "source": [
    "## Concatenated Token Embedding"
   ]
  },
  {
   "cell_type": "code",
   "execution_count": null,
   "metadata": {},
   "outputs": [],
   "source": [
    "!CUDA_VISIBLE_DEVICES=3 python compute_keyphrase_embeddings.py -m bert-base-uncased -et pt -d $base_dir/data/$data_pt/intermediate -c 750"
   ]
  },
  {
   "cell_type": "markdown",
   "metadata": {},
   "source": [
    "## Token Embedding"
   ]
  },
  {
   "cell_type": "code",
   "execution_count": null,
   "metadata": {},
   "outputs": [],
   "source": [
    "# change directory to autophrase\n",
    "%cd $base_dir/src/tools/AutoPhrase"
   ]
  },
  {
   "cell_type": "code",
   "execution_count": null,
   "metadata": {},
   "outputs": [],
   "source": [
    "data_corel = 'sample-indeeda-corel'"
   ]
  },
  {
   "cell_type": "code",
   "execution_count": null,
   "metadata": {
    "scrolled": true
   },
   "outputs": [],
   "source": [
    "!CUDA_VISIBLE_DEVICES=0 python extractBertEmbedding.py ../../../data/$data_corel/intermediate/ $thread"
   ]
  },
  {
   "cell_type": "code",
   "execution_count": null,
   "metadata": {},
   "outputs": [],
   "source": []
  },
  {
   "cell_type": "markdown",
   "metadata": {},
   "source": [
    "## Non-masking Concat Token Embedding"
   ]
  },
  {
   "cell_type": "code",
   "execution_count": 68,
   "metadata": {},
   "outputs": [],
   "source": [
    "def get_non_masking_avg_context_embeddings(model_path, input_file, max_context_ct,\n",
    "                                           tokenizer,\n",
    "                                           model,\n",
    "                                           ent_context):\n",
    "    '''\n",
    "    mean pooling from sentence-transformers\n",
    "    :param model_path:\n",
    "    :param input_file:\n",
    "    :return:\n",
    "    '''\n",
    "#     tokenizer = AutoTokenizer.from_pretrained(model_path)\n",
    "#     model = AutoModel.from_pretrained(model_path)\n",
    "#     device = torch.device(\"cuda\" if torch.cuda.is_available() else \"cpu\")\n",
    "#     model.to(device)\n",
    "    device = \"cpu\"\n",
    "    model.eval()\n",
    "    mask_token_id = tokenizer.mask_token_id\n",
    "\n",
    "#     ent_freq, ent_context = get_masked_contexts(input_file)\n",
    "    entity_embeddings = {}\n",
    "    for entity, en_context_lst in tqdm(ent_context.items(), total=len(ent_context), desc=\"computing entity-wise embedding\"):\n",
    "        en_context_lst = random.sample(en_context_lst, min(len(en_context_lst), max_context_ct))\n",
    "        \n",
    "        entity_toks = tokenizer.tokenize(entity)\n",
    "        en_non_mask_context_lst = []\n",
    "        en_span_lst = []\n",
    "        for _ctx in en_context_lst:\n",
    "            _nm_ctx = _ctx.replace('[MASK]', entity)\n",
    "            _ctx_toks = tokenizer.tokenize(_ctx)\n",
    "            _nm_ctx_toks = tokenizer.tokenize(_nm_ctx)\n",
    "            try:\n",
    "                _mask_id = _ctx_toks.index('[MASK]')\n",
    "                assert _nm_ctx_toks[_mask_id : _mask_id + len(entity_toks)] == entity_toks\n",
    "            except:\n",
    "                raise ValueError(_ctx, _ctx_toks)\n",
    "            en_span_lst.append((_mask_id + 1, _mask_id + len(entity_toks) + 1))  # +1 for [CLS]\n",
    "            en_non_mask_context_lst.append(_nm_ctx)\n",
    "            \n",
    "        # chunks = [en_context_lst[i:i + 100] for i in range(0, len(en_context_lst), 100)]\n",
    "        # print(entity)\n",
    "        # print(len(en_context_lst))\n",
    "        all_context_embeddings = []\n",
    "        for i in range(0, len(en_context_lst), 100):\n",
    "            chunk = en_non_mask_context_lst[i:i+100]\n",
    "            en_span_chunk = en_span_lst[i:i+100]\n",
    "            \n",
    "            encoded_input = tokenizer.batch_encode_plus(chunk, return_token_type_ids=True, add_special_tokens=True, max_length=128, return_tensors='pt', padding=True, pad_to_max_length=True, truncation=True)\n",
    "            # mask = encoded_input['input_ids'] != mask_token_id\n",
    "            mask = torch.zeros_like(encoded_input['input_ids'])\n",
    "            for j in range(len(en_span_chunk)):\n",
    "                _s, _e = en_span_chunk[j]\n",
    "                mask[j, _s:_e] = 1\n",
    "                print(tokenizer.convert_ids_to_tokens(encoded_input['input_ids'][j, _s:_e]))\n",
    "    \n",
    "            with torch.no_grad():\n",
    "                encoded_input = ensure_tensor_on_device(device, **encoded_input)\n",
    "                model_output = model(**encoded_input)  # Compute token embeddings\n",
    "            context_embeddings = mean_pooling(model_output, mask)  # mean pooling\n",
    "            all_context_embeddings.append(context_embeddings)\n",
    "        entity_embedding = torch.mean(torch.cat(all_context_embeddings, dim=0), dim=0).cpu().detach().numpy().tolist()\n",
    "        print(entity, len(entity_embedding))\n",
    "        entity_embeddings[entity] = entity_embedding\n",
    "        \n",
    "#     return entity_embeddings, ent_freq\n",
    "    return entity_embeddings"
   ]
  },
  {
   "cell_type": "code",
   "execution_count": 64,
   "metadata": {},
   "outputs": [],
   "source": [
    "# bert_emb_path = os.path.join(base_dir, f'data/{data_ac}/intermediate/BERTembed+seeds.txt')\n",
    "# entity_embeddings = load_embeddings(bert_emb_path, 768)\n",
    "# len(entity_embeddings)"
   ]
  },
  {
   "cell_type": "code",
   "execution_count": 43,
   "metadata": {},
   "outputs": [
    {
     "data": {
      "text/plain": [
       "7921"
      ]
     },
     "execution_count": 43,
     "metadata": {},
     "output_type": "execute_result"
    }
   ],
   "source": [
    "corpus_path = os.path.join(base_dir, f'data/{data_ac}/intermediate/sentences_with_company.json')\n",
    "embed_num_path = os.path.join(base_dir, f'data/{data_ac}/intermediate/BERTembednum+seeds.txt')\n",
    "_, _all_ent_contexts = get_masked_contexts(corpus_path, embed_num_path)\n",
    "len(_all_ent_contexts)"
   ]
  },
  {
   "cell_type": "code",
   "execution_count": 48,
   "metadata": {},
   "outputs": [
    {
     "data": {
      "text/plain": [
       "3"
      ]
     },
     "execution_count": 48,
     "metadata": {},
     "output_type": "execute_result"
    }
   ],
   "source": [
    "_entities = ['walmart', '401k plan', 'saturday / sunday']\n",
    "_ent_contexts = dict([(_e, _all_ent_contexts[_e]) for _e in _entities])\n",
    "len(_ent_contexts)"
   ]
  },
  {
   "cell_type": "code",
   "execution_count": 57,
   "metadata": {},
   "outputs": [],
   "source": [
    "bert_tokenizer = AutoTokenizer.from_pretrained('bert-base-uncased')\n",
    "bert_model = AutoModel.from_pretrained('bert-base-uncased')"
   ]
  },
  {
   "cell_type": "code",
   "execution_count": 69,
   "metadata": {
    "scrolled": true
   },
   "outputs": [
    {
     "data": {
      "application/vnd.jupyter.widget-view+json": {
       "model_id": "eec03cdedd174c3fb32e9c0825278536",
       "version_major": 2,
       "version_minor": 0
      },
      "text/plain": [
       "HBox(children=(FloatProgress(value=0.0, description='computing entity-wise embedding', max=3.0, style=Progress…"
      ]
     },
     "metadata": {},
     "output_type": "display_data"
    },
    {
     "name": "stdout",
     "output_type": "stream",
     "text": [
      "['wal', '##mart']\n",
      "['wal', '##mart']\n",
      "['wal', '##mart']\n",
      "['wal', '##mart']\n",
      "['wal', '##mart']\n",
      "['wal', '##mart']\n",
      "['wal', '##mart']\n",
      "['wal', '##mart']\n",
      "['wal', '##mart']\n",
      "['wal', '##mart']\n",
      "walmart 768\n",
      "['401', '##k', 'plan']\n",
      "['401', '##k', 'plan']\n",
      "['401', '##k', 'plan']\n",
      "['401', '##k', 'plan']\n",
      "['401', '##k', 'plan']\n",
      "['401', '##k', 'plan']\n",
      "['401', '##k', 'plan']\n",
      "['401', '##k', 'plan']\n",
      "['401', '##k', 'plan']\n",
      "['401', '##k', 'plan']\n",
      "401k plan 768\n",
      "['saturday', '/', 'sunday']\n",
      "['saturday', '/', 'sunday']\n",
      "saturday / sunday 768\n",
      "\n"
     ]
    }
   ],
   "source": [
    "_res = get_non_masking_avg_context_embeddings(\n",
    "    model_path='bert-base-uncased',\n",
    "    input_file=None,\n",
    "    max_context_ct=10,\n",
    "    ent_context=_ent_contexts,\n",
    "    tokenizer=bert_tokenizer,\n",
    "    model=bert_model)"
   ]
  },
  {
   "cell_type": "code",
   "execution_count": 72,
   "metadata": {},
   "outputs": [
    {
     "name": "stdout",
     "output_type": "stream",
     "text": [
      "loading corpus: 100%|███████████████| 901796/901796 [00:03<00:00, 280028.52it/s]\n",
      "computing entity-wise embedding: 100%|██████| 8028/8028 [07:19<00:00, 18.29it/s]\n",
      "Saving embedding\n"
     ]
    }
   ],
   "source": [
    "# Using script\n",
    "!CUDA_VISIBLE_DEVICES=3 python compute_keyphrase_embeddings.py -m bert-base-uncased -et nm_ac -d $base_dir/data/$data_ac/intermediate -c 750"
   ]
  },
  {
   "cell_type": "code",
   "execution_count": null,
   "metadata": {},
   "outputs": [],
   "source": []
  },
  {
   "cell_type": "markdown",
   "metadata": {},
   "source": [
    "## Add embeddings for seed instances"
   ]
  },
  {
   "cell_type": "code",
   "execution_count": 88,
   "metadata": {
    "scrolled": true
   },
   "outputs": [
    {
     "name": "stdout",
     "output_type": "stream",
     "text": [
      "Seed instances: ['walmart', 'amazon', 'subway', 'microsoft', 'target', 'business casual', 'uniform', 'hair color', 'tattoos', 'facial hair', 'shoes', 'piercings', 'delivery driver', 'store manager', 'cashier', 'package handler', 'sales associate', 'barista', 'dishwasher', 'weekly', 'biweekly', 'friday', 'saturday', 'health insurance', 'flexible schedule', '401k', 'paid vacation', 'sick leave', 'vision insurance', 'base pay', 'stock options', 'overtime pay', 'bonus', 'checks', 'direct deposit', 'prepaid card', 'drug test', 'criminal background check', 'employment verification', 'felons', 'criminals', 'disabled', 'drug addicts', 'high schoolers', 'misdemeanor', 'pregnant', 'students', 'seniors', 'hiring age', 'bachelors degree', 'prior experience', 'working permit', 'heavy lifting', 'night shift', 'dinner shift', 'early morning shift', '8 hour shift', 'christmas eve', 'early morning', 'hoilday', '7 days', 'saturday', 'sunday', 'weekend', 'full time', 'part time', 'seasonal', 'orientation', 'introduction', 'workstation', 'training', 'team lunch']\n",
      "New instances: ['uniform', 'hair color', 'tattoos', 'shoes', 'cashier', 'weekly', 'biweekly', 'friday', 'saturday', '401k', 'stock options', 'overtime pay', 'bonus', 'checks', 'employment verification', 'felons', 'criminals', 'disabled', 'drug addicts', 'high schoolers', 'pregnant', 'students', 'seniors', '8 hour shift', 'hoilday', '7 days', 'saturday', 'sunday', 'weekend', 'full time', 'part time', 'seasonal', 'orientation', 'introduction', 'training', 'team lunch']\n",
      "loading corpus: 100%|████████████████| 901796/901796 [00:17<00:00, 50329.66it/s]\n",
      "computing entity-wise embedding: 100%|██████████| 35/35 [00:16<00:00,  2.07it/s]\n",
      "Saving embedding\n"
     ]
    }
   ],
   "source": [
    "# Using script\n",
    "\n",
    "!CUDA_VISIBLE_DEVICES=2 python add_seed_instances_embeddings.py \\\n",
    "-m roberta-base \\\n",
    "-et ac \\\n",
    "-ename RoBERTa \\\n",
    "-d $base_dir/data/$data_ac/intermediate \\\n",
    "-b $base_dir/data/indeed-benchmark \\\n",
    "-c 750"
   ]
  },
  {
   "cell_type": "code",
   "execution_count": null,
   "metadata": {},
   "outputs": [],
   "source": [
    "!CUDA_VISIBLE_DEVICES=3 python add_seed_instances_embeddings.py -m bert-base-uncased -et pt -d $base_dir/data/$data_pt/intermediate -b $base_dir/data/indeed-benchmark -c 750"
   ]
  },
  {
   "cell_type": "markdown",
   "metadata": {},
   "source": [
    "## Check embeddings"
   ]
  },
  {
   "cell_type": "code",
   "execution_count": 121,
   "metadata": {},
   "outputs": [
    {
     "data": {
      "text/plain": [
       "8028"
      ]
     },
     "execution_count": 121,
     "metadata": {},
     "output_type": "execute_result"
    }
   ],
   "source": [
    "bert_emb_path = os.path.join(base_dir, f'data/{data_ac}/intermediate/BERTembed.txt')\n",
    "\n",
    "embeddings = load_embeddings(bert_emb_path, 768)\n",
    "len(embeddings)"
   ]
  },
  {
   "cell_type": "code",
   "execution_count": 118,
   "metadata": {},
   "outputs": [
    {
     "data": {
      "text/html": [
       "<div>\n",
       "<style scoped>\n",
       "    .dataframe tbody tr th:only-of-type {\n",
       "        vertical-align: middle;\n",
       "    }\n",
       "\n",
       "    .dataframe tbody tr th {\n",
       "        vertical-align: top;\n",
       "    }\n",
       "\n",
       "    .dataframe thead th {\n",
       "        text-align: right;\n",
       "    }\n",
       "</style>\n",
       "<table border=\"1\" class=\"dataframe\">\n",
       "  <thead>\n",
       "    <tr style=\"text-align: right;\">\n",
       "      <th></th>\n",
       "      <th>entity</th>\n",
       "      <th>embedding</th>\n",
       "    </tr>\n",
       "  </thead>\n",
       "  <tbody>\n",
       "  </tbody>\n",
       "</table>\n",
       "</div>"
      ],
      "text/plain": [
       "Empty DataFrame\n",
       "Columns: [entity, embedding]\n",
       "Index: []"
      ]
     },
     "execution_count": 118,
     "metadata": {},
     "output_type": "execute_result"
    }
   ],
   "source": [
    "embeddings[embeddings['entity'] == 'black shirt']"
   ]
  },
  {
   "cell_type": "markdown",
   "metadata": {},
   "source": [
    "# Expand Seed Entities (clustering)"
   ]
  },
  {
   "cell_type": "code",
   "execution_count": 99,
   "metadata": {},
   "outputs": [],
   "source": [
    "# details here: https://github.com/rit-git/meg-kb/tree/main/src/concept_learning"
   ]
  },
  {
   "cell_type": "code",
   "execution_count": 299,
   "metadata": {},
   "outputs": [
    {
     "name": "stdout",
     "output_type": "stream",
     "text": [
      "/mnt/efs/shared/meg_shared_scripts/meg-kb/src/concept_learning\n"
     ]
    }
   ],
   "source": [
    "#change to concept learning directory\n",
    "%cd ../../concept_learning/"
   ]
  },
  {
   "cell_type": "markdown",
   "metadata": {},
   "source": [
    "## knn sentence-embedding"
   ]
  },
  {
   "cell_type": "code",
   "execution_count": 365,
   "metadata": {},
   "outputs": [],
   "source": [
    "clusters = 100\n",
    "output = '../../data/'+data_ac+'/intermediate/knn_'+str(clusters)+'.csv'\n",
    "dim = 768"
   ]
  },
  {
   "cell_type": "code",
   "execution_count": 366,
   "metadata": {},
   "outputs": [
    {
     "name": "stdout",
     "output_type": "stream",
     "text": [
      "building entity index: 100%|████████████████| 177/177 [00:00<00:00, 5435.26it/s]\n",
      "finding nearest neighbors by entity: 100%|██| 177/177 [00:00<00:00, 2001.57it/s]\n"
     ]
    }
   ],
   "source": [
    "!python compute_concept_clusters.py -d ../../data/$data_ac/intermediate/ -ca knn -s $clusters -dim $dim -o $output"
   ]
  },
  {
   "cell_type": "markdown",
   "metadata": {},
   "source": [
    "## knn token concatenated"
   ]
  },
  {
   "cell_type": "code",
   "execution_count": 308,
   "metadata": {},
   "outputs": [],
   "source": [
    "clusters = 20\n",
    "output = '../../data/'+data_pt+'/intermediate/knn_'+str(clusters)+'.csv'\n",
    "dim = 3072"
   ]
  },
  {
   "cell_type": "code",
   "execution_count": 309,
   "metadata": {},
   "outputs": [
    {
     "name": "stdout",
     "output_type": "stream",
     "text": [
      "building entity index: 100%|████████████████| 177/177 [00:00<00:00, 3661.18it/s]\n",
      "finding nearest neighbors by entity: 100%|██| 177/177 [00:00<00:00, 4052.00it/s]\n"
     ]
    }
   ],
   "source": [
    "!python compute_concept_clusters.py -d ../../data/$data_pt/intermediate/ -ca knn -s $clusters -dim $dim -o $output"
   ]
  },
  {
   "cell_type": "markdown",
   "metadata": {},
   "source": [
    "## knn token"
   ]
  },
  {
   "cell_type": "code",
   "execution_count": null,
   "metadata": {},
   "outputs": [],
   "source": [
    "clusters = 20\n",
    "output = '../../data/'+data_pt+'/intermediate/knn_'+str(clusters)+'.csv'\n",
    "dim = 768"
   ]
  },
  {
   "cell_type": "code",
   "execution_count": null,
   "metadata": {},
   "outputs": [],
   "source": [
    "!python compute_concept_clusters.py -d ../../data/$data_corel/intermediate/ -ca knn -s $clusters -dim $dim -o $output"
   ]
  },
  {
   "cell_type": "code",
   "execution_count": null,
   "metadata": {},
   "outputs": [],
   "source": []
  },
  {
   "cell_type": "markdown",
   "metadata": {},
   "source": [
    "## Seed instances clustering (EE-emb)\n",
    "(using all seed instances of a concept to find neighbors)"
   ]
  },
  {
   "cell_type": "code",
   "execution_count": 51,
   "metadata": {},
   "outputs": [
    {
     "name": "stdout",
     "output_type": "stream",
     "text": [
      "/mnt/efs/shared/meg_shared_scripts/meg-kb/src/concept_learning\n"
     ]
    }
   ],
   "source": [
    "%cd $base_dir/src/concept_learning"
   ]
  },
  {
   "cell_type": "code",
   "execution_count": 52,
   "metadata": {},
   "outputs": [
    {
     "name": "stdout",
     "output_type": "stream",
     "text": [
      "building entity index: 100%|██████████████| 8064/8064 [00:01<00:00, 6287.40it/s]\n",
      "finding nearest neighbors by concept: 14it [00:00, 16.42it/s]\n"
     ]
    }
   ],
   "source": [
    "# Use script\n",
    "cluster_size = None\n",
    "\n",
    "!python compute_concept_seeds_knn.py \\\n",
    "-d $base_dir/data/$data_ac/intermediate \\\n",
    "-b $base_dir/data/indeed-benchmark \\\n",
    "-o $base_dir/data/$data_ac/intermediate/ee_concept_knn_k=None.csv \\\n",
    "-kdt"
   ]
  },
  {
   "cell_type": "code",
   "execution_count": 89,
   "metadata": {},
   "outputs": [
    {
     "name": "stdout",
     "output_type": "stream",
     "text": [
      "building entity index: 100%|██████████████| 8063/8063 [00:01<00:00, 4398.92it/s]\n",
      "100%|███████████████████████████████████████████| 14/14 [00:01<00:00, 13.38it/s]\n"
     ]
    }
   ],
   "source": [
    "!python compute_concept_seeds_knn.py \\\n",
    "-d $base_dir/data/$data_ac/intermediate \\\n",
    "-b $base_dir/data/indeed-benchmark \\\n",
    "-e $base_dir/data/$data_ac/intermediate/BERTembed_RoBERTa+seeds.txt \\\n",
    "-o $base_dir/data/$data_ac/intermediate/ee_concept_knn_roberta_k=None.csv \\\n",
    "-kdt\n"
   ]
  },
  {
   "cell_type": "code",
   "execution_count": null,
   "metadata": {
    "scrolled": true
   },
   "outputs": [],
   "source": [
    "# check results \n",
    "concept_knn_path = os.path.join(base_dir, f'data/{data_ac}/intermediate/ee_concept_knn_k=None.csv')\n",
    "\n",
    "df = pd.read_csv(concept_knn_path)\n",
    "df[df['concept'] == 'company'].head(10)"
   ]
  },
  {
   "cell_type": "code",
   "execution_count": null,
   "metadata": {},
   "outputs": [],
   "source": [
    "df = pd.read_csv(concept_knn_path)\n",
    "df[df['concept'] == 'pay_schedule'].head(10)"
   ]
  },
  {
   "cell_type": "code",
   "execution_count": null,
   "metadata": {},
   "outputs": [],
   "source": []
  },
  {
   "cell_type": "markdown",
   "metadata": {},
   "source": [
    "## Contrastive EE-emb"
   ]
  },
  {
   "cell_type": "code",
   "execution_count": 245,
   "metadata": {},
   "outputs": [
    {
     "name": "stdout",
     "output_type": "stream",
     "text": [
      "\r",
      "  0%|                                                    | 0/14 [00:00<?, ?it/s]\r",
      "100%|█████████████████████████████████████████| 14/14 [00:00<00:00, 4704.77it/s]\r\n"
     ]
    }
   ],
   "source": [
    "# Use script\n",
    "# cluster_size = None\n",
    "\n",
    "!python compute_concept_contrastive_knn.py \\\n",
    "-d $base_dir/data/$data_ac/intermediate \\\n",
    "-b $base_dir/data/indeed-benchmark \\\n",
    "-o $base_dir/data/$data_ac/intermediate/ee_concept_contr_knn_k=None.csv"
   ]
  },
  {
   "cell_type": "code",
   "execution_count": 56,
   "metadata": {},
   "outputs": [
    {
     "name": "stdout",
     "output_type": "stream",
     "text": [
      "\r",
      "  0%|                                                    | 0/28 [00:00<?, ?it/s]\r",
      "100%|█████████████████████████████████████████| 28/28 [00:00<00:00, 5062.75it/s]\r\n"
     ]
    }
   ],
   "source": [
    "!python compute_concept_contrastive_knn.py \\\n",
    "-d $base_dir/data/$data_ac/intermediate \\\n",
    "-b $base_dir/data/indeed-benchmark \\\n",
    "-aux_cc \\\n",
    "-o $base_dir/data/$data_ac/intermediate/ee_concept_contr_knn-aux-k=None.csv"
   ]
  },
  {
   "cell_type": "code",
   "execution_count": null,
   "metadata": {},
   "outputs": [],
   "source": []
  },
  {
   "cell_type": "markdown",
   "metadata": {},
   "source": [
    "## EE-LM-probe (prompt)"
   ]
  },
  {
   "cell_type": "code",
   "execution_count": null,
   "metadata": {},
   "outputs": [],
   "source": [
    "'''\n",
    "@Nikita: Here are the code blocks for exploring LM prompts for EE.\n",
    "\n",
    "Some core code:\n",
    "lm_probe = LMProbe()        // LMProbe: BERT; LMProbe_GPT2: GPT2; etc.\n",
    "all_entitites = ...         // all the entities\n",
    "_template = \"Dress code like jeans, [MASK] and tattoos.\" // A string with [MASK] (LMProbe automatically takes care of all entity token lengths, so don't need to duplicate mask tokens)\n",
    "_res = lm_probe.score_candidates(input_txt=_template, cands=all_entities)\n",
    "list(enumerate(_res[:50]))  // Show results (rank, cand, score)\n",
    "\n",
    "'''"
   ]
  },
  {
   "cell_type": "code",
   "execution_count": 75,
   "metadata": {},
   "outputs": [
    {
     "name": "stderr",
     "output_type": "stream",
     "text": [
      "Some weights of the model checkpoint at bert-base-uncased were not used when initializing BertForMaskedLM: ['cls.seq_relationship.weight', 'cls.seq_relationship.bias']\n",
      "- This IS expected if you are initializing BertForMaskedLM from the checkpoint of a model trained on another task or with another architecture (e.g. initializing a BertForSequenceClassification model from a BertForPretraining model).\n",
      "- This IS NOT expected if you are initializing BertForMaskedLM from the checkpoint of a model that you expect to be exactly identical (initializing a BertForSequenceClassification model from a BertForSequenceClassification model).\n"
     ]
    }
   ],
   "source": [
    "lm_probe = LMProbe(model_name='bert-base-uncased')"
   ]
  },
  {
   "cell_type": "code",
   "execution_count": null,
   "metadata": {},
   "outputs": [],
   "source": [
    "lm_probe_gpt2 = LMProbe_GPT2()"
   ]
  },
  {
   "cell_type": "code",
   "execution_count": null,
   "metadata": {},
   "outputs": [],
   "source": [
    "ee_path = os.path.join(base_dir, f'data/{data_ac}/intermediate/concept_knn_100.csv')\n",
    "ee_df = pd.read_csv(ee_path)\n",
    "ee_df.shape"
   ]
  },
  {
   "cell_type": "code",
   "execution_count": null,
   "metadata": {},
   "outputs": [],
   "source": [
    "_r = 'has_dress_code'\n",
    "\n",
    "_r_row = seed_relations_df[seed_relations_df['alignedRelationName'] == _r].iloc[0]\n",
    "_h_type = _r_row['domain']\n",
    "_t_type = _r_row['range']\n",
    "print(_h_type, _t_type)\n",
    "\n",
    "_seed_heads = seed_concepts_df[seed_concepts_df['alignedCategoryName'] == _h_type]['seedInstances'].item()\n",
    "_seed_tails = seed_concepts_df[seed_concepts_df['alignedCategoryName'] == _t_type]['seedInstances'].item()\n",
    "print(_seed_heads, _seed_tails)\n",
    "\n",
    "_cand_heads = ee_df[ee_df['concept'] == _h_type]['neighbor'].tolist()\n",
    "_cand_tails = ee_df[ee_df['concept'] == _t_type]['neighbor'].tolist()\n",
    "print(len(_cand_heads), len(_cand_tails))"
   ]
  },
  {
   "cell_type": "code",
   "execution_count": 33,
   "metadata": {},
   "outputs": [
    {
     "data": {
      "text/plain": [
       "(8064, ['multiple times', 'upper', 'management'])"
      ]
     },
     "execution_count": 33,
     "metadata": {},
     "output_type": "execute_result"
    }
   ],
   "source": [
    "emb_num_path = os.path.join(base_dir, f'data/{data_ac}/intermediate/BERTembednum+seeds.txt')\n",
    "with open(emb_num_path, 'r') as f:\n",
    "    all_entities = [l.rsplit(' ', 1)[0] for l in f]\n",
    "len(all_entities), all_entities[:3]"
   ]
  },
  {
   "cell_type": "code",
   "execution_count": 76,
   "metadata": {
    "scrolled": true
   },
   "outputs": [
    {
     "data": {
      "text/plain": [
       "[(0, {'cand': 'tattoos', 'score': 0.4160754084587097}),\n",
       " (1, {'cand': 'hair', 'score': 0.039885014295577996}),\n",
       " (2, {'cand': 'lipstick', 'score': 0.02614353969693184}),\n",
       " (3, {'cand': 'sunglasses', 'score': 0.012342552654445166}),\n",
       " (4, {'cand': 'clothing', 'score': 0.006540362257510425}),\n",
       " (5, {'cand': 'jewellery', 'score': 0.006417935248464348}),\n",
       " (6, {'cand': 'cosmetics', 'score': 0.00435011088848114}),\n",
       " (7, {'cand': 'tattoo', 'score': 0.0035406514070928105}),\n",
       " (8, {'cand': 'shoes', 'score': 0.002573060104623437}),\n",
       " (9, {'cand': 'jeans', 'score': 0.0015570956747978924}),\n",
       " (10, {'cand': 'mascara', 'score': 0.0012895131949335337}),\n",
       " (11, {'cand': 'nipples', 'score': 0.001285086153075099}),\n",
       " (12, {'cand': 'skin', 'score': 0.0012442303122952583}),\n",
       " (13, {'cand': 'logos', 'score': 0.0007056326139718295}),\n",
       " (14, {'cand': 'ponytail', 'score': 0.0006706683780066669}),\n",
       " (15, {'cand': 'cologne', 'score': 0.0005899472744204106}),\n",
       " (16, {'cand': 'handcuffs', 'score': 0.0004861631023231892}),\n",
       " (17, {'cand': 'fashion', 'score': 0.00040361110586673027}),\n",
       " (18, {'cand': 'ink', 'score': 0.0003704534901771694}),\n",
       " (19, {'cand': 'leather', 'score': 0.00036086651380173857})]"
      ]
     },
     "execution_count": 76,
     "metadata": {},
     "output_type": "execute_result"
    }
   ],
   "source": [
    "_template = 'dress code including business casual, uniform, hair color, tattoos, facial hair, shoes, [MASK] and piercings.'\n",
    "_res = lm_probe.score_candidates(input_txt=_template, cands=all_entities)\n",
    "list(enumerate(_res[:20]))"
   ]
  },
  {
   "cell_type": "code",
   "execution_count": 73,
   "metadata": {},
   "outputs": [
    {
     "name": "stderr",
     "output_type": "stream",
     "text": [
      "Some weights of RobertaForMaskedLM were not initialized from the model checkpoint at roberta-base and are newly initialized: ['lm_head.decoder.bias']\n",
      "You should probably TRAIN this model on a down-stream task to be able to use it for predictions and inference.\n"
     ]
    }
   ],
   "source": [
    "lm_probe_roberta = LMProbe(model_name='roberta-base')"
   ]
  },
  {
   "cell_type": "code",
   "execution_count": 74,
   "metadata": {},
   "outputs": [
    {
     "data": {
      "text/plain": [
       "[(0, {'cand': 'tattoos', 'score': 0.28747424483299255}),\n",
       " (1, {'cand': 'clothing', 'score': 0.06236377730965614}),\n",
       " (2, {'cand': 'hair', 'score': 0.007582573685795066}),\n",
       " (3, {'cand': 'skin', 'score': 0.0070136240683496}),\n",
       " (4, {'cand': 'cosmetics', 'score': 0.0054200440645217896}),\n",
       " (5, {'cand': 'lipstick', 'score': 0.0037557301111519332}),\n",
       " (6, {'cand': 'sunglasses', 'score': 0.0023571669589728117}),\n",
       " (7, {'cand': 'labels', 'score': 0.0009628509869799014}),\n",
       " (8, {'cand': 'tattoo', 'score': 0.0008015605271793904}),\n",
       " (9, {'cand': 'mascara', 'score': 0.0006437317933887245}),\n",
       " (10, {'cand': 'jeans', 'score': 0.0004768913495354353}),\n",
       " (11, {'cand': 'shoes', 'score': 0.0004637015226762742}),\n",
       " (12, {'cand': 'paint', 'score': 0.00046234327601268893}),\n",
       " (13, {'cand': 'leather', 'score': 0.0004592324548866599}),\n",
       " (14, {'cand': 'design', 'score': 0.0003993592399638145}),\n",
       " (15, {'cand': 'products', 'score': 0.0003246380656491965}),\n",
       " (16, {'cand': 'bones', 'score': 0.00025791997904889275}),\n",
       " (17, {'cand': 'acne', 'score': 0.00022674869978800416}),\n",
       " (18, {'cand': 'arms', 'score': 0.00022047646052669715}),\n",
       " (19, {'cand': 'polish', 'score': 0.00020280660828575505})]"
      ]
     },
     "execution_count": 74,
     "metadata": {},
     "output_type": "execute_result"
    }
   ],
   "source": [
    "_template = 'dress code including business casual, uniform, hair color, tattoos, facial hair, shoes, [MASK] and piercings.'\n",
    "_res = lm_probe_roberta.score_candidates(input_txt=_template, cands=all_entities)\n",
    "list(enumerate(_res[:20]))"
   ]
  },
  {
   "cell_type": "code",
   "execution_count": 58,
   "metadata": {},
   "outputs": [],
   "source": [
    "_tokenizer = AutoTokenizer.from_pretrained('roberta-base')"
   ]
  },
  {
   "cell_type": "code",
   "execution_count": 64,
   "metadata": {},
   "outputs": [
    {
     "data": {
      "text/plain": [
       "(PreTrainedTokenizer(name_or_path='roberta-base', vocab_size=50265, model_max_len=512, is_fast=False, padding_side='right', special_tokens={'bos_token': AddedToken(\"<s>\", rstrip=False, lstrip=False, single_word=False, normalized=True), 'eos_token': AddedToken(\"</s>\", rstrip=False, lstrip=False, single_word=False, normalized=True), 'unk_token': AddedToken(\"<unk>\", rstrip=False, lstrip=False, single_word=False, normalized=True), 'sep_token': AddedToken(\"</s>\", rstrip=False, lstrip=False, single_word=False, normalized=True), 'pad_token': AddedToken(\"<pad>\", rstrip=False, lstrip=False, single_word=False, normalized=True), 'cls_token': AddedToken(\"<s>\", rstrip=False, lstrip=False, single_word=False, normalized=True), 'mask_token': AddedToken(\"<mask>\", rstrip=False, lstrip=True, single_word=False, normalized=True)}),\n",
       " '<mask>',\n",
       " '<s>',\n",
       " '</s>')"
      ]
     },
     "execution_count": 64,
     "metadata": {},
     "output_type": "execute_result"
    }
   ],
   "source": [
    "_tokenizer, _tokenizer.mask_token, _tokenizer.cls_token, _tokenizer.sep_token"
   ]
  },
  {
   "cell_type": "code",
   "execution_count": 60,
   "metadata": {},
   "outputs": [
    {
     "data": {
      "text/plain": [
       "['Ġhair', 'Ġcolor']"
      ]
     },
     "execution_count": 60,
     "metadata": {},
     "output_type": "execute_result"
    }
   ],
   "source": [
    "_tokenizer.tokenize(' hair color')"
   ]
  },
  {
   "cell_type": "code",
   "execution_count": 66,
   "metadata": {},
   "outputs": [
    {
     "data": {
      "text/plain": [
       "[2549, 3195]"
      ]
     },
     "execution_count": 66,
     "metadata": {},
     "output_type": "execute_result"
    }
   ],
   "source": [
    "_tokenizer.convert_tokens_to_ids(['Ġhair', 'Ġcolor'])"
   ]
  },
  {
   "cell_type": "code",
   "execution_count": 67,
   "metadata": {},
   "outputs": [
    {
     "data": {
      "text/plain": [
       "' hair color'"
      ]
     },
     "execution_count": 67,
     "metadata": {},
     "output_type": "execute_result"
    }
   ],
   "source": [
    "_tokenizer.convert_tokens_to_string(['Ġhair', 'Ġcolor'])"
   ]
  },
  {
   "cell_type": "code",
   "execution_count": 65,
   "metadata": {},
   "outputs": [
    {
     "data": {
      "text/plain": [
       "(PreTrainedTokenizer(name_or_path='bert-base-uncased', vocab_size=30522, model_max_len=512, is_fast=False, padding_side='right', special_tokens={'unk_token': '[UNK]', 'sep_token': '[SEP]', 'pad_token': '[PAD]', 'cls_token': '[CLS]', 'mask_token': '[MASK]'}),\n",
       " '[MASK]',\n",
       " '[CLS]',\n",
       " '[SEP]')"
      ]
     },
     "execution_count": 65,
     "metadata": {},
     "output_type": "execute_result"
    }
   ],
   "source": [
    "_t = AutoTokenizer.from_pretrained('bert-base-uncased')\n",
    "_t, _t.mask_token, _t.cls_token, _t.sep_token"
   ]
  },
  {
   "cell_type": "code",
   "execution_count": 68,
   "metadata": {},
   "outputs": [
    {
     "data": {
      "text/plain": [
       "'hair color'"
      ]
     },
     "execution_count": 68,
     "metadata": {},
     "output_type": "execute_result"
    }
   ],
   "source": [
    "_t.convert_tokens_to_string(['hair', 'color'])"
   ]
  },
  {
   "cell_type": "code",
   "execution_count": null,
   "metadata": {},
   "outputs": [],
   "source": []
  },
  {
   "cell_type": "code",
   "execution_count": 78,
   "metadata": {},
   "outputs": [
    {
     "name": "stdout",
     "output_type": "stream",
     "text": [
      "Some weights of RobertaForMaskedLM were not initialized from the model checkpoint at roberta-base and are newly initialized: ['lm_head.decoder.bias']\n",
      "You should probably TRAIN this model on a down-stream task to be able to use it for predictions and inference.\n",
      "100%|███████████████████████████████████████████| 14/14 [00:58<00:00,  4.20s/it]\n"
     ]
    }
   ],
   "source": [
    "# Use scripts \n",
    "!python compute_EE_LM_probe.py \\\n",
    "-d $base_dir/data/$data_ac/intermediate \\\n",
    "-b $base_dir/data/indeed-benchmark \\\n",
    "-lm mlm \\\n",
    "-lm_model roberta-base \\\n",
    "-o $base_dir/data/$data_ac/intermediate/ee_LM_roberta_k=None.csv\n"
   ]
  },
  {
   "cell_type": "code",
   "execution_count": 8,
   "metadata": {},
   "outputs": [
    {
     "name": "stdout",
     "output_type": "stream",
     "text": [
      "100%|███████████████████████████████████████████| 14/14 [00:54<00:00,  3.88s/it]\n"
     ]
    }
   ],
   "source": [
    "!python compute_EE_LM_probe.py \\\n",
    "-d $base_dir/data/$data_ac/intermediate \\\n",
    "-b $base_dir/data/indeed-benchmark \\\n",
    "-lm bert \\\n",
    "-lm_model /home/ubuntu/users/nikita/models/bert_finetuned_lm/indeed_reviews_ques_ans \\\n",
    "-agg avg \\\n",
    "-o $base_dir/data/$data_ac/intermediate/ee_LM_bert_DA_avg_k=None.csv\n"
   ]
  },
  {
   "cell_type": "code",
   "execution_count": 57,
   "metadata": {},
   "outputs": [
    {
     "name": "stdout",
     "output_type": "stream",
     "text": [
      "Some weights of the model checkpoint at bert-base-uncased were not used when initializing BertForMaskedLM: ['cls.seq_relationship.weight', 'cls.seq_relationship.bias']\n",
      "- This IS expected if you are initializing BertForMaskedLM from the checkpoint of a model trained on another task or with another architecture (e.g. initializing a BertForSequenceClassification model from a BertForPretraining model).\n",
      "- This IS NOT expected if you are initializing BertForMaskedLM from the checkpoint of a model that you expect to be exactly identical (initializing a BertForSequenceClassification model from a BertForSequenceClassification model).\n",
      "100%|███████████████████████████████████████████| 28/28 [01:44<00:00,  3.72s/it]\n"
     ]
    }
   ],
   "source": [
    "!python compute_EE_LM_probe.py \\\n",
    "-d $base_dir/data/$data_ac/intermediate \\\n",
    "-b $base_dir/data/indeed-benchmark \\\n",
    "-lm bert \\\n",
    "-aux_cc \\\n",
    "-o $base_dir/data/$data_ac/intermediate/ee_LM_bert-aux-k=None.csv\n"
   ]
  },
  {
   "cell_type": "code",
   "execution_count": 271,
   "metadata": {},
   "outputs": [
    {
     "name": "stdout",
     "output_type": "stream",
     "text": [
      "Some weights of the model checkpoint at bert-base-uncased were not used when initializing BertForMaskedLM: ['cls.seq_relationship.weight', 'cls.seq_relationship.bias']\n",
      "- This IS expected if you are initializing BertForMaskedLM from the checkpoint of a model trained on another task or with another architecture (e.g. initializing a BertForSequenceClassification model from a BertForPretraining model).\n",
      "- This IS NOT expected if you are initializing BertForMaskedLM from the checkpoint of a model that you expect to be exactly identical (initializing a BertForSequenceClassification model from a BertForSequenceClassification model).\n",
      "100%|███████████████████████████████████████████| 14/14 [00:53<00:00,  3.82s/it]\n"
     ]
    }
   ],
   "source": [
    "!python compute_EE_LM_probe.py \\\n",
    "-d $base_dir/data/$data_ac/intermediate \\\n",
    "-b $base_dir/data/indeed-benchmark \\\n",
    "-lm bert \\\n",
    "-o $base_dir/data/$data_ac/intermediate/ee_LM_bert_k=None.csv\n"
   ]
  },
  {
   "cell_type": "code",
   "execution_count": null,
   "metadata": {},
   "outputs": [],
   "source": []
  },
  {
   "cell_type": "markdown",
   "metadata": {},
   "source": [
    "## Class name prediction"
   ]
  },
  {
   "cell_type": "code",
   "execution_count": 6,
   "metadata": {},
   "outputs": [
    {
     "name": "stderr",
     "output_type": "stream",
     "text": [
      "Some weights of the model checkpoint at bert-base-uncased were not used when initializing BertForMaskedLM: ['cls.seq_relationship.weight', 'cls.seq_relationship.bias']\n",
      "- This IS expected if you are initializing BertForMaskedLM from the checkpoint of a model trained on another task or with another architecture (e.g. initializing a BertForSequenceClassification model from a BertForPretraining model).\n",
      "- This IS NOT expected if you are initializing BertForMaskedLM from the checkpoint of a model that you expect to be exactly identical (initializing a BertForSequenceClassification model from a BertForSequenceClassification model).\n"
     ]
    }
   ],
   "source": [
    "lm_probe = LMProbe()"
   ]
  },
  {
   "cell_type": "code",
   "execution_count": 26,
   "metadata": {},
   "outputs": [
    {
     "data": {
      "text/plain": [
       "[{'cand': 'qualifications', 'score': 0.010107847861945629},\n",
       " {'cand': 'benefits', 'score': 1.0626394214341422e-05},\n",
       " {'cand': 'roles', 'score': 1.079390585800865e-06},\n",
       " {'cand': 'checks', 'score': 5.771184419245406e-07},\n",
       " {'cand': 'persons', 'score': 3.987514958225805e-07},\n",
       " {'cand': 'departments', 'score': 2.8143759323029387e-07},\n",
       " {'cand': 'schedules', 'score': 2.6243087702937383e-08},\n",
       " {'cand': 'dresses', 'score': 1.1577242275961901e-08}]"
      ]
     },
     "execution_count": 26,
     "metadata": {},
     "output_type": "execute_result"
    }
   ],
   "source": [
    "_input_txt = '[MASK] such as bachelor degree is required to work at Walmart.'\n",
    "lm_probe.score_candidates(_input_txt, ['benefits', 'roles', 'persons', 'schedules', 'dresses', 'departments', 'checks', 'qualifications'])"
   ]
  },
  {
   "cell_type": "code",
   "execution_count": 28,
   "metadata": {},
   "outputs": [
    {
     "data": {
      "text/plain": [
       "[{'cand': 'qualifications', 'score': 0.014812425710260875},\n",
       " {'cand': 'benefits', 'score': 9.158307875622997e-06},\n",
       " {'cand': 'persons', 'score': 9.146327784037573e-07},\n",
       " {'cand': 'roles', 'score': 6.875428653074773e-07},\n",
       " {'cand': 'checks', 'score': 2.984555749208085e-07},\n",
       " {'cand': 'departments', 'score': 1.602442836201591e-07},\n",
       " {'cand': 'dresses', 'score': 8.730975054049843e-09},\n",
       " {'cand': 'schedules', 'score': 7.1630932296784555e-09}]"
      ]
     },
     "execution_count": 28,
     "metadata": {},
     "output_type": "execute_result"
    }
   ],
   "source": [
    "_input_txt = '[MASK] such as bachelor degree is required to work at the company.'\n",
    "lm_probe.score_candidates(_input_txt, ['benefits', 'roles', 'persons', 'schedules', 'dresses', 'departments', 'checks', 'qualifications'])"
   ]
  },
  {
   "cell_type": "code",
   "execution_count": 25,
   "metadata": {},
   "outputs": [
    {
     "data": {
      "text/plain": [
       "[{'cand': 'qualifications', 'score': 0.06600436568260193},\n",
       " {'cand': 'benefits', 'score': 0.0003170075651723892},\n",
       " {'cand': 'departments', 'score': 0.00019293477816972865},\n",
       " {'cand': 'roles', 'score': 0.00011820000509032974},\n",
       " {'cand': 'persons', 'score': 9.001246326079126e-06},\n",
       " {'cand': 'checks', 'score': 8.256243745563545e-06},\n",
       " {'cand': 'schedules', 'score': 3.3704397992551064e-06},\n",
       " {'cand': 'dresses', 'score': 8.162938911482339e-07}]"
      ]
     },
     "execution_count": 25,
     "metadata": {},
     "output_type": "execute_result"
    }
   ],
   "source": [
    "_input_txt = 'They have [MASK] such as bachelor degree.'\n",
    "lm_probe.score_candidates(_input_txt, ['benefits', 'roles', 'persons', 'schedules', 'dresses', 'departments', 'checks', 'qualifications'])"
   ]
  },
  {
   "cell_type": "code",
   "execution_count": 27,
   "metadata": {},
   "outputs": [
    {
     "data": {
      "text/plain": [
       "(8064, ['multiple times', 'upper', 'management'])"
      ]
     },
     "execution_count": 27,
     "metadata": {},
     "output_type": "execute_result"
    }
   ],
   "source": [
    "emb_num_path = os.path.join(base_dir, f'data/{data_ac}/intermediate/BERTembednum+seeds.txt')\n",
    "with open(emb_num_path, 'r') as f:\n",
    "    all_entities = [l.rsplit(' ', 1)[0] for l in f]\n",
    "len(all_entities), all_entities[:3]"
   ]
  },
  {
   "cell_type": "code",
   "execution_count": 30,
   "metadata": {},
   "outputs": [
    {
     "data": {
      "application/vnd.jupyter.widget-view+json": {
       "model_id": "e2618ef0796e46d7948041c5ca11c237",
       "version_major": 2,
       "version_minor": 0
      },
      "text/plain": [
       "HBox(children=(FloatProgress(value=0.0, max=8064.0), HTML(value='')))"
      ]
     },
     "metadata": {},
     "output_type": "display_data"
    },
    {
     "name": "stdout",
     "output_type": "stream",
     "text": [
      "\n"
     ]
    }
   ],
   "source": [
    "# cn_scores_dict = dict()  # Dict[cn, Dict[e, score]]\n",
    "cn_scores_dict_qual = dict()\n",
    "\n",
    "for _e in tqdm(all_entities):\n",
    "    _input_txt = f'[MASK] such as {_e} is required to work at the company.'\n",
    "    _d = lm_probe.score_candidates(_input_txt, ['qualifications'])\n",
    "    cn_scores_dict_qual[_e] = _d[0]['score']"
   ]
  },
  {
   "cell_type": "code",
   "execution_count": 31,
   "metadata": {
    "scrolled": true
   },
   "outputs": [
    {
     "data": {
      "text/plain": [
       "[('national background', 0.18993115425109863),\n",
       " ('excellent service', 0.17657598853111267),\n",
       " ('excellent training', 0.14337441325187683),\n",
       " ('election', 0.13679932057857513),\n",
       " ('civil service examination', 0.13190346956253055),\n",
       " ('latitude', 0.117889866232872),\n",
       " ('grade point average', 0.11734356731176378),\n",
       " ('473 exam', 0.11213560402393344),\n",
       " ('higher position', 0.11185302585363385),\n",
       " ('skill level', 0.10884014517068863),\n",
       " ('citizenship', 0.10140147805213928),\n",
       " ('advancement opportunity', 0.09752645343542099),\n",
       " ('career opportunity', 0.09613030403852464),\n",
       " ('great place', 0.09332876652479172),\n",
       " ('entry level', 0.09109833091497423),\n",
       " ('great opportunity', 0.08629722893238066),\n",
       " ('teaching experience', 0.08455906808376311),\n",
       " ('drivers license', 0.0844525247812271),\n",
       " ('excellent customer', 0.07997493445873259),\n",
       " ('perfect attendance', 0.07865294814109802),\n",
       " ('pay grade', 0.07696734368801117),\n",
       " ('pse position', 0.0760236829519272),\n",
       " ('highschool diploma', 0.07536540925502776),\n",
       " ('diploma', 0.07507280260324477),\n",
       " ('high school diploma', 0.07400100678205489),\n",
       " ('good standings', 0.07332821190357208),\n",
       " ('managers discretion', 0.07293488085269928),\n",
       " ('driver license', 0.07279372960329057),\n",
       " ('degree', 0.0696198120713234),\n",
       " ('high turn over', 0.06801415234804152),\n",
       " ('inclination', 0.0674176439642906),\n",
       " ('hs diploma', 0.06688763946294786),\n",
       " ('main focus', 0.06600431352853775),\n",
       " ('highly recommend', 0.06525976955890656),\n",
       " ('career path', 0.06435005366802217),\n",
       " ('ph', 0.06399897485971452),\n",
       " ('job title', 0.06349819153547287),\n",
       " ('skill set', 0.06346611678600313),\n",
       " ('test status', 0.062011212110519416),\n",
       " ('basic knowledge', 0.061216793954372406),\n",
       " ('require drug testing', 0.060669101774692535),\n",
       " ('constitution', 0.05975136905908584),\n",
       " ('academic', 0.05952610820531845),\n",
       " ('competitive pay', 0.05929696187376975),\n",
       " ('legal age', 0.05846517905592918),\n",
       " ('social status', 0.0580885335803032),\n",
       " ('gain experience', 0.0568312332034111),\n",
       " ('credit rating', 0.05572803691029547),\n",
       " (\"driver 's license\", 0.05565151944756508),\n",
       " ('first advantage', 0.05463823676109313),\n",
       " ('charter', 0.05447678640484809),\n",
       " ('prior experience', 0.05433794483542442),\n",
       " ('knowledge', 0.05327026918530464),\n",
       " ('driving record', 0.05317889899015426),\n",
       " ('bare minimum', 0.05310521274805068),\n",
       " ('secondary education', 0.05294932425022125),\n",
       " ('exceptional customer service', 0.05274960026144981),\n",
       " ('pilot', 0.05211394652724267),\n",
       " ('minimum age', 0.05208748206496239),\n",
       " ('education', 0.051332868635654456),\n",
       " ('highest paid', 0.05129551887512207),\n",
       " ('initial interview', 0.05128328874707221),\n",
       " ('excellent customer service', 0.049366328865289695),\n",
       " ('meritocracy', 0.04863769933581352),\n",
       " ('higher education', 0.048277437686920166),\n",
       " ('base level', 0.04702895879745484),\n",
       " ('food handlers card', 0.047008544206619256),\n",
       " ('great commission', 0.04681324586272239),\n",
       " ('enterprise rent a car', 0.0461384579539299),\n",
       " ('frequency', 0.046073310077190406),\n",
       " ('non career', 0.0455450415611267),\n",
       " ('great working environment', 0.04538623616099357),\n",
       " ('country', 0.045023821294307716),\n",
       " ('valid license', 0.04455062374472619),\n",
       " ('legal working age', 0.04407989233732223),\n",
       " ('bsc', 0.043301697820425034),\n",
       " ('higher level', 0.043088141828775406),\n",
       " ('equal opportunity', 0.04300498217344285),\n",
       " ('registered nurse', 0.0428810603916645),\n",
       " ('employment', 0.04243453592061996),\n",
       " ('liquor license', 0.04240747168660164),\n",
       " ('permanent position', 0.04238251224160195),\n",
       " ('french quarter', 0.042186260223388665),\n",
       " ('a level', 0.04172641783952714),\n",
       " ('sat', 0.041142795234918594),\n",
       " ('extensive training', 0.04061353951692582),\n",
       " ('proper training', 0.04051414132118225),\n",
       " ('hiring packet', 0.03991136699914932),\n",
       " ('great customer service', 0.03967151045799256),\n",
       " ('driving test', 0.039657227694988244),\n",
       " ('meritocratic', 0.039619464427232735),\n",
       " ('ma', 0.03957046940922737),\n",
       " ('regular associate', 0.03907345607876777),\n",
       " ('current position', 0.03898751363158227),\n",
       " ('yearly review', 0.037705745548009865),\n",
       " ('formal interview', 0.0376182496547699),\n",
       " ('excellent benefits', 0.03737684339284896),\n",
       " ('training', 0.03726719319820404),\n",
       " ('cca position', 0.03706249594688415),\n",
       " ('dress professional', 0.037038281559944146)]"
      ]
     },
     "execution_count": 31,
     "metadata": {},
     "output_type": "execute_result"
    }
   ],
   "source": [
    "_l = sorted(cn_scores_dict_qual.items(), key=lambda p: p[1], reverse=True)\n",
    "_l[:100]"
   ]
  },
  {
   "cell_type": "code",
   "execution_count": null,
   "metadata": {},
   "outputs": [],
   "source": []
  },
  {
   "cell_type": "code",
   "execution_count": null,
   "metadata": {},
   "outputs": [],
   "source": []
  },
  {
   "cell_type": "markdown",
   "metadata": {},
   "source": [
    "## Postproc contrastive EE"
   ]
  },
  {
   "cell_type": "code",
   "execution_count": 91,
   "metadata": {},
   "outputs": [],
   "source": [
    "def postproc_contrastive_EE(ee_in_path, ee_contr_out_path, score_col, seed_concepts_path,\n",
    "                            seed_score=0.0, keep_all_entities=False):\n",
    "    \n",
    "    # score_col: column name of score to use for ranking \n",
    "    # seed_score: default score for seeds, since their scores are not computed in EE methods\n",
    "    # keep_all_entities: if False, only assign entities to best concepts (contr);\n",
    "    #   if True, keep all entities for each concept (acontr)\n",
    "    \n",
    "    seed_concepts_df = load_seed_aligned_concepts(seed_concepts_path)\n",
    "    seed_instances_dict = dict(zip(\n",
    "        seed_concepts_df['alignedCategoryName'].tolist(),\n",
    "        seed_concepts_df['seedInstances'].tolist()\n",
    "    ))\n",
    "    all_seed_instances = set([_e for _seeds in seed_instances_dict.values() for _e in _seeds])\n",
    "    print(sorted(list(all_seed_instances)))\n",
    "    ee_in_df = pd.read_csv(ee_in_path)\n",
    "    \n",
    "    cc_list = list(set(ee_in_df['concept'].tolist()))\n",
    "    all_ent_list = list(set(ee_in_df['neighbor'].tolist()))\n",
    "    \n",
    "    cc_scores_dict = dict()\n",
    "    for cc in cc_list:\n",
    "        cc_df = ee_in_df[ee_in_df['concept'] == cc]\n",
    "        cc_scores_dict[cc] = dict(zip(\n",
    "            cc_df['neighbor'].tolist(),\n",
    "            cc_df[score_col].tolist()\n",
    "        ))\n",
    "    \n",
    "    cands_for_concepts = [[] for _ in range(len(cc_list))]\n",
    "    for _e in all_ent_list:\n",
    "#         if _e in all_seed_instances:\n",
    "#             continue\n",
    "        _scores = [cc_scores_dict[cc].get(_e, seed_score) for cc in cc_list]\n",
    "        _cc_ranking = np.argsort(_scores).tolist()[::-1]\n",
    "        _max_cc_id = _cc_ranking[0]\n",
    "        _second_cc_id = _cc_ranking[1]\n",
    "#         _score = _scores[_max_cc_id]\n",
    "#         _2nd_score = _scores[_second_cc_id]\n",
    "#         _margin = _score - _2nd_score\n",
    "        \n",
    "        for cc_id, cc in enumerate(cc_list):\n",
    "            if _e in seed_instances_dict[cc]:\n",
    "                continue\n",
    "            if not keep_all_entities and cc_id != _max_cc_id:\n",
    "                continue\n",
    "            obest_cc_id = _second_cc_id if cc_id == _max_cc_id else _max_cc_id\n",
    "            _score = _scores[cc_id]\n",
    "            _obest_score = _scores[obest_cc_id]\n",
    "            _margin = _score - _obest_score\n",
    "            cands_for_concepts[cc_id].append({\n",
    "                'concept': cc,\n",
    "                'obest_concept': cc_list[obest_cc_id],\n",
    "                'neighbor': _e,\n",
    "                score_col: _score,\n",
    "                f'obest_{score_col}': _obest_score,\n",
    "                'margin': _margin,\n",
    "                f'{score_col}+margin': _score + _margin\n",
    "            })\n",
    "\n",
    "    out_records = []\n",
    "    for cc_id, cands in enumerate(cands_for_concepts):\n",
    "        cands_sorted = sorted(cands, key=lambda d: d[f'{score_col}+margin'], reverse=True)\n",
    "        out_records.extend(cands_sorted)\n",
    "    \n",
    "    pd.DataFrame(out_records).to_csv(ee_contr_out_path, index=None)\n",
    "    "
   ]
  },
  {
   "cell_type": "code",
   "execution_count": 95,
   "metadata": {},
   "outputs": [
    {
     "name": "stdout",
     "output_type": "stream",
     "text": [
      "['10 min break', '15 minute break', '30 minute breaks', '401k', '7 days', '8 hour shift', 'air conditioner', 'amazon', 'ankle', 'apple pay', 'area', 'arms', 'asset protection', 'bachelors degree', 'bakery', 'barista', 'base pay', 'baseball', 'basketball', 'biweekly', 'bonus', 'book', 'business', 'business casual', 'call center', 'cash register', 'cashier', 'checks', 'christmas eve', 'co worker', 'company', 'corporation', 'country', 'criminal background check', 'criminals', 'dc', 'delivery driver', 'dinner shift', 'direct deposit', 'disabled', 'dishwasher', 'dress code', 'dress codes', 'drug addicts', 'drug test', 'early morning', 'early morning shift', 'employment verification', 'facial hair', 'family member', 'fast food', 'felons', 'flexible schedule', 'friday', 'front desk', 'full time', 'general store', 'golf', 'google drive', 'government', 'hair color', 'health insurance', 'heavy lifting', 'high schoolers', 'hiring age', 'hoilday', 'human resources', 'india', 'internet', 'introduction', 'itunes', 'kitchen sink', 'knee', 'laptops', 'lunch break', 'management', 'master', 'microphones', 'microsoft', 'microsoft word', 'misdemeanor', 'night shift', 'orientation', 'overtime pay', 'package handler', 'paid vacation', 'part time', 'pharmacy', 'piercings', 'postal service', 'pregnant', 'prepaid card', 'prior experience', 'refrigerator', 'regular employee', 'restaurant', 'retail', 'sales associate', 'samsung galaxy', 'saturday', 'seasonal', 'seniors', 'shoes', 'sick leave', 'single', 'skin', 'smartphones', 'sport', 'state', 'stock options', 'stomach', 'store manager', 'student', 'students', 'subway', 'sunday', 'target', 'tattoos', 'team lunch', 'team member', 'tech support', 'tongue', 'training', 'uniform', 'usa', 'veteran', 'vision insurance', 'walmart', 'warehouse', 'weekend', 'weekly', 'wireless', 'working permit', 'workstation', 'yoga']\n"
     ]
    }
   ],
   "source": [
    "ee_in_path = os.path.join(base_dir, f'data/{data_ac}/intermediate/ee_LM_roberta_k=None.csv')\n",
    "ee_contr_out_path = os.path.join(base_dir, f'data/{data_ac}/intermediate/ee_LM_roberta_contr_k=None.csv')\n",
    "# ee_in_path = os.path.join(base_dir, f'data/{data_ac}/intermediate/ee_concept_knn_k=None.csv')\n",
    "# ee_contr_out_path = os.path.join(base_dir, f'data/{data_ac}/intermediate/ee_concept_contr_knn_k=None.csv')\n",
    "# ee_in_path = os.path.join(base_dir, f'data/{data_ac}/intermediate/ee_LM_bert_k=None.csv')\n",
    "# ee_contr_out_path = os.path.join(base_dir, f'data/{data_ac}/intermediate/ee_LM_bert_acontr_k=None.csv')\n",
    "# seed_concepts_aux_path = os.path.join(base_dir, f'data/indeed-benchmark/seed_aligned_concepts_aux.csv')\n",
    "\n",
    "postproc_contrastive_EE(ee_in_path=ee_in_path,\n",
    "                        ee_contr_out_path=ee_contr_out_path,\n",
    "                        score_col='lm_score',\n",
    "                        seed_concepts_path=seed_aux_concepts_path,\n",
    "                        keep_all_entities=False)"
   ]
  },
  {
   "cell_type": "code",
   "execution_count": null,
   "metadata": {},
   "outputs": [],
   "source": []
  },
  {
   "cell_type": "markdown",
   "metadata": {},
   "source": [
    "## Iterative EE"
   ]
  },
  {
   "cell_type": "code",
   "execution_count": null,
   "metadata": {},
   "outputs": [],
   "source": [
    "class IterativeEntityExpander:\n",
    "    def __init__(self,\n",
    "                 step_K,\n",
    "                 total_steps,\n",
    "                 out_dir,\n",
    "                 bert_emb_path,\n",
    "                 bert_emb_dim,\n",
    "                 benchmark_dir,\n",
    "                 entity_emb_dict=None):\n",
    "        \n",
    "        self.step_K = step_K\n",
    "        self.total_steps = total_steps\n",
    "        self.out_dir = out_dir\n",
    "        self.bert_emb_path = bert_emb_path\n",
    "        self.bert_emb_dim = bert_emb_dim\n",
    "        \n",
    "        if entity_emb_dict is None:\n",
    "            _entity_embeddings = load_embeddings(bert_emb_path, bert_emb_dim)\n",
    "            entity_emb_dict = dict(zip(_entity_embeddings['entity'].tolist(),\n",
    "                                       _entity_embeddings['embedding'].tolist()))\n",
    "        self.entity_emb_dict = entity_emb_dict\n",
    "        \n",
    "        self.benchmark_dir = benchmark_dir\n",
    "        _seed_concepts_path = os.path.join(benchmark_dir, 'seed_aligned_concepts.csv')\n",
    "        _concepts_df = load_seed_aligned_concepts(_seed_concepts_path)\n",
    "        self.init_seeds_dict = dict(zip(_concepts_df['alignedCategoryName'].tolist(),\n",
    "                                        _concepts_df['seedInstances'].tolist()))\n",
    "        self.seeds_dict = dict(self.init_seeds_dict)\n",
    "    \n",
    "    def expand(self, start_step=0, end_step=None):\n",
    "        if end_step is None:\n",
    "            end_step = self.total_steps\n",
    "        for step_id in tqdm(range(start_step, end_step)):\n",
    "            self.expand_step(step_id)\n",
    "            \n",
    "    def expand_step(self, step_id):\n",
    "        raise NotImplementedError\n",
    "\n",
    "        "
   ]
  },
  {
   "cell_type": "code",
   "execution_count": 88,
   "metadata": {},
   "outputs": [],
   "source": [
    "class IterativeEE_Emb_Contrastive(IterativeEntityExpander):        \n",
    "    def expand_step(self, step_id):\n",
    "        entities, embeddings = zip(*self.entity_emb_dict.items())\n",
    "        \n",
    "        neighbors = []\n",
    "        \n",
    "        concept_emb_dict = dict()\n",
    "        for a_concept, seed_instances in self.seeds_dict.items():\n",
    "            embs = []\n",
    "            for inst in seed_instances:\n",
    "                try:\n",
    "                    embs.append(self.entity_emb_dict[inst])\n",
    "                except KeyError:\n",
    "                    print(f\"{inst} not found in entity_emb_dict??\")\n",
    "                    continue\n",
    "            if len(embs) == 0:\n",
    "                continue\n",
    "            concept_emb = np.mean(embs, axis=0)\n",
    "            concept_emb_dict[a_concept] = concept_emb\n",
    "\n",
    "        concepts = list(concept_emb_dict.keys())\n",
    "        concept_embs = list(concept_emb_dict.values())\n",
    "\n",
    "        # (n_concepts, n_entities)\n",
    "        cos_matrix = cosine_similarity(concept_embs, embeddings)\n",
    "\n",
    "        cands_for_concepts = [[] for _ in range(len(concepts))]\n",
    "        for e_id, e in enumerate(entities):\n",
    "            _scores = cos_matrix[:, e_id]\n",
    "            _cc_ranking = np.argsort(-_scores)\n",
    "            _max_cc_id = _cc_ranking[0]\n",
    "            _second_cc_id = _cc_ranking[1]\n",
    "            _score = _scores[_max_cc_id]\n",
    "            _2nd_score = _scores[_second_cc_id]\n",
    "            _margin = _score - _2nd_score\n",
    "            \n",
    "            if e in self.seeds_dict[concepts[_max_cc_id]]:\n",
    "                continue\n",
    "            \n",
    "            cands_for_concepts[_max_cc_id].append({\n",
    "                'concept': concepts[_max_cc_id],\n",
    "                '2nd_concept': concepts[_second_cc_id],\n",
    "                'neighbor': e,\n",
    "                'sim': _score,\n",
    "                '2nd_sim': _2nd_score,\n",
    "                'margin': _margin,\n",
    "                'sim+margin': _score + _margin\n",
    "            })\n",
    "\n",
    "        for cc_id, cands in enumerate(cands_for_concepts):\n",
    "            cands_sorted = sorted(cands, key=lambda d: d['sim+margin'], reverse=True)\n",
    "            neighbors.extend(cands_sorted)\n",
    "            \n",
    "            _cc = concepts[cc_id]\n",
    "            _orig_seeds = self.seeds_dict[_cc]\n",
    "            # _ranked_cands = [d['neighbor'] for d in cands_sorted if d['neighbor'] not in _orig_seeds]\n",
    "            _ranked_cands = [d['neighbor'] for d in cands_sorted]\n",
    "            _add_seeds = _ranked_cands[:self.step_K]\n",
    "            _new_seeds = list(set(_orig_seeds + _add_seeds))\n",
    "            self.seeds_dict[_cc] = _new_seeds\n",
    "    \n",
    "        _rankings_dest = os.path.join(self.out_dir, f'rankings-step={step_id}.csv')\n",
    "        c_df = pd.DataFrame(neighbors)\n",
    "        c_df.to_csv(_rankings_dest, index=None)\n",
    "        \n",
    "        _EE_dest = os.path.join(self.out_dir, f'expanded-step={step_id}.csv')\n",
    "        e_list = []\n",
    "        for _cc, _e_list in self.seeds_dict.items():\n",
    "            for _e in _e_list:\n",
    "                e_list.append((_cc, _e))\n",
    "        e_df = pd.DataFrame(e_list, columns=['concept', 'neighbor'])\n",
    "        e_df.to_csv(_EE_dest, index=None)\n",
    "    \n",
    "    "
   ]
  },
  {
   "cell_type": "code",
   "execution_count": 93,
   "metadata": {},
   "outputs": [],
   "source": [
    "class IterativeEE_Emb(IterativeEntityExpander):        \n",
    "    def expand_step(self, step_id):\n",
    "        entities, embeddings = zip(*self.entity_emb_dict.items())\n",
    "        \n",
    "        neighbors = []\n",
    "        \n",
    "        concept_emb_dict = dict()\n",
    "        for a_concept, seed_instances in self.seeds_dict.items():\n",
    "            embs = []\n",
    "            for inst in seed_instances:\n",
    "                try:\n",
    "                    embs.append(self.entity_emb_dict[inst])\n",
    "                except KeyError:\n",
    "                    print(f\"{inst} not found in entity_emb_dict??\")\n",
    "                    continue\n",
    "            if len(embs) == 0:\n",
    "                continue\n",
    "            concept_emb = np.mean(embs, axis=0)\n",
    "            concept_emb_dict[a_concept] = concept_emb\n",
    "\n",
    "        concepts = list(concept_emb_dict.keys())\n",
    "        concept_embs = list(concept_emb_dict.values())\n",
    "\n",
    "        # (n_concepts, n_entities)\n",
    "        cos_matrix = cosine_similarity(concept_embs, embeddings)\n",
    "\n",
    "        cands_for_concepts = [[] for _ in range(len(concepts))]\n",
    "        for e_id, e in enumerate(entities):\n",
    "            _scores = cos_matrix[:, e_id]\n",
    "            _max_cc_id = np.argmax(_scores)\n",
    "            _score = _scores[_max_cc_id]\n",
    "            \n",
    "            if e in self.seeds_dict[concepts[_max_cc_id]]:\n",
    "                continue\n",
    "            \n",
    "            cands_for_concepts[_max_cc_id].append({\n",
    "                'concept': concepts[_max_cc_id],\n",
    "                'neighbor': e,\n",
    "                'sim': _score\n",
    "            })\n",
    "\n",
    "        for cc_id, cands in enumerate(cands_for_concepts):\n",
    "            cands_sorted = sorted(cands, key=lambda d: d['sim'], reverse=True)\n",
    "            neighbors.extend(cands_sorted)\n",
    "            \n",
    "            _cc = concepts[cc_id]\n",
    "            _orig_seeds = self.seeds_dict[_cc]\n",
    "            # _ranked_cands = [d['neighbor'] for d in cands_sorted if d['neighbor'] not in _orig_seeds]\n",
    "            _ranked_cands = [d['neighbor'] for d in cands_sorted]\n",
    "            _add_seeds = _ranked_cands[:self.step_K]\n",
    "            _new_seeds = list(set(_orig_seeds + _add_seeds))\n",
    "            self.seeds_dict[_cc] = _new_seeds\n",
    "    \n",
    "        _rankings_dest = os.path.join(self.out_dir, f'rankings-step={step_id}.csv')\n",
    "        c_df = pd.DataFrame(neighbors)\n",
    "        c_df.to_csv(_rankings_dest, index=None)\n",
    "        \n",
    "        _EE_dest = os.path.join(self.out_dir, f'expanded-step={step_id}.csv')\n",
    "        e_list = []\n",
    "        for _cc, _e_list in self.seeds_dict.items():\n",
    "            for _e in _e_list:\n",
    "                e_list.append((_cc, _e))\n",
    "        e_df = pd.DataFrame(e_list, columns=['concept', 'neighbor'])\n",
    "        e_df.to_csv(_EE_dest, index=None)\n",
    "    \n",
    "    "
   ]
  },
  {
   "cell_type": "code",
   "execution_count": 86,
   "metadata": {},
   "outputs": [],
   "source": [
    "bert_emb_path = os.path.join(base_dir, f'data/{data_ac}/intermediate/BERTembed+seeds.txt')\n",
    "bert_emb_dim = 768\n",
    "benchmark_dir = os.path.join(base_dir, f'data/indeed-benchmark')\n"
   ]
  },
  {
   "cell_type": "code",
   "execution_count": 87,
   "metadata": {},
   "outputs": [
    {
     "data": {
      "text/plain": [
       "8064"
      ]
     },
     "execution_count": 87,
     "metadata": {},
     "output_type": "execute_result"
    }
   ],
   "source": [
    "_entity_embeddings = load_embeddings(bert_emb_path, bert_emb_dim)\n",
    "entity_emb_dict = dict(zip(_entity_embeddings['entity'].tolist(),\n",
    "                           _entity_embeddings['embedding'].tolist()))\n",
    "len(entity_emb_dict)"
   ]
  },
  {
   "cell_type": "code",
   "execution_count": 94,
   "metadata": {},
   "outputs": [],
   "source": [
    "emb_contr_out_dir = os.path.join(base_dir, f'data/{data_ac}/intermediate/EE_emb_contr-K=3')\n",
    "os.makedirs(emb_contr_out_dir, exist_ok=True)"
   ]
  },
  {
   "cell_type": "code",
   "execution_count": 34,
   "metadata": {},
   "outputs": [],
   "source": [
    "emb_contr_expander = IterativeEE_Emb_Contrastive(\n",
    "    step_K=3,\n",
    "    total_steps=20,\n",
    "    out_dir=emb_contr_out_dir,\n",
    "    bert_emb_path=bert_emb_path,\n",
    "    bert_emb_dim=bert_emb_dim,\n",
    "    benchmark_dir=benchmark_dir\n",
    ")"
   ]
  },
  {
   "cell_type": "code",
   "execution_count": 35,
   "metadata": {
    "scrolled": true
   },
   "outputs": [
    {
     "data": {
      "application/vnd.jupyter.widget-view+json": {
       "model_id": "d4065e4398924edfa1bdffedec4c8f02",
       "version_major": 2,
       "version_minor": 0
      },
      "text/plain": [
       "HBox(children=(FloatProgress(value=0.0, max=20.0), HTML(value='')))"
      ]
     },
     "metadata": {},
     "output_type": "display_data"
    },
    {
     "name": "stdout",
     "output_type": "stream",
     "text": [
      "\n"
     ]
    }
   ],
   "source": [
    "emb_contr_expander.expand()"
   ]
  },
  {
   "cell_type": "code",
   "execution_count": 95,
   "metadata": {},
   "outputs": [],
   "source": [
    "emb_out_dir = os.path.join(base_dir, f'data/{data_ac}/intermediate/EE_emb-K=3')\n",
    "os.makedirs(emb_out_dir, exist_ok=True)"
   ]
  },
  {
   "cell_type": "code",
   "execution_count": 98,
   "metadata": {},
   "outputs": [],
   "source": [
    "emb_expander = IterativeEE_Emb(\n",
    "    step_K=3,\n",
    "    total_steps=20,\n",
    "    out_dir=emb_out_dir,\n",
    "    bert_emb_path=bert_emb_path,\n",
    "    bert_emb_dim=bert_emb_dim,\n",
    "    benchmark_dir=benchmark_dir,\n",
    "    entity_emb_dict=entity_emb_dict\n",
    ")"
   ]
  },
  {
   "cell_type": "code",
   "execution_count": 99,
   "metadata": {},
   "outputs": [
    {
     "data": {
      "application/vnd.jupyter.widget-view+json": {
       "model_id": "ff61dac13ee247e89292fa4dbcb73bb5",
       "version_major": 2,
       "version_minor": 0
      },
      "text/plain": [
       "HBox(children=(FloatProgress(value=0.0, max=20.0), HTML(value='')))"
      ]
     },
     "metadata": {},
     "output_type": "display_data"
    },
    {
     "name": "stdout",
     "output_type": "stream",
     "text": [
      "\n"
     ]
    }
   ],
   "source": [
    "emb_expander.expand()"
   ]
  },
  {
   "cell_type": "code",
   "execution_count": null,
   "metadata": {},
   "outputs": [],
   "source": []
  },
  {
   "cell_type": "markdown",
   "metadata": {},
   "source": [
    "## Checking recall"
   ]
  },
  {
   "cell_type": "code",
   "execution_count": 205,
   "metadata": {},
   "outputs": [
    {
     "data": {
      "text/plain": [
       "(112515, 3)"
      ]
     },
     "execution_count": 205,
     "metadata": {},
     "output_type": "execute_result"
    }
   ],
   "source": [
    "ee_path = os.path.join(base_dir, f'data/{data_ac}/intermediate/ee_LM_bert_k=None.csv')\n",
    "ee_df = pd.read_csv(ee_path)\n",
    "ee_df.shape"
   ]
  },
  {
   "cell_type": "code",
   "execution_count": 206,
   "metadata": {},
   "outputs": [
    {
     "data": {
      "text/plain": [
       "8036"
      ]
     },
     "execution_count": 206,
     "metadata": {},
     "output_type": "execute_result"
    }
   ],
   "source": [
    "_cc = 'benefits'\n",
    "_cc_df = ee_df[ee_df['concept'] == _cc]\n",
    "_cc_cands = _cc_df['neighbor'].tolist()\n",
    "len(_cc_cands)"
   ]
  },
  {
   "cell_type": "code",
   "execution_count": null,
   "metadata": {
    "scrolled": true
   },
   "outputs": [],
   "source": [
    "# Some correct: higher pay, pay increase, aids, small raise, etc,\n",
    "\n",
    "_cc_cands[1000:1100]"
   ]
  },
  {
   "cell_type": "code",
   "execution_count": null,
   "metadata": {
    "scrolled": true
   },
   "outputs": [],
   "source": [
    "# Some correct: stipend\n",
    "\n",
    "_cc_cands[3000:3100]"
   ]
  },
  {
   "cell_type": "code",
   "execution_count": 211,
   "metadata": {},
   "outputs": [
    {
     "data": {
      "text/plain": [
       "8037"
      ]
     },
     "execution_count": 211,
     "metadata": {},
     "output_type": "execute_result"
    }
   ],
   "source": [
    "_cc = 'company'\n",
    "_cc_df = ee_df[ee_df['concept'] == _cc]\n",
    "_cc_cands = _cc_df['neighbor'].tolist()\n",
    "len(_cc_cands)"
   ]
  },
  {
   "cell_type": "code",
   "execution_count": null,
   "metadata": {
    "scrolled": true
   },
   "outputs": [],
   "source": [
    "# Some correct: panda express, little rock?, fedex express, blizzard?, macy's, etc.\n",
    "\n",
    "_cc_cands[1000:1100]"
   ]
  },
  {
   "cell_type": "code",
   "execution_count": null,
   "metadata": {
    "scrolled": true
   },
   "outputs": [],
   "source": [
    "# Some correct: disneyland? (many unsure...)\n",
    "\n",
    "_cc_cands[3000:3100]"
   ]
  },
  {
   "cell_type": "code",
   "execution_count": 226,
   "metadata": {},
   "outputs": [
    {
     "data": {
      "text/plain": [
       "(111941, 3)"
      ]
     },
     "execution_count": 226,
     "metadata": {},
     "output_type": "execute_result"
    }
   ],
   "source": [
    "ee_path = os.path.join(base_dir, f'data/{data_ac}/intermediate/ee_concept_knn_k=None.csv')\n",
    "ee_df = pd.read_csv(ee_path)\n",
    "ee_df.shape"
   ]
  },
  {
   "cell_type": "code",
   "execution_count": 227,
   "metadata": {},
   "outputs": [
    {
     "data": {
      "text/plain": [
       "7995"
      ]
     },
     "execution_count": 227,
     "metadata": {},
     "output_type": "execute_result"
    }
   ],
   "source": [
    "_cc = 'benefits'\n",
    "_cc_df = ee_df[ee_df['concept'] == _cc]\n",
    "_cc_cands = _cc_df['neighbor'].tolist()\n",
    "len(_cc_cands)"
   ]
  },
  {
   "cell_type": "code",
   "execution_count": null,
   "metadata": {
    "scrolled": true
   },
   "outputs": [],
   "source": [
    "# Some correct: not found \n",
    "\n",
    "_cc_cands[1000:1100]"
   ]
  },
  {
   "cell_type": "code",
   "execution_count": null,
   "metadata": {
    "scrolled": true
   },
   "outputs": [],
   "source": [
    "# Some correct: not found \n",
    "\n",
    "_cc_cands[3000:3100]"
   ]
  },
  {
   "cell_type": "code",
   "execution_count": 230,
   "metadata": {},
   "outputs": [
    {
     "data": {
      "text/plain": [
       "7996"
      ]
     },
     "execution_count": 230,
     "metadata": {},
     "output_type": "execute_result"
    }
   ],
   "source": [
    "_cc = 'company'\n",
    "_cc_df = ee_df[ee_df['concept'] == _cc]\n",
    "_cc_cands = _cc_df['neighbor'].tolist()\n",
    "len(_cc_cands)"
   ]
  },
  {
   "cell_type": "code",
   "execution_count": null,
   "metadata": {
    "scrolled": true
   },
   "outputs": [],
   "source": [
    "# Some correct: not found \n",
    "\n",
    "_cc_cands[1000:1100]"
   ]
  },
  {
   "cell_type": "code",
   "execution_count": null,
   "metadata": {
    "scrolled": true
   },
   "outputs": [],
   "source": [
    "# Some correct: not found \n",
    "\n",
    "_cc_cands[3000:3100]"
   ]
  },
  {
   "cell_type": "code",
   "execution_count": 257,
   "metadata": {},
   "outputs": [
    {
     "data": {
      "text/plain": [
       "(8064, 7)"
      ]
     },
     "execution_count": 257,
     "metadata": {},
     "output_type": "execute_result"
    }
   ],
   "source": [
    "ee_path = os.path.join(base_dir, f'data/{data_ac}/intermediate/ee_concept_contr_knn_k=None.csv')\n",
    "ee_df = pd.read_csv(ee_path)\n",
    "ee_df.shape"
   ]
  },
  {
   "cell_type": "code",
   "execution_count": 265,
   "metadata": {},
   "outputs": [
    {
     "data": {
      "text/plain": [
       "7580"
      ]
     },
     "execution_count": 265,
     "metadata": {},
     "output_type": "execute_result"
    }
   ],
   "source": [
    "_cc = 'dress_code'\n",
    "_cc_df = ee_df[(ee_df['concept'] != _cc) & (ee_df['2nd_concept'] != _cc)]\n",
    "_cc_cands = _cc_df['neighbor'].tolist()\n",
    "len(_cc_cands)"
   ]
  },
  {
   "cell_type": "code",
   "execution_count": null,
   "metadata": {
    "scrolled": true
   },
   "outputs": [],
   "source": [
    "# correct: not found \n",
    "random.sample(_cc_cands, k=100)"
   ]
  },
  {
   "cell_type": "code",
   "execution_count": null,
   "metadata": {},
   "outputs": [],
   "source": []
  },
  {
   "cell_type": "markdown",
   "metadata": {},
   "source": [
    "## Different methods overlapping"
   ]
  },
  {
   "cell_type": "code",
   "execution_count": null,
   "metadata": {},
   "outputs": [],
   "source": [
    "ee_emb_path = os.path.join(base_dir, f'data/{data_ac}/intermediate/ee_concept_knn_k=None.csv')\n",
    "ee_contr_emb_path = os.path.join(base_dir, f'data/{data_ac}/intermediate/ee_concept_contr_knn_k=None.csv')\n",
    "ee_emb_aux_path = os.path.join(base_dir, f'data/{data_ac}/intermediate/ee_concept_acontr_knn-aux-k=None.csv')\n",
    "ee_LM_path = os.path.join(base_dir, f'data/{data_ac}/intermediate/ee_LM_bert_k=None.csv')\n",
    "ee_LM_contr_path = os.path.join(base_dir, f'data/{data_ac}/intermediate/ee_LM_bert_contr_k=None.csv')\n",
    "ee_LM_aux_path = os.path.join(base_dir, f'data/{data_ac}/intermediate/ee_LM_bert_acontr-aux-k=None.csv')\n",
    "\n",
    "ee_labels_path = os.path.join(base_dir, f'data/indeed-benchmark/ee-labels-2.csv')"
   ]
  },
  {
   "cell_type": "code",
   "execution_count": 114,
   "metadata": {},
   "outputs": [],
   "source": [
    "ee_contr_emb_path = os.path.join(base_dir, f'data/{data_ac}/intermediate/ee_concept_contr_knn_roberta_k=None.csv')\n",
    "ee_LM_path = os.path.join(base_dir, f'data/{data_ac}/intermediate/ee_LM_roberta_k=None.csv')\n",
    "\n",
    "ee_labels_path = os.path.join(base_dir, f'data/indeed-benchmark/ee-labels-2.csv')"
   ]
  },
  {
   "cell_type": "code",
   "execution_count": 115,
   "metadata": {},
   "outputs": [],
   "source": [
    "ee_labels_dict = load_EE_labels(ee_labels_path)\n",
    "concept_list = sorted(list(ee_labels_dict.keys()))"
   ]
  },
  {
   "cell_type": "code",
   "execution_count": 116,
   "metadata": {},
   "outputs": [
    {
     "name": "stdout",
     "output_type": "stream",
     "text": [
      "shifts 89\n",
      "dress_code 268\n",
      "schedule 69\n",
      "pay_schedule 37\n",
      "onboarding_steps 30\n",
      "employee_type 30\n",
      "job_position 152\n",
      "background_screening 104\n",
      "benefits 116\n",
      "compensation 47\n",
      "company 155\n",
      "payment_option 30\n",
      "person 67\n",
      "hire_prerequisite 137\n"
     ]
    }
   ],
   "source": [
    "for _cc, _e_list in ee_labels_dict.items():\n",
    "    print(_cc, len(_e_list))"
   ]
  },
  {
   "cell_type": "code",
   "execution_count": 118,
   "metadata": {},
   "outputs": [
    {
     "data": {
      "text/plain": [
       "(['leggings', 'facial piercings', 'black jeans', 'clothing', 'jeans'],\n",
       " ['clothing', 'jews', 'ear rings', 'face tattoos', 'jewellery'])"
      ]
     },
     "execution_count": 118,
     "metadata": {},
     "output_type": "execute_result"
    }
   ],
   "source": [
    "_concept = 'dress_code'\n",
    "ee_contr_emb_df = pd.read_csv(ee_contr_emb_path)\n",
    "# ee_LM_df = pd.read_csv(ee_LM_path)\n",
    "ee_LM_df = pd.read_csv(ee_LM_path)\n",
    "\n",
    "ee_contr_emb_list = ee_contr_emb_df[ee_contr_emb_df['concept'] == _concept]['neighbor'].tolist()\n",
    "ee_LM_list = ee_LM_df[ee_LM_df['concept'] == _concept]['neighbor'].tolist()\n",
    "ee_contr_emb_list[:5], ee_LM_list[:5]"
   ]
  },
  {
   "cell_type": "code",
   "execution_count": 119,
   "metadata": {},
   "outputs": [
    {
     "name": "stdout",
     "output_type": "stream",
     "text": [
      "K = 5    Emb = 5(5)    LM = 5(4)    Intersect = 1(1)    Union = 9(8)\n",
      "K = 10   Emb = 10(10)    LM = 10(7)    Intersect = 2(2)    Union = 18(15)\n",
      "K = 20   Emb = 20(20)    LM = 20(14)    Intersect = 4(4)    Union = 36(30)\n",
      "K = 50   Emb = 50(47)    LM = 50(33)    Intersect = 7(7)    Union = 93(73)\n",
      "K = 100  Emb = 100(83)    LM = 100(72)    Intersect = 26(25)    Union = 174(130)\n",
      "K = 300  Emb = 241(183)    LM = 300(134)    Intersect = 99(95)    Union = 442(222)\n",
      "K = 1000 Emb = 241(183)    LM = 1000(194)    Intersect = 153(138)    Union = 1088(239)\n"
     ]
    }
   ],
   "source": [
    "for K in [5, 10, 20, 50, 100, 300, 1000]:\n",
    "    _s1 = set(ee_contr_emb_list[:K])\n",
    "    _s2 = set(ee_LM_list[:K])\n",
    "    \n",
    "    _s1_corr = [_e for _e in _s1 if _e in ee_labels_dict[_concept]]\n",
    "    _s2_corr = [_e for _e in _s2 if _e in ee_labels_dict[_concept]]\n",
    "\n",
    "    _ints = _s1 & _s2\n",
    "    _ints_corr = [_e for _e in _ints if _e in ee_labels_dict[_concept]]\n",
    "    \n",
    "    _union = _s1 | _s2\n",
    "    _union_corr = [_e for _e in _union if _e in ee_labels_dict[_concept]]\n",
    "    \n",
    "    print(f\"K = {K:<4d} Emb = {len(_s1)}({len(_s1_corr)})\\\n",
    "    LM = {len(_s2)}({len(_s2_corr)})\\\n",
    "    Intersect = {len(_ints)}({len(_ints_corr)})\\\n",
    "    Union = {len(_union)}({len(_union_corr)})\")"
   ]
  },
  {
   "cell_type": "code",
   "execution_count": 120,
   "metadata": {
    "scrolled": true
   },
   "outputs": [
    {
     "name": "stdout",
     "output_type": "stream",
     "text": [
      "Concept: background_screening(104)\n",
      "K = 5    Emb = 5(4)    LM = 5(3)    Intersect = 0(0)    Union = 10(7)\n",
      "K = 10   Emb = 10(6)    LM = 10(7)    Intersect = 0(0)    Union = 20(13)\n",
      "K = 20   Emb = 20(9)    LM = 20(16)    Intersect = 3(3)    Union = 37(22)\n",
      "K = 50   Emb = 50(17)    LM = 50(29)    Intersect = 6(5)    Union = 94(41)\n",
      "K = 100  Emb = 100(22)    LM = 100(52)    Intersect = 15(12)    Union = 185(62)\n",
      "K = 300  Emb = 300(30)    LM = 300(76)    Intersect = 47(18)    Union = 553(88)\n",
      "K = 1000 Emb = 1000(42)    LM = 1000(94)    Intersect = 204(37)    Union = 1796(99)\n",
      "\n",
      "Concept: benefits(116)\n",
      "K = 5    Emb = 5(5)    LM = 5(5)    Intersect = 1(1)    Union = 9(9)\n",
      "K = 10   Emb = 10(10)    LM = 10(10)    Intersect = 3(3)    Union = 17(17)\n",
      "K = 20   Emb = 20(16)    LM = 20(18)    Intersect = 7(7)    Union = 33(27)\n",
      "K = 50   Emb = 50(22)    LM = 50(41)    Intersect = 14(13)    Union = 86(50)\n",
      "K = 100  Emb = 100(27)    LM = 100(58)    Intersect = 19(16)    Union = 181(69)\n",
      "K = 300  Emb = 159(32)    LM = 300(77)    Intersect = 35(25)    Union = 424(84)\n",
      "K = 1000 Emb = 159(32)    LM = 1000(94)    Intersect = 57(29)    Union = 1102(97)\n",
      "\n",
      "Concept: company(155)\n",
      "K = 5    Emb = 5(5)    LM = 5(3)    Intersect = 0(0)    Union = 10(8)\n",
      "K = 10   Emb = 10(10)    LM = 10(3)    Intersect = 0(0)    Union = 20(13)\n",
      "K = 20   Emb = 20(20)    LM = 20(4)    Intersect = 1(1)    Union = 39(23)\n",
      "K = 50   Emb = 50(35)    LM = 50(11)    Intersect = 3(3)    Union = 97(43)\n",
      "K = 100  Emb = 100(51)    LM = 100(17)    Intersect = 6(6)    Union = 194(62)\n",
      "K = 300  Emb = 300(62)    LM = 300(32)    Intersect = 22(11)    Union = 578(83)\n",
      "K = 1000 Emb = 1000(78)    LM = 1000(70)    Intersect = 155(39)    Union = 1845(109)\n",
      "\n",
      "Concept: compensation(47)\n",
      "K = 5    Emb = 5(0)    LM = 5(3)    Intersect = 0(0)    Union = 10(3)\n",
      "K = 10   Emb = 10(2)    LM = 10(6)    Intersect = 1(1)    Union = 19(7)\n",
      "K = 20   Emb = 20(3)    LM = 20(9)    Intersect = 3(1)    Union = 37(11)\n",
      "K = 50   Emb = 40(5)    LM = 50(19)    Intersect = 6(2)    Union = 84(22)\n",
      "K = 100  Emb = 40(5)    LM = 100(30)    Intersect = 9(3)    Union = 131(32)\n",
      "K = 300  Emb = 40(5)    LM = 300(38)    Intersect = 13(3)    Union = 327(40)\n",
      "K = 1000 Emb = 40(5)    LM = 1000(43)    Intersect = 21(5)    Union = 1019(43)\n",
      "\n",
      "Concept: dress_code(268)\n",
      "K = 5    Emb = 5(5)    LM = 5(4)    Intersect = 1(1)    Union = 9(8)\n",
      "K = 10   Emb = 10(10)    LM = 10(7)    Intersect = 2(2)    Union = 18(15)\n",
      "K = 20   Emb = 20(20)    LM = 20(14)    Intersect = 4(4)    Union = 36(30)\n",
      "K = 50   Emb = 50(47)    LM = 50(33)    Intersect = 7(7)    Union = 93(73)\n",
      "K = 100  Emb = 100(83)    LM = 100(72)    Intersect = 26(25)    Union = 174(130)\n",
      "K = 300  Emb = 241(183)    LM = 300(134)    Intersect = 99(95)    Union = 442(222)\n",
      "K = 1000 Emb = 241(183)    LM = 1000(194)    Intersect = 153(138)    Union = 1088(239)\n",
      "\n",
      "Concept: employee_type(30)\n",
      "K = 5    Emb = 5(1)    LM = 5(2)    Intersect = 0(0)    Union = 10(3)\n",
      "K = 10   Emb = 10(1)    LM = 10(4)    Intersect = 1(1)    Union = 19(4)\n",
      "K = 20   Emb = 20(3)    LM = 20(6)    Intersect = 4(3)    Union = 36(6)\n",
      "K = 50   Emb = 50(4)    LM = 50(10)    Intersect = 8(3)    Union = 92(11)\n",
      "K = 100  Emb = 72(4)    LM = 100(13)    Intersect = 12(3)    Union = 160(14)\n",
      "K = 300  Emb = 72(4)    LM = 300(22)    Intersect = 20(4)    Union = 352(22)\n",
      "K = 1000 Emb = 72(4)    LM = 1000(25)    Intersect = 27(4)    Union = 1045(25)\n",
      "\n",
      "Concept: hire_prerequisite(137)\n",
      "K = 5    Emb = 5(4)    LM = 5(2)    Intersect = 0(0)    Union = 10(6)\n",
      "K = 10   Emb = 10(7)    LM = 10(6)    Intersect = 1(1)    Union = 19(12)\n",
      "K = 20   Emb = 20(10)    LM = 20(13)    Intersect = 1(1)    Union = 39(22)\n",
      "K = 50   Emb = 50(13)    LM = 50(28)    Intersect = 5(4)    Union = 95(37)\n",
      "K = 100  Emb = 100(19)    LM = 100(51)    Intersect = 14(6)    Union = 186(64)\n",
      "K = 300  Emb = 208(36)    LM = 300(79)    Intersect = 33(16)    Union = 475(99)\n",
      "K = 1000 Emb = 208(36)    LM = 1000(112)    Intersect = 78(25)    Union = 1130(123)\n",
      "\n",
      "Concept: job_position(152)\n",
      "K = 5    Emb = 5(4)    LM = 5(4)    Intersect = 1(1)    Union = 9(7)\n",
      "K = 10   Emb = 10(6)    LM = 10(8)    Intersect = 1(1)    Union = 19(13)\n",
      "K = 20   Emb = 20(9)    LM = 20(16)    Intersect = 2(2)    Union = 38(23)\n",
      "K = 50   Emb = 50(21)    LM = 50(42)    Intersect = 6(6)    Union = 94(57)\n",
      "K = 100  Emb = 100(26)    LM = 100(66)    Intersect = 13(9)    Union = 187(83)\n",
      "K = 300  Emb = 300(44)    LM = 300(105)    Intersect = 44(29)    Union = 556(120)\n",
      "K = 1000 Emb = 633(60)    LM = 1000(125)    Intersect = 132(48)    Union = 1501(137)\n",
      "\n",
      "Concept: onboarding_steps(30)\n",
      "K = 5    Emb = 5(1)    LM = 5(1)    Intersect = 0(0)    Union = 10(2)\n",
      "K = 10   Emb = 10(1)    LM = 10(2)    Intersect = 0(0)    Union = 20(3)\n",
      "K = 20   Emb = 20(2)    LM = 20(4)    Intersect = 0(0)    Union = 40(6)\n",
      "K = 50   Emb = 50(2)    LM = 50(8)    Intersect = 0(0)    Union = 100(10)\n",
      "K = 100  Emb = 100(4)    LM = 100(13)    Intersect = 2(1)    Union = 198(16)\n",
      "K = 300  Emb = 300(8)    LM = 300(23)    Intersect = 21(6)    Union = 579(25)\n",
      "K = 1000 Emb = 1000(10)    LM = 1000(27)    Intersect = 114(10)    Union = 1886(27)\n",
      "\n",
      "Concept: pay_schedule(37)\n",
      "K = 5    Emb = 5(1)    LM = 5(5)    Intersect = 1(1)    Union = 9(5)\n",
      "K = 10   Emb = 10(2)    LM = 10(10)    Intersect = 1(1)    Union = 19(11)\n",
      "K = 20   Emb = 13(2)    LM = 20(15)    Intersect = 1(1)    Union = 32(16)\n",
      "K = 50   Emb = 13(2)    LM = 50(18)    Intersect = 3(2)    Union = 60(18)\n",
      "K = 100  Emb = 13(2)    LM = 100(20)    Intersect = 3(2)    Union = 110(20)\n",
      "K = 300  Emb = 13(2)    LM = 300(23)    Intersect = 3(2)    Union = 310(23)\n",
      "K = 1000 Emb = 13(2)    LM = 1000(27)    Intersect = 6(2)    Union = 1007(27)\n",
      "\n",
      "Concept: payment_option(30)\n",
      "K = 5    Emb = 5(3)    LM = 5(1)    Intersect = 0(0)    Union = 10(4)\n",
      "K = 10   Emb = 10(5)    LM = 10(2)    Intersect = 1(1)    Union = 19(6)\n",
      "K = 20   Emb = 20(7)    LM = 20(8)    Intersect = 3(3)    Union = 37(12)\n",
      "K = 50   Emb = 50(9)    LM = 50(17)    Intersect = 7(5)    Union = 93(21)\n",
      "K = 100  Emb = 80(10)    LM = 100(22)    Intersect = 11(8)    Union = 169(24)\n",
      "K = 300  Emb = 80(10)    LM = 300(24)    Intersect = 16(8)    Union = 364(26)\n",
      "K = 1000 Emb = 80(10)    LM = 1000(25)    Intersect = 31(8)    Union = 1049(27)\n",
      "\n",
      "Concept: person(67)\n",
      "K = 5    Emb = 5(1)    LM = 5(5)    Intersect = 0(0)    Union = 10(6)\n",
      "K = 10   Emb = 10(3)    LM = 10(9)    Intersect = 0(0)    Union = 20(12)\n",
      "K = 20   Emb = 20(4)    LM = 20(14)    Intersect = 0(0)    Union = 40(18)\n",
      "K = 50   Emb = 50(10)    LM = 50(20)    Intersect = 7(4)    Union = 93(26)\n",
      "K = 100  Emb = 100(14)    LM = 100(24)    Intersect = 11(6)    Union = 189(32)\n",
      "K = 300  Emb = 101(14)    LM = 300(34)    Intersect = 15(7)    Union = 386(41)\n",
      "K = 1000 Emb = 101(14)    LM = 1000(42)    Intersect = 28(9)    Union = 1073(47)\n",
      "\n",
      "Concept: schedule(69)\n",
      "K = 5    Emb = 5(3)    LM = 5(5)    Intersect = 1(1)    Union = 9(7)\n",
      "K = 10   Emb = 10(3)    LM = 10(10)    Intersect = 2(2)    Union = 18(11)\n",
      "K = 20   Emb = 20(6)    LM = 20(18)    Intersect = 3(3)    Union = 37(21)\n",
      "K = 50   Emb = 50(14)    LM = 50(23)    Intersect = 8(8)    Union = 92(29)\n",
      "K = 100  Emb = 75(19)    LM = 100(26)    Intersect = 13(11)    Union = 162(34)\n",
      "K = 300  Emb = 75(19)    LM = 300(39)    Intersect = 18(13)    Union = 357(45)\n",
      "K = 1000 Emb = 75(19)    LM = 1000(52)    Intersect = 38(18)    Union = 1037(53)\n",
      "\n",
      "Concept: shifts(89)\n",
      "K = 5    Emb = 5(5)    LM = 5(5)    Intersect = 0(0)    Union = 10(10)\n",
      "K = 10   Emb = 10(6)    LM = 10(10)    Intersect = 0(0)    Union = 20(16)\n",
      "K = 20   Emb = 20(8)    LM = 20(20)    Intersect = 1(1)    Union = 39(27)\n",
      "K = 50   Emb = 50(9)    LM = 50(43)    Intersect = 5(4)    Union = 95(48)\n",
      "K = 100  Emb = 100(12)    LM = 100(60)    Intersect = 11(8)    Union = 189(64)\n",
      "K = 300  Emb = 300(18)    LM = 300(64)    Intersect = 22(14)    Union = 578(68)\n",
      "K = 1000 Emb = 499(30)    LM = 1000(72)    Intersect = 80(27)    Union = 1419(75)\n",
      "\n"
     ]
    }
   ],
   "source": [
    "for _cc in sorted(concept_list):\n",
    "    print(f'Concept: {_cc}({len(ee_labels_dict[_cc])})')\n",
    "    _ee_contr_emb_list = ee_contr_emb_df[ee_contr_emb_df['concept'] == _cc]['neighbor'].tolist()\n",
    "    _ee_LM_list = ee_LM_df[ee_LM_df['concept'] == _cc]['neighbor'].tolist()\n",
    "    \n",
    "    for K in [5, 10, 20, 50, 100, 300, 1000]:\n",
    "        _s1 = set(_ee_contr_emb_list[:K])\n",
    "        _s2 = set(_ee_LM_list[:K])\n",
    "\n",
    "        _s1_corr = [_e for _e in _s1 if _e in ee_labels_dict[_cc]]\n",
    "        _s2_corr = [_e for _e in _s2 if _e in ee_labels_dict[_cc]]\n",
    "\n",
    "        _ints = _s1 & _s2\n",
    "        _ints_corr = [_e for _e in _ints if _e in ee_labels_dict[_cc]]\n",
    "\n",
    "        _union = _s1 | _s2\n",
    "        _union_corr = [_e for _e in _union if _e in ee_labels_dict[_cc]]\n",
    "\n",
    "        print(f\"K = {K:<4d} Emb = {len(_s1)}({len(_s1_corr)})    \" + \\\n",
    "            f\"LM = {len(_s2)}({len(_s2_corr)})    \" + \\\n",
    "            f\"Intersect = {len(_ints)}({len(_ints_corr)})    \" + \\\n",
    "            f\"Union = {len(_union)}({len(_union_corr)})\")\n",
    "    print()"
   ]
  },
  {
   "cell_type": "code",
   "execution_count": 121,
   "metadata": {},
   "outputs": [
    {
     "data": {
      "text/plain": [
       "111095"
      ]
     },
     "execution_count": 121,
     "metadata": {},
     "output_type": "execute_result"
    }
   ],
   "source": [
    "## Using MRR to combine ranking \n",
    "\n",
    "ee_mrr_combine_list = []\n",
    "\n",
    "for _cc in sorted(concept_list):\n",
    "#     print(f'Concept: {_cc}({len(ee_labels_dict[_cc])})')\n",
    "    _ce_df = ee_contr_emb_df[ee_contr_emb_df['concept'] == _cc].sort_values(by='sim+margin', ascending=False)\n",
    "    _ee_contr_emb_list = _ce_df['neighbor'].tolist()\n",
    "    \n",
    "    _ee_LM_list = ee_LM_df[ee_LM_df['concept'] == _cc]['neighbor'].tolist()\n",
    "    \n",
    "#     _all_entities = set(_ee_contr_emb_list) & set(_ee_LM_list)\n",
    "    \n",
    "    _all_entities_mrr = defaultdict(float)\n",
    "    for i, _e in enumerate(_ee_contr_emb_list):\n",
    "        _all_entities_mrr[_e] += 1.0 / (i+1)\n",
    "    for i, _e in enumerate(_ee_LM_list):\n",
    "        _all_entities_mrr[_e] += 1.0 / (i+1)\n",
    "\n",
    "    _all_entities_mrr_list = sorted(list(_all_entities_mrr.items()), key=lambda p: p[-1], reverse=True)\n",
    "    \n",
    "    for _e, _mrr in _all_entities_mrr_list:\n",
    "        ee_mrr_combine_list.append((_cc, _e, _mrr))\n",
    "\n",
    "len(ee_mrr_combine_list)"
   ]
  },
  {
   "cell_type": "code",
   "execution_count": 122,
   "metadata": {},
   "outputs": [],
   "source": [
    "ee_mrr_combine_path = os.path.join(base_dir, f'data/{data_ac}/intermediate/ee_mrr_combine_roberta_k=None.csv')\n",
    "pd.DataFrame(ee_mrr_combine_list, columns=['concept', 'neighbor', 'MRR']).to_csv(ee_mrr_combine_path, index=None)"
   ]
  },
  {
   "cell_type": "code",
   "execution_count": null,
   "metadata": {},
   "outputs": [],
   "source": [
    "_ce_df.sort_values(by='sim+margin', ascending=False).head(20)"
   ]
  },
  {
   "cell_type": "code",
   "execution_count": null,
   "metadata": {},
   "outputs": [],
   "source": []
  },
  {
   "cell_type": "markdown",
   "metadata": {},
   "source": [
    "## Sub-clusters analysis"
   ]
  },
  {
   "cell_type": "code",
   "execution_count": 75,
   "metadata": {},
   "outputs": [],
   "source": [
    "ee_LM_path = os.path.join(base_dir, f'data/{data_ac}/intermediate/ee_LM_bert_k=None.csv')"
   ]
  },
  {
   "cell_type": "code",
   "execution_count": 14,
   "metadata": {},
   "outputs": [
    {
     "data": {
      "text/plain": [
       "8064"
      ]
     },
     "execution_count": 14,
     "metadata": {},
     "output_type": "execute_result"
    }
   ],
   "source": [
    "bert_emb_path = os.path.join(base_dir, f'data/{data_ac}/intermediate/BERTembed+seeds.txt')\n",
    "\n",
    "_entity_embeddings = load_embeddings(bert_emb_path, 768)\n",
    "_entity_emb_dict = dict(zip(_entity_embeddings['entity'].tolist(),\n",
    "                            _entity_embeddings['embedding'].tolist()))\n",
    "len(_entity_emb_dict)"
   ]
  },
  {
   "cell_type": "code",
   "execution_count": 76,
   "metadata": {},
   "outputs": [
    {
     "data": {
      "text/plain": [
       "8036"
      ]
     },
     "execution_count": 76,
     "metadata": {},
     "output_type": "execute_result"
    }
   ],
   "source": [
    "_concept = 'benefits'\n",
    "ee_LM_df = pd.read_csv(ee_LM_path)\n",
    "ee_LM_list = ee_LM_df[ee_LM_df['concept'] == _concept]['neighbor'].tolist()\n",
    "len(ee_LM_list)"
   ]
  },
  {
   "cell_type": "code",
   "execution_count": null,
   "metadata": {},
   "outputs": [],
   "source": [
    "K = 100\n",
    "_entities = ee_LM_list[:K]\n",
    "_feats_arr = [_entity_emb_dict[_e] for _e in _entities]"
   ]
  },
  {
   "cell_type": "code",
   "execution_count": 33,
   "metadata": {},
   "outputs": [],
   "source": [
    "C = 20\n",
    "A_cls = AgglomerativeClustering(n_clusters=C, affinity='euclidean')\n",
    "_cls_res = A_cls.fit_predict(_feats_arr)"
   ]
  },
  {
   "cell_type": "code",
   "execution_count": 34,
   "metadata": {
    "scrolled": true
   },
   "outputs": [
    {
     "name": "stdout",
     "output_type": "stream",
     "text": [
      "CLUSTER 0:\n",
      "property insurance | home care | medical billing\n",
      "CLUSTER 1:\n",
      "disability insurance | health savings account | parental leave | dental / vision\n",
      "CLUSTER 2:\n",
      "dental insurance | medical insurance | dental vision | health dental | health | medical dental | health care insurance | life insurance | health care | medical | retirement age | dental and vision | legal age | medical / dental\n",
      "CLUSTER 3:\n",
      "unemployment benefits | vehicle insurance | unemployment compensation | child support | income tax | hearing impairment | electricity\n",
      "CLUSTER 4:\n",
      "dental assistant\n",
      "CLUSTER 5:\n",
      "health benefits | physical disability | tax credit | mortgage loan | student loan | medical emergency | business card | social services | divorce\n",
      "CLUSTER 6:\n",
      "medical history\n",
      "CLUSTER 7:\n",
      "cough\n",
      "CLUSTER 8:\n",
      "disability | pension | medicare | dental benefits | unemployment | insurance | education | car insurance | employment | hair | employee benefits | safety | benefits | medical card | mental health | life | food safety | child care | employee assistance program | diabetes | dentist | job security | social security card | college education | social security | maternity leave | family life | food | social life | personal life | cancer | longevity | paid vacations | tax | work / life balance | autism | alcohol | sleep | home mortgage | medical marijuana | social security number | mortgage | personal information | internship | medical marijuana card | continuing education | family | work life balance | credit card\n",
      "CLUSTER 9:\n",
      "car accident\n",
      "CLUSTER 10:\n",
      "medical prescription\n",
      "CLUSTER 11:\n",
      "dental surgery\n",
      "CLUSTER 12:\n",
      "health food\n",
      "CLUSTER 13:\n",
      "employment contract\n",
      "CLUSTER 14:\n",
      "hair care\n",
      "CLUSTER 15:\n",
      "employee benefit\n",
      "CLUSTER 16:\n",
      "tax exemption\n",
      "CLUSTER 17:\n",
      "public health\n",
      "CLUSTER 18:\n",
      "medical diagnosis\n",
      "CLUSTER 19:\n",
      "offer health insurance\n"
     ]
    }
   ],
   "source": [
    "for i in range(C):\n",
    "    print(f'CLUSTER {i}:')\n",
    "    print(' | '.join(_entities[j] for j in range(K) if _cls_res[j] == i))"
   ]
  },
  {
   "cell_type": "code",
   "execution_count": 35,
   "metadata": {},
   "outputs": [],
   "source": [
    "C = 20\n",
    "A_cls = AgglomerativeClustering(n_clusters=C, affinity='l2', linkage='complete')\n",
    "_cls_res = A_cls.fit_predict(_feats_arr)"
   ]
  },
  {
   "cell_type": "code",
   "execution_count": 36,
   "metadata": {
    "scrolled": true
   },
   "outputs": [
    {
     "name": "stdout",
     "output_type": "stream",
     "text": [
      "CLUSTER 0:\n",
      "unemployment benefits | vehicle insurance | unemployment compensation | mortgage loan | child support | social services | income tax | hearing impairment | electricity\n",
      "CLUSTER 1:\n",
      "health dental | medical dental | property insurance | medical billing\n",
      "CLUSTER 2:\n",
      "dental assistant\n",
      "CLUSTER 3:\n",
      "dental insurance | medical insurance | disability insurance | dental vision | health | life insurance | health care | medical | dental and vision | parental leave | continuing education | dental / vision | medical / dental\n",
      "CLUSTER 4:\n",
      "disability | pension | medicare | dental benefits | unemployment | health care insurance | health benefits | insurance | physical disability | education | car insurance | employment | hair | employee benefits | safety | benefits | medical card | mental health | life | food safety | child care | employee assistance program | diabetes | dentist | job security | tax credit | social security card | college education | social security | maternity leave | student loan | family life | food | medical emergency | retirement age | social life | personal life | cancer | longevity | paid vacations | business card | tax | work / life balance | autism | alcohol | sleep | home mortgage | medical marijuana | social security number | mortgage | personal information | divorce | internship | medical marijuana card | family | work life balance | credit card | legal age\n",
      "CLUSTER 5:\n",
      "medical history\n",
      "CLUSTER 6:\n",
      "cough\n",
      "CLUSTER 7:\n",
      "public health\n",
      "CLUSTER 8:\n",
      "employee benefit\n",
      "CLUSTER 9:\n",
      "tax exemption\n",
      "CLUSTER 10:\n",
      "health food\n",
      "CLUSTER 11:\n",
      "employment contract\n",
      "CLUSTER 12:\n",
      "dental surgery\n",
      "CLUSTER 13:\n",
      "health savings account\n",
      "CLUSTER 14:\n",
      "medical diagnosis\n",
      "CLUSTER 15:\n",
      "hair care\n",
      "CLUSTER 16:\n",
      "home care\n",
      "CLUSTER 17:\n",
      "offer health insurance\n",
      "CLUSTER 18:\n",
      "car accident\n",
      "CLUSTER 19:\n",
      "medical prescription\n"
     ]
    }
   ],
   "source": [
    "for i in range(C):\n",
    "    print(f'CLUSTER {i}:')\n",
    "    print(' | '.join(_entities[j] for j in range(K) if _cls_res[j] == i))"
   ]
  },
  {
   "cell_type": "code",
   "execution_count": 37,
   "metadata": {},
   "outputs": [],
   "source": [
    "C = 20\n",
    "A_cls = AgglomerativeClustering(n_clusters=C, affinity='cosine', linkage='complete')\n",
    "_cls_res = A_cls.fit_predict(_feats_arr)"
   ]
  },
  {
   "cell_type": "code",
   "execution_count": 38,
   "metadata": {
    "scrolled": true
   },
   "outputs": [
    {
     "name": "stdout",
     "output_type": "stream",
     "text": [
      "CLUSTER 0:\n",
      "offer health insurance | tax exemption\n",
      "CLUSTER 1:\n",
      "disability insurance | dental vision | health dental | property insurance | parental leave | dental / vision\n",
      "CLUSTER 2:\n",
      "dental assistant\n",
      "CLUSTER 3:\n",
      "unemployment benefits | vehicle insurance | unemployment compensation | mortgage loan | child support | income tax | hearing impairment | electricity\n",
      "CLUSTER 4:\n",
      "social services\n",
      "CLUSTER 5:\n",
      "health savings account\n",
      "CLUSTER 6:\n",
      "medical diagnosis\n",
      "CLUSTER 7:\n",
      "disability | pension | dental insurance | medicare | medical insurance | dental benefits | health | unemployment | medical dental | health care insurance | health benefits | insurance | physical disability | life insurance | education | car insurance | health care | employment | hair | employee benefits | medical | safety | benefits | medical card | mental health | life | food safety | child care | employee assistance program | diabetes | dentist | job security | tax credit | social security card | college education | social security | maternity leave | student loan | family life | food | medical emergency | retirement age | social life | dental and vision | personal life | cancer | longevity | paid vacations | business card | tax | work / life balance | autism | alcohol | sleep | home mortgage | medical marijuana | social security number | mortgage | personal information | divorce | internship | medical marijuana card | continuing education | family | work life balance | credit card | legal age | medical / dental\n",
      "CLUSTER 8:\n",
      "cough\n",
      "CLUSTER 9:\n",
      "car accident\n",
      "CLUSTER 10:\n",
      "hair care\n",
      "CLUSTER 11:\n",
      "employee benefit\n",
      "CLUSTER 12:\n",
      "employment contract\n",
      "CLUSTER 13:\n",
      "public health\n",
      "CLUSTER 14:\n",
      "health food\n",
      "CLUSTER 15:\n",
      "medical history\n",
      "CLUSTER 16:\n",
      "home care\n",
      "CLUSTER 17:\n",
      "medical prescription\n",
      "CLUSTER 18:\n",
      "medical billing\n",
      "CLUSTER 19:\n",
      "dental surgery\n"
     ]
    }
   ],
   "source": [
    "for i in range(C):\n",
    "    print(f'CLUSTER {i}:')\n",
    "    print(' | '.join(_entities[j] for j in range(K) if _cls_res[j] == i))"
   ]
  },
  {
   "cell_type": "code",
   "execution_count": 109,
   "metadata": {},
   "outputs": [
    {
     "data": {
      "text/plain": [
       "8009"
      ]
     },
     "execution_count": 109,
     "metadata": {},
     "output_type": "execute_result"
    }
   ],
   "source": [
    "bert_emb_path = os.path.join(base_dir, f'data/{data_pt}/intermediate/BERTembed+seeds.txt')\n",
    "\n",
    "_entity_embeddings = load_embeddings(bert_emb_path, 3072)\n",
    "_entity_emb_dict = dict(zip(_entity_embeddings['entity'].tolist(),\n",
    "                            _entity_embeddings['embedding'].tolist()))\n",
    "len(_entity_emb_dict)"
   ]
  },
  {
   "cell_type": "code",
   "execution_count": 131,
   "metadata": {},
   "outputs": [],
   "source": [
    "K = 100\n",
    "_entities = sorted(ee_LM_list[:K])\n",
    "_feats_arr = [_entity_emb_dict[_e] for _e in _entities if _e in _entity_emb_dict]"
   ]
  },
  {
   "cell_type": "code",
   "execution_count": 132,
   "metadata": {},
   "outputs": [],
   "source": [
    "C = 20\n",
    "A_cls = AgglomerativeClustering(n_clusters=C, affinity='euclidean')\n",
    "_cls_res = A_cls.fit_predict(_feats_arr)"
   ]
  },
  {
   "cell_type": "code",
   "execution_count": 133,
   "metadata": {
    "scrolled": true
   },
   "outputs": [
    {
     "name": "stdout",
     "output_type": "stream",
     "text": [
      "CLUSTER 0:\n",
      "blue collar | brown shoes | casual clothes | casual clothing | collar shirts | colorful hair | dress attire | food handlers | fragrances | jeans | jewellery | red hair | scrubs | tan or black pants | televisions\n",
      "CLUSTER 1:\n",
      "athletic shoes | black dress pants | black jeans | black polo shirt | brown or black | brown pants | clothing | collar shirt | color hair | colored hair | colored pants | cosmetics | dress clothes | dress pants | dress shirt | dress shirts | dress shoes | hand tattoos | jean pants | laptops | mascara | nose rings | purple hair | sports equipment | sweat pants | tattoo | visible piercings\n",
      "CLUSTER 2:\n",
      "black dress | black tie | body piercings | sunglasses | uniform shirts\n",
      "CLUSTER 3:\n",
      "dark pants | microphones\n",
      "CLUSTER 4:\n",
      "tan pants\n",
      "CLUSTER 5:\n",
      "cologne | colored shirt | dentists | gis | leggings | lip ring | name badge | nose piercing | nose ring | polo shirt | ponytail | red shirt | tan or black\n",
      "CLUSTER 6:\n",
      "black pants | dress slacks | sports bra\n",
      "CLUSTER 7:\n",
      "smartphones\n",
      "CLUSTER 8:\n",
      "blue scrubs | color shirt | colored shoes | dress uniform | dyes | ear piercings | etcs | face piercings | face tattoos | facial jewelry | facial piercing | hair | hair spray | longhorns | natural hair | nose piercings | trademarks | uniform shirt\n",
      "CLUSTER 9:\n",
      "pink hair\n",
      "CLUSTER 10:\n",
      "ear rings\n",
      "CLUSTER 11:\n",
      "hair dye\n",
      "CLUSTER 12:\n",
      "lipstick\n",
      "CLUSTER 13:\n",
      "black shirt\n",
      "CLUSTER 14:\n",
      "dental and vision\n",
      "CLUSTER 15:\n",
      "longs drugs\n",
      "CLUSTER 16:\n",
      "skin\n",
      "CLUSTER 17:\n",
      "facial piercings\n",
      "CLUSTER 18:\n",
      "dyed hair\n",
      "CLUSTER 19:\n",
      "loose clothing\n"
     ]
    }
   ],
   "source": [
    "for i in range(C):\n",
    "    print(f'CLUSTER {i}:')\n",
    "    print(' | '.join(_entities[j] for j in range(len(_feats_arr)) if _cls_res[j] == i))"
   ]
  },
  {
   "cell_type": "code",
   "execution_count": 134,
   "metadata": {},
   "outputs": [],
   "source": [
    "C = 20\n",
    "A_cls = AgglomerativeClustering(n_clusters=C, affinity='l2', linkage='complete')\n",
    "_cls_res = A_cls.fit_predict(_feats_arr)"
   ]
  },
  {
   "cell_type": "code",
   "execution_count": 135,
   "metadata": {
    "scrolled": true
   },
   "outputs": [
    {
     "name": "stdout",
     "output_type": "stream",
     "text": [
      "CLUSTER 0:\n",
      "blue collar | blue scrubs | brown shoes | casual clothes | casual clothing | collar shirts | cologne | color shirt | colored shirt | colored shoes | colorful hair | dentists | dress attire | dress uniform | dyes | ear piercings | etcs | face piercings | face tattoos | facial jewelry | facial piercing | food handlers | fragrances | gis | hair | hair spray | jeans | jewellery | leggings | lip ring | longhorns | name badge | natural hair | nose piercing | nose piercings | nose ring | polo shirt | ponytail | red hair | red shirt | tan or black | tan or black pants | televisions | trademarks | uniform shirt\n",
      "CLUSTER 1:\n",
      "athletic shoes | black dress pants | black jeans | black polo shirt | brown or black | brown pants | clothing | collar shirt | color hair | colored hair | colored pants | cosmetics | dress clothes | dress pants | dress shirt | dress shirts | dress shoes | hand tattoos | jean pants | laptops | mascara | nose rings | purple hair | sports equipment | sweat pants | tattoo | visible piercings\n",
      "CLUSTER 2:\n",
      "black dress | black tie | body piercings | sunglasses | uniform shirts\n",
      "CLUSTER 3:\n",
      "black pants | dress slacks | sports bra\n",
      "CLUSTER 4:\n",
      "tan pants\n",
      "CLUSTER 5:\n",
      "longs drugs\n",
      "CLUSTER 6:\n",
      "smartphones\n",
      "CLUSTER 7:\n",
      "loose clothing\n",
      "CLUSTER 8:\n",
      "scrubs\n",
      "CLUSTER 9:\n",
      "dark pants\n",
      "CLUSTER 10:\n",
      "ear rings\n",
      "CLUSTER 11:\n",
      "dental and vision\n",
      "CLUSTER 12:\n",
      "lipstick\n",
      "CLUSTER 13:\n",
      "microphones\n",
      "CLUSTER 14:\n",
      "skin\n",
      "CLUSTER 15:\n",
      "dyed hair\n",
      "CLUSTER 16:\n",
      "facial piercings\n",
      "CLUSTER 17:\n",
      "hair dye\n",
      "CLUSTER 18:\n",
      "pink hair\n",
      "CLUSTER 19:\n",
      "black shirt\n"
     ]
    }
   ],
   "source": [
    "for i in range(C):\n",
    "    print(f'CLUSTER {i}:')\n",
    "    print(' | '.join(_entities[j] for j in range(len(_feats_arr)) if _cls_res[j] == i))"
   ]
  },
  {
   "cell_type": "code",
   "execution_count": 136,
   "metadata": {},
   "outputs": [],
   "source": [
    "C = 20\n",
    "A_cls = AgglomerativeClustering(n_clusters=C, affinity='cosine', linkage='complete')\n",
    "_cls_res = A_cls.fit_predict(_feats_arr)"
   ]
  },
  {
   "cell_type": "code",
   "execution_count": 137,
   "metadata": {
    "scrolled": true
   },
   "outputs": [
    {
     "name": "stdout",
     "output_type": "stream",
     "text": [
      "CLUSTER 0:\n",
      "blue collar | blue scrubs | brown shoes | casual clothes | casual clothing | collar shirts | cologne | color shirt | colored shirt | colored shoes | colorful hair | dentists | dress attire | dress uniform | dyes | ear piercings | etcs | face piercings | face tattoos | facial jewelry | facial piercing | food handlers | gis | hair | hair spray | jeans | jewellery | leggings | lip ring | longhorns | name badge | natural hair | nose piercing | nose piercings | nose ring | polo shirt | ponytail | red hair | red shirt | tan or black | tan or black pants | televisions | trademarks | uniform shirt\n",
      "CLUSTER 1:\n",
      "athletic shoes | black dress pants | black jeans | black polo shirt | brown or black | brown pants | clothing | collar shirt | color hair | colored pants | cosmetics | dress clothes | dress pants | dress shirt | dress shirts | dress shoes | hand tattoos | jean pants | laptops | mascara | nose rings | purple hair | sports equipment | sweat pants | tattoo | visible piercings\n",
      "CLUSTER 2:\n",
      "black dress | black tie | body piercings | sunglasses | uniform shirts\n",
      "CLUSTER 3:\n",
      "black pants | colored hair | dress slacks | sports bra\n",
      "CLUSTER 4:\n",
      "tan pants\n",
      "CLUSTER 5:\n",
      "smartphones\n",
      "CLUSTER 6:\n",
      "dark pants | fragrances\n",
      "CLUSTER 7:\n",
      "longs drugs\n",
      "CLUSTER 8:\n",
      "scrubs\n",
      "CLUSTER 9:\n",
      "microphones\n",
      "CLUSTER 10:\n",
      "skin\n",
      "CLUSTER 11:\n",
      "hair dye\n",
      "CLUSTER 12:\n",
      "dental and vision\n",
      "CLUSTER 13:\n",
      "dyed hair\n",
      "CLUSTER 14:\n",
      "lipstick\n",
      "CLUSTER 15:\n",
      "black shirt\n",
      "CLUSTER 16:\n",
      "ear rings\n",
      "CLUSTER 17:\n",
      "facial piercings\n",
      "CLUSTER 18:\n",
      "pink hair\n",
      "CLUSTER 19:\n",
      "loose clothing\n"
     ]
    }
   ],
   "source": [
    "for i in range(C):\n",
    "    print(f'CLUSTER {i}:')\n",
    "    print(' | '.join(_entities[j] for j in range(len(_feats_arr)) if _cls_res[j] == i))"
   ]
  },
  {
   "cell_type": "code",
   "execution_count": 73,
   "metadata": {},
   "outputs": [
    {
     "data": {
      "text/plain": [
       "8028"
      ]
     },
     "execution_count": 73,
     "metadata": {},
     "output_type": "execute_result"
    }
   ],
   "source": [
    "# Non-masking ac\n",
    "bert_emb_path = os.path.join(base_dir, f'data/{data_ac}/intermediate/BERTembed_nm_ac.txt')\n",
    "\n",
    "_entity_embeddings = load_embeddings(bert_emb_path, 768)\n",
    "_entity_emb_dict = dict(zip(_entity_embeddings['entity'].tolist(),\n",
    "                            _entity_embeddings['embedding'].tolist()))\n",
    "len(_entity_emb_dict)"
   ]
  },
  {
   "cell_type": "code",
   "execution_count": 77,
   "metadata": {},
   "outputs": [],
   "source": [
    "K = 100\n",
    "_entities = sorted(ee_LM_list[:K])\n",
    "_feats_arr = [_entity_emb_dict[_e] for _e in _entities if _e in _entity_emb_dict]"
   ]
  },
  {
   "cell_type": "code",
   "execution_count": 78,
   "metadata": {},
   "outputs": [],
   "source": [
    "C = 20\n",
    "A_cls = AgglomerativeClustering(n_clusters=C, affinity='euclidean')\n",
    "_cls_res = A_cls.fit_predict(_feats_arr)"
   ]
  },
  {
   "cell_type": "code",
   "execution_count": 79,
   "metadata": {
    "scrolled": true
   },
   "outputs": [
    {
     "name": "stdout",
     "output_type": "stream",
     "text": [
      "CLUSTER 0:\n",
      "alcohol | education | family life | food | health dental | life insurance | property insurance | retirement age | safety\n",
      "CLUSTER 1:\n",
      "child support | college education | divorce | job security | longevity | offer health insurance | paid vacations | public health | social services\n",
      "CLUSTER 2:\n",
      "electricity | employee assistance program | employee benefit | employee benefits | insurance | internship | tax exemption | unemployment | unemployment benefits\n",
      "CLUSTER 3:\n",
      "dental assistant | hair care | health | health benefits | health care | health food | medical prescription | medicare | mortgage loan | parental leave\n",
      "CLUSTER 4:\n",
      "autism | diabetes | health savings account | personal life\n",
      "CLUSTER 5:\n",
      "car insurance | child care | hearing impairment | social security number\n",
      "CLUSTER 6:\n",
      "benefits | cough | medical billing | medical insurance | medical marijuana\n",
      "CLUSTER 7:\n",
      "car accident | dental benefits | disability | income tax | life | medical history | physical disability | unemployment compensation\n",
      "CLUSTER 8:\n",
      "business card | dentist | disability insurance\n",
      "CLUSTER 9:\n",
      "credit card | dental / vision | dental surgery | health care insurance | medical | medical card\n",
      "CLUSTER 10:\n",
      "food safety | hair\n",
      "CLUSTER 11:\n",
      "employment contract | family | legal age | pension | personal information | sleep | vehicle insurance | work / life balance\n",
      "CLUSTER 12:\n",
      "dental and vision | dental insurance | dental vision\n",
      "CLUSTER 13:\n",
      "cancer\n",
      "CLUSTER 14:\n",
      "continuing education\n",
      "CLUSTER 15:\n",
      "home mortgage | student loan | tax | tax credit\n",
      "CLUSTER 16:\n",
      "social life | social security | social security card\n",
      "CLUSTER 17:\n",
      "maternity leave | medical / dental | medical dental | medical diagnosis | medical emergency | medical marijuana card\n",
      "CLUSTER 18:\n",
      "employment\n",
      "CLUSTER 19:\n",
      "home care | mental health | mortgage\n"
     ]
    }
   ],
   "source": [
    "for i in range(C):\n",
    "    print(f'CLUSTER {i}:')\n",
    "    print(' | '.join(_entities[j] for j in range(len(_feats_arr)) if _cls_res[j] == i))"
   ]
  },
  {
   "cell_type": "code",
   "execution_count": 80,
   "metadata": {},
   "outputs": [],
   "source": [
    "C = 20\n",
    "A_cls = AgglomerativeClustering(n_clusters=C, affinity='l2', linkage='complete')\n",
    "_cls_res = A_cls.fit_predict(_feats_arr)"
   ]
  },
  {
   "cell_type": "code",
   "execution_count": 81,
   "metadata": {
    "scrolled": true
   },
   "outputs": [
    {
     "name": "stdout",
     "output_type": "stream",
     "text": [
      "CLUSTER 0:\n",
      "maternity leave | medical / dental | medical billing | medical dental | medical diagnosis | medical emergency | medical insurance | medical marijuana | medical marijuana card\n",
      "CLUSTER 1:\n",
      "car insurance | child care | hearing impairment | medical prescription | parental leave | social security number\n",
      "CLUSTER 2:\n",
      "employment contract | family | family life | food | health dental | internship | legal age | life insurance | pension | personal information | retirement age | safety | sleep | vehicle insurance | work / life balance\n",
      "CLUSTER 3:\n",
      "electricity | employee assistance program | employee benefit | unemployment | unemployment benefits\n",
      "CLUSTER 4:\n",
      "child support | college education | divorce | employee benefits | insurance | job security | longevity | offer health insurance | paid vacations | public health | tax exemption\n",
      "CLUSTER 5:\n",
      "autism | business card | dentist\n",
      "CLUSTER 6:\n",
      "benefits | car accident | cough | dental benefits | disability | income tax | life | medical history | physical disability | social life | social security | social security card | unemployment compensation\n",
      "CLUSTER 7:\n",
      "home mortgage | student loan | tax | tax credit\n",
      "CLUSTER 8:\n",
      "dental assistant | hair care | health | health benefits | health care | health food | medicare | mortgage loan\n",
      "CLUSTER 9:\n",
      "disability insurance\n",
      "CLUSTER 10:\n",
      "home care | mental health | mortgage | social services\n",
      "CLUSTER 11:\n",
      "employment\n",
      "CLUSTER 12:\n",
      "credit card | dental / vision | dental and vision | dental insurance | dental surgery | dental vision | health care insurance | medical | medical card\n",
      "CLUSTER 13:\n",
      "food safety | hair\n",
      "CLUSTER 14:\n",
      "diabetes | health savings account | personal life\n",
      "CLUSTER 15:\n",
      "cancer\n",
      "CLUSTER 16:\n",
      "education\n",
      "CLUSTER 17:\n",
      "property insurance\n",
      "CLUSTER 18:\n",
      "alcohol\n",
      "CLUSTER 19:\n",
      "continuing education\n"
     ]
    }
   ],
   "source": [
    "for i in range(C):\n",
    "    print(f'CLUSTER {i}:')\n",
    "    print(' | '.join(_entities[j] for j in range(len(_feats_arr)) if _cls_res[j] == i))"
   ]
  },
  {
   "cell_type": "code",
   "execution_count": 82,
   "metadata": {},
   "outputs": [],
   "source": [
    "C = 20\n",
    "A_cls = AgglomerativeClustering(n_clusters=C, affinity='cosine', linkage='complete')\n",
    "_cls_res = A_cls.fit_predict(_feats_arr)"
   ]
  },
  {
   "cell_type": "code",
   "execution_count": 83,
   "metadata": {
    "scrolled": true
   },
   "outputs": [
    {
     "name": "stdout",
     "output_type": "stream",
     "text": [
      "CLUSTER 0:\n",
      "disability insurance | home care | mental health | mortgage | social services\n",
      "CLUSTER 1:\n",
      "home mortgage | job security | public health | student loan | tax | tax credit\n",
      "CLUSTER 2:\n",
      "employment contract | family | legal age | life insurance | personal information | sleep | vehicle insurance | work / life balance\n",
      "CLUSTER 3:\n",
      "family life | food | health dental | safety\n",
      "CLUSTER 4:\n",
      "alcohol | cancer\n",
      "CLUSTER 5:\n",
      "autism | business card | dentist\n",
      "CLUSTER 6:\n",
      "medicare | property insurance | retirement age\n",
      "CLUSTER 7:\n",
      "electricity | employee assistance program | employee benefit | employee benefits | internship | longevity | offer health insurance | paid vacations | tax exemption | unemployment | unemployment benefits\n",
      "CLUSTER 8:\n",
      "car insurance | child care | hearing impairment | social security number\n",
      "CLUSTER 9:\n",
      "car accident | disability | hair care | health | health benefits | health care | health food | income tax | life | medical history | mortgage loan | physical disability | unemployment compensation\n",
      "CLUSTER 10:\n",
      "maternity leave | medical / dental | medical billing | medical dental | medical diagnosis | medical emergency | medical insurance | medical marijuana | medical marijuana card\n",
      "CLUSTER 11:\n",
      "credit card | dental / vision | dental and vision | dental assistant | dental benefits | dental insurance | dental surgery | dental vision | health care insurance | medical | medical card\n",
      "CLUSTER 12:\n",
      "education\n",
      "CLUSTER 13:\n",
      "food safety | hair\n",
      "CLUSTER 14:\n",
      "child support | college education | divorce | insurance\n",
      "CLUSTER 15:\n",
      "continuing education\n",
      "CLUSTER 16:\n",
      "diabetes | health savings account | personal life\n",
      "CLUSTER 17:\n",
      "benefits | cough | pension | social life | social security | social security card\n",
      "CLUSTER 18:\n",
      "employment\n",
      "CLUSTER 19:\n",
      "medical prescription | parental leave\n"
     ]
    }
   ],
   "source": [
    "for i in range(C):\n",
    "    print(f'CLUSTER {i}:')\n",
    "    print(' | '.join(_entities[j] for j in range(len(_feats_arr)) if _cls_res[j] == i))"
   ]
  },
  {
   "cell_type": "code",
   "execution_count": null,
   "metadata": {},
   "outputs": [],
   "source": []
  },
  {
   "cell_type": "markdown",
   "metadata": {},
   "source": [
    "## Entities context analysis"
   ]
  },
  {
   "cell_type": "code",
   "execution_count": 80,
   "metadata": {},
   "outputs": [],
   "source": [
    "benchmark_path = os.path.join(base_dir, f'data/indeed-benchmark/benchmark_evidence_clean.csv')\n",
    "embed_num_path = os.path.join(base_dir, f'data/{data_ac}/intermediate/BERTembednum+seeds.txt')\n",
    "corpus_path = os.path.join(base_dir, f'data/{data_ac}/intermediate/sentences_with_company.json')\n",
    "\n",
    "ee_emb_path = os.path.join(base_dir, f'data/{data_ac}/intermediate/ee_concept_knn_k=None.csv')\n",
    "ee_LM_path = os.path.join(base_dir, f'data/{data_ac}/intermediate/ee_LM_bert_k=None.csv')\n"
   ]
  },
  {
   "cell_type": "code",
   "execution_count": 81,
   "metadata": {},
   "outputs": [
    {
     "data": {
      "text/plain": [
       "dict_keys(['company', 'shifts', 'benefits', 'background_screening', 'dress_code', 'hire_prerequisite', 'compensation', 'pay_schedule', 'job_position', 'payment_option', 'schedule', 'person', 'employee_type', 'onboarding_steps'])"
      ]
     },
     "execution_count": 81,
     "metadata": {},
     "output_type": "execute_result"
    }
   ],
   "source": [
    "all_benchmark_instances, _ = load_benchmark(benchmark_path,\n",
    "                                            seed_aligned_concepts_path,\n",
    "                                            seed_aligned_relations_path)\n",
    "all_benchmark_instances.keys()"
   ]
  },
  {
   "cell_type": "code",
   "execution_count": 82,
   "metadata": {},
   "outputs": [
    {
     "data": {
      "text/plain": [
       "8064"
      ]
     },
     "execution_count": 82,
     "metadata": {},
     "output_type": "execute_result"
    }
   ],
   "source": [
    "embed_num_dict = dict()\n",
    "with open(embed_num_path, 'r') as f:\n",
    "    for l in f:\n",
    "        _e, _cnt = l.strip().rsplit(' ', 1)\n",
    "        embed_num_dict[_e] = int(_cnt)\n",
    "len(embed_num_dict)"
   ]
  },
  {
   "cell_type": "code",
   "execution_count": 83,
   "metadata": {},
   "outputs": [
    {
     "data": {
      "application/vnd.jupyter.widget-view+json": {
       "model_id": "7fb186346df2415bb7d6d0d079f61368",
       "version_major": 2,
       "version_minor": 0
      },
      "text/plain": [
       "HBox(children=(FloatProgress(value=0.0, max=413232.0), HTML(value='')))"
      ]
     },
     "metadata": {},
     "output_type": "display_data"
    },
    {
     "name": "stdout",
     "output_type": "stream",
     "text": [
      "\n"
     ]
    },
    {
     "data": {
      "text/plain": [
       "413232"
      ]
     },
     "execution_count": 83,
     "metadata": {},
     "output_type": "execute_result"
    }
   ],
   "source": [
    "with open(corpus_path, 'r') as f:\n",
    "    sent_dicts = [json.loads(l) for l in tqdm(f.readlines())]\n",
    "len(sent_dicts)"
   ]
  },
  {
   "cell_type": "markdown",
   "metadata": {},
   "source": [
    "### company"
   ]
  },
  {
   "cell_type": "code",
   "execution_count": 27,
   "metadata": {},
   "outputs": [],
   "source": [
    "_company_freqs = []\n",
    "for _e in all_benchmark_instances['company']:\n",
    "    try:\n",
    "        _freq = embed_num_dict[_e]\n",
    "        _company_freqs.append((_e, _freq))\n",
    "    except:\n",
    "        continue\n",
    "_company_freqs.sort(key=lambda p: p[-1])"
   ]
  },
  {
   "cell_type": "code",
   "execution_count": 72,
   "metadata": {
    "scrolled": true
   },
   "outputs": [
    {
     "data": {
      "text/plain": [
       "[('barnes & noble', 4),\n",
       " ('american eagle outfitters', 12),\n",
       " ('chipotle mexican grill', 15),\n",
       " ('costco wholesale', 19),\n",
       " ('primark', 22),\n",
       " ('cvs health', 30),\n",
       " ('united states postal service', 37),\n",
       " ('tim hortons', 47),\n",
       " ('foot locker', 50),\n",
       " ('frito lay', 67),\n",
       " ('dd', 68),\n",
       " ('goodwill industries', 69),\n",
       " ('tj maxx', 88),\n",
       " ('chilis', 94),\n",
       " ('pepsico', 101),\n",
       " ('mcdonald', 109),\n",
       " ('geico', 112),\n",
       " ('sitel', 114),\n",
       " ('marshalls', 127),\n",
       " ('pepsi', 144),\n",
       " ('planet fitness', 146),\n",
       " ('menards', 154),\n",
       " ('jcpenney', 158),\n",
       " ('dunkin donuts', 162),\n",
       " ('hobby lobby', 164),\n",
       " ('panera bread', 165),\n",
       " ('little caesars', 170),\n",
       " ('g4s', 171),\n",
       " ('ihop', 176),\n",
       " ('cracker barrel', 190),\n",
       " ('olive garden', 194),\n",
       " ('spectrum', 230),\n",
       " ('old navy', 284),\n",
       " ('best buy', 285),\n",
       " ('petsmart', 297),\n",
       " ('kfc', 302),\n",
       " ('costco', 346),\n",
       " ('safeway', 380),\n",
       " ('chipotle', 404),\n",
       " ('cvs', 435),\n",
       " ('publix', 451),\n",
       " ('verizon', 477),\n",
       " ('pizza hut', 478),\n",
       " ('wells fargo', 495),\n",
       " ('at&t', 499),\n",
       " ('family dollar', 527),\n",
       " ('dollar tree', 545),\n",
       " ('aldi', 580),\n",
       " ('burger king', 684),\n",
       " ('walgreens', 687),\n",
       " ('dollar general', 694),\n",
       " ('fedex', 741),\n",
       " ('kroger', 743),\n",
       " ('taco bell', 775),\n",
       " ('home depot', 835),\n",
       " ('subway', 925),\n",
       " ('starbucks', 1005),\n",
       " ('mcdonalds', 1268),\n",
       " ('target', 1341),\n",
       " ('amazon', 2226),\n",
       " ('walmart', 4261),\n",
       " ('training', 8597)]"
      ]
     },
     "execution_count": 72,
     "metadata": {},
     "output_type": "execute_result"
    }
   ],
   "source": [
    "_company_freqs"
   ]
  },
  {
   "cell_type": "code",
   "execution_count": 89,
   "metadata": {},
   "outputs": [
    {
     "data": {
      "text/plain": [
       "<matplotlib.axes._subplots.AxesSubplot at 0x7fd7d1e85a90>"
      ]
     },
     "execution_count": 89,
     "metadata": {},
     "output_type": "execute_result"
    },
    {
     "data": {
      "image/png": "[encoded data removed]",
      "text/plain": [
       "<Figure size 864x648 with 1 Axes>"
      ]
     },
     "metadata": {
      "needs_background": "light"
     },
     "output_type": "display_data"
    }
   ],
   "source": [
    "_company_freqs_df = pd.DataFrame(_company_freqs[:-1], columns=['company', 'freq'])\n",
    "_company_freqs_df.plot.bar(x='company', y='freq', rot=90, fontsize=12, figsize=(12,9))"
   ]
  },
  {
   "cell_type": "code",
   "execution_count": 56,
   "metadata": {},
   "outputs": [
    {
     "data": {
      "text/plain": [
       "(8059, 8037)"
      ]
     },
     "execution_count": 56,
     "metadata": {},
     "output_type": "execute_result"
    }
   ],
   "source": [
    "ee_emb_df = pd.read_csv(ee_emb_path)\n",
    "_emb_company_df = ee_emb_df[ee_emb_df['concept'] == 'company']\n",
    "_emb_company_list = _emb_company_df['neighbor'].tolist()\n",
    "\n",
    "ee_lm_df = pd.read_csv(ee_LM_path)\n",
    "_lm_company_df = ee_lm_df[ee_lm_df['concept'] == 'company']\n",
    "_lm_company_list = _lm_company_df['neighbor'].tolist()\n",
    "\n",
    "len(_emb_company_list), len(_lm_company_list)"
   ]
  },
  {
   "cell_type": "code",
   "execution_count": 101,
   "metadata": {
    "scrolled": true
   },
   "outputs": [
    {
     "name": "stdout",
     "output_type": "stream",
     "text": [
      "barnes & noble           4 3865 150\n",
      "american eagle outfitters 12 3212 1050\n",
      "chipotle mexican grill   15 2000 1490\n",
      "costco wholesale         19 847 705\n",
      "primark                  22 1013 996\n",
      "cvs health               30 1937 205\n",
      "united states postal service 37 399 1793\n",
      "tim hortons              47 221 448\n",
      "foot locker              50 171 4058\n",
      "frito lay                67 32 4141\n",
      "dd                       68 83 1615\n",
      "goodwill industries      69 147 323\n",
      "tj maxx                  88 48 403\n",
      "chilis                   94 312 1573\n",
      "pepsico                  101 52 41\n",
      "mcdonald                 109 249 308\n",
      "geico                    112 29 67\n",
      "sitel                    114 41 2410\n",
      "marshalls                127 34 161\n",
      "pepsi                    144 38 8\n",
      "planet fitness           146 64 454\n",
      "menards                  154 23 6720\n",
      "jcpenney                 158 20 2679\n",
      "dunkin donuts            162 42 4135\n",
      "hobby lobby              164 72 1344\n",
      "panera bread             165 10 1208\n",
      "little caesars           170 73 461\n",
      "g4s                      171 43 228\n",
      "ihop                     176 25 3646\n",
      "cracker barrel           190 19 1294\n",
      "olive garden             194 11 2929\n",
      "spectrum                 230 17 500\n",
      "old navy                 284 15 1553\n",
      "best buy                 285 12 248\n",
      "petsmart                 297 39 831\n",
      "kfc                      302 18 703\n",
      "costco                   346 1 1327\n",
      "safeway                  380 21 3806\n",
      "chipotle                 404 33 1517\n",
      "cvs                      435 24 760\n",
      "publix                   451 7 2334\n",
      "verizon                  477 37 1986\n",
      "pizza hut                478 8 396\n",
      "wells fargo              495 49 2169\n",
      "at&t                     499 40 -1\n",
      "family dollar            527 14 335\n",
      "dollar tree              545 16 360\n",
      "aldi                     580 102 3656\n",
      "burger king              684 31 324\n",
      "walgreens                687 5 5557\n",
      "dollar general           694 2 117\n",
      "fedex                    741 35 389\n",
      "kroger                   743 6 732\n",
      "taco bell                775 36 315\n",
      "home depot               835 4 1266\n",
      "subway                   925 -1 -1\n",
      "starbucks                1005 9 4\n",
      "mcdonalds                1268 13 394\n",
      "target                   1341 -1 -1\n",
      "amazon                   2226 -1 -1\n",
      "walmart                  4261 -1 -1\n",
      "training                 8597 91 6700\n"
     ]
    }
   ],
   "source": [
    "for _e, _cnt in _company_freqs:\n",
    "    print(f'{_e:24s}',\n",
    "          _cnt,\n",
    "          _emb_company_list.index(_e) if _e in _emb_company_list else -1,\n",
    "          _lm_company_list.index(_e) if _e in _lm_company_list else -1)"
   ]
  },
  {
   "cell_type": "code",
   "execution_count": 61,
   "metadata": {
    "scrolled": true
   },
   "outputs": [
    {
     "name": "stdout",
     "output_type": "stream",
     "text": [
      "In my experience , booksellers at Barnes & Noble are not the cream of the crop employees , despite the company 's pretentious attitude towards applicants .\n",
      "\n",
      "Working hours at Barnes & Noble are not great unless you are a manager .\n",
      "\n",
      "The best age to work at Barnes & Noble is in your early 20 's , especially while going to school .\n",
      "\n",
      "ask each customer to make a charitable donation of a book to a Barnes & Noble designated charity -- on and on --- overall , they just want to suck as much money out of each customer as possible .\n",
      "\n",
      "I have never work at Barnes & Noble before , I would like to work there , Because I Love the books .\n",
      "\n",
      "It is rather simple and easy to apply online , on the Barnes & Noble website .\n",
      "\n",
      "Barnes & Noble is a very sales - driven environment where your ability to sell memberships and upsell Café items is paramount .\n",
      "\n",
      "I always regret I could'nt find a career with Barnes & Noble , but it was not in the cards .\n",
      "\n",
      "They took over the Barnes & Noble contract from Control Security and kept the same guards and store detectives on as employees .\n",
      "\n",
      "It depends on the type of Barnes & Noble .\n",
      "\n",
      "I worked at a B & N College Bookstore that was on campus , and I ca n't transfer to a general Barnes & Noble .\n",
      "\n",
      "Barnes & Noble embraces diversity and we love to hire individuals representing every age group .\n",
      "\n",
      "Yes , Barnes & Noble hires older workers in their retail stores .\n",
      "\n",
      "You are required to ask if they 'd like to sign up for the Barnes & Noble Membership .\n",
      "\n",
      "Necesitas ser energico y organizada con los personas de Barnes & Noble .\n",
      "\n"
     ]
    }
   ],
   "source": [
    "_entity = 'barnes & noble'\n",
    "\n",
    "for d in sent_dicts:\n",
    "    _sent = ' '.join(d['tokens'])\n",
    "    if f' {_entity} ' in f' {_sent} '.lower():\n",
    "        print(_sent)\n",
    "        print()"
   ]
  },
  {
   "cell_type": "code",
   "execution_count": 63,
   "metadata": {
    "scrolled": true
   },
   "outputs": [
    {
     "name": "stdout",
     "output_type": "stream",
     "text": [
      "It took American Eagle Outfitters less than a week to schedule my training day after getting the position .\n",
      "\n",
      "No orientation is not paid for at American Eagle Outfitters\n",
      "\n",
      "No you do not have to be a certain height to work at American Eagle Outfitters .\n",
      "\n",
      "In able to work at American Eagle Outfitters , you have to be at least the age of seventeen .\n",
      "\n",
      "Working at American Eagle Outfitters on Sunday , you get time and a half .\n",
      "\n",
      "No , they did not drug test at American Eagle Outfitters .\n",
      "\n"
     ]
    }
   ],
   "source": [
    "_entity = 'american eagle outfitters'\n",
    "\n",
    "for d in sent_dicts:\n",
    "    _sent = ' '.join(d['tokens'])\n",
    "    if f' {_entity} ' in f' {_sent} '.lower():\n",
    "        print(_sent)\n",
    "        print()"
   ]
  },
  {
   "cell_type": "code",
   "execution_count": 64,
   "metadata": {
    "scrolled": true
   },
   "outputs": [
    {
     "name": "stdout",
     "output_type": "stream",
     "text": [
      "I got my first interview at Chipotle Mexican Grill after I applied online .\n",
      "\n",
      "Chipotle mexican grill is a worldwide company and we have locations in Germany , London , and Canada .\n",
      "\n",
      "I really would not mind working at a new location for Chipotle Mexican Grill , but I would have to think twice about it .\n",
      "\n",
      "I applied for chipotle Mexican grill they never called me\n",
      "\n",
      "Chipotle Mexican Grill terminated me as an employee .\n",
      "\n",
      "Chipotle Mexican Grill pays bi weekly .\n",
      "\n",
      "  I do Hope Chipotle Mexican Grill so they can fix there management .\n",
      "\n",
      "You must be 16 years of age in order to work a Chipotle Mexican Grill .\n",
      "\n"
     ]
    }
   ],
   "source": [
    "_entity = 'chipotle mexican grill'\n",
    "\n",
    "for d in sent_dicts:\n",
    "    _sent = ' '.join(d['tokens'])\n",
    "    if f' {_entity} ' in f' {_sent} '.lower():\n",
    "        print(_sent)\n",
    "        print()"
   ]
  },
  {
   "cell_type": "code",
   "execution_count": 65,
   "metadata": {
    "scrolled": true
   },
   "outputs": [
    {
     "name": "stdout",
     "output_type": "stream",
     "text": [
      "The overall work environment at Costco Wholesale was very strenuous .\n",
      "\n",
      "Costco Wholesale is a great company with great benefits .\n",
      "\n",
      "Never work at Costco wholesale\n",
      "\n",
      "Looking to seek Employee with Costco Wholesale\n",
      "\n",
      "References within Costco Wholesale whom are employed already .\n",
      "\n",
      "Yes Costco Wholesale does through and complete background checks on all prospective hires .\n",
      "\n",
      "You have to be 18 or older to work for Costco wholesale pretty sure a HS deploma or GED was required\n",
      "\n",
      "I was hired to work at Costco Wholesale in May of 2016 .\n",
      "\n",
      "Hi , My Costco wholesale is the very .\n",
      "\n",
      "Good managed company by it 's CA , we are the most interested to work with the Costco wholesale .\n",
      "\n"
     ]
    }
   ],
   "source": [
    "_entity = 'costco wholesale'\n",
    "\n",
    "for d in sent_dicts:\n",
    "    _sent = ' '.join(d['tokens'])\n",
    "    if f' {_entity} ' in f' {_sent} '.lower():\n",
    "        print(_sent)\n",
    "        print()"
   ]
  },
  {
   "cell_type": "code",
   "execution_count": 66,
   "metadata": {
    "scrolled": true
   },
   "outputs": [
    {
     "name": "stdout",
     "output_type": "stream",
     "text": [
      "A necessary qualification of a chilis restaurant manager would be respect .\n",
      "\n",
      "You must be 16 or older to work at chilis .\n",
      "\n",
      "At the Chilis I work at you can have dark colors nothing bright\n",
      "\n",
      "They will usually train you or start you off ad a host then move you up from there depending on what your chilis does .\n",
      "\n",
      "Chilis pays 2.13 .\n",
      "\n",
      "No , because the schedule would be confusing and if you are already employed at a chilis you can only transfer to another one .\n",
      "\n",
      "Chef 's pants hat and shirt made by chilis\n",
      "\n",
      "Do i qualify to work with chilis\n",
      "\n",
      "What is Chilis music policy\n",
      "\n",
      "I have never felt more unhappy in a work place than I did working at this Chilis .\n",
      "\n",
      ".unfortunately had to transfer to the chili 's in galveston tx ... i had the notion that all chilis would be like my home store .. boy was i ever wrong .. the store was ran so poorly that i caught myself saying , \" i ca nt wait to get off so i can leave this place\" .. i never felt so unappreciated or tooken advantage of by their management staff ... this store has an extremely high turnover rate .. and i see why . ..\n",
      "\n",
      "Chilis champions gate fla .\n",
      "\n",
      "Black slacks and chilis shirt\n",
      "\n",
      "Not that i know of i think i was 15 - 16 hosting at chilis\n",
      "\n",
      "No , to work at Chilis you have to be 18 or older\n",
      "\n",
      "They do n't drug test at my chilis ( if they did they 'd have to fire EVERYONE ) haha\n",
      "\n",
      "Yes because chilis has they own way of doing things\n",
      "\n",
      "The chilis I worked at made us tip all if the food runners and bar tenders 4 percent mandatory per managers orders and then the manager would give the money the next day .\n",
      "\n",
      "There is no such position in chilis and it is now left up to the hostess to clear and clean the table after the server takes the bulk of the dishware\n",
      "\n",
      "Jeans and a chilis shirt\n",
      "\n",
      "Chilis Button Up And Slacks .\n",
      "\n",
      "team members wear jeans with a chilis logo polo or promo shirt\n",
      "\n",
      "Ypu can hpst at chilis at the age of 16\n",
      "\n",
      "Chilis payed hostesses bi - weekly\n",
      "\n",
      "If I started at chilis in the middle of the pay period when I get my first check will it be for my training only or the 3 weeks I 've worked ?\n",
      "\n",
      "Khaki pants and a chilis dress shirt neat hair and neat overall appearance\n",
      "\n",
      "Chilis tshirt and dark blue jeans with black non - slip shoes\n",
      "\n",
      "all chilis are a little different\n",
      "\n",
      "Do n't know exactly but have been told chilis pay for cooks is extremely low compared to other resturants\n",
      "\n",
      "No Chilis does nt\n",
      "\n",
      "Chilis shirt and jeans with non slip shoes .\n",
      "\n",
      "We got paid by weekly on Friday at chilis\n",
      "\n",
      "Chilis did not hold a paycheck and most associates made $ 2.15 an hour plus tips .\n",
      "\n",
      "Chilis does not hold your first paycheck however they do also have direct deposit options\n",
      "\n",
      "Gainesville , Florida chilis do what they call a week in the hole\n",
      "\n",
      "While employed at Chilis , I did not bartend so I am unaware of the training requirements .\n",
      "\n",
      "Chilis pays biweekly\n",
      "\n",
      "No education is needed to work for chilis\n",
      "\n",
      "No chilis have never drug tested any of there employees\n",
      "\n",
      "No chilis does not drug test\n",
      "\n",
      "I m not sure never been to a chilis in vegas\n",
      "\n",
      "Chilis shirt , dark jeans , black apron , black belt , and nonslip shoes .\n",
      "\n",
      "Auburndale , Fl off of Hwy 92 , next to Lowes , Burger King , and Chilis\n",
      "\n"
     ]
    }
   ],
   "source": [
    "_entity = 'chilis'\n",
    "\n",
    "for d in sent_dicts:\n",
    "    _sent = ' '.join(d['tokens'])\n",
    "    if f' {_entity} ' in f' {_sent} '.lower():\n",
    "        print(_sent)\n",
    "        print()"
   ]
  },
  {
   "cell_type": "code",
   "execution_count": 85,
   "metadata": {},
   "outputs": [
    {
     "name": "stdout",
     "output_type": "stream",
     "text": [
      "STANDARD INTERVIEW QUESTIONS FOR RETAIL POSITIONS .\n",
      "\n",
      "Why I was interested in retail ?\n",
      "\n",
      "Very friendly , they just want to get to know you and see how much experience you have with retail .\n",
      "\n",
      "I am sure there is always a need for   employees and quite honestly you can find a positon that fits you because the is a huge volume   of everything in the clothing , retail , cashier gift cards and have ahuge parking lot close to condominuim and several offices .\n",
      "\n",
      "Yes , they 're always looking for new employees to help out during the holidays and its a great place to start work in retail .\n",
      "\n",
      "this is retail store so this is ok\n",
      "\n",
      "This only applies to the retail side of Marshall 's .\n",
      "\n",
      "It is retail so my schedule is different every week .\n",
      "\n",
      "I did n't mind it at first for a part time job to have me do something while I was in community college , but now that I left I 'd say that this is a great first job if you 're wanting to experience what retail is like .\n",
      "\n",
      "This was a training position that focused trainings on National Retail partners focusing them on selling AT&T over competitors .\n",
      "\n",
      "The focus also drove demo days at the aforementioned national retail partners .\n",
      "\n",
      "No idea , I was a retail sales manager\n",
      "\n",
      "No idea .. was in a retail sales location\n",
      "\n",
      "The difference is retail sales customers can physically see and feel the product that gives them instant gratification .\n",
      "\n",
      "Retail sales consultant is to drive sales and sales support representative focuses on operations and customer service for customers non sales\n",
      "\n",
      "Retail sales consultant is the person who works with the customer and sells products , i.e. in the mobile phone store .\n",
      "\n",
      "Retail is a secondary company , under the main chain .\n",
      "\n",
      "Retail sales consultant is someone work as sales support Representative and worked hard and build his own office \n",
      "\n",
      " & \n",
      "\n",
      " Sales support   Representative : \n",
      " Its the first level in the work\n",
      "\n",
      "Could n't work retail hours with a family , and pay lowered based on increased unrealistic goals that was forcing unethical selling by others to attain .\n",
      "\n",
      "The cellular industry was phasing out due to all the retail stores\n",
      "\n",
      "My career with AT&T was not in retail .\n",
      "\n",
      "I can not answer this , as I never worked in retail .\n",
      "\n",
      "I would assume AT&T scheduling in retail was one to fit the needs of that area .\n",
      "\n",
      "Flexible hours through the retail schedule .\n",
      "\n",
      "Not sure , I do n't work at retail stores .\n",
      "\n",
      "Retail stores may but you will have to inquire within to get a for sure answer to the question\n",
      "\n",
      "I worked full time and not in retail .\n",
      "\n",
      "As far as part time scheduling for part time retail employees , can someone give me an example of what their schedules may look like .\n",
      "\n",
      "Never worked in AT&T 's retail\n",
      "\n",
      "I was a premise technician so I have no idea about the retail side of the company .\n",
      "\n",
      "100 % attainment in a retail store is 1350 but your sales target changes monthly Directv pays the most at around 100   per submit some places are a little more some a little less\n",
      "\n",
      "Unknown , didn't not work in the retail side of the Business\n",
      "\n",
      "Non Retail jobs are usually M - F\n",
      "\n",
      "I currently work retail hours that include weekends and holidays .\n",
      "\n",
      "Retail hours are long .\n",
      "\n",
      "As a retail manager , we had   resources to call for support and speak to someone quickly to resolve customer concerns .\n",
      "\n",
      "   In the store , we experienced many customers receiving incorrect information over the phone and customers would come into the store with certain expectations that could not be met at the retail store level(i.e specific promotions for products and services that could only be honored online over the phone ) .\n",
      "\n",
      "Worked at a Company Owned Retail Store\n",
      "\n",
      "It 's retail , expect to work retail hours\n",
      "\n",
      "Unfortunately i was a retail employee and i am not qualified to answer that question .\n",
      "\n",
      "They have what th ey call ramp up as a Full time retail sales consultant   when I started in 2016 they paid you th e full 1350 and it decreased over 6 months down to zero as you started to sell more\n",
      "\n",
      "Retail training depends on the locations , lately training is done locally within a 50 mile raduis of the home store you are hired in .\n",
      "\n",
      "N / A - I did not work as a retail person at all so I ca n't really answer this .\n",
      "\n",
      "I was not a retail sales consultant , I was a global product manager .\n",
      "\n",
      "I did not work retail .\n",
      "\n",
      "Retail side is different you may be required to work some Sundays in retail\n",
      "\n",
      "  Pay for retail reps is great , commission sales .\n",
      "\n",
      "I 'm sure if you 're going to be working in a retail environment with AT&T they do a pretty extensive background check .\n",
      "\n",
      "As a retail sales consultant , no .\n",
      "\n",
      "I did not work in retail stores but I was salaried and the expectation was that you were to work all holidays regardless and many many times you worked and were not paid any type of compensation .\n",
      "\n",
      "In retail it ’s first shift only\n",
      "\n",
      "Sounds good but it 's not fashion retail so selling technique are more difficult .\n",
      "\n",
      "I would n't know , my position was full time and did n't involve retail sales .\n",
      "\n",
      "I was not involved in retail sales\n",
      "\n",
      "I did NOT work in the retail side of AT&T so this really does n't pertain to my experience .\n",
      "\n",
      "I had tried to switch from Premise Tech to Retail and it was almost impossible to get in .\n",
      "\n",
      "Steel toed boots are not required for retail but are required for Field Technicians .\n",
      "\n",
      "This is a dream to a retail sales consultant .\n",
      "\n",
      "Retail in store\n",
      "\n",
      "You can work part time as a sales associate in a retail store .\n",
      "\n",
      "All retail sales associates get a company cell phone .\n",
      "\n",
      "Do nt know was n't a retail sales associate\n",
      "\n",
      "Very friendly but as a retail manager I was required to be in the restaurant more then I would of liked .\n",
      "\n",
      "I feel like every restaurant manger acts like it ’s a hassle to assist in the retail at times , , , , , I will never understand there nasty attitude ( they are not doing anything for FREE - and the place serves food - u will have happy and more success in the work place when u give a proper break after working 4 hours in to a shift - 7 hours no break - shame on you cracker barell - Uncle Hershel would not approve of this type of ethics -\n",
      "\n",
      "I worked for cracker barrel for 4 months in retail .\n",
      "\n",
      "I work retail .\n",
      "\n",
      "Well I was 15 and looking for a job and I had a few friends who work there in a retail section so when I turn 16 I applied there and then a week or two ago I had the job I did have some complications with my background check not that anything was on it but that could n't get submitted I went through their website and I got an interview went and came out everything was good\n",
      "\n",
      "By the way I applied for the retail associate .\n",
      "\n",
      "Hi I put in a application for crackle barrel in Alexandria , Louisiana for retail sales and every time I call up there to ask about it , they tell me it 's not in the system???I put in for retail sales and I seen the address for the store and tried to put in another application for the same position but its says I 'm already submitted??What am I doing wrong ? ! ? ? ! !\n",
      "\n",
      "And black , dark brown shoes with non - slip grip ( servers , back - house ) Retail and cash , any black sneakers will do .\n",
      "\n",
      "Retail associate must be 18 in order to be on cash register .\n",
      "\n",
      "I do n't know i was a retail sales associate ....\n",
      "\n",
      "If you are in retail and only work 8 hours a week it is pointless , you would never have a paycheck\n",
      "\n",
      "Only retail theft or any other judgments similar on your record will remove you from even qualifying for a job .\n",
      "\n",
      "Server , Host & Retail wear Splenda yellow , Equal blue , Sweet n ' Low pink or white .\n",
      "\n",
      "I did my orentation for retail and did my computer work yestarday.so being a new hire how many hours will i get a week my first month cause i asked for full time.is this worth it or not ? ?\n",
      "\n",
      "Server , host , or retail ?\n",
      "\n",
      "if you work retail or server yes you do .\n",
      "\n",
      "You may not be hired as retail but you could score a job in the kitchen .\n",
      "\n",
      "In retail close neatly kept is fine\n",
      "\n",
      "Retail can , cooks and backup cooks must wear hair nets , even on facial hair , dishwashers as well .\n",
      "\n",
      "In retail asking it 's no loud colors\n",
      "\n",
      "While being in orientation for retail you are required to watch a some videos on how to do the given job and you will be trained on how to do everything correctly\n",
      "\n",
      "Yes The retail department hires seasonal employees around the holiday because they offer gift wrapping .\n",
      "\n",
      "Retail was technically the cashiers too , so we got paid $ 8 an hour\n",
      "\n",
      "When I started , I was making 8.00 in the Retail area .\n",
      "\n",
      "I worked in retail / Sales and was not drug tested in my interview .\n",
      "\n",
      "Working in the retail department as part time , your hours will vary based on sales for te previous week .\n",
      "\n",
      "I do n't know I worked in retail .\n",
      "\n",
      "Raises are given out frequently but it should be known retail has probably the lowest pay scale in the store and they keep adding to the responsibilities .\n",
      "\n",
      "It was a great place to work but there was no advancement in the retail section .\n",
      "\n",
      "Retail employees get paid every two weeks so my assumption is that everyone else does also .\n",
      "\n",
      "In retail your hair always has to be up .\n",
      "\n",
      "Retail Manager training is 5 weeks .\n",
      "\n",
      "I 'm in retail so I 'd double check but the receipts have shortened codes for menu items .\n",
      "\n",
      "It depends if your on the restaurant side or retail .. Those hours would would perfectly for retail .\n",
      "\n",
      "Discounts on a meal a day and all retail purchases \n",
      " Medical , Dental , and Vision after one year\n",
      "\n",
      "I am unfamiliar with the hiring on the retail side .\n",
      "\n",
      "I have no idea ... Annual turnover in all retail banking operations averaged approximately 33 % annually during my 10 years at Wells Fargo .\n",
      "\n",
      "Not sure as I worked in a retail branch\n",
      "\n",
      "N / A \n",
      "\n",
      " My experience was in a call center so I ca n't comment on retail bank training .\n",
      "\n",
      "I worked in a call center so I could n't comment on retail bank practices .\n",
      "\n",
      "I do not know anything about the retail side of the banking industry .\n",
      "\n",
      "You can get a Wells Fargo job with only retail , As long as you have cash handling experience and customer service skills you are qualified .\n",
      "\n",
      "Retail branch hours you are generally there 15 - 30 mins before open to close .\n",
      "\n",
      "I 'm not in Retail .\n",
      "\n",
      "  I was not a teller and did not work in retail banking .\n",
      "\n",
      "  Managed a retail brnace early in my career including approving larger teller transactions and overriding approval limits   of new tellers as appropriate to provide smooth customer interaction .\n",
      "\n",
      "Yes , retail has trained you in customer service , they will continue your trading to ensure you understand why you are requesting additional documents .\n",
      "\n",
      "Have you ever worked with retail ?\n",
      "\n",
      "When you work retail store mgrs and corporate offices care about you very little and care about themselves alot ...\n",
      "\n",
      "Retail warehouse environment consists of being a hard working stocker and excellent saleperson\n",
      "\n",
      "Big retail companies like this one and wal mart show all - too - easily that the focus is not with making sure the employees are treated as well as they should be .\n",
      "\n",
      "  Home Depot has good training methods , I 've learned a lot , more than I 've ever known & it feels good to be knowledgeable about retail .\n",
      "\n",
      "Currently working for another retail Corporation for three years as Store Clerk , Senior Cashier , merchandising , pricing control .\n",
      "\n",
      "Retail\n",
      "\n",
      "  Definitely would label the retail positions as transitional jobs .\n",
      "\n",
      "Depends on if it relates to theft of retail .\n",
      "\n",
      "I 'm not sure I was'nt a manager I was a retail associate .\n",
      "\n",
      "HD mostly looks for retail experience .\n",
      "\n",
      "More retail\n",
      "\n",
      "More retail but they seem to promote from within , at least from what i 've heard about all our store managers .\n",
      "\n",
      "They typically look a person with more retail experience .\n",
      "\n",
      "More Retail , but the important thing is proven process implementation and improvements\n",
      "\n",
      "In my experience they seemed to be drawn more to retail experience because they feel it can be applied to many different types of businesses .\n",
      "\n",
      "More retail .\n",
      "\n",
      "\n",
      "\n",
      "  \t Supported over 2200 retail store associate in the continuous U.S. Providing excellent customer service and expert counseling to Home Depot managers and associates .\n",
      "\n",
      "Salary is slightly below average for retail .\n",
      "\n",
      "As for retail in general goes I think the Home Depot is a good place to work .\n",
      "\n",
      "Much different atmosphere than fashion retail and that is why they can pay more .\n",
      "\n",
      "  Home Depot is a retail establishment .\n",
      "\n",
      "Masters degree was n't in business retail ( or anything close to it ) .\n",
      "\n",
      "Have you worked retail ?\n",
      "\n",
      "If you like retail it 's a good company to work for .\n",
      "\n",
      "The Home Depot gave me a chance to work in retail for the first time , and learn many different skills .\n",
      "\n",
      "No high school diploma is required to work for The Home Depot retail division .\n",
      "\n",
      "  Get used to it in retail .\n",
      "\n",
      "Minimum wage to start and a annual increase based on several factors ; such as \" Pro Sales \" , Commercial Credit sales and the cut and dry expectations of a retail associate .\n",
      "\n",
      "Retail sales , management , and customer service .\n",
      "\n",
      "  It is risky to retail store for customers and employee .\n",
      "\n",
      "Just like any other large retail .\n",
      "\n",
      "I ’ve worked in many from retail to warehouse to offices and restaurants .\n",
      "\n",
      "My position was many , many times removed from retail .\n",
      "\n",
      "Amazon provides a livable wage and has been at the forefront of global innovation in retail .\n",
      "\n",
      "Its categorized as retail , even though its a warehouse .\n",
      "\n",
      "Orange vests are process assistants , assistant managers in the rest of the retail world .\n",
      "\n",
      "I assume this is a retail - related question and it 's forcing me to answer it with long sentences .\n",
      "\n",
      "This is NOT relevant to retail warehouse work .\n",
      "\n",
      "Or someone with a retail theft conviction .\n",
      "\n",
      "Work At Home Retail and SDS\n",
      "\n",
      "Subway is a small team retail outlet .\n",
      "\n",
      "i m interested in retail .\n",
      "\n",
      "It is nt retail .\n",
      "\n",
      "I m sure if it was n't a retail theft charge that happened at Fedex then yes but if it happened at Fedex then no .\n",
      "\n",
      "Chase retail has switched to bi weekly payroll\n",
      "\n",
      "No , You work in a retail branch and have to be there for clients at all time\n",
      "\n",
      "There is no third shift in retail banking .\n",
      "\n",
      "This a full time position in an office , not at a retail bank .\n",
      "\n",
      "There is no part time position for my current role as a Credit Coordinator but this 2 - 6pm part time position is available for tellers on the retail banking side of the company .\n",
      "\n",
      "Any retail store\n",
      "\n",
      "  If the department supports Retail Branches , then Saturday work was warranted .\n",
      "\n",
      "Not sure , I was not in retail operations .\n",
      "\n",
      "  I do not work for the retail banking division .\n",
      "\n",
      "Opportunities are always available at the retail level with multiple branches around the country\n",
      "\n",
      "No retail / commercial banking in London , so can not provide an answer to this question\n",
      "\n",
      "Not in retail\n",
      "\n",
      "Not sure , I worked at a retail store .\n",
      "\n",
      "No , as far as I know there are no remote retail positions .\n",
      "\n",
      "Retail interviews are pretty short , casual , and non - threatening .\n",
      "\n",
      "  For my corporate / non - retail interview I had five 30min interviews back to back .\n",
      "\n",
      "Retail hourly partners are paid 1½ times their base hourly rate of pay for any hours worked on these holidays \"\n",
      "\n",
      "  There is always a line around those establishments and they are not constantly adding things to their menu and changing it and selling retail .\n",
      "\n",
      "Stocks and retail product\n",
      "\n",
      "All they really prefer is some kind of food / retail experience and that you 're not in high school .\n",
      "\n",
      "I worked for a Kroger Starbucks , meaning a liscensed store as opposed to the stand alone Retail .\n",
      "\n",
      "Yes , depends on if it is in the SSC or if it is retail , however , I do know for a fact that people with criminal records can / are hired without judgement\n",
      "\n",
      "Starbucks pays retail employees bi weekly .\n",
      "\n",
      "There are no forklift operators in retail stores .\n",
      "\n",
      "The amount of hours and times / days that I 'm available , time management , experience in sales retail .\n",
      "\n",
      "If you work in retail or food at all , YOU MUST BE ABLE TO WORK WEEKENDS .\n",
      "\n",
      "Creating schedules , retail displays and more .\n",
      "\n",
      "Hi have a applied for a retail job but my main problem is I ca n’t count money and I would n’t know how much change to give back or how much the costumer has given me as I struggle to count money so would they still put me on the tills even though I struggle really bad because I do n’t wanna do something that I ca n’t do and put my confidence really low as it is already low and puts me off that I ca n’t count money at all or handle money even add money up or give money correctly I just need some kind of help on do I tell them this in the interview what if it puts them off or will they give something else to do that I might be good at\n",
      "\n",
      "Retail and fast food DON'T give weekends typically because those are the busiest days .\n",
      "\n",
      "This will officially be my last job   in retail !\n",
      "\n",
      "Macys is not the place to work as retail in concern , they need to be out of this industry asap .\n",
      "\n",
      "I had experience in retail clothing and cosmetics and they immediately set me up for an interview .\n",
      "\n",
      "I interview for the original job I applied for and now I am on a waiting list for an open position retail position .\n",
      "\n",
      "Retail makes $ 9 / hr .\n",
      "\n",
      "This is not appropriated question for Macy 's Department store , it is a retail entity .\n",
      "\n",
      "The pay rate for retail position is $ 11\n",
      "\n",
      "Outside of retail though we probably lag the market .\n",
      "\n",
      "Pay rate for the retail position is $ 9.00 .\n",
      "\n",
      "What is my past experience in retail ?\n",
      "\n",
      "Well i learn quick so they through me right in es - specially because i been in retail before .\n",
      "\n",
      "I love to work retail\n",
      "\n",
      "A drug test is n't required to work in Retail , and in my opinion there 's no need for one .\n",
      "\n",
      "There is no drug test required to work in retail support team\n",
      "\n",
      "Yes the drug test required to work in Retail Support team\n",
      "\n",
      "Not sure about retail , but none in receiving .\n",
      "\n",
      "I believe Mgrs do n't have the ability to guess what the associates are planning , it really is the associates has to decide do they really want to work in retail\n",
      "\n",
      "That 's the retail business .\n",
      "\n",
      "As a retail associate , in Chicago , you do n't take one .\n",
      "\n",
      "No loss prevention , I was employed at call center not retail store\n",
      "\n",
      "I do nt know about retail associates .\n",
      "\n",
      "NO , Macy 's does not hire someone with a summary of retail theft .\n",
      "\n",
      "No , because you will be working with merchandise and money on a daily basis and having to tag items you are unable to have theft crimes in your past to be qualified to work for the retail company .\n",
      "\n",
      "You could never work in retail with a retail theft offense unless you auntie or uncle works in Human Resources .\n",
      "\n",
      "Yes I believe they run background checks but I am not really sure it is retail .\n",
      "\n",
      "I worked in the IT department and was not a retail sales associate .\n",
      "\n",
      "It is pretty standard retail training things .\n",
      "\n",
      "they are separate retail stores ...\n",
      "\n",
      "I do not know what is done in retail .\n",
      "\n",
      "I had worked retail before and thought it would be nice to do something part - time once I retired .\n",
      "\n",
      "Love Retail , but not Macy 's .\n",
      "\n",
      "It is used to preserve profit for the retail company .\n",
      "\n",
      "I had 6 years of work experience in retail , but I had never dealt with such a negative job environment until Chipotle .\n",
      "\n",
      "It 's retail so , yes , you 're expected to work weekends .\n",
      "\n",
      "Many big retail chains now only use online applications and no longer take applications in person at all .\n",
      "\n",
      "Retail schedule is difficult .\n",
      "\n",
      "Retail schedule is terrible , weekends , nights , holidays .\n",
      "\n",
      "That 's the retail environment aspect though so it should n't be a surprise .\n",
      "\n",
      "Preferably one needs grocery or retail experience , with high regard to consumer satisfaction .\n",
      "\n",
      "They will hire for non theft and retail offences\n",
      "\n",
      "\n",
      " To Find a position in retail to utilities four years Of my skills and experience , , as the repaire and organized , which included and Cleaning also washing .\n",
      "\n",
      "I do n't work on the retail side , I am in manufacturing .\n",
      "\n",
      "Not at all places , but you may be able to apply at most food and retail jobs as a cashier .\n",
      "\n",
      "They offer many positions as a retail hourly associate -- dishwasher , dining room , production , cashier and bakers\n",
      "\n",
      "Retail , salon\n",
      "\n",
      "  Never knew how slippy women are in stores til I worked retail ... we can do better ladies!!! ... lol\n",
      "\n",
      "Of course , that 's to be expected at any retail store !\n",
      "\n",
      "Overall pretty easy and decent retail job .\n",
      "\n",
      "JCPenney paid $ 7.25 an hour which I think is very little compared to other retail stores .\n",
      "\n",
      "The hair and photo places only rented space from the retail giant .\n",
      "\n",
      "this is n't a call center this is a retail company\n",
      "\n",
      "Open since 1901 they have plenty of pennies to spare ... , which can give them marketing credit if they pay higher wages 15.00 per hour in the least .. they can change the face of retail employment and increase sales while doing it guaranteed .\n",
      "\n",
      "For those who are complaining , the ultimate goal in retail is to SALE product and accomplish daily sale goals .\n",
      "\n",
      "THAT 'S EVERY RETAIL COMPANY ! !\n",
      "\n",
      "If you 're not a enthusiastic and self motivated person , retail is n't for you .\n",
      "\n",
      "Retail is always changing , restructuring is a part of the culture .\n",
      "\n",
      "The retail apocalypse is alive and well at JCP\n",
      "\n",
      "Well the in the salon we have to make retail goal I alway make my goal but the other stylist do n’t then we only get retail commission if we sell in our chair .\n",
      "\n",
      "At the beginning I was afraid that the customers would be snotty and awful because you always hear those kinds of retail horror stories .\n",
      "\n",
      "The true problems of the company do not come from the actual experience of working retail .\n",
      "\n",
      "I would work retail again , retail is not the problem .\n",
      "\n",
      "Second , it is super nasty in the break room , locker area has rats .. I have worked in a lot of retail and have never been so disgusted in my life .\n",
      "\n",
      "Retail is where I belong ! ! ! ! !\n",
      "\n",
      "You 've got 90 days to prove you can work retail\n",
      "\n",
      "It looks for the outgoing well rounded person for a fast pace retail environment .\n",
      "\n",
      "Yes , as with most retail stores .\n",
      "\n",
      "It 's retail , as long as you look like you tried , I 'm sure you 'll be fine .\n",
      "\n",
      "Usually a little higher than minimum wage , which is kind of low for retail .\n",
      "\n",
      "After working retail for years , JC Penney included , we always started to clean our zone 30 - 45 min before store closing , while cashiers counted the till and turned money into office .\n",
      "\n",
      "As much as possible with a Retail Company\n",
      "\n",
      "Yes it is a good job for anyone regardless of their experiance in retail .\n",
      "\n",
      "Yes , I was hired at a higher rate than the regular starting rate because I had 8 years prior retail experience .\n",
      "\n",
      "Retail , Cashier\n",
      "\n",
      "No drug screens for this retail company\n",
      "\n",
      "I do nt know , in the retail locations they do not\n",
      "\n",
      "No choice , typical retail .\n",
      "\n",
      "I enjoyed retail .\n",
      "\n",
      "The retail environment is a competitive one and depending on your position your hours can range form 50 - 70 hours weekly .\n",
      "\n",
      "By being a strong leader in both retail and the food and beverage industries .\n",
      "\n",
      "Asking about my volunteer and how it relates to retail .\n",
      "\n",
      "Looking to work as a cashier or customer service have a lot of experience working with a customer used to work at retail store\n",
      "\n",
      "Even though I had plenty of retail experience they do n’t care about that .\n",
      "\n",
      "Need I remind you I have 3 years of recent retail experience .\n",
      "\n",
      "I got a email like a day after I applied and got my first interview it went good they were nice and the interview question were generally easy mainly customer scenarios about a time I ..... then after it was done I waited like two weeks to get a email about the second interview I went and it was going ok but it was the weirdest interview I had at a retail job she took me around the store and asked questions about a time in that area it was literally in front of everybody not that was a problem but I just never experienced that but I do have lots of retail experience idk why they make it so had to get this job I guess because they pay more than any other retailers but they are really particular on who they want I do have another interview coming up at a different location but I do n’t know if I want to take it it ’s the same every time “ we ’ll email u back ” but when u go to a target Interview you really have to be on your p ’s & q ’s and know exactly what to say .\n",
      "\n",
      "They are likely to have you information on record about that incident , it is just best to find another retail job to work at until you complete a 2 year degree in something .\n",
      "\n",
      "I never interview at the distribution center only at retail level\n",
      "\n",
      "Retail sucks where ever you go honestly\n",
      "\n",
      "Because Target is a great store but it 's for school kid 's not for me the pay and hours always cutting back \n",
      " i been in Retail for very long time from 1986 working at Target with one or two days a week so that 's not me when you have bills love my new job 7 to 5 and 6 days do n't get me wrong i love Target the hour is not good\n",
      "\n",
      "No matter what retail .\n",
      "\n",
      "retail 11 years .\n",
      "\n",
      "The only reason you do a job retail job like this is to work your way through college .\n",
      "\n",
      "I 've been in retail and specifically grocery for 5 + years and they promoted to team lead someone with barely any experience and from a different department than mine .\n",
      "\n",
      "Thank god I am out and free and NEVER going back to retail again ! ! ! ! ! ! ! ! ! ! ! ! ! ! ! ! ! ! ! ! ! ! ! ! ! ! ! ! ! ! ! !\n",
      "\n",
      "It ’s my first job in retail , and I was told that I ’d be trained before being put on any position by myself .\n",
      "\n",
      "I am tired of retail and the fact that I am on my feet for 8 hours a day and do n't like having to work until 10 or 1030 at night and be right back in at 7 or 730 the next morning\n",
      "\n",
      "College kids with etl positions , no experience in retail and power trips .\n",
      "\n",
      "Not sure I worked on the retail side !\n",
      "\n",
      "That 's with any retail , not just Target .\n",
      "\n",
      "The wage is slightly above average than any other retail company\n",
      "\n",
      "I ca nt speak for the others but i have retail experience and was offered a job on the spot .\n",
      "\n",
      "  although in the retail side there were husband and wife teams working at different locations .\n",
      "\n",
      "Standard retail interview - they 'll ask about work experience , why you want to work for Target , what kind of hours you 're expecting , nothing too out of left field .\n",
      "\n",
      "Have you ever worked retail before ?\n",
      "\n",
      "A bachelor 's degree was required to become an Executive Team Leader , but I also had previous experience in a retail environment , as well .\n",
      "\n",
      "Retail under sales would be the best for the age of 16 .\n",
      "\n",
      "It 's retail , so you may get some weekends off but expect to need to ask for them off .\n",
      "\n",
      "Just like any job in retail , it was optional\n",
      "\n",
      "All retail jobs do Drug tests .\n",
      "\n",
      "Definitely a yes if you want to work here it ’s definitely a fun job as long as you ’re ready to be in retail .\n",
      "\n",
      "We got paid every two weeks I do n't think it was enough but working in retail you do n't get alot\n",
      "\n",
      "\n",
      " You got ta have experience in some form of retail or logistic environment , if you want the baseline jobs .\n",
      "\n",
      "you ll be serving those shoppers and be working holidays because those are retail 's bussiest times .\n",
      "\n",
      "Retail job like target stores at the malls fast food restaurants\n",
      "\n",
      "Normal retail positions do not matter enough for drug testing .\n",
      "\n",
      "It seems to me that most of these reviews are from the retail side of the company .\n",
      "\n",
      "Does Goodwill hire people with a , misdemeanor even if it 's retail theft .\n",
      "\n",
      "They do not drug test retail clerks in Carmichael , CA\n",
      "\n",
      "I was located at a retail site .\n",
      "\n",
      "Biweekly , so every two weeks on a Friday like most retail jobs paid you every two weeks .\n",
      "\n",
      "Do you have past retail AND cash handling experience ? ....\n",
      "\n",
      "if not you are not eligible for this position as a Senior Retail Associate .\n",
      "\n",
      "Possibly at their retail store or production office\n",
      "\n",
      "American retail store cultural experience\n",
      "\n",
      "My orientation was short and sweet , I was on duty within an hour , however , I can not speak for conventional retail locations .\n",
      "\n",
      "IE : Warehouse workers can wear shorts due to the heat , but retail store - front workers must wear pants .\n",
      "\n",
      "None within the retail business .\n",
      "\n",
      "The company can help provide knowledge and skills needed for any job or career in retail .\n",
      "\n",
      "No it ’s retail your hours are based on business needs .\n",
      "\n",
      "  And the donations taken in and sorted is the back bone of why each retail store is successful in making money and budget .\n",
      "\n",
      "I have n't worked retail .\n",
      "\n",
      "This question is applicable to retail settings , not a call center setting like I worked , but I would say yes , more responsibility would warrant additional pay .\n",
      "\n",
      "6 weeks for the Call Center \n",
      " 3 weeks for Retail\n",
      "\n",
      "N / A I worked in the corporate office and did not experience what it is to be a retail sales associate .\n",
      "\n",
      "I was not a retail sales associate\n",
      "\n",
      "I did not work in the retail store .\n",
      "\n",
      "I do not know about the retail side of things , but I would say it is good if you also get commission .\n",
      "\n",
      "I am not familiar with retail , if you are with corporate and not getting any type of commission i would speak up .\n",
      "\n",
      "No , all work related duties are preformed at retail outlets .\n",
      "\n",
      "Again , I did not work in retail so am unable to answer this question .\n",
      "\n",
      "I actually worked customer service call center and not in retail stores .\n",
      "\n",
      "Not sure we do nt have that position in retail\n",
      "\n",
      "I worked in a Retail and we had no technical specialist in store we would do the best to our knowledge in taking care of our customer in store .\n",
      "\n",
      "I assume they work normal business hours , because they were only available during retail hours\n",
      "\n",
      "I did not work in the retail side of the company , so am not sure how the commission pay scale works .\n",
      "\n",
      "No night options for a retail location\n",
      "\n",
      "No this is on the higher end of retail jobs , you should have sales experience or a degree\n",
      "\n",
      "Never worked at the retail store worked at iqor call center as a T - Mobile customer care rep and retention re [\n",
      "\n",
      "I was never part of a retail store .\n",
      "\n",
      "I technically , did not have interview for retail store manage position .\n",
      "\n",
      "Was not in retail but I had no say when they changed my manager and role .\n",
      "\n",
      "The retail stores had uniform tee shirts , black or dark blue denim jeans , and black or pink sneakers .\n",
      "\n",
      "Their emails were ignored and at the start of the next month both men were in their new retail locations .\n",
      "\n",
      "Depends retail yes.call center no\n",
      "\n",
      "I do n't know how many hours part time retail associates get per week\n",
      "\n",
      "Depends on which location or if it ’s call center or retail\n",
      "\n",
      "Call center is one and retail is different\n",
      "\n",
      "Retail associate or outside sales account executive\n",
      "\n",
      "Retail is a better path IMO\n",
      "\n",
      "\n",
      "\n",
      " I was told by the manager that the following convictions do bar you from employment however ; anything involving violence , animal abuse or retail theft .\n",
      "\n",
      "Many of the workstations involved with retail work would be a no , I 'm 5 ft 10 in and the registers are at about chest level for me and the tables used by the groomers are at about waist high .\n",
      "\n",
      "Previous work experience in retail .\n",
      "\n",
      "From 13 years experience in retail .\n",
      "\n",
      "Previous retail experience , no experience for regular non management positions\n",
      "\n",
      "\n",
      "\n",
      " Similar Job Titles : stocker , guest service , customer service , inventory leader , clerk retail , store , associate , team member , floor associate \n",
      "\n",
      " This job summary is intended to describe the general nature and level of work associates / leaders assigned to this job perform .\n",
      "\n",
      "It depends on how much work experience you have in the retail / pet care setting .\n",
      "\n",
      "Its a standard retail background check and drug test .\n",
      "\n",
      "Asking questions is good as well as demonstrating any prior retail or animal care related experience .\n",
      "\n",
      "  Working in retail was very stressful for me .\n",
      "\n",
      "It was my first real job in retail and the worst job I 've ever had .\n",
      "\n",
      "I did n't have any experience working in retail before working at petsmart .\n",
      "\n",
      "Being a cashier was fun most days , some days it was stressful and annoying but you get that with any retail job .\n",
      "\n",
      "Depends on your retail experience .\n",
      "\n",
      "I had 5 years retail and made 9.50 an hour starting .\n",
      "\n",
      "My starting wage since i have retail , customer service , and cashier experience , was 9 dollars .\n",
      "\n",
      "Have managed 4 retail stores in Automotive Field .\n",
      "\n",
      "  Any retail job will not look kindly on major theft of cash or property as they 'd assume you 'd steal from them , as well ( this should be obvious ) .\n",
      "\n",
      "I was hired with 30 years retail management worked out to less per hour than I made in 1983 as a first year trainee .\n",
      "\n",
      "I am very interested in the job willing to work is their slot of overtime and I do have 22 plus years of retail of working in stores\n",
      "\n",
      "That happens sometimes when you work in retail , but it 's up to the individual person to decide wherher or not they are going to let a situation such as this upset them .\n",
      "\n",
      "I was told when I got hired I was going to be a store managerin training , I have been in retail for 32 years my training should have consisted of how to use Dollar Generals tools I already know how to do the job and I 'm being used and abused by the store manager right now as an assistant making $ 11 an hour to close his store every   day .\n",
      "\n",
      "I did not recieve my check until the second week of working at Dollar General , which has been par for the course in my two years of working in retail .\n",
      "\n",
      "Just like any other retail employer they expect you to be openly available .\n",
      "\n",
      "So it 's the same childish high school game at dollar general that all other retail employers play with their part timers .\n",
      "\n",
      "They wanted me to train my new boss who have not worked in retail over 10 years .\n",
      "\n",
      "If you enjoy working in retail , there are plenty of other places to work !\n",
      "\n",
      "I have 30 + years retail experience and i have never seen a company ran like DG .\n",
      "\n",
      "I have worked retail many years and see these people 's complaints at the stores I shop .\n",
      "\n",
      "  DG CEO / CFO from a customer point of view who worked retail has only one goal in mind   \" show me the money \" unfortunately I see this company going bankrupt in years to come because of greed instead of wanting to run a financially sound business .\n",
      "\n"
     ]
    },
    {
     "name": "stdout",
     "output_type": "stream",
     "text": [
      "  Then I worked my 3rd and 4th days on a clearance sale .... with a new key holder .. who had zero retail or managerial experience .\n",
      "\n",
      "Dollar General is just like every other retail employer .\n",
      "\n",
      "Management is just as sketchy as at any other retail company .\n",
      "\n",
      "\n",
      " You could tell the store manager had no experience in retail .\n",
      "\n",
      "This is a warning for anyone enrty level or advanced in retail DO NOT WORK FOR DOLLAR GENERAL ! ! ! !\n",
      "\n",
      "Bi weekly , maybe a year , if you like retail you 'll fit in just fine .\n",
      "\n",
      "I have lots of retail and customer service experience and management experience\n",
      "\n",
      "I have a retail fraud   misdemeanor   it was 8 years ago do u think dollar general will hold that against me\n",
      "\n",
      "This is retail not warehouse .\n",
      "\n",
      "Retail experience\n",
      "\n",
      "Plus it does n't hurt if you are young and / or a sketchy character .. a retail employers delight .\n",
      "\n",
      "You will not be hired for a retail position if you have a theft charge .\n",
      "\n",
      "This goes for most if not all retail jobs .\n",
      "\n",
      "It 's a typical retail job .\n",
      "\n",
      "Theft and retail will never work\n",
      "\n",
      "I would like to work in retail again .\n",
      "\n",
      "Not sure but if there 's any misdemeanor or felony on your record in Mississippi / Alabama area do n't expect to work for DG or any other retail companyunless it happens while you 're working for them .\n",
      "\n",
      "Not sure but if there 's any misdemeanor or felony on your record in Mississippi / Alabama area do n't expect to work for DG or any other retail companyunless it happens while you 're working for them .\n",
      "\n",
      "and lower prices than retail stores\n",
      "\n",
      "You need a clean record and some experience in retail would be preferable\n",
      "\n",
      "Dollar General is a retail store that allows me to transfer to wherever I need to be .\n",
      "\n",
      "There is a policy stating that you can not work for another retail company ,\n",
      "\n",
      "The same as any retail store\n",
      "\n",
      "\n",
      "\n",
      " They are a few national brand name pharmacy drug stores and are not large building as regular retail stores and it 's easier costumer service for me and the general public .\n",
      "\n",
      "\n",
      "\n",
      " I remember in the month of December I 'd watched the local news report   and one of the national shopping malls and retail stores had over 1,000 to 50,000 of store costumer shopping during the holiday season and some of the costumers   was severally injured and a few related in death because they were overly anxious to purchase the sale items for family members .\n",
      "\n",
      "  It 's pretty typical of the Way retail schedules employees .\n",
      "\n",
      "A Typical retail job .\n",
      "\n",
      "Was at warehouse not retail store\n",
      "\n",
      "NO THIS IS A RETAIL STORE\n",
      "\n",
      "Walgreeen 's clerks and employees as of september 2016 start off at 8.50 an hour , photo specialists are paid the same ; and as for Pharmacy interns , i have never been an intern at any retail pharmacy or any pharmacy in general , but i believe if they have completed the exam to be accepted into Pharmacy school , they can begin an internship at walgreens / cvs / target / cub pharmacy .\n",
      "\n",
      "i get it is retail but give me a break 6 day work week with no extra salary .\n",
      "\n",
      "I feel that I can do great things with my life , and I do n't want to waste the potential working at a retail chain .\n",
      "\n",
      "Went back to automotive retail\n",
      "\n",
      "If you are PTCB Technician and have had 9 years experience with another retail pharmacy , what do you think the starting rate would be ?\n",
      "\n",
      "In comparison to other retail chains , Walgreens starts Tech off LOW !\n",
      "\n",
      "I started at 10.50 , got a $ 1.00 after my certification was received , there was a national raise for technicians for Walgreens a few years ago that they only gave to a certain group for some reasons , do n’t recall for what or being one of the ones who got it but all in all when everything is added my raise in pay have averaged a $ 1.00 or more for each year I have been with the company ( coming up on 5yrs ) and while I ’m sure I ’m coming to the cap after this year , as a regular pharmacy tech in retail I ’m certain I will be making more than $ 16 an hour .\n",
      "\n",
      "\n",
      " never work in Retail but i m willing to take trauning to adhere my purpose as Pharmacy Clerk and Cashier .\n",
      "\n",
      "If they are conducting a background check it would be to confirm education , and affirm there is not prior criminal history , such as retail theft .\n",
      "\n",
      "With over 35 years in customer service and retail management , I received only 9.00 an hour to start .\n",
      "\n",
      "Did not work for the retail store\n",
      "\n",
      "However , life work balance is average for a retail pharmacy .\n",
      "\n",
      "Yes , at all retail pharmacies\n",
      "\n",
      "Lots of turnover in retail .\n",
      "\n",
      "I worked in the retail section .\n",
      "\n",
      "Stay away from retail .\n",
      "\n",
      "No , I worked in store retail\n",
      "\n",
      "I did not work in a retail environment\n",
      "\n",
      "Retail Sales representatives for Verizon Wireless end up making anywhere from 10 - 14 dollars an hour .\n",
      "\n",
      "Retail makes nothing .\n",
      "\n",
      "I did not work in retail sales for Verizon .\n",
      "\n",
      "Retail I am not sure off .\n",
      "\n",
      "Unsure as to what the retail sales reps make , but field technicians make an average of ~$25 per hour\n",
      "\n",
      "Not sure , I work in the retail location\n",
      "\n",
      "Hours are based upon retail hours for mall .\n",
      "\n",
      "Unknown as position was in retail store setting .\n",
      "\n",
      "Not sure about corporate stores but I worked a t an authorized retailer as a sales consultant and I have 2 drug related felony and also a retail theft misdemeanor .\n",
      "\n",
      "If there were further problems or issues they were referred to the Verizon retail store , we were just an indirect dealer store .\n",
      "\n",
      "I am looking to get back into a call center atmosphere and retail is the only Verizon opportunity in my area at this time .\n",
      "\n",
      "  I work in the retail store .\n",
      "\n",
      "At a retail location , tattoos are expected to be covered as much as possible .\n",
      "\n",
      "Sporadic retail hours , but always full time .\n",
      "\n",
      "Typical retail hours .\n",
      "\n",
      "Sorry , meaning :   is it a set \" 9 - 5 \" schedule or more of a random , typical retail associate schedule ?\n",
      "\n",
      "If a sales position , phone selling experience helps , but other retail sales will help .\n",
      "\n",
      "Wireless retail\n",
      "\n",
      "90 % of retail business is though walkins\n",
      "\n",
      "Retail locations are not the same as corporate stores\n",
      "\n",
      "Enterprise Rentals and all retail of all equipment.and electronic store 's .\n",
      "\n",
      "  I know in retail they did not .\n",
      "\n",
      "Customer Service Rep may have worked in a retail store vs Call Center Reps work either as a home based agent or in a physical call center .\n",
      "\n",
      "I worked in a Wireless Retail Location .\n",
      "\n",
      "Retail customer service does not equate to the outside elements from traditional union representative outside staff .\n",
      "\n",
      "  Verizon does give a decent amount of vacation and personal time to help make up for these awful retail hours .\n",
      "\n",
      "Does not apply to retail environment\n",
      "\n",
      "4 x 10 hours are not allowed in the retail environment , this may be different in non - facing roles\n",
      "\n",
      "I was n't a retail sales associate so I do n't know what the commission sturcture was .\n",
      "\n",
      "It takes one year in retail to be able to apply with Pepsi .\n",
      "\n",
      "In retail\n",
      "\n",
      "They asked my history of work , how i am with customers and i have worked retail for 6 plus years and customer service 8 plus years , i should of been a manager but they did nt care !\n",
      "\n",
      "I was offered $ 13 hr and I did n’t have a single bit of retail experience\n",
      "\n",
      "Yes retail theft , crime\n",
      "\n",
      "Sadly No , but if you think about it Family Dollar is a Discount Retail , unlike Big Box such as Walmart and Target .\n",
      "\n",
      "I strongly suggest to Family Dollar to clean , stock , organize , familiarize employees with product , and have some    kind of strive to create an attractive atmosphere full of eager energetic employees , grant your employees the hours necessary to establish a proper functioning retail store instead of an upside down chaotic danger zone .\n",
      "\n",
      "I strongly suggest to Family Dollar to clean , stock , organize , familiarize employees with product , and have some    kind of strive to create an attractive atmosphere full of eager energetic employees , grant your employees the hours necessary to establish a proper functioning retail store instead of an upside down chaotic danger zone .\n",
      "\n",
      "Like most retail companies they need to take better care of the store level employees with better pay and benefits .\n",
      "\n",
      "How many years of retail do you have experience in ?\n",
      "\n",
      "Apply for store manager position based off of interview and business knowledge of small box retail is where you ’ll be placed as far as Training and Store position\n",
      "\n",
      "I learned alot about stocking and retail .\n",
      "\n",
      "Yes , most retail jobs do a drug screen before hiring their associates .\n",
      "\n",
      "No we do not hire thieves in retail\n",
      "\n",
      "Since family dollar requires you to handle merchandise and large amounts of money in a retail setting there is policies against the hiring of any convicted theft charges .\n",
      "\n",
      "They are part of retail program where they can list of you were fired for theft , also checks criminal record .\n",
      "\n",
      "Its good , but with any retail location it can always be better\n",
      "\n",
      "Have you had retail experience and how long ?\n",
      "\n",
      "    What was my retail experience ?\n",
      "\n",
      "All the interview questions are to ascertain if you know the basics of retail and customer service .\n",
      "\n",
      "  Be honest , and remember that in retail , the customer comes first -- after safety -- and be energetic , happy , and optimistic .\n",
      "\n",
      "They do prefer that you have some sort of retail experiences , or at least some experience in the department you are applying for .\n",
      "\n",
      "At the end of the year the bonus depended on how much retail theft , sales , and injuries\n",
      "\n",
      "Hours not the hours I want to work , but is a retail store .\n",
      "\n",
      "Typical retail\n",
      "\n",
      "Dynamic exciting place to work where things are constantly changing to keep up with the hectic retail market\n",
      "\n",
      "The same goes for tops - with a presentable appearance for a retail employee encouraged by management .\n",
      "\n",
      "I am not a dedicated tractor trailer driver ... I am just a retail worker .\n",
      "\n",
      "I worked at a retail store I was not a driver\n",
      "\n",
      "The hours were wonderful - my employer did her best to make sure my family needs were met in a retail setting .\n",
      "\n",
      "I do nt know I worked retail\n",
      "\n",
      "I was not a driver or a helper , I worked in the retail store\n",
      "\n",
      "UPS Retail stores have driver pick up\n",
      "\n",
      "It 's normal to have a competitor just to compare the retail price , walmart still has the good price ....\n",
      "\n",
      "Same retail   worse\n",
      "\n",
      "  Either this position or as a retail sales associate .\n",
      "\n",
      "  Same stuff happening across the board prolly district an regional ,   managers , assistants , if you get frustrated learning it on your own imagine how someone new feels who never worked retail ! ! !\n",
      "\n",
      "Lots of benefits but it could be much better since Walmart is a large retail store they want to get the cost less .\n",
      "\n",
      "Even though I have retail experience years ago .\n",
      "\n",
      "Not sure but you do n't at the retail store\n",
      "\n",
      "5th shift in Plainview , TX is 5pm-5am only at DC not retail\n",
      "\n",
      "I worked in a retail department store .\n",
      "\n",
      "I have n't worked at the distribution center , only the retail store\n",
      "\n",
      "I have no idea i have worked for the retail stores only .\n",
      "\n",
      "We actually had a Store Manager who had no retail experience .\n",
      "\n",
      "High school diploma , experience in sales and retail\n",
      "\n",
      "No more then the average retail position .\n",
      "\n",
      "They make it really difficult to get an initial interview process even after I   told them have years of previous experience in retail .\n",
      "\n",
      "  Friday , Saturday , and Sunday are especially important in retail .\n",
      "\n",
      "I need to apply for relative jobs since I have experience in retail and would help me get hired more quickly .\n",
      "\n",
      "In Wisconsin its very clear by Legislative intent in state statute for retail theft-(3 )   A merchant or service provider , a merchant 's or service provider 's adult employee or a merchant 's or service provider 's security agent who has reasonable cause for believing that a person has violated this section in his or her presence may detain , within or at the merchant 's or service provider 's place of business where the suspected violation took place , the person in a reasonable manner for a reasonable length of time to deliver the person to a peace officer , or to his or her parent or guardian in the case of a minor .\n",
      "\n",
      "In order to do any retail stop for loss prevention one must witness the shopper steal something first off .\n",
      "\n",
      "The immunity stated in statute will not apply because the policy - custom - practice checking a persons recipe and shopping cart items and stopping them to do so fails specific   legal   elements   by Wisconsin law allowing a retail theft stop .\n",
      "\n",
      "Order fillers employees of retail or wholesale companies who generally focus on the accurate packing and shipping of customers ' purchased materials .\n",
      "\n",
      "  I work in a retail environment .\n",
      "\n",
      "To find a well respected job that is not retail .\n",
      "\n",
      "Good place to start in retail if you are willing to have no family life .\n",
      "\n",
      "I thought that ’s what retail is about by providing the best customer service so customers are actually happy .\n",
      "\n",
      "Because some hospital and retail pharmacies are open 24 hours a day , technicians may work varying shifts .\n",
      "\n",
      "Yes as long as it is n't retail theft\n",
      "\n",
      "It takes Wal - Mart about a week up to sixty days to do a background check which can take a while because they tend to be extensive since they want to know a lot about their employees before they just pull you in even if it 's just a retail job .\n",
      "\n",
      "The assessment provided me with a better understanding of the retail associate role .\n",
      "\n",
      "As far as I know there is no shift differential for any of the positions at the retail level .\n",
      "\n",
      "I have 2 misdemeanors on my background is it possible that the second misdemeanor would it being a pending retail theft case will I still be able to get the job and it 's over an year old\n",
      "\n",
      "No because its the biggest retail company in the world\n",
      "\n",
      "No they do n't because its the biggest retail business\n",
      "\n",
      "No part of the proper attire to work in a retail enviroment that requires you to lift and pull objects to accomplish your daily task\n",
      "\n",
      "No I would not return back to retail .\n",
      "\n",
      "They will not hire someone with retail fraud on their record .\n",
      "\n",
      "No retail fraud on my records\n",
      "\n",
      "If you have been to jail for stealing or doing other stupid things like most people you will not have a job in Retail period .\n",
      "\n",
      "If you know the hours , you can appropriately manipulate the system to achieve a consistent schedule even in a retail work environment .\n",
      "\n",
      "I feel like every person in the world should at least experience a Retail Job , it 's an excellent motivator to show young people exactly what you DON'T want to be doing for the rest of your life .\n",
      "\n",
      "i have worked in retail sales and jobs that require me to work with customers and people a good amount and you re going to meet people from all walks of life regardless so you might as well accept it , go with the flow , and enjoy your time at work .\n",
      "\n",
      "While employed at Walmart , it was some of the most learning experience and on hand training I 've gotten from a retail store .\n",
      "\n",
      "Walmart offers a lot opportunities to advance if working in retail is really what you want to do .\n",
      "\n",
      "  I work at retail , and we handle money all the time .\n",
      "\n",
      "Unknown , i work at a retail location , not a distribution center\n",
      "\n",
      "Dress casual and the interview is very intense questions that are easy to answer if you have worked in retail before .\n",
      "\n",
      "Several retail positions available from management to the department employees\n",
      "\n",
      "\n",
      " not retail .\n",
      "\n",
      "You maybe can work in the retail stores .\n",
      "\n",
      "If you are working in one of Walmart 's retail stores .\n",
      "\n",
      "You will not be allowed to work in any other retail store .\n",
      "\n",
      "No , as a apa for Walmart you could not work in another retail store in operation and not in the same town\n",
      "\n",
      "Second , the Healthy Retail Employee Act requires that retain employees be given a non - working shift break .\n",
      "\n",
      "I am not in TN but most Walmart retail stores in the US only drug test for certain positions , such as mgt , auto care , security and maintenance except for accidents or suspicion .\n",
      "\n",
      "No surprise that all around me I saw longtime retail workers hobbling and limping .\n",
      "\n",
      "Yes it ’s retail you should expect to work weekends at some point .\n",
      "\n",
      "To the best of my knowledge both employees get drug tested , which is pretty standard in retail .\n",
      "\n",
      "All WalMart Retail stores that I am aware of pay bi - weekly for hourly .\n",
      "\n",
      "I was hired with an old domestic misdemeanor   charge when looking for work with a background make sure it does n't apply to the job i.e. retail theft , robbery .\n",
      "\n",
      "Great experience , learned everything I need to know about retail .\n",
      "\n",
      "No , employees can not have retail Freud on your record .\n",
      "\n",
      "I had no retail experience when I started .\n",
      "\n",
      "Retail is not for everyone , but anyone can excel with hard work .\n",
      "\n",
      "Yeah you have to take a 75 question test and or have at least 2 to 3 years related experience in retail or retail management .\n",
      "\n",
      "They will , but do n't tell them that you have another retail job , as they will tell you they do n't work with other schedules .\n",
      "\n",
      "  I been working retail since 2012 for the same company being a manager .\n",
      "\n",
      "I never really had a bad experience with a customer in retail most customers that I worked with have been very respectful and very understanding\n",
      "\n",
      "It is retail .\n",
      "\n",
      "Yes , having retail experience will help you achieve a higher starting salary .\n",
      "\n",
      "I left to go experience new retail opportunites that were closer to the place I was living at the time .\n",
      "\n",
      "Yes , it 's retail .\n",
      "\n",
      "It 's retail .\n",
      "\n",
      "They provide a much higher pay grade than is typical with retail .\n",
      "\n",
      "Working in retail on Black Friday is the same everywhere .\n",
      "\n",
      "I worked the past Black Friday and as in all Retail operations , Customers are rude and obnoxious because of waiting in lines or lack of products .\n",
      "\n",
      "My previous money and retail experience .\n",
      "\n",
      "Hey its retail .\n",
      "\n",
      "Yes , felonies are another issue especially retail shoplifing\n",
      "\n",
      "Maybe they 've never been a manager but they have several years of retail under their belt .\n",
      "\n",
      "If you 've had any retail including customer service experince\n",
      "\n",
      "Hire me .... my application for some reason keeps getting lost ... I have multiple years of experience in retail and restaurant\n",
      "\n",
      "You get an interview , they ask you questions about retail and your experience in leadership .\n",
      "\n",
      "It 's like any retail store ... people will ask you for help and your job title tells you that you must at least bare minimum direct them to the section .\n",
      "\n",
      "You 're better of working in luxury retail .\n",
      "\n",
      "I would also close the store a little early cause for a retail store to close at 2 am and you are there until 3 am is dangerous i think closing the store at 11 is ideal cause then you can spend at least a hour and a half closing the store which led you guys to at least be out of there by 12;30am .\n",
      "\n",
      "No :( , you must be 18 to work at H&M. It is also preferred that you have a year or more in retail experience .\n",
      "\n",
      "If I get the job it will be my first retail job .\n",
      "\n",
      "Yes I plan on working retail .\n",
      "\n",
      "Job retail sales\n",
      "\n",
      "Its ok , like any other retail job , there are job requirements ( rev per hour ) which you have to maintain 100 % of the time and keep track of it\n",
      "\n",
      "This was my first retail job , and that term did not come up during my time there .\n",
      "\n",
      "I m a previous recruiter from best buy , they did eliminate drug screens for most positions , but positions that are dealing with safety like warehouse or non retail positions still require it unfortunately\n",
      "\n",
      "Standard retail questions\n",
      "\n",
      "Yes it is required in retail\n",
      "\n",
      "Nothing really just a retail spot\n",
      "\n",
      "Nothing really just a retail spot\n",
      "\n",
      "For Seasonal you may have a better chance of employment but for any other time of the year retail experience is key .\n",
      "\n",
      "Almost the stand interview questions that come with retail .\n",
      "\n",
      "Retail , sales situations , customer experiences\n",
      "\n",
      "They are more than willing to work with your availability as a they are a retail company and expect their employees to seek advancement in their careers .\n",
      "\n",
      "With all retail places , there are still time limits where things need to be done , and sometimes it can get somewhat crazy with the amounts of work that gets left over for the next day\n",
      "\n",
      "I feel like they have a chance to turn around their business , they 're taking shares of consumers from toys r us , which is okay but it wo n't save the company , people tend to go to best buy to try out the devices then go to the Death Star of retail ( amazon ) and make their purchase .\n",
      "\n",
      "I worked for corporate not retail .\n",
      "\n",
      "10 - 2 2 - 10 retail hours\n",
      "\n",
      "There are no back office positions at the store level in retail anymore .\n",
      "\n",
      "With 20 years retail management experience at well - known companies ,   received generic email saying experience does not match job requirements .\n",
      "\n",
      "\n",
      " They both want me to join their team , but I would have to take a pay cut.pros and cons ... \n",
      " I will be called for another interview the the actual coordinator in charge will be calling me , I hope \n",
      "\n",
      " I wish that they would go by your experience \n",
      " But no matter what retail store it is , you have to start at minimum wage and work your way up ..\n",
      "\n",
      "  I worked at T.j .. Maxx for three years as retail Merchandiser\n",
      "\n",
      "I could work anytime from 7 a.m. to 10 p.m.   it 's retail   so 7   days a week .\n",
      "\n",
      "I could work anytime from 7 a.m. to 10 p.m.   it 's retail   so 7   days aweek .\n",
      "\n",
      "I feel good it does n't bother me working every day , sometimes it can get annoying working every single day , but if you are passionate about retail , then this is the job for you\n",
      "\n",
      "Do you have any retail experience ?\n",
      "\n",
      "Every retail job comes with its share of drama .\n",
      "\n",
      "In retail , you experience both coworkers and customers that are n't the nicest people in the world .\n",
      "\n",
      "  There 's always something new to learn in the world of retail .\n",
      "\n",
      "It 's VERY EASY , if you have done a similar assessment for other jobs in retail , management , etc .\n",
      "\n",
      "I DID NOT DEAL WITH THE RETAIL END OF THE BUSINESS .\n",
      "\n",
      "Not sure work in retail\n",
      "\n",
      "  During the holidays when lines are long forget about being relieved for breaks ,   You are n't allowed to display anything individually creative or personal ( ie -family photos , doodles , generic calendars , flowers at your retail window computer , etc ) .\n",
      "\n",
      "They should take zero credit for any profit because USPS owns the monopoly on letter mail and thus every other retail transaction follows .. to work and stay with the USPS an employee must have a high tolerance for toxicity and unorganized chaos !\n",
      "\n",
      "I had a felony retail theft 5 years ago due to an addiction problem .\n",
      "\n",
      "You will take calls for a company based on your skills ( retail , tech troubleshooting , etc ) - they often hire for multiple companies at a time .\n",
      "\n",
      "Retail \n",
      " USSA- banking\n",
      "\n",
      "Typical retail questions .\n",
      "\n",
      "I 'm not sure about corporate offices , I work at a retail department .\n",
      "\n",
      "They do a \" retail background \" I believe .\n",
      "\n",
      "Most retail places do n’t\n",
      "\n",
      "I am not sure .... never worked as retail associate\n",
      "\n",
      "Do you have retail experience\n",
      "\n",
      "Working in retail has its ups and downs .\n",
      "\n",
      "Pretty straightforward and the standard questions asked of retail sales associate jobs .\n",
      "\n",
      "this is Dollar Tree - competitors in retail !\n",
      "\n",
      "The person with more hours may have a lot more experience in retail then the person who has been working there for the year .\n",
      "\n",
      "First retail company I ’ve ever worked for with no drug testing .\n",
      "\n",
      "The world of retail .\n",
      "\n",
      "Did n't have any experience in retail and still hired me .\n",
      "\n",
      "Drug charge would have been fine , retail theft ... no\n",
      "\n",
      "What your experience is have you worked in retail are you able to work holidays .\n",
      "\n",
      "Which I admit is really going to be tough ) I am heavily pierced and have extensive retail management experience which I will be working towards .\n",
      "\n",
      "If you have any record of theft unfortunately you are not able to work in may retail environments where it is expected to be in charge of financial transactions\n",
      "\n",
      "Experience in retail and a need for a job\n",
      "\n",
      "Supports the manager in the daily operations of a retail store .\n",
      "\n",
      "Turn over in retail customer service jobs would be norm .\n",
      "\n",
      "  Must have type of experience is perferred to work in a retail environment .\n",
      "\n",
      "Not familiar with this position as it is located with the retail stores .\n",
      "\n",
      "That 's fine if you do n't have retail experience as long as you have experience in customer service .\n",
      "\n",
      "I do not know rate of rate with no experience as I have 15 + years retail\n",
      "\n",
      "  Retail is a dying industry , and in truth , this is a good thing as it promotes the poorest behavior imaginable out of human beings .\n",
      "\n",
      "I had no idea why they worked in retail .\n",
      "\n",
      "Lowes a couple of years ago was a great place to work I enjoy getting to know retail and store operations .\n",
      "\n"
     ]
    },
    {
     "name": "stdout",
     "output_type": "stream",
     "text": [
      "  I found one of the MOST DIFFICULT parts of my job was being an INTERIOR DESIGNER IN A RETAIL ENVIRONMENTAL .\n",
      "\n",
      "\n",
      "\n",
      " The store manager sets the culture and our store 's manager came from a VP Operations position ( when his layer of mgmt was eliminated ) , with apparently little front line retail experience , resulting in poor accountability for co - workers .\n",
      "\n",
      "if you 've worked in retail , you 'll make more than the base pay . )\n",
      "\n",
      "Because it is retail and not many people can maneuver their lives to fit their job .\n",
      "\n",
      "If I remember correctly , no experience was required to work there , but it definitely would n't hurt to have a little retail and customer service experience if possible .\n",
      "\n",
      "I have a retail 8 yrs ago will it show up om back ground\n",
      "\n",
      "\n",
      "\n",
      " \n",
      "  Though my experience has been in construction , retail , automotive , \n",
      " and gas sales , in operating my own businesses I have acquired the ability \n",
      " to adjust and conform to all and any business environments .\n",
      "\n",
      "It Is Retail .\n",
      "\n",
      "Yes , this is the season when retail companies hire .\n",
      "\n",
      "They wo nt hire if you have a misdemeanor is a retail store\n",
      "\n",
      "\n",
      "\n",
      " \n",
      "  Though my experience has been in construction , retail , automotive , \n",
      " and gas sales , in operating my own businesses I have acquired the ability \n",
      " to adjust and conform to all and any business environments .\n",
      "\n",
      "Yes ,   This is a retail operation so the full - time employees worked different shifts a did everybody else .\n",
      "\n",
      "I if you like retail and can handle the stress then go for it\n",
      "\n",
      "Retail - helping others\n",
      "\n",
      "I had a family emergency and was tired of working in clothing retail\n",
      "\n",
      "Or retail just is n't for me .\n",
      "\n",
      "  If you have any experience with retail , at all , you will be quick to become frustrated .\n",
      "\n",
      "But working at a retail clothing store is preferred .\n",
      "\n",
      "Have you worked in retail before ?\n",
      "\n",
      "Yes , best place to start if you never worked retail or if its your first job ever .\n",
      "\n",
      "Most likely yes , but they are definitely in need of people who work on the weekends ( as that is usually the busiest time for retail stores ) and are more likely to hire someone with weekend availability over someone who does not .\n",
      "\n",
      "The work place was pretty good except sometimes the retail workers that closed did n’t clean up the store very well .\n",
      "\n",
      "Retail is a joke .\n",
      "\n",
      "The fitting room is a difficult job in a retail store .\n",
      "\n",
      "They will throw at retail lingo so be up to date .\n",
      "\n",
      "They start off by asking what experience do you have in retail .\n",
      "\n",
      "Online or at a retail shop\n",
      "\n",
      " \n",
      "\n",
      " nobody should tell a cook too freak off ( ca n't cuss on here ) because when you put your personal   food on the grill it 's right by   the uncooked meat i would n't say ill would do it but do n't mess with someone that cooks food do n't mess with them \n",
      "\n",
      " it 's a great company too work for if you find good people too work with mostly my job is great i just do n't talk too 2 people to   at work because i see thru them like glass i knew right off the bat what kind of people they are and if you are working with people you do n't like just stick it out because the job will help with other jobs you get if your into music jobs like this ( fast food , retail ) will help you focus on people skills and help you know how too read people .\n",
      "\n",
      "And yet 4 of my facebook friends were hired with very little experience in retail .\n",
      "\n",
      "Instead of using a pallet jack as the rest of the modern retail world does , which would result in two people unloading a full semi ( roughly 8 K pieces ) in approximately an hour , about a third of store staff spends half the day doing it box by box .\n",
      "\n",
      "It is retail .\n",
      "\n",
      "No retail experience needed\n",
      "\n",
      "No previous retail experience required .\n",
      "\n",
      "No previous retail experience is necessary or any other experience .\n",
      "\n",
      "I have 20 years experience in retail .\n",
      "\n",
      "How long have you worked in retail ?\n",
      "\n",
      "This I am not sure of but I feel that credit should n't effect a retail warehouse .\n",
      "\n",
      "I WILL be leaving HL , as I have NEVER in my twenty years in retail seen such a disaster at the Mgmt level , or felt a COMPLETE disregard for whether or not I sleep , see my family , go to Worship ( we end up working a lot of Sundays due to the GM 's incompetence ) , etc .\n",
      "\n",
      "For management positions we require you to have several years of previous retail management experience , preferably big box retail .\n",
      "\n",
      "During holiday time 32 hours is considered part - time hours , every other retail business I 've ever worked for listed 30 - 40 hours is FULL_TIME .\n",
      "\n",
      "  Hobby Lobby advertises that they promote from within ( and there are some individuals at management levels above the store that seem to prove that ) , but most store level managers are recruited from other retail box stores , and assistant managers and below rarely see opportunity for advancement .\n",
      "\n",
      "\n",
      " Retail margin = 300 % \n",
      " Remember all products are from over seas \n",
      " The margin for jewelry is 1000 % and over yes believe this over 1000 %\n",
      "\n",
      "All retail locations start at around 13 - 15 an hour\n",
      "\n",
      "Seeking employment outside of retail .\n",
      "\n",
      "If associates brings with them experience in sales or retail they have the potential to start at a higher salary .\n",
      "\n",
      "They do consider previous retail experience when hiring and that should be reflected in salary .\n",
      "\n",
      "There were no \" night shifts \" for retail associates but as a supervisor during events I was required to stay as late as 2AM .\n",
      "\n",
      "No , weather the interview is for retail or office job always wear appropriate interview outfits .\n",
      "\n",
      "A bookseller is what another retail store would call a \" sales associate . \"\n",
      "\n",
      "A modern day slave aka a retail job\n",
      "\n",
      "No retail experience needed\n",
      "\n",
      "Since it is retail they are always busy and need reminders .\n",
      "\n",
      "That 's the nature of retail jobs .\n",
      "\n",
      "Standard experience in retail is helpful though .\n",
      "\n",
      "Its retail , so just be prepared for the customers .\n",
      "\n",
      "Retail stores will accept around 13 applicants in order to get as much help as possible during a busy time of the year .\n",
      "\n",
      "It ’s the best retail environment you could ask for .\n",
      "\n",
      "It was no different from other retail companies .\n",
      "\n",
      "A love for fast - paced retail and a love for books , mags and music ..\n",
      "\n",
      "Heck yea , this job will provide seniors a great oppurtunity to work on communication skills and retail\n",
      "\n",
      "It 's basically a retail job like any other .\n",
      "\n",
      "Yes , Barnes & Noble hires older workers in their retail stores .\n",
      "\n",
      "No , no experience in retail or in cooking is required .\n",
      "\n",
      "After ten years I quit because I finally found a good job outside the food service/ retail industry .\n",
      "\n",
      "Ok , same as any other retail or fast food chain i suppose\n",
      "\n",
      "Always retail and suggestive sell .\n",
      "\n",
      "Absolutely , I do not think a felony automatically eliminates you , however , I would assume it depends on the felony ( theft would probably be seen as more serious because it is a retail store , etc . )\n",
      "\n",
      "What is the salary for both positions   retail and a salon market trainer ?\n",
      "\n",
      "I just do n't want to work retail my entire life .\n",
      "\n",
      "Yes a 25 % discount off retail items , and 50 % off salon services\n",
      "\n",
      "Previous retail experience is a plus .\n",
      "\n",
      "Any retail establishment has you count your opening and closing cash - that is basic cash handling expectation and the only way to count daily cash flow .\n",
      "\n",
      "No retail experience is required .\n",
      "\n",
      "no i have plenty of retail experience .\n",
      "\n",
      "No - I did n't have any retail background when I got hired .\n",
      "\n",
      "All i can say is that each individual vendor brand has goals , the prestige section and \" retail \" side also have individual goals .\n",
      "\n",
      "Do you have any retail experience ?\n",
      "\n",
      "  I work at the Distribution Center , not at a Ulta Beauty retail store .\n",
      "\n",
      "From there its a fairly standard retail interview , talk about the positions open , your availability , etc .\n",
      "\n",
      "With an advanced degree , I would n't suggest getting into retail , unless you want to get even higher in the company , then I would suggest starting at the bottom and working your way up .\n",
      "\n",
      "Since a lot of the tasks and duties required from Store Management at Safeway include store operations such as inventory management and cash handling , corporate would most likely promote from within or select a candidate with retail experience ( of some kind ) .\n",
      "\n",
      "I Will not consider retail after 42 years in the industry\n",
      "\n",
      "Food Service and Super Retail labor is what I believe to be the worst level of labor for the ordinary career .\n",
      "\n",
      "The Retail Clerks used to be , not sure if they still are and the truck drivers still are .\n",
      "\n",
      "National Service Center / Retail Operations Call Center employees receive wages via Direct Deposit .\n",
      "\n",
      "You work everyday if they need you but usuall you have 2 days off in the week and it 's retail so nonset schedule and def no weekends off .\n",
      "\n",
      "This is a retail business ... of course you work on weekends and the most of the holidays !\n",
      "\n",
      "It 's retail .\n",
      "\n",
      "Yes every Retail Company in ( Springfield Ohio is open weekends ) i think that Kohl 's closes at 6:00 on Sunday .\n",
      "\n",
      "As for the work schedules , it 's retail so its never the same set schedule each week .\n",
      "\n",
      "than other retail stores , so prior manager / retail experience is not necessarily advantageous .\n",
      "\n",
      "Lifting and stocking is usually part of any retail job and not just Aldi .\n",
      "\n",
      "What   a waste of time got   to my working trial which should have lasted about 2 hours management could n't be bothered and just showed me around for half hour how can that be a work   trial so they get to know me and then turn me down   by email even though   I got over 20 years of retail experience\n",
      "\n",
      "I was a body builder and still in great shape and have had 10 years   of retail experience .\n",
      "\n",
      "\n",
      "\n",
      " Retail experience ?\n",
      "\n",
      "It depends on the location and whether you are part - time or full - time but this is retail .\n",
      "\n",
      "No , they want people who are already ready to work and have some training with other retail organizations .\n",
      "\n",
      "Does n't prepare you for the reality of working in extremely fast - paced retail environment .\n",
      "\n",
      "Apply on line or at a local retail store .\n",
      "\n",
      "Bear in mind however that I have over 8 years experience in retail including 4 of which as a store manager .\n",
      "\n",
      "Not for retail theft or shoplifting\n",
      "\n",
      "I applied to Aldi district manager position with over 15 years retail managment experience where I was responsible for a multi million dollar group of stores .\n",
      "\n",
      "Other retail companies offer much more vacation then Aldi .\n",
      "\n",
      "Did nt work in a retail store\n",
      "\n",
      "They are picky because they want some with retail experience and open availability\n",
      "\n",
      "I have over 15 years of grocery retail experience .\n",
      "\n",
      "This is a retail job where you 'll be handling hundreds , sometimes thousands of dollars each day .\n",
      "\n",
      "There are several ways to decrease turnover , increase employee morale , and make people actually want to stay longer working for this company in order to truly make it stand out apart in the market from lots of other retail corporations .\n",
      "\n",
      "I ve never seen a retail job where they took 3 months to hire you from the first interview .\n",
      "\n",
      "I 've worked in retail for over 10 years .\n",
      "\n",
      "Basic retail questions\n",
      "\n",
      "I personally do n't like working in retail , and especially during the holiday season , it gets crazy in the store .\n",
      "\n",
      "This was not the best retail experience .\n",
      "\n",
      "The starting pay is $ 10 an hour for the retail associates .\n",
      "\n",
      "NO , BUT SOME RETAIL OR CUSTOMER SERVICE EXPERIENCE IS REQUIRED .\n",
      "\n",
      "Not true , like any high - end retail job they care about if you had previous retail experience .\n",
      "\n",
      "No necessary \n",
      " Retail   experience always help in the company golds\n",
      "\n",
      "However , I did have a few years of retail experience with cosmetics so I was used to selling products and credit .\n",
      "\n",
      "Yes , retail management required\n",
      "\n",
      "Yes in retail\n",
      "\n",
      "They prefer that you have some sort of customer service or retail related experience .\n",
      "\n",
      "I am starting training for the company on Wednesday in AZ and they are starting me at $ 10 ; I have retail experience\n",
      "\n",
      "Retail is usually part - time only , unless you work seasonal .\n",
      "\n",
      "Second interview is with the General Manager and is like any other retail interview , looking for dedicated workers .\n",
      "\n",
      "Yes , it is a retail company that does do a background check in some capacity .\n",
      "\n",
      "Usually in retail any time of day weekends and holidays .\n",
      "\n",
      "\n",
      " if you work in retail stores before .\n",
      "\n",
      "Fun and educational on the retail experience .\n",
      "\n",
      "They hire based on availability and retail experience , there 's no need for models at the store level .\n",
      "\n",
      "What experience do you have in retail ?\n",
      "\n",
      "As in any retail job , customer service and support are the tope priority when guests are in the store .\n",
      "\n",
      "- how do you feel about learning product knowledge \n",
      " - what activity do you enjoy and how do you apply it in retail\n",
      "\n",
      "18 years of age \n",
      " Nice to have some experience in retail & you have to be able to catch on fast because this business is corporate and they have lots of restrictions and times they have to done with a task or etc\n",
      "\n",
      "\n",
      " Have you had any retail experience ?\n",
      "\n",
      "Never done retail before\n",
      "\n",
      "YES , BUT , Customer Service comes first because this is mostly the big problem now for retail .\n",
      "\n",
      "Its retail so course you do n't choose your days off they do train you and there is room for promotion .\n",
      "\n",
      "as far as retail stores a few are closing .\n",
      "\n",
      "Look for different qualities in the mangers that are hired to run the retail stores .\n",
      "\n",
      "Not for a retail or specialist positiin .\n",
      "\n",
      "For corporate applicants ( no retail ) the process is pretty standard .\n",
      "\n",
      "Mediocre questions that you expect at any retail job . “\n",
      "\n",
      "For corporate jobs ( no retail ) the process is standard .\n",
      "\n",
      "Many people work at Apple Retail part - time .\n",
      "\n",
      "No , I was not drug tested for retail store .\n",
      "\n",
      "What about your job at ( X Retail / X Tech ) place .\n",
      "\n",
      "Depends on how willing you are to abide by the needs of the retail company and how good you get along with the managers .\n",
      "\n",
      "There are some remote jobs available , but not so much on the retail side of things .\n",
      "\n",
      "Not in retail\n",
      "\n",
      "As an Apple retail specialist , there was no work from home .\n",
      "\n",
      "No Idea an what is PTO stands for , This is a European operation and not a retail store .\n",
      "\n",
      "Corporate jobs ( no retail ) follow the standard process you   see in   big companies .\n",
      "\n",
      "Not for Apple Retail .\n",
      "\n",
      "But not as a retail employee .\n",
      "\n",
      "No Idea an what is PTO stands for , This is a European operation and not a retail store .\n",
      "\n",
      "No idea - I am not in the retail store .\n",
      "\n",
      "To be on the top of Apple Retail , you need to be able to understand technology and look to the future , as you will be on the bleeding edge , pretty much everyday .\n",
      "\n",
      "You 'll need to be willing to give your life up to work in retail on the front lines , because you will .\n",
      "\n",
      "I left Apple because I was ready to move on from retail but given the choice , I would consider joining the corporate team .\n",
      "\n",
      "Retail management team sucks\n",
      "\n",
      "Unknown i was not a retail customer service rep .\n",
      "\n",
      "There was no work at home option in Apple Retail .\n",
      "\n",
      "Not at all - Apple Retail believes in promoting talent , not degrees .\n",
      "\n",
      "N / A We do not have retail stores .\n",
      "\n",
      "you would have to check with them on certain corporate positions unlikely for retail\n",
      "\n",
      "Yes , the pay is competitive and the advancement opportunities are more frequent than others in retail tech sales .\n",
      "\n",
      "Apple does not drug test employees in our retail locations prior to employment .\n",
      "\n",
      "Apple Retail wants everyone to have open availability , including part timers .\n",
      "\n",
      "The hours are retail , which do suck .\n",
      "\n",
      "  Costco have an excellent pay and benefits , there is no turnover at Costco unlike other retail store that i used to work .\n",
      "\n",
      "  Where as no other retail has this kind of pay increase and benefits .\n",
      "\n",
      "It is a retail company , and seven days a week are necessary .\n",
      "\n",
      "  HEB has two schools of management : School of Retail Management ( SORM ) and the School of Retail Leadership ( SORL ) .\n",
      "\n",
      "As proprietor of my own business I found that my employees needed to be motivatepted and encouraged daily I explained companies are no more than their employees I managed a fleet department for a huge Ford dealer , in six months my group of 8 out sold & out grossed the front retail with 20 salespeople and four manager 's my people loved me and knew I loved them it was great fun we worked together .\n",
      "\n",
      "Yes they do because it is a retail store .\n",
      "\n",
      "My advice is that if you are going to be stuck in a retail career , Menards is your best bet .\n",
      "\n",
      "I am not sure because I never drove for Menard 's , only worked in the retail store .\n",
      "\n",
      "Yes I 've worked as as morning stocker once for 7 months n once for 5 months but I have been stocking since my first retail job in 2012\n",
      "\n",
      "Also , I was asked have I every work in retail before , etc .\n",
      "\n",
      "Retail Associates quit as quickly as they are hired because management is so bad and management treats retail associates terribly .\n",
      "\n",
      "You have to be 18 years of age and any retail or customer service experience is needed .\n",
      "\n",
      "18 + its a Level entry starter for retail so Ross is the place you want to work if you want to work at better retail stores like Best buy that require experience with retail for an example .\n",
      "\n",
      "You have to be 18 an have retail experience\n",
      "\n",
      "3 years experience in retail\n",
      "\n",
      "Part time retail associate .\n",
      "\n",
      "Part time retail associate\n",
      "\n",
      "As a retail associate at Ross Dress for Less , you are to cover breaks or lunches whenever asked , greeting customers , pick up merchandise , and help customers in any way possible .\n",
      "\n",
      "Everything you do as a retail associate is dependent on where you work .\n",
      "\n",
      "I am not a retail sales associate\n",
      "\n",
      "They are a progressive company and care about their employees ’ well being better than most retail .\n",
      "\n",
      "If you have retail experience ; the interview is easy .\n",
      "\n",
      "A retail associate can get from 5 hours to 38 hours a week .\n",
      "\n",
      "  But as in all retail , hours are reduced during slow periods ( i.e. January , mid - summer in non - tourist towns , etc . )\n",
      "\n",
      "I have a 4 year degree in business , a 2 year in accounting , 8 years of retail , 8 years of military experience , and 2 seperate leadership roles in the past .\n",
      "\n",
      "Though I have seen women wear leggings / tights in the retail workplace , most employers would say they are not appropriate .\n",
      "\n",
      "The usual retail department store grind from 9 to 5 ...\n",
      "\n",
      "I 've learned in retail everyone is considered a thieve , and that you have to be very careful and stay on top of things .\n",
      "\n",
      "I was not working in retail with Ross\n",
      "\n",
      "Anything related to retail Channels of business .\n",
      "\n",
      "Theft is the most frowned upon in retail even if it will be dropped soon or is deffered .\n",
      "\n",
      "I have worked in retail with a possession charge , and retail theft .\n",
      "\n",
      "If you have a theft charge/ retail charge of any kind the 3rd company will not pass your background .\n",
      "\n",
      "Probably not , they train you but because of the fast pace , retail experience would help .\n",
      "\n",
      "Hours go with the trend of all retail .\n",
      "\n",
      "Know about retail\n",
      "\n",
      "Often times , the interview is done by either the Store Managers or Customer Service Managers who do the bulk of the hiring at the retail level .\n",
      "\n",
      "Welcome to retail .\n",
      "\n",
      "Corporate job not retail level .\n",
      "\n",
      "And now i m hoping i can find a place that wo nt make me as miserable as I know that retail just kinda sucks all around no matter where you go .\n",
      "\n",
      "I do not know -passing a drug test is required for the retail stores\n",
      "\n",
      "Drug testing is required and a background check ; but Publix works with everyone and they are the number 12 spot on the retail list in the country\n",
      "\n",
      "I work retail store , not desk or inside work\n",
      "\n",
      "Do you have experience in retail ?\n",
      "\n",
      "After you fill out the online application for at home , if it looks good you will be invited to do an online assessment computer course which takes a couple of hours , you have to identify 15 computer parts and then they create a business where you take information from a simulated customer , not car , retail , and you have to navigate through the system and answer the correct way through the invoice screen .\n",
      "\n",
      " \t Unique combination of experience and education in business management in a variety of industries , such as healthcare , retail services , and consulting .\n",
      "\n",
      " \t Unique combination of experience and education in business management in a variety of industries , such as healthcare , retail services , and consulting .\n",
      "\n",
      "Worst retail management experience I ever had .\n",
      "\n",
      "Kroger had most of the problems that most retail stores have .\n",
      "\n",
      "I have 4 + years in retail management and I barely made 11.00 an hour while someone who has never held a job before started at 14.00 . (\n",
      "\n",
      "Even told me it had been over 10 years since I worked in retail according to my resume .\n",
      "\n",
      "This is retail , shifts will almost always vary depending on staffing needs each week .\n",
      "\n",
      "Not likely , it is retail .\n",
      "\n",
      "Best pharmacy company I know of in the retail arena . (\n",
      "\n",
      "Varies on retail experience\n",
      "\n",
      "Do to the fact Kroger has higher standards than most retail companies , but also believe in second chances , they do hire convicted felons with a 3 yr .\n",
      "\n",
      "Swab \n",
      " Easy going , like any other retail interview\n",
      "\n",
      "Retail sucks their .\n",
      "\n",
      "   Although if your not familiar with retail ; retail has slow periods where the store does not make as much money which tends to affect people 's hours .\n",
      "\n",
      "General experience in retail\n",
      "\n",
      "Not sure but , per the general retail culture , there was not enough sick days and ample pressure to not be sick / to come in while sick .\n",
      "\n",
      "  A Shopper ’s account may be deactivated as a result of any of the following actions : \n",
      " * Violence / Aggression , including :  \n",
      " * Carrying a weapon while providing services through the App and while on the premises of a third party retailer or a customer location , unless state law expressly prohibits this restriction \n",
      " * Assault , violence or threats of violence \n",
      " * Aggressive gestures \n",
      " * Abusive or threatening mental or verbal treatment \n",
      " * Harassing customers regarding money , pay , or tips \n",
      " * Theft / Shoplifting \n",
      " * Profanity \n",
      " * Unwanted contact including but not limited to asking overly personal questions of customers , contractors , or employees of retailers or of Instacart \n",
      " * Use of alcohol or drugs while providing services \n",
      " * Property damage while providing services \n",
      " Conduct that is harassing or discriminatory in nature , e.g. , offensive gestures , slurs , or other unwanted conduct based on any category protected by applicable law \n",
      " ( Here 's the part you want to read ... ) * Bringing anyone along ( including minors ) who does not have an Instacart Shopper account while providing services on the platform \n",
      " * Engaging in conduct that jeopardizes food safety , e.g. , including tampering with packaging or placing non - retail items in bags , failing to verify possession of insulated bags\n",
      "\n",
      "I have a misdemeanor retail theft from 5 years ago but it did n’t show up on my background check ( not even on the state & county level ) .\n",
      "\n",
      "Sales , customer service , and retail ?\n",
      "\n",
      "Unsure for retail\n",
      "\n",
      "Worked at a retail store in Texas , tattoos and piercings can not be exposed .\n",
      "\n",
      "I could n't say , I was in retail sales .\n",
      "\n",
      "Each department has different schedules , so for example the retail office may be closed but the techs work later .\n",
      "\n",
      "Weird since I have so much retail and customer service experience ..\n",
      "\n",
      "BTW we are pages that focus on retail stores , food \" restaurants \" .\n",
      "\n",
      "Working in retail pharmacy and can be very stressful at many times !\n",
      "\n",
      "Probably OK in retail store\n",
      "\n",
      "I work for CVS/ Care mark insurance not at a retail store location\n",
      "\n",
      "I was not in the retail part of the company .\n",
      "\n",
      "N / A This is not a retail position .\n",
      "\n",
      "This might be a retail function .\n",
      "\n",
      "Yes we received a 10 % discount in the retail store on purchases .\n",
      "\n",
      "I did not work in retail so I 'm not sure what the starting pay is for a cashier .\n",
      "\n",
      "i worked for the retail pharmacy\n",
      "\n",
      "That does not exisit in the retail store so unknown\n",
      "\n",
      "No , retail is in the store .\n",
      "\n",
      "Health Insurance , employee discount at retail stores\n",
      "\n",
      "I currently work in a retail CVS store in the pharmacy department .\n",
      "\n",
      "I worked at corporate not at the retail end .\n",
      "\n",
      "i worked for the retail pharmacy\n",
      "\n",
      "This is a retail position\n",
      "\n",
      "i was only working on retail not pharmacy .\n",
      "\n",
      "This is a retail store .\n",
      "\n",
      "Depending on the job requirements You may need additional training , however if you have worked retail previously and know the basics not nearly as much training will be required .\n",
      "\n",
      "Experience in retail will provide a few dollars more than that if presented properly .\n",
      "\n",
      "Not retail\n",
      "\n",
      "In retail , 2 - 4 depending on volume .\n",
      "\n",
      "There are two CVSs ' in Niagara County and they are hiring retail associate and pharmacy technicians .\n",
      "\n",
      "This review is related to the store / retail locales .\n",
      "\n",
      "I never worked for their call center only for retail stores\n",
      "\n"
     ]
    }
   ],
   "source": [
    "_entity = 'retail'\n",
    "\n",
    "for d in sent_dicts:\n",
    "    _sent = ' '.join(d['tokens'])\n",
    "    if f' {_entity} ' in f' {_sent} '.lower():\n",
    "        print(_sent)\n",
    "        print()"
   ]
  },
  {
   "cell_type": "code",
   "execution_count": null,
   "metadata": {},
   "outputs": [],
   "source": []
  },
  {
   "cell_type": "code",
   "execution_count": 111,
   "metadata": {
    "scrolled": true
   },
   "outputs": [
    {
     "name": "stdout",
     "output_type": "stream",
     "text": [
      "The Home Depot : Yes , and ys\n",
      "\n",
      "Family Dollar : Ys hard for you have\n",
      "\n",
      "Barnes & Noble : Hello my name is julian and i currently live in carbondale and i was just going to say i would more likely to work with you guys if i ever decide to see ys soon if possible .\n",
      "\n"
     ]
    }
   ],
   "source": [
    "_entity = 'ys'\n",
    "\n",
    "for d in sent_dicts:\n",
    "    _sent = ' '.join(d['tokens'])\n",
    "    if f' {_entity} ' in f' {_sent} '.lower():\n",
    "        print(d['company'], ':', _sent)\n",
    "        print()"
   ]
  },
  {
   "cell_type": "markdown",
   "metadata": {},
   "source": [
    "### benefits"
   ]
  },
  {
   "cell_type": "code",
   "execution_count": 90,
   "metadata": {},
   "outputs": [],
   "source": [
    "_benefits_freqs = []\n",
    "for _e in all_benchmark_instances['benefits']:\n",
    "    try:\n",
    "        _freq = embed_num_dict[_e]\n",
    "        _benefits_freqs.append((_e, _freq))\n",
    "    except:\n",
    "        continue\n",
    "_benefits_freqs.sort(key=lambda p: p[-1])"
   ]
  },
  {
   "cell_type": "code",
   "execution_count": 91,
   "metadata": {
    "scrolled": true
   },
   "outputs": [
    {
     "data": {
      "text/plain": [
       "[('health benefits', 4),\n",
       " ('tuition assistance', 20),\n",
       " ('monthly bonus', 23),\n",
       " ('retirement plan', 32),\n",
       " ('paid vacations', 36),\n",
       " ('prescription drugs', 46),\n",
       " ('401k plan', 50),\n",
       " ('pension', 51),\n",
       " ('401 k', 71),\n",
       " ('sick leave', 133),\n",
       " ('life insurance', 183),\n",
       " ('health care', 222),\n",
       " ('healthcare', 233),\n",
       " ('sick days', 248),\n",
       " ('401k', 640),\n",
       " ('health insurance', 782),\n",
       " ('health', 1294)]"
      ]
     },
     "execution_count": 91,
     "metadata": {},
     "output_type": "execute_result"
    }
   ],
   "source": [
    "_benefits_freqs"
   ]
  },
  {
   "cell_type": "code",
   "execution_count": 94,
   "metadata": {},
   "outputs": [],
   "source": [
    "_benefits_freqs_df = pd.DataFrame(_benefits_freqs, columns=['benefits', 'freq'])"
   ]
  },
  {
   "cell_type": "code",
   "execution_count": 95,
   "metadata": {},
   "outputs": [
    {
     "data": {
      "text/plain": [
       "<matplotlib.axes._subplots.AxesSubplot at 0x7fd7d1d486d0>"
      ]
     },
     "execution_count": 95,
     "metadata": {},
     "output_type": "execute_result"
    },
    {
     "data": {
      "image/png": "[encoded data removed]",
      "text/plain": [
       "<Figure size 864x648 with 1 Axes>"
      ]
     },
     "metadata": {
      "needs_background": "light"
     },
     "output_type": "display_data"
    }
   ],
   "source": [
    "_benefits_freqs_df.plot.bar(x='benefits', y='freq', rot=90, fontsize=12, figsize=(12,9))"
   ]
  },
  {
   "cell_type": "code",
   "execution_count": 97,
   "metadata": {},
   "outputs": [
    {
     "data": {
      "text/plain": [
       "(8058, 8036)"
      ]
     },
     "execution_count": 97,
     "metadata": {},
     "output_type": "execute_result"
    }
   ],
   "source": [
    "ee_emb_df = pd.read_csv(ee_emb_path)\n",
    "_emb_benefits_df = ee_emb_df[ee_emb_df['concept'] == 'benefits']\n",
    "_emb_benefits_list = _emb_benefits_df['neighbor'].tolist()\n",
    "\n",
    "ee_lm_df = pd.read_csv(ee_LM_path)\n",
    "_lm_benefits_df = ee_lm_df[ee_lm_df['concept'] == 'benefits']\n",
    "_lm_benefits_list = _lm_benefits_df['neighbor'].tolist()\n",
    "\n",
    "len(_emb_benefits_list), len(_lm_benefits_list)"
   ]
  },
  {
   "cell_type": "code",
   "execution_count": 99,
   "metadata": {
    "scrolled": true
   },
   "outputs": [
    {
     "name": "stdout",
     "output_type": "stream",
     "text": [
      "health benefits          4 3255 13\n",
      "tuition assistance       20 944 125\n",
      "monthly bonus            23 809 142\n",
      "retirement plan          32 73 124\n",
      "paid vacations           36 64 70\n",
      "prescription drugs       46 570 322\n",
      "401k plan                50 326 672\n",
      "pension                  51 62 1\n",
      "401 k                    71 302 3307\n",
      "sick leave               133 -1 -1\n",
      "life insurance           183 7 16\n",
      "health care              222 1 22\n",
      "healthcare               233 0 101\n",
      "sick days                248 9 494\n",
      "401k                     640 -1 -1\n",
      "health insurance         782 -1 -1\n",
      "health                   1294 6 9\n"
     ]
    }
   ],
   "source": [
    "for _e, _cnt in _benefits_freqs:\n",
    "    print(f'{_e:24s}',\n",
    "          _cnt,\n",
    "          _emb_benefits_list.index(_e) if _e in _emb_benefits_list else -1,\n",
    "          _lm_benefits_list.index(_e) if _e in _lm_benefits_list else -1)"
   ]
  },
  {
   "cell_type": "code",
   "execution_count": 102,
   "metadata": {
    "scrolled": true
   },
   "outputs": [
    {
     "name": "stdout",
     "output_type": "stream",
     "text": [
      "The tuition assistance is TRASH ! !\n",
      "\n",
      "No amazon do not have tuition assistance for part time employees .\n",
      "\n",
      "Tuition assistance is provided based on the program and school you choose , and is available for consideration after one consecutive year of work with the company .\n",
      "\n",
      "As soon as you get through your trial period you can apply for the tuition assistance .\n",
      "\n",
      "They offer medical plans , tuition assistance , sick days(in small increments based on time worked ) , paid time off(again in small increments . ) ,\n",
      "\n",
      "After one year of working for Chipotle , students are offered tuition assistance if they are not offered federal financial assistance .\n",
      "\n",
      "Yes you need to work there for a year to sign up for tuition assistance .\n",
      "\n",
      "Lots of training opportunities and Tuition Assistance .\n",
      "\n",
      "Yes $ 6000 of tuition assistance .\n",
      "\n",
      "  Tuition assistance is available the very first day you start .\n",
      "\n",
      "There is also , tuition assistance program for promotion within the company .\n",
      "\n",
      "No , however , they do offer tuition assistance\n",
      "\n",
      "One employee committed suicide at the end of 2018 and Aldi has no employee EAP or tuition assistance programs in place or anything to support employees going through anything mentally or emotionally .\n",
      "\n"
     ]
    }
   ],
   "source": [
    "_entity = 'tuition assistance'\n",
    "\n",
    "for d in sent_dicts:\n",
    "    _sent = ' '.join(d['tokens'])\n",
    "    if f' {_entity} ' in f' {_sent} '.lower():\n",
    "        print(_sent)\n",
    "        print()"
   ]
  },
  {
   "cell_type": "code",
   "execution_count": 103,
   "metadata": {
    "scrolled": true
   },
   "outputs": [
    {
     "name": "stdout",
     "output_type": "stream",
     "text": [
      "401k Plan medical and dental paid vacation raise after 90 days\n",
      "\n",
      "There is a 401k plan , but I ca n't remember if it 's 3 months or 1 year after being with them .\n",
      "\n",
      "They paid me once a week which was great , they have a good 401k plan and good health benefits\n",
      "\n",
      "The Starbucks was inside of Kroger so you receive Kroger benefits as well such as 401k plan\n",
      "\n",
      "The company benefits are full benefits , 401k plan , PTO , Bonuses , Company Perks\n",
      "\n",
      "Heath care \n",
      " dental \n",
      " vision \n",
      " awesome 401k plan\n",
      "\n",
      "Standard health benefits , school reimbursement , 401k plan\n",
      "\n",
      "1 year in order to get tuition for school and i believe the 401k plan is instant .\n",
      "\n",
      "They do not have a 401k plan\n",
      "\n",
      "I do not have a 401k plan\n",
      "\n",
      "No I do not have a 401k plan .\n",
      "\n",
      "No i do not have 401k plan\n",
      "\n",
      "No I do n't have a 401k plan but I do know it is a option .\n",
      "\n",
      "Yes wlgreens does offer you a 401k plan .\n",
      "\n",
      "401k plan after 6 months or 1 year .\n",
      "\n",
      "After a year you can start a 401k plan , get health and dental , along with buying stocks .\n",
      "\n",
      "Wal - mart 's benefits are top notch including vision , healthcare , a 401k plan , life insurance and everything else under the sun\n",
      "\n",
      "Wal - marts are top notch including vision , healtcare a 401k plan , life insurance and everything else under the sun\n",
      "\n",
      "They offer 401k plan as well as dental health coverage for you and your spose and vision .\n",
      "\n",
      "They offer the 401k plan and they have company plan where however muck money you put into they company they match and you can cash it in at any given time .\n",
      "\n",
      "401k plan as well as many retirement benefits\n",
      "\n",
      "They provide full healthcare coverage , and a nice 401k plan\n",
      "\n",
      "There was talk of insurance and a 401k plan but it is outrageously priced and completely unreasonable and not affordable to their employees .\n",
      "\n",
      "All associates that are part time are available for all insurances excluding the 401k plan .\n",
      "\n",
      "I was offered health insurance and a 401k plan , but I already had insurance and did n't plan on staying long enough to need a 401k plan .\n",
      "\n",
      "None , the company never had any 401k plan .\n",
      "\n",
      "I did not have a 401k plan when i worked at applebees .\n",
      "\n",
      "Vacation time after one year , bonus program , 401k plan .\n",
      "\n",
      "They start you out as a seasonal hire , and then move you to part - time if they feel they want to kepp you , but you work full - time hours and mostly have you as part - time so they do not have to gi e you benefits and a 401k plan , along with , if need be , they can cut your hours whenever they need to .\n",
      "\n",
      "I was not informed fo 401k plan .\n",
      "\n",
      "I am not sure which company does the 401k plan for McDonald ’s , I ’ve never been told .\n",
      "\n",
      "401k plan is optional i believe ... beyond that I 'm thinking no\n",
      "\n",
      "They did not have a 401k plan\n",
      "\n",
      "Yes but in order to be eligible for the 401k plan you must be an associate for at least a year .\n",
      "\n",
      "Yes they have a 401k plan\n",
      "\n",
      "What happens to my 401k plan when i leave after 3 years\n",
      "\n"
     ]
    }
   ],
   "source": [
    "_entity = '401k plan'\n",
    "\n",
    "for d in sent_dicts:\n",
    "    _sent = ' '.join(d['tokens'])\n",
    "    if f' {_entity} ' in f' {_sent} '.lower():\n",
    "        print(_sent)\n",
    "        print()"
   ]
  },
  {
   "cell_type": "code",
   "execution_count": null,
   "metadata": {},
   "outputs": [],
   "source": []
  },
  {
   "cell_type": "code",
   "execution_count": 137,
   "metadata": {
    "scrolled": true
   },
   "outputs": [
    {
     "name": "stdout",
     "output_type": "stream",
     "text": [
      "Amazon.com : Yes , as a freelancer\n",
      "\n",
      "Macy's : With Macys as a freelancer the pay is weekly .\n",
      "\n",
      "Macy's : It 's different for every person , whether you work for the counter or are a freelancer\n",
      "\n",
      "G4S : Hi \n",
      " I am freelancer Sohan \n",
      " Place copy types\n",
      "\n"
     ]
    }
   ],
   "source": [
    "_entity = 'freelancer'\n",
    "\n",
    "for d in sent_dicts:\n",
    "    _sent = ' '.join(d['tokens'])\n",
    "    if f' {_entity} ' in f' {_sent} '.lower():\n",
    "        print(d['company'], ':', _sent)\n",
    "        print()"
   ]
  },
  {
   "cell_type": "markdown",
   "metadata": {},
   "source": [
    "## Relational context analysis"
   ]
  },
  {
   "cell_type": "code",
   "execution_count": 130,
   "metadata": {},
   "outputs": [],
   "source": [
    "def get_masked_contexts_for_entities_with_rels(entities,\n",
    "                                               input_corpus,\n",
    "                                               with_entities):\n",
    "    \"\"\"Return a (list of) sentence(s) with entity replaced with MASK.\"\"\"\n",
    "    \"\"\"YS: input should be sentences_with_company.json\"\"\"\n",
    "    \n",
    "    ent_freq = {ent : 0 for ent in entities}\n",
    "    ent_context = {ent : [] for ent in entities}\n",
    "    \n",
    "#     with open(input_file, \"r\") as fin:\n",
    "#         lines = fin.readlines()\n",
    "#     for line in tqdm(lines, total=len(lines), desc=\"loading corpus\"):\n",
    "#         json_dict = json.loads(line)\n",
    "    for json_dict in input_corpus:\n",
    "        sent = ' ' + ' '.join(json_dict['tokens']).lower() + ' '\n",
    "        #entities = [match.group(1) for match in re.finditer(pat, line)]\n",
    "\n",
    "        if not any([f' {_e} ' in sent for _e in with_entities]):\n",
    "            # not including with_entities\n",
    "            continue\n",
    "\n",
    "        for entity in entities:\n",
    "            pat = f' {entity} '\n",
    "            if pat not in sent:\n",
    "                continue\n",
    "\n",
    "            context = sent.replace(pat, ' [MASK] ').strip()\n",
    "            c = context.split('[MASK]')\n",
    "            if len(c) != 2:  # sanity to not have too many repeating phrases in the context\n",
    "                continue\n",
    "\n",
    "            # ignore too short contexts\n",
    "            if len(context) < 15:\n",
    "                continue\n",
    "\n",
    "            # print(entity)\n",
    "            # print(context)\n",
    "\n",
    "            _freq = ent_freq.get(entity, 0)\n",
    "            ent_freq[entity] = _freq + 1\n",
    "\n",
    "            context_lst = ent_context.get(entity, [])\n",
    "            context_lst.append(context)\n",
    "            ent_context[entity] = context_lst\n",
    "\n",
    "    dedup_context = {}\n",
    "    for e, v in ent_context.items():\n",
    "        dedup_context[e] = list(set(v))\n",
    "    return ent_freq, dedup_context\n"
   ]
  },
  {
   "cell_type": "code",
   "execution_count": 131,
   "metadata": {},
   "outputs": [],
   "source": [
    "corpus_path = os.path.join(base_dir, f'data/{data_ac}/intermediate/sentences_with_company.json')"
   ]
  },
  {
   "cell_type": "code",
   "execution_count": 133,
   "metadata": {},
   "outputs": [
    {
     "data": {
      "text/plain": [
       "({'home depot': 1, 'subway': 0, 'starbucks': 4, 'mcdonalds': 4},\n",
       " {'home depot': ['no , since obama care [MASK] dropped health insurance for part time employees'],\n",
       "  'subway': [],\n",
       "  'starbucks': ['the [MASK] was inside of kroger so you receive kroger benefits as well such as 401k plan',\n",
       "   'you have to work a full 32 + hours a week to get health insurance in [MASK] .',\n",
       "   'yes , 401k , and 30 % off items for [MASK] .',\n",
       "   'yes , all [MASK] partners averaging 20 hours or more per work week are eligible for medical benefits , 401k , and stock options .'],\n",
       "  'mcdonalds': ['the reason for leaving [MASK] was due to the flexible schedule',\n",
       "   'i was offered 401k with [MASK] .',\n",
       "   'do [MASK] pay you on sick leave to',\n",
       "   'no managers at this [MASK] receive health insurance of any kind .']})"
      ]
     },
     "execution_count": 133,
     "metadata": {},
     "output_type": "execute_result"
    }
   ],
   "source": [
    "get_masked_contexts_for_entities_with_rels(entities=[\"home depot\", \"subway\", \"starbucks\", \"mcdonalds\"],\n",
    "    input_corpus=sent_dicts,\n",
    "    with_entities=[\"health insurance\", \"flexible schedule\", \"401k\", \"paid vacation\", \"sick leave\", \"vision insurance\"])"
   ]
  },
  {
   "cell_type": "markdown",
   "metadata": {},
   "source": [
    "### All companies, all benefits"
   ]
  },
  {
   "cell_type": "code",
   "execution_count": 134,
   "metadata": {},
   "outputs": [],
   "source": [
    "concepts_df = load_seed_aligned_concepts(seed_aligned_concepts_path)\n",
    "seed_instances_dict = dict(zip(concepts_df['alignedCategoryName'], concepts_df['seedInstances']))\n",
    "\n",
    "_collected_company = list(all_benchmark_instances['company'] | set(seed_instances_dict['company']))\n",
    "_collected_benefits = list(all_benchmark_instances['benefits'] | set(seed_instances_dict['benefits']))"
   ]
  },
  {
   "cell_type": "code",
   "execution_count": 136,
   "metadata": {},
   "outputs": [],
   "source": [
    "_company_cnt, _company_contexts = get_masked_contexts_for_entities_with_rels(\n",
    "    entities=_collected_company,\n",
    "    input_corpus=sent_dicts,\n",
    "    with_entities=_collected_benefits\n",
    ")"
   ]
  },
  {
   "cell_type": "code",
   "execution_count": 137,
   "metadata": {
    "scrolled": true
   },
   "outputs": [
    {
     "data": {
      "text/plain": [
       "[('frito-lay', 0),\n",
       " ('spectrum', 0),\n",
       " ('allied universal security services, systems and solutions', 0),\n",
       " ('t-mobile', 0),\n",
       " ('marriott international, inc.', 0),\n",
       " (\"dick's sporting goods\", 0),\n",
       " ('alorica', 0),\n",
       " (\"macy's\", 0),\n",
       " (\"kohl's\", 0),\n",
       " ('ross dress for less', 0),\n",
       " ('microsoft', 0),\n",
       " ('geico', 0),\n",
       " ('olive garden', 0),\n",
       " (\"mcdonald's\", 0),\n",
       " ('electric', 0),\n",
       " ('ulta', 0),\n",
       " (\"chili's\", 0),\n",
       " ('concentrix', 0),\n",
       " (\"dunkin' donuts\", 0),\n",
       " (\"lowe's\", 0),\n",
       " (\"domino's\", 0),\n",
       " ('kroger stores', 0),\n",
       " ('sonic drive-in', 0),\n",
       " ('subways', 0),\n",
       " ('costco wholesale', 0),\n",
       " ('chipotle mexican grill', 0),\n",
       " ('chick-fil-a', 0),\n",
       " (\"victoria's secret\", 0),\n",
       " ('goodwill industries', 0),\n",
       " ('quiktrip', 0),\n",
       " ('barnes & noble', 0),\n",
       " ('american eagle outfitters', 0),\n",
       " (\"the wendy's company\", 0),\n",
       " ('teleperformance', 0),\n",
       " ('united states postal service', 0),\n",
       " ('dunkin donuts', 0),\n",
       " ('tim hortons', 0),\n",
       " ('frito lay', 0),\n",
       " ('t.j. maxx', 0),\n",
       " (\"sam's club\", 0),\n",
       " (\"applebee's\", 0),\n",
       " ('burlington stores', 0),\n",
       " ('chilis', 0),\n",
       " ('little caesars', 1),\n",
       " ('pepsico', 1),\n",
       " ('frito', 1),\n",
       " ('planet fitness', 1),\n",
       " ('primark', 1),\n",
       " ('whole foods market', 1),\n",
       " ('foot locker', 1),\n",
       " ('pepsi', 1),\n",
       " ('hobby lobby', 1),\n",
       " ('ihop', 1),\n",
       " ('instacart', 1),\n",
       " ('doordash', 1),\n",
       " ('kfc', 1),\n",
       " ('enterprise holdings', 1),\n",
       " ('whataburger', 1),\n",
       " ('costco', 2),\n",
       " ('marshalls', 2),\n",
       " ('sitel', 2),\n",
       " ('tj maxx', 2),\n",
       " ('fedex ground', 2),\n",
       " ('the home depot', 2),\n",
       " ('cracker barrel', 2),\n",
       " ('panera bread', 3),\n",
       " ('petsmart', 3),\n",
       " ('taco bell', 3),\n",
       " ('burger king', 3),\n",
       " ('jcpenney', 3),\n",
       " ('pizza hut', 3),\n",
       " ('heb', 3),\n",
       " ('chipotle', 3),\n",
       " ('menards', 4),\n",
       " ('fedex', 4),\n",
       " ('g4s', 4),\n",
       " ('at&t', 4),\n",
       " ('wells fargo', 4),\n",
       " ('amazon.com', 4),\n",
       " ('dd', 5),\n",
       " ('wendys', 5),\n",
       " ('old navy', 5),\n",
       " ('subway', 6),\n",
       " ('verizon', 6),\n",
       " ('family dollar', 6),\n",
       " ('safeway', 7),\n",
       " ('lowes', 7),\n",
       " ('walgreens', 8),\n",
       " ('dollar tree', 8),\n",
       " ('mcdonalds', 9),\n",
       " ('panera', 9),\n",
       " ('ups', 10),\n",
       " ('best buy', 11),\n",
       " ('kroger', 12),\n",
       " ('dollar general', 12),\n",
       " ('home depot', 13),\n",
       " ('mcdonald', 14),\n",
       " ('aldi', 14),\n",
       " ('starbucks', 14),\n",
       " ('publix', 14),\n",
       " ('target', 16),\n",
       " ('cvs health', 17),\n",
       " ('amazon', 23),\n",
       " ('training', 26),\n",
       " ('cvs', 28),\n",
       " ('walmart', 54)]"
      ]
     },
     "execution_count": 137,
     "metadata": {},
     "output_type": "execute_result"
    }
   ],
   "source": [
    "_company_cnt_list = sorted(_company_cnt.items(), key=lambda p: p[1])\n",
    "_company_cnt_list"
   ]
  },
  {
   "cell_type": "code",
   "execution_count": 138,
   "metadata": {},
   "outputs": [
    {
     "data": {
      "text/plain": [
       "<matplotlib.axes._subplots.AxesSubplot at 0x7fd7d15d23d0>"
      ]
     },
     "execution_count": 138,
     "metadata": {},
     "output_type": "execute_result"
    },
    {
     "data": {
      "image/png": "[encoded data removed]",
      "text/plain": [
       "<Figure size 864x648 with 1 Axes>"
      ]
     },
     "metadata": {
      "needs_background": "light"
     },
     "output_type": "display_data"
    }
   ],
   "source": [
    "_company_cnt_df = pd.DataFrame(_company_cnt_list, columns=['company', 'contexts'])\n",
    "_company_cnt_df.plot.bar(x='company', y='contexts', rot=90, fontsize=8, figsize=(12,9))"
   ]
  },
  {
   "cell_type": "markdown",
   "metadata": {},
   "source": [
    "### Single companies, all concepts, embedding t-SNE"
   ]
  },
  {
   "cell_type": "code",
   "execution_count": 127,
   "metadata": {},
   "outputs": [],
   "source": [
    "bert_tokenizer = AutoTokenizer.from_pretrained('bert-base-uncased')\n",
    "bert_model = AutoModel.from_pretrained('bert-base-uncased')\n",
    "device = torch.device(\"cuda\" if torch.cuda.is_available() else \"cpu\")\n",
    "bert_model.to(device)\n",
    "bert_model.eval()\n",
    "\n",
    "mask_token_id = bert_tokenizer.mask_token_id"
   ]
  },
  {
   "cell_type": "code",
   "execution_count": 139,
   "metadata": {
    "scrolled": true
   },
   "outputs": [
    {
     "name": "stdout",
     "output_type": "stream",
     "text": [
      "dress_code ['wear fake nails', 'fake nails', 'jewelry', 'tattoos', 'shirt', 'brown pants', 'color hair', 'pants', 'black slacks', 'dress pants', 'lab coats', 'black jeans', 'shirts', 'facial piercings', 'uniform', 'face tattoos', 'strict dress code', 'polo shirts', 'hairnets', 'hair net', 'mustaches', 'natural colors', 'red shirts', 'resistant shoes', 'hair color', 'shoes', 'wear jeans', 'wear shorts', 'casual dress code', 'casual', 'hat', 'non slip shoes', 'unnatural hair color', 'piercings', 'unnatural hair colors', 'professional', 'unnatural colored hair', 'hats', 'nose rings', 'colorful hair', 'skirts', 'scrubs', 'dress shirts', 'attire', 'jeans', 'uniforms', 'uniform policy', 'natural colored hair', 'blue collar', 'business casual', 'uniform shirts', 'facial hair', 'ponytail', 'black pants', 'shorts', 'hair colors']\n",
      "job_position ['sales associate', 'barista', 'delivery driver', 'servers', 'shift leader', 'cashier', 'store manager', 'dishwasher', 'package handler', 'truck drivers', 'server']\n",
      "pay_schedule ['week', 'paid weekly', 'fridays', 'weeks', 'bi weekly', 'paid biweekly', 'tuesdays', 'saturday', 'weekly', 'paid bi weekly', 'biweekly', 'friday', 'tuesday']\n",
      "benefits ['401k', 'sick days', 'discounts', 'sick leave', 'monthly bonus', 'breakfast', 'prescription drugs', '401 k', 'tuition assistance', 'free lunch', 'health insurance', 'health coverage', 'schooling', 'paid vacations', 'retirement', 'health benefits', 'vacations', 'flexible schedule', 'health plans', 'health care', 'discount', 'paid vacation', 'healthcare', 'vacation', 'retirement plan', 'relocation', 'pto', 'vision insurance', 'life insurance', 'relocate', 'health', 'pension', '401k plan']\n",
      "compensation ['overtime pay', 'benfits', 'base pay', 'benefits', 'compensation', 'bonus', 'stock options']\n",
      "payment_option ['paycheck', 'direct deposits', 'checks', 'paper checks', 'prepaid card', 'direct deposit']\n",
      "background_screening ['criminal background', 'drug tested', 'previous employers', 'previous employer', 'follicle test', 'mouth', 'backround check', 'drug text', 'testing', 'hair follicle test', 'test', 'credit check', 'social security', 'urine testing', 'criminal background checks', 'drug tests', 'previous employment', 'background report', 'screening', 'random drug test', 'drug testing', 'backgrounds', 'drug screens', 'urine drug screen', 'hair sample', 'mouth swab', 'social media', 'employment verification', 'urine drug test', 'urine test', 'social security number', 'credit report', 'backround checks', 'mouth swap', 'previous jobs', 'criminal background check', 'criminal history', 'random tests', 'drug test', 'criminal record', 'backround', 'credit checks', 'drug', 'dui', 'screening process', 'pre employment drug screening', 'driving record', 'random drug tests', 'screen', 'previously worked', 'urine tests', 'cannabis', 'mouth swabs', 'drugs', 'criminal backgrounds', 'saliva test', 'drug screened', 'saliva drug test', 'urine sample', 'swab test', 'blood test', 'alcohol', 'random drug testing', 'credit score', 'cheek swab', 'criminal records', 'drug screening', 'drugged tested', 'urine', 'background checks', 'background check', 'saliva', 'drug screen', 'credit history']\n",
      "person ['students', 'ex felons', 'convicted felons', 'pregnant', 'pregnant women', 'disabilities', 'felony', 'high school graduate', 'felony record', 'schoolers', 'disabled', 'misdemeanor theft', 'misdemeanor', 'sex offenders', 'senior citizens', 'high schoolers', 'felonys', 'felonies', 'seniority', 'high school', 'criminals', 'high school students', 'felons', 'misdemeanor charges', 'drug addicts', 'school students', 'seniors']\n",
      "hire_prerequisite ['workers permit', 'high school diploma', 'ged', 'heavy lifting', 'diploma', 'college degree', 'bachelors degree', 'gpa', 'hiring age', 'prior experience', 'degrees', 'birth certificate', 'hs diploma', 'high school education', 'bachelor degree', 'working permit']\n",
      "shifts ['night shifts', 'night shift', '8 hour shift', '12 hour shifts', '3rd shift', 'open 24 hours', 'dinner shift', 'early morning shift', 'weekend shift']\n",
      "schedule ['open 7 days', 'early morning', '7 days', 'hoildays', 'federal holidays', 'saturdays', 'weekend', 'weekends', 'christmas eve', 'saturday', 'sunday', 'hoilday']\n",
      "employee_type ['seasonal', 'seasons', 'fulltime', 'seasonal positions', 'seasonal workers', 'part time', 'full time', 'ft', 'season', 'seasonals', 'seasonal employees']\n",
      "onboarding_steps ['team lunch', 'training program', 'introduction', 'training', 'workstation', 'training classes', 'orientation']\n"
     ]
    }
   ],
   "source": [
    "_company = 'walmart'\n",
    "\n",
    "cc_embeddings = dict()\n",
    "for _cc, _seeds in seed_instances_dict.items():\n",
    "    if _cc == 'company':\n",
    "        continue\n",
    "    \n",
    "    _collected_cc_entities = list(all_benchmark_instances[_cc] | set(_seeds))\n",
    "    print(_cc, _collected_cc_entities)\n",
    "    \n",
    "    # Get masked contexts\n",
    "    _, _contexts = get_masked_contexts_for_entities_with_rels(\n",
    "        entities=[_company],\n",
    "        input_corpus=sent_dicts,\n",
    "        with_entities=_collected_cc_entities\n",
    "    )\n",
    "    _contexts = _contexts[_company]\n",
    "    if len(_contexts) == 0:\n",
    "        continue\n",
    "    \n",
    "    # Compute context embedding \n",
    "    en_context_lst = _contexts\n",
    "    chunks = [en_context_lst[i:i + 100] for i in range(0, len(en_context_lst), 100)]\n",
    "    # print(entity)\n",
    "    # print(len(en_context_lst))\n",
    "    _all_context_embeddings = []\n",
    "    for chunk in chunks:\n",
    "        _encoded_input = bert_tokenizer.batch_encode_plus(chunk, return_token_type_ids=True, add_special_tokens=True, max_length=128, return_tensors='pt', padding=True, pad_to_max_length=True, truncation=True)\n",
    "        _mask = _encoded_input['input_ids'] != mask_token_id\n",
    "        with torch.no_grad():\n",
    "            _encoded_input = ensure_tensor_on_device(device, **_encoded_input)\n",
    "            _model_output = bert_model(**_encoded_input)  # Compute token embeddings\n",
    "        _context_embeddings = mean_pooling(_model_output, _mask)  # mean pooling\n",
    "        _all_context_embeddings.append(_context_embeddings)\n",
    "\n",
    "    assert len(_all_context_embeddings) > 0\n",
    "\n",
    "    _entity_embedding = torch.mean(torch.cat(_all_context_embeddings, dim=0), dim=0).cpu().detach().numpy().tolist()\n",
    "    cc_embeddings[_cc] = _entity_embedding\n",
    "    "
   ]
  },
  {
   "cell_type": "code",
   "execution_count": 140,
   "metadata": {},
   "outputs": [
    {
     "data": {
      "text/plain": [
       "13"
      ]
     },
     "execution_count": 140,
     "metadata": {},
     "output_type": "execute_result"
    }
   ],
   "source": [
    "len(cc_embeddings)"
   ]
  },
  {
   "cell_type": "code",
   "execution_count": 144,
   "metadata": {},
   "outputs": [],
   "source": [
    "bert_emb_path = os.path.join(base_dir, f'data/{data_ac}/intermediate/BERTembed+seeds.txt')\n",
    "embeddings_df = load_embeddings(bert_emb_path, 768)\n",
    "_company_embedding_all = embeddings_df[embeddings_df['entity'] == _company]['embedding'].item()\n",
    "cc_embeddings['all'] = _company_embedding_all"
   ]
  },
  {
   "cell_type": "code",
   "execution_count": 150,
   "metadata": {},
   "outputs": [],
   "source": [
    "tsne = TSNE()\n",
    "_concepts, _raw_embs = zip(*cc_embeddings.items())\n",
    "_tsne_embs = tsne.fit_transform(_raw_embs).tolist()"
   ]
  },
  {
   "cell_type": "code",
   "execution_count": 151,
   "metadata": {},
   "outputs": [
    {
     "data": {
      "text/plain": [
       "[('dress_code', [-145.94862365722656, 57.3772087097168]),\n",
       " ('job_position', [-39.565086364746094, -108.43943786621094]),\n",
       " ('pay_schedule', [152.2614288330078, -63.55064010620117]),\n",
       " ('benefits', [-43.94044494628906, 73.60016632080078]),\n",
       " ('compensation', [2.41005277633667, -4.917022228240967]),\n",
       " ('payment_option', [90.35870361328125, 19.138399124145508]),\n",
       " ('background_screening', [192.3670196533203, 35.36241912841797]),\n",
       " ('person', [57.58891296386719, -88.47061920166016]),\n",
       " ('hire_prerequisite', [-11.17064094543457, 181.2088165283203]),\n",
       " ('shifts', [-95.37789154052734, -26.44676971435547]),\n",
       " ('schedule', [85.98265838623047, 201.17864990234375]),\n",
       " ('employee_type', [-105.84320068359375, 156.29014587402344]),\n",
       " ('onboarding_steps', [44.008026123046875, 97.65530395507812]),\n",
       " ('all', [141.7953643798828, 119.18583679199219])]"
      ]
     },
     "execution_count": 151,
     "metadata": {},
     "output_type": "execute_result"
    }
   ],
   "source": [
    "list(zip(_concepts, _tsne_embs))"
   ]
  },
  {
   "cell_type": "code",
   "execution_count": null,
   "metadata": {},
   "outputs": [],
   "source": [
    "_tsne_x, _tsne_y = list(zip(*_tsne_embs))\n",
    "\n",
    "fig = plt.figure(figsize=(12, 8))\n",
    "ax = fig.gca()\n",
    "\n",
    "for _cc, _emb in list(zip(_concepts, _tsne_embs)):\n",
    "    ax.text(x=_emb[0]/200, y=_emb[1]/200, s=_cc, ha='center')\n",
    "\n",
    "# ax.legend()\n",
    "ax.set_xlim((-2, 2))\n",
    "ax.set_ylim((-2, 2))\n",
    "fig.show()"
   ]
  },
  {
   "cell_type": "code",
   "execution_count": null,
   "metadata": {},
   "outputs": [],
   "source": []
  },
  {
   "cell_type": "code",
   "execution_count": null,
   "metadata": {},
   "outputs": [],
   "source": []
  },
  {
   "cell_type": "markdown",
   "metadata": {},
   "source": [
    "## EE labels preprocessing"
   ]
  },
  {
   "cell_type": "markdown",
   "metadata": {},
   "source": [
    "### Combine emb & LM files (obsolete)"
   ]
  },
  {
   "cell_type": "code",
   "execution_count": 75,
   "metadata": {},
   "outputs": [],
   "source": [
    "raw_EE_emb_labeling_file = os.path.join(base_dir, f'data/indeed-benchmark/ee-emb-labels.csv')\n",
    "raw_EE_LM_labeling_file = os.path.join(base_dir, f'data/indeed-benchmark/ee-lm-labels.csv')\n",
    "\n",
    "out_EE_label_file = os.path.join(base_dir, f'data/indeed-benchmark/ee-labels.csv')"
   ]
  },
  {
   "cell_type": "code",
   "execution_count": 76,
   "metadata": {},
   "outputs": [
    {
     "data": {
      "text/plain": [
       "(623, 676)"
      ]
     },
     "execution_count": 76,
     "metadata": {},
     "output_type": "execute_result"
    }
   ],
   "source": [
    "_raw_emb = pd.read_csv(raw_EE_emb_labeling_file)\n",
    "_raw_lm = pd.read_csv(raw_EE_LM_labeling_file)\n",
    "\n",
    "_raw_emb_gold = _raw_emb[_raw_emb['Majority'] == 1].to_dict('records')\n",
    "_raw_lm_gold = _raw_lm[_raw_lm['Majority'] == 1].to_dict('records')\n",
    "len(_raw_emb_gold), len(_raw_lm_gold)"
   ]
  },
  {
   "cell_type": "code",
   "execution_count": 77,
   "metadata": {},
   "outputs": [],
   "source": [
    "gold_labels_dict = dict()\n",
    "for d in _raw_emb_gold + _raw_lm_gold:\n",
    "    _cc = d['concept']\n",
    "    _e = d['neighbor']\n",
    "    gold_labels_dict[_cc] = gold_labels_dict.get(_cc, []) + [_e]\n",
    "\n",
    "for _cc, _e_list in gold_labels_dict.items():\n",
    "    gold_labels_dict[_cc] = list(set(_e_list))"
   ]
  },
  {
   "cell_type": "code",
   "execution_count": 78,
   "metadata": {},
   "outputs": [
    {
     "name": "stdout",
     "output_type": "stream",
     "text": [
      "company: 119\n",
      "dress_code: 261\n",
      "job_position: 127\n",
      "pay_schedule: 37\n",
      "benefits: 91\n",
      "compensation: 42\n",
      "payment_option: 30\n",
      "background_screening: 84\n",
      "person: 42\n",
      "hire_prerequisite: 109\n",
      "shifts: 70\n",
      "schedule: 62\n",
      "employee_type: 25\n",
      "onboarding_steps: 20\n"
     ]
    }
   ],
   "source": [
    "for _cc, _e_list in gold_labels_dict.items():\n",
    "    print(f'{_cc}: {len(_e_list)}')"
   ]
  },
  {
   "cell_type": "code",
   "execution_count": 79,
   "metadata": {},
   "outputs": [],
   "source": [
    "gold_labels_list = []\n",
    "for _cc, _e_list in gold_labels_dict.items():\n",
    "    for _e in _e_list:\n",
    "        gold_labels_list.append((_cc, _e))\n",
    "pd.DataFrame(gold_labels_list, columns=['concept', 'neighbor']).to_csv(out_EE_label_file, index=False)"
   ]
  },
  {
   "cell_type": "markdown",
   "metadata": {},
   "source": [
    "### Extract labeled entities"
   ]
  },
  {
   "cell_type": "code",
   "execution_count": 233,
   "metadata": {},
   "outputs": [],
   "source": [
    "in_EE_label_file = os.path.join(base_dir, f'data/indeed-benchmark/ee-increment-labels-2.csv')\n",
    "out_EE_label_file = os.path.join(base_dir, f'data/indeed-benchmark/ee-labels-2.csv')"
   ]
  },
  {
   "cell_type": "code",
   "execution_count": 234,
   "metadata": {},
   "outputs": [],
   "source": [
    "in_ee_df = pd.read_csv(in_EE_label_file)\n",
    "\n",
    "gold_labels_dict = dict()\n",
    "for d in in_ee_df.to_dict('records'):\n",
    "    if d['Majority'] != 1:\n",
    "        continue\n",
    "    _cc = d['concept']\n",
    "    _e = d['neighbor']\n",
    "    gold_labels_dict[_cc] = gold_labels_dict.get(_cc, []) + [_e]\n"
   ]
  },
  {
   "cell_type": "code",
   "execution_count": 235,
   "metadata": {},
   "outputs": [
    {
     "name": "stdout",
     "output_type": "stream",
     "text": [
      "company: 155\n",
      "dress_code: 268\n",
      "job_position: 152\n",
      "pay_schedule: 37\n",
      "benefits: 116\n",
      "compensation: 47\n",
      "payment_option: 30\n",
      "background_screening: 104\n",
      "person: 67\n",
      "hire_prerequisite: 137\n",
      "shifts: 89\n",
      "schedule: 69\n",
      "employee_type: 30\n",
      "onboarding_steps: 30\n"
     ]
    }
   ],
   "source": [
    "for _cc, _e_list in gold_labels_dict.items():\n",
    "    print(f'{_cc}: {len(_e_list)}')"
   ]
  },
  {
   "cell_type": "code",
   "execution_count": 236,
   "metadata": {},
   "outputs": [],
   "source": [
    "gold_labels_list = []\n",
    "for _cc, _e_list in gold_labels_dict.items():\n",
    "    for _e in _e_list:\n",
    "        gold_labels_list.append((_cc, _e))\n",
    "pd.DataFrame(gold_labels_list, columns=['concept', 'neighbor']).to_csv(out_EE_label_file, index=False)"
   ]
  },
  {
   "cell_type": "code",
   "execution_count": null,
   "metadata": {},
   "outputs": [],
   "source": []
  },
  {
   "cell_type": "markdown",
   "metadata": {},
   "source": [
    "### Increment label file"
   ]
  },
  {
   "cell_type": "code",
   "execution_count": 103,
   "metadata": {},
   "outputs": [],
   "source": [
    "ee_incre_label_path = os.path.join(base_dir, f'data/indeed-benchmark/ee-increment-labels-2.csv')\n",
    "ee_pred_paths = [\n",
    "    os.path.join(base_dir, f'data/{data_ac}/intermediate/ee_concept_knn_roberta_k=None.csv'),\n",
    "    os.path.join(base_dir, f'data/{data_ac}/intermediate/ee_concept_contr_knn_roberta_k=None.csv'),\n",
    "    os.path.join(base_dir, f'data/{data_ac}/intermediate/ee_LM_roberta_k=None.csv'),\n",
    "    os.path.join(base_dir, f'data/{data_ac}/intermediate/ee_LM_roberta_contr_k=None.csv'),\n",
    "]\n",
    "# ee_pred_path = os.path.join(base_dir, f'data/{data_ac}/intermediate/ee_concept_contr_knn-aux-k=None.csv')"
   ]
  },
  {
   "cell_type": "code",
   "execution_count": 104,
   "metadata": {},
   "outputs": [],
   "source": [
    "# Self-check and dedup current label file \n",
    "\n",
    "ee_label_df = pd.read_csv(ee_incre_label_path)\n",
    "ee_label_dict = dict()  # Dict[(cc, e), maj]\n",
    "for _d in ee_label_df.to_dict('record'):\n",
    "    _key = (_d['concept'], _d['neighbor'])\n",
    "    _label = ee_label_dict.get(_key, None)\n",
    "    if _label is None:\n",
    "        ee_label_dict[_key] = _d['Majority']\n",
    "    elif _label == 'ERR':\n",
    "        pass\n",
    "    else:\n",
    "        if _label != _d['Majority']:\n",
    "            print(f\"Contradict: {_key}\")\n",
    "            ee_label_dict[_key] = 'ERR'"
   ]
  },
  {
   "cell_type": "code",
   "execution_count": 105,
   "metadata": {},
   "outputs": [
    {
     "data": {
      "text/plain": [
       "3435"
      ]
     },
     "execution_count": 105,
     "metadata": {},
     "output_type": "execute_result"
    }
   ],
   "source": [
    "len(ee_label_dict)"
   ]
  },
  {
   "cell_type": "code",
   "execution_count": 106,
   "metadata": {},
   "outputs": [
    {
     "data": {
      "text/plain": [
       "{'company': 0,\n",
       " 'dress_code': 1,\n",
       " 'job_position': 2,\n",
       " 'pay_schedule': 3,\n",
       " 'benefits': 4,\n",
       " 'compensation': 5,\n",
       " 'payment_option': 6,\n",
       " 'background_screening': 7,\n",
       " 'person': 8,\n",
       " 'hire_prerequisite': 9,\n",
       " 'shifts': 10,\n",
       " 'schedule': 11,\n",
       " 'employee_type': 12,\n",
       " 'onboarding_steps': 13}"
      ]
     },
     "execution_count": 106,
     "metadata": {},
     "output_type": "execute_result"
    }
   ],
   "source": [
    "_concepts = ee_label_df['concept'].drop_duplicates(keep='first').tolist()\n",
    "_concepts_order_dict = dict([(_concepts[i], i) for i in range(len(_concepts))])\n",
    "_concepts_order_dict"
   ]
  },
  {
   "cell_type": "code",
   "execution_count": 107,
   "metadata": {},
   "outputs": [
    {
     "data": {
      "text/plain": [
       "5620"
      ]
     },
     "execution_count": 107,
     "metadata": {},
     "output_type": "execute_result"
    }
   ],
   "source": [
    "K = 100\n",
    "\n",
    "for ee_pred_path in ee_pred_paths:\n",
    "    ee_new_df = pd.read_csv(ee_pred_path)\n",
    "\n",
    "    for _cc in _concepts:\n",
    "        _new_ents = ee_new_df[ee_new_df['concept'] == _cc]['neighbor'].tolist()[:K]\n",
    "        for _e in _new_ents:\n",
    "            _key = (_cc, _e)\n",
    "            if _key in ee_label_dict:\n",
    "                continue\n",
    "            ee_label_dict[_key] = None\n",
    "\n",
    "len(ee_label_dict)"
   ]
  },
  {
   "cell_type": "code",
   "execution_count": 109,
   "metadata": {
    "scrolled": true
   },
   "outputs": [
    {
     "data": {
      "text/plain": [
       "([{'concept': 'company',\n",
       "   'neighbor': 'wal mart',\n",
       "   'label-Nikita': 1,\n",
       "   'label-Sajjadur': 1.0,\n",
       "   'label-Yutong': 1,\n",
       "   'Disagree': 0,\n",
       "   'Majority': 1},\n",
       "  {'concept': 'company',\n",
       "   'neighbor': 'walmart',\n",
       "   'label-Nikita': 1,\n",
       "   'label-Sajjadur': 1.0,\n",
       "   'label-Yutong': 1,\n",
       "   'Disagree': 0,\n",
       "   'Majority': 1},\n",
       "  {'concept': 'company',\n",
       "   'neighbor': 'costco',\n",
       "   'label-Nikita': 1,\n",
       "   'label-Sajjadur': 1.0,\n",
       "   'label-Yutong': 1,\n",
       "   'Disagree': 0,\n",
       "   'Majority': 1}],\n",
       " [{'concept': 'onboarding_steps',\n",
       "   'neighbor': 'changeup',\n",
       "   'label-Nikita': nan,\n",
       "   'label-Sajjadur': nan,\n",
       "   'label-Yutong': nan,\n",
       "   'Disagree': nan,\n",
       "   'Majority': nan},\n",
       "  {'concept': 'onboarding_steps',\n",
       "   'neighbor': 'personal issues',\n",
       "   'label-Nikita': nan,\n",
       "   'label-Sajjadur': nan,\n",
       "   'label-Yutong': nan,\n",
       "   'Disagree': nan,\n",
       "   'Majority': nan},\n",
       "  {'concept': 'onboarding_steps',\n",
       "   'neighbor': 'basic information',\n",
       "   'label-Nikita': nan,\n",
       "   'label-Sajjadur': nan,\n",
       "   'label-Yutong': nan,\n",
       "   'Disagree': nan,\n",
       "   'Majority': nan}])"
      ]
     },
     "execution_count": 109,
     "metadata": {},
     "output_type": "execute_result"
    }
   ],
   "source": [
    "_out_records = []\n",
    "_added_keys = set()\n",
    "\n",
    "# remove existing errors \n",
    "for _d in ee_label_df.to_dict('record'):\n",
    "    _cc = _d['concept']\n",
    "    _e = _d['neighbor']\n",
    "    if (_cc, _e) in _added_keys:\n",
    "        continue\n",
    "        \n",
    "    if ee_label_dict[(_cc, _e)] == 'ERR':\n",
    "        _d['label-Nikita'] = _d['label-Sajjadur'] = _d['label-Yutong'] = \\\n",
    "        _d['Disagree'] = _d['Majority'] = np.nan\n",
    "    _out_records.append(_d)   \n",
    "    _added_keys.add((_cc, _e))\n",
    "\n",
    "for (_cc, _e), _label in ee_label_dict.items():\n",
    "    if (_cc, _e) in _added_keys:\n",
    "        continue\n",
    "        \n",
    "    _out_records.append({\n",
    "        'concept': _cc,\n",
    "        'neighbor': _e,\n",
    "        'label-Nikita': np.nan,\n",
    "        'label-Sajjadur': np.nan,\n",
    "        'label-Yutong': np.nan,\n",
    "        'Disagree': np.nan,\n",
    "        'Majority': np.nan\n",
    "    })\n",
    "    _added_keys.add((_cc, _e))\n",
    "\n",
    "_out_records.sort(key=lambda d : (np.isnan(d['Majority']), _concepts_order_dict[d['concept']]))\n",
    "_out_records[:3], _out_records[-3:]"
   ]
  },
  {
   "cell_type": "code",
   "execution_count": 110,
   "metadata": {},
   "outputs": [],
   "source": [
    "# ee_incre_new_path: the new unlabeled file \n",
    "ee_incre_new_path = os.path.join(base_dir, f'data/indeed-benchmark/ee-increment-labels-NEW3.csv')\n",
    "pd.DataFrame(_out_records).to_csv(ee_incre_new_path, index=None)"
   ]
  },
  {
   "cell_type": "code",
   "execution_count": null,
   "metadata": {},
   "outputs": [],
   "source": []
  },
  {
   "cell_type": "markdown",
   "metadata": {},
   "source": [
    "## Entity expansion evaluation\n",
    "Now using benchmark entities, mean reciprocal rank"
   ]
  },
  {
   "cell_type": "code",
   "execution_count": 96,
   "metadata": {},
   "outputs": [
    {
     "name": "stdout",
     "output_type": "stream",
     "text": [
      "--- Summary ---\r\n",
      "Concept                  Max K   Gold K   P@K     R@K     P@20    R@20   P@100   R@100  \r\n",
      "company                   8058    150    0.3733  0.3733  1.0000  0.1333  0.5200  0.3467 \r\n",
      "dress_code                8056    261    0.2184  0.2184  0.8000  0.0613  0.3500  0.1341 \r\n",
      "job_position              8056    145    0.1310  0.1310  0.4500  0.0621  0.1800  0.1241 \r\n",
      "pay_schedule              8059     34    0.0882  0.0882  0.1500  0.0882  0.0500  0.1471 \r\n",
      "benefits                  8057    110    0.2182  0.2182  0.6500  0.1182  0.2400  0.2182 \r\n",
      "compensation              8059     43    0.1163  0.1163  0.1000  0.0465  0.0800  0.1860 \r\n",
      "payment_option            8060     27    0.1481  0.1481  0.2000  0.1481  0.0600  0.2222 \r\n",
      "background_screening      8060    102    0.2157  0.2157  0.3500  0.0686  0.2200  0.2157 \r\n",
      "person                    8054     58    0.1034  0.1034  0.0500  0.0172  0.0700  0.1207 \r\n",
      "hire_prerequisite         8058    133    0.1278  0.1278  0.3500  0.0526  0.1500  0.1128 \r\n",
      "shifts                    8059     88    0.2955  0.2955  0.7000  0.1591  0.2600  0.2955 \r\n",
      "schedule                  8056     62    0.0806  0.0806  0.2000  0.0645  0.0700  0.1129 \r\n",
      "employee_type             8060     27    0.1481  0.1481  0.2000  0.1481  0.1100  0.4074 \r\n",
      "onboarding_steps          8058     28    0.0714  0.0714  0.0500  0.0357  0.0600  0.2143 \r\n",
      "\r\n"
     ]
    }
   ],
   "source": [
    "!python eval_entities.py \\\n",
    "-b $base_dir/data/indeed-benchmark \\\n",
    "-pred $base_dir/data/$data_ac/intermediate/ee_concept_knn_roberta_k=None.csv \\\n",
    "-o $base_dir/data/$data_ac/intermediate/ee_concept_knn_roberta_k=None_eval.csv \\\n",
    "-rank sim \\\n",
    "-rev"
   ]
  },
  {
   "cell_type": "code",
   "execution_count": 98,
   "metadata": {},
   "outputs": [
    {
     "name": "stdout",
     "output_type": "stream",
     "text": [
      "--- Summary ---\r\n",
      "Concept                  Max K   Gold K   P@K     R@K     P@20    R@20   P@100   R@100  \r\n",
      "company                   1217    150    0.3800  0.3800  1.0000  0.1333  0.5100  0.3400 \r\n",
      "dress_code                241     261    0.7593  0.7011  1.0000  0.0766  0.8300  0.3180 \r\n",
      "job_position              633     145    0.2138  0.2138  0.4500  0.0621  0.2600  0.1793 \r\n",
      "pay_schedule               13      34    0.1538  0.0588  0.1538  0.0588  0.1538  0.0588 \r\n",
      "benefits                  159     110    0.2636  0.2636  0.8000  0.1455  0.2700  0.2455 \r\n",
      "compensation               40      43    0.1250  0.1163  0.1500  0.0698  0.1250  0.1163 \r\n",
      "payment_option             80      27    0.3333  0.3333  0.3500  0.2593  0.1250  0.3704 \r\n",
      "background_screening      1698    102    0.2157  0.2157  0.4500  0.0882  0.2200  0.2157 \r\n",
      "person                    101      58    0.1724  0.1724  0.2000  0.0690  0.1400  0.2414 \r\n",
      "hire_prerequisite         208     133    0.2105  0.2105  0.5000  0.0752  0.1900  0.1429 \r\n",
      "shifts                    499      88    0.1364  0.1364  0.4000  0.0909  0.1200  0.1364 \r\n",
      "schedule                   75      62    0.2742  0.2742  0.3000  0.0968  0.2533  0.3065 \r\n",
      "employee_type              72      27    0.1481  0.1481  0.1500  0.1111  0.0556  0.1481 \r\n",
      "onboarding_steps          3027     28    0.0714  0.0714  0.1000  0.0714  0.0400  0.1429 \r\n",
      "\r\n"
     ]
    }
   ],
   "source": [
    "!python eval_entities.py \\\n",
    "-b $base_dir/data/indeed-benchmark \\\n",
    "-pred $base_dir/data/$data_ac/intermediate/ee_concept_contr_knn_roberta_k=None.csv \\\n",
    "-o $base_dir/data/$data_ac/intermediate/ee_concept_contr_knn_roberta_k=None_eval.csv \\\n",
    "-rank sim+margin \\\n",
    "-rev"
   ]
  },
  {
   "cell_type": "code",
   "execution_count": null,
   "metadata": {},
   "outputs": [],
   "source": [
    "!python eval_entities.py \\\n",
    "-b $base_dir/data/indeed-benchmark \\\n",
    "-pred $base_dir/data/$data_ac/intermediate/ee_concept_acontr_knn_k=None.csv \\\n",
    "-o $base_dir/data/$data_ac/intermediate/ee_concept_acontr_knn_k=None_eval.csv \\\n",
    "-rank sim+margin \\\n",
    "-rev"
   ]
  },
  {
   "cell_type": "code",
   "execution_count": 99,
   "metadata": {},
   "outputs": [
    {
     "name": "stdout",
     "output_type": "stream",
     "text": [
      "--- Summary ---\r\n",
      "Concept                  Max K   Gold K   P@K     R@K     P@20    R@20   P@100   R@100  \r\n",
      "company                   7926    150    0.1200  0.1200  0.2000  0.0267  0.1700  0.1133 \r\n",
      "dress_code                7924    261    0.4789  0.4789  0.7000  0.0536  0.7200  0.2759 \r\n",
      "job_position              7924    145    0.5448  0.5448  0.8000  0.1103  0.6600  0.4552 \r\n",
      "pay_schedule              7927     34    0.5000  0.5000  0.7500  0.4412  0.2000  0.5882 \r\n",
      "benefits                  7925    110    0.5273  0.5273  0.9000  0.1636  0.5800  0.5273 \r\n",
      "compensation              7927     43    0.3953  0.3953  0.4500  0.2093  0.3000  0.6977 \r\n",
      "payment_option            7928     27    0.4815  0.4815  0.4000  0.2963  0.2200  0.8148 \r\n",
      "background_screening      7928    102    0.5196  0.5196  0.8000  0.1569  0.5200  0.5098 \r\n",
      "person                    7922     58    0.3621  0.3621  0.7000  0.2414  0.2400  0.4138 \r\n",
      "hire_prerequisite         7926    133    0.4135  0.4135  0.6500  0.0977  0.5100  0.3835 \r\n",
      "shifts                    7927     88    0.6818  0.6818  1.0000  0.2273  0.6000  0.6818 \r\n",
      "schedule                  7924     62    0.3871  0.3871  0.9000  0.2903  0.2600  0.4194 \r\n",
      "employee_type             7928     27    0.2963  0.2963  0.3000  0.2222  0.1300  0.4815 \r\n",
      "onboarding_steps          7926     28    0.1429  0.1429  0.2000  0.1429  0.1300  0.4643 \r\n",
      "\r\n"
     ]
    }
   ],
   "source": [
    "# Use script\n",
    "# Using 'aux' doesn't matter for non contrastive methods\n",
    "\n",
    "!python eval_entities.py \\\n",
    "-b $base_dir/data/indeed-benchmark \\\n",
    "-pred $base_dir/data/$data_ac/intermediate/ee_LM_roberta_k=None.csv \\\n",
    "-o $base_dir/data/$data_ac/intermediate/ee_LM_roberta_k=None_eval.csv\n"
   ]
  },
  {
   "cell_type": "code",
   "execution_count": 100,
   "metadata": {},
   "outputs": [
    {
     "name": "stdout",
     "output_type": "stream",
     "text": [
      "--- Summary ---\r\n",
      "Concept                  Max K   Gold K   P@K     R@K     P@20    R@20   P@100   R@100  \r\n",
      "company                   3712    150    0.1333  0.1333  0.3500  0.0467  0.1700  0.1133 \r\n",
      "dress_code                419     261    0.5977  0.5977  0.7500  0.0575  0.8100  0.3103 \r\n",
      "job_position              376     145    0.5931  0.5931  0.8500  0.1172  0.6700  0.4621 \r\n",
      "pay_schedule              167      34    0.3235  0.3235  0.5000  0.2941  0.1200  0.3529 \r\n",
      "benefits                  148     110    0.4636  0.4636  0.9000  0.1636  0.5100  0.4636 \r\n",
      "compensation              159      43    0.4419  0.4419  0.5000  0.2326  0.2900  0.6744 \r\n",
      "payment_option            162      27    0.4815  0.4815  0.4500  0.3333  0.1900  0.7037 \r\n",
      "background_screening      226     102    0.5588  0.5588  0.7500  0.1471  0.5600  0.5490 \r\n",
      "person                    435      58    0.3793  0.3793  0.8000  0.2759  0.2800  0.4828 \r\n",
      "hire_prerequisite         879     133    0.3534  0.3534  0.6000  0.0902  0.4200  0.3158 \r\n",
      "shifts                    129      88    0.6364  0.6364  1.0000  0.2273  0.5600  0.6364 \r\n",
      "schedule                  194      62    0.3226  0.3226  0.8000  0.2581  0.2100  0.3387 \r\n",
      "employee_type             243      27    0.2963  0.2963  0.3500  0.2593  0.1500  0.5556 \r\n",
      "onboarding_steps          682      28    0.1429  0.1429  0.2000  0.1429  0.1100  0.3929 \r\n",
      "\r\n"
     ]
    }
   ],
   "source": [
    "!python eval_entities.py \\\n",
    "-b $base_dir/data/indeed-benchmark \\\n",
    "-pred $base_dir/data/$data_ac/intermediate/ee_LM_roberta_contr_k=None.csv \\\n",
    "-o $base_dir/data/$data_ac/intermediate/ee_LM_roberta_contr_k=None_eval.csv\n"
   ]
  },
  {
   "cell_type": "code",
   "execution_count": null,
   "metadata": {},
   "outputs": [],
   "source": [
    "!python eval_entities.py \\\n",
    "-b $base_dir/data/indeed-benchmark \\\n",
    "-pred $base_dir/data/$data_ac/intermediate/ee_LM_bert_acontr_k=None.csv \\\n",
    "-o $base_dir/data/$data_ac/intermediate/ee_LM_bert_acontr_k=None_eval.csv\n"
   ]
  },
  {
   "cell_type": "code",
   "execution_count": 124,
   "metadata": {},
   "outputs": [
    {
     "name": "stdout",
     "output_type": "stream",
     "text": [
      "--- Summary ---\r\n",
      "Concept                  Max K   Gold K   P@K     R@K     P@20    R@20   P@100   R@100  \r\n",
      "company                   7942    150    0.3800  0.3800  0.7000  0.0933  0.4400  0.2933 \r\n",
      "dress_code                7924    261    0.7241  0.7241  0.8000  0.0613  0.8300  0.3180 \r\n",
      "job_position              7924    145    0.5034  0.5034  0.7000  0.0966  0.6100  0.4207 \r\n",
      "pay_schedule              7927     34    0.4706  0.4706  0.5500  0.3235  0.2000  0.5882 \r\n",
      "benefits                  7926    110    0.5000  0.5000  1.0000  0.1818  0.5300  0.4818 \r\n",
      "compensation              7927     43    0.3256  0.3256  0.3500  0.1628  0.2700  0.6279 \r\n",
      "payment_option            7928     27    0.3333  0.3333  0.3500  0.2593  0.2100  0.7778 \r\n",
      "background_screening      7956    102    0.4314  0.4314  0.6500  0.1275  0.4300  0.4216 \r\n",
      "person                    7922     58    0.4310  0.4310  0.6000  0.2069  0.2700  0.4655 \r\n",
      "hire_prerequisite         7926    133    0.3910  0.3910  0.6500  0.0977  0.3700  0.2782 \r\n",
      "shifts                    7953     88    0.5455  0.5455  0.8000  0.1818  0.5300  0.6023 \r\n",
      "schedule                  7924     62    0.4355  0.4355  0.6500  0.2097  0.3000  0.4839 \r\n",
      "employee_type             7928     27    0.1481  0.1481  0.2000  0.1481  0.1100  0.4074 \r\n",
      "onboarding_steps          7988     28    0.2143  0.2143  0.1500  0.1071  0.1200  0.4286 \r\n",
      "\r\n"
     ]
    }
   ],
   "source": [
    "# Use script\n",
    "!python eval_entities.py \\\n",
    "-b $base_dir/data/indeed-benchmark \\\n",
    "-pred $base_dir/data/$data_ac/intermediate/ee_mrr_combine_roberta_k=None.csv \\\n",
    "-o $base_dir/data/$data_ac/intermediate/ee_mrr_combine_roberta_k=None_eval.csv\n"
   ]
  },
  {
   "cell_type": "code",
   "execution_count": null,
   "metadata": {},
   "outputs": [],
   "source": [
    "!python eval_entities.py \\\n",
    "-b $base_dir/data/indeed-benchmark \\\n",
    "-pred $base_dir/data/$data_ac/intermediate/ee_mrr_combine_2-emb_contr+lm_contr-k=None.csv \\\n",
    "-o $base_dir/data/$data_ac/intermediate/ee_mrr_combine_2-k=None_eval.csv\n"
   ]
  },
  {
   "cell_type": "code",
   "execution_count": 283,
   "metadata": {},
   "outputs": [
    {
     "name": "stdout",
     "output_type": "stream",
     "text": [
      "--- Summary ---\r\n",
      "Concept                  Max K   Gold K   P@K     R@K     P@20    R@20   P@100   R@100  \r\n",
      "company                   175     150    0.4733  0.4733  1.0000  0.1333  0.6900  0.4600 \r\n",
      "dress_code                 75     261    0.8667  0.2490  1.0000  0.0766  0.8667  0.2490 \r\n",
      "job_position               62     145    0.6452  0.2759  0.9000  0.1241  0.6452  0.2759 \r\n",
      "pay_schedule               15      34    0.2000  0.0882  0.2000  0.0882  0.2000  0.0882 \r\n",
      "benefits                   71     110    0.5211  0.3364  0.8500  0.1545  0.5211  0.3364 \r\n",
      "compensation               73      43    0.3488  0.3488  0.4500  0.2093  0.2740  0.4651 \r\n",
      "payment_option            110      27    0.5185  0.5185  0.6500  0.4815  0.1600  0.5926 \r\n",
      "background_screening      576     102    0.4118  0.4118  0.6500  0.1275  0.4100  0.4020 \r\n",
      "person                    168      58    0.3103  0.3103  0.4000  0.1379  0.2800  0.4828 \r\n",
      "hire_prerequisite         128     133    0.3359  0.3233  0.8500  0.1278  0.4100  0.3083 \r\n",
      "shifts                    396      88    0.1591  0.1591  0.2000  0.0455  0.1600  0.1818 \r\n",
      "schedule                  114      62    0.3387  0.3387  0.2500  0.0806  0.3200  0.5161 \r\n",
      "employee_type              55      27    0.2222  0.2222  0.2500  0.1852  0.1455  0.2963 \r\n",
      "onboarding_steps          1200     28    0.1786  0.1786  0.1000  0.0714  0.0700  0.2500 \r\n",
      "\r\n"
     ]
    }
   ],
   "source": [
    "!python eval_entities.py \\\n",
    "-b $base_dir/data/indeed-benchmark \\\n",
    "-pred $base_dir/data/$data_ac/intermediate/ee_concept_contr_knn-aux-k=None.csv \\\n",
    "-o $base_dir/data/$data_ac/intermediate/ee_concept_contr_knn-aux-k=None_eval.csv\n"
   ]
  },
  {
   "cell_type": "code",
   "execution_count": 372,
   "metadata": {},
   "outputs": [
    {
     "name": "stdout",
     "output_type": "stream",
     "text": [
      "--- Summary ---\r\n",
      "Concept                  Max K   Gold K   P@K     R@K     P@20    R@20   P@100   R@100  \r\n",
      "company                   8059    150    0.4467  0.4467  1.0000  0.1333  0.6300  0.4200 \r\n",
      "dress_code                8057    261    0.3985  0.3985  0.9500  0.0728  0.7200  0.2759 \r\n",
      "job_position              8057    145    0.2690  0.2690  0.7000  0.0966  0.3400  0.2345 \r\n",
      "pay_schedule              8060     34    0.1471  0.1471  0.2500  0.1471  0.0900  0.2647 \r\n",
      "benefits                  8058    110    0.2364  0.2364  0.7000  0.1273  0.2500  0.2273 \r\n",
      "compensation              8060     43    0.2791  0.2791  0.3500  0.1628  0.1900  0.4419 \r\n",
      "payment_option            8061     27    0.5556  0.5556  0.6500  0.4815  0.1600  0.5926 \r\n",
      "background_screening      8061    102    0.3725  0.3725  0.6500  0.1275  0.3800  0.3725 \r\n",
      "person                    8055     58    0.1724  0.1724  0.4000  0.1379  0.1200  0.2069 \r\n",
      "hire_prerequisite         8059    133    0.2180  0.2180  0.7500  0.1128  0.2600  0.1955 \r\n",
      "shifts                    8060     88    0.4091  0.4091  0.7500  0.1705  0.3900  0.4432 \r\n",
      "schedule                  8057     62    0.2581  0.2581  0.3000  0.0968  0.2600  0.4194 \r\n",
      "employee_type             8061     27    0.1852  0.1852  0.2500  0.1852  0.0800  0.2963 \r\n",
      "onboarding_steps          8059     28    0.1786  0.1786  0.1500  0.1071  0.0900  0.3214 \r\n",
      "\r\n"
     ]
    }
   ],
   "source": [
    "!python eval_entities.py \\\n",
    "-b $base_dir/data/indeed-benchmark \\\n",
    "-pred $base_dir/data/$data_ac/intermediate/ee_concept_acontr_knn-aux-k=None.csv \\\n",
    "-o $base_dir/data/$data_ac/intermediate/ee_concept_acontr_knn-aux-k=None_eval.csv\n"
   ]
  },
  {
   "cell_type": "code",
   "execution_count": 284,
   "metadata": {},
   "outputs": [
    {
     "name": "stdout",
     "output_type": "stream",
     "text": [
      "--- Summary ---\r\n",
      "Concept                  Max K   Gold K   P@K     R@K     P@20    R@20   P@100   R@100  \r\n",
      "company                   987     150    0.5067  0.5067  1.0000  0.1333  0.7300  0.4867 \r\n",
      "dress_code                331     261    0.5900  0.5900  1.0000  0.0766  0.9400  0.3602 \r\n",
      "job_position              206     145    0.6207  0.6207  1.0000  0.1379  0.8700  0.6000 \r\n",
      "pay_schedule               20      34    0.6000  0.3529  0.6000  0.3529  0.6000  0.3529 \r\n",
      "benefits                  229     110    0.7182  0.7182  1.0000  0.1818  0.7800  0.7091 \r\n",
      "compensation              175      43    0.5814  0.5814  0.7000  0.3256  0.3400  0.7907 \r\n",
      "payment_option            178      27    0.5185  0.5185  0.5500  0.4074  0.1800  0.6667 \r\n",
      "background_screening      259     102    0.5980  0.5980  0.7500  0.1471  0.6100  0.5980 \r\n",
      "person                    215      58    0.4310  0.4310  0.7000  0.2414  0.3100  0.5345 \r\n",
      "hire_prerequisite         441     133    0.4436  0.4436  0.5500  0.0827  0.5400  0.4060 \r\n",
      "shifts                    127      88    0.6705  0.6705  1.0000  0.2273  0.5900  0.6705 \r\n",
      "schedule                   81      62    0.3548  0.3548  0.8500  0.2742  0.2716  0.3548 \r\n",
      "employee_type             220      27    0.5185  0.5185  0.5500  0.4074  0.1600  0.5926 \r\n",
      "onboarding_steps          417      28    0.4286  0.4286  0.5000  0.3571  0.1900  0.6786 \r\n",
      "\r\n"
     ]
    }
   ],
   "source": [
    "!python eval_entities.py \\\n",
    "-b $base_dir/data/indeed-benchmark \\\n",
    "-pred $base_dir/data/$data_ac/intermediate/ee_LM_bert_contr-aux-k=None.csv \\\n",
    "-o $base_dir/data/$data_ac/intermediate/ee_LM_bert_contr-aux-k=None_eval.csv\n"
   ]
  },
  {
   "cell_type": "code",
   "execution_count": 374,
   "metadata": {},
   "outputs": [
    {
     "name": "stdout",
     "output_type": "stream",
     "text": [
      "--- Summary ---\r\n",
      "Concept                  Max K   Gold K   P@K     R@K     P@20    R@20   P@100   R@100  \r\n",
      "company                   8012    150    0.5267  0.5267  1.0000  0.1333  0.7400  0.4933 \r\n",
      "dress_code                8010    261    0.5939  0.5939  0.9500  0.0728  0.9100  0.3487 \r\n",
      "job_position              8010    145    0.7034  0.7034  0.9000  0.1241  0.8900  0.6138 \r\n",
      "pay_schedule              8013     34    0.6176  0.6176  0.8500  0.5000  0.2100  0.6176 \r\n",
      "benefits                  8011    110    0.7273  0.7273  1.0000  0.1818  0.7600  0.6909 \r\n",
      "compensation              8013     43    0.5814  0.5814  0.7000  0.3256  0.3400  0.7907 \r\n",
      "payment_option            8014     27    0.4815  0.4815  0.5000  0.3704  0.1800  0.6667 \r\n",
      "background_screening      8014    102    0.6078  0.6078  0.7500  0.1471  0.6200  0.6078 \r\n",
      "person                    8008     58    0.4483  0.4483  0.7000  0.2414  0.3500  0.6034 \r\n",
      "hire_prerequisite         8012    133    0.4436  0.4436  0.6000  0.0902  0.5300  0.3985 \r\n",
      "shifts                    8013     88    0.7614  0.7614  0.9500  0.2159  0.6800  0.7727 \r\n",
      "schedule                  8010     62    0.4355  0.4355  0.8500  0.2742  0.2800  0.4516 \r\n",
      "employee_type             8014     27    0.5185  0.5185  0.5500  0.4074  0.1900  0.7037 \r\n",
      "onboarding_steps          8012     28    0.4286  0.4286  0.4500  0.3214  0.2000  0.7143 \r\n",
      "\r\n"
     ]
    }
   ],
   "source": [
    "!python eval_entities.py \\\n",
    "-b $base_dir/data/indeed-benchmark \\\n",
    "-pred $base_dir/data/$data_ac/intermediate/ee_LM_bert_acontr-aux-k=None.csv \\\n",
    "-o $base_dir/data/$data_ac/intermediate/ee_LM_bert_acontr-aux-k=None_eval.csv\n"
   ]
  },
  {
   "cell_type": "code",
   "execution_count": 387,
   "metadata": {},
   "outputs": [
    {
     "name": "stdout",
     "output_type": "stream",
     "text": [
      "--- Summary ---\r\n",
      "Concept                  Max K   Gold K   P@K     R@K     P@20    R@20   P@100   R@100  \r\n",
      "company                   1111    150    0.8067  0.8067  1.0000  0.1333  0.9100  0.6067 \r\n",
      "dress_code                358     261    0.6475  0.6475  1.0000  0.0766  0.9400  0.3602 \r\n",
      "job_position              247     145    0.7517  0.7517  1.0000  0.1379  0.8400  0.5793 \r\n",
      "pay_schedule               34      34    0.4412  0.4412  0.7000  0.4118  0.4412  0.4412 \r\n",
      "benefits                  273     110    0.6545  0.6545  0.9500  0.1727  0.6800  0.6182 \r\n",
      "compensation              222      43    0.5581  0.5581  0.6500  0.3023  0.3500  0.8140 \r\n",
      "payment_option            269      27    0.5926  0.5926  0.6000  0.4444  0.2600  0.9630 \r\n",
      "background_screening      772     102    0.5784  0.5784  0.8500  0.1667  0.5900  0.5784 \r\n",
      "person                    352      58    0.4310  0.4310  0.7500  0.2586  0.3600  0.6207 \r\n",
      "hire_prerequisite         548     133    0.5714  0.5714  0.7000  0.1053  0.5700  0.4286 \r\n",
      "shifts                    510      88    0.5568  0.5568  0.6000  0.1364  0.5200  0.5909 \r\n",
      "schedule                  176      62    0.4194  0.4194  0.7000  0.2258  0.3100  0.5000 \r\n",
      "employee_type             261      27    0.5185  0.5185  0.5500  0.4074  0.2000  0.7407 \r\n",
      "onboarding_steps          1538     28    0.3571  0.3571  0.4500  0.3214  0.1700  0.6071 \r\n",
      "\r\n"
     ]
    }
   ],
   "source": [
    "!python eval_entities.py \\\n",
    "-b $base_dir/data/indeed-benchmark \\\n",
    "-pred $base_dir/data/$data_ac/intermediate/ee_mrr_combine_3-emb_contr_aux+lm_contr_aux-k=None.csv \\\n",
    "-o $base_dir/data/$data_ac/intermediate/ee_mrr_combine_3-k=None_eval.csv\n"
   ]
  },
  {
   "cell_type": "code",
   "execution_count": 395,
   "metadata": {},
   "outputs": [
    {
     "name": "stdout",
     "output_type": "stream",
     "text": [
      "--- Summary ---\r\n",
      "Concept                  Max K   Gold K   P@K     R@K     P@20    R@20   P@100   R@100  \r\n",
      "company                   8106    150    0.7667  0.7667  1.0000  0.1333  0.9000  0.6000 \r\n",
      "dress_code                8104    261    0.6667  0.6667  0.9500  0.0728  0.8800  0.3372 \r\n",
      "job_position              8104    145    0.6483  0.6483  0.8000  0.1103  0.7500  0.5172 \r\n",
      "pay_schedule              8107     34    0.5882  0.5882  0.7000  0.4118  0.2300  0.6765 \r\n",
      "benefits                  8105    110    0.5636  0.5636  0.9500  0.1727  0.5900  0.5364 \r\n",
      "compensation              8107     43    0.5116  0.5116  0.5500  0.2558  0.3600  0.8372 \r\n",
      "payment_option            8108     27    0.5556  0.5556  0.6500  0.4815  0.2400  0.8889 \r\n",
      "background_screening      8108    102    0.5784  0.5784  0.8500  0.1667  0.5900  0.5784 \r\n",
      "person                    8102     58    0.3966  0.3966  0.7000  0.2414  0.2900  0.5000 \r\n",
      "hire_prerequisite         8106    133    0.4511  0.4511  0.7000  0.1053  0.4500  0.3383 \r\n",
      "shifts                    8107     88    0.5682  0.5682  0.9000  0.2045  0.5600  0.6364 \r\n",
      "schedule                  8104     62    0.4516  0.4516  0.7000  0.2258  0.3600  0.5806 \r\n",
      "employee_type             8108     27    0.5185  0.5185  0.5000  0.3704  0.2200  0.8148 \r\n",
      "onboarding_steps          8106     28    0.3571  0.3571  0.4500  0.3214  0.1900  0.6786 \r\n",
      "\r\n"
     ]
    }
   ],
   "source": [
    "!python eval_entities.py \\\n",
    "-b $base_dir/data/indeed-benchmark \\\n",
    "-pred $base_dir/data/$data_ac/intermediate/ee_mrr_combine_4-emb_acontr_aux+lm_acontr_aux-k=None.csv \\\n",
    "-o $base_dir/data/$data_ac/intermediate/ee_mrr_combine_4-k=None_eval.csv\n"
   ]
  },
  {
   "cell_type": "code",
   "execution_count": null,
   "metadata": {},
   "outputs": [],
   "source": []
  },
  {
   "cell_type": "code",
   "execution_count": 270,
   "metadata": {},
   "outputs": [
    {
     "name": "stdout",
     "output_type": "stream",
     "text": [
      "--- Summary ---\r\n",
      "Concept                  Max K    MRR     P@20    R@20   P@100   R@100  \r\n",
      "company                    12    0.0207  1.0000  0.0800  1.0000  0.0800 \r\n",
      "dress_code                 10    0.0112  1.0000  0.0383  1.0000  0.0383 \r\n",
      "job_position               7     0.0179  1.0000  0.0483  1.0000  0.0483 \r\n",
      "pay_schedule               9     0.0397  0.5556  0.1471  0.5556  0.1471 \r\n",
      "benefits                   13    0.0289  1.0000  0.1182  1.0000  0.1182 \r\n",
      "compensation               13    0.0495  0.6154  0.1860  0.6154  0.1860 \r\n",
      "payment_option             12    0.0649  0.7500  0.3333  0.7500  0.3333 \r\n",
      "background_screening       14    0.0270  0.9286  0.1275  0.9286  0.1275 \r\n",
      "person                     9     0.0432  0.7778  0.1207  0.7778  0.1207 \r\n",
      "hire_prerequisite          12    0.0107  0.6667  0.0602  0.6667  0.0602 \r\n",
      "shifts                     13    0.0291  0.6154  0.0909  0.6154  0.0909 \r\n",
      "schedule                   11    0.0362  0.5455  0.0968  0.5455  0.0968 \r\n",
      "employee_type              16    0.0596  0.6250  0.3704  0.6250  0.3704 \r\n",
      "onboarding_steps           12    0.0474  0.5000  0.2143  0.5000  0.2143 \r\n",
      "\r\n"
     ]
    }
   ],
   "source": [
    "!python eval_entities.py \\\n",
    "-b $base_dir/data/indeed-benchmark \\\n",
    "-pred $base_dir/data/$data_ac/intermediate/kv_entities-aux-EE=mrr_combine-K=20-RE=Ct+KV=0.9.csv\n"
   ]
  },
  {
   "cell_type": "code",
   "execution_count": null,
   "metadata": {},
   "outputs": [],
   "source": []
  },
  {
   "cell_type": "code",
   "execution_count": 346,
   "metadata": {
    "scrolled": true
   },
   "outputs": [
    {
     "data": {
      "text/plain": [
       "['Marshalls : I went to the open interview sessions they had an applied .',\n",
       " 'Cracker Barrel : Yes they can and when I was working there it was preferred .',\n",
       " 'Amazon.com :   The bias of the promotion panels is to reject the promotion on the slightest thing .',\n",
       " 'Subway : Maybe if they paid better at a different place .',\n",
       " \"Macy's : Seasonal help was during Holiday time .\",\n",
       " \"Target : I 'm not sure why they could not have handled it in one interview .\",\n",
       " 'Burger King : We got paid every two weeks on a we d',\n",
       " \"PetSmart : On more than one occasion l've shown up before 7 pm only to find them closed .\",\n",
       " \"PepsiCo : Yes , I 'm waiting on the same process as you are .\",\n",
       " \"Sam's Club : They do background checks and drug tests .\",\n",
       " 'UPS : No , you can not apply to UPS if you are a convicted criminal',\n",
       " 'Walmart : They were not reabsorbed into other positions ... their jobs were eliminated .',\n",
       " 'Walmart : For the most part they do not , But when they are low in cashiers they pull anyone from the sales floor .',\n",
       " 'Walmart : No , they can wear jeans or capris but not shorts',\n",
       " 'Best Buy : I m not sure honestly .',\n",
       " 'United States Postal Service : The postal service workers union bargaining agreement affects how much members are paid , when and how they are employed .',\n",
       " 'Pizza Hut : It varies from location to location , but they may need parental consent for minors under 16 .',\n",
       " \"Dollar Tree : Did n't know they had a assessment test .\",\n",
       " \"Dunkin' Donuts : Yes , because the day you started at work while waiting for ssc is counted by your accounting for your days that your benifits will pay at the company , .\",\n",
       " 'American Eagle Outfitters : Yes , you can wear ripped jeans',\n",
       " \"McDonald's : First you would have the interview then if they said come back for a orientation that means you have the job\",\n",
       " \"McDonald's : I ended up tossing out my food and leaving due to I did not wish to get sick .\",\n",
       " \"Safeway : If it seems like there was a mistake made example you put in two weeks notice but it is showing you did n't it will take much longer .\",\n",
       " 'Foot Locker : Yes you should be able to know the brands that customers are looking for',\n",
       " 'Sitel : The pay is 9.00   which is very low .',\n",
       " \"Domino's : This is a rather vague question .\",\n",
       " \"The Wendy's Company : I guess it would all depend on your availability .\",\n",
       " 'Kroger Stores : You do receive double pay .',\n",
       " 'Spectrum : Yes they do hire felons my advice is to first be honest put it on your background check second you must have a strong work history third some time must have past from the time you have been convicted at least 3 to 5 years of time and solid work history felons are protected from discrimination you have basic human right laws .. last you must know the law that governs your state it applies to everyone no company can have a blanket policy on barring any group from work except police dept etc.etc.etc .',\n",
       " 'CVS Health : that is their way of tricking you into managing the whole stole , customers , merchandise , etc ... for minimal wage']"
      ]
     },
     "execution_count": 346,
     "metadata": {},
     "output_type": "execute_result"
    }
   ],
   "source": [
    "[d['company'] + ' : ' + ' '.join(d['tokens']) for d in sent_dicts[::10000] if len(d['tokens']) > 5]"
   ]
  },
  {
   "cell_type": "markdown",
   "metadata": {},
   "source": [
    "## EE results visualization"
   ]
  },
  {
   "cell_type": "code",
   "execution_count": 296,
   "metadata": {},
   "outputs": [],
   "source": [
    "def create_tidy_data_gold_k(filepath_dict):\n",
    "    record_ls = []\n",
    "    \n",
    "    for method, f in filepath_dict.items():\n",
    "        res_df = pd.read_csv(f)\n",
    "        for d in res_df.to_dict('records'):\n",
    "            record_ls.append({\n",
    "                'method': method,\n",
    "                'concept': d['concept'],\n",
    "                'acc': d['R@K']\n",
    "            })\n",
    "    df = pd.DataFrame(record_ls)\n",
    "    return df\n",
    "\n",
    "def pivot_df(df_, measure_y, dimension_x, group):\n",
    "    df_pivot = pd.pivot_table(\n",
    "        df_,\n",
    "        values=measure_y,\n",
    "        index=dimension_x,\n",
    "        columns=group,\n",
    "        aggfunc=np.mean\n",
    "    )\n",
    "    return df_pivot"
   ]
  },
  {
   "cell_type": "code",
   "execution_count": 396,
   "metadata": {},
   "outputs": [],
   "source": [
    "ee_eval_filepath_dicts = {\n",
    "    'emb': f'{base_dir}/data/{data_ac}/intermediate/ee_concept_knn_k=None_eval.csv',\n",
    "    'emb-contr': f'{base_dir}/data/{data_ac}/intermediate/ee_concept_contr_knn_k=None_eval.csv',\n",
    "    'emb-contr-aux': f'{base_dir}/data/{data_ac}/intermediate/ee_concept_contr_knn-aux-k=None_eval.csv',\n",
    "    'lm': f'{base_dir}/data/{data_ac}/intermediate/ee_LM_bert_k=None_eval.csv',\n",
    "    'lm-contr': f'{base_dir}/data/{data_ac}/intermediate/ee_LM_bert_contr_k=None_eval.csv',\n",
    "    'lm-contr-aux': f'{base_dir}/data/{data_ac}/intermediate/ee_LM_bert_contr-aux-k=None_eval.csv',\n",
    "    'mrr-combine': f'{base_dir}/data/{data_ac}/intermediate/ee_mrr_combine_k=None_eval.csv',\n",
    "    'mrr-combine-aux': f'{base_dir}/data/{data_ac}/intermediate/ee_mrr_combine_3-k=None_eval.csv',\n",
    "}\n",
    "\n",
    "_eval_df = create_tidy_data_gold_k(ee_eval_filepath_dicts)"
   ]
  },
  {
   "cell_type": "code",
   "execution_count": 397,
   "metadata": {},
   "outputs": [
    {
     "data": {
      "text/html": [
       "<div>\n",
       "<style scoped>\n",
       "    .dataframe tbody tr th:only-of-type {\n",
       "        vertical-align: middle;\n",
       "    }\n",
       "\n",
       "    .dataframe tbody tr th {\n",
       "        vertical-align: top;\n",
       "    }\n",
       "\n",
       "    .dataframe thead th {\n",
       "        text-align: right;\n",
       "    }\n",
       "</style>\n",
       "<table border=\"1\" class=\"dataframe\">\n",
       "  <thead>\n",
       "    <tr style=\"text-align: right;\">\n",
       "      <th></th>\n",
       "      <th>method</th>\n",
       "      <th>concept</th>\n",
       "      <th>acc</th>\n",
       "    </tr>\n",
       "  </thead>\n",
       "  <tbody>\n",
       "    <tr>\n",
       "      <th>0</th>\n",
       "      <td>emb</td>\n",
       "      <td>company</td>\n",
       "      <td>0.413333</td>\n",
       "    </tr>\n",
       "    <tr>\n",
       "      <th>1</th>\n",
       "      <td>emb</td>\n",
       "      <td>dress_code</td>\n",
       "      <td>0.295019</td>\n",
       "    </tr>\n",
       "    <tr>\n",
       "      <th>2</th>\n",
       "      <td>emb</td>\n",
       "      <td>job_position</td>\n",
       "      <td>0.220690</td>\n",
       "    </tr>\n",
       "  </tbody>\n",
       "</table>\n",
       "</div>"
      ],
      "text/plain": [
       "  method       concept       acc\n",
       "0    emb       company  0.413333\n",
       "1    emb    dress_code  0.295019\n",
       "2    emb  job_position  0.220690"
      ]
     },
     "execution_count": 397,
     "metadata": {},
     "output_type": "execute_result"
    }
   ],
   "source": [
    "_eval_df.head(3)"
   ]
  },
  {
   "cell_type": "code",
   "execution_count": 347,
   "metadata": {},
   "outputs": [],
   "source": [
    "# easy = ['company','dress_code','benefits','job_position','employee_type']\n",
    "# hard = ['background_screening', 'compensation', 'hire_prerequisite','onboarding_steps','payment_option','person','schedule','shifts']\n",
    "\n",
    "# cc_groups = {\n",
    "#     '1-easy': ['company', 'dress_code', 'job_position', 'benefits', 'payment_option', 'employee_type'],\n",
    "#     '2-medium': ['hire_prerequisite', 'background_screening', 'shifts', 'pay_schedule', 'schedule'],\n",
    "#     '3-hard': ['person', 'onboarding_steps', 'compensation']\n",
    "# }\n",
    "\n",
    "cc_groups = {\n",
    "    '1-non-overlap': ['company', 'dress_code', 'job_position', 'payment_option', 'employee_type', 'onboarding_steps'],\n",
    "    '2-overlap': ['hire_prerequisite', 'background_screening', 'person', 'benefits', 'compensation', 'shifts', 'pay_schedule', 'schedule']\n",
    "}\n",
    "\n",
    "cc2group = dict([(cc, g) for g, cc_list in cc_groups.items() for cc in cc_list])"
   ]
  },
  {
   "cell_type": "code",
   "execution_count": 348,
   "metadata": {},
   "outputs": [
    {
     "data": {
      "text/plain": [
       "{'company': '1-non-overlap',\n",
       " 'dress_code': '1-non-overlap',\n",
       " 'job_position': '1-non-overlap',\n",
       " 'payment_option': '1-non-overlap',\n",
       " 'employee_type': '1-non-overlap',\n",
       " 'onboarding_steps': '1-non-overlap',\n",
       " 'hire_prerequisite': '2-overlap',\n",
       " 'background_screening': '2-overlap',\n",
       " 'person': '2-overlap',\n",
       " 'benefits': '2-overlap',\n",
       " 'compensation': '2-overlap',\n",
       " 'shifts': '2-overlap',\n",
       " 'pay_schedule': '2-overlap',\n",
       " 'schedule': '2-overlap'}"
      ]
     },
     "execution_count": 348,
     "metadata": {},
     "output_type": "execute_result"
    }
   ],
   "source": [
    "cc2group"
   ]
  },
  {
   "cell_type": "code",
   "execution_count": 398,
   "metadata": {},
   "outputs": [
    {
     "data": {
      "text/html": [
       "<div>\n",
       "<style scoped>\n",
       "    .dataframe tbody tr th:only-of-type {\n",
       "        vertical-align: middle;\n",
       "    }\n",
       "\n",
       "    .dataframe tbody tr th {\n",
       "        vertical-align: top;\n",
       "    }\n",
       "\n",
       "    .dataframe thead th {\n",
       "        text-align: right;\n",
       "    }\n",
       "</style>\n",
       "<table border=\"1\" class=\"dataframe\">\n",
       "  <thead>\n",
       "    <tr style=\"text-align: right;\">\n",
       "      <th></th>\n",
       "      <th>method</th>\n",
       "      <th>concept</th>\n",
       "      <th>acc</th>\n",
       "      <th>group</th>\n",
       "    </tr>\n",
       "  </thead>\n",
       "  <tbody>\n",
       "    <tr>\n",
       "      <th>0</th>\n",
       "      <td>emb</td>\n",
       "      <td>company</td>\n",
       "      <td>0.413333</td>\n",
       "      <td>0-all</td>\n",
       "    </tr>\n",
       "    <tr>\n",
       "      <th>1</th>\n",
       "      <td>emb</td>\n",
       "      <td>dress_code</td>\n",
       "      <td>0.295019</td>\n",
       "      <td>0-all</td>\n",
       "    </tr>\n",
       "    <tr>\n",
       "      <th>2</th>\n",
       "      <td>emb</td>\n",
       "      <td>job_position</td>\n",
       "      <td>0.220690</td>\n",
       "      <td>0-all</td>\n",
       "    </tr>\n",
       "  </tbody>\n",
       "</table>\n",
       "</div>"
      ],
      "text/plain": [
       "  method       concept       acc  group\n",
       "0    emb       company  0.413333  0-all\n",
       "1    emb    dress_code  0.295019  0-all\n",
       "2    emb  job_position  0.220690  0-all"
      ]
     },
     "execution_count": 398,
     "metadata": {},
     "output_type": "execute_result"
    }
   ],
   "source": [
    "_eval_df['group'] = _eval_df.apply(lambda row: cc2group[row['concept']], axis=1)\n",
    "_eval_df_2 = _eval_df.copy()\n",
    "_eval_df_2['group'] = '0-all'\n",
    "_eval_df_a = pd.concat([_eval_df_2, _eval_df])\n",
    "_eval_df_a.head(3)"
   ]
  },
  {
   "cell_type": "code",
   "execution_count": 399,
   "metadata": {},
   "outputs": [
    {
     "data": {
      "text/plain": [
       "<matplotlib.legend.Legend at 0x7f04d56d9850>"
      ]
     },
     "execution_count": 399,
     "metadata": {},
     "output_type": "execute_result"
    },
    {
     "data": {
      "image/png": "[encoded data removed]",
      "text/plain": [
       "<Figure size 576x432 with 1 Axes>"
      ]
     },
     "metadata": {
      "needs_background": "light"
     },
     "output_type": "display_data"
    }
   ],
   "source": [
    "# _df_plot = _eval_df_a[_eval_df_a.apply(lambda row: row['method'] != 'mrr-combine', axis=1)]\n",
    "_df_plot = _eval_df_a\n",
    "df_pivot_difficulty = pivot_df(_df_plot, \"acc\", \"group\", \"method\")\n",
    "df_pivot_difficulty.plot(kind=\"bar\", figsize=(8,6)).legend(loc='upper left',ncol=1,bbox_to_anchor=(1.05, 1))"
   ]
  },
  {
   "cell_type": "code",
   "execution_count": null,
   "metadata": {},
   "outputs": [],
   "source": []
  },
  {
   "cell_type": "code",
   "execution_count": null,
   "metadata": {},
   "outputs": [],
   "source": []
  },
  {
   "cell_type": "markdown",
   "metadata": {},
   "source": [
    "## Dump (expanded) entities"
   ]
  },
  {
   "cell_type": "code",
   "execution_count": 110,
   "metadata": {},
   "outputs": [
    {
     "data": {
      "text/plain": [
       "(112322, 3)"
      ]
     },
     "execution_count": 110,
     "metadata": {},
     "output_type": "execute_result"
    }
   ],
   "source": [
    "ee_pred_path = os.path.join(base_dir, f'data/{data_ac}/intermediate/ee_mrr_combine_k=None.csv')\n",
    "ee_df = pd.read_csv(ee_pred_path)\n",
    "ee_df.shape"
   ]
  },
  {
   "cell_type": "code",
   "execution_count": 112,
   "metadata": {
    "scrolled": true
   },
   "outputs": [
    {
     "data": {
      "text/plain": [
       "{'company': ['walmart', 'amazon', 'subway', 'microsoft', 'target'],\n",
       " 'dress_code': ['business casual',\n",
       "  'uniform',\n",
       "  'hair color',\n",
       "  'tattoos',\n",
       "  'facial hair',\n",
       "  'shoes',\n",
       "  'piercings'],\n",
       " 'job_position': ['delivery driver',\n",
       "  'store manager',\n",
       "  'cashier',\n",
       "  'package handler',\n",
       "  'sales associate',\n",
       "  'barista',\n",
       "  'dishwasher'],\n",
       " 'pay_schedule': ['weekly', 'biweekly', 'friday', 'saturday'],\n",
       " 'benefits': ['health insurance',\n",
       "  'flexible schedule',\n",
       "  '401k',\n",
       "  'paid vacation',\n",
       "  'sick leave',\n",
       "  'vision insurance'],\n",
       " 'compensation': ['base pay',\n",
       "  'stock options',\n",
       "  'benefits',\n",
       "  'overtime pay',\n",
       "  'bonus'],\n",
       " 'payment_option': ['checks', 'direct deposit', 'prepaid card'],\n",
       " 'background_screening': ['drug test',\n",
       "  'criminal background check',\n",
       "  'employment verification'],\n",
       " 'person': ['felons',\n",
       "  'criminals',\n",
       "  'disabled',\n",
       "  'drug addicts',\n",
       "  'high schoolers',\n",
       "  'misdemeanor',\n",
       "  'pregnant',\n",
       "  'students',\n",
       "  'seniors'],\n",
       " 'hire_prerequisite': ['hiring age',\n",
       "  'bachelors degree',\n",
       "  'prior experience',\n",
       "  'working permit',\n",
       "  'heavy lifting'],\n",
       " 'shifts': ['night shift',\n",
       "  'dinner shift',\n",
       "  'early morning shift',\n",
       "  '8 hour shift'],\n",
       " 'schedule': ['christmas eve',\n",
       "  'early morning',\n",
       "  'hoilday',\n",
       "  '7 days',\n",
       "  'saturday',\n",
       "  'sunday',\n",
       "  'weekend'],\n",
       " 'employee_type': ['full time', 'part time', 'seasonal'],\n",
       " 'onboarding_steps': ['orientation',\n",
       "  'introduction',\n",
       "  'workstation',\n",
       "  'training',\n",
       "  'team lunch']}"
      ]
     },
     "execution_count": 112,
     "metadata": {},
     "output_type": "execute_result"
    }
   ],
   "source": [
    "concepts_df = load_seed_aligned_concepts(seed_aligned_concepts_path)\n",
    "instances_dict = dict(zip(concepts_df['alignedCategoryName'].tolist(),\n",
    "                      concepts_df['seedInstances'].tolist()))\n",
    "instances_dict"
   ]
  },
  {
   "cell_type": "code",
   "execution_count": 114,
   "metadata": {},
   "outputs": [
    {
     "data": {
      "text/plain": [
       "[('company', 23),\n",
       " ('dress_code', 25),\n",
       " ('job_position', 22),\n",
       " ('pay_schedule', 21),\n",
       " ('benefits', 23),\n",
       " ('compensation', 21),\n",
       " ('payment_option', 21),\n",
       " ('background_screening', 21),\n",
       " ('person', 25),\n",
       " ('hire_prerequisite', 22),\n",
       " ('shifts', 23),\n",
       " ('schedule', 25),\n",
       " ('employee_type', 20),\n",
       " ('onboarding_steps', 25)]"
      ]
     },
     "execution_count": 114,
     "metadata": {},
     "output_type": "execute_result"
    }
   ],
   "source": [
    "K = 20\n",
    "for cc, e_list in instances_dict.items():\n",
    "    e_list = list(set(e_list + ee_df[ee_df['concept'] == cc]['neighbor'].tolist()[:K]))\n",
    "    instances_dict[cc] = e_list\n",
    "[(cc, len(e_list)) for cc, e_list in instances_dict.items()]"
   ]
  },
  {
   "cell_type": "code",
   "execution_count": 117,
   "metadata": {},
   "outputs": [],
   "source": [
    "instances_dict_path = os.path.join(base_dir, f'data/{data_ac}/intermediate/expanded_mrr_combine_k=20.json')\n",
    "with open(instances_dict_path, 'w') as f:\n",
    "    json.dump(instances_dict, f, indent=4)"
   ]
  },
  {
   "cell_type": "code",
   "execution_count": null,
   "metadata": {},
   "outputs": [],
   "source": []
  },
  {
   "cell_type": "markdown",
   "metadata": {},
   "source": [
    "# LM probes"
   ]
  },
  {
   "cell_type": "markdown",
   "metadata": {},
   "source": [
    "## Probability-based"
   ]
  },
  {
   "cell_type": "code",
   "execution_count": 37,
   "metadata": {},
   "outputs": [],
   "source": [
    "lm_probe_gpt2 = LMProbe_GPT2()"
   ]
  },
  {
   "cell_type": "code",
   "execution_count": 38,
   "metadata": {},
   "outputs": [
    {
     "data": {
      "text/plain": [
       "(1356, 3)"
      ]
     },
     "execution_count": 38,
     "metadata": {},
     "output_type": "execute_result"
    }
   ],
   "source": [
    "ee_path = os.path.join(base_dir, f'data/{data_ac}/intermediate/concept_knn_100.csv')\n",
    "ee_df = pd.read_csv(ee_path)\n",
    "ee_df.shape"
   ]
  },
  {
   "cell_type": "markdown",
   "metadata": {},
   "source": [
    "### has_dress_code"
   ]
  },
  {
   "cell_type": "code",
   "execution_count": 39,
   "metadata": {},
   "outputs": [
    {
     "name": "stdout",
     "output_type": "stream",
     "text": [
      "company dress_code\n"
     ]
    }
   ],
   "source": [
    "_r = 'has_dress_code'\n",
    "\n",
    "_r_row = seed_relations_df[seed_relations_df['alignedRelationName'] == _r].iloc[0]\n",
    "_h_type = _r_row['domain']\n",
    "_t_type = _r_row['range']\n",
    "print(_h_type, _t_type)"
   ]
  },
  {
   "cell_type": "code",
   "execution_count": 40,
   "metadata": {},
   "outputs": [
    {
     "data": {
      "text/plain": [
       "(['walmart', 'amazon', 'subway', 'microsoft', 'target'],\n",
       " ['business casual',\n",
       "  'uniform',\n",
       "  'hair color',\n",
       "  'tattoos',\n",
       "  'facial hair',\n",
       "  'shoes',\n",
       "  'piercings'])"
      ]
     },
     "execution_count": 40,
     "metadata": {},
     "output_type": "execute_result"
    }
   ],
   "source": [
    "_seed_heads = seed_concepts_df[seed_concepts_df['alignedCategoryName'] == _h_type]['seedInstances'].item()\n",
    "_seed_tails = seed_concepts_df[seed_concepts_df['alignedCategoryName'] == _t_type]['seedInstances'].item()\n",
    "_seed_heads, _seed_tails"
   ]
  },
  {
   "cell_type": "code",
   "execution_count": 42,
   "metadata": {},
   "outputs": [
    {
     "data": {
      "text/plain": [
       "(97, 94)"
      ]
     },
     "execution_count": 42,
     "metadata": {},
     "output_type": "execute_result"
    }
   ],
   "source": [
    "_cand_heads = ee_df[ee_df['concept'] == _h_type]['neighbor'].tolist()\n",
    "_cand_tails = ee_df[ee_df['concept'] == _t_type]['neighbor'].tolist()\n",
    "len(_cand_heads), len(_cand_tails)"
   ]
  },
  {
   "cell_type": "code",
   "execution_count": null,
   "metadata": {
    "scrolled": true
   },
   "outputs": [],
   "source": [
    "_template = 'walmart allows [MASK].'\n",
    "_res = lm_probe_gpt2.score_candidates(input_txt=_template, cands=_cand_tails)\n",
    "list(enumerate(_res))"
   ]
  },
  {
   "cell_type": "code",
   "execution_count": null,
   "metadata": {},
   "outputs": [],
   "source": []
  },
  {
   "cell_type": "code",
   "execution_count": null,
   "metadata": {
    "scrolled": true
   },
   "outputs": [],
   "source": [
    "# Microsoft \n",
    "_template = 'microsoft allows [MASK].'\n",
    "_res = lm_probe_gpt2.score_candidates(input_txt=_template, cands=_cand_tails)\n",
    "list(enumerate(_res))"
   ]
  },
  {
   "cell_type": "markdown",
   "metadata": {},
   "source": [
    "### has_background_screening"
   ]
  },
  {
   "cell_type": "code",
   "execution_count": 88,
   "metadata": {},
   "outputs": [
    {
     "name": "stdout",
     "output_type": "stream",
     "text": [
      "company background_screening\n",
      "['walmart', 'amazon', 'subway', 'microsoft', 'target'] ['drug test', 'criminal background check', 'employment verification']\n",
      "97 98\n"
     ]
    }
   ],
   "source": [
    "_r = 'has_background_screening'\n",
    "\n",
    "_r_row = seed_relations_df[seed_relations_df['alignedRelationName'] == _r].iloc[0]\n",
    "_h_type = _r_row['domain']\n",
    "_t_type = _r_row['range']\n",
    "print(_h_type, _t_type)\n",
    "\n",
    "_seed_heads = seed_concepts_df[seed_concepts_df['alignedCategoryName'] == _h_type]['seedInstances'].item()\n",
    "_seed_tails = seed_concepts_df[seed_concepts_df['alignedCategoryName'] == _t_type]['seedInstances'].item()\n",
    "print(_seed_heads, _seed_tails)\n",
    "\n",
    "_cand_heads = ee_df[ee_df['concept'] == _h_type]['neighbor'].tolist()\n",
    "_cand_tails = ee_df[ee_df['concept'] == _t_type]['neighbor'].tolist()\n",
    "print(len(_cand_heads), len(_cand_tails))"
   ]
  },
  {
   "cell_type": "code",
   "execution_count": null,
   "metadata": {
    "scrolled": true
   },
   "outputs": [],
   "source": [
    "# Microsoft \n",
    "_template = 'microsoft checks for [MASK].'\n",
    "_res = lm_probe_gpt2.score_candidates(input_txt=_template, cands=_cand_tails)\n",
    "list(enumerate(_res))"
   ]
  },
  {
   "cell_type": "code",
   "execution_count": null,
   "metadata": {
    "scrolled": true
   },
   "outputs": [],
   "source": [
    "_template = 'microsoft checks for drugs, [MASK] and felonies.'\n",
    "_res = lm_probe_gpt2.score_candidates(input_txt=_template, cands=_cand_tails)\n",
    "list(enumerate(_res))"
   ]
  },
  {
   "cell_type": "code",
   "execution_count": null,
   "metadata": {},
   "outputs": [],
   "source": []
  },
  {
   "cell_type": "code",
   "execution_count": null,
   "metadata": {},
   "outputs": [],
   "source": []
  },
  {
   "cell_type": "markdown",
   "metadata": {},
   "source": [
    "## PMI-based"
   ]
  },
  {
   "cell_type": "code",
   "execution_count": 73,
   "metadata": {},
   "outputs": [
    {
     "name": "stderr",
     "output_type": "stream",
     "text": [
      "Some weights of the model checkpoint at bert-base-uncased were not used when initializing BertForMaskedLM: ['cls.seq_relationship.weight', 'cls.seq_relationship.bias']\n",
      "- This IS expected if you are initializing BertForMaskedLM from the checkpoint of a model trained on another task or with another architecture (e.g. initializing a BertForSequenceClassification model from a BertForPretraining model).\n",
      "- This IS NOT expected if you are initializing BertForMaskedLM from the checkpoint of a model that you expect to be exactly identical (initializing a BertForSequenceClassification model from a BertForSequenceClassification model).\n"
     ]
    }
   ],
   "source": [
    "lm_probe_pmi = LMProbe_PMI()"
   ]
  },
  {
   "cell_type": "markdown",
   "metadata": {},
   "source": [
    "### has_dress_code"
   ]
  },
  {
   "cell_type": "code",
   "execution_count": null,
   "metadata": {
    "scrolled": true
   },
   "outputs": [],
   "source": [
    "_template = '[HEAD] allows dress code [TAIL].'\n",
    "_res = []\n",
    "for _t in _cand_tails:\n",
    "    _pmi = lm_probe_pmi.score_candidate_pair(input_txt=_template, head='walmart', tail=_t)\n",
    "    _res.append((_t, _pmi))\n",
    "_res.sort(key=lambda p: p[1], reverse=True)\n",
    "list(enumerate(_res))"
   ]
  },
  {
   "cell_type": "code",
   "execution_count": null,
   "metadata": {},
   "outputs": [],
   "source": []
  },
  {
   "cell_type": "code",
   "execution_count": null,
   "metadata": {
    "scrolled": true
   },
   "outputs": [],
   "source": [
    "# To generate prompts? (not working: high-PMI prompts not ruling out \"close\" wrong entities)\n",
    "\n",
    "_template = 'microsoft allows [HEAD] [TAIL].'\n",
    "_res = []\n",
    "\n",
    "for _t in _cand_tails:\n",
    "    _pmi = lm_probe_pmi.score_candidate_pair(input_txt=_template, head='jeans', tail=_t)\n",
    "    _res.append((_t, _pmi))\n",
    "_res.sort(key=lambda p: p[1], reverse=True)\n",
    "list(enumerate(_res))"
   ]
  },
  {
   "cell_type": "code",
   "execution_count": null,
   "metadata": {
    "scrolled": true
   },
   "outputs": [],
   "source": [
    "_template = 'microsoft allows [HEAD] [TAIL].'\n",
    "_res = []\n",
    "\n",
    "for _t in _cand_tails:\n",
    "    _pmi = lm_probe_pmi.score_candidate_pair(input_txt=_template, head='business casual', tail=_t)\n",
    "    _res.append((_t, _pmi))\n",
    "_res.sort(key=lambda p: p[1], reverse=True)\n",
    "list(enumerate(_res))"
   ]
  },
  {
   "cell_type": "code",
   "execution_count": null,
   "metadata": {
    "scrolled": true
   },
   "outputs": [],
   "source": [
    "_template = '[HEAD] allows [TAIL] clothing.'\n",
    "_res = []\n",
    "for _t in _cand_tails:\n",
    "    _pmi = lm_probe_pmi.score_candidate_pair(input_txt=_template, head='microsoft', tail=_t)\n",
    "    _res.append((_t, _pmi))\n",
    "_res.sort(key=lambda p: p[1], reverse=True)\n",
    "list(enumerate(_res))"
   ]
  },
  {
   "cell_type": "code",
   "execution_count": null,
   "metadata": {},
   "outputs": [],
   "source": []
  },
  {
   "cell_type": "code",
   "execution_count": null,
   "metadata": {},
   "outputs": [],
   "source": []
  },
  {
   "cell_type": "markdown",
   "metadata": {},
   "source": [
    "## LM correlation-based"
   ]
  },
  {
   "cell_type": "markdown",
   "metadata": {},
   "source": [
    "### BERT"
   ]
  },
  {
   "cell_type": "code",
   "execution_count": 226,
   "metadata": {},
   "outputs": [],
   "source": [
    "# corpus_path = os.path.join(base_dir, f'data/{data_ac}/intermediate/sentences_with_company.json')\n",
    "\n",
    "# with open(corpus_path, 'r') as f:\n",
    "#     sent_dicts = [json.loads(l) for l in f]"
   ]
  },
  {
   "cell_type": "code",
   "execution_count": 227,
   "metadata": {},
   "outputs": [
    {
     "name": "stderr",
     "output_type": "stream",
     "text": [
      "Some weights of the model checkpoint at bert-base-uncased were not used when initializing BertForMaskedLM: ['cls.seq_relationship.weight', 'cls.seq_relationship.bias']\n",
      "- This IS expected if you are initializing BertForMaskedLM from the checkpoint of a model trained on another task or with another architecture (e.g. initializing a BertForSequenceClassification model from a BertForPretraining model).\n",
      "- This IS NOT expected if you are initializing BertForMaskedLM from the checkpoint of a model that you expect to be exactly identical (initializing a BertForSequenceClassification model from a BertForSequenceClassification model).\n"
     ]
    }
   ],
   "source": [
    "lm_probe = LMProbe()"
   ]
  },
  {
   "cell_type": "code",
   "execution_count": 228,
   "metadata": {
    "scrolled": true
   },
   "outputs": [],
   "source": [
    "# input_file_path = os.path.join(base_dir, f'data/{data_ac}/intermediate/sent_segmentation.txt')\n",
    "# ent_freq, dedup_context = get_masked_contexts(input_file_path)\n",
    "\n",
    "corpus_path = os.path.join(base_dir, f'data/{data_ac}/intermediate/sentences_with_company.json')\n",
    "embed_num_path = os.path.join(base_dir, f'data/{data_ac}/intermediate/BERTembednum+seeds.txt')\n",
    "\n",
    "entities, dedup_context = get_masked_contexts(corpus_path, embed_num_path)"
   ]
  },
  {
   "cell_type": "code",
   "execution_count": 229,
   "metadata": {},
   "outputs": [
    {
     "data": {
      "text/plain": [
       "(8064, 8064, 7921)"
      ]
     },
     "execution_count": 229,
     "metadata": {},
     "output_type": "execute_result"
    }
   ],
   "source": [
    "len(entities), len(set(entities)), len(dedup_context)"
   ]
  },
  {
   "cell_type": "code",
   "execution_count": 230,
   "metadata": {},
   "outputs": [
    {
     "data": {
      "text/plain": [
       "[2372, 4132, 1144, 314, 55]"
      ]
     },
     "execution_count": 230,
     "metadata": {},
     "output_type": "execute_result"
    }
   ],
   "source": [
    "all_ents_tokenized = [tuple(lm_probe.tokenizer.tokenize(e)) for e in entities]\n",
    "all_ents_tokenized = list(set(all_ents_tokenized))\n",
    "[sum([len(e_t) == _l for e_t in all_ents_tokenized]) for _l in (1,2,3,4,5)]"
   ]
  },
  {
   "cell_type": "code",
   "execution_count": 247,
   "metadata": {},
   "outputs": [],
   "source": [
    "## TODO: keep rank in output\n",
    "\n",
    "def entity_expansion_corr(seed_concepts_path=seed_aligned_concepts_path,\n",
    "                          all_contexts=dedup_context, \n",
    "                          all_ents_tokenized=all_ents_tokenized, \n",
    "                          lm_probe=lm_probe,\n",
    "                          max_allowed_ngrams=3,\n",
    "                          max_contexts=50,\n",
    "                          top_k=100):\n",
    "    if lm_probe is None:\n",
    "        lm_probe = LMProbe()\n",
    "        \n",
    "    seed_concepts_df = load_seed_aligned_concepts(seed_concepts_path)\n",
    "    \n",
    "#     if contexts is None:\n",
    "#         try:\n",
    "#             contexts = dedup_context[entity]\n",
    "#         except KeyError:\n",
    "#             print(f'\"{entity}\" not an extracted entity!')\n",
    "#             return None\n",
    "\n",
    "    _out_records = []\n",
    "\n",
    "    for i, (a_concept, u_concept, gnrl, seed_instances) in tqdm(seed_concepts_df.iterrows(), total=seed_concepts_df.shape[0]):\n",
    "        _expand_set = set()\n",
    "        _expand_records = []\n",
    "        \n",
    "        for _inst in seed_instances:\n",
    "            print(f'{a_concept} :: {_inst}')\n",
    "            try:\n",
    "                contexts = all_contexts[_inst]\n",
    "            except KeyError:\n",
    "                print(f'\"{_inst}\" not an extracted entity!')\n",
    "                continue\n",
    "            if len(contexts) < 2:\n",
    "                print(f'\"{_inst}\" only have {len(contexts)} context')\n",
    "                continue\n",
    "\n",
    "            _entity_pieces = lm_probe.tokenizer.tokenize(_inst)\n",
    "            if len(_entity_pieces) > max_allowed_ngrams:\n",
    "                print(f'{_entity_pieces} too many word pieces (max {max_allowed_ngrams})')\n",
    "                continue\n",
    "\n",
    "            entity2probs = defaultdict(list)\n",
    "\n",
    "            for _context in contexts[:max_contexts]:\n",
    "                for n_grams in range(1, max_allowed_ngrams+1):\n",
    "                    _ctxt = _context.replace('[MASK]', '[MASK]' + ' [MASK]' * (n_grams-1))\n",
    "                    _ctxt = '[CLS] ' + _ctxt + ' [SEP]'\n",
    "                    _cands = [e_t for e_t in all_ents_tokenized if len(e_t) == n_grams]\n",
    "                    _cand_scores = lm_probe.score_candidates(_ctxt, _cands)\n",
    "\n",
    "                    for _d in _cand_scores:\n",
    "                        _c = ' '.join(_d['cand']).replace(' ##', '')\n",
    "                        _s = _d['score']\n",
    "                        entity2probs[_c].append(_s)\n",
    "\n",
    "        #     print('entity2probs:', len(entity2probs), len(entity2probs[entity]))\n",
    "            for _e, _ss in entity2probs.items():\n",
    "                assert len(_ss) == len(entity2probs[_inst]), \\\n",
    "                    f'entity: {_e} | {lm_probe.tokenizer.tokenize(_e)}\\n\\\n",
    "                    len(_ss) = {len(_ss)}\\n\\\n",
    "                    len(entity2probs[\"{entity}\"]) = {len(entity2probs[entity])}'\n",
    "\n",
    "            _target_ss = entity2probs[_inst]\n",
    "            _target_ss = _target_ss / np.sum(_target_ss)\n",
    "\n",
    "        #     print(_target_ss.shape, _target_ss)\n",
    "\n",
    "            mean_l = [(_e, np.mean(_ss)) for _e, _ss in entity2probs.items()]\n",
    "            mean_l.sort(key=lambda p : p[-1], reverse=True)\n",
    "            kl_l = [(_e, entropy(_target_ss, _ss)) for _e, _ss in entity2probs.items()]\n",
    "            kl_l.sort(key=lambda p : p[-1], reverse=False)\n",
    "            pearson_l = [(_e, pearsonr(_target_ss, _ss)[0]) for _e, _ss in entity2probs.items()]\n",
    "            pearson_l.sort(key=lambda p : p[-1], reverse=True)\n",
    "\n",
    "            entity2ranks = defaultdict(list)\n",
    "            entity2scores = defaultdict(dict)\n",
    "            for i, (_e, _s) in enumerate(mean_l):\n",
    "                entity2ranks[_e].append(i)\n",
    "                entity2scores[_e][\"mean\"] = _s\n",
    "            for i, (_e, _s) in enumerate(kl_l):\n",
    "                entity2ranks[_e].append(i)\n",
    "                entity2scores[_e][\"kl\"] = _s\n",
    "            for i, (_e, _s) in enumerate(pearson_l):\n",
    "                entity2ranks[_e].append(i)\n",
    "                entity2scores[_e][\"pearson\"] = _s\n",
    "            # To simile top-k set intersection, keep the highest rank of _e among each criteria\n",
    "            entity_overall_ranks = [(_e, max(_ranks)) for _e, _ranks in entity2ranks.items()]\n",
    "            entity_overall_ranks.sort(key=lambda p : p[-1])\n",
    "            entity_overall_ranks_dict = dict(entity_overall_ranks)\n",
    "#             # Now, the top-k is for the final selection, not for each criteria\n",
    "            sel_entities = [_e for _e, _ in entity_overall_ranks[:top_k]]\n",
    "\n",
    "#             ints_mean_l = [p for p in mean_l if p[0] in sel_entities]\n",
    "#             ints_kl_l = [p for p in kl_l if p[0] in sel_entities]\n",
    "#             ints_pearson_l = [p for p in pearson_l if p[0] in sel_entities]\n",
    "\n",
    "#             return {\n",
    "#                 \"entity2probs\": entity2probs,\n",
    "#                 \"mean_l\": mean_l,\n",
    "#                 \"kl_l\": kl_l,\n",
    "#                 \"pearson_l\": pearson_l,\n",
    "#                 \"sel_entities\": sel_entities,\n",
    "#                 \"ints_mean_l\": ints_mean_l,\n",
    "#                 \"ints_kl_l\": ints_kl_l,\n",
    "#                 \"ints_pearson_l\": ints_pearson_l,\n",
    "#             }\n",
    "\n",
    "            for _e in sel_entities:\n",
    "                if (_e in _expand_set) or (_e in seed_instances):\n",
    "                    continue\n",
    "                _expand_set.add(_e)\n",
    "                _d = dict(entity2scores[_e])\n",
    "                _d['max_rank'] = entity_overall_ranks_dict[_e]\n",
    "                _expand_records.append((_e, _d))\n",
    "\n",
    "#         for _inst in seed_instances:\n",
    "#             _expand_set.discard(_inst)\n",
    "\n",
    "        for _e, _d in _expand_records:\n",
    "            _out_d = dict(_d)\n",
    "            _out_d['concept'] = a_concept\n",
    "            _out_d['neighbor'] = _e\n",
    "            _out_records.append(_out_d)\n",
    "\n",
    "    return _out_records"
   ]
  },
  {
   "cell_type": "markdown",
   "metadata": {},
   "source": [
    "#### full run & save"
   ]
  },
  {
   "cell_type": "code",
   "execution_count": 248,
   "metadata": {},
   "outputs": [],
   "source": [
    "corr_expansion_out_path = os.path.join(base_dir, f'data/{data_ac}/intermediate/concept_corr_100.csv')"
   ]
  },
  {
   "cell_type": "code",
   "execution_count": null,
   "metadata": {},
   "outputs": [],
   "source": [
    "entity_expansion_corr(max_contexts=5)"
   ]
  },
  {
   "cell_type": "code",
   "execution_count": null,
   "metadata": {
    "scrolled": true
   },
   "outputs": [],
   "source": [
    "# Use scripts\n",
    "!python compute_EE_corr.py \\\n",
    "-d $base_dir/data/$data_ac/intermediate \\\n",
    "-b $base_dir/data/indeed-benchmark \\\n",
    "-o $base_dir/data/$data_ac/intermediate/concept_corr_100.csv \\\n",
    "-ng 3 \\\n",
    "-ct 50 \\\n",
    "-top_k 100"
   ]
  },
  {
   "cell_type": "markdown",
   "metadata": {},
   "source": [
    "#### observations"
   ]
  },
  {
   "cell_type": "code",
   "execution_count": 20,
   "metadata": {},
   "outputs": [
    {
     "data": {
      "application/vnd.jupyter.widget-view+json": {
       "model_id": "5220cc3e4090474b913a67258c0d98e2",
       "version_major": 2,
       "version_minor": 0
      },
      "text/plain": [
       "HBox(children=(FloatProgress(value=0.0, max=50.0), HTML(value='')))"
      ]
     },
     "metadata": {},
     "output_type": "display_data"
    },
    {
     "name": "stdout",
     "output_type": "stream",
     "text": [
      "\n"
     ]
    }
   ],
   "source": [
    "_entity = 'health insurance'\n",
    "_results = entity_expansion_multiways(_entity)"
   ]
  },
  {
   "cell_type": "code",
   "execution_count": 216,
   "metadata": {},
   "outputs": [
    {
     "data": {
      "text/plain": [
       "20"
      ]
     },
     "execution_count": 216,
     "metadata": {},
     "output_type": "execute_result"
    }
   ],
   "source": [
    "len(_results['sel_entities']), _results['sel_entities']"
   ]
  },
  {
   "cell_type": "code",
   "execution_count": null,
   "metadata": {
    "scrolled": true
   },
   "outputs": [],
   "source": [
    "entity2probs = _results['entity2probs']\n",
    "_ser1 = entity2probs['paid vacation']\n",
    "_ser2 = entity2probs['training class']\n",
    "_ser3 = entity2probs['cash office']\n",
    "\n",
    "_ser1 = (_ser1 - min(_ser1)) / (max(_ser1) - min(_ser1))\n",
    "_ser2 = (_ser2 - min(_ser2)) / (max(_ser2) - min(_ser2))\n",
    "_ser3 = (_ser3 - min(_ser3)) / (max(_ser3) - min(_ser3))\n",
    "\n",
    "list(zip(dedup_context['paid vacation'], _ser1, _ser2, _ser3))"
   ]
  },
  {
   "cell_type": "code",
   "execution_count": null,
   "metadata": {},
   "outputs": [],
   "source": []
  },
  {
   "cell_type": "code",
   "execution_count": null,
   "metadata": {},
   "outputs": [],
   "source": []
  },
  {
   "cell_type": "markdown",
   "metadata": {},
   "source": [
    "### GPT2"
   ]
  },
  {
   "cell_type": "code",
   "execution_count": 10,
   "metadata": {},
   "outputs": [],
   "source": [
    "lm_probe_gpt2 = LMProbe_GPT2()"
   ]
  },
  {
   "cell_type": "code",
   "execution_count": 13,
   "metadata": {},
   "outputs": [],
   "source": [
    "def entity_expansion_multiways_GPT2(entity, \n",
    "                                    contexts=None, \n",
    "                                    entities=entities, \n",
    "                                    lm_probe=lm_probe_gpt2, \n",
    "                                    top_k=20):\n",
    "    if lm_probe is None:\n",
    "        lm_probe = LMProbe_GPT2()\n",
    "    if contexts is None:\n",
    "        contexts = dedup_context[entity]\n",
    "    \n",
    "    # test: speed up x100\n",
    "    entities = entities[::100]\n",
    "    \n",
    "    entity2probs = defaultdict(list)\n",
    "\n",
    "    for _context in tqdm(contexts[:50]):\n",
    "        _cand_scores = lm_probe.score_candidates(_context, entities)\n",
    "\n",
    "        for _d in _cand_scores:\n",
    "            _c = _d['cand']\n",
    "            _s = _d['score']\n",
    "            entity2probs[_c].append(_s)\n",
    "    \n",
    "#     print('entity2probs:', len(entity2probs), len(entity2probs[entity]))\n",
    "    for _e, _ss in entity2probs.items():\n",
    "        assert len(_ss) == len(entity2probs[entity]), \\\n",
    "            f'entity: {_e} | {lm_probe.tokenizer.tokenize(_e)}; len(_ss): {len(_ss)}'\n",
    "    \n",
    "    _target_ss = entity2probs[entity]\n",
    "    _target_ss = _target_ss / np.sum(_target_ss)\n",
    "    \n",
    "    mean_l = [(_e, np.mean(_ss)) for _e, _ss in entity2probs.items()]\n",
    "    mean_l.sort(key=lambda p : p[-1], reverse=True)\n",
    "    kl_l = [(_e, entropy(_target_ss, _ss)) for _e, _ss in entity2probs.items()]\n",
    "    kl_l.sort(key=lambda p : p[-1], reverse=False)\n",
    "    pearson_l = [(_e, pearsonr(_target_ss, _ss)[0]) for _e, _ss in entity2probs.items()]\n",
    "    pearson_l.sort(key=lambda p : p[-1], reverse=True)\n",
    "    \n",
    "    entity2ranks = defaultdict(list)\n",
    "    for i, (_e, _s) in enumerate(mean_l):\n",
    "        entity2ranks[_e].append(i)\n",
    "    for i, (_e, _s) in enumerate(kl_l):\n",
    "        entity2ranks[_e].append(i)\n",
    "    for i, (_e, _s) in enumerate(pearson_l):\n",
    "        entity2ranks[_e].append(i)\n",
    "    # To simile top-k set intersection, keep the highest rank of _e among each criteria\n",
    "    entity_overall_ranks = [(_e, max(_ranks)) for _e, _ranks in entity2ranks.items()]\n",
    "    entity_overall_ranks.sort(key=lambda p : p[-1])\n",
    "    # Now, the top-k is for the final selection, not for each criteria\n",
    "    sel_entities = [_e for _e, _ in entity_overall_ranks[:top_k]]\n",
    "    \n",
    "#     mean_set = set([_e for _e, _s in mean_l[:top_k]])\n",
    "#     kl_set = set([_e for _e, _s in kl_l[:top_k]])\n",
    "#     pearson_set = set([_e for _e, _s in pearson_l[:top_k]])\n",
    "    \n",
    "#     sel_entities = mean_set & kl_set & pearson_set\n",
    "    ints_mean_l = [p for p in mean_l if p[0] in sel_entities]\n",
    "    ints_kl_l = [p for p in kl_l if p[0] in sel_entities]\n",
    "    ints_pearson_l = [p for p in pearson_l if p[0] in sel_entities]\n",
    "    \n",
    "    return {\n",
    "        \"entity2probs\": entity2probs,\n",
    "        \"mean_l\": mean_l,\n",
    "        \"kl_l\": kl_l,\n",
    "        \"pearson_l\": pearson_l,\n",
    "#         \"mean_set\": mean_set,\n",
    "#         \"kl_set\": kl_set,\n",
    "#         \"pearson_set\": pearson_set,\n",
    "        \"sel_entities\": sel_entities,\n",
    "        \"ints_mean_l\": ints_mean_l,\n",
    "        \"ints_kl_l\": ints_kl_l,\n",
    "        \"ints_pearson_l\": ints_pearson_l,\n",
    "    }\n",
    "    "
   ]
  },
  {
   "cell_type": "code",
   "execution_count": null,
   "metadata": {},
   "outputs": [],
   "source": [
    "_entity = 'health insurance'\n",
    "_results = entity_expansion_multiways_GPT2(_entity)"
   ]
  },
  {
   "cell_type": "code",
   "execution_count": null,
   "metadata": {},
   "outputs": [],
   "source": []
  },
  {
   "cell_type": "markdown",
   "metadata": {},
   "source": [
    "## BERT greedy-filling"
   ]
  },
  {
   "cell_type": "code",
   "execution_count": 1,
   "metadata": {},
   "outputs": [],
   "source": [
    "# In lm_probes.py"
   ]
  },
  {
   "cell_type": "code",
   "execution_count": null,
   "metadata": {},
   "outputs": [],
   "source": []
  },
  {
   "cell_type": "markdown",
   "metadata": {},
   "source": [
    "# Relation Extraction Baselines\n",
    "Currently only for single relation. TODO: include all relations"
   ]
  },
  {
   "cell_type": "markdown",
   "metadata": {},
   "source": [
    "## Null baseline - Cartesian product"
   ]
  },
  {
   "cell_type": "code",
   "execution_count": 164,
   "metadata": {},
   "outputs": [
    {
     "name": "stdout",
     "output_type": "stream",
     "text": [
      "company \t pay_schedule\n",
      "company \t dress_code\n",
      "company \t background_screening\n",
      "company \t benefits\n",
      "company \t person\n",
      "company \t compensation\n",
      "company \t hire_prerequisite\n",
      "company \t schedule\n",
      "company \t employee_type\n",
      "company \t onboarding_steps\n",
      "company \t shifts\n",
      "company \t job_position\n",
      "company \t payment_option\n",
      "job_position \t background_screening\n",
      "job_position \t hire_prerequisite\n",
      "job_position \t employee_type\n",
      "job_position \t onboarding_steps\n"
     ]
    }
   ],
   "source": [
    "# Use script \n",
    "!python relation_extraction_cartesian.py \\\n",
    "-d $base_dir/data/$data_ac/intermediate \\\n",
    "-b $base_dir/data/indeed-benchmark \\\n",
    "-o $base_dir/data/$data_ac/intermediate/rel_extraction-aux-EE=emb_contr-K=100-RE=Ct.csv \\\n",
    "-cknn $base_dir/data/$data_ac/intermediate/ee_concept_contr_knn_k=None.csv \\\n",
    "-topk 100"
   ]
  },
  {
   "cell_type": "code",
   "execution_count": 249,
   "metadata": {},
   "outputs": [
    {
     "name": "stdout",
     "output_type": "stream",
     "text": [
      "company \t pay_schedule\n",
      "company \t dress_code\n",
      "company \t background_screening\n",
      "company \t benefits\n",
      "company \t person\n",
      "company \t compensation\n",
      "company \t hire_prerequisite\n",
      "company \t schedule\n",
      "company \t employee_type\n",
      "company \t onboarding_steps\n",
      "company \t shifts\n",
      "company \t job_position\n",
      "company \t payment_option\n",
      "job_position \t background_screening\n",
      "job_position \t hire_prerequisite\n",
      "job_position \t employee_type\n",
      "job_position \t onboarding_steps\n"
     ]
    }
   ],
   "source": [
    "# Use script \n",
    "!python relation_extraction_cartesian.py \\\n",
    "-d $base_dir/data/$data_ac/intermediate \\\n",
    "-b $base_dir/data/indeed-benchmark \\\n",
    "-o $base_dir/data/$data_ac/intermediate/rel_extraction-aux-EE=mrr_combine-K=20-RE=Ct.csv \\\n",
    "-cknn $base_dir/data/$data_ac/intermediate/ee_mrr_combine_k=None.csv \\\n",
    "-topk 20"
   ]
  },
  {
   "cell_type": "code",
   "execution_count": null,
   "metadata": {},
   "outputs": [],
   "source": []
  },
  {
   "cell_type": "markdown",
   "metadata": {},
   "source": [
    "## Relation Extraction - scores weighted average"
   ]
  },
  {
   "cell_type": "code",
   "execution_count": null,
   "metadata": {},
   "outputs": [],
   "source": [
    "# Use script \n",
    "!python relation_extraction_avg_scores.py \\\n",
    "-d $base_dir/data/$data_ac/intermediate \\\n",
    "-b $base_dir/data/indeed-benchmark \\\n",
    "-o $base_dir/data/$data_ac/intermediate/rel_extraction-has_benefits-RE.csv \\\n",
    "-r has_benefits \\\n",
    "-cknn $base_dir/data/$data_ac/intermediate/concept_knn_1000.csv \\\n",
    "-topk 300 \\\n",
    "-dim 768\n"
   ]
  },
  {
   "cell_type": "markdown",
   "metadata": {},
   "source": [
    "## Relation Extraction - LM scoring (full run)"
   ]
  },
  {
   "cell_type": "code",
   "execution_count": null,
   "metadata": {},
   "outputs": [],
   "source": [
    "# Use script \n",
    "!python relation_extraction_LM.py \\\n",
    "-d $base_dir/data/$data_ac/intermediate \\\n",
    "-b $base_dir/data/indeed-benchmark \\\n",
    "-o $base_dir/data/$data_ac/intermediate/rel_extraction-has_benefits-RE=LM_bert+seeds.csv \\\n",
    "-r has_benefits \\\n",
    "-ee $base_dir/data/$data_ac/intermediate/concept_knn_100.csv \\\n",
    "-lm bert \\\n",
    "-ex seeds \\\n",
    "-topk 3000 \\\n",
    "-dim 768\n"
   ]
  },
  {
   "cell_type": "code",
   "execution_count": null,
   "metadata": {},
   "outputs": [],
   "source": [
    "!python relation_extraction_LM.py \\\n",
    "-d $base_dir/data/$data_ac/intermediate \\\n",
    "-b $base_dir/data/indeed-benchmark \\\n",
    "-o $base_dir/data/$data_ac/intermediate/rel_extraction-has_benefits-RE=LM_pmi.csv \\\n",
    "-r has_benefits \\\n",
    "-ee $base_dir/data/$data_ac/intermediate/concept_knn_100.csv \\\n",
    "-lm pmi \\\n",
    "-topk 300 \\\n",
    "-dim 768"
   ]
  },
  {
   "cell_type": "code",
   "execution_count": null,
   "metadata": {},
   "outputs": [],
   "source": []
  },
  {
   "cell_type": "markdown",
   "metadata": {},
   "source": [
    "## Relation Extraction Evaluation"
   ]
  },
  {
   "cell_type": "markdown",
   "metadata": {},
   "source": [
    "### has_dress_code"
   ]
  },
  {
   "cell_type": "code",
   "execution_count": 171,
   "metadata": {},
   "outputs": [
    {
     "name": "stdout",
     "output_type": "stream",
     "text": [
      "--- RE Results ---\r\n",
      "Benchmark relations: 107\r\n",
      "Predicted relations: 10000\r\n",
      "Intersection: 6\r\n",
      "P = 0.0006, R = 0.0561, F1 = 0.0012\r\n",
      "\r\n",
      "Intersection:\r\n",
      "('subway', 'has_dress_code', 'piercings')\r\n",
      "('walmart', 'has_dress_code', 'black jeans')\r\n",
      "('walmart', 'has_dress_code', 'blue collar')\r\n",
      "('walmart', 'has_dress_code', 'face tattoos')\r\n",
      "('walmart', 'has_dress_code', 'jeans')\r\n",
      "('walmart', 'has_dress_code', 'uniform')\r\n",
      "\r\n"
     ]
    }
   ],
   "source": [
    "!python eval_relations.py \\\n",
    "-b $base_dir/data/indeed-benchmark \\\n",
    "-pred $base_dir/data/$data_ac/intermediate/rel_extraction-has_dress_code-EE=LM_bert-RE=Ct.csv \\\n",
    "-r has_dress_code"
   ]
  },
  {
   "cell_type": "code",
   "execution_count": 170,
   "metadata": {},
   "outputs": [
    {
     "name": "stdout",
     "output_type": "stream",
     "text": [
      "--- RE Results ---\r\n",
      "Benchmark relations: 107\r\n",
      "Predicted relations: 203\r\n",
      "Intersection: 4\r\n",
      "P = 0.0197, R = 0.0374, F1 = 0.0258\r\n",
      "\r\n",
      "Intersection:\r\n",
      "('subway', 'has_dress_code', 'piercings')\r\n",
      "('walmart', 'has_dress_code', 'black jeans')\r\n",
      "('walmart', 'has_dress_code', 'jeans')\r\n",
      "('walmart', 'has_dress_code', 'uniform')\r\n",
      "\r\n"
     ]
    }
   ],
   "source": [
    "!python eval_relations.py \\\n",
    "-b $base_dir/data/indeed-benchmark \\\n",
    "-pred $base_dir/data/$data_ac/intermediate/rel_extraction-has_dress_code-EE=LM_bert-RE=Ct+KV=0.9.csv \\\n",
    "-r has_dress_code"
   ]
  },
  {
   "cell_type": "markdown",
   "metadata": {},
   "source": [
    "### has_benefits"
   ]
  },
  {
   "cell_type": "code",
   "execution_count": 93,
   "metadata": {},
   "outputs": [
    {
     "name": "stdout",
     "output_type": "stream",
     "text": [
      "--- RE Results ---\r\n",
      "Benchmark relations: 56\r\n",
      "Predicted relations: 10404\r\n",
      "Intersection: 9\r\n",
      "P = 0.0009, R = 0.1607, F1 = 0.0017\r\n",
      "\r\n",
      "Intersection:\r\n",
      "('burger king', 'has_benefits', 'health')\r\n",
      "('burger king', 'has_benefits', 'sick leave')\r\n",
      "('dollar general', 'has_benefits', 'health insurance')\r\n",
      "('g4s', 'has_benefits', 'sick leave')\r\n",
      "('starbucks', 'has_benefits', 'health')\r\n",
      "('target', 'has_benefits', 'health insurance')\r\n",
      "('walmart', 'has_benefits', '401k')\r\n",
      "('walmart', 'has_benefits', 'life insurance')\r\n",
      "('walmart', 'has_benefits', 'paid vacations')\r\n",
      "\r\n"
     ]
    }
   ],
   "source": [
    "!python eval_relations.py \\\n",
    "-b $base_dir/data/indeed-benchmark \\\n",
    "-pred $base_dir/data/$data_ac/intermediate/rel_extraction-has_benefits-RE=Ct.csv \\\n",
    "-r has_benefits"
   ]
  },
  {
   "cell_type": "code",
   "execution_count": 169,
   "metadata": {
    "scrolled": true
   },
   "outputs": [
    {
     "name": "stdout",
     "output_type": "stream",
     "text": [
      "--- RE Results ---\r\n",
      "Benchmark relations: 56\r\n",
      "Predicted relations: 334\r\n",
      "Intersection: 6\r\n",
      "P = 0.0180, R = 0.1071, F1 = 0.0308\r\n",
      "\r\n",
      "Intersection:\r\n",
      "('starbucks', 'has_benefits', 'health')\r\n",
      "('target', 'has_benefits', 'health insurance')\r\n",
      "('walmart', 'has_benefits', '401k')\r\n",
      "('walmart', 'has_benefits', 'health benefits')\r\n",
      "('walmart', 'has_benefits', 'life insurance')\r\n",
      "('walmart', 'has_benefits', 'paid vacations')\r\n",
      "\r\n"
     ]
    }
   ],
   "source": [
    "!python eval_relations.py \\\n",
    "-b $base_dir/data/indeed-benchmark \\\n",
    "-pred $base_dir/data/$data_ac/intermediate/rel_extraction-has_benefits-EE=LM_bert-RE=Ct+KV=0.9.csv \\\n",
    "-r has_benefits"
   ]
  },
  {
   "cell_type": "markdown",
   "metadata": {},
   "source": [
    "### has_background_screening"
   ]
  },
  {
   "cell_type": "code",
   "execution_count": 131,
   "metadata": {
    "scrolled": true
   },
   "outputs": [
    {
     "name": "stdout",
     "output_type": "stream",
     "text": [
      "--- RE Results ---\r\n",
      "Benchmark relations: 207\r\n",
      "Predicted relations: 10302\r\n",
      "Intersection: 42\r\n",
      "P = 0.0041, R = 0.2029, F1 = 0.0080\r\n",
      "\r\n",
      "Intersection:\r\n",
      "('burger king', 'has_background_screening', 'credit history')\r\n",
      "('burger king', 'has_background_screening', 'drug test')\r\n",
      "('burger king', 'has_background_screening', 'random drug tests')\r\n",
      "('cracker barrel', 'has_background_screening', 'credit history')\r\n",
      "('cracker barrel', 'has_background_screening', 'criminal background')\r\n",
      "('cracker barrel', 'has_background_screening', 'criminal background check')\r\n",
      "('dollar general', 'has_background_screening', 'driving record')\r\n",
      "('dollar general', 'has_background_screening', 'social security number')\r\n",
      "('family dollar', 'has_background_screening', 'credit history')\r\n",
      "('family dollar', 'has_background_screening', 'criminal record')\r\n",
      "('fedex', 'has_background_screening', 'random drug test')\r\n",
      "('geico', 'has_background_screening', 'background check')\r\n",
      "('geico', 'has_background_screening', 'drug test')\r\n",
      "('marshalls', 'has_background_screening', 'drug tests')\r\n",
      "('marshalls', 'has_background_screening', 'random drug test')\r\n",
      "('marshalls', 'has_background_screening', 'test')\r\n",
      "('old navy', 'has_background_screening', 'criminal background check')\r\n",
      "('sitel', 'has_background_screening', 'random drug test')\r\n",
      "('subway', 'has_background_screening', 'drug tests')\r\n",
      "('subway', 'has_background_screening', 'test')\r\n",
      "('target', 'has_background_screening', 'background check')\r\n",
      "('target', 'has_background_screening', 'criminal record')\r\n",
      "('target', 'has_background_screening', 'drug test')\r\n",
      "('target', 'has_background_screening', 'drug tests')\r\n",
      "('target', 'has_background_screening', 'drugs')\r\n",
      "('target', 'has_background_screening', 'previous employment')\r\n",
      "('target', 'has_background_screening', 'random drug tests')\r\n",
      "('verizon', 'has_background_screening', 'criminal background')\r\n",
      "('walgreens', 'has_background_screening', 'drug test')\r\n",
      "('walmart', 'has_background_screening', 'background check')\r\n",
      "('walmart', 'has_background_screening', 'credit check')\r\n",
      "('walmart', 'has_background_screening', 'criminal background')\r\n",
      "('walmart', 'has_background_screening', 'criminal background check')\r\n",
      "('walmart', 'has_background_screening', 'criminal history')\r\n",
      "('walmart', 'has_background_screening', 'criminal record')\r\n",
      "('walmart', 'has_background_screening', 'driving record')\r\n",
      "('walmart', 'has_background_screening', 'drug test')\r\n",
      "('walmart', 'has_background_screening', 'drugs')\r\n",
      "('walmart', 'has_background_screening', 'random drug tests')\r\n",
      "('walmart', 'has_background_screening', 'social media')\r\n",
      "('wells fargo', 'has_background_screening', 'credit check')\r\n",
      "('wells fargo', 'has_background_screening', 'dui')\r\n",
      "\r\n"
     ]
    }
   ],
   "source": [
    "!python eval_relations.py \\\n",
    "-b $base_dir/data/indeed-benchmark \\\n",
    "-pred $base_dir/data/$data_ac/intermediate/rel_extraction-has_background_screening-RE=Ct.csv \\\n",
    "-r has_background_screening"
   ]
  },
  {
   "cell_type": "code",
   "execution_count": 168,
   "metadata": {
    "scrolled": true
   },
   "outputs": [
    {
     "name": "stdout",
     "output_type": "stream",
     "text": [
      "--- RE Results ---\r\n",
      "Benchmark relations: 207\r\n",
      "Predicted relations: 301\r\n",
      "Intersection: 22\r\n",
      "P = 0.0731, R = 0.1063, F1 = 0.0866\r\n",
      "\r\n",
      "Intersection:\r\n",
      "('amazon', 'has_background_screening', 'random drug testing')\r\n",
      "('geico', 'has_background_screening', 'background check')\r\n",
      "('geico', 'has_background_screening', 'drug test')\r\n",
      "('subway', 'has_background_screening', 'drug testing')\r\n",
      "('subway', 'has_background_screening', 'drug tests')\r\n",
      "('subway', 'has_background_screening', 'urine drug test')\r\n",
      "('target', 'has_background_screening', 'background check')\r\n",
      "('target', 'has_background_screening', 'criminal record')\r\n",
      "('target', 'has_background_screening', 'drug test')\r\n",
      "('target', 'has_background_screening', 'drug tests')\r\n",
      "('target', 'has_background_screening', 'random drug testing')\r\n",
      "('target', 'has_background_screening', 'urine test')\r\n",
      "('walmart', 'has_background_screening', 'background check')\r\n",
      "('walmart', 'has_background_screening', 'blood test')\r\n",
      "('walmart', 'has_background_screening', 'credit check')\r\n",
      "('walmart', 'has_background_screening', 'criminal background check')\r\n",
      "('walmart', 'has_background_screening', 'criminal history')\r\n",
      "('walmart', 'has_background_screening', 'criminal record')\r\n",
      "('walmart', 'has_background_screening', 'criminal records')\r\n",
      "('walmart', 'has_background_screening', 'drug screening')\r\n",
      "('walmart', 'has_background_screening', 'drug test')\r\n",
      "('walmart', 'has_background_screening', 'drug testing')\r\n",
      "\r\n"
     ]
    }
   ],
   "source": [
    "!python eval_relations.py \\\n",
    "-b $base_dir/data/indeed-benchmark \\\n",
    "-pred $base_dir/data/$data_ac/intermediate/rel_extraction-has_background_screening-EE=LM_bert-RE=Ct+KV=0.9.csv \\\n",
    "-r has_background_screening"
   ]
  },
  {
   "cell_type": "code",
   "execution_count": null,
   "metadata": {},
   "outputs": [],
   "source": []
  },
  {
   "cell_type": "markdown",
   "metadata": {},
   "source": [
    "# Knowledge Verification baseline\n",
    "(finding co-occurrences of head / tail from corpus)"
   ]
  },
  {
   "cell_type": "markdown",
   "metadata": {},
   "source": [
    "## Knowledge Verification"
   ]
  },
  {
   "cell_type": "code",
   "execution_count": 165,
   "metadata": {},
   "outputs": [
    {
     "name": "stdout",
     "output_type": "stream",
     "text": [
      "Loading files...\n",
      "Finding evidence for rels: 100%|████████████████| 68/68 [00:08<00:00,  8.16it/s]\n"
     ]
    }
   ],
   "source": [
    "# Use script \n",
    "!python knowledge_verification_entail.py \\\n",
    "-d $base_dir/data/$data_ac/intermediate \\\n",
    "-in $base_dir/data/$data_ac/intermediate/rel_extraction-all-EE=mrr_combine-RE=Ct-MINI.csv \\\n",
    "-o_kv $base_dir/data/$data_ac/intermediate/kv_evidences-all-EE=mrr_combine-RE=Ct-MINI.json \\\n",
    "-o_re $base_dir/data/$data_ac/intermediate/rel_extraction-all-EE=mrr_combine-RE=Ct+KV=0.9-MINI.csv \\\n",
    "-r $yutong_base_dir/models/roberta-large \\\n",
    "-rs $yutong_base_dir/repos/Roberta_SES/checkpoints/epoch=2-valid_loss=-0.2620-valid_acc_end=0.9223.ckpt \\\n",
    "-p_kv 0.7 \\\n",
    "-p_re 0.9 \\\n",
    "--fast_skip 3"
   ]
  },
  {
   "cell_type": "code",
   "execution_count": null,
   "metadata": {
    "scrolled": true
   },
   "outputs": [],
   "source": [
    "# Use script \n",
    "!python knowledge_verification_entail.py \\\n",
    "-d $base_dir/data/$data_ac/intermediate \\\n",
    "-in $base_dir/data/$data_ac/intermediate/rel_extraction-aux-EE=mrr_combine-K=100-RE=Ct.csv \\\n",
    "-o_kv $base_dir/data/$data_ac/intermediate/kv_evidences-aux-EE=mrr_combine-K=100-RE=Ct.json \\\n",
    "-o_re $base_dir/data/$data_ac/intermediate/rel_extraction-aux-EE=mrr_combine-K=100-RE=Ct+KV=0.9.csv \\\n",
    "-r $yutong_base_dir/models/roberta-large \\\n",
    "-rs $yutong_base_dir/repos/Roberta_SES/checkpoints/epoch=2-valid_loss=-0.2620-valid_acc_end=0.9223.ckpt \\\n",
    "-p_kv 0.7 \\\n",
    "-p_re 0.9 \\\n",
    "--fast_skip 3"
   ]
  },
  {
   "cell_type": "code",
   "execution_count": 12,
   "metadata": {
    "scrolled": true
   },
   "outputs": [
    {
     "name": "stdout",
     "output_type": "stream",
     "text": [
      "{\"relation\": [\"walmart\", \"has_job_position\", \"pharmacy\"], \"pos_evidences\": [[\"walmart : walmart trains the associate to work in the pharmacy .\", \"walmart hires pharmacy .\", 0.9363555312156677], [\"walmart : and that \\u2019s 7 people in orientation with no drug test i believe they only test for management and pharmacy and auto tech\", \"walmart hires pharmacy .\", 0.9160915017127991], [\"walmart :   one of the cashier 's recently transferred over to the pharmacy department .\", \"walmart hires pharmacy .\", 0.9088402986526489], [\"walmart : walmart does not drug test in ohio except for certain positions such as pharmacy , maintenance , automotive , lawn and garden , and vision center .\", \"walmart hires pharmacy .\", 0.897567629814148], [\"walmart : dairy , hardware , sporting goods , garden , cosmetics , pharmacy , toys , electronics , infants , shoes , apparel , grocery , seasonal , cashier , security(ap )\", \"walmart hires pharmacy .\", 0.8961710929870605], [\"walmart : \\n thier is no reason for me to know how much a \\n pharmacy tech makes !\", \"walmart hires pharmacy .\", 0.8920333981513977], [\"walmart : there are still a few positions the test for like pharmacy ,\", \"walmart hires pharmacy .\", 0.795139729976654], [\"walmart : depending on what department you work in such as pharmacy or photo lab can wear white jeans .\", \"walmart hires pharmacy .\", 0.781256914138794], [\"walmart : because pharmacy is closed that day and they can be utilized to make up theirs hours on the floor\", \"walmart hires pharmacy .\", 0.7198075652122498]], \"neg_evidences\": []}\r\n",
      "{\"relation\": [\"costco\", \"has_job_position\", \"pharmacy\"], \"pos_evidences\": [[\"costco wholesale : yes , costco offers higher pay to pharmacy technicians .\", \"costco hires pharmacy .\", 0.899725615978241]], \"neg_evidences\": []}\r\n",
      "{\"relation\": [\"walgreens\", \"has_job_position\", \"pharmacy\"], \"pos_evidences\": [[\"walgreens : managers have to dress professionally with a uniform vest , pharmacy wears scrubs .\", \"walgreens hires pharmacy .\", 0.9138312339782715], [\"walgreens : all rx employees have to answer to store manager , and most mgmt have no ideas on pharmacy operations\", \"walgreens hires pharmacy .\", 0.910663902759552], [\"walgreens : as my first year pharmacy intern , i made $ 14.00 per hour .\", \"walgreens hires pharmacy .\", 0.9069402813911438], [\"walgreens : and tutor all pharmacy student per curriculum compliance .\", \"walgreens hires pharmacy .\", 0.8771526217460632], [\"walgreens : hourly pay for pharmacy cashier in san diego ca\", \"walgreens hires pharmacy .\", 0.8756823539733887], [\"walgreens : my pharmacy was bought by walgreens after which i became a vested   employee .\", \"walgreens hires pharmacy .\", 0.8732917308807373], [\"walgreens : in my state we could purchase our licenses and work in the pharmacy for 2 years before being required to sit for a certification exam which is paid for by the company .\", \"walgreens hires pharmacy .\", 0.8697731494903564], [\"walgreens :   they are willing to wait for pharmacy graduates .\", \"walgreens hires pharmacy .\", 0.8380436897277832], [\"walgreens : i was originally a cashier , became a designated hitter , and when i learned more and more about pharmacy operations became a pharmacy technician .\", \"walgreens hires pharmacy .\", 0.8224811553955078], [\"walgreens : after the classes , you work in the pharmacy for a certain amount of hours to achieve your florida registration .\", \"walgreens hires pharmacy .\", 0.7990084290504456], [\"walgreens : being in the pharmacy we hardly got breaks , but when we did they were unpaid and you basically had to stuff your face really quick in order to get back to work because it \\u2019s so incredibly busy .\", \"walgreens hires pharmacy .\", 0.7909017205238342], [\"walgreens : i was not to work the front registers , or leave my beauty area for any reason while i was on duty for that matter , other than to give a consultation to a client who was also a patient in the pharmacy at said time or to direct a customer to a product or another area of the store .\", \"walgreens hires pharmacy .\", 0.7295136451721191]], \"neg_evidences\": []}\r\n",
      "{\"relation\": [\"publix\", \"has_job_position\", \"pharmacy\"], \"pos_evidences\": [[\"publix : simple and relatively easy , i interviewed with the pharmacy manager , then the store manager , took a drug test and began working after my one day orientation .\", \"publix hires pharmacy .\", 0.9853129982948303], [\"publix : 40 , pharmacy works full time , no over time\", \"publix hires pharmacy .\", 0.9676539897918701], [\"publix : yes they will work around your schedule and also offer tuition reimburstment for business , accounting and pharmacy majors .\", \"publix hires pharmacy .\", 0.7862443923950195], [\"publix : 7 years , i worked in pharmacy so we delt with controlled substances so dea did background check also\", \"publix hires pharmacy .\", 0.7135412693023682]], \"neg_evidences\": []}\r\n",
      "{\"relation\": [\"kroger\", \"has_job_position\", \"pharmacy\"], \"pos_evidences\": [[\"kroger stores : i applied for a pharmacy tech position at kroger and then they pulled a bait and switch and put me in the front end as a cashier .\", \"kroger hires pharmacy .\", 0.9491642117500305], [\"kroger stores : our kroger did n't have a pharmacy when i was there , but they paid for the permit test to sell alcohol .\", \"kroger hires pharmacy .\", 0.7170569896697998]], \"neg_evidences\": []}\r\n",
      "{\"relation\": [\"pharmacy\", \"position_has_background_screening\", \"drug test\"], \"pos_evidences\": [[\"target : drug test is for pharmacy only\", \"There is drug test for pharmacy .\", 0.9935937523841858], [\"cvs health : any pharmacy will require a drug test before hire .\", \"There is drug test for pharmacy .\", 0.956289529800415], [\"publix : simple and relatively easy , i interviewed with the pharmacy manager , then the store manager , took a drug test and began working after my one day orientation .\", \"There is drug test for pharmacy .\", 0.9207547307014465], [\"walgreens : so i had a drug test yesterday for a pre employment in walgreens as a technician pharmacy trainee , but i mistakenly flushed the toilet during the test at quest diagnostics .\", \"There is drug test for pharmacy .\", 0.8533377647399902], [\"cvs health : well if your job position is in the pharmacy , or being some type of manager they would drug test you , but i was a cashier up front so i did n't have to be .\", \"There is drug test for pharmacy .\", 0.8367856740951538], [\"walmart : i do n't know how the drug test for pharmacy works\", \"There is drug test for pharmacy .\", 0.8267096281051636]], \"neg_evidences\": [[\"cvs health : i 'm pretty sure that cvs as a company does n't drug test as long as you 're not in a management or pharmacy position .\", \"drug test test is not needed for pharmacy .\", 0.853274405002594], [\"walmart : and that \\u2019s 7 people in orientation with no drug test i believe they only test for management and pharmacy and auto tech\", \"drug test is not needed for pharmacy .\", 0.7235949635505676]]}\r\n",
      "{\"relation\": [\"pharmacy\", \"position_has_background_screening\", \"fingerprints\"], \"pos_evidences\": [[\"walmart : in the pharmacy , yes fingerprints are required\", \"There is fingerprints for pharmacy .\", 0.9252024292945862]], \"neg_evidences\": []}\r\n",
      "{\"relation\": [\"pharmacy\", \"position_has_background_screening\", \"employment\"], \"pos_evidences\": [[\"walgreens : so i had a drug test yesterday for a pre employment in walgreens as a technician pharmacy trainee , but i mistakenly flushed the toilet during the test at quest diagnostics .\", \"There is employment for pharmacy .\", 0.9939954876899719], [\"walgreens : i found a document that says they only drug test pharmacy and management after the initial pre - employment test , but that document was from 2011 , so it 's difficult to say if that 's still the rule .\", \"There is employment test for pharmacy .\", 0.9938401579856873]], \"neg_evidences\": []}\r\n",
      "{\"relation\": [\"pharmacy\", \"position_has_background_screening\", \"education\"], \"pos_evidences\": [[\"cvs health : i was just completing pharmacy assistant school so they asked lots of questions about my education and my plans for the future , if any , in pharmacy and becoming a pharmacist .\", \"There is education for pharmacy .\", 0.9685414433479309], [\"walgreens : continuing education helped keep you ready for changes within the pharmacy\", \"There is education for pharmacy .\", 0.9517103433609009]], \"neg_evidences\": []}\r\n",
      "{\"relation\": [\"pharmacy\", \"position_has_background_screening\", \"drug screening\"], \"pos_evidences\": [[\"cvs health : yes they require you to take a urine drug screening before you can work in the pharmacy .\", \"There is drug screening for pharmacy .\", 0.9866138100624084], [\"frito-lay : if you finished the prescription before your drug screening and have disposed of the empty bottle the best advice in this situation is to go to your pharmacy and ask for a print out of the drugs you 've taken in the past 3 months just to cover your butt !\", \"There is drug screening for pharmacy .\", 0.8438934683799744]], \"neg_evidences\": []}\r\n",
      "{\"relation\": [\"pharmacy\", \"position_has_background_screening\", \"drug testing\"], \"pos_evidences\": [[\"walmart : if you work in the pharmacy they are stricter about what they are drug testing for .\", \"There is drug testing for pharmacy .\", 0.9486452341079712], [\"kroger stores : drug testing was done for all jobs when i was hired , now is limited to full time and pharmacy positions .\", \"There is drug testing for pharmacy .\", 0.9396230578422546]], \"neg_evidences\": []}\r\n",
      "{\"relation\": [\"pharmacy\", \"position_has_background_screening\", \"criminal background\"], \"pos_evidences\": [[\"cvs health : can   i still apply for pharmacy tech at cvs with a 17 year old criminal background\", \"There is criminal background for pharmacy .\", 0.9483238458633423]], \"neg_evidences\": []}\r\n",
      "{\"relation\": [\"pharmacy\", \"position_has_background_screening\", \"background check\"], \"pos_evidences\": [[\"kroger stores : i believe it would be conflict with the board of pharmacy background check also .\", \"There is background check for pharmacy .\", 0.9871907234191895], [\"walgreens : walgreens does refund you the money for the background check in pharmacy tech .\", \"There is background check for pharmacy .\", 0.9804272651672363], [\"kroger stores : working in the pharmacy , the background check included and criminal offenses\", \"There is background check for pharmacy .\", 0.9449571967124939], [\"safeway : no they do not check your credit i was in the pharmacy so they do a background check\", \"There is background check for pharmacy .\", 0.8759920001029968]], \"neg_evidences\": []}\r\n",
      "{\"relation\": [\"pharmacy\", \"position_has_background_screening\", \"pre employment\"], \"pos_evidences\": [[\"walgreens : so i had a drug test yesterday for a pre employment in walgreens as a technician pharmacy trainee , but i mistakenly flushed the toilet during the test at quest diagnostics .\", \"There is pre employment test for pharmacy .\", 0.9312736988067627]], \"neg_evidences\": []}\r\n",
      "{\"relation\": [\"pharmacy\", \"position_has_background_screening\", \"medical marijuana card\"], \"pos_evidences\": [[\"cvs health : i do n't have a medical marijuana card but i still will pass the drug test for pharmacy technician because i never did any drugs and till this day i do n't do any drugs .\", \"There is medical marijuana card test for pharmacy .\", 0.9232233762741089]], \"neg_evidences\": [[\"cvs health : i do n't have a medical marijuana card but i still will pass the drug test for pharmacy technician because i never did any drugs and till this day i do n't do any drugs .\", \"medical marijuana card is not needed for pharmacy .\", 0.9236297011375427]]}\r\n",
      "{\"relation\": [\"pharmacy\", \"position_has_hire_prerequisite\", \"hiring age\"], \"pos_evidences\": [[\"walgreens : if i am correct , i believe the hiring age is 21 for a pharmacy technician , and allows you to go to school if that is what you desire to become a pharmacist .\", \"hiring age is needed for pharmacy .\", 0.8190540075302124]], \"neg_evidences\": []}\r\n",
      "{\"relation\": [\"pharmacy\", \"position_has_hire_prerequisite\", \"permit\"], \"pos_evidences\": [[\"kroger stores : our kroger did n't have a pharmacy when i was there , but they paid for the permit test to sell alcohol .\", \"permit is needed for pharmacy .\", 0.9576562643051147]], \"neg_evidences\": []}\r\n",
      "{\"relation\": [\"pharmacy\", \"position_has_hire_prerequisite\", \"training\"], \"pos_evidences\": [[\"walgreens : it takes 2 - 5 years to do your pharmacy training with walgreens .\", \"training is needed for pharmacy .\", 0.9265986680984497], [\"walgreens : walgreens provided the training for certification but it was our responsibility to be certified through the ptcb and state board of pharmacy .\", \"training is needed for pharmacy .\", 0.9060277938842773], [\"walgreens : there is a 2 week , on - the - job training period before attaining a state pharmacy technician license .\", \"training is needed for pharmacy .\", 0.9046335220336914], [\"cvs health : both training and hands on 2 cashiers in pharmacy .\", \"training is needed for pharmacy .\", 0.8991360068321228], [\"walgreens : doing computer based training and ce 's to have a license to fill medication in a pharmacy and paying for your license every year .\", \"training is needed for pharmacy .\", 0.8953644037246704], [\"walgreens : let it be known you are interested in pharmacy training right from the start .\", \"training is needed for pharmacy .\", 0.8882486820220947], [\"walgreens : the company provides a training program but it is very hard to get hired as a pharmacy technician if you do n't already have experience .\", \"training is needed for pharmacy .\", 0.8745622038841248], [\"kroger stores : yes you can be trained to be a certified pharmacy technician , however they ontl offer training after you get certified and they do not offer certification through the company itself .\", \"training is needed for pharmacy .\", 0.8707869648933411], [\"cvs health : after completing their training you get a raise switching you from pharmacy associate to pharmacy tech .\", \"training is needed for pharmacy .\", 0.8683361411094666], [\"walgreens : from start to finish the pharmacy training takes about 3 to 4 weeks\", \"training is needed for pharmacy .\", 0.8537872433662415], [\"cvs health : the training for pharmacy employees lasts 3 months .\", \"training is needed for pharmacy .\", 0.8418791890144348], [\"walgreens : most times when hiring , the management will choose someone who is a certified pharmacy tech over someone they will have to train because it takes practice and time in the pharmacy to get adjusted along with many hours of online training .\", \"training is needed for pharmacy .\", 0.8367398381233215], [\"walgreens : they go through different training sessions to give them knowledge of how beauty coincides with the pharmacy .\", \"training is needed for pharmacy .\", 0.8363121151924133], [\"walgreens : does walgreens pay for your training if you want to apply for the pharmacy technician position\", \"training is needed for pharmacy .\", 0.8303650617599487], [\"walgreens : the company as i was told does offer a training program to become a pharmacy asssistant\", \"training is needed for pharmacy .\", 0.8300041556358337], [\"cvs health : cvs health does offer paid training but not sure if they offer paid training for pharmacy technicians .\", \"training is needed for pharmacy .\", 0.785113513469696]], \"neg_evidences\": []}\r\n",
      "{\"relation\": [\"pharmacy\", \"position_has_hire_prerequisite\", \"insurance\"], \"pos_evidences\": [[\"target : 10 % discount at target and target.com , medical and pharmacy benefits , life insurance , tgt 401(k ) plans , etc .\", \"insurance is needed for pharmacy .\", 0.7595895528793335], [\"walmart : they have a lot such as great pharmacy workers , health insurance .\", \"insurance is needed for pharmacy .\", 0.7348853945732117]], \"neg_evidences\": []}\r\n",
      "{\"relation\": [\"pharmacy\", \"position_has_hire_prerequisite\", \"safety\"], \"pos_evidences\": [[\"publix :   the ppe ( safety equipment ) is required for all specialty areas : you will need gloves , hairnets , aprons and non - slip shoes except for grocery and pharmacy .\", \"safety is needed for pharmacy .\", 0.9038688540458679], [\"walmart : i did n't work in the pharmacy i was in the back room and as far as gauges go if they where big enough to put your finger through you had to wear a plug for safety reasons\", \"safety is needed for pharmacy .\", 0.8778496384620667]], \"neg_evidences\": []}\r\n",
      "{\"relation\": [\"pharmacy\", \"position_has_hire_prerequisite\", \"employment\"], \"pos_evidences\": [[\"walgreens : so i had a drug test yesterday for a pre employment in walgreens as a technician pharmacy trainee , but i mistakenly flushed the toilet during the test at quest diagnostics .\", \"employment is needed for pharmacy .\", 0.8833854794502258], [\"walgreens : i found a document that says they only drug test pharmacy and management after the initial pre - employment test , but that document was from 2011 , so it 's difficult to say if that 's still the rule .\", \"employment is needed for pharmacy .\", 0.8221790194511414]], \"neg_evidences\": []}\r\n",
      "{\"relation\": [\"pharmacy\", \"position_has_hire_prerequisite\", \"accounting\"], \"pos_evidences\": [[\"publix : yes they will work around your schedule and also offer tuition reimburstment for business , accounting and pharmacy majors .\", \"accounting is needed for pharmacy .\", 0.8227970004081726]], \"neg_evidences\": []}\r\n",
      "{\"relation\": [\"pharmacy\", \"position_has_hire_prerequisite\", \"degree\"], \"pos_evidences\": [[\"walgreens : the pharmacy and store manager accepted my biology degree as experience enough to be considered as a candidate for pharmacy technician even though i had no previous experience .\", \"degree is needed for pharmacy .\", 0.8791532516479492]], \"neg_evidences\": []}\r\n",
      "{\"relation\": [\"pharmacy\", \"position_has_hire_prerequisite\", \"heavy equipment\"], \"pos_evidences\": [[\"walmart : they no longer do them since 2016 only management and supervision , pharmacy , heavy equipment , they ca n't keep employees so the cut it out .\", \"heavy equipment is needed for pharmacy .\", 0.7891668081283569], [\"walmart : i do n't think you need a drug test unless you are in certain areasof the store , like pharmacy or operating heavy equipment .\", \"pharmacy needs heavy equipment .\", 0.7579004764556885]], \"neg_evidences\": []}\r\n",
      "{\"relation\": [\"pharmacy\", \"position_has_employee_type\", \"full time\"], \"pos_evidences\": [[\"walgreens :   most of the time you will be cross trained immediately and moved ito the pharmacy full time as needed .\", \"You can work full time as pharmacy .\", 0.8839570879936218], [\"publix : 40 , pharmacy works full time , no over time\", \"You can work full time as pharmacy .\", 0.8406067490577698]], \"neg_evidences\": []}\r\n",
      "{\"relation\": [\"pharmacy\", \"position_has_employee_type\", \"part time\"], \"pos_evidences\": [[\"walgreens : unknown , as i only worked part time and was not interested in being a pharmacy tech .\", \"You can work part time as pharmacy .\", 0.8591122031211853], [\"kroger stores : worked   as a pharmacy clerk assistant , only part time unable to work second shift\", \"pharmacy can be part time .\", 0.8347054123878479]], \"neg_evidences\": []}\r\n",
      "{\"relation\": [\"pharmacy\", \"position_has_employee_type\", \"school\"], \"pos_evidences\": [[\"walgreens : in some instances they will pay for you to go to school for pharmacy i believe if you work their already\", \"pharmacy can be school .\", 0.7887150049209595], [\"walgreens : if i am correct , i believe the hiring age is 21 for a pharmacy technician , and allows you to go to school if that is what you desire to become a pharmacist .\", \"You can work school as pharmacy .\", 0.7546958923339844], [\"walgreens : i 've had many technicians go to pharmacy school to become pharmacists .\", \"You can be a school pharmacy.\", 0.7238866686820984], [\"walgreens : two weeks , but the pharmacy tech is a year of school a board a license and ce\", \"You can work school as pharmacy .\", 0.7129626870155334]], \"neg_evidences\": []}\r\n",
      "{\"relation\": [\"pharmacy\", \"position_has_employee_type\", \"training\"], \"pos_evidences\": [[\"cvs health : after completing their training you get a raise switching you from pharmacy associate to pharmacy tech .\", \"You can work training as pharmacy .\", 0.9250107407569885], [\"cvs health : training the pharmacy on their own terms\", \"pharmacy can be training .\", 0.8906391859054565], [\"cvs health : the training for pharmacy employees lasts 3 months .\", \"pharmacy can be training .\", 0.8667768239974976], [\"cvs health : both training and hands on 2 cashiers in pharmacy .\", \"pharmacy can be training .\", 0.8649192452430725], [\"walgreens : they try to show you what is involved and you go through video training modules and the start working as soon as possible in the pharmacy\", \"pharmacy can be training .\", 0.8645440936088562], [\"kroger stores : pharmacy tech have the opportunity to earn more than the union associates due to additional training and certification .\", \"pharmacy can be training .\", 0.8587937355041504], [\"walgreens : doing computer based training and ce 's to have a license to fill medication in a pharmacy and paying for your license every year .\", \"pharmacy can be training .\", 0.856584370136261], [\"kroger stores : yes you can be trained to be a certified pharmacy technician , however they ontl offer training after you get certified and they do not offer certification through the company itself .\", \"pharmacy can be training .\", 0.8558183312416077], [\"walgreens : walgreens provided the training for certification but it was our responsibility to be certified through the ptcb and state board of pharmacy .\", \"pharmacy can be training .\", 0.8528665900230408], [\"walgreens : let it be known you are interested in pharmacy training right from the start .\", \"pharmacy can be training .\", 0.8489750623703003], [\"walgreens : there is a 2 week , on - the - job training period before attaining a state pharmacy technician license .\", \"pharmacy can be training .\", 0.842806339263916], [\"cvs health : there are training courses online that i complete to stay up - to - date with things going on in the pharmacy .\", \"pharmacy can be training .\", 0.8382436633110046], [\"walgreens : there is on the job training for pharmacy tech but you are still required to log about 20 hours worth of learning online before they set you back in the pharmacy .\", \"You can work training as pharmacy .\", 0.836604654788971], [\"walgreens : i became a \\u201c designated hitter \\u201d and was told i would receive pharmacy tech training because the pharmacy loved me , but i never got that training .\", \"pharmacy can be training .\", 0.8311121463775635], [\"walgreens : the company says they 'll train you yet during the time i was there i was contained as a pharmacy cashier with little to no training .\", \"pharmacy can be training .\", 0.8307710886001587], [\"cvs health : just buy a basic pharmacy technician training book , read through it , and find some practice quizzes online .\", \"pharmacy can be training .\", 0.8282642364501953], [\"walgreens : the company provides a training program but it is very hard to get hired as a pharmacy technician if you do n't already have experience .\", \"pharmacy can be training .\", 0.826610267162323], [\"walgreens : most times when hiring , the management will choose someone who is a certified pharmacy tech over someone they will have to train because it takes practice and time in the pharmacy to get adjusted along with many hours of online training .\", \"pharmacy can be training .\", 0.8259158134460449], [\"walgreens : from start to finish the pharmacy training takes about 3 to 4 weeks\", \"pharmacy can be training .\", 0.8238752484321594], [\"cvs health : yes , we do training at the pharmacy in our working time\", \"pharmacy can be training .\", 0.8212011456489563], [\"walgreens : the company as i was told does offer a training program to become a pharmacy asssistant\", \"pharmacy can be training .\", 0.8189635276794434], [\"cvs health : no cvs pays for all the training to get back into the pharmacy\", \"pharmacy can be training .\", 0.8158780336380005], [\"walgreens : it takes 2 - 5 years to do your pharmacy training with walgreens .\", \"pharmacy can be training .\", 0.7971414923667908], [\"walgreens : i been working in a field of pharmacy , every pharmacy have different system , so i might need training to see \\n how the system works .\", \"pharmacy can be training .\", 0.7931512594223022], [\"walgreens : yes , you do have to go through training to be a pharmacy tech .\", \"pharmacy can be training .\", 0.7850965261459351], [\"macy's : fisher investments 401(k ) , self - directed training , pension , medical and hsa , dental , pharmacy , pto ( paid time off ) , discount , etc\", \"pharmacy can be training .\", 0.7756519913673401], [\"cvs health : cvs health does offer paid training but not sure if they offer paid training for pharmacy technicians .\", \"pharmacy can be training .\", 0.7263546586036682], [\"cvs health : cvs health at corporate does not pay for pharmacy training\", \"pharmacy can be training .\", 0.7138721942901611], [\"kroger stores : some stores prefer you to be certified , will hire with out experience but you need to have your pharmacy tech license and go through pharmacy tech training\", \"pharmacy can be training .\", 0.7062411308288574]], \"neg_evidences\": []}\r\n",
      "{\"relation\": [\"pharmacy\", \"position_has_employee_type\", \"family\"], \"pos_evidences\": [[\"walmart : i \\u2019m not sure but walmart pharmacy is a family .\", \"pharmacy can be family .\", 0.8694770932197571]], \"neg_evidences\": []}\r\n",
      "{\"relation\": [\"pharmacy\", \"position_has_employee_type\", \"6 months\"], \"pos_evidences\": [[\"walgreens : i believe in the pharmacy at 6 months and then a year .\", \"pharmacy can be 6 months .\", 0.7688449621200562]], \"neg_evidences\": []}\r\n",
      "{\"relation\": [\"pharmacy\", \"position_has_employee_type\", \"business casual\"], \"pos_evidences\": [[\"kroger stores : pharmacy technicians wear business casual with a blue coat .\", \"pharmacy can be business casual .\", 0.9207276701927185], [\"cvs health : pharmacy techs wear scrubs , pharmacist wear business casual under lab coats and i think front store wears black pants and a cvs shirt ?\", \"pharmacy can be business casual .\", 0.9045279026031494], [\"kroger stores : dress code for the pharmacy is business casual .\", \"pharmacy can be business casual .\", 0.8549312949180603]], \"neg_evidences\": []}\r\n",
      "{\"relation\": [\"pharmacy\", \"position_has_employee_type\", \"additional training\"], \"pos_evidences\": [[\"kroger stores : pharmacy tech have the opportunity to earn more than the union associates due to additional training and certification .\", \"pharmacy can be additional training .\", 0.8565559387207031]], \"neg_evidences\": []}\r\n",
      "{\"relation\": [\"pharmacy\", \"position_has_employee_type\", \"general\"], \"pos_evidences\": [[\"walgreens : \\n\\n they are a few national brand name pharmacy drug stores and are not large building as regular retail stores and it 's easier costumer service for me and the general public .\", \"pharmacy can be general .\", 0.723292887210846]], \"neg_evidences\": []}\r\n",
      "{\"relation\": [\"pharmacy\", \"position_has_onboarding_steps\", \"orientation\"], \"pos_evidences\": [[\"cvs health : general orientation is usually about six hours ; after , pharmacy techs will be brought to the pharmacy for a separate orientation .\", \"There is orientation for pharmacy .\", 0.9804696440696716], [\"publix : simple and relatively easy , i interviewed with the pharmacy manager , then the store manager , took a drug test and began working after my one day orientation .\", \"There is orientation for pharmacy .\", 0.9706244468688965], [\"cvs health : walking in green as a pharmacy tech , there is an orientation with the company .\", \"They have pharmacy orientation .\", 0.917829155921936], [\"walmart : and that \\u2019s 7 people in orientation with no drug test i believe they only test for management and pharmacy and auto tech\", \"There is orientation for pharmacy .\", 0.8659557104110718]], \"neg_evidences\": []}\r\n",
      "{\"relation\": [\"pharmacy\", \"position_has_onboarding_steps\", \"training\"], \"pos_evidences\": [[\"walgreens : it takes 2 - 5 years to do your pharmacy training with walgreens .\", \"There is training for pharmacy .\", 0.996141254901886], [\"cvs health : cvs health does offer paid training but not sure if they offer paid training for pharmacy technicians .\", \"There is training for pharmacy .\", 0.9789643883705139], [\"walgreens : there is a 2 week , on - the - job training period before attaining a state pharmacy technician license .\", \"There is training for pharmacy .\", 0.9692989587783813], [\"walgreens : does walgreens pay for your training if you want to apply for the pharmacy technician position\", \"There is training for pharmacy .\", 0.8987160921096802]], \"neg_evidences\": []}\r\n",
      "{\"relation\": [\"pharmacy\", \"position_has_onboarding_steps\", \"costumer service\"], \"pos_evidences\": [[\"walgreens : \\n\\n they are a few national brand name pharmacy drug stores and are not large building as regular retail stores and it 's easier costumer service for me and the general public .\", \"There is costumer service for pharmacy .\", 0.9773971438407898]], \"neg_evidences\": []}\r\n",
      "{\"relation\": [\"pharmacy\", \"position_has_onboarding_steps\", \"training courses\"], \"pos_evidences\": [[\"cvs health : there are training courses online that i complete to stay up - to - date with things going on in the pharmacy .\", \"pharmacy has training courses .\", 0.9790894985198975]], \"neg_evidences\": []}\r\n",
      "{\"relation\": [\"pharmacy\", \"position_has_onboarding_steps\", \"training sessions\"], \"pos_evidences\": [[\"walgreens : they go through different training sessions to give them knowledge of how beauty coincides with the pharmacy .\", \"There is training sessions for pharmacy .\", 0.9758256077766418]], \"neg_evidences\": []}\r\n",
      "{\"relation\": [\"pharmacy\", \"position_has_onboarding_steps\", \"training program\"], \"pos_evidences\": [[\"walgreens : the company provides a training program but it is very hard to get hired as a pharmacy technician if you do n't already have experience .\", \"There is training program for pharmacy .\", 0.99151211977005], [\"walgreens : the company as i was told does offer a training program to become a pharmacy asssistant\", \"There is training program for pharmacy .\", 0.9669066071510315]], \"neg_evidences\": []}\r\n",
      "{\"relation\": [\"pharmacy\", \"position_has_onboarding_steps\", \"statistics\"], \"pos_evidences\": [[\"walgreens : according to the bureau of labor statistics , pharmacy technicians at all levels of experience earned an average wage of $ 14.63 an hour and an average annual salary of $ 30,430 per year .\", \"There are statistics for pharmacy .\", 0.9970569610595703]], \"neg_evidences\": []}\r\n",
      "{\"relation\": [\"pharmacy\", \"position_has_onboarding_steps\", \"own pace\"], \"pos_evidences\": [[\"cvs health : it takes about 6 months to be properly trained and to study for the test to become a pharmacy technician , however , the course is work at your own pace .\", \"There is own pace for pharmacy .\", 0.8561614155769348]], \"neg_evidences\": []}\r\n"
     ]
    }
   ],
   "source": [
    "!grep \"\\\"pharmacy\\\"\" $base_dir/data/$data_ac/intermediate/kv_evidences-aux-EE=mrr_combine-RE=Ct.json"
   ]
  },
  {
   "cell_type": "code",
   "execution_count": null,
   "metadata": {},
   "outputs": [],
   "source": []
  },
  {
   "cell_type": "markdown",
   "metadata": {},
   "source": [
    "## KV analysis: multi-supporting?"
   ]
  },
  {
   "cell_type": "code",
   "execution_count": 6,
   "metadata": {},
   "outputs": [],
   "source": [
    "roberta_ses_dir = os.path.join(yutong_base_dir, \"repos\", \"Roberta_SES\")\n",
    "\n",
    "# 0 = contra, 1 = neutral, 2 = entail\n",
    "entailment_model = Roberta_SES_Entailment(roberta_path='/home/ubuntu/users/yutong/models/roberta-large',\n",
    "        ckpt_path=os.path.join(roberta_ses_dir, 'checkpoints/epoch=2-valid_loss=-0.2620-valid_acc_end=0.9223.ckpt'),\n",
    "        max_length=512,\n",
    "        device_name='cpu')\n"
   ]
  },
  {
   "cell_type": "code",
   "execution_count": 7,
   "metadata": {},
   "outputs": [
    {
     "data": {
      "text/plain": [
       "(tensor(2), tensor([0.0019, 0.0084, 0.9897]))"
      ]
     },
     "execution_count": 7,
     "metadata": {},
     "output_type": "execute_result"
    }
   ],
   "source": [
    "entailment_model.predict(\n",
    "    'walmart : we have to wear uniform',\n",
    "    'walmart requires uniform'\n",
    ")"
   ]
  },
  {
   "cell_type": "code",
   "execution_count": 8,
   "metadata": {},
   "outputs": [
    {
     "data": {
      "text/plain": [
       "(tensor(2), tensor([0.0036, 0.0650, 0.9314]))"
      ]
     },
     "execution_count": 8,
     "metadata": {},
     "output_type": "execute_result"
    }
   ],
   "source": [
    "entailment_model.predict(\n",
    "    'walmart : we have to wear uniform',\n",
    "    'walmart offers uniform'\n",
    ")"
   ]
  },
  {
   "cell_type": "code",
   "execution_count": 9,
   "metadata": {},
   "outputs": [
    {
     "data": {
      "text/plain": [
       "(tensor(2), tensor([0.0146, 0.2898, 0.6956]))"
      ]
     },
     "execution_count": 9,
     "metadata": {},
     "output_type": "execute_result"
    }
   ],
   "source": [
    "entailment_model.predict(\n",
    "    'walmart : the uniform is comfortable so we like it',\n",
    "    'walmart requires uniform'\n",
    ")"
   ]
  },
  {
   "cell_type": "code",
   "execution_count": 10,
   "metadata": {},
   "outputs": [
    {
     "data": {
      "text/plain": [
       "(2779,\n",
       " dict_keys(['has_job_position', 'has_benefits', 'has_pay_schedule', 'has_dress_code', 'has_background_screening', 'hires_person']))"
      ]
     },
     "execution_count": 10,
     "metadata": {},
     "output_type": "execute_result"
    }
   ],
   "source": [
    "kv_path = os.path.join(base_dir, f'data/{data_ac}/intermediate/kv_evidences-has_dress_code-RE=Ct.json')\n",
    "templates_path = os.path.join(base_dir, f'src/concept_learning/templates_manual.json')\n",
    "\n",
    "with open(kv_path, 'r') as f:\n",
    "    kv_dicts = [json.loads(l) for l in f]\n",
    "with open(templates_path, 'r') as f:\n",
    "    all_templates = json.load(f)\n",
    "    \n",
    "len(kv_dicts), all_templates.keys()"
   ]
  },
  {
   "cell_type": "code",
   "execution_count": 11,
   "metadata": {},
   "outputs": [
    {
     "data": {
      "text/plain": [
       "{'relation': ['walmart', 'has_dress_code', 'business casual'],\n",
       " 'pos_evidences': [['walmart : business casual with a walmart vest',\n",
       "   'walmart requires business casual',\n",
       "   0.9809538125991821],\n",
       "  ['walmart : i was told “ business casual ” ... any colored shirt ( no logo or pictures ) , jeans or pants and close toed shoes .',\n",
       "   'walmart allows business casual',\n",
       "   0.8808652758598328]],\n",
       " 'neg_evidences': []}"
      ]
     },
     "execution_count": 11,
     "metadata": {},
     "output_type": "execute_result"
    }
   ],
   "source": [
    "kv_dicts[0]"
   ]
  },
  {
   "cell_type": "code",
   "execution_count": 14,
   "metadata": {},
   "outputs": [
    {
     "data": {
      "application/vnd.jupyter.widget-view+json": {
       "model_id": "18abeb02ceef40dc8f23eb4d7d2de77a",
       "version_major": 2,
       "version_minor": 0
      },
      "text/plain": [
       "HBox(children=(FloatProgress(value=0.0, max=6.0), HTML(value='')))"
      ]
     },
     "metadata": {},
     "output_type": "display_data"
    },
    {
     "name": "stdout",
     "output_type": "stream",
     "text": [
      "\n"
     ]
    }
   ],
   "source": [
    "_multi_supporting_evs = []\n",
    "\n",
    "for d in tqdm(kv_dicts[::500]):\n",
    "    head, rel, tail = d['relation']\n",
    "    pos_evs = d['pos_evidences']\n",
    "    neg_evs = d['neg_evidences']\n",
    "    good_evs = [ev for ev in pos_evs + neg_evs if ev[-1] > 0.9]\n",
    "    if len(good_evs) == 0:\n",
    "        continue\n",
    "    \n",
    "    for ev_tuple in good_evs:\n",
    "        ev_sent, ev_hyp, score = ev_tuple\n",
    "        _supports = [(rel, ev_hyp, score)] # what are the relations supported \n",
    "        for _r, (_p_templates, _n_templates) in all_templates.items():\n",
    "            if _r == rel:\n",
    "                continue\n",
    "\n",
    "            _templates = _p_templates + _n_templates\n",
    "            for _tmpl in _templates:\n",
    "                _hyp = _tmpl.format(head, tail)\n",
    "                _score = entailment_model.predict(ev_sent, _hyp)[1][2].item()\n",
    "                if _score > 0.9:\n",
    "                    _supports.append((_r, _hyp, _score))\n",
    "                    break\n",
    "    \n",
    "        if len(_supports) > 1:\n",
    "            _multi_supporting_evs.append((ev_sent, _supports))\n"
   ]
  },
  {
   "cell_type": "code",
   "execution_count": 15,
   "metadata": {},
   "outputs": [
    {
     "data": {
      "text/plain": [
       "[]"
      ]
     },
     "execution_count": 15,
     "metadata": {},
     "output_type": "execute_result"
    }
   ],
   "source": [
    "_multi_supporting_evs"
   ]
  },
  {
   "cell_type": "code",
   "execution_count": null,
   "metadata": {},
   "outputs": [],
   "source": []
  },
  {
   "cell_type": "markdown",
   "metadata": {},
   "source": [
    "## KV feedback to EE"
   ]
  },
  {
   "cell_type": "markdown",
   "metadata": {},
   "source": [
    "### Single-relation verify"
   ]
  },
  {
   "cell_type": "code",
   "execution_count": 264,
   "metadata": {},
   "outputs": [],
   "source": [
    "# has_dress_code: company / dress_code \n",
    "kv_rels_path = os.path.join(base_dir, f'data/{data_ac}/intermediate/rel_extraction-aux-EE=mrr_combine-K=20-RE=Ct+KV=0.9.csv')\n",
    "kv_ee_output_path = os.path.join(base_dir, f'data/{data_ac}/intermediate/kv_entities-aux-EE=mrr_combine-K=20-RE=Ct+KV=0.9.csv')\n"
   ]
  },
  {
   "cell_type": "code",
   "execution_count": 265,
   "metadata": {},
   "outputs": [
    {
     "data": {
      "text/plain": [
       "(1085, 3)"
      ]
     },
     "execution_count": 265,
     "metadata": {},
     "output_type": "execute_result"
    }
   ],
   "source": [
    "kv_rels = pd.read_csv(kv_rels_path)\n",
    "kv_rels.shape"
   ]
  },
  {
   "cell_type": "code",
   "execution_count": 266,
   "metadata": {},
   "outputs": [],
   "source": [
    "seed_relations = load_seed_aligned_relations(seed_aux_relations_path)\n",
    "seed_relation_dicts = seed_relations.to_dict('record')\n",
    "\n",
    "rel_h_types_dict = dict([(_d['alignedRelationName'], _d['domain']) for _d in seed_relation_dicts])\n",
    "rel_t_types_dict = dict([(_d['alignedRelationName'], _d['range']) for _d in seed_relation_dicts])"
   ]
  },
  {
   "cell_type": "code",
   "execution_count": 267,
   "metadata": {},
   "outputs": [],
   "source": [
    "cc_ents_dict = defaultdict(set)\n",
    "\n",
    "for _d in kv_rels.to_dict('record'):\n",
    "    _rel = _d['relation']\n",
    "    _h_type = rel_h_types_dict[_rel]\n",
    "    _t_type = rel_t_types_dict[_rel]\n",
    "    _h = _d['head']\n",
    "    _t = _d['tail']\n",
    "    cc_ents_dict[_h_type].add(_h)\n",
    "    cc_ents_dict[_t_type].add(_t)\n",
    "    "
   ]
  },
  {
   "cell_type": "code",
   "execution_count": 268,
   "metadata": {},
   "outputs": [],
   "source": [
    "_records = [{'concept': _cc, 'neighbor': _e} for _cc, _e_set in cc_ents_dict.items() for _e in _e_set]\n",
    "pd.DataFrame(_records).to_csv(kv_ee_output_path, index=False)"
   ]
  },
  {
   "cell_type": "code",
   "execution_count": null,
   "metadata": {},
   "outputs": [],
   "source": []
  },
  {
   "cell_type": "code",
   "execution_count": 254,
   "metadata": {},
   "outputs": [],
   "source": [
    "# postprocess to get kv-ee results for lower K \n",
    "kv_rels_path = os.path.join(base_dir, f'data/{data_ac}/intermediate/rel_extraction-aux-EE=mrr_combine-K=100-RE=Ct+KV=0.9.csv')\n",
    "rels_path = os.path.join(base_dir, f'data/{data_ac}/intermediate/rel_extraction-aux-EE=mrr_combine-K=20-RE=Ct.csv')\n",
    "out_kv_rels_path = os.path.join(base_dir, f'data/{data_ac}/intermediate/rel_extraction-aux-EE=mrr_combine-K=20-RE=Ct+KV=0.9.csv')"
   ]
  },
  {
   "cell_type": "code",
   "execution_count": 255,
   "metadata": {},
   "outputs": [
    {
     "data": {
      "text/plain": [
       "6800"
      ]
     },
     "execution_count": 255,
     "metadata": {},
     "output_type": "execute_result"
    }
   ],
   "source": [
    "_cand_rels = [(d['head'], d['relation'], d['tail']) for d in pd.read_csv(rels_path).to_dict('record')]\n",
    "_cand_rels = set(_cand_rels)\n",
    "len(_cand_rels)"
   ]
  },
  {
   "cell_type": "code",
   "execution_count": 256,
   "metadata": {},
   "outputs": [
    {
     "name": "stdout",
     "output_type": "stream",
     "text": [
      "12100\n",
      "1085\n"
     ]
    }
   ],
   "source": [
    "_kv_rels = pd.read_csv(kv_rels_path).to_dict('record')\n",
    "print(len(_kv_rels))\n",
    "_kv_rels = [d for d in _kv_rels if (d['head'], d['relation'], d['tail']) in _cand_rels]\n",
    "print(len(_kv_rels))"
   ]
  },
  {
   "cell_type": "code",
   "execution_count": 257,
   "metadata": {},
   "outputs": [],
   "source": [
    "pd.DataFrame(_kv_rels).to_csv(out_kv_rels_path, index=None)"
   ]
  },
  {
   "cell_type": "code",
   "execution_count": null,
   "metadata": {},
   "outputs": [],
   "source": []
  },
  {
   "cell_type": "code",
   "execution_count": null,
   "metadata": {},
   "outputs": [],
   "source": []
  },
  {
   "cell_type": "code",
   "execution_count": null,
   "metadata": {},
   "outputs": [],
   "source": [
    "# eval (old)\n",
    "_all_concepts, _all_rel_tuples = load_benchmark(benchmark_full_path=benchmark_path,\n",
    "                                                seed_concepts_path=seed_aligned_concepts_path,\n",
    "                                                seed_relations_path=seed_aligned_relations_path)"
   ]
  },
  {
   "cell_type": "code",
   "execution_count": 133,
   "metadata": {},
   "outputs": [
    {
     "data": {
      "text/plain": [
       "(105, 93)"
      ]
     },
     "execution_count": 133,
     "metadata": {},
     "output_type": "execute_result"
    }
   ],
   "source": [
    "len(_all_concepts['company']), len(kv_heads)"
   ]
  },
  {
   "cell_type": "code",
   "execution_count": 134,
   "metadata": {},
   "outputs": [
    {
     "data": {
      "text/plain": [
       "48"
      ]
     },
     "execution_count": 134,
     "metadata": {},
     "output_type": "execute_result"
    }
   ],
   "source": [
    "len(kv_heads & _all_concepts['company'])"
   ]
  },
  {
   "cell_type": "code",
   "execution_count": 135,
   "metadata": {
    "scrolled": true
   },
   "outputs": [
    {
     "data": {
      "text/plain": [
       "{'amazon',\n",
       " 'at&t',\n",
       " 'best buy',\n",
       " 'burger king',\n",
       " 'chipotle',\n",
       " 'costco',\n",
       " 'cracker barrel',\n",
       " 'cvs',\n",
       " 'dd',\n",
       " 'dollar general',\n",
       " 'dollar tree',\n",
       " 'dunkin donuts',\n",
       " 'family dollar',\n",
       " 'fedex',\n",
       " 'frito lay',\n",
       " 'g4s',\n",
       " 'geico',\n",
       " 'hobby lobby',\n",
       " 'home depot',\n",
       " 'ihop',\n",
       " 'jcpenney',\n",
       " 'kfc',\n",
       " 'kroger',\n",
       " 'little caesars',\n",
       " 'marshalls',\n",
       " 'mcdonalds',\n",
       " 'menards',\n",
       " 'old navy',\n",
       " 'olive garden',\n",
       " 'panera bread',\n",
       " 'pepsico',\n",
       " 'petsmart',\n",
       " 'pizza hut',\n",
       " 'planet fitness',\n",
       " 'publix',\n",
       " 'safeway',\n",
       " 'sitel',\n",
       " 'spectrum',\n",
       " 'starbucks',\n",
       " 'subway',\n",
       " 'taco bell',\n",
       " 'target',\n",
       " 'tj maxx',\n",
       " 'training',\n",
       " 'verizon',\n",
       " 'walgreens',\n",
       " 'walmart',\n",
       " 'wells fargo'}"
      ]
     },
     "execution_count": 135,
     "metadata": {},
     "output_type": "execute_result"
    }
   ],
   "source": [
    "kv_heads & _all_concepts['company']"
   ]
  },
  {
   "cell_type": "code",
   "execution_count": 136,
   "metadata": {},
   "outputs": [
    {
     "data": {
      "text/plain": [
       "97"
      ]
     },
     "execution_count": 136,
     "metadata": {},
     "output_type": "execute_result"
    }
   ],
   "source": [
    "# compare \n",
    "concept_knn_path = os.path.join(base_dir, f'data/{data_ac}/intermediate/concept_knn_100.csv')\n",
    "concept_knn_df = pd.read_csv(concept_knn_path)\n",
    "_knn_entities = set(concept_knn_df[concept_knn_df['concept'] == 'company']['neighbor'].tolist())\n",
    "len(_knn_entities)"
   ]
  },
  {
   "cell_type": "code",
   "execution_count": 139,
   "metadata": {},
   "outputs": [
    {
     "data": {
      "text/plain": [
       "{'amazon', 'microsoft', 'subway', 'target', 'walmart'}"
      ]
     },
     "execution_count": 139,
     "metadata": {},
     "output_type": "execute_result"
    }
   ],
   "source": [
    "seed_concepts_df = load_seed_aligned_concepts(seed_aligned_concepts_path)\n",
    "_seed_entities = set(seed_concepts_df[seed_concepts_df['alignedCategoryName'] == 'company']['seedInstances'].item())\n",
    "_seed_entities"
   ]
  },
  {
   "cell_type": "code",
   "execution_count": 141,
   "metadata": {},
   "outputs": [
    {
     "data": {
      "text/plain": [
       "102"
      ]
     },
     "execution_count": 141,
     "metadata": {},
     "output_type": "execute_result"
    }
   ],
   "source": [
    "_combine_entities = set(_seed_entities) | _knn_entities\n",
    "len(_combine_entities)"
   ]
  },
  {
   "cell_type": "code",
   "execution_count": 143,
   "metadata": {},
   "outputs": [
    {
     "data": {
      "text/plain": [
       "49"
      ]
     },
     "execution_count": 143,
     "metadata": {},
     "output_type": "execute_result"
    }
   ],
   "source": [
    "len(_combine_entities & _all_concepts['company'])"
   ]
  },
  {
   "cell_type": "code",
   "execution_count": null,
   "metadata": {},
   "outputs": [],
   "source": []
  },
  {
   "cell_type": "markdown",
   "metadata": {},
   "source": [
    "### Multi-relation verify"
   ]
  },
  {
   "cell_type": "code",
   "execution_count": 269,
   "metadata": {},
   "outputs": [],
   "source": [
    "kv_rels_path = os.path.join(base_dir, f'data/{data_ac}/intermediate/rel_extraction-aux-EE=mrr_combine-RE=Ct+KV=0.9.csv')\n",
    "ee_labels_path = os.path.join(base_dir, f'data/indeed-benchmark/ee-labels.csv')"
   ]
  },
  {
   "cell_type": "code",
   "execution_count": 272,
   "metadata": {},
   "outputs": [
    {
     "data": {
      "text/plain": [
       "dict_keys(['schedule', 'benefits', 'pay_schedule', 'employee_type', 'job_position', 'company', 'hire_prerequisite', 'compensation', 'payment_option', 'dress_code', 'person', 'shifts', 'onboarding_steps', 'background_screening'])"
      ]
     },
     "execution_count": 272,
     "metadata": {},
     "output_type": "execute_result"
    }
   ],
   "source": [
    "ee_labels_dict = load_EE_labels(ee_labels_path)\n",
    "ee_labels_dict.keys()"
   ]
  },
  {
   "cell_type": "code",
   "execution_count": 251,
   "metadata": {},
   "outputs": [
    {
     "data": {
      "text/plain": [
       "(4209, 3)"
      ]
     },
     "execution_count": 251,
     "metadata": {},
     "output_type": "execute_result"
    }
   ],
   "source": [
    "kv_rels = pd.read_csv(kv_rels_path)\n",
    "kv_rels.shape"
   ]
  },
  {
   "cell_type": "code",
   "execution_count": 254,
   "metadata": {},
   "outputs": [
    {
     "data": {
      "text/plain": [
       "[]"
      ]
     },
     "execution_count": 254,
     "metadata": {},
     "output_type": "execute_result"
    }
   ],
   "source": [
    "_instance = 'general store'\n",
    "list(set(kv_rels[kv_rels['head'] == _instance]['relation'].tolist()))"
   ]
  },
  {
   "cell_type": "code",
   "execution_count": null,
   "metadata": {},
   "outputs": [],
   "source": [
    "kv_rels_records = kv_rels.to_dict('records')"
   ]
  },
  {
   "cell_type": "code",
   "execution_count": 257,
   "metadata": {
    "scrolled": true
   },
   "outputs": [
    {
     "data": {
      "text/plain": [
       "['walmart',\n",
       " 'google',\n",
       " 'costco',\n",
       " 'best buy',\n",
       " 'wal mart',\n",
       " 'walgreens',\n",
       " 'publix',\n",
       " 'verizon',\n",
       " 'nike',\n",
       " 'apple',\n",
       " 'dollar general',\n",
       " 'kroger',\n",
       " 'pepsico',\n",
       " 'jcpenney',\n",
       " 'pepsi',\n",
       " 'geico',\n",
       " 'amazon',\n",
       " 'cracker barrel',\n",
       " 'sears',\n",
       " 'family dollar',\n",
       " 'target corporation',\n",
       " 'sitel',\n",
       " 'frito lay',\n",
       " 'target',\n",
       " 'spectrum',\n",
       " 'g4s',\n",
       " 'starbucks',\n",
       " 'old navy',\n",
       " 'subway',\n",
       " 'home depot',\n",
       " 'facebook',\n",
       " 't mobile',\n",
       " 'panera bread',\n",
       " 'whole foods']"
      ]
     },
     "execution_count": 257,
     "metadata": {},
     "output_type": "execute_result"
    }
   ],
   "source": [
    "kv_companies = list(set([d['head'] for d in kv_rels_records if not d['relation'].startswith('position')]))\n",
    "kv_companies"
   ]
  },
  {
   "cell_type": "code",
   "execution_count": 277,
   "metadata": {},
   "outputs": [
    {
     "data": {
      "text/plain": [
       "(34, 34)"
      ]
     },
     "execution_count": 277,
     "metadata": {},
     "output_type": "execute_result"
    }
   ],
   "source": [
    "len(kv_companies), len(set(kv_companies) & set(ee_labels_dict['company']))"
   ]
  },
  {
   "cell_type": "code",
   "execution_count": 278,
   "metadata": {
    "scrolled": true
   },
   "outputs": [
    {
     "data": {
      "text/plain": [
       "['general manager',\n",
       " 'key holder',\n",
       " 'store manager',\n",
       " 'bartender',\n",
       " 'assistant store manager',\n",
       " 'beauty advisor',\n",
       " 'team leader',\n",
       " 'sales representative',\n",
       " 'courtesy clerk',\n",
       " 'chef',\n",
       " 'carrier',\n",
       " 'crew member',\n",
       " 'nurse',\n",
       " 'manager',\n",
       " 'store director',\n",
       " 'barista',\n",
       " 'package handler',\n",
       " 'pharmacy',\n",
       " 'office assistant',\n",
       " 'driver helper',\n",
       " 'pharmacist',\n",
       " 'head cashier',\n",
       " 'delivery driver',\n",
       " 'shift lead',\n",
       " 'shift leader',\n",
       " 'line cook',\n",
       " 'cashier',\n",
       " 'trainer',\n",
       " 'sales associate',\n",
       " 'assistant manager',\n",
       " 'sales rep',\n",
       " 'team member',\n",
       " 'seasonal employee',\n",
       " 'dishwasher',\n",
       " 'sales consultant',\n",
       " 'shift supervisor']"
      ]
     },
     "execution_count": 278,
     "metadata": {},
     "output_type": "execute_result"
    }
   ],
   "source": [
    "kv_positions = list(set([d['head'] for d in kv_rels_records if d['relation'].startswith('position')]))\n",
    "kv_positions"
   ]
  },
  {
   "cell_type": "code",
   "execution_count": 280,
   "metadata": {},
   "outputs": [
    {
     "data": {
      "text/plain": [
       "(36, 33, ['pharmacy', 'team member', 'seasonal employee'])"
      ]
     },
     "execution_count": 280,
     "metadata": {},
     "output_type": "execute_result"
    }
   ],
   "source": [
    "len(kv_positions), len(set(kv_positions) & set(ee_labels_dict['job_position'])), \\\n",
    "[_e for _e in kv_positions if _e not in ee_labels_dict['job_position']]"
   ]
  },
  {
   "cell_type": "code",
   "execution_count": 258,
   "metadata": {
    "scrolled": true
   },
   "outputs": [
    {
     "data": {
      "text/plain": [
       "['technical support',\n",
       " 'training',\n",
       " 'construction',\n",
       " 'legal age',\n",
       " 'personal vehicle',\n",
       " 'age requirements',\n",
       " 'additional training',\n",
       " 'heavy equipment',\n",
       " 'memory',\n",
       " 'food handlers card',\n",
       " 'job title',\n",
       " 'minimum age',\n",
       " 'driver license',\n",
       " 'diploma',\n",
       " 'youngest age',\n",
       " 'permit',\n",
       " 'working permit',\n",
       " 'insurance',\n",
       " 'personal experience',\n",
       " 'passport',\n",
       " 'working papers',\n",
       " 'previous experience',\n",
       " 'age requirement',\n",
       " 'clean driving record',\n",
       " 'hiring age',\n",
       " 'safety',\n",
       " 'workers permit',\n",
       " 'food safety',\n",
       " 'employment',\n",
       " 'transport',\n",
       " 'accounting',\n",
       " 'prior experience',\n",
       " 'high school diploma',\n",
       " \"bachelor 's degree\",\n",
       " 'medical insurance',\n",
       " 'power equipment',\n",
       " 'heavy lifting',\n",
       " 'drivers license',\n",
       " 'degree',\n",
       " 'back ground check',\n",
       " 'bachelors degree',\n",
       " 'clean record',\n",
       " 'age limit']"
      ]
     },
     "execution_count": 258,
     "metadata": {},
     "output_type": "execute_result"
    }
   ],
   "source": [
    "kv_hire_prers = list(set([d['tail'] for d in kv_rels_records if d['relation'].endswith('prerequisite')]))\n",
    "kv_hire_prers"
   ]
  },
  {
   "cell_type": "code",
   "execution_count": 266,
   "metadata": {},
   "outputs": [],
   "source": [
    "_rel_counter = Counter()\n",
    "_concept = 'hire_prerequisite'\n",
    "_target_rels = ['has_hire_prerequisite', 'position_has_hire_prerequisite']\n",
    "\n",
    "for _r in _target_rels:\n",
    "    _ents = list(set([d['tail'] for d in kv_rels_records if d['relation'] == _r]))\n",
    "    _rel_counter.update(_ents)"
   ]
  },
  {
   "cell_type": "code",
   "execution_count": 268,
   "metadata": {
    "scrolled": true
   },
   "outputs": [
    {
     "data": {
      "text/plain": [
       "[('training', 2),\n",
       " ('age requirements', 2),\n",
       " ('job title', 2),\n",
       " ('minimum age', 2),\n",
       " ('driver license', 2),\n",
       " ('diploma', 2),\n",
       " ('permit', 2),\n",
       " ('insurance', 2),\n",
       " ('previous experience', 2),\n",
       " ('clean driving record', 2),\n",
       " ('safety', 2),\n",
       " ('food safety', 2),\n",
       " ('employment', 2),\n",
       " ('transport', 2),\n",
       " ('prior experience', 2),\n",
       " ('high school diploma', 2),\n",
       " (\"bachelor 's degree\", 2),\n",
       " ('heavy lifting', 2),\n",
       " ('drivers license', 2),\n",
       " ('degree', 2),\n",
       " ('back ground check', 2),\n",
       " ('bachelors degree', 2),\n",
       " ('age limit', 2),\n",
       " ('technical support', 1),\n",
       " ('construction', 1),\n",
       " ('legal age', 1),\n",
       " ('additional training', 1),\n",
       " ('heavy equipment', 1),\n",
       " ('memory', 1),\n",
       " ('food handlers card', 1),\n",
       " ('youngest age', 1),\n",
       " ('working permit', 1),\n",
       " ('personal experience', 1),\n",
       " ('passport', 1),\n",
       " ('working papers', 1),\n",
       " ('age requirement', 1),\n",
       " ('hiring age', 1),\n",
       " ('workers permit', 1),\n",
       " ('accounting', 1),\n",
       " ('medical insurance', 1),\n",
       " ('power equipment', 1),\n",
       " ('clean record', 1),\n",
       " ('personal vehicle', 1)]"
      ]
     },
     "execution_count": 268,
     "metadata": {},
     "output_type": "execute_result"
    }
   ],
   "source": [
    "_rel_counter.most_common()"
   ]
  },
  {
   "cell_type": "code",
   "execution_count": 276,
   "metadata": {},
   "outputs": [
    {
     "name": "stdout",
     "output_type": "stream",
     "text": [
      "1 relation(s): 16 / 20\n",
      "2 relation(s): 16 / 23\n"
     ]
    }
   ],
   "source": [
    "_target_cnts = [1, 2]\n",
    "for _cnt in _target_cnts:\n",
    "    _ents = [_e for _e, _c in _rel_counter.items() if _c == _cnt]\n",
    "    _corr_ents = set(_ents) & set(ee_labels_dict[_concept])\n",
    "    print(f'{_cnt} relation(s): {len(_corr_ents)} / {len(_ents)}')"
   ]
  },
  {
   "cell_type": "code",
   "execution_count": 284,
   "metadata": {},
   "outputs": [],
   "source": [
    "_rel_counter = Counter()\n",
    "_concept = 'job_position'\n",
    "\n",
    "_target_head_rels = ['position_has_hire_prerequisite', 'position_has_background_screening', 'position_has_employee_type', 'position_has_onboarding_steps']\n",
    "_target_tail_rels = ['has_job_position']\n",
    "\n",
    "for _r in _target_head_rels:\n",
    "    _ents = list(set([d['head'] for d in kv_rels_records if d['relation'] == _r]))\n",
    "    _rel_counter.update(_ents)\n",
    "for _r in _target_tail_rels:\n",
    "    _ents = list(set([d['tail'] for d in kv_rels_records if d['relation'] == _r]))\n",
    "    _rel_counter.update(_ents)\n",
    "    "
   ]
  },
  {
   "cell_type": "code",
   "execution_count": 285,
   "metadata": {},
   "outputs": [
    {
     "name": "stdout",
     "output_type": "stream",
     "text": [
      "1 relation(s): 9 / 9\n",
      "2 relation(s): 6 / 6\n",
      "3 relation(s): 2 / 3\n",
      "4 relation(s): 11 / 11\n",
      "5 relation(s): 11 / 13\n"
     ]
    }
   ],
   "source": [
    "_target_cnts = [1, 2, 3, 4, 5]\n",
    "for _cnt in _target_cnts:\n",
    "    _ents = [_e for _e, _c in _rel_counter.items() if _c == _cnt]\n",
    "    _corr_ents = set(_ents) & set(ee_labels_dict[_concept])\n",
    "    print(f'{_cnt} relation(s): {len(_corr_ents)} / {len(_ents)}')"
   ]
  },
  {
   "cell_type": "code",
   "execution_count": 287,
   "metadata": {
    "scrolled": true
   },
   "outputs": [
    {
     "data": {
      "text/plain": [
       "[('general manager', 5),\n",
       " ('key holder', 5),\n",
       " ('store manager', 5),\n",
       " ('carrier', 5),\n",
       " ('crew member', 5),\n",
       " ('manager', 5),\n",
       " ('pharmacy', 5),\n",
       " ('delivery driver', 5),\n",
       " ('shift leader', 5),\n",
       " ('cashier', 5),\n",
       " ('sales associate', 5),\n",
       " ('assistant manager', 5),\n",
       " ('team member', 5),\n",
       " ('team leader', 4),\n",
       " ('barista', 4),\n",
       " ('package handler', 4),\n",
       " ('driver helper', 4),\n",
       " ('shift lead', 4),\n",
       " ('dishwasher', 4),\n",
       " ('shift supervisor', 4),\n",
       " ('assistant store manager', 4),\n",
       " ('beauty advisor', 4),\n",
       " ('trainer', 4),\n",
       " ('sales consultant', 4),\n",
       " ('nurse', 3),\n",
       " ('pharmacist', 3),\n",
       " ('seasonal employee', 3),\n",
       " ('bartender', 2),\n",
       " ('sales representative', 2),\n",
       " ('courtesy clerk', 2),\n",
       " ('store director', 2),\n",
       " ('line cook', 2),\n",
       " ('sales rep', 2),\n",
       " ('office assistant', 1),\n",
       " ('chef', 1),\n",
       " ('head cashier', 1),\n",
       " ('medical assistant', 1),\n",
       " ('prep cook', 1),\n",
       " ('night stocker', 1),\n",
       " ('beauty consultant', 1),\n",
       " ('store manger', 1),\n",
       " ('sales specialist', 1)]"
      ]
     },
     "execution_count": 287,
     "metadata": {},
     "output_type": "execute_result"
    }
   ],
   "source": [
    "_rel_counter.most_common()"
   ]
  },
  {
   "cell_type": "code",
   "execution_count": null,
   "metadata": {},
   "outputs": [],
   "source": []
  },
  {
   "cell_type": "code",
   "execution_count": 293,
   "metadata": {
    "scrolled": true
   },
   "outputs": [
    {
     "name": "stdout",
     "output_type": "stream",
     "text": [
      "{\"relation\": [\"team member\", \"position_has_onboarding_steps\", \"orientation\"], \"pos_evidences\": [[\"target : new \\\" team member \\\" orientation is basically your first day at work , so you are paid for those hours you are there being trained and introduced to the store / facility ( usually about 4 hours ) .\", \"There is orientation for team member .\", 0.9881517291069031], [\"chili's : this definitely means you 've secured a spot as a team member or employee because they are preparing you for training through the orientation to give you a feel of what you are about to get into .\", \"There is orientation for team member .\", 0.9758924841880798]], \"neg_evidences\": []}\r\n",
      "{\"relation\": [\"team member\", \"position_has_onboarding_steps\", \"training\"], \"pos_evidences\": [[\"chili's : this definitely means you 've secured a spot as a team member or employee because they are preparing you for training through the orientation to give you a feel of what you are about to get into .\", \"team member can get training .\", 0.9639317393302917], [\"target : most people work their way up in target and the company provides all training , your degree wo n't make you stand out against a team lead or team member who has already put in time at the company because promotions are an important metric ( talent development over acquisition ) .\", \"There is training for team member .\", 0.9066122174263]], \"neg_evidences\": []}\r\n",
      "{\"relation\": [\"team member\", \"position_has_onboarding_steps\", \"team leader\"], \"pos_evidences\": [[\"target :  \\n\\n rank is team member , team lead , senior team lead , executive team leader and store team leader\", \"There is team leader for team member .\", 0.975543737411499], [\"chipotle mexican grill : how i handle certain stressful situations , what its like to be a team member as well as a team leader .\", \"team member has team leader .\", 0.9495332837104797], [\"chick-fil-a : they might start you off as a regular team member with minimum wage ; or they will start you as a manager or team leader with higher pay if that s what you were at your last job .\", \"There are team leader for team member .\", 0.8000166416168213], [\"chick-fil-a : starting pay as a team member is 10.75 but as a team leader its 12\", \"There is team leader for team member .\", 0.7849153876304626]], \"neg_evidences\": []}\r\n",
      "{\"relation\": [\"team member\", \"position_has_onboarding_steps\", \"team members\"], \"pos_evidences\": [[\"taco bell : you are given a company hat and team member / manager shirt , team members are also granted an apron .\", \"They have team member team members .\", 0.8476352095603943], [\"domino's : all domino \\u2019s team members have access to a 401(k ) savings plan with company match , a discounted employee stock purchasing program , basic life insurance , adoption benefits , and partners \\u2013 a domino \\u2019s support foundation created to assist any domino \\u2019s pizza team member worldwide in times of tragedy or special need .\", \"They have team member team members .\", 0.8253995180130005], [\"tim hortons : team members may begin at minimum wage , however the offer of benefits and uniforms should be kept in mind , as the employer pays full or a portion of this for the team member .\", \"They have team member team members .\", 0.7079151272773743]], \"neg_evidences\": []}\r\n",
      "{\"relation\": [\"team member\", \"position_has_onboarding_steps\", \"dining room\"], \"pos_evidences\": [[\"chick-fil-a : dining room is what it is usually called if you are a regular team member .\", \"There is dining room for team member .\", 0.9321123957633972]], \"neg_evidences\": []}\r\n"
     ]
    }
   ],
   "source": [
    "!grep \"\\\"team member\\\", \\\"position_has_onboarding_steps\\\"\" $base_dir/data/$data_ac/intermediate/kv_evidences-aux-EE=mrr_combine-RE=Ct.json"
   ]
  },
  {
   "cell_type": "code",
   "execution_count": null,
   "metadata": {},
   "outputs": [],
   "source": []
  },
  {
   "cell_type": "markdown",
   "metadata": {},
   "source": [
    "## Auxiliary relations for inference"
   ]
  },
  {
   "cell_type": "markdown",
   "metadata": {},
   "source": [
    "### Find auxiliary relations"
   ]
  },
  {
   "cell_type": "code",
   "execution_count": 162,
   "metadata": {},
   "outputs": [
    {
     "data": {
      "application/vnd.jupyter.widget-view+json": {
       "model_id": "57d34bfa09c84b988e4350d92907e40a",
       "version_major": 2,
       "version_minor": 0
      },
      "text/plain": [
       "HBox(children=(FloatProgress(value=0.0, max=413232.0), HTML(value='')))"
      ]
     },
     "metadata": {},
     "output_type": "display_data"
    },
    {
     "name": "stdout",
     "output_type": "stream",
     "text": [
      "\n"
     ]
    },
    {
     "data": {
      "text/plain": [
       "413232"
      ]
     },
     "execution_count": 162,
     "metadata": {},
     "output_type": "execute_result"
    }
   ],
   "source": [
    "corpus_path = os.path.join(base_dir, f'data/{data_ac}/intermediate/sentences_with_company.json')\n",
    "with open(corpus_path, 'r') as f:\n",
    "    sent_dicts = [json.loads(l) for l in tqdm(f.readlines())]\n",
    "len(sent_dicts)"
   ]
  },
  {
   "cell_type": "code",
   "execution_count": 178,
   "metadata": {},
   "outputs": [
    {
     "data": {
      "text/plain": [
       "14"
      ]
     },
     "execution_count": 178,
     "metadata": {},
     "output_type": "execute_result"
    }
   ],
   "source": [
    "instances_dict_path = os.path.join(base_dir, f'data/{data_ac}/intermediate/expanded_mrr_combine_k=20_clean.json')\n",
    "with open(instances_dict_path, 'r') as f:\n",
    "    instances_dict = json.load(f)\n",
    "len(instances_dict)"
   ]
  },
  {
   "cell_type": "code",
   "execution_count": 164,
   "metadata": {},
   "outputs": [
    {
     "data": {
      "text/plain": [
       "(1,\n",
       " [\"The night maintenance uniform is a chef 's coat , with black pants , and non - slip shoes .\"])"
      ]
     },
     "execution_count": 164,
     "metadata": {},
     "output_type": "execute_result"
    }
   ],
   "source": [
    "_h = 'chef'  # proxy for company \n",
    "_t = 'uniform'\n",
    "\n",
    "_mentions = []\n",
    "for d in sent_dicts:\n",
    "    if _h in d['entities'] and _t in d['entities']:\n",
    "        _mentions.append(' '.join(d['tokens']))\n",
    "\n",
    "len(_mentions), _mentions[:3]"
   ]
  },
  {
   "cell_type": "code",
   "execution_count": 165,
   "metadata": {},
   "outputs": [
    {
     "data": {
      "application/vnd.jupyter.widget-view+json": {
       "model_id": "d3e8fc4ed05d41dcb86e54fcd6efb063",
       "version_major": 2,
       "version_minor": 0
      },
      "text/plain": [
       "HBox(children=(FloatProgress(value=0.0, max=413232.0), HTML(value='')))"
      ]
     },
     "metadata": {},
     "output_type": "display_data"
    },
    {
     "name": "stdout",
     "output_type": "stream",
     "text": [
      "\n"
     ]
    },
    {
     "data": {
      "text/plain": [
       "(54,\n",
       " ['I am sure there is always a need for   employees and quite honestly you can find a positon that fits you because the is a huge volume   of everything in the clothing , retail , cashier gift cards and have ahuge parking lot close to condominuim and several offices .',\n",
       "  \"The night maintenance uniform is a chef 's coat , with black pants , and non - slip shoes .\",\n",
       "  'BUT in my store the district manager and store manager do not mind very small nose piercings'])"
      ]
     },
     "execution_count": 165,
     "metadata": {},
     "output_type": "execute_result"
    }
   ],
   "source": [
    "_h_cc = 'job_position'\n",
    "_t_cc = 'dress_code'\n",
    "\n",
    "_mentions = []\n",
    "for d in tqdm(sent_dicts):\n",
    "    _has_h = False\n",
    "    _has_t = False\n",
    "    for _e in d['entities']:\n",
    "        if not _has_h and _e in instances_dict[_h_cc]:\n",
    "            _has_h = True\n",
    "        if not _has_t and _e in instances_dict[_t_cc]:\n",
    "            _has_t = True\n",
    "    if _has_h and _has_t:\n",
    "        _mentions.append(' '.join(d['tokens']))\n",
    "        \n",
    "#     for _h in instances_dict[_h_cc]:\n",
    "#         if _h not in d['entities']:\n",
    "#             continue\n",
    "#         for _t in instances_dict[_t_cc]:\n",
    "#             if _t in d['entities']:\n",
    "#                 _mentions.append(' '.join(d['tokens']))\n",
    "\n",
    "len(_mentions), _mentions[:3]"
   ]
  },
  {
   "cell_type": "code",
   "execution_count": 174,
   "metadata": {},
   "outputs": [
    {
     "data": {
      "application/vnd.jupyter.widget-view+json": {
       "model_id": "171acc2b9637493099707070add241a9",
       "version_major": 2,
       "version_minor": 0
      },
      "text/plain": [
       "HBox(children=(FloatProgress(value=0.0, max=413232.0), HTML(value='')))"
      ]
     },
     "metadata": {},
     "output_type": "display_data"
    },
    {
     "name": "stdout",
     "output_type": "stream",
     "text": [
      "{'health care', 'health'} | {'employment'}\n",
      "{'education'} | {'employment'}\n",
      "{'401k', 'medical'} | {'training'}\n",
      "{'health'} | {'safety'}\n",
      "{'education'} | {'employment'}\n",
      "{'insurance', 'health insurance', 'health'} | {'insurance', 'employment'}\n",
      "{'education'} | {'employment'}\n",
      "{'medical'} | {'employment'}\n",
      "{'education'} | {'employment'}\n",
      "{'education'} | {'employment'}\n",
      "{'education'} | {'employment'}\n",
      "{'insurance', 'health insurance', 'health'} | {'insurance', 'employment'}\n",
      "{'medical'} | {'employment'}\n",
      "{'disability'} | {'training'}\n",
      "{'health'} | {'safety'}\n",
      "{'401k'} | {'employment'}\n",
      "{'health'} | {'safety'}\n",
      "{'medical', 'sick leave'} | {'transport'}\n",
      "{'health'} | {'training', 'safety'}\n",
      "{'health'} | {'employment'}\n",
      "{'medical'} | {'employment'}\n",
      "{'education'} | {'safety'}\n",
      "{'education'} | {'employment'}\n",
      "{'health care', 'health'} | {'training'}\n",
      "{'health'} | {'safety'}\n",
      "{'medical', 'pension'} | {'training'}\n",
      "{'sick leave'} | {'safety'}\n",
      "{'health'} | {'training'}\n",
      "{'insurance', 'health insurance', 'health'} | {'insurance', 'employment'}\n",
      "{'unemployment'} | {'training'}\n",
      "{'education'} | {'employment'}\n",
      "{'education'} | {'employment'}\n",
      "{'disability'} | {'training'}\n",
      "{'medical'} | {'employment'}\n",
      "{'health dental', 'health'} | {'employment'}\n",
      "{'dental insurance', 'health insurance', 'health', 'insurance', 'vision insurance'} | {'insurance', 'training'}\n",
      "{'paid vacation'} | {'employment'}\n",
      "{'education'} | {'employment'}\n",
      "{'disability'} | {'employment'}\n",
      "{'education'} | {'training', 'previous experience'}\n",
      "{'health'} | {'safety'}\n",
      "{'education'} | {'training'}\n",
      "{'education'} | {'employment'}\n",
      "{'education'} | {'employment'}\n",
      "{'education'} | {'training'}\n",
      "{'education'} | {'employment'}\n",
      "{'health'} | {'safety'}\n",
      "{'healthcare'} | {'employment'}\n",
      "{'medical'} | {'employment'}\n",
      "{'health'} | {'employment'}\n",
      "{'education'} | {'safety'}\n",
      "{'medical'} | {'employment'}\n",
      "{'medical'} | {'employment'}\n",
      "{'education'} | {'employment'}\n",
      "{'insurance', 'health insurance', 'health'} | {'insurance', 'employment'}\n",
      "{'insurance', 'health insurance', 'health'} | {'insurance', 'employment'}\n",
      "{'401k'} | {'employment'}\n",
      "{'insurance', 'life insurance'} | {'insurance', 'employment'}\n",
      "{'health'} | {'safety'}\n",
      "{'health'} | {'safety'}\n",
      "{'medical'} | {'employment'}\n",
      "{'health'} | {'safety'}\n",
      "{'health'} | {'safety'}\n",
      "{'pension'} | {'training'}\n",
      "{'health'} | {'safety'}\n",
      "{'health'} | {'safety'}\n",
      "{'disability'} | {'employment'}\n",
      "{'health'} | {'safety'}\n",
      "{'401k'} | {'employment'}\n",
      "{'health care', 'health'} | {'training'}\n",
      "{'health'} | {'training'}\n",
      "{'insurance', 'health insurance', 'health'} | {'insurance', 'training'}\n",
      "{'sick leave'} | {'employment'}\n",
      "{'health'} | {'safety'}\n",
      "{'health'} | {'employment'}\n",
      "{'disability'} | {'employment'}\n",
      "{'insurance', 'health insurance', 'health'} | {'insurance', 'employment'}\n",
      "{'medical', 'dental vision'} | {'employment'}\n",
      "{'401k', 'medical'} | {'employment'}\n",
      "{'401k'} | {'employment'}\n",
      "{'paid vacation'} | {'training'}\n",
      "{'401k'} | {'employment'}\n",
      "{'insurance', 'health insurance', 'health'} | {'insurance', 'employment'}\n",
      "{'401k'} | {'training'}\n",
      "{'education'} | {'previous experience'}\n",
      "{'education'} | {'employment'}\n",
      "{'401k'} | {'employment'}\n",
      "{'medical'} | {'employment'}\n",
      "{'health'} | {'safety'}\n",
      "{'education'} | {'safety'}\n",
      "{'medical'} | {'employment'}\n",
      "{'health'} | {'employment'}\n",
      "{'health'} | {'employment'}\n",
      "{'education'} | {'training'}\n",
      "{'education'} | {\"bachelor 's degree\"}\n",
      "{'education'} | {\"bachelor 's degree\"}\n",
      "{'education'} | {\"bachelor 's degree\"}\n",
      "{'education'} | {\"bachelor 's degree\"}\n",
      "{'education'} | {\"bachelor 's degree\"}\n",
      "{'education'} | {\"bachelor 's degree\"}\n",
      "{'education'} | {\"bachelor 's degree\"}\n",
      "{'education'} | {\"bachelor 's degree\"}\n",
      "{'education'} | {'bachelors degree'}\n",
      "{'education'} | {\"bachelor 's degree\"}\n",
      "{'education'} | {\"bachelor 's degree\"}\n",
      "{'education'} | {\"bachelor 's degree\"}\n",
      "{'education'} | {\"bachelor 's degree\"}\n",
      "{'education'} | {\"bachelor 's degree\"}\n",
      "{'education'} | {\"bachelor 's degree\"}\n",
      "{'education'} | {\"bachelor 's degree\"}\n",
      "{'education'} | {\"bachelor 's degree\"}\n",
      "{'education'} | {\"bachelor 's degree\"}\n",
      "{'education'} | {\"bachelor 's degree\"}\n",
      "{'education'} | {\"bachelor 's degree\"}\n",
      "{'education'} | {\"bachelor 's degree\"}\n",
      "{'education'} | {\"bachelor 's degree\"}\n",
      "{'education'} | {\"bachelor 's degree\"}\n",
      "{'education'} | {\"bachelor 's degree\"}\n",
      "{'education'} | {\"bachelor 's degree\"}\n",
      "{'education'} | {\"bachelor 's degree\"}\n",
      "{'education'} | {\"bachelor 's degree\"}\n",
      "{'education'} | {\"bachelor 's degree\"}\n",
      "{'education'} | {\"bachelor 's degree\"}\n",
      "{'education'} | {\"bachelor 's degree\"}\n",
      "{'education'} | {\"bachelor 's degree\"}\n",
      "{'education'} | {\"bachelor 's degree\"}\n",
      "{'education'} | {\"bachelor 's degree\"}\n",
      "{'education'} | {\"bachelor 's degree\"}\n",
      "{'education'} | {\"bachelor 's degree\"}\n",
      "{'health'} | {'training'}\n",
      "{'health'} | {'training'}\n",
      "\n"
     ]
    },
    {
     "data": {
      "text/plain": [
       "(131,\n",
       " ['Health care and dental care is big key on looking for employment .',\n",
       "  'Yes the check background on former employment and also education .',\n",
       "  \"Benefits include vacation pay based on time worked and length of service holiday bonus ( gift card for cracker barrel ) discount on everything in store % based on par level ( company training program ) vision dental medical life ( day 1 sign up offered for first 30 days after that open enrollment once a year ) $ 0.25 match per dollar 401k stock options ( no discount but fee 's are waived can setup too deduct from paycheck for full or partial shares ) honestly benefits are the best you will ever find in the food service industry\"])"
      ]
     },
     "execution_count": 174,
     "metadata": {},
     "output_type": "execute_result"
    }
   ],
   "source": [
    "_h_cc = 'benefits'\n",
    "_t_cc = 'hire_prerequisite'\n",
    "\n",
    "_mentions = []\n",
    "for d in tqdm(sent_dicts):\n",
    "#     _has_h = False\n",
    "#     _has_t = False\n",
    "#     for _e in d['entities']:\n",
    "#         if not _has_h and _e in instances_dict[_h_cc]:\n",
    "#             _has_h = True\n",
    "#         if not _has_t and _e in instances_dict[_t_cc]:\n",
    "#             _has_t = True\n",
    "#     if _has_h and _has_t:\n",
    "    _e_set = set(d['entities'])\n",
    "    _h_ents = set(instances_dict[_h_cc]) & _e_set\n",
    "    _t_ents = set(instances_dict[_t_cc]) & _e_set\n",
    "    if len(_h_ents) == 0:\n",
    "        continue\n",
    "    if len(_t_ents) == 0:\n",
    "        continue\n",
    "    if _h_ents.issubset(_t_ents) or _t_ents.issubset(_h_ents): \n",
    "        continue\n",
    "    print(_h_ents, '|', _t_ents)\n",
    "    _mentions.append(' '.join(d['tokens']))\n",
    "\n",
    "len(_mentions), _mentions[:3]"
   ]
  },
  {
   "cell_type": "code",
   "execution_count": 179,
   "metadata": {},
   "outputs": [
    {
     "data": {
      "application/vnd.jupyter.widget-view+json": {
       "model_id": "6ad8c1ef3de84ccfba3faef761b2cf35",
       "version_major": 2,
       "version_minor": 0
      },
      "text/plain": [
       "HBox(children=(FloatProgress(value=0.0, max=413232.0), HTML(value='')))"
      ]
     },
     "metadata": {},
     "output_type": "display_data"
    },
    {
     "name": "stdout",
     "output_type": "stream",
     "text": [
      "\n"
     ]
    }
   ],
   "source": [
    "_mentions = [[[] for _ in instances_dict] for __ in instances_dict]\n",
    "_concepts = list(instances_dict.keys())\n",
    "\n",
    "for d in tqdm(sent_dicts):\n",
    "    _e_set = set(d['entities'])\n",
    "    \n",
    "    for i in range(len(_concepts)):\n",
    "        _h_cc = _concepts[i]\n",
    "        _h_ents = set(instances_dict[_h_cc]) & _e_set\n",
    "        if len(_h_ents) == 0:\n",
    "            continue\n",
    "        for j in range(i+1, len(_concepts)):\n",
    "            _t_cc = _concepts[j]\n",
    "            _t_ents = set(instances_dict[_t_cc]) & _e_set\n",
    "            if len(_t_ents) == 0:\n",
    "                continue\n",
    "            if _h_ents.issubset(_t_ents) or _t_ents.issubset(_h_ents):\n",
    "                # just entity intersection\n",
    "                continue\n",
    "            _mentions[i][j].append(' '.join(d['tokens']))"
   ]
  },
  {
   "cell_type": "code",
   "execution_count": 181,
   "metadata": {
    "scrolled": true
   },
   "outputs": [
    {
     "name": "stdout",
     "output_type": "stream",
     "text": [
      "Co-occ     company  dress_cod job_posit pay_sched  benefits compensat payment_o backgroun   person  hire_prer   shifts   schedule employee_ onboardin \n",
      "company       --       1582      1387      1664      1130      991       1052      3174      619       1864      303       1110      3102      1211   \n",
      "dress_cod    1582       --        54        27        16        5         22        74        15        46        1         30        52        86    \n",
      "job_posit    1387       54        --        37        21        62        34       121        13       126        18        39       292       109    \n",
      "pay_sched    1664       27        37        --        19        63       407        21        3         57        31        15       174        77    \n",
      "benefits     1130       16        21        19        --       237        93        79        22       112        1         8        401        34    \n",
      "compensat    991        5         62        63       237        --        50        29        9         57        11        40       323        53    \n",
      "payment_o    1052       22        34       407        93        50        --       208        24       174        1        169        95        79    \n",
      "backgroun    3174       74       121        21        79        29       208        --        56       101        4         30       317       207    \n",
      "person       619        15        13        3         22        9         24        56        --        38        4         13       190        8     \n",
      "hire_prer    1864       46       126        57       112        57       174       101        38        --        6         53       357        18    \n",
      "shifts       303        1         18        31        1         11        1         4         4         6         --        53        54        6     \n",
      "schedule     1110       30        39        15        8         40       169        30        13        53        53        --       196        81    \n",
      "employee_    3102       52       292       174       401       323        95       317       190       357        54       196        --        29    \n",
      "onboardin    1211       86       109        77        34        53        79       207        8         18        6         81        29        --    \n",
      "\n"
     ]
    }
   ],
   "source": [
    "_msg = f'{\"Co-occ\":<10s}'\n",
    "for _cc in _concepts:\n",
    "    _msg += f'{_cc[:9]:^10s}'\n",
    "_msg += '\\n'\n",
    "for i in range(len(_concepts)):\n",
    "    _msg += f'{_concepts[i][:9]:<10s}'\n",
    "    for j in range(len(_concepts)):\n",
    "        if j == i:\n",
    "            _msg += f'{\"--\":^10s}'\n",
    "        elif j < i:\n",
    "            _msg += f'{len(_mentions[j][i]):^10d}'\n",
    "        else:\n",
    "            _msg += f'{len(_mentions[i][j]):^10d}'\n",
    "    _msg += '\\n'\n",
    "print(_msg)"
   ]
  },
  {
   "cell_type": "code",
   "execution_count": 155,
   "metadata": {},
   "outputs": [
    {
     "data": {
      "text/plain": [
       "[(0, 'company'),\n",
       " (1, 'dress_code'),\n",
       " (2, 'job_position'),\n",
       " (3, 'pay_schedule'),\n",
       " (4, 'benefits'),\n",
       " (5, 'compensation'),\n",
       " (6, 'payment_option'),\n",
       " (7, 'background_screening'),\n",
       " (8, 'person'),\n",
       " (9, 'hire_prerequisite'),\n",
       " (10, 'shifts'),\n",
       " (11, 'schedule'),\n",
       " (12, 'employee_type'),\n",
       " (13, 'onboarding_steps')]"
      ]
     },
     "execution_count": 155,
     "metadata": {},
     "output_type": "execute_result"
    }
   ],
   "source": [
    "list(enumerate(_concepts))"
   ]
  },
  {
   "cell_type": "code",
   "execution_count": 232,
   "metadata": {
    "scrolled": true
   },
   "outputs": [
    {
     "data": {
      "text/plain": [
       "121"
      ]
     },
     "execution_count": 232,
     "metadata": {},
     "output_type": "execute_result"
    }
   ],
   "source": [
    "len(_mentions[2][7])"
   ]
  },
  {
   "cell_type": "code",
   "execution_count": null,
   "metadata": {
    "scrolled": true
   },
   "outputs": [],
   "source": [
    "instances_dict['job_position'], instances_dict['hire_prerequisite']"
   ]
  },
  {
   "cell_type": "code",
   "execution_count": 235,
   "metadata": {
    "scrolled": true
   },
   "outputs": [
    {
     "data": {
      "text/plain": [
       "[\"So , I responded on ESVS that I did n't get any training and complained to the assistant manager .\",\n",
       " 'It 2 weeks in lab to get the handle of the drink making and and then you do 2 weeks of cashier training',\n",
       " 'I am in Midland TX , I have my orientation today for delivery driver / runner , the manager said about an hour long .',\n",
       " \"I was told when I got hired I was going to be a store managerin training , I have been in retail for 32 years my training should have consisted of how to use Dollar Generals tools I already know how to do the job and I 'm being used and abused by the store manager right now as an assistant making $ 11 an hour to close his store every   day .\",\n",
       " 'What training and educational background i need to work Cashier Walgreens',\n",
       " 'Apply for store manager position based off of interview and business knowledge of small box retail is where you ’ll be placed as far as Training and Store position',\n",
       " 'Standard orientation for all server , cook or bartender was 5 days , with a quiz at the end of each shift .',\n",
       " 'At times an inexperienced assistant manager would be place in a bad situation of running the store without proper training .',\n",
       " 'When you are in training you are consider a crew member ( getting paid $ 7.25 ) ; and your other work days will be longer ( typical day ) .',\n",
       " 'Physical training , Bassat training , Drug screen , Cashier Training and learning to maneuver machines .',\n",
       " '\\n\\n The management highly undervalue a lot of their workers , several store managers had never even worked in drug g / m except for their “ store manager training ” in which they work a couple days in each dept in the store or at different stores and are then deemed “ experts ” .']"
      ]
     },
     "execution_count": 235,
     "metadata": {},
     "output_type": "execute_result"
    }
   ],
   "source": [
    "_mentions[2][13][::10]"
   ]
  },
  {
   "cell_type": "code",
   "execution_count": 172,
   "metadata": {},
   "outputs": [
    {
     "name": "stdout",
     "output_type": "stream",
     "text": [
      "{'tokens': ['5', 'hours', 'and', 'then', 'training', 'in', 'store'], 'company': 'CVS Health', 'entities': ['cvs health', 'training']}\n"
     ]
    }
   ],
   "source": [
    "_tgt_sent = '5 hours and then training in store'\n",
    "for d in sent_dicts:\n",
    "    if ' '.join(d['tokens']) == _tgt_sent:\n",
    "        print(d)"
   ]
  },
  {
   "cell_type": "markdown",
   "metadata": {},
   "source": [
    "### Mine prompts for new relations"
   ]
  },
  {
   "cell_type": "code",
   "execution_count": 191,
   "metadata": {},
   "outputs": [],
   "source": [
    "seed_relations_df = load_seed_aligned_relations(seed_aligned_relations_path)"
   ]
  },
  {
   "cell_type": "code",
   "execution_count": 202,
   "metadata": {},
   "outputs": [
    {
     "data": {
      "application/vnd.jupyter.widget-view+json": {
       "model_id": "002d9bc3822841c3958421c1c1146fcd",
       "version_major": 2,
       "version_minor": 0
      },
      "text/plain": [
       "HBox(children=(FloatProgress(value=0.0, max=441.0), HTML(value='')))"
      ]
     },
     "metadata": {},
     "output_type": "display_data"
    },
    {
     "name": "stdout",
     "output_type": "stream",
     "text": [
      "\n"
     ]
    }
   ],
   "source": [
    "h_concept = 'job_position'\n",
    "t_concept = 'hire_prerequisite'\n",
    "\n",
    "_res = mine_patterns_between_entities(corpus=sent_dicts,\n",
    "                                   h_instances=instances_dict[h_concept],\n",
    "                                   t_instances=instances_dict[t_concept],\n",
    "                                   seed_relations_df=seed_relations_df,\n",
    "                                   nlp=nlp_full)"
   ]
  },
  {
   "cell_type": "code",
   "execution_count": 203,
   "metadata": {},
   "outputs": [
    {
     "data": {
      "text/plain": [
       "{'<src> <tgt>': ['it 2 weeks in lab to get the handle of the drink making and and then you do 2 weeks of cashier training',\n",
       "  'cashier , customer service training .',\n",
       "  '7.25 at time for partime cashier will training you .',\n",
       "  'you \\'re the \" go to \" for cashier training and questions .',\n",
       "  'cashier training is just getting thrown into a checkstand !',\n",
       "  'i was promoted from associate to shift manger in 6 months and never finished my cashier training',\n",
       "  'orientation was based in some cashier training as well as online test .'],\n",
       " '<tgt> for <src>': ['yes , there is training for a cashier .',\n",
       "  'do they offer training for cashier ?']}"
      ]
     },
     "execution_count": 203,
     "metadata": {},
     "output_type": "execute_result"
    }
   ],
   "source": [
    "_res"
   ]
  },
  {
   "cell_type": "code",
   "execution_count": 215,
   "metadata": {},
   "outputs": [
    {
     "data": {
      "application/vnd.jupyter.widget-view+json": {
       "model_id": "cf619009da7b4dfe8daac1955eeb7f9e",
       "version_major": 2,
       "version_minor": 0
      },
      "text/plain": [
       "HBox(children=(FloatProgress(value=0.0, max=420.0), HTML(value='')))"
      ]
     },
     "metadata": {},
     "output_type": "display_data"
    },
    {
     "name": "stdout",
     "output_type": "stream",
     "text": [
      "\n"
     ]
    }
   ],
   "source": [
    "h_concept = 'job_position'\n",
    "t_concept = 'background_screening'\n",
    "\n",
    "_res = mine_patterns_between_entities(corpus=sent_dicts,\n",
    "                                   h_instances=instances_dict[h_concept],\n",
    "                                   t_instances=instances_dict[t_concept],\n",
    "                                   seed_relations_df=seed_relations_df,\n",
    "                                   nlp=nlp_full)"
   ]
  },
  {
   "cell_type": "code",
   "execution_count": 216,
   "metadata": {},
   "outputs": [
    {
     "data": {
      "text/plain": [
       "{'<tgt> <tgt> for <src> <src>': ['does fedex in austin tx drug test for package handler',\n",
       "  'does fedex drug test for package handler in new jersey an if so when',\n",
       "  'they do not drug test for a package handler',\n",
       "  'does ups drug test for package handler in illinois',\n",
       "  \"no they do n't drug test for package handler at any location\",\n",
       "  'no drug test for the package handler',\n",
       "  'no drug test for package handler .'],\n",
       " '<tgt> <tgt> <src> <src>': [\"there 's no drug test for part - time employees package handler ..\",\n",
       "  \"no they do n't drug test package handler at any ups locations\"],\n",
       " '<tgt> <tgt> for <src> position': [\"they will drug test for management positions , but they should n't for a cashier position\",\n",
       "  'no , there is no drug test for the overnight cashier position anymore .',\n",
       "  \"they use to but i do n't think they do drug test for a cashier position anymore .\"],\n",
       " '<tgt> <tgt> for <src> positions': ['they do nt do drug test for cashier positions .',\n",
       "  'do they drug test in idaho for cashier positions ?'],\n",
       " '<tgt> <tgt> for <src>': ['no drug test for part time cashier',\n",
       "  \"they do n't   do drug test for cashier\"],\n",
       " '<tgt> <tgt> <src>': [\"i 'm in sc and i was told by hr they do not drug test cashier 's .\",\n",
       "  \"no , they do n't drug test cashier 's in arkansas .\"]}"
      ]
     },
     "execution_count": 216,
     "metadata": {},
     "output_type": "execute_result"
    }
   ],
   "source": [
    "_res"
   ]
  },
  {
   "cell_type": "code",
   "execution_count": 217,
   "metadata": {},
   "outputs": [
    {
     "data": {
      "application/vnd.jupyter.widget-view+json": {
       "model_id": "f0fdf072b7d24be484381e70c048e965",
       "version_major": 2,
       "version_minor": 0
      },
      "text/plain": [
       "HBox(children=(FloatProgress(value=0.0, max=378.0), HTML(value='')))"
      ]
     },
     "metadata": {},
     "output_type": "display_data"
    },
    {
     "name": "stdout",
     "output_type": "stream",
     "text": [
      "\n"
     ]
    }
   ],
   "source": [
    "h_concept = 'job_position'\n",
    "t_concept = 'employee_type'\n",
    "\n",
    "_res = mine_patterns_between_entities(corpus=sent_dicts,\n",
    "                                   h_instances=instances_dict[h_concept],\n",
    "                                   t_instances=instances_dict[t_concept],\n",
    "                                   seed_relations_df=seed_relations_df,\n",
    "                                   nlp=nlp_full)"
   ]
  },
  {
   "cell_type": "code",
   "execution_count": 218,
   "metadata": {},
   "outputs": [
    {
     "data": {
      "text/plain": [
       "{'<tgt> <tgt> <src> <src>': ['8.50 as a full time key holder .',\n",
       "  'full time key holder   will get anywhere from   to hours per week',\n",
       "  'the only people who are allowed full time are team leaders , assistant managers and store manager .',\n",
       "  'cashiers take a drug test at the store while assistant managers and store manager go to a facility to get drug tested .',\n",
       "  'the chances of becoming a full time crew member are high depending on your availability',\n",
       "  'i was always a full time crew member',\n",
       "  'weekly part time package handler',\n",
       "  'you were eligible after 1000 hours as part time package handler .',\n",
       "  \"what 's the starting pay for a part time package handler\",\n",
       "  'the starting pay rate for a part time package handler is 11.00 a hour',\n",
       "  'what is the pay rate for a part time package handler in fredericksburg virginia',\n",
       "  'benefits are available after 30 or 90 days , if you are a part time package handler .',\n",
       "  'i just got hired as a part time package handler in ft worth , tx there was no drug test they just do a background check',\n",
       "  'i doubt that they would let you start at 4 , perhaps apply for a later shift , part time package handler is 5 days a week and a total of 17 - 20 hours .',\n",
       "  'does a person make 40 hrs a week being a full time sales associate ?',\n",
       "  'i was a full time sales associate back in 2018 .',\n",
       "  'they rarely hire full time sales associate',\n",
       "  'i just had to do a pre employment drug screen for part time sales associate .',\n",
       "  'i was just interviewed yesterday for a part time sales associate and i have to do a drug test .',\n",
       "  \"i 'm just a part time sales associate & am still currently working for the company .\",\n",
       "  'a part time sales associate would work probably 20 hours .',\n",
       "  'i ve been with dollar tree for 8yrs now and we only get $ 1.50 more an hour on holidays and if we work between 12 am n 6 am we get $ 1.00 more an hour .. as a part time sales associate , you do not get the customary time n a half pay ..',\n",
       "  'i do not know i was only part time sales associate',\n",
       "  'from there i met with the gm and was hired on as a part time sales associate .',\n",
       "  '35 hours however i was not a full time assistant manager .',\n",
       "  'and most have a full time assistant manager ( the merch assistant manager who works between 30 and 40 hours a week ) .',\n",
       "  'it ’s only one full time assistant manager .',\n",
       "  \"yes , if i 'm a part time assistant manager and my store manger wants me to work full time hours and do truck and merch manager duties for a couple weeks should n't i be compensated for working as a full time manager\",\n",
       "  'part time assistant manager .'],\n",
       " '<src> <src> <tgt> <tgt>': ['there are a third key manager , along with a store manager and assistant managers .',\n",
       "  'usually the store manager , 1 or 2 co - managers , and 4 or 5 assistant managers'],\n",
       " '<tgt> <tgt> <src>': ['  you can be a part time barista and get benefits .',\n",
       "  'yes even though you ’re a part time barista we still get perks',\n",
       "  'was not a full time cashier',\n",
       "  'i was the only full time cashier that worked til close .',\n",
       "  'i would be nice to be a full time cashier , so we can invest in the 401k. we would like to save money for retirement .',\n",
       "  'as a full time cashier , i get two week of vacation .',\n",
       "  'incredibly long and dragged for an interview process to work for a part time cashier position .',\n",
       "  'a part time cashier will get on average around 20 hours a week .',\n",
       "  'is it a common thing for a store manager to schedule a part time cashier to a 12 hour shift ?',\n",
       "  'no drug test for part time cashier',\n",
       "  '7 month full time menbet ship desk \\n 6 month part time cashier',\n",
       "  'no benefits are available when you are part time cashier',\n",
       "  'it was three days after my initial interview that i was found eligible to be hired for a part time cashier position .',\n",
       "  '15 hours for a part time cashier',\n",
       "  'you actually can apply at 16 for part time cashier',\n",
       "  'i was interviewed , and hired as a part time cashier , learned the ropes , and became a full time cashier , then i learned money operations , inventory and ordering to become a full time assistant manager .',\n",
       "  '10.89 to start out as a part time cashier at lumberton new jersey',\n",
       "  \"i worked at lowe 's for 3 months as a part time front end cashier .\",\n",
       "  'being a part time cashier is always challenging ,   but also very fun ,   i love costumer service ,   i enjoy helping others in anyway i can , we do have all type of attitudes but my job is to make the transaction confertable , well handled , acurate and efecency , with a positive attitude .',\n",
       "  'i left kroger because i applied for a part time cashier position but was continually scheduled for 40 hours a week because people were constantly quiting due to poor management , extremely rude customers , and no managers there back up their staff .',\n",
       "  'part time cashier ?',\n",
       "  'at burlington   i have worked as part time cashier for almost two years and currently work as afull time associate in the baby and youth department .',\n",
       "  'i was not informed about any 401k opportunities / stocks as a part time cashier .',\n",
       "  '9.00 and hours 15 hours a week as a part time cashier .',\n",
       "  \"i do n't know the salary for health   infusion nurse cause i 'm a part time cashier only .\",\n",
       "  'no , they do not drug test for part time cashier employment .',\n",
       "  'a part time dishwasher might work about 15 - 22 hours a week',\n",
       "  \"part time dishwasher from 4:30pm to 10 pm , hours i 'm looking for\"],\n",
       " '<tgt> <src> <src>': ['i started off as a seasonal package handler .',\n",
       "  \"no i do n't not know i was a seasonal package handler\",\n",
       "  \"i 'm a felon and they hired me as a seasonal package handler .\",\n",
       "  'i was a seasonal package handler and i had another fulltime job that was getting the way of me making it to work on time .',\n",
       "  'unknown because i was only a temporary seasonal package handler and not a driver',\n",
       "  'i never was a seasonal package handler but usually they send you to a clinic approved by department of traffic .',\n",
       "  \"no , they do n't if you 're a seasonal sales associate\",\n",
       "  \"i was working as a seasonal sales associate prior to my son 's birth .\"],\n",
       " '<tgt> <src>': ['i was only a seasonal cashier and sales associate .',\n",
       "  '\\n i rue the say i ever applied as a seasonal cashier at target .',\n",
       "  \"i 'm a seasonal cashier , and i make $ 12 an hour .\",\n",
       "  'dairy , hardware , sporting goods , garden , cosmetics , pharmacy , toys , electronics , infants , shoes , apparel , grocery , seasonal , cashier , security(ap )',\n",
       "  'not sure because i was only a seasonal cashier .',\n",
       "  'all employees of lowe\"s are required to take the same tests for employment , however i was a part - time seasonal cashier .'],\n",
       " '<src> <tgt>': ['it 2 weeks in lab to get the handle of the drink making and and then you do 2 weeks of cashier training',\n",
       "  'cashier , customer service training .',\n",
       "  '7.25 at time for partime cashier will training you .',\n",
       "  'you \\'re the \" go to \" for cashier training and questions .',\n",
       "  'cashier training is just getting thrown into a checkstand !',\n",
       "  'i was promoted from associate to shift manger in 6 months and never finished my cashier training',\n",
       "  'orientation was based in some cashier training as well as online test .'],\n",
       " '<tgt> for <src>': ['yes , there is training for a cashier .',\n",
       "  'do they offer training for cashier ?'],\n",
       " '<src> <tgt> <tgt>': ['cashier part time',\n",
       "  'i worked as a cashier part time and starting pay was $ 9.00 .',\n",
       "  'you can start working as a cashier part time at 16 years old .'],\n",
       " '<src> are <tgt> <tgt>': ['if you come in as a cashier you are part time only 15 hrs week',\n",
       "  'no i work full time all my cashier are part time'],\n",
       " '<src> is <tgt> <tgt>': ['a cashier or better known as a sales associate , is part time .',\n",
       "  'no the cashier there from what they told me is only part time no full time']}"
      ]
     },
     "execution_count": 218,
     "metadata": {},
     "output_type": "execute_result"
    }
   ],
   "source": [
    "_res"
   ]
  },
  {
   "cell_type": "code",
   "execution_count": 219,
   "metadata": {},
   "outputs": [
    {
     "data": {
      "application/vnd.jupyter.widget-view+json": {
       "model_id": "8cfdf7f5920a438ca534686670cf37a4",
       "version_major": 2,
       "version_minor": 0
      },
      "text/plain": [
       "HBox(children=(FloatProgress(value=0.0, max=399.0), HTML(value='')))"
      ]
     },
     "metadata": {},
     "output_type": "display_data"
    },
    {
     "name": "stdout",
     "output_type": "stream",
     "text": [
      "\n"
     ]
    }
   ],
   "source": [
    "h_concept = 'job_position'\n",
    "t_concept = 'onboarding_steps'\n",
    "\n",
    "_res = mine_patterns_between_entities(corpus=sent_dicts,\n",
    "                                   h_instances=instances_dict[h_concept],\n",
    "                                   t_instances=instances_dict[t_concept],\n",
    "                                   seed_relations_df=seed_relations_df,\n",
    "                                   nlp=nlp_full)"
   ]
  },
  {
   "cell_type": "code",
   "execution_count": 220,
   "metadata": {},
   "outputs": [
    {
     "data": {
      "text/plain": [
       "{'<src> <tgt>': ['it 2 weeks in lab to get the handle of the drink making and and then you do 2 weeks of cashier training',\n",
       "  'cashier , customer service training .',\n",
       "  '7.25 at time for partime cashier will training you .',\n",
       "  'you \\'re the \" go to \" for cashier training and questions .',\n",
       "  'cashier training is just getting thrown into a checkstand !',\n",
       "  'i was promoted from associate to shift manger in 6 months and never finished my cashier training',\n",
       "  'orientation was based in some cashier training as well as online test .'],\n",
       " '<tgt> for <src>': ['yes , there is training for a cashier .',\n",
       "  'do they offer training for cashier ?'],\n",
       " 'manager <src> <src> leading <tgt> <tgt>': ['  if you are wanting to walk in just after the start time , be prepared for the manager or assistant manager leading the group interview to ask you to attend the next open interview , which is probably being held in the next few days .',\n",
       "  '  if you are wanting to walk in just after the start time , be prepared for the manager or assistant manager leading the group interview to ask you to attend the next open interview , which is probably being held in the next few days .']}"
      ]
     },
     "execution_count": 220,
     "metadata": {},
     "output_type": "execute_result"
    }
   ],
   "source": [
    "_res"
   ]
  },
  {
   "cell_type": "code",
   "execution_count": 244,
   "metadata": {
    "scrolled": true
   },
   "outputs": [
    {
     "data": {
      "application/vnd.jupyter.widget-view+json": {
       "model_id": "1706d6a829c3423db18cb0187a63bb7a",
       "version_major": 2,
       "version_minor": 0
      },
      "text/plain": [
       "HBox(children=(FloatProgress(value=0.0, max=391.0), HTML(value='')))"
      ]
     },
     "metadata": {},
     "output_type": "display_data"
    },
    {
     "name": "stdout",
     "output_type": "stream",
     "text": [
      "overlapping spans\n",
      "overlapping spans\n",
      "overlapping spans\n",
      "overlapping spans\n",
      "overlapping spans\n",
      "overlapping spans\n",
      "overlapping spans\n",
      "overlapping spans\n",
      "overlapping spans\n",
      "overlapping spans\n",
      "overlapping spans\n",
      "overlapping spans\n",
      "overlapping spans\n",
      "overlapping spans\n",
      "overlapping spans\n",
      "overlapping spans\n",
      "overlapping spans\n",
      "overlapping spans\n",
      "overlapping spans\n",
      "overlapping spans\n",
      "overlapping spans\n",
      "overlapping spans\n",
      "overlapping spans\n",
      "overlapping spans\n",
      "overlapping spans\n",
      "overlapping spans\n",
      "overlapping spans\n",
      "overlapping spans\n",
      "overlapping spans\n",
      "overlapping spans\n",
      "overlapping spans\n",
      "overlapping spans\n",
      "overlapping spans\n",
      "overlapping spans\n",
      "overlapping spans\n",
      "overlapping spans\n",
      "overlapping spans\n",
      "overlapping spans\n",
      "overlapping spans\n",
      "overlapping spans\n",
      "overlapping spans\n",
      "overlapping spans\n",
      "overlapping spans\n",
      "overlapping spans\n",
      "overlapping spans\n",
      "overlapping spans\n",
      "overlapping spans\n",
      "overlapping spans\n",
      "overlapping spans\n",
      "overlapping spans\n",
      "overlapping spans\n",
      "overlapping spans\n",
      "overlapping spans\n",
      "overlapping spans\n",
      "overlapping spans\n",
      "overlapping spans\n",
      "overlapping spans\n",
      "overlapping spans\n",
      "overlapping spans\n",
      "overlapping spans\n",
      "overlapping spans\n",
      "overlapping spans\n",
      "overlapping spans\n",
      "overlapping spans\n",
      "overlapping spans\n",
      "overlapping spans\n",
      "overlapping spans\n",
      "overlapping spans\n",
      "overlapping spans\n",
      "overlapping spans\n",
      "overlapping spans\n",
      "overlapping spans\n",
      "overlapping spans\n",
      "overlapping spans\n",
      "overlapping spans\n",
      "overlapping spans\n",
      "overlapping spans\n",
      "overlapping spans\n",
      "overlapping spans\n",
      "overlapping spans\n",
      "overlapping spans\n",
      "overlapping spans\n",
      "overlapping spans\n",
      "overlapping spans\n",
      "overlapping spans\n",
      "overlapping spans\n",
      "overlapping spans\n",
      "overlapping spans\n",
      "overlapping spans\n",
      "overlapping spans\n",
      "overlapping spans\n",
      "overlapping spans\n",
      "overlapping spans\n",
      "overlapping spans\n",
      "overlapping spans\n",
      "overlapping spans\n",
      "overlapping spans\n",
      "overlapping spans\n",
      "overlapping spans\n",
      "overlapping spans\n",
      "overlapping spans\n",
      "overlapping spans\n",
      "overlapping spans\n",
      "overlapping spans\n",
      "overlapping spans\n",
      "overlapping spans\n",
      "overlapping spans\n",
      "overlapping spans\n",
      "overlapping spans\n",
      "overlapping spans\n",
      "overlapping spans\n",
      "overlapping spans\n",
      "overlapping spans\n",
      "overlapping spans\n",
      "overlapping spans\n",
      "overlapping spans\n",
      "overlapping spans\n",
      "overlapping spans\n",
      "overlapping spans\n",
      "overlapping spans\n",
      "overlapping spans\n",
      "overlapping spans\n",
      "overlapping spans\n",
      "overlapping spans\n",
      "overlapping spans\n",
      "overlapping spans\n",
      "overlapping spans\n",
      "overlapping spans\n",
      "overlapping spans\n",
      "overlapping spans\n",
      "overlapping spans\n",
      "overlapping spans\n",
      "overlapping spans\n",
      "overlapping spans\n",
      "overlapping spans\n",
      "overlapping spans\n",
      "overlapping spans\n",
      "overlapping spans\n",
      "overlapping spans\n",
      "overlapping spans\n",
      "overlapping spans\n",
      "overlapping spans\n",
      "overlapping spans\n",
      "overlapping spans\n",
      "overlapping spans\n",
      "overlapping spans\n",
      "overlapping spans\n",
      "overlapping spans\n",
      "overlapping spans\n",
      "overlapping spans\n",
      "overlapping spans\n",
      "overlapping spans\n",
      "overlapping spans\n",
      "overlapping spans\n",
      "overlapping spans\n",
      "overlapping spans\n",
      "overlapping spans\n",
      "overlapping spans\n",
      "overlapping spans\n",
      "overlapping spans\n",
      "overlapping spans\n",
      "overlapping spans\n",
      "overlapping spans\n",
      "overlapping spans\n",
      "overlapping spans\n",
      "overlapping spans\n",
      "overlapping spans\n",
      "overlapping spans\n",
      "overlapping spans\n",
      "overlapping spans\n",
      "overlapping spans\n",
      "overlapping spans\n",
      "overlapping spans\n",
      "overlapping spans\n",
      "overlapping spans\n",
      "overlapping spans\n",
      "overlapping spans\n",
      "overlapping spans\n",
      "overlapping spans\n",
      "overlapping spans\n",
      "overlapping spans\n",
      "overlapping spans\n",
      "overlapping spans\n",
      "overlapping spans\n",
      "overlapping spans\n",
      "overlapping spans\n",
      "overlapping spans\n",
      "overlapping spans\n",
      "overlapping spans\n",
      "overlapping spans\n",
      "overlapping spans\n",
      "overlapping spans\n",
      "overlapping spans\n",
      "overlapping spans\n",
      "overlapping spans\n",
      "overlapping spans\n",
      "overlapping spans\n",
      "overlapping spans\n",
      "overlapping spans\n",
      "overlapping spans\n",
      "overlapping spans\n",
      "overlapping spans\n",
      "overlapping spans\n",
      "overlapping spans\n",
      "overlapping spans\n",
      "overlapping spans\n",
      "overlapping spans\n",
      "overlapping spans\n",
      "overlapping spans\n",
      "overlapping spans\n",
      "overlapping spans\n",
      "overlapping spans\n",
      "overlapping spans\n",
      "overlapping spans\n",
      "overlapping spans\n",
      "overlapping spans\n",
      "overlapping spans\n",
      "overlapping spans\n",
      "overlapping spans\n",
      "overlapping spans\n",
      "overlapping spans\n",
      "overlapping spans\n",
      "overlapping spans\n",
      "overlapping spans\n",
      "overlapping spans\n",
      "overlapping spans\n",
      "overlapping spans\n",
      "overlapping spans\n",
      "overlapping spans\n",
      "overlapping spans\n",
      "overlapping spans\n",
      "overlapping spans\n",
      "overlapping spans\n",
      "overlapping spans\n",
      "overlapping spans\n",
      "overlapping spans\n",
      "overlapping spans\n",
      "overlapping spans\n",
      "overlapping spans\n",
      "overlapping spans\n",
      "overlapping spans\n",
      "overlapping spans\n",
      "overlapping spans\n",
      "overlapping spans\n",
      "overlapping spans\n",
      "overlapping spans\n",
      "overlapping spans\n",
      "overlapping spans\n",
      "overlapping spans\n",
      "overlapping spans\n",
      "overlapping spans\n",
      "overlapping spans\n",
      "overlapping spans\n",
      "overlapping spans\n",
      "overlapping spans\n",
      "overlapping spans\n",
      "overlapping spans\n",
      "overlapping spans\n",
      "overlapping spans\n",
      "overlapping spans\n",
      "overlapping spans\n",
      "overlapping spans\n",
      "overlapping spans\n",
      "overlapping spans\n",
      "overlapping spans\n",
      "overlapping spans\n",
      "overlapping spans\n",
      "overlapping spans\n",
      "overlapping spans\n",
      "overlapping spans\n",
      "overlapping spans\n",
      "overlapping spans\n",
      "overlapping spans\n",
      "overlapping spans\n",
      "overlapping spans\n",
      "overlapping spans\n",
      "overlapping spans\n",
      "overlapping spans\n",
      "overlapping spans\n",
      "overlapping spans\n",
      "overlapping spans\n",
      "overlapping spans\n",
      "overlapping spans\n",
      "overlapping spans\n",
      "overlapping spans\n",
      "overlapping spans\n",
      "overlapping spans\n",
      "overlapping spans\n",
      "overlapping spans\n",
      "overlapping spans\n",
      "overlapping spans\n",
      "overlapping spans\n",
      "overlapping spans\n",
      "overlapping spans\n",
      "overlapping spans\n",
      "overlapping spans\n",
      "overlapping spans\n",
      "overlapping spans\n",
      "overlapping spans\n",
      "overlapping spans\n",
      "overlapping spans\n",
      "overlapping spans\n",
      "overlapping spans\n",
      "overlapping spans\n",
      "overlapping spans\n",
      "overlapping spans\n",
      "overlapping spans\n",
      "overlapping spans\n",
      "overlapping spans\n",
      "overlapping spans\n",
      "overlapping spans\n",
      "overlapping spans\n",
      "overlapping spans\n",
      "overlapping spans\n",
      "overlapping spans\n",
      "overlapping spans\n",
      "overlapping spans\n",
      "overlapping spans\n",
      "overlapping spans\n",
      "overlapping spans\n",
      "overlapping spans\n",
      "overlapping spans\n",
      "overlapping spans\n",
      "overlapping spans\n",
      "overlapping spans\n",
      "overlapping spans\n",
      "overlapping spans\n",
      "overlapping spans\n",
      "overlapping spans\n",
      "overlapping spans\n",
      "overlapping spans\n",
      "overlapping spans\n",
      "overlapping spans\n",
      "overlapping spans\n",
      "overlapping spans\n",
      "overlapping spans\n",
      "overlapping spans\n",
      "overlapping spans\n",
      "overlapping spans\n",
      "overlapping spans\n",
      "overlapping spans\n",
      "overlapping spans\n",
      "overlapping spans\n",
      "overlapping spans\n",
      "overlapping spans\n",
      "overlapping spans\n",
      "overlapping spans\n",
      "overlapping spans\n",
      "overlapping spans\n",
      "overlapping spans\n",
      "overlapping spans\n",
      "overlapping spans\n",
      "overlapping spans\n",
      "overlapping spans\n",
      "overlapping spans\n",
      "overlapping spans\n",
      "overlapping spans\n",
      "overlapping spans\n",
      "overlapping spans\n",
      "overlapping spans\n",
      "overlapping spans\n",
      "overlapping spans\n",
      "overlapping spans\n",
      "overlapping spans\n",
      "overlapping spans\n",
      "overlapping spans\n",
      "overlapping spans\n",
      "overlapping spans\n",
      "overlapping spans\n",
      "overlapping spans\n",
      "overlapping spans\n",
      "overlapping spans\n",
      "overlapping spans\n",
      "overlapping spans\n",
      "overlapping spans\n",
      "overlapping spans\n",
      "overlapping spans\n",
      "overlapping spans\n",
      "overlapping spans\n",
      "overlapping spans\n",
      "overlapping spans\n",
      "overlapping spans\n",
      "overlapping spans\n",
      "overlapping spans\n",
      "overlapping spans\n",
      "overlapping spans\n",
      "overlapping spans\n",
      "overlapping spans\n",
      "overlapping spans\n",
      "overlapping spans\n",
      "overlapping spans\n",
      "overlapping spans\n",
      "overlapping spans\n",
      "overlapping spans\n",
      "overlapping spans\n",
      "overlapping spans\n",
      "overlapping spans\n",
      "overlapping spans\n",
      "overlapping spans\n",
      "overlapping spans\n",
      "overlapping spans\n",
      "overlapping spans\n",
      "overlapping spans\n",
      "overlapping spans\n",
      "overlapping spans\n",
      "overlapping spans\n",
      "overlapping spans\n",
      "overlapping spans\n",
      "overlapping spans\n",
      "overlapping spans\n",
      "overlapping spans\n",
      "overlapping spans\n",
      "overlapping spans\n",
      "overlapping spans\n",
      "overlapping spans\n",
      "overlapping spans\n",
      "overlapping spans\n",
      "overlapping spans\n",
      "overlapping spans\n",
      "overlapping spans\n",
      "overlapping spans\n",
      "overlapping spans\n",
      "overlapping spans\n",
      "overlapping spans\n",
      "overlapping spans\n",
      "overlapping spans\n",
      "overlapping spans\n",
      "overlapping spans\n",
      "overlapping spans\n",
      "overlapping spans\n",
      "overlapping spans\n",
      "overlapping spans\n",
      "overlapping spans\n",
      "overlapping spans\n",
      "overlapping spans\n",
      "overlapping spans\n",
      "overlapping spans\n",
      "overlapping spans\n",
      "overlapping spans\n",
      "overlapping spans\n",
      "overlapping spans\n",
      "overlapping spans\n",
      "overlapping spans\n",
      "overlapping spans\n",
      "overlapping spans\n",
      "overlapping spans\n",
      "overlapping spans\n",
      "overlapping spans\n",
      "overlapping spans\n",
      "overlapping spans\n",
      "overlapping spans\n",
      "overlapping spans\n",
      "overlapping spans\n",
      "overlapping spans\n",
      "overlapping spans\n",
      "overlapping spans\n"
     ]
    },
    {
     "name": "stdout",
     "output_type": "stream",
     "text": [
      "overlapping spans\n",
      "overlapping spans\n",
      "overlapping spans\n",
      "overlapping spans\n",
      "overlapping spans\n",
      "overlapping spans\n",
      "overlapping spans\n",
      "overlapping spans\n",
      "overlapping spans\n",
      "overlapping spans\n",
      "overlapping spans\n",
      "overlapping spans\n",
      "overlapping spans\n",
      "overlapping spans\n",
      "overlapping spans\n",
      "overlapping spans\n",
      "overlapping spans\n",
      "overlapping spans\n",
      "overlapping spans\n",
      "overlapping spans\n",
      "overlapping spans\n",
      "overlapping spans\n",
      "overlapping spans\n",
      "overlapping spans\n",
      "overlapping spans\n",
      "overlapping spans\n",
      "overlapping spans\n",
      "overlapping spans\n",
      "overlapping spans\n",
      "overlapping spans\n",
      "overlapping spans\n",
      "overlapping spans\n",
      "overlapping spans\n",
      "overlapping spans\n",
      "overlapping spans\n",
      "overlapping spans\n",
      "overlapping spans\n",
      "overlapping spans\n",
      "overlapping spans\n",
      "overlapping spans\n",
      "overlapping spans\n",
      "overlapping spans\n",
      "overlapping spans\n",
      "overlapping spans\n",
      "overlapping spans\n",
      "overlapping spans\n",
      "overlapping spans\n",
      "overlapping spans\n",
      "overlapping spans\n",
      "overlapping spans\n",
      "overlapping spans\n",
      "overlapping spans\n",
      "overlapping spans\n",
      "overlapping spans\n",
      "overlapping spans\n",
      "overlapping spans\n",
      "overlapping spans\n",
      "overlapping spans\n",
      "overlapping spans\n",
      "overlapping spans\n",
      "overlapping spans\n",
      "overlapping spans\n",
      "overlapping spans\n",
      "overlapping spans\n",
      "overlapping spans\n",
      "overlapping spans\n",
      "overlapping spans\n",
      "overlapping spans\n",
      "overlapping spans\n",
      "overlapping spans\n",
      "overlapping spans\n",
      "overlapping spans\n",
      "overlapping spans\n",
      "overlapping spans\n",
      "overlapping spans\n",
      "overlapping spans\n",
      "overlapping spans\n",
      "overlapping spans\n",
      "overlapping spans\n",
      "overlapping spans\n",
      "overlapping spans\n",
      "overlapping spans\n",
      "overlapping spans\n",
      "overlapping spans\n",
      "overlapping spans\n",
      "overlapping spans\n",
      "overlapping spans\n",
      "overlapping spans\n",
      "overlapping spans\n",
      "overlapping spans\n",
      "overlapping spans\n",
      "overlapping spans\n",
      "overlapping spans\n",
      "overlapping spans\n",
      "overlapping spans\n",
      "overlapping spans\n",
      "overlapping spans\n",
      "overlapping spans\n",
      "overlapping spans\n",
      "overlapping spans\n",
      "overlapping spans\n",
      "overlapping spans\n",
      "overlapping spans\n",
      "overlapping spans\n",
      "overlapping spans\n",
      "overlapping spans\n",
      "overlapping spans\n",
      "overlapping spans\n",
      "overlapping spans\n",
      "overlapping spans\n",
      "overlapping spans\n",
      "overlapping spans\n",
      "overlapping spans\n",
      "overlapping spans\n",
      "overlapping spans\n",
      "overlapping spans\n",
      "overlapping spans\n",
      "overlapping spans\n",
      "overlapping spans\n",
      "overlapping spans\n",
      "overlapping spans\n",
      "overlapping spans\n",
      "overlapping spans\n",
      "overlapping spans\n",
      "overlapping spans\n",
      "overlapping spans\n",
      "overlapping spans\n",
      "overlapping spans\n",
      "overlapping spans\n",
      "overlapping spans\n",
      "overlapping spans\n",
      "overlapping spans\n",
      "overlapping spans\n",
      "overlapping spans\n",
      "overlapping spans\n",
      "overlapping spans\n",
      "overlapping spans\n",
      "overlapping spans\n",
      "overlapping spans\n",
      "overlapping spans\n",
      "overlapping spans\n",
      "overlapping spans\n",
      "overlapping spans\n",
      "overlapping spans\n",
      "overlapping spans\n",
      "overlapping spans\n",
      "overlapping spans\n",
      "overlapping spans\n",
      "overlapping spans\n",
      "overlapping spans\n",
      "overlapping spans\n",
      "overlapping spans\n",
      "overlapping spans\n",
      "overlapping spans\n",
      "overlapping spans\n",
      "overlapping spans\n",
      "overlapping spans\n",
      "overlapping spans\n",
      "overlapping spans\n",
      "overlapping spans\n",
      "overlapping spans\n",
      "overlapping spans\n",
      "overlapping spans\n",
      "overlapping spans\n",
      "overlapping spans\n",
      "overlapping spans\n",
      "overlapping spans\n",
      "overlapping spans\n",
      "overlapping spans\n",
      "overlapping spans\n",
      "overlapping spans\n",
      "overlapping spans\n",
      "overlapping spans\n",
      "overlapping spans\n",
      "overlapping spans\n",
      "overlapping spans\n",
      "overlapping spans\n",
      "overlapping spans\n",
      "overlapping spans\n",
      "overlapping spans\n",
      "overlapping spans\n",
      "overlapping spans\n",
      "overlapping spans\n",
      "overlapping spans\n",
      "overlapping spans\n",
      "overlapping spans\n",
      "overlapping spans\n",
      "overlapping spans\n",
      "overlapping spans\n",
      "overlapping spans\n",
      "overlapping spans\n",
      "overlapping spans\n",
      "overlapping spans\n",
      "overlapping spans\n",
      "overlapping spans\n",
      "overlapping spans\n",
      "overlapping spans\n",
      "overlapping spans\n",
      "overlapping spans\n",
      "overlapping spans\n",
      "overlapping spans\n",
      "overlapping spans\n",
      "overlapping spans\n",
      "overlapping spans\n",
      "overlapping spans\n",
      "overlapping spans\n",
      "overlapping spans\n",
      "overlapping spans\n",
      "overlapping spans\n",
      "overlapping spans\n",
      "overlapping spans\n",
      "overlapping spans\n",
      "overlapping spans\n",
      "overlapping spans\n",
      "overlapping spans\n",
      "overlapping spans\n",
      "overlapping spans\n",
      "overlapping spans\n",
      "overlapping spans\n",
      "overlapping spans\n",
      "overlapping spans\n",
      "overlapping spans\n",
      "overlapping spans\n",
      "overlapping spans\n",
      "overlapping spans\n",
      "overlapping spans\n",
      "overlapping spans\n",
      "overlapping spans\n",
      "overlapping spans\n",
      "overlapping spans\n",
      "overlapping spans\n",
      "overlapping spans\n",
      "overlapping spans\n",
      "overlapping spans\n",
      "overlapping spans\n",
      "overlapping spans\n",
      "overlapping spans\n",
      "overlapping spans\n",
      "overlapping spans\n",
      "overlapping spans\n",
      "overlapping spans\n",
      "overlapping spans\n",
      "overlapping spans\n",
      "overlapping spans\n",
      "overlapping spans\n",
      "overlapping spans\n",
      "overlapping spans\n",
      "overlapping spans\n",
      "overlapping spans\n",
      "overlapping spans\n",
      "overlapping spans\n",
      "overlapping spans\n",
      "overlapping spans\n",
      "overlapping spans\n",
      "overlapping spans\n",
      "overlapping spans\n",
      "overlapping spans\n",
      "overlapping spans\n",
      "overlapping spans\n",
      "overlapping spans\n",
      "overlapping spans\n",
      "overlapping spans\n",
      "overlapping spans\n",
      "overlapping spans\n",
      "overlapping spans\n",
      "overlapping spans\n",
      "overlapping spans\n",
      "overlapping spans\n",
      "overlapping spans\n",
      "overlapping spans\n",
      "overlapping spans\n",
      "overlapping spans\n",
      "overlapping spans\n",
      "overlapping spans\n",
      "overlapping spans\n",
      "overlapping spans\n",
      "overlapping spans\n",
      "overlapping spans\n",
      "overlapping spans\n",
      "overlapping spans\n",
      "overlapping spans\n",
      "overlapping spans\n",
      "overlapping spans\n",
      "overlapping spans\n",
      "overlapping spans\n",
      "overlapping spans\n",
      "overlapping spans\n",
      "overlapping spans\n",
      "overlapping spans\n",
      "overlapping spans\n",
      "overlapping spans\n",
      "overlapping spans\n",
      "overlapping spans\n",
      "overlapping spans\n",
      "overlapping spans\n",
      "overlapping spans\n",
      "overlapping spans\n",
      "overlapping spans\n",
      "overlapping spans\n",
      "overlapping spans\n",
      "overlapping spans\n",
      "overlapping spans\n",
      "overlapping spans\n",
      "overlapping spans\n",
      "overlapping spans\n",
      "overlapping spans\n",
      "overlapping spans\n",
      "overlapping spans\n",
      "overlapping spans\n",
      "overlapping spans\n",
      "overlapping spans\n",
      "overlapping spans\n",
      "overlapping spans\n",
      "overlapping spans\n",
      "overlapping spans\n",
      "overlapping spans\n",
      "overlapping spans\n",
      "overlapping spans\n",
      "overlapping spans\n",
      "overlapping spans\n",
      "overlapping spans\n",
      "overlapping spans\n",
      "overlapping spans\n",
      "overlapping spans\n",
      "overlapping spans\n",
      "overlapping spans\n",
      "overlapping spans\n",
      "overlapping spans\n",
      "overlapping spans\n",
      "overlapping spans\n",
      "overlapping spans\n",
      "overlapping spans\n",
      "overlapping spans\n",
      "overlapping spans\n",
      "overlapping spans\n",
      "overlapping spans\n",
      "overlapping spans\n",
      "overlapping spans\n",
      "overlapping spans\n",
      "overlapping spans\n",
      "overlapping spans\n",
      "overlapping spans\n",
      "overlapping spans\n",
      "overlapping spans\n",
      "overlapping spans\n",
      "overlapping spans\n",
      "overlapping spans\n",
      "overlapping spans\n",
      "overlapping spans\n",
      "overlapping spans\n",
      "overlapping spans\n",
      "overlapping spans\n",
      "overlapping spans\n",
      "overlapping spans\n",
      "overlapping spans\n",
      "overlapping spans\n",
      "overlapping spans\n",
      "overlapping spans\n",
      "overlapping spans\n",
      "overlapping spans\n",
      "overlapping spans\n",
      "overlapping spans\n",
      "overlapping spans\n",
      "overlapping spans\n",
      "overlapping spans\n",
      "overlapping spans\n",
      "overlapping spans\n",
      "overlapping spans\n",
      "overlapping spans\n",
      "overlapping spans\n",
      "overlapping spans\n",
      "overlapping spans\n",
      "overlapping spans\n",
      "overlapping spans\n",
      "overlapping spans\n",
      "overlapping spans\n",
      "overlapping spans\n",
      "overlapping spans\n",
      "overlapping spans\n",
      "overlapping spans\n",
      "overlapping spans\n",
      "overlapping spans\n",
      "overlapping spans\n",
      "overlapping spans\n",
      "overlapping spans\n",
      "overlapping spans\n",
      "overlapping spans\n",
      "overlapping spans\n",
      "overlapping spans\n",
      "overlapping spans\n",
      "overlapping spans\n",
      "overlapping spans\n",
      "overlapping spans\n",
      "overlapping spans\n",
      "overlapping spans\n",
      "overlapping spans\n",
      "overlapping spans\n",
      "overlapping spans\n",
      "overlapping spans\n",
      "overlapping spans\n",
      "overlapping spans\n",
      "overlapping spans\n",
      "overlapping spans\n",
      "overlapping spans\n",
      "overlapping spans\n",
      "overlapping spans\n",
      "overlapping spans\n",
      "overlapping spans\n",
      "overlapping spans\n",
      "overlapping spans\n",
      "overlapping spans\n",
      "overlapping spans\n",
      "overlapping spans\n",
      "overlapping spans\n",
      "overlapping spans\n",
      "overlapping spans\n",
      "overlapping spans\n",
      "overlapping spans\n",
      "overlapping spans\n",
      "overlapping spans\n",
      "overlapping spans\n",
      "overlapping spans\n",
      "overlapping spans\n",
      "overlapping spans\n",
      "overlapping spans\n",
      "overlapping spans\n",
      "overlapping spans\n",
      "overlapping spans\n",
      "overlapping spans\n",
      "overlapping spans\n",
      "overlapping spans\n",
      "overlapping spans\n",
      "overlapping spans\n",
      "overlapping spans\n",
      "overlapping spans\n",
      "overlapping spans\n",
      "overlapping spans\n",
      "overlapping spans\n",
      "overlapping spans\n",
      "overlapping spans\n",
      "overlapping spans\n",
      "overlapping spans\n",
      "overlapping spans\n",
      "overlapping spans\n",
      "overlapping spans\n",
      "overlapping spans\n",
      "overlapping spans\n",
      "overlapping spans\n",
      "overlapping spans\n",
      "overlapping spans\n",
      "overlapping spans\n",
      "overlapping spans\n",
      "overlapping spans\n",
      "overlapping spans\n",
      "overlapping spans\n",
      "overlapping spans\n",
      "overlapping spans\n",
      "overlapping spans\n",
      "overlapping spans\n",
      "overlapping spans\n",
      "overlapping spans\n",
      "overlapping spans\n",
      "overlapping spans\n",
      "overlapping spans\n",
      "overlapping spans\n",
      "overlapping spans\n"
     ]
    },
    {
     "name": "stdout",
     "output_type": "stream",
     "text": [
      "overlapping spans\n",
      "overlapping spans\n",
      "overlapping spans\n",
      "overlapping spans\n",
      "overlapping spans\n",
      "overlapping spans\n",
      "overlapping spans\n",
      "overlapping spans\n",
      "overlapping spans\n",
      "overlapping spans\n",
      "overlapping spans\n",
      "overlapping spans\n",
      "overlapping spans\n",
      "overlapping spans\n",
      "overlapping spans\n",
      "overlapping spans\n",
      "overlapping spans\n",
      "overlapping spans\n",
      "overlapping spans\n",
      "overlapping spans\n",
      "overlapping spans\n",
      "overlapping spans\n",
      "overlapping spans\n",
      "overlapping spans\n",
      "overlapping spans\n",
      "overlapping spans\n",
      "overlapping spans\n",
      "overlapping spans\n",
      "overlapping spans\n",
      "overlapping spans\n",
      "overlapping spans\n",
      "overlapping spans\n",
      "overlapping spans\n",
      "overlapping spans\n",
      "overlapping spans\n",
      "overlapping spans\n",
      "overlapping spans\n",
      "overlapping spans\n",
      "overlapping spans\n",
      "overlapping spans\n",
      "overlapping spans\n",
      "overlapping spans\n",
      "overlapping spans\n",
      "overlapping spans\n",
      "overlapping spans\n",
      "overlapping spans\n",
      "overlapping spans\n",
      "overlapping spans\n",
      "overlapping spans\n",
      "overlapping spans\n",
      "overlapping spans\n",
      "overlapping spans\n",
      "overlapping spans\n",
      "overlapping spans\n",
      "overlapping spans\n",
      "overlapping spans\n",
      "overlapping spans\n",
      "overlapping spans\n",
      "overlapping spans\n",
      "overlapping spans\n",
      "overlapping spans\n",
      "overlapping spans\n",
      "overlapping spans\n",
      "overlapping spans\n",
      "overlapping spans\n",
      "overlapping spans\n",
      "overlapping spans\n",
      "overlapping spans\n",
      "overlapping spans\n",
      "overlapping spans\n",
      "overlapping spans\n",
      "overlapping spans\n",
      "overlapping spans\n",
      "overlapping spans\n",
      "overlapping spans\n",
      "overlapping spans\n",
      "overlapping spans\n",
      "overlapping spans\n",
      "overlapping spans\n",
      "overlapping spans\n",
      "overlapping spans\n",
      "overlapping spans\n",
      "overlapping spans\n",
      "overlapping spans\n",
      "overlapping spans\n",
      "overlapping spans\n",
      "overlapping spans\n",
      "overlapping spans\n",
      "overlapping spans\n",
      "overlapping spans\n",
      "overlapping spans\n",
      "overlapping spans\n",
      "overlapping spans\n",
      "overlapping spans\n",
      "overlapping spans\n",
      "overlapping spans\n",
      "overlapping spans\n",
      "overlapping spans\n",
      "overlapping spans\n",
      "overlapping spans\n",
      "overlapping spans\n",
      "overlapping spans\n",
      "overlapping spans\n",
      "overlapping spans\n",
      "overlapping spans\n",
      "overlapping spans\n",
      "overlapping spans\n",
      "overlapping spans\n",
      "overlapping spans\n",
      "overlapping spans\n",
      "overlapping spans\n",
      "overlapping spans\n",
      "overlapping spans\n",
      "overlapping spans\n",
      "overlapping spans\n",
      "overlapping spans\n",
      "overlapping spans\n",
      "overlapping spans\n",
      "overlapping spans\n",
      "overlapping spans\n",
      "overlapping spans\n",
      "overlapping spans\n",
      "overlapping spans\n",
      "overlapping spans\n",
      "overlapping spans\n",
      "overlapping spans\n",
      "overlapping spans\n",
      "overlapping spans\n",
      "overlapping spans\n",
      "overlapping spans\n",
      "overlapping spans\n",
      "overlapping spans\n",
      "overlapping spans\n",
      "overlapping spans\n",
      "overlapping spans\n",
      "overlapping spans\n",
      "overlapping spans\n",
      "overlapping spans\n",
      "overlapping spans\n",
      "overlapping spans\n",
      "overlapping spans\n",
      "overlapping spans\n",
      "overlapping spans\n",
      "overlapping spans\n",
      "overlapping spans\n",
      "overlapping spans\n",
      "overlapping spans\n",
      "overlapping spans\n",
      "overlapping spans\n",
      "overlapping spans\n",
      "overlapping spans\n",
      "overlapping spans\n",
      "overlapping spans\n",
      "overlapping spans\n",
      "overlapping spans\n",
      "overlapping spans\n",
      "overlapping spans\n",
      "overlapping spans\n",
      "overlapping spans\n",
      "overlapping spans\n",
      "overlapping spans\n",
      "overlapping spans\n",
      "overlapping spans\n",
      "overlapping spans\n",
      "overlapping spans\n",
      "overlapping spans\n",
      "overlapping spans\n",
      "overlapping spans\n",
      "overlapping spans\n",
      "overlapping spans\n",
      "overlapping spans\n",
      "overlapping spans\n",
      "overlapping spans\n",
      "overlapping spans\n",
      "overlapping spans\n",
      "overlapping spans\n",
      "overlapping spans\n",
      "overlapping spans\n",
      "overlapping spans\n",
      "overlapping spans\n",
      "overlapping spans\n",
      "overlapping spans\n",
      "overlapping spans\n",
      "overlapping spans\n",
      "overlapping spans\n",
      "overlapping spans\n",
      "overlapping spans\n",
      "overlapping spans\n",
      "overlapping spans\n",
      "overlapping spans\n",
      "overlapping spans\n",
      "overlapping spans\n",
      "overlapping spans\n",
      "overlapping spans\n",
      "overlapping spans\n",
      "overlapping spans\n",
      "overlapping spans\n",
      "overlapping spans\n",
      "overlapping spans\n",
      "overlapping spans\n",
      "overlapping spans\n",
      "overlapping spans\n",
      "overlapping spans\n",
      "overlapping spans\n",
      "overlapping spans\n",
      "overlapping spans\n",
      "overlapping spans\n",
      "overlapping spans\n",
      "overlapping spans\n",
      "overlapping spans\n",
      "overlapping spans\n",
      "overlapping spans\n",
      "overlapping spans\n",
      "overlapping spans\n",
      "overlapping spans\n",
      "overlapping spans\n",
      "overlapping spans\n",
      "overlapping spans\n",
      "overlapping spans\n",
      "overlapping spans\n",
      "overlapping spans\n",
      "overlapping spans\n",
      "overlapping spans\n",
      "overlapping spans\n",
      "overlapping spans\n",
      "overlapping spans\n",
      "overlapping spans\n",
      "overlapping spans\n",
      "overlapping spans\n",
      "overlapping spans\n",
      "overlapping spans\n",
      "overlapping spans\n",
      "overlapping spans\n",
      "overlapping spans\n",
      "overlapping spans\n",
      "overlapping spans\n",
      "overlapping spans\n",
      "overlapping spans\n",
      "overlapping spans\n",
      "overlapping spans\n",
      "overlapping spans\n",
      "overlapping spans\n",
      "overlapping spans\n",
      "overlapping spans\n",
      "overlapping spans\n",
      "overlapping spans\n",
      "overlapping spans\n",
      "overlapping spans\n",
      "overlapping spans\n",
      "overlapping spans\n",
      "overlapping spans\n",
      "overlapping spans\n",
      "overlapping spans\n",
      "overlapping spans\n",
      "overlapping spans\n",
      "overlapping spans\n",
      "overlapping spans\n",
      "overlapping spans\n",
      "overlapping spans\n",
      "overlapping spans\n",
      "overlapping spans\n",
      "overlapping spans\n",
      "overlapping spans\n",
      "overlapping spans\n",
      "overlapping spans\n",
      "overlapping spans\n",
      "overlapping spans\n",
      "overlapping spans\n",
      "overlapping spans\n",
      "overlapping spans\n",
      "overlapping spans\n",
      "overlapping spans\n",
      "overlapping spans\n",
      "overlapping spans\n",
      "overlapping spans\n",
      "overlapping spans\n",
      "overlapping spans\n",
      "overlapping spans\n",
      "overlapping spans\n",
      "overlapping spans\n",
      "overlapping spans\n",
      "overlapping spans\n",
      "overlapping spans\n",
      "overlapping spans\n",
      "overlapping spans\n",
      "overlapping spans\n",
      "overlapping spans\n",
      "overlapping spans\n",
      "overlapping spans\n",
      "overlapping spans\n",
      "overlapping spans\n",
      "overlapping spans\n",
      "overlapping spans\n",
      "overlapping spans\n",
      "overlapping spans\n",
      "overlapping spans\n",
      "overlapping spans\n",
      "overlapping spans\n",
      "overlapping spans\n",
      "overlapping spans\n",
      "overlapping spans\n",
      "overlapping spans\n",
      "overlapping spans\n",
      "overlapping spans\n",
      "overlapping spans\n",
      "overlapping spans\n",
      "overlapping spans\n",
      "overlapping spans\n",
      "overlapping spans\n",
      "overlapping spans\n",
      "overlapping spans\n",
      "overlapping spans\n",
      "overlapping spans\n",
      "overlapping spans\n",
      "overlapping spans\n",
      "overlapping spans\n",
      "overlapping spans\n",
      "overlapping spans\n",
      "overlapping spans\n",
      "overlapping spans\n",
      "overlapping spans\n",
      "overlapping spans\n",
      "overlapping spans\n",
      "overlapping spans\n",
      "overlapping spans\n",
      "overlapping spans\n",
      "overlapping spans\n",
      "overlapping spans\n",
      "overlapping spans\n",
      "overlapping spans\n",
      "overlapping spans\n",
      "overlapping spans\n",
      "overlapping spans\n",
      "overlapping spans\n",
      "overlapping spans\n",
      "overlapping spans\n",
      "overlapping spans\n",
      "overlapping spans\n",
      "overlapping spans\n",
      "overlapping spans\n",
      "overlapping spans\n",
      "overlapping spans\n",
      "overlapping spans\n",
      "overlapping spans\n",
      "overlapping spans\n",
      "overlapping spans\n",
      "overlapping spans\n",
      "overlapping spans\n",
      "overlapping spans\n",
      "overlapping spans\n",
      "overlapping spans\n",
      "overlapping spans\n",
      "overlapping spans\n",
      "overlapping spans\n",
      "overlapping spans\n",
      "overlapping spans\n",
      "overlapping spans\n",
      "overlapping spans\n",
      "overlapping spans\n",
      "overlapping spans\n",
      "overlapping spans\n",
      "overlapping spans\n",
      "overlapping spans\n",
      "overlapping spans\n",
      "overlapping spans\n",
      "overlapping spans\n",
      "overlapping spans\n",
      "overlapping spans\n",
      "overlapping spans\n",
      "overlapping spans\n",
      "overlapping spans\n",
      "overlapping spans\n",
      "overlapping spans\n",
      "overlapping spans\n",
      "overlapping spans\n",
      "overlapping spans\n",
      "overlapping spans\n",
      "overlapping spans\n",
      "overlapping spans\n",
      "overlapping spans\n",
      "overlapping spans\n",
      "overlapping spans\n",
      "overlapping spans\n",
      "overlapping spans\n",
      "overlapping spans\n",
      "overlapping spans\n",
      "overlapping spans\n",
      "overlapping spans\n",
      "overlapping spans\n",
      "overlapping spans\n",
      "overlapping spans\n",
      "overlapping spans\n",
      "overlapping spans\n",
      "overlapping spans\n",
      "overlapping spans\n",
      "overlapping spans\n",
      "overlapping spans\n",
      "overlapping spans\n",
      "overlapping spans\n",
      "overlapping spans\n",
      "overlapping spans\n",
      "overlapping spans\n",
      "overlapping spans\n",
      "overlapping spans\n",
      "overlapping spans\n",
      "overlapping spans\n",
      "overlapping spans\n",
      "overlapping spans\n",
      "overlapping spans\n",
      "overlapping spans\n",
      "overlapping spans\n",
      "overlapping spans\n",
      "overlapping spans\n",
      "overlapping spans\n",
      "overlapping spans\n",
      "overlapping spans\n",
      "overlapping spans\n",
      "overlapping spans\n",
      "overlapping spans\n",
      "overlapping spans\n",
      "overlapping spans\n",
      "overlapping spans\n",
      "overlapping spans\n",
      "overlapping spans\n",
      "overlapping spans\n",
      "overlapping spans\n",
      "overlapping spans\n",
      "overlapping spans\n",
      "overlapping spans\n",
      "overlapping spans\n",
      "overlapping spans\n",
      "overlapping spans\n",
      "overlapping spans\n",
      "overlapping spans\n",
      "overlapping spans\n",
      "overlapping spans\n",
      "overlapping spans\n",
      "overlapping spans\n",
      "overlapping spans\n",
      "overlapping spans\n",
      "overlapping spans\n",
      "overlapping spans\n",
      "overlapping spans\n",
      "overlapping spans\n",
      "overlapping spans\n",
      "overlapping spans\n",
      "overlapping spans\n",
      "overlapping spans\n",
      "overlapping spans\n",
      "overlapping spans\n",
      "overlapping spans\n",
      "overlapping spans\n",
      "overlapping spans\n",
      "overlapping spans\n",
      "overlapping spans\n",
      "overlapping spans\n",
      "overlapping spans\n",
      "overlapping spans\n",
      "overlapping spans\n",
      "overlapping spans\n",
      "overlapping spans\n",
      "overlapping spans\n",
      "overlapping spans\n",
      "overlapping spans\n",
      "overlapping spans\n"
     ]
    },
    {
     "name": "stdout",
     "output_type": "stream",
     "text": [
      "overlapping spans\n",
      "overlapping spans\n",
      "overlapping spans\n",
      "overlapping spans\n",
      "overlapping spans\n",
      "overlapping spans\n",
      "overlapping spans\n",
      "overlapping spans\n",
      "overlapping spans\n",
      "overlapping spans\n",
      "overlapping spans\n",
      "overlapping spans\n",
      "overlapping spans\n",
      "overlapping spans\n",
      "overlapping spans\n",
      "overlapping spans\n",
      "overlapping spans\n",
      "overlapping spans\n",
      "overlapping spans\n",
      "overlapping spans\n",
      "overlapping spans\n",
      "overlapping spans\n",
      "overlapping spans\n",
      "overlapping spans\n",
      "overlapping spans\n",
      "overlapping spans\n",
      "overlapping spans\n",
      "overlapping spans\n",
      "overlapping spans\n",
      "overlapping spans\n",
      "overlapping spans\n",
      "overlapping spans\n",
      "overlapping spans\n",
      "overlapping spans\n",
      "overlapping spans\n",
      "overlapping spans\n",
      "overlapping spans\n",
      "overlapping spans\n",
      "overlapping spans\n",
      "overlapping spans\n",
      "overlapping spans\n",
      "overlapping spans\n",
      "overlapping spans\n",
      "overlapping spans\n",
      "overlapping spans\n",
      "overlapping spans\n",
      "overlapping spans\n",
      "overlapping spans\n",
      "overlapping spans\n",
      "overlapping spans\n",
      "overlapping spans\n",
      "overlapping spans\n",
      "overlapping spans\n",
      "overlapping spans\n",
      "overlapping spans\n",
      "overlapping spans\n",
      "overlapping spans\n",
      "overlapping spans\n",
      "overlapping spans\n",
      "overlapping spans\n",
      "overlapping spans\n",
      "overlapping spans\n",
      "overlapping spans\n",
      "overlapping spans\n",
      "overlapping spans\n",
      "overlapping spans\n",
      "overlapping spans\n",
      "overlapping spans\n",
      "overlapping spans\n",
      "overlapping spans\n",
      "overlapping spans\n",
      "overlapping spans\n",
      "overlapping spans\n",
      "overlapping spans\n",
      "overlapping spans\n",
      "overlapping spans\n",
      "overlapping spans\n",
      "overlapping spans\n",
      "overlapping spans\n",
      "overlapping spans\n",
      "overlapping spans\n",
      "overlapping spans\n",
      "overlapping spans\n",
      "overlapping spans\n",
      "overlapping spans\n",
      "overlapping spans\n",
      "overlapping spans\n",
      "overlapping spans\n",
      "overlapping spans\n",
      "overlapping spans\n",
      "overlapping spans\n",
      "overlapping spans\n",
      "overlapping spans\n",
      "overlapping spans\n",
      "overlapping spans\n",
      "overlapping spans\n",
      "overlapping spans\n",
      "overlapping spans\n",
      "overlapping spans\n",
      "overlapping spans\n",
      "overlapping spans\n",
      "overlapping spans\n",
      "overlapping spans\n",
      "overlapping spans\n",
      "overlapping spans\n",
      "overlapping spans\n",
      "overlapping spans\n",
      "overlapping spans\n",
      "overlapping spans\n",
      "overlapping spans\n",
      "overlapping spans\n",
      "overlapping spans\n",
      "overlapping spans\n",
      "overlapping spans\n",
      "overlapping spans\n",
      "overlapping spans\n",
      "overlapping spans\n",
      "overlapping spans\n",
      "overlapping spans\n",
      "overlapping spans\n",
      "overlapping spans\n",
      "overlapping spans\n",
      "overlapping spans\n",
      "overlapping spans\n",
      "overlapping spans\n",
      "overlapping spans\n",
      "overlapping spans\n",
      "overlapping spans\n",
      "overlapping spans\n",
      "overlapping spans\n",
      "overlapping spans\n",
      "overlapping spans\n",
      "overlapping spans\n",
      "overlapping spans\n",
      "overlapping spans\n",
      "overlapping spans\n",
      "overlapping spans\n",
      "overlapping spans\n",
      "overlapping spans\n",
      "overlapping spans\n",
      "overlapping spans\n",
      "overlapping spans\n",
      "overlapping spans\n",
      "overlapping spans\n",
      "overlapping spans\n",
      "overlapping spans\n",
      "overlapping spans\n",
      "overlapping spans\n",
      "overlapping spans\n",
      "overlapping spans\n",
      "overlapping spans\n",
      "overlapping spans\n",
      "overlapping spans\n",
      "overlapping spans\n",
      "overlapping spans\n",
      "overlapping spans\n",
      "overlapping spans\n",
      "overlapping spans\n",
      "overlapping spans\n",
      "overlapping spans\n",
      "overlapping spans\n",
      "overlapping spans\n",
      "overlapping spans\n",
      "overlapping spans\n",
      "overlapping spans\n",
      "overlapping spans\n",
      "overlapping spans\n",
      "overlapping spans\n",
      "overlapping spans\n",
      "overlapping spans\n",
      "overlapping spans\n",
      "overlapping spans\n",
      "overlapping spans\n",
      "overlapping spans\n",
      "overlapping spans\n",
      "overlapping spans\n",
      "overlapping spans\n",
      "overlapping spans\n",
      "overlapping spans\n",
      "overlapping spans\n",
      "overlapping spans\n",
      "overlapping spans\n",
      "overlapping spans\n",
      "overlapping spans\n",
      "overlapping spans\n",
      "overlapping spans\n",
      "overlapping spans\n",
      "overlapping spans\n",
      "overlapping spans\n",
      "overlapping spans\n",
      "overlapping spans\n",
      "overlapping spans\n",
      "overlapping spans\n",
      "overlapping spans\n",
      "overlapping spans\n",
      "overlapping spans\n",
      "overlapping spans\n",
      "overlapping spans\n",
      "overlapping spans\n",
      "overlapping spans\n",
      "overlapping spans\n",
      "overlapping spans\n",
      "overlapping spans\n",
      "overlapping spans\n",
      "overlapping spans\n",
      "overlapping spans\n",
      "overlapping spans\n",
      "overlapping spans\n",
      "overlapping spans\n",
      "overlapping spans\n",
      "overlapping spans\n",
      "overlapping spans\n",
      "overlapping spans\n",
      "overlapping spans\n",
      "overlapping spans\n",
      "overlapping spans\n",
      "overlapping spans\n",
      "overlapping spans\n",
      "overlapping spans\n",
      "overlapping spans\n",
      "overlapping spans\n",
      "overlapping spans\n",
      "overlapping spans\n",
      "overlapping spans\n",
      "overlapping spans\n",
      "overlapping spans\n",
      "overlapping spans\n",
      "overlapping spans\n",
      "overlapping spans\n",
      "overlapping spans\n",
      "overlapping spans\n",
      "overlapping spans\n",
      "overlapping spans\n",
      "overlapping spans\n",
      "overlapping spans\n",
      "overlapping spans\n",
      "overlapping spans\n",
      "overlapping spans\n",
      "overlapping spans\n",
      "overlapping spans\n",
      "overlapping spans\n",
      "overlapping spans\n",
      "overlapping spans\n",
      "overlapping spans\n",
      "overlapping spans\n",
      "overlapping spans\n",
      "overlapping spans\n",
      "overlapping spans\n",
      "overlapping spans\n",
      "overlapping spans\n",
      "overlapping spans\n",
      "overlapping spans\n",
      "overlapping spans\n",
      "overlapping spans\n",
      "overlapping spans\n",
      "overlapping spans\n",
      "overlapping spans\n",
      "overlapping spans\n",
      "overlapping spans\n",
      "overlapping spans\n",
      "overlapping spans\n",
      "overlapping spans\n",
      "overlapping spans\n",
      "overlapping spans\n",
      "overlapping spans\n",
      "overlapping spans\n",
      "overlapping spans\n",
      "overlapping spans\n",
      "overlapping spans\n",
      "overlapping spans\n",
      "overlapping spans\n",
      "overlapping spans\n",
      "overlapping spans\n",
      "overlapping spans\n",
      "overlapping spans\n",
      "overlapping spans\n",
      "overlapping spans\n",
      "overlapping spans\n",
      "overlapping spans\n",
      "overlapping spans\n",
      "overlapping spans\n",
      "overlapping spans\n",
      "overlapping spans\n",
      "overlapping spans\n",
      "overlapping spans\n",
      "overlapping spans\n",
      "overlapping spans\n",
      "overlapping spans\n",
      "overlapping spans\n",
      "overlapping spans\n",
      "overlapping spans\n",
      "overlapping spans\n",
      "overlapping spans\n",
      "overlapping spans\n",
      "overlapping spans\n",
      "overlapping spans\n",
      "overlapping spans\n",
      "overlapping spans\n",
      "overlapping spans\n",
      "overlapping spans\n",
      "overlapping spans\n",
      "overlapping spans\n",
      "overlapping spans\n",
      "overlapping spans\n",
      "overlapping spans\n",
      "overlapping spans\n",
      "overlapping spans\n",
      "overlapping spans\n",
      "overlapping spans\n",
      "overlapping spans\n",
      "overlapping spans\n",
      "overlapping spans\n",
      "overlapping spans\n",
      "overlapping spans\n",
      "overlapping spans\n",
      "overlapping spans\n",
      "overlapping spans\n",
      "overlapping spans\n",
      "overlapping spans\n",
      "overlapping spans\n",
      "overlapping spans\n",
      "overlapping spans\n",
      "overlapping spans\n",
      "overlapping spans\n",
      "overlapping spans\n",
      "overlapping spans\n",
      "overlapping spans\n",
      "overlapping spans\n",
      "overlapping spans\n",
      "overlapping spans\n",
      "overlapping spans\n",
      "overlapping spans\n",
      "overlapping spans\n",
      "overlapping spans\n",
      "overlapping spans\n",
      "overlapping spans\n",
      "overlapping spans\n",
      "overlapping spans\n",
      "overlapping spans\n",
      "overlapping spans\n",
      "overlapping spans\n",
      "overlapping spans\n",
      "overlapping spans\n",
      "overlapping spans\n",
      "overlapping spans\n",
      "overlapping spans\n",
      "overlapping spans\n",
      "overlapping spans\n",
      "overlapping spans\n",
      "overlapping spans\n",
      "overlapping spans\n",
      "overlapping spans\n",
      "overlapping spans\n",
      "overlapping spans\n",
      "overlapping spans\n",
      "overlapping spans\n",
      "overlapping spans\n",
      "overlapping spans\n",
      "overlapping spans\n",
      "overlapping spans\n",
      "overlapping spans\n",
      "overlapping spans\n",
      "overlapping spans\n",
      "overlapping spans\n",
      "overlapping spans\n",
      "overlapping spans\n",
      "overlapping spans\n",
      "overlapping spans\n",
      "overlapping spans\n",
      "overlapping spans\n",
      "overlapping spans\n",
      "overlapping spans\n",
      "overlapping spans\n",
      "overlapping spans\n",
      "overlapping spans\n",
      "overlapping spans\n",
      "overlapping spans\n",
      "overlapping spans\n",
      "overlapping spans\n",
      "overlapping spans\n",
      "overlapping spans\n",
      "overlapping spans\n",
      "overlapping spans\n",
      "overlapping spans\n",
      "overlapping spans\n",
      "overlapping spans\n",
      "overlapping spans\n",
      "overlapping spans\n",
      "overlapping spans\n",
      "overlapping spans\n",
      "overlapping spans\n",
      "overlapping spans\n",
      "overlapping spans\n",
      "overlapping spans\n",
      "overlapping spans\n",
      "overlapping spans\n",
      "overlapping spans\n",
      "overlapping spans\n",
      "overlapping spans\n",
      "overlapping spans\n",
      "overlapping spans\n",
      "overlapping spans\n",
      "overlapping spans\n",
      "overlapping spans\n",
      "overlapping spans\n",
      "overlapping spans\n",
      "overlapping spans\n",
      "overlapping spans\n",
      "overlapping spans\n",
      "overlapping spans\n",
      "overlapping spans\n",
      "overlapping spans\n",
      "overlapping spans\n",
      "overlapping spans\n",
      "overlapping spans\n",
      "overlapping spans\n",
      "overlapping spans\n",
      "overlapping spans\n",
      "overlapping spans\n",
      "overlapping spans\n",
      "overlapping spans\n",
      "overlapping spans\n",
      "overlapping spans\n",
      "overlapping spans\n",
      "overlapping spans\n",
      "overlapping spans\n",
      "overlapping spans\n",
      "overlapping spans\n",
      "overlapping spans\n",
      "overlapping spans\n",
      "overlapping spans\n",
      "overlapping spans\n",
      "overlapping spans\n",
      "overlapping spans\n",
      "overlapping spans\n",
      "overlapping spans\n",
      "overlapping spans\n",
      "overlapping spans\n",
      "overlapping spans\n",
      "overlapping spans\n",
      "overlapping spans\n",
      "overlapping spans\n",
      "overlapping spans\n",
      "overlapping spans\n",
      "overlapping spans\n",
      "overlapping spans\n",
      "overlapping spans\n",
      "overlapping spans\n",
      "overlapping spans\n",
      "overlapping spans\n",
      "overlapping spans\n",
      "overlapping spans\n",
      "overlapping spans\n",
      "overlapping spans\n",
      "overlapping spans\n",
      "overlapping spans\n",
      "overlapping spans\n"
     ]
    },
    {
     "name": "stdout",
     "output_type": "stream",
     "text": [
      "overlapping spans\n",
      "overlapping spans\n",
      "overlapping spans\n",
      "overlapping spans\n",
      "overlapping spans\n",
      "overlapping spans\n",
      "overlapping spans\n",
      "overlapping spans\n",
      "overlapping spans\n",
      "overlapping spans\n",
      "overlapping spans\n",
      "overlapping spans\n",
      "overlapping spans\n",
      "overlapping spans\n",
      "overlapping spans\n",
      "overlapping spans\n",
      "overlapping spans\n",
      "overlapping spans\n",
      "overlapping spans\n",
      "overlapping spans\n",
      "overlapping spans\n",
      "overlapping spans\n",
      "overlapping spans\n",
      "overlapping spans\n",
      "overlapping spans\n",
      "overlapping spans\n",
      "overlapping spans\n",
      "overlapping spans\n",
      "overlapping spans\n",
      "overlapping spans\n",
      "overlapping spans\n",
      "overlapping spans\n",
      "overlapping spans\n",
      "overlapping spans\n",
      "overlapping spans\n",
      "overlapping spans\n",
      "overlapping spans\n",
      "overlapping spans\n",
      "overlapping spans\n",
      "overlapping spans\n",
      "overlapping spans\n",
      "overlapping spans\n",
      "overlapping spans\n",
      "overlapping spans\n",
      "overlapping spans\n",
      "overlapping spans\n",
      "overlapping spans\n",
      "overlapping spans\n",
      "overlapping spans\n",
      "overlapping spans\n",
      "overlapping spans\n",
      "overlapping spans\n",
      "overlapping spans\n",
      "overlapping spans\n",
      "overlapping spans\n",
      "overlapping spans\n",
      "overlapping spans\n",
      "overlapping spans\n",
      "overlapping spans\n",
      "overlapping spans\n",
      "overlapping spans\n",
      "overlapping spans\n",
      "overlapping spans\n",
      "overlapping spans\n",
      "overlapping spans\n",
      "overlapping spans\n",
      "overlapping spans\n",
      "overlapping spans\n",
      "overlapping spans\n",
      "overlapping spans\n",
      "overlapping spans\n",
      "overlapping spans\n",
      "overlapping spans\n",
      "overlapping spans\n",
      "overlapping spans\n",
      "overlapping spans\n",
      "overlapping spans\n",
      "overlapping spans\n",
      "overlapping spans\n",
      "overlapping spans\n",
      "overlapping spans\n",
      "overlapping spans\n",
      "overlapping spans\n",
      "overlapping spans\n",
      "overlapping spans\n",
      "overlapping spans\n",
      "overlapping spans\n",
      "overlapping spans\n",
      "overlapping spans\n",
      "overlapping spans\n",
      "overlapping spans\n",
      "overlapping spans\n",
      "overlapping spans\n",
      "overlapping spans\n",
      "overlapping spans\n",
      "overlapping spans\n",
      "overlapping spans\n",
      "overlapping spans\n",
      "overlapping spans\n",
      "overlapping spans\n",
      "overlapping spans\n",
      "overlapping spans\n",
      "overlapping spans\n",
      "overlapping spans\n",
      "overlapping spans\n",
      "overlapping spans\n",
      "overlapping spans\n",
      "overlapping spans\n",
      "overlapping spans\n",
      "overlapping spans\n",
      "overlapping spans\n",
      "overlapping spans\n",
      "overlapping spans\n",
      "overlapping spans\n",
      "overlapping spans\n",
      "overlapping spans\n",
      "overlapping spans\n",
      "overlapping spans\n",
      "overlapping spans\n",
      "overlapping spans\n",
      "overlapping spans\n",
      "overlapping spans\n",
      "overlapping spans\n",
      "overlapping spans\n",
      "overlapping spans\n",
      "overlapping spans\n",
      "overlapping spans\n",
      "overlapping spans\n",
      "overlapping spans\n",
      "overlapping spans\n",
      "overlapping spans\n",
      "overlapping spans\n",
      "overlapping spans\n",
      "overlapping spans\n",
      "overlapping spans\n",
      "overlapping spans\n",
      "overlapping spans\n",
      "overlapping spans\n",
      "overlapping spans\n",
      "overlapping spans\n",
      "overlapping spans\n",
      "overlapping spans\n",
      "overlapping spans\n",
      "overlapping spans\n",
      "overlapping spans\n",
      "overlapping spans\n",
      "overlapping spans\n",
      "overlapping spans\n",
      "overlapping spans\n",
      "overlapping spans\n",
      "overlapping spans\n",
      "overlapping spans\n",
      "overlapping spans\n",
      "overlapping spans\n",
      "overlapping spans\n",
      "overlapping spans\n",
      "overlapping spans\n",
      "overlapping spans\n",
      "overlapping spans\n",
      "overlapping spans\n",
      "overlapping spans\n",
      "overlapping spans\n",
      "overlapping spans\n",
      "overlapping spans\n",
      "overlapping spans\n",
      "overlapping spans\n",
      "overlapping spans\n",
      "overlapping spans\n",
      "overlapping spans\n",
      "overlapping spans\n",
      "overlapping spans\n",
      "overlapping spans\n",
      "overlapping spans\n",
      "overlapping spans\n",
      "overlapping spans\n",
      "overlapping spans\n",
      "overlapping spans\n",
      "overlapping spans\n",
      "overlapping spans\n",
      "overlapping spans\n",
      "overlapping spans\n",
      "overlapping spans\n",
      "overlapping spans\n",
      "overlapping spans\n",
      "overlapping spans\n",
      "overlapping spans\n",
      "overlapping spans\n",
      "overlapping spans\n",
      "overlapping spans\n",
      "overlapping spans\n",
      "overlapping spans\n",
      "overlapping spans\n",
      "overlapping spans\n",
      "overlapping spans\n",
      "overlapping spans\n",
      "overlapping spans\n",
      "overlapping spans\n",
      "overlapping spans\n",
      "overlapping spans\n",
      "overlapping spans\n",
      "overlapping spans\n",
      "overlapping spans\n",
      "overlapping spans\n",
      "overlapping spans\n",
      "overlapping spans\n",
      "overlapping spans\n",
      "overlapping spans\n",
      "overlapping spans\n",
      "overlapping spans\n",
      "overlapping spans\n",
      "overlapping spans\n",
      "overlapping spans\n",
      "overlapping spans\n",
      "overlapping spans\n",
      "overlapping spans\n",
      "overlapping spans\n",
      "overlapping spans\n",
      "overlapping spans\n",
      "overlapping spans\n",
      "overlapping spans\n",
      "overlapping spans\n",
      "overlapping spans\n",
      "overlapping spans\n",
      "overlapping spans\n",
      "overlapping spans\n",
      "overlapping spans\n",
      "overlapping spans\n",
      "overlapping spans\n",
      "overlapping spans\n",
      "overlapping spans\n",
      "overlapping spans\n",
      "overlapping spans\n",
      "overlapping spans\n",
      "overlapping spans\n",
      "overlapping spans\n",
      "overlapping spans\n",
      "overlapping spans\n",
      "overlapping spans\n",
      "overlapping spans\n",
      "overlapping spans\n",
      "overlapping spans\n",
      "overlapping spans\n",
      "overlapping spans\n",
      "overlapping spans\n",
      "overlapping spans\n",
      "overlapping spans\n",
      "overlapping spans\n",
      "overlapping spans\n",
      "overlapping spans\n",
      "overlapping spans\n",
      "overlapping spans\n",
      "overlapping spans\n",
      "overlapping spans\n",
      "overlapping spans\n",
      "overlapping spans\n",
      "overlapping spans\n",
      "overlapping spans\n",
      "overlapping spans\n",
      "overlapping spans\n",
      "overlapping spans\n",
      "overlapping spans\n",
      "overlapping spans\n",
      "overlapping spans\n",
      "overlapping spans\n",
      "overlapping spans\n",
      "overlapping spans\n",
      "overlapping spans\n",
      "overlapping spans\n",
      "overlapping spans\n",
      "overlapping spans\n",
      "overlapping spans\n",
      "overlapping spans\n",
      "overlapping spans\n",
      "overlapping spans\n",
      "overlapping spans\n",
      "overlapping spans\n",
      "overlapping spans\n",
      "overlapping spans\n",
      "overlapping spans\n",
      "overlapping spans\n",
      "overlapping spans\n",
      "overlapping spans\n",
      "overlapping spans\n",
      "overlapping spans\n",
      "overlapping spans\n",
      "overlapping spans\n",
      "overlapping spans\n",
      "overlapping spans\n",
      "overlapping spans\n",
      "overlapping spans\n",
      "overlapping spans\n",
      "overlapping spans\n",
      "overlapping spans\n",
      "overlapping spans\n",
      "overlapping spans\n",
      "overlapping spans\n",
      "overlapping spans\n",
      "overlapping spans\n",
      "overlapping spans\n",
      "overlapping spans\n",
      "overlapping spans\n",
      "overlapping spans\n",
      "overlapping spans\n",
      "overlapping spans\n",
      "overlapping spans\n",
      "overlapping spans\n",
      "overlapping spans\n",
      "overlapping spans\n",
      "overlapping spans\n",
      "overlapping spans\n",
      "overlapping spans\n",
      "overlapping spans\n",
      "overlapping spans\n",
      "overlapping spans\n",
      "overlapping spans\n",
      "overlapping spans\n",
      "overlapping spans\n",
      "overlapping spans\n",
      "overlapping spans\n",
      "overlapping spans\n",
      "overlapping spans\n",
      "overlapping spans\n",
      "overlapping spans\n",
      "overlapping spans\n",
      "overlapping spans\n",
      "overlapping spans\n",
      "overlapping spans\n",
      "overlapping spans\n",
      "overlapping spans\n",
      "overlapping spans\n",
      "overlapping spans\n",
      "overlapping spans\n",
      "overlapping spans\n",
      "overlapping spans\n",
      "overlapping spans\n",
      "overlapping spans\n",
      "overlapping spans\n",
      "overlapping spans\n",
      "overlapping spans\n",
      "overlapping spans\n",
      "overlapping spans\n",
      "overlapping spans\n",
      "overlapping spans\n",
      "overlapping spans\n",
      "overlapping spans\n",
      "overlapping spans\n",
      "overlapping spans\n",
      "overlapping spans\n",
      "overlapping spans\n",
      "overlapping spans\n",
      "overlapping spans\n",
      "overlapping spans\n",
      "overlapping spans\n",
      "overlapping spans\n",
      "overlapping spans\n",
      "overlapping spans\n",
      "overlapping spans\n",
      "overlapping spans\n",
      "overlapping spans\n",
      "overlapping spans\n",
      "overlapping spans\n",
      "overlapping spans\n",
      "overlapping spans\n",
      "overlapping spans\n",
      "overlapping spans\n",
      "overlapping spans\n",
      "overlapping spans\n",
      "overlapping spans\n",
      "overlapping spans\n",
      "overlapping spans\n",
      "overlapping spans\n",
      "overlapping spans\n",
      "overlapping spans\n",
      "overlapping spans\n",
      "overlapping spans\n",
      "overlapping spans\n",
      "overlapping spans\n",
      "overlapping spans\n",
      "overlapping spans\n",
      "overlapping spans\n",
      "overlapping spans\n",
      "overlapping spans\n",
      "overlapping spans\n",
      "overlapping spans\n",
      "overlapping spans\n",
      "overlapping spans\n",
      "overlapping spans\n",
      "overlapping spans\n",
      "overlapping spans\n",
      "overlapping spans\n",
      "overlapping spans\n",
      "overlapping spans\n",
      "overlapping spans\n",
      "overlapping spans\n",
      "overlapping spans\n",
      "overlapping spans\n",
      "overlapping spans\n",
      "overlapping spans\n",
      "overlapping spans\n",
      "overlapping spans\n",
      "overlapping spans\n",
      "overlapping spans\n",
      "overlapping spans\n",
      "overlapping spans\n",
      "overlapping spans\n",
      "overlapping spans\n",
      "overlapping spans\n",
      "overlapping spans\n",
      "overlapping spans\n",
      "overlapping spans\n",
      "overlapping spans\n",
      "overlapping spans\n",
      "overlapping spans\n",
      "overlapping spans\n",
      "overlapping spans\n",
      "overlapping spans\n",
      "overlapping spans\n",
      "overlapping spans\n",
      "overlapping spans\n",
      "overlapping spans\n",
      "overlapping spans\n",
      "overlapping spans\n",
      "overlapping spans\n",
      "overlapping spans\n",
      "overlapping spans\n",
      "overlapping spans\n",
      "overlapping spans\n",
      "overlapping spans\n",
      "overlapping spans\n",
      "overlapping spans\n",
      "overlapping spans\n",
      "overlapping spans\n",
      "overlapping spans\n",
      "overlapping spans\n",
      "overlapping spans\n",
      "overlapping spans\n",
      "overlapping spans\n",
      "overlapping spans\n",
      "overlapping spans\n",
      "overlapping spans\n",
      "overlapping spans\n",
      "overlapping spans\n",
      "overlapping spans\n",
      "overlapping spans\n",
      "overlapping spans\n",
      "overlapping spans\n",
      "overlapping spans\n",
      "overlapping spans\n",
      "overlapping spans\n",
      "overlapping spans\n",
      "overlapping spans\n",
      "overlapping spans\n",
      "overlapping spans\n",
      "overlapping spans\n",
      "overlapping spans\n",
      "overlapping spans\n",
      "overlapping spans\n",
      "overlapping spans\n",
      "overlapping spans\n",
      "overlapping spans\n",
      "overlapping spans\n",
      "overlapping spans\n",
      "overlapping spans\n",
      "overlapping spans\n",
      "overlapping spans\n",
      "overlapping spans\n"
     ]
    },
    {
     "name": "stdout",
     "output_type": "stream",
     "text": [
      "overlapping spans\n",
      "overlapping spans\n",
      "overlapping spans\n",
      "overlapping spans\n",
      "overlapping spans\n",
      "overlapping spans\n",
      "overlapping spans\n",
      "overlapping spans\n",
      "overlapping spans\n",
      "overlapping spans\n",
      "overlapping spans\n",
      "overlapping spans\n",
      "overlapping spans\n",
      "overlapping spans\n",
      "overlapping spans\n",
      "overlapping spans\n",
      "overlapping spans\n",
      "overlapping spans\n",
      "overlapping spans\n",
      "overlapping spans\n",
      "overlapping spans\n",
      "overlapping spans\n",
      "overlapping spans\n",
      "overlapping spans\n",
      "overlapping spans\n",
      "overlapping spans\n",
      "overlapping spans\n",
      "overlapping spans\n",
      "overlapping spans\n",
      "overlapping spans\n",
      "overlapping spans\n",
      "overlapping spans\n",
      "overlapping spans\n",
      "overlapping spans\n",
      "overlapping spans\n",
      "overlapping spans\n",
      "overlapping spans\n",
      "overlapping spans\n",
      "overlapping spans\n",
      "overlapping spans\n",
      "overlapping spans\n",
      "overlapping spans\n",
      "overlapping spans\n",
      "overlapping spans\n",
      "overlapping spans\n",
      "overlapping spans\n",
      "overlapping spans\n",
      "overlapping spans\n",
      "overlapping spans\n",
      "overlapping spans\n",
      "overlapping spans\n",
      "overlapping spans\n",
      "overlapping spans\n",
      "overlapping spans\n",
      "overlapping spans\n",
      "overlapping spans\n",
      "overlapping spans\n",
      "overlapping spans\n",
      "overlapping spans\n",
      "overlapping spans\n",
      "overlapping spans\n",
      "overlapping spans\n",
      "overlapping spans\n",
      "overlapping spans\n",
      "overlapping spans\n",
      "overlapping spans\n",
      "overlapping spans\n",
      "overlapping spans\n",
      "overlapping spans\n",
      "overlapping spans\n",
      "overlapping spans\n",
      "overlapping spans\n",
      "overlapping spans\n",
      "overlapping spans\n",
      "overlapping spans\n",
      "overlapping spans\n",
      "overlapping spans\n",
      "overlapping spans\n",
      "overlapping spans\n",
      "overlapping spans\n",
      "overlapping spans\n",
      "overlapping spans\n",
      "overlapping spans\n",
      "overlapping spans\n",
      "overlapping spans\n",
      "overlapping spans\n",
      "overlapping spans\n",
      "overlapping spans\n",
      "overlapping spans\n",
      "overlapping spans\n",
      "overlapping spans\n",
      "overlapping spans\n",
      "overlapping spans\n",
      "overlapping spans\n",
      "overlapping spans\n",
      "overlapping spans\n",
      "overlapping spans\n",
      "overlapping spans\n",
      "overlapping spans\n",
      "overlapping spans\n",
      "overlapping spans\n",
      "overlapping spans\n",
      "overlapping spans\n",
      "overlapping spans\n",
      "overlapping spans\n",
      "overlapping spans\n",
      "overlapping spans\n",
      "overlapping spans\n",
      "overlapping spans\n",
      "overlapping spans\n",
      "overlapping spans\n",
      "overlapping spans\n",
      "overlapping spans\n",
      "overlapping spans\n",
      "overlapping spans\n",
      "overlapping spans\n",
      "overlapping spans\n",
      "overlapping spans\n",
      "overlapping spans\n",
      "overlapping spans\n",
      "overlapping spans\n",
      "overlapping spans\n",
      "overlapping spans\n",
      "overlapping spans\n",
      "overlapping spans\n",
      "overlapping spans\n",
      "overlapping spans\n",
      "overlapping spans\n",
      "overlapping spans\n",
      "overlapping spans\n",
      "overlapping spans\n",
      "overlapping spans\n",
      "overlapping spans\n",
      "overlapping spans\n",
      "overlapping spans\n",
      "overlapping spans\n",
      "overlapping spans\n",
      "overlapping spans\n",
      "overlapping spans\n",
      "overlapping spans\n",
      "overlapping spans\n",
      "overlapping spans\n",
      "overlapping spans\n",
      "overlapping spans\n",
      "overlapping spans\n",
      "overlapping spans\n",
      "overlapping spans\n",
      "overlapping spans\n",
      "overlapping spans\n",
      "overlapping spans\n",
      "overlapping spans\n",
      "overlapping spans\n",
      "overlapping spans\n",
      "overlapping spans\n",
      "overlapping spans\n",
      "overlapping spans\n",
      "overlapping spans\n",
      "overlapping spans\n",
      "overlapping spans\n",
      "overlapping spans\n",
      "overlapping spans\n",
      "overlapping spans\n",
      "overlapping spans\n",
      "overlapping spans\n",
      "overlapping spans\n",
      "overlapping spans\n",
      "overlapping spans\n",
      "overlapping spans\n",
      "overlapping spans\n",
      "overlapping spans\n",
      "overlapping spans\n",
      "overlapping spans\n",
      "overlapping spans\n",
      "overlapping spans\n",
      "overlapping spans\n",
      "overlapping spans\n",
      "overlapping spans\n",
      "overlapping spans\n",
      "overlapping spans\n",
      "overlapping spans\n",
      "overlapping spans\n",
      "overlapping spans\n",
      "overlapping spans\n",
      "overlapping spans\n",
      "overlapping spans\n",
      "overlapping spans\n",
      "overlapping spans\n",
      "overlapping spans\n",
      "overlapping spans\n",
      "overlapping spans\n",
      "overlapping spans\n",
      "overlapping spans\n",
      "overlapping spans\n",
      "overlapping spans\n",
      "overlapping spans\n",
      "overlapping spans\n",
      "overlapping spans\n",
      "overlapping spans\n",
      "overlapping spans\n",
      "overlapping spans\n",
      "overlapping spans\n",
      "overlapping spans\n",
      "overlapping spans\n",
      "overlapping spans\n",
      "overlapping spans\n",
      "overlapping spans\n",
      "overlapping spans\n",
      "overlapping spans\n",
      "overlapping spans\n",
      "overlapping spans\n",
      "overlapping spans\n",
      "overlapping spans\n",
      "overlapping spans\n",
      "overlapping spans\n",
      "overlapping spans\n",
      "overlapping spans\n",
      "overlapping spans\n",
      "overlapping spans\n",
      "overlapping spans\n",
      "overlapping spans\n",
      "overlapping spans\n",
      "overlapping spans\n",
      "overlapping spans\n",
      "overlapping spans\n",
      "overlapping spans\n",
      "overlapping spans\n",
      "overlapping spans\n",
      "overlapping spans\n",
      "overlapping spans\n",
      "overlapping spans\n",
      "overlapping spans\n",
      "overlapping spans\n",
      "overlapping spans\n",
      "overlapping spans\n",
      "overlapping spans\n",
      "overlapping spans\n",
      "overlapping spans\n",
      "overlapping spans\n",
      "overlapping spans\n",
      "overlapping spans\n",
      "overlapping spans\n",
      "overlapping spans\n",
      "overlapping spans\n",
      "overlapping spans\n",
      "overlapping spans\n",
      "overlapping spans\n",
      "overlapping spans\n",
      "overlapping spans\n",
      "overlapping spans\n",
      "overlapping spans\n",
      "overlapping spans\n",
      "overlapping spans\n",
      "overlapping spans\n",
      "overlapping spans\n",
      "overlapping spans\n",
      "overlapping spans\n",
      "overlapping spans\n",
      "overlapping spans\n",
      "overlapping spans\n",
      "overlapping spans\n",
      "overlapping spans\n",
      "overlapping spans\n",
      "overlapping spans\n",
      "overlapping spans\n",
      "overlapping spans\n",
      "overlapping spans\n",
      "overlapping spans\n",
      "overlapping spans\n",
      "overlapping spans\n",
      "overlapping spans\n",
      "overlapping spans\n",
      "overlapping spans\n",
      "overlapping spans\n",
      "overlapping spans\n",
      "overlapping spans\n",
      "overlapping spans\n",
      "overlapping spans\n",
      "overlapping spans\n",
      "overlapping spans\n",
      "overlapping spans\n",
      "overlapping spans\n",
      "overlapping spans\n",
      "overlapping spans\n",
      "overlapping spans\n",
      "overlapping spans\n",
      "overlapping spans\n",
      "overlapping spans\n",
      "\n"
     ]
    }
   ],
   "source": [
    "h_concept = 'benefits'\n",
    "t_concept = 'compensation'\n",
    "\n",
    "_res = mine_patterns_between_entities(corpus=sent_dicts,\n",
    "                                   h_instances=instances_dict[h_concept],\n",
    "                                   t_instances=instances_dict[t_concept],\n",
    "                                   seed_relations_df=seed_relations_df,\n",
    "                                   nlp=nlp_full)"
   ]
  },
  {
   "cell_type": "code",
   "execution_count": 246,
   "metadata": {},
   "outputs": [
    {
     "data": {
      "text/plain": [
       "dict_keys(['<tgt> <src> <src>', '<src> <src> <tgt> <tgt>', '<src> <src> <tgt>', '<src> <tgt>', '<src> 401k <tgt>', '<tgt> <src>', 'health dental vision accident <tgt> <src> insurance', '<src> care <tgt>', '<src> dental <tgt>', '<src> vision <tgt>', '<tgt> <src> insurance', '<src> dental vision <tgt>', 'dental <src> <tgt>', '<src> dental vision accident <tgt>', '<src> <tgt> <tgt>', '<tgt> <tgt> <src>', '<tgt> insurance <src> <src>', 'health dental vision accident <tgt> <src> <src>', '<tgt> and <src>', '<tgt> , <src>', '<tgt> <src> match', '<src> plan <tgt>'])"
      ]
     },
     "execution_count": 246,
     "metadata": {},
     "output_type": "execute_result"
    }
   ],
   "source": [
    "_res.keys()"
   ]
  },
  {
   "cell_type": "code",
   "execution_count": 247,
   "metadata": {},
   "outputs": [
    {
     "data": {
      "application/vnd.jupyter.widget-view+json": {
       "model_id": "9843d9ad9f2e4732b95efcfbbcb01872",
       "version_major": 2,
       "version_minor": 0
      },
      "text/plain": [
       "HBox(children=(FloatProgress(value=0.0, max=400.0), HTML(value='')))"
      ]
     },
     "metadata": {},
     "output_type": "display_data"
    },
    {
     "name": "stdout",
     "output_type": "stream",
     "text": [
      "overlapping spans\n",
      "overlapping spans\n",
      "overlapping spans\n",
      "overlapping spans\n",
      "overlapping spans\n",
      "overlapping spans\n",
      "overlapping spans\n",
      "overlapping spans\n",
      "overlapping spans\n",
      "overlapping spans\n",
      "overlapping spans\n",
      "overlapping spans\n",
      "overlapping spans\n",
      "overlapping spans\n",
      "overlapping spans\n",
      "overlapping spans\n",
      "overlapping spans\n",
      "overlapping spans\n",
      "overlapping spans\n",
      "overlapping spans\n",
      "overlapping spans\n",
      "overlapping spans\n",
      "overlapping spans\n",
      "overlapping spans\n",
      "overlapping spans\n",
      "overlapping spans\n",
      "overlapping spans\n",
      "overlapping spans\n",
      "overlapping spans\n",
      "overlapping spans\n",
      "overlapping spans\n",
      "overlapping spans\n",
      "overlapping spans\n",
      "overlapping spans\n",
      "overlapping spans\n",
      "overlapping spans\n",
      "overlapping spans\n",
      "overlapping spans\n",
      "overlapping spans\n",
      "overlapping spans\n",
      "overlapping spans\n",
      "overlapping spans\n",
      "overlapping spans\n",
      "overlapping spans\n",
      "overlapping spans\n",
      "overlapping spans\n",
      "overlapping spans\n",
      "overlapping spans\n",
      "overlapping spans\n",
      "overlapping spans\n",
      "overlapping spans\n",
      "overlapping spans\n",
      "overlapping spans\n",
      "overlapping spans\n",
      "overlapping spans\n",
      "overlapping spans\n",
      "overlapping spans\n",
      "overlapping spans\n",
      "overlapping spans\n",
      "overlapping spans\n",
      "overlapping spans\n",
      "overlapping spans\n",
      "overlapping spans\n",
      "overlapping spans\n",
      "overlapping spans\n",
      "overlapping spans\n",
      "overlapping spans\n",
      "overlapping spans\n",
      "overlapping spans\n",
      "overlapping spans\n",
      "overlapping spans\n",
      "overlapping spans\n",
      "overlapping spans\n",
      "overlapping spans\n",
      "overlapping spans\n",
      "overlapping spans\n",
      "overlapping spans\n",
      "overlapping spans\n",
      "overlapping spans\n",
      "overlapping spans\n",
      "overlapping spans\n",
      "overlapping spans\n",
      "overlapping spans\n",
      "overlapping spans\n",
      "overlapping spans\n",
      "overlapping spans\n",
      "overlapping spans\n",
      "overlapping spans\n",
      "overlapping spans\n",
      "overlapping spans\n",
      "overlapping spans\n",
      "overlapping spans\n",
      "overlapping spans\n",
      "overlapping spans\n",
      "overlapping spans\n",
      "overlapping spans\n",
      "overlapping spans\n",
      "overlapping spans\n",
      "overlapping spans\n",
      "overlapping spans\n",
      "overlapping spans\n",
      "overlapping spans\n",
      "overlapping spans\n",
      "overlapping spans\n",
      "overlapping spans\n",
      "overlapping spans\n",
      "overlapping spans\n",
      "overlapping spans\n",
      "overlapping spans\n",
      "overlapping spans\n",
      "overlapping spans\n",
      "overlapping spans\n",
      "overlapping spans\n",
      "overlapping spans\n",
      "overlapping spans\n",
      "overlapping spans\n",
      "overlapping spans\n",
      "overlapping spans\n",
      "overlapping spans\n",
      "overlapping spans\n",
      "overlapping spans\n",
      "overlapping spans\n",
      "overlapping spans\n",
      "overlapping spans\n",
      "overlapping spans\n",
      "overlapping spans\n",
      "overlapping spans\n",
      "overlapping spans\n",
      "overlapping spans\n",
      "overlapping spans\n",
      "overlapping spans\n",
      "overlapping spans\n",
      "overlapping spans\n",
      "overlapping spans\n",
      "overlapping spans\n",
      "overlapping spans\n",
      "overlapping spans\n",
      "overlapping spans\n",
      "overlapping spans\n",
      "overlapping spans\n",
      "overlapping spans\n",
      "overlapping spans\n",
      "overlapping spans\n",
      "overlapping spans\n",
      "overlapping spans\n",
      "overlapping spans\n",
      "overlapping spans\n",
      "overlapping spans\n",
      "overlapping spans\n",
      "overlapping spans\n",
      "overlapping spans\n",
      "overlapping spans\n",
      "overlapping spans\n",
      "overlapping spans\n",
      "overlapping spans\n",
      "overlapping spans\n",
      "overlapping spans\n",
      "overlapping spans\n",
      "overlapping spans\n",
      "overlapping spans\n",
      "overlapping spans\n",
      "overlapping spans\n",
      "overlapping spans\n",
      "overlapping spans\n",
      "overlapping spans\n",
      "overlapping spans\n",
      "overlapping spans\n",
      "overlapping spans\n",
      "overlapping spans\n",
      "overlapping spans\n",
      "overlapping spans\n",
      "overlapping spans\n",
      "overlapping spans\n",
      "overlapping spans\n",
      "overlapping spans\n",
      "overlapping spans\n",
      "overlapping spans\n",
      "overlapping spans\n",
      "overlapping spans\n",
      "overlapping spans\n",
      "overlapping spans\n",
      "overlapping spans\n",
      "overlapping spans\n",
      "overlapping spans\n",
      "overlapping spans\n",
      "overlapping spans\n",
      "overlapping spans\n",
      "overlapping spans\n",
      "overlapping spans\n",
      "overlapping spans\n",
      "overlapping spans\n",
      "overlapping spans\n",
      "overlapping spans\n",
      "overlapping spans\n",
      "overlapping spans\n",
      "overlapping spans\n",
      "overlapping spans\n",
      "\n"
     ]
    }
   ],
   "source": [
    "h_concept = 'payment_option'\n",
    "t_concept = 'background_screening'\n",
    "\n",
    "_res = mine_patterns_between_entities(corpus=sent_dicts,\n",
    "                                   h_instances=instances_dict[h_concept],\n",
    "                                   t_instances=instances_dict[t_concept],\n",
    "                                   seed_relations_df=seed_relations_df,\n",
    "                                   nlp=nlp_full)"
   ]
  },
  {
   "cell_type": "code",
   "execution_count": 248,
   "metadata": {
    "scrolled": true
   },
   "outputs": [
    {
     "data": {
      "text/plain": [
       "{'<src> <tgt>': ['no , you must have a valid id & another form of identification ( birth certificate , sos card , passport , etc )',\n",
       "  'id + birth certificate or social security card or passport , direct deposit info'],\n",
       " '<src> work for <tgt> <tgt>': ['when you go in for your third interview and offer you a position , the hiring manager will give you the paper work for the drug test',\n",
       "  'at the end of the second interview , i asked when they would contact me if they are interested and they handed me paper work for the drug test and background check .'],\n",
       " '<tgt> <src>': ['yes but only if you turn in your two weekends notice and sign your end of employment paper .',\n",
       "  'they should have sent you an email so you can fill out all your employment paper work .',\n",
       "  'i got called into dominos to finish my pre employment paper work after finishing the background check i m 16 in nc and yes when they called me they stated i will have to take a drug test curious to what test this is though will it be a urine test or cotton swab .',\n",
       "  'i guess it depends on your pre employment checks .',\n",
       "  '  they perform a pre - employment background checks',\n",
       "  'go fill out a online app at the near end it asks you \" \\n will you consent to pre - employment background checks , pre - employment and/or random drug testing , past employment verification and/or reference checks ? \"',\n",
       "  'i had a drug test at the beginning of employment and several background/ credit checks .',\n",
       "  '  background check , education checks , credit checks , 3 interviews , phone , in person audition , and manager interview .',\n",
       "  'to my knowledge they conduct education and criminal background checks .',\n",
       "  'yes they do education checks'],\n",
       " '<tgt> <tgt> <src> <src>': ['i am not worried about drug test , credit check or any other test .',\n",
       "  'yes , drug test as well as credit check and background check .',\n",
       "  'process is a little log but worth it passed drug test and credit check at time'],\n",
       " '<tgt> education <src> <src>': ['a few minutes , i was called back to accept offer and fills out my background , employment , education , and credit check .',\n",
       "  'offer specialist called the following monday to verify that i passed criminal , employment , education , and credit check and drug test .'],\n",
       " '<tgt> <src> <src>': ['a few minutes , i was called back to accept offer and fills out my background , employment , education , and credit check .',\n",
       "  'offer specialist called the following monday to verify that i passed criminal , employment , education , and credit check and drug test .'],\n",
       " '<tgt> <tgt> <src>': ['they do drug screening and background checks',\n",
       "  'yes both drug screening and criminal background checks are required .',\n",
       "  'yes , all wal - mart do drug screening and back round checks',\n",
       "  'you must also have a perfect driving record , pass drug screening and federal background checks .',\n",
       "  'drug screening and back ground checks are common practice now .',\n",
       "  'drug test and backround checks',\n",
       "  'no drug test or background checks .',\n",
       "  'do goodwill in statesboro ga gives drug test and background checks',\n",
       "  'yes they always drug test and background checks',\n",
       "  'yes they do drug test and background checks',\n",
       "  \"i do n't know where you 're from but new jersey we were n't given any results from drug test or our background checks\",\n",
       "  'after we are interviewed they do drug test snd criminal background checks',\n",
       "  'drug test criminal background checks',\n",
       "  'drug test and background checks',\n",
       "  \"it means if you pass the drug test and background checks you 'll be hired probably .\",\n",
       "  '  btw no drug test nor background checks .',\n",
       "  '5 days for drug test and background checks',\n",
       "  'all walgreens do drug testing & back ground checks .',\n",
       "  '  drug testing and background checks are mandatory within 48 hours of receiving an offer .',\n",
       "  'they do drug testing , driving and background checks .',\n",
       "  'drug testing and background checks are conducted during the hiring process .',\n",
       "  'pre - screening is the stage where drug testing and background checks are done .',\n",
       "  'no drug testing , only background checks and personal assessments',\n",
       "  'no drug testing , no background checks for crew unfortunately !'],\n",
       " '<src> <tgt> <tgt>': ['required criminal and credit checks and preemployment drug screening',\n",
       "  'background checks and drug screening required , paid training .',\n",
       "  'you must pass two background checks and a drug test before being hired .',\n",
       "  'yes they do background checks and drug test on eveybody that wants to work there .',\n",
       "  'they give thorough background checks and drug test if they feel the need to .',\n",
       "  'they do back ground checks as well as drug test .',\n",
       "  'yes they do background checks and drug test',\n",
       "  'no background checks , no drug test',\n",
       "  'yes the company does background checks and drug test .',\n",
       "  'no credit checks but criminal background and urine drug test .',\n",
       "  'no they do not have background checks or drug test',\n",
       "  'yes they do background checks and drug test as well',\n",
       "  'yes they do background checks and drug test',\n",
       "  'no background checks or drug test .',\n",
       "  'a month with background checks and drug testing',\n",
       "  'yes they do background checks and drug testing',\n",
       "  \"yes , they do n't do background checks or drug testing .. this has not been good because anyone can get a job there , they really need a better screening process .\",\n",
       "  'yes , they do thorough background checks and also drug testing .',\n",
       "  'go fill out a online app at the near end it asks you \" \\n will you consent to pre - employment background checks , pre - employment and/or random drug testing , past employment verification and/or reference checks ? \"',\n",
       "  'and the usps hires alot of new employees every month and between backgoung checks , drug testing and human resources it takes about 2 to 3 months .',\n",
       "  'and the usps hires alot of new employees every month and between backgoung checks , drug testing and human resources it takes about 2 to 3 months .',\n",
       "  \"they do n't do any background checks or drug testing\",\n",
       "  'safe does background checks and drug testing in the building when being interviewed',\n",
       "  'yes - they conduct background checks and drug testing',\n",
       "  'yes they do simple background checks and drug testing'],\n",
       " '<tgt> <tgt> do <src>': ['no they do not drug test nor do background checks',\n",
       "  'they drug test and do background checks',\n",
       "  'my store no longer does drug test they do background checks .',\n",
       "  'no they do not do drug test they do background checks on you .',\n",
       "  'no they do not drug test or do background checks .',\n",
       "  'yes , they drug test and do background checks .'],\n",
       " '<tgt> background <src>': ['i work for a company that does pre - employment background checks and drug screens , and there are definitely things that can require a second test .',\n",
       "  'i think it depends on the project as to what pre - employment background checks are required .'],\n",
       " 'do <src> on <tgt>': ['no , they do nt do a background checks on education .',\n",
       "  \"no , they do n't do background checks on education .\"]}"
      ]
     },
     "execution_count": 248,
     "metadata": {},
     "output_type": "execute_result"
    }
   ],
   "source": [
    "_res"
   ]
  },
  {
   "cell_type": "code",
   "execution_count": null,
   "metadata": {},
   "outputs": [],
   "source": []
  },
  {
   "cell_type": "markdown",
   "metadata": {},
   "source": [
    "# Mine Prompts"
   ]
  },
  {
   "cell_type": "code",
   "execution_count": 13,
   "metadata": {},
   "outputs": [],
   "source": [
    "# Explore various techniques\n",
    "# Get prompts \"between\" entities\n",
    "# Get prompts by syntactic parsing\n",
    "# Get prompts by paraphrasing\n",
    "# Get prompts uisng AutoPrompt"
   ]
  },
  {
   "cell_type": "code",
   "execution_count": 14,
   "metadata": {},
   "outputs": [],
   "source": [
    "# visit here: /meg-kb/src/analysis/pattern_mining.ipynb"
   ]
  },
  {
   "cell_type": "code",
   "execution_count": 15,
   "metadata": {},
   "outputs": [],
   "source": [
    "_nlp = spacy.load('en_core_web_sm')"
   ]
  },
  {
   "cell_type": "code",
   "execution_count": 98,
   "metadata": {},
   "outputs": [
    {
     "name": "stdout",
     "output_type": "stream",
     "text": [
      "0 Amazon []\n",
      "1 is [Amazon, place, .]\n",
      "2 a []\n",
      "3 good []\n",
      "4 place [a, good, for]\n",
      "5 for [working]\n",
      "6 working [as]\n",
      "7 as [time]\n",
      "8 a []\n",
      "9 part []\n",
      "10 - []\n",
      "11 time [a, part, -]\n",
      "12 . []\n"
     ]
    }
   ],
   "source": [
    "_sent = \"Amazon is a good place for working as a part-time.\"\n",
    "_doc = _nlp(_sent)\n",
    "for _t in _doc:\n",
    "    print(_t.i, _t, list(_t.children))"
   ]
  },
  {
   "cell_type": "code",
   "execution_count": 99,
   "metadata": {},
   "outputs": [
    {
     "data": {
      "text/plain": [
       "<networkx.classes.graph.Graph at 0x7fbf27eb0430>"
      ]
     },
     "execution_count": 99,
     "metadata": {},
     "output_type": "execute_result"
    }
   ],
   "source": [
    "edges = []\n",
    "for _t in _doc:\n",
    "    for child in _t.children:\n",
    "        edges.append(('{}-{}'.format(_t.lower_,_t.i), '{}-{}'.format(child.lower_,child.i))) \n",
    "\n",
    "graph = nx.Graph(edges)\n",
    "graph"
   ]
  },
  {
   "cell_type": "code",
   "execution_count": 100,
   "metadata": {},
   "outputs": [
    {
     "data": {
      "text/plain": [
       "EdgeView([('is-1', 'amazon-0'), ('is-1', 'place-4'), ('is-1', '.-12'), ('place-4', 'a-2'), ('place-4', 'good-3'), ('place-4', 'for-5'), ('for-5', 'working-6'), ('working-6', 'as-7'), ('as-7', 'time-11'), ('time-11', 'a-8'), ('time-11', 'part-9'), ('time-11', '--10')])"
      ]
     },
     "execution_count": 100,
     "metadata": {},
     "output_type": "execute_result"
    }
   ],
   "source": [
    "graph.edges"
   ]
  },
  {
   "cell_type": "code",
   "execution_count": 101,
   "metadata": {},
   "outputs": [
    {
     "name": "stdout",
     "output_type": "stream",
     "text": [
      "['amazon-0', 'is-1', 'place-4', 'for-5', 'working-6', 'as-7', 'time-11']\n"
     ]
    }
   ],
   "source": [
    "_src = 'amazon-0'\n",
    "_tgt = 'time-11'\n",
    "if nx.has_path(graph, source=_src, target=_tgt):\n",
    "    path = nx.shortest_path(graph, source=_src, target=_tgt)\n",
    "    print(path)"
   ]
  },
  {
   "cell_type": "code",
   "execution_count": 102,
   "metadata": {},
   "outputs": [
    {
     "data": {
      "text/plain": [
       "True"
      ]
     },
     "execution_count": 102,
     "metadata": {},
     "output_type": "execute_result"
    }
   ],
   "source": [
    "'amazon-0' in graph"
   ]
  },
  {
   "cell_type": "code",
   "execution_count": 103,
   "metadata": {},
   "outputs": [
    {
     "data": {
      "text/plain": [
       "False"
      ]
     },
     "execution_count": 103,
     "metadata": {},
     "output_type": "execute_result"
    }
   ],
   "source": [
    "('is-1', 'amazon-0') in graph"
   ]
  },
  {
   "cell_type": "markdown",
   "metadata": {},
   "source": [
    "## Mine Prompts from seed"
   ]
  },
  {
   "cell_type": "code",
   "execution_count": null,
   "metadata": {},
   "outputs": [],
   "source": [
    "_h = 'they'  # proxy for company \n",
    "_t = 'tattoos'\n",
    "\n",
    "_mentions = []\n",
    "for d in corpus:\n",
    "    if _t in d['entities']:\n",
    "        _mentions.append(' '.join(d['tokens']))\n",
    "\n",
    "_res = learn_patterns(_mentions, _h, _t, nlp=_nlp)\n",
    "_res"
   ]
  },
  {
   "cell_type": "code",
   "execution_count": 212,
   "metadata": {},
   "outputs": [],
   "source": [
    "## TODO: put to utils.py\n",
    "\n",
    "def mine_patterns_between_entities(corpus,\n",
    "                                   h_instances,\n",
    "                                   t_instances,\n",
    "                                   seed_relations_df,\n",
    "                                   nlp=None):\n",
    "\n",
    "    if nlp is None:\n",
    "        nlp = spacy.load('en_core_web_sm')\n",
    "    \n",
    "    mined_patterns = dict()\n",
    "    \n",
    "    tqdm_enum_pairs = tqdm([(_h, _t) for _h in h_instances for _t in t_instances])\n",
    "    for _h, _t in tqdm_enum_pairs:\n",
    "        tqdm_enum_pairs.set_description(f'{str((_h, _t))[:32]:<32s}', refresh=True)\n",
    "        \n",
    "        _mentions = []\n",
    "        for d in corpus:\n",
    "            _sent = ' '.join(d['tokens']).lower()\n",
    "            if _h in d['entities'] and _t in d['entities']:\n",
    "                _mentions.append(_sent)\n",
    "\n",
    "        _res = learn_patterns(_mentions, _h, _t, nlp=nlp)\n",
    "        for _k, _sents in _res:\n",
    "            mined_patterns[_k] = mined_patterns.get(_k, []) + _sents\n",
    "    \n",
    "    return mined_patterns\n",
    "    "
   ]
  },
  {
   "cell_type": "code",
   "execution_count": 213,
   "metadata": {},
   "outputs": [
    {
     "data": {
      "application/vnd.jupyter.widget-view+json": {
       "model_id": "016b08a458894de993d12e3c5a8efae1",
       "version_major": 2,
       "version_minor": 0
      },
      "text/plain": [
       "HBox(children=(FloatProgress(value=0.0, max=4.0), HTML(value='')))"
      ]
     },
     "metadata": {},
     "output_type": "display_data"
    },
    {
     "name": "stdout",
     "output_type": "stream",
     "text": [
      "\n"
     ]
    }
   ],
   "source": [
    "_res = mine_patterns_between_entities(corpus=sent_dicts,\n",
    "                                   h_instances=['cashier', 'store manager'],\n",
    "                                   t_instances=['training', 'age limit'],\n",
    "                                   seed_relations_df=seed_relations_df,\n",
    "                                   nlp=nlp_full)"
   ]
  },
  {
   "cell_type": "code",
   "execution_count": 214,
   "metadata": {},
   "outputs": [
    {
     "data": {
      "text/plain": [
       "{'<src> <tgt>': ['it 2 weeks in lab to get the handle of the drink making and and then you do 2 weeks of cashier training',\n",
       "  'cashier , customer service training .',\n",
       "  '7.25 at time for partime cashier will training you .',\n",
       "  'you \\'re the \" go to \" for cashier training and questions .',\n",
       "  'cashier training is just getting thrown into a checkstand !',\n",
       "  'i was promoted from associate to shift manger in 6 months and never finished my cashier training',\n",
       "  'orientation was based in some cashier training as well as online test .'],\n",
       " '<tgt> for <src>': ['yes , there is training for a cashier .',\n",
       "  'do they offer training for cashier ?']}"
      ]
     },
     "execution_count": 214,
     "metadata": {},
     "output_type": "execute_result"
    }
   ],
   "source": [
    "_res"
   ]
  },
  {
   "cell_type": "code",
   "execution_count": 27,
   "metadata": {},
   "outputs": [
    {
     "data": {
      "application/vnd.jupyter.widget-view+json": {
       "model_id": "77e4632972ae403cbcd2a4f2d7b8b260",
       "version_major": 2,
       "version_minor": 0
      },
      "text/plain": [
       "HBox(children=(FloatProgress(value=0.0, max=13.0), HTML(value='')))"
      ]
     },
     "metadata": {},
     "output_type": "display_data"
    },
    {
     "name": "stdout",
     "output_type": "stream",
     "text": [
      "('company', 'has_pay_schedule', 'pay_schedule')\n",
      "('company', 'has_dress_code', 'dress_code')\n",
      "('company', 'has_background_screening', 'background_screening')\n",
      "('company', 'has_benefits', 'benefits')\n",
      "('company', 'hires_person', 'person')\n",
      "('company', 'has_compensation', 'compensation')\n",
      "('company', 'has_hire_prerequisite', 'hire_prerequisite')\n",
      "('company', 'operates_on', 'schedule')\n",
      "('company', 'hires_employee_type', 'employee_type')\n",
      "('company', 'has_onboarding_steps', 'onboarding_steps')\n",
      "('company', 'has_shifts', 'shifts')\n",
      "('company', 'has_job_position', 'job_position')\n",
      "('company', 'has_payment_option', 'payment_option')\n",
      "\n"
     ]
    }
   ],
   "source": [
    "# Fully run - all relations, all tail entities \n",
    "## TODO: use mine_patterns_between_entities()\n",
    "\n",
    "all_relation_patterns = dict()\n",
    "\n",
    "for _r_row in tqdm(seed_relations_df.to_records('dict')):\n",
    "    _r = _r_row['alignedRelationName']\n",
    "    _h_type = _r_row['domain']\n",
    "    _t_type = _r_row['range']\n",
    "    \n",
    "    print((_h_type, _r, _t_type))\n",
    "    assert _h_type == 'company'\n",
    "    \n",
    "    # _seed_heads = seed_concepts_df[seed_concepts_df['alignedCategoryName'] == _h_type]['seedInstances'].item()\n",
    "    _seed_tails = seed_concepts_df[seed_concepts_df['alignedCategoryName'] == _t_type]['seedInstances'].item()\n",
    "    \n",
    "    _r_patterns = dict()\n",
    "    \n",
    "    _h = 'they'\n",
    "    for _t in _seed_tails:\n",
    "        _mentions = []\n",
    "        for d in corpus:\n",
    "            _sent = ' '.join(d['tokens']).lower()\n",
    "            if _h in _sent.split(' ') and _t in d['entities']:\n",
    "                _mentions.append(_sent)\n",
    "\n",
    "        _res = learn_patterns(_mentions, _h, _t, nlp=_nlp)\n",
    "        for _k, _sents in _res:\n",
    "            _r_patterns[_k] = _r_patterns.get(_k, []) + _sents\n",
    "    \n",
    "    all_relation_patterns[_r] = _r_patterns"
   ]
  },
  {
   "cell_type": "code",
   "execution_count": 28,
   "metadata": {},
   "outputs": [],
   "source": [
    "all_relation_patterns_sub = dict()\n",
    "for _r, _patterns in all_relation_patterns.items():\n",
    "    _r_patterns = dict()\n",
    "    for _p, _sents in _patterns.items():\n",
    "        _p_dict = {\n",
    "            'count': len(_sents),\n",
    "            'samples': _sents[:20]\n",
    "        }\n",
    "        _r_patterns[_p] = _p_dict\n",
    "    all_relation_patterns_sub[_r] = _r_patterns"
   ]
  },
  {
   "cell_type": "code",
   "execution_count": 29,
   "metadata": {
    "scrolled": true
   },
   "outputs": [
    {
     "data": {
      "text/plain": [
       "{'<src> offer <tgt> <tgt>': {'count': 15,\n",
       "  'samples': ['no i do nt think it would be because they do nt offer health insurance when you work part time .',\n",
       "   'do they offer health insurance to full time sales associates ?',\n",
       "   \"they do n't offer health insurance\",\n",
       "   'but i hear they offer dental and health insurance .',\n",
       "   'no , they do not offer health insurance or at least the one i work at does not .',\n",
       "   'no they do not offer any health insurance at all',\n",
       "   \"  they also offer health insurance , with different plans , if you 're full time !\",\n",
       "   'they \" offer \" health insurance , but you have to have worked there for 6 + months and then they say they \" ca n\\'t find any paperwork for it \" .',\n",
       "   'they offer health insurance but u have to pick the right one',\n",
       "   'they do offer health insurance but that ’s it .',\n",
       "   'supplemental from 3 months to 13 months and then they offer health insurance that meet obama care guidelines',\n",
       "   'maybe they offer health insurance for there part time workers now i am not sure about that .',\n",
       "   '50 % discount from your meals and they do offer a 401 k and health insurance',\n",
       "   'i believe they do offer health insurance for part time employees',\n",
       "   'they do not offer health insurance']},\n",
       " '<src> provide <tgt> <tgt>': {'count': 5,\n",
       "  'samples': [\"they did n't provide health insurance\",\n",
       "   'they provide health insurance to full and part time help .',\n",
       "   'they do provide health insurance',\n",
       "   'yes they provide health insurance',\n",
       "   'they do not provide health insurance .']},\n",
       " '<src> have <tgt> <tgt>': {'count': 6,\n",
       "  'samples': ['they have health insurance and some 401k plans .',\n",
       "   'yes they have ok health insurance .',\n",
       "   'yes they have health insurance',\n",
       "   'no they do not have health insurance',\n",
       "   'yes , they have flexible schedule , all needed is communication .',\n",
       "   \"they have a very flexible schedule for most departments and if your schedule does n't fit , you 'll more than likely just be moved .\"]},\n",
       " '<src> give <tgt> <tgt>': {'count': 2,\n",
       "  'samples': ['no they do not give health insurance to part - time employees .',\n",
       "   'they do not give part time employees health insurance .']},\n",
       " '<src> get <tgt> <tgt>': {'count': 2,\n",
       "  'samples': ['they do not get health insurance ever',\n",
       "   'they do get health insurance , yes .']},\n",
       " '<src> offer <tgt>': {'count': 12,\n",
       "  'samples': ['no they do not offer 401k',\n",
       "   'yes they do offer 401k for part time and full time .',\n",
       "   'they offer all benefits even 401k .',\n",
       "   'yes they offer 401k .',\n",
       "   'they offer 401k .',\n",
       "   'i know they offer 401k , and will match your contribution up to 6 % of your pay .',\n",
       "   \"they do n't offer 401k\",\n",
       "   'no they offer 401k and stock options',\n",
       "   'i have a interview in a.m do they offer 401k',\n",
       "   'yes , they offer 401k and stock purchase',\n",
       "   'they also offer 401k and stock options after 1 year .',\n",
       "   'yes , they offer 401k']},\n",
       " '<src> provide <tgt>': {'count': 5,\n",
       "  'samples': ['they do provide 401k and other benefits .',\n",
       "   'yes they do provide 401k',\n",
       "   'yes they provide 401k and numerous other perks including health dental and eye insurance and employee discounts .',\n",
       "   'no , they do not provide 401k for supervisors',\n",
       "   'yes , they provide 401k and stock']},\n",
       " '<src> have <tgt>': {'count': 4,\n",
       "  'samples': ['they also have 401k , stock , vacation time , and great insurance plans',\n",
       "   'yes they do have 401k',\n",
       "   'no , they do not have 401k',\n",
       "   'not sure if they have a 401k i was never notified about this .']},\n",
       " '<src> have <tgt> plan': {'count': 3,\n",
       "  'samples': ['they do not have a 401k plan',\n",
       "   'they did not have a 401k plan',\n",
       "   'yes they have a 401k plan']},\n",
       " '<src> offer <tgt> plan': {'count': 2,\n",
       "  'samples': ['they offer 401k plan as well as dental health coverage for you and your spose and vision .',\n",
       "   'they offer the 401k plan and they have company plan where however muck money you put into they company they match and you can cash it in at any given time .']},\n",
       " '<src> provide <tgt> benefits': {'count': 2,\n",
       "  'samples': ['yes they provide 401k benefits',\n",
       "   'yes they do provide 401k benefits']}}"
      ]
     },
     "execution_count": 29,
     "metadata": {},
     "output_type": "execute_result"
    }
   ],
   "source": [
    "all_relation_patterns_sub['has_benefits']"
   ]
  },
  {
   "cell_type": "code",
   "execution_count": 30,
   "metadata": {},
   "outputs": [],
   "source": [
    "all_relation_patterns_path = os.path.join(base_dir, f'data/{data_ac}/intermediate/mined_patterns.json')\n",
    "with open(all_relation_patterns_path, 'w') as f:\n",
    "    json.dump(all_relation_patterns_sub, f, indent=2)"
   ]
  },
  {
   "cell_type": "code",
   "execution_count": 34,
   "metadata": {},
   "outputs": [
    {
     "data": {
      "text/plain": [
       "(401, 4)"
      ]
     },
     "execution_count": 34,
     "metadata": {},
     "output_type": "execute_result"
    }
   ],
   "source": [
    "all_relation_patterns_records = []\n",
    "for _r, _patterns in all_relation_patterns.items():\n",
    "    for _p, _sents in _patterns.items():\n",
    "        _record = {\n",
    "            'relation': _r,\n",
    "            'pattern': _p,\n",
    "            'count': len(_sents),\n",
    "            'samples': _sents[:20]\n",
    "        }\n",
    "        all_relation_patterns_records.append(_record)\n",
    "        \n",
    "all_relation_patterns_df = pd.DataFrame(all_relation_patterns_records)\n",
    "all_relation_patterns_df.shape"
   ]
  },
  {
   "cell_type": "code",
   "execution_count": 35,
   "metadata": {},
   "outputs": [],
   "source": [
    "all_relation_patterns_path = os.path.join(base_dir, f'data/{data_ac}/intermediate/mined_patterns.csv')\n",
    "all_relation_patterns_df.to_csv(all_relation_patterns_path, index=False)"
   ]
  },
  {
   "cell_type": "code",
   "execution_count": null,
   "metadata": {},
   "outputs": [],
   "source": []
  },
  {
   "cell_type": "markdown",
   "metadata": {},
   "source": [
    "## Using prompts to hard-retrieve"
   ]
  },
  {
   "cell_type": "code",
   "execution_count": null,
   "metadata": {
    "code_folding": [
     0
    ]
   },
   "outputs": [],
   "source": [
    "def _prompt_retrieve(prompt):\n",
    "    ret = []\n",
    "    \n",
    "    for d in corpus:\n",
    "        _entities = d['entities']\n",
    "        _tokens = d['tokens']\n",
    "        if len(_entities) < 2:\n",
    "            continue\n",
    "\n",
    "        _sent = ' '.join(_tokens).lower()\n",
    "        if f' {prompt} ' not in _sent:\n",
    "            continue\n",
    "        \n",
    "        _p_idx = _sent.index(f' {prompt} ') + 1\n",
    "        _e_indices = [_sent.find(e) for e in _entities]\n",
    "        if max(_e_indices) < 0:\n",
    "            continue\n",
    "        _l_indices = [(i, e) for i, e in zip(_e_indices, _entities) if 0 <= i < _p_idx]\n",
    "        _r_indices = [(i, e) for i, e in zip(_e_indices, _entities) if i > _p_idx]\n",
    "        if len(_l_indices) == 0 or len(_r_indices) == 0:\n",
    "            continue\n",
    "        _l_idx, _l_ent = max(_l_indices, key=lambda p: p[0])\n",
    "        _r_idx, _r_ent = min(_r_indices, key=lambda p: p[0])\n",
    "#         _r_idx += len(_r_ent)\n",
    "\n",
    "        ## Extracting dep path \n",
    "        doc = _nlp(_sent)\n",
    "        src_matcher = Matcher(nlp.vocab)\n",
    "        src_pattern = [{\"LOWER\": t} for t in _l_ent.split(' ')]\n",
    "        src_matcher.add(\"src\", [src_pattern])\n",
    "        \n",
    "        prompt_matcher = Matcher(nlp.vocab)\n",
    "        prompt_pattern = [{\"LOWER\": t} for t in prompt.split(' ')]\n",
    "        prompt_matcher.add(\"prompt\", [prompt_pattern])\n",
    "\n",
    "        tgt_matcher = Matcher(nlp.vocab)\n",
    "        tgt_pattern = [{\"LOWER\": t} for t in _r_ent.split(' ')]\n",
    "        tgt_matcher.add(\"tgt\", [tgt_pattern])\n",
    "        \n",
    "        src_matches = src_matcher(doc)\n",
    "        if len(src_matches) == 0:\n",
    "            print('src not matched')\n",
    "            continue\n",
    "        tgt_matches = tgt_matcher(doc)\n",
    "        if len(tgt_matches) == 0:\n",
    "            print('tgt not matched')\n",
    "            continue\n",
    "        prompt_matches = prompt_matcher(doc)\n",
    "        if len(prompt_matches) == 0:\n",
    "            print('prompt not matched')\n",
    "            continue\n",
    "        \n",
    "        src_match = None\n",
    "        src_span = None\n",
    "        for _m in src_matches:\n",
    "            if doc[_m[1]].idx == _l_idx:\n",
    "                src_match = _m[0]\n",
    "                src_span = doc[_m[1]: _m[2]]\n",
    "                break\n",
    "        \n",
    "        prompt_match = None\n",
    "        prompt_span = None\n",
    "        for _m in prompt_matches:\n",
    "            if doc[_m[1]].idx == _p_idx:\n",
    "                prompt_match = _m[0]\n",
    "                prompt_span = doc[_m[1]: _m[2]]\n",
    "                break\n",
    "        \n",
    "        tgt_match = None\n",
    "        tgt_span = None\n",
    "        for _m in tgt_matches:\n",
    "            if doc[_m[1]].idx == _r_idx:\n",
    "                tgt_match = _m[0]\n",
    "                tgt_span = doc[_m[1]: _m[2]]\n",
    "                break\n",
    "        \n",
    "        if None in (src_match, prompt_match, tgt_match):\n",
    "            print('_sent:', _sent)\n",
    "            print(_l_ent, prompt, _r_ent)\n",
    "            print(src_match, prompt_match, tgt_match)\n",
    "            print()\n",
    "            continue\n",
    "        \n",
    "        if len(spacy.util.filter_spans([src_span, prompt_span, tgt_span])) != 3: # distinct_spans\n",
    "            print('overlapping spans')\n",
    "            continue\n",
    "        \n",
    "        src_root = src_span.root\n",
    "        prompt_root = prompt_span.root\n",
    "        tgt_root = tgt_span.root\n",
    "        \n",
    "        edges = []\n",
    "        for token in doc:\n",
    "            for child in token.children:\n",
    "                edges.append(('{}-{}'.format(token.lower_,token.i), '{}-{}'.format(child.lower_,child.i)))\n",
    "#         print(edges)\n",
    "        \n",
    "        graph = nx.Graph(edges)\n",
    "        path = None\n",
    "        source = '{}-{}'.format(src_root.lower_, src_root.i)\n",
    "        middle = '{}-{}'.format(prompt_root.lower_, prompt_root.i)\n",
    "        target = '{}-{}'.format(tgt_root.lower_, tgt_root.i)\n",
    "        if any([n not in graph for n in (source, middle, target)]):\n",
    "            continue\n",
    "        if nx.has_path(graph, source=source, target=middle) and nx.has_path(graph, source=middle, target=target):\n",
    "            path1 = nx.shortest_path(graph, source=source, target=middle)\n",
    "            path2 = nx.shortest_path(graph, source=middle, target=target)\n",
    "            path = path1 + path2[1:]\n",
    "        \n",
    "        if path is not None:\n",
    "            for t in src_span:\n",
    "                n = '{}-{}'.format(t.lower_, t.i)  \n",
    "                if n not in path:\n",
    "                    path.append(n)\n",
    "            for t in prompt_span:\n",
    "                n = '{}-{}'.format(t.lower_, t.i)\n",
    "                if n not in path:\n",
    "                    path.append(n)\n",
    "            for t in tgt_span:\n",
    "                n = '{}-{}'.format(t.lower_, t.i)\n",
    "                if n not in path:\n",
    "                    path.append(n)\n",
    "        else:\n",
    "            continue\n",
    "        \n",
    "        path_nodes = dict()\n",
    "        for p in path:\n",
    "            t, i = p.rsplit('-', 1)\n",
    "            i = int(i)\n",
    "            path_nodes[i] = t\n",
    "        path_nodes = sorted(path_nodes.items(), key=lambda x: x[0])\n",
    "        pattern = ' '.join([p[1] for p in path_nodes])\n",
    "\n",
    "        print('_sent:', _sent)\n",
    "        print(path)\n",
    "        print(pattern, (_l_ent, _r_ent))\n",
    "        print()\n",
    "        ret.append(pattern)\n",
    "        if len(ret) >= 100:\n",
    "            break\n",
    "        \n",
    "    return ret\n",
    "    "
   ]
  },
  {
   "cell_type": "code",
   "execution_count": null,
   "metadata": {},
   "outputs": [],
   "source": [
    "print('\\n'.join(_prompt_retrieve('has')))"
   ]
  },
  {
   "cell_type": "code",
   "execution_count": null,
   "metadata": {},
   "outputs": [],
   "source": [
    "print('\\n'.join(_prompt_retrieve('do')))"
   ]
  },
  {
   "cell_type": "code",
   "execution_count": null,
   "metadata": {
    "scrolled": true
   },
   "outputs": [],
   "source": [
    "print('\\n'.join(_prompt_retrieve('pays')))"
   ]
  },
  {
   "cell_type": "code",
   "execution_count": null,
   "metadata": {
    "scrolled": true
   },
   "outputs": [],
   "source": [
    "print('\\n'.join(_prompt_retrieve('receives')))"
   ]
  },
  {
   "cell_type": "code",
   "execution_count": null,
   "metadata": {
    "scrolled": true
   },
   "outputs": [],
   "source": [
    "print('\\n'.join(_prompt_retrieve('does n\\'t allow')))"
   ]
  },
  {
   "cell_type": "code",
   "execution_count": null,
   "metadata": {},
   "outputs": [],
   "source": []
  },
  {
   "cell_type": "markdown",
   "metadata": {},
   "source": [
    "# Retrieve Prompt Evidence"
   ]
  },
  {
   "cell_type": "code",
   "execution_count": 109,
   "metadata": {},
   "outputs": [],
   "source": [
    "# visit here: /meg-kb/src/analysis/lm_probing.ipynb"
   ]
  },
  {
   "cell_type": "code",
   "execution_count": null,
   "metadata": {},
   "outputs": [],
   "source": []
  },
  {
   "cell_type": "code",
   "execution_count": null,
   "metadata": {},
   "outputs": [],
   "source": []
  },
  {
   "cell_type": "code",
   "execution_count": null,
   "metadata": {},
   "outputs": [],
   "source": []
  },
  {
   "cell_type": "markdown",
   "metadata": {},
   "source": [
    "# Suggest Quality Prompts"
   ]
  },
  {
   "cell_type": "code",
   "execution_count": null,
   "metadata": {},
   "outputs": [],
   "source": []
  },
  {
   "cell_type": "markdown",
   "metadata": {},
   "source": [
    "# Discussions"
   ]
  },
  {
   "cell_type": "code",
   "execution_count": 249,
   "metadata": {},
   "outputs": [],
   "source": [
    "# Discussions:\n",
    "# coherence clustering / ensemble models?\n",
    "# trying for other relations or entities\n",
    "# using entities in sub-categories\n",
    "# fine-tuning\n",
    "# ambiguous samples (high for pos and neg)\n",
    "# quantitative-evaluation"
   ]
  },
  {
   "cell_type": "code",
   "execution_count": null,
   "metadata": {},
   "outputs": [],
   "source": []
  }
 ],
 "metadata": {
  "hide_input": false,
  "kernelspec": {
   "display_name": "Environment (conda_transformers_nikita)",
   "language": "python",
   "name": "conda_transformers_nikita"
  },
  "language_info": {
   "codemirror_mode": {
    "name": "ipython",
    "version": 3
   },
   "file_extension": ".py",
   "mimetype": "text/x-python",
   "name": "python",
   "nbconvert_exporter": "python",
   "pygments_lexer": "ipython3",
   "version": "3.8.3"
  },
  "toc": {
   "base_numbering": 1,
   "nav_menu": {},
   "number_sections": true,
   "sideBar": true,
   "skip_h1_title": false,
   "title_cell": "Table of Contents",
   "title_sidebar": "Contents",
   "toc_cell": false,
   "toc_position": {
    "height": "calc(100% - 180px)",
    "left": "10px",
    "top": "150px",
    "width": "288px"
   },
   "toc_section_display": true,
   "toc_window_display": true
  }
 },
 "nbformat": 4,
 "nbformat_minor": 2
}
