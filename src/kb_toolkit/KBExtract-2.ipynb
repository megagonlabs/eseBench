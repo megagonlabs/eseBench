{
 "cells": [
  {
   "cell_type": "code",
   "execution_count": 1,
   "metadata": {},
   "outputs": [],
   "source": [
    "base_dir=\"/mnt/efs/shared/meg_shared_scripts/meg-kb\"\n",
    "data_ac=\"indeeda-meg-ac\"\n",
    "data_pt=\"indeeda-meg-pt\"\n",
    "yutong_base_dir=\"/home/ubuntu/users/yutong\""
   ]
  },
  {
   "cell_type": "code",
   "execution_count": 2,
   "metadata": {},
   "outputs": [
    {
     "name": "stdout",
     "output_type": "stream",
     "text": [
      "/mnt/efs/shared/meg_shared_scripts/meg-kb/src/concept_learning\n"
     ]
    }
   ],
   "source": [
    "%cd $base_dir/src/concept_learning/"
   ]
  },
  {
   "cell_type": "code",
   "execution_count": 175,
   "metadata": {},
   "outputs": [],
   "source": [
    "from tqdm.notebook import tqdm\n",
    "import argparse\n",
    "import re\n",
    "import numpy as np\n",
    "from scipy.spatial.distance import cosine\n",
    "from scipy.stats import pearsonr, entropy, gmean\n",
    "import random\n",
    "import torch\n",
    "from transformers import AutoTokenizer, AutoModel, AutoConfig\n",
    "from transformers import BertTokenizer, BertModel, BertForMaskedLM\n",
    "from transformers import GPT2Tokenizer, GPT2LMHeadModel\n",
    "import json\n",
    "from collections import defaultdict, Counter\n",
    "import time\n",
    "import importlib\n",
    "\n",
    "import logging\n",
    "from sklearn.cluster import KMeans, AgglomerativeClustering\n",
    "from sklearn.manifold import TSNE\n",
    "from sklearn.metrics.pairwise import cosine_similarity\n",
    "from sklearn.linear_model import LogisticRegression\n",
    "import pandas as pd\n",
    "import os\n",
    "import sys\n",
    "import math\n",
    "from annoy import AnnoyIndex\n",
    "import matplotlib\n",
    "from matplotlib import pyplot as plt\n",
    "import networkx as nx\n",
    "\n",
    "import spacy\n",
    "from spacy.matcher import Matcher\n",
    "from spacy.lang.en import English\n",
    "nlp = English()\n",
    "nlp.add_pipe(nlp.create_pipe('sentencizer'))\n",
    "spacy_tokenizer = nlp.tokenizer\n",
    "\n",
    "nlp_full = spacy.load('en_core_web_sm')\n",
    "\n",
    "from compute_concept_clusters import knn\n",
    "from compute_keyphrase_embeddings import ensure_tensor_on_device, mean_pooling\n",
    "\n",
    "from lm_probes import LMProbe, LMProbe_GPT2, LMProbe_Joint, LMProbe_PMI, LMProbe_PMI_greedy\n",
    "from utils import load_embeddings, load_seed_aligned_concepts, load_seed_aligned_relations, load_benchmark\n",
    "from utils import load_EE_labels\n",
    "from utils import get_masked_contexts, bert_untokenize\n",
    "from utils import learn_patterns\n",
    "\n",
    "from roberta_ses.interface import Roberta_SES_Entailment"
   ]
  },
  {
   "cell_type": "code",
   "execution_count": 72,
   "metadata": {},
   "outputs": [],
   "source": [
    "import utils\n",
    "importlib.reload(utils)\n",
    "from utils import load_embeddings, load_seed_aligned_concepts, load_seed_aligned_relations, load_benchmark\n",
    "from utils import load_EE_labels\n",
    "from utils import get_masked_contexts, bert_untokenize\n",
    "from utils import learn_patterns\n",
    "\n",
    "import lm_probes\n",
    "importlib.reload(lm_probes)\n",
    "from lm_probes import LMProbe, LMProbe_GPT2, LMProbe_Joint, LMProbe_PMI, LMProbe_PMI_greedy"
   ]
  },
  {
   "cell_type": "code",
   "execution_count": 5,
   "metadata": {},
   "outputs": [],
   "source": [
    "seed_aligned_concepts_path = os.path.join(base_dir, f'data/indeed-benchmark/seed_aligned_concepts.csv')\n",
    "seed_aux_concepts_path = os.path.join(base_dir, f'data/indeed-benchmark/seed_aligned_concepts_aux.csv')\n",
    "seed_aligned_relations_path = os.path.join(base_dir, f'data/indeed-benchmark/seed_aligned_relations_nodup.csv')\n",
    "seed_aux_relations_path = os.path.join(base_dir, f'data/indeed-benchmark/seed_aligned_relations_aux.csv')\n",
    "benchmark_path = os.path.join(base_dir, f'data/indeed-benchmark/benchmark_evidence_clean.csv')"
   ]
  },
  {
   "cell_type": "markdown",
   "metadata": {},
   "source": [
    "# Data Preprocessing"
   ]
  },
  {
   "cell_type": "code",
   "execution_count": 2,
   "metadata": {},
   "outputs": [],
   "source": [
    "# Input: text corpus\n",
    "# step 1: extract key phrases (autophrase)\n",
    "# step 2: generate embeddings"
   ]
  },
  {
   "cell_type": "markdown",
   "metadata": {},
   "source": [
    "## Extract Key Phrases"
   ]
  },
  {
   "cell_type": "code",
   "execution_count": 3,
   "metadata": {},
   "outputs": [],
   "source": [
    "# details here: https://github.com/rit-git/meg-kb/tree/main/src/keyword_extraction"
   ]
  },
  {
   "cell_type": "code",
   "execution_count": 8,
   "metadata": {},
   "outputs": [
    {
     "name": "stdout",
     "output_type": "stream",
     "text": [
      "/mnt/efs/shared/meg_shared_scripts/meg-kb/src/keyword_extraction\n"
     ]
    }
   ],
   "source": [
    "#change to keyword extractor directory\n",
    "%cd $base_dir/src/keyword_extraction/"
   ]
  },
  {
   "cell_type": "code",
   "execution_count": 9,
   "metadata": {},
   "outputs": [],
   "source": [
    "!chmod +x ./corpusProcess.sh"
   ]
  },
  {
   "cell_type": "code",
   "execution_count": 5,
   "metadata": {},
   "outputs": [],
   "source": [
    "# select the dataset and thread no\n",
    "data_ac = 'indeeda-meg-ac'\n",
    "data_pt = 'indeeda-meg-pt'\n",
    "thread = 8"
   ]
  },
  {
   "cell_type": "code",
   "execution_count": null,
   "metadata": {
    "scrolled": true
   },
   "outputs": [],
   "source": [
    "# process corpus and generate key prhases\n",
    "!./corpusProcess.sh $data_ac $thread"
   ]
  },
  {
   "cell_type": "code",
   "execution_count": 464,
   "metadata": {},
   "outputs": [],
   "source": [
    "# copy these results to sample-meg-pt\n",
    "!cp -r $base_dir/data/$data_ac $base_dir/data/$data_pt"
   ]
  },
  {
   "cell_type": "markdown",
   "metadata": {},
   "source": [
    "## Corpus with company names"
   ]
  },
  {
   "cell_type": "code",
   "execution_count": 33,
   "metadata": {},
   "outputs": [],
   "source": [
    "dataset_path = '/home/ubuntu/users/nikita/data/indeed/indeedQA/question_answers.csv'\n",
    "company_path = '/home/ubuntu/users/nikita/data/indeed/indeedQA/fccid-companyName.csv'\n",
    "entity_emb_num_path = os.path.join(base_dir, f'data/{data_ac}/intermediate/BERTembednum+seeds.txt')\n",
    "out_corpus_path = os.path.join(base_dir, f'data/{data_ac}/intermediate/sentences_with_company.json')"
   ]
  },
  {
   "cell_type": "code",
   "execution_count": 161,
   "metadata": {},
   "outputs": [
    {
     "name": "stdout",
     "output_type": "stream",
     "text": [
      "Processing lines: 100%|████████████████| 307122/307122 [11:31<00:00, 444.12it/s]\n"
     ]
    }
   ],
   "source": [
    "# Use script\n",
    "!python build_corpus_with_companies.py \\\n",
    "-d $base_dir/data/$data_ac/intermediate \\\n",
    "-b $base_dir/data/indeed-benchmark \\\n",
    "-rd /home/ubuntu/users/nikita/data/indeed/indeedQA\n"
   ]
  },
  {
   "cell_type": "code",
   "execution_count": 114,
   "metadata": {},
   "outputs": [],
   "source": [
    "!cp $base_dir/data/$data_ac/intermediate/sentences_with_company.json $base_dir/data/$data_pt/intermediate/"
   ]
  },
  {
   "cell_type": "code",
   "execution_count": null,
   "metadata": {},
   "outputs": [],
   "source": []
  },
  {
   "cell_type": "markdown",
   "metadata": {},
   "source": [
    "# Generate Embeddings"
   ]
  },
  {
   "cell_type": "code",
   "execution_count": 465,
   "metadata": {},
   "outputs": [],
   "source": [
    "# details here: https://github.com/rit-git/meg-kb/tree/main/src/concept_learning"
   ]
  },
  {
   "cell_type": "code",
   "execution_count": 11,
   "metadata": {},
   "outputs": [
    {
     "name": "stdout",
     "output_type": "stream",
     "text": [
      "/mnt/efs/shared/meg_shared_scripts/meg-kb/src/concept_learning\n"
     ]
    }
   ],
   "source": [
    "#change to concept learning directory\n",
    "%cd $base_dir/src/concept_learning/"
   ]
  },
  {
   "cell_type": "markdown",
   "metadata": {},
   "source": [
    "## Sentence Embedding"
   ]
  },
  {
   "cell_type": "code",
   "execution_count": 86,
   "metadata": {},
   "outputs": [
    {
     "name": "stdout",
     "output_type": "stream",
     "text": [
      "loading corpus: 100%|███████████████| 901796/901796 [00:03<00:00, 274660.12it/s]\n",
      "computing entity-wise embedding: 100%|██████| 8028/8028 [04:55<00:00, 27.21it/s]\n",
      "Saving embedding\n"
     ]
    }
   ],
   "source": [
    "!CUDA_VISIBLE_DEVICES=2 python compute_keyphrase_embeddings.py \\\n",
    "-m roberta-base \\\n",
    "-et ac \\\n",
    "-ename RoBERTa \\\n",
    "-d $base_dir/data/$data_ac/intermediate \\\n",
    "-c 750"
   ]
  },
  {
   "cell_type": "markdown",
   "metadata": {},
   "source": [
    "## Concatenated Token Embedding"
   ]
  },
  {
   "cell_type": "code",
   "execution_count": null,
   "metadata": {},
   "outputs": [],
   "source": [
    "!CUDA_VISIBLE_DEVICES=3 python compute_keyphrase_embeddings.py -m bert-base-uncased -et pt -d $base_dir/data/$data_pt/intermediate -c 750"
   ]
  },
  {
   "cell_type": "markdown",
   "metadata": {},
   "source": [
    "## Token Embedding"
   ]
  },
  {
   "cell_type": "code",
   "execution_count": null,
   "metadata": {},
   "outputs": [],
   "source": [
    "# change directory to autophrase\n",
    "%cd $base_dir/src/tools/AutoPhrase"
   ]
  },
  {
   "cell_type": "code",
   "execution_count": null,
   "metadata": {},
   "outputs": [],
   "source": [
    "data_corel = 'sample-indeeda-corel'"
   ]
  },
  {
   "cell_type": "code",
   "execution_count": null,
   "metadata": {
    "scrolled": true
   },
   "outputs": [],
   "source": [
    "!CUDA_VISIBLE_DEVICES=0 python extractBertEmbedding.py ../../../data/$data_corel/intermediate/ $thread"
   ]
  },
  {
   "cell_type": "code",
   "execution_count": null,
   "metadata": {},
   "outputs": [],
   "source": []
  },
  {
   "cell_type": "markdown",
   "metadata": {},
   "source": [
    "## Non-masking Concat Token Embedding"
   ]
  },
  {
   "cell_type": "code",
   "execution_count": 68,
   "metadata": {},
   "outputs": [],
   "source": [
    "def get_non_masking_avg_context_embeddings(model_path, input_file, max_context_ct,\n",
    "                                           tokenizer,\n",
    "                                           model,\n",
    "                                           ent_context):\n",
    "    '''\n",
    "    mean pooling from sentence-transformers\n",
    "    :param model_path:\n",
    "    :param input_file:\n",
    "    :return:\n",
    "    '''\n",
    "#     tokenizer = AutoTokenizer.from_pretrained(model_path)\n",
    "#     model = AutoModel.from_pretrained(model_path)\n",
    "#     device = torch.device(\"cuda\" if torch.cuda.is_available() else \"cpu\")\n",
    "#     model.to(device)\n",
    "    device = \"cpu\"\n",
    "    model.eval()\n",
    "    mask_token_id = tokenizer.mask_token_id\n",
    "\n",
    "#     ent_freq, ent_context = get_masked_contexts(input_file)\n",
    "    entity_embeddings = {}\n",
    "    for entity, en_context_lst in tqdm(ent_context.items(), total=len(ent_context), desc=\"computing entity-wise embedding\"):\n",
    "        en_context_lst = random.sample(en_context_lst, min(len(en_context_lst), max_context_ct))\n",
    "        \n",
    "        entity_toks = tokenizer.tokenize(entity)\n",
    "        en_non_mask_context_lst = []\n",
    "        en_span_lst = []\n",
    "        for _ctx in en_context_lst:\n",
    "            _nm_ctx = _ctx.replace('[MASK]', entity)\n",
    "            _ctx_toks = tokenizer.tokenize(_ctx)\n",
    "            _nm_ctx_toks = tokenizer.tokenize(_nm_ctx)\n",
    "            try:\n",
    "                _mask_id = _ctx_toks.index('[MASK]')\n",
    "                assert _nm_ctx_toks[_mask_id : _mask_id + len(entity_toks)] == entity_toks\n",
    "            except:\n",
    "                raise ValueError(_ctx, _ctx_toks)\n",
    "            en_span_lst.append((_mask_id + 1, _mask_id + len(entity_toks) + 1))  # +1 for [CLS]\n",
    "            en_non_mask_context_lst.append(_nm_ctx)\n",
    "            \n",
    "        # chunks = [en_context_lst[i:i + 100] for i in range(0, len(en_context_lst), 100)]\n",
    "        # print(entity)\n",
    "        # print(len(en_context_lst))\n",
    "        all_context_embeddings = []\n",
    "        for i in range(0, len(en_context_lst), 100):\n",
    "            chunk = en_non_mask_context_lst[i:i+100]\n",
    "            en_span_chunk = en_span_lst[i:i+100]\n",
    "            \n",
    "            encoded_input = tokenizer.batch_encode_plus(chunk, return_token_type_ids=True, add_special_tokens=True, max_length=128, return_tensors='pt', padding=True, pad_to_max_length=True, truncation=True)\n",
    "            # mask = encoded_input['input_ids'] != mask_token_id\n",
    "            mask = torch.zeros_like(encoded_input['input_ids'])\n",
    "            for j in range(len(en_span_chunk)):\n",
    "                _s, _e = en_span_chunk[j]\n",
    "                mask[j, _s:_e] = 1\n",
    "                print(tokenizer.convert_ids_to_tokens(encoded_input['input_ids'][j, _s:_e]))\n",
    "    \n",
    "            with torch.no_grad():\n",
    "                encoded_input = ensure_tensor_on_device(device, **encoded_input)\n",
    "                model_output = model(**encoded_input)  # Compute token embeddings\n",
    "            context_embeddings = mean_pooling(model_output, mask)  # mean pooling\n",
    "            all_context_embeddings.append(context_embeddings)\n",
    "        entity_embedding = torch.mean(torch.cat(all_context_embeddings, dim=0), dim=0).cpu().detach().numpy().tolist()\n",
    "        print(entity, len(entity_embedding))\n",
    "        entity_embeddings[entity] = entity_embedding\n",
    "        \n",
    "#     return entity_embeddings, ent_freq\n",
    "    return entity_embeddings"
   ]
  },
  {
   "cell_type": "code",
   "execution_count": 64,
   "metadata": {},
   "outputs": [],
   "source": [
    "# bert_emb_path = os.path.join(base_dir, f'data/{data_ac}/intermediate/BERTembed+seeds.txt')\n",
    "# entity_embeddings = load_embeddings(bert_emb_path, 768)\n",
    "# len(entity_embeddings)"
   ]
  },
  {
   "cell_type": "code",
   "execution_count": 43,
   "metadata": {},
   "outputs": [
    {
     "data": {
      "text/plain": [
       "7921"
      ]
     },
     "execution_count": 43,
     "metadata": {},
     "output_type": "execute_result"
    }
   ],
   "source": [
    "corpus_path = os.path.join(base_dir, f'data/{data_ac}/intermediate/sentences_with_company.json')\n",
    "embed_num_path = os.path.join(base_dir, f'data/{data_ac}/intermediate/BERTembednum+seeds.txt')\n",
    "_, _all_ent_contexts = get_masked_contexts(corpus_path, embed_num_path)\n",
    "len(_all_ent_contexts)"
   ]
  },
  {
   "cell_type": "code",
   "execution_count": 48,
   "metadata": {},
   "outputs": [
    {
     "data": {
      "text/plain": [
       "3"
      ]
     },
     "execution_count": 48,
     "metadata": {},
     "output_type": "execute_result"
    }
   ],
   "source": [
    "_entities = ['walmart', '401k plan', 'saturday / sunday']\n",
    "_ent_contexts = dict([(_e, _all_ent_contexts[_e]) for _e in _entities])\n",
    "len(_ent_contexts)"
   ]
  },
  {
   "cell_type": "code",
   "execution_count": 57,
   "metadata": {},
   "outputs": [],
   "source": [
    "bert_tokenizer = AutoTokenizer.from_pretrained('bert-base-uncased')\n",
    "bert_model = AutoModel.from_pretrained('bert-base-uncased')"
   ]
  },
  {
   "cell_type": "code",
   "execution_count": 69,
   "metadata": {
    "scrolled": true
   },
   "outputs": [
    {
     "data": {
      "application/vnd.jupyter.widget-view+json": {
       "model_id": "eec03cdedd174c3fb32e9c0825278536",
       "version_major": 2,
       "version_minor": 0
      },
      "text/plain": [
       "HBox(children=(FloatProgress(value=0.0, description='computing entity-wise embedding', max=3.0, style=Progress…"
      ]
     },
     "metadata": {},
     "output_type": "display_data"
    },
    {
     "name": "stdout",
     "output_type": "stream",
     "text": [
      "['wal', '##mart']\n",
      "['wal', '##mart']\n",
      "['wal', '##mart']\n",
      "['wal', '##mart']\n",
      "['wal', '##mart']\n",
      "['wal', '##mart']\n",
      "['wal', '##mart']\n",
      "['wal', '##mart']\n",
      "['wal', '##mart']\n",
      "['wal', '##mart']\n",
      "walmart 768\n",
      "['401', '##k', 'plan']\n",
      "['401', '##k', 'plan']\n",
      "['401', '##k', 'plan']\n",
      "['401', '##k', 'plan']\n",
      "['401', '##k', 'plan']\n",
      "['401', '##k', 'plan']\n",
      "['401', '##k', 'plan']\n",
      "['401', '##k', 'plan']\n",
      "['401', '##k', 'plan']\n",
      "['401', '##k', 'plan']\n",
      "401k plan 768\n",
      "['saturday', '/', 'sunday']\n",
      "['saturday', '/', 'sunday']\n",
      "saturday / sunday 768\n",
      "\n"
     ]
    }
   ],
   "source": [
    "_res = get_non_masking_avg_context_embeddings(\n",
    "    model_path='bert-base-uncased',\n",
    "    input_file=None,\n",
    "    max_context_ct=10,\n",
    "    ent_context=_ent_contexts,\n",
    "    tokenizer=bert_tokenizer,\n",
    "    model=bert_model)"
   ]
  },
  {
   "cell_type": "code",
   "execution_count": 72,
   "metadata": {},
   "outputs": [
    {
     "name": "stdout",
     "output_type": "stream",
     "text": [
      "loading corpus: 100%|███████████████| 901796/901796 [00:03<00:00, 280028.52it/s]\n",
      "computing entity-wise embedding: 100%|██████| 8028/8028 [07:19<00:00, 18.29it/s]\n",
      "Saving embedding\n"
     ]
    }
   ],
   "source": [
    "# Using script\n",
    "!CUDA_VISIBLE_DEVICES=3 python compute_keyphrase_embeddings.py -m bert-base-uncased -et nm_ac -d $base_dir/data/$data_ac/intermediate -c 750"
   ]
  },
  {
   "cell_type": "code",
   "execution_count": null,
   "metadata": {},
   "outputs": [],
   "source": []
  },
  {
   "cell_type": "markdown",
   "metadata": {},
   "source": [
    "## Add embeddings for seed instances"
   ]
  },
  {
   "cell_type": "code",
   "execution_count": 88,
   "metadata": {
    "scrolled": true
   },
   "outputs": [
    {
     "name": "stdout",
     "output_type": "stream",
     "text": [
      "Seed instances: ['walmart', 'amazon', 'subway', 'microsoft', 'target', 'business casual', 'uniform', 'hair color', 'tattoos', 'facial hair', 'shoes', 'piercings', 'delivery driver', 'store manager', 'cashier', 'package handler', 'sales associate', 'barista', 'dishwasher', 'weekly', 'biweekly', 'friday', 'saturday', 'health insurance', 'flexible schedule', '401k', 'paid vacation', 'sick leave', 'vision insurance', 'base pay', 'stock options', 'overtime pay', 'bonus', 'checks', 'direct deposit', 'prepaid card', 'drug test', 'criminal background check', 'employment verification', 'felons', 'criminals', 'disabled', 'drug addicts', 'high schoolers', 'misdemeanor', 'pregnant', 'students', 'seniors', 'hiring age', 'bachelors degree', 'prior experience', 'working permit', 'heavy lifting', 'night shift', 'dinner shift', 'early morning shift', '8 hour shift', 'christmas eve', 'early morning', 'hoilday', '7 days', 'saturday', 'sunday', 'weekend', 'full time', 'part time', 'seasonal', 'orientation', 'introduction', 'workstation', 'training', 'team lunch']\n",
      "New instances: ['uniform', 'hair color', 'tattoos', 'shoes', 'cashier', 'weekly', 'biweekly', 'friday', 'saturday', '401k', 'stock options', 'overtime pay', 'bonus', 'checks', 'employment verification', 'felons', 'criminals', 'disabled', 'drug addicts', 'high schoolers', 'pregnant', 'students', 'seniors', '8 hour shift', 'hoilday', '7 days', 'saturday', 'sunday', 'weekend', 'full time', 'part time', 'seasonal', 'orientation', 'introduction', 'training', 'team lunch']\n",
      "loading corpus: 100%|████████████████| 901796/901796 [00:17<00:00, 50329.66it/s]\n",
      "computing entity-wise embedding: 100%|██████████| 35/35 [00:16<00:00,  2.07it/s]\n",
      "Saving embedding\n"
     ]
    }
   ],
   "source": [
    "# Using script\n",
    "\n",
    "!CUDA_VISIBLE_DEVICES=2 python add_seed_instances_embeddings.py \\\n",
    "-m roberta-base \\\n",
    "-et ac \\\n",
    "-ename RoBERTa \\\n",
    "-d $base_dir/data/$data_ac/intermediate \\\n",
    "-b $base_dir/data/indeed-benchmark \\\n",
    "-c 750"
   ]
  },
  {
   "cell_type": "code",
   "execution_count": null,
   "metadata": {},
   "outputs": [],
   "source": [
    "!CUDA_VISIBLE_DEVICES=3 python add_seed_instances_embeddings.py -m bert-base-uncased -et pt -d $base_dir/data/$data_pt/intermediate -b $base_dir/data/indeed-benchmark -c 750"
   ]
  },
  {
   "cell_type": "markdown",
   "metadata": {},
   "source": [
    "## Check embeddings"
   ]
  },
  {
   "cell_type": "code",
   "execution_count": 121,
   "metadata": {},
   "outputs": [
    {
     "data": {
      "text/plain": [
       "8028"
      ]
     },
     "execution_count": 121,
     "metadata": {},
     "output_type": "execute_result"
    }
   ],
   "source": [
    "bert_emb_path = os.path.join(base_dir, f'data/{data_ac}/intermediate/BERTembed.txt')\n",
    "\n",
    "embeddings = load_embeddings(bert_emb_path, 768)\n",
    "len(embeddings)"
   ]
  },
  {
   "cell_type": "code",
   "execution_count": 118,
   "metadata": {},
   "outputs": [
    {
     "data": {
      "text/html": [
       "<div>\n",
       "<style scoped>\n",
       "    .dataframe tbody tr th:only-of-type {\n",
       "        vertical-align: middle;\n",
       "    }\n",
       "\n",
       "    .dataframe tbody tr th {\n",
       "        vertical-align: top;\n",
       "    }\n",
       "\n",
       "    .dataframe thead th {\n",
       "        text-align: right;\n",
       "    }\n",
       "</style>\n",
       "<table border=\"1\" class=\"dataframe\">\n",
       "  <thead>\n",
       "    <tr style=\"text-align: right;\">\n",
       "      <th></th>\n",
       "      <th>entity</th>\n",
       "      <th>embedding</th>\n",
       "    </tr>\n",
       "  </thead>\n",
       "  <tbody>\n",
       "  </tbody>\n",
       "</table>\n",
       "</div>"
      ],
      "text/plain": [
       "Empty DataFrame\n",
       "Columns: [entity, embedding]\n",
       "Index: []"
      ]
     },
     "execution_count": 118,
     "metadata": {},
     "output_type": "execute_result"
    }
   ],
   "source": [
    "embeddings[embeddings['entity'] == 'black shirt']"
   ]
  },
  {
   "cell_type": "markdown",
   "metadata": {},
   "source": [
    "# Expand Seed Entities (clustering)"
   ]
  },
  {
   "cell_type": "code",
   "execution_count": 99,
   "metadata": {},
   "outputs": [],
   "source": [
    "# details here: https://github.com/rit-git/meg-kb/tree/main/src/concept_learning"
   ]
  },
  {
   "cell_type": "code",
   "execution_count": 299,
   "metadata": {},
   "outputs": [
    {
     "name": "stdout",
     "output_type": "stream",
     "text": [
      "/mnt/efs/shared/meg_shared_scripts/meg-kb/src/concept_learning\n"
     ]
    }
   ],
   "source": [
    "#change to concept learning directory\n",
    "%cd ../../concept_learning/"
   ]
  },
  {
   "cell_type": "markdown",
   "metadata": {},
   "source": [
    "## knn sentence-embedding"
   ]
  },
  {
   "cell_type": "code",
   "execution_count": 365,
   "metadata": {},
   "outputs": [],
   "source": [
    "clusters = 100\n",
    "output = '../../data/'+data_ac+'/intermediate/knn_'+str(clusters)+'.csv'\n",
    "dim = 768"
   ]
  },
  {
   "cell_type": "code",
   "execution_count": 366,
   "metadata": {},
   "outputs": [
    {
     "name": "stdout",
     "output_type": "stream",
     "text": [
      "building entity index: 100%|████████████████| 177/177 [00:00<00:00, 5435.26it/s]\n",
      "finding nearest neighbors by entity: 100%|██| 177/177 [00:00<00:00, 2001.57it/s]\n"
     ]
    }
   ],
   "source": [
    "!python compute_concept_clusters.py -d ../../data/$data_ac/intermediate/ -ca knn -s $clusters -dim $dim -o $output"
   ]
  },
  {
   "cell_type": "markdown",
   "metadata": {},
   "source": [
    "## knn token concatenated"
   ]
  },
  {
   "cell_type": "code",
   "execution_count": 308,
   "metadata": {},
   "outputs": [],
   "source": [
    "clusters = 20\n",
    "output = '../../data/'+data_pt+'/intermediate/knn_'+str(clusters)+'.csv'\n",
    "dim = 3072"
   ]
  },
  {
   "cell_type": "code",
   "execution_count": 309,
   "metadata": {},
   "outputs": [
    {
     "name": "stdout",
     "output_type": "stream",
     "text": [
      "building entity index: 100%|████████████████| 177/177 [00:00<00:00, 3661.18it/s]\n",
      "finding nearest neighbors by entity: 100%|██| 177/177 [00:00<00:00, 4052.00it/s]\n"
     ]
    }
   ],
   "source": [
    "!python compute_concept_clusters.py -d ../../data/$data_pt/intermediate/ -ca knn -s $clusters -dim $dim -o $output"
   ]
  },
  {
   "cell_type": "markdown",
   "metadata": {},
   "source": [
    "## knn token"
   ]
  },
  {
   "cell_type": "code",
   "execution_count": null,
   "metadata": {},
   "outputs": [],
   "source": [
    "clusters = 20\n",
    "output = '../../data/'+data_pt+'/intermediate/knn_'+str(clusters)+'.csv'\n",
    "dim = 768"
   ]
  },
  {
   "cell_type": "code",
   "execution_count": null,
   "metadata": {},
   "outputs": [],
   "source": [
    "!python compute_concept_clusters.py -d ../../data/$data_corel/intermediate/ -ca knn -s $clusters -dim $dim -o $output"
   ]
  },
  {
   "cell_type": "code",
   "execution_count": null,
   "metadata": {},
   "outputs": [],
   "source": []
  },
  {
   "cell_type": "markdown",
   "metadata": {},
   "source": [
    "## Seed instances clustering (EE-emb)\n",
    "(using all seed instances of a concept to find neighbors)"
   ]
  },
  {
   "cell_type": "code",
   "execution_count": 51,
   "metadata": {},
   "outputs": [
    {
     "name": "stdout",
     "output_type": "stream",
     "text": [
      "/mnt/efs/shared/meg_shared_scripts/meg-kb/src/concept_learning\n"
     ]
    }
   ],
   "source": [
    "%cd $base_dir/src/concept_learning"
   ]
  },
  {
   "cell_type": "code",
   "execution_count": 52,
   "metadata": {},
   "outputs": [
    {
     "name": "stdout",
     "output_type": "stream",
     "text": [
      "building entity index: 100%|██████████████| 8064/8064 [00:01<00:00, 6287.40it/s]\n",
      "finding nearest neighbors by concept: 14it [00:00, 16.42it/s]\n"
     ]
    }
   ],
   "source": [
    "# Use script\n",
    "cluster_size = None\n",
    "\n",
    "!python compute_concept_seeds_knn.py \\\n",
    "-d $base_dir/data/$data_ac/intermediate \\\n",
    "-b $base_dir/data/indeed-benchmark \\\n",
    "-o $base_dir/data/$data_ac/intermediate/ee_concept_knn_k=None.csv \\\n",
    "-kdt"
   ]
  },
  {
   "cell_type": "code",
   "execution_count": 89,
   "metadata": {},
   "outputs": [
    {
     "name": "stdout",
     "output_type": "stream",
     "text": [
      "building entity index: 100%|██████████████| 8063/8063 [00:01<00:00, 4398.92it/s]\n",
      "100%|███████████████████████████████████████████| 14/14 [00:01<00:00, 13.38it/s]\n"
     ]
    }
   ],
   "source": [
    "!python compute_concept_seeds_knn.py \\\n",
    "-d $base_dir/data/$data_ac/intermediate \\\n",
    "-b $base_dir/data/indeed-benchmark \\\n",
    "-e $base_dir/data/$data_ac/intermediate/BERTembed_RoBERTa+seeds.txt \\\n",
    "-o $base_dir/data/$data_ac/intermediate/ee_concept_knn_roberta_k=None.csv \\\n",
    "-kdt\n"
   ]
  },
  {
   "cell_type": "code",
   "execution_count": null,
   "metadata": {
    "scrolled": true
   },
   "outputs": [],
   "source": [
    "# check results \n",
    "concept_knn_path = os.path.join(base_dir, f'data/{data_ac}/intermediate/ee_concept_knn_k=None.csv')\n",
    "\n",
    "df = pd.read_csv(concept_knn_path)\n",
    "df[df['concept'] == 'company'].head(10)"
   ]
  },
  {
   "cell_type": "code",
   "execution_count": null,
   "metadata": {},
   "outputs": [],
   "source": [
    "df = pd.read_csv(concept_knn_path)\n",
    "df[df['concept'] == 'pay_schedule'].head(10)"
   ]
  },
  {
   "cell_type": "code",
   "execution_count": null,
   "metadata": {},
   "outputs": [],
   "source": []
  },
  {
   "cell_type": "markdown",
   "metadata": {},
   "source": [
    "## Contrastive EE-emb"
   ]
  },
  {
   "cell_type": "code",
   "execution_count": 245,
   "metadata": {},
   "outputs": [
    {
     "name": "stdout",
     "output_type": "stream",
     "text": [
      "\r",
      "  0%|                                                    | 0/14 [00:00<?, ?it/s]\r",
      "100%|█████████████████████████████████████████| 14/14 [00:00<00:00, 4704.77it/s]\r\n"
     ]
    }
   ],
   "source": [
    "# Use script\n",
    "# cluster_size = None\n",
    "\n",
    "!python compute_concept_contrastive_knn.py \\\n",
    "-d $base_dir/data/$data_ac/intermediate \\\n",
    "-b $base_dir/data/indeed-benchmark \\\n",
    "-o $base_dir/data/$data_ac/intermediate/ee_concept_contr_knn_k=None.csv"
   ]
  },
  {
   "cell_type": "code",
   "execution_count": 56,
   "metadata": {},
   "outputs": [
    {
     "name": "stdout",
     "output_type": "stream",
     "text": [
      "\r",
      "  0%|                                                    | 0/28 [00:00<?, ?it/s]\r",
      "100%|█████████████████████████████████████████| 28/28 [00:00<00:00, 5062.75it/s]\r\n"
     ]
    }
   ],
   "source": [
    "!python compute_concept_contrastive_knn.py \\\n",
    "-d $base_dir/data/$data_ac/intermediate \\\n",
    "-b $base_dir/data/indeed-benchmark \\\n",
    "-aux_cc \\\n",
    "-o $base_dir/data/$data_ac/intermediate/ee_concept_contr_knn-aux-k=None.csv"
   ]
  },
  {
   "cell_type": "code",
   "execution_count": null,
   "metadata": {},
   "outputs": [],
   "source": []
  },
  {
   "cell_type": "markdown",
   "metadata": {},
   "source": [
    "## EE-LM-probe (prompt)"
   ]
  },
  {
   "cell_type": "code",
   "execution_count": null,
   "metadata": {},
   "outputs": [],
   "source": [
    "'''\n",
    "@Nikita: Here are the code blocks for exploring LM prompts for EE.\n",
    "\n",
    "Some core code:\n",
    "lm_probe = LMProbe()        // LMProbe: BERT; LMProbe_GPT2: GPT2; etc.\n",
    "all_entitites = ...         // all the entities\n",
    "_template = \"Dress code like jeans, [MASK] and tattoos.\" // A string with [MASK] (LMProbe automatically takes care of all entity token lengths, so don't need to duplicate mask tokens)\n",
    "_res = lm_probe.score_candidates(input_txt=_template, cands=all_entities)\n",
    "list(enumerate(_res[:50]))  // Show results (rank, cand, score)\n",
    "\n",
    "'''"
   ]
  },
  {
   "cell_type": "code",
   "execution_count": 75,
   "metadata": {},
   "outputs": [
    {
     "name": "stderr",
     "output_type": "stream",
     "text": [
      "Some weights of the model checkpoint at bert-base-uncased were not used when initializing BertForMaskedLM: ['cls.seq_relationship.weight', 'cls.seq_relationship.bias']\n",
      "- This IS expected if you are initializing BertForMaskedLM from the checkpoint of a model trained on another task or with another architecture (e.g. initializing a BertForSequenceClassification model from a BertForPretraining model).\n",
      "- This IS NOT expected if you are initializing BertForMaskedLM from the checkpoint of a model that you expect to be exactly identical (initializing a BertForSequenceClassification model from a BertForSequenceClassification model).\n"
     ]
    }
   ],
   "source": [
    "lm_probe = LMProbe(model_name='bert-base-uncased')"
   ]
  },
  {
   "cell_type": "code",
   "execution_count": null,
   "metadata": {},
   "outputs": [],
   "source": [
    "lm_probe_gpt2 = LMProbe_GPT2()"
   ]
  },
  {
   "cell_type": "code",
   "execution_count": null,
   "metadata": {},
   "outputs": [],
   "source": [
    "ee_path = os.path.join(base_dir, f'data/{data_ac}/intermediate/concept_knn_100.csv')\n",
    "ee_df = pd.read_csv(ee_path)\n",
    "ee_df.shape"
   ]
  },
  {
   "cell_type": "code",
   "execution_count": null,
   "metadata": {},
   "outputs": [],
   "source": [
    "_r = 'has_dress_code'\n",
    "\n",
    "_r_row = seed_relations_df[seed_relations_df['alignedRelationName'] == _r].iloc[0]\n",
    "_h_type = _r_row['domain']\n",
    "_t_type = _r_row['range']\n",
    "print(_h_type, _t_type)\n",
    "\n",
    "_seed_heads = seed_concepts_df[seed_concepts_df['alignedCategoryName'] == _h_type]['seedInstances'].item()\n",
    "_seed_tails = seed_concepts_df[seed_concepts_df['alignedCategoryName'] == _t_type]['seedInstances'].item()\n",
    "print(_seed_heads, _seed_tails)\n",
    "\n",
    "_cand_heads = ee_df[ee_df['concept'] == _h_type]['neighbor'].tolist()\n",
    "_cand_tails = ee_df[ee_df['concept'] == _t_type]['neighbor'].tolist()\n",
    "print(len(_cand_heads), len(_cand_tails))"
   ]
  },
  {
   "cell_type": "code",
   "execution_count": 33,
   "metadata": {},
   "outputs": [
    {
     "data": {
      "text/plain": [
       "(8064, ['multiple times', 'upper', 'management'])"
      ]
     },
     "execution_count": 33,
     "metadata": {},
     "output_type": "execute_result"
    }
   ],
   "source": [
    "emb_num_path = os.path.join(base_dir, f'data/{data_ac}/intermediate/BERTembednum+seeds.txt')\n",
    "with open(emb_num_path, 'r') as f:\n",
    "    all_entities = [l.rsplit(' ', 1)[0] for l in f]\n",
    "len(all_entities), all_entities[:3]"
   ]
  },
  {
   "cell_type": "code",
   "execution_count": 76,
   "metadata": {
    "scrolled": true
   },
   "outputs": [
    {
     "data": {
      "text/plain": [
       "[(0, {'cand': 'tattoos', 'score': 0.4160754084587097}),\n",
       " (1, {'cand': 'hair', 'score': 0.039885014295577996}),\n",
       " (2, {'cand': 'lipstick', 'score': 0.02614353969693184}),\n",
       " (3, {'cand': 'sunglasses', 'score': 0.012342552654445166}),\n",
       " (4, {'cand': 'clothing', 'score': 0.006540362257510425}),\n",
       " (5, {'cand': 'jewellery', 'score': 0.006417935248464348}),\n",
       " (6, {'cand': 'cosmetics', 'score': 0.00435011088848114}),\n",
       " (7, {'cand': 'tattoo', 'score': 0.0035406514070928105}),\n",
       " (8, {'cand': 'shoes', 'score': 0.002573060104623437}),\n",
       " (9, {'cand': 'jeans', 'score': 0.0015570956747978924}),\n",
       " (10, {'cand': 'mascara', 'score': 0.0012895131949335337}),\n",
       " (11, {'cand': 'nipples', 'score': 0.001285086153075099}),\n",
       " (12, {'cand': 'skin', 'score': 0.0012442303122952583}),\n",
       " (13, {'cand': 'logos', 'score': 0.0007056326139718295}),\n",
       " (14, {'cand': 'ponytail', 'score': 0.0006706683780066669}),\n",
       " (15, {'cand': 'cologne', 'score': 0.0005899472744204106}),\n",
       " (16, {'cand': 'handcuffs', 'score': 0.0004861631023231892}),\n",
       " (17, {'cand': 'fashion', 'score': 0.00040361110586673027}),\n",
       " (18, {'cand': 'ink', 'score': 0.0003704534901771694}),\n",
       " (19, {'cand': 'leather', 'score': 0.00036086651380173857})]"
      ]
     },
     "execution_count": 76,
     "metadata": {},
     "output_type": "execute_result"
    }
   ],
   "source": [
    "_template = 'dress code including business casual, uniform, hair color, tattoos, facial hair, shoes, [MASK] and piercings.'\n",
    "_res = lm_probe.score_candidates(input_txt=_template, cands=all_entities)\n",
    "list(enumerate(_res[:20]))"
   ]
  },
  {
   "cell_type": "code",
   "execution_count": 73,
   "metadata": {},
   "outputs": [
    {
     "name": "stderr",
     "output_type": "stream",
     "text": [
      "Some weights of RobertaForMaskedLM were not initialized from the model checkpoint at roberta-base and are newly initialized: ['lm_head.decoder.bias']\n",
      "You should probably TRAIN this model on a down-stream task to be able to use it for predictions and inference.\n"
     ]
    }
   ],
   "source": [
    "lm_probe_roberta = LMProbe(model_name='roberta-base')"
   ]
  },
  {
   "cell_type": "code",
   "execution_count": 74,
   "metadata": {},
   "outputs": [
    {
     "data": {
      "text/plain": [
       "[(0, {'cand': 'tattoos', 'score': 0.28747424483299255}),\n",
       " (1, {'cand': 'clothing', 'score': 0.06236377730965614}),\n",
       " (2, {'cand': 'hair', 'score': 0.007582573685795066}),\n",
       " (3, {'cand': 'skin', 'score': 0.0070136240683496}),\n",
       " (4, {'cand': 'cosmetics', 'score': 0.0054200440645217896}),\n",
       " (5, {'cand': 'lipstick', 'score': 0.0037557301111519332}),\n",
       " (6, {'cand': 'sunglasses', 'score': 0.0023571669589728117}),\n",
       " (7, {'cand': 'labels', 'score': 0.0009628509869799014}),\n",
       " (8, {'cand': 'tattoo', 'score': 0.0008015605271793904}),\n",
       " (9, {'cand': 'mascara', 'score': 0.0006437317933887245}),\n",
       " (10, {'cand': 'jeans', 'score': 0.0004768913495354353}),\n",
       " (11, {'cand': 'shoes', 'score': 0.0004637015226762742}),\n",
       " (12, {'cand': 'paint', 'score': 0.00046234327601268893}),\n",
       " (13, {'cand': 'leather', 'score': 0.0004592324548866599}),\n",
       " (14, {'cand': 'design', 'score': 0.0003993592399638145}),\n",
       " (15, {'cand': 'products', 'score': 0.0003246380656491965}),\n",
       " (16, {'cand': 'bones', 'score': 0.00025791997904889275}),\n",
       " (17, {'cand': 'acne', 'score': 0.00022674869978800416}),\n",
       " (18, {'cand': 'arms', 'score': 0.00022047646052669715}),\n",
       " (19, {'cand': 'polish', 'score': 0.00020280660828575505})]"
      ]
     },
     "execution_count": 74,
     "metadata": {},
     "output_type": "execute_result"
    }
   ],
   "source": [
    "_template = 'dress code including business casual, uniform, hair color, tattoos, facial hair, shoes, [MASK] and piercings.'\n",
    "_res = lm_probe_roberta.score_candidates(input_txt=_template, cands=all_entities)\n",
    "list(enumerate(_res[:20]))"
   ]
  },
  {
   "cell_type": "code",
   "execution_count": 58,
   "metadata": {},
   "outputs": [],
   "source": [
    "_tokenizer = AutoTokenizer.from_pretrained('roberta-base')"
   ]
  },
  {
   "cell_type": "code",
   "execution_count": 64,
   "metadata": {},
   "outputs": [
    {
     "data": {
      "text/plain": [
       "(PreTrainedTokenizer(name_or_path='roberta-base', vocab_size=50265, model_max_len=512, is_fast=False, padding_side='right', special_tokens={'bos_token': AddedToken(\"<s>\", rstrip=False, lstrip=False, single_word=False, normalized=True), 'eos_token': AddedToken(\"</s>\", rstrip=False, lstrip=False, single_word=False, normalized=True), 'unk_token': AddedToken(\"<unk>\", rstrip=False, lstrip=False, single_word=False, normalized=True), 'sep_token': AddedToken(\"</s>\", rstrip=False, lstrip=False, single_word=False, normalized=True), 'pad_token': AddedToken(\"<pad>\", rstrip=False, lstrip=False, single_word=False, normalized=True), 'cls_token': AddedToken(\"<s>\", rstrip=False, lstrip=False, single_word=False, normalized=True), 'mask_token': AddedToken(\"<mask>\", rstrip=False, lstrip=True, single_word=False, normalized=True)}),\n",
       " '<mask>',\n",
       " '<s>',\n",
       " '</s>')"
      ]
     },
     "execution_count": 64,
     "metadata": {},
     "output_type": "execute_result"
    }
   ],
   "source": [
    "_tokenizer, _tokenizer.mask_token, _tokenizer.cls_token, _tokenizer.sep_token"
   ]
  },
  {
   "cell_type": "code",
   "execution_count": 60,
   "metadata": {},
   "outputs": [
    {
     "data": {
      "text/plain": [
       "['Ġhair', 'Ġcolor']"
      ]
     },
     "execution_count": 60,
     "metadata": {},
     "output_type": "execute_result"
    }
   ],
   "source": [
    "_tokenizer.tokenize(' hair color')"
   ]
  },
  {
   "cell_type": "code",
   "execution_count": 66,
   "metadata": {},
   "outputs": [
    {
     "data": {
      "text/plain": [
       "[2549, 3195]"
      ]
     },
     "execution_count": 66,
     "metadata": {},
     "output_type": "execute_result"
    }
   ],
   "source": [
    "_tokenizer.convert_tokens_to_ids(['Ġhair', 'Ġcolor'])"
   ]
  },
  {
   "cell_type": "code",
   "execution_count": 67,
   "metadata": {},
   "outputs": [
    {
     "data": {
      "text/plain": [
       "' hair color'"
      ]
     },
     "execution_count": 67,
     "metadata": {},
     "output_type": "execute_result"
    }
   ],
   "source": [
    "_tokenizer.convert_tokens_to_string(['Ġhair', 'Ġcolor'])"
   ]
  },
  {
   "cell_type": "code",
   "execution_count": 65,
   "metadata": {},
   "outputs": [
    {
     "data": {
      "text/plain": [
       "(PreTrainedTokenizer(name_or_path='bert-base-uncased', vocab_size=30522, model_max_len=512, is_fast=False, padding_side='right', special_tokens={'unk_token': '[UNK]', 'sep_token': '[SEP]', 'pad_token': '[PAD]', 'cls_token': '[CLS]', 'mask_token': '[MASK]'}),\n",
       " '[MASK]',\n",
       " '[CLS]',\n",
       " '[SEP]')"
      ]
     },
     "execution_count": 65,
     "metadata": {},
     "output_type": "execute_result"
    }
   ],
   "source": [
    "_t = AutoTokenizer.from_pretrained('bert-base-uncased')\n",
    "_t, _t.mask_token, _t.cls_token, _t.sep_token"
   ]
  },
  {
   "cell_type": "code",
   "execution_count": 68,
   "metadata": {},
   "outputs": [
    {
     "data": {
      "text/plain": [
       "'hair color'"
      ]
     },
     "execution_count": 68,
     "metadata": {},
     "output_type": "execute_result"
    }
   ],
   "source": [
    "_t.convert_tokens_to_string(['hair', 'color'])"
   ]
  },
  {
   "cell_type": "code",
   "execution_count": null,
   "metadata": {},
   "outputs": [],
   "source": []
  },
  {
   "cell_type": "code",
   "execution_count": 78,
   "metadata": {},
   "outputs": [
    {
     "name": "stdout",
     "output_type": "stream",
     "text": [
      "Some weights of RobertaForMaskedLM were not initialized from the model checkpoint at roberta-base and are newly initialized: ['lm_head.decoder.bias']\n",
      "You should probably TRAIN this model on a down-stream task to be able to use it for predictions and inference.\n",
      "100%|███████████████████████████████████████████| 14/14 [00:58<00:00,  4.20s/it]\n"
     ]
    }
   ],
   "source": [
    "# Use scripts \n",
    "!python compute_EE_LM_probe.py \\\n",
    "-d $base_dir/data/$data_ac/intermediate \\\n",
    "-b $base_dir/data/indeed-benchmark \\\n",
    "-lm mlm \\\n",
    "-lm_model roberta-base \\\n",
    "-o $base_dir/data/$data_ac/intermediate/ee_LM_roberta_k=None.csv\n"
   ]
  },
  {
   "cell_type": "code",
   "execution_count": 8,
   "metadata": {},
   "outputs": [
    {
     "name": "stdout",
     "output_type": "stream",
     "text": [
      "100%|███████████████████████████████████████████| 14/14 [00:54<00:00,  3.88s/it]\n"
     ]
    }
   ],
   "source": [
    "!python compute_EE_LM_probe.py \\\n",
    "-d $base_dir/data/$data_ac/intermediate \\\n",
    "-b $base_dir/data/indeed-benchmark \\\n",
    "-lm bert \\\n",
    "-lm_model /home/ubuntu/users/nikita/models/bert_finetuned_lm/indeed_reviews_ques_ans \\\n",
    "-agg avg \\\n",
    "-o $base_dir/data/$data_ac/intermediate/ee_LM_bert_DA_avg_k=None.csv\n"
   ]
  },
  {
   "cell_type": "code",
   "execution_count": 57,
   "metadata": {},
   "outputs": [
    {
     "name": "stdout",
     "output_type": "stream",
     "text": [
      "Some weights of the model checkpoint at bert-base-uncased were not used when initializing BertForMaskedLM: ['cls.seq_relationship.weight', 'cls.seq_relationship.bias']\n",
      "- This IS expected if you are initializing BertForMaskedLM from the checkpoint of a model trained on another task or with another architecture (e.g. initializing a BertForSequenceClassification model from a BertForPretraining model).\n",
      "- This IS NOT expected if you are initializing BertForMaskedLM from the checkpoint of a model that you expect to be exactly identical (initializing a BertForSequenceClassification model from a BertForSequenceClassification model).\n",
      "100%|███████████████████████████████████████████| 28/28 [01:44<00:00,  3.72s/it]\n"
     ]
    }
   ],
   "source": [
    "!python compute_EE_LM_probe.py \\\n",
    "-d $base_dir/data/$data_ac/intermediate \\\n",
    "-b $base_dir/data/indeed-benchmark \\\n",
    "-lm bert \\\n",
    "-aux_cc \\\n",
    "-o $base_dir/data/$data_ac/intermediate/ee_LM_bert-aux-k=None.csv\n"
   ]
  },
  {
   "cell_type": "code",
   "execution_count": 271,
   "metadata": {},
   "outputs": [
    {
     "name": "stdout",
     "output_type": "stream",
     "text": [
      "Some weights of the model checkpoint at bert-base-uncased were not used when initializing BertForMaskedLM: ['cls.seq_relationship.weight', 'cls.seq_relationship.bias']\n",
      "- This IS expected if you are initializing BertForMaskedLM from the checkpoint of a model trained on another task or with another architecture (e.g. initializing a BertForSequenceClassification model from a BertForPretraining model).\n",
      "- This IS NOT expected if you are initializing BertForMaskedLM from the checkpoint of a model that you expect to be exactly identical (initializing a BertForSequenceClassification model from a BertForSequenceClassification model).\n",
      "100%|███████████████████████████████████████████| 14/14 [00:53<00:00,  3.82s/it]\n"
     ]
    }
   ],
   "source": [
    "!python compute_EE_LM_probe.py \\\n",
    "-d $base_dir/data/$data_ac/intermediate \\\n",
    "-b $base_dir/data/indeed-benchmark \\\n",
    "-lm bert \\\n",
    "-o $base_dir/data/$data_ac/intermediate/ee_LM_bert_k=None.csv\n"
   ]
  },
  {
   "cell_type": "code",
   "execution_count": null,
   "metadata": {},
   "outputs": [],
   "source": []
  },
  {
   "cell_type": "markdown",
   "metadata": {},
   "source": [
    "## Class name prediction"
   ]
  },
  {
   "cell_type": "code",
   "execution_count": 6,
   "metadata": {},
   "outputs": [
    {
     "name": "stderr",
     "output_type": "stream",
     "text": [
      "Some weights of the model checkpoint at bert-base-uncased were not used when initializing BertForMaskedLM: ['cls.seq_relationship.weight', 'cls.seq_relationship.bias']\n",
      "- This IS expected if you are initializing BertForMaskedLM from the checkpoint of a model trained on another task or with another architecture (e.g. initializing a BertForSequenceClassification model from a BertForPretraining model).\n",
      "- This IS NOT expected if you are initializing BertForMaskedLM from the checkpoint of a model that you expect to be exactly identical (initializing a BertForSequenceClassification model from a BertForSequenceClassification model).\n"
     ]
    }
   ],
   "source": [
    "lm_probe = LMProbe()"
   ]
  },
  {
   "cell_type": "code",
   "execution_count": 26,
   "metadata": {},
   "outputs": [
    {
     "data": {
      "text/plain": [
       "[{'cand': 'qualifications', 'score': 0.010107847861945629},\n",
       " {'cand': 'benefits', 'score': 1.0626394214341422e-05},\n",
       " {'cand': 'roles', 'score': 1.079390585800865e-06},\n",
       " {'cand': 'checks', 'score': 5.771184419245406e-07},\n",
       " {'cand': 'persons', 'score': 3.987514958225805e-07},\n",
       " {'cand': 'departments', 'score': 2.8143759323029387e-07},\n",
       " {'cand': 'schedules', 'score': 2.6243087702937383e-08},\n",
       " {'cand': 'dresses', 'score': 1.1577242275961901e-08}]"
      ]
     },
     "execution_count": 26,
     "metadata": {},
     "output_type": "execute_result"
    }
   ],
   "source": [
    "_input_txt = '[MASK] such as bachelor degree is required to work at Walmart.'\n",
    "lm_probe.score_candidates(_input_txt, ['benefits', 'roles', 'persons', 'schedules', 'dresses', 'departments', 'checks', 'qualifications'])"
   ]
  },
  {
   "cell_type": "code",
   "execution_count": 28,
   "metadata": {},
   "outputs": [
    {
     "data": {
      "text/plain": [
       "[{'cand': 'qualifications', 'score': 0.014812425710260875},\n",
       " {'cand': 'benefits', 'score': 9.158307875622997e-06},\n",
       " {'cand': 'persons', 'score': 9.146327784037573e-07},\n",
       " {'cand': 'roles', 'score': 6.875428653074773e-07},\n",
       " {'cand': 'checks', 'score': 2.984555749208085e-07},\n",
       " {'cand': 'departments', 'score': 1.602442836201591e-07},\n",
       " {'cand': 'dresses', 'score': 8.730975054049843e-09},\n",
       " {'cand': 'schedules', 'score': 7.1630932296784555e-09}]"
      ]
     },
     "execution_count": 28,
     "metadata": {},
     "output_type": "execute_result"
    }
   ],
   "source": [
    "_input_txt = '[MASK] such as bachelor degree is required to work at the company.'\n",
    "lm_probe.score_candidates(_input_txt, ['benefits', 'roles', 'persons', 'schedules', 'dresses', 'departments', 'checks', 'qualifications'])"
   ]
  },
  {
   "cell_type": "code",
   "execution_count": 25,
   "metadata": {},
   "outputs": [
    {
     "data": {
      "text/plain": [
       "[{'cand': 'qualifications', 'score': 0.06600436568260193},\n",
       " {'cand': 'benefits', 'score': 0.0003170075651723892},\n",
       " {'cand': 'departments', 'score': 0.00019293477816972865},\n",
       " {'cand': 'roles', 'score': 0.00011820000509032974},\n",
       " {'cand': 'persons', 'score': 9.001246326079126e-06},\n",
       " {'cand': 'checks', 'score': 8.256243745563545e-06},\n",
       " {'cand': 'schedules', 'score': 3.3704397992551064e-06},\n",
       " {'cand': 'dresses', 'score': 8.162938911482339e-07}]"
      ]
     },
     "execution_count": 25,
     "metadata": {},
     "output_type": "execute_result"
    }
   ],
   "source": [
    "_input_txt = 'They have [MASK] such as bachelor degree.'\n",
    "lm_probe.score_candidates(_input_txt, ['benefits', 'roles', 'persons', 'schedules', 'dresses', 'departments', 'checks', 'qualifications'])"
   ]
  },
  {
   "cell_type": "code",
   "execution_count": 27,
   "metadata": {},
   "outputs": [
    {
     "data": {
      "text/plain": [
       "(8064, ['multiple times', 'upper', 'management'])"
      ]
     },
     "execution_count": 27,
     "metadata": {},
     "output_type": "execute_result"
    }
   ],
   "source": [
    "emb_num_path = os.path.join(base_dir, f'data/{data_ac}/intermediate/BERTembednum+seeds.txt')\n",
    "with open(emb_num_path, 'r') as f:\n",
    "    all_entities = [l.rsplit(' ', 1)[0] for l in f]\n",
    "len(all_entities), all_entities[:3]"
   ]
  },
  {
   "cell_type": "code",
   "execution_count": 30,
   "metadata": {},
   "outputs": [
    {
     "data": {
      "application/vnd.jupyter.widget-view+json": {
       "model_id": "e2618ef0796e46d7948041c5ca11c237",
       "version_major": 2,
       "version_minor": 0
      },
      "text/plain": [
       "HBox(children=(FloatProgress(value=0.0, max=8064.0), HTML(value='')))"
      ]
     },
     "metadata": {},
     "output_type": "display_data"
    },
    {
     "name": "stdout",
     "output_type": "stream",
     "text": [
      "\n"
     ]
    }
   ],
   "source": [
    "# cn_scores_dict = dict()  # Dict[cn, Dict[e, score]]\n",
    "cn_scores_dict_qual = dict()\n",
    "\n",
    "for _e in tqdm(all_entities):\n",
    "    _input_txt = f'[MASK] such as {_e} is required to work at the company.'\n",
    "    _d = lm_probe.score_candidates(_input_txt, ['qualifications'])\n",
    "    cn_scores_dict_qual[_e] = _d[0]['score']"
   ]
  },
  {
   "cell_type": "code",
   "execution_count": 31,
   "metadata": {
    "scrolled": true
   },
   "outputs": [
    {
     "data": {
      "text/plain": [
       "[('national background', 0.18993115425109863),\n",
       " ('excellent service', 0.17657598853111267),\n",
       " ('excellent training', 0.14337441325187683),\n",
       " ('election', 0.13679932057857513),\n",
       " ('civil service examination', 0.13190346956253055),\n",
       " ('latitude', 0.117889866232872),\n",
       " ('grade point average', 0.11734356731176378),\n",
       " ('473 exam', 0.11213560402393344),\n",
       " ('higher position', 0.11185302585363385),\n",
       " ('skill level', 0.10884014517068863),\n",
       " ('citizenship', 0.10140147805213928),\n",
       " ('advancement opportunity', 0.09752645343542099),\n",
       " ('career opportunity', 0.09613030403852464),\n",
       " ('great place', 0.09332876652479172),\n",
       " ('entry level', 0.09109833091497423),\n",
       " ('great opportunity', 0.08629722893238066),\n",
       " ('teaching experience', 0.08455906808376311),\n",
       " ('drivers license', 0.0844525247812271),\n",
       " ('excellent customer', 0.07997493445873259),\n",
       " ('perfect attendance', 0.07865294814109802),\n",
       " ('pay grade', 0.07696734368801117),\n",
       " ('pse position', 0.0760236829519272),\n",
       " ('highschool diploma', 0.07536540925502776),\n",
       " ('diploma', 0.07507280260324477),\n",
       " ('high school diploma', 0.07400100678205489),\n",
       " ('good standings', 0.07332821190357208),\n",
       " ('managers discretion', 0.07293488085269928),\n",
       " ('driver license', 0.07279372960329057),\n",
       " ('degree', 0.0696198120713234),\n",
       " ('high turn over', 0.06801415234804152),\n",
       " ('inclination', 0.0674176439642906),\n",
       " ('hs diploma', 0.06688763946294786),\n",
       " ('main focus', 0.06600431352853775),\n",
       " ('highly recommend', 0.06525976955890656),\n",
       " ('career path', 0.06435005366802217),\n",
       " ('ph', 0.06399897485971452),\n",
       " ('job title', 0.06349819153547287),\n",
       " ('skill set', 0.06346611678600313),\n",
       " ('test status', 0.062011212110519416),\n",
       " ('basic knowledge', 0.061216793954372406),\n",
       " ('require drug testing', 0.060669101774692535),\n",
       " ('constitution', 0.05975136905908584),\n",
       " ('academic', 0.05952610820531845),\n",
       " ('competitive pay', 0.05929696187376975),\n",
       " ('legal age', 0.05846517905592918),\n",
       " ('social status', 0.0580885335803032),\n",
       " ('gain experience', 0.0568312332034111),\n",
       " ('credit rating', 0.05572803691029547),\n",
       " (\"driver 's license\", 0.05565151944756508),\n",
       " ('first advantage', 0.05463823676109313),\n",
       " ('charter', 0.05447678640484809),\n",
       " ('prior experience', 0.05433794483542442),\n",
       " ('knowledge', 0.05327026918530464),\n",
       " ('driving record', 0.05317889899015426),\n",
       " ('bare minimum', 0.05310521274805068),\n",
       " ('secondary education', 0.05294932425022125),\n",
       " ('exceptional customer service', 0.05274960026144981),\n",
       " ('pilot', 0.05211394652724267),\n",
       " ('minimum age', 0.05208748206496239),\n",
       " ('education', 0.051332868635654456),\n",
       " ('highest paid', 0.05129551887512207),\n",
       " ('initial interview', 0.05128328874707221),\n",
       " ('excellent customer service', 0.049366328865289695),\n",
       " ('meritocracy', 0.04863769933581352),\n",
       " ('higher education', 0.048277437686920166),\n",
       " ('base level', 0.04702895879745484),\n",
       " ('food handlers card', 0.047008544206619256),\n",
       " ('great commission', 0.04681324586272239),\n",
       " ('enterprise rent a car', 0.0461384579539299),\n",
       " ('frequency', 0.046073310077190406),\n",
       " ('non career', 0.0455450415611267),\n",
       " ('great working environment', 0.04538623616099357),\n",
       " ('country', 0.045023821294307716),\n",
       " ('valid license', 0.04455062374472619),\n",
       " ('legal working age', 0.04407989233732223),\n",
       " ('bsc', 0.043301697820425034),\n",
       " ('higher level', 0.043088141828775406),\n",
       " ('equal opportunity', 0.04300498217344285),\n",
       " ('registered nurse', 0.0428810603916645),\n",
       " ('employment', 0.04243453592061996),\n",
       " ('liquor license', 0.04240747168660164),\n",
       " ('permanent position', 0.04238251224160195),\n",
       " ('french quarter', 0.042186260223388665),\n",
       " ('a level', 0.04172641783952714),\n",
       " ('sat', 0.041142795234918594),\n",
       " ('extensive training', 0.04061353951692582),\n",
       " ('proper training', 0.04051414132118225),\n",
       " ('hiring packet', 0.03991136699914932),\n",
       " ('great customer service', 0.03967151045799256),\n",
       " ('driving test', 0.039657227694988244),\n",
       " ('meritocratic', 0.039619464427232735),\n",
       " ('ma', 0.03957046940922737),\n",
       " ('regular associate', 0.03907345607876777),\n",
       " ('current position', 0.03898751363158227),\n",
       " ('yearly review', 0.037705745548009865),\n",
       " ('formal interview', 0.0376182496547699),\n",
       " ('excellent benefits', 0.03737684339284896),\n",
       " ('training', 0.03726719319820404),\n",
       " ('cca position', 0.03706249594688415),\n",
       " ('dress professional', 0.037038281559944146)]"
      ]
     },
     "execution_count": 31,
     "metadata": {},
     "output_type": "execute_result"
    }
   ],
   "source": [
    "_l = sorted(cn_scores_dict_qual.items(), key=lambda p: p[1], reverse=True)\n",
    "_l[:100]"
   ]
  },
  {
   "cell_type": "code",
   "execution_count": null,
   "metadata": {},
   "outputs": [],
   "source": []
  },
  {
   "cell_type": "code",
   "execution_count": null,
   "metadata": {},
   "outputs": [],
   "source": []
  },
  {
   "cell_type": "markdown",
   "metadata": {},
   "source": [
    "## Postproc contrastive EE"
   ]
  },
  {
   "cell_type": "code",
   "execution_count": 91,
   "metadata": {},
   "outputs": [],
   "source": [
    "def postproc_contrastive_EE(ee_in_path, ee_contr_out_path, score_col, seed_concepts_path,\n",
    "                            seed_score=0.0, keep_all_entities=False):\n",
    "    \n",
    "    # score_col: column name of score to use for ranking \n",
    "    # seed_score: default score for seeds, since their scores are not computed in EE methods\n",
    "    # keep_all_entities: if False, only assign entities to best concepts (contr);\n",
    "    #   if True, keep all entities for each concept (acontr)\n",
    "    \n",
    "    seed_concepts_df = load_seed_aligned_concepts(seed_concepts_path)\n",
    "    seed_instances_dict = dict(zip(\n",
    "        seed_concepts_df['alignedCategoryName'].tolist(),\n",
    "        seed_concepts_df['seedInstances'].tolist()\n",
    "    ))\n",
    "    all_seed_instances = set([_e for _seeds in seed_instances_dict.values() for _e in _seeds])\n",
    "    print(sorted(list(all_seed_instances)))\n",
    "    ee_in_df = pd.read_csv(ee_in_path)\n",
    "    \n",
    "    cc_list = list(set(ee_in_df['concept'].tolist()))\n",
    "    all_ent_list = list(set(ee_in_df['neighbor'].tolist()))\n",
    "    \n",
    "    cc_scores_dict = dict()\n",
    "    for cc in cc_list:\n",
    "        cc_df = ee_in_df[ee_in_df['concept'] == cc]\n",
    "        cc_scores_dict[cc] = dict(zip(\n",
    "            cc_df['neighbor'].tolist(),\n",
    "            cc_df[score_col].tolist()\n",
    "        ))\n",
    "    \n",
    "    cands_for_concepts = [[] for _ in range(len(cc_list))]\n",
    "    for _e in all_ent_list:\n",
    "#         if _e in all_seed_instances:\n",
    "#             continue\n",
    "        _scores = [cc_scores_dict[cc].get(_e, seed_score) for cc in cc_list]\n",
    "        _cc_ranking = np.argsort(_scores).tolist()[::-1]\n",
    "        _max_cc_id = _cc_ranking[0]\n",
    "        _second_cc_id = _cc_ranking[1]\n",
    "#         _score = _scores[_max_cc_id]\n",
    "#         _2nd_score = _scores[_second_cc_id]\n",
    "#         _margin = _score - _2nd_score\n",
    "        \n",
    "        for cc_id, cc in enumerate(cc_list):\n",
    "            if _e in seed_instances_dict[cc]:\n",
    "                continue\n",
    "            if not keep_all_entities and cc_id != _max_cc_id:\n",
    "                continue\n",
    "            obest_cc_id = _second_cc_id if cc_id == _max_cc_id else _max_cc_id\n",
    "            _score = _scores[cc_id]\n",
    "            _obest_score = _scores[obest_cc_id]\n",
    "            _margin = _score - _obest_score\n",
    "            cands_for_concepts[cc_id].append({\n",
    "                'concept': cc,\n",
    "                'obest_concept': cc_list[obest_cc_id],\n",
    "                'neighbor': _e,\n",
    "                score_col: _score,\n",
    "                f'obest_{score_col}': _obest_score,\n",
    "                'margin': _margin,\n",
    "                f'{score_col}+margin': _score + _margin\n",
    "            })\n",
    "\n",
    "    out_records = []\n",
    "    for cc_id, cands in enumerate(cands_for_concepts):\n",
    "        cands_sorted = sorted(cands, key=lambda d: d[f'{score_col}+margin'], reverse=True)\n",
    "        out_records.extend(cands_sorted)\n",
    "    \n",
    "    pd.DataFrame(out_records).to_csv(ee_contr_out_path, index=None)\n",
    "    "
   ]
  },
  {
   "cell_type": "code",
   "execution_count": 95,
   "metadata": {},
   "outputs": [
    {
     "name": "stdout",
     "output_type": "stream",
     "text": [
      "['10 min break', '15 minute break', '30 minute breaks', '401k', '7 days', '8 hour shift', 'air conditioner', 'amazon', 'ankle', 'apple pay', 'area', 'arms', 'asset protection', 'bachelors degree', 'bakery', 'barista', 'base pay', 'baseball', 'basketball', 'biweekly', 'bonus', 'book', 'business', 'business casual', 'call center', 'cash register', 'cashier', 'checks', 'christmas eve', 'co worker', 'company', 'corporation', 'country', 'criminal background check', 'criminals', 'dc', 'delivery driver', 'dinner shift', 'direct deposit', 'disabled', 'dishwasher', 'dress code', 'dress codes', 'drug addicts', 'drug test', 'early morning', 'early morning shift', 'employment verification', 'facial hair', 'family member', 'fast food', 'felons', 'flexible schedule', 'friday', 'front desk', 'full time', 'general store', 'golf', 'google drive', 'government', 'hair color', 'health insurance', 'heavy lifting', 'high schoolers', 'hiring age', 'hoilday', 'human resources', 'india', 'internet', 'introduction', 'itunes', 'kitchen sink', 'knee', 'laptops', 'lunch break', 'management', 'master', 'microphones', 'microsoft', 'microsoft word', 'misdemeanor', 'night shift', 'orientation', 'overtime pay', 'package handler', 'paid vacation', 'part time', 'pharmacy', 'piercings', 'postal service', 'pregnant', 'prepaid card', 'prior experience', 'refrigerator', 'regular employee', 'restaurant', 'retail', 'sales associate', 'samsung galaxy', 'saturday', 'seasonal', 'seniors', 'shoes', 'sick leave', 'single', 'skin', 'smartphones', 'sport', 'state', 'stock options', 'stomach', 'store manager', 'student', 'students', 'subway', 'sunday', 'target', 'tattoos', 'team lunch', 'team member', 'tech support', 'tongue', 'training', 'uniform', 'usa', 'veteran', 'vision insurance', 'walmart', 'warehouse', 'weekend', 'weekly', 'wireless', 'working permit', 'workstation', 'yoga']\n"
     ]
    }
   ],
   "source": [
    "ee_in_path = os.path.join(base_dir, f'data/{data_ac}/intermediate/ee_LM_roberta_k=None.csv')\n",
    "ee_contr_out_path = os.path.join(base_dir, f'data/{data_ac}/intermediate/ee_LM_roberta_contr_k=None.csv')\n",
    "# ee_in_path = os.path.join(base_dir, f'data/{data_ac}/intermediate/ee_concept_knn_k=None.csv')\n",
    "# ee_contr_out_path = os.path.join(base_dir, f'data/{data_ac}/intermediate/ee_concept_contr_knn_k=None.csv')\n",
    "# ee_in_path = os.path.join(base_dir, f'data/{data_ac}/intermediate/ee_LM_bert_k=None.csv')\n",
    "# ee_contr_out_path = os.path.join(base_dir, f'data/{data_ac}/intermediate/ee_LM_bert_acontr_k=None.csv')\n",
    "# seed_concepts_aux_path = os.path.join(base_dir, f'data/indeed-benchmark/seed_aligned_concepts_aux.csv')\n",
    "\n",
    "postproc_contrastive_EE(ee_in_path=ee_in_path,\n",
    "                        ee_contr_out_path=ee_contr_out_path,\n",
    "                        score_col='lm_score',\n",
    "                        seed_concepts_path=seed_aux_concepts_path,\n",
    "                        keep_all_entities=False)"
   ]
  },
  {
   "cell_type": "code",
   "execution_count": null,
   "metadata": {},
   "outputs": [],
   "source": []
  },
  {
   "cell_type": "markdown",
   "metadata": {},
   "source": [
    "## Iterative EE"
   ]
  },
  {
   "cell_type": "code",
   "execution_count": null,
   "metadata": {},
   "outputs": [],
   "source": [
    "class IterativeEntityExpander:\n",
    "    def __init__(self,\n",
    "                 step_K,\n",
    "                 total_steps,\n",
    "                 out_dir,\n",
    "                 bert_emb_path,\n",
    "                 bert_emb_dim,\n",
    "                 benchmark_dir,\n",
    "                 entity_emb_dict=None):\n",
    "        \n",
    "        self.step_K = step_K\n",
    "        self.total_steps = total_steps\n",
    "        self.out_dir = out_dir\n",
    "        self.bert_emb_path = bert_emb_path\n",
    "        self.bert_emb_dim = bert_emb_dim\n",
    "        \n",
    "        if entity_emb_dict is None:\n",
    "            _entity_embeddings = load_embeddings(bert_emb_path, bert_emb_dim)\n",
    "            entity_emb_dict = dict(zip(_entity_embeddings['entity'].tolist(),\n",
    "                                       _entity_embeddings['embedding'].tolist()))\n",
    "        self.entity_emb_dict = entity_emb_dict\n",
    "        \n",
    "        self.benchmark_dir = benchmark_dir\n",
    "        _seed_concepts_path = os.path.join(benchmark_dir, 'seed_aligned_concepts.csv')\n",
    "        _concepts_df = load_seed_aligned_concepts(_seed_concepts_path)\n",
    "        self.init_seeds_dict = dict(zip(_concepts_df['alignedCategoryName'].tolist(),\n",
    "                                        _concepts_df['seedInstances'].tolist()))\n",
    "        self.seeds_dict = dict(self.init_seeds_dict)\n",
    "    \n",
    "    def expand(self, start_step=0, end_step=None):\n",
    "        if end_step is None:\n",
    "            end_step = self.total_steps\n",
    "        for step_id in tqdm(range(start_step, end_step)):\n",
    "            self.expand_step(step_id)\n",
    "            \n",
    "    def expand_step(self, step_id):\n",
    "        raise NotImplementedError\n",
    "\n",
    "        "
   ]
  },
  {
   "cell_type": "code",
   "execution_count": 88,
   "metadata": {},
   "outputs": [],
   "source": [
    "class IterativeEE_Emb_Contrastive(IterativeEntityExpander):        \n",
    "    def expand_step(self, step_id):\n",
    "        entities, embeddings = zip(*self.entity_emb_dict.items())\n",
    "        \n",
    "        neighbors = []\n",
    "        \n",
    "        concept_emb_dict = dict()\n",
    "        for a_concept, seed_instances in self.seeds_dict.items():\n",
    "            embs = []\n",
    "            for inst in seed_instances:\n",
    "                try:\n",
    "                    embs.append(self.entity_emb_dict[inst])\n",
    "                except KeyError:\n",
    "                    print(f\"{inst} not found in entity_emb_dict??\")\n",
    "                    continue\n",
    "            if len(embs) == 0:\n",
    "                continue\n",
    "            concept_emb = np.mean(embs, axis=0)\n",
    "            concept_emb_dict[a_concept] = concept_emb\n",
    "\n",
    "        concepts = list(concept_emb_dict.keys())\n",
    "        concept_embs = list(concept_emb_dict.values())\n",
    "\n",
    "        # (n_concepts, n_entities)\n",
    "        cos_matrix = cosine_similarity(concept_embs, embeddings)\n",
    "\n",
    "        cands_for_concepts = [[] for _ in range(len(concepts))]\n",
    "        for e_id, e in enumerate(entities):\n",
    "            _scores = cos_matrix[:, e_id]\n",
    "            _cc_ranking = np.argsort(-_scores)\n",
    "            _max_cc_id = _cc_ranking[0]\n",
    "            _second_cc_id = _cc_ranking[1]\n",
    "            _score = _scores[_max_cc_id]\n",
    "            _2nd_score = _scores[_second_cc_id]\n",
    "            _margin = _score - _2nd_score\n",
    "            \n",
    "            if e in self.seeds_dict[concepts[_max_cc_id]]:\n",
    "                continue\n",
    "            \n",
    "            cands_for_concepts[_max_cc_id].append({\n",
    "                'concept': concepts[_max_cc_id],\n",
    "                '2nd_concept': concepts[_second_cc_id],\n",
    "                'neighbor': e,\n",
    "                'sim': _score,\n",
    "                '2nd_sim': _2nd_score,\n",
    "                'margin': _margin,\n",
    "                'sim+margin': _score + _margin\n",
    "            })\n",
    "\n",
    "        for cc_id, cands in enumerate(cands_for_concepts):\n",
    "            cands_sorted = sorted(cands, key=lambda d: d['sim+margin'], reverse=True)\n",
    "            neighbors.extend(cands_sorted)\n",
    "            \n",
    "            _cc = concepts[cc_id]\n",
    "            _orig_seeds = self.seeds_dict[_cc]\n",
    "            # _ranked_cands = [d['neighbor'] for d in cands_sorted if d['neighbor'] not in _orig_seeds]\n",
    "            _ranked_cands = [d['neighbor'] for d in cands_sorted]\n",
    "            _add_seeds = _ranked_cands[:self.step_K]\n",
    "            _new_seeds = list(set(_orig_seeds + _add_seeds))\n",
    "            self.seeds_dict[_cc] = _new_seeds\n",
    "    \n",
    "        _rankings_dest = os.path.join(self.out_dir, f'rankings-step={step_id}.csv')\n",
    "        c_df = pd.DataFrame(neighbors)\n",
    "        c_df.to_csv(_rankings_dest, index=None)\n",
    "        \n",
    "        _EE_dest = os.path.join(self.out_dir, f'expanded-step={step_id}.csv')\n",
    "        e_list = []\n",
    "        for _cc, _e_list in self.seeds_dict.items():\n",
    "            for _e in _e_list:\n",
    "                e_list.append((_cc, _e))\n",
    "        e_df = pd.DataFrame(e_list, columns=['concept', 'neighbor'])\n",
    "        e_df.to_csv(_EE_dest, index=None)\n",
    "    \n",
    "    "
   ]
  },
  {
   "cell_type": "code",
   "execution_count": 93,
   "metadata": {},
   "outputs": [],
   "source": [
    "class IterativeEE_Emb(IterativeEntityExpander):        \n",
    "    def expand_step(self, step_id):\n",
    "        entities, embeddings = zip(*self.entity_emb_dict.items())\n",
    "        \n",
    "        neighbors = []\n",
    "        \n",
    "        concept_emb_dict = dict()\n",
    "        for a_concept, seed_instances in self.seeds_dict.items():\n",
    "            embs = []\n",
    "            for inst in seed_instances:\n",
    "                try:\n",
    "                    embs.append(self.entity_emb_dict[inst])\n",
    "                except KeyError:\n",
    "                    print(f\"{inst} not found in entity_emb_dict??\")\n",
    "                    continue\n",
    "            if len(embs) == 0:\n",
    "                continue\n",
    "            concept_emb = np.mean(embs, axis=0)\n",
    "            concept_emb_dict[a_concept] = concept_emb\n",
    "\n",
    "        concepts = list(concept_emb_dict.keys())\n",
    "        concept_embs = list(concept_emb_dict.values())\n",
    "\n",
    "        # (n_concepts, n_entities)\n",
    "        cos_matrix = cosine_similarity(concept_embs, embeddings)\n",
    "\n",
    "        cands_for_concepts = [[] for _ in range(len(concepts))]\n",
    "        for e_id, e in enumerate(entities):\n",
    "            _scores = cos_matrix[:, e_id]\n",
    "            _max_cc_id = np.argmax(_scores)\n",
    "            _score = _scores[_max_cc_id]\n",
    "            \n",
    "            if e in self.seeds_dict[concepts[_max_cc_id]]:\n",
    "                continue\n",
    "            \n",
    "            cands_for_concepts[_max_cc_id].append({\n",
    "                'concept': concepts[_max_cc_id],\n",
    "                'neighbor': e,\n",
    "                'sim': _score\n",
    "            })\n",
    "\n",
    "        for cc_id, cands in enumerate(cands_for_concepts):\n",
    "            cands_sorted = sorted(cands, key=lambda d: d['sim'], reverse=True)\n",
    "            neighbors.extend(cands_sorted)\n",
    "            \n",
    "            _cc = concepts[cc_id]\n",
    "            _orig_seeds = self.seeds_dict[_cc]\n",
    "            # _ranked_cands = [d['neighbor'] for d in cands_sorted if d['neighbor'] not in _orig_seeds]\n",
    "            _ranked_cands = [d['neighbor'] for d in cands_sorted]\n",
    "            _add_seeds = _ranked_cands[:self.step_K]\n",
    "            _new_seeds = list(set(_orig_seeds + _add_seeds))\n",
    "            self.seeds_dict[_cc] = _new_seeds\n",
    "    \n",
    "        _rankings_dest = os.path.join(self.out_dir, f'rankings-step={step_id}.csv')\n",
    "        c_df = pd.DataFrame(neighbors)\n",
    "        c_df.to_csv(_rankings_dest, index=None)\n",
    "        \n",
    "        _EE_dest = os.path.join(self.out_dir, f'expanded-step={step_id}.csv')\n",
    "        e_list = []\n",
    "        for _cc, _e_list in self.seeds_dict.items():\n",
    "            for _e in _e_list:\n",
    "                e_list.append((_cc, _e))\n",
    "        e_df = pd.DataFrame(e_list, columns=['concept', 'neighbor'])\n",
    "        e_df.to_csv(_EE_dest, index=None)\n",
    "    \n",
    "    "
   ]
  },
  {
   "cell_type": "code",
   "execution_count": 86,
   "metadata": {},
   "outputs": [],
   "source": [
    "bert_emb_path = os.path.join(base_dir, f'data/{data_ac}/intermediate/BERTembed+seeds.txt')\n",
    "bert_emb_dim = 768\n",
    "benchmark_dir = os.path.join(base_dir, f'data/indeed-benchmark')\n"
   ]
  },
  {
   "cell_type": "code",
   "execution_count": 87,
   "metadata": {},
   "outputs": [
    {
     "data": {
      "text/plain": [
       "8064"
      ]
     },
     "execution_count": 87,
     "metadata": {},
     "output_type": "execute_result"
    }
   ],
   "source": [
    "_entity_embeddings = load_embeddings(bert_emb_path, bert_emb_dim)\n",
    "entity_emb_dict = dict(zip(_entity_embeddings['entity'].tolist(),\n",
    "                           _entity_embeddings['embedding'].tolist()))\n",
    "len(entity_emb_dict)"
   ]
  },
  {
   "cell_type": "code",
   "execution_count": 94,
   "metadata": {},
   "outputs": [],
   "source": [
    "emb_contr_out_dir = os.path.join(base_dir, f'data/{data_ac}/intermediate/EE_emb_contr-K=3')\n",
    "os.makedirs(emb_contr_out_dir, exist_ok=True)"
   ]
  },
  {
   "cell_type": "code",
   "execution_count": 34,
   "metadata": {},
   "outputs": [],
   "source": [
    "emb_contr_expander = IterativeEE_Emb_Contrastive(\n",
    "    step_K=3,\n",
    "    total_steps=20,\n",
    "    out_dir=emb_contr_out_dir,\n",
    "    bert_emb_path=bert_emb_path,\n",
    "    bert_emb_dim=bert_emb_dim,\n",
    "    benchmark_dir=benchmark_dir\n",
    ")"
   ]
  },
  {
   "cell_type": "code",
   "execution_count": 35,
   "metadata": {
    "scrolled": true
   },
   "outputs": [
    {
     "data": {
      "application/vnd.jupyter.widget-view+json": {
       "model_id": "d4065e4398924edfa1bdffedec4c8f02",
       "version_major": 2,
       "version_minor": 0
      },
      "text/plain": [
       "HBox(children=(FloatProgress(value=0.0, max=20.0), HTML(value='')))"
      ]
     },
     "metadata": {},
     "output_type": "display_data"
    },
    {
     "name": "stdout",
     "output_type": "stream",
     "text": [
      "\n"
     ]
    }
   ],
   "source": [
    "emb_contr_expander.expand()"
   ]
  },
  {
   "cell_type": "code",
   "execution_count": 95,
   "metadata": {},
   "outputs": [],
   "source": [
    "emb_out_dir = os.path.join(base_dir, f'data/{data_ac}/intermediate/EE_emb-K=3')\n",
    "os.makedirs(emb_out_dir, exist_ok=True)"
   ]
  },
  {
   "cell_type": "code",
   "execution_count": 98,
   "metadata": {},
   "outputs": [],
   "source": [
    "emb_expander = IterativeEE_Emb(\n",
    "    step_K=3,\n",
    "    total_steps=20,\n",
    "    out_dir=emb_out_dir,\n",
    "    bert_emb_path=bert_emb_path,\n",
    "    bert_emb_dim=bert_emb_dim,\n",
    "    benchmark_dir=benchmark_dir,\n",
    "    entity_emb_dict=entity_emb_dict\n",
    ")"
   ]
  },
  {
   "cell_type": "code",
   "execution_count": 99,
   "metadata": {},
   "outputs": [
    {
     "data": {
      "application/vnd.jupyter.widget-view+json": {
       "model_id": "ff61dac13ee247e89292fa4dbcb73bb5",
       "version_major": 2,
       "version_minor": 0
      },
      "text/plain": [
       "HBox(children=(FloatProgress(value=0.0, max=20.0), HTML(value='')))"
      ]
     },
     "metadata": {},
     "output_type": "display_data"
    },
    {
     "name": "stdout",
     "output_type": "stream",
     "text": [
      "\n"
     ]
    }
   ],
   "source": [
    "emb_expander.expand()"
   ]
  },
  {
   "cell_type": "code",
   "execution_count": null,
   "metadata": {},
   "outputs": [],
   "source": []
  },
  {
   "cell_type": "markdown",
   "metadata": {},
   "source": [
    "## Checking recall"
   ]
  },
  {
   "cell_type": "code",
   "execution_count": 205,
   "metadata": {},
   "outputs": [
    {
     "data": {
      "text/plain": [
       "(112515, 3)"
      ]
     },
     "execution_count": 205,
     "metadata": {},
     "output_type": "execute_result"
    }
   ],
   "source": [
    "ee_path = os.path.join(base_dir, f'data/{data_ac}/intermediate/ee_LM_bert_k=None.csv')\n",
    "ee_df = pd.read_csv(ee_path)\n",
    "ee_df.shape"
   ]
  },
  {
   "cell_type": "code",
   "execution_count": 206,
   "metadata": {},
   "outputs": [
    {
     "data": {
      "text/plain": [
       "8036"
      ]
     },
     "execution_count": 206,
     "metadata": {},
     "output_type": "execute_result"
    }
   ],
   "source": [
    "_cc = 'benefits'\n",
    "_cc_df = ee_df[ee_df['concept'] == _cc]\n",
    "_cc_cands = _cc_df['neighbor'].tolist()\n",
    "len(_cc_cands)"
   ]
  },
  {
   "cell_type": "code",
   "execution_count": null,
   "metadata": {
    "scrolled": true
   },
   "outputs": [],
   "source": [
    "# Some correct: higher pay, pay increase, aids, small raise, etc,\n",
    "\n",
    "_cc_cands[1000:1100]"
   ]
  },
  {
   "cell_type": "code",
   "execution_count": null,
   "metadata": {
    "scrolled": true
   },
   "outputs": [],
   "source": [
    "# Some correct: stipend\n",
    "\n",
    "_cc_cands[3000:3100]"
   ]
  },
  {
   "cell_type": "code",
   "execution_count": 211,
   "metadata": {},
   "outputs": [
    {
     "data": {
      "text/plain": [
       "8037"
      ]
     },
     "execution_count": 211,
     "metadata": {},
     "output_type": "execute_result"
    }
   ],
   "source": [
    "_cc = 'company'\n",
    "_cc_df = ee_df[ee_df['concept'] == _cc]\n",
    "_cc_cands = _cc_df['neighbor'].tolist()\n",
    "len(_cc_cands)"
   ]
  },
  {
   "cell_type": "code",
   "execution_count": null,
   "metadata": {
    "scrolled": true
   },
   "outputs": [],
   "source": [
    "# Some correct: panda express, little rock?, fedex express, blizzard?, macy's, etc.\n",
    "\n",
    "_cc_cands[1000:1100]"
   ]
  },
  {
   "cell_type": "code",
   "execution_count": null,
   "metadata": {
    "scrolled": true
   },
   "outputs": [],
   "source": [
    "# Some correct: disneyland? (many unsure...)\n",
    "\n",
    "_cc_cands[3000:3100]"
   ]
  },
  {
   "cell_type": "code",
   "execution_count": 226,
   "metadata": {},
   "outputs": [
    {
     "data": {
      "text/plain": [
       "(111941, 3)"
      ]
     },
     "execution_count": 226,
     "metadata": {},
     "output_type": "execute_result"
    }
   ],
   "source": [
    "ee_path = os.path.join(base_dir, f'data/{data_ac}/intermediate/ee_concept_knn_k=None.csv')\n",
    "ee_df = pd.read_csv(ee_path)\n",
    "ee_df.shape"
   ]
  },
  {
   "cell_type": "code",
   "execution_count": 227,
   "metadata": {},
   "outputs": [
    {
     "data": {
      "text/plain": [
       "7995"
      ]
     },
     "execution_count": 227,
     "metadata": {},
     "output_type": "execute_result"
    }
   ],
   "source": [
    "_cc = 'benefits'\n",
    "_cc_df = ee_df[ee_df['concept'] == _cc]\n",
    "_cc_cands = _cc_df['neighbor'].tolist()\n",
    "len(_cc_cands)"
   ]
  },
  {
   "cell_type": "code",
   "execution_count": null,
   "metadata": {
    "scrolled": true
   },
   "outputs": [],
   "source": [
    "# Some correct: not found \n",
    "\n",
    "_cc_cands[1000:1100]"
   ]
  },
  {
   "cell_type": "code",
   "execution_count": null,
   "metadata": {
    "scrolled": true
   },
   "outputs": [],
   "source": [
    "# Some correct: not found \n",
    "\n",
    "_cc_cands[3000:3100]"
   ]
  },
  {
   "cell_type": "code",
   "execution_count": 230,
   "metadata": {},
   "outputs": [
    {
     "data": {
      "text/plain": [
       "7996"
      ]
     },
     "execution_count": 230,
     "metadata": {},
     "output_type": "execute_result"
    }
   ],
   "source": [
    "_cc = 'company'\n",
    "_cc_df = ee_df[ee_df['concept'] == _cc]\n",
    "_cc_cands = _cc_df['neighbor'].tolist()\n",
    "len(_cc_cands)"
   ]
  },
  {
   "cell_type": "code",
   "execution_count": null,
   "metadata": {
    "scrolled": true
   },
   "outputs": [],
   "source": [
    "# Some correct: not found \n",
    "\n",
    "_cc_cands[1000:1100]"
   ]
  },
  {
   "cell_type": "code",
   "execution_count": null,
   "metadata": {
    "scrolled": true
   },
   "outputs": [],
   "source": [
    "# Some correct: not found \n",
    "\n",
    "_cc_cands[3000:3100]"
   ]
  },
  {
   "cell_type": "code",
   "execution_count": 257,
   "metadata": {},
   "outputs": [
    {
     "data": {
      "text/plain": [
       "(8064, 7)"
      ]
     },
     "execution_count": 257,
     "metadata": {},
     "output_type": "execute_result"
    }
   ],
   "source": [
    "ee_path = os.path.join(base_dir, f'data/{data_ac}/intermediate/ee_concept_contr_knn_k=None.csv')\n",
    "ee_df = pd.read_csv(ee_path)\n",
    "ee_df.shape"
   ]
  },
  {
   "cell_type": "code",
   "execution_count": 265,
   "metadata": {},
   "outputs": [
    {
     "data": {
      "text/plain": [
       "7580"
      ]
     },
     "execution_count": 265,
     "metadata": {},
     "output_type": "execute_result"
    }
   ],
   "source": [
    "_cc = 'dress_code'\n",
    "_cc_df = ee_df[(ee_df['concept'] != _cc) & (ee_df['2nd_concept'] != _cc)]\n",
    "_cc_cands = _cc_df['neighbor'].tolist()\n",
    "len(_cc_cands)"
   ]
  },
  {
   "cell_type": "code",
   "execution_count": null,
   "metadata": {
    "scrolled": true
   },
   "outputs": [],
   "source": [
    "# correct: not found \n",
    "random.sample(_cc_cands, k=100)"
   ]
  },
  {
   "cell_type": "code",
   "execution_count": null,
   "metadata": {},
   "outputs": [],
   "source": []
  },
  {
   "cell_type": "markdown",
   "metadata": {},
   "source": [
    "## Different methods overlapping"
   ]
  },
  {
   "cell_type": "code",
   "execution_count": null,
   "metadata": {},
   "outputs": [],
   "source": [
    "ee_emb_path = os.path.join(base_dir, f'data/{data_ac}/intermediate/ee_concept_knn_k=None.csv')\n",
    "ee_contr_emb_path = os.path.join(base_dir, f'data/{data_ac}/intermediate/ee_concept_contr_knn_k=None.csv')\n",
    "ee_emb_aux_path = os.path.join(base_dir, f'data/{data_ac}/intermediate/ee_concept_acontr_knn-aux-k=None.csv')\n",
    "ee_LM_path = os.path.join(base_dir, f'data/{data_ac}/intermediate/ee_LM_bert_k=None.csv')\n",
    "ee_LM_contr_path = os.path.join(base_dir, f'data/{data_ac}/intermediate/ee_LM_bert_contr_k=None.csv')\n",
    "ee_LM_aux_path = os.path.join(base_dir, f'data/{data_ac}/intermediate/ee_LM_bert_acontr-aux-k=None.csv')\n",
    "\n",
    "ee_labels_path = os.path.join(base_dir, f'data/indeed-benchmark/ee-labels-2.csv')"
   ]
  },
  {
   "cell_type": "code",
   "execution_count": 114,
   "metadata": {},
   "outputs": [],
   "source": [
    "ee_contr_emb_path = os.path.join(base_dir, f'data/{data_ac}/intermediate/ee_concept_contr_knn_roberta_k=None.csv')\n",
    "ee_LM_path = os.path.join(base_dir, f'data/{data_ac}/intermediate/ee_LM_roberta_k=None.csv')\n",
    "\n",
    "ee_labels_path = os.path.join(base_dir, f'data/indeed-benchmark/ee-labels-2.csv')"
   ]
  },
  {
   "cell_type": "code",
   "execution_count": 115,
   "metadata": {},
   "outputs": [],
   "source": [
    "ee_labels_dict = load_EE_labels(ee_labels_path)\n",
    "concept_list = sorted(list(ee_labels_dict.keys()))"
   ]
  },
  {
   "cell_type": "code",
   "execution_count": 116,
   "metadata": {},
   "outputs": [
    {
     "name": "stdout",
     "output_type": "stream",
     "text": [
      "shifts 89\n",
      "dress_code 268\n",
      "schedule 69\n",
      "pay_schedule 37\n",
      "onboarding_steps 30\n",
      "employee_type 30\n",
      "job_position 152\n",
      "background_screening 104\n",
      "benefits 116\n",
      "compensation 47\n",
      "company 155\n",
      "payment_option 30\n",
      "person 67\n",
      "hire_prerequisite 137\n"
     ]
    }
   ],
   "source": [
    "for _cc, _e_list in ee_labels_dict.items():\n",
    "    print(_cc, len(_e_list))"
   ]
  },
  {
   "cell_type": "code",
   "execution_count": 118,
   "metadata": {},
   "outputs": [
    {
     "data": {
      "text/plain": [
       "(['leggings', 'facial piercings', 'black jeans', 'clothing', 'jeans'],\n",
       " ['clothing', 'jews', 'ear rings', 'face tattoos', 'jewellery'])"
      ]
     },
     "execution_count": 118,
     "metadata": {},
     "output_type": "execute_result"
    }
   ],
   "source": [
    "_concept = 'dress_code'\n",
    "ee_contr_emb_df = pd.read_csv(ee_contr_emb_path)\n",
    "# ee_LM_df = pd.read_csv(ee_LM_path)\n",
    "ee_LM_df = pd.read_csv(ee_LM_path)\n",
    "\n",
    "ee_contr_emb_list = ee_contr_emb_df[ee_contr_emb_df['concept'] == _concept]['neighbor'].tolist()\n",
    "ee_LM_list = ee_LM_df[ee_LM_df['concept'] == _concept]['neighbor'].tolist()\n",
    "ee_contr_emb_list[:5], ee_LM_list[:5]"
   ]
  },
  {
   "cell_type": "code",
   "execution_count": 119,
   "metadata": {},
   "outputs": [
    {
     "name": "stdout",
     "output_type": "stream",
     "text": [
      "K = 5    Emb = 5(5)    LM = 5(4)    Intersect = 1(1)    Union = 9(8)\n",
      "K = 10   Emb = 10(10)    LM = 10(7)    Intersect = 2(2)    Union = 18(15)\n",
      "K = 20   Emb = 20(20)    LM = 20(14)    Intersect = 4(4)    Union = 36(30)\n",
      "K = 50   Emb = 50(47)    LM = 50(33)    Intersect = 7(7)    Union = 93(73)\n",
      "K = 100  Emb = 100(83)    LM = 100(72)    Intersect = 26(25)    Union = 174(130)\n",
      "K = 300  Emb = 241(183)    LM = 300(134)    Intersect = 99(95)    Union = 442(222)\n",
      "K = 1000 Emb = 241(183)    LM = 1000(194)    Intersect = 153(138)    Union = 1088(239)\n"
     ]
    }
   ],
   "source": [
    "for K in [5, 10, 20, 50, 100, 300, 1000]:\n",
    "    _s1 = set(ee_contr_emb_list[:K])\n",
    "    _s2 = set(ee_LM_list[:K])\n",
    "    \n",
    "    _s1_corr = [_e for _e in _s1 if _e in ee_labels_dict[_concept]]\n",
    "    _s2_corr = [_e for _e in _s2 if _e in ee_labels_dict[_concept]]\n",
    "\n",
    "    _ints = _s1 & _s2\n",
    "    _ints_corr = [_e for _e in _ints if _e in ee_labels_dict[_concept]]\n",
    "    \n",
    "    _union = _s1 | _s2\n",
    "    _union_corr = [_e for _e in _union if _e in ee_labels_dict[_concept]]\n",
    "    \n",
    "    print(f\"K = {K:<4d} Emb = {len(_s1)}({len(_s1_corr)})\\\n",
    "    LM = {len(_s2)}({len(_s2_corr)})\\\n",
    "    Intersect = {len(_ints)}({len(_ints_corr)})\\\n",
    "    Union = {len(_union)}({len(_union_corr)})\")"
   ]
  },
  {
   "cell_type": "code",
   "execution_count": 120,
   "metadata": {
    "scrolled": true
   },
   "outputs": [
    {
     "name": "stdout",
     "output_type": "stream",
     "text": [
      "Concept: background_screening(104)\n",
      "K = 5    Emb = 5(4)    LM = 5(3)    Intersect = 0(0)    Union = 10(7)\n",
      "K = 10   Emb = 10(6)    LM = 10(7)    Intersect = 0(0)    Union = 20(13)\n",
      "K = 20   Emb = 20(9)    LM = 20(16)    Intersect = 3(3)    Union = 37(22)\n",
      "K = 50   Emb = 50(17)    LM = 50(29)    Intersect = 6(5)    Union = 94(41)\n",
      "K = 100  Emb = 100(22)    LM = 100(52)    Intersect = 15(12)    Union = 185(62)\n",
      "K = 300  Emb = 300(30)    LM = 300(76)    Intersect = 47(18)    Union = 553(88)\n",
      "K = 1000 Emb = 1000(42)    LM = 1000(94)    Intersect = 204(37)    Union = 1796(99)\n",
      "\n",
      "Concept: benefits(116)\n",
      "K = 5    Emb = 5(5)    LM = 5(5)    Intersect = 1(1)    Union = 9(9)\n",
      "K = 10   Emb = 10(10)    LM = 10(10)    Intersect = 3(3)    Union = 17(17)\n",
      "K = 20   Emb = 20(16)    LM = 20(18)    Intersect = 7(7)    Union = 33(27)\n",
      "K = 50   Emb = 50(22)    LM = 50(41)    Intersect = 14(13)    Union = 86(50)\n",
      "K = 100  Emb = 100(27)    LM = 100(58)    Intersect = 19(16)    Union = 181(69)\n",
      "K = 300  Emb = 159(32)    LM = 300(77)    Intersect = 35(25)    Union = 424(84)\n",
      "K = 1000 Emb = 159(32)    LM = 1000(94)    Intersect = 57(29)    Union = 1102(97)\n",
      "\n",
      "Concept: company(155)\n",
      "K = 5    Emb = 5(5)    LM = 5(3)    Intersect = 0(0)    Union = 10(8)\n",
      "K = 10   Emb = 10(10)    LM = 10(3)    Intersect = 0(0)    Union = 20(13)\n",
      "K = 20   Emb = 20(20)    LM = 20(4)    Intersect = 1(1)    Union = 39(23)\n",
      "K = 50   Emb = 50(35)    LM = 50(11)    Intersect = 3(3)    Union = 97(43)\n",
      "K = 100  Emb = 100(51)    LM = 100(17)    Intersect = 6(6)    Union = 194(62)\n",
      "K = 300  Emb = 300(62)    LM = 300(32)    Intersect = 22(11)    Union = 578(83)\n",
      "K = 1000 Emb = 1000(78)    LM = 1000(70)    Intersect = 155(39)    Union = 1845(109)\n",
      "\n",
      "Concept: compensation(47)\n",
      "K = 5    Emb = 5(0)    LM = 5(3)    Intersect = 0(0)    Union = 10(3)\n",
      "K = 10   Emb = 10(2)    LM = 10(6)    Intersect = 1(1)    Union = 19(7)\n",
      "K = 20   Emb = 20(3)    LM = 20(9)    Intersect = 3(1)    Union = 37(11)\n",
      "K = 50   Emb = 40(5)    LM = 50(19)    Intersect = 6(2)    Union = 84(22)\n",
      "K = 100  Emb = 40(5)    LM = 100(30)    Intersect = 9(3)    Union = 131(32)\n",
      "K = 300  Emb = 40(5)    LM = 300(38)    Intersect = 13(3)    Union = 327(40)\n",
      "K = 1000 Emb = 40(5)    LM = 1000(43)    Intersect = 21(5)    Union = 1019(43)\n",
      "\n",
      "Concept: dress_code(268)\n",
      "K = 5    Emb = 5(5)    LM = 5(4)    Intersect = 1(1)    Union = 9(8)\n",
      "K = 10   Emb = 10(10)    LM = 10(7)    Intersect = 2(2)    Union = 18(15)\n",
      "K = 20   Emb = 20(20)    LM = 20(14)    Intersect = 4(4)    Union = 36(30)\n",
      "K = 50   Emb = 50(47)    LM = 50(33)    Intersect = 7(7)    Union = 93(73)\n",
      "K = 100  Emb = 100(83)    LM = 100(72)    Intersect = 26(25)    Union = 174(130)\n",
      "K = 300  Emb = 241(183)    LM = 300(134)    Intersect = 99(95)    Union = 442(222)\n",
      "K = 1000 Emb = 241(183)    LM = 1000(194)    Intersect = 153(138)    Union = 1088(239)\n",
      "\n",
      "Concept: employee_type(30)\n",
      "K = 5    Emb = 5(1)    LM = 5(2)    Intersect = 0(0)    Union = 10(3)\n",
      "K = 10   Emb = 10(1)    LM = 10(4)    Intersect = 1(1)    Union = 19(4)\n",
      "K = 20   Emb = 20(3)    LM = 20(6)    Intersect = 4(3)    Union = 36(6)\n",
      "K = 50   Emb = 50(4)    LM = 50(10)    Intersect = 8(3)    Union = 92(11)\n",
      "K = 100  Emb = 72(4)    LM = 100(13)    Intersect = 12(3)    Union = 160(14)\n",
      "K = 300  Emb = 72(4)    LM = 300(22)    Intersect = 20(4)    Union = 352(22)\n",
      "K = 1000 Emb = 72(4)    LM = 1000(25)    Intersect = 27(4)    Union = 1045(25)\n",
      "\n",
      "Concept: hire_prerequisite(137)\n",
      "K = 5    Emb = 5(4)    LM = 5(2)    Intersect = 0(0)    Union = 10(6)\n",
      "K = 10   Emb = 10(7)    LM = 10(6)    Intersect = 1(1)    Union = 19(12)\n",
      "K = 20   Emb = 20(10)    LM = 20(13)    Intersect = 1(1)    Union = 39(22)\n",
      "K = 50   Emb = 50(13)    LM = 50(28)    Intersect = 5(4)    Union = 95(37)\n",
      "K = 100  Emb = 100(19)    LM = 100(51)    Intersect = 14(6)    Union = 186(64)\n",
      "K = 300  Emb = 208(36)    LM = 300(79)    Intersect = 33(16)    Union = 475(99)\n",
      "K = 1000 Emb = 208(36)    LM = 1000(112)    Intersect = 78(25)    Union = 1130(123)\n",
      "\n",
      "Concept: job_position(152)\n",
      "K = 5    Emb = 5(4)    LM = 5(4)    Intersect = 1(1)    Union = 9(7)\n",
      "K = 10   Emb = 10(6)    LM = 10(8)    Intersect = 1(1)    Union = 19(13)\n",
      "K = 20   Emb = 20(9)    LM = 20(16)    Intersect = 2(2)    Union = 38(23)\n",
      "K = 50   Emb = 50(21)    LM = 50(42)    Intersect = 6(6)    Union = 94(57)\n",
      "K = 100  Emb = 100(26)    LM = 100(66)    Intersect = 13(9)    Union = 187(83)\n",
      "K = 300  Emb = 300(44)    LM = 300(105)    Intersect = 44(29)    Union = 556(120)\n",
      "K = 1000 Emb = 633(60)    LM = 1000(125)    Intersect = 132(48)    Union = 1501(137)\n",
      "\n",
      "Concept: onboarding_steps(30)\n",
      "K = 5    Emb = 5(1)    LM = 5(1)    Intersect = 0(0)    Union = 10(2)\n",
      "K = 10   Emb = 10(1)    LM = 10(2)    Intersect = 0(0)    Union = 20(3)\n",
      "K = 20   Emb = 20(2)    LM = 20(4)    Intersect = 0(0)    Union = 40(6)\n",
      "K = 50   Emb = 50(2)    LM = 50(8)    Intersect = 0(0)    Union = 100(10)\n",
      "K = 100  Emb = 100(4)    LM = 100(13)    Intersect = 2(1)    Union = 198(16)\n",
      "K = 300  Emb = 300(8)    LM = 300(23)    Intersect = 21(6)    Union = 579(25)\n",
      "K = 1000 Emb = 1000(10)    LM = 1000(27)    Intersect = 114(10)    Union = 1886(27)\n",
      "\n",
      "Concept: pay_schedule(37)\n",
      "K = 5    Emb = 5(1)    LM = 5(5)    Intersect = 1(1)    Union = 9(5)\n",
      "K = 10   Emb = 10(2)    LM = 10(10)    Intersect = 1(1)    Union = 19(11)\n",
      "K = 20   Emb = 13(2)    LM = 20(15)    Intersect = 1(1)    Union = 32(16)\n",
      "K = 50   Emb = 13(2)    LM = 50(18)    Intersect = 3(2)    Union = 60(18)\n",
      "K = 100  Emb = 13(2)    LM = 100(20)    Intersect = 3(2)    Union = 110(20)\n",
      "K = 300  Emb = 13(2)    LM = 300(23)    Intersect = 3(2)    Union = 310(23)\n",
      "K = 1000 Emb = 13(2)    LM = 1000(27)    Intersect = 6(2)    Union = 1007(27)\n",
      "\n",
      "Concept: payment_option(30)\n",
      "K = 5    Emb = 5(3)    LM = 5(1)    Intersect = 0(0)    Union = 10(4)\n",
      "K = 10   Emb = 10(5)    LM = 10(2)    Intersect = 1(1)    Union = 19(6)\n",
      "K = 20   Emb = 20(7)    LM = 20(8)    Intersect = 3(3)    Union = 37(12)\n",
      "K = 50   Emb = 50(9)    LM = 50(17)    Intersect = 7(5)    Union = 93(21)\n",
      "K = 100  Emb = 80(10)    LM = 100(22)    Intersect = 11(8)    Union = 169(24)\n",
      "K = 300  Emb = 80(10)    LM = 300(24)    Intersect = 16(8)    Union = 364(26)\n",
      "K = 1000 Emb = 80(10)    LM = 1000(25)    Intersect = 31(8)    Union = 1049(27)\n",
      "\n",
      "Concept: person(67)\n",
      "K = 5    Emb = 5(1)    LM = 5(5)    Intersect = 0(0)    Union = 10(6)\n",
      "K = 10   Emb = 10(3)    LM = 10(9)    Intersect = 0(0)    Union = 20(12)\n",
      "K = 20   Emb = 20(4)    LM = 20(14)    Intersect = 0(0)    Union = 40(18)\n",
      "K = 50   Emb = 50(10)    LM = 50(20)    Intersect = 7(4)    Union = 93(26)\n",
      "K = 100  Emb = 100(14)    LM = 100(24)    Intersect = 11(6)    Union = 189(32)\n",
      "K = 300  Emb = 101(14)    LM = 300(34)    Intersect = 15(7)    Union = 386(41)\n",
      "K = 1000 Emb = 101(14)    LM = 1000(42)    Intersect = 28(9)    Union = 1073(47)\n",
      "\n",
      "Concept: schedule(69)\n",
      "K = 5    Emb = 5(3)    LM = 5(5)    Intersect = 1(1)    Union = 9(7)\n",
      "K = 10   Emb = 10(3)    LM = 10(10)    Intersect = 2(2)    Union = 18(11)\n",
      "K = 20   Emb = 20(6)    LM = 20(18)    Intersect = 3(3)    Union = 37(21)\n",
      "K = 50   Emb = 50(14)    LM = 50(23)    Intersect = 8(8)    Union = 92(29)\n",
      "K = 100  Emb = 75(19)    LM = 100(26)    Intersect = 13(11)    Union = 162(34)\n",
      "K = 300  Emb = 75(19)    LM = 300(39)    Intersect = 18(13)    Union = 357(45)\n",
      "K = 1000 Emb = 75(19)    LM = 1000(52)    Intersect = 38(18)    Union = 1037(53)\n",
      "\n",
      "Concept: shifts(89)\n",
      "K = 5    Emb = 5(5)    LM = 5(5)    Intersect = 0(0)    Union = 10(10)\n",
      "K = 10   Emb = 10(6)    LM = 10(10)    Intersect = 0(0)    Union = 20(16)\n",
      "K = 20   Emb = 20(8)    LM = 20(20)    Intersect = 1(1)    Union = 39(27)\n",
      "K = 50   Emb = 50(9)    LM = 50(43)    Intersect = 5(4)    Union = 95(48)\n",
      "K = 100  Emb = 100(12)    LM = 100(60)    Intersect = 11(8)    Union = 189(64)\n",
      "K = 300  Emb = 300(18)    LM = 300(64)    Intersect = 22(14)    Union = 578(68)\n",
      "K = 1000 Emb = 499(30)    LM = 1000(72)    Intersect = 80(27)    Union = 1419(75)\n",
      "\n"
     ]
    }
   ],
   "source": [
    "for _cc in sorted(concept_list):\n",
    "    print(f'Concept: {_cc}({len(ee_labels_dict[_cc])})')\n",
    "    _ee_contr_emb_list = ee_contr_emb_df[ee_contr_emb_df['concept'] == _cc]['neighbor'].tolist()\n",
    "    _ee_LM_list = ee_LM_df[ee_LM_df['concept'] == _cc]['neighbor'].tolist()\n",
    "    \n",
    "    for K in [5, 10, 20, 50, 100, 300, 1000]:\n",
    "        _s1 = set(_ee_contr_emb_list[:K])\n",
    "        _s2 = set(_ee_LM_list[:K])\n",
    "\n",
    "        _s1_corr = [_e for _e in _s1 if _e in ee_labels_dict[_cc]]\n",
    "        _s2_corr = [_e for _e in _s2 if _e in ee_labels_dict[_cc]]\n",
    "\n",
    "        _ints = _s1 & _s2\n",
    "        _ints_corr = [_e for _e in _ints if _e in ee_labels_dict[_cc]]\n",
    "\n",
    "        _union = _s1 | _s2\n",
    "        _union_corr = [_e for _e in _union if _e in ee_labels_dict[_cc]]\n",
    "\n",
    "        print(f\"K = {K:<4d} Emb = {len(_s1)}({len(_s1_corr)})    \" + \\\n",
    "            f\"LM = {len(_s2)}({len(_s2_corr)})    \" + \\\n",
    "            f\"Intersect = {len(_ints)}({len(_ints_corr)})    \" + \\\n",
    "            f\"Union = {len(_union)}({len(_union_corr)})\")\n",
    "    print()"
   ]
  },
  {
   "cell_type": "markdown",
   "metadata": {},
   "source": [
    "### MRR combination"
   ]
  },
  {
   "cell_type": "code",
   "execution_count": 121,
   "metadata": {},
   "outputs": [
    {
     "data": {
      "text/plain": [
       "111095"
      ]
     },
     "execution_count": 121,
     "metadata": {},
     "output_type": "execute_result"
    }
   ],
   "source": [
    "## Using MRR to combine ranking \n",
    "\n",
    "ee_mrr_combine_list = []\n",
    "\n",
    "for _cc in sorted(concept_list):\n",
    "#     print(f'Concept: {_cc}({len(ee_labels_dict[_cc])})')\n",
    "    _ce_df = ee_contr_emb_df[ee_contr_emb_df['concept'] == _cc].sort_values(by='sim+margin', ascending=False)\n",
    "    _ee_contr_emb_list = _ce_df['neighbor'].tolist()\n",
    "    \n",
    "    _ee_LM_list = ee_LM_df[ee_LM_df['concept'] == _cc]['neighbor'].tolist()\n",
    "    \n",
    "#     _all_entities = set(_ee_contr_emb_list) & set(_ee_LM_list)\n",
    "    \n",
    "    _all_entities_mrr = defaultdict(float)\n",
    "    for i, _e in enumerate(_ee_contr_emb_list):\n",
    "        _all_entities_mrr[_e] += 1.0 / (i+1)\n",
    "    for i, _e in enumerate(_ee_LM_list):\n",
    "        _all_entities_mrr[_e] += 1.0 / (i+1)\n",
    "\n",
    "    _all_entities_mrr_list = sorted(list(_all_entities_mrr.items()), key=lambda p: p[-1], reverse=True)\n",
    "    \n",
    "    for _e, _mrr in _all_entities_mrr_list:\n",
    "        ee_mrr_combine_list.append((_cc, _e, _mrr))\n",
    "\n",
    "len(ee_mrr_combine_list)"
   ]
  },
  {
   "cell_type": "code",
   "execution_count": 122,
   "metadata": {},
   "outputs": [],
   "source": [
    "ee_mrr_combine_path = os.path.join(base_dir, f'data/{data_ac}/intermediate/ee_mrr_combine_roberta_k=None.csv')\n",
    "pd.DataFrame(ee_mrr_combine_list, columns=['concept', 'neighbor', 'MRR']).to_csv(ee_mrr_combine_path, index=None)"
   ]
  },
  {
   "cell_type": "code",
   "execution_count": null,
   "metadata": {},
   "outputs": [],
   "source": [
    "_ce_df.sort_values(by='sim+margin', ascending=False).head(20)"
   ]
  },
  {
   "cell_type": "code",
   "execution_count": null,
   "metadata": {},
   "outputs": [],
   "source": []
  },
  {
   "cell_type": "markdown",
   "metadata": {},
   "source": [
    "## Score calibration"
   ]
  },
  {
   "cell_type": "code",
   "execution_count": 165,
   "metadata": {},
   "outputs": [],
   "source": [
    "# def scalar_features(X, normalize=False):\n",
    "#     f1 = np.array(X)\n",
    "#     f2 = np.log(f1)\n",
    "#     f3 = np.log(1-f1)\n",
    "#     if normalize:\n",
    "#         f1 = (f1 - f1.min()) / (f1.max() - f1.min())\n",
    "#         f2 = (f2 - f2.min()) / (f2.max() - f2.min())\n",
    "#         f3 = (f3 - f3.min()) / (f3.max() - f3.min())\n",
    "#     return np.stack([f1, f2, f3], axis=-1)\n"
   ]
  },
  {
   "cell_type": "code",
   "execution_count": null,
   "metadata": {},
   "outputs": [],
   "source": [
    "# scalar_features([1e-5, 1e-4, 0.1, 0.5, 0.99])"
   ]
  },
  {
   "cell_type": "code",
   "execution_count": 232,
   "metadata": {},
   "outputs": [],
   "source": [
    "ee_labels_path = os.path.join(base_dir, f'data/indeed-benchmark/ee-labels-2.csv')\n",
    "ee_labels_dict = load_EE_labels(ee_labels_path)"
   ]
  },
  {
   "cell_type": "code",
   "execution_count": 167,
   "metadata": {},
   "outputs": [],
   "source": [
    "ee_emb_path = os.path.join(base_dir, f'data/{data_ac}/intermediate/ee_concept_contr_knn_k=None.csv')\n",
    "ee_LM_path = os.path.join(base_dir, f'data/{data_ac}/intermediate/ee_LM_bert_k=None.csv')"
   ]
  },
  {
   "cell_type": "code",
   "execution_count": 169,
   "metadata": {},
   "outputs": [
    {
     "data": {
      "text/plain": [
       "(24, 76)"
      ]
     },
     "execution_count": 169,
     "metadata": {},
     "output_type": "execute_result"
    }
   ],
   "source": [
    "_concept = 'job_position'\n",
    "\n",
    "_df = pd.read_csv(ee_emb_path)\n",
    "_emb_preds = _df[_df['concept'] == _concept].to_dict('records')[:100]\n",
    "\n",
    "_df = pd.read_csv(ee_LM_path)\n",
    "_lm_preds = _df[_df['concept'] == _concept].to_dict('records')[:100]\n",
    "\n",
    "_ints = set([d['neighbor'] for d in _emb_preds]) & set([d['neighbor'] for d in _lm_preds])\n",
    "\n",
    "_emb_pos_list = [d for d in _emb_preds if d['neighbor'] in _ints]\n",
    "_emb_neg_list = [d for d in _emb_preds if d['neighbor'] not in _ints]\n",
    "\n",
    "len(_emb_pos_list), len(_emb_neg_list)"
   ]
  },
  {
   "cell_type": "code",
   "execution_count": 227,
   "metadata": {
    "scrolled": true
   },
   "outputs": [
    {
     "data": {
      "text/plain": [
       "{'assistant manager',\n",
       " 'assistant store manager',\n",
       " 'bakery',\n",
       " 'bartender',\n",
       " 'courtesy clerk',\n",
       " 'crew member',\n",
       " 'district manager',\n",
       " 'door greeter',\n",
       " 'driver helper',\n",
       " 'family member',\n",
       " 'general manager',\n",
       " 'grocery store',\n",
       " 'line cook',\n",
       " 'mail carrier',\n",
       " 'manager',\n",
       " 'night stocker',\n",
       " 'packer',\n",
       " 'pharmacy',\n",
       " 'sales rep',\n",
       " 'sales representative',\n",
       " 'salon manager',\n",
       " 'seasonal worker',\n",
       " 'shift supervisor',\n",
       " 'store manger'}"
      ]
     },
     "execution_count": 227,
     "metadata": {},
     "output_type": "execute_result"
    }
   ],
   "source": [
    "_ints"
   ]
  },
  {
   "cell_type": "code",
   "execution_count": null,
   "metadata": {},
   "outputs": [],
   "source": [
    "_emb_pos_list, _emb_neg_list"
   ]
  },
  {
   "cell_type": "code",
   "execution_count": 248,
   "metadata": {},
   "outputs": [
    {
     "data": {
      "text/plain": [
       "((100, 6), (100,))"
      ]
     },
     "execution_count": 248,
     "metadata": {},
     "output_type": "execute_result"
    }
   ],
   "source": [
    "# N: pos | neg (total = 2N)\n",
    "train_N = 20\n",
    "test_N = 4\n",
    "N = train_N + test_N\n",
    "\n",
    "random.seed(123)\n",
    "\n",
    "# pos_samples = random.sample(_emb_pos_list[:N], k=N)\n",
    "# neg_samples = random.sample(_emb_neg_list[:N], k=N)\n",
    "# samples = pos_samples + neg_samples\n",
    "\n",
    "n_pos = len(_emb_pos_list)\n",
    "n_neg = len(_emb_neg_list)\n",
    "\n",
    "all_samples = _emb_pos_list + _emb_neg_list\n",
    "all_labels = [1] * n_pos + [0] * n_neg\n",
    "\n",
    "pos_ids = random.sample(range(n_pos), k=N)\n",
    "neg_ids = random.sample(range(n_pos, n_pos+n_neg), k=N)\n",
    "pos_train_ids = pos_ids[:train_N]\n",
    "neg_train_ids = neg_ids[:train_N]\n",
    "pos_test_ids = pos_ids[train_N:]\n",
    "neg_test_ids = neg_ids[train_N:]\n",
    "\n",
    "sim_feats = np.array([d['sim'] for d in all_samples])\n",
    "sim2_feats = np.array([d['2nd_sim'] for d in all_samples])\n",
    "margin_feats = np.array([d['margin'] for d in all_samples])\n",
    "feats_X = np.stack([\n",
    "    sim_feats,\n",
    "    np.log(1 - sim_feats),\n",
    "    sim2_feats,\n",
    "    np.log(1 - sim2_feats),\n",
    "    margin_feats,\n",
    "    np.log(margin_feats)\n",
    "], axis=-1)\n",
    "\n",
    "labels_Y = np.array(all_labels)\n",
    "\n",
    "feats_X.shape, labels_Y.shape"
   ]
  },
  {
   "cell_type": "code",
   "execution_count": 249,
   "metadata": {},
   "outputs": [
    {
     "data": {
      "text/plain": [
       "((40, 6), (8,))"
      ]
     },
     "execution_count": 249,
     "metadata": {},
     "output_type": "execute_result"
    }
   ],
   "source": [
    "train_X = feats_X[pos_train_ids + neg_train_ids]\n",
    "train_Y = labels_Y[pos_train_ids + neg_train_ids]\n",
    "test_X = feats_X[pos_test_ids + neg_test_ids]\n",
    "test_Y = labels_Y[pos_test_ids + neg_test_ids]\n",
    "train_X.shape, test_Y.shape"
   ]
  },
  {
   "cell_type": "code",
   "execution_count": 250,
   "metadata": {},
   "outputs": [
    {
     "data": {
      "text/plain": [
       "array([[-37.98891136,   2.49464195, -26.57782132,  -3.99934953,\n",
       "        -11.41109004,   1.60053595]])"
      ]
     },
     "execution_count": 250,
     "metadata": {},
     "output_type": "execute_result"
    }
   ],
   "source": [
    "clf = LogisticRegression(tol=1e-4, C=1e4)\n",
    "clf.fit(train_X, train_Y)\n",
    "\n",
    "# coef for [sim, log(1-sim), 2nd_sim, log(1-2nd_sim), margin, log(margin)]\n",
    "clf.coef_"
   ]
  },
  {
   "cell_type": "code",
   "execution_count": 251,
   "metadata": {},
   "outputs": [
    {
     "data": {
      "text/plain": [
       "array([0.67116313, 0.62589717, 0.5465702 , 0.45832449, 0.53638333,\n",
       "       0.30278473, 0.67782842, 0.13473516])"
      ]
     },
     "execution_count": 251,
     "metadata": {},
     "output_type": "execute_result"
    }
   ],
   "source": [
    "_pred_proba = clf.predict_proba(test_X)[:, 1]\n",
    "_pred_proba"
   ]
  },
  {
   "cell_type": "code",
   "execution_count": 252,
   "metadata": {},
   "outputs": [
    {
     "data": {
      "text/html": [
       "<div>\n",
       "<style scoped>\n",
       "    .dataframe tbody tr th:only-of-type {\n",
       "        vertical-align: middle;\n",
       "    }\n",
       "\n",
       "    .dataframe tbody tr th {\n",
       "        vertical-align: top;\n",
       "    }\n",
       "\n",
       "    .dataframe thead th {\n",
       "        text-align: right;\n",
       "    }\n",
       "</style>\n",
       "<table border=\"1\" class=\"dataframe\">\n",
       "  <thead>\n",
       "    <tr style=\"text-align: right;\">\n",
       "      <th></th>\n",
       "      <th>concept</th>\n",
       "      <th>2nd_concept</th>\n",
       "      <th>neighbor</th>\n",
       "      <th>sim</th>\n",
       "      <th>2nd_sim</th>\n",
       "      <th>margin</th>\n",
       "      <th>sim+margin</th>\n",
       "      <th>pred_proba</th>\n",
       "    </tr>\n",
       "  </thead>\n",
       "  <tbody>\n",
       "    <tr>\n",
       "      <th>0</th>\n",
       "      <td>job_position</td>\n",
       "      <td>employee_type</td>\n",
       "      <td>assistant store manager</td>\n",
       "      <td>0.984076</td>\n",
       "      <td>0.978733</td>\n",
       "      <td>0.005343</td>\n",
       "      <td>0.989419</td>\n",
       "      <td>0.671163</td>\n",
       "    </tr>\n",
       "    <tr>\n",
       "      <th>1</th>\n",
       "      <td>job_position</td>\n",
       "      <td>employee_type</td>\n",
       "      <td>shift supervisor</td>\n",
       "      <td>0.990097</td>\n",
       "      <td>0.982083</td>\n",
       "      <td>0.008014</td>\n",
       "      <td>0.998112</td>\n",
       "      <td>0.625897</td>\n",
       "    </tr>\n",
       "    <tr>\n",
       "      <th>2</th>\n",
       "      <td>job_position</td>\n",
       "      <td>company</td>\n",
       "      <td>family member</td>\n",
       "      <td>0.985568</td>\n",
       "      <td>0.982632</td>\n",
       "      <td>0.002936</td>\n",
       "      <td>0.988504</td>\n",
       "      <td>0.546570</td>\n",
       "    </tr>\n",
       "    <tr>\n",
       "      <th>3</th>\n",
       "      <td>job_position</td>\n",
       "      <td>company</td>\n",
       "      <td>district manager</td>\n",
       "      <td>0.987350</td>\n",
       "      <td>0.985278</td>\n",
       "      <td>0.002072</td>\n",
       "      <td>0.989421</td>\n",
       "      <td>0.458324</td>\n",
       "    </tr>\n",
       "  </tbody>\n",
       "</table>\n",
       "</div>"
      ],
      "text/plain": [
       "        concept    2nd_concept                 neighbor       sim   2nd_sim  \\\n",
       "0  job_position  employee_type  assistant store manager  0.984076  0.978733   \n",
       "1  job_position  employee_type         shift supervisor  0.990097  0.982083   \n",
       "2  job_position        company            family member  0.985568  0.982632   \n",
       "3  job_position        company         district manager  0.987350  0.985278   \n",
       "\n",
       "     margin  sim+margin  pred_proba  \n",
       "0  0.005343    0.989419    0.671163  \n",
       "1  0.008014    0.998112    0.625897  \n",
       "2  0.002936    0.988504    0.546570  \n",
       "3  0.002072    0.989421    0.458324  "
      ]
     },
     "execution_count": 252,
     "metadata": {},
     "output_type": "execute_result"
    }
   ],
   "source": [
    "_df = pd.DataFrame(pos_samples[train_N:])\n",
    "_df['pred_proba'] = _pred_proba[:test_N]\n",
    "_df"
   ]
  },
  {
   "cell_type": "code",
   "execution_count": 253,
   "metadata": {},
   "outputs": [
    {
     "data": {
      "text/html": [
       "<div>\n",
       "<style scoped>\n",
       "    .dataframe tbody tr th:only-of-type {\n",
       "        vertical-align: middle;\n",
       "    }\n",
       "\n",
       "    .dataframe tbody tr th {\n",
       "        vertical-align: top;\n",
       "    }\n",
       "\n",
       "    .dataframe thead th {\n",
       "        text-align: right;\n",
       "    }\n",
       "</style>\n",
       "<table border=\"1\" class=\"dataframe\">\n",
       "  <thead>\n",
       "    <tr style=\"text-align: right;\">\n",
       "      <th></th>\n",
       "      <th>concept</th>\n",
       "      <th>2nd_concept</th>\n",
       "      <th>neighbor</th>\n",
       "      <th>sim</th>\n",
       "      <th>2nd_sim</th>\n",
       "      <th>margin</th>\n",
       "      <th>sim+margin</th>\n",
       "      <th>pred_proba</th>\n",
       "    </tr>\n",
       "  </thead>\n",
       "  <tbody>\n",
       "    <tr>\n",
       "      <th>0</th>\n",
       "      <td>job_position</td>\n",
       "      <td>employee_type</td>\n",
       "      <td>barista</td>\n",
       "      <td>0.993921</td>\n",
       "      <td>0.986723</td>\n",
       "      <td>0.007198</td>\n",
       "      <td>1.001119</td>\n",
       "      <td>0.536383</td>\n",
       "    </tr>\n",
       "    <tr>\n",
       "      <th>1</th>\n",
       "      <td>job_position</td>\n",
       "      <td>employee_type</td>\n",
       "      <td>student</td>\n",
       "      <td>0.991679</td>\n",
       "      <td>0.987705</td>\n",
       "      <td>0.003974</td>\n",
       "      <td>0.995652</td>\n",
       "      <td>0.302785</td>\n",
       "    </tr>\n",
       "    <tr>\n",
       "      <th>2</th>\n",
       "      <td>job_position</td>\n",
       "      <td>employee_type</td>\n",
       "      <td>lead</td>\n",
       "      <td>0.991533</td>\n",
       "      <td>0.986845</td>\n",
       "      <td>0.004689</td>\n",
       "      <td>0.996222</td>\n",
       "      <td>0.677828</td>\n",
       "    </tr>\n",
       "    <tr>\n",
       "      <th>3</th>\n",
       "      <td>job_position</td>\n",
       "      <td>employee_type</td>\n",
       "      <td>package handler</td>\n",
       "      <td>0.994812</td>\n",
       "      <td>0.987993</td>\n",
       "      <td>0.006818</td>\n",
       "      <td>1.001630</td>\n",
       "      <td>0.134735</td>\n",
       "    </tr>\n",
       "  </tbody>\n",
       "</table>\n",
       "</div>"
      ],
      "text/plain": [
       "        concept    2nd_concept         neighbor       sim   2nd_sim    margin  \\\n",
       "0  job_position  employee_type          barista  0.993921  0.986723  0.007198   \n",
       "1  job_position  employee_type          student  0.991679  0.987705  0.003974   \n",
       "2  job_position  employee_type             lead  0.991533  0.986845  0.004689   \n",
       "3  job_position  employee_type  package handler  0.994812  0.987993  0.006818   \n",
       "\n",
       "   sim+margin  pred_proba  \n",
       "0    1.001119    0.536383  \n",
       "1    0.995652    0.302785  \n",
       "2    0.996222    0.677828  \n",
       "3    1.001630    0.134735  "
      ]
     },
     "execution_count": 253,
     "metadata": {},
     "output_type": "execute_result"
    }
   ],
   "source": [
    "_df = pd.DataFrame(neg_samples[train_N:])\n",
    "_df['pred_proba'] = _pred_proba[test_N:]\n",
    "_df"
   ]
  },
  {
   "cell_type": "code",
   "execution_count": 254,
   "metadata": {},
   "outputs": [],
   "source": [
    "_pred_proba_all = clf.predict_proba(feats_X)[:, 1]\n",
    "_preds_all = clf.predict(feats_X)\n",
    "assert np.allclose(_preds_all, (_pred_proba_all > 0.5).astype(int))"
   ]
  },
  {
   "cell_type": "code",
   "execution_count": 272,
   "metadata": {},
   "outputs": [],
   "source": [
    "_df = pd.DataFrame(all_samples)\n",
    "_df['pred_proba'] = _pred_proba_all\n",
    "_df['pred'] = _preds_all\n",
    "_df['label'] = labels_Y\n",
    "_df['human_label'] = _df.apply(lambda d : d[2] in ee_labels_dict['job_position'], axis=1).astype(int)\n",
    "\n",
    "_split = ['Test'] * len(all_samples)\n",
    "for i in pos_train_ids + neg_train_ids:\n",
    "    _split[i] = 'Train'\n",
    "# for i in pos_test_ids + neg_test_ids:\n",
    "#     _split[i] = 'Test'\n",
    "_df['split'] = _split\n",
    "\n",
    "_df.sort_values(by='sim+margin', ascending=False, inplace=True)"
   ]
  },
  {
   "cell_type": "code",
   "execution_count": 276,
   "metadata": {
    "scrolled": true
   },
   "outputs": [
    {
     "data": {
      "text/html": [
       "<div>\n",
       "<style scoped>\n",
       "    .dataframe tbody tr th:only-of-type {\n",
       "        vertical-align: middle;\n",
       "    }\n",
       "\n",
       "    .dataframe tbody tr th {\n",
       "        vertical-align: top;\n",
       "    }\n",
       "\n",
       "    .dataframe thead th {\n",
       "        text-align: right;\n",
       "    }\n",
       "</style>\n",
       "<table border=\"1\" class=\"dataframe\">\n",
       "  <thead>\n",
       "    <tr style=\"text-align: right;\">\n",
       "      <th></th>\n",
       "      <th>neighbor</th>\n",
       "      <th>sim</th>\n",
       "      <th>margin</th>\n",
       "      <th>sim+margin</th>\n",
       "      <th>pred_proba</th>\n",
       "      <th>split</th>\n",
       "      <th>pred</th>\n",
       "      <th>label</th>\n",
       "      <th>human_label</th>\n",
       "    </tr>\n",
       "  </thead>\n",
       "  <tbody>\n",
       "    <tr>\n",
       "      <th>24</th>\n",
       "      <td>delivery driver</td>\n",
       "      <td>0.998022</td>\n",
       "      <td>0.009049</td>\n",
       "      <td>1.007071</td>\n",
       "      <td>0.134234</td>\n",
       "      <td>Train</td>\n",
       "      <td>0</td>\n",
       "      <td>0</td>\n",
       "      <td>1</td>\n",
       "    </tr>\n",
       "    <tr>\n",
       "      <th>25</th>\n",
       "      <td>sales associate</td>\n",
       "      <td>0.997942</td>\n",
       "      <td>0.007970</td>\n",
       "      <td>1.005912</td>\n",
       "      <td>0.168042</td>\n",
       "      <td>Test</td>\n",
       "      <td>0</td>\n",
       "      <td>0</td>\n",
       "      <td>1</td>\n",
       "    </tr>\n",
       "    <tr>\n",
       "      <th>26</th>\n",
       "      <td>cashier</td>\n",
       "      <td>0.998204</td>\n",
       "      <td>0.006349</td>\n",
       "      <td>1.004553</td>\n",
       "      <td>0.180459</td>\n",
       "      <td>Train</td>\n",
       "      <td>0</td>\n",
       "      <td>0</td>\n",
       "      <td>1</td>\n",
       "    </tr>\n",
       "    <tr>\n",
       "      <th>0</th>\n",
       "      <td>crew member</td>\n",
       "      <td>0.997148</td>\n",
       "      <td>0.007127</td>\n",
       "      <td>1.004276</td>\n",
       "      <td>0.287703</td>\n",
       "      <td>Train</td>\n",
       "      <td>0</td>\n",
       "      <td>1</td>\n",
       "      <td>1</td>\n",
       "    </tr>\n",
       "    <tr>\n",
       "      <th>27</th>\n",
       "      <td>key holder</td>\n",
       "      <td>0.995992</td>\n",
       "      <td>0.007562</td>\n",
       "      <td>1.003554</td>\n",
       "      <td>0.383885</td>\n",
       "      <td>Test</td>\n",
       "      <td>0</td>\n",
       "      <td>0</td>\n",
       "      <td>1</td>\n",
       "    </tr>\n",
       "    <tr>\n",
       "      <th>1</th>\n",
       "      <td>assistant manager</td>\n",
       "      <td>0.996511</td>\n",
       "      <td>0.005911</td>\n",
       "      <td>1.002422</td>\n",
       "      <td>0.391429</td>\n",
       "      <td>Train</td>\n",
       "      <td>0</td>\n",
       "      <td>1</td>\n",
       "      <td>1</td>\n",
       "    </tr>\n",
       "    <tr>\n",
       "      <th>28</th>\n",
       "      <td>dishwasher</td>\n",
       "      <td>0.993145</td>\n",
       "      <td>0.009144</td>\n",
       "      <td>1.002290</td>\n",
       "      <td>0.520286</td>\n",
       "      <td>Test</td>\n",
       "      <td>1</td>\n",
       "      <td>0</td>\n",
       "      <td>1</td>\n",
       "    </tr>\n",
       "    <tr>\n",
       "      <th>29</th>\n",
       "      <td>package handler</td>\n",
       "      <td>0.994812</td>\n",
       "      <td>0.006818</td>\n",
       "      <td>1.001630</td>\n",
       "      <td>0.480476</td>\n",
       "      <td>Train</td>\n",
       "      <td>0</td>\n",
       "      <td>0</td>\n",
       "      <td>1</td>\n",
       "    </tr>\n",
       "    <tr>\n",
       "      <th>30</th>\n",
       "      <td>shift leader</td>\n",
       "      <td>0.993093</td>\n",
       "      <td>0.008443</td>\n",
       "      <td>1.001535</td>\n",
       "      <td>0.532680</td>\n",
       "      <td>Test</td>\n",
       "      <td>1</td>\n",
       "      <td>0</td>\n",
       "      <td>1</td>\n",
       "    </tr>\n",
       "    <tr>\n",
       "      <th>31</th>\n",
       "      <td>team leader</td>\n",
       "      <td>0.993108</td>\n",
       "      <td>0.008126</td>\n",
       "      <td>1.001234</td>\n",
       "      <td>0.536384</td>\n",
       "      <td>Test</td>\n",
       "      <td>1</td>\n",
       "      <td>0</td>\n",
       "      <td>1</td>\n",
       "    </tr>\n",
       "    <tr>\n",
       "      <th>32</th>\n",
       "      <td>barista</td>\n",
       "      <td>0.993921</td>\n",
       "      <td>0.007198</td>\n",
       "      <td>1.001119</td>\n",
       "      <td>0.516198</td>\n",
       "      <td>Train</td>\n",
       "      <td>1</td>\n",
       "      <td>0</td>\n",
       "      <td>1</td>\n",
       "    </tr>\n",
       "    <tr>\n",
       "      <th>33</th>\n",
       "      <td>pharmacist</td>\n",
       "      <td>0.994044</td>\n",
       "      <td>0.006636</td>\n",
       "      <td>1.000680</td>\n",
       "      <td>0.519751</td>\n",
       "      <td>Test</td>\n",
       "      <td>1</td>\n",
       "      <td>0</td>\n",
       "      <td>1</td>\n",
       "    </tr>\n",
       "    <tr>\n",
       "      <th>2</th>\n",
       "      <td>courtesy clerk</td>\n",
       "      <td>0.992047</td>\n",
       "      <td>0.008569</td>\n",
       "      <td>1.000616</td>\n",
       "      <td>0.569915</td>\n",
       "      <td>Train</td>\n",
       "      <td>1</td>\n",
       "      <td>1</td>\n",
       "      <td>1</td>\n",
       "    </tr>\n",
       "    <tr>\n",
       "      <th>34</th>\n",
       "      <td>team member</td>\n",
       "      <td>0.994603</td>\n",
       "      <td>0.005433</td>\n",
       "      <td>1.000036</td>\n",
       "      <td>0.515406</td>\n",
       "      <td>Test</td>\n",
       "      <td>1</td>\n",
       "      <td>0</td>\n",
       "      <td>0</td>\n",
       "    </tr>\n",
       "    <tr>\n",
       "      <th>35</th>\n",
       "      <td>beauty advisor</td>\n",
       "      <td>0.991979</td>\n",
       "      <td>0.007247</td>\n",
       "      <td>0.999226</td>\n",
       "      <td>0.582874</td>\n",
       "      <td>Train</td>\n",
       "      <td>1</td>\n",
       "      <td>0</td>\n",
       "      <td>1</td>\n",
       "    </tr>\n",
       "    <tr>\n",
       "      <th>36</th>\n",
       "      <td>shift lead</td>\n",
       "      <td>0.991792</td>\n",
       "      <td>0.007420</td>\n",
       "      <td>0.999212</td>\n",
       "      <td>0.586936</td>\n",
       "      <td>Test</td>\n",
       "      <td>1</td>\n",
       "      <td>0</td>\n",
       "      <td>1</td>\n",
       "    </tr>\n",
       "    <tr>\n",
       "      <th>3</th>\n",
       "      <td>packer</td>\n",
       "      <td>0.987121</td>\n",
       "      <td>0.011956</td>\n",
       "      <td>0.999077</td>\n",
       "      <td>0.680620</td>\n",
       "      <td>Train</td>\n",
       "      <td>1</td>\n",
       "      <td>1</td>\n",
       "      <td>1</td>\n",
       "    </tr>\n",
       "    <tr>\n",
       "      <th>37</th>\n",
       "      <td>seasonal employee</td>\n",
       "      <td>0.991814</td>\n",
       "      <td>0.007049</td>\n",
       "      <td>0.998863</td>\n",
       "      <td>0.588386</td>\n",
       "      <td>Train</td>\n",
       "      <td>1</td>\n",
       "      <td>0</td>\n",
       "      <td>0</td>\n",
       "    </tr>\n",
       "    <tr>\n",
       "      <th>38</th>\n",
       "      <td>trainer</td>\n",
       "      <td>0.992150</td>\n",
       "      <td>0.006464</td>\n",
       "      <td>0.998615</td>\n",
       "      <td>0.582462</td>\n",
       "      <td>Test</td>\n",
       "      <td>1</td>\n",
       "      <td>0</td>\n",
       "      <td>1</td>\n",
       "    </tr>\n",
       "    <tr>\n",
       "      <th>4</th>\n",
       "      <td>shift supervisor</td>\n",
       "      <td>0.990097</td>\n",
       "      <td>0.008014</td>\n",
       "      <td>0.998112</td>\n",
       "      <td>0.625897</td>\n",
       "      <td>Test</td>\n",
       "      <td>1</td>\n",
       "      <td>1</td>\n",
       "      <td>1</td>\n",
       "    </tr>\n",
       "    <tr>\n",
       "      <th>5</th>\n",
       "      <td>driver helper</td>\n",
       "      <td>0.990982</td>\n",
       "      <td>0.007123</td>\n",
       "      <td>0.998105</td>\n",
       "      <td>0.608105</td>\n",
       "      <td>Train</td>\n",
       "      <td>1</td>\n",
       "      <td>1</td>\n",
       "      <td>1</td>\n",
       "    </tr>\n",
       "    <tr>\n",
       "      <th>39</th>\n",
       "      <td>head cashier</td>\n",
       "      <td>0.992132</td>\n",
       "      <td>0.005412</td>\n",
       "      <td>0.997544</td>\n",
       "      <td>0.584052</td>\n",
       "      <td>Test</td>\n",
       "      <td>1</td>\n",
       "      <td>0</td>\n",
       "      <td>1</td>\n",
       "    </tr>\n",
       "    <tr>\n",
       "      <th>40</th>\n",
       "      <td>beauty consultant</td>\n",
       "      <td>0.989630</td>\n",
       "      <td>0.006757</td>\n",
       "      <td>0.996387</td>\n",
       "      <td>0.633666</td>\n",
       "      <td>Train</td>\n",
       "      <td>1</td>\n",
       "      <td>0</td>\n",
       "      <td>1</td>\n",
       "    </tr>\n",
       "    <tr>\n",
       "      <th>41</th>\n",
       "      <td>carrier</td>\n",
       "      <td>0.991974</td>\n",
       "      <td>0.004388</td>\n",
       "      <td>0.996362</td>\n",
       "      <td>0.578755</td>\n",
       "      <td>Test</td>\n",
       "      <td>1</td>\n",
       "      <td>0</td>\n",
       "      <td>1</td>\n",
       "    </tr>\n",
       "    <tr>\n",
       "      <th>42</th>\n",
       "      <td>lead</td>\n",
       "      <td>0.991533</td>\n",
       "      <td>0.004689</td>\n",
       "      <td>0.996222</td>\n",
       "      <td>0.588588</td>\n",
       "      <td>Train</td>\n",
       "      <td>1</td>\n",
       "      <td>0</td>\n",
       "      <td>1</td>\n",
       "    </tr>\n",
       "    <tr>\n",
       "      <th>6</th>\n",
       "      <td>sales rep</td>\n",
       "      <td>0.986586</td>\n",
       "      <td>0.009138</td>\n",
       "      <td>0.995724</td>\n",
       "      <td>0.691118</td>\n",
       "      <td>Train</td>\n",
       "      <td>1</td>\n",
       "      <td>1</td>\n",
       "      <td>1</td>\n",
       "    </tr>\n",
       "    <tr>\n",
       "      <th>43</th>\n",
       "      <td>student</td>\n",
       "      <td>0.991679</td>\n",
       "      <td>0.003974</td>\n",
       "      <td>0.995652</td>\n",
       "      <td>0.574535</td>\n",
       "      <td>Train</td>\n",
       "      <td>1</td>\n",
       "      <td>0</td>\n",
       "      <td>0</td>\n",
       "    </tr>\n",
       "    <tr>\n",
       "      <th>44</th>\n",
       "      <td>gm</td>\n",
       "      <td>0.992406</td>\n",
       "      <td>0.003073</td>\n",
       "      <td>0.995479</td>\n",
       "      <td>0.541956</td>\n",
       "      <td>Test</td>\n",
       "      <td>1</td>\n",
       "      <td>0</td>\n",
       "      <td>1</td>\n",
       "    </tr>\n",
       "    <tr>\n",
       "      <th>7</th>\n",
       "      <td>general manager</td>\n",
       "      <td>0.992467</td>\n",
       "      <td>0.003004</td>\n",
       "      <td>0.995471</td>\n",
       "      <td>0.538867</td>\n",
       "      <td>Train</td>\n",
       "      <td>1</td>\n",
       "      <td>1</td>\n",
       "      <td>1</td>\n",
       "    </tr>\n",
       "    <tr>\n",
       "      <th>45</th>\n",
       "      <td>warehouse</td>\n",
       "      <td>0.994366</td>\n",
       "      <td>0.001058</td>\n",
       "      <td>0.995424</td>\n",
       "      <td>0.359953</td>\n",
       "      <td>Train</td>\n",
       "      <td>0</td>\n",
       "      <td>0</td>\n",
       "      <td>0</td>\n",
       "    </tr>\n",
       "    <tr>\n",
       "      <th>8</th>\n",
       "      <td>pharmacy</td>\n",
       "      <td>0.993406</td>\n",
       "      <td>0.001423</td>\n",
       "      <td>0.994829</td>\n",
       "      <td>0.410063</td>\n",
       "      <td>Train</td>\n",
       "      <td>0</td>\n",
       "      <td>1</td>\n",
       "      <td>0</td>\n",
       "    </tr>\n",
       "    <tr>\n",
       "      <th>9</th>\n",
       "      <td>manager</td>\n",
       "      <td>0.992072</td>\n",
       "      <td>0.002682</td>\n",
       "      <td>0.994755</td>\n",
       "      <td>0.523729</td>\n",
       "      <td>Train</td>\n",
       "      <td>1</td>\n",
       "      <td>1</td>\n",
       "      <td>1</td>\n",
       "    </tr>\n",
       "    <tr>\n",
       "      <th>46</th>\n",
       "      <td>rca</td>\n",
       "      <td>0.993288</td>\n",
       "      <td>0.001156</td>\n",
       "      <td>0.994444</td>\n",
       "      <td>0.360361</td>\n",
       "      <td>Test</td>\n",
       "      <td>0</td>\n",
       "      <td>0</td>\n",
       "      <td>1</td>\n",
       "    </tr>\n",
       "    <tr>\n",
       "      <th>47</th>\n",
       "      <td>store manager</td>\n",
       "      <td>0.991152</td>\n",
       "      <td>0.003127</td>\n",
       "      <td>0.994279</td>\n",
       "      <td>0.548996</td>\n",
       "      <td>Test</td>\n",
       "      <td>1</td>\n",
       "      <td>0</td>\n",
       "      <td>1</td>\n",
       "    </tr>\n",
       "    <tr>\n",
       "      <th>48</th>\n",
       "      <td>regular employee</td>\n",
       "      <td>0.988487</td>\n",
       "      <td>0.005354</td>\n",
       "      <td>0.993841</td>\n",
       "      <td>0.634145</td>\n",
       "      <td>Test</td>\n",
       "      <td>1</td>\n",
       "      <td>0</td>\n",
       "      <td>0</td>\n",
       "    </tr>\n",
       "    <tr>\n",
       "      <th>49</th>\n",
       "      <td>veteran</td>\n",
       "      <td>0.989630</td>\n",
       "      <td>0.004098</td>\n",
       "      <td>0.993728</td>\n",
       "      <td>0.594370</td>\n",
       "      <td>Test</td>\n",
       "      <td>1</td>\n",
       "      <td>0</td>\n",
       "      <td>0</td>\n",
       "    </tr>\n",
       "    <tr>\n",
       "      <th>50</th>\n",
       "      <td>mgr</td>\n",
       "      <td>0.987782</td>\n",
       "      <td>0.005905</td>\n",
       "      <td>0.993687</td>\n",
       "      <td>0.650607</td>\n",
       "      <td>Test</td>\n",
       "      <td>1</td>\n",
       "      <td>0</td>\n",
       "      <td>1</td>\n",
       "    </tr>\n",
       "    <tr>\n",
       "      <th>51</th>\n",
       "      <td>city carrier</td>\n",
       "      <td>0.989612</td>\n",
       "      <td>0.004028</td>\n",
       "      <td>0.993641</td>\n",
       "      <td>0.592251</td>\n",
       "      <td>Test</td>\n",
       "      <td>1</td>\n",
       "      <td>0</td>\n",
       "      <td>1</td>\n",
       "    </tr>\n",
       "    <tr>\n",
       "      <th>10</th>\n",
       "      <td>store manger</td>\n",
       "      <td>0.989615</td>\n",
       "      <td>0.003869</td>\n",
       "      <td>0.993484</td>\n",
       "      <td>0.586792</td>\n",
       "      <td>Train</td>\n",
       "      <td>1</td>\n",
       "      <td>1</td>\n",
       "      <td>1</td>\n",
       "    </tr>\n",
       "    <tr>\n",
       "      <th>52</th>\n",
       "      <td>permanent employee</td>\n",
       "      <td>0.986656</td>\n",
       "      <td>0.006750</td>\n",
       "      <td>0.993406</td>\n",
       "      <td>0.674431</td>\n",
       "      <td>Test</td>\n",
       "      <td>1</td>\n",
       "      <td>0</td>\n",
       "      <td>0</td>\n",
       "    </tr>\n",
       "    <tr>\n",
       "      <th>53</th>\n",
       "      <td>department</td>\n",
       "      <td>0.991847</td>\n",
       "      <td>0.001553</td>\n",
       "      <td>0.993399</td>\n",
       "      <td>0.411805</td>\n",
       "      <td>Test</td>\n",
       "      <td>0</td>\n",
       "      <td>0</td>\n",
       "      <td>0</td>\n",
       "    </tr>\n",
       "    <tr>\n",
       "      <th>54</th>\n",
       "      <td>forklift</td>\n",
       "      <td>0.988598</td>\n",
       "      <td>0.004092</td>\n",
       "      <td>0.992690</td>\n",
       "      <td>0.600805</td>\n",
       "      <td>Train</td>\n",
       "      <td>1</td>\n",
       "      <td>0</td>\n",
       "      <td>1</td>\n",
       "    </tr>\n",
       "    <tr>\n",
       "      <th>55</th>\n",
       "      <td>rural carrier</td>\n",
       "      <td>0.988757</td>\n",
       "      <td>0.003826</td>\n",
       "      <td>0.992583</td>\n",
       "      <td>0.589825</td>\n",
       "      <td>Test</td>\n",
       "      <td>1</td>\n",
       "      <td>0</td>\n",
       "      <td>1</td>\n",
       "    </tr>\n",
       "    <tr>\n",
       "      <th>56</th>\n",
       "      <td>janitor</td>\n",
       "      <td>0.987446</td>\n",
       "      <td>0.004990</td>\n",
       "      <td>0.992437</td>\n",
       "      <td>0.635901</td>\n",
       "      <td>Test</td>\n",
       "      <td>1</td>\n",
       "      <td>0</td>\n",
       "      <td>1</td>\n",
       "    </tr>\n",
       "    <tr>\n",
       "      <th>57</th>\n",
       "      <td>front end</td>\n",
       "      <td>0.988822</td>\n",
       "      <td>0.002854</td>\n",
       "      <td>0.991676</td>\n",
       "      <td>0.536383</td>\n",
       "      <td>Test</td>\n",
       "      <td>1</td>\n",
       "      <td>0</td>\n",
       "      <td>1</td>\n",
       "    </tr>\n",
       "    <tr>\n",
       "      <th>11</th>\n",
       "      <td>bakery</td>\n",
       "      <td>0.988933</td>\n",
       "      <td>0.002617</td>\n",
       "      <td>0.991550</td>\n",
       "      <td>0.517983</td>\n",
       "      <td>Train</td>\n",
       "      <td>1</td>\n",
       "      <td>1</td>\n",
       "      <td>0</td>\n",
       "    </tr>\n",
       "    <tr>\n",
       "      <th>58</th>\n",
       "      <td>cart attendant</td>\n",
       "      <td>0.978673</td>\n",
       "      <td>0.012873</td>\n",
       "      <td>0.991546</td>\n",
       "      <td>0.804212</td>\n",
       "      <td>Test</td>\n",
       "      <td>1</td>\n",
       "      <td>0</td>\n",
       "      <td>1</td>\n",
       "    </tr>\n",
       "    <tr>\n",
       "      <th>59</th>\n",
       "      <td>loss prevention</td>\n",
       "      <td>0.990144</td>\n",
       "      <td>0.001223</td>\n",
       "      <td>0.991367</td>\n",
       "      <td>0.334074</td>\n",
       "      <td>Test</td>\n",
       "      <td>0</td>\n",
       "      <td>0</td>\n",
       "      <td>0</td>\n",
       "    </tr>\n",
       "    <tr>\n",
       "      <th>60</th>\n",
       "      <td>military</td>\n",
       "      <td>0.990187</td>\n",
       "      <td>0.000722</td>\n",
       "      <td>0.990909</td>\n",
       "      <td>0.205306</td>\n",
       "      <td>Test</td>\n",
       "      <td>0</td>\n",
       "      <td>0</td>\n",
       "      <td>0</td>\n",
       "    </tr>\n",
       "    <tr>\n",
       "      <th>12</th>\n",
       "      <td>line cook</td>\n",
       "      <td>0.981973</td>\n",
       "      <td>0.008670</td>\n",
       "      <td>0.990643</td>\n",
       "      <td>0.745455</td>\n",
       "      <td>Train</td>\n",
       "      <td>1</td>\n",
       "      <td>1</td>\n",
       "      <td>1</td>\n",
       "    </tr>\n",
       "    <tr>\n",
       "      <th>61</th>\n",
       "      <td>cart pusher</td>\n",
       "      <td>0.979848</td>\n",
       "      <td>0.010510</td>\n",
       "      <td>0.990358</td>\n",
       "      <td>0.781068</td>\n",
       "      <td>Train</td>\n",
       "      <td>1</td>\n",
       "      <td>0</td>\n",
       "      <td>1</td>\n",
       "    </tr>\n",
       "    <tr>\n",
       "      <th>62</th>\n",
       "      <td>meat department</td>\n",
       "      <td>0.986716</td>\n",
       "      <td>0.003369</td>\n",
       "      <td>0.990085</td>\n",
       "      <td>0.574676</td>\n",
       "      <td>Test</td>\n",
       "      <td>1</td>\n",
       "      <td>0</td>\n",
       "      <td>0</td>\n",
       "    </tr>\n",
       "    <tr>\n",
       "      <th>63</th>\n",
       "      <td>officer</td>\n",
       "      <td>0.988256</td>\n",
       "      <td>0.001603</td>\n",
       "      <td>0.989859</td>\n",
       "      <td>0.392523</td>\n",
       "      <td>Test</td>\n",
       "      <td>0</td>\n",
       "      <td>0</td>\n",
       "      <td>1</td>\n",
       "    </tr>\n",
       "    <tr>\n",
       "      <th>13</th>\n",
       "      <td>seasonal worker</td>\n",
       "      <td>0.982460</td>\n",
       "      <td>0.007369</td>\n",
       "      <td>0.989829</td>\n",
       "      <td>0.725533</td>\n",
       "      <td>Train</td>\n",
       "      <td>1</td>\n",
       "      <td>1</td>\n",
       "      <td>0</td>\n",
       "    </tr>\n",
       "    <tr>\n",
       "      <th>14</th>\n",
       "      <td>mail carrier</td>\n",
       "      <td>0.984745</td>\n",
       "      <td>0.005035</td>\n",
       "      <td>0.989780</td>\n",
       "      <td>0.657379</td>\n",
       "      <td>Train</td>\n",
       "      <td>1</td>\n",
       "      <td>1</td>\n",
       "      <td>1</td>\n",
       "    </tr>\n",
       "    <tr>\n",
       "      <th>64</th>\n",
       "      <td>member</td>\n",
       "      <td>0.987923</td>\n",
       "      <td>0.001739</td>\n",
       "      <td>0.989661</td>\n",
       "      <td>0.413101</td>\n",
       "      <td>Train</td>\n",
       "      <td>0</td>\n",
       "      <td>0</td>\n",
       "      <td>0</td>\n",
       "    </tr>\n",
       "    <tr>\n",
       "      <th>65</th>\n",
       "      <td>set schedule</td>\n",
       "      <td>0.987143</td>\n",
       "      <td>0.002495</td>\n",
       "      <td>0.989637</td>\n",
       "      <td>0.505772</td>\n",
       "      <td>Test</td>\n",
       "      <td>1</td>\n",
       "      <td>0</td>\n",
       "      <td>0</td>\n",
       "    </tr>\n",
       "    <tr>\n",
       "      <th>15</th>\n",
       "      <td>district manager</td>\n",
       "      <td>0.987350</td>\n",
       "      <td>0.002072</td>\n",
       "      <td>0.989421</td>\n",
       "      <td>0.458324</td>\n",
       "      <td>Test</td>\n",
       "      <td>0</td>\n",
       "      <td>1</td>\n",
       "      <td>1</td>\n",
       "    </tr>\n",
       "    <tr>\n",
       "      <th>16</th>\n",
       "      <td>assistant store manager</td>\n",
       "      <td>0.984076</td>\n",
       "      <td>0.005343</td>\n",
       "      <td>0.989419</td>\n",
       "      <td>0.671163</td>\n",
       "      <td>Test</td>\n",
       "      <td>1</td>\n",
       "      <td>1</td>\n",
       "      <td>1</td>\n",
       "    </tr>\n",
       "    <tr>\n",
       "      <th>66</th>\n",
       "      <td>car</td>\n",
       "      <td>0.987648</td>\n",
       "      <td>0.001572</td>\n",
       "      <td>0.989220</td>\n",
       "      <td>0.384151</td>\n",
       "      <td>Test</td>\n",
       "      <td>0</td>\n",
       "      <td>0</td>\n",
       "      <td>0</td>\n",
       "    </tr>\n",
       "    <tr>\n",
       "      <th>67</th>\n",
       "      <td>internship</td>\n",
       "      <td>0.986948</td>\n",
       "      <td>0.002014</td>\n",
       "      <td>0.988962</td>\n",
       "      <td>0.449746</td>\n",
       "      <td>Test</td>\n",
       "      <td>0</td>\n",
       "      <td>0</td>\n",
       "      <td>0</td>\n",
       "    </tr>\n",
       "    <tr>\n",
       "      <th>68</th>\n",
       "      <td>high school</td>\n",
       "      <td>0.988355</td>\n",
       "      <td>0.000463</td>\n",
       "      <td>0.988818</td>\n",
       "      <td>0.111120</td>\n",
       "      <td>Test</td>\n",
       "      <td>0</td>\n",
       "      <td>0</td>\n",
       "      <td>0</td>\n",
       "    </tr>\n",
       "    <tr>\n",
       "      <th>17</th>\n",
       "      <td>sales representative</td>\n",
       "      <td>0.985020</td>\n",
       "      <td>0.003773</td>\n",
       "      <td>0.988793</td>\n",
       "      <td>0.604098</td>\n",
       "      <td>Train</td>\n",
       "      <td>1</td>\n",
       "      <td>1</td>\n",
       "      <td>1</td>\n",
       "    </tr>\n",
       "    <tr>\n",
       "      <th>69</th>\n",
       "      <td>truck</td>\n",
       "      <td>0.987102</td>\n",
       "      <td>0.001539</td>\n",
       "      <td>0.988641</td>\n",
       "      <td>0.375599</td>\n",
       "      <td>Test</td>\n",
       "      <td>0</td>\n",
       "      <td>0</td>\n",
       "      <td>0</td>\n",
       "    </tr>\n",
       "    <tr>\n",
       "      <th>18</th>\n",
       "      <td>family member</td>\n",
       "      <td>0.985568</td>\n",
       "      <td>0.002936</td>\n",
       "      <td>0.988504</td>\n",
       "      <td>0.546570</td>\n",
       "      <td>Test</td>\n",
       "      <td>1</td>\n",
       "      <td>1</td>\n",
       "      <td>0</td>\n",
       "    </tr>\n",
       "    <tr>\n",
       "      <th>70</th>\n",
       "      <td>temporary job</td>\n",
       "      <td>0.985414</td>\n",
       "      <td>0.002929</td>\n",
       "      <td>0.988342</td>\n",
       "      <td>0.546274</td>\n",
       "      <td>Test</td>\n",
       "      <td>1</td>\n",
       "      <td>0</td>\n",
       "      <td>0</td>\n",
       "    </tr>\n",
       "    <tr>\n",
       "      <th>71</th>\n",
       "      <td>higher position</td>\n",
       "      <td>0.983954</td>\n",
       "      <td>0.004314</td>\n",
       "      <td>0.988269</td>\n",
       "      <td>0.635704</td>\n",
       "      <td>Test</td>\n",
       "      <td>1</td>\n",
       "      <td>0</td>\n",
       "      <td>0</td>\n",
       "    </tr>\n",
       "    <tr>\n",
       "      <th>72</th>\n",
       "      <td>college degree</td>\n",
       "      <td>0.985421</td>\n",
       "      <td>0.002802</td>\n",
       "      <td>0.988223</td>\n",
       "      <td>0.535389</td>\n",
       "      <td>Test</td>\n",
       "      <td>1</td>\n",
       "      <td>0</td>\n",
       "      <td>0</td>\n",
       "    </tr>\n",
       "    <tr>\n",
       "      <th>73</th>\n",
       "      <td>pse clerk</td>\n",
       "      <td>0.984020</td>\n",
       "      <td>0.004047</td>\n",
       "      <td>0.988067</td>\n",
       "      <td>0.622875</td>\n",
       "      <td>Train</td>\n",
       "      <td>1</td>\n",
       "      <td>0</td>\n",
       "      <td>1</td>\n",
       "    </tr>\n",
       "    <tr>\n",
       "      <th>74</th>\n",
       "      <td>permanent position</td>\n",
       "      <td>0.985558</td>\n",
       "      <td>0.002473</td>\n",
       "      <td>0.988032</td>\n",
       "      <td>0.503333</td>\n",
       "      <td>Test</td>\n",
       "      <td>1</td>\n",
       "      <td>0</td>\n",
       "      <td>0</td>\n",
       "    </tr>\n",
       "    <tr>\n",
       "      <th>75</th>\n",
       "      <td>electronics</td>\n",
       "      <td>0.986316</td>\n",
       "      <td>0.001201</td>\n",
       "      <td>0.987517</td>\n",
       "      <td>0.302785</td>\n",
       "      <td>Test</td>\n",
       "      <td>0</td>\n",
       "      <td>0</td>\n",
       "      <td>0</td>\n",
       "    </tr>\n",
       "    <tr>\n",
       "      <th>76</th>\n",
       "      <td>master</td>\n",
       "      <td>0.983761</td>\n",
       "      <td>0.003301</td>\n",
       "      <td>0.987063</td>\n",
       "      <td>0.579263</td>\n",
       "      <td>Test</td>\n",
       "      <td>1</td>\n",
       "      <td>0</td>\n",
       "      <td>0</td>\n",
       "    </tr>\n",
       "    <tr>\n",
       "      <th>19</th>\n",
       "      <td>bartender</td>\n",
       "      <td>0.982348</td>\n",
       "      <td>0.004560</td>\n",
       "      <td>0.986908</td>\n",
       "      <td>0.655370</td>\n",
       "      <td>Train</td>\n",
       "      <td>1</td>\n",
       "      <td>1</td>\n",
       "      <td>1</td>\n",
       "    </tr>\n",
       "    <tr>\n",
       "      <th>77</th>\n",
       "      <td>party</td>\n",
       "      <td>0.984620</td>\n",
       "      <td>0.002267</td>\n",
       "      <td>0.986887</td>\n",
       "      <td>0.479809</td>\n",
       "      <td>Train</td>\n",
       "      <td>0</td>\n",
       "      <td>0</td>\n",
       "      <td>0</td>\n",
       "    </tr>\n",
       "    <tr>\n",
       "      <th>78</th>\n",
       "      <td>team lead</td>\n",
       "      <td>0.982128</td>\n",
       "      <td>0.004627</td>\n",
       "      <td>0.986755</td>\n",
       "      <td>0.659430</td>\n",
       "      <td>Test</td>\n",
       "      <td>1</td>\n",
       "      <td>0</td>\n",
       "      <td>1</td>\n",
       "    </tr>\n",
       "    <tr>\n",
       "      <th>79</th>\n",
       "      <td>logistics</td>\n",
       "      <td>0.986424</td>\n",
       "      <td>0.000133</td>\n",
       "      <td>0.986557</td>\n",
       "      <td>0.016876</td>\n",
       "      <td>Train</td>\n",
       "      <td>0</td>\n",
       "      <td>0</td>\n",
       "      <td>0</td>\n",
       "    </tr>\n",
       "    <tr>\n",
       "      <th>80</th>\n",
       "      <td>temp service</td>\n",
       "      <td>0.983377</td>\n",
       "      <td>0.003141</td>\n",
       "      <td>0.986518</td>\n",
       "      <td>0.568354</td>\n",
       "      <td>Test</td>\n",
       "      <td>1</td>\n",
       "      <td>0</td>\n",
       "      <td>0</td>\n",
       "    </tr>\n",
       "    <tr>\n",
       "      <th>81</th>\n",
       "      <td>temp agency</td>\n",
       "      <td>0.983934</td>\n",
       "      <td>0.002453</td>\n",
       "      <td>0.986387</td>\n",
       "      <td>0.502103</td>\n",
       "      <td>Train</td>\n",
       "      <td>1</td>\n",
       "      <td>0</td>\n",
       "      <td>0</td>\n",
       "    </tr>\n",
       "    <tr>\n",
       "      <th>82</th>\n",
       "      <td>deli department</td>\n",
       "      <td>0.985680</td>\n",
       "      <td>0.000697</td>\n",
       "      <td>0.986377</td>\n",
       "      <td>0.168840</td>\n",
       "      <td>Test</td>\n",
       "      <td>0</td>\n",
       "      <td>0</td>\n",
       "      <td>0</td>\n",
       "    </tr>\n",
       "    <tr>\n",
       "      <th>83</th>\n",
       "      <td>group interview</td>\n",
       "      <td>0.984498</td>\n",
       "      <td>0.001870</td>\n",
       "      <td>0.986368</td>\n",
       "      <td>0.424479</td>\n",
       "      <td>Test</td>\n",
       "      <td>0</td>\n",
       "      <td>0</td>\n",
       "      <td>0</td>\n",
       "    </tr>\n",
       "    <tr>\n",
       "      <th>20</th>\n",
       "      <td>grocery store</td>\n",
       "      <td>0.983088</td>\n",
       "      <td>0.003099</td>\n",
       "      <td>0.986187</td>\n",
       "      <td>0.565902</td>\n",
       "      <td>Train</td>\n",
       "      <td>1</td>\n",
       "      <td>1</td>\n",
       "      <td>0</td>\n",
       "    </tr>\n",
       "    <tr>\n",
       "      <th>21</th>\n",
       "      <td>night stocker</td>\n",
       "      <td>0.980892</td>\n",
       "      <td>0.005183</td>\n",
       "      <td>0.986075</td>\n",
       "      <td>0.688059</td>\n",
       "      <td>Train</td>\n",
       "      <td>1</td>\n",
       "      <td>1</td>\n",
       "      <td>1</td>\n",
       "    </tr>\n",
       "    <tr>\n",
       "      <th>84</th>\n",
       "      <td>cash register</td>\n",
       "      <td>0.985517</td>\n",
       "      <td>0.000519</td>\n",
       "      <td>0.986037</td>\n",
       "      <td>0.116684</td>\n",
       "      <td>Test</td>\n",
       "      <td>0</td>\n",
       "      <td>0</td>\n",
       "      <td>0</td>\n",
       "    </tr>\n",
       "    <tr>\n",
       "      <th>85</th>\n",
       "      <td>dog</td>\n",
       "      <td>0.985322</td>\n",
       "      <td>0.000690</td>\n",
       "      <td>0.986013</td>\n",
       "      <td>0.165681</td>\n",
       "      <td>Train</td>\n",
       "      <td>0</td>\n",
       "      <td>0</td>\n",
       "      <td>0</td>\n",
       "    </tr>\n",
       "    <tr>\n",
       "      <th>86</th>\n",
       "      <td>director</td>\n",
       "      <td>0.983416</td>\n",
       "      <td>0.002582</td>\n",
       "      <td>0.985998</td>\n",
       "      <td>0.516850</td>\n",
       "      <td>Test</td>\n",
       "      <td>1</td>\n",
       "      <td>0</td>\n",
       "      <td>1</td>\n",
       "    </tr>\n",
       "    <tr>\n",
       "      <th>87</th>\n",
       "      <td>drive thru</td>\n",
       "      <td>0.980888</td>\n",
       "      <td>0.004900</td>\n",
       "      <td>0.985788</td>\n",
       "      <td>0.677828</td>\n",
       "      <td>Test</td>\n",
       "      <td>1</td>\n",
       "      <td>0</td>\n",
       "      <td>0</td>\n",
       "    </tr>\n",
       "    <tr>\n",
       "      <th>88</th>\n",
       "      <td>single</td>\n",
       "      <td>0.984820</td>\n",
       "      <td>0.000921</td>\n",
       "      <td>0.985740</td>\n",
       "      <td>0.227521</td>\n",
       "      <td>Test</td>\n",
       "      <td>0</td>\n",
       "      <td>0</td>\n",
       "      <td>0</td>\n",
       "    </tr>\n",
       "    <tr>\n",
       "      <th>89</th>\n",
       "      <td>ok</td>\n",
       "      <td>0.984733</td>\n",
       "      <td>0.000511</td>\n",
       "      <td>0.985244</td>\n",
       "      <td>0.112054</td>\n",
       "      <td>Test</td>\n",
       "      <td>0</td>\n",
       "      <td>0</td>\n",
       "      <td>0</td>\n",
       "    </tr>\n",
       "    <tr>\n",
       "      <th>90</th>\n",
       "      <td>job interview</td>\n",
       "      <td>0.985016</td>\n",
       "      <td>0.000170</td>\n",
       "      <td>0.985186</td>\n",
       "      <td>0.023128</td>\n",
       "      <td>Train</td>\n",
       "      <td>0</td>\n",
       "      <td>0</td>\n",
       "      <td>0</td>\n",
       "    </tr>\n",
       "    <tr>\n",
       "      <th>91</th>\n",
       "      <td>co worker</td>\n",
       "      <td>0.984214</td>\n",
       "      <td>0.000830</td>\n",
       "      <td>0.985043</td>\n",
       "      <td>0.201155</td>\n",
       "      <td>Train</td>\n",
       "      <td>0</td>\n",
       "      <td>0</td>\n",
       "      <td>0</td>\n",
       "    </tr>\n",
       "    <tr>\n",
       "      <th>92</th>\n",
       "      <td>sales floor</td>\n",
       "      <td>0.983142</td>\n",
       "      <td>0.001887</td>\n",
       "      <td>0.985028</td>\n",
       "      <td>0.426133</td>\n",
       "      <td>Test</td>\n",
       "      <td>0</td>\n",
       "      <td>0</td>\n",
       "      <td>0</td>\n",
       "    </tr>\n",
       "    <tr>\n",
       "      <th>22</th>\n",
       "      <td>door greeter</td>\n",
       "      <td>0.977517</td>\n",
       "      <td>0.007399</td>\n",
       "      <td>0.984916</td>\n",
       "      <td>0.766663</td>\n",
       "      <td>Train</td>\n",
       "      <td>1</td>\n",
       "      <td>1</td>\n",
       "      <td>1</td>\n",
       "    </tr>\n",
       "    <tr>\n",
       "      <th>93</th>\n",
       "      <td>temporary position</td>\n",
       "      <td>0.980674</td>\n",
       "      <td>0.004180</td>\n",
       "      <td>0.984854</td>\n",
       "      <td>0.646878</td>\n",
       "      <td>Test</td>\n",
       "      <td>1</td>\n",
       "      <td>0</td>\n",
       "      <td>0</td>\n",
       "    </tr>\n",
       "    <tr>\n",
       "      <th>94</th>\n",
       "      <td>little bit</td>\n",
       "      <td>0.981716</td>\n",
       "      <td>0.003086</td>\n",
       "      <td>0.984802</td>\n",
       "      <td>0.569162</td>\n",
       "      <td>Test</td>\n",
       "      <td>1</td>\n",
       "      <td>0</td>\n",
       "      <td>0</td>\n",
       "    </tr>\n",
       "    <tr>\n",
       "      <th>95</th>\n",
       "      <td>nursing</td>\n",
       "      <td>0.984123</td>\n",
       "      <td>0.000595</td>\n",
       "      <td>0.984718</td>\n",
       "      <td>0.134735</td>\n",
       "      <td>Test</td>\n",
       "      <td>0</td>\n",
       "      <td>0</td>\n",
       "      <td>0</td>\n",
       "    </tr>\n",
       "    <tr>\n",
       "      <th>96</th>\n",
       "      <td>garden center</td>\n",
       "      <td>0.981740</td>\n",
       "      <td>0.002766</td>\n",
       "      <td>0.984506</td>\n",
       "      <td>0.539524</td>\n",
       "      <td>Test</td>\n",
       "      <td>1</td>\n",
       "      <td>0</td>\n",
       "      <td>0</td>\n",
       "    </tr>\n",
       "    <tr>\n",
       "      <th>97</th>\n",
       "      <td>bit</td>\n",
       "      <td>0.982640</td>\n",
       "      <td>0.001569</td>\n",
       "      <td>0.984209</td>\n",
       "      <td>0.370324</td>\n",
       "      <td>Test</td>\n",
       "      <td>0</td>\n",
       "      <td>0</td>\n",
       "      <td>0</td>\n",
       "    </tr>\n",
       "    <tr>\n",
       "      <th>98</th>\n",
       "      <td>coach</td>\n",
       "      <td>0.979134</td>\n",
       "      <td>0.004848</td>\n",
       "      <td>0.983983</td>\n",
       "      <td>0.686632</td>\n",
       "      <td>Test</td>\n",
       "      <td>1</td>\n",
       "      <td>0</td>\n",
       "      <td>1</td>\n",
       "    </tr>\n",
       "    <tr>\n",
       "      <th>99</th>\n",
       "      <td>career employee</td>\n",
       "      <td>0.980111</td>\n",
       "      <td>0.003646</td>\n",
       "      <td>0.983757</td>\n",
       "      <td>0.618087</td>\n",
       "      <td>Test</td>\n",
       "      <td>1</td>\n",
       "      <td>0</td>\n",
       "      <td>0</td>\n",
       "    </tr>\n",
       "    <tr>\n",
       "      <th>23</th>\n",
       "      <td>salon manager</td>\n",
       "      <td>0.982272</td>\n",
       "      <td>0.001417</td>\n",
       "      <td>0.983689</td>\n",
       "      <td>0.339340</td>\n",
       "      <td>Train</td>\n",
       "      <td>0</td>\n",
       "      <td>1</td>\n",
       "      <td>1</td>\n",
       "    </tr>\n",
       "  </tbody>\n",
       "</table>\n",
       "</div>"
      ],
      "text/plain": [
       "                   neighbor       sim    margin  sim+margin  pred_proba  \\\n",
       "24          delivery driver  0.998022  0.009049    1.007071    0.134234   \n",
       "25          sales associate  0.997942  0.007970    1.005912    0.168042   \n",
       "26                  cashier  0.998204  0.006349    1.004553    0.180459   \n",
       "0               crew member  0.997148  0.007127    1.004276    0.287703   \n",
       "27               key holder  0.995992  0.007562    1.003554    0.383885   \n",
       "1         assistant manager  0.996511  0.005911    1.002422    0.391429   \n",
       "28               dishwasher  0.993145  0.009144    1.002290    0.520286   \n",
       "29          package handler  0.994812  0.006818    1.001630    0.480476   \n",
       "30             shift leader  0.993093  0.008443    1.001535    0.532680   \n",
       "31              team leader  0.993108  0.008126    1.001234    0.536384   \n",
       "32                  barista  0.993921  0.007198    1.001119    0.516198   \n",
       "33               pharmacist  0.994044  0.006636    1.000680    0.519751   \n",
       "2            courtesy clerk  0.992047  0.008569    1.000616    0.569915   \n",
       "34              team member  0.994603  0.005433    1.000036    0.515406   \n",
       "35           beauty advisor  0.991979  0.007247    0.999226    0.582874   \n",
       "36               shift lead  0.991792  0.007420    0.999212    0.586936   \n",
       "3                    packer  0.987121  0.011956    0.999077    0.680620   \n",
       "37        seasonal employee  0.991814  0.007049    0.998863    0.588386   \n",
       "38                  trainer  0.992150  0.006464    0.998615    0.582462   \n",
       "4          shift supervisor  0.990097  0.008014    0.998112    0.625897   \n",
       "5             driver helper  0.990982  0.007123    0.998105    0.608105   \n",
       "39             head cashier  0.992132  0.005412    0.997544    0.584052   \n",
       "40        beauty consultant  0.989630  0.006757    0.996387    0.633666   \n",
       "41                  carrier  0.991974  0.004388    0.996362    0.578755   \n",
       "42                     lead  0.991533  0.004689    0.996222    0.588588   \n",
       "6                 sales rep  0.986586  0.009138    0.995724    0.691118   \n",
       "43                  student  0.991679  0.003974    0.995652    0.574535   \n",
       "44                       gm  0.992406  0.003073    0.995479    0.541956   \n",
       "7           general manager  0.992467  0.003004    0.995471    0.538867   \n",
       "45                warehouse  0.994366  0.001058    0.995424    0.359953   \n",
       "8                  pharmacy  0.993406  0.001423    0.994829    0.410063   \n",
       "9                   manager  0.992072  0.002682    0.994755    0.523729   \n",
       "46                      rca  0.993288  0.001156    0.994444    0.360361   \n",
       "47            store manager  0.991152  0.003127    0.994279    0.548996   \n",
       "48         regular employee  0.988487  0.005354    0.993841    0.634145   \n",
       "49                  veteran  0.989630  0.004098    0.993728    0.594370   \n",
       "50                      mgr  0.987782  0.005905    0.993687    0.650607   \n",
       "51             city carrier  0.989612  0.004028    0.993641    0.592251   \n",
       "10             store manger  0.989615  0.003869    0.993484    0.586792   \n",
       "52       permanent employee  0.986656  0.006750    0.993406    0.674431   \n",
       "53               department  0.991847  0.001553    0.993399    0.411805   \n",
       "54                 forklift  0.988598  0.004092    0.992690    0.600805   \n",
       "55            rural carrier  0.988757  0.003826    0.992583    0.589825   \n",
       "56                  janitor  0.987446  0.004990    0.992437    0.635901   \n",
       "57                front end  0.988822  0.002854    0.991676    0.536383   \n",
       "11                   bakery  0.988933  0.002617    0.991550    0.517983   \n",
       "58           cart attendant  0.978673  0.012873    0.991546    0.804212   \n",
       "59          loss prevention  0.990144  0.001223    0.991367    0.334074   \n",
       "60                 military  0.990187  0.000722    0.990909    0.205306   \n",
       "12                line cook  0.981973  0.008670    0.990643    0.745455   \n",
       "61              cart pusher  0.979848  0.010510    0.990358    0.781068   \n",
       "62          meat department  0.986716  0.003369    0.990085    0.574676   \n",
       "63                  officer  0.988256  0.001603    0.989859    0.392523   \n",
       "13          seasonal worker  0.982460  0.007369    0.989829    0.725533   \n",
       "14             mail carrier  0.984745  0.005035    0.989780    0.657379   \n",
       "64                   member  0.987923  0.001739    0.989661    0.413101   \n",
       "65             set schedule  0.987143  0.002495    0.989637    0.505772   \n",
       "15         district manager  0.987350  0.002072    0.989421    0.458324   \n",
       "16  assistant store manager  0.984076  0.005343    0.989419    0.671163   \n",
       "66                      car  0.987648  0.001572    0.989220    0.384151   \n",
       "67               internship  0.986948  0.002014    0.988962    0.449746   \n",
       "68              high school  0.988355  0.000463    0.988818    0.111120   \n",
       "17     sales representative  0.985020  0.003773    0.988793    0.604098   \n",
       "69                    truck  0.987102  0.001539    0.988641    0.375599   \n",
       "18            family member  0.985568  0.002936    0.988504    0.546570   \n",
       "70            temporary job  0.985414  0.002929    0.988342    0.546274   \n",
       "71          higher position  0.983954  0.004314    0.988269    0.635704   \n",
       "72           college degree  0.985421  0.002802    0.988223    0.535389   \n",
       "73                pse clerk  0.984020  0.004047    0.988067    0.622875   \n",
       "74       permanent position  0.985558  0.002473    0.988032    0.503333   \n",
       "75              electronics  0.986316  0.001201    0.987517    0.302785   \n",
       "76                   master  0.983761  0.003301    0.987063    0.579263   \n",
       "19                bartender  0.982348  0.004560    0.986908    0.655370   \n",
       "77                    party  0.984620  0.002267    0.986887    0.479809   \n",
       "78                team lead  0.982128  0.004627    0.986755    0.659430   \n",
       "79                logistics  0.986424  0.000133    0.986557    0.016876   \n",
       "80             temp service  0.983377  0.003141    0.986518    0.568354   \n",
       "81              temp agency  0.983934  0.002453    0.986387    0.502103   \n",
       "82          deli department  0.985680  0.000697    0.986377    0.168840   \n",
       "83          group interview  0.984498  0.001870    0.986368    0.424479   \n",
       "20            grocery store  0.983088  0.003099    0.986187    0.565902   \n",
       "21            night stocker  0.980892  0.005183    0.986075    0.688059   \n",
       "84            cash register  0.985517  0.000519    0.986037    0.116684   \n",
       "85                      dog  0.985322  0.000690    0.986013    0.165681   \n",
       "86                 director  0.983416  0.002582    0.985998    0.516850   \n",
       "87               drive thru  0.980888  0.004900    0.985788    0.677828   \n",
       "88                   single  0.984820  0.000921    0.985740    0.227521   \n",
       "89                       ok  0.984733  0.000511    0.985244    0.112054   \n",
       "90            job interview  0.985016  0.000170    0.985186    0.023128   \n",
       "91                co worker  0.984214  0.000830    0.985043    0.201155   \n",
       "92              sales floor  0.983142  0.001887    0.985028    0.426133   \n",
       "22             door greeter  0.977517  0.007399    0.984916    0.766663   \n",
       "93       temporary position  0.980674  0.004180    0.984854    0.646878   \n",
       "94               little bit  0.981716  0.003086    0.984802    0.569162   \n",
       "95                  nursing  0.984123  0.000595    0.984718    0.134735   \n",
       "96            garden center  0.981740  0.002766    0.984506    0.539524   \n",
       "97                      bit  0.982640  0.001569    0.984209    0.370324   \n",
       "98                    coach  0.979134  0.004848    0.983983    0.686632   \n",
       "99          career employee  0.980111  0.003646    0.983757    0.618087   \n",
       "23            salon manager  0.982272  0.001417    0.983689    0.339340   \n",
       "\n",
       "    split  pred  label  human_label  \n",
       "24  Train     0      0            1  \n",
       "25   Test     0      0            1  \n",
       "26  Train     0      0            1  \n",
       "0   Train     0      1            1  \n",
       "27   Test     0      0            1  \n",
       "1   Train     0      1            1  \n",
       "28   Test     1      0            1  \n",
       "29  Train     0      0            1  \n",
       "30   Test     1      0            1  \n",
       "31   Test     1      0            1  \n",
       "32  Train     1      0            1  \n",
       "33   Test     1      0            1  \n",
       "2   Train     1      1            1  \n",
       "34   Test     1      0            0  \n",
       "35  Train     1      0            1  \n",
       "36   Test     1      0            1  \n",
       "3   Train     1      1            1  \n",
       "37  Train     1      0            0  \n",
       "38   Test     1      0            1  \n",
       "4    Test     1      1            1  \n",
       "5   Train     1      1            1  \n",
       "39   Test     1      0            1  \n",
       "40  Train     1      0            1  \n",
       "41   Test     1      0            1  \n",
       "42  Train     1      0            1  \n",
       "6   Train     1      1            1  \n",
       "43  Train     1      0            0  \n",
       "44   Test     1      0            1  \n",
       "7   Train     1      1            1  \n",
       "45  Train     0      0            0  \n",
       "8   Train     0      1            0  \n",
       "9   Train     1      1            1  \n",
       "46   Test     0      0            1  \n",
       "47   Test     1      0            1  \n",
       "48   Test     1      0            0  \n",
       "49   Test     1      0            0  \n",
       "50   Test     1      0            1  \n",
       "51   Test     1      0            1  \n",
       "10  Train     1      1            1  \n",
       "52   Test     1      0            0  \n",
       "53   Test     0      0            0  \n",
       "54  Train     1      0            1  \n",
       "55   Test     1      0            1  \n",
       "56   Test     1      0            1  \n",
       "57   Test     1      0            1  \n",
       "11  Train     1      1            0  \n",
       "58   Test     1      0            1  \n",
       "59   Test     0      0            0  \n",
       "60   Test     0      0            0  \n",
       "12  Train     1      1            1  \n",
       "61  Train     1      0            1  \n",
       "62   Test     1      0            0  \n",
       "63   Test     0      0            1  \n",
       "13  Train     1      1            0  \n",
       "14  Train     1      1            1  \n",
       "64  Train     0      0            0  \n",
       "65   Test     1      0            0  \n",
       "15   Test     0      1            1  \n",
       "16   Test     1      1            1  \n",
       "66   Test     0      0            0  \n",
       "67   Test     0      0            0  \n",
       "68   Test     0      0            0  \n",
       "17  Train     1      1            1  \n",
       "69   Test     0      0            0  \n",
       "18   Test     1      1            0  \n",
       "70   Test     1      0            0  \n",
       "71   Test     1      0            0  \n",
       "72   Test     1      0            0  \n",
       "73  Train     1      0            1  \n",
       "74   Test     1      0            0  \n",
       "75   Test     0      0            0  \n",
       "76   Test     1      0            0  \n",
       "19  Train     1      1            1  \n",
       "77  Train     0      0            0  \n",
       "78   Test     1      0            1  \n",
       "79  Train     0      0            0  \n",
       "80   Test     1      0            0  \n",
       "81  Train     1      0            0  \n",
       "82   Test     0      0            0  \n",
       "83   Test     0      0            0  \n",
       "20  Train     1      1            0  \n",
       "21  Train     1      1            1  \n",
       "84   Test     0      0            0  \n",
       "85  Train     0      0            0  \n",
       "86   Test     1      0            1  \n",
       "87   Test     1      0            0  \n",
       "88   Test     0      0            0  \n",
       "89   Test     0      0            0  \n",
       "90  Train     0      0            0  \n",
       "91  Train     0      0            0  \n",
       "92   Test     0      0            0  \n",
       "22  Train     1      1            1  \n",
       "93   Test     1      0            0  \n",
       "94   Test     1      0            0  \n",
       "95   Test     0      0            0  \n",
       "96   Test     1      0            0  \n",
       "97   Test     0      0            0  \n",
       "98   Test     1      0            1  \n",
       "99   Test     1      0            0  \n",
       "23  Train     0      1            1  "
      ]
     },
     "execution_count": 276,
     "metadata": {},
     "output_type": "execute_result"
    }
   ],
   "source": [
    "# pd.set_option(\"display.max_rows\", 100)\n",
    "\n",
    "_df[['neighbor', 'sim', 'margin', 'sim+margin', 'pred_proba', 'split', 'pred', 'label', 'human_label']].head(100)"
   ]
  },
  {
   "cell_type": "code",
   "execution_count": 280,
   "metadata": {},
   "outputs": [
    {
     "data": {
      "text/html": [
       "<div>\n",
       "<style scoped>\n",
       "    .dataframe tbody tr th:only-of-type {\n",
       "        vertical-align: middle;\n",
       "    }\n",
       "\n",
       "    .dataframe tbody tr th {\n",
       "        vertical-align: top;\n",
       "    }\n",
       "\n",
       "    .dataframe thead th {\n",
       "        text-align: right;\n",
       "    }\n",
       "</style>\n",
       "<table border=\"1\" class=\"dataframe\">\n",
       "  <thead>\n",
       "    <tr style=\"text-align: right;\">\n",
       "      <th></th>\n",
       "      <th>neighbor</th>\n",
       "      <th>sim</th>\n",
       "      <th>margin</th>\n",
       "      <th>sim+margin</th>\n",
       "      <th>pred_proba</th>\n",
       "      <th>split</th>\n",
       "      <th>pred</th>\n",
       "      <th>label</th>\n",
       "      <th>human_label</th>\n",
       "    </tr>\n",
       "  </thead>\n",
       "  <tbody>\n",
       "    <tr>\n",
       "      <th>58</th>\n",
       "      <td>cart attendant</td>\n",
       "      <td>0.978673</td>\n",
       "      <td>0.012873</td>\n",
       "      <td>0.991546</td>\n",
       "      <td>0.804212</td>\n",
       "      <td>Test</td>\n",
       "      <td>1</td>\n",
       "      <td>0</td>\n",
       "      <td>1</td>\n",
       "    </tr>\n",
       "    <tr>\n",
       "      <th>61</th>\n",
       "      <td>cart pusher</td>\n",
       "      <td>0.979848</td>\n",
       "      <td>0.010510</td>\n",
       "      <td>0.990358</td>\n",
       "      <td>0.781068</td>\n",
       "      <td>Train</td>\n",
       "      <td>1</td>\n",
       "      <td>0</td>\n",
       "      <td>1</td>\n",
       "    </tr>\n",
       "    <tr>\n",
       "      <th>22</th>\n",
       "      <td>door greeter</td>\n",
       "      <td>0.977517</td>\n",
       "      <td>0.007399</td>\n",
       "      <td>0.984916</td>\n",
       "      <td>0.766663</td>\n",
       "      <td>Train</td>\n",
       "      <td>1</td>\n",
       "      <td>1</td>\n",
       "      <td>1</td>\n",
       "    </tr>\n",
       "    <tr>\n",
       "      <th>12</th>\n",
       "      <td>line cook</td>\n",
       "      <td>0.981973</td>\n",
       "      <td>0.008670</td>\n",
       "      <td>0.990643</td>\n",
       "      <td>0.745455</td>\n",
       "      <td>Train</td>\n",
       "      <td>1</td>\n",
       "      <td>1</td>\n",
       "      <td>1</td>\n",
       "    </tr>\n",
       "    <tr>\n",
       "      <th>13</th>\n",
       "      <td>seasonal worker</td>\n",
       "      <td>0.982460</td>\n",
       "      <td>0.007369</td>\n",
       "      <td>0.989829</td>\n",
       "      <td>0.725533</td>\n",
       "      <td>Train</td>\n",
       "      <td>1</td>\n",
       "      <td>1</td>\n",
       "      <td>0</td>\n",
       "    </tr>\n",
       "    <tr>\n",
       "      <th>6</th>\n",
       "      <td>sales rep</td>\n",
       "      <td>0.986586</td>\n",
       "      <td>0.009138</td>\n",
       "      <td>0.995724</td>\n",
       "      <td>0.691118</td>\n",
       "      <td>Train</td>\n",
       "      <td>1</td>\n",
       "      <td>1</td>\n",
       "      <td>1</td>\n",
       "    </tr>\n",
       "    <tr>\n",
       "      <th>21</th>\n",
       "      <td>night stocker</td>\n",
       "      <td>0.980892</td>\n",
       "      <td>0.005183</td>\n",
       "      <td>0.986075</td>\n",
       "      <td>0.688059</td>\n",
       "      <td>Train</td>\n",
       "      <td>1</td>\n",
       "      <td>1</td>\n",
       "      <td>1</td>\n",
       "    </tr>\n",
       "    <tr>\n",
       "      <th>98</th>\n",
       "      <td>coach</td>\n",
       "      <td>0.979134</td>\n",
       "      <td>0.004848</td>\n",
       "      <td>0.983983</td>\n",
       "      <td>0.686632</td>\n",
       "      <td>Test</td>\n",
       "      <td>1</td>\n",
       "      <td>0</td>\n",
       "      <td>1</td>\n",
       "    </tr>\n",
       "    <tr>\n",
       "      <th>3</th>\n",
       "      <td>packer</td>\n",
       "      <td>0.987121</td>\n",
       "      <td>0.011956</td>\n",
       "      <td>0.999077</td>\n",
       "      <td>0.680620</td>\n",
       "      <td>Train</td>\n",
       "      <td>1</td>\n",
       "      <td>1</td>\n",
       "      <td>1</td>\n",
       "    </tr>\n",
       "    <tr>\n",
       "      <th>87</th>\n",
       "      <td>drive thru</td>\n",
       "      <td>0.980888</td>\n",
       "      <td>0.004900</td>\n",
       "      <td>0.985788</td>\n",
       "      <td>0.677828</td>\n",
       "      <td>Test</td>\n",
       "      <td>1</td>\n",
       "      <td>0</td>\n",
       "      <td>0</td>\n",
       "    </tr>\n",
       "    <tr>\n",
       "      <th>52</th>\n",
       "      <td>permanent employee</td>\n",
       "      <td>0.986656</td>\n",
       "      <td>0.006750</td>\n",
       "      <td>0.993406</td>\n",
       "      <td>0.674431</td>\n",
       "      <td>Test</td>\n",
       "      <td>1</td>\n",
       "      <td>0</td>\n",
       "      <td>0</td>\n",
       "    </tr>\n",
       "    <tr>\n",
       "      <th>16</th>\n",
       "      <td>assistant store manager</td>\n",
       "      <td>0.984076</td>\n",
       "      <td>0.005343</td>\n",
       "      <td>0.989419</td>\n",
       "      <td>0.671163</td>\n",
       "      <td>Test</td>\n",
       "      <td>1</td>\n",
       "      <td>1</td>\n",
       "      <td>1</td>\n",
       "    </tr>\n",
       "    <tr>\n",
       "      <th>78</th>\n",
       "      <td>team lead</td>\n",
       "      <td>0.982128</td>\n",
       "      <td>0.004627</td>\n",
       "      <td>0.986755</td>\n",
       "      <td>0.659430</td>\n",
       "      <td>Test</td>\n",
       "      <td>1</td>\n",
       "      <td>0</td>\n",
       "      <td>1</td>\n",
       "    </tr>\n",
       "    <tr>\n",
       "      <th>14</th>\n",
       "      <td>mail carrier</td>\n",
       "      <td>0.984745</td>\n",
       "      <td>0.005035</td>\n",
       "      <td>0.989780</td>\n",
       "      <td>0.657379</td>\n",
       "      <td>Train</td>\n",
       "      <td>1</td>\n",
       "      <td>1</td>\n",
       "      <td>1</td>\n",
       "    </tr>\n",
       "    <tr>\n",
       "      <th>19</th>\n",
       "      <td>bartender</td>\n",
       "      <td>0.982348</td>\n",
       "      <td>0.004560</td>\n",
       "      <td>0.986908</td>\n",
       "      <td>0.655370</td>\n",
       "      <td>Train</td>\n",
       "      <td>1</td>\n",
       "      <td>1</td>\n",
       "      <td>1</td>\n",
       "    </tr>\n",
       "    <tr>\n",
       "      <th>50</th>\n",
       "      <td>mgr</td>\n",
       "      <td>0.987782</td>\n",
       "      <td>0.005905</td>\n",
       "      <td>0.993687</td>\n",
       "      <td>0.650607</td>\n",
       "      <td>Test</td>\n",
       "      <td>1</td>\n",
       "      <td>0</td>\n",
       "      <td>1</td>\n",
       "    </tr>\n",
       "    <tr>\n",
       "      <th>93</th>\n",
       "      <td>temporary position</td>\n",
       "      <td>0.980674</td>\n",
       "      <td>0.004180</td>\n",
       "      <td>0.984854</td>\n",
       "      <td>0.646878</td>\n",
       "      <td>Test</td>\n",
       "      <td>1</td>\n",
       "      <td>0</td>\n",
       "      <td>0</td>\n",
       "    </tr>\n",
       "    <tr>\n",
       "      <th>56</th>\n",
       "      <td>janitor</td>\n",
       "      <td>0.987446</td>\n",
       "      <td>0.004990</td>\n",
       "      <td>0.992437</td>\n",
       "      <td>0.635901</td>\n",
       "      <td>Test</td>\n",
       "      <td>1</td>\n",
       "      <td>0</td>\n",
       "      <td>1</td>\n",
       "    </tr>\n",
       "    <tr>\n",
       "      <th>71</th>\n",
       "      <td>higher position</td>\n",
       "      <td>0.983954</td>\n",
       "      <td>0.004314</td>\n",
       "      <td>0.988269</td>\n",
       "      <td>0.635704</td>\n",
       "      <td>Test</td>\n",
       "      <td>1</td>\n",
       "      <td>0</td>\n",
       "      <td>0</td>\n",
       "    </tr>\n",
       "    <tr>\n",
       "      <th>48</th>\n",
       "      <td>regular employee</td>\n",
       "      <td>0.988487</td>\n",
       "      <td>0.005354</td>\n",
       "      <td>0.993841</td>\n",
       "      <td>0.634145</td>\n",
       "      <td>Test</td>\n",
       "      <td>1</td>\n",
       "      <td>0</td>\n",
       "      <td>0</td>\n",
       "    </tr>\n",
       "    <tr>\n",
       "      <th>40</th>\n",
       "      <td>beauty consultant</td>\n",
       "      <td>0.989630</td>\n",
       "      <td>0.006757</td>\n",
       "      <td>0.996387</td>\n",
       "      <td>0.633666</td>\n",
       "      <td>Train</td>\n",
       "      <td>1</td>\n",
       "      <td>0</td>\n",
       "      <td>1</td>\n",
       "    </tr>\n",
       "    <tr>\n",
       "      <th>4</th>\n",
       "      <td>shift supervisor</td>\n",
       "      <td>0.990097</td>\n",
       "      <td>0.008014</td>\n",
       "      <td>0.998112</td>\n",
       "      <td>0.625897</td>\n",
       "      <td>Test</td>\n",
       "      <td>1</td>\n",
       "      <td>1</td>\n",
       "      <td>1</td>\n",
       "    </tr>\n",
       "    <tr>\n",
       "      <th>73</th>\n",
       "      <td>pse clerk</td>\n",
       "      <td>0.984020</td>\n",
       "      <td>0.004047</td>\n",
       "      <td>0.988067</td>\n",
       "      <td>0.622875</td>\n",
       "      <td>Train</td>\n",
       "      <td>1</td>\n",
       "      <td>0</td>\n",
       "      <td>1</td>\n",
       "    </tr>\n",
       "    <tr>\n",
       "      <th>99</th>\n",
       "      <td>career employee</td>\n",
       "      <td>0.980111</td>\n",
       "      <td>0.003646</td>\n",
       "      <td>0.983757</td>\n",
       "      <td>0.618087</td>\n",
       "      <td>Test</td>\n",
       "      <td>1</td>\n",
       "      <td>0</td>\n",
       "      <td>0</td>\n",
       "    </tr>\n",
       "    <tr>\n",
       "      <th>5</th>\n",
       "      <td>driver helper</td>\n",
       "      <td>0.990982</td>\n",
       "      <td>0.007123</td>\n",
       "      <td>0.998105</td>\n",
       "      <td>0.608105</td>\n",
       "      <td>Train</td>\n",
       "      <td>1</td>\n",
       "      <td>1</td>\n",
       "      <td>1</td>\n",
       "    </tr>\n",
       "    <tr>\n",
       "      <th>17</th>\n",
       "      <td>sales representative</td>\n",
       "      <td>0.985020</td>\n",
       "      <td>0.003773</td>\n",
       "      <td>0.988793</td>\n",
       "      <td>0.604098</td>\n",
       "      <td>Train</td>\n",
       "      <td>1</td>\n",
       "      <td>1</td>\n",
       "      <td>1</td>\n",
       "    </tr>\n",
       "    <tr>\n",
       "      <th>54</th>\n",
       "      <td>forklift</td>\n",
       "      <td>0.988598</td>\n",
       "      <td>0.004092</td>\n",
       "      <td>0.992690</td>\n",
       "      <td>0.600805</td>\n",
       "      <td>Train</td>\n",
       "      <td>1</td>\n",
       "      <td>0</td>\n",
       "      <td>1</td>\n",
       "    </tr>\n",
       "    <tr>\n",
       "      <th>49</th>\n",
       "      <td>veteran</td>\n",
       "      <td>0.989630</td>\n",
       "      <td>0.004098</td>\n",
       "      <td>0.993728</td>\n",
       "      <td>0.594370</td>\n",
       "      <td>Test</td>\n",
       "      <td>1</td>\n",
       "      <td>0</td>\n",
       "      <td>0</td>\n",
       "    </tr>\n",
       "    <tr>\n",
       "      <th>51</th>\n",
       "      <td>city carrier</td>\n",
       "      <td>0.989612</td>\n",
       "      <td>0.004028</td>\n",
       "      <td>0.993641</td>\n",
       "      <td>0.592251</td>\n",
       "      <td>Test</td>\n",
       "      <td>1</td>\n",
       "      <td>0</td>\n",
       "      <td>1</td>\n",
       "    </tr>\n",
       "    <tr>\n",
       "      <th>55</th>\n",
       "      <td>rural carrier</td>\n",
       "      <td>0.988757</td>\n",
       "      <td>0.003826</td>\n",
       "      <td>0.992583</td>\n",
       "      <td>0.589825</td>\n",
       "      <td>Test</td>\n",
       "      <td>1</td>\n",
       "      <td>0</td>\n",
       "      <td>1</td>\n",
       "    </tr>\n",
       "    <tr>\n",
       "      <th>42</th>\n",
       "      <td>lead</td>\n",
       "      <td>0.991533</td>\n",
       "      <td>0.004689</td>\n",
       "      <td>0.996222</td>\n",
       "      <td>0.588588</td>\n",
       "      <td>Train</td>\n",
       "      <td>1</td>\n",
       "      <td>0</td>\n",
       "      <td>1</td>\n",
       "    </tr>\n",
       "    <tr>\n",
       "      <th>37</th>\n",
       "      <td>seasonal employee</td>\n",
       "      <td>0.991814</td>\n",
       "      <td>0.007049</td>\n",
       "      <td>0.998863</td>\n",
       "      <td>0.588386</td>\n",
       "      <td>Train</td>\n",
       "      <td>1</td>\n",
       "      <td>0</td>\n",
       "      <td>0</td>\n",
       "    </tr>\n",
       "    <tr>\n",
       "      <th>36</th>\n",
       "      <td>shift lead</td>\n",
       "      <td>0.991792</td>\n",
       "      <td>0.007420</td>\n",
       "      <td>0.999212</td>\n",
       "      <td>0.586936</td>\n",
       "      <td>Test</td>\n",
       "      <td>1</td>\n",
       "      <td>0</td>\n",
       "      <td>1</td>\n",
       "    </tr>\n",
       "    <tr>\n",
       "      <th>10</th>\n",
       "      <td>store manger</td>\n",
       "      <td>0.989615</td>\n",
       "      <td>0.003869</td>\n",
       "      <td>0.993484</td>\n",
       "      <td>0.586792</td>\n",
       "      <td>Train</td>\n",
       "      <td>1</td>\n",
       "      <td>1</td>\n",
       "      <td>1</td>\n",
       "    </tr>\n",
       "    <tr>\n",
       "      <th>39</th>\n",
       "      <td>head cashier</td>\n",
       "      <td>0.992132</td>\n",
       "      <td>0.005412</td>\n",
       "      <td>0.997544</td>\n",
       "      <td>0.584052</td>\n",
       "      <td>Test</td>\n",
       "      <td>1</td>\n",
       "      <td>0</td>\n",
       "      <td>1</td>\n",
       "    </tr>\n",
       "    <tr>\n",
       "      <th>35</th>\n",
       "      <td>beauty advisor</td>\n",
       "      <td>0.991979</td>\n",
       "      <td>0.007247</td>\n",
       "      <td>0.999226</td>\n",
       "      <td>0.582874</td>\n",
       "      <td>Train</td>\n",
       "      <td>1</td>\n",
       "      <td>0</td>\n",
       "      <td>1</td>\n",
       "    </tr>\n",
       "    <tr>\n",
       "      <th>38</th>\n",
       "      <td>trainer</td>\n",
       "      <td>0.992150</td>\n",
       "      <td>0.006464</td>\n",
       "      <td>0.998615</td>\n",
       "      <td>0.582462</td>\n",
       "      <td>Test</td>\n",
       "      <td>1</td>\n",
       "      <td>0</td>\n",
       "      <td>1</td>\n",
       "    </tr>\n",
       "    <tr>\n",
       "      <th>76</th>\n",
       "      <td>master</td>\n",
       "      <td>0.983761</td>\n",
       "      <td>0.003301</td>\n",
       "      <td>0.987063</td>\n",
       "      <td>0.579263</td>\n",
       "      <td>Test</td>\n",
       "      <td>1</td>\n",
       "      <td>0</td>\n",
       "      <td>0</td>\n",
       "    </tr>\n",
       "    <tr>\n",
       "      <th>41</th>\n",
       "      <td>carrier</td>\n",
       "      <td>0.991974</td>\n",
       "      <td>0.004388</td>\n",
       "      <td>0.996362</td>\n",
       "      <td>0.578755</td>\n",
       "      <td>Test</td>\n",
       "      <td>1</td>\n",
       "      <td>0</td>\n",
       "      <td>1</td>\n",
       "    </tr>\n",
       "    <tr>\n",
       "      <th>62</th>\n",
       "      <td>meat department</td>\n",
       "      <td>0.986716</td>\n",
       "      <td>0.003369</td>\n",
       "      <td>0.990085</td>\n",
       "      <td>0.574676</td>\n",
       "      <td>Test</td>\n",
       "      <td>1</td>\n",
       "      <td>0</td>\n",
       "      <td>0</td>\n",
       "    </tr>\n",
       "    <tr>\n",
       "      <th>43</th>\n",
       "      <td>student</td>\n",
       "      <td>0.991679</td>\n",
       "      <td>0.003974</td>\n",
       "      <td>0.995652</td>\n",
       "      <td>0.574535</td>\n",
       "      <td>Train</td>\n",
       "      <td>1</td>\n",
       "      <td>0</td>\n",
       "      <td>0</td>\n",
       "    </tr>\n",
       "    <tr>\n",
       "      <th>2</th>\n",
       "      <td>courtesy clerk</td>\n",
       "      <td>0.992047</td>\n",
       "      <td>0.008569</td>\n",
       "      <td>1.000616</td>\n",
       "      <td>0.569915</td>\n",
       "      <td>Train</td>\n",
       "      <td>1</td>\n",
       "      <td>1</td>\n",
       "      <td>1</td>\n",
       "    </tr>\n",
       "    <tr>\n",
       "      <th>94</th>\n",
       "      <td>little bit</td>\n",
       "      <td>0.981716</td>\n",
       "      <td>0.003086</td>\n",
       "      <td>0.984802</td>\n",
       "      <td>0.569162</td>\n",
       "      <td>Test</td>\n",
       "      <td>1</td>\n",
       "      <td>0</td>\n",
       "      <td>0</td>\n",
       "    </tr>\n",
       "    <tr>\n",
       "      <th>80</th>\n",
       "      <td>temp service</td>\n",
       "      <td>0.983377</td>\n",
       "      <td>0.003141</td>\n",
       "      <td>0.986518</td>\n",
       "      <td>0.568354</td>\n",
       "      <td>Test</td>\n",
       "      <td>1</td>\n",
       "      <td>0</td>\n",
       "      <td>0</td>\n",
       "    </tr>\n",
       "    <tr>\n",
       "      <th>20</th>\n",
       "      <td>grocery store</td>\n",
       "      <td>0.983088</td>\n",
       "      <td>0.003099</td>\n",
       "      <td>0.986187</td>\n",
       "      <td>0.565902</td>\n",
       "      <td>Train</td>\n",
       "      <td>1</td>\n",
       "      <td>1</td>\n",
       "      <td>0</td>\n",
       "    </tr>\n",
       "    <tr>\n",
       "      <th>47</th>\n",
       "      <td>store manager</td>\n",
       "      <td>0.991152</td>\n",
       "      <td>0.003127</td>\n",
       "      <td>0.994279</td>\n",
       "      <td>0.548996</td>\n",
       "      <td>Test</td>\n",
       "      <td>1</td>\n",
       "      <td>0</td>\n",
       "      <td>1</td>\n",
       "    </tr>\n",
       "    <tr>\n",
       "      <th>18</th>\n",
       "      <td>family member</td>\n",
       "      <td>0.985568</td>\n",
       "      <td>0.002936</td>\n",
       "      <td>0.988504</td>\n",
       "      <td>0.546570</td>\n",
       "      <td>Test</td>\n",
       "      <td>1</td>\n",
       "      <td>1</td>\n",
       "      <td>0</td>\n",
       "    </tr>\n",
       "    <tr>\n",
       "      <th>70</th>\n",
       "      <td>temporary job</td>\n",
       "      <td>0.985414</td>\n",
       "      <td>0.002929</td>\n",
       "      <td>0.988342</td>\n",
       "      <td>0.546274</td>\n",
       "      <td>Test</td>\n",
       "      <td>1</td>\n",
       "      <td>0</td>\n",
       "      <td>0</td>\n",
       "    </tr>\n",
       "    <tr>\n",
       "      <th>44</th>\n",
       "      <td>gm</td>\n",
       "      <td>0.992406</td>\n",
       "      <td>0.003073</td>\n",
       "      <td>0.995479</td>\n",
       "      <td>0.541956</td>\n",
       "      <td>Test</td>\n",
       "      <td>1</td>\n",
       "      <td>0</td>\n",
       "      <td>1</td>\n",
       "    </tr>\n",
       "    <tr>\n",
       "      <th>96</th>\n",
       "      <td>garden center</td>\n",
       "      <td>0.981740</td>\n",
       "      <td>0.002766</td>\n",
       "      <td>0.984506</td>\n",
       "      <td>0.539524</td>\n",
       "      <td>Test</td>\n",
       "      <td>1</td>\n",
       "      <td>0</td>\n",
       "      <td>0</td>\n",
       "    </tr>\n",
       "    <tr>\n",
       "      <th>7</th>\n",
       "      <td>general manager</td>\n",
       "      <td>0.992467</td>\n",
       "      <td>0.003004</td>\n",
       "      <td>0.995471</td>\n",
       "      <td>0.538867</td>\n",
       "      <td>Train</td>\n",
       "      <td>1</td>\n",
       "      <td>1</td>\n",
       "      <td>1</td>\n",
       "    </tr>\n",
       "    <tr>\n",
       "      <th>31</th>\n",
       "      <td>team leader</td>\n",
       "      <td>0.993108</td>\n",
       "      <td>0.008126</td>\n",
       "      <td>1.001234</td>\n",
       "      <td>0.536384</td>\n",
       "      <td>Test</td>\n",
       "      <td>1</td>\n",
       "      <td>0</td>\n",
       "      <td>1</td>\n",
       "    </tr>\n",
       "    <tr>\n",
       "      <th>57</th>\n",
       "      <td>front end</td>\n",
       "      <td>0.988822</td>\n",
       "      <td>0.002854</td>\n",
       "      <td>0.991676</td>\n",
       "      <td>0.536383</td>\n",
       "      <td>Test</td>\n",
       "      <td>1</td>\n",
       "      <td>0</td>\n",
       "      <td>1</td>\n",
       "    </tr>\n",
       "    <tr>\n",
       "      <th>72</th>\n",
       "      <td>college degree</td>\n",
       "      <td>0.985421</td>\n",
       "      <td>0.002802</td>\n",
       "      <td>0.988223</td>\n",
       "      <td>0.535389</td>\n",
       "      <td>Test</td>\n",
       "      <td>1</td>\n",
       "      <td>0</td>\n",
       "      <td>0</td>\n",
       "    </tr>\n",
       "    <tr>\n",
       "      <th>30</th>\n",
       "      <td>shift leader</td>\n",
       "      <td>0.993093</td>\n",
       "      <td>0.008443</td>\n",
       "      <td>1.001535</td>\n",
       "      <td>0.532680</td>\n",
       "      <td>Test</td>\n",
       "      <td>1</td>\n",
       "      <td>0</td>\n",
       "      <td>1</td>\n",
       "    </tr>\n",
       "    <tr>\n",
       "      <th>9</th>\n",
       "      <td>manager</td>\n",
       "      <td>0.992072</td>\n",
       "      <td>0.002682</td>\n",
       "      <td>0.994755</td>\n",
       "      <td>0.523729</td>\n",
       "      <td>Train</td>\n",
       "      <td>1</td>\n",
       "      <td>1</td>\n",
       "      <td>1</td>\n",
       "    </tr>\n",
       "    <tr>\n",
       "      <th>28</th>\n",
       "      <td>dishwasher</td>\n",
       "      <td>0.993145</td>\n",
       "      <td>0.009144</td>\n",
       "      <td>1.002290</td>\n",
       "      <td>0.520286</td>\n",
       "      <td>Test</td>\n",
       "      <td>1</td>\n",
       "      <td>0</td>\n",
       "      <td>1</td>\n",
       "    </tr>\n",
       "    <tr>\n",
       "      <th>33</th>\n",
       "      <td>pharmacist</td>\n",
       "      <td>0.994044</td>\n",
       "      <td>0.006636</td>\n",
       "      <td>1.000680</td>\n",
       "      <td>0.519751</td>\n",
       "      <td>Test</td>\n",
       "      <td>1</td>\n",
       "      <td>0</td>\n",
       "      <td>1</td>\n",
       "    </tr>\n",
       "    <tr>\n",
       "      <th>11</th>\n",
       "      <td>bakery</td>\n",
       "      <td>0.988933</td>\n",
       "      <td>0.002617</td>\n",
       "      <td>0.991550</td>\n",
       "      <td>0.517983</td>\n",
       "      <td>Train</td>\n",
       "      <td>1</td>\n",
       "      <td>1</td>\n",
       "      <td>0</td>\n",
       "    </tr>\n",
       "    <tr>\n",
       "      <th>86</th>\n",
       "      <td>director</td>\n",
       "      <td>0.983416</td>\n",
       "      <td>0.002582</td>\n",
       "      <td>0.985998</td>\n",
       "      <td>0.516850</td>\n",
       "      <td>Test</td>\n",
       "      <td>1</td>\n",
       "      <td>0</td>\n",
       "      <td>1</td>\n",
       "    </tr>\n",
       "    <tr>\n",
       "      <th>32</th>\n",
       "      <td>barista</td>\n",
       "      <td>0.993921</td>\n",
       "      <td>0.007198</td>\n",
       "      <td>1.001119</td>\n",
       "      <td>0.516198</td>\n",
       "      <td>Train</td>\n",
       "      <td>1</td>\n",
       "      <td>0</td>\n",
       "      <td>1</td>\n",
       "    </tr>\n",
       "    <tr>\n",
       "      <th>34</th>\n",
       "      <td>team member</td>\n",
       "      <td>0.994603</td>\n",
       "      <td>0.005433</td>\n",
       "      <td>1.000036</td>\n",
       "      <td>0.515406</td>\n",
       "      <td>Test</td>\n",
       "      <td>1</td>\n",
       "      <td>0</td>\n",
       "      <td>0</td>\n",
       "    </tr>\n",
       "    <tr>\n",
       "      <th>65</th>\n",
       "      <td>set schedule</td>\n",
       "      <td>0.987143</td>\n",
       "      <td>0.002495</td>\n",
       "      <td>0.989637</td>\n",
       "      <td>0.505772</td>\n",
       "      <td>Test</td>\n",
       "      <td>1</td>\n",
       "      <td>0</td>\n",
       "      <td>0</td>\n",
       "    </tr>\n",
       "    <tr>\n",
       "      <th>74</th>\n",
       "      <td>permanent position</td>\n",
       "      <td>0.985558</td>\n",
       "      <td>0.002473</td>\n",
       "      <td>0.988032</td>\n",
       "      <td>0.503333</td>\n",
       "      <td>Test</td>\n",
       "      <td>1</td>\n",
       "      <td>0</td>\n",
       "      <td>0</td>\n",
       "    </tr>\n",
       "    <tr>\n",
       "      <th>81</th>\n",
       "      <td>temp agency</td>\n",
       "      <td>0.983934</td>\n",
       "      <td>0.002453</td>\n",
       "      <td>0.986387</td>\n",
       "      <td>0.502103</td>\n",
       "      <td>Train</td>\n",
       "      <td>1</td>\n",
       "      <td>0</td>\n",
       "      <td>0</td>\n",
       "    </tr>\n",
       "    <tr>\n",
       "      <th>29</th>\n",
       "      <td>package handler</td>\n",
       "      <td>0.994812</td>\n",
       "      <td>0.006818</td>\n",
       "      <td>1.001630</td>\n",
       "      <td>0.480476</td>\n",
       "      <td>Train</td>\n",
       "      <td>0</td>\n",
       "      <td>0</td>\n",
       "      <td>1</td>\n",
       "    </tr>\n",
       "    <tr>\n",
       "      <th>77</th>\n",
       "      <td>party</td>\n",
       "      <td>0.984620</td>\n",
       "      <td>0.002267</td>\n",
       "      <td>0.986887</td>\n",
       "      <td>0.479809</td>\n",
       "      <td>Train</td>\n",
       "      <td>0</td>\n",
       "      <td>0</td>\n",
       "      <td>0</td>\n",
       "    </tr>\n",
       "    <tr>\n",
       "      <th>15</th>\n",
       "      <td>district manager</td>\n",
       "      <td>0.987350</td>\n",
       "      <td>0.002072</td>\n",
       "      <td>0.989421</td>\n",
       "      <td>0.458324</td>\n",
       "      <td>Test</td>\n",
       "      <td>0</td>\n",
       "      <td>1</td>\n",
       "      <td>1</td>\n",
       "    </tr>\n",
       "    <tr>\n",
       "      <th>67</th>\n",
       "      <td>internship</td>\n",
       "      <td>0.986948</td>\n",
       "      <td>0.002014</td>\n",
       "      <td>0.988962</td>\n",
       "      <td>0.449746</td>\n",
       "      <td>Test</td>\n",
       "      <td>0</td>\n",
       "      <td>0</td>\n",
       "      <td>0</td>\n",
       "    </tr>\n",
       "    <tr>\n",
       "      <th>92</th>\n",
       "      <td>sales floor</td>\n",
       "      <td>0.983142</td>\n",
       "      <td>0.001887</td>\n",
       "      <td>0.985028</td>\n",
       "      <td>0.426133</td>\n",
       "      <td>Test</td>\n",
       "      <td>0</td>\n",
       "      <td>0</td>\n",
       "      <td>0</td>\n",
       "    </tr>\n",
       "    <tr>\n",
       "      <th>83</th>\n",
       "      <td>group interview</td>\n",
       "      <td>0.984498</td>\n",
       "      <td>0.001870</td>\n",
       "      <td>0.986368</td>\n",
       "      <td>0.424479</td>\n",
       "      <td>Test</td>\n",
       "      <td>0</td>\n",
       "      <td>0</td>\n",
       "      <td>0</td>\n",
       "    </tr>\n",
       "    <tr>\n",
       "      <th>64</th>\n",
       "      <td>member</td>\n",
       "      <td>0.987923</td>\n",
       "      <td>0.001739</td>\n",
       "      <td>0.989661</td>\n",
       "      <td>0.413101</td>\n",
       "      <td>Train</td>\n",
       "      <td>0</td>\n",
       "      <td>0</td>\n",
       "      <td>0</td>\n",
       "    </tr>\n",
       "    <tr>\n",
       "      <th>53</th>\n",
       "      <td>department</td>\n",
       "      <td>0.991847</td>\n",
       "      <td>0.001553</td>\n",
       "      <td>0.993399</td>\n",
       "      <td>0.411805</td>\n",
       "      <td>Test</td>\n",
       "      <td>0</td>\n",
       "      <td>0</td>\n",
       "      <td>0</td>\n",
       "    </tr>\n",
       "    <tr>\n",
       "      <th>8</th>\n",
       "      <td>pharmacy</td>\n",
       "      <td>0.993406</td>\n",
       "      <td>0.001423</td>\n",
       "      <td>0.994829</td>\n",
       "      <td>0.410063</td>\n",
       "      <td>Train</td>\n",
       "      <td>0</td>\n",
       "      <td>1</td>\n",
       "      <td>0</td>\n",
       "    </tr>\n",
       "    <tr>\n",
       "      <th>63</th>\n",
       "      <td>officer</td>\n",
       "      <td>0.988256</td>\n",
       "      <td>0.001603</td>\n",
       "      <td>0.989859</td>\n",
       "      <td>0.392523</td>\n",
       "      <td>Test</td>\n",
       "      <td>0</td>\n",
       "      <td>0</td>\n",
       "      <td>1</td>\n",
       "    </tr>\n",
       "    <tr>\n",
       "      <th>1</th>\n",
       "      <td>assistant manager</td>\n",
       "      <td>0.996511</td>\n",
       "      <td>0.005911</td>\n",
       "      <td>1.002422</td>\n",
       "      <td>0.391429</td>\n",
       "      <td>Train</td>\n",
       "      <td>0</td>\n",
       "      <td>1</td>\n",
       "      <td>1</td>\n",
       "    </tr>\n",
       "    <tr>\n",
       "      <th>66</th>\n",
       "      <td>car</td>\n",
       "      <td>0.987648</td>\n",
       "      <td>0.001572</td>\n",
       "      <td>0.989220</td>\n",
       "      <td>0.384151</td>\n",
       "      <td>Test</td>\n",
       "      <td>0</td>\n",
       "      <td>0</td>\n",
       "      <td>0</td>\n",
       "    </tr>\n",
       "    <tr>\n",
       "      <th>27</th>\n",
       "      <td>key holder</td>\n",
       "      <td>0.995992</td>\n",
       "      <td>0.007562</td>\n",
       "      <td>1.003554</td>\n",
       "      <td>0.383885</td>\n",
       "      <td>Test</td>\n",
       "      <td>0</td>\n",
       "      <td>0</td>\n",
       "      <td>1</td>\n",
       "    </tr>\n",
       "    <tr>\n",
       "      <th>69</th>\n",
       "      <td>truck</td>\n",
       "      <td>0.987102</td>\n",
       "      <td>0.001539</td>\n",
       "      <td>0.988641</td>\n",
       "      <td>0.375599</td>\n",
       "      <td>Test</td>\n",
       "      <td>0</td>\n",
       "      <td>0</td>\n",
       "      <td>0</td>\n",
       "    </tr>\n",
       "    <tr>\n",
       "      <th>97</th>\n",
       "      <td>bit</td>\n",
       "      <td>0.982640</td>\n",
       "      <td>0.001569</td>\n",
       "      <td>0.984209</td>\n",
       "      <td>0.370324</td>\n",
       "      <td>Test</td>\n",
       "      <td>0</td>\n",
       "      <td>0</td>\n",
       "      <td>0</td>\n",
       "    </tr>\n",
       "    <tr>\n",
       "      <th>46</th>\n",
       "      <td>rca</td>\n",
       "      <td>0.993288</td>\n",
       "      <td>0.001156</td>\n",
       "      <td>0.994444</td>\n",
       "      <td>0.360361</td>\n",
       "      <td>Test</td>\n",
       "      <td>0</td>\n",
       "      <td>0</td>\n",
       "      <td>1</td>\n",
       "    </tr>\n",
       "    <tr>\n",
       "      <th>45</th>\n",
       "      <td>warehouse</td>\n",
       "      <td>0.994366</td>\n",
       "      <td>0.001058</td>\n",
       "      <td>0.995424</td>\n",
       "      <td>0.359953</td>\n",
       "      <td>Train</td>\n",
       "      <td>0</td>\n",
       "      <td>0</td>\n",
       "      <td>0</td>\n",
       "    </tr>\n",
       "    <tr>\n",
       "      <th>23</th>\n",
       "      <td>salon manager</td>\n",
       "      <td>0.982272</td>\n",
       "      <td>0.001417</td>\n",
       "      <td>0.983689</td>\n",
       "      <td>0.339340</td>\n",
       "      <td>Train</td>\n",
       "      <td>0</td>\n",
       "      <td>1</td>\n",
       "      <td>1</td>\n",
       "    </tr>\n",
       "    <tr>\n",
       "      <th>59</th>\n",
       "      <td>loss prevention</td>\n",
       "      <td>0.990144</td>\n",
       "      <td>0.001223</td>\n",
       "      <td>0.991367</td>\n",
       "      <td>0.334074</td>\n",
       "      <td>Test</td>\n",
       "      <td>0</td>\n",
       "      <td>0</td>\n",
       "      <td>0</td>\n",
       "    </tr>\n",
       "    <tr>\n",
       "      <th>75</th>\n",
       "      <td>electronics</td>\n",
       "      <td>0.986316</td>\n",
       "      <td>0.001201</td>\n",
       "      <td>0.987517</td>\n",
       "      <td>0.302785</td>\n",
       "      <td>Test</td>\n",
       "      <td>0</td>\n",
       "      <td>0</td>\n",
       "      <td>0</td>\n",
       "    </tr>\n",
       "    <tr>\n",
       "      <th>0</th>\n",
       "      <td>crew member</td>\n",
       "      <td>0.997148</td>\n",
       "      <td>0.007127</td>\n",
       "      <td>1.004276</td>\n",
       "      <td>0.287703</td>\n",
       "      <td>Train</td>\n",
       "      <td>0</td>\n",
       "      <td>1</td>\n",
       "      <td>1</td>\n",
       "    </tr>\n",
       "    <tr>\n",
       "      <th>88</th>\n",
       "      <td>single</td>\n",
       "      <td>0.984820</td>\n",
       "      <td>0.000921</td>\n",
       "      <td>0.985740</td>\n",
       "      <td>0.227521</td>\n",
       "      <td>Test</td>\n",
       "      <td>0</td>\n",
       "      <td>0</td>\n",
       "      <td>0</td>\n",
       "    </tr>\n",
       "    <tr>\n",
       "      <th>60</th>\n",
       "      <td>military</td>\n",
       "      <td>0.990187</td>\n",
       "      <td>0.000722</td>\n",
       "      <td>0.990909</td>\n",
       "      <td>0.205306</td>\n",
       "      <td>Test</td>\n",
       "      <td>0</td>\n",
       "      <td>0</td>\n",
       "      <td>0</td>\n",
       "    </tr>\n",
       "    <tr>\n",
       "      <th>91</th>\n",
       "      <td>co worker</td>\n",
       "      <td>0.984214</td>\n",
       "      <td>0.000830</td>\n",
       "      <td>0.985043</td>\n",
       "      <td>0.201155</td>\n",
       "      <td>Train</td>\n",
       "      <td>0</td>\n",
       "      <td>0</td>\n",
       "      <td>0</td>\n",
       "    </tr>\n",
       "    <tr>\n",
       "      <th>26</th>\n",
       "      <td>cashier</td>\n",
       "      <td>0.998204</td>\n",
       "      <td>0.006349</td>\n",
       "      <td>1.004553</td>\n",
       "      <td>0.180459</td>\n",
       "      <td>Train</td>\n",
       "      <td>0</td>\n",
       "      <td>0</td>\n",
       "      <td>1</td>\n",
       "    </tr>\n",
       "    <tr>\n",
       "      <th>82</th>\n",
       "      <td>deli department</td>\n",
       "      <td>0.985680</td>\n",
       "      <td>0.000697</td>\n",
       "      <td>0.986377</td>\n",
       "      <td>0.168840</td>\n",
       "      <td>Test</td>\n",
       "      <td>0</td>\n",
       "      <td>0</td>\n",
       "      <td>0</td>\n",
       "    </tr>\n",
       "    <tr>\n",
       "      <th>25</th>\n",
       "      <td>sales associate</td>\n",
       "      <td>0.997942</td>\n",
       "      <td>0.007970</td>\n",
       "      <td>1.005912</td>\n",
       "      <td>0.168042</td>\n",
       "      <td>Test</td>\n",
       "      <td>0</td>\n",
       "      <td>0</td>\n",
       "      <td>1</td>\n",
       "    </tr>\n",
       "    <tr>\n",
       "      <th>85</th>\n",
       "      <td>dog</td>\n",
       "      <td>0.985322</td>\n",
       "      <td>0.000690</td>\n",
       "      <td>0.986013</td>\n",
       "      <td>0.165681</td>\n",
       "      <td>Train</td>\n",
       "      <td>0</td>\n",
       "      <td>0</td>\n",
       "      <td>0</td>\n",
       "    </tr>\n",
       "    <tr>\n",
       "      <th>95</th>\n",
       "      <td>nursing</td>\n",
       "      <td>0.984123</td>\n",
       "      <td>0.000595</td>\n",
       "      <td>0.984718</td>\n",
       "      <td>0.134735</td>\n",
       "      <td>Test</td>\n",
       "      <td>0</td>\n",
       "      <td>0</td>\n",
       "      <td>0</td>\n",
       "    </tr>\n",
       "    <tr>\n",
       "      <th>24</th>\n",
       "      <td>delivery driver</td>\n",
       "      <td>0.998022</td>\n",
       "      <td>0.009049</td>\n",
       "      <td>1.007071</td>\n",
       "      <td>0.134234</td>\n",
       "      <td>Train</td>\n",
       "      <td>0</td>\n",
       "      <td>0</td>\n",
       "      <td>1</td>\n",
       "    </tr>\n",
       "    <tr>\n",
       "      <th>84</th>\n",
       "      <td>cash register</td>\n",
       "      <td>0.985517</td>\n",
       "      <td>0.000519</td>\n",
       "      <td>0.986037</td>\n",
       "      <td>0.116684</td>\n",
       "      <td>Test</td>\n",
       "      <td>0</td>\n",
       "      <td>0</td>\n",
       "      <td>0</td>\n",
       "    </tr>\n",
       "    <tr>\n",
       "      <th>89</th>\n",
       "      <td>ok</td>\n",
       "      <td>0.984733</td>\n",
       "      <td>0.000511</td>\n",
       "      <td>0.985244</td>\n",
       "      <td>0.112054</td>\n",
       "      <td>Test</td>\n",
       "      <td>0</td>\n",
       "      <td>0</td>\n",
       "      <td>0</td>\n",
       "    </tr>\n",
       "    <tr>\n",
       "      <th>68</th>\n",
       "      <td>high school</td>\n",
       "      <td>0.988355</td>\n",
       "      <td>0.000463</td>\n",
       "      <td>0.988818</td>\n",
       "      <td>0.111120</td>\n",
       "      <td>Test</td>\n",
       "      <td>0</td>\n",
       "      <td>0</td>\n",
       "      <td>0</td>\n",
       "    </tr>\n",
       "    <tr>\n",
       "      <th>90</th>\n",
       "      <td>job interview</td>\n",
       "      <td>0.985016</td>\n",
       "      <td>0.000170</td>\n",
       "      <td>0.985186</td>\n",
       "      <td>0.023128</td>\n",
       "      <td>Train</td>\n",
       "      <td>0</td>\n",
       "      <td>0</td>\n",
       "      <td>0</td>\n",
       "    </tr>\n",
       "    <tr>\n",
       "      <th>79</th>\n",
       "      <td>logistics</td>\n",
       "      <td>0.986424</td>\n",
       "      <td>0.000133</td>\n",
       "      <td>0.986557</td>\n",
       "      <td>0.016876</td>\n",
       "      <td>Train</td>\n",
       "      <td>0</td>\n",
       "      <td>0</td>\n",
       "      <td>0</td>\n",
       "    </tr>\n",
       "  </tbody>\n",
       "</table>\n",
       "</div>"
      ],
      "text/plain": [
       "                   neighbor       sim    margin  sim+margin  pred_proba  \\\n",
       "58           cart attendant  0.978673  0.012873    0.991546    0.804212   \n",
       "61              cart pusher  0.979848  0.010510    0.990358    0.781068   \n",
       "22             door greeter  0.977517  0.007399    0.984916    0.766663   \n",
       "12                line cook  0.981973  0.008670    0.990643    0.745455   \n",
       "13          seasonal worker  0.982460  0.007369    0.989829    0.725533   \n",
       "6                 sales rep  0.986586  0.009138    0.995724    0.691118   \n",
       "21            night stocker  0.980892  0.005183    0.986075    0.688059   \n",
       "98                    coach  0.979134  0.004848    0.983983    0.686632   \n",
       "3                    packer  0.987121  0.011956    0.999077    0.680620   \n",
       "87               drive thru  0.980888  0.004900    0.985788    0.677828   \n",
       "52       permanent employee  0.986656  0.006750    0.993406    0.674431   \n",
       "16  assistant store manager  0.984076  0.005343    0.989419    0.671163   \n",
       "78                team lead  0.982128  0.004627    0.986755    0.659430   \n",
       "14             mail carrier  0.984745  0.005035    0.989780    0.657379   \n",
       "19                bartender  0.982348  0.004560    0.986908    0.655370   \n",
       "50                      mgr  0.987782  0.005905    0.993687    0.650607   \n",
       "93       temporary position  0.980674  0.004180    0.984854    0.646878   \n",
       "56                  janitor  0.987446  0.004990    0.992437    0.635901   \n",
       "71          higher position  0.983954  0.004314    0.988269    0.635704   \n",
       "48         regular employee  0.988487  0.005354    0.993841    0.634145   \n",
       "40        beauty consultant  0.989630  0.006757    0.996387    0.633666   \n",
       "4          shift supervisor  0.990097  0.008014    0.998112    0.625897   \n",
       "73                pse clerk  0.984020  0.004047    0.988067    0.622875   \n",
       "99          career employee  0.980111  0.003646    0.983757    0.618087   \n",
       "5             driver helper  0.990982  0.007123    0.998105    0.608105   \n",
       "17     sales representative  0.985020  0.003773    0.988793    0.604098   \n",
       "54                 forklift  0.988598  0.004092    0.992690    0.600805   \n",
       "49                  veteran  0.989630  0.004098    0.993728    0.594370   \n",
       "51             city carrier  0.989612  0.004028    0.993641    0.592251   \n",
       "55            rural carrier  0.988757  0.003826    0.992583    0.589825   \n",
       "42                     lead  0.991533  0.004689    0.996222    0.588588   \n",
       "37        seasonal employee  0.991814  0.007049    0.998863    0.588386   \n",
       "36               shift lead  0.991792  0.007420    0.999212    0.586936   \n",
       "10             store manger  0.989615  0.003869    0.993484    0.586792   \n",
       "39             head cashier  0.992132  0.005412    0.997544    0.584052   \n",
       "35           beauty advisor  0.991979  0.007247    0.999226    0.582874   \n",
       "38                  trainer  0.992150  0.006464    0.998615    0.582462   \n",
       "76                   master  0.983761  0.003301    0.987063    0.579263   \n",
       "41                  carrier  0.991974  0.004388    0.996362    0.578755   \n",
       "62          meat department  0.986716  0.003369    0.990085    0.574676   \n",
       "43                  student  0.991679  0.003974    0.995652    0.574535   \n",
       "2            courtesy clerk  0.992047  0.008569    1.000616    0.569915   \n",
       "94               little bit  0.981716  0.003086    0.984802    0.569162   \n",
       "80             temp service  0.983377  0.003141    0.986518    0.568354   \n",
       "20            grocery store  0.983088  0.003099    0.986187    0.565902   \n",
       "47            store manager  0.991152  0.003127    0.994279    0.548996   \n",
       "18            family member  0.985568  0.002936    0.988504    0.546570   \n",
       "70            temporary job  0.985414  0.002929    0.988342    0.546274   \n",
       "44                       gm  0.992406  0.003073    0.995479    0.541956   \n",
       "96            garden center  0.981740  0.002766    0.984506    0.539524   \n",
       "7           general manager  0.992467  0.003004    0.995471    0.538867   \n",
       "31              team leader  0.993108  0.008126    1.001234    0.536384   \n",
       "57                front end  0.988822  0.002854    0.991676    0.536383   \n",
       "72           college degree  0.985421  0.002802    0.988223    0.535389   \n",
       "30             shift leader  0.993093  0.008443    1.001535    0.532680   \n",
       "9                   manager  0.992072  0.002682    0.994755    0.523729   \n",
       "28               dishwasher  0.993145  0.009144    1.002290    0.520286   \n",
       "33               pharmacist  0.994044  0.006636    1.000680    0.519751   \n",
       "11                   bakery  0.988933  0.002617    0.991550    0.517983   \n",
       "86                 director  0.983416  0.002582    0.985998    0.516850   \n",
       "32                  barista  0.993921  0.007198    1.001119    0.516198   \n",
       "34              team member  0.994603  0.005433    1.000036    0.515406   \n",
       "65             set schedule  0.987143  0.002495    0.989637    0.505772   \n",
       "74       permanent position  0.985558  0.002473    0.988032    0.503333   \n",
       "81              temp agency  0.983934  0.002453    0.986387    0.502103   \n",
       "29          package handler  0.994812  0.006818    1.001630    0.480476   \n",
       "77                    party  0.984620  0.002267    0.986887    0.479809   \n",
       "15         district manager  0.987350  0.002072    0.989421    0.458324   \n",
       "67               internship  0.986948  0.002014    0.988962    0.449746   \n",
       "92              sales floor  0.983142  0.001887    0.985028    0.426133   \n",
       "83          group interview  0.984498  0.001870    0.986368    0.424479   \n",
       "64                   member  0.987923  0.001739    0.989661    0.413101   \n",
       "53               department  0.991847  0.001553    0.993399    0.411805   \n",
       "8                  pharmacy  0.993406  0.001423    0.994829    0.410063   \n",
       "63                  officer  0.988256  0.001603    0.989859    0.392523   \n",
       "1         assistant manager  0.996511  0.005911    1.002422    0.391429   \n",
       "66                      car  0.987648  0.001572    0.989220    0.384151   \n",
       "27               key holder  0.995992  0.007562    1.003554    0.383885   \n",
       "69                    truck  0.987102  0.001539    0.988641    0.375599   \n",
       "97                      bit  0.982640  0.001569    0.984209    0.370324   \n",
       "46                      rca  0.993288  0.001156    0.994444    0.360361   \n",
       "45                warehouse  0.994366  0.001058    0.995424    0.359953   \n",
       "23            salon manager  0.982272  0.001417    0.983689    0.339340   \n",
       "59          loss prevention  0.990144  0.001223    0.991367    0.334074   \n",
       "75              electronics  0.986316  0.001201    0.987517    0.302785   \n",
       "0               crew member  0.997148  0.007127    1.004276    0.287703   \n",
       "88                   single  0.984820  0.000921    0.985740    0.227521   \n",
       "60                 military  0.990187  0.000722    0.990909    0.205306   \n",
       "91                co worker  0.984214  0.000830    0.985043    0.201155   \n",
       "26                  cashier  0.998204  0.006349    1.004553    0.180459   \n",
       "82          deli department  0.985680  0.000697    0.986377    0.168840   \n",
       "25          sales associate  0.997942  0.007970    1.005912    0.168042   \n",
       "85                      dog  0.985322  0.000690    0.986013    0.165681   \n",
       "95                  nursing  0.984123  0.000595    0.984718    0.134735   \n",
       "24          delivery driver  0.998022  0.009049    1.007071    0.134234   \n",
       "84            cash register  0.985517  0.000519    0.986037    0.116684   \n",
       "89                       ok  0.984733  0.000511    0.985244    0.112054   \n",
       "68              high school  0.988355  0.000463    0.988818    0.111120   \n",
       "90            job interview  0.985016  0.000170    0.985186    0.023128   \n",
       "79                logistics  0.986424  0.000133    0.986557    0.016876   \n",
       "\n",
       "    split  pred  label  human_label  \n",
       "58   Test     1      0            1  \n",
       "61  Train     1      0            1  \n",
       "22  Train     1      1            1  \n",
       "12  Train     1      1            1  \n",
       "13  Train     1      1            0  \n",
       "6   Train     1      1            1  \n",
       "21  Train     1      1            1  \n",
       "98   Test     1      0            1  \n",
       "3   Train     1      1            1  \n",
       "87   Test     1      0            0  \n",
       "52   Test     1      0            0  \n",
       "16   Test     1      1            1  \n",
       "78   Test     1      0            1  \n",
       "14  Train     1      1            1  \n",
       "19  Train     1      1            1  \n",
       "50   Test     1      0            1  \n",
       "93   Test     1      0            0  \n",
       "56   Test     1      0            1  \n",
       "71   Test     1      0            0  \n",
       "48   Test     1      0            0  \n",
       "40  Train     1      0            1  \n",
       "4    Test     1      1            1  \n",
       "73  Train     1      0            1  \n",
       "99   Test     1      0            0  \n",
       "5   Train     1      1            1  \n",
       "17  Train     1      1            1  \n",
       "54  Train     1      0            1  \n",
       "49   Test     1      0            0  \n",
       "51   Test     1      0            1  \n",
       "55   Test     1      0            1  \n",
       "42  Train     1      0            1  \n",
       "37  Train     1      0            0  \n",
       "36   Test     1      0            1  \n",
       "10  Train     1      1            1  \n",
       "39   Test     1      0            1  \n",
       "35  Train     1      0            1  \n",
       "38   Test     1      0            1  \n",
       "76   Test     1      0            0  \n",
       "41   Test     1      0            1  \n",
       "62   Test     1      0            0  \n",
       "43  Train     1      0            0  \n",
       "2   Train     1      1            1  \n",
       "94   Test     1      0            0  \n",
       "80   Test     1      0            0  \n",
       "20  Train     1      1            0  \n",
       "47   Test     1      0            1  \n",
       "18   Test     1      1            0  \n",
       "70   Test     1      0            0  \n",
       "44   Test     1      0            1  \n",
       "96   Test     1      0            0  \n",
       "7   Train     1      1            1  \n",
       "31   Test     1      0            1  \n",
       "57   Test     1      0            1  \n",
       "72   Test     1      0            0  \n",
       "30   Test     1      0            1  \n",
       "9   Train     1      1            1  \n",
       "28   Test     1      0            1  \n",
       "33   Test     1      0            1  \n",
       "11  Train     1      1            0  \n",
       "86   Test     1      0            1  \n",
       "32  Train     1      0            1  \n",
       "34   Test     1      0            0  \n",
       "65   Test     1      0            0  \n",
       "74   Test     1      0            0  \n",
       "81  Train     1      0            0  \n",
       "29  Train     0      0            1  \n",
       "77  Train     0      0            0  \n",
       "15   Test     0      1            1  \n",
       "67   Test     0      0            0  \n",
       "92   Test     0      0            0  \n",
       "83   Test     0      0            0  \n",
       "64  Train     0      0            0  \n",
       "53   Test     0      0            0  \n",
       "8   Train     0      1            0  \n",
       "63   Test     0      0            1  \n",
       "1   Train     0      1            1  \n",
       "66   Test     0      0            0  \n",
       "27   Test     0      0            1  \n",
       "69   Test     0      0            0  \n",
       "97   Test     0      0            0  \n",
       "46   Test     0      0            1  \n",
       "45  Train     0      0            0  \n",
       "23  Train     0      1            1  \n",
       "59   Test     0      0            0  \n",
       "75   Test     0      0            0  \n",
       "0   Train     0      1            1  \n",
       "88   Test     0      0            0  \n",
       "60   Test     0      0            0  \n",
       "91  Train     0      0            0  \n",
       "26  Train     0      0            1  \n",
       "82   Test     0      0            0  \n",
       "25   Test     0      0            1  \n",
       "85  Train     0      0            0  \n",
       "95   Test     0      0            0  \n",
       "24  Train     0      0            1  \n",
       "84   Test     0      0            0  \n",
       "89   Test     0      0            0  \n",
       "68   Test     0      0            0  \n",
       "90  Train     0      0            0  \n",
       "79  Train     0      0            0  "
      ]
     },
     "execution_count": 280,
     "metadata": {},
     "output_type": "execute_result"
    }
   ],
   "source": [
    "_df.sort_values(by='pred_proba', ascending=False, inplace=False)[['neighbor', 'sim', 'margin', 'sim+margin', 'pred_proba', 'split', 'pred', 'label', 'human_label']].head(100)"
   ]
  },
  {
   "cell_type": "code",
   "execution_count": 266,
   "metadata": {},
   "outputs": [
    {
     "data": {
      "text/plain": [
       "(65, 62)"
      ]
     },
     "execution_count": 266,
     "metadata": {},
     "output_type": "execute_result"
    }
   ],
   "source": [
    "sum(_df['pred'] == _df['human_label']), sum(_df['label'] == _df['human_label'])"
   ]
  },
  {
   "cell_type": "code",
   "execution_count": 268,
   "metadata": {},
   "outputs": [
    {
     "data": {
      "text/plain": [
       "(41, 24)"
      ]
     },
     "execution_count": 268,
     "metadata": {},
     "output_type": "execute_result"
    }
   ],
   "source": [
    "# TP, TN \n",
    "sum(_df['pred'] * _df['human_label']), sum((1 - _df['pred']) * (1 - _df['human_label']))"
   ]
  },
  {
   "cell_type": "code",
   "execution_count": 277,
   "metadata": {},
   "outputs": [
    {
     "data": {
      "text/plain": [
       "(0.5250346692711781, 2.0483942338052392e-08)"
      ]
     },
     "execution_count": 277,
     "metadata": {},
     "output_type": "execute_result"
    }
   ],
   "source": [
    "pearsonr(_df['sim+margin'], _df['human_label'])"
   ]
  },
  {
   "cell_type": "code",
   "execution_count": 278,
   "metadata": {},
   "outputs": [
    {
     "data": {
      "text/plain": [
       "(0.34894826201089824, 0.0003734901873738247)"
      ]
     },
     "execution_count": 278,
     "metadata": {},
     "output_type": "execute_result"
    }
   ],
   "source": [
    "pearsonr(_df['pred_proba'], _df['human_label'])"
   ]
  },
  {
   "cell_type": "code",
   "execution_count": null,
   "metadata": {},
   "outputs": [],
   "source": []
  },
  {
   "cell_type": "markdown",
   "metadata": {},
   "source": [
    "## Sub-clusters analysis"
   ]
  },
  {
   "cell_type": "code",
   "execution_count": 75,
   "metadata": {},
   "outputs": [],
   "source": [
    "ee_LM_path = os.path.join(base_dir, f'data/{data_ac}/intermediate/ee_LM_bert_k=None.csv')"
   ]
  },
  {
   "cell_type": "code",
   "execution_count": 14,
   "metadata": {},
   "outputs": [
    {
     "data": {
      "text/plain": [
       "8064"
      ]
     },
     "execution_count": 14,
     "metadata": {},
     "output_type": "execute_result"
    }
   ],
   "source": [
    "bert_emb_path = os.path.join(base_dir, f'data/{data_ac}/intermediate/BERTembed+seeds.txt')\n",
    "\n",
    "_entity_embeddings = load_embeddings(bert_emb_path, 768)\n",
    "_entity_emb_dict = dict(zip(_entity_embeddings['entity'].tolist(),\n",
    "                            _entity_embeddings['embedding'].tolist()))\n",
    "len(_entity_emb_dict)"
   ]
  },
  {
   "cell_type": "code",
   "execution_count": 76,
   "metadata": {},
   "outputs": [
    {
     "data": {
      "text/plain": [
       "8036"
      ]
     },
     "execution_count": 76,
     "metadata": {},
     "output_type": "execute_result"
    }
   ],
   "source": [
    "_concept = 'benefits'\n",
    "ee_LM_df = pd.read_csv(ee_LM_path)\n",
    "ee_LM_list = ee_LM_df[ee_LM_df['concept'] == _concept]['neighbor'].tolist()\n",
    "len(ee_LM_list)"
   ]
  },
  {
   "cell_type": "code",
   "execution_count": null,
   "metadata": {},
   "outputs": [],
   "source": [
    "K = 100\n",
    "_entities = ee_LM_list[:K]\n",
    "_feats_arr = [_entity_emb_dict[_e] for _e in _entities]"
   ]
  },
  {
   "cell_type": "code",
   "execution_count": 33,
   "metadata": {},
   "outputs": [],
   "source": [
    "C = 20\n",
    "A_cls = AgglomerativeClustering(n_clusters=C, affinity='euclidean')\n",
    "_cls_res = A_cls.fit_predict(_feats_arr)"
   ]
  },
  {
   "cell_type": "code",
   "execution_count": 34,
   "metadata": {
    "scrolled": true
   },
   "outputs": [
    {
     "name": "stdout",
     "output_type": "stream",
     "text": [
      "CLUSTER 0:\n",
      "property insurance | home care | medical billing\n",
      "CLUSTER 1:\n",
      "disability insurance | health savings account | parental leave | dental / vision\n",
      "CLUSTER 2:\n",
      "dental insurance | medical insurance | dental vision | health dental | health | medical dental | health care insurance | life insurance | health care | medical | retirement age | dental and vision | legal age | medical / dental\n",
      "CLUSTER 3:\n",
      "unemployment benefits | vehicle insurance | unemployment compensation | child support | income tax | hearing impairment | electricity\n",
      "CLUSTER 4:\n",
      "dental assistant\n",
      "CLUSTER 5:\n",
      "health benefits | physical disability | tax credit | mortgage loan | student loan | medical emergency | business card | social services | divorce\n",
      "CLUSTER 6:\n",
      "medical history\n",
      "CLUSTER 7:\n",
      "cough\n",
      "CLUSTER 8:\n",
      "disability | pension | medicare | dental benefits | unemployment | insurance | education | car insurance | employment | hair | employee benefits | safety | benefits | medical card | mental health | life | food safety | child care | employee assistance program | diabetes | dentist | job security | social security card | college education | social security | maternity leave | family life | food | social life | personal life | cancer | longevity | paid vacations | tax | work / life balance | autism | alcohol | sleep | home mortgage | medical marijuana | social security number | mortgage | personal information | internship | medical marijuana card | continuing education | family | work life balance | credit card\n",
      "CLUSTER 9:\n",
      "car accident\n",
      "CLUSTER 10:\n",
      "medical prescription\n",
      "CLUSTER 11:\n",
      "dental surgery\n",
      "CLUSTER 12:\n",
      "health food\n",
      "CLUSTER 13:\n",
      "employment contract\n",
      "CLUSTER 14:\n",
      "hair care\n",
      "CLUSTER 15:\n",
      "employee benefit\n",
      "CLUSTER 16:\n",
      "tax exemption\n",
      "CLUSTER 17:\n",
      "public health\n",
      "CLUSTER 18:\n",
      "medical diagnosis\n",
      "CLUSTER 19:\n",
      "offer health insurance\n"
     ]
    }
   ],
   "source": [
    "for i in range(C):\n",
    "    print(f'CLUSTER {i}:')\n",
    "    print(' | '.join(_entities[j] for j in range(K) if _cls_res[j] == i))"
   ]
  },
  {
   "cell_type": "code",
   "execution_count": 35,
   "metadata": {},
   "outputs": [],
   "source": [
    "C = 20\n",
    "A_cls = AgglomerativeClustering(n_clusters=C, affinity='l2', linkage='complete')\n",
    "_cls_res = A_cls.fit_predict(_feats_arr)"
   ]
  },
  {
   "cell_type": "code",
   "execution_count": 36,
   "metadata": {
    "scrolled": true
   },
   "outputs": [
    {
     "name": "stdout",
     "output_type": "stream",
     "text": [
      "CLUSTER 0:\n",
      "unemployment benefits | vehicle insurance | unemployment compensation | mortgage loan | child support | social services | income tax | hearing impairment | electricity\n",
      "CLUSTER 1:\n",
      "health dental | medical dental | property insurance | medical billing\n",
      "CLUSTER 2:\n",
      "dental assistant\n",
      "CLUSTER 3:\n",
      "dental insurance | medical insurance | disability insurance | dental vision | health | life insurance | health care | medical | dental and vision | parental leave | continuing education | dental / vision | medical / dental\n",
      "CLUSTER 4:\n",
      "disability | pension | medicare | dental benefits | unemployment | health care insurance | health benefits | insurance | physical disability | education | car insurance | employment | hair | employee benefits | safety | benefits | medical card | mental health | life | food safety | child care | employee assistance program | diabetes | dentist | job security | tax credit | social security card | college education | social security | maternity leave | student loan | family life | food | medical emergency | retirement age | social life | personal life | cancer | longevity | paid vacations | business card | tax | work / life balance | autism | alcohol | sleep | home mortgage | medical marijuana | social security number | mortgage | personal information | divorce | internship | medical marijuana card | family | work life balance | credit card | legal age\n",
      "CLUSTER 5:\n",
      "medical history\n",
      "CLUSTER 6:\n",
      "cough\n",
      "CLUSTER 7:\n",
      "public health\n",
      "CLUSTER 8:\n",
      "employee benefit\n",
      "CLUSTER 9:\n",
      "tax exemption\n",
      "CLUSTER 10:\n",
      "health food\n",
      "CLUSTER 11:\n",
      "employment contract\n",
      "CLUSTER 12:\n",
      "dental surgery\n",
      "CLUSTER 13:\n",
      "health savings account\n",
      "CLUSTER 14:\n",
      "medical diagnosis\n",
      "CLUSTER 15:\n",
      "hair care\n",
      "CLUSTER 16:\n",
      "home care\n",
      "CLUSTER 17:\n",
      "offer health insurance\n",
      "CLUSTER 18:\n",
      "car accident\n",
      "CLUSTER 19:\n",
      "medical prescription\n"
     ]
    }
   ],
   "source": [
    "for i in range(C):\n",
    "    print(f'CLUSTER {i}:')\n",
    "    print(' | '.join(_entities[j] for j in range(K) if _cls_res[j] == i))"
   ]
  },
  {
   "cell_type": "code",
   "execution_count": 37,
   "metadata": {},
   "outputs": [],
   "source": [
    "C = 20\n",
    "A_cls = AgglomerativeClustering(n_clusters=C, affinity='cosine', linkage='complete')\n",
    "_cls_res = A_cls.fit_predict(_feats_arr)"
   ]
  },
  {
   "cell_type": "code",
   "execution_count": 38,
   "metadata": {
    "scrolled": true
   },
   "outputs": [
    {
     "name": "stdout",
     "output_type": "stream",
     "text": [
      "CLUSTER 0:\n",
      "offer health insurance | tax exemption\n",
      "CLUSTER 1:\n",
      "disability insurance | dental vision | health dental | property insurance | parental leave | dental / vision\n",
      "CLUSTER 2:\n",
      "dental assistant\n",
      "CLUSTER 3:\n",
      "unemployment benefits | vehicle insurance | unemployment compensation | mortgage loan | child support | income tax | hearing impairment | electricity\n",
      "CLUSTER 4:\n",
      "social services\n",
      "CLUSTER 5:\n",
      "health savings account\n",
      "CLUSTER 6:\n",
      "medical diagnosis\n",
      "CLUSTER 7:\n",
      "disability | pension | dental insurance | medicare | medical insurance | dental benefits | health | unemployment | medical dental | health care insurance | health benefits | insurance | physical disability | life insurance | education | car insurance | health care | employment | hair | employee benefits | medical | safety | benefits | medical card | mental health | life | food safety | child care | employee assistance program | diabetes | dentist | job security | tax credit | social security card | college education | social security | maternity leave | student loan | family life | food | medical emergency | retirement age | social life | dental and vision | personal life | cancer | longevity | paid vacations | business card | tax | work / life balance | autism | alcohol | sleep | home mortgage | medical marijuana | social security number | mortgage | personal information | divorce | internship | medical marijuana card | continuing education | family | work life balance | credit card | legal age | medical / dental\n",
      "CLUSTER 8:\n",
      "cough\n",
      "CLUSTER 9:\n",
      "car accident\n",
      "CLUSTER 10:\n",
      "hair care\n",
      "CLUSTER 11:\n",
      "employee benefit\n",
      "CLUSTER 12:\n",
      "employment contract\n",
      "CLUSTER 13:\n",
      "public health\n",
      "CLUSTER 14:\n",
      "health food\n",
      "CLUSTER 15:\n",
      "medical history\n",
      "CLUSTER 16:\n",
      "home care\n",
      "CLUSTER 17:\n",
      "medical prescription\n",
      "CLUSTER 18:\n",
      "medical billing\n",
      "CLUSTER 19:\n",
      "dental surgery\n"
     ]
    }
   ],
   "source": [
    "for i in range(C):\n",
    "    print(f'CLUSTER {i}:')\n",
    "    print(' | '.join(_entities[j] for j in range(K) if _cls_res[j] == i))"
   ]
  },
  {
   "cell_type": "code",
   "execution_count": 109,
   "metadata": {},
   "outputs": [
    {
     "data": {
      "text/plain": [
       "8009"
      ]
     },
     "execution_count": 109,
     "metadata": {},
     "output_type": "execute_result"
    }
   ],
   "source": [
    "bert_emb_path = os.path.join(base_dir, f'data/{data_pt}/intermediate/BERTembed+seeds.txt')\n",
    "\n",
    "_entity_embeddings = load_embeddings(bert_emb_path, 3072)\n",
    "_entity_emb_dict = dict(zip(_entity_embeddings['entity'].tolist(),\n",
    "                            _entity_embeddings['embedding'].tolist()))\n",
    "len(_entity_emb_dict)"
   ]
  },
  {
   "cell_type": "code",
   "execution_count": 131,
   "metadata": {},
   "outputs": [],
   "source": [
    "K = 100\n",
    "_entities = sorted(ee_LM_list[:K])\n",
    "_feats_arr = [_entity_emb_dict[_e] for _e in _entities if _e in _entity_emb_dict]"
   ]
  },
  {
   "cell_type": "code",
   "execution_count": 132,
   "metadata": {},
   "outputs": [],
   "source": [
    "C = 20\n",
    "A_cls = AgglomerativeClustering(n_clusters=C, affinity='euclidean')\n",
    "_cls_res = A_cls.fit_predict(_feats_arr)"
   ]
  },
  {
   "cell_type": "code",
   "execution_count": 133,
   "metadata": {
    "scrolled": true
   },
   "outputs": [
    {
     "name": "stdout",
     "output_type": "stream",
     "text": [
      "CLUSTER 0:\n",
      "blue collar | brown shoes | casual clothes | casual clothing | collar shirts | colorful hair | dress attire | food handlers | fragrances | jeans | jewellery | red hair | scrubs | tan or black pants | televisions\n",
      "CLUSTER 1:\n",
      "athletic shoes | black dress pants | black jeans | black polo shirt | brown or black | brown pants | clothing | collar shirt | color hair | colored hair | colored pants | cosmetics | dress clothes | dress pants | dress shirt | dress shirts | dress shoes | hand tattoos | jean pants | laptops | mascara | nose rings | purple hair | sports equipment | sweat pants | tattoo | visible piercings\n",
      "CLUSTER 2:\n",
      "black dress | black tie | body piercings | sunglasses | uniform shirts\n",
      "CLUSTER 3:\n",
      "dark pants | microphones\n",
      "CLUSTER 4:\n",
      "tan pants\n",
      "CLUSTER 5:\n",
      "cologne | colored shirt | dentists | gis | leggings | lip ring | name badge | nose piercing | nose ring | polo shirt | ponytail | red shirt | tan or black\n",
      "CLUSTER 6:\n",
      "black pants | dress slacks | sports bra\n",
      "CLUSTER 7:\n",
      "smartphones\n",
      "CLUSTER 8:\n",
      "blue scrubs | color shirt | colored shoes | dress uniform | dyes | ear piercings | etcs | face piercings | face tattoos | facial jewelry | facial piercing | hair | hair spray | longhorns | natural hair | nose piercings | trademarks | uniform shirt\n",
      "CLUSTER 9:\n",
      "pink hair\n",
      "CLUSTER 10:\n",
      "ear rings\n",
      "CLUSTER 11:\n",
      "hair dye\n",
      "CLUSTER 12:\n",
      "lipstick\n",
      "CLUSTER 13:\n",
      "black shirt\n",
      "CLUSTER 14:\n",
      "dental and vision\n",
      "CLUSTER 15:\n",
      "longs drugs\n",
      "CLUSTER 16:\n",
      "skin\n",
      "CLUSTER 17:\n",
      "facial piercings\n",
      "CLUSTER 18:\n",
      "dyed hair\n",
      "CLUSTER 19:\n",
      "loose clothing\n"
     ]
    }
   ],
   "source": [
    "for i in range(C):\n",
    "    print(f'CLUSTER {i}:')\n",
    "    print(' | '.join(_entities[j] for j in range(len(_feats_arr)) if _cls_res[j] == i))"
   ]
  },
  {
   "cell_type": "code",
   "execution_count": 134,
   "metadata": {},
   "outputs": [],
   "source": [
    "C = 20\n",
    "A_cls = AgglomerativeClustering(n_clusters=C, affinity='l2', linkage='complete')\n",
    "_cls_res = A_cls.fit_predict(_feats_arr)"
   ]
  },
  {
   "cell_type": "code",
   "execution_count": 135,
   "metadata": {
    "scrolled": true
   },
   "outputs": [
    {
     "name": "stdout",
     "output_type": "stream",
     "text": [
      "CLUSTER 0:\n",
      "blue collar | blue scrubs | brown shoes | casual clothes | casual clothing | collar shirts | cologne | color shirt | colored shirt | colored shoes | colorful hair | dentists | dress attire | dress uniform | dyes | ear piercings | etcs | face piercings | face tattoos | facial jewelry | facial piercing | food handlers | fragrances | gis | hair | hair spray | jeans | jewellery | leggings | lip ring | longhorns | name badge | natural hair | nose piercing | nose piercings | nose ring | polo shirt | ponytail | red hair | red shirt | tan or black | tan or black pants | televisions | trademarks | uniform shirt\n",
      "CLUSTER 1:\n",
      "athletic shoes | black dress pants | black jeans | black polo shirt | brown or black | brown pants | clothing | collar shirt | color hair | colored hair | colored pants | cosmetics | dress clothes | dress pants | dress shirt | dress shirts | dress shoes | hand tattoos | jean pants | laptops | mascara | nose rings | purple hair | sports equipment | sweat pants | tattoo | visible piercings\n",
      "CLUSTER 2:\n",
      "black dress | black tie | body piercings | sunglasses | uniform shirts\n",
      "CLUSTER 3:\n",
      "black pants | dress slacks | sports bra\n",
      "CLUSTER 4:\n",
      "tan pants\n",
      "CLUSTER 5:\n",
      "longs drugs\n",
      "CLUSTER 6:\n",
      "smartphones\n",
      "CLUSTER 7:\n",
      "loose clothing\n",
      "CLUSTER 8:\n",
      "scrubs\n",
      "CLUSTER 9:\n",
      "dark pants\n",
      "CLUSTER 10:\n",
      "ear rings\n",
      "CLUSTER 11:\n",
      "dental and vision\n",
      "CLUSTER 12:\n",
      "lipstick\n",
      "CLUSTER 13:\n",
      "microphones\n",
      "CLUSTER 14:\n",
      "skin\n",
      "CLUSTER 15:\n",
      "dyed hair\n",
      "CLUSTER 16:\n",
      "facial piercings\n",
      "CLUSTER 17:\n",
      "hair dye\n",
      "CLUSTER 18:\n",
      "pink hair\n",
      "CLUSTER 19:\n",
      "black shirt\n"
     ]
    }
   ],
   "source": [
    "for i in range(C):\n",
    "    print(f'CLUSTER {i}:')\n",
    "    print(' | '.join(_entities[j] for j in range(len(_feats_arr)) if _cls_res[j] == i))"
   ]
  },
  {
   "cell_type": "code",
   "execution_count": 136,
   "metadata": {},
   "outputs": [],
   "source": [
    "C = 20\n",
    "A_cls = AgglomerativeClustering(n_clusters=C, affinity='cosine', linkage='complete')\n",
    "_cls_res = A_cls.fit_predict(_feats_arr)"
   ]
  },
  {
   "cell_type": "code",
   "execution_count": 137,
   "metadata": {
    "scrolled": true
   },
   "outputs": [
    {
     "name": "stdout",
     "output_type": "stream",
     "text": [
      "CLUSTER 0:\n",
      "blue collar | blue scrubs | brown shoes | casual clothes | casual clothing | collar shirts | cologne | color shirt | colored shirt | colored shoes | colorful hair | dentists | dress attire | dress uniform | dyes | ear piercings | etcs | face piercings | face tattoos | facial jewelry | facial piercing | food handlers | gis | hair | hair spray | jeans | jewellery | leggings | lip ring | longhorns | name badge | natural hair | nose piercing | nose piercings | nose ring | polo shirt | ponytail | red hair | red shirt | tan or black | tan or black pants | televisions | trademarks | uniform shirt\n",
      "CLUSTER 1:\n",
      "athletic shoes | black dress pants | black jeans | black polo shirt | brown or black | brown pants | clothing | collar shirt | color hair | colored pants | cosmetics | dress clothes | dress pants | dress shirt | dress shirts | dress shoes | hand tattoos | jean pants | laptops | mascara | nose rings | purple hair | sports equipment | sweat pants | tattoo | visible piercings\n",
      "CLUSTER 2:\n",
      "black dress | black tie | body piercings | sunglasses | uniform shirts\n",
      "CLUSTER 3:\n",
      "black pants | colored hair | dress slacks | sports bra\n",
      "CLUSTER 4:\n",
      "tan pants\n",
      "CLUSTER 5:\n",
      "smartphones\n",
      "CLUSTER 6:\n",
      "dark pants | fragrances\n",
      "CLUSTER 7:\n",
      "longs drugs\n",
      "CLUSTER 8:\n",
      "scrubs\n",
      "CLUSTER 9:\n",
      "microphones\n",
      "CLUSTER 10:\n",
      "skin\n",
      "CLUSTER 11:\n",
      "hair dye\n",
      "CLUSTER 12:\n",
      "dental and vision\n",
      "CLUSTER 13:\n",
      "dyed hair\n",
      "CLUSTER 14:\n",
      "lipstick\n",
      "CLUSTER 15:\n",
      "black shirt\n",
      "CLUSTER 16:\n",
      "ear rings\n",
      "CLUSTER 17:\n",
      "facial piercings\n",
      "CLUSTER 18:\n",
      "pink hair\n",
      "CLUSTER 19:\n",
      "loose clothing\n"
     ]
    }
   ],
   "source": [
    "for i in range(C):\n",
    "    print(f'CLUSTER {i}:')\n",
    "    print(' | '.join(_entities[j] for j in range(len(_feats_arr)) if _cls_res[j] == i))"
   ]
  },
  {
   "cell_type": "code",
   "execution_count": 73,
   "metadata": {},
   "outputs": [
    {
     "data": {
      "text/plain": [
       "8028"
      ]
     },
     "execution_count": 73,
     "metadata": {},
     "output_type": "execute_result"
    }
   ],
   "source": [
    "# Non-masking ac\n",
    "bert_emb_path = os.path.join(base_dir, f'data/{data_ac}/intermediate/BERTembed_nm_ac.txt')\n",
    "\n",
    "_entity_embeddings = load_embeddings(bert_emb_path, 768)\n",
    "_entity_emb_dict = dict(zip(_entity_embeddings['entity'].tolist(),\n",
    "                            _entity_embeddings['embedding'].tolist()))\n",
    "len(_entity_emb_dict)"
   ]
  },
  {
   "cell_type": "code",
   "execution_count": 77,
   "metadata": {},
   "outputs": [],
   "source": [
    "K = 100\n",
    "_entities = sorted(ee_LM_list[:K])\n",
    "_feats_arr = [_entity_emb_dict[_e] for _e in _entities if _e in _entity_emb_dict]"
   ]
  },
  {
   "cell_type": "code",
   "execution_count": 78,
   "metadata": {},
   "outputs": [],
   "source": [
    "C = 20\n",
    "A_cls = AgglomerativeClustering(n_clusters=C, affinity='euclidean')\n",
    "_cls_res = A_cls.fit_predict(_feats_arr)"
   ]
  },
  {
   "cell_type": "code",
   "execution_count": 79,
   "metadata": {
    "scrolled": true
   },
   "outputs": [
    {
     "name": "stdout",
     "output_type": "stream",
     "text": [
      "CLUSTER 0:\n",
      "alcohol | education | family life | food | health dental | life insurance | property insurance | retirement age | safety\n",
      "CLUSTER 1:\n",
      "child support | college education | divorce | job security | longevity | offer health insurance | paid vacations | public health | social services\n",
      "CLUSTER 2:\n",
      "electricity | employee assistance program | employee benefit | employee benefits | insurance | internship | tax exemption | unemployment | unemployment benefits\n",
      "CLUSTER 3:\n",
      "dental assistant | hair care | health | health benefits | health care | health food | medical prescription | medicare | mortgage loan | parental leave\n",
      "CLUSTER 4:\n",
      "autism | diabetes | health savings account | personal life\n",
      "CLUSTER 5:\n",
      "car insurance | child care | hearing impairment | social security number\n",
      "CLUSTER 6:\n",
      "benefits | cough | medical billing | medical insurance | medical marijuana\n",
      "CLUSTER 7:\n",
      "car accident | dental benefits | disability | income tax | life | medical history | physical disability | unemployment compensation\n",
      "CLUSTER 8:\n",
      "business card | dentist | disability insurance\n",
      "CLUSTER 9:\n",
      "credit card | dental / vision | dental surgery | health care insurance | medical | medical card\n",
      "CLUSTER 10:\n",
      "food safety | hair\n",
      "CLUSTER 11:\n",
      "employment contract | family | legal age | pension | personal information | sleep | vehicle insurance | work / life balance\n",
      "CLUSTER 12:\n",
      "dental and vision | dental insurance | dental vision\n",
      "CLUSTER 13:\n",
      "cancer\n",
      "CLUSTER 14:\n",
      "continuing education\n",
      "CLUSTER 15:\n",
      "home mortgage | student loan | tax | tax credit\n",
      "CLUSTER 16:\n",
      "social life | social security | social security card\n",
      "CLUSTER 17:\n",
      "maternity leave | medical / dental | medical dental | medical diagnosis | medical emergency | medical marijuana card\n",
      "CLUSTER 18:\n",
      "employment\n",
      "CLUSTER 19:\n",
      "home care | mental health | mortgage\n"
     ]
    }
   ],
   "source": [
    "for i in range(C):\n",
    "    print(f'CLUSTER {i}:')\n",
    "    print(' | '.join(_entities[j] for j in range(len(_feats_arr)) if _cls_res[j] == i))"
   ]
  },
  {
   "cell_type": "code",
   "execution_count": 80,
   "metadata": {},
   "outputs": [],
   "source": [
    "C = 20\n",
    "A_cls = AgglomerativeClustering(n_clusters=C, affinity='l2', linkage='complete')\n",
    "_cls_res = A_cls.fit_predict(_feats_arr)"
   ]
  },
  {
   "cell_type": "code",
   "execution_count": 81,
   "metadata": {
    "scrolled": true
   },
   "outputs": [
    {
     "name": "stdout",
     "output_type": "stream",
     "text": [
      "CLUSTER 0:\n",
      "maternity leave | medical / dental | medical billing | medical dental | medical diagnosis | medical emergency | medical insurance | medical marijuana | medical marijuana card\n",
      "CLUSTER 1:\n",
      "car insurance | child care | hearing impairment | medical prescription | parental leave | social security number\n",
      "CLUSTER 2:\n",
      "employment contract | family | family life | food | health dental | internship | legal age | life insurance | pension | personal information | retirement age | safety | sleep | vehicle insurance | work / life balance\n",
      "CLUSTER 3:\n",
      "electricity | employee assistance program | employee benefit | unemployment | unemployment benefits\n",
      "CLUSTER 4:\n",
      "child support | college education | divorce | employee benefits | insurance | job security | longevity | offer health insurance | paid vacations | public health | tax exemption\n",
      "CLUSTER 5:\n",
      "autism | business card | dentist\n",
      "CLUSTER 6:\n",
      "benefits | car accident | cough | dental benefits | disability | income tax | life | medical history | physical disability | social life | social security | social security card | unemployment compensation\n",
      "CLUSTER 7:\n",
      "home mortgage | student loan | tax | tax credit\n",
      "CLUSTER 8:\n",
      "dental assistant | hair care | health | health benefits | health care | health food | medicare | mortgage loan\n",
      "CLUSTER 9:\n",
      "disability insurance\n",
      "CLUSTER 10:\n",
      "home care | mental health | mortgage | social services\n",
      "CLUSTER 11:\n",
      "employment\n",
      "CLUSTER 12:\n",
      "credit card | dental / vision | dental and vision | dental insurance | dental surgery | dental vision | health care insurance | medical | medical card\n",
      "CLUSTER 13:\n",
      "food safety | hair\n",
      "CLUSTER 14:\n",
      "diabetes | health savings account | personal life\n",
      "CLUSTER 15:\n",
      "cancer\n",
      "CLUSTER 16:\n",
      "education\n",
      "CLUSTER 17:\n",
      "property insurance\n",
      "CLUSTER 18:\n",
      "alcohol\n",
      "CLUSTER 19:\n",
      "continuing education\n"
     ]
    }
   ],
   "source": [
    "for i in range(C):\n",
    "    print(f'CLUSTER {i}:')\n",
    "    print(' | '.join(_entities[j] for j in range(len(_feats_arr)) if _cls_res[j] == i))"
   ]
  },
  {
   "cell_type": "code",
   "execution_count": 82,
   "metadata": {},
   "outputs": [],
   "source": [
    "C = 20\n",
    "A_cls = AgglomerativeClustering(n_clusters=C, affinity='cosine', linkage='complete')\n",
    "_cls_res = A_cls.fit_predict(_feats_arr)"
   ]
  },
  {
   "cell_type": "code",
   "execution_count": 83,
   "metadata": {
    "scrolled": true
   },
   "outputs": [
    {
     "name": "stdout",
     "output_type": "stream",
     "text": [
      "CLUSTER 0:\n",
      "disability insurance | home care | mental health | mortgage | social services\n",
      "CLUSTER 1:\n",
      "home mortgage | job security | public health | student loan | tax | tax credit\n",
      "CLUSTER 2:\n",
      "employment contract | family | legal age | life insurance | personal information | sleep | vehicle insurance | work / life balance\n",
      "CLUSTER 3:\n",
      "family life | food | health dental | safety\n",
      "CLUSTER 4:\n",
      "alcohol | cancer\n",
      "CLUSTER 5:\n",
      "autism | business card | dentist\n",
      "CLUSTER 6:\n",
      "medicare | property insurance | retirement age\n",
      "CLUSTER 7:\n",
      "electricity | employee assistance program | employee benefit | employee benefits | internship | longevity | offer health insurance | paid vacations | tax exemption | unemployment | unemployment benefits\n",
      "CLUSTER 8:\n",
      "car insurance | child care | hearing impairment | social security number\n",
      "CLUSTER 9:\n",
      "car accident | disability | hair care | health | health benefits | health care | health food | income tax | life | medical history | mortgage loan | physical disability | unemployment compensation\n",
      "CLUSTER 10:\n",
      "maternity leave | medical / dental | medical billing | medical dental | medical diagnosis | medical emergency | medical insurance | medical marijuana | medical marijuana card\n",
      "CLUSTER 11:\n",
      "credit card | dental / vision | dental and vision | dental assistant | dental benefits | dental insurance | dental surgery | dental vision | health care insurance | medical | medical card\n",
      "CLUSTER 12:\n",
      "education\n",
      "CLUSTER 13:\n",
      "food safety | hair\n",
      "CLUSTER 14:\n",
      "child support | college education | divorce | insurance\n",
      "CLUSTER 15:\n",
      "continuing education\n",
      "CLUSTER 16:\n",
      "diabetes | health savings account | personal life\n",
      "CLUSTER 17:\n",
      "benefits | cough | pension | social life | social security | social security card\n",
      "CLUSTER 18:\n",
      "employment\n",
      "CLUSTER 19:\n",
      "medical prescription | parental leave\n"
     ]
    }
   ],
   "source": [
    "for i in range(C):\n",
    "    print(f'CLUSTER {i}:')\n",
    "    print(' | '.join(_entities[j] for j in range(len(_feats_arr)) if _cls_res[j] == i))"
   ]
  },
  {
   "cell_type": "code",
   "execution_count": null,
   "metadata": {},
   "outputs": [],
   "source": []
  },
  {
   "cell_type": "markdown",
   "metadata": {},
   "source": [
    "## Entities context analysis"
   ]
  },
  {
   "cell_type": "code",
   "execution_count": 80,
   "metadata": {},
   "outputs": [],
   "source": [
    "benchmark_path = os.path.join(base_dir, f'data/indeed-benchmark/benchmark_evidence_clean.csv')\n",
    "embed_num_path = os.path.join(base_dir, f'data/{data_ac}/intermediate/BERTembednum+seeds.txt')\n",
    "corpus_path = os.path.join(base_dir, f'data/{data_ac}/intermediate/sentences_with_company.json')\n",
    "\n",
    "ee_emb_path = os.path.join(base_dir, f'data/{data_ac}/intermediate/ee_concept_knn_k=None.csv')\n",
    "ee_LM_path = os.path.join(base_dir, f'data/{data_ac}/intermediate/ee_LM_bert_k=None.csv')\n"
   ]
  },
  {
   "cell_type": "code",
   "execution_count": 81,
   "metadata": {},
   "outputs": [
    {
     "data": {
      "text/plain": [
       "dict_keys(['company', 'shifts', 'benefits', 'background_screening', 'dress_code', 'hire_prerequisite', 'compensation', 'pay_schedule', 'job_position', 'payment_option', 'schedule', 'person', 'employee_type', 'onboarding_steps'])"
      ]
     },
     "execution_count": 81,
     "metadata": {},
     "output_type": "execute_result"
    }
   ],
   "source": [
    "all_benchmark_instances, _ = load_benchmark(benchmark_path,\n",
    "                                            seed_aligned_concepts_path,\n",
    "                                            seed_aligned_relations_path)\n",
    "all_benchmark_instances.keys()"
   ]
  },
  {
   "cell_type": "code",
   "execution_count": 82,
   "metadata": {},
   "outputs": [
    {
     "data": {
      "text/plain": [
       "8064"
      ]
     },
     "execution_count": 82,
     "metadata": {},
     "output_type": "execute_result"
    }
   ],
   "source": [
    "embed_num_dict = dict()\n",
    "with open(embed_num_path, 'r') as f:\n",
    "    for l in f:\n",
    "        _e, _cnt = l.strip().rsplit(' ', 1)\n",
    "        embed_num_dict[_e] = int(_cnt)\n",
    "len(embed_num_dict)"
   ]
  },
  {
   "cell_type": "code",
   "execution_count": 83,
   "metadata": {},
   "outputs": [
    {
     "data": {
      "application/vnd.jupyter.widget-view+json": {
       "model_id": "7fb186346df2415bb7d6d0d079f61368",
       "version_major": 2,
       "version_minor": 0
      },
      "text/plain": [
       "HBox(children=(FloatProgress(value=0.0, max=413232.0), HTML(value='')))"
      ]
     },
     "metadata": {},
     "output_type": "display_data"
    },
    {
     "name": "stdout",
     "output_type": "stream",
     "text": [
      "\n"
     ]
    },
    {
     "data": {
      "text/plain": [
       "413232"
      ]
     },
     "execution_count": 83,
     "metadata": {},
     "output_type": "execute_result"
    }
   ],
   "source": [
    "with open(corpus_path, 'r') as f:\n",
    "    sent_dicts = [json.loads(l) for l in tqdm(f.readlines())]\n",
    "len(sent_dicts)"
   ]
  },
  {
   "cell_type": "markdown",
   "metadata": {},
   "source": [
    "### company"
   ]
  },
  {
   "cell_type": "code",
   "execution_count": 27,
   "metadata": {},
   "outputs": [],
   "source": [
    "_company_freqs = []\n",
    "for _e in all_benchmark_instances['company']:\n",
    "    try:\n",
    "        _freq = embed_num_dict[_e]\n",
    "        _company_freqs.append((_e, _freq))\n",
    "    except:\n",
    "        continue\n",
    "_company_freqs.sort(key=lambda p: p[-1])"
   ]
  },
  {
   "cell_type": "code",
   "execution_count": 72,
   "metadata": {
    "scrolled": true
   },
   "outputs": [
    {
     "data": {
      "text/plain": [
       "[('barnes & noble', 4),\n",
       " ('american eagle outfitters', 12),\n",
       " ('chipotle mexican grill', 15),\n",
       " ('costco wholesale', 19),\n",
       " ('primark', 22),\n",
       " ('cvs health', 30),\n",
       " ('united states postal service', 37),\n",
       " ('tim hortons', 47),\n",
       " ('foot locker', 50),\n",
       " ('frito lay', 67),\n",
       " ('dd', 68),\n",
       " ('goodwill industries', 69),\n",
       " ('tj maxx', 88),\n",
       " ('chilis', 94),\n",
       " ('pepsico', 101),\n",
       " ('mcdonald', 109),\n",
       " ('geico', 112),\n",
       " ('sitel', 114),\n",
       " ('marshalls', 127),\n",
       " ('pepsi', 144),\n",
       " ('planet fitness', 146),\n",
       " ('menards', 154),\n",
       " ('jcpenney', 158),\n",
       " ('dunkin donuts', 162),\n",
       " ('hobby lobby', 164),\n",
       " ('panera bread', 165),\n",
       " ('little caesars', 170),\n",
       " ('g4s', 171),\n",
       " ('ihop', 176),\n",
       " ('cracker barrel', 190),\n",
       " ('olive garden', 194),\n",
       " ('spectrum', 230),\n",
       " ('old navy', 284),\n",
       " ('best buy', 285),\n",
       " ('petsmart', 297),\n",
       " ('kfc', 302),\n",
       " ('costco', 346),\n",
       " ('safeway', 380),\n",
       " ('chipotle', 404),\n",
       " ('cvs', 435),\n",
       " ('publix', 451),\n",
       " ('verizon', 477),\n",
       " ('pizza hut', 478),\n",
       " ('wells fargo', 495),\n",
       " ('at&t', 499),\n",
       " ('family dollar', 527),\n",
       " ('dollar tree', 545),\n",
       " ('aldi', 580),\n",
       " ('burger king', 684),\n",
       " ('walgreens', 687),\n",
       " ('dollar general', 694),\n",
       " ('fedex', 741),\n",
       " ('kroger', 743),\n",
       " ('taco bell', 775),\n",
       " ('home depot', 835),\n",
       " ('subway', 925),\n",
       " ('starbucks', 1005),\n",
       " ('mcdonalds', 1268),\n",
       " ('target', 1341),\n",
       " ('amazon', 2226),\n",
       " ('walmart', 4261),\n",
       " ('training', 8597)]"
      ]
     },
     "execution_count": 72,
     "metadata": {},
     "output_type": "execute_result"
    }
   ],
   "source": [
    "_company_freqs"
   ]
  },
  {
   "cell_type": "code",
   "execution_count": 89,
   "metadata": {},
   "outputs": [
    {
     "data": {
      "text/plain": [
       "<matplotlib.axes._subplots.AxesSubplot at 0x7fd7d1e85a90>"
      ]
     },
     "execution_count": 89,
     "metadata": {},
     "output_type": "execute_result"
    },
    {
     "data": {
      "image/png": "[encoded data removed]",
      "text/plain": [
       "<Figure size 864x648 with 1 Axes>"
      ]
     },
     "metadata": {
      "needs_background": "light"
     },
     "output_type": "display_data"
    }
   ],
   "source": [
    "_company_freqs_df = pd.DataFrame(_company_freqs[:-1], columns=['company', 'freq'])\n",
    "_company_freqs_df.plot.bar(x='company', y='freq', rot=90, fontsize=12, figsize=(12,9))"
   ]
  },
  {
   "cell_type": "code",
   "execution_count": 56,
   "metadata": {},
   "outputs": [
    {
     "data": {
      "text/plain": [
       "(8059, 8037)"
      ]
     },
     "execution_count": 56,
     "metadata": {},
     "output_type": "execute_result"
    }
   ],
   "source": [
    "ee_emb_df = pd.read_csv(ee_emb_path)\n",
    "_emb_company_df = ee_emb_df[ee_emb_df['concept'] == 'company']\n",
    "_emb_company_list = _emb_company_df['neighbor'].tolist()\n",
    "\n",
    "ee_lm_df = pd.read_csv(ee_LM_path)\n",
    "_lm_company_df = ee_lm_df[ee_lm_df['concept'] == 'company']\n",
    "_lm_company_list = _lm_company_df['neighbor'].tolist()\n",
    "\n",
    "len(_emb_company_list), len(_lm_company_list)"
   ]
  },
  {
   "cell_type": "code",
   "execution_count": 101,
   "metadata": {
    "scrolled": true
   },
   "outputs": [
    {
     "name": "stdout",
     "output_type": "stream",
     "text": [
      "barnes & noble           4 3865 150\n",
      "american eagle outfitters 12 3212 1050\n",
      "chipotle mexican grill   15 2000 1490\n",
      "costco wholesale         19 847 705\n",
      "primark                  22 1013 996\n",
      "cvs health               30 1937 205\n",
      "united states postal service 37 399 1793\n",
      "tim hortons              47 221 448\n",
      "foot locker              50 171 4058\n",
      "frito lay                67 32 4141\n",
      "dd                       68 83 1615\n",
      "goodwill industries      69 147 323\n",
      "tj maxx                  88 48 403\n",
      "chilis                   94 312 1573\n",
      "pepsico                  101 52 41\n",
      "mcdonald                 109 249 308\n",
      "geico                    112 29 67\n",
      "sitel                    114 41 2410\n",
      "marshalls                127 34 161\n",
      "pepsi                    144 38 8\n",
      "planet fitness           146 64 454\n",
      "menards                  154 23 6720\n",
      "jcpenney                 158 20 2679\n",
      "dunkin donuts            162 42 4135\n",
      "hobby lobby              164 72 1344\n",
      "panera bread             165 10 1208\n",
      "little caesars           170 73 461\n",
      "g4s                      171 43 228\n",
      "ihop                     176 25 3646\n",
      "cracker barrel           190 19 1294\n",
      "olive garden             194 11 2929\n",
      "spectrum                 230 17 500\n",
      "old navy                 284 15 1553\n",
      "best buy                 285 12 248\n",
      "petsmart                 297 39 831\n",
      "kfc                      302 18 703\n",
      "costco                   346 1 1327\n",
      "safeway                  380 21 3806\n",
      "chipotle                 404 33 1517\n",
      "cvs                      435 24 760\n",
      "publix                   451 7 2334\n",
      "verizon                  477 37 1986\n",
      "pizza hut                478 8 396\n",
      "wells fargo              495 49 2169\n",
      "at&t                     499 40 -1\n",
      "family dollar            527 14 335\n",
      "dollar tree              545 16 360\n",
      "aldi                     580 102 3656\n",
      "burger king              684 31 324\n",
      "walgreens                687 5 5557\n",
      "dollar general           694 2 117\n",
      "fedex                    741 35 389\n",
      "kroger                   743 6 732\n",
      "taco bell                775 36 315\n",
      "home depot               835 4 1266\n",
      "subway                   925 -1 -1\n",
      "starbucks                1005 9 4\n",
      "mcdonalds                1268 13 394\n",
      "target                   1341 -1 -1\n",
      "amazon                   2226 -1 -1\n",
      "walmart                  4261 -1 -1\n",
      "training                 8597 91 6700\n"
     ]
    }
   ],
   "source": [
    "for _e, _cnt in _company_freqs:\n",
    "    print(f'{_e:24s}',\n",
    "          _cnt,\n",
    "          _emb_company_list.index(_e) if _e in _emb_company_list else -1,\n",
    "          _lm_company_list.index(_e) if _e in _lm_company_list else -1)"
   ]
  },
  {
   "cell_type": "code",
   "execution_count": 61,
   "metadata": {
    "scrolled": true
   },
   "outputs": [
    {
     "name": "stdout",
     "output_type": "stream",
     "text": [
      "In my experience , booksellers at Barnes & Noble are not the cream of the crop employees , despite the company 's pretentious attitude towards applicants .\n",
      "\n",
      "Working hours at Barnes & Noble are not great unless you are a manager .\n",
      "\n",
      "The best age to work at Barnes & Noble is in your early 20 's , especially while going to school .\n",
      "\n",
      "ask each customer to make a charitable donation of a book to a Barnes & Noble designated charity -- on and on --- overall , they just want to suck as much money out of each customer as possible .\n",
      "\n",
      "I have never work at Barnes & Noble before , I would like to work there , Because I Love the books .\n",
      "\n",
      "It is rather simple and easy to apply online , on the Barnes & Noble website .\n",
      "\n",
      "Barnes & Noble is a very sales - driven environment where your ability to sell memberships and upsell Café items is paramount .\n",
      "\n",
      "I always regret I could'nt find a career with Barnes & Noble , but it was not in the cards .\n",
      "\n",
      "They took over the Barnes & Noble contract from Control Security and kept the same guards and store detectives on as employees .\n",
      "\n",
      "It depends on the type of Barnes & Noble .\n",
      "\n",
      "I worked at a B & N College Bookstore that was on campus , and I ca n't transfer to a general Barnes & Noble .\n",
      "\n",
      "Barnes & Noble embraces diversity and we love to hire individuals representing every age group .\n",
      "\n",
      "Yes , Barnes & Noble hires older workers in their retail stores .\n",
      "\n",
      "You are required to ask if they 'd like to sign up for the Barnes & Noble Membership .\n",
      "\n",
      "Necesitas ser energico y organizada con los personas de Barnes & Noble .\n",
      "\n"
     ]
    }
   ],
   "source": [
    "_entity = 'barnes & noble'\n",
    "\n",
    "for d in sent_dicts:\n",
    "    _sent = ' '.join(d['tokens'])\n",
    "    if f' {_entity} ' in f' {_sent} '.lower():\n",
    "        print(_sent)\n",
    "        print()"
   ]
  },
  {
   "cell_type": "code",
   "execution_count": 63,
   "metadata": {
    "scrolled": true
   },
   "outputs": [
    {
     "name": "stdout",
     "output_type": "stream",
     "text": [
      "It took American Eagle Outfitters less than a week to schedule my training day after getting the position .\n",
      "\n",
      "No orientation is not paid for at American Eagle Outfitters\n",
      "\n",
      "No you do not have to be a certain height to work at American Eagle Outfitters .\n",
      "\n",
      "In able to work at American Eagle Outfitters , you have to be at least the age of seventeen .\n",
      "\n",
      "Working at American Eagle Outfitters on Sunday , you get time and a half .\n",
      "\n",
      "No , they did not drug test at American Eagle Outfitters .\n",
      "\n"
     ]
    }
   ],
   "source": [
    "_entity = 'american eagle outfitters'\n",
    "\n",
    "for d in sent_dicts:\n",
    "    _sent = ' '.join(d['tokens'])\n",
    "    if f' {_entity} ' in f' {_sent} '.lower():\n",
    "        print(_sent)\n",
    "        print()"
   ]
  },
  {
   "cell_type": "code",
   "execution_count": 64,
   "metadata": {
    "scrolled": true
   },
   "outputs": [
    {
     "name": "stdout",
     "output_type": "stream",
     "text": [
      "I got my first interview at Chipotle Mexican Grill after I applied online .\n",
      "\n",
      "Chipotle mexican grill is a worldwide company and we have locations in Germany , London , and Canada .\n",
      "\n",
      "I really would not mind working at a new location for Chipotle Mexican Grill , but I would have to think twice about it .\n",
      "\n",
      "I applied for chipotle Mexican grill they never called me\n",
      "\n",
      "Chipotle Mexican Grill terminated me as an employee .\n",
      "\n",
      "Chipotle Mexican Grill pays bi weekly .\n",
      "\n",
      "  I do Hope Chipotle Mexican Grill so they can fix there management .\n",
      "\n",
      "You must be 16 years of age in order to work a Chipotle Mexican Grill .\n",
      "\n"
     ]
    }
   ],
   "source": [
    "_entity = 'chipotle mexican grill'\n",
    "\n",
    "for d in sent_dicts:\n",
    "    _sent = ' '.join(d['tokens'])\n",
    "    if f' {_entity} ' in f' {_sent} '.lower():\n",
    "        print(_sent)\n",
    "        print()"
   ]
  },
  {
   "cell_type": "code",
   "execution_count": 65,
   "metadata": {
    "scrolled": true
   },
   "outputs": [
    {
     "name": "stdout",
     "output_type": "stream",
     "text": [
      "The overall work environment at Costco Wholesale was very strenuous .\n",
      "\n",
      "Costco Wholesale is a great company with great benefits .\n",
      "\n",
      "Never work at Costco wholesale\n",
      "\n",
      "Looking to seek Employee with Costco Wholesale\n",
      "\n",
      "References within Costco Wholesale whom are employed already .\n",
      "\n",
      "Yes Costco Wholesale does through and complete background checks on all prospective hires .\n",
      "\n",
      "You have to be 18 or older to work for Costco wholesale pretty sure a HS deploma or GED was required\n",
      "\n",
      "I was hired to work at Costco Wholesale in May of 2016 .\n",
      "\n",
      "Hi , My Costco wholesale is the very .\n",
      "\n",
      "Good managed company by it 's CA , we are the most interested to work with the Costco wholesale .\n",
      "\n"
     ]
    }
   ],
   "source": [
    "_entity = 'costco wholesale'\n",
    "\n",
    "for d in sent_dicts:\n",
    "    _sent = ' '.join(d['tokens'])\n",
    "    if f' {_entity} ' in f' {_sent} '.lower():\n",
    "        print(_sent)\n",
    "        print()"
   ]
  },
  {
   "cell_type": "code",
   "execution_count": null,
   "metadata": {
    "scrolled": true
   },
   "outputs": [],
   "source": [
    "_entity = 'chilis'\n",
    "\n",
    "for d in sent_dicts:\n",
    "    _sent = ' '.join(d['tokens'])\n",
    "    if f' {_entity} ' in f' {_sent} '.lower():\n",
    "        print(_sent)\n",
    "        print()"
   ]
  },
  {
   "cell_type": "code",
   "execution_count": null,
   "metadata": {},
   "outputs": [],
   "source": [
    "_entity = 'retail'\n",
    "\n",
    "for d in sent_dicts:\n",
    "    _sent = ' '.join(d['tokens'])\n",
    "    if f' {_entity} ' in f' {_sent} '.lower():\n",
    "        print(_sent)\n",
    "        print()"
   ]
  },
  {
   "cell_type": "code",
   "execution_count": null,
   "metadata": {},
   "outputs": [],
   "source": []
  },
  {
   "cell_type": "code",
   "execution_count": 111,
   "metadata": {
    "scrolled": true
   },
   "outputs": [
    {
     "name": "stdout",
     "output_type": "stream",
     "text": [
      "The Home Depot : Yes , and ys\n",
      "\n",
      "Family Dollar : Ys hard for you have\n",
      "\n",
      "Barnes & Noble : Hello my name is julian and i currently live in carbondale and i was just going to say i would more likely to work with you guys if i ever decide to see ys soon if possible .\n",
      "\n"
     ]
    }
   ],
   "source": [
    "_entity = 'ys'\n",
    "\n",
    "for d in sent_dicts:\n",
    "    _sent = ' '.join(d['tokens'])\n",
    "    if f' {_entity} ' in f' {_sent} '.lower():\n",
    "        print(d['company'], ':', _sent)\n",
    "        print()"
   ]
  },
  {
   "cell_type": "markdown",
   "metadata": {},
   "source": [
    "### benefits"
   ]
  },
  {
   "cell_type": "code",
   "execution_count": 90,
   "metadata": {},
   "outputs": [],
   "source": [
    "_benefits_freqs = []\n",
    "for _e in all_benchmark_instances['benefits']:\n",
    "    try:\n",
    "        _freq = embed_num_dict[_e]\n",
    "        _benefits_freqs.append((_e, _freq))\n",
    "    except:\n",
    "        continue\n",
    "_benefits_freqs.sort(key=lambda p: p[-1])"
   ]
  },
  {
   "cell_type": "code",
   "execution_count": 91,
   "metadata": {
    "scrolled": true
   },
   "outputs": [
    {
     "data": {
      "text/plain": [
       "[('health benefits', 4),\n",
       " ('tuition assistance', 20),\n",
       " ('monthly bonus', 23),\n",
       " ('retirement plan', 32),\n",
       " ('paid vacations', 36),\n",
       " ('prescription drugs', 46),\n",
       " ('401k plan', 50),\n",
       " ('pension', 51),\n",
       " ('401 k', 71),\n",
       " ('sick leave', 133),\n",
       " ('life insurance', 183),\n",
       " ('health care', 222),\n",
       " ('healthcare', 233),\n",
       " ('sick days', 248),\n",
       " ('401k', 640),\n",
       " ('health insurance', 782),\n",
       " ('health', 1294)]"
      ]
     },
     "execution_count": 91,
     "metadata": {},
     "output_type": "execute_result"
    }
   ],
   "source": [
    "_benefits_freqs"
   ]
  },
  {
   "cell_type": "code",
   "execution_count": 94,
   "metadata": {},
   "outputs": [],
   "source": [
    "_benefits_freqs_df = pd.DataFrame(_benefits_freqs, columns=['benefits', 'freq'])"
   ]
  },
  {
   "cell_type": "code",
   "execution_count": 95,
   "metadata": {},
   "outputs": [
    {
     "data": {
      "text/plain": [
       "<matplotlib.axes._subplots.AxesSubplot at 0x7fd7d1d486d0>"
      ]
     },
     "execution_count": 95,
     "metadata": {},
     "output_type": "execute_result"
    },
    {
     "data": {
      "image/png": "[encoded data removed]",
      "text/plain": [
       "<Figure size 864x648 with 1 Axes>"
      ]
     },
     "metadata": {
      "needs_background": "light"
     },
     "output_type": "display_data"
    }
   ],
   "source": [
    "_benefits_freqs_df.plot.bar(x='benefits', y='freq', rot=90, fontsize=12, figsize=(12,9))"
   ]
  },
  {
   "cell_type": "code",
   "execution_count": 97,
   "metadata": {},
   "outputs": [
    {
     "data": {
      "text/plain": [
       "(8058, 8036)"
      ]
     },
     "execution_count": 97,
     "metadata": {},
     "output_type": "execute_result"
    }
   ],
   "source": [
    "ee_emb_df = pd.read_csv(ee_emb_path)\n",
    "_emb_benefits_df = ee_emb_df[ee_emb_df['concept'] == 'benefits']\n",
    "_emb_benefits_list = _emb_benefits_df['neighbor'].tolist()\n",
    "\n",
    "ee_lm_df = pd.read_csv(ee_LM_path)\n",
    "_lm_benefits_df = ee_lm_df[ee_lm_df['concept'] == 'benefits']\n",
    "_lm_benefits_list = _lm_benefits_df['neighbor'].tolist()\n",
    "\n",
    "len(_emb_benefits_list), len(_lm_benefits_list)"
   ]
  },
  {
   "cell_type": "code",
   "execution_count": 99,
   "metadata": {
    "scrolled": true
   },
   "outputs": [
    {
     "name": "stdout",
     "output_type": "stream",
     "text": [
      "health benefits          4 3255 13\n",
      "tuition assistance       20 944 125\n",
      "monthly bonus            23 809 142\n",
      "retirement plan          32 73 124\n",
      "paid vacations           36 64 70\n",
      "prescription drugs       46 570 322\n",
      "401k plan                50 326 672\n",
      "pension                  51 62 1\n",
      "401 k                    71 302 3307\n",
      "sick leave               133 -1 -1\n",
      "life insurance           183 7 16\n",
      "health care              222 1 22\n",
      "healthcare               233 0 101\n",
      "sick days                248 9 494\n",
      "401k                     640 -1 -1\n",
      "health insurance         782 -1 -1\n",
      "health                   1294 6 9\n"
     ]
    }
   ],
   "source": [
    "for _e, _cnt in _benefits_freqs:\n",
    "    print(f'{_e:24s}',\n",
    "          _cnt,\n",
    "          _emb_benefits_list.index(_e) if _e in _emb_benefits_list else -1,\n",
    "          _lm_benefits_list.index(_e) if _e in _lm_benefits_list else -1)"
   ]
  },
  {
   "cell_type": "code",
   "execution_count": 102,
   "metadata": {
    "scrolled": true
   },
   "outputs": [
    {
     "name": "stdout",
     "output_type": "stream",
     "text": [
      "The tuition assistance is TRASH ! !\n",
      "\n",
      "No amazon do not have tuition assistance for part time employees .\n",
      "\n",
      "Tuition assistance is provided based on the program and school you choose , and is available for consideration after one consecutive year of work with the company .\n",
      "\n",
      "As soon as you get through your trial period you can apply for the tuition assistance .\n",
      "\n",
      "They offer medical plans , tuition assistance , sick days(in small increments based on time worked ) , paid time off(again in small increments . ) ,\n",
      "\n",
      "After one year of working for Chipotle , students are offered tuition assistance if they are not offered federal financial assistance .\n",
      "\n",
      "Yes you need to work there for a year to sign up for tuition assistance .\n",
      "\n",
      "Lots of training opportunities and Tuition Assistance .\n",
      "\n",
      "Yes $ 6000 of tuition assistance .\n",
      "\n",
      "  Tuition assistance is available the very first day you start .\n",
      "\n",
      "There is also , tuition assistance program for promotion within the company .\n",
      "\n",
      "No , however , they do offer tuition assistance\n",
      "\n",
      "One employee committed suicide at the end of 2018 and Aldi has no employee EAP or tuition assistance programs in place or anything to support employees going through anything mentally or emotionally .\n",
      "\n"
     ]
    }
   ],
   "source": [
    "_entity = 'tuition assistance'\n",
    "\n",
    "for d in sent_dicts:\n",
    "    _sent = ' '.join(d['tokens'])\n",
    "    if f' {_entity} ' in f' {_sent} '.lower():\n",
    "        print(_sent)\n",
    "        print()"
   ]
  },
  {
   "cell_type": "code",
   "execution_count": 103,
   "metadata": {
    "scrolled": true
   },
   "outputs": [
    {
     "name": "stdout",
     "output_type": "stream",
     "text": [
      "401k Plan medical and dental paid vacation raise after 90 days\n",
      "\n",
      "There is a 401k plan , but I ca n't remember if it 's 3 months or 1 year after being with them .\n",
      "\n",
      "They paid me once a week which was great , they have a good 401k plan and good health benefits\n",
      "\n",
      "The Starbucks was inside of Kroger so you receive Kroger benefits as well such as 401k plan\n",
      "\n",
      "The company benefits are full benefits , 401k plan , PTO , Bonuses , Company Perks\n",
      "\n",
      "Heath care \n",
      " dental \n",
      " vision \n",
      " awesome 401k plan\n",
      "\n",
      "Standard health benefits , school reimbursement , 401k plan\n",
      "\n",
      "1 year in order to get tuition for school and i believe the 401k plan is instant .\n",
      "\n",
      "They do not have a 401k plan\n",
      "\n",
      "I do not have a 401k plan\n",
      "\n",
      "No I do not have a 401k plan .\n",
      "\n",
      "No i do not have 401k plan\n",
      "\n",
      "No I do n't have a 401k plan but I do know it is a option .\n",
      "\n",
      "Yes wlgreens does offer you a 401k plan .\n",
      "\n",
      "401k plan after 6 months or 1 year .\n",
      "\n",
      "After a year you can start a 401k plan , get health and dental , along with buying stocks .\n",
      "\n",
      "Wal - mart 's benefits are top notch including vision , healthcare , a 401k plan , life insurance and everything else under the sun\n",
      "\n",
      "Wal - marts are top notch including vision , healtcare a 401k plan , life insurance and everything else under the sun\n",
      "\n",
      "They offer 401k plan as well as dental health coverage for you and your spose and vision .\n",
      "\n",
      "They offer the 401k plan and they have company plan where however muck money you put into they company they match and you can cash it in at any given time .\n",
      "\n",
      "401k plan as well as many retirement benefits\n",
      "\n",
      "They provide full healthcare coverage , and a nice 401k plan\n",
      "\n",
      "There was talk of insurance and a 401k plan but it is outrageously priced and completely unreasonable and not affordable to their employees .\n",
      "\n",
      "All associates that are part time are available for all insurances excluding the 401k plan .\n",
      "\n",
      "I was offered health insurance and a 401k plan , but I already had insurance and did n't plan on staying long enough to need a 401k plan .\n",
      "\n",
      "None , the company never had any 401k plan .\n",
      "\n",
      "I did not have a 401k plan when i worked at applebees .\n",
      "\n",
      "Vacation time after one year , bonus program , 401k plan .\n",
      "\n",
      "They start you out as a seasonal hire , and then move you to part - time if they feel they want to kepp you , but you work full - time hours and mostly have you as part - time so they do not have to gi e you benefits and a 401k plan , along with , if need be , they can cut your hours whenever they need to .\n",
      "\n",
      "I was not informed fo 401k plan .\n",
      "\n",
      "I am not sure which company does the 401k plan for McDonald ’s , I ’ve never been told .\n",
      "\n",
      "401k plan is optional i believe ... beyond that I 'm thinking no\n",
      "\n",
      "They did not have a 401k plan\n",
      "\n",
      "Yes but in order to be eligible for the 401k plan you must be an associate for at least a year .\n",
      "\n",
      "Yes they have a 401k plan\n",
      "\n",
      "What happens to my 401k plan when i leave after 3 years\n",
      "\n"
     ]
    }
   ],
   "source": [
    "_entity = '401k plan'\n",
    "\n",
    "for d in sent_dicts:\n",
    "    _sent = ' '.join(d['tokens'])\n",
    "    if f' {_entity} ' in f' {_sent} '.lower():\n",
    "        print(_sent)\n",
    "        print()"
   ]
  },
  {
   "cell_type": "code",
   "execution_count": null,
   "metadata": {},
   "outputs": [],
   "source": []
  },
  {
   "cell_type": "code",
   "execution_count": 137,
   "metadata": {
    "scrolled": true
   },
   "outputs": [
    {
     "name": "stdout",
     "output_type": "stream",
     "text": [
      "Amazon.com : Yes , as a freelancer\n",
      "\n",
      "Macy's : With Macys as a freelancer the pay is weekly .\n",
      "\n",
      "Macy's : It 's different for every person , whether you work for the counter or are a freelancer\n",
      "\n",
      "G4S : Hi \n",
      " I am freelancer Sohan \n",
      " Place copy types\n",
      "\n"
     ]
    }
   ],
   "source": [
    "_entity = 'freelancer'\n",
    "\n",
    "for d in sent_dicts:\n",
    "    _sent = ' '.join(d['tokens'])\n",
    "    if f' {_entity} ' in f' {_sent} '.lower():\n",
    "        print(d['company'], ':', _sent)\n",
    "        print()"
   ]
  },
  {
   "cell_type": "markdown",
   "metadata": {},
   "source": [
    "## Relational context analysis"
   ]
  },
  {
   "cell_type": "code",
   "execution_count": 130,
   "metadata": {},
   "outputs": [],
   "source": [
    "def get_masked_contexts_for_entities_with_rels(entities,\n",
    "                                               input_corpus,\n",
    "                                               with_entities):\n",
    "    \"\"\"Return a (list of) sentence(s) with entity replaced with MASK.\"\"\"\n",
    "    \"\"\"YS: input should be sentences_with_company.json\"\"\"\n",
    "    \n",
    "    ent_freq = {ent : 0 for ent in entities}\n",
    "    ent_context = {ent : [] for ent in entities}\n",
    "    \n",
    "#     with open(input_file, \"r\") as fin:\n",
    "#         lines = fin.readlines()\n",
    "#     for line in tqdm(lines, total=len(lines), desc=\"loading corpus\"):\n",
    "#         json_dict = json.loads(line)\n",
    "    for json_dict in input_corpus:\n",
    "        sent = ' ' + ' '.join(json_dict['tokens']).lower() + ' '\n",
    "        #entities = [match.group(1) for match in re.finditer(pat, line)]\n",
    "\n",
    "        if not any([f' {_e} ' in sent for _e in with_entities]):\n",
    "            # not including with_entities\n",
    "            continue\n",
    "\n",
    "        for entity in entities:\n",
    "            pat = f' {entity} '\n",
    "            if pat not in sent:\n",
    "                continue\n",
    "\n",
    "            context = sent.replace(pat, ' [MASK] ').strip()\n",
    "            c = context.split('[MASK]')\n",
    "            if len(c) != 2:  # sanity to not have too many repeating phrases in the context\n",
    "                continue\n",
    "\n",
    "            # ignore too short contexts\n",
    "            if len(context) < 15:\n",
    "                continue\n",
    "\n",
    "            # print(entity)\n",
    "            # print(context)\n",
    "\n",
    "            _freq = ent_freq.get(entity, 0)\n",
    "            ent_freq[entity] = _freq + 1\n",
    "\n",
    "            context_lst = ent_context.get(entity, [])\n",
    "            context_lst.append(context)\n",
    "            ent_context[entity] = context_lst\n",
    "\n",
    "    dedup_context = {}\n",
    "    for e, v in ent_context.items():\n",
    "        dedup_context[e] = list(set(v))\n",
    "    return ent_freq, dedup_context\n"
   ]
  },
  {
   "cell_type": "code",
   "execution_count": 131,
   "metadata": {},
   "outputs": [],
   "source": [
    "corpus_path = os.path.join(base_dir, f'data/{data_ac}/intermediate/sentences_with_company.json')"
   ]
  },
  {
   "cell_type": "code",
   "execution_count": 133,
   "metadata": {},
   "outputs": [
    {
     "data": {
      "text/plain": [
       "({'home depot': 1, 'subway': 0, 'starbucks': 4, 'mcdonalds': 4},\n",
       " {'home depot': ['no , since obama care [MASK] dropped health insurance for part time employees'],\n",
       "  'subway': [],\n",
       "  'starbucks': ['the [MASK] was inside of kroger so you receive kroger benefits as well such as 401k plan',\n",
       "   'you have to work a full 32 + hours a week to get health insurance in [MASK] .',\n",
       "   'yes , 401k , and 30 % off items for [MASK] .',\n",
       "   'yes , all [MASK] partners averaging 20 hours or more per work week are eligible for medical benefits , 401k , and stock options .'],\n",
       "  'mcdonalds': ['the reason for leaving [MASK] was due to the flexible schedule',\n",
       "   'i was offered 401k with [MASK] .',\n",
       "   'do [MASK] pay you on sick leave to',\n",
       "   'no managers at this [MASK] receive health insurance of any kind .']})"
      ]
     },
     "execution_count": 133,
     "metadata": {},
     "output_type": "execute_result"
    }
   ],
   "source": [
    "get_masked_contexts_for_entities_with_rels(entities=[\"home depot\", \"subway\", \"starbucks\", \"mcdonalds\"],\n",
    "    input_corpus=sent_dicts,\n",
    "    with_entities=[\"health insurance\", \"flexible schedule\", \"401k\", \"paid vacation\", \"sick leave\", \"vision insurance\"])"
   ]
  },
  {
   "cell_type": "markdown",
   "metadata": {},
   "source": [
    "### All companies, all benefits"
   ]
  },
  {
   "cell_type": "code",
   "execution_count": 134,
   "metadata": {},
   "outputs": [],
   "source": [
    "concepts_df = load_seed_aligned_concepts(seed_aligned_concepts_path)\n",
    "seed_instances_dict = dict(zip(concepts_df['alignedCategoryName'], concepts_df['seedInstances']))\n",
    "\n",
    "_collected_company = list(all_benchmark_instances['company'] | set(seed_instances_dict['company']))\n",
    "_collected_benefits = list(all_benchmark_instances['benefits'] | set(seed_instances_dict['benefits']))"
   ]
  },
  {
   "cell_type": "code",
   "execution_count": 136,
   "metadata": {},
   "outputs": [],
   "source": [
    "_company_cnt, _company_contexts = get_masked_contexts_for_entities_with_rels(\n",
    "    entities=_collected_company,\n",
    "    input_corpus=sent_dicts,\n",
    "    with_entities=_collected_benefits\n",
    ")"
   ]
  },
  {
   "cell_type": "code",
   "execution_count": 137,
   "metadata": {
    "scrolled": true
   },
   "outputs": [
    {
     "data": {
      "text/plain": [
       "[('frito-lay', 0),\n",
       " ('spectrum', 0),\n",
       " ('allied universal security services, systems and solutions', 0),\n",
       " ('t-mobile', 0),\n",
       " ('marriott international, inc.', 0),\n",
       " (\"dick's sporting goods\", 0),\n",
       " ('alorica', 0),\n",
       " (\"macy's\", 0),\n",
       " (\"kohl's\", 0),\n",
       " ('ross dress for less', 0),\n",
       " ('microsoft', 0),\n",
       " ('geico', 0),\n",
       " ('olive garden', 0),\n",
       " (\"mcdonald's\", 0),\n",
       " ('electric', 0),\n",
       " ('ulta', 0),\n",
       " (\"chili's\", 0),\n",
       " ('concentrix', 0),\n",
       " (\"dunkin' donuts\", 0),\n",
       " (\"lowe's\", 0),\n",
       " (\"domino's\", 0),\n",
       " ('kroger stores', 0),\n",
       " ('sonic drive-in', 0),\n",
       " ('subways', 0),\n",
       " ('costco wholesale', 0),\n",
       " ('chipotle mexican grill', 0),\n",
       " ('chick-fil-a', 0),\n",
       " (\"victoria's secret\", 0),\n",
       " ('goodwill industries', 0),\n",
       " ('quiktrip', 0),\n",
       " ('barnes & noble', 0),\n",
       " ('american eagle outfitters', 0),\n",
       " (\"the wendy's company\", 0),\n",
       " ('teleperformance', 0),\n",
       " ('united states postal service', 0),\n",
       " ('dunkin donuts', 0),\n",
       " ('tim hortons', 0),\n",
       " ('frito lay', 0),\n",
       " ('t.j. maxx', 0),\n",
       " (\"sam's club\", 0),\n",
       " (\"applebee's\", 0),\n",
       " ('burlington stores', 0),\n",
       " ('chilis', 0),\n",
       " ('little caesars', 1),\n",
       " ('pepsico', 1),\n",
       " ('frito', 1),\n",
       " ('planet fitness', 1),\n",
       " ('primark', 1),\n",
       " ('whole foods market', 1),\n",
       " ('foot locker', 1),\n",
       " ('pepsi', 1),\n",
       " ('hobby lobby', 1),\n",
       " ('ihop', 1),\n",
       " ('instacart', 1),\n",
       " ('doordash', 1),\n",
       " ('kfc', 1),\n",
       " ('enterprise holdings', 1),\n",
       " ('whataburger', 1),\n",
       " ('costco', 2),\n",
       " ('marshalls', 2),\n",
       " ('sitel', 2),\n",
       " ('tj maxx', 2),\n",
       " ('fedex ground', 2),\n",
       " ('the home depot', 2),\n",
       " ('cracker barrel', 2),\n",
       " ('panera bread', 3),\n",
       " ('petsmart', 3),\n",
       " ('taco bell', 3),\n",
       " ('burger king', 3),\n",
       " ('jcpenney', 3),\n",
       " ('pizza hut', 3),\n",
       " ('heb', 3),\n",
       " ('chipotle', 3),\n",
       " ('menards', 4),\n",
       " ('fedex', 4),\n",
       " ('g4s', 4),\n",
       " ('at&t', 4),\n",
       " ('wells fargo', 4),\n",
       " ('amazon.com', 4),\n",
       " ('dd', 5),\n",
       " ('wendys', 5),\n",
       " ('old navy', 5),\n",
       " ('subway', 6),\n",
       " ('verizon', 6),\n",
       " ('family dollar', 6),\n",
       " ('safeway', 7),\n",
       " ('lowes', 7),\n",
       " ('walgreens', 8),\n",
       " ('dollar tree', 8),\n",
       " ('mcdonalds', 9),\n",
       " ('panera', 9),\n",
       " ('ups', 10),\n",
       " ('best buy', 11),\n",
       " ('kroger', 12),\n",
       " ('dollar general', 12),\n",
       " ('home depot', 13),\n",
       " ('mcdonald', 14),\n",
       " ('aldi', 14),\n",
       " ('starbucks', 14),\n",
       " ('publix', 14),\n",
       " ('target', 16),\n",
       " ('cvs health', 17),\n",
       " ('amazon', 23),\n",
       " ('training', 26),\n",
       " ('cvs', 28),\n",
       " ('walmart', 54)]"
      ]
     },
     "execution_count": 137,
     "metadata": {},
     "output_type": "execute_result"
    }
   ],
   "source": [
    "_company_cnt_list = sorted(_company_cnt.items(), key=lambda p: p[1])\n",
    "_company_cnt_list"
   ]
  },
  {
   "cell_type": "code",
   "execution_count": 138,
   "metadata": {},
   "outputs": [
    {
     "data": {
      "text/plain": [
       "<matplotlib.axes._subplots.AxesSubplot at 0x7fd7d15d23d0>"
      ]
     },
     "execution_count": 138,
     "metadata": {},
     "output_type": "execute_result"
    },
    {
     "data": {
      "image/png": "[encoded data removed]",
      "text/plain": [
       "<Figure size 864x648 with 1 Axes>"
      ]
     },
     "metadata": {
      "needs_background": "light"
     },
     "output_type": "display_data"
    }
   ],
   "source": [
    "_company_cnt_df = pd.DataFrame(_company_cnt_list, columns=['company', 'contexts'])\n",
    "_company_cnt_df.plot.bar(x='company', y='contexts', rot=90, fontsize=8, figsize=(12,9))"
   ]
  },
  {
   "cell_type": "markdown",
   "metadata": {},
   "source": [
    "### Single companies, all concepts, embedding t-SNE"
   ]
  },
  {
   "cell_type": "code",
   "execution_count": 127,
   "metadata": {},
   "outputs": [],
   "source": [
    "bert_tokenizer = AutoTokenizer.from_pretrained('bert-base-uncased')\n",
    "bert_model = AutoModel.from_pretrained('bert-base-uncased')\n",
    "device = torch.device(\"cuda\" if torch.cuda.is_available() else \"cpu\")\n",
    "bert_model.to(device)\n",
    "bert_model.eval()\n",
    "\n",
    "mask_token_id = bert_tokenizer.mask_token_id"
   ]
  },
  {
   "cell_type": "code",
   "execution_count": 139,
   "metadata": {
    "scrolled": true
   },
   "outputs": [
    {
     "name": "stdout",
     "output_type": "stream",
     "text": [
      "dress_code ['wear fake nails', 'fake nails', 'jewelry', 'tattoos', 'shirt', 'brown pants', 'color hair', 'pants', 'black slacks', 'dress pants', 'lab coats', 'black jeans', 'shirts', 'facial piercings', 'uniform', 'face tattoos', 'strict dress code', 'polo shirts', 'hairnets', 'hair net', 'mustaches', 'natural colors', 'red shirts', 'resistant shoes', 'hair color', 'shoes', 'wear jeans', 'wear shorts', 'casual dress code', 'casual', 'hat', 'non slip shoes', 'unnatural hair color', 'piercings', 'unnatural hair colors', 'professional', 'unnatural colored hair', 'hats', 'nose rings', 'colorful hair', 'skirts', 'scrubs', 'dress shirts', 'attire', 'jeans', 'uniforms', 'uniform policy', 'natural colored hair', 'blue collar', 'business casual', 'uniform shirts', 'facial hair', 'ponytail', 'black pants', 'shorts', 'hair colors']\n",
      "job_position ['sales associate', 'barista', 'delivery driver', 'servers', 'shift leader', 'cashier', 'store manager', 'dishwasher', 'package handler', 'truck drivers', 'server']\n",
      "pay_schedule ['week', 'paid weekly', 'fridays', 'weeks', 'bi weekly', 'paid biweekly', 'tuesdays', 'saturday', 'weekly', 'paid bi weekly', 'biweekly', 'friday', 'tuesday']\n",
      "benefits ['401k', 'sick days', 'discounts', 'sick leave', 'monthly bonus', 'breakfast', 'prescription drugs', '401 k', 'tuition assistance', 'free lunch', 'health insurance', 'health coverage', 'schooling', 'paid vacations', 'retirement', 'health benefits', 'vacations', 'flexible schedule', 'health plans', 'health care', 'discount', 'paid vacation', 'healthcare', 'vacation', 'retirement plan', 'relocation', 'pto', 'vision insurance', 'life insurance', 'relocate', 'health', 'pension', '401k plan']\n",
      "compensation ['overtime pay', 'benfits', 'base pay', 'benefits', 'compensation', 'bonus', 'stock options']\n",
      "payment_option ['paycheck', 'direct deposits', 'checks', 'paper checks', 'prepaid card', 'direct deposit']\n",
      "background_screening ['criminal background', 'drug tested', 'previous employers', 'previous employer', 'follicle test', 'mouth', 'backround check', 'drug text', 'testing', 'hair follicle test', 'test', 'credit check', 'social security', 'urine testing', 'criminal background checks', 'drug tests', 'previous employment', 'background report', 'screening', 'random drug test', 'drug testing', 'backgrounds', 'drug screens', 'urine drug screen', 'hair sample', 'mouth swab', 'social media', 'employment verification', 'urine drug test', 'urine test', 'social security number', 'credit report', 'backround checks', 'mouth swap', 'previous jobs', 'criminal background check', 'criminal history', 'random tests', 'drug test', 'criminal record', 'backround', 'credit checks', 'drug', 'dui', 'screening process', 'pre employment drug screening', 'driving record', 'random drug tests', 'screen', 'previously worked', 'urine tests', 'cannabis', 'mouth swabs', 'drugs', 'criminal backgrounds', 'saliva test', 'drug screened', 'saliva drug test', 'urine sample', 'swab test', 'blood test', 'alcohol', 'random drug testing', 'credit score', 'cheek swab', 'criminal records', 'drug screening', 'drugged tested', 'urine', 'background checks', 'background check', 'saliva', 'drug screen', 'credit history']\n",
      "person ['students', 'ex felons', 'convicted felons', 'pregnant', 'pregnant women', 'disabilities', 'felony', 'high school graduate', 'felony record', 'schoolers', 'disabled', 'misdemeanor theft', 'misdemeanor', 'sex offenders', 'senior citizens', 'high schoolers', 'felonys', 'felonies', 'seniority', 'high school', 'criminals', 'high school students', 'felons', 'misdemeanor charges', 'drug addicts', 'school students', 'seniors']\n",
      "hire_prerequisite ['workers permit', 'high school diploma', 'ged', 'heavy lifting', 'diploma', 'college degree', 'bachelors degree', 'gpa', 'hiring age', 'prior experience', 'degrees', 'birth certificate', 'hs diploma', 'high school education', 'bachelor degree', 'working permit']\n",
      "shifts ['night shifts', 'night shift', '8 hour shift', '12 hour shifts', '3rd shift', 'open 24 hours', 'dinner shift', 'early morning shift', 'weekend shift']\n",
      "schedule ['open 7 days', 'early morning', '7 days', 'hoildays', 'federal holidays', 'saturdays', 'weekend', 'weekends', 'christmas eve', 'saturday', 'sunday', 'hoilday']\n",
      "employee_type ['seasonal', 'seasons', 'fulltime', 'seasonal positions', 'seasonal workers', 'part time', 'full time', 'ft', 'season', 'seasonals', 'seasonal employees']\n",
      "onboarding_steps ['team lunch', 'training program', 'introduction', 'training', 'workstation', 'training classes', 'orientation']\n"
     ]
    }
   ],
   "source": [
    "_company = 'walmart'\n",
    "\n",
    "cc_embeddings = dict()\n",
    "for _cc, _seeds in seed_instances_dict.items():\n",
    "    if _cc == 'company':\n",
    "        continue\n",
    "    \n",
    "    _collected_cc_entities = list(all_benchmark_instances[_cc] | set(_seeds))\n",
    "    print(_cc, _collected_cc_entities)\n",
    "    \n",
    "    # Get masked contexts\n",
    "    _, _contexts = get_masked_contexts_for_entities_with_rels(\n",
    "        entities=[_company],\n",
    "        input_corpus=sent_dicts,\n",
    "        with_entities=_collected_cc_entities\n",
    "    )\n",
    "    _contexts = _contexts[_company]\n",
    "    if len(_contexts) == 0:\n",
    "        continue\n",
    "    \n",
    "    # Compute context embedding \n",
    "    en_context_lst = _contexts\n",
    "    chunks = [en_context_lst[i:i + 100] for i in range(0, len(en_context_lst), 100)]\n",
    "    # print(entity)\n",
    "    # print(len(en_context_lst))\n",
    "    _all_context_embeddings = []\n",
    "    for chunk in chunks:\n",
    "        _encoded_input = bert_tokenizer.batch_encode_plus(chunk, return_token_type_ids=True, add_special_tokens=True, max_length=128, return_tensors='pt', padding=True, pad_to_max_length=True, truncation=True)\n",
    "        _mask = _encoded_input['input_ids'] != mask_token_id\n",
    "        with torch.no_grad():\n",
    "            _encoded_input = ensure_tensor_on_device(device, **_encoded_input)\n",
    "            _model_output = bert_model(**_encoded_input)  # Compute token embeddings\n",
    "        _context_embeddings = mean_pooling(_model_output, _mask)  # mean pooling\n",
    "        _all_context_embeddings.append(_context_embeddings)\n",
    "\n",
    "    assert len(_all_context_embeddings) > 0\n",
    "\n",
    "    _entity_embedding = torch.mean(torch.cat(_all_context_embeddings, dim=0), dim=0).cpu().detach().numpy().tolist()\n",
    "    cc_embeddings[_cc] = _entity_embedding\n",
    "    "
   ]
  },
  {
   "cell_type": "code",
   "execution_count": 140,
   "metadata": {},
   "outputs": [
    {
     "data": {
      "text/plain": [
       "13"
      ]
     },
     "execution_count": 140,
     "metadata": {},
     "output_type": "execute_result"
    }
   ],
   "source": [
    "len(cc_embeddings)"
   ]
  },
  {
   "cell_type": "code",
   "execution_count": 144,
   "metadata": {},
   "outputs": [],
   "source": [
    "bert_emb_path = os.path.join(base_dir, f'data/{data_ac}/intermediate/BERTembed+seeds.txt')\n",
    "embeddings_df = load_embeddings(bert_emb_path, 768)\n",
    "_company_embedding_all = embeddings_df[embeddings_df['entity'] == _company]['embedding'].item()\n",
    "cc_embeddings['all'] = _company_embedding_all"
   ]
  },
  {
   "cell_type": "code",
   "execution_count": 150,
   "metadata": {},
   "outputs": [],
   "source": [
    "tsne = TSNE()\n",
    "_concepts, _raw_embs = zip(*cc_embeddings.items())\n",
    "_tsne_embs = tsne.fit_transform(_raw_embs).tolist()"
   ]
  },
  {
   "cell_type": "code",
   "execution_count": 151,
   "metadata": {},
   "outputs": [
    {
     "data": {
      "text/plain": [
       "[('dress_code', [-145.94862365722656, 57.3772087097168]),\n",
       " ('job_position', [-39.565086364746094, -108.43943786621094]),\n",
       " ('pay_schedule', [152.2614288330078, -63.55064010620117]),\n",
       " ('benefits', [-43.94044494628906, 73.60016632080078]),\n",
       " ('compensation', [2.41005277633667, -4.917022228240967]),\n",
       " ('payment_option', [90.35870361328125, 19.138399124145508]),\n",
       " ('background_screening', [192.3670196533203, 35.36241912841797]),\n",
       " ('person', [57.58891296386719, -88.47061920166016]),\n",
       " ('hire_prerequisite', [-11.17064094543457, 181.2088165283203]),\n",
       " ('shifts', [-95.37789154052734, -26.44676971435547]),\n",
       " ('schedule', [85.98265838623047, 201.17864990234375]),\n",
       " ('employee_type', [-105.84320068359375, 156.29014587402344]),\n",
       " ('onboarding_steps', [44.008026123046875, 97.65530395507812]),\n",
       " ('all', [141.7953643798828, 119.18583679199219])]"
      ]
     },
     "execution_count": 151,
     "metadata": {},
     "output_type": "execute_result"
    }
   ],
   "source": [
    "list(zip(_concepts, _tsne_embs))"
   ]
  },
  {
   "cell_type": "code",
   "execution_count": null,
   "metadata": {},
   "outputs": [],
   "source": [
    "_tsne_x, _tsne_y = list(zip(*_tsne_embs))\n",
    "\n",
    "fig = plt.figure(figsize=(12, 8))\n",
    "ax = fig.gca()\n",
    "\n",
    "for _cc, _emb in list(zip(_concepts, _tsne_embs)):\n",
    "    ax.text(x=_emb[0]/200, y=_emb[1]/200, s=_cc, ha='center')\n",
    "\n",
    "# ax.legend()\n",
    "ax.set_xlim((-2, 2))\n",
    "ax.set_ylim((-2, 2))\n",
    "fig.show()"
   ]
  },
  {
   "cell_type": "code",
   "execution_count": null,
   "metadata": {},
   "outputs": [],
   "source": []
  },
  {
   "cell_type": "code",
   "execution_count": null,
   "metadata": {},
   "outputs": [],
   "source": []
  },
  {
   "cell_type": "markdown",
   "metadata": {},
   "source": [
    "## EE labels preprocessing"
   ]
  },
  {
   "cell_type": "markdown",
   "metadata": {},
   "source": [
    "### Combine emb & LM files (obsolete)"
   ]
  },
  {
   "cell_type": "code",
   "execution_count": 75,
   "metadata": {},
   "outputs": [],
   "source": [
    "raw_EE_emb_labeling_file = os.path.join(base_dir, f'data/indeed-benchmark/ee-emb-labels.csv')\n",
    "raw_EE_LM_labeling_file = os.path.join(base_dir, f'data/indeed-benchmark/ee-lm-labels.csv')\n",
    "\n",
    "out_EE_label_file = os.path.join(base_dir, f'data/indeed-benchmark/ee-labels.csv')"
   ]
  },
  {
   "cell_type": "code",
   "execution_count": 76,
   "metadata": {},
   "outputs": [
    {
     "data": {
      "text/plain": [
       "(623, 676)"
      ]
     },
     "execution_count": 76,
     "metadata": {},
     "output_type": "execute_result"
    }
   ],
   "source": [
    "_raw_emb = pd.read_csv(raw_EE_emb_labeling_file)\n",
    "_raw_lm = pd.read_csv(raw_EE_LM_labeling_file)\n",
    "\n",
    "_raw_emb_gold = _raw_emb[_raw_emb['Majority'] == 1].to_dict('records')\n",
    "_raw_lm_gold = _raw_lm[_raw_lm['Majority'] == 1].to_dict('records')\n",
    "len(_raw_emb_gold), len(_raw_lm_gold)"
   ]
  },
  {
   "cell_type": "code",
   "execution_count": 77,
   "metadata": {},
   "outputs": [],
   "source": [
    "gold_labels_dict = dict()\n",
    "for d in _raw_emb_gold + _raw_lm_gold:\n",
    "    _cc = d['concept']\n",
    "    _e = d['neighbor']\n",
    "    gold_labels_dict[_cc] = gold_labels_dict.get(_cc, []) + [_e]\n",
    "\n",
    "for _cc, _e_list in gold_labels_dict.items():\n",
    "    gold_labels_dict[_cc] = list(set(_e_list))"
   ]
  },
  {
   "cell_type": "code",
   "execution_count": 78,
   "metadata": {},
   "outputs": [
    {
     "name": "stdout",
     "output_type": "stream",
     "text": [
      "company: 119\n",
      "dress_code: 261\n",
      "job_position: 127\n",
      "pay_schedule: 37\n",
      "benefits: 91\n",
      "compensation: 42\n",
      "payment_option: 30\n",
      "background_screening: 84\n",
      "person: 42\n",
      "hire_prerequisite: 109\n",
      "shifts: 70\n",
      "schedule: 62\n",
      "employee_type: 25\n",
      "onboarding_steps: 20\n"
     ]
    }
   ],
   "source": [
    "for _cc, _e_list in gold_labels_dict.items():\n",
    "    print(f'{_cc}: {len(_e_list)}')"
   ]
  },
  {
   "cell_type": "code",
   "execution_count": 79,
   "metadata": {},
   "outputs": [],
   "source": [
    "gold_labels_list = []\n",
    "for _cc, _e_list in gold_labels_dict.items():\n",
    "    for _e in _e_list:\n",
    "        gold_labels_list.append((_cc, _e))\n",
    "pd.DataFrame(gold_labels_list, columns=['concept', 'neighbor']).to_csv(out_EE_label_file, index=False)"
   ]
  },
  {
   "cell_type": "markdown",
   "metadata": {},
   "source": [
    "### Extract labeled entities"
   ]
  },
  {
   "cell_type": "code",
   "execution_count": 233,
   "metadata": {},
   "outputs": [],
   "source": [
    "in_EE_label_file = os.path.join(base_dir, f'data/indeed-benchmark/ee-increment-labels-2.csv')\n",
    "out_EE_label_file = os.path.join(base_dir, f'data/indeed-benchmark/ee-labels-2.csv')"
   ]
  },
  {
   "cell_type": "code",
   "execution_count": 234,
   "metadata": {},
   "outputs": [],
   "source": [
    "in_ee_df = pd.read_csv(in_EE_label_file)\n",
    "\n",
    "gold_labels_dict = dict()\n",
    "for d in in_ee_df.to_dict('records'):\n",
    "    if d['Majority'] != 1:\n",
    "        continue\n",
    "    _cc = d['concept']\n",
    "    _e = d['neighbor']\n",
    "    gold_labels_dict[_cc] = gold_labels_dict.get(_cc, []) + [_e]\n"
   ]
  },
  {
   "cell_type": "code",
   "execution_count": 235,
   "metadata": {},
   "outputs": [
    {
     "name": "stdout",
     "output_type": "stream",
     "text": [
      "company: 155\n",
      "dress_code: 268\n",
      "job_position: 152\n",
      "pay_schedule: 37\n",
      "benefits: 116\n",
      "compensation: 47\n",
      "payment_option: 30\n",
      "background_screening: 104\n",
      "person: 67\n",
      "hire_prerequisite: 137\n",
      "shifts: 89\n",
      "schedule: 69\n",
      "employee_type: 30\n",
      "onboarding_steps: 30\n"
     ]
    }
   ],
   "source": [
    "for _cc, _e_list in gold_labels_dict.items():\n",
    "    print(f'{_cc}: {len(_e_list)}')"
   ]
  },
  {
   "cell_type": "code",
   "execution_count": 236,
   "metadata": {},
   "outputs": [],
   "source": [
    "gold_labels_list = []\n",
    "for _cc, _e_list in gold_labels_dict.items():\n",
    "    for _e in _e_list:\n",
    "        gold_labels_list.append((_cc, _e))\n",
    "pd.DataFrame(gold_labels_list, columns=['concept', 'neighbor']).to_csv(out_EE_label_file, index=False)"
   ]
  },
  {
   "cell_type": "code",
   "execution_count": null,
   "metadata": {},
   "outputs": [],
   "source": []
  },
  {
   "cell_type": "markdown",
   "metadata": {},
   "source": [
    "### Increment label file"
   ]
  },
  {
   "cell_type": "code",
   "execution_count": 103,
   "metadata": {},
   "outputs": [],
   "source": [
    "ee_incre_label_path = os.path.join(base_dir, f'data/indeed-benchmark/ee-increment-labels-2.csv')\n",
    "ee_pred_paths = [\n",
    "    os.path.join(base_dir, f'data/{data_ac}/intermediate/ee_concept_knn_roberta_k=None.csv'),\n",
    "    os.path.join(base_dir, f'data/{data_ac}/intermediate/ee_concept_contr_knn_roberta_k=None.csv'),\n",
    "    os.path.join(base_dir, f'data/{data_ac}/intermediate/ee_LM_roberta_k=None.csv'),\n",
    "    os.path.join(base_dir, f'data/{data_ac}/intermediate/ee_LM_roberta_contr_k=None.csv'),\n",
    "]\n",
    "# ee_pred_path = os.path.join(base_dir, f'data/{data_ac}/intermediate/ee_concept_contr_knn-aux-k=None.csv')"
   ]
  },
  {
   "cell_type": "code",
   "execution_count": 104,
   "metadata": {},
   "outputs": [],
   "source": [
    "# Self-check and dedup current label file \n",
    "\n",
    "ee_label_df = pd.read_csv(ee_incre_label_path)\n",
    "ee_label_dict = dict()  # Dict[(cc, e), maj]\n",
    "for _d in ee_label_df.to_dict('record'):\n",
    "    _key = (_d['concept'], _d['neighbor'])\n",
    "    _label = ee_label_dict.get(_key, None)\n",
    "    if _label is None:\n",
    "        ee_label_dict[_key] = _d['Majority']\n",
    "    elif _label == 'ERR':\n",
    "        pass\n",
    "    else:\n",
    "        if _label != _d['Majority']:\n",
    "            print(f\"Contradict: {_key}\")\n",
    "            ee_label_dict[_key] = 'ERR'"
   ]
  },
  {
   "cell_type": "code",
   "execution_count": 105,
   "metadata": {},
   "outputs": [
    {
     "data": {
      "text/plain": [
       "3435"
      ]
     },
     "execution_count": 105,
     "metadata": {},
     "output_type": "execute_result"
    }
   ],
   "source": [
    "len(ee_label_dict)"
   ]
  },
  {
   "cell_type": "code",
   "execution_count": 106,
   "metadata": {},
   "outputs": [
    {
     "data": {
      "text/plain": [
       "{'company': 0,\n",
       " 'dress_code': 1,\n",
       " 'job_position': 2,\n",
       " 'pay_schedule': 3,\n",
       " 'benefits': 4,\n",
       " 'compensation': 5,\n",
       " 'payment_option': 6,\n",
       " 'background_screening': 7,\n",
       " 'person': 8,\n",
       " 'hire_prerequisite': 9,\n",
       " 'shifts': 10,\n",
       " 'schedule': 11,\n",
       " 'employee_type': 12,\n",
       " 'onboarding_steps': 13}"
      ]
     },
     "execution_count": 106,
     "metadata": {},
     "output_type": "execute_result"
    }
   ],
   "source": [
    "_concepts = ee_label_df['concept'].drop_duplicates(keep='first').tolist()\n",
    "_concepts_order_dict = dict([(_concepts[i], i) for i in range(len(_concepts))])\n",
    "_concepts_order_dict"
   ]
  },
  {
   "cell_type": "code",
   "execution_count": 107,
   "metadata": {},
   "outputs": [
    {
     "data": {
      "text/plain": [
       "5620"
      ]
     },
     "execution_count": 107,
     "metadata": {},
     "output_type": "execute_result"
    }
   ],
   "source": [
    "K = 100\n",
    "\n",
    "for ee_pred_path in ee_pred_paths:\n",
    "    ee_new_df = pd.read_csv(ee_pred_path)\n",
    "\n",
    "    for _cc in _concepts:\n",
    "        _new_ents = ee_new_df[ee_new_df['concept'] == _cc]['neighbor'].tolist()[:K]\n",
    "        for _e in _new_ents:\n",
    "            _key = (_cc, _e)\n",
    "            if _key in ee_label_dict:\n",
    "                continue\n",
    "            ee_label_dict[_key] = None\n",
    "\n",
    "len(ee_label_dict)"
   ]
  },
  {
   "cell_type": "code",
   "execution_count": 109,
   "metadata": {
    "scrolled": true
   },
   "outputs": [
    {
     "data": {
      "text/plain": [
       "([{'concept': 'company',\n",
       "   'neighbor': 'wal mart',\n",
       "   'label-Nikita': 1,\n",
       "   'label-Sajjadur': 1.0,\n",
       "   'label-Yutong': 1,\n",
       "   'Disagree': 0,\n",
       "   'Majority': 1},\n",
       "  {'concept': 'company',\n",
       "   'neighbor': 'walmart',\n",
       "   'label-Nikita': 1,\n",
       "   'label-Sajjadur': 1.0,\n",
       "   'label-Yutong': 1,\n",
       "   'Disagree': 0,\n",
       "   'Majority': 1},\n",
       "  {'concept': 'company',\n",
       "   'neighbor': 'costco',\n",
       "   'label-Nikita': 1,\n",
       "   'label-Sajjadur': 1.0,\n",
       "   'label-Yutong': 1,\n",
       "   'Disagree': 0,\n",
       "   'Majority': 1}],\n",
       " [{'concept': 'onboarding_steps',\n",
       "   'neighbor': 'changeup',\n",
       "   'label-Nikita': nan,\n",
       "   'label-Sajjadur': nan,\n",
       "   'label-Yutong': nan,\n",
       "   'Disagree': nan,\n",
       "   'Majority': nan},\n",
       "  {'concept': 'onboarding_steps',\n",
       "   'neighbor': 'personal issues',\n",
       "   'label-Nikita': nan,\n",
       "   'label-Sajjadur': nan,\n",
       "   'label-Yutong': nan,\n",
       "   'Disagree': nan,\n",
       "   'Majority': nan},\n",
       "  {'concept': 'onboarding_steps',\n",
       "   'neighbor': 'basic information',\n",
       "   'label-Nikita': nan,\n",
       "   'label-Sajjadur': nan,\n",
       "   'label-Yutong': nan,\n",
       "   'Disagree': nan,\n",
       "   'Majority': nan}])"
      ]
     },
     "execution_count": 109,
     "metadata": {},
     "output_type": "execute_result"
    }
   ],
   "source": [
    "_out_records = []\n",
    "_added_keys = set()\n",
    "\n",
    "# remove existing errors \n",
    "for _d in ee_label_df.to_dict('record'):\n",
    "    _cc = _d['concept']\n",
    "    _e = _d['neighbor']\n",
    "    if (_cc, _e) in _added_keys:\n",
    "        continue\n",
    "        \n",
    "    if ee_label_dict[(_cc, _e)] == 'ERR':\n",
    "        _d['label-Nikita'] = _d['label-Sajjadur'] = _d['label-Yutong'] = \\\n",
    "        _d['Disagree'] = _d['Majority'] = np.nan\n",
    "    _out_records.append(_d)   \n",
    "    _added_keys.add((_cc, _e))\n",
    "\n",
    "for (_cc, _e), _label in ee_label_dict.items():\n",
    "    if (_cc, _e) in _added_keys:\n",
    "        continue\n",
    "        \n",
    "    _out_records.append({\n",
    "        'concept': _cc,\n",
    "        'neighbor': _e,\n",
    "        'label-Nikita': np.nan,\n",
    "        'label-Sajjadur': np.nan,\n",
    "        'label-Yutong': np.nan,\n",
    "        'Disagree': np.nan,\n",
    "        'Majority': np.nan\n",
    "    })\n",
    "    _added_keys.add((_cc, _e))\n",
    "\n",
    "_out_records.sort(key=lambda d : (np.isnan(d['Majority']), _concepts_order_dict[d['concept']]))\n",
    "_out_records[:3], _out_records[-3:]"
   ]
  },
  {
   "cell_type": "code",
   "execution_count": 110,
   "metadata": {},
   "outputs": [],
   "source": [
    "# ee_incre_new_path: the new unlabeled file \n",
    "ee_incre_new_path = os.path.join(base_dir, f'data/indeed-benchmark/ee-increment-labels-NEW3.csv')\n",
    "pd.DataFrame(_out_records).to_csv(ee_incre_new_path, index=None)"
   ]
  },
  {
   "cell_type": "markdown",
   "metadata": {},
   "source": [
    "### Concepts overlapping"
   ]
  },
  {
   "cell_type": "code",
   "execution_count": 143,
   "metadata": {},
   "outputs": [],
   "source": [
    "EE_label_file = os.path.join(base_dir, f'data/indeed-benchmark/ee-labels-2.csv')"
   ]
  },
  {
   "cell_type": "code",
   "execution_count": 144,
   "metadata": {},
   "outputs": [],
   "source": [
    "_df = pd.read_csv(EE_label_file)\n",
    "_e_dict = dict([(_cc, _df[_df['concept'] == _cc]['neighbor'].tolist())\n",
    "                    for _cc in set(_df['concept'].tolist())])"
   ]
  },
  {
   "cell_type": "code",
   "execution_count": 145,
   "metadata": {},
   "outputs": [
    {
     "data": {
      "text/plain": [
       "(116, 47, 2, {'stock options', 'unemployment compensation'})"
      ]
     },
     "execution_count": 145,
     "metadata": {},
     "output_type": "execute_result"
    }
   ],
   "source": [
    "_ints = set(_e_dict['benefits']) & set(_e_dict['compensation'])\n",
    "len(_e_dict['benefits']), len(_e_dict['compensation']), len(_ints), _ints"
   ]
  },
  {
   "cell_type": "code",
   "execution_count": 146,
   "metadata": {},
   "outputs": [],
   "source": [
    "_overlap_ccs = [\n",
    "    ('benefits', 'compensation'),\n",
    "    ('hire_prerequisite', 'background_screening'),\n",
    "    ('hire_prerequisite', 'person'),\n",
    "    ('person', 'background_screening'),\n",
    "    ('schedule', 'pay_schedule'),\n",
    "    ('schedule', 'shifts'),\n",
    "    ('shifts', 'pay_schedule'),\n",
    "]"
   ]
  },
  {
   "cell_type": "code",
   "execution_count": 147,
   "metadata": {
    "scrolled": true
   },
   "outputs": [
    {
     "name": "stdout",
     "output_type": "stream",
     "text": [
      "benefits -- compensation\n",
      "benefits: 116 \n",
      "compensation: 47 \n",
      "Intersection: ['stock options', 'unemployment compensation'] 2\n",
      "\n",
      "hire_prerequisite -- background_screening\n",
      "hire_prerequisite: 137 \n",
      "background_screening: 104 \n",
      "Intersection: ['citizenship', 'driver license', 'education', 'employment contract', 'marriage certificate', 'marriage license', 'medical card', 'medical test', 'passport', 'physical exam', 'security card', 'social security card', 'social security number'] 13\n",
      "\n",
      "hire_prerequisite -- person\n",
      "hire_prerequisite: 137 \n",
      "person: 67 \n",
      "Intersection: [] 0\n",
      "\n",
      "person -- background_screening\n",
      "person: 67 \n",
      "background_screening: 104 \n",
      "Intersection: [] 0\n",
      "\n",
      "schedule -- pay_schedule\n",
      "schedule: 69 \n",
      "pay_schedule: 37 \n",
      "Intersection: ['bi / weekly', 'calendar year', 'daily', 'every other friday', 'friday', 'friday / saturday', 'friday morning', 'friday saturday', 'monday friday', 'monday morning', 'monday mornings', 'monday night', 'monday saturday', 'monday sunday', 'monday thursday', 'saturday / sunday', 'saturday and sunday', 'saturday morning', 'saturday night', 'saturday sunday', 'sunday', 'sunday saturday', 'sunday thursday', 'thursday morning', 'thursday night', 'weekend', 'weekly'] 27\n",
      "\n",
      "schedule -- shifts\n",
      "schedule: 69 \n",
      "shifts: 87 \n",
      "Intersection: ['10 pm 7 am', '3 pm 10 pm', '3rd shift', '5 am 2 pm', '6 am 2 pm', '7 am 3 pm', '7 am 5 pm', '8 am 2 pm', '8 am to 4 pm', 'daily', 'early morning', 'early mornings', 'friday', 'friday / saturday', 'friday morning', 'friday saturday', 'late night', 'late nights', 'monday friday', 'monday morning', 'monday mornings', 'monday night', 'monday saturday', 'monday sunday', 'monday thursday', 'morning afternoon', 'saturday', 'saturday morning', 'saturday night', 'saturday sunday', 'sunday', 'sunday saturday', 'sunday thursday', 'ten hour shifts', 'thursday morning', 'thursday night', 'weekend'] 37\n",
      "\n",
      "shifts -- pay_schedule\n",
      "shifts: 87 \n",
      "pay_schedule: 37 \n",
      "Intersection: ['daily', 'friday', 'friday / saturday', 'friday morning', 'friday saturday', 'monday friday', 'monday morning', 'monday mornings', 'monday night', 'monday saturday', 'monday sunday', 'monday thursday', 'saturday morning', 'saturday night', 'saturday sunday', 'sunday', 'sunday saturday', 'sunday thursday', 'thursday morning', 'thursday night', 'weekend'] 21\n",
      "\n"
     ]
    }
   ],
   "source": [
    "for _c1, _c2 in _overlap_ccs:\n",
    "    _ints = sorted(list(set(_e_dict[_c1]) & set(_e_dict[_c2])))\n",
    "    print(f'{_c1} -- {_c2}')\n",
    "    print(f'{_c1}: {len(_e_dict[_c1])} ')\n",
    "    print(f'{_c2}: {len(_e_dict[_c2])} ')\n",
    "    print(f'Intersection: {_ints} {len(_ints)}')\n",
    "    print()"
   ]
  },
  {
   "cell_type": "code",
   "execution_count": 158,
   "metadata": {},
   "outputs": [],
   "source": [
    "_e2cc = dict([(_e, tuple(sorted(_df[_df['neighbor'] == _e]['concept'].tolist())))\n",
    "                  for _e in set(_df['neighbor'].tolist())])\n",
    "\n",
    "_ccs2e = dict([(_ccs, [_e for _e, _l in _e2cc.items() if _l == _ccs]) for _ccs in sorted(_e2cc.values())])"
   ]
  },
  {
   "cell_type": "code",
   "execution_count": 159,
   "metadata": {
    "scrolled": true
   },
   "outputs": [
    {
     "name": "stdout",
     "output_type": "stream",
     "text": [
      "Concepts: background_screening | benefits\n",
      "Intersection: ['medical marijuana card', 'college education', 'health', 'unemployment', 'medical marijuana', 'medical diagnosis'] 6\n",
      "\n",
      "Concepts: background_screening | benefits | hire_prerequisite\n",
      "Intersection: ['education'] 1\n",
      "\n",
      "Concepts: background_screening | benefits | hire_prerequisite | payment_option\n",
      "Intersection: ['medical card'] 1\n",
      "\n",
      "Concepts: background_screening | hire_prerequisite\n",
      "Intersection: ['medical test', 'marriage certificate', 'marriage license', 'citizenship', 'social security number', 'driver license', 'social security card', 'passport', 'physical exam', 'employment contract', 'security card'] 11\n",
      "\n",
      "Concepts: benefits | compensation\n",
      "Intersection: ['stock options', 'unemployment compensation'] 2\n",
      "\n",
      "Concepts: benefits | dress_code\n",
      "Intersection: ['hair'] 1\n",
      "\n",
      "Concepts: benefits | hire_prerequisite\n",
      "Intersection: ['disability insurance', 'dental insurance', 'health insurance', 'high school education', 'property insurance', 'medical insurance', 'insurance', 'physical disability', 'health care insurance', 'car insurance', 'vehicle insurance'] 11\n",
      "\n",
      "Concepts: benefits | hire_prerequisite | onboarding_steps\n",
      "Intersection: ['cross training'] 1\n",
      "\n",
      "Concepts: benefits | job_position\n",
      "Intersection: ['dentist'] 1\n",
      "\n",
      "Concepts: benefits | person\n",
      "Intersection: ['autism'] 1\n",
      "\n",
      "Concepts: company | dress_code\n",
      "Intersection: ['nike'] 1\n",
      "\n",
      "Concepts: company | job_position\n",
      "Intersection: ['gm', 'rca'] 2\n",
      "\n",
      "Concepts: company | schedule\n",
      "Intersection: ['sun'] 1\n",
      "\n",
      "Concepts: compensation | payment_option\n",
      "Intersection: ['cash money'] 1\n",
      "\n",
      "Concepts: dress_code | hire_prerequisite\n",
      "Intersection: ['hygiene'] 1\n",
      "\n",
      "Concepts: employee_type | hire_prerequisite\n",
      "Intersection: ['contract', 'apprenticeship', 'internship'] 3\n",
      "\n",
      "Concepts: hire_prerequisite | job_position\n",
      "Intersection: ['engineer'] 1\n",
      "\n",
      "Concepts: hire_prerequisite | onboarding_steps\n",
      "Intersection: ['formal training', 'computer based training', 'classroom training', 'training classes', 'training program', 'training class'] 6\n",
      "\n",
      "Concepts: pay_schedule | schedule\n",
      "Intersection: ['saturday and sunday', 'calendar year', 'every other friday', 'saturday / sunday', 'bi / weekly', 'weekly'] 6\n",
      "\n",
      "Concepts: pay_schedule | schedule | shifts\n",
      "Intersection: ['thursday night', 'monday friday', 'monday sunday', 'friday saturday', 'friday morning', 'monday thursday', 'monday night', 'friday', 'saturday sunday', 'saturday morning', 'daily', 'monday mornings', 'monday saturday', 'sunday', 'sunday saturday', 'friday / saturday', 'weekend', 'saturday night', 'monday morning', 'sunday thursday', 'thursday morning'] 21\n",
      "\n",
      "Concepts: schedule | shifts\n",
      "Intersection: ['8 am 2 pm', 'late nights', 'ten hour shifts', 'late night', '3 pm 10 pm', 'early morning', '10 pm 7 am', 'morning afternoon', '3rd shift', '7 am 3 pm', '7 am 5 pm', '8 am to 4 pm', 'saturday', 'early mornings', '6 am 2 pm', '5 am 2 pm'] 16\n",
      "\n"
     ]
    }
   ],
   "source": [
    "for _ccs, _e_list in _ccs2e.items():\n",
    "    if len(_ccs) > 1:\n",
    "        print('Concepts:', ' | '.join(_ccs))\n",
    "        print(f'Intersection: {_e_list} {len(_e_list)}')\n",
    "        print()"
   ]
  },
  {
   "cell_type": "code",
   "execution_count": 160,
   "metadata": {},
   "outputs": [],
   "source": [
    "for _e, _cc_list in _e2cc.items():\n",
    "    if tuple(sorted(_cc_list)) == ('shifts', 'shifts'):\n",
    "        print(_e, _cc_list)"
   ]
  },
  {
   "cell_type": "code",
   "execution_count": null,
   "metadata": {
    "scrolled": true
   },
   "outputs": [],
   "source": [
    "for _e, _cc_list in _e2cc.items():\n",
    "    if len(_cc_list) >= 3:\n",
    "        print(_e, _cc_list)"
   ]
  },
  {
   "cell_type": "code",
   "execution_count": null,
   "metadata": {},
   "outputs": [],
   "source": []
  },
  {
   "cell_type": "code",
   "execution_count": null,
   "metadata": {},
   "outputs": [],
   "source": []
  },
  {
   "cell_type": "markdown",
   "metadata": {},
   "source": [
    "## Entity expansion evaluation\n",
    "Now using benchmark entities, mean reciprocal rank"
   ]
  },
  {
   "cell_type": "code",
   "execution_count": 96,
   "metadata": {},
   "outputs": [
    {
     "name": "stdout",
     "output_type": "stream",
     "text": [
      "--- Summary ---\r\n",
      "Concept                  Max K   Gold K   P@K     R@K     P@20    R@20   P@100   R@100  \r\n",
      "company                   8058    150    0.3733  0.3733  1.0000  0.1333  0.5200  0.3467 \r\n",
      "dress_code                8056    261    0.2184  0.2184  0.8000  0.0613  0.3500  0.1341 \r\n",
      "job_position              8056    145    0.1310  0.1310  0.4500  0.0621  0.1800  0.1241 \r\n",
      "pay_schedule              8059     34    0.0882  0.0882  0.1500  0.0882  0.0500  0.1471 \r\n",
      "benefits                  8057    110    0.2182  0.2182  0.6500  0.1182  0.2400  0.2182 \r\n",
      "compensation              8059     43    0.1163  0.1163  0.1000  0.0465  0.0800  0.1860 \r\n",
      "payment_option            8060     27    0.1481  0.1481  0.2000  0.1481  0.0600  0.2222 \r\n",
      "background_screening      8060    102    0.2157  0.2157  0.3500  0.0686  0.2200  0.2157 \r\n",
      "person                    8054     58    0.1034  0.1034  0.0500  0.0172  0.0700  0.1207 \r\n",
      "hire_prerequisite         8058    133    0.1278  0.1278  0.3500  0.0526  0.1500  0.1128 \r\n",
      "shifts                    8059     88    0.2955  0.2955  0.7000  0.1591  0.2600  0.2955 \r\n",
      "schedule                  8056     62    0.0806  0.0806  0.2000  0.0645  0.0700  0.1129 \r\n",
      "employee_type             8060     27    0.1481  0.1481  0.2000  0.1481  0.1100  0.4074 \r\n",
      "onboarding_steps          8058     28    0.0714  0.0714  0.0500  0.0357  0.0600  0.2143 \r\n",
      "\r\n"
     ]
    }
   ],
   "source": [
    "!python eval_entities.py \\\n",
    "-b $base_dir/data/indeed-benchmark \\\n",
    "-pred $base_dir/data/$data_ac/intermediate/ee_concept_knn_roberta_k=None.csv \\\n",
    "-o $base_dir/data/$data_ac/intermediate/ee_concept_knn_roberta_k=None_eval.csv \\\n",
    "-rank sim \\\n",
    "-rev"
   ]
  },
  {
   "cell_type": "code",
   "execution_count": 98,
   "metadata": {},
   "outputs": [
    {
     "name": "stdout",
     "output_type": "stream",
     "text": [
      "--- Summary ---\r\n",
      "Concept                  Max K   Gold K   P@K     R@K     P@20    R@20   P@100   R@100  \r\n",
      "company                   1217    150    0.3800  0.3800  1.0000  0.1333  0.5100  0.3400 \r\n",
      "dress_code                241     261    0.7593  0.7011  1.0000  0.0766  0.8300  0.3180 \r\n",
      "job_position              633     145    0.2138  0.2138  0.4500  0.0621  0.2600  0.1793 \r\n",
      "pay_schedule               13      34    0.1538  0.0588  0.1538  0.0588  0.1538  0.0588 \r\n",
      "benefits                  159     110    0.2636  0.2636  0.8000  0.1455  0.2700  0.2455 \r\n",
      "compensation               40      43    0.1250  0.1163  0.1500  0.0698  0.1250  0.1163 \r\n",
      "payment_option             80      27    0.3333  0.3333  0.3500  0.2593  0.1250  0.3704 \r\n",
      "background_screening      1698    102    0.2157  0.2157  0.4500  0.0882  0.2200  0.2157 \r\n",
      "person                    101      58    0.1724  0.1724  0.2000  0.0690  0.1400  0.2414 \r\n",
      "hire_prerequisite         208     133    0.2105  0.2105  0.5000  0.0752  0.1900  0.1429 \r\n",
      "shifts                    499      88    0.1364  0.1364  0.4000  0.0909  0.1200  0.1364 \r\n",
      "schedule                   75      62    0.2742  0.2742  0.3000  0.0968  0.2533  0.3065 \r\n",
      "employee_type              72      27    0.1481  0.1481  0.1500  0.1111  0.0556  0.1481 \r\n",
      "onboarding_steps          3027     28    0.0714  0.0714  0.1000  0.0714  0.0400  0.1429 \r\n",
      "\r\n"
     ]
    }
   ],
   "source": [
    "!python eval_entities.py \\\n",
    "-b $base_dir/data/indeed-benchmark \\\n",
    "-pred $base_dir/data/$data_ac/intermediate/ee_concept_contr_knn_roberta_k=None.csv \\\n",
    "-o $base_dir/data/$data_ac/intermediate/ee_concept_contr_knn_roberta_k=None_eval.csv \\\n",
    "-rank sim+margin \\\n",
    "-rev"
   ]
  },
  {
   "cell_type": "code",
   "execution_count": null,
   "metadata": {},
   "outputs": [],
   "source": [
    "!python eval_entities.py \\\n",
    "-b $base_dir/data/indeed-benchmark \\\n",
    "-pred $base_dir/data/$data_ac/intermediate/ee_concept_acontr_knn_k=None.csv \\\n",
    "-o $base_dir/data/$data_ac/intermediate/ee_concept_acontr_knn_k=None_eval.csv \\\n",
    "-rank sim+margin \\\n",
    "-rev"
   ]
  },
  {
   "cell_type": "code",
   "execution_count": 99,
   "metadata": {},
   "outputs": [
    {
     "name": "stdout",
     "output_type": "stream",
     "text": [
      "--- Summary ---\r\n",
      "Concept                  Max K   Gold K   P@K     R@K     P@20    R@20   P@100   R@100  \r\n",
      "company                   7926    150    0.1200  0.1200  0.2000  0.0267  0.1700  0.1133 \r\n",
      "dress_code                7924    261    0.4789  0.4789  0.7000  0.0536  0.7200  0.2759 \r\n",
      "job_position              7924    145    0.5448  0.5448  0.8000  0.1103  0.6600  0.4552 \r\n",
      "pay_schedule              7927     34    0.5000  0.5000  0.7500  0.4412  0.2000  0.5882 \r\n",
      "benefits                  7925    110    0.5273  0.5273  0.9000  0.1636  0.5800  0.5273 \r\n",
      "compensation              7927     43    0.3953  0.3953  0.4500  0.2093  0.3000  0.6977 \r\n",
      "payment_option            7928     27    0.4815  0.4815  0.4000  0.2963  0.2200  0.8148 \r\n",
      "background_screening      7928    102    0.5196  0.5196  0.8000  0.1569  0.5200  0.5098 \r\n",
      "person                    7922     58    0.3621  0.3621  0.7000  0.2414  0.2400  0.4138 \r\n",
      "hire_prerequisite         7926    133    0.4135  0.4135  0.6500  0.0977  0.5100  0.3835 \r\n",
      "shifts                    7927     88    0.6818  0.6818  1.0000  0.2273  0.6000  0.6818 \r\n",
      "schedule                  7924     62    0.3871  0.3871  0.9000  0.2903  0.2600  0.4194 \r\n",
      "employee_type             7928     27    0.2963  0.2963  0.3000  0.2222  0.1300  0.4815 \r\n",
      "onboarding_steps          7926     28    0.1429  0.1429  0.2000  0.1429  0.1300  0.4643 \r\n",
      "\r\n"
     ]
    }
   ],
   "source": [
    "# Use script\n",
    "# Using 'aux' doesn't matter for non contrastive methods\n",
    "\n",
    "!python eval_entities.py \\\n",
    "-b $base_dir/data/indeed-benchmark \\\n",
    "-pred $base_dir/data/$data_ac/intermediate/ee_LM_roberta_k=None.csv \\\n",
    "-o $base_dir/data/$data_ac/intermediate/ee_LM_roberta_k=None_eval.csv\n"
   ]
  },
  {
   "cell_type": "code",
   "execution_count": 100,
   "metadata": {},
   "outputs": [
    {
     "name": "stdout",
     "output_type": "stream",
     "text": [
      "--- Summary ---\r\n",
      "Concept                  Max K   Gold K   P@K     R@K     P@20    R@20   P@100   R@100  \r\n",
      "company                   3712    150    0.1333  0.1333  0.3500  0.0467  0.1700  0.1133 \r\n",
      "dress_code                419     261    0.5977  0.5977  0.7500  0.0575  0.8100  0.3103 \r\n",
      "job_position              376     145    0.5931  0.5931  0.8500  0.1172  0.6700  0.4621 \r\n",
      "pay_schedule              167      34    0.3235  0.3235  0.5000  0.2941  0.1200  0.3529 \r\n",
      "benefits                  148     110    0.4636  0.4636  0.9000  0.1636  0.5100  0.4636 \r\n",
      "compensation              159      43    0.4419  0.4419  0.5000  0.2326  0.2900  0.6744 \r\n",
      "payment_option            162      27    0.4815  0.4815  0.4500  0.3333  0.1900  0.7037 \r\n",
      "background_screening      226     102    0.5588  0.5588  0.7500  0.1471  0.5600  0.5490 \r\n",
      "person                    435      58    0.3793  0.3793  0.8000  0.2759  0.2800  0.4828 \r\n",
      "hire_prerequisite         879     133    0.3534  0.3534  0.6000  0.0902  0.4200  0.3158 \r\n",
      "shifts                    129      88    0.6364  0.6364  1.0000  0.2273  0.5600  0.6364 \r\n",
      "schedule                  194      62    0.3226  0.3226  0.8000  0.2581  0.2100  0.3387 \r\n",
      "employee_type             243      27    0.2963  0.2963  0.3500  0.2593  0.1500  0.5556 \r\n",
      "onboarding_steps          682      28    0.1429  0.1429  0.2000  0.1429  0.1100  0.3929 \r\n",
      "\r\n"
     ]
    }
   ],
   "source": [
    "!python eval_entities.py \\\n",
    "-b $base_dir/data/indeed-benchmark \\\n",
    "-pred $base_dir/data/$data_ac/intermediate/ee_LM_roberta_contr_k=None.csv \\\n",
    "-o $base_dir/data/$data_ac/intermediate/ee_LM_roberta_contr_k=None_eval.csv\n"
   ]
  },
  {
   "cell_type": "code",
   "execution_count": null,
   "metadata": {},
   "outputs": [],
   "source": [
    "!python eval_entities.py \\\n",
    "-b $base_dir/data/indeed-benchmark \\\n",
    "-pred $base_dir/data/$data_ac/intermediate/ee_LM_bert_acontr_k=None.csv \\\n",
    "-o $base_dir/data/$data_ac/intermediate/ee_LM_bert_acontr_k=None_eval.csv\n"
   ]
  },
  {
   "cell_type": "code",
   "execution_count": 124,
   "metadata": {},
   "outputs": [
    {
     "name": "stdout",
     "output_type": "stream",
     "text": [
      "--- Summary ---\r\n",
      "Concept                  Max K   Gold K   P@K     R@K     P@20    R@20   P@100   R@100  \r\n",
      "company                   7942    150    0.3800  0.3800  0.7000  0.0933  0.4400  0.2933 \r\n",
      "dress_code                7924    261    0.7241  0.7241  0.8000  0.0613  0.8300  0.3180 \r\n",
      "job_position              7924    145    0.5034  0.5034  0.7000  0.0966  0.6100  0.4207 \r\n",
      "pay_schedule              7927     34    0.4706  0.4706  0.5500  0.3235  0.2000  0.5882 \r\n",
      "benefits                  7926    110    0.5000  0.5000  1.0000  0.1818  0.5300  0.4818 \r\n",
      "compensation              7927     43    0.3256  0.3256  0.3500  0.1628  0.2700  0.6279 \r\n",
      "payment_option            7928     27    0.3333  0.3333  0.3500  0.2593  0.2100  0.7778 \r\n",
      "background_screening      7956    102    0.4314  0.4314  0.6500  0.1275  0.4300  0.4216 \r\n",
      "person                    7922     58    0.4310  0.4310  0.6000  0.2069  0.2700  0.4655 \r\n",
      "hire_prerequisite         7926    133    0.3910  0.3910  0.6500  0.0977  0.3700  0.2782 \r\n",
      "shifts                    7953     88    0.5455  0.5455  0.8000  0.1818  0.5300  0.6023 \r\n",
      "schedule                  7924     62    0.4355  0.4355  0.6500  0.2097  0.3000  0.4839 \r\n",
      "employee_type             7928     27    0.1481  0.1481  0.2000  0.1481  0.1100  0.4074 \r\n",
      "onboarding_steps          7988     28    0.2143  0.2143  0.1500  0.1071  0.1200  0.4286 \r\n",
      "\r\n"
     ]
    }
   ],
   "source": [
    "# Use script\n",
    "!python eval_entities.py \\\n",
    "-b $base_dir/data/indeed-benchmark \\\n",
    "-pred $base_dir/data/$data_ac/intermediate/ee_mrr_combine_roberta_k=None.csv \\\n",
    "-o $base_dir/data/$data_ac/intermediate/ee_mrr_combine_roberta_k=None_eval.csv\n"
   ]
  },
  {
   "cell_type": "code",
   "execution_count": null,
   "metadata": {},
   "outputs": [],
   "source": [
    "!python eval_entities.py \\\n",
    "-b $base_dir/data/indeed-benchmark \\\n",
    "-pred $base_dir/data/$data_ac/intermediate/ee_mrr_combine_2-emb_contr+lm_contr-k=None.csv \\\n",
    "-o $base_dir/data/$data_ac/intermediate/ee_mrr_combine_2-k=None_eval.csv\n"
   ]
  },
  {
   "cell_type": "code",
   "execution_count": 283,
   "metadata": {},
   "outputs": [
    {
     "name": "stdout",
     "output_type": "stream",
     "text": [
      "--- Summary ---\r\n",
      "Concept                  Max K   Gold K   P@K     R@K     P@20    R@20   P@100   R@100  \r\n",
      "company                   175     150    0.4733  0.4733  1.0000  0.1333  0.6900  0.4600 \r\n",
      "dress_code                 75     261    0.8667  0.2490  1.0000  0.0766  0.8667  0.2490 \r\n",
      "job_position               62     145    0.6452  0.2759  0.9000  0.1241  0.6452  0.2759 \r\n",
      "pay_schedule               15      34    0.2000  0.0882  0.2000  0.0882  0.2000  0.0882 \r\n",
      "benefits                   71     110    0.5211  0.3364  0.8500  0.1545  0.5211  0.3364 \r\n",
      "compensation               73      43    0.3488  0.3488  0.4500  0.2093  0.2740  0.4651 \r\n",
      "payment_option            110      27    0.5185  0.5185  0.6500  0.4815  0.1600  0.5926 \r\n",
      "background_screening      576     102    0.4118  0.4118  0.6500  0.1275  0.4100  0.4020 \r\n",
      "person                    168      58    0.3103  0.3103  0.4000  0.1379  0.2800  0.4828 \r\n",
      "hire_prerequisite         128     133    0.3359  0.3233  0.8500  0.1278  0.4100  0.3083 \r\n",
      "shifts                    396      88    0.1591  0.1591  0.2000  0.0455  0.1600  0.1818 \r\n",
      "schedule                  114      62    0.3387  0.3387  0.2500  0.0806  0.3200  0.5161 \r\n",
      "employee_type              55      27    0.2222  0.2222  0.2500  0.1852  0.1455  0.2963 \r\n",
      "onboarding_steps          1200     28    0.1786  0.1786  0.1000  0.0714  0.0700  0.2500 \r\n",
      "\r\n"
     ]
    }
   ],
   "source": [
    "!python eval_entities.py \\\n",
    "-b $base_dir/data/indeed-benchmark \\\n",
    "-pred $base_dir/data/$data_ac/intermediate/ee_concept_contr_knn-aux-k=None.csv \\\n",
    "-o $base_dir/data/$data_ac/intermediate/ee_concept_contr_knn-aux-k=None_eval.csv\n"
   ]
  },
  {
   "cell_type": "code",
   "execution_count": 372,
   "metadata": {},
   "outputs": [
    {
     "name": "stdout",
     "output_type": "stream",
     "text": [
      "--- Summary ---\r\n",
      "Concept                  Max K   Gold K   P@K     R@K     P@20    R@20   P@100   R@100  \r\n",
      "company                   8059    150    0.4467  0.4467  1.0000  0.1333  0.6300  0.4200 \r\n",
      "dress_code                8057    261    0.3985  0.3985  0.9500  0.0728  0.7200  0.2759 \r\n",
      "job_position              8057    145    0.2690  0.2690  0.7000  0.0966  0.3400  0.2345 \r\n",
      "pay_schedule              8060     34    0.1471  0.1471  0.2500  0.1471  0.0900  0.2647 \r\n",
      "benefits                  8058    110    0.2364  0.2364  0.7000  0.1273  0.2500  0.2273 \r\n",
      "compensation              8060     43    0.2791  0.2791  0.3500  0.1628  0.1900  0.4419 \r\n",
      "payment_option            8061     27    0.5556  0.5556  0.6500  0.4815  0.1600  0.5926 \r\n",
      "background_screening      8061    102    0.3725  0.3725  0.6500  0.1275  0.3800  0.3725 \r\n",
      "person                    8055     58    0.1724  0.1724  0.4000  0.1379  0.1200  0.2069 \r\n",
      "hire_prerequisite         8059    133    0.2180  0.2180  0.7500  0.1128  0.2600  0.1955 \r\n",
      "shifts                    8060     88    0.4091  0.4091  0.7500  0.1705  0.3900  0.4432 \r\n",
      "schedule                  8057     62    0.2581  0.2581  0.3000  0.0968  0.2600  0.4194 \r\n",
      "employee_type             8061     27    0.1852  0.1852  0.2500  0.1852  0.0800  0.2963 \r\n",
      "onboarding_steps          8059     28    0.1786  0.1786  0.1500  0.1071  0.0900  0.3214 \r\n",
      "\r\n"
     ]
    }
   ],
   "source": [
    "!python eval_entities.py \\\n",
    "-b $base_dir/data/indeed-benchmark \\\n",
    "-pred $base_dir/data/$data_ac/intermediate/ee_concept_acontr_knn-aux-k=None.csv \\\n",
    "-o $base_dir/data/$data_ac/intermediate/ee_concept_acontr_knn-aux-k=None_eval.csv\n"
   ]
  },
  {
   "cell_type": "code",
   "execution_count": 284,
   "metadata": {},
   "outputs": [
    {
     "name": "stdout",
     "output_type": "stream",
     "text": [
      "--- Summary ---\r\n",
      "Concept                  Max K   Gold K   P@K     R@K     P@20    R@20   P@100   R@100  \r\n",
      "company                   987     150    0.5067  0.5067  1.0000  0.1333  0.7300  0.4867 \r\n",
      "dress_code                331     261    0.5900  0.5900  1.0000  0.0766  0.9400  0.3602 \r\n",
      "job_position              206     145    0.6207  0.6207  1.0000  0.1379  0.8700  0.6000 \r\n",
      "pay_schedule               20      34    0.6000  0.3529  0.6000  0.3529  0.6000  0.3529 \r\n",
      "benefits                  229     110    0.7182  0.7182  1.0000  0.1818  0.7800  0.7091 \r\n",
      "compensation              175      43    0.5814  0.5814  0.7000  0.3256  0.3400  0.7907 \r\n",
      "payment_option            178      27    0.5185  0.5185  0.5500  0.4074  0.1800  0.6667 \r\n",
      "background_screening      259     102    0.5980  0.5980  0.7500  0.1471  0.6100  0.5980 \r\n",
      "person                    215      58    0.4310  0.4310  0.7000  0.2414  0.3100  0.5345 \r\n",
      "hire_prerequisite         441     133    0.4436  0.4436  0.5500  0.0827  0.5400  0.4060 \r\n",
      "shifts                    127      88    0.6705  0.6705  1.0000  0.2273  0.5900  0.6705 \r\n",
      "schedule                   81      62    0.3548  0.3548  0.8500  0.2742  0.2716  0.3548 \r\n",
      "employee_type             220      27    0.5185  0.5185  0.5500  0.4074  0.1600  0.5926 \r\n",
      "onboarding_steps          417      28    0.4286  0.4286  0.5000  0.3571  0.1900  0.6786 \r\n",
      "\r\n"
     ]
    }
   ],
   "source": [
    "!python eval_entities.py \\\n",
    "-b $base_dir/data/indeed-benchmark \\\n",
    "-pred $base_dir/data/$data_ac/intermediate/ee_LM_bert_contr-aux-k=None.csv \\\n",
    "-o $base_dir/data/$data_ac/intermediate/ee_LM_bert_contr-aux-k=None_eval.csv\n"
   ]
  },
  {
   "cell_type": "code",
   "execution_count": 374,
   "metadata": {},
   "outputs": [
    {
     "name": "stdout",
     "output_type": "stream",
     "text": [
      "--- Summary ---\r\n",
      "Concept                  Max K   Gold K   P@K     R@K     P@20    R@20   P@100   R@100  \r\n",
      "company                   8012    150    0.5267  0.5267  1.0000  0.1333  0.7400  0.4933 \r\n",
      "dress_code                8010    261    0.5939  0.5939  0.9500  0.0728  0.9100  0.3487 \r\n",
      "job_position              8010    145    0.7034  0.7034  0.9000  0.1241  0.8900  0.6138 \r\n",
      "pay_schedule              8013     34    0.6176  0.6176  0.8500  0.5000  0.2100  0.6176 \r\n",
      "benefits                  8011    110    0.7273  0.7273  1.0000  0.1818  0.7600  0.6909 \r\n",
      "compensation              8013     43    0.5814  0.5814  0.7000  0.3256  0.3400  0.7907 \r\n",
      "payment_option            8014     27    0.4815  0.4815  0.5000  0.3704  0.1800  0.6667 \r\n",
      "background_screening      8014    102    0.6078  0.6078  0.7500  0.1471  0.6200  0.6078 \r\n",
      "person                    8008     58    0.4483  0.4483  0.7000  0.2414  0.3500  0.6034 \r\n",
      "hire_prerequisite         8012    133    0.4436  0.4436  0.6000  0.0902  0.5300  0.3985 \r\n",
      "shifts                    8013     88    0.7614  0.7614  0.9500  0.2159  0.6800  0.7727 \r\n",
      "schedule                  8010     62    0.4355  0.4355  0.8500  0.2742  0.2800  0.4516 \r\n",
      "employee_type             8014     27    0.5185  0.5185  0.5500  0.4074  0.1900  0.7037 \r\n",
      "onboarding_steps          8012     28    0.4286  0.4286  0.4500  0.3214  0.2000  0.7143 \r\n",
      "\r\n"
     ]
    }
   ],
   "source": [
    "!python eval_entities.py \\\n",
    "-b $base_dir/data/indeed-benchmark \\\n",
    "-pred $base_dir/data/$data_ac/intermediate/ee_LM_bert_acontr-aux-k=None.csv \\\n",
    "-o $base_dir/data/$data_ac/intermediate/ee_LM_bert_acontr-aux-k=None_eval.csv\n"
   ]
  },
  {
   "cell_type": "code",
   "execution_count": 387,
   "metadata": {},
   "outputs": [
    {
     "name": "stdout",
     "output_type": "stream",
     "text": [
      "--- Summary ---\r\n",
      "Concept                  Max K   Gold K   P@K     R@K     P@20    R@20   P@100   R@100  \r\n",
      "company                   1111    150    0.8067  0.8067  1.0000  0.1333  0.9100  0.6067 \r\n",
      "dress_code                358     261    0.6475  0.6475  1.0000  0.0766  0.9400  0.3602 \r\n",
      "job_position              247     145    0.7517  0.7517  1.0000  0.1379  0.8400  0.5793 \r\n",
      "pay_schedule               34      34    0.4412  0.4412  0.7000  0.4118  0.4412  0.4412 \r\n",
      "benefits                  273     110    0.6545  0.6545  0.9500  0.1727  0.6800  0.6182 \r\n",
      "compensation              222      43    0.5581  0.5581  0.6500  0.3023  0.3500  0.8140 \r\n",
      "payment_option            269      27    0.5926  0.5926  0.6000  0.4444  0.2600  0.9630 \r\n",
      "background_screening      772     102    0.5784  0.5784  0.8500  0.1667  0.5900  0.5784 \r\n",
      "person                    352      58    0.4310  0.4310  0.7500  0.2586  0.3600  0.6207 \r\n",
      "hire_prerequisite         548     133    0.5714  0.5714  0.7000  0.1053  0.5700  0.4286 \r\n",
      "shifts                    510      88    0.5568  0.5568  0.6000  0.1364  0.5200  0.5909 \r\n",
      "schedule                  176      62    0.4194  0.4194  0.7000  0.2258  0.3100  0.5000 \r\n",
      "employee_type             261      27    0.5185  0.5185  0.5500  0.4074  0.2000  0.7407 \r\n",
      "onboarding_steps          1538     28    0.3571  0.3571  0.4500  0.3214  0.1700  0.6071 \r\n",
      "\r\n"
     ]
    }
   ],
   "source": [
    "!python eval_entities.py \\\n",
    "-b $base_dir/data/indeed-benchmark \\\n",
    "-pred $base_dir/data/$data_ac/intermediate/ee_mrr_combine_3-emb_contr_aux+lm_contr_aux-k=None.csv \\\n",
    "-o $base_dir/data/$data_ac/intermediate/ee_mrr_combine_3-k=None_eval.csv\n"
   ]
  },
  {
   "cell_type": "code",
   "execution_count": 395,
   "metadata": {},
   "outputs": [
    {
     "name": "stdout",
     "output_type": "stream",
     "text": [
      "--- Summary ---\r\n",
      "Concept                  Max K   Gold K   P@K     R@K     P@20    R@20   P@100   R@100  \r\n",
      "company                   8106    150    0.7667  0.7667  1.0000  0.1333  0.9000  0.6000 \r\n",
      "dress_code                8104    261    0.6667  0.6667  0.9500  0.0728  0.8800  0.3372 \r\n",
      "job_position              8104    145    0.6483  0.6483  0.8000  0.1103  0.7500  0.5172 \r\n",
      "pay_schedule              8107     34    0.5882  0.5882  0.7000  0.4118  0.2300  0.6765 \r\n",
      "benefits                  8105    110    0.5636  0.5636  0.9500  0.1727  0.5900  0.5364 \r\n",
      "compensation              8107     43    0.5116  0.5116  0.5500  0.2558  0.3600  0.8372 \r\n",
      "payment_option            8108     27    0.5556  0.5556  0.6500  0.4815  0.2400  0.8889 \r\n",
      "background_screening      8108    102    0.5784  0.5784  0.8500  0.1667  0.5900  0.5784 \r\n",
      "person                    8102     58    0.3966  0.3966  0.7000  0.2414  0.2900  0.5000 \r\n",
      "hire_prerequisite         8106    133    0.4511  0.4511  0.7000  0.1053  0.4500  0.3383 \r\n",
      "shifts                    8107     88    0.5682  0.5682  0.9000  0.2045  0.5600  0.6364 \r\n",
      "schedule                  8104     62    0.4516  0.4516  0.7000  0.2258  0.3600  0.5806 \r\n",
      "employee_type             8108     27    0.5185  0.5185  0.5000  0.3704  0.2200  0.8148 \r\n",
      "onboarding_steps          8106     28    0.3571  0.3571  0.4500  0.3214  0.1900  0.6786 \r\n",
      "\r\n"
     ]
    }
   ],
   "source": [
    "!python eval_entities.py \\\n",
    "-b $base_dir/data/indeed-benchmark \\\n",
    "-pred $base_dir/data/$data_ac/intermediate/ee_mrr_combine_4-emb_acontr_aux+lm_acontr_aux-k=None.csv \\\n",
    "-o $base_dir/data/$data_ac/intermediate/ee_mrr_combine_4-k=None_eval.csv\n"
   ]
  },
  {
   "cell_type": "code",
   "execution_count": null,
   "metadata": {},
   "outputs": [],
   "source": []
  },
  {
   "cell_type": "code",
   "execution_count": 270,
   "metadata": {},
   "outputs": [
    {
     "name": "stdout",
     "output_type": "stream",
     "text": [
      "--- Summary ---\r\n",
      "Concept                  Max K    MRR     P@20    R@20   P@100   R@100  \r\n",
      "company                    12    0.0207  1.0000  0.0800  1.0000  0.0800 \r\n",
      "dress_code                 10    0.0112  1.0000  0.0383  1.0000  0.0383 \r\n",
      "job_position               7     0.0179  1.0000  0.0483  1.0000  0.0483 \r\n",
      "pay_schedule               9     0.0397  0.5556  0.1471  0.5556  0.1471 \r\n",
      "benefits                   13    0.0289  1.0000  0.1182  1.0000  0.1182 \r\n",
      "compensation               13    0.0495  0.6154  0.1860  0.6154  0.1860 \r\n",
      "payment_option             12    0.0649  0.7500  0.3333  0.7500  0.3333 \r\n",
      "background_screening       14    0.0270  0.9286  0.1275  0.9286  0.1275 \r\n",
      "person                     9     0.0432  0.7778  0.1207  0.7778  0.1207 \r\n",
      "hire_prerequisite          12    0.0107  0.6667  0.0602  0.6667  0.0602 \r\n",
      "shifts                     13    0.0291  0.6154  0.0909  0.6154  0.0909 \r\n",
      "schedule                   11    0.0362  0.5455  0.0968  0.5455  0.0968 \r\n",
      "employee_type              16    0.0596  0.6250  0.3704  0.6250  0.3704 \r\n",
      "onboarding_steps           12    0.0474  0.5000  0.2143  0.5000  0.2143 \r\n",
      "\r\n"
     ]
    }
   ],
   "source": [
    "!python eval_entities.py \\\n",
    "-b $base_dir/data/indeed-benchmark \\\n",
    "-pred $base_dir/data/$data_ac/intermediate/kv_entities-aux-EE=mrr_combine-K=20-RE=Ct+KV=0.9.csv\n"
   ]
  },
  {
   "cell_type": "code",
   "execution_count": null,
   "metadata": {},
   "outputs": [],
   "source": []
  },
  {
   "cell_type": "code",
   "execution_count": null,
   "metadata": {},
   "outputs": [],
   "source": []
  },
  {
   "cell_type": "code",
   "execution_count": null,
   "metadata": {},
   "outputs": [],
   "source": []
  },
  {
   "cell_type": "code",
   "execution_count": null,
   "metadata": {
    "scrolled": true
   },
   "outputs": [],
   "source": [
    "[d['company'] + ' : ' + ' '.join(d['tokens']) for d in sent_dicts[::10000] if len(d['tokens']) > 5]"
   ]
  },
  {
   "cell_type": "markdown",
   "metadata": {},
   "source": [
    "## EE results visualization"
   ]
  },
  {
   "cell_type": "code",
   "execution_count": 296,
   "metadata": {},
   "outputs": [],
   "source": [
    "def create_tidy_data_gold_k(filepath_dict):\n",
    "    record_ls = []\n",
    "    \n",
    "    for method, f in filepath_dict.items():\n",
    "        res_df = pd.read_csv(f)\n",
    "        for d in res_df.to_dict('records'):\n",
    "            record_ls.append({\n",
    "                'method': method,\n",
    "                'concept': d['concept'],\n",
    "                'acc': d['R@K']\n",
    "            })\n",
    "    df = pd.DataFrame(record_ls)\n",
    "    return df\n",
    "\n",
    "def pivot_df(df_, measure_y, dimension_x, group):\n",
    "    df_pivot = pd.pivot_table(\n",
    "        df_,\n",
    "        values=measure_y,\n",
    "        index=dimension_x,\n",
    "        columns=group,\n",
    "        aggfunc=np.mean\n",
    "    )\n",
    "    return df_pivot"
   ]
  },
  {
   "cell_type": "code",
   "execution_count": 396,
   "metadata": {},
   "outputs": [],
   "source": [
    "ee_eval_filepath_dicts = {\n",
    "    'emb': f'{base_dir}/data/{data_ac}/intermediate/ee_concept_knn_k=None_eval.csv',\n",
    "    'emb-contr': f'{base_dir}/data/{data_ac}/intermediate/ee_concept_contr_knn_k=None_eval.csv',\n",
    "    'emb-contr-aux': f'{base_dir}/data/{data_ac}/intermediate/ee_concept_contr_knn-aux-k=None_eval.csv',\n",
    "    'lm': f'{base_dir}/data/{data_ac}/intermediate/ee_LM_bert_k=None_eval.csv',\n",
    "    'lm-contr': f'{base_dir}/data/{data_ac}/intermediate/ee_LM_bert_contr_k=None_eval.csv',\n",
    "    'lm-contr-aux': f'{base_dir}/data/{data_ac}/intermediate/ee_LM_bert_contr-aux-k=None_eval.csv',\n",
    "    'mrr-combine': f'{base_dir}/data/{data_ac}/intermediate/ee_mrr_combine_k=None_eval.csv',\n",
    "    'mrr-combine-aux': f'{base_dir}/data/{data_ac}/intermediate/ee_mrr_combine_3-k=None_eval.csv',\n",
    "}\n",
    "\n",
    "_eval_df = create_tidy_data_gold_k(ee_eval_filepath_dicts)"
   ]
  },
  {
   "cell_type": "code",
   "execution_count": 397,
   "metadata": {},
   "outputs": [
    {
     "data": {
      "text/html": [
       "<div>\n",
       "<style scoped>\n",
       "    .dataframe tbody tr th:only-of-type {\n",
       "        vertical-align: middle;\n",
       "    }\n",
       "\n",
       "    .dataframe tbody tr th {\n",
       "        vertical-align: top;\n",
       "    }\n",
       "\n",
       "    .dataframe thead th {\n",
       "        text-align: right;\n",
       "    }\n",
       "</style>\n",
       "<table border=\"1\" class=\"dataframe\">\n",
       "  <thead>\n",
       "    <tr style=\"text-align: right;\">\n",
       "      <th></th>\n",
       "      <th>method</th>\n",
       "      <th>concept</th>\n",
       "      <th>acc</th>\n",
       "    </tr>\n",
       "  </thead>\n",
       "  <tbody>\n",
       "    <tr>\n",
       "      <th>0</th>\n",
       "      <td>emb</td>\n",
       "      <td>company</td>\n",
       "      <td>0.413333</td>\n",
       "    </tr>\n",
       "    <tr>\n",
       "      <th>1</th>\n",
       "      <td>emb</td>\n",
       "      <td>dress_code</td>\n",
       "      <td>0.295019</td>\n",
       "    </tr>\n",
       "    <tr>\n",
       "      <th>2</th>\n",
       "      <td>emb</td>\n",
       "      <td>job_position</td>\n",
       "      <td>0.220690</td>\n",
       "    </tr>\n",
       "  </tbody>\n",
       "</table>\n",
       "</div>"
      ],
      "text/plain": [
       "  method       concept       acc\n",
       "0    emb       company  0.413333\n",
       "1    emb    dress_code  0.295019\n",
       "2    emb  job_position  0.220690"
      ]
     },
     "execution_count": 397,
     "metadata": {},
     "output_type": "execute_result"
    }
   ],
   "source": [
    "_eval_df.head(3)"
   ]
  },
  {
   "cell_type": "code",
   "execution_count": 347,
   "metadata": {},
   "outputs": [],
   "source": [
    "# easy = ['company','dress_code','benefits','job_position','employee_type']\n",
    "# hard = ['background_screening', 'compensation', 'hire_prerequisite','onboarding_steps','payment_option','person','schedule','shifts']\n",
    "\n",
    "# cc_groups = {\n",
    "#     '1-easy': ['company', 'dress_code', 'job_position', 'benefits', 'payment_option', 'employee_type'],\n",
    "#     '2-medium': ['hire_prerequisite', 'background_screening', 'shifts', 'pay_schedule', 'schedule'],\n",
    "#     '3-hard': ['person', 'onboarding_steps', 'compensation']\n",
    "# }\n",
    "\n",
    "cc_groups = {\n",
    "    '1-non-overlap': ['company', 'dress_code', 'job_position', 'payment_option', 'employee_type', 'onboarding_steps'],\n",
    "    '2-overlap': ['hire_prerequisite', 'background_screening', 'person', 'benefits', 'compensation', 'shifts', 'pay_schedule', 'schedule']\n",
    "}\n",
    "\n",
    "cc2group = dict([(cc, g) for g, cc_list in cc_groups.items() for cc in cc_list])"
   ]
  },
  {
   "cell_type": "code",
   "execution_count": 348,
   "metadata": {},
   "outputs": [
    {
     "data": {
      "text/plain": [
       "{'company': '1-non-overlap',\n",
       " 'dress_code': '1-non-overlap',\n",
       " 'job_position': '1-non-overlap',\n",
       " 'payment_option': '1-non-overlap',\n",
       " 'employee_type': '1-non-overlap',\n",
       " 'onboarding_steps': '1-non-overlap',\n",
       " 'hire_prerequisite': '2-overlap',\n",
       " 'background_screening': '2-overlap',\n",
       " 'person': '2-overlap',\n",
       " 'benefits': '2-overlap',\n",
       " 'compensation': '2-overlap',\n",
       " 'shifts': '2-overlap',\n",
       " 'pay_schedule': '2-overlap',\n",
       " 'schedule': '2-overlap'}"
      ]
     },
     "execution_count": 348,
     "metadata": {},
     "output_type": "execute_result"
    }
   ],
   "source": [
    "cc2group"
   ]
  },
  {
   "cell_type": "code",
   "execution_count": 398,
   "metadata": {},
   "outputs": [
    {
     "data": {
      "text/html": [
       "<div>\n",
       "<style scoped>\n",
       "    .dataframe tbody tr th:only-of-type {\n",
       "        vertical-align: middle;\n",
       "    }\n",
       "\n",
       "    .dataframe tbody tr th {\n",
       "        vertical-align: top;\n",
       "    }\n",
       "\n",
       "    .dataframe thead th {\n",
       "        text-align: right;\n",
       "    }\n",
       "</style>\n",
       "<table border=\"1\" class=\"dataframe\">\n",
       "  <thead>\n",
       "    <tr style=\"text-align: right;\">\n",
       "      <th></th>\n",
       "      <th>method</th>\n",
       "      <th>concept</th>\n",
       "      <th>acc</th>\n",
       "      <th>group</th>\n",
       "    </tr>\n",
       "  </thead>\n",
       "  <tbody>\n",
       "    <tr>\n",
       "      <th>0</th>\n",
       "      <td>emb</td>\n",
       "      <td>company</td>\n",
       "      <td>0.413333</td>\n",
       "      <td>0-all</td>\n",
       "    </tr>\n",
       "    <tr>\n",
       "      <th>1</th>\n",
       "      <td>emb</td>\n",
       "      <td>dress_code</td>\n",
       "      <td>0.295019</td>\n",
       "      <td>0-all</td>\n",
       "    </tr>\n",
       "    <tr>\n",
       "      <th>2</th>\n",
       "      <td>emb</td>\n",
       "      <td>job_position</td>\n",
       "      <td>0.220690</td>\n",
       "      <td>0-all</td>\n",
       "    </tr>\n",
       "  </tbody>\n",
       "</table>\n",
       "</div>"
      ],
      "text/plain": [
       "  method       concept       acc  group\n",
       "0    emb       company  0.413333  0-all\n",
       "1    emb    dress_code  0.295019  0-all\n",
       "2    emb  job_position  0.220690  0-all"
      ]
     },
     "execution_count": 398,
     "metadata": {},
     "output_type": "execute_result"
    }
   ],
   "source": [
    "_eval_df['group'] = _eval_df.apply(lambda row: cc2group[row['concept']], axis=1)\n",
    "_eval_df_2 = _eval_df.copy()\n",
    "_eval_df_2['group'] = '0-all'\n",
    "_eval_df_a = pd.concat([_eval_df_2, _eval_df])\n",
    "_eval_df_a.head(3)"
   ]
  },
  {
   "cell_type": "code",
   "execution_count": null,
   "metadata": {},
   "outputs": [],
   "source": [
    "# _df_plot = _eval_df_a[_eval_df_a.apply(lambda row: row['method'] != 'mrr-combine', axis=1)]\n",
    "_df_plot = _eval_df_a\n",
    "df_pivot_difficulty = pivot_df(_df_plot, \"acc\", \"group\", \"method\")\n",
    "df_pivot_difficulty.plot(kind=\"bar\", figsize=(8,6)).legend(loc='upper left',ncol=1,bbox_to_anchor=(1.05, 1))"
   ]
  },
  {
   "cell_type": "code",
   "execution_count": null,
   "metadata": {},
   "outputs": [],
   "source": []
  },
  {
   "cell_type": "code",
   "execution_count": null,
   "metadata": {},
   "outputs": [],
   "source": []
  },
  {
   "cell_type": "markdown",
   "metadata": {},
   "source": [
    "## Dump (expanded) entities"
   ]
  },
  {
   "cell_type": "code",
   "execution_count": 110,
   "metadata": {},
   "outputs": [
    {
     "data": {
      "text/plain": [
       "(112322, 3)"
      ]
     },
     "execution_count": 110,
     "metadata": {},
     "output_type": "execute_result"
    }
   ],
   "source": [
    "ee_pred_path = os.path.join(base_dir, f'data/{data_ac}/intermediate/ee_mrr_combine_k=None.csv')\n",
    "ee_df = pd.read_csv(ee_pred_path)\n",
    "ee_df.shape"
   ]
  },
  {
   "cell_type": "code",
   "execution_count": null,
   "metadata": {
    "scrolled": true
   },
   "outputs": [],
   "source": [
    "concepts_df = load_seed_aligned_concepts(seed_aligned_concepts_path)\n",
    "instances_dict = dict(zip(concepts_df['alignedCategoryName'].tolist(),\n",
    "                      concepts_df['seedInstances'].tolist()))\n",
    "instances_dict"
   ]
  },
  {
   "cell_type": "code",
   "execution_count": 114,
   "metadata": {},
   "outputs": [
    {
     "data": {
      "text/plain": [
       "[('company', 23),\n",
       " ('dress_code', 25),\n",
       " ('job_position', 22),\n",
       " ('pay_schedule', 21),\n",
       " ('benefits', 23),\n",
       " ('compensation', 21),\n",
       " ('payment_option', 21),\n",
       " ('background_screening', 21),\n",
       " ('person', 25),\n",
       " ('hire_prerequisite', 22),\n",
       " ('shifts', 23),\n",
       " ('schedule', 25),\n",
       " ('employee_type', 20),\n",
       " ('onboarding_steps', 25)]"
      ]
     },
     "execution_count": 114,
     "metadata": {},
     "output_type": "execute_result"
    }
   ],
   "source": [
    "K = 20\n",
    "for cc, e_list in instances_dict.items():\n",
    "    e_list = list(set(e_list + ee_df[ee_df['concept'] == cc]['neighbor'].tolist()[:K]))\n",
    "    instances_dict[cc] = e_list\n",
    "[(cc, len(e_list)) for cc, e_list in instances_dict.items()]"
   ]
  },
  {
   "cell_type": "code",
   "execution_count": 117,
   "metadata": {},
   "outputs": [],
   "source": [
    "instances_dict_path = os.path.join(base_dir, f'data/{data_ac}/intermediate/expanded_mrr_combine_k=20.json')\n",
    "with open(instances_dict_path, 'w') as f:\n",
    "    json.dump(instances_dict, f, indent=4)"
   ]
  },
  {
   "cell_type": "code",
   "execution_count": null,
   "metadata": {},
   "outputs": [],
   "source": []
  },
  {
   "cell_type": "markdown",
   "metadata": {},
   "source": [
    "# LM probes"
   ]
  },
  {
   "cell_type": "markdown",
   "metadata": {},
   "source": [
    "## Probability-based"
   ]
  },
  {
   "cell_type": "code",
   "execution_count": 37,
   "metadata": {},
   "outputs": [],
   "source": [
    "lm_probe_gpt2 = LMProbe_GPT2()"
   ]
  },
  {
   "cell_type": "code",
   "execution_count": 38,
   "metadata": {},
   "outputs": [
    {
     "data": {
      "text/plain": [
       "(1356, 3)"
      ]
     },
     "execution_count": 38,
     "metadata": {},
     "output_type": "execute_result"
    }
   ],
   "source": [
    "ee_path = os.path.join(base_dir, f'data/{data_ac}/intermediate/concept_knn_100.csv')\n",
    "ee_df = pd.read_csv(ee_path)\n",
    "ee_df.shape"
   ]
  },
  {
   "cell_type": "markdown",
   "metadata": {},
   "source": [
    "### has_dress_code"
   ]
  },
  {
   "cell_type": "code",
   "execution_count": 39,
   "metadata": {},
   "outputs": [
    {
     "name": "stdout",
     "output_type": "stream",
     "text": [
      "company dress_code\n"
     ]
    }
   ],
   "source": [
    "_r = 'has_dress_code'\n",
    "\n",
    "_r_row = seed_relations_df[seed_relations_df['alignedRelationName'] == _r].iloc[0]\n",
    "_h_type = _r_row['domain']\n",
    "_t_type = _r_row['range']\n",
    "print(_h_type, _t_type)"
   ]
  },
  {
   "cell_type": "code",
   "execution_count": 40,
   "metadata": {},
   "outputs": [
    {
     "data": {
      "text/plain": [
       "(['walmart', 'amazon', 'subway', 'microsoft', 'target'],\n",
       " ['business casual',\n",
       "  'uniform',\n",
       "  'hair color',\n",
       "  'tattoos',\n",
       "  'facial hair',\n",
       "  'shoes',\n",
       "  'piercings'])"
      ]
     },
     "execution_count": 40,
     "metadata": {},
     "output_type": "execute_result"
    }
   ],
   "source": [
    "_seed_heads = seed_concepts_df[seed_concepts_df['alignedCategoryName'] == _h_type]['seedInstances'].item()\n",
    "_seed_tails = seed_concepts_df[seed_concepts_df['alignedCategoryName'] == _t_type]['seedInstances'].item()\n",
    "_seed_heads, _seed_tails"
   ]
  },
  {
   "cell_type": "code",
   "execution_count": 42,
   "metadata": {},
   "outputs": [
    {
     "data": {
      "text/plain": [
       "(97, 94)"
      ]
     },
     "execution_count": 42,
     "metadata": {},
     "output_type": "execute_result"
    }
   ],
   "source": [
    "_cand_heads = ee_df[ee_df['concept'] == _h_type]['neighbor'].tolist()\n",
    "_cand_tails = ee_df[ee_df['concept'] == _t_type]['neighbor'].tolist()\n",
    "len(_cand_heads), len(_cand_tails)"
   ]
  },
  {
   "cell_type": "code",
   "execution_count": null,
   "metadata": {
    "scrolled": true
   },
   "outputs": [],
   "source": [
    "_template = 'walmart allows [MASK].'\n",
    "_res = lm_probe_gpt2.score_candidates(input_txt=_template, cands=_cand_tails)\n",
    "list(enumerate(_res))"
   ]
  },
  {
   "cell_type": "code",
   "execution_count": null,
   "metadata": {},
   "outputs": [],
   "source": []
  },
  {
   "cell_type": "code",
   "execution_count": null,
   "metadata": {
    "scrolled": true
   },
   "outputs": [],
   "source": [
    "# Microsoft \n",
    "_template = 'microsoft allows [MASK].'\n",
    "_res = lm_probe_gpt2.score_candidates(input_txt=_template, cands=_cand_tails)\n",
    "list(enumerate(_res))"
   ]
  },
  {
   "cell_type": "markdown",
   "metadata": {},
   "source": [
    "### has_background_screening"
   ]
  },
  {
   "cell_type": "code",
   "execution_count": 88,
   "metadata": {},
   "outputs": [
    {
     "name": "stdout",
     "output_type": "stream",
     "text": [
      "company background_screening\n",
      "['walmart', 'amazon', 'subway', 'microsoft', 'target'] ['drug test', 'criminal background check', 'employment verification']\n",
      "97 98\n"
     ]
    }
   ],
   "source": [
    "_r = 'has_background_screening'\n",
    "\n",
    "_r_row = seed_relations_df[seed_relations_df['alignedRelationName'] == _r].iloc[0]\n",
    "_h_type = _r_row['domain']\n",
    "_t_type = _r_row['range']\n",
    "print(_h_type, _t_type)\n",
    "\n",
    "_seed_heads = seed_concepts_df[seed_concepts_df['alignedCategoryName'] == _h_type]['seedInstances'].item()\n",
    "_seed_tails = seed_concepts_df[seed_concepts_df['alignedCategoryName'] == _t_type]['seedInstances'].item()\n",
    "print(_seed_heads, _seed_tails)\n",
    "\n",
    "_cand_heads = ee_df[ee_df['concept'] == _h_type]['neighbor'].tolist()\n",
    "_cand_tails = ee_df[ee_df['concept'] == _t_type]['neighbor'].tolist()\n",
    "print(len(_cand_heads), len(_cand_tails))"
   ]
  },
  {
   "cell_type": "code",
   "execution_count": null,
   "metadata": {
    "scrolled": true
   },
   "outputs": [],
   "source": [
    "# Microsoft \n",
    "_template = 'microsoft checks for [MASK].'\n",
    "_res = lm_probe_gpt2.score_candidates(input_txt=_template, cands=_cand_tails)\n",
    "list(enumerate(_res))"
   ]
  },
  {
   "cell_type": "code",
   "execution_count": null,
   "metadata": {
    "scrolled": true
   },
   "outputs": [],
   "source": [
    "_template = 'microsoft checks for drugs, [MASK] and felonies.'\n",
    "_res = lm_probe_gpt2.score_candidates(input_txt=_template, cands=_cand_tails)\n",
    "list(enumerate(_res))"
   ]
  },
  {
   "cell_type": "code",
   "execution_count": null,
   "metadata": {},
   "outputs": [],
   "source": []
  },
  {
   "cell_type": "code",
   "execution_count": null,
   "metadata": {},
   "outputs": [],
   "source": []
  },
  {
   "cell_type": "markdown",
   "metadata": {},
   "source": [
    "## PMI-based"
   ]
  },
  {
   "cell_type": "code",
   "execution_count": 73,
   "metadata": {},
   "outputs": [
    {
     "name": "stderr",
     "output_type": "stream",
     "text": [
      "Some weights of the model checkpoint at bert-base-uncased were not used when initializing BertForMaskedLM: ['cls.seq_relationship.weight', 'cls.seq_relationship.bias']\n",
      "- This IS expected if you are initializing BertForMaskedLM from the checkpoint of a model trained on another task or with another architecture (e.g. initializing a BertForSequenceClassification model from a BertForPretraining model).\n",
      "- This IS NOT expected if you are initializing BertForMaskedLM from the checkpoint of a model that you expect to be exactly identical (initializing a BertForSequenceClassification model from a BertForSequenceClassification model).\n"
     ]
    }
   ],
   "source": [
    "lm_probe_pmi = LMProbe_PMI()"
   ]
  },
  {
   "cell_type": "markdown",
   "metadata": {},
   "source": [
    "### has_dress_code"
   ]
  },
  {
   "cell_type": "code",
   "execution_count": null,
   "metadata": {
    "scrolled": true
   },
   "outputs": [],
   "source": [
    "_template = '[HEAD] allows dress code [TAIL].'\n",
    "_res = []\n",
    "for _t in _cand_tails:\n",
    "    _pmi = lm_probe_pmi.score_candidate_pair(input_txt=_template, head='walmart', tail=_t)\n",
    "    _res.append((_t, _pmi))\n",
    "_res.sort(key=lambda p: p[1], reverse=True)\n",
    "list(enumerate(_res))"
   ]
  },
  {
   "cell_type": "code",
   "execution_count": null,
   "metadata": {},
   "outputs": [],
   "source": []
  },
  {
   "cell_type": "code",
   "execution_count": null,
   "metadata": {
    "scrolled": true
   },
   "outputs": [],
   "source": [
    "# To generate prompts? (not working: high-PMI prompts not ruling out \"close\" wrong entities)\n",
    "\n",
    "_template = 'microsoft allows [HEAD] [TAIL].'\n",
    "_res = []\n",
    "\n",
    "for _t in _cand_tails:\n",
    "    _pmi = lm_probe_pmi.score_candidate_pair(input_txt=_template, head='jeans', tail=_t)\n",
    "    _res.append((_t, _pmi))\n",
    "_res.sort(key=lambda p: p[1], reverse=True)\n",
    "list(enumerate(_res))"
   ]
  },
  {
   "cell_type": "code",
   "execution_count": null,
   "metadata": {
    "scrolled": true
   },
   "outputs": [],
   "source": [
    "_template = 'microsoft allows [HEAD] [TAIL].'\n",
    "_res = []\n",
    "\n",
    "for _t in _cand_tails:\n",
    "    _pmi = lm_probe_pmi.score_candidate_pair(input_txt=_template, head='business casual', tail=_t)\n",
    "    _res.append((_t, _pmi))\n",
    "_res.sort(key=lambda p: p[1], reverse=True)\n",
    "list(enumerate(_res))"
   ]
  },
  {
   "cell_type": "code",
   "execution_count": null,
   "metadata": {
    "scrolled": true
   },
   "outputs": [],
   "source": [
    "_template = '[HEAD] allows [TAIL] clothing.'\n",
    "_res = []\n",
    "for _t in _cand_tails:\n",
    "    _pmi = lm_probe_pmi.score_candidate_pair(input_txt=_template, head='microsoft', tail=_t)\n",
    "    _res.append((_t, _pmi))\n",
    "_res.sort(key=lambda p: p[1], reverse=True)\n",
    "list(enumerate(_res))"
   ]
  },
  {
   "cell_type": "code",
   "execution_count": null,
   "metadata": {},
   "outputs": [],
   "source": []
  },
  {
   "cell_type": "code",
   "execution_count": null,
   "metadata": {},
   "outputs": [],
   "source": []
  },
  {
   "cell_type": "markdown",
   "metadata": {},
   "source": [
    "## LM correlation-based"
   ]
  },
  {
   "cell_type": "markdown",
   "metadata": {},
   "source": [
    "### BERT"
   ]
  },
  {
   "cell_type": "code",
   "execution_count": 226,
   "metadata": {},
   "outputs": [],
   "source": [
    "# corpus_path = os.path.join(base_dir, f'data/{data_ac}/intermediate/sentences_with_company.json')\n",
    "\n",
    "# with open(corpus_path, 'r') as f:\n",
    "#     sent_dicts = [json.loads(l) for l in f]"
   ]
  },
  {
   "cell_type": "code",
   "execution_count": 227,
   "metadata": {},
   "outputs": [
    {
     "name": "stderr",
     "output_type": "stream",
     "text": [
      "Some weights of the model checkpoint at bert-base-uncased were not used when initializing BertForMaskedLM: ['cls.seq_relationship.weight', 'cls.seq_relationship.bias']\n",
      "- This IS expected if you are initializing BertForMaskedLM from the checkpoint of a model trained on another task or with another architecture (e.g. initializing a BertForSequenceClassification model from a BertForPretraining model).\n",
      "- This IS NOT expected if you are initializing BertForMaskedLM from the checkpoint of a model that you expect to be exactly identical (initializing a BertForSequenceClassification model from a BertForSequenceClassification model).\n"
     ]
    }
   ],
   "source": [
    "lm_probe = LMProbe()"
   ]
  },
  {
   "cell_type": "code",
   "execution_count": 228,
   "metadata": {
    "scrolled": true
   },
   "outputs": [],
   "source": [
    "# input_file_path = os.path.join(base_dir, f'data/{data_ac}/intermediate/sent_segmentation.txt')\n",
    "# ent_freq, dedup_context = get_masked_contexts(input_file_path)\n",
    "\n",
    "corpus_path = os.path.join(base_dir, f'data/{data_ac}/intermediate/sentences_with_company.json')\n",
    "embed_num_path = os.path.join(base_dir, f'data/{data_ac}/intermediate/BERTembednum+seeds.txt')\n",
    "\n",
    "entities, dedup_context = get_masked_contexts(corpus_path, embed_num_path)"
   ]
  },
  {
   "cell_type": "code",
   "execution_count": 229,
   "metadata": {},
   "outputs": [
    {
     "data": {
      "text/plain": [
       "(8064, 8064, 7921)"
      ]
     },
     "execution_count": 229,
     "metadata": {},
     "output_type": "execute_result"
    }
   ],
   "source": [
    "len(entities), len(set(entities)), len(dedup_context)"
   ]
  },
  {
   "cell_type": "code",
   "execution_count": 230,
   "metadata": {},
   "outputs": [
    {
     "data": {
      "text/plain": [
       "[2372, 4132, 1144, 314, 55]"
      ]
     },
     "execution_count": 230,
     "metadata": {},
     "output_type": "execute_result"
    }
   ],
   "source": [
    "all_ents_tokenized = [tuple(lm_probe.tokenizer.tokenize(e)) for e in entities]\n",
    "all_ents_tokenized = list(set(all_ents_tokenized))\n",
    "[sum([len(e_t) == _l for e_t in all_ents_tokenized]) for _l in (1,2,3,4,5)]"
   ]
  },
  {
   "cell_type": "code",
   "execution_count": 247,
   "metadata": {},
   "outputs": [],
   "source": [
    "## TODO: keep rank in output\n",
    "\n",
    "def entity_expansion_corr(seed_concepts_path=seed_aligned_concepts_path,\n",
    "                          all_contexts=dedup_context, \n",
    "                          all_ents_tokenized=all_ents_tokenized, \n",
    "                          lm_probe=lm_probe,\n",
    "                          max_allowed_ngrams=3,\n",
    "                          max_contexts=50,\n",
    "                          top_k=100):\n",
    "    if lm_probe is None:\n",
    "        lm_probe = LMProbe()\n",
    "        \n",
    "    seed_concepts_df = load_seed_aligned_concepts(seed_concepts_path)\n",
    "    \n",
    "#     if contexts is None:\n",
    "#         try:\n",
    "#             contexts = dedup_context[entity]\n",
    "#         except KeyError:\n",
    "#             print(f'\"{entity}\" not an extracted entity!')\n",
    "#             return None\n",
    "\n",
    "    _out_records = []\n",
    "\n",
    "    for i, (a_concept, u_concept, gnrl, seed_instances) in tqdm(seed_concepts_df.iterrows(), total=seed_concepts_df.shape[0]):\n",
    "        _expand_set = set()\n",
    "        _expand_records = []\n",
    "        \n",
    "        for _inst in seed_instances:\n",
    "            print(f'{a_concept} :: {_inst}')\n",
    "            try:\n",
    "                contexts = all_contexts[_inst]\n",
    "            except KeyError:\n",
    "                print(f'\"{_inst}\" not an extracted entity!')\n",
    "                continue\n",
    "            if len(contexts) < 2:\n",
    "                print(f'\"{_inst}\" only have {len(contexts)} context')\n",
    "                continue\n",
    "\n",
    "            _entity_pieces = lm_probe.tokenizer.tokenize(_inst)\n",
    "            if len(_entity_pieces) > max_allowed_ngrams:\n",
    "                print(f'{_entity_pieces} too many word pieces (max {max_allowed_ngrams})')\n",
    "                continue\n",
    "\n",
    "            entity2probs = defaultdict(list)\n",
    "\n",
    "            for _context in contexts[:max_contexts]:\n",
    "                for n_grams in range(1, max_allowed_ngrams+1):\n",
    "                    _ctxt = _context.replace('[MASK]', '[MASK]' + ' [MASK]' * (n_grams-1))\n",
    "                    _ctxt = '[CLS] ' + _ctxt + ' [SEP]'\n",
    "                    _cands = [e_t for e_t in all_ents_tokenized if len(e_t) == n_grams]\n",
    "                    _cand_scores = lm_probe.score_candidates(_ctxt, _cands)\n",
    "\n",
    "                    for _d in _cand_scores:\n",
    "                        _c = ' '.join(_d['cand']).replace(' ##', '')\n",
    "                        _s = _d['score']\n",
    "                        entity2probs[_c].append(_s)\n",
    "\n",
    "        #     print('entity2probs:', len(entity2probs), len(entity2probs[entity]))\n",
    "            for _e, _ss in entity2probs.items():\n",
    "                assert len(_ss) == len(entity2probs[_inst]), \\\n",
    "                    f'entity: {_e} | {lm_probe.tokenizer.tokenize(_e)}\\n\\\n",
    "                    len(_ss) = {len(_ss)}\\n\\\n",
    "                    len(entity2probs[\"{entity}\"]) = {len(entity2probs[entity])}'\n",
    "\n",
    "            _target_ss = entity2probs[_inst]\n",
    "            _target_ss = _target_ss / np.sum(_target_ss)\n",
    "\n",
    "        #     print(_target_ss.shape, _target_ss)\n",
    "\n",
    "            mean_l = [(_e, np.mean(_ss)) for _e, _ss in entity2probs.items()]\n",
    "            mean_l.sort(key=lambda p : p[-1], reverse=True)\n",
    "            kl_l = [(_e, entropy(_target_ss, _ss)) for _e, _ss in entity2probs.items()]\n",
    "            kl_l.sort(key=lambda p : p[-1], reverse=False)\n",
    "            pearson_l = [(_e, pearsonr(_target_ss, _ss)[0]) for _e, _ss in entity2probs.items()]\n",
    "            pearson_l.sort(key=lambda p : p[-1], reverse=True)\n",
    "\n",
    "            entity2ranks = defaultdict(list)\n",
    "            entity2scores = defaultdict(dict)\n",
    "            for i, (_e, _s) in enumerate(mean_l):\n",
    "                entity2ranks[_e].append(i)\n",
    "                entity2scores[_e][\"mean\"] = _s\n",
    "            for i, (_e, _s) in enumerate(kl_l):\n",
    "                entity2ranks[_e].append(i)\n",
    "                entity2scores[_e][\"kl\"] = _s\n",
    "            for i, (_e, _s) in enumerate(pearson_l):\n",
    "                entity2ranks[_e].append(i)\n",
    "                entity2scores[_e][\"pearson\"] = _s\n",
    "            # To simile top-k set intersection, keep the highest rank of _e among each criteria\n",
    "            entity_overall_ranks = [(_e, max(_ranks)) for _e, _ranks in entity2ranks.items()]\n",
    "            entity_overall_ranks.sort(key=lambda p : p[-1])\n",
    "            entity_overall_ranks_dict = dict(entity_overall_ranks)\n",
    "#             # Now, the top-k is for the final selection, not for each criteria\n",
    "            sel_entities = [_e for _e, _ in entity_overall_ranks[:top_k]]\n",
    "\n",
    "#             ints_mean_l = [p for p in mean_l if p[0] in sel_entities]\n",
    "#             ints_kl_l = [p for p in kl_l if p[0] in sel_entities]\n",
    "#             ints_pearson_l = [p for p in pearson_l if p[0] in sel_entities]\n",
    "\n",
    "#             return {\n",
    "#                 \"entity2probs\": entity2probs,\n",
    "#                 \"mean_l\": mean_l,\n",
    "#                 \"kl_l\": kl_l,\n",
    "#                 \"pearson_l\": pearson_l,\n",
    "#                 \"sel_entities\": sel_entities,\n",
    "#                 \"ints_mean_l\": ints_mean_l,\n",
    "#                 \"ints_kl_l\": ints_kl_l,\n",
    "#                 \"ints_pearson_l\": ints_pearson_l,\n",
    "#             }\n",
    "\n",
    "            for _e in sel_entities:\n",
    "                if (_e in _expand_set) or (_e in seed_instances):\n",
    "                    continue\n",
    "                _expand_set.add(_e)\n",
    "                _d = dict(entity2scores[_e])\n",
    "                _d['max_rank'] = entity_overall_ranks_dict[_e]\n",
    "                _expand_records.append((_e, _d))\n",
    "\n",
    "#         for _inst in seed_instances:\n",
    "#             _expand_set.discard(_inst)\n",
    "\n",
    "        for _e, _d in _expand_records:\n",
    "            _out_d = dict(_d)\n",
    "            _out_d['concept'] = a_concept\n",
    "            _out_d['neighbor'] = _e\n",
    "            _out_records.append(_out_d)\n",
    "\n",
    "    return _out_records"
   ]
  },
  {
   "cell_type": "markdown",
   "metadata": {},
   "source": [
    "#### full run & save"
   ]
  },
  {
   "cell_type": "code",
   "execution_count": 248,
   "metadata": {},
   "outputs": [],
   "source": [
    "corr_expansion_out_path = os.path.join(base_dir, f'data/{data_ac}/intermediate/concept_corr_100.csv')"
   ]
  },
  {
   "cell_type": "code",
   "execution_count": null,
   "metadata": {},
   "outputs": [],
   "source": [
    "entity_expansion_corr(max_contexts=5)"
   ]
  },
  {
   "cell_type": "code",
   "execution_count": null,
   "metadata": {
    "scrolled": true
   },
   "outputs": [],
   "source": [
    "# Use scripts\n",
    "!python compute_EE_corr.py \\\n",
    "-d $base_dir/data/$data_ac/intermediate \\\n",
    "-b $base_dir/data/indeed-benchmark \\\n",
    "-o $base_dir/data/$data_ac/intermediate/concept_corr_100.csv \\\n",
    "-ng 3 \\\n",
    "-ct 50 \\\n",
    "-top_k 100"
   ]
  },
  {
   "cell_type": "markdown",
   "metadata": {},
   "source": [
    "#### observations"
   ]
  },
  {
   "cell_type": "code",
   "execution_count": 20,
   "metadata": {},
   "outputs": [
    {
     "data": {
      "application/vnd.jupyter.widget-view+json": {
       "model_id": "5220cc3e4090474b913a67258c0d98e2",
       "version_major": 2,
       "version_minor": 0
      },
      "text/plain": [
       "HBox(children=(FloatProgress(value=0.0, max=50.0), HTML(value='')))"
      ]
     },
     "metadata": {},
     "output_type": "display_data"
    },
    {
     "name": "stdout",
     "output_type": "stream",
     "text": [
      "\n"
     ]
    }
   ],
   "source": [
    "_entity = 'health insurance'\n",
    "_results = entity_expansion_multiways(_entity)"
   ]
  },
  {
   "cell_type": "code",
   "execution_count": 216,
   "metadata": {},
   "outputs": [
    {
     "data": {
      "text/plain": [
       "20"
      ]
     },
     "execution_count": 216,
     "metadata": {},
     "output_type": "execute_result"
    }
   ],
   "source": [
    "len(_results['sel_entities']), _results['sel_entities']"
   ]
  },
  {
   "cell_type": "code",
   "execution_count": null,
   "metadata": {
    "scrolled": true
   },
   "outputs": [],
   "source": [
    "entity2probs = _results['entity2probs']\n",
    "_ser1 = entity2probs['paid vacation']\n",
    "_ser2 = entity2probs['training class']\n",
    "_ser3 = entity2probs['cash office']\n",
    "\n",
    "_ser1 = (_ser1 - min(_ser1)) / (max(_ser1) - min(_ser1))\n",
    "_ser2 = (_ser2 - min(_ser2)) / (max(_ser2) - min(_ser2))\n",
    "_ser3 = (_ser3 - min(_ser3)) / (max(_ser3) - min(_ser3))\n",
    "\n",
    "list(zip(dedup_context['paid vacation'], _ser1, _ser2, _ser3))"
   ]
  },
  {
   "cell_type": "code",
   "execution_count": null,
   "metadata": {},
   "outputs": [],
   "source": []
  },
  {
   "cell_type": "code",
   "execution_count": null,
   "metadata": {},
   "outputs": [],
   "source": []
  },
  {
   "cell_type": "markdown",
   "metadata": {},
   "source": [
    "### GPT2"
   ]
  },
  {
   "cell_type": "code",
   "execution_count": 10,
   "metadata": {},
   "outputs": [],
   "source": [
    "lm_probe_gpt2 = LMProbe_GPT2()"
   ]
  },
  {
   "cell_type": "code",
   "execution_count": 13,
   "metadata": {},
   "outputs": [],
   "source": [
    "def entity_expansion_multiways_GPT2(entity, \n",
    "                                    contexts=None, \n",
    "                                    entities=entities, \n",
    "                                    lm_probe=lm_probe_gpt2, \n",
    "                                    top_k=20):\n",
    "    if lm_probe is None:\n",
    "        lm_probe = LMProbe_GPT2()\n",
    "    if contexts is None:\n",
    "        contexts = dedup_context[entity]\n",
    "    \n",
    "    # test: speed up x100\n",
    "    entities = entities[::100]\n",
    "    \n",
    "    entity2probs = defaultdict(list)\n",
    "\n",
    "    for _context in tqdm(contexts[:50]):\n",
    "        _cand_scores = lm_probe.score_candidates(_context, entities)\n",
    "\n",
    "        for _d in _cand_scores:\n",
    "            _c = _d['cand']\n",
    "            _s = _d['score']\n",
    "            entity2probs[_c].append(_s)\n",
    "    \n",
    "#     print('entity2probs:', len(entity2probs), len(entity2probs[entity]))\n",
    "    for _e, _ss in entity2probs.items():\n",
    "        assert len(_ss) == len(entity2probs[entity]), \\\n",
    "            f'entity: {_e} | {lm_probe.tokenizer.tokenize(_e)}; len(_ss): {len(_ss)}'\n",
    "    \n",
    "    _target_ss = entity2probs[entity]\n",
    "    _target_ss = _target_ss / np.sum(_target_ss)\n",
    "    \n",
    "    mean_l = [(_e, np.mean(_ss)) for _e, _ss in entity2probs.items()]\n",
    "    mean_l.sort(key=lambda p : p[-1], reverse=True)\n",
    "    kl_l = [(_e, entropy(_target_ss, _ss)) for _e, _ss in entity2probs.items()]\n",
    "    kl_l.sort(key=lambda p : p[-1], reverse=False)\n",
    "    pearson_l = [(_e, pearsonr(_target_ss, _ss)[0]) for _e, _ss in entity2probs.items()]\n",
    "    pearson_l.sort(key=lambda p : p[-1], reverse=True)\n",
    "    \n",
    "    entity2ranks = defaultdict(list)\n",
    "    for i, (_e, _s) in enumerate(mean_l):\n",
    "        entity2ranks[_e].append(i)\n",
    "    for i, (_e, _s) in enumerate(kl_l):\n",
    "        entity2ranks[_e].append(i)\n",
    "    for i, (_e, _s) in enumerate(pearson_l):\n",
    "        entity2ranks[_e].append(i)\n",
    "    # To simile top-k set intersection, keep the highest rank of _e among each criteria\n",
    "    entity_overall_ranks = [(_e, max(_ranks)) for _e, _ranks in entity2ranks.items()]\n",
    "    entity_overall_ranks.sort(key=lambda p : p[-1])\n",
    "    # Now, the top-k is for the final selection, not for each criteria\n",
    "    sel_entities = [_e for _e, _ in entity_overall_ranks[:top_k]]\n",
    "    \n",
    "#     mean_set = set([_e for _e, _s in mean_l[:top_k]])\n",
    "#     kl_set = set([_e for _e, _s in kl_l[:top_k]])\n",
    "#     pearson_set = set([_e for _e, _s in pearson_l[:top_k]])\n",
    "    \n",
    "#     sel_entities = mean_set & kl_set & pearson_set\n",
    "    ints_mean_l = [p for p in mean_l if p[0] in sel_entities]\n",
    "    ints_kl_l = [p for p in kl_l if p[0] in sel_entities]\n",
    "    ints_pearson_l = [p for p in pearson_l if p[0] in sel_entities]\n",
    "    \n",
    "    return {\n",
    "        \"entity2probs\": entity2probs,\n",
    "        \"mean_l\": mean_l,\n",
    "        \"kl_l\": kl_l,\n",
    "        \"pearson_l\": pearson_l,\n",
    "#         \"mean_set\": mean_set,\n",
    "#         \"kl_set\": kl_set,\n",
    "#         \"pearson_set\": pearson_set,\n",
    "        \"sel_entities\": sel_entities,\n",
    "        \"ints_mean_l\": ints_mean_l,\n",
    "        \"ints_kl_l\": ints_kl_l,\n",
    "        \"ints_pearson_l\": ints_pearson_l,\n",
    "    }\n",
    "    "
   ]
  },
  {
   "cell_type": "code",
   "execution_count": null,
   "metadata": {},
   "outputs": [],
   "source": [
    "_entity = 'health insurance'\n",
    "_results = entity_expansion_multiways_GPT2(_entity)"
   ]
  },
  {
   "cell_type": "code",
   "execution_count": null,
   "metadata": {},
   "outputs": [],
   "source": []
  },
  {
   "cell_type": "markdown",
   "metadata": {},
   "source": [
    "## BERT greedy-filling"
   ]
  },
  {
   "cell_type": "code",
   "execution_count": 1,
   "metadata": {},
   "outputs": [],
   "source": [
    "# In lm_probes.py"
   ]
  },
  {
   "cell_type": "code",
   "execution_count": null,
   "metadata": {},
   "outputs": [],
   "source": []
  },
  {
   "cell_type": "markdown",
   "metadata": {},
   "source": [
    "# Relation Extraction Baselines\n",
    "Currently only for single relation. TODO: include all relations"
   ]
  },
  {
   "cell_type": "markdown",
   "metadata": {},
   "source": [
    "## Null baseline - Cartesian product"
   ]
  },
  {
   "cell_type": "code",
   "execution_count": 164,
   "metadata": {},
   "outputs": [
    {
     "name": "stdout",
     "output_type": "stream",
     "text": [
      "company \t pay_schedule\n",
      "company \t dress_code\n",
      "company \t background_screening\n",
      "company \t benefits\n",
      "company \t person\n",
      "company \t compensation\n",
      "company \t hire_prerequisite\n",
      "company \t schedule\n",
      "company \t employee_type\n",
      "company \t onboarding_steps\n",
      "company \t shifts\n",
      "company \t job_position\n",
      "company \t payment_option\n",
      "job_position \t background_screening\n",
      "job_position \t hire_prerequisite\n",
      "job_position \t employee_type\n",
      "job_position \t onboarding_steps\n"
     ]
    }
   ],
   "source": [
    "# Use script \n",
    "!python relation_extraction_cartesian.py \\\n",
    "-d $base_dir/data/$data_ac/intermediate \\\n",
    "-b $base_dir/data/indeed-benchmark \\\n",
    "-o $base_dir/data/$data_ac/intermediate/rel_extraction-aux-EE=emb_contr-K=100-RE=Ct.csv \\\n",
    "-cknn $base_dir/data/$data_ac/intermediate/ee_concept_contr_knn_k=None.csv \\\n",
    "-topk 100"
   ]
  },
  {
   "cell_type": "code",
   "execution_count": 249,
   "metadata": {},
   "outputs": [
    {
     "name": "stdout",
     "output_type": "stream",
     "text": [
      "company \t pay_schedule\n",
      "company \t dress_code\n",
      "company \t background_screening\n",
      "company \t benefits\n",
      "company \t person\n",
      "company \t compensation\n",
      "company \t hire_prerequisite\n",
      "company \t schedule\n",
      "company \t employee_type\n",
      "company \t onboarding_steps\n",
      "company \t shifts\n",
      "company \t job_position\n",
      "company \t payment_option\n",
      "job_position \t background_screening\n",
      "job_position \t hire_prerequisite\n",
      "job_position \t employee_type\n",
      "job_position \t onboarding_steps\n"
     ]
    }
   ],
   "source": [
    "# Use script \n",
    "!python relation_extraction_cartesian.py \\\n",
    "-d $base_dir/data/$data_ac/intermediate \\\n",
    "-b $base_dir/data/indeed-benchmark \\\n",
    "-o $base_dir/data/$data_ac/intermediate/rel_extraction-aux-EE=mrr_combine-K=20-RE=Ct.csv \\\n",
    "-cknn $base_dir/data/$data_ac/intermediate/ee_mrr_combine_k=None.csv \\\n",
    "-topk 20"
   ]
  },
  {
   "cell_type": "code",
   "execution_count": null,
   "metadata": {},
   "outputs": [],
   "source": []
  },
  {
   "cell_type": "markdown",
   "metadata": {},
   "source": [
    "## Relation Extraction - scores weighted average"
   ]
  },
  {
   "cell_type": "code",
   "execution_count": null,
   "metadata": {},
   "outputs": [],
   "source": [
    "# Use script \n",
    "!python relation_extraction_avg_scores.py \\\n",
    "-d $base_dir/data/$data_ac/intermediate \\\n",
    "-b $base_dir/data/indeed-benchmark \\\n",
    "-o $base_dir/data/$data_ac/intermediate/rel_extraction-has_benefits-RE.csv \\\n",
    "-r has_benefits \\\n",
    "-cknn $base_dir/data/$data_ac/intermediate/concept_knn_1000.csv \\\n",
    "-topk 300 \\\n",
    "-dim 768\n"
   ]
  },
  {
   "cell_type": "markdown",
   "metadata": {},
   "source": [
    "## Relation Extraction - LM scoring (full run)"
   ]
  },
  {
   "cell_type": "code",
   "execution_count": null,
   "metadata": {},
   "outputs": [],
   "source": [
    "# Use script \n",
    "!python relation_extraction_LM.py \\\n",
    "-d $base_dir/data/$data_ac/intermediate \\\n",
    "-b $base_dir/data/indeed-benchmark \\\n",
    "-o $base_dir/data/$data_ac/intermediate/rel_extraction-has_benefits-RE=LM_bert+seeds.csv \\\n",
    "-r has_benefits \\\n",
    "-ee $base_dir/data/$data_ac/intermediate/concept_knn_100.csv \\\n",
    "-lm bert \\\n",
    "-ex seeds \\\n",
    "-topk 3000 \\\n",
    "-dim 768\n"
   ]
  },
  {
   "cell_type": "code",
   "execution_count": null,
   "metadata": {},
   "outputs": [],
   "source": [
    "!python relation_extraction_LM.py \\\n",
    "-d $base_dir/data/$data_ac/intermediate \\\n",
    "-b $base_dir/data/indeed-benchmark \\\n",
    "-o $base_dir/data/$data_ac/intermediate/rel_extraction-has_benefits-RE=LM_pmi.csv \\\n",
    "-r has_benefits \\\n",
    "-ee $base_dir/data/$data_ac/intermediate/concept_knn_100.csv \\\n",
    "-lm pmi \\\n",
    "-topk 300 \\\n",
    "-dim 768"
   ]
  },
  {
   "cell_type": "code",
   "execution_count": null,
   "metadata": {},
   "outputs": [],
   "source": []
  },
  {
   "cell_type": "markdown",
   "metadata": {},
   "source": [
    "## Relation Extraction Evaluation"
   ]
  },
  {
   "cell_type": "markdown",
   "metadata": {},
   "source": [
    "### has_dress_code"
   ]
  },
  {
   "cell_type": "code",
   "execution_count": 171,
   "metadata": {},
   "outputs": [
    {
     "name": "stdout",
     "output_type": "stream",
     "text": [
      "--- RE Results ---\r\n",
      "Benchmark relations: 107\r\n",
      "Predicted relations: 10000\r\n",
      "Intersection: 6\r\n",
      "P = 0.0006, R = 0.0561, F1 = 0.0012\r\n",
      "\r\n",
      "Intersection:\r\n",
      "('subway', 'has_dress_code', 'piercings')\r\n",
      "('walmart', 'has_dress_code', 'black jeans')\r\n",
      "('walmart', 'has_dress_code', 'blue collar')\r\n",
      "('walmart', 'has_dress_code', 'face tattoos')\r\n",
      "('walmart', 'has_dress_code', 'jeans')\r\n",
      "('walmart', 'has_dress_code', 'uniform')\r\n",
      "\r\n"
     ]
    }
   ],
   "source": [
    "!python eval_relations.py \\\n",
    "-b $base_dir/data/indeed-benchmark \\\n",
    "-pred $base_dir/data/$data_ac/intermediate/rel_extraction-has_dress_code-EE=LM_bert-RE=Ct.csv \\\n",
    "-r has_dress_code"
   ]
  },
  {
   "cell_type": "code",
   "execution_count": 170,
   "metadata": {},
   "outputs": [
    {
     "name": "stdout",
     "output_type": "stream",
     "text": [
      "--- RE Results ---\r\n",
      "Benchmark relations: 107\r\n",
      "Predicted relations: 203\r\n",
      "Intersection: 4\r\n",
      "P = 0.0197, R = 0.0374, F1 = 0.0258\r\n",
      "\r\n",
      "Intersection:\r\n",
      "('subway', 'has_dress_code', 'piercings')\r\n",
      "('walmart', 'has_dress_code', 'black jeans')\r\n",
      "('walmart', 'has_dress_code', 'jeans')\r\n",
      "('walmart', 'has_dress_code', 'uniform')\r\n",
      "\r\n"
     ]
    }
   ],
   "source": [
    "!python eval_relations.py \\\n",
    "-b $base_dir/data/indeed-benchmark \\\n",
    "-pred $base_dir/data/$data_ac/intermediate/rel_extraction-has_dress_code-EE=LM_bert-RE=Ct+KV=0.9.csv \\\n",
    "-r has_dress_code"
   ]
  },
  {
   "cell_type": "markdown",
   "metadata": {},
   "source": [
    "### has_benefits"
   ]
  },
  {
   "cell_type": "code",
   "execution_count": 93,
   "metadata": {},
   "outputs": [
    {
     "name": "stdout",
     "output_type": "stream",
     "text": [
      "--- RE Results ---\r\n",
      "Benchmark relations: 56\r\n",
      "Predicted relations: 10404\r\n",
      "Intersection: 9\r\n",
      "P = 0.0009, R = 0.1607, F1 = 0.0017\r\n",
      "\r\n",
      "Intersection:\r\n",
      "('burger king', 'has_benefits', 'health')\r\n",
      "('burger king', 'has_benefits', 'sick leave')\r\n",
      "('dollar general', 'has_benefits', 'health insurance')\r\n",
      "('g4s', 'has_benefits', 'sick leave')\r\n",
      "('starbucks', 'has_benefits', 'health')\r\n",
      "('target', 'has_benefits', 'health insurance')\r\n",
      "('walmart', 'has_benefits', '401k')\r\n",
      "('walmart', 'has_benefits', 'life insurance')\r\n",
      "('walmart', 'has_benefits', 'paid vacations')\r\n",
      "\r\n"
     ]
    }
   ],
   "source": [
    "!python eval_relations.py \\\n",
    "-b $base_dir/data/indeed-benchmark \\\n",
    "-pred $base_dir/data/$data_ac/intermediate/rel_extraction-has_benefits-RE=Ct.csv \\\n",
    "-r has_benefits"
   ]
  },
  {
   "cell_type": "code",
   "execution_count": 169,
   "metadata": {
    "scrolled": true
   },
   "outputs": [
    {
     "name": "stdout",
     "output_type": "stream",
     "text": [
      "--- RE Results ---\r\n",
      "Benchmark relations: 56\r\n",
      "Predicted relations: 334\r\n",
      "Intersection: 6\r\n",
      "P = 0.0180, R = 0.1071, F1 = 0.0308\r\n",
      "\r\n",
      "Intersection:\r\n",
      "('starbucks', 'has_benefits', 'health')\r\n",
      "('target', 'has_benefits', 'health insurance')\r\n",
      "('walmart', 'has_benefits', '401k')\r\n",
      "('walmart', 'has_benefits', 'health benefits')\r\n",
      "('walmart', 'has_benefits', 'life insurance')\r\n",
      "('walmart', 'has_benefits', 'paid vacations')\r\n",
      "\r\n"
     ]
    }
   ],
   "source": [
    "!python eval_relations.py \\\n",
    "-b $base_dir/data/indeed-benchmark \\\n",
    "-pred $base_dir/data/$data_ac/intermediate/rel_extraction-has_benefits-EE=LM_bert-RE=Ct+KV=0.9.csv \\\n",
    "-r has_benefits"
   ]
  },
  {
   "cell_type": "markdown",
   "metadata": {},
   "source": [
    "### has_background_screening"
   ]
  },
  {
   "cell_type": "code",
   "execution_count": 131,
   "metadata": {
    "scrolled": true
   },
   "outputs": [
    {
     "name": "stdout",
     "output_type": "stream",
     "text": [
      "--- RE Results ---\r\n",
      "Benchmark relations: 207\r\n",
      "Predicted relations: 10302\r\n",
      "Intersection: 42\r\n",
      "P = 0.0041, R = 0.2029, F1 = 0.0080\r\n",
      "\r\n",
      "Intersection:\r\n",
      "('burger king', 'has_background_screening', 'credit history')\r\n",
      "('burger king', 'has_background_screening', 'drug test')\r\n",
      "('burger king', 'has_background_screening', 'random drug tests')\r\n",
      "('cracker barrel', 'has_background_screening', 'credit history')\r\n",
      "('cracker barrel', 'has_background_screening', 'criminal background')\r\n",
      "('cracker barrel', 'has_background_screening', 'criminal background check')\r\n",
      "('dollar general', 'has_background_screening', 'driving record')\r\n",
      "('dollar general', 'has_background_screening', 'social security number')\r\n",
      "('family dollar', 'has_background_screening', 'credit history')\r\n",
      "('family dollar', 'has_background_screening', 'criminal record')\r\n",
      "('fedex', 'has_background_screening', 'random drug test')\r\n",
      "('geico', 'has_background_screening', 'background check')\r\n",
      "('geico', 'has_background_screening', 'drug test')\r\n",
      "('marshalls', 'has_background_screening', 'drug tests')\r\n",
      "('marshalls', 'has_background_screening', 'random drug test')\r\n",
      "('marshalls', 'has_background_screening', 'test')\r\n",
      "('old navy', 'has_background_screening', 'criminal background check')\r\n",
      "('sitel', 'has_background_screening', 'random drug test')\r\n",
      "('subway', 'has_background_screening', 'drug tests')\r\n",
      "('subway', 'has_background_screening', 'test')\r\n",
      "('target', 'has_background_screening', 'background check')\r\n",
      "('target', 'has_background_screening', 'criminal record')\r\n",
      "('target', 'has_background_screening', 'drug test')\r\n",
      "('target', 'has_background_screening', 'drug tests')\r\n",
      "('target', 'has_background_screening', 'drugs')\r\n",
      "('target', 'has_background_screening', 'previous employment')\r\n",
      "('target', 'has_background_screening', 'random drug tests')\r\n",
      "('verizon', 'has_background_screening', 'criminal background')\r\n",
      "('walgreens', 'has_background_screening', 'drug test')\r\n",
      "('walmart', 'has_background_screening', 'background check')\r\n",
      "('walmart', 'has_background_screening', 'credit check')\r\n",
      "('walmart', 'has_background_screening', 'criminal background')\r\n",
      "('walmart', 'has_background_screening', 'criminal background check')\r\n",
      "('walmart', 'has_background_screening', 'criminal history')\r\n",
      "('walmart', 'has_background_screening', 'criminal record')\r\n",
      "('walmart', 'has_background_screening', 'driving record')\r\n",
      "('walmart', 'has_background_screening', 'drug test')\r\n",
      "('walmart', 'has_background_screening', 'drugs')\r\n",
      "('walmart', 'has_background_screening', 'random drug tests')\r\n",
      "('walmart', 'has_background_screening', 'social media')\r\n",
      "('wells fargo', 'has_background_screening', 'credit check')\r\n",
      "('wells fargo', 'has_background_screening', 'dui')\r\n",
      "\r\n"
     ]
    }
   ],
   "source": [
    "!python eval_relations.py \\\n",
    "-b $base_dir/data/indeed-benchmark \\\n",
    "-pred $base_dir/data/$data_ac/intermediate/rel_extraction-has_background_screening-RE=Ct.csv \\\n",
    "-r has_background_screening"
   ]
  },
  {
   "cell_type": "code",
   "execution_count": 168,
   "metadata": {
    "scrolled": true
   },
   "outputs": [
    {
     "name": "stdout",
     "output_type": "stream",
     "text": [
      "--- RE Results ---\r\n",
      "Benchmark relations: 207\r\n",
      "Predicted relations: 301\r\n",
      "Intersection: 22\r\n",
      "P = 0.0731, R = 0.1063, F1 = 0.0866\r\n",
      "\r\n",
      "Intersection:\r\n",
      "('amazon', 'has_background_screening', 'random drug testing')\r\n",
      "('geico', 'has_background_screening', 'background check')\r\n",
      "('geico', 'has_background_screening', 'drug test')\r\n",
      "('subway', 'has_background_screening', 'drug testing')\r\n",
      "('subway', 'has_background_screening', 'drug tests')\r\n",
      "('subway', 'has_background_screening', 'urine drug test')\r\n",
      "('target', 'has_background_screening', 'background check')\r\n",
      "('target', 'has_background_screening', 'criminal record')\r\n",
      "('target', 'has_background_screening', 'drug test')\r\n",
      "('target', 'has_background_screening', 'drug tests')\r\n",
      "('target', 'has_background_screening', 'random drug testing')\r\n",
      "('target', 'has_background_screening', 'urine test')\r\n",
      "('walmart', 'has_background_screening', 'background check')\r\n",
      "('walmart', 'has_background_screening', 'blood test')\r\n",
      "('walmart', 'has_background_screening', 'credit check')\r\n",
      "('walmart', 'has_background_screening', 'criminal background check')\r\n",
      "('walmart', 'has_background_screening', 'criminal history')\r\n",
      "('walmart', 'has_background_screening', 'criminal record')\r\n",
      "('walmart', 'has_background_screening', 'criminal records')\r\n",
      "('walmart', 'has_background_screening', 'drug screening')\r\n",
      "('walmart', 'has_background_screening', 'drug test')\r\n",
      "('walmart', 'has_background_screening', 'drug testing')\r\n",
      "\r\n"
     ]
    }
   ],
   "source": [
    "!python eval_relations.py \\\n",
    "-b $base_dir/data/indeed-benchmark \\\n",
    "-pred $base_dir/data/$data_ac/intermediate/rel_extraction-has_background_screening-EE=LM_bert-RE=Ct+KV=0.9.csv \\\n",
    "-r has_background_screening"
   ]
  },
  {
   "cell_type": "code",
   "execution_count": null,
   "metadata": {},
   "outputs": [],
   "source": []
  },
  {
   "cell_type": "markdown",
   "metadata": {},
   "source": [
    "# Knowledge Verification baseline\n",
    "(finding co-occurrences of head / tail from corpus)"
   ]
  },
  {
   "cell_type": "markdown",
   "metadata": {},
   "source": [
    "## Knowledge Verification"
   ]
  },
  {
   "cell_type": "code",
   "execution_count": 165,
   "metadata": {},
   "outputs": [
    {
     "name": "stdout",
     "output_type": "stream",
     "text": [
      "Loading files...\n",
      "Finding evidence for rels: 100%|████████████████| 68/68 [00:08<00:00,  8.16it/s]\n"
     ]
    }
   ],
   "source": [
    "# Use script \n",
    "!python knowledge_verification_entail.py \\\n",
    "-d $base_dir/data/$data_ac/intermediate \\\n",
    "-in $base_dir/data/$data_ac/intermediate/rel_extraction-all-EE=mrr_combine-RE=Ct-MINI.csv \\\n",
    "-o_kv $base_dir/data/$data_ac/intermediate/kv_evidences-all-EE=mrr_combine-RE=Ct-MINI.json \\\n",
    "-o_re $base_dir/data/$data_ac/intermediate/rel_extraction-all-EE=mrr_combine-RE=Ct+KV=0.9-MINI.csv \\\n",
    "-r $yutong_base_dir/models/roberta-large \\\n",
    "-rs $yutong_base_dir/repos/Roberta_SES/checkpoints/epoch=2-valid_loss=-0.2620-valid_acc_end=0.9223.ckpt \\\n",
    "-p_kv 0.7 \\\n",
    "-p_re 0.9 \\\n",
    "--fast_skip 3"
   ]
  },
  {
   "cell_type": "code",
   "execution_count": null,
   "metadata": {
    "scrolled": true
   },
   "outputs": [],
   "source": [
    "# Use script \n",
    "!python knowledge_verification_entail.py \\\n",
    "-d $base_dir/data/$data_ac/intermediate \\\n",
    "-in $base_dir/data/$data_ac/intermediate/rel_extraction-aux-EE=mrr_combine-K=100-RE=Ct.csv \\\n",
    "-o_kv $base_dir/data/$data_ac/intermediate/kv_evidences-aux-EE=mrr_combine-K=100-RE=Ct.json \\\n",
    "-o_re $base_dir/data/$data_ac/intermediate/rel_extraction-aux-EE=mrr_combine-K=100-RE=Ct+KV=0.9.csv \\\n",
    "-r $yutong_base_dir/models/roberta-large \\\n",
    "-rs $yutong_base_dir/repos/Roberta_SES/checkpoints/epoch=2-valid_loss=-0.2620-valid_acc_end=0.9223.ckpt \\\n",
    "-p_kv 0.7 \\\n",
    "-p_re 0.9 \\\n",
    "--fast_skip 3"
   ]
  },
  {
   "cell_type": "code",
   "execution_count": null,
   "metadata": {
    "scrolled": true
   },
   "outputs": [],
   "source": [
    "!grep \"\\\"pharmacy\\\"\" $base_dir/data/$data_ac/intermediate/kv_evidences-aux-EE=mrr_combine-RE=Ct.json"
   ]
  },
  {
   "cell_type": "code",
   "execution_count": null,
   "metadata": {},
   "outputs": [],
   "source": []
  },
  {
   "cell_type": "markdown",
   "metadata": {},
   "source": [
    "## KV analysis: multi-supporting?"
   ]
  },
  {
   "cell_type": "code",
   "execution_count": 6,
   "metadata": {},
   "outputs": [],
   "source": [
    "roberta_ses_dir = os.path.join(yutong_base_dir, \"repos\", \"Roberta_SES\")\n",
    "\n",
    "# 0 = contra, 1 = neutral, 2 = entail\n",
    "entailment_model = Roberta_SES_Entailment(roberta_path='/home/ubuntu/users/yutong/models/roberta-large',\n",
    "        ckpt_path=os.path.join(roberta_ses_dir, 'checkpoints/epoch=2-valid_loss=-0.2620-valid_acc_end=0.9223.ckpt'),\n",
    "        max_length=512,\n",
    "        device_name='cpu')\n"
   ]
  },
  {
   "cell_type": "code",
   "execution_count": 7,
   "metadata": {},
   "outputs": [
    {
     "data": {
      "text/plain": [
       "(tensor(2), tensor([0.0019, 0.0084, 0.9897]))"
      ]
     },
     "execution_count": 7,
     "metadata": {},
     "output_type": "execute_result"
    }
   ],
   "source": [
    "entailment_model.predict(\n",
    "    'walmart : we have to wear uniform',\n",
    "    'walmart requires uniform'\n",
    ")"
   ]
  },
  {
   "cell_type": "code",
   "execution_count": 8,
   "metadata": {},
   "outputs": [
    {
     "data": {
      "text/plain": [
       "(tensor(2), tensor([0.0036, 0.0650, 0.9314]))"
      ]
     },
     "execution_count": 8,
     "metadata": {},
     "output_type": "execute_result"
    }
   ],
   "source": [
    "entailment_model.predict(\n",
    "    'walmart : we have to wear uniform',\n",
    "    'walmart offers uniform'\n",
    ")"
   ]
  },
  {
   "cell_type": "code",
   "execution_count": 9,
   "metadata": {},
   "outputs": [
    {
     "data": {
      "text/plain": [
       "(tensor(2), tensor([0.0146, 0.2898, 0.6956]))"
      ]
     },
     "execution_count": 9,
     "metadata": {},
     "output_type": "execute_result"
    }
   ],
   "source": [
    "entailment_model.predict(\n",
    "    'walmart : the uniform is comfortable so we like it',\n",
    "    'walmart requires uniform'\n",
    ")"
   ]
  },
  {
   "cell_type": "code",
   "execution_count": 10,
   "metadata": {},
   "outputs": [
    {
     "data": {
      "text/plain": [
       "(2779,\n",
       " dict_keys(['has_job_position', 'has_benefits', 'has_pay_schedule', 'has_dress_code', 'has_background_screening', 'hires_person']))"
      ]
     },
     "execution_count": 10,
     "metadata": {},
     "output_type": "execute_result"
    }
   ],
   "source": [
    "kv_path = os.path.join(base_dir, f'data/{data_ac}/intermediate/kv_evidences-has_dress_code-RE=Ct.json')\n",
    "templates_path = os.path.join(base_dir, f'src/concept_learning/templates_manual.json')\n",
    "\n",
    "with open(kv_path, 'r') as f:\n",
    "    kv_dicts = [json.loads(l) for l in f]\n",
    "with open(templates_path, 'r') as f:\n",
    "    all_templates = json.load(f)\n",
    "    \n",
    "len(kv_dicts), all_templates.keys()"
   ]
  },
  {
   "cell_type": "code",
   "execution_count": 11,
   "metadata": {},
   "outputs": [
    {
     "data": {
      "text/plain": [
       "{'relation': ['walmart', 'has_dress_code', 'business casual'],\n",
       " 'pos_evidences': [['walmart : business casual with a walmart vest',\n",
       "   'walmart requires business casual',\n",
       "   0.9809538125991821],\n",
       "  ['walmart : i was told “ business casual ” ... any colored shirt ( no logo or pictures ) , jeans or pants and close toed shoes .',\n",
       "   'walmart allows business casual',\n",
       "   0.8808652758598328]],\n",
       " 'neg_evidences': []}"
      ]
     },
     "execution_count": 11,
     "metadata": {},
     "output_type": "execute_result"
    }
   ],
   "source": [
    "kv_dicts[0]"
   ]
  },
  {
   "cell_type": "code",
   "execution_count": 14,
   "metadata": {},
   "outputs": [
    {
     "data": {
      "application/vnd.jupyter.widget-view+json": {
       "model_id": "18abeb02ceef40dc8f23eb4d7d2de77a",
       "version_major": 2,
       "version_minor": 0
      },
      "text/plain": [
       "HBox(children=(FloatProgress(value=0.0, max=6.0), HTML(value='')))"
      ]
     },
     "metadata": {},
     "output_type": "display_data"
    },
    {
     "name": "stdout",
     "output_type": "stream",
     "text": [
      "\n"
     ]
    }
   ],
   "source": [
    "_multi_supporting_evs = []\n",
    "\n",
    "for d in tqdm(kv_dicts[::500]):\n",
    "    head, rel, tail = d['relation']\n",
    "    pos_evs = d['pos_evidences']\n",
    "    neg_evs = d['neg_evidences']\n",
    "    good_evs = [ev for ev in pos_evs + neg_evs if ev[-1] > 0.9]\n",
    "    if len(good_evs) == 0:\n",
    "        continue\n",
    "    \n",
    "    for ev_tuple in good_evs:\n",
    "        ev_sent, ev_hyp, score = ev_tuple\n",
    "        _supports = [(rel, ev_hyp, score)] # what are the relations supported \n",
    "        for _r, (_p_templates, _n_templates) in all_templates.items():\n",
    "            if _r == rel:\n",
    "                continue\n",
    "\n",
    "            _templates = _p_templates + _n_templates\n",
    "            for _tmpl in _templates:\n",
    "                _hyp = _tmpl.format(head, tail)\n",
    "                _score = entailment_model.predict(ev_sent, _hyp)[1][2].item()\n",
    "                if _score > 0.9:\n",
    "                    _supports.append((_r, _hyp, _score))\n",
    "                    break\n",
    "    \n",
    "        if len(_supports) > 1:\n",
    "            _multi_supporting_evs.append((ev_sent, _supports))\n"
   ]
  },
  {
   "cell_type": "code",
   "execution_count": 15,
   "metadata": {},
   "outputs": [
    {
     "data": {
      "text/plain": [
       "[]"
      ]
     },
     "execution_count": 15,
     "metadata": {},
     "output_type": "execute_result"
    }
   ],
   "source": [
    "_multi_supporting_evs"
   ]
  },
  {
   "cell_type": "code",
   "execution_count": null,
   "metadata": {},
   "outputs": [],
   "source": []
  },
  {
   "cell_type": "markdown",
   "metadata": {},
   "source": [
    "## KV feedback to EE"
   ]
  },
  {
   "cell_type": "markdown",
   "metadata": {},
   "source": [
    "### Single-relation verify"
   ]
  },
  {
   "cell_type": "code",
   "execution_count": 264,
   "metadata": {},
   "outputs": [],
   "source": [
    "# has_dress_code: company / dress_code \n",
    "kv_rels_path = os.path.join(base_dir, f'data/{data_ac}/intermediate/rel_extraction-aux-EE=mrr_combine-K=20-RE=Ct+KV=0.9.csv')\n",
    "kv_ee_output_path = os.path.join(base_dir, f'data/{data_ac}/intermediate/kv_entities-aux-EE=mrr_combine-K=20-RE=Ct+KV=0.9.csv')\n"
   ]
  },
  {
   "cell_type": "code",
   "execution_count": 265,
   "metadata": {},
   "outputs": [
    {
     "data": {
      "text/plain": [
       "(1085, 3)"
      ]
     },
     "execution_count": 265,
     "metadata": {},
     "output_type": "execute_result"
    }
   ],
   "source": [
    "kv_rels = pd.read_csv(kv_rels_path)\n",
    "kv_rels.shape"
   ]
  },
  {
   "cell_type": "code",
   "execution_count": 266,
   "metadata": {},
   "outputs": [],
   "source": [
    "seed_relations = load_seed_aligned_relations(seed_aux_relations_path)\n",
    "seed_relation_dicts = seed_relations.to_dict('record')\n",
    "\n",
    "rel_h_types_dict = dict([(_d['alignedRelationName'], _d['domain']) for _d in seed_relation_dicts])\n",
    "rel_t_types_dict = dict([(_d['alignedRelationName'], _d['range']) for _d in seed_relation_dicts])"
   ]
  },
  {
   "cell_type": "code",
   "execution_count": 267,
   "metadata": {},
   "outputs": [],
   "source": [
    "cc_ents_dict = defaultdict(set)\n",
    "\n",
    "for _d in kv_rels.to_dict('record'):\n",
    "    _rel = _d['relation']\n",
    "    _h_type = rel_h_types_dict[_rel]\n",
    "    _t_type = rel_t_types_dict[_rel]\n",
    "    _h = _d['head']\n",
    "    _t = _d['tail']\n",
    "    cc_ents_dict[_h_type].add(_h)\n",
    "    cc_ents_dict[_t_type].add(_t)\n",
    "    "
   ]
  },
  {
   "cell_type": "code",
   "execution_count": 268,
   "metadata": {},
   "outputs": [],
   "source": [
    "_records = [{'concept': _cc, 'neighbor': _e} for _cc, _e_set in cc_ents_dict.items() for _e in _e_set]\n",
    "pd.DataFrame(_records).to_csv(kv_ee_output_path, index=False)"
   ]
  },
  {
   "cell_type": "code",
   "execution_count": null,
   "metadata": {},
   "outputs": [],
   "source": []
  },
  {
   "cell_type": "code",
   "execution_count": 254,
   "metadata": {},
   "outputs": [],
   "source": [
    "# postprocess to get kv-ee results for lower K \n",
    "kv_rels_path = os.path.join(base_dir, f'data/{data_ac}/intermediate/rel_extraction-aux-EE=mrr_combine-K=100-RE=Ct+KV=0.9.csv')\n",
    "rels_path = os.path.join(base_dir, f'data/{data_ac}/intermediate/rel_extraction-aux-EE=mrr_combine-K=20-RE=Ct.csv')\n",
    "out_kv_rels_path = os.path.join(base_dir, f'data/{data_ac}/intermediate/rel_extraction-aux-EE=mrr_combine-K=20-RE=Ct+KV=0.9.csv')"
   ]
  },
  {
   "cell_type": "code",
   "execution_count": 255,
   "metadata": {},
   "outputs": [
    {
     "data": {
      "text/plain": [
       "6800"
      ]
     },
     "execution_count": 255,
     "metadata": {},
     "output_type": "execute_result"
    }
   ],
   "source": [
    "_cand_rels = [(d['head'], d['relation'], d['tail']) for d in pd.read_csv(rels_path).to_dict('record')]\n",
    "_cand_rels = set(_cand_rels)\n",
    "len(_cand_rels)"
   ]
  },
  {
   "cell_type": "code",
   "execution_count": 256,
   "metadata": {},
   "outputs": [
    {
     "name": "stdout",
     "output_type": "stream",
     "text": [
      "12100\n",
      "1085\n"
     ]
    }
   ],
   "source": [
    "_kv_rels = pd.read_csv(kv_rels_path).to_dict('record')\n",
    "print(len(_kv_rels))\n",
    "_kv_rels = [d for d in _kv_rels if (d['head'], d['relation'], d['tail']) in _cand_rels]\n",
    "print(len(_kv_rels))"
   ]
  },
  {
   "cell_type": "code",
   "execution_count": 257,
   "metadata": {},
   "outputs": [],
   "source": [
    "pd.DataFrame(_kv_rels).to_csv(out_kv_rels_path, index=None)"
   ]
  },
  {
   "cell_type": "code",
   "execution_count": null,
   "metadata": {},
   "outputs": [],
   "source": []
  },
  {
   "cell_type": "code",
   "execution_count": null,
   "metadata": {},
   "outputs": [],
   "source": []
  },
  {
   "cell_type": "code",
   "execution_count": null,
   "metadata": {},
   "outputs": [],
   "source": [
    "# eval (old)\n",
    "_all_concepts, _all_rel_tuples = load_benchmark(benchmark_full_path=benchmark_path,\n",
    "                                                seed_concepts_path=seed_aligned_concepts_path,\n",
    "                                                seed_relations_path=seed_aligned_relations_path)"
   ]
  },
  {
   "cell_type": "code",
   "execution_count": 133,
   "metadata": {},
   "outputs": [
    {
     "data": {
      "text/plain": [
       "(105, 93)"
      ]
     },
     "execution_count": 133,
     "metadata": {},
     "output_type": "execute_result"
    }
   ],
   "source": [
    "len(_all_concepts['company']), len(kv_heads)"
   ]
  },
  {
   "cell_type": "code",
   "execution_count": 134,
   "metadata": {},
   "outputs": [
    {
     "data": {
      "text/plain": [
       "48"
      ]
     },
     "execution_count": 134,
     "metadata": {},
     "output_type": "execute_result"
    }
   ],
   "source": [
    "len(kv_heads & _all_concepts['company'])"
   ]
  },
  {
   "cell_type": "code",
   "execution_count": 135,
   "metadata": {
    "scrolled": true
   },
   "outputs": [
    {
     "data": {
      "text/plain": [
       "{'amazon',\n",
       " 'at&t',\n",
       " 'best buy',\n",
       " 'burger king',\n",
       " 'chipotle',\n",
       " 'costco',\n",
       " 'cracker barrel',\n",
       " 'cvs',\n",
       " 'dd',\n",
       " 'dollar general',\n",
       " 'dollar tree',\n",
       " 'dunkin donuts',\n",
       " 'family dollar',\n",
       " 'fedex',\n",
       " 'frito lay',\n",
       " 'g4s',\n",
       " 'geico',\n",
       " 'hobby lobby',\n",
       " 'home depot',\n",
       " 'ihop',\n",
       " 'jcpenney',\n",
       " 'kfc',\n",
       " 'kroger',\n",
       " 'little caesars',\n",
       " 'marshalls',\n",
       " 'mcdonalds',\n",
       " 'menards',\n",
       " 'old navy',\n",
       " 'olive garden',\n",
       " 'panera bread',\n",
       " 'pepsico',\n",
       " 'petsmart',\n",
       " 'pizza hut',\n",
       " 'planet fitness',\n",
       " 'publix',\n",
       " 'safeway',\n",
       " 'sitel',\n",
       " 'spectrum',\n",
       " 'starbucks',\n",
       " 'subway',\n",
       " 'taco bell',\n",
       " 'target',\n",
       " 'tj maxx',\n",
       " 'training',\n",
       " 'verizon',\n",
       " 'walgreens',\n",
       " 'walmart',\n",
       " 'wells fargo'}"
      ]
     },
     "execution_count": 135,
     "metadata": {},
     "output_type": "execute_result"
    }
   ],
   "source": [
    "kv_heads & _all_concepts['company']"
   ]
  },
  {
   "cell_type": "code",
   "execution_count": 136,
   "metadata": {},
   "outputs": [
    {
     "data": {
      "text/plain": [
       "97"
      ]
     },
     "execution_count": 136,
     "metadata": {},
     "output_type": "execute_result"
    }
   ],
   "source": [
    "# compare \n",
    "concept_knn_path = os.path.join(base_dir, f'data/{data_ac}/intermediate/concept_knn_100.csv')\n",
    "concept_knn_df = pd.read_csv(concept_knn_path)\n",
    "_knn_entities = set(concept_knn_df[concept_knn_df['concept'] == 'company']['neighbor'].tolist())\n",
    "len(_knn_entities)"
   ]
  },
  {
   "cell_type": "code",
   "execution_count": 139,
   "metadata": {},
   "outputs": [
    {
     "data": {
      "text/plain": [
       "{'amazon', 'microsoft', 'subway', 'target', 'walmart'}"
      ]
     },
     "execution_count": 139,
     "metadata": {},
     "output_type": "execute_result"
    }
   ],
   "source": [
    "seed_concepts_df = load_seed_aligned_concepts(seed_aligned_concepts_path)\n",
    "_seed_entities = set(seed_concepts_df[seed_concepts_df['alignedCategoryName'] == 'company']['seedInstances'].item())\n",
    "_seed_entities"
   ]
  },
  {
   "cell_type": "code",
   "execution_count": 141,
   "metadata": {},
   "outputs": [
    {
     "data": {
      "text/plain": [
       "102"
      ]
     },
     "execution_count": 141,
     "metadata": {},
     "output_type": "execute_result"
    }
   ],
   "source": [
    "_combine_entities = set(_seed_entities) | _knn_entities\n",
    "len(_combine_entities)"
   ]
  },
  {
   "cell_type": "code",
   "execution_count": 143,
   "metadata": {},
   "outputs": [
    {
     "data": {
      "text/plain": [
       "49"
      ]
     },
     "execution_count": 143,
     "metadata": {},
     "output_type": "execute_result"
    }
   ],
   "source": [
    "len(_combine_entities & _all_concepts['company'])"
   ]
  },
  {
   "cell_type": "code",
   "execution_count": null,
   "metadata": {},
   "outputs": [],
   "source": []
  },
  {
   "cell_type": "markdown",
   "metadata": {},
   "source": [
    "### Multi-relation verify"
   ]
  },
  {
   "cell_type": "code",
   "execution_count": 269,
   "metadata": {},
   "outputs": [],
   "source": [
    "kv_rels_path = os.path.join(base_dir, f'data/{data_ac}/intermediate/rel_extraction-aux-EE=mrr_combine-RE=Ct+KV=0.9.csv')\n",
    "ee_labels_path = os.path.join(base_dir, f'data/indeed-benchmark/ee-labels.csv')"
   ]
  },
  {
   "cell_type": "code",
   "execution_count": 272,
   "metadata": {},
   "outputs": [
    {
     "data": {
      "text/plain": [
       "dict_keys(['schedule', 'benefits', 'pay_schedule', 'employee_type', 'job_position', 'company', 'hire_prerequisite', 'compensation', 'payment_option', 'dress_code', 'person', 'shifts', 'onboarding_steps', 'background_screening'])"
      ]
     },
     "execution_count": 272,
     "metadata": {},
     "output_type": "execute_result"
    }
   ],
   "source": [
    "ee_labels_dict = load_EE_labels(ee_labels_path)\n",
    "ee_labels_dict.keys()"
   ]
  },
  {
   "cell_type": "code",
   "execution_count": 251,
   "metadata": {},
   "outputs": [
    {
     "data": {
      "text/plain": [
       "(4209, 3)"
      ]
     },
     "execution_count": 251,
     "metadata": {},
     "output_type": "execute_result"
    }
   ],
   "source": [
    "kv_rels = pd.read_csv(kv_rels_path)\n",
    "kv_rels.shape"
   ]
  },
  {
   "cell_type": "code",
   "execution_count": 254,
   "metadata": {},
   "outputs": [
    {
     "data": {
      "text/plain": [
       "[]"
      ]
     },
     "execution_count": 254,
     "metadata": {},
     "output_type": "execute_result"
    }
   ],
   "source": [
    "_instance = 'general store'\n",
    "list(set(kv_rels[kv_rels['head'] == _instance]['relation'].tolist()))"
   ]
  },
  {
   "cell_type": "code",
   "execution_count": null,
   "metadata": {},
   "outputs": [],
   "source": [
    "kv_rels_records = kv_rels.to_dict('records')"
   ]
  },
  {
   "cell_type": "code",
   "execution_count": 257,
   "metadata": {
    "scrolled": true
   },
   "outputs": [
    {
     "data": {
      "text/plain": [
       "['walmart',\n",
       " 'google',\n",
       " 'costco',\n",
       " 'best buy',\n",
       " 'wal mart',\n",
       " 'walgreens',\n",
       " 'publix',\n",
       " 'verizon',\n",
       " 'nike',\n",
       " 'apple',\n",
       " 'dollar general',\n",
       " 'kroger',\n",
       " 'pepsico',\n",
       " 'jcpenney',\n",
       " 'pepsi',\n",
       " 'geico',\n",
       " 'amazon',\n",
       " 'cracker barrel',\n",
       " 'sears',\n",
       " 'family dollar',\n",
       " 'target corporation',\n",
       " 'sitel',\n",
       " 'frito lay',\n",
       " 'target',\n",
       " 'spectrum',\n",
       " 'g4s',\n",
       " 'starbucks',\n",
       " 'old navy',\n",
       " 'subway',\n",
       " 'home depot',\n",
       " 'facebook',\n",
       " 't mobile',\n",
       " 'panera bread',\n",
       " 'whole foods']"
      ]
     },
     "execution_count": 257,
     "metadata": {},
     "output_type": "execute_result"
    }
   ],
   "source": [
    "kv_companies = list(set([d['head'] for d in kv_rels_records if not d['relation'].startswith('position')]))\n",
    "kv_companies"
   ]
  },
  {
   "cell_type": "code",
   "execution_count": 277,
   "metadata": {},
   "outputs": [
    {
     "data": {
      "text/plain": [
       "(34, 34)"
      ]
     },
     "execution_count": 277,
     "metadata": {},
     "output_type": "execute_result"
    }
   ],
   "source": [
    "len(kv_companies), len(set(kv_companies) & set(ee_labels_dict['company']))"
   ]
  },
  {
   "cell_type": "code",
   "execution_count": 278,
   "metadata": {
    "scrolled": true
   },
   "outputs": [
    {
     "data": {
      "text/plain": [
       "['general manager',\n",
       " 'key holder',\n",
       " 'store manager',\n",
       " 'bartender',\n",
       " 'assistant store manager',\n",
       " 'beauty advisor',\n",
       " 'team leader',\n",
       " 'sales representative',\n",
       " 'courtesy clerk',\n",
       " 'chef',\n",
       " 'carrier',\n",
       " 'crew member',\n",
       " 'nurse',\n",
       " 'manager',\n",
       " 'store director',\n",
       " 'barista',\n",
       " 'package handler',\n",
       " 'pharmacy',\n",
       " 'office assistant',\n",
       " 'driver helper',\n",
       " 'pharmacist',\n",
       " 'head cashier',\n",
       " 'delivery driver',\n",
       " 'shift lead',\n",
       " 'shift leader',\n",
       " 'line cook',\n",
       " 'cashier',\n",
       " 'trainer',\n",
       " 'sales associate',\n",
       " 'assistant manager',\n",
       " 'sales rep',\n",
       " 'team member',\n",
       " 'seasonal employee',\n",
       " 'dishwasher',\n",
       " 'sales consultant',\n",
       " 'shift supervisor']"
      ]
     },
     "execution_count": 278,
     "metadata": {},
     "output_type": "execute_result"
    }
   ],
   "source": [
    "kv_positions = list(set([d['head'] for d in kv_rels_records if d['relation'].startswith('position')]))\n",
    "kv_positions"
   ]
  },
  {
   "cell_type": "code",
   "execution_count": 280,
   "metadata": {},
   "outputs": [
    {
     "data": {
      "text/plain": [
       "(36, 33, ['pharmacy', 'team member', 'seasonal employee'])"
      ]
     },
     "execution_count": 280,
     "metadata": {},
     "output_type": "execute_result"
    }
   ],
   "source": [
    "len(kv_positions), len(set(kv_positions) & set(ee_labels_dict['job_position'])), \\\n",
    "[_e for _e in kv_positions if _e not in ee_labels_dict['job_position']]"
   ]
  },
  {
   "cell_type": "code",
   "execution_count": 258,
   "metadata": {
    "scrolled": true
   },
   "outputs": [
    {
     "data": {
      "text/plain": [
       "['technical support',\n",
       " 'training',\n",
       " 'construction',\n",
       " 'legal age',\n",
       " 'personal vehicle',\n",
       " 'age requirements',\n",
       " 'additional training',\n",
       " 'heavy equipment',\n",
       " 'memory',\n",
       " 'food handlers card',\n",
       " 'job title',\n",
       " 'minimum age',\n",
       " 'driver license',\n",
       " 'diploma',\n",
       " 'youngest age',\n",
       " 'permit',\n",
       " 'working permit',\n",
       " 'insurance',\n",
       " 'personal experience',\n",
       " 'passport',\n",
       " 'working papers',\n",
       " 'previous experience',\n",
       " 'age requirement',\n",
       " 'clean driving record',\n",
       " 'hiring age',\n",
       " 'safety',\n",
       " 'workers permit',\n",
       " 'food safety',\n",
       " 'employment',\n",
       " 'transport',\n",
       " 'accounting',\n",
       " 'prior experience',\n",
       " 'high school diploma',\n",
       " \"bachelor 's degree\",\n",
       " 'medical insurance',\n",
       " 'power equipment',\n",
       " 'heavy lifting',\n",
       " 'drivers license',\n",
       " 'degree',\n",
       " 'back ground check',\n",
       " 'bachelors degree',\n",
       " 'clean record',\n",
       " 'age limit']"
      ]
     },
     "execution_count": 258,
     "metadata": {},
     "output_type": "execute_result"
    }
   ],
   "source": [
    "kv_hire_prers = list(set([d['tail'] for d in kv_rels_records if d['relation'].endswith('prerequisite')]))\n",
    "kv_hire_prers"
   ]
  },
  {
   "cell_type": "code",
   "execution_count": 266,
   "metadata": {},
   "outputs": [],
   "source": [
    "_rel_counter = Counter()\n",
    "_concept = 'hire_prerequisite'\n",
    "_target_rels = ['has_hire_prerequisite', 'position_has_hire_prerequisite']\n",
    "\n",
    "for _r in _target_rels:\n",
    "    _ents = list(set([d['tail'] for d in kv_rels_records if d['relation'] == _r]))\n",
    "    _rel_counter.update(_ents)"
   ]
  },
  {
   "cell_type": "code",
   "execution_count": 268,
   "metadata": {
    "scrolled": true
   },
   "outputs": [
    {
     "data": {
      "text/plain": [
       "[('training', 2),\n",
       " ('age requirements', 2),\n",
       " ('job title', 2),\n",
       " ('minimum age', 2),\n",
       " ('driver license', 2),\n",
       " ('diploma', 2),\n",
       " ('permit', 2),\n",
       " ('insurance', 2),\n",
       " ('previous experience', 2),\n",
       " ('clean driving record', 2),\n",
       " ('safety', 2),\n",
       " ('food safety', 2),\n",
       " ('employment', 2),\n",
       " ('transport', 2),\n",
       " ('prior experience', 2),\n",
       " ('high school diploma', 2),\n",
       " (\"bachelor 's degree\", 2),\n",
       " ('heavy lifting', 2),\n",
       " ('drivers license', 2),\n",
       " ('degree', 2),\n",
       " ('back ground check', 2),\n",
       " ('bachelors degree', 2),\n",
       " ('age limit', 2),\n",
       " ('technical support', 1),\n",
       " ('construction', 1),\n",
       " ('legal age', 1),\n",
       " ('additional training', 1),\n",
       " ('heavy equipment', 1),\n",
       " ('memory', 1),\n",
       " ('food handlers card', 1),\n",
       " ('youngest age', 1),\n",
       " ('working permit', 1),\n",
       " ('personal experience', 1),\n",
       " ('passport', 1),\n",
       " ('working papers', 1),\n",
       " ('age requirement', 1),\n",
       " ('hiring age', 1),\n",
       " ('workers permit', 1),\n",
       " ('accounting', 1),\n",
       " ('medical insurance', 1),\n",
       " ('power equipment', 1),\n",
       " ('clean record', 1),\n",
       " ('personal vehicle', 1)]"
      ]
     },
     "execution_count": 268,
     "metadata": {},
     "output_type": "execute_result"
    }
   ],
   "source": [
    "_rel_counter.most_common()"
   ]
  },
  {
   "cell_type": "code",
   "execution_count": 276,
   "metadata": {},
   "outputs": [
    {
     "name": "stdout",
     "output_type": "stream",
     "text": [
      "1 relation(s): 16 / 20\n",
      "2 relation(s): 16 / 23\n"
     ]
    }
   ],
   "source": [
    "_target_cnts = [1, 2]\n",
    "for _cnt in _target_cnts:\n",
    "    _ents = [_e for _e, _c in _rel_counter.items() if _c == _cnt]\n",
    "    _corr_ents = set(_ents) & set(ee_labels_dict[_concept])\n",
    "    print(f'{_cnt} relation(s): {len(_corr_ents)} / {len(_ents)}')"
   ]
  },
  {
   "cell_type": "code",
   "execution_count": 284,
   "metadata": {},
   "outputs": [],
   "source": [
    "_rel_counter = Counter()\n",
    "_concept = 'job_position'\n",
    "\n",
    "_target_head_rels = ['position_has_hire_prerequisite', 'position_has_background_screening', 'position_has_employee_type', 'position_has_onboarding_steps']\n",
    "_target_tail_rels = ['has_job_position']\n",
    "\n",
    "for _r in _target_head_rels:\n",
    "    _ents = list(set([d['head'] for d in kv_rels_records if d['relation'] == _r]))\n",
    "    _rel_counter.update(_ents)\n",
    "for _r in _target_tail_rels:\n",
    "    _ents = list(set([d['tail'] for d in kv_rels_records if d['relation'] == _r]))\n",
    "    _rel_counter.update(_ents)\n",
    "    "
   ]
  },
  {
   "cell_type": "code",
   "execution_count": 285,
   "metadata": {},
   "outputs": [
    {
     "name": "stdout",
     "output_type": "stream",
     "text": [
      "1 relation(s): 9 / 9\n",
      "2 relation(s): 6 / 6\n",
      "3 relation(s): 2 / 3\n",
      "4 relation(s): 11 / 11\n",
      "5 relation(s): 11 / 13\n"
     ]
    }
   ],
   "source": [
    "_target_cnts = [1, 2, 3, 4, 5]\n",
    "for _cnt in _target_cnts:\n",
    "    _ents = [_e for _e, _c in _rel_counter.items() if _c == _cnt]\n",
    "    _corr_ents = set(_ents) & set(ee_labels_dict[_concept])\n",
    "    print(f'{_cnt} relation(s): {len(_corr_ents)} / {len(_ents)}')"
   ]
  },
  {
   "cell_type": "code",
   "execution_count": 287,
   "metadata": {
    "scrolled": true
   },
   "outputs": [
    {
     "data": {
      "text/plain": [
       "[('general manager', 5),\n",
       " ('key holder', 5),\n",
       " ('store manager', 5),\n",
       " ('carrier', 5),\n",
       " ('crew member', 5),\n",
       " ('manager', 5),\n",
       " ('pharmacy', 5),\n",
       " ('delivery driver', 5),\n",
       " ('shift leader', 5),\n",
       " ('cashier', 5),\n",
       " ('sales associate', 5),\n",
       " ('assistant manager', 5),\n",
       " ('team member', 5),\n",
       " ('team leader', 4),\n",
       " ('barista', 4),\n",
       " ('package handler', 4),\n",
       " ('driver helper', 4),\n",
       " ('shift lead', 4),\n",
       " ('dishwasher', 4),\n",
       " ('shift supervisor', 4),\n",
       " ('assistant store manager', 4),\n",
       " ('beauty advisor', 4),\n",
       " ('trainer', 4),\n",
       " ('sales consultant', 4),\n",
       " ('nurse', 3),\n",
       " ('pharmacist', 3),\n",
       " ('seasonal employee', 3),\n",
       " ('bartender', 2),\n",
       " ('sales representative', 2),\n",
       " ('courtesy clerk', 2),\n",
       " ('store director', 2),\n",
       " ('line cook', 2),\n",
       " ('sales rep', 2),\n",
       " ('office assistant', 1),\n",
       " ('chef', 1),\n",
       " ('head cashier', 1),\n",
       " ('medical assistant', 1),\n",
       " ('prep cook', 1),\n",
       " ('night stocker', 1),\n",
       " ('beauty consultant', 1),\n",
       " ('store manger', 1),\n",
       " ('sales specialist', 1)]"
      ]
     },
     "execution_count": 287,
     "metadata": {},
     "output_type": "execute_result"
    }
   ],
   "source": [
    "_rel_counter.most_common()"
   ]
  },
  {
   "cell_type": "code",
   "execution_count": null,
   "metadata": {},
   "outputs": [],
   "source": []
  },
  {
   "cell_type": "code",
   "execution_count": null,
   "metadata": {
    "scrolled": true
   },
   "outputs": [],
   "source": [
    "!grep \"\\\"team member\\\", \\\"position_has_onboarding_steps\\\"\" $base_dir/data/$data_ac/intermediate/kv_evidences-aux-EE=mrr_combine-RE=Ct.json"
   ]
  },
  {
   "cell_type": "code",
   "execution_count": null,
   "metadata": {},
   "outputs": [],
   "source": []
  },
  {
   "cell_type": "markdown",
   "metadata": {},
   "source": [
    "## Auxiliary relations for inference"
   ]
  },
  {
   "cell_type": "markdown",
   "metadata": {},
   "source": [
    "### Find auxiliary relations"
   ]
  },
  {
   "cell_type": "code",
   "execution_count": 162,
   "metadata": {},
   "outputs": [
    {
     "data": {
      "application/vnd.jupyter.widget-view+json": {
       "model_id": "57d34bfa09c84b988e4350d92907e40a",
       "version_major": 2,
       "version_minor": 0
      },
      "text/plain": [
       "HBox(children=(FloatProgress(value=0.0, max=413232.0), HTML(value='')))"
      ]
     },
     "metadata": {},
     "output_type": "display_data"
    },
    {
     "name": "stdout",
     "output_type": "stream",
     "text": [
      "\n"
     ]
    },
    {
     "data": {
      "text/plain": [
       "413232"
      ]
     },
     "execution_count": 162,
     "metadata": {},
     "output_type": "execute_result"
    }
   ],
   "source": [
    "corpus_path = os.path.join(base_dir, f'data/{data_ac}/intermediate/sentences_with_company.json')\n",
    "with open(corpus_path, 'r') as f:\n",
    "    sent_dicts = [json.loads(l) for l in tqdm(f.readlines())]\n",
    "len(sent_dicts)"
   ]
  },
  {
   "cell_type": "code",
   "execution_count": 178,
   "metadata": {},
   "outputs": [
    {
     "data": {
      "text/plain": [
       "14"
      ]
     },
     "execution_count": 178,
     "metadata": {},
     "output_type": "execute_result"
    }
   ],
   "source": [
    "instances_dict_path = os.path.join(base_dir, f'data/{data_ac}/intermediate/expanded_mrr_combine_k=20_clean.json')\n",
    "with open(instances_dict_path, 'r') as f:\n",
    "    instances_dict = json.load(f)\n",
    "len(instances_dict)"
   ]
  },
  {
   "cell_type": "code",
   "execution_count": 164,
   "metadata": {},
   "outputs": [
    {
     "data": {
      "text/plain": [
       "(1,\n",
       " [\"The night maintenance uniform is a chef 's coat , with black pants , and non - slip shoes .\"])"
      ]
     },
     "execution_count": 164,
     "metadata": {},
     "output_type": "execute_result"
    }
   ],
   "source": [
    "_h = 'chef'  # proxy for company \n",
    "_t = 'uniform'\n",
    "\n",
    "_mentions = []\n",
    "for d in sent_dicts:\n",
    "    if _h in d['entities'] and _t in d['entities']:\n",
    "        _mentions.append(' '.join(d['tokens']))\n",
    "\n",
    "len(_mentions), _mentions[:3]"
   ]
  },
  {
   "cell_type": "code",
   "execution_count": 165,
   "metadata": {},
   "outputs": [
    {
     "data": {
      "application/vnd.jupyter.widget-view+json": {
       "model_id": "d3e8fc4ed05d41dcb86e54fcd6efb063",
       "version_major": 2,
       "version_minor": 0
      },
      "text/plain": [
       "HBox(children=(FloatProgress(value=0.0, max=413232.0), HTML(value='')))"
      ]
     },
     "metadata": {},
     "output_type": "display_data"
    },
    {
     "name": "stdout",
     "output_type": "stream",
     "text": [
      "\n"
     ]
    },
    {
     "data": {
      "text/plain": [
       "(54,\n",
       " ['I am sure there is always a need for   employees and quite honestly you can find a positon that fits you because the is a huge volume   of everything in the clothing , retail , cashier gift cards and have ahuge parking lot close to condominuim and several offices .',\n",
       "  \"The night maintenance uniform is a chef 's coat , with black pants , and non - slip shoes .\",\n",
       "  'BUT in my store the district manager and store manager do not mind very small nose piercings'])"
      ]
     },
     "execution_count": 165,
     "metadata": {},
     "output_type": "execute_result"
    }
   ],
   "source": [
    "_h_cc = 'job_position'\n",
    "_t_cc = 'dress_code'\n",
    "\n",
    "_mentions = []\n",
    "for d in tqdm(sent_dicts):\n",
    "    _has_h = False\n",
    "    _has_t = False\n",
    "    for _e in d['entities']:\n",
    "        if not _has_h and _e in instances_dict[_h_cc]:\n",
    "            _has_h = True\n",
    "        if not _has_t and _e in instances_dict[_t_cc]:\n",
    "            _has_t = True\n",
    "    if _has_h and _has_t:\n",
    "        _mentions.append(' '.join(d['tokens']))\n",
    "        \n",
    "#     for _h in instances_dict[_h_cc]:\n",
    "#         if _h not in d['entities']:\n",
    "#             continue\n",
    "#         for _t in instances_dict[_t_cc]:\n",
    "#             if _t in d['entities']:\n",
    "#                 _mentions.append(' '.join(d['tokens']))\n",
    "\n",
    "len(_mentions), _mentions[:3]"
   ]
  },
  {
   "cell_type": "code",
   "execution_count": 174,
   "metadata": {},
   "outputs": [
    {
     "data": {
      "application/vnd.jupyter.widget-view+json": {
       "model_id": "171acc2b9637493099707070add241a9",
       "version_major": 2,
       "version_minor": 0
      },
      "text/plain": [
       "HBox(children=(FloatProgress(value=0.0, max=413232.0), HTML(value='')))"
      ]
     },
     "metadata": {},
     "output_type": "display_data"
    },
    {
     "name": "stdout",
     "output_type": "stream",
     "text": [
      "{'health care', 'health'} | {'employment'}\n",
      "{'education'} | {'employment'}\n",
      "{'401k', 'medical'} | {'training'}\n",
      "{'health'} | {'safety'}\n",
      "{'education'} | {'employment'}\n",
      "{'insurance', 'health insurance', 'health'} | {'insurance', 'employment'}\n",
      "{'education'} | {'employment'}\n",
      "{'medical'} | {'employment'}\n",
      "{'education'} | {'employment'}\n",
      "{'education'} | {'employment'}\n",
      "{'education'} | {'employment'}\n",
      "{'insurance', 'health insurance', 'health'} | {'insurance', 'employment'}\n",
      "{'medical'} | {'employment'}\n",
      "{'disability'} | {'training'}\n",
      "{'health'} | {'safety'}\n",
      "{'401k'} | {'employment'}\n",
      "{'health'} | {'safety'}\n",
      "{'medical', 'sick leave'} | {'transport'}\n",
      "{'health'} | {'training', 'safety'}\n",
      "{'health'} | {'employment'}\n",
      "{'medical'} | {'employment'}\n",
      "{'education'} | {'safety'}\n",
      "{'education'} | {'employment'}\n",
      "{'health care', 'health'} | {'training'}\n",
      "{'health'} | {'safety'}\n",
      "{'medical', 'pension'} | {'training'}\n",
      "{'sick leave'} | {'safety'}\n",
      "{'health'} | {'training'}\n",
      "{'insurance', 'health insurance', 'health'} | {'insurance', 'employment'}\n",
      "{'unemployment'} | {'training'}\n",
      "{'education'} | {'employment'}\n",
      "{'education'} | {'employment'}\n",
      "{'disability'} | {'training'}\n",
      "{'medical'} | {'employment'}\n",
      "{'health dental', 'health'} | {'employment'}\n",
      "{'dental insurance', 'health insurance', 'health', 'insurance', 'vision insurance'} | {'insurance', 'training'}\n",
      "{'paid vacation'} | {'employment'}\n",
      "{'education'} | {'employment'}\n",
      "{'disability'} | {'employment'}\n",
      "{'education'} | {'training', 'previous experience'}\n",
      "{'health'} | {'safety'}\n",
      "{'education'} | {'training'}\n",
      "{'education'} | {'employment'}\n",
      "{'education'} | {'employment'}\n",
      "{'education'} | {'training'}\n",
      "{'education'} | {'employment'}\n",
      "{'health'} | {'safety'}\n",
      "{'healthcare'} | {'employment'}\n",
      "{'medical'} | {'employment'}\n",
      "{'health'} | {'employment'}\n",
      "{'education'} | {'safety'}\n",
      "{'medical'} | {'employment'}\n",
      "{'medical'} | {'employment'}\n",
      "{'education'} | {'employment'}\n",
      "{'insurance', 'health insurance', 'health'} | {'insurance', 'employment'}\n",
      "{'insurance', 'health insurance', 'health'} | {'insurance', 'employment'}\n",
      "{'401k'} | {'employment'}\n",
      "{'insurance', 'life insurance'} | {'insurance', 'employment'}\n",
      "{'health'} | {'safety'}\n",
      "{'health'} | {'safety'}\n",
      "{'medical'} | {'employment'}\n",
      "{'health'} | {'safety'}\n",
      "{'health'} | {'safety'}\n",
      "{'pension'} | {'training'}\n",
      "{'health'} | {'safety'}\n",
      "{'health'} | {'safety'}\n",
      "{'disability'} | {'employment'}\n",
      "{'health'} | {'safety'}\n",
      "{'401k'} | {'employment'}\n",
      "{'health care', 'health'} | {'training'}\n",
      "{'health'} | {'training'}\n",
      "{'insurance', 'health insurance', 'health'} | {'insurance', 'training'}\n",
      "{'sick leave'} | {'employment'}\n",
      "{'health'} | {'safety'}\n",
      "{'health'} | {'employment'}\n",
      "{'disability'} | {'employment'}\n",
      "{'insurance', 'health insurance', 'health'} | {'insurance', 'employment'}\n",
      "{'medical', 'dental vision'} | {'employment'}\n",
      "{'401k', 'medical'} | {'employment'}\n",
      "{'401k'} | {'employment'}\n",
      "{'paid vacation'} | {'training'}\n",
      "{'401k'} | {'employment'}\n",
      "{'insurance', 'health insurance', 'health'} | {'insurance', 'employment'}\n",
      "{'401k'} | {'training'}\n",
      "{'education'} | {'previous experience'}\n",
      "{'education'} | {'employment'}\n",
      "{'401k'} | {'employment'}\n",
      "{'medical'} | {'employment'}\n",
      "{'health'} | {'safety'}\n",
      "{'education'} | {'safety'}\n",
      "{'medical'} | {'employment'}\n",
      "{'health'} | {'employment'}\n",
      "{'health'} | {'employment'}\n",
      "{'education'} | {'training'}\n",
      "{'education'} | {\"bachelor 's degree\"}\n",
      "{'education'} | {\"bachelor 's degree\"}\n",
      "{'education'} | {\"bachelor 's degree\"}\n",
      "{'education'} | {\"bachelor 's degree\"}\n",
      "{'education'} | {\"bachelor 's degree\"}\n",
      "{'education'} | {\"bachelor 's degree\"}\n",
      "{'education'} | {\"bachelor 's degree\"}\n",
      "{'education'} | {\"bachelor 's degree\"}\n",
      "{'education'} | {'bachelors degree'}\n",
      "{'education'} | {\"bachelor 's degree\"}\n",
      "{'education'} | {\"bachelor 's degree\"}\n",
      "{'education'} | {\"bachelor 's degree\"}\n",
      "{'education'} | {\"bachelor 's degree\"}\n",
      "{'education'} | {\"bachelor 's degree\"}\n",
      "{'education'} | {\"bachelor 's degree\"}\n",
      "{'education'} | {\"bachelor 's degree\"}\n",
      "{'education'} | {\"bachelor 's degree\"}\n",
      "{'education'} | {\"bachelor 's degree\"}\n",
      "{'education'} | {\"bachelor 's degree\"}\n",
      "{'education'} | {\"bachelor 's degree\"}\n",
      "{'education'} | {\"bachelor 's degree\"}\n",
      "{'education'} | {\"bachelor 's degree\"}\n",
      "{'education'} | {\"bachelor 's degree\"}\n",
      "{'education'} | {\"bachelor 's degree\"}\n",
      "{'education'} | {\"bachelor 's degree\"}\n",
      "{'education'} | {\"bachelor 's degree\"}\n",
      "{'education'} | {\"bachelor 's degree\"}\n",
      "{'education'} | {\"bachelor 's degree\"}\n",
      "{'education'} | {\"bachelor 's degree\"}\n",
      "{'education'} | {\"bachelor 's degree\"}\n",
      "{'education'} | {\"bachelor 's degree\"}\n",
      "{'education'} | {\"bachelor 's degree\"}\n",
      "{'education'} | {\"bachelor 's degree\"}\n",
      "{'education'} | {\"bachelor 's degree\"}\n",
      "{'education'} | {\"bachelor 's degree\"}\n",
      "{'health'} | {'training'}\n",
      "{'health'} | {'training'}\n",
      "\n"
     ]
    },
    {
     "data": {
      "text/plain": [
       "(131,\n",
       " ['Health care and dental care is big key on looking for employment .',\n",
       "  'Yes the check background on former employment and also education .',\n",
       "  \"Benefits include vacation pay based on time worked and length of service holiday bonus ( gift card for cracker barrel ) discount on everything in store % based on par level ( company training program ) vision dental medical life ( day 1 sign up offered for first 30 days after that open enrollment once a year ) $ 0.25 match per dollar 401k stock options ( no discount but fee 's are waived can setup too deduct from paycheck for full or partial shares ) honestly benefits are the best you will ever find in the food service industry\"])"
      ]
     },
     "execution_count": 174,
     "metadata": {},
     "output_type": "execute_result"
    }
   ],
   "source": [
    "_h_cc = 'benefits'\n",
    "_t_cc = 'hire_prerequisite'\n",
    "\n",
    "_mentions = []\n",
    "for d in tqdm(sent_dicts):\n",
    "#     _has_h = False\n",
    "#     _has_t = False\n",
    "#     for _e in d['entities']:\n",
    "#         if not _has_h and _e in instances_dict[_h_cc]:\n",
    "#             _has_h = True\n",
    "#         if not _has_t and _e in instances_dict[_t_cc]:\n",
    "#             _has_t = True\n",
    "#     if _has_h and _has_t:\n",
    "    _e_set = set(d['entities'])\n",
    "    _h_ents = set(instances_dict[_h_cc]) & _e_set\n",
    "    _t_ents = set(instances_dict[_t_cc]) & _e_set\n",
    "    if len(_h_ents) == 0:\n",
    "        continue\n",
    "    if len(_t_ents) == 0:\n",
    "        continue\n",
    "    if _h_ents.issubset(_t_ents) or _t_ents.issubset(_h_ents): \n",
    "        continue\n",
    "    print(_h_ents, '|', _t_ents)\n",
    "    _mentions.append(' '.join(d['tokens']))\n",
    "\n",
    "len(_mentions), _mentions[:3]"
   ]
  },
  {
   "cell_type": "code",
   "execution_count": 179,
   "metadata": {},
   "outputs": [
    {
     "data": {
      "application/vnd.jupyter.widget-view+json": {
       "model_id": "6ad8c1ef3de84ccfba3faef761b2cf35",
       "version_major": 2,
       "version_minor": 0
      },
      "text/plain": [
       "HBox(children=(FloatProgress(value=0.0, max=413232.0), HTML(value='')))"
      ]
     },
     "metadata": {},
     "output_type": "display_data"
    },
    {
     "name": "stdout",
     "output_type": "stream",
     "text": [
      "\n"
     ]
    }
   ],
   "source": [
    "_mentions = [[[] for _ in instances_dict] for __ in instances_dict]\n",
    "_concepts = list(instances_dict.keys())\n",
    "\n",
    "for d in tqdm(sent_dicts):\n",
    "    _e_set = set(d['entities'])\n",
    "    \n",
    "    for i in range(len(_concepts)):\n",
    "        _h_cc = _concepts[i]\n",
    "        _h_ents = set(instances_dict[_h_cc]) & _e_set\n",
    "        if len(_h_ents) == 0:\n",
    "            continue\n",
    "        for j in range(i+1, len(_concepts)):\n",
    "            _t_cc = _concepts[j]\n",
    "            _t_ents = set(instances_dict[_t_cc]) & _e_set\n",
    "            if len(_t_ents) == 0:\n",
    "                continue\n",
    "            if _h_ents.issubset(_t_ents) or _t_ents.issubset(_h_ents):\n",
    "                # just entity intersection\n",
    "                continue\n",
    "            _mentions[i][j].append(' '.join(d['tokens']))"
   ]
  },
  {
   "cell_type": "code",
   "execution_count": 181,
   "metadata": {
    "scrolled": true
   },
   "outputs": [
    {
     "name": "stdout",
     "output_type": "stream",
     "text": [
      "Co-occ     company  dress_cod job_posit pay_sched  benefits compensat payment_o backgroun   person  hire_prer   shifts   schedule employee_ onboardin \n",
      "company       --       1582      1387      1664      1130      991       1052      3174      619       1864      303       1110      3102      1211   \n",
      "dress_cod    1582       --        54        27        16        5         22        74        15        46        1         30        52        86    \n",
      "job_posit    1387       54        --        37        21        62        34       121        13       126        18        39       292       109    \n",
      "pay_sched    1664       27        37        --        19        63       407        21        3         57        31        15       174        77    \n",
      "benefits     1130       16        21        19        --       237        93        79        22       112        1         8        401        34    \n",
      "compensat    991        5         62        63       237        --        50        29        9         57        11        40       323        53    \n",
      "payment_o    1052       22        34       407        93        50        --       208        24       174        1        169        95        79    \n",
      "backgroun    3174       74       121        21        79        29       208        --        56       101        4         30       317       207    \n",
      "person       619        15        13        3         22        9         24        56        --        38        4         13       190        8     \n",
      "hire_prer    1864       46       126        57       112        57       174       101        38        --        6         53       357        18    \n",
      "shifts       303        1         18        31        1         11        1         4         4         6         --        53        54        6     \n",
      "schedule     1110       30        39        15        8         40       169        30        13        53        53        --       196        81    \n",
      "employee_    3102       52       292       174       401       323        95       317       190       357        54       196        --        29    \n",
      "onboardin    1211       86       109        77        34        53        79       207        8         18        6         81        29        --    \n",
      "\n"
     ]
    }
   ],
   "source": [
    "_msg = f'{\"Co-occ\":<10s}'\n",
    "for _cc in _concepts:\n",
    "    _msg += f'{_cc[:9]:^10s}'\n",
    "_msg += '\\n'\n",
    "for i in range(len(_concepts)):\n",
    "    _msg += f'{_concepts[i][:9]:<10s}'\n",
    "    for j in range(len(_concepts)):\n",
    "        if j == i:\n",
    "            _msg += f'{\"--\":^10s}'\n",
    "        elif j < i:\n",
    "            _msg += f'{len(_mentions[j][i]):^10d}'\n",
    "        else:\n",
    "            _msg += f'{len(_mentions[i][j]):^10d}'\n",
    "    _msg += '\\n'\n",
    "print(_msg)"
   ]
  },
  {
   "cell_type": "code",
   "execution_count": 155,
   "metadata": {},
   "outputs": [
    {
     "data": {
      "text/plain": [
       "[(0, 'company'),\n",
       " (1, 'dress_code'),\n",
       " (2, 'job_position'),\n",
       " (3, 'pay_schedule'),\n",
       " (4, 'benefits'),\n",
       " (5, 'compensation'),\n",
       " (6, 'payment_option'),\n",
       " (7, 'background_screening'),\n",
       " (8, 'person'),\n",
       " (9, 'hire_prerequisite'),\n",
       " (10, 'shifts'),\n",
       " (11, 'schedule'),\n",
       " (12, 'employee_type'),\n",
       " (13, 'onboarding_steps')]"
      ]
     },
     "execution_count": 155,
     "metadata": {},
     "output_type": "execute_result"
    }
   ],
   "source": [
    "list(enumerate(_concepts))"
   ]
  },
  {
   "cell_type": "code",
   "execution_count": 232,
   "metadata": {
    "scrolled": true
   },
   "outputs": [
    {
     "data": {
      "text/plain": [
       "121"
      ]
     },
     "execution_count": 232,
     "metadata": {},
     "output_type": "execute_result"
    }
   ],
   "source": [
    "len(_mentions[2][7])"
   ]
  },
  {
   "cell_type": "code",
   "execution_count": null,
   "metadata": {
    "scrolled": true
   },
   "outputs": [],
   "source": [
    "instances_dict['job_position'], instances_dict['hire_prerequisite']"
   ]
  },
  {
   "cell_type": "code",
   "execution_count": 235,
   "metadata": {
    "scrolled": true
   },
   "outputs": [
    {
     "data": {
      "text/plain": [
       "[\"So , I responded on ESVS that I did n't get any training and complained to the assistant manager .\",\n",
       " 'It 2 weeks in lab to get the handle of the drink making and and then you do 2 weeks of cashier training',\n",
       " 'I am in Midland TX , I have my orientation today for delivery driver / runner , the manager said about an hour long .',\n",
       " \"I was told when I got hired I was going to be a store managerin training , I have been in retail for 32 years my training should have consisted of how to use Dollar Generals tools I already know how to do the job and I 'm being used and abused by the store manager right now as an assistant making $ 11 an hour to close his store every   day .\",\n",
       " 'What training and educational background i need to work Cashier Walgreens',\n",
       " 'Apply for store manager position based off of interview and business knowledge of small box retail is where you ’ll be placed as far as Training and Store position',\n",
       " 'Standard orientation for all server , cook or bartender was 5 days , with a quiz at the end of each shift .',\n",
       " 'At times an inexperienced assistant manager would be place in a bad situation of running the store without proper training .',\n",
       " 'When you are in training you are consider a crew member ( getting paid $ 7.25 ) ; and your other work days will be longer ( typical day ) .',\n",
       " 'Physical training , Bassat training , Drug screen , Cashier Training and learning to maneuver machines .',\n",
       " '\\n\\n The management highly undervalue a lot of their workers , several store managers had never even worked in drug g / m except for their “ store manager training ” in which they work a couple days in each dept in the store or at different stores and are then deemed “ experts ” .']"
      ]
     },
     "execution_count": 235,
     "metadata": {},
     "output_type": "execute_result"
    }
   ],
   "source": [
    "_mentions[2][13][::10]"
   ]
  },
  {
   "cell_type": "code",
   "execution_count": 172,
   "metadata": {},
   "outputs": [
    {
     "name": "stdout",
     "output_type": "stream",
     "text": [
      "{'tokens': ['5', 'hours', 'and', 'then', 'training', 'in', 'store'], 'company': 'CVS Health', 'entities': ['cvs health', 'training']}\n"
     ]
    }
   ],
   "source": [
    "_tgt_sent = '5 hours and then training in store'\n",
    "for d in sent_dicts:\n",
    "    if ' '.join(d['tokens']) == _tgt_sent:\n",
    "        print(d)"
   ]
  },
  {
   "cell_type": "markdown",
   "metadata": {},
   "source": [
    "### Mine prompts for new relations"
   ]
  },
  {
   "cell_type": "code",
   "execution_count": 191,
   "metadata": {},
   "outputs": [],
   "source": [
    "seed_relations_df = load_seed_aligned_relations(seed_aligned_relations_path)"
   ]
  },
  {
   "cell_type": "code",
   "execution_count": 202,
   "metadata": {},
   "outputs": [
    {
     "data": {
      "application/vnd.jupyter.widget-view+json": {
       "model_id": "002d9bc3822841c3958421c1c1146fcd",
       "version_major": 2,
       "version_minor": 0
      },
      "text/plain": [
       "HBox(children=(FloatProgress(value=0.0, max=441.0), HTML(value='')))"
      ]
     },
     "metadata": {},
     "output_type": "display_data"
    },
    {
     "name": "stdout",
     "output_type": "stream",
     "text": [
      "\n"
     ]
    }
   ],
   "source": [
    "h_concept = 'job_position'\n",
    "t_concept = 'hire_prerequisite'\n",
    "\n",
    "_res = mine_patterns_between_entities(corpus=sent_dicts,\n",
    "                                   h_instances=instances_dict[h_concept],\n",
    "                                   t_instances=instances_dict[t_concept],\n",
    "                                   seed_relations_df=seed_relations_df,\n",
    "                                   nlp=nlp_full)"
   ]
  },
  {
   "cell_type": "code",
   "execution_count": 203,
   "metadata": {},
   "outputs": [
    {
     "data": {
      "text/plain": [
       "{'<src> <tgt>': ['it 2 weeks in lab to get the handle of the drink making and and then you do 2 weeks of cashier training',\n",
       "  'cashier , customer service training .',\n",
       "  '7.25 at time for partime cashier will training you .',\n",
       "  'you \\'re the \" go to \" for cashier training and questions .',\n",
       "  'cashier training is just getting thrown into a checkstand !',\n",
       "  'i was promoted from associate to shift manger in 6 months and never finished my cashier training',\n",
       "  'orientation was based in some cashier training as well as online test .'],\n",
       " '<tgt> for <src>': ['yes , there is training for a cashier .',\n",
       "  'do they offer training for cashier ?']}"
      ]
     },
     "execution_count": 203,
     "metadata": {},
     "output_type": "execute_result"
    }
   ],
   "source": [
    "_res"
   ]
  },
  {
   "cell_type": "code",
   "execution_count": 215,
   "metadata": {},
   "outputs": [
    {
     "data": {
      "application/vnd.jupyter.widget-view+json": {
       "model_id": "cf619009da7b4dfe8daac1955eeb7f9e",
       "version_major": 2,
       "version_minor": 0
      },
      "text/plain": [
       "HBox(children=(FloatProgress(value=0.0, max=420.0), HTML(value='')))"
      ]
     },
     "metadata": {},
     "output_type": "display_data"
    },
    {
     "name": "stdout",
     "output_type": "stream",
     "text": [
      "\n"
     ]
    }
   ],
   "source": [
    "h_concept = 'job_position'\n",
    "t_concept = 'background_screening'\n",
    "\n",
    "_res = mine_patterns_between_entities(corpus=sent_dicts,\n",
    "                                   h_instances=instances_dict[h_concept],\n",
    "                                   t_instances=instances_dict[t_concept],\n",
    "                                   seed_relations_df=seed_relations_df,\n",
    "                                   nlp=nlp_full)"
   ]
  },
  {
   "cell_type": "code",
   "execution_count": 216,
   "metadata": {},
   "outputs": [
    {
     "data": {
      "text/plain": [
       "{'<tgt> <tgt> for <src> <src>': ['does fedex in austin tx drug test for package handler',\n",
       "  'does fedex drug test for package handler in new jersey an if so when',\n",
       "  'they do not drug test for a package handler',\n",
       "  'does ups drug test for package handler in illinois',\n",
       "  \"no they do n't drug test for package handler at any location\",\n",
       "  'no drug test for the package handler',\n",
       "  'no drug test for package handler .'],\n",
       " '<tgt> <tgt> <src> <src>': [\"there 's no drug test for part - time employees package handler ..\",\n",
       "  \"no they do n't drug test package handler at any ups locations\"],\n",
       " '<tgt> <tgt> for <src> position': [\"they will drug test for management positions , but they should n't for a cashier position\",\n",
       "  'no , there is no drug test for the overnight cashier position anymore .',\n",
       "  \"they use to but i do n't think they do drug test for a cashier position anymore .\"],\n",
       " '<tgt> <tgt> for <src> positions': ['they do nt do drug test for cashier positions .',\n",
       "  'do they drug test in idaho for cashier positions ?'],\n",
       " '<tgt> <tgt> for <src>': ['no drug test for part time cashier',\n",
       "  \"they do n't   do drug test for cashier\"],\n",
       " '<tgt> <tgt> <src>': [\"i 'm in sc and i was told by hr they do not drug test cashier 's .\",\n",
       "  \"no , they do n't drug test cashier 's in arkansas .\"]}"
      ]
     },
     "execution_count": 216,
     "metadata": {},
     "output_type": "execute_result"
    }
   ],
   "source": [
    "_res"
   ]
  },
  {
   "cell_type": "code",
   "execution_count": 217,
   "metadata": {},
   "outputs": [
    {
     "data": {
      "application/vnd.jupyter.widget-view+json": {
       "model_id": "f0fdf072b7d24be484381e70c048e965",
       "version_major": 2,
       "version_minor": 0
      },
      "text/plain": [
       "HBox(children=(FloatProgress(value=0.0, max=378.0), HTML(value='')))"
      ]
     },
     "metadata": {},
     "output_type": "display_data"
    },
    {
     "name": "stdout",
     "output_type": "stream",
     "text": [
      "\n"
     ]
    }
   ],
   "source": [
    "h_concept = 'job_position'\n",
    "t_concept = 'employee_type'\n",
    "\n",
    "_res = mine_patterns_between_entities(corpus=sent_dicts,\n",
    "                                   h_instances=instances_dict[h_concept],\n",
    "                                   t_instances=instances_dict[t_concept],\n",
    "                                   seed_relations_df=seed_relations_df,\n",
    "                                   nlp=nlp_full)"
   ]
  },
  {
   "cell_type": "code",
   "execution_count": 218,
   "metadata": {},
   "outputs": [
    {
     "data": {
      "text/plain": [
       "{'<tgt> <tgt> <src> <src>': ['8.50 as a full time key holder .',\n",
       "  'full time key holder   will get anywhere from   to hours per week',\n",
       "  'the only people who are allowed full time are team leaders , assistant managers and store manager .',\n",
       "  'cashiers take a drug test at the store while assistant managers and store manager go to a facility to get drug tested .',\n",
       "  'the chances of becoming a full time crew member are high depending on your availability',\n",
       "  'i was always a full time crew member',\n",
       "  'weekly part time package handler',\n",
       "  'you were eligible after 1000 hours as part time package handler .',\n",
       "  \"what 's the starting pay for a part time package handler\",\n",
       "  'the starting pay rate for a part time package handler is 11.00 a hour',\n",
       "  'what is the pay rate for a part time package handler in fredericksburg virginia',\n",
       "  'benefits are available after 30 or 90 days , if you are a part time package handler .',\n",
       "  'i just got hired as a part time package handler in ft worth , tx there was no drug test they just do a background check',\n",
       "  'i doubt that they would let you start at 4 , perhaps apply for a later shift , part time package handler is 5 days a week and a total of 17 - 20 hours .',\n",
       "  'does a person make 40 hrs a week being a full time sales associate ?',\n",
       "  'i was a full time sales associate back in 2018 .',\n",
       "  'they rarely hire full time sales associate',\n",
       "  'i just had to do a pre employment drug screen for part time sales associate .',\n",
       "  'i was just interviewed yesterday for a part time sales associate and i have to do a drug test .',\n",
       "  \"i 'm just a part time sales associate & am still currently working for the company .\",\n",
       "  'a part time sales associate would work probably 20 hours .',\n",
       "  'i ve been with dollar tree for 8yrs now and we only get $ 1.50 more an hour on holidays and if we work between 12 am n 6 am we get $ 1.00 more an hour .. as a part time sales associate , you do not get the customary time n a half pay ..',\n",
       "  'i do not know i was only part time sales associate',\n",
       "  'from there i met with the gm and was hired on as a part time sales associate .',\n",
       "  '35 hours however i was not a full time assistant manager .',\n",
       "  'and most have a full time assistant manager ( the merch assistant manager who works between 30 and 40 hours a week ) .',\n",
       "  'it ’s only one full time assistant manager .',\n",
       "  \"yes , if i 'm a part time assistant manager and my store manger wants me to work full time hours and do truck and merch manager duties for a couple weeks should n't i be compensated for working as a full time manager\",\n",
       "  'part time assistant manager .'],\n",
       " '<src> <src> <tgt> <tgt>': ['there are a third key manager , along with a store manager and assistant managers .',\n",
       "  'usually the store manager , 1 or 2 co - managers , and 4 or 5 assistant managers'],\n",
       " '<tgt> <tgt> <src>': ['  you can be a part time barista and get benefits .',\n",
       "  'yes even though you ’re a part time barista we still get perks',\n",
       "  'was not a full time cashier',\n",
       "  'i was the only full time cashier that worked til close .',\n",
       "  'i would be nice to be a full time cashier , so we can invest in the 401k. we would like to save money for retirement .',\n",
       "  'as a full time cashier , i get two week of vacation .',\n",
       "  'incredibly long and dragged for an interview process to work for a part time cashier position .',\n",
       "  'a part time cashier will get on average around 20 hours a week .',\n",
       "  'is it a common thing for a store manager to schedule a part time cashier to a 12 hour shift ?',\n",
       "  'no drug test for part time cashier',\n",
       "  '7 month full time menbet ship desk \\n 6 month part time cashier',\n",
       "  'no benefits are available when you are part time cashier',\n",
       "  'it was three days after my initial interview that i was found eligible to be hired for a part time cashier position .',\n",
       "  '15 hours for a part time cashier',\n",
       "  'you actually can apply at 16 for part time cashier',\n",
       "  'i was interviewed , and hired as a part time cashier , learned the ropes , and became a full time cashier , then i learned money operations , inventory and ordering to become a full time assistant manager .',\n",
       "  '10.89 to start out as a part time cashier at lumberton new jersey',\n",
       "  \"i worked at lowe 's for 3 months as a part time front end cashier .\",\n",
       "  'being a part time cashier is always challenging ,   but also very fun ,   i love costumer service ,   i enjoy helping others in anyway i can , we do have all type of attitudes but my job is to make the transaction confertable , well handled , acurate and efecency , with a positive attitude .',\n",
       "  'i left kroger because i applied for a part time cashier position but was continually scheduled for 40 hours a week because people were constantly quiting due to poor management , extremely rude customers , and no managers there back up their staff .',\n",
       "  'part time cashier ?',\n",
       "  'at burlington   i have worked as part time cashier for almost two years and currently work as afull time associate in the baby and youth department .',\n",
       "  'i was not informed about any 401k opportunities / stocks as a part time cashier .',\n",
       "  '9.00 and hours 15 hours a week as a part time cashier .',\n",
       "  \"i do n't know the salary for health   infusion nurse cause i 'm a part time cashier only .\",\n",
       "  'no , they do not drug test for part time cashier employment .',\n",
       "  'a part time dishwasher might work about 15 - 22 hours a week',\n",
       "  \"part time dishwasher from 4:30pm to 10 pm , hours i 'm looking for\"],\n",
       " '<tgt> <src> <src>': ['i started off as a seasonal package handler .',\n",
       "  \"no i do n't not know i was a seasonal package handler\",\n",
       "  \"i 'm a felon and they hired me as a seasonal package handler .\",\n",
       "  'i was a seasonal package handler and i had another fulltime job that was getting the way of me making it to work on time .',\n",
       "  'unknown because i was only a temporary seasonal package handler and not a driver',\n",
       "  'i never was a seasonal package handler but usually they send you to a clinic approved by department of traffic .',\n",
       "  \"no , they do n't if you 're a seasonal sales associate\",\n",
       "  \"i was working as a seasonal sales associate prior to my son 's birth .\"],\n",
       " '<tgt> <src>': ['i was only a seasonal cashier and sales associate .',\n",
       "  '\\n i rue the say i ever applied as a seasonal cashier at target .',\n",
       "  \"i 'm a seasonal cashier , and i make $ 12 an hour .\",\n",
       "  'dairy , hardware , sporting goods , garden , cosmetics , pharmacy , toys , electronics , infants , shoes , apparel , grocery , seasonal , cashier , security(ap )',\n",
       "  'not sure because i was only a seasonal cashier .',\n",
       "  'all employees of lowe\"s are required to take the same tests for employment , however i was a part - time seasonal cashier .'],\n",
       " '<src> <tgt>': ['it 2 weeks in lab to get the handle of the drink making and and then you do 2 weeks of cashier training',\n",
       "  'cashier , customer service training .',\n",
       "  '7.25 at time for partime cashier will training you .',\n",
       "  'you \\'re the \" go to \" for cashier training and questions .',\n",
       "  'cashier training is just getting thrown into a checkstand !',\n",
       "  'i was promoted from associate to shift manger in 6 months and never finished my cashier training',\n",
       "  'orientation was based in some cashier training as well as online test .'],\n",
       " '<tgt> for <src>': ['yes , there is training for a cashier .',\n",
       "  'do they offer training for cashier ?'],\n",
       " '<src> <tgt> <tgt>': ['cashier part time',\n",
       "  'i worked as a cashier part time and starting pay was $ 9.00 .',\n",
       "  'you can start working as a cashier part time at 16 years old .'],\n",
       " '<src> are <tgt> <tgt>': ['if you come in as a cashier you are part time only 15 hrs week',\n",
       "  'no i work full time all my cashier are part time'],\n",
       " '<src> is <tgt> <tgt>': ['a cashier or better known as a sales associate , is part time .',\n",
       "  'no the cashier there from what they told me is only part time no full time']}"
      ]
     },
     "execution_count": 218,
     "metadata": {},
     "output_type": "execute_result"
    }
   ],
   "source": [
    "_res"
   ]
  },
  {
   "cell_type": "code",
   "execution_count": 219,
   "metadata": {},
   "outputs": [
    {
     "data": {
      "application/vnd.jupyter.widget-view+json": {
       "model_id": "8cfdf7f5920a438ca534686670cf37a4",
       "version_major": 2,
       "version_minor": 0
      },
      "text/plain": [
       "HBox(children=(FloatProgress(value=0.0, max=399.0), HTML(value='')))"
      ]
     },
     "metadata": {},
     "output_type": "display_data"
    },
    {
     "name": "stdout",
     "output_type": "stream",
     "text": [
      "\n"
     ]
    }
   ],
   "source": [
    "h_concept = 'job_position'\n",
    "t_concept = 'onboarding_steps'\n",
    "\n",
    "_res = mine_patterns_between_entities(corpus=sent_dicts,\n",
    "                                   h_instances=instances_dict[h_concept],\n",
    "                                   t_instances=instances_dict[t_concept],\n",
    "                                   seed_relations_df=seed_relations_df,\n",
    "                                   nlp=nlp_full)"
   ]
  },
  {
   "cell_type": "code",
   "execution_count": 220,
   "metadata": {},
   "outputs": [
    {
     "data": {
      "text/plain": [
       "{'<src> <tgt>': ['it 2 weeks in lab to get the handle of the drink making and and then you do 2 weeks of cashier training',\n",
       "  'cashier , customer service training .',\n",
       "  '7.25 at time for partime cashier will training you .',\n",
       "  'you \\'re the \" go to \" for cashier training and questions .',\n",
       "  'cashier training is just getting thrown into a checkstand !',\n",
       "  'i was promoted from associate to shift manger in 6 months and never finished my cashier training',\n",
       "  'orientation was based in some cashier training as well as online test .'],\n",
       " '<tgt> for <src>': ['yes , there is training for a cashier .',\n",
       "  'do they offer training for cashier ?'],\n",
       " 'manager <src> <src> leading <tgt> <tgt>': ['  if you are wanting to walk in just after the start time , be prepared for the manager or assistant manager leading the group interview to ask you to attend the next open interview , which is probably being held in the next few days .',\n",
       "  '  if you are wanting to walk in just after the start time , be prepared for the manager or assistant manager leading the group interview to ask you to attend the next open interview , which is probably being held in the next few days .']}"
      ]
     },
     "execution_count": 220,
     "metadata": {},
     "output_type": "execute_result"
    }
   ],
   "source": [
    "_res"
   ]
  },
  {
   "cell_type": "code",
   "execution_count": 244,
   "metadata": {
    "scrolled": true
   },
   "outputs": [
    {
     "data": {
      "application/vnd.jupyter.widget-view+json": {
       "model_id": "1706d6a829c3423db18cb0187a63bb7a",
       "version_major": 2,
       "version_minor": 0
      },
      "text/plain": [
       "HBox(children=(FloatProgress(value=0.0, max=391.0), HTML(value='')))"
      ]
     },
     "metadata": {},
     "output_type": "display_data"
    },
    {
     "name": "stdout",
     "output_type": "stream",
     "text": [
      "overlapping spans\n",
      "overlapping spans\n",
      "overlapping spans\n",
      "overlapping spans\n",
      "overlapping spans\n",
      "overlapping spans\n",
      "overlapping spans\n",
      "overlapping spans\n",
      "overlapping spans\n",
      "overlapping spans\n",
      "overlapping spans\n",
      "overlapping spans\n",
      "overlapping spans\n",
      "overlapping spans\n",
      "overlapping spans\n",
      "overlapping spans\n",
      "overlapping spans\n",
      "overlapping spans\n",
      "overlapping spans\n",
      "overlapping spans\n",
      "overlapping spans\n",
      "overlapping spans\n",
      "overlapping spans\n",
      "overlapping spans\n",
      "overlapping spans\n",
      "overlapping spans\n",
      "overlapping spans\n",
      "overlapping spans\n",
      "overlapping spans\n",
      "overlapping spans\n",
      "overlapping spans\n",
      "overlapping spans\n",
      "overlapping spans\n",
      "overlapping spans\n",
      "overlapping spans\n",
      "overlapping spans\n",
      "overlapping spans\n",
      "overlapping spans\n",
      "overlapping spans\n",
      "overlapping spans\n",
      "overlapping spans\n",
      "overlapping spans\n",
      "overlapping spans\n",
      "overlapping spans\n",
      "overlapping spans\n",
      "overlapping spans\n",
      "overlapping spans\n",
      "overlapping spans\n",
      "overlapping spans\n",
      "overlapping spans\n",
      "overlapping spans\n",
      "overlapping spans\n",
      "overlapping spans\n",
      "overlapping spans\n",
      "overlapping spans\n",
      "overlapping spans\n",
      "overlapping spans\n",
      "overlapping spans\n",
      "overlapping spans\n",
      "overlapping spans\n",
      "overlapping spans\n",
      "overlapping spans\n",
      "overlapping spans\n",
      "overlapping spans\n",
      "overlapping spans\n",
      "overlapping spans\n",
      "overlapping spans\n",
      "overlapping spans\n",
      "overlapping spans\n",
      "overlapping spans\n",
      "overlapping spans\n",
      "overlapping spans\n",
      "overlapping spans\n",
      "overlapping spans\n",
      "overlapping spans\n",
      "overlapping spans\n",
      "overlapping spans\n",
      "overlapping spans\n",
      "overlapping spans\n",
      "overlapping spans\n",
      "overlapping spans\n",
      "overlapping spans\n",
      "overlapping spans\n",
      "overlapping spans\n",
      "overlapping spans\n",
      "overlapping spans\n",
      "overlapping spans\n",
      "overlapping spans\n",
      "overlapping spans\n",
      "overlapping spans\n",
      "overlapping spans\n",
      "overlapping spans\n",
      "overlapping spans\n",
      "overlapping spans\n",
      "overlapping spans\n",
      "overlapping spans\n",
      "overlapping spans\n",
      "overlapping spans\n",
      "overlapping spans\n",
      "overlapping spans\n",
      "overlapping spans\n",
      "overlapping spans\n",
      "overlapping spans\n",
      "overlapping spans\n",
      "overlapping spans\n",
      "overlapping spans\n",
      "overlapping spans\n",
      "overlapping spans\n",
      "overlapping spans\n",
      "overlapping spans\n",
      "overlapping spans\n",
      "overlapping spans\n",
      "overlapping spans\n",
      "overlapping spans\n",
      "overlapping spans\n",
      "overlapping spans\n",
      "overlapping spans\n",
      "overlapping spans\n",
      "overlapping spans\n",
      "overlapping spans\n",
      "overlapping spans\n",
      "overlapping spans\n",
      "overlapping spans\n",
      "overlapping spans\n",
      "overlapping spans\n",
      "overlapping spans\n",
      "overlapping spans\n",
      "overlapping spans\n",
      "overlapping spans\n",
      "overlapping spans\n",
      "overlapping spans\n",
      "overlapping spans\n",
      "overlapping spans\n",
      "overlapping spans\n",
      "overlapping spans\n",
      "overlapping spans\n",
      "overlapping spans\n",
      "overlapping spans\n",
      "overlapping spans\n",
      "overlapping spans\n",
      "overlapping spans\n",
      "overlapping spans\n",
      "overlapping spans\n",
      "overlapping spans\n",
      "overlapping spans\n",
      "overlapping spans\n",
      "overlapping spans\n",
      "overlapping spans\n",
      "overlapping spans\n",
      "overlapping spans\n",
      "overlapping spans\n",
      "overlapping spans\n",
      "overlapping spans\n",
      "overlapping spans\n",
      "overlapping spans\n",
      "overlapping spans\n",
      "overlapping spans\n",
      "overlapping spans\n",
      "overlapping spans\n",
      "overlapping spans\n",
      "overlapping spans\n",
      "overlapping spans\n",
      "overlapping spans\n",
      "overlapping spans\n",
      "overlapping spans\n",
      "overlapping spans\n",
      "overlapping spans\n",
      "overlapping spans\n",
      "overlapping spans\n",
      "overlapping spans\n",
      "overlapping spans\n",
      "overlapping spans\n",
      "overlapping spans\n",
      "overlapping spans\n",
      "overlapping spans\n",
      "overlapping spans\n",
      "overlapping spans\n",
      "overlapping spans\n",
      "overlapping spans\n",
      "overlapping spans\n",
      "overlapping spans\n",
      "overlapping spans\n",
      "overlapping spans\n",
      "overlapping spans\n",
      "overlapping spans\n",
      "overlapping spans\n",
      "overlapping spans\n",
      "overlapping spans\n",
      "overlapping spans\n",
      "overlapping spans\n",
      "overlapping spans\n",
      "overlapping spans\n",
      "overlapping spans\n",
      "overlapping spans\n",
      "overlapping spans\n",
      "overlapping spans\n",
      "overlapping spans\n",
      "overlapping spans\n",
      "overlapping spans\n",
      "overlapping spans\n",
      "overlapping spans\n",
      "overlapping spans\n",
      "overlapping spans\n",
      "overlapping spans\n",
      "overlapping spans\n",
      "overlapping spans\n",
      "overlapping spans\n",
      "overlapping spans\n",
      "overlapping spans\n",
      "overlapping spans\n",
      "overlapping spans\n",
      "overlapping spans\n",
      "overlapping spans\n",
      "overlapping spans\n",
      "overlapping spans\n",
      "overlapping spans\n",
      "overlapping spans\n",
      "overlapping spans\n",
      "overlapping spans\n",
      "overlapping spans\n",
      "overlapping spans\n",
      "overlapping spans\n",
      "overlapping spans\n",
      "overlapping spans\n",
      "overlapping spans\n",
      "overlapping spans\n",
      "overlapping spans\n",
      "overlapping spans\n",
      "overlapping spans\n",
      "overlapping spans\n",
      "overlapping spans\n",
      "overlapping spans\n",
      "overlapping spans\n",
      "overlapping spans\n",
      "overlapping spans\n",
      "overlapping spans\n",
      "overlapping spans\n",
      "overlapping spans\n",
      "overlapping spans\n",
      "overlapping spans\n",
      "overlapping spans\n",
      "overlapping spans\n",
      "overlapping spans\n",
      "overlapping spans\n",
      "overlapping spans\n",
      "overlapping spans\n",
      "overlapping spans\n",
      "overlapping spans\n",
      "overlapping spans\n",
      "overlapping spans\n",
      "overlapping spans\n",
      "overlapping spans\n",
      "overlapping spans\n",
      "overlapping spans\n",
      "overlapping spans\n",
      "overlapping spans\n",
      "overlapping spans\n",
      "overlapping spans\n",
      "overlapping spans\n",
      "overlapping spans\n",
      "overlapping spans\n",
      "overlapping spans\n",
      "overlapping spans\n",
      "overlapping spans\n",
      "overlapping spans\n",
      "overlapping spans\n",
      "overlapping spans\n",
      "overlapping spans\n",
      "overlapping spans\n",
      "overlapping spans\n",
      "overlapping spans\n",
      "overlapping spans\n",
      "overlapping spans\n",
      "overlapping spans\n",
      "overlapping spans\n",
      "overlapping spans\n",
      "overlapping spans\n",
      "overlapping spans\n",
      "overlapping spans\n",
      "overlapping spans\n",
      "overlapping spans\n",
      "overlapping spans\n",
      "overlapping spans\n",
      "overlapping spans\n",
      "overlapping spans\n",
      "overlapping spans\n",
      "overlapping spans\n",
      "overlapping spans\n",
      "overlapping spans\n",
      "overlapping spans\n",
      "overlapping spans\n",
      "overlapping spans\n",
      "overlapping spans\n",
      "overlapping spans\n",
      "overlapping spans\n",
      "overlapping spans\n",
      "overlapping spans\n",
      "overlapping spans\n",
      "overlapping spans\n",
      "overlapping spans\n",
      "overlapping spans\n",
      "overlapping spans\n",
      "overlapping spans\n",
      "overlapping spans\n",
      "overlapping spans\n",
      "overlapping spans\n",
      "overlapping spans\n",
      "overlapping spans\n",
      "overlapping spans\n",
      "overlapping spans\n",
      "overlapping spans\n",
      "overlapping spans\n",
      "overlapping spans\n",
      "overlapping spans\n",
      "overlapping spans\n",
      "overlapping spans\n",
      "overlapping spans\n",
      "overlapping spans\n",
      "overlapping spans\n",
      "overlapping spans\n",
      "overlapping spans\n",
      "overlapping spans\n",
      "overlapping spans\n",
      "overlapping spans\n",
      "overlapping spans\n",
      "overlapping spans\n",
      "overlapping spans\n",
      "overlapping spans\n",
      "overlapping spans\n",
      "overlapping spans\n",
      "overlapping spans\n",
      "overlapping spans\n",
      "overlapping spans\n",
      "overlapping spans\n",
      "overlapping spans\n",
      "overlapping spans\n",
      "overlapping spans\n",
      "overlapping spans\n",
      "overlapping spans\n",
      "overlapping spans\n",
      "overlapping spans\n",
      "overlapping spans\n",
      "overlapping spans\n",
      "overlapping spans\n",
      "overlapping spans\n",
      "overlapping spans\n",
      "overlapping spans\n",
      "overlapping spans\n",
      "overlapping spans\n",
      "overlapping spans\n",
      "overlapping spans\n",
      "overlapping spans\n",
      "overlapping spans\n",
      "overlapping spans\n",
      "overlapping spans\n",
      "overlapping spans\n",
      "overlapping spans\n",
      "overlapping spans\n",
      "overlapping spans\n",
      "overlapping spans\n",
      "overlapping spans\n",
      "overlapping spans\n",
      "overlapping spans\n",
      "overlapping spans\n",
      "overlapping spans\n",
      "overlapping spans\n",
      "overlapping spans\n",
      "overlapping spans\n",
      "overlapping spans\n",
      "overlapping spans\n",
      "overlapping spans\n",
      "overlapping spans\n",
      "overlapping spans\n",
      "overlapping spans\n",
      "overlapping spans\n",
      "overlapping spans\n",
      "overlapping spans\n",
      "overlapping spans\n",
      "overlapping spans\n",
      "overlapping spans\n",
      "overlapping spans\n",
      "overlapping spans\n",
      "overlapping spans\n",
      "overlapping spans\n",
      "overlapping spans\n",
      "overlapping spans\n",
      "overlapping spans\n",
      "overlapping spans\n",
      "overlapping spans\n",
      "overlapping spans\n",
      "overlapping spans\n",
      "overlapping spans\n",
      "overlapping spans\n",
      "overlapping spans\n",
      "overlapping spans\n",
      "overlapping spans\n",
      "overlapping spans\n",
      "overlapping spans\n",
      "overlapping spans\n",
      "overlapping spans\n",
      "overlapping spans\n",
      "overlapping spans\n",
      "overlapping spans\n",
      "overlapping spans\n",
      "overlapping spans\n",
      "overlapping spans\n",
      "overlapping spans\n",
      "overlapping spans\n",
      "overlapping spans\n",
      "overlapping spans\n",
      "overlapping spans\n",
      "overlapping spans\n",
      "overlapping spans\n",
      "overlapping spans\n",
      "overlapping spans\n",
      "overlapping spans\n",
      "overlapping spans\n",
      "overlapping spans\n",
      "overlapping spans\n",
      "overlapping spans\n",
      "overlapping spans\n",
      "overlapping spans\n",
      "overlapping spans\n",
      "overlapping spans\n",
      "overlapping spans\n",
      "overlapping spans\n",
      "overlapping spans\n",
      "overlapping spans\n",
      "overlapping spans\n",
      "overlapping spans\n",
      "overlapping spans\n",
      "overlapping spans\n",
      "overlapping spans\n",
      "overlapping spans\n",
      "overlapping spans\n",
      "overlapping spans\n",
      "overlapping spans\n",
      "overlapping spans\n",
      "overlapping spans\n",
      "overlapping spans\n",
      "overlapping spans\n",
      "overlapping spans\n",
      "overlapping spans\n",
      "overlapping spans\n",
      "overlapping spans\n",
      "overlapping spans\n",
      "overlapping spans\n",
      "overlapping spans\n",
      "overlapping spans\n",
      "overlapping spans\n",
      "overlapping spans\n",
      "overlapping spans\n",
      "overlapping spans\n",
      "overlapping spans\n",
      "overlapping spans\n",
      "overlapping spans\n"
     ]
    },
    {
     "name": "stdout",
     "output_type": "stream",
     "text": [
      "overlapping spans\n",
      "overlapping spans\n",
      "overlapping spans\n",
      "overlapping spans\n",
      "overlapping spans\n",
      "overlapping spans\n",
      "overlapping spans\n",
      "overlapping spans\n",
      "overlapping spans\n",
      "overlapping spans\n",
      "overlapping spans\n",
      "overlapping spans\n",
      "overlapping spans\n",
      "overlapping spans\n",
      "overlapping spans\n",
      "overlapping spans\n",
      "overlapping spans\n",
      "overlapping spans\n",
      "overlapping spans\n",
      "overlapping spans\n",
      "overlapping spans\n",
      "overlapping spans\n",
      "overlapping spans\n",
      "overlapping spans\n",
      "overlapping spans\n",
      "overlapping spans\n",
      "overlapping spans\n",
      "overlapping spans\n",
      "overlapping spans\n",
      "overlapping spans\n",
      "overlapping spans\n",
      "overlapping spans\n",
      "overlapping spans\n",
      "overlapping spans\n",
      "overlapping spans\n",
      "overlapping spans\n",
      "overlapping spans\n",
      "overlapping spans\n",
      "overlapping spans\n",
      "overlapping spans\n",
      "overlapping spans\n",
      "overlapping spans\n",
      "overlapping spans\n",
      "overlapping spans\n",
      "overlapping spans\n",
      "overlapping spans\n",
      "overlapping spans\n",
      "overlapping spans\n",
      "overlapping spans\n",
      "overlapping spans\n",
      "overlapping spans\n",
      "overlapping spans\n",
      "overlapping spans\n",
      "overlapping spans\n",
      "overlapping spans\n",
      "overlapping spans\n",
      "overlapping spans\n",
      "overlapping spans\n",
      "overlapping spans\n",
      "overlapping spans\n",
      "overlapping spans\n",
      "overlapping spans\n",
      "overlapping spans\n",
      "overlapping spans\n",
      "overlapping spans\n",
      "overlapping spans\n",
      "overlapping spans\n",
      "overlapping spans\n",
      "overlapping spans\n",
      "overlapping spans\n",
      "overlapping spans\n",
      "overlapping spans\n",
      "overlapping spans\n",
      "overlapping spans\n",
      "overlapping spans\n",
      "overlapping spans\n",
      "overlapping spans\n",
      "overlapping spans\n",
      "overlapping spans\n",
      "overlapping spans\n",
      "overlapping spans\n",
      "overlapping spans\n",
      "overlapping spans\n",
      "overlapping spans\n",
      "overlapping spans\n",
      "overlapping spans\n",
      "overlapping spans\n",
      "overlapping spans\n",
      "overlapping spans\n",
      "overlapping spans\n",
      "overlapping spans\n",
      "overlapping spans\n",
      "overlapping spans\n",
      "overlapping spans\n",
      "overlapping spans\n",
      "overlapping spans\n",
      "overlapping spans\n",
      "overlapping spans\n",
      "overlapping spans\n",
      "overlapping spans\n",
      "overlapping spans\n",
      "overlapping spans\n",
      "overlapping spans\n",
      "overlapping spans\n",
      "overlapping spans\n",
      "overlapping spans\n",
      "overlapping spans\n",
      "overlapping spans\n",
      "overlapping spans\n",
      "overlapping spans\n",
      "overlapping spans\n",
      "overlapping spans\n",
      "overlapping spans\n",
      "overlapping spans\n",
      "overlapping spans\n",
      "overlapping spans\n",
      "overlapping spans\n",
      "overlapping spans\n",
      "overlapping spans\n",
      "overlapping spans\n",
      "overlapping spans\n",
      "overlapping spans\n",
      "overlapping spans\n",
      "overlapping spans\n",
      "overlapping spans\n",
      "overlapping spans\n",
      "overlapping spans\n",
      "overlapping spans\n",
      "overlapping spans\n",
      "overlapping spans\n",
      "overlapping spans\n",
      "overlapping spans\n",
      "overlapping spans\n",
      "overlapping spans\n",
      "overlapping spans\n",
      "overlapping spans\n",
      "overlapping spans\n",
      "overlapping spans\n",
      "overlapping spans\n",
      "overlapping spans\n",
      "overlapping spans\n",
      "overlapping spans\n",
      "overlapping spans\n",
      "overlapping spans\n",
      "overlapping spans\n",
      "overlapping spans\n",
      "overlapping spans\n",
      "overlapping spans\n",
      "overlapping spans\n",
      "overlapping spans\n",
      "overlapping spans\n",
      "overlapping spans\n",
      "overlapping spans\n",
      "overlapping spans\n",
      "overlapping spans\n",
      "overlapping spans\n",
      "overlapping spans\n",
      "overlapping spans\n",
      "overlapping spans\n",
      "overlapping spans\n",
      "overlapping spans\n",
      "overlapping spans\n",
      "overlapping spans\n",
      "overlapping spans\n",
      "overlapping spans\n",
      "overlapping spans\n",
      "overlapping spans\n",
      "overlapping spans\n",
      "overlapping spans\n",
      "overlapping spans\n",
      "overlapping spans\n",
      "overlapping spans\n",
      "overlapping spans\n",
      "overlapping spans\n",
      "overlapping spans\n",
      "overlapping spans\n",
      "overlapping spans\n",
      "overlapping spans\n",
      "overlapping spans\n",
      "overlapping spans\n",
      "overlapping spans\n",
      "overlapping spans\n",
      "overlapping spans\n",
      "overlapping spans\n",
      "overlapping spans\n",
      "overlapping spans\n",
      "overlapping spans\n",
      "overlapping spans\n",
      "overlapping spans\n",
      "overlapping spans\n",
      "overlapping spans\n",
      "overlapping spans\n",
      "overlapping spans\n",
      "overlapping spans\n",
      "overlapping spans\n",
      "overlapping spans\n",
      "overlapping spans\n",
      "overlapping spans\n",
      "overlapping spans\n",
      "overlapping spans\n",
      "overlapping spans\n",
      "overlapping spans\n",
      "overlapping spans\n",
      "overlapping spans\n",
      "overlapping spans\n",
      "overlapping spans\n",
      "overlapping spans\n",
      "overlapping spans\n",
      "overlapping spans\n",
      "overlapping spans\n",
      "overlapping spans\n",
      "overlapping spans\n",
      "overlapping spans\n",
      "overlapping spans\n",
      "overlapping spans\n",
      "overlapping spans\n",
      "overlapping spans\n",
      "overlapping spans\n",
      "overlapping spans\n",
      "overlapping spans\n",
      "overlapping spans\n",
      "overlapping spans\n",
      "overlapping spans\n",
      "overlapping spans\n",
      "overlapping spans\n",
      "overlapping spans\n",
      "overlapping spans\n",
      "overlapping spans\n",
      "overlapping spans\n",
      "overlapping spans\n",
      "overlapping spans\n",
      "overlapping spans\n",
      "overlapping spans\n",
      "overlapping spans\n",
      "overlapping spans\n",
      "overlapping spans\n",
      "overlapping spans\n",
      "overlapping spans\n",
      "overlapping spans\n",
      "overlapping spans\n",
      "overlapping spans\n",
      "overlapping spans\n",
      "overlapping spans\n",
      "overlapping spans\n",
      "overlapping spans\n",
      "overlapping spans\n",
      "overlapping spans\n",
      "overlapping spans\n",
      "overlapping spans\n",
      "overlapping spans\n",
      "overlapping spans\n",
      "overlapping spans\n",
      "overlapping spans\n",
      "overlapping spans\n",
      "overlapping spans\n",
      "overlapping spans\n",
      "overlapping spans\n",
      "overlapping spans\n",
      "overlapping spans\n",
      "overlapping spans\n",
      "overlapping spans\n",
      "overlapping spans\n",
      "overlapping spans\n",
      "overlapping spans\n",
      "overlapping spans\n",
      "overlapping spans\n",
      "overlapping spans\n",
      "overlapping spans\n",
      "overlapping spans\n",
      "overlapping spans\n",
      "overlapping spans\n",
      "overlapping spans\n",
      "overlapping spans\n",
      "overlapping spans\n",
      "overlapping spans\n",
      "overlapping spans\n",
      "overlapping spans\n",
      "overlapping spans\n",
      "overlapping spans\n",
      "overlapping spans\n",
      "overlapping spans\n",
      "overlapping spans\n",
      "overlapping spans\n",
      "overlapping spans\n",
      "overlapping spans\n",
      "overlapping spans\n",
      "overlapping spans\n",
      "overlapping spans\n",
      "overlapping spans\n",
      "overlapping spans\n",
      "overlapping spans\n",
      "overlapping spans\n",
      "overlapping spans\n",
      "overlapping spans\n",
      "overlapping spans\n",
      "overlapping spans\n",
      "overlapping spans\n",
      "overlapping spans\n",
      "overlapping spans\n",
      "overlapping spans\n",
      "overlapping spans\n",
      "overlapping spans\n",
      "overlapping spans\n",
      "overlapping spans\n",
      "overlapping spans\n",
      "overlapping spans\n",
      "overlapping spans\n",
      "overlapping spans\n",
      "overlapping spans\n",
      "overlapping spans\n",
      "overlapping spans\n",
      "overlapping spans\n",
      "overlapping spans\n",
      "overlapping spans\n",
      "overlapping spans\n",
      "overlapping spans\n",
      "overlapping spans\n",
      "overlapping spans\n",
      "overlapping spans\n",
      "overlapping spans\n",
      "overlapping spans\n",
      "overlapping spans\n",
      "overlapping spans\n",
      "overlapping spans\n",
      "overlapping spans\n",
      "overlapping spans\n",
      "overlapping spans\n",
      "overlapping spans\n",
      "overlapping spans\n",
      "overlapping spans\n",
      "overlapping spans\n",
      "overlapping spans\n",
      "overlapping spans\n",
      "overlapping spans\n",
      "overlapping spans\n",
      "overlapping spans\n",
      "overlapping spans\n",
      "overlapping spans\n",
      "overlapping spans\n",
      "overlapping spans\n",
      "overlapping spans\n",
      "overlapping spans\n",
      "overlapping spans\n",
      "overlapping spans\n",
      "overlapping spans\n",
      "overlapping spans\n",
      "overlapping spans\n",
      "overlapping spans\n",
      "overlapping spans\n",
      "overlapping spans\n",
      "overlapping spans\n",
      "overlapping spans\n",
      "overlapping spans\n",
      "overlapping spans\n",
      "overlapping spans\n",
      "overlapping spans\n",
      "overlapping spans\n",
      "overlapping spans\n",
      "overlapping spans\n",
      "overlapping spans\n",
      "overlapping spans\n",
      "overlapping spans\n",
      "overlapping spans\n",
      "overlapping spans\n",
      "overlapping spans\n",
      "overlapping spans\n",
      "overlapping spans\n",
      "overlapping spans\n",
      "overlapping spans\n",
      "overlapping spans\n",
      "overlapping spans\n",
      "overlapping spans\n",
      "overlapping spans\n",
      "overlapping spans\n",
      "overlapping spans\n",
      "overlapping spans\n",
      "overlapping spans\n",
      "overlapping spans\n",
      "overlapping spans\n",
      "overlapping spans\n",
      "overlapping spans\n",
      "overlapping spans\n",
      "overlapping spans\n",
      "overlapping spans\n",
      "overlapping spans\n",
      "overlapping spans\n",
      "overlapping spans\n",
      "overlapping spans\n",
      "overlapping spans\n",
      "overlapping spans\n",
      "overlapping spans\n",
      "overlapping spans\n",
      "overlapping spans\n",
      "overlapping spans\n",
      "overlapping spans\n",
      "overlapping spans\n",
      "overlapping spans\n",
      "overlapping spans\n",
      "overlapping spans\n",
      "overlapping spans\n",
      "overlapping spans\n",
      "overlapping spans\n",
      "overlapping spans\n",
      "overlapping spans\n",
      "overlapping spans\n",
      "overlapping spans\n",
      "overlapping spans\n",
      "overlapping spans\n",
      "overlapping spans\n",
      "overlapping spans\n",
      "overlapping spans\n",
      "overlapping spans\n",
      "overlapping spans\n",
      "overlapping spans\n",
      "overlapping spans\n",
      "overlapping spans\n",
      "overlapping spans\n",
      "overlapping spans\n",
      "overlapping spans\n",
      "overlapping spans\n",
      "overlapping spans\n",
      "overlapping spans\n",
      "overlapping spans\n",
      "overlapping spans\n",
      "overlapping spans\n",
      "overlapping spans\n",
      "overlapping spans\n",
      "overlapping spans\n",
      "overlapping spans\n",
      "overlapping spans\n",
      "overlapping spans\n",
      "overlapping spans\n",
      "overlapping spans\n",
      "overlapping spans\n",
      "overlapping spans\n",
      "overlapping spans\n",
      "overlapping spans\n",
      "overlapping spans\n",
      "overlapping spans\n",
      "overlapping spans\n",
      "overlapping spans\n",
      "overlapping spans\n",
      "overlapping spans\n",
      "overlapping spans\n",
      "overlapping spans\n",
      "overlapping spans\n",
      "overlapping spans\n",
      "overlapping spans\n",
      "overlapping spans\n",
      "overlapping spans\n",
      "overlapping spans\n",
      "overlapping spans\n",
      "overlapping spans\n",
      "overlapping spans\n",
      "overlapping spans\n",
      "overlapping spans\n",
      "overlapping spans\n",
      "overlapping spans\n",
      "overlapping spans\n",
      "overlapping spans\n",
      "overlapping spans\n",
      "overlapping spans\n",
      "overlapping spans\n",
      "overlapping spans\n",
      "overlapping spans\n",
      "overlapping spans\n"
     ]
    },
    {
     "name": "stdout",
     "output_type": "stream",
     "text": [
      "overlapping spans\n",
      "overlapping spans\n",
      "overlapping spans\n",
      "overlapping spans\n",
      "overlapping spans\n",
      "overlapping spans\n",
      "overlapping spans\n",
      "overlapping spans\n",
      "overlapping spans\n",
      "overlapping spans\n",
      "overlapping spans\n",
      "overlapping spans\n",
      "overlapping spans\n",
      "overlapping spans\n",
      "overlapping spans\n",
      "overlapping spans\n",
      "overlapping spans\n",
      "overlapping spans\n",
      "overlapping spans\n",
      "overlapping spans\n",
      "overlapping spans\n",
      "overlapping spans\n",
      "overlapping spans\n",
      "overlapping spans\n",
      "overlapping spans\n",
      "overlapping spans\n",
      "overlapping spans\n",
      "overlapping spans\n",
      "overlapping spans\n",
      "overlapping spans\n",
      "overlapping spans\n",
      "overlapping spans\n",
      "overlapping spans\n",
      "overlapping spans\n",
      "overlapping spans\n",
      "overlapping spans\n",
      "overlapping spans\n",
      "overlapping spans\n",
      "overlapping spans\n",
      "overlapping spans\n",
      "overlapping spans\n",
      "overlapping spans\n",
      "overlapping spans\n",
      "overlapping spans\n",
      "overlapping spans\n",
      "overlapping spans\n",
      "overlapping spans\n",
      "overlapping spans\n",
      "overlapping spans\n",
      "overlapping spans\n",
      "overlapping spans\n",
      "overlapping spans\n",
      "overlapping spans\n",
      "overlapping spans\n",
      "overlapping spans\n",
      "overlapping spans\n",
      "overlapping spans\n",
      "overlapping spans\n",
      "overlapping spans\n",
      "overlapping spans\n",
      "overlapping spans\n",
      "overlapping spans\n",
      "overlapping spans\n",
      "overlapping spans\n",
      "overlapping spans\n",
      "overlapping spans\n",
      "overlapping spans\n",
      "overlapping spans\n",
      "overlapping spans\n",
      "overlapping spans\n",
      "overlapping spans\n",
      "overlapping spans\n",
      "overlapping spans\n",
      "overlapping spans\n",
      "overlapping spans\n",
      "overlapping spans\n",
      "overlapping spans\n",
      "overlapping spans\n",
      "overlapping spans\n",
      "overlapping spans\n",
      "overlapping spans\n",
      "overlapping spans\n",
      "overlapping spans\n",
      "overlapping spans\n",
      "overlapping spans\n",
      "overlapping spans\n",
      "overlapping spans\n",
      "overlapping spans\n",
      "overlapping spans\n",
      "overlapping spans\n",
      "overlapping spans\n",
      "overlapping spans\n",
      "overlapping spans\n",
      "overlapping spans\n",
      "overlapping spans\n",
      "overlapping spans\n",
      "overlapping spans\n",
      "overlapping spans\n",
      "overlapping spans\n",
      "overlapping spans\n",
      "overlapping spans\n",
      "overlapping spans\n",
      "overlapping spans\n",
      "overlapping spans\n",
      "overlapping spans\n",
      "overlapping spans\n",
      "overlapping spans\n",
      "overlapping spans\n",
      "overlapping spans\n",
      "overlapping spans\n",
      "overlapping spans\n",
      "overlapping spans\n",
      "overlapping spans\n",
      "overlapping spans\n",
      "overlapping spans\n",
      "overlapping spans\n",
      "overlapping spans\n",
      "overlapping spans\n",
      "overlapping spans\n",
      "overlapping spans\n",
      "overlapping spans\n",
      "overlapping spans\n",
      "overlapping spans\n",
      "overlapping spans\n",
      "overlapping spans\n",
      "overlapping spans\n",
      "overlapping spans\n",
      "overlapping spans\n",
      "overlapping spans\n",
      "overlapping spans\n",
      "overlapping spans\n",
      "overlapping spans\n",
      "overlapping spans\n",
      "overlapping spans\n",
      "overlapping spans\n",
      "overlapping spans\n",
      "overlapping spans\n",
      "overlapping spans\n",
      "overlapping spans\n",
      "overlapping spans\n",
      "overlapping spans\n",
      "overlapping spans\n",
      "overlapping spans\n",
      "overlapping spans\n",
      "overlapping spans\n",
      "overlapping spans\n",
      "overlapping spans\n",
      "overlapping spans\n",
      "overlapping spans\n",
      "overlapping spans\n",
      "overlapping spans\n",
      "overlapping spans\n",
      "overlapping spans\n",
      "overlapping spans\n",
      "overlapping spans\n",
      "overlapping spans\n",
      "overlapping spans\n",
      "overlapping spans\n",
      "overlapping spans\n",
      "overlapping spans\n",
      "overlapping spans\n",
      "overlapping spans\n",
      "overlapping spans\n",
      "overlapping spans\n",
      "overlapping spans\n",
      "overlapping spans\n",
      "overlapping spans\n",
      "overlapping spans\n",
      "overlapping spans\n",
      "overlapping spans\n",
      "overlapping spans\n",
      "overlapping spans\n",
      "overlapping spans\n",
      "overlapping spans\n",
      "overlapping spans\n",
      "overlapping spans\n",
      "overlapping spans\n",
      "overlapping spans\n",
      "overlapping spans\n",
      "overlapping spans\n",
      "overlapping spans\n",
      "overlapping spans\n",
      "overlapping spans\n",
      "overlapping spans\n",
      "overlapping spans\n",
      "overlapping spans\n",
      "overlapping spans\n",
      "overlapping spans\n",
      "overlapping spans\n",
      "overlapping spans\n",
      "overlapping spans\n",
      "overlapping spans\n",
      "overlapping spans\n",
      "overlapping spans\n",
      "overlapping spans\n",
      "overlapping spans\n",
      "overlapping spans\n",
      "overlapping spans\n",
      "overlapping spans\n",
      "overlapping spans\n",
      "overlapping spans\n",
      "overlapping spans\n",
      "overlapping spans\n",
      "overlapping spans\n",
      "overlapping spans\n",
      "overlapping spans\n",
      "overlapping spans\n",
      "overlapping spans\n",
      "overlapping spans\n",
      "overlapping spans\n",
      "overlapping spans\n",
      "overlapping spans\n",
      "overlapping spans\n",
      "overlapping spans\n",
      "overlapping spans\n",
      "overlapping spans\n",
      "overlapping spans\n",
      "overlapping spans\n",
      "overlapping spans\n",
      "overlapping spans\n",
      "overlapping spans\n",
      "overlapping spans\n",
      "overlapping spans\n",
      "overlapping spans\n",
      "overlapping spans\n",
      "overlapping spans\n",
      "overlapping spans\n",
      "overlapping spans\n",
      "overlapping spans\n",
      "overlapping spans\n",
      "overlapping spans\n",
      "overlapping spans\n",
      "overlapping spans\n",
      "overlapping spans\n",
      "overlapping spans\n",
      "overlapping spans\n",
      "overlapping spans\n",
      "overlapping spans\n",
      "overlapping spans\n",
      "overlapping spans\n",
      "overlapping spans\n",
      "overlapping spans\n",
      "overlapping spans\n",
      "overlapping spans\n",
      "overlapping spans\n",
      "overlapping spans\n",
      "overlapping spans\n",
      "overlapping spans\n",
      "overlapping spans\n",
      "overlapping spans\n",
      "overlapping spans\n",
      "overlapping spans\n",
      "overlapping spans\n",
      "overlapping spans\n",
      "overlapping spans\n",
      "overlapping spans\n",
      "overlapping spans\n",
      "overlapping spans\n",
      "overlapping spans\n",
      "overlapping spans\n",
      "overlapping spans\n",
      "overlapping spans\n",
      "overlapping spans\n",
      "overlapping spans\n",
      "overlapping spans\n",
      "overlapping spans\n",
      "overlapping spans\n",
      "overlapping spans\n",
      "overlapping spans\n",
      "overlapping spans\n",
      "overlapping spans\n",
      "overlapping spans\n",
      "overlapping spans\n",
      "overlapping spans\n",
      "overlapping spans\n",
      "overlapping spans\n",
      "overlapping spans\n",
      "overlapping spans\n",
      "overlapping spans\n",
      "overlapping spans\n",
      "overlapping spans\n",
      "overlapping spans\n",
      "overlapping spans\n",
      "overlapping spans\n",
      "overlapping spans\n",
      "overlapping spans\n",
      "overlapping spans\n",
      "overlapping spans\n",
      "overlapping spans\n",
      "overlapping spans\n",
      "overlapping spans\n",
      "overlapping spans\n",
      "overlapping spans\n",
      "overlapping spans\n",
      "overlapping spans\n",
      "overlapping spans\n",
      "overlapping spans\n",
      "overlapping spans\n",
      "overlapping spans\n",
      "overlapping spans\n",
      "overlapping spans\n",
      "overlapping spans\n",
      "overlapping spans\n",
      "overlapping spans\n",
      "overlapping spans\n",
      "overlapping spans\n",
      "overlapping spans\n",
      "overlapping spans\n",
      "overlapping spans\n",
      "overlapping spans\n",
      "overlapping spans\n",
      "overlapping spans\n",
      "overlapping spans\n",
      "overlapping spans\n",
      "overlapping spans\n",
      "overlapping spans\n",
      "overlapping spans\n",
      "overlapping spans\n",
      "overlapping spans\n",
      "overlapping spans\n",
      "overlapping spans\n",
      "overlapping spans\n",
      "overlapping spans\n",
      "overlapping spans\n",
      "overlapping spans\n",
      "overlapping spans\n",
      "overlapping spans\n",
      "overlapping spans\n",
      "overlapping spans\n",
      "overlapping spans\n",
      "overlapping spans\n",
      "overlapping spans\n",
      "overlapping spans\n",
      "overlapping spans\n",
      "overlapping spans\n",
      "overlapping spans\n",
      "overlapping spans\n",
      "overlapping spans\n",
      "overlapping spans\n",
      "overlapping spans\n",
      "overlapping spans\n",
      "overlapping spans\n",
      "overlapping spans\n",
      "overlapping spans\n",
      "overlapping spans\n",
      "overlapping spans\n",
      "overlapping spans\n",
      "overlapping spans\n",
      "overlapping spans\n",
      "overlapping spans\n",
      "overlapping spans\n",
      "overlapping spans\n",
      "overlapping spans\n",
      "overlapping spans\n",
      "overlapping spans\n",
      "overlapping spans\n",
      "overlapping spans\n",
      "overlapping spans\n",
      "overlapping spans\n",
      "overlapping spans\n",
      "overlapping spans\n",
      "overlapping spans\n",
      "overlapping spans\n",
      "overlapping spans\n",
      "overlapping spans\n",
      "overlapping spans\n",
      "overlapping spans\n",
      "overlapping spans\n",
      "overlapping spans\n",
      "overlapping spans\n",
      "overlapping spans\n",
      "overlapping spans\n",
      "overlapping spans\n",
      "overlapping spans\n",
      "overlapping spans\n",
      "overlapping spans\n",
      "overlapping spans\n",
      "overlapping spans\n",
      "overlapping spans\n",
      "overlapping spans\n",
      "overlapping spans\n",
      "overlapping spans\n",
      "overlapping spans\n",
      "overlapping spans\n",
      "overlapping spans\n",
      "overlapping spans\n",
      "overlapping spans\n",
      "overlapping spans\n",
      "overlapping spans\n",
      "overlapping spans\n",
      "overlapping spans\n",
      "overlapping spans\n",
      "overlapping spans\n",
      "overlapping spans\n",
      "overlapping spans\n",
      "overlapping spans\n",
      "overlapping spans\n",
      "overlapping spans\n",
      "overlapping spans\n",
      "overlapping spans\n",
      "overlapping spans\n",
      "overlapping spans\n",
      "overlapping spans\n",
      "overlapping spans\n",
      "overlapping spans\n",
      "overlapping spans\n",
      "overlapping spans\n",
      "overlapping spans\n",
      "overlapping spans\n",
      "overlapping spans\n",
      "overlapping spans\n",
      "overlapping spans\n",
      "overlapping spans\n",
      "overlapping spans\n",
      "overlapping spans\n",
      "overlapping spans\n",
      "overlapping spans\n",
      "overlapping spans\n",
      "overlapping spans\n",
      "overlapping spans\n",
      "overlapping spans\n",
      "overlapping spans\n",
      "overlapping spans\n",
      "overlapping spans\n",
      "overlapping spans\n",
      "overlapping spans\n",
      "overlapping spans\n",
      "overlapping spans\n",
      "overlapping spans\n",
      "overlapping spans\n",
      "overlapping spans\n",
      "overlapping spans\n",
      "overlapping spans\n",
      "overlapping spans\n",
      "overlapping spans\n",
      "overlapping spans\n",
      "overlapping spans\n",
      "overlapping spans\n",
      "overlapping spans\n",
      "overlapping spans\n",
      "overlapping spans\n",
      "overlapping spans\n",
      "overlapping spans\n",
      "overlapping spans\n",
      "overlapping spans\n",
      "overlapping spans\n",
      "overlapping spans\n",
      "overlapping spans\n",
      "overlapping spans\n",
      "overlapping spans\n",
      "overlapping spans\n",
      "overlapping spans\n",
      "overlapping spans\n",
      "overlapping spans\n",
      "overlapping spans\n",
      "overlapping spans\n",
      "overlapping spans\n",
      "overlapping spans\n",
      "overlapping spans\n",
      "overlapping spans\n",
      "overlapping spans\n",
      "overlapping spans\n",
      "overlapping spans\n",
      "overlapping spans\n",
      "overlapping spans\n"
     ]
    },
    {
     "name": "stdout",
     "output_type": "stream",
     "text": [
      "overlapping spans\n",
      "overlapping spans\n",
      "overlapping spans\n",
      "overlapping spans\n",
      "overlapping spans\n",
      "overlapping spans\n",
      "overlapping spans\n",
      "overlapping spans\n",
      "overlapping spans\n",
      "overlapping spans\n",
      "overlapping spans\n",
      "overlapping spans\n",
      "overlapping spans\n",
      "overlapping spans\n",
      "overlapping spans\n",
      "overlapping spans\n",
      "overlapping spans\n",
      "overlapping spans\n",
      "overlapping spans\n",
      "overlapping spans\n",
      "overlapping spans\n",
      "overlapping spans\n",
      "overlapping spans\n",
      "overlapping spans\n",
      "overlapping spans\n",
      "overlapping spans\n",
      "overlapping spans\n",
      "overlapping spans\n",
      "overlapping spans\n",
      "overlapping spans\n",
      "overlapping spans\n",
      "overlapping spans\n",
      "overlapping spans\n",
      "overlapping spans\n",
      "overlapping spans\n",
      "overlapping spans\n",
      "overlapping spans\n",
      "overlapping spans\n",
      "overlapping spans\n",
      "overlapping spans\n",
      "overlapping spans\n",
      "overlapping spans\n",
      "overlapping spans\n",
      "overlapping spans\n",
      "overlapping spans\n",
      "overlapping spans\n",
      "overlapping spans\n",
      "overlapping spans\n",
      "overlapping spans\n",
      "overlapping spans\n",
      "overlapping spans\n",
      "overlapping spans\n",
      "overlapping spans\n",
      "overlapping spans\n",
      "overlapping spans\n",
      "overlapping spans\n",
      "overlapping spans\n",
      "overlapping spans\n",
      "overlapping spans\n",
      "overlapping spans\n",
      "overlapping spans\n",
      "overlapping spans\n",
      "overlapping spans\n",
      "overlapping spans\n",
      "overlapping spans\n",
      "overlapping spans\n",
      "overlapping spans\n",
      "overlapping spans\n",
      "overlapping spans\n",
      "overlapping spans\n",
      "overlapping spans\n",
      "overlapping spans\n",
      "overlapping spans\n",
      "overlapping spans\n",
      "overlapping spans\n",
      "overlapping spans\n",
      "overlapping spans\n",
      "overlapping spans\n",
      "overlapping spans\n",
      "overlapping spans\n",
      "overlapping spans\n",
      "overlapping spans\n",
      "overlapping spans\n",
      "overlapping spans\n",
      "overlapping spans\n",
      "overlapping spans\n",
      "overlapping spans\n",
      "overlapping spans\n",
      "overlapping spans\n",
      "overlapping spans\n",
      "overlapping spans\n",
      "overlapping spans\n",
      "overlapping spans\n",
      "overlapping spans\n",
      "overlapping spans\n",
      "overlapping spans\n",
      "overlapping spans\n",
      "overlapping spans\n",
      "overlapping spans\n",
      "overlapping spans\n",
      "overlapping spans\n",
      "overlapping spans\n",
      "overlapping spans\n",
      "overlapping spans\n",
      "overlapping spans\n",
      "overlapping spans\n",
      "overlapping spans\n",
      "overlapping spans\n",
      "overlapping spans\n",
      "overlapping spans\n",
      "overlapping spans\n",
      "overlapping spans\n",
      "overlapping spans\n",
      "overlapping spans\n",
      "overlapping spans\n",
      "overlapping spans\n",
      "overlapping spans\n",
      "overlapping spans\n",
      "overlapping spans\n",
      "overlapping spans\n",
      "overlapping spans\n",
      "overlapping spans\n",
      "overlapping spans\n",
      "overlapping spans\n",
      "overlapping spans\n",
      "overlapping spans\n",
      "overlapping spans\n",
      "overlapping spans\n",
      "overlapping spans\n",
      "overlapping spans\n",
      "overlapping spans\n",
      "overlapping spans\n",
      "overlapping spans\n",
      "overlapping spans\n",
      "overlapping spans\n",
      "overlapping spans\n",
      "overlapping spans\n",
      "overlapping spans\n",
      "overlapping spans\n",
      "overlapping spans\n",
      "overlapping spans\n",
      "overlapping spans\n",
      "overlapping spans\n",
      "overlapping spans\n",
      "overlapping spans\n",
      "overlapping spans\n",
      "overlapping spans\n",
      "overlapping spans\n",
      "overlapping spans\n",
      "overlapping spans\n",
      "overlapping spans\n",
      "overlapping spans\n",
      "overlapping spans\n",
      "overlapping spans\n",
      "overlapping spans\n",
      "overlapping spans\n",
      "overlapping spans\n",
      "overlapping spans\n",
      "overlapping spans\n",
      "overlapping spans\n",
      "overlapping spans\n",
      "overlapping spans\n",
      "overlapping spans\n",
      "overlapping spans\n",
      "overlapping spans\n",
      "overlapping spans\n",
      "overlapping spans\n",
      "overlapping spans\n",
      "overlapping spans\n",
      "overlapping spans\n",
      "overlapping spans\n",
      "overlapping spans\n",
      "overlapping spans\n",
      "overlapping spans\n",
      "overlapping spans\n",
      "overlapping spans\n",
      "overlapping spans\n",
      "overlapping spans\n",
      "overlapping spans\n",
      "overlapping spans\n",
      "overlapping spans\n",
      "overlapping spans\n",
      "overlapping spans\n",
      "overlapping spans\n",
      "overlapping spans\n",
      "overlapping spans\n",
      "overlapping spans\n",
      "overlapping spans\n",
      "overlapping spans\n",
      "overlapping spans\n",
      "overlapping spans\n",
      "overlapping spans\n",
      "overlapping spans\n",
      "overlapping spans\n",
      "overlapping spans\n",
      "overlapping spans\n",
      "overlapping spans\n",
      "overlapping spans\n",
      "overlapping spans\n",
      "overlapping spans\n",
      "overlapping spans\n",
      "overlapping spans\n",
      "overlapping spans\n",
      "overlapping spans\n",
      "overlapping spans\n",
      "overlapping spans\n",
      "overlapping spans\n",
      "overlapping spans\n",
      "overlapping spans\n",
      "overlapping spans\n",
      "overlapping spans\n",
      "overlapping spans\n",
      "overlapping spans\n",
      "overlapping spans\n",
      "overlapping spans\n",
      "overlapping spans\n",
      "overlapping spans\n",
      "overlapping spans\n",
      "overlapping spans\n",
      "overlapping spans\n",
      "overlapping spans\n",
      "overlapping spans\n",
      "overlapping spans\n",
      "overlapping spans\n",
      "overlapping spans\n",
      "overlapping spans\n",
      "overlapping spans\n",
      "overlapping spans\n",
      "overlapping spans\n",
      "overlapping spans\n",
      "overlapping spans\n",
      "overlapping spans\n",
      "overlapping spans\n",
      "overlapping spans\n",
      "overlapping spans\n",
      "overlapping spans\n",
      "overlapping spans\n",
      "overlapping spans\n",
      "overlapping spans\n",
      "overlapping spans\n",
      "overlapping spans\n",
      "overlapping spans\n",
      "overlapping spans\n",
      "overlapping spans\n",
      "overlapping spans\n",
      "overlapping spans\n",
      "overlapping spans\n",
      "overlapping spans\n",
      "overlapping spans\n",
      "overlapping spans\n",
      "overlapping spans\n",
      "overlapping spans\n",
      "overlapping spans\n",
      "overlapping spans\n",
      "overlapping spans\n",
      "overlapping spans\n",
      "overlapping spans\n",
      "overlapping spans\n",
      "overlapping spans\n",
      "overlapping spans\n",
      "overlapping spans\n",
      "overlapping spans\n",
      "overlapping spans\n",
      "overlapping spans\n",
      "overlapping spans\n",
      "overlapping spans\n",
      "overlapping spans\n",
      "overlapping spans\n",
      "overlapping spans\n",
      "overlapping spans\n",
      "overlapping spans\n",
      "overlapping spans\n",
      "overlapping spans\n",
      "overlapping spans\n",
      "overlapping spans\n",
      "overlapping spans\n",
      "overlapping spans\n",
      "overlapping spans\n",
      "overlapping spans\n",
      "overlapping spans\n",
      "overlapping spans\n",
      "overlapping spans\n",
      "overlapping spans\n",
      "overlapping spans\n",
      "overlapping spans\n",
      "overlapping spans\n",
      "overlapping spans\n",
      "overlapping spans\n",
      "overlapping spans\n",
      "overlapping spans\n",
      "overlapping spans\n",
      "overlapping spans\n",
      "overlapping spans\n",
      "overlapping spans\n",
      "overlapping spans\n",
      "overlapping spans\n",
      "overlapping spans\n",
      "overlapping spans\n",
      "overlapping spans\n",
      "overlapping spans\n",
      "overlapping spans\n",
      "overlapping spans\n",
      "overlapping spans\n",
      "overlapping spans\n",
      "overlapping spans\n",
      "overlapping spans\n",
      "overlapping spans\n",
      "overlapping spans\n",
      "overlapping spans\n",
      "overlapping spans\n",
      "overlapping spans\n",
      "overlapping spans\n",
      "overlapping spans\n",
      "overlapping spans\n",
      "overlapping spans\n",
      "overlapping spans\n",
      "overlapping spans\n",
      "overlapping spans\n",
      "overlapping spans\n",
      "overlapping spans\n",
      "overlapping spans\n",
      "overlapping spans\n",
      "overlapping spans\n",
      "overlapping spans\n",
      "overlapping spans\n",
      "overlapping spans\n",
      "overlapping spans\n",
      "overlapping spans\n",
      "overlapping spans\n",
      "overlapping spans\n",
      "overlapping spans\n",
      "overlapping spans\n",
      "overlapping spans\n",
      "overlapping spans\n",
      "overlapping spans\n",
      "overlapping spans\n",
      "overlapping spans\n",
      "overlapping spans\n",
      "overlapping spans\n",
      "overlapping spans\n",
      "overlapping spans\n",
      "overlapping spans\n",
      "overlapping spans\n",
      "overlapping spans\n",
      "overlapping spans\n",
      "overlapping spans\n",
      "overlapping spans\n",
      "overlapping spans\n",
      "overlapping spans\n",
      "overlapping spans\n",
      "overlapping spans\n",
      "overlapping spans\n",
      "overlapping spans\n",
      "overlapping spans\n",
      "overlapping spans\n",
      "overlapping spans\n",
      "overlapping spans\n",
      "overlapping spans\n",
      "overlapping spans\n",
      "overlapping spans\n",
      "overlapping spans\n",
      "overlapping spans\n",
      "overlapping spans\n",
      "overlapping spans\n",
      "overlapping spans\n",
      "overlapping spans\n",
      "overlapping spans\n",
      "overlapping spans\n",
      "overlapping spans\n",
      "overlapping spans\n",
      "overlapping spans\n",
      "overlapping spans\n",
      "overlapping spans\n",
      "overlapping spans\n",
      "overlapping spans\n",
      "overlapping spans\n",
      "overlapping spans\n",
      "overlapping spans\n",
      "overlapping spans\n",
      "overlapping spans\n",
      "overlapping spans\n",
      "overlapping spans\n",
      "overlapping spans\n",
      "overlapping spans\n",
      "overlapping spans\n",
      "overlapping spans\n",
      "overlapping spans\n",
      "overlapping spans\n",
      "overlapping spans\n",
      "overlapping spans\n",
      "overlapping spans\n",
      "overlapping spans\n",
      "overlapping spans\n",
      "overlapping spans\n",
      "overlapping spans\n",
      "overlapping spans\n",
      "overlapping spans\n",
      "overlapping spans\n",
      "overlapping spans\n",
      "overlapping spans\n",
      "overlapping spans\n",
      "overlapping spans\n",
      "overlapping spans\n",
      "overlapping spans\n",
      "overlapping spans\n",
      "overlapping spans\n",
      "overlapping spans\n",
      "overlapping spans\n",
      "overlapping spans\n",
      "overlapping spans\n",
      "overlapping spans\n",
      "overlapping spans\n",
      "overlapping spans\n",
      "overlapping spans\n",
      "overlapping spans\n",
      "overlapping spans\n",
      "overlapping spans\n",
      "overlapping spans\n",
      "overlapping spans\n",
      "overlapping spans\n",
      "overlapping spans\n",
      "overlapping spans\n",
      "overlapping spans\n",
      "overlapping spans\n",
      "overlapping spans\n",
      "overlapping spans\n",
      "overlapping spans\n",
      "overlapping spans\n",
      "overlapping spans\n",
      "overlapping spans\n",
      "overlapping spans\n",
      "overlapping spans\n",
      "overlapping spans\n",
      "overlapping spans\n",
      "overlapping spans\n",
      "overlapping spans\n",
      "overlapping spans\n",
      "overlapping spans\n",
      "overlapping spans\n",
      "overlapping spans\n",
      "overlapping spans\n",
      "overlapping spans\n",
      "overlapping spans\n",
      "overlapping spans\n",
      "overlapping spans\n",
      "overlapping spans\n",
      "overlapping spans\n",
      "overlapping spans\n",
      "overlapping spans\n",
      "overlapping spans\n",
      "overlapping spans\n",
      "overlapping spans\n",
      "overlapping spans\n",
      "overlapping spans\n",
      "overlapping spans\n",
      "overlapping spans\n",
      "overlapping spans\n"
     ]
    },
    {
     "name": "stdout",
     "output_type": "stream",
     "text": [
      "overlapping spans\n",
      "overlapping spans\n",
      "overlapping spans\n",
      "overlapping spans\n",
      "overlapping spans\n",
      "overlapping spans\n",
      "overlapping spans\n",
      "overlapping spans\n",
      "overlapping spans\n",
      "overlapping spans\n",
      "overlapping spans\n",
      "overlapping spans\n",
      "overlapping spans\n",
      "overlapping spans\n",
      "overlapping spans\n",
      "overlapping spans\n",
      "overlapping spans\n",
      "overlapping spans\n",
      "overlapping spans\n",
      "overlapping spans\n",
      "overlapping spans\n",
      "overlapping spans\n",
      "overlapping spans\n",
      "overlapping spans\n",
      "overlapping spans\n",
      "overlapping spans\n",
      "overlapping spans\n",
      "overlapping spans\n",
      "overlapping spans\n",
      "overlapping spans\n",
      "overlapping spans\n",
      "overlapping spans\n",
      "overlapping spans\n",
      "overlapping spans\n",
      "overlapping spans\n",
      "overlapping spans\n",
      "overlapping spans\n",
      "overlapping spans\n",
      "overlapping spans\n",
      "overlapping spans\n",
      "overlapping spans\n",
      "overlapping spans\n",
      "overlapping spans\n",
      "overlapping spans\n",
      "overlapping spans\n",
      "overlapping spans\n",
      "overlapping spans\n",
      "overlapping spans\n",
      "overlapping spans\n",
      "overlapping spans\n",
      "overlapping spans\n",
      "overlapping spans\n",
      "overlapping spans\n",
      "overlapping spans\n",
      "overlapping spans\n",
      "overlapping spans\n",
      "overlapping spans\n",
      "overlapping spans\n",
      "overlapping spans\n",
      "overlapping spans\n",
      "overlapping spans\n",
      "overlapping spans\n",
      "overlapping spans\n",
      "overlapping spans\n",
      "overlapping spans\n",
      "overlapping spans\n",
      "overlapping spans\n",
      "overlapping spans\n",
      "overlapping spans\n",
      "overlapping spans\n",
      "overlapping spans\n",
      "overlapping spans\n",
      "overlapping spans\n",
      "overlapping spans\n",
      "overlapping spans\n",
      "overlapping spans\n",
      "overlapping spans\n",
      "overlapping spans\n",
      "overlapping spans\n",
      "overlapping spans\n",
      "overlapping spans\n",
      "overlapping spans\n",
      "overlapping spans\n",
      "overlapping spans\n",
      "overlapping spans\n",
      "overlapping spans\n",
      "overlapping spans\n",
      "overlapping spans\n",
      "overlapping spans\n",
      "overlapping spans\n",
      "overlapping spans\n",
      "overlapping spans\n",
      "overlapping spans\n",
      "overlapping spans\n",
      "overlapping spans\n",
      "overlapping spans\n",
      "overlapping spans\n",
      "overlapping spans\n",
      "overlapping spans\n",
      "overlapping spans\n",
      "overlapping spans\n",
      "overlapping spans\n",
      "overlapping spans\n",
      "overlapping spans\n",
      "overlapping spans\n",
      "overlapping spans\n",
      "overlapping spans\n",
      "overlapping spans\n",
      "overlapping spans\n",
      "overlapping spans\n",
      "overlapping spans\n",
      "overlapping spans\n",
      "overlapping spans\n",
      "overlapping spans\n",
      "overlapping spans\n",
      "overlapping spans\n",
      "overlapping spans\n",
      "overlapping spans\n",
      "overlapping spans\n",
      "overlapping spans\n",
      "overlapping spans\n",
      "overlapping spans\n",
      "overlapping spans\n",
      "overlapping spans\n",
      "overlapping spans\n",
      "overlapping spans\n",
      "overlapping spans\n",
      "overlapping spans\n",
      "overlapping spans\n",
      "overlapping spans\n",
      "overlapping spans\n",
      "overlapping spans\n",
      "overlapping spans\n",
      "overlapping spans\n",
      "overlapping spans\n",
      "overlapping spans\n",
      "overlapping spans\n",
      "overlapping spans\n",
      "overlapping spans\n",
      "overlapping spans\n",
      "overlapping spans\n",
      "overlapping spans\n",
      "overlapping spans\n",
      "overlapping spans\n",
      "overlapping spans\n",
      "overlapping spans\n",
      "overlapping spans\n",
      "overlapping spans\n",
      "overlapping spans\n",
      "overlapping spans\n",
      "overlapping spans\n",
      "overlapping spans\n",
      "overlapping spans\n",
      "overlapping spans\n",
      "overlapping spans\n",
      "overlapping spans\n",
      "overlapping spans\n",
      "overlapping spans\n",
      "overlapping spans\n",
      "overlapping spans\n",
      "overlapping spans\n",
      "overlapping spans\n",
      "overlapping spans\n",
      "overlapping spans\n",
      "overlapping spans\n",
      "overlapping spans\n",
      "overlapping spans\n",
      "overlapping spans\n",
      "overlapping spans\n",
      "overlapping spans\n",
      "overlapping spans\n",
      "overlapping spans\n",
      "overlapping spans\n",
      "overlapping spans\n",
      "overlapping spans\n",
      "overlapping spans\n",
      "overlapping spans\n",
      "overlapping spans\n",
      "overlapping spans\n",
      "overlapping spans\n",
      "overlapping spans\n",
      "overlapping spans\n",
      "overlapping spans\n",
      "overlapping spans\n",
      "overlapping spans\n",
      "overlapping spans\n",
      "overlapping spans\n",
      "overlapping spans\n",
      "overlapping spans\n",
      "overlapping spans\n",
      "overlapping spans\n",
      "overlapping spans\n",
      "overlapping spans\n",
      "overlapping spans\n",
      "overlapping spans\n",
      "overlapping spans\n",
      "overlapping spans\n",
      "overlapping spans\n",
      "overlapping spans\n",
      "overlapping spans\n",
      "overlapping spans\n",
      "overlapping spans\n",
      "overlapping spans\n",
      "overlapping spans\n",
      "overlapping spans\n",
      "overlapping spans\n",
      "overlapping spans\n",
      "overlapping spans\n",
      "overlapping spans\n",
      "overlapping spans\n",
      "overlapping spans\n",
      "overlapping spans\n",
      "overlapping spans\n",
      "overlapping spans\n",
      "overlapping spans\n",
      "overlapping spans\n",
      "overlapping spans\n",
      "overlapping spans\n",
      "overlapping spans\n",
      "overlapping spans\n",
      "overlapping spans\n",
      "overlapping spans\n",
      "overlapping spans\n",
      "overlapping spans\n",
      "overlapping spans\n",
      "overlapping spans\n",
      "overlapping spans\n",
      "overlapping spans\n",
      "overlapping spans\n",
      "overlapping spans\n",
      "overlapping spans\n",
      "overlapping spans\n",
      "overlapping spans\n",
      "overlapping spans\n",
      "overlapping spans\n",
      "overlapping spans\n",
      "overlapping spans\n",
      "overlapping spans\n",
      "overlapping spans\n",
      "overlapping spans\n",
      "overlapping spans\n",
      "overlapping spans\n",
      "overlapping spans\n",
      "overlapping spans\n",
      "overlapping spans\n",
      "overlapping spans\n",
      "overlapping spans\n",
      "overlapping spans\n",
      "overlapping spans\n",
      "overlapping spans\n",
      "overlapping spans\n",
      "overlapping spans\n",
      "overlapping spans\n",
      "overlapping spans\n",
      "overlapping spans\n",
      "overlapping spans\n",
      "overlapping spans\n",
      "overlapping spans\n",
      "overlapping spans\n",
      "overlapping spans\n",
      "overlapping spans\n",
      "overlapping spans\n",
      "overlapping spans\n",
      "overlapping spans\n",
      "overlapping spans\n",
      "overlapping spans\n",
      "overlapping spans\n",
      "overlapping spans\n",
      "overlapping spans\n",
      "overlapping spans\n",
      "overlapping spans\n",
      "overlapping spans\n",
      "overlapping spans\n",
      "overlapping spans\n",
      "overlapping spans\n",
      "overlapping spans\n",
      "overlapping spans\n",
      "overlapping spans\n",
      "overlapping spans\n",
      "overlapping spans\n",
      "overlapping spans\n",
      "overlapping spans\n",
      "overlapping spans\n",
      "overlapping spans\n",
      "overlapping spans\n",
      "overlapping spans\n",
      "overlapping spans\n",
      "overlapping spans\n",
      "overlapping spans\n",
      "overlapping spans\n",
      "overlapping spans\n",
      "overlapping spans\n",
      "overlapping spans\n",
      "overlapping spans\n",
      "overlapping spans\n",
      "overlapping spans\n",
      "overlapping spans\n",
      "overlapping spans\n",
      "overlapping spans\n",
      "overlapping spans\n",
      "overlapping spans\n",
      "overlapping spans\n",
      "overlapping spans\n",
      "overlapping spans\n",
      "overlapping spans\n",
      "overlapping spans\n",
      "overlapping spans\n",
      "overlapping spans\n",
      "overlapping spans\n",
      "overlapping spans\n",
      "overlapping spans\n",
      "overlapping spans\n",
      "overlapping spans\n",
      "overlapping spans\n",
      "overlapping spans\n",
      "overlapping spans\n",
      "overlapping spans\n",
      "overlapping spans\n",
      "overlapping spans\n",
      "overlapping spans\n",
      "overlapping spans\n",
      "overlapping spans\n",
      "overlapping spans\n",
      "overlapping spans\n",
      "overlapping spans\n",
      "overlapping spans\n",
      "overlapping spans\n",
      "overlapping spans\n",
      "overlapping spans\n",
      "overlapping spans\n",
      "overlapping spans\n",
      "overlapping spans\n",
      "overlapping spans\n",
      "overlapping spans\n",
      "overlapping spans\n",
      "overlapping spans\n",
      "overlapping spans\n",
      "overlapping spans\n",
      "overlapping spans\n",
      "overlapping spans\n",
      "overlapping spans\n",
      "overlapping spans\n",
      "overlapping spans\n",
      "overlapping spans\n",
      "overlapping spans\n",
      "overlapping spans\n",
      "overlapping spans\n",
      "overlapping spans\n",
      "overlapping spans\n",
      "overlapping spans\n",
      "overlapping spans\n",
      "overlapping spans\n",
      "overlapping spans\n",
      "overlapping spans\n",
      "overlapping spans\n",
      "overlapping spans\n",
      "overlapping spans\n",
      "overlapping spans\n",
      "overlapping spans\n",
      "overlapping spans\n",
      "overlapping spans\n",
      "overlapping spans\n",
      "overlapping spans\n",
      "overlapping spans\n",
      "overlapping spans\n",
      "overlapping spans\n",
      "overlapping spans\n",
      "overlapping spans\n",
      "overlapping spans\n",
      "overlapping spans\n",
      "overlapping spans\n",
      "overlapping spans\n",
      "overlapping spans\n",
      "overlapping spans\n",
      "overlapping spans\n",
      "overlapping spans\n",
      "overlapping spans\n",
      "overlapping spans\n",
      "overlapping spans\n",
      "overlapping spans\n",
      "overlapping spans\n",
      "overlapping spans\n",
      "overlapping spans\n",
      "overlapping spans\n",
      "overlapping spans\n",
      "overlapping spans\n",
      "overlapping spans\n",
      "overlapping spans\n",
      "overlapping spans\n",
      "overlapping spans\n",
      "overlapping spans\n",
      "overlapping spans\n",
      "overlapping spans\n",
      "overlapping spans\n",
      "overlapping spans\n",
      "overlapping spans\n",
      "overlapping spans\n",
      "overlapping spans\n",
      "overlapping spans\n",
      "overlapping spans\n",
      "overlapping spans\n",
      "overlapping spans\n",
      "overlapping spans\n",
      "overlapping spans\n",
      "overlapping spans\n",
      "overlapping spans\n",
      "overlapping spans\n",
      "overlapping spans\n",
      "overlapping spans\n",
      "overlapping spans\n",
      "overlapping spans\n",
      "overlapping spans\n",
      "overlapping spans\n",
      "overlapping spans\n",
      "overlapping spans\n",
      "overlapping spans\n",
      "overlapping spans\n",
      "overlapping spans\n",
      "overlapping spans\n",
      "overlapping spans\n",
      "overlapping spans\n",
      "overlapping spans\n",
      "overlapping spans\n",
      "overlapping spans\n",
      "overlapping spans\n",
      "overlapping spans\n",
      "overlapping spans\n",
      "overlapping spans\n",
      "overlapping spans\n",
      "overlapping spans\n",
      "overlapping spans\n",
      "overlapping spans\n",
      "overlapping spans\n",
      "overlapping spans\n",
      "overlapping spans\n",
      "overlapping spans\n",
      "overlapping spans\n",
      "overlapping spans\n",
      "overlapping spans\n",
      "overlapping spans\n",
      "overlapping spans\n",
      "overlapping spans\n",
      "overlapping spans\n",
      "overlapping spans\n",
      "overlapping spans\n",
      "overlapping spans\n",
      "overlapping spans\n",
      "overlapping spans\n",
      "overlapping spans\n",
      "overlapping spans\n",
      "overlapping spans\n",
      "overlapping spans\n",
      "overlapping spans\n",
      "overlapping spans\n",
      "overlapping spans\n",
      "overlapping spans\n",
      "overlapping spans\n",
      "overlapping spans\n",
      "overlapping spans\n",
      "overlapping spans\n",
      "overlapping spans\n",
      "overlapping spans\n",
      "overlapping spans\n",
      "overlapping spans\n",
      "overlapping spans\n",
      "overlapping spans\n"
     ]
    },
    {
     "name": "stdout",
     "output_type": "stream",
     "text": [
      "overlapping spans\n",
      "overlapping spans\n",
      "overlapping spans\n",
      "overlapping spans\n",
      "overlapping spans\n",
      "overlapping spans\n",
      "overlapping spans\n",
      "overlapping spans\n",
      "overlapping spans\n",
      "overlapping spans\n",
      "overlapping spans\n",
      "overlapping spans\n",
      "overlapping spans\n",
      "overlapping spans\n",
      "overlapping spans\n",
      "overlapping spans\n",
      "overlapping spans\n",
      "overlapping spans\n",
      "overlapping spans\n",
      "overlapping spans\n",
      "overlapping spans\n",
      "overlapping spans\n",
      "overlapping spans\n",
      "overlapping spans\n",
      "overlapping spans\n",
      "overlapping spans\n",
      "overlapping spans\n",
      "overlapping spans\n",
      "overlapping spans\n",
      "overlapping spans\n",
      "overlapping spans\n",
      "overlapping spans\n",
      "overlapping spans\n",
      "overlapping spans\n",
      "overlapping spans\n",
      "overlapping spans\n",
      "overlapping spans\n",
      "overlapping spans\n",
      "overlapping spans\n",
      "overlapping spans\n",
      "overlapping spans\n",
      "overlapping spans\n",
      "overlapping spans\n",
      "overlapping spans\n",
      "overlapping spans\n",
      "overlapping spans\n",
      "overlapping spans\n",
      "overlapping spans\n",
      "overlapping spans\n",
      "overlapping spans\n",
      "overlapping spans\n",
      "overlapping spans\n",
      "overlapping spans\n",
      "overlapping spans\n",
      "overlapping spans\n",
      "overlapping spans\n",
      "overlapping spans\n",
      "overlapping spans\n",
      "overlapping spans\n",
      "overlapping spans\n",
      "overlapping spans\n",
      "overlapping spans\n",
      "overlapping spans\n",
      "overlapping spans\n",
      "overlapping spans\n",
      "overlapping spans\n",
      "overlapping spans\n",
      "overlapping spans\n",
      "overlapping spans\n",
      "overlapping spans\n",
      "overlapping spans\n",
      "overlapping spans\n",
      "overlapping spans\n",
      "overlapping spans\n",
      "overlapping spans\n",
      "overlapping spans\n",
      "overlapping spans\n",
      "overlapping spans\n",
      "overlapping spans\n",
      "overlapping spans\n",
      "overlapping spans\n",
      "overlapping spans\n",
      "overlapping spans\n",
      "overlapping spans\n",
      "overlapping spans\n",
      "overlapping spans\n",
      "overlapping spans\n",
      "overlapping spans\n",
      "overlapping spans\n",
      "overlapping spans\n",
      "overlapping spans\n",
      "overlapping spans\n",
      "overlapping spans\n",
      "overlapping spans\n",
      "overlapping spans\n",
      "overlapping spans\n",
      "overlapping spans\n",
      "overlapping spans\n",
      "overlapping spans\n",
      "overlapping spans\n",
      "overlapping spans\n",
      "overlapping spans\n",
      "overlapping spans\n",
      "overlapping spans\n",
      "overlapping spans\n",
      "overlapping spans\n",
      "overlapping spans\n",
      "overlapping spans\n",
      "overlapping spans\n",
      "overlapping spans\n",
      "overlapping spans\n",
      "overlapping spans\n",
      "overlapping spans\n",
      "overlapping spans\n",
      "overlapping spans\n",
      "overlapping spans\n",
      "overlapping spans\n",
      "overlapping spans\n",
      "overlapping spans\n",
      "overlapping spans\n",
      "overlapping spans\n",
      "overlapping spans\n",
      "overlapping spans\n",
      "overlapping spans\n",
      "overlapping spans\n",
      "overlapping spans\n",
      "overlapping spans\n",
      "overlapping spans\n",
      "overlapping spans\n",
      "overlapping spans\n",
      "overlapping spans\n",
      "overlapping spans\n",
      "overlapping spans\n",
      "overlapping spans\n",
      "overlapping spans\n",
      "overlapping spans\n",
      "overlapping spans\n",
      "overlapping spans\n",
      "overlapping spans\n",
      "overlapping spans\n",
      "overlapping spans\n",
      "overlapping spans\n",
      "overlapping spans\n",
      "overlapping spans\n",
      "overlapping spans\n",
      "overlapping spans\n",
      "overlapping spans\n",
      "overlapping spans\n",
      "overlapping spans\n",
      "overlapping spans\n",
      "overlapping spans\n",
      "overlapping spans\n",
      "overlapping spans\n",
      "overlapping spans\n",
      "overlapping spans\n",
      "overlapping spans\n",
      "overlapping spans\n",
      "overlapping spans\n",
      "overlapping spans\n",
      "overlapping spans\n",
      "overlapping spans\n",
      "overlapping spans\n",
      "overlapping spans\n",
      "overlapping spans\n",
      "overlapping spans\n",
      "overlapping spans\n",
      "overlapping spans\n",
      "overlapping spans\n",
      "overlapping spans\n",
      "overlapping spans\n",
      "overlapping spans\n",
      "overlapping spans\n",
      "overlapping spans\n",
      "overlapping spans\n",
      "overlapping spans\n",
      "overlapping spans\n",
      "overlapping spans\n",
      "overlapping spans\n",
      "overlapping spans\n",
      "overlapping spans\n",
      "overlapping spans\n",
      "overlapping spans\n",
      "overlapping spans\n",
      "overlapping spans\n",
      "overlapping spans\n",
      "overlapping spans\n",
      "overlapping spans\n",
      "overlapping spans\n",
      "overlapping spans\n",
      "overlapping spans\n",
      "overlapping spans\n",
      "overlapping spans\n",
      "overlapping spans\n",
      "overlapping spans\n",
      "overlapping spans\n",
      "overlapping spans\n",
      "overlapping spans\n",
      "overlapping spans\n",
      "overlapping spans\n",
      "overlapping spans\n",
      "overlapping spans\n",
      "overlapping spans\n",
      "overlapping spans\n",
      "overlapping spans\n",
      "overlapping spans\n",
      "overlapping spans\n",
      "overlapping spans\n",
      "overlapping spans\n",
      "overlapping spans\n",
      "overlapping spans\n",
      "overlapping spans\n",
      "overlapping spans\n",
      "overlapping spans\n",
      "overlapping spans\n",
      "overlapping spans\n",
      "overlapping spans\n",
      "overlapping spans\n",
      "overlapping spans\n",
      "overlapping spans\n",
      "overlapping spans\n",
      "overlapping spans\n",
      "overlapping spans\n",
      "overlapping spans\n",
      "overlapping spans\n",
      "overlapping spans\n",
      "overlapping spans\n",
      "overlapping spans\n",
      "overlapping spans\n",
      "overlapping spans\n",
      "overlapping spans\n",
      "overlapping spans\n",
      "overlapping spans\n",
      "overlapping spans\n",
      "overlapping spans\n",
      "overlapping spans\n",
      "overlapping spans\n",
      "overlapping spans\n",
      "overlapping spans\n",
      "overlapping spans\n",
      "overlapping spans\n",
      "overlapping spans\n",
      "overlapping spans\n",
      "overlapping spans\n",
      "overlapping spans\n",
      "overlapping spans\n",
      "overlapping spans\n",
      "overlapping spans\n",
      "overlapping spans\n",
      "overlapping spans\n",
      "overlapping spans\n",
      "overlapping spans\n",
      "overlapping spans\n",
      "overlapping spans\n",
      "overlapping spans\n",
      "overlapping spans\n",
      "overlapping spans\n",
      "overlapping spans\n",
      "overlapping spans\n",
      "overlapping spans\n",
      "overlapping spans\n",
      "overlapping spans\n",
      "overlapping spans\n",
      "overlapping spans\n",
      "overlapping spans\n",
      "overlapping spans\n",
      "overlapping spans\n",
      "overlapping spans\n",
      "overlapping spans\n",
      "overlapping spans\n",
      "overlapping spans\n",
      "overlapping spans\n",
      "overlapping spans\n",
      "overlapping spans\n",
      "overlapping spans\n",
      "overlapping spans\n",
      "overlapping spans\n",
      "overlapping spans\n",
      "overlapping spans\n",
      "overlapping spans\n",
      "overlapping spans\n",
      "overlapping spans\n",
      "overlapping spans\n",
      "overlapping spans\n",
      "overlapping spans\n",
      "overlapping spans\n",
      "overlapping spans\n",
      "overlapping spans\n",
      "\n"
     ]
    }
   ],
   "source": [
    "h_concept = 'benefits'\n",
    "t_concept = 'compensation'\n",
    "\n",
    "_res = mine_patterns_between_entities(corpus=sent_dicts,\n",
    "                                   h_instances=instances_dict[h_concept],\n",
    "                                   t_instances=instances_dict[t_concept],\n",
    "                                   seed_relations_df=seed_relations_df,\n",
    "                                   nlp=nlp_full)"
   ]
  },
  {
   "cell_type": "code",
   "execution_count": 246,
   "metadata": {},
   "outputs": [
    {
     "data": {
      "text/plain": [
       "dict_keys(['<tgt> <src> <src>', '<src> <src> <tgt> <tgt>', '<src> <src> <tgt>', '<src> <tgt>', '<src> 401k <tgt>', '<tgt> <src>', 'health dental vision accident <tgt> <src> insurance', '<src> care <tgt>', '<src> dental <tgt>', '<src> vision <tgt>', '<tgt> <src> insurance', '<src> dental vision <tgt>', 'dental <src> <tgt>', '<src> dental vision accident <tgt>', '<src> <tgt> <tgt>', '<tgt> <tgt> <src>', '<tgt> insurance <src> <src>', 'health dental vision accident <tgt> <src> <src>', '<tgt> and <src>', '<tgt> , <src>', '<tgt> <src> match', '<src> plan <tgt>'])"
      ]
     },
     "execution_count": 246,
     "metadata": {},
     "output_type": "execute_result"
    }
   ],
   "source": [
    "_res.keys()"
   ]
  },
  {
   "cell_type": "code",
   "execution_count": 247,
   "metadata": {},
   "outputs": [
    {
     "data": {
      "application/vnd.jupyter.widget-view+json": {
       "model_id": "9843d9ad9f2e4732b95efcfbbcb01872",
       "version_major": 2,
       "version_minor": 0
      },
      "text/plain": [
       "HBox(children=(FloatProgress(value=0.0, max=400.0), HTML(value='')))"
      ]
     },
     "metadata": {},
     "output_type": "display_data"
    },
    {
     "name": "stdout",
     "output_type": "stream",
     "text": [
      "overlapping spans\n",
      "overlapping spans\n",
      "overlapping spans\n",
      "overlapping spans\n",
      "overlapping spans\n",
      "overlapping spans\n",
      "overlapping spans\n",
      "overlapping spans\n",
      "overlapping spans\n",
      "overlapping spans\n",
      "overlapping spans\n",
      "overlapping spans\n",
      "overlapping spans\n",
      "overlapping spans\n",
      "overlapping spans\n",
      "overlapping spans\n",
      "overlapping spans\n",
      "overlapping spans\n",
      "overlapping spans\n",
      "overlapping spans\n",
      "overlapping spans\n",
      "overlapping spans\n",
      "overlapping spans\n",
      "overlapping spans\n",
      "overlapping spans\n",
      "overlapping spans\n",
      "overlapping spans\n",
      "overlapping spans\n",
      "overlapping spans\n",
      "overlapping spans\n",
      "overlapping spans\n",
      "overlapping spans\n",
      "overlapping spans\n",
      "overlapping spans\n",
      "overlapping spans\n",
      "overlapping spans\n",
      "overlapping spans\n",
      "overlapping spans\n",
      "overlapping spans\n",
      "overlapping spans\n",
      "overlapping spans\n",
      "overlapping spans\n",
      "overlapping spans\n",
      "overlapping spans\n",
      "overlapping spans\n",
      "overlapping spans\n",
      "overlapping spans\n",
      "overlapping spans\n",
      "overlapping spans\n",
      "overlapping spans\n",
      "overlapping spans\n",
      "overlapping spans\n",
      "overlapping spans\n",
      "overlapping spans\n",
      "overlapping spans\n",
      "overlapping spans\n",
      "overlapping spans\n",
      "overlapping spans\n",
      "overlapping spans\n",
      "overlapping spans\n",
      "overlapping spans\n",
      "overlapping spans\n",
      "overlapping spans\n",
      "overlapping spans\n",
      "overlapping spans\n",
      "overlapping spans\n",
      "overlapping spans\n",
      "overlapping spans\n",
      "overlapping spans\n",
      "overlapping spans\n",
      "overlapping spans\n",
      "overlapping spans\n",
      "overlapping spans\n",
      "overlapping spans\n",
      "overlapping spans\n",
      "overlapping spans\n",
      "overlapping spans\n",
      "overlapping spans\n",
      "overlapping spans\n",
      "overlapping spans\n",
      "overlapping spans\n",
      "overlapping spans\n",
      "overlapping spans\n",
      "overlapping spans\n",
      "overlapping spans\n",
      "overlapping spans\n",
      "overlapping spans\n",
      "overlapping spans\n",
      "overlapping spans\n",
      "overlapping spans\n",
      "overlapping spans\n",
      "overlapping spans\n",
      "overlapping spans\n",
      "overlapping spans\n",
      "overlapping spans\n",
      "overlapping spans\n",
      "overlapping spans\n",
      "overlapping spans\n",
      "overlapping spans\n",
      "overlapping spans\n",
      "overlapping spans\n",
      "overlapping spans\n",
      "overlapping spans\n",
      "overlapping spans\n",
      "overlapping spans\n",
      "overlapping spans\n",
      "overlapping spans\n",
      "overlapping spans\n",
      "overlapping spans\n",
      "overlapping spans\n",
      "overlapping spans\n",
      "overlapping spans\n",
      "overlapping spans\n",
      "overlapping spans\n",
      "overlapping spans\n",
      "overlapping spans\n",
      "overlapping spans\n",
      "overlapping spans\n",
      "overlapping spans\n",
      "overlapping spans\n",
      "overlapping spans\n",
      "overlapping spans\n",
      "overlapping spans\n",
      "overlapping spans\n",
      "overlapping spans\n",
      "overlapping spans\n",
      "overlapping spans\n",
      "overlapping spans\n",
      "overlapping spans\n",
      "overlapping spans\n",
      "overlapping spans\n",
      "overlapping spans\n",
      "overlapping spans\n",
      "overlapping spans\n",
      "overlapping spans\n",
      "overlapping spans\n",
      "overlapping spans\n",
      "overlapping spans\n",
      "overlapping spans\n",
      "overlapping spans\n",
      "overlapping spans\n",
      "overlapping spans\n",
      "overlapping spans\n",
      "overlapping spans\n",
      "overlapping spans\n",
      "overlapping spans\n",
      "overlapping spans\n",
      "overlapping spans\n",
      "overlapping spans\n",
      "overlapping spans\n",
      "overlapping spans\n",
      "overlapping spans\n",
      "overlapping spans\n",
      "overlapping spans\n",
      "overlapping spans\n",
      "overlapping spans\n",
      "overlapping spans\n",
      "overlapping spans\n",
      "overlapping spans\n",
      "overlapping spans\n",
      "overlapping spans\n",
      "overlapping spans\n",
      "overlapping spans\n",
      "overlapping spans\n",
      "overlapping spans\n",
      "overlapping spans\n",
      "overlapping spans\n",
      "overlapping spans\n",
      "overlapping spans\n",
      "overlapping spans\n",
      "overlapping spans\n",
      "overlapping spans\n",
      "overlapping spans\n",
      "overlapping spans\n",
      "overlapping spans\n",
      "overlapping spans\n",
      "overlapping spans\n",
      "overlapping spans\n",
      "overlapping spans\n",
      "overlapping spans\n",
      "overlapping spans\n",
      "overlapping spans\n",
      "overlapping spans\n",
      "overlapping spans\n",
      "overlapping spans\n",
      "overlapping spans\n",
      "overlapping spans\n",
      "overlapping spans\n",
      "overlapping spans\n",
      "overlapping spans\n",
      "overlapping spans\n",
      "overlapping spans\n",
      "overlapping spans\n",
      "overlapping spans\n",
      "overlapping spans\n",
      "overlapping spans\n",
      "overlapping spans\n",
      "\n"
     ]
    }
   ],
   "source": [
    "h_concept = 'payment_option'\n",
    "t_concept = 'background_screening'\n",
    "\n",
    "_res = mine_patterns_between_entities(corpus=sent_dicts,\n",
    "                                   h_instances=instances_dict[h_concept],\n",
    "                                   t_instances=instances_dict[t_concept],\n",
    "                                   seed_relations_df=seed_relations_df,\n",
    "                                   nlp=nlp_full)"
   ]
  },
  {
   "cell_type": "code",
   "execution_count": 248,
   "metadata": {
    "scrolled": true
   },
   "outputs": [
    {
     "data": {
      "text/plain": [
       "{'<src> <tgt>': ['no , you must have a valid id & another form of identification ( birth certificate , sos card , passport , etc )',\n",
       "  'id + birth certificate or social security card or passport , direct deposit info'],\n",
       " '<src> work for <tgt> <tgt>': ['when you go in for your third interview and offer you a position , the hiring manager will give you the paper work for the drug test',\n",
       "  'at the end of the second interview , i asked when they would contact me if they are interested and they handed me paper work for the drug test and background check .'],\n",
       " '<tgt> <src>': ['yes but only if you turn in your two weekends notice and sign your end of employment paper .',\n",
       "  'they should have sent you an email so you can fill out all your employment paper work .',\n",
       "  'i got called into dominos to finish my pre employment paper work after finishing the background check i m 16 in nc and yes when they called me they stated i will have to take a drug test curious to what test this is though will it be a urine test or cotton swab .',\n",
       "  'i guess it depends on your pre employment checks .',\n",
       "  '  they perform a pre - employment background checks',\n",
       "  'go fill out a online app at the near end it asks you \" \\n will you consent to pre - employment background checks , pre - employment and/or random drug testing , past employment verification and/or reference checks ? \"',\n",
       "  'i had a drug test at the beginning of employment and several background/ credit checks .',\n",
       "  '  background check , education checks , credit checks , 3 interviews , phone , in person audition , and manager interview .',\n",
       "  'to my knowledge they conduct education and criminal background checks .',\n",
       "  'yes they do education checks'],\n",
       " '<tgt> <tgt> <src> <src>': ['i am not worried about drug test , credit check or any other test .',\n",
       "  'yes , drug test as well as credit check and background check .',\n",
       "  'process is a little log but worth it passed drug test and credit check at time'],\n",
       " '<tgt> education <src> <src>': ['a few minutes , i was called back to accept offer and fills out my background , employment , education , and credit check .',\n",
       "  'offer specialist called the following monday to verify that i passed criminal , employment , education , and credit check and drug test .'],\n",
       " '<tgt> <src> <src>': ['a few minutes , i was called back to accept offer and fills out my background , employment , education , and credit check .',\n",
       "  'offer specialist called the following monday to verify that i passed criminal , employment , education , and credit check and drug test .'],\n",
       " '<tgt> <tgt> <src>': ['they do drug screening and background checks',\n",
       "  'yes both drug screening and criminal background checks are required .',\n",
       "  'yes , all wal - mart do drug screening and back round checks',\n",
       "  'you must also have a perfect driving record , pass drug screening and federal background checks .',\n",
       "  'drug screening and back ground checks are common practice now .',\n",
       "  'drug test and backround checks',\n",
       "  'no drug test or background checks .',\n",
       "  'do goodwill in statesboro ga gives drug test and background checks',\n",
       "  'yes they always drug test and background checks',\n",
       "  'yes they do drug test and background checks',\n",
       "  \"i do n't know where you 're from but new jersey we were n't given any results from drug test or our background checks\",\n",
       "  'after we are interviewed they do drug test snd criminal background checks',\n",
       "  'drug test criminal background checks',\n",
       "  'drug test and background checks',\n",
       "  \"it means if you pass the drug test and background checks you 'll be hired probably .\",\n",
       "  '  btw no drug test nor background checks .',\n",
       "  '5 days for drug test and background checks',\n",
       "  'all walgreens do drug testing & back ground checks .',\n",
       "  '  drug testing and background checks are mandatory within 48 hours of receiving an offer .',\n",
       "  'they do drug testing , driving and background checks .',\n",
       "  'drug testing and background checks are conducted during the hiring process .',\n",
       "  'pre - screening is the stage where drug testing and background checks are done .',\n",
       "  'no drug testing , only background checks and personal assessments',\n",
       "  'no drug testing , no background checks for crew unfortunately !'],\n",
       " '<src> <tgt> <tgt>': ['required criminal and credit checks and preemployment drug screening',\n",
       "  'background checks and drug screening required , paid training .',\n",
       "  'you must pass two background checks and a drug test before being hired .',\n",
       "  'yes they do background checks and drug test on eveybody that wants to work there .',\n",
       "  'they give thorough background checks and drug test if they feel the need to .',\n",
       "  'they do back ground checks as well as drug test .',\n",
       "  'yes they do background checks and drug test',\n",
       "  'no background checks , no drug test',\n",
       "  'yes the company does background checks and drug test .',\n",
       "  'no credit checks but criminal background and urine drug test .',\n",
       "  'no they do not have background checks or drug test',\n",
       "  'yes they do background checks and drug test as well',\n",
       "  'yes they do background checks and drug test',\n",
       "  'no background checks or drug test .',\n",
       "  'a month with background checks and drug testing',\n",
       "  'yes they do background checks and drug testing',\n",
       "  \"yes , they do n't do background checks or drug testing .. this has not been good because anyone can get a job there , they really need a better screening process .\",\n",
       "  'yes , they do thorough background checks and also drug testing .',\n",
       "  'go fill out a online app at the near end it asks you \" \\n will you consent to pre - employment background checks , pre - employment and/or random drug testing , past employment verification and/or reference checks ? \"',\n",
       "  'and the usps hires alot of new employees every month and between backgoung checks , drug testing and human resources it takes about 2 to 3 months .',\n",
       "  'and the usps hires alot of new employees every month and between backgoung checks , drug testing and human resources it takes about 2 to 3 months .',\n",
       "  \"they do n't do any background checks or drug testing\",\n",
       "  'safe does background checks and drug testing in the building when being interviewed',\n",
       "  'yes - they conduct background checks and drug testing',\n",
       "  'yes they do simple background checks and drug testing'],\n",
       " '<tgt> <tgt> do <src>': ['no they do not drug test nor do background checks',\n",
       "  'they drug test and do background checks',\n",
       "  'my store no longer does drug test they do background checks .',\n",
       "  'no they do not do drug test they do background checks on you .',\n",
       "  'no they do not drug test or do background checks .',\n",
       "  'yes , they drug test and do background checks .'],\n",
       " '<tgt> background <src>': ['i work for a company that does pre - employment background checks and drug screens , and there are definitely things that can require a second test .',\n",
       "  'i think it depends on the project as to what pre - employment background checks are required .'],\n",
       " 'do <src> on <tgt>': ['no , they do nt do a background checks on education .',\n",
       "  \"no , they do n't do background checks on education .\"]}"
      ]
     },
     "execution_count": 248,
     "metadata": {},
     "output_type": "execute_result"
    }
   ],
   "source": [
    "_res"
   ]
  },
  {
   "cell_type": "code",
   "execution_count": null,
   "metadata": {},
   "outputs": [],
   "source": []
  },
  {
   "cell_type": "markdown",
   "metadata": {},
   "source": [
    "# Mine Prompts"
   ]
  },
  {
   "cell_type": "code",
   "execution_count": 13,
   "metadata": {},
   "outputs": [],
   "source": [
    "# Explore various techniques\n",
    "# Get prompts \"between\" entities\n",
    "# Get prompts by syntactic parsing\n",
    "# Get prompts by paraphrasing\n",
    "# Get prompts uisng AutoPrompt"
   ]
  },
  {
   "cell_type": "code",
   "execution_count": 14,
   "metadata": {},
   "outputs": [],
   "source": [
    "# visit here: /meg-kb/src/analysis/pattern_mining.ipynb"
   ]
  },
  {
   "cell_type": "code",
   "execution_count": 15,
   "metadata": {},
   "outputs": [],
   "source": [
    "_nlp = spacy.load('en_core_web_sm')"
   ]
  },
  {
   "cell_type": "code",
   "execution_count": 98,
   "metadata": {},
   "outputs": [
    {
     "name": "stdout",
     "output_type": "stream",
     "text": [
      "0 Amazon []\n",
      "1 is [Amazon, place, .]\n",
      "2 a []\n",
      "3 good []\n",
      "4 place [a, good, for]\n",
      "5 for [working]\n",
      "6 working [as]\n",
      "7 as [time]\n",
      "8 a []\n",
      "9 part []\n",
      "10 - []\n",
      "11 time [a, part, -]\n",
      "12 . []\n"
     ]
    }
   ],
   "source": [
    "_sent = \"Amazon is a good place for working as a part-time.\"\n",
    "_doc = _nlp(_sent)\n",
    "for _t in _doc:\n",
    "    print(_t.i, _t, list(_t.children))"
   ]
  },
  {
   "cell_type": "code",
   "execution_count": 99,
   "metadata": {},
   "outputs": [
    {
     "data": {
      "text/plain": [
       "<networkx.classes.graph.Graph at 0x7fbf27eb0430>"
      ]
     },
     "execution_count": 99,
     "metadata": {},
     "output_type": "execute_result"
    }
   ],
   "source": [
    "edges = []\n",
    "for _t in _doc:\n",
    "    for child in _t.children:\n",
    "        edges.append(('{}-{}'.format(_t.lower_,_t.i), '{}-{}'.format(child.lower_,child.i))) \n",
    "\n",
    "graph = nx.Graph(edges)\n",
    "graph"
   ]
  },
  {
   "cell_type": "code",
   "execution_count": 100,
   "metadata": {},
   "outputs": [
    {
     "data": {
      "text/plain": [
       "EdgeView([('is-1', 'amazon-0'), ('is-1', 'place-4'), ('is-1', '.-12'), ('place-4', 'a-2'), ('place-4', 'good-3'), ('place-4', 'for-5'), ('for-5', 'working-6'), ('working-6', 'as-7'), ('as-7', 'time-11'), ('time-11', 'a-8'), ('time-11', 'part-9'), ('time-11', '--10')])"
      ]
     },
     "execution_count": 100,
     "metadata": {},
     "output_type": "execute_result"
    }
   ],
   "source": [
    "graph.edges"
   ]
  },
  {
   "cell_type": "code",
   "execution_count": 101,
   "metadata": {},
   "outputs": [
    {
     "name": "stdout",
     "output_type": "stream",
     "text": [
      "['amazon-0', 'is-1', 'place-4', 'for-5', 'working-6', 'as-7', 'time-11']\n"
     ]
    }
   ],
   "source": [
    "_src = 'amazon-0'\n",
    "_tgt = 'time-11'\n",
    "if nx.has_path(graph, source=_src, target=_tgt):\n",
    "    path = nx.shortest_path(graph, source=_src, target=_tgt)\n",
    "    print(path)"
   ]
  },
  {
   "cell_type": "code",
   "execution_count": 102,
   "metadata": {},
   "outputs": [
    {
     "data": {
      "text/plain": [
       "True"
      ]
     },
     "execution_count": 102,
     "metadata": {},
     "output_type": "execute_result"
    }
   ],
   "source": [
    "'amazon-0' in graph"
   ]
  },
  {
   "cell_type": "code",
   "execution_count": 103,
   "metadata": {},
   "outputs": [
    {
     "data": {
      "text/plain": [
       "False"
      ]
     },
     "execution_count": 103,
     "metadata": {},
     "output_type": "execute_result"
    }
   ],
   "source": [
    "('is-1', 'amazon-0') in graph"
   ]
  },
  {
   "cell_type": "markdown",
   "metadata": {},
   "source": [
    "## Mine Prompts from seed"
   ]
  },
  {
   "cell_type": "code",
   "execution_count": null,
   "metadata": {},
   "outputs": [],
   "source": [
    "_h = 'they'  # proxy for company \n",
    "_t = 'tattoos'\n",
    "\n",
    "_mentions = []\n",
    "for d in corpus:\n",
    "    if _t in d['entities']:\n",
    "        _mentions.append(' '.join(d['tokens']))\n",
    "\n",
    "_res = learn_patterns(_mentions, _h, _t, nlp=_nlp)\n",
    "_res"
   ]
  },
  {
   "cell_type": "code",
   "execution_count": 212,
   "metadata": {},
   "outputs": [],
   "source": [
    "## TODO: put to utils.py\n",
    "\n",
    "def mine_patterns_between_entities(corpus,\n",
    "                                   h_instances,\n",
    "                                   t_instances,\n",
    "                                   seed_relations_df,\n",
    "                                   nlp=None):\n",
    "\n",
    "    if nlp is None:\n",
    "        nlp = spacy.load('en_core_web_sm')\n",
    "    \n",
    "    mined_patterns = dict()\n",
    "    \n",
    "    tqdm_enum_pairs = tqdm([(_h, _t) for _h in h_instances for _t in t_instances])\n",
    "    for _h, _t in tqdm_enum_pairs:\n",
    "        tqdm_enum_pairs.set_description(f'{str((_h, _t))[:32]:<32s}', refresh=True)\n",
    "        \n",
    "        _mentions = []\n",
    "        for d in corpus:\n",
    "            _sent = ' '.join(d['tokens']).lower()\n",
    "            if _h in d['entities'] and _t in d['entities']:\n",
    "                _mentions.append(_sent)\n",
    "\n",
    "        _res = learn_patterns(_mentions, _h, _t, nlp=nlp)\n",
    "        for _k, _sents in _res:\n",
    "            mined_patterns[_k] = mined_patterns.get(_k, []) + _sents\n",
    "    \n",
    "    return mined_patterns\n",
    "    "
   ]
  },
  {
   "cell_type": "code",
   "execution_count": 213,
   "metadata": {},
   "outputs": [
    {
     "data": {
      "application/vnd.jupyter.widget-view+json": {
       "model_id": "016b08a458894de993d12e3c5a8efae1",
       "version_major": 2,
       "version_minor": 0
      },
      "text/plain": [
       "HBox(children=(FloatProgress(value=0.0, max=4.0), HTML(value='')))"
      ]
     },
     "metadata": {},
     "output_type": "display_data"
    },
    {
     "name": "stdout",
     "output_type": "stream",
     "text": [
      "\n"
     ]
    }
   ],
   "source": [
    "_res = mine_patterns_between_entities(corpus=sent_dicts,\n",
    "                                   h_instances=['cashier', 'store manager'],\n",
    "                                   t_instances=['training', 'age limit'],\n",
    "                                   seed_relations_df=seed_relations_df,\n",
    "                                   nlp=nlp_full)"
   ]
  },
  {
   "cell_type": "code",
   "execution_count": 214,
   "metadata": {},
   "outputs": [
    {
     "data": {
      "text/plain": [
       "{'<src> <tgt>': ['it 2 weeks in lab to get the handle of the drink making and and then you do 2 weeks of cashier training',\n",
       "  'cashier , customer service training .',\n",
       "  '7.25 at time for partime cashier will training you .',\n",
       "  'you \\'re the \" go to \" for cashier training and questions .',\n",
       "  'cashier training is just getting thrown into a checkstand !',\n",
       "  'i was promoted from associate to shift manger in 6 months and never finished my cashier training',\n",
       "  'orientation was based in some cashier training as well as online test .'],\n",
       " '<tgt> for <src>': ['yes , there is training for a cashier .',\n",
       "  'do they offer training for cashier ?']}"
      ]
     },
     "execution_count": 214,
     "metadata": {},
     "output_type": "execute_result"
    }
   ],
   "source": [
    "_res"
   ]
  },
  {
   "cell_type": "code",
   "execution_count": 27,
   "metadata": {},
   "outputs": [
    {
     "data": {
      "application/vnd.jupyter.widget-view+json": {
       "model_id": "77e4632972ae403cbcd2a4f2d7b8b260",
       "version_major": 2,
       "version_minor": 0
      },
      "text/plain": [
       "HBox(children=(FloatProgress(value=0.0, max=13.0), HTML(value='')))"
      ]
     },
     "metadata": {},
     "output_type": "display_data"
    },
    {
     "name": "stdout",
     "output_type": "stream",
     "text": [
      "('company', 'has_pay_schedule', 'pay_schedule')\n",
      "('company', 'has_dress_code', 'dress_code')\n",
      "('company', 'has_background_screening', 'background_screening')\n",
      "('company', 'has_benefits', 'benefits')\n",
      "('company', 'hires_person', 'person')\n",
      "('company', 'has_compensation', 'compensation')\n",
      "('company', 'has_hire_prerequisite', 'hire_prerequisite')\n",
      "('company', 'operates_on', 'schedule')\n",
      "('company', 'hires_employee_type', 'employee_type')\n",
      "('company', 'has_onboarding_steps', 'onboarding_steps')\n",
      "('company', 'has_shifts', 'shifts')\n",
      "('company', 'has_job_position', 'job_position')\n",
      "('company', 'has_payment_option', 'payment_option')\n",
      "\n"
     ]
    }
   ],
   "source": [
    "# Fully run - all relations, all tail entities \n",
    "## TODO: use mine_patterns_between_entities()\n",
    "\n",
    "all_relation_patterns = dict()\n",
    "\n",
    "for _r_row in tqdm(seed_relations_df.to_records('dict')):\n",
    "    _r = _r_row['alignedRelationName']\n",
    "    _h_type = _r_row['domain']\n",
    "    _t_type = _r_row['range']\n",
    "    \n",
    "    print((_h_type, _r, _t_type))\n",
    "    assert _h_type == 'company'\n",
    "    \n",
    "    # _seed_heads = seed_concepts_df[seed_concepts_df['alignedCategoryName'] == _h_type]['seedInstances'].item()\n",
    "    _seed_tails = seed_concepts_df[seed_concepts_df['alignedCategoryName'] == _t_type]['seedInstances'].item()\n",
    "    \n",
    "    _r_patterns = dict()\n",
    "    \n",
    "    _h = 'they'\n",
    "    for _t in _seed_tails:\n",
    "        _mentions = []\n",
    "        for d in corpus:\n",
    "            _sent = ' '.join(d['tokens']).lower()\n",
    "            if _h in _sent.split(' ') and _t in d['entities']:\n",
    "                _mentions.append(_sent)\n",
    "\n",
    "        _res = learn_patterns(_mentions, _h, _t, nlp=_nlp)\n",
    "        for _k, _sents in _res:\n",
    "            _r_patterns[_k] = _r_patterns.get(_k, []) + _sents\n",
    "    \n",
    "    all_relation_patterns[_r] = _r_patterns"
   ]
  },
  {
   "cell_type": "code",
   "execution_count": 28,
   "metadata": {},
   "outputs": [],
   "source": [
    "all_relation_patterns_sub = dict()\n",
    "for _r, _patterns in all_relation_patterns.items():\n",
    "    _r_patterns = dict()\n",
    "    for _p, _sents in _patterns.items():\n",
    "        _p_dict = {\n",
    "            'count': len(_sents),\n",
    "            'samples': _sents[:20]\n",
    "        }\n",
    "        _r_patterns[_p] = _p_dict\n",
    "    all_relation_patterns_sub[_r] = _r_patterns"
   ]
  },
  {
   "cell_type": "code",
   "execution_count": 29,
   "metadata": {
    "scrolled": true
   },
   "outputs": [
    {
     "data": {
      "text/plain": [
       "{'<src> offer <tgt> <tgt>': {'count': 15,\n",
       "  'samples': ['no i do nt think it would be because they do nt offer health insurance when you work part time .',\n",
       "   'do they offer health insurance to full time sales associates ?',\n",
       "   \"they do n't offer health insurance\",\n",
       "   'but i hear they offer dental and health insurance .',\n",
       "   'no , they do not offer health insurance or at least the one i work at does not .',\n",
       "   'no they do not offer any health insurance at all',\n",
       "   \"  they also offer health insurance , with different plans , if you 're full time !\",\n",
       "   'they \" offer \" health insurance , but you have to have worked there for 6 + months and then they say they \" ca n\\'t find any paperwork for it \" .',\n",
       "   'they offer health insurance but u have to pick the right one',\n",
       "   'they do offer health insurance but that ’s it .',\n",
       "   'supplemental from 3 months to 13 months and then they offer health insurance that meet obama care guidelines',\n",
       "   'maybe they offer health insurance for there part time workers now i am not sure about that .',\n",
       "   '50 % discount from your meals and they do offer a 401 k and health insurance',\n",
       "   'i believe they do offer health insurance for part time employees',\n",
       "   'they do not offer health insurance']},\n",
       " '<src> provide <tgt> <tgt>': {'count': 5,\n",
       "  'samples': [\"they did n't provide health insurance\",\n",
       "   'they provide health insurance to full and part time help .',\n",
       "   'they do provide health insurance',\n",
       "   'yes they provide health insurance',\n",
       "   'they do not provide health insurance .']},\n",
       " '<src> have <tgt> <tgt>': {'count': 6,\n",
       "  'samples': ['they have health insurance and some 401k plans .',\n",
       "   'yes they have ok health insurance .',\n",
       "   'yes they have health insurance',\n",
       "   'no they do not have health insurance',\n",
       "   'yes , they have flexible schedule , all needed is communication .',\n",
       "   \"they have a very flexible schedule for most departments and if your schedule does n't fit , you 'll more than likely just be moved .\"]},\n",
       " '<src> give <tgt> <tgt>': {'count': 2,\n",
       "  'samples': ['no they do not give health insurance to part - time employees .',\n",
       "   'they do not give part time employees health insurance .']},\n",
       " '<src> get <tgt> <tgt>': {'count': 2,\n",
       "  'samples': ['they do not get health insurance ever',\n",
       "   'they do get health insurance , yes .']},\n",
       " '<src> offer <tgt>': {'count': 12,\n",
       "  'samples': ['no they do not offer 401k',\n",
       "   'yes they do offer 401k for part time and full time .',\n",
       "   'they offer all benefits even 401k .',\n",
       "   'yes they offer 401k .',\n",
       "   'they offer 401k .',\n",
       "   'i know they offer 401k , and will match your contribution up to 6 % of your pay .',\n",
       "   \"they do n't offer 401k\",\n",
       "   'no they offer 401k and stock options',\n",
       "   'i have a interview in a.m do they offer 401k',\n",
       "   'yes , they offer 401k and stock purchase',\n",
       "   'they also offer 401k and stock options after 1 year .',\n",
       "   'yes , they offer 401k']},\n",
       " '<src> provide <tgt>': {'count': 5,\n",
       "  'samples': ['they do provide 401k and other benefits .',\n",
       "   'yes they do provide 401k',\n",
       "   'yes they provide 401k and numerous other perks including health dental and eye insurance and employee discounts .',\n",
       "   'no , they do not provide 401k for supervisors',\n",
       "   'yes , they provide 401k and stock']},\n",
       " '<src> have <tgt>': {'count': 4,\n",
       "  'samples': ['they also have 401k , stock , vacation time , and great insurance plans',\n",
       "   'yes they do have 401k',\n",
       "   'no , they do not have 401k',\n",
       "   'not sure if they have a 401k i was never notified about this .']},\n",
       " '<src> have <tgt> plan': {'count': 3,\n",
       "  'samples': ['they do not have a 401k plan',\n",
       "   'they did not have a 401k plan',\n",
       "   'yes they have a 401k plan']},\n",
       " '<src> offer <tgt> plan': {'count': 2,\n",
       "  'samples': ['they offer 401k plan as well as dental health coverage for you and your spose and vision .',\n",
       "   'they offer the 401k plan and they have company plan where however muck money you put into they company they match and you can cash it in at any given time .']},\n",
       " '<src> provide <tgt> benefits': {'count': 2,\n",
       "  'samples': ['yes they provide 401k benefits',\n",
       "   'yes they do provide 401k benefits']}}"
      ]
     },
     "execution_count": 29,
     "metadata": {},
     "output_type": "execute_result"
    }
   ],
   "source": [
    "all_relation_patterns_sub['has_benefits']"
   ]
  },
  {
   "cell_type": "code",
   "execution_count": 30,
   "metadata": {},
   "outputs": [],
   "source": [
    "all_relation_patterns_path = os.path.join(base_dir, f'data/{data_ac}/intermediate/mined_patterns.json')\n",
    "with open(all_relation_patterns_path, 'w') as f:\n",
    "    json.dump(all_relation_patterns_sub, f, indent=2)"
   ]
  },
  {
   "cell_type": "code",
   "execution_count": 34,
   "metadata": {},
   "outputs": [
    {
     "data": {
      "text/plain": [
       "(401, 4)"
      ]
     },
     "execution_count": 34,
     "metadata": {},
     "output_type": "execute_result"
    }
   ],
   "source": [
    "all_relation_patterns_records = []\n",
    "for _r, _patterns in all_relation_patterns.items():\n",
    "    for _p, _sents in _patterns.items():\n",
    "        _record = {\n",
    "            'relation': _r,\n",
    "            'pattern': _p,\n",
    "            'count': len(_sents),\n",
    "            'samples': _sents[:20]\n",
    "        }\n",
    "        all_relation_patterns_records.append(_record)\n",
    "        \n",
    "all_relation_patterns_df = pd.DataFrame(all_relation_patterns_records)\n",
    "all_relation_patterns_df.shape"
   ]
  },
  {
   "cell_type": "code",
   "execution_count": 35,
   "metadata": {},
   "outputs": [],
   "source": [
    "all_relation_patterns_path = os.path.join(base_dir, f'data/{data_ac}/intermediate/mined_patterns.csv')\n",
    "all_relation_patterns_df.to_csv(all_relation_patterns_path, index=False)"
   ]
  },
  {
   "cell_type": "code",
   "execution_count": null,
   "metadata": {},
   "outputs": [],
   "source": []
  },
  {
   "cell_type": "markdown",
   "metadata": {},
   "source": [
    "## Using prompts to hard-retrieve"
   ]
  },
  {
   "cell_type": "code",
   "execution_count": null,
   "metadata": {
    "code_folding": [
     0
    ]
   },
   "outputs": [],
   "source": [
    "def _prompt_retrieve(prompt):\n",
    "    ret = []\n",
    "    \n",
    "    for d in corpus:\n",
    "        _entities = d['entities']\n",
    "        _tokens = d['tokens']\n",
    "        if len(_entities) < 2:\n",
    "            continue\n",
    "\n",
    "        _sent = ' '.join(_tokens).lower()\n",
    "        if f' {prompt} ' not in _sent:\n",
    "            continue\n",
    "        \n",
    "        _p_idx = _sent.index(f' {prompt} ') + 1\n",
    "        _e_indices = [_sent.find(e) for e in _entities]\n",
    "        if max(_e_indices) < 0:\n",
    "            continue\n",
    "        _l_indices = [(i, e) for i, e in zip(_e_indices, _entities) if 0 <= i < _p_idx]\n",
    "        _r_indices = [(i, e) for i, e in zip(_e_indices, _entities) if i > _p_idx]\n",
    "        if len(_l_indices) == 0 or len(_r_indices) == 0:\n",
    "            continue\n",
    "        _l_idx, _l_ent = max(_l_indices, key=lambda p: p[0])\n",
    "        _r_idx, _r_ent = min(_r_indices, key=lambda p: p[0])\n",
    "#         _r_idx += len(_r_ent)\n",
    "\n",
    "        ## Extracting dep path \n",
    "        doc = _nlp(_sent)\n",
    "        src_matcher = Matcher(nlp.vocab)\n",
    "        src_pattern = [{\"LOWER\": t} for t in _l_ent.split(' ')]\n",
    "        src_matcher.add(\"src\", [src_pattern])\n",
    "        \n",
    "        prompt_matcher = Matcher(nlp.vocab)\n",
    "        prompt_pattern = [{\"LOWER\": t} for t in prompt.split(' ')]\n",
    "        prompt_matcher.add(\"prompt\", [prompt_pattern])\n",
    "\n",
    "        tgt_matcher = Matcher(nlp.vocab)\n",
    "        tgt_pattern = [{\"LOWER\": t} for t in _r_ent.split(' ')]\n",
    "        tgt_matcher.add(\"tgt\", [tgt_pattern])\n",
    "        \n",
    "        src_matches = src_matcher(doc)\n",
    "        if len(src_matches) == 0:\n",
    "            print('src not matched')\n",
    "            continue\n",
    "        tgt_matches = tgt_matcher(doc)\n",
    "        if len(tgt_matches) == 0:\n",
    "            print('tgt not matched')\n",
    "            continue\n",
    "        prompt_matches = prompt_matcher(doc)\n",
    "        if len(prompt_matches) == 0:\n",
    "            print('prompt not matched')\n",
    "            continue\n",
    "        \n",
    "        src_match = None\n",
    "        src_span = None\n",
    "        for _m in src_matches:\n",
    "            if doc[_m[1]].idx == _l_idx:\n",
    "                src_match = _m[0]\n",
    "                src_span = doc[_m[1]: _m[2]]\n",
    "                break\n",
    "        \n",
    "        prompt_match = None\n",
    "        prompt_span = None\n",
    "        for _m in prompt_matches:\n",
    "            if doc[_m[1]].idx == _p_idx:\n",
    "                prompt_match = _m[0]\n",
    "                prompt_span = doc[_m[1]: _m[2]]\n",
    "                break\n",
    "        \n",
    "        tgt_match = None\n",
    "        tgt_span = None\n",
    "        for _m in tgt_matches:\n",
    "            if doc[_m[1]].idx == _r_idx:\n",
    "                tgt_match = _m[0]\n",
    "                tgt_span = doc[_m[1]: _m[2]]\n",
    "                break\n",
    "        \n",
    "        if None in (src_match, prompt_match, tgt_match):\n",
    "            print('_sent:', _sent)\n",
    "            print(_l_ent, prompt, _r_ent)\n",
    "            print(src_match, prompt_match, tgt_match)\n",
    "            print()\n",
    "            continue\n",
    "        \n",
    "        if len(spacy.util.filter_spans([src_span, prompt_span, tgt_span])) != 3: # distinct_spans\n",
    "            print('overlapping spans')\n",
    "            continue\n",
    "        \n",
    "        src_root = src_span.root\n",
    "        prompt_root = prompt_span.root\n",
    "        tgt_root = tgt_span.root\n",
    "        \n",
    "        edges = []\n",
    "        for token in doc:\n",
    "            for child in token.children:\n",
    "                edges.append(('{}-{}'.format(token.lower_,token.i), '{}-{}'.format(child.lower_,child.i)))\n",
    "#         print(edges)\n",
    "        \n",
    "        graph = nx.Graph(edges)\n",
    "        path = None\n",
    "        source = '{}-{}'.format(src_root.lower_, src_root.i)\n",
    "        middle = '{}-{}'.format(prompt_root.lower_, prompt_root.i)\n",
    "        target = '{}-{}'.format(tgt_root.lower_, tgt_root.i)\n",
    "        if any([n not in graph for n in (source, middle, target)]):\n",
    "            continue\n",
    "        if nx.has_path(graph, source=source, target=middle) and nx.has_path(graph, source=middle, target=target):\n",
    "            path1 = nx.shortest_path(graph, source=source, target=middle)\n",
    "            path2 = nx.shortest_path(graph, source=middle, target=target)\n",
    "            path = path1 + path2[1:]\n",
    "        \n",
    "        if path is not None:\n",
    "            for t in src_span:\n",
    "                n = '{}-{}'.format(t.lower_, t.i)  \n",
    "                if n not in path:\n",
    "                    path.append(n)\n",
    "            for t in prompt_span:\n",
    "                n = '{}-{}'.format(t.lower_, t.i)\n",
    "                if n not in path:\n",
    "                    path.append(n)\n",
    "            for t in tgt_span:\n",
    "                n = '{}-{}'.format(t.lower_, t.i)\n",
    "                if n not in path:\n",
    "                    path.append(n)\n",
    "        else:\n",
    "            continue\n",
    "        \n",
    "        path_nodes = dict()\n",
    "        for p in path:\n",
    "            t, i = p.rsplit('-', 1)\n",
    "            i = int(i)\n",
    "            path_nodes[i] = t\n",
    "        path_nodes = sorted(path_nodes.items(), key=lambda x: x[0])\n",
    "        pattern = ' '.join([p[1] for p in path_nodes])\n",
    "\n",
    "        print('_sent:', _sent)\n",
    "        print(path)\n",
    "        print(pattern, (_l_ent, _r_ent))\n",
    "        print()\n",
    "        ret.append(pattern)\n",
    "        if len(ret) >= 100:\n",
    "            break\n",
    "        \n",
    "    return ret\n",
    "    "
   ]
  },
  {
   "cell_type": "code",
   "execution_count": null,
   "metadata": {},
   "outputs": [],
   "source": [
    "print('\\n'.join(_prompt_retrieve('has')))"
   ]
  },
  {
   "cell_type": "code",
   "execution_count": null,
   "metadata": {},
   "outputs": [],
   "source": [
    "print('\\n'.join(_prompt_retrieve('do')))"
   ]
  },
  {
   "cell_type": "code",
   "execution_count": null,
   "metadata": {
    "scrolled": true
   },
   "outputs": [],
   "source": [
    "print('\\n'.join(_prompt_retrieve('pays')))"
   ]
  },
  {
   "cell_type": "code",
   "execution_count": null,
   "metadata": {
    "scrolled": true
   },
   "outputs": [],
   "source": [
    "print('\\n'.join(_prompt_retrieve('receives')))"
   ]
  },
  {
   "cell_type": "code",
   "execution_count": null,
   "metadata": {
    "scrolled": true
   },
   "outputs": [],
   "source": [
    "print('\\n'.join(_prompt_retrieve('does n\\'t allow')))"
   ]
  },
  {
   "cell_type": "code",
   "execution_count": null,
   "metadata": {},
   "outputs": [],
   "source": []
  },
  {
   "cell_type": "markdown",
   "metadata": {},
   "source": [
    "# Retrieve Prompt Evidence"
   ]
  },
  {
   "cell_type": "code",
   "execution_count": 109,
   "metadata": {},
   "outputs": [],
   "source": [
    "# visit here: /meg-kb/src/analysis/lm_probing.ipynb"
   ]
  },
  {
   "cell_type": "code",
   "execution_count": null,
   "metadata": {},
   "outputs": [],
   "source": []
  },
  {
   "cell_type": "code",
   "execution_count": null,
   "metadata": {},
   "outputs": [],
   "source": []
  },
  {
   "cell_type": "code",
   "execution_count": null,
   "metadata": {},
   "outputs": [],
   "source": []
  },
  {
   "cell_type": "markdown",
   "metadata": {},
   "source": [
    "# Suggest Quality Prompts"
   ]
  },
  {
   "cell_type": "code",
   "execution_count": null,
   "metadata": {},
   "outputs": [],
   "source": []
  },
  {
   "cell_type": "markdown",
   "metadata": {},
   "source": [
    "# Discussions"
   ]
  },
  {
   "cell_type": "code",
   "execution_count": 249,
   "metadata": {},
   "outputs": [],
   "source": [
    "# Discussions:\n",
    "# coherence clustering / ensemble models?\n",
    "# trying for other relations or entities\n",
    "# using entities in sub-categories\n",
    "# fine-tuning\n",
    "# ambiguous samples (high for pos and neg)\n",
    "# quantitative-evaluation"
   ]
  },
  {
   "cell_type": "code",
   "execution_count": null,
   "metadata": {},
   "outputs": [],
   "source": []
  }
 ],
 "metadata": {
  "hide_input": false,
  "kernelspec": {
   "display_name": "Environment (conda_transformers_nikita)",
   "language": "python",
   "name": "conda_transformers_nikita"
  },
  "language_info": {
   "codemirror_mode": {
    "name": "ipython",
    "version": 3
   },
   "file_extension": ".py",
   "mimetype": "text/x-python",
   "name": "python",
   "nbconvert_exporter": "python",
   "pygments_lexer": "ipython3",
   "version": "3.8.3"
  },
  "toc": {
   "base_numbering": 1,
   "nav_menu": {},
   "number_sections": true,
   "sideBar": true,
   "skip_h1_title": false,
   "title_cell": "Table of Contents",
   "title_sidebar": "Contents",
   "toc_cell": false,
   "toc_position": {
    "height": "calc(100% - 180px)",
    "left": "10px",
    "top": "150px",
    "width": "288px"
   },
   "toc_section_display": true,
   "toc_window_display": true
  }
 },
 "nbformat": 4,
 "nbformat_minor": 2
}
