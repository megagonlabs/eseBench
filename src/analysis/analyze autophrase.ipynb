{
 "cells": [
  {
   "cell_type": "code",
   "execution_count": 1,
   "metadata": {},
   "outputs": [],
   "source": [
    "import pandas as pd\n",
    "import sys\n",
    "import itertools"
   ]
  },
  {
   "cell_type": "code",
   "execution_count": 11,
   "metadata": {},
   "outputs": [],
   "source": [
    "def analyze(sentences_json_filename, sampled_dest=None):\n",
    "    df = pd.read_json(sentences_json_filename, lines=True)\n",
    "    mapping = {}\n",
    "    for _, row in df.iterrows():\n",
    "        mentions = [x['text'] for x in row['entityMentions']]\n",
    "        mentions = list(set(mentions))  # there can be multiple mentions of the same entity in the sentence\n",
    "        if len(mentions) < 2:\n",
    "            continue\n",
    "        pairs = list(itertools.combinations(mentions, 2))\n",
    "        sent = ' '.join(row['tokens'])\n",
    "        for pair in pairs:\n",
    "            pair_key = str(set(pair))\n",
    "            sents = mapping.get(pair_key, [])\n",
    "            sents.append(sent)\n",
    "            mapping[pair_key] = sents\n",
    "\n",
    "    print(len(mapping))\n",
    "    lst = []\n",
    "    for key, val in mapping.items():\n",
    "        lst.append({\"pair\": key, \"mentions\": val, \"mention_ct\": len(val)})\n",
    "    df = pd.DataFrame(lst)\n",
    "    df = df.sort_values(by='mention_ct', ascending=False)\n",
    "    if sampled_dest is not None:\n",
    "        df.head(1000).to_csv(sampled_dest, index=None)\n",
    "    return df"
   ]
  },
  {
   "cell_type": "code",
   "execution_count": 4,
   "metadata": {},
   "outputs": [],
   "source": [
    "dataset = 'imdb'"
   ]
  },
  {
   "cell_type": "code",
   "execution_count": 5,
   "metadata": {},
   "outputs": [],
   "source": [
    "embedding = 'meg-ac'"
   ]
  },
  {
   "cell_type": "code",
   "execution_count": 6,
   "metadata": {},
   "outputs": [],
   "source": [
    "filename = '../../data/'+dataset+'-'+embedding+'/intermediate/sentences.json'"
   ]
  },
  {
   "cell_type": "code",
   "execution_count": 12,
   "metadata": {},
   "outputs": [
    {
     "name": "stdout",
     "output_type": "stream",
     "text": [
      "318112\n"
     ]
    }
   ],
   "source": [
    "df =  analyze(filename,'autophrase_'+dataset+'.csv')"
   ]
  },
  {
   "cell_type": "code",
   "execution_count": 8,
   "metadata": {},
   "outputs": [
    {
     "data": {
      "text/html": [
       "<div>\n",
       "<style scoped>\n",
       "    .dataframe tbody tr th:only-of-type {\n",
       "        vertical-align: middle;\n",
       "    }\n",
       "\n",
       "    .dataframe tbody tr th {\n",
       "        vertical-align: top;\n",
       "    }\n",
       "\n",
       "    .dataframe thead th {\n",
       "        text-align: right;\n",
       "    }\n",
       "</style>\n",
       "<table border=\"1\" class=\"dataframe\">\n",
       "  <thead>\n",
       "    <tr style=\"text-align: right;\">\n",
       "      <th></th>\n",
       "      <th>pair</th>\n",
       "      <th>mentions</th>\n",
       "      <th>mention_ct</th>\n",
       "    </tr>\n",
       "  </thead>\n",
       "  <tbody>\n",
       "    <tr>\n",
       "      <th>775</th>\n",
       "      <td>{'movie', 'film'}</td>\n",
       "      <td>[His touch is most apparent during the film 's...</td>\n",
       "      <td>1423</td>\n",
       "    </tr>\n",
       "    <tr>\n",
       "      <th>48</th>\n",
       "      <td>{'director', 'film'}</td>\n",
       "      <td>[  King criticized the director for changing m...</td>\n",
       "      <td>631</td>\n",
       "    </tr>\n",
       "    <tr>\n",
       "      <th>691</th>\n",
       "      <td>{'film', 'films'}</td>\n",
       "      <td>[Unlike the dancing films in Hollywood , the c...</td>\n",
       "      <td>552</td>\n",
       "    </tr>\n",
       "    <tr>\n",
       "      <th>1332</th>\n",
       "      <td>{'movie', 'life'}</td>\n",
       "      <td>[This movie portrays a difficult life ., that ...</td>\n",
       "      <td>511</td>\n",
       "    </tr>\n",
       "    <tr>\n",
       "      <th>123</th>\n",
       "      <td>{'action', 'movie'}</td>\n",
       "      <td>[Good action sequences , plenty of \" feel good...</td>\n",
       "      <td>505</td>\n",
       "    </tr>\n",
       "    <tr>\n",
       "      <th>...</th>\n",
       "      <td>...</td>\n",
       "      <td>...</td>\n",
       "      <td>...</td>\n",
       "    </tr>\n",
       "    <tr>\n",
       "      <th>6821</th>\n",
       "      <td>{'lead', 'film'}</td>\n",
       "      <td>[/&gt;Busey may not have the physical presence of...</td>\n",
       "      <td>69</td>\n",
       "    </tr>\n",
       "    <tr>\n",
       "      <th>7484</th>\n",
       "      <td>{'movie', 'directors'}</td>\n",
       "      <td>[This movie , is a must see if you want to kno...</td>\n",
       "      <td>68</td>\n",
       "    </tr>\n",
       "    <tr>\n",
       "      <th>2032</th>\n",
       "      <td>{'vhs', 'dvd'}</td>\n",
       "      <td>[  DVD and VHS ., One thing does concern me th...</td>\n",
       "      <td>68</td>\n",
       "    </tr>\n",
       "    <tr>\n",
       "      <th>21139</th>\n",
       "      <td>{'car', 'film'}</td>\n",
       "      <td>[To make it short and not to spoil everything ...</td>\n",
       "      <td>68</td>\n",
       "    </tr>\n",
       "    <tr>\n",
       "      <th>4624</th>\n",
       "      <td>{'movie', 'god'}</td>\n",
       "      <td>[this is a god   awful movie .,   God rest Dud...</td>\n",
       "      <td>68</td>\n",
       "    </tr>\n",
       "  </tbody>\n",
       "</table>\n",
       "<p>200 rows × 3 columns</p>\n",
       "</div>"
      ],
      "text/plain": [
       "                         pair  \\\n",
       "775         {'movie', 'film'}   \n",
       "48       {'director', 'film'}   \n",
       "691         {'film', 'films'}   \n",
       "1332        {'movie', 'life'}   \n",
       "123       {'action', 'movie'}   \n",
       "...                       ...   \n",
       "6821         {'lead', 'film'}   \n",
       "7484   {'movie', 'directors'}   \n",
       "2032           {'vhs', 'dvd'}   \n",
       "21139         {'car', 'film'}   \n",
       "4624         {'movie', 'god'}   \n",
       "\n",
       "                                                mentions  mention_ct  \n",
       "775    [His touch is most apparent during the film 's...        1423  \n",
       "48     [  King criticized the director for changing m...         631  \n",
       "691    [Unlike the dancing films in Hollywood , the c...         552  \n",
       "1332   [This movie portrays a difficult life ., that ...         511  \n",
       "123    [Good action sequences , plenty of \" feel good...         505  \n",
       "...                                                  ...         ...  \n",
       "6821   [/>Busey may not have the physical presence of...          69  \n",
       "7484   [This movie , is a must see if you want to kno...          68  \n",
       "2032   [  DVD and VHS ., One thing does concern me th...          68  \n",
       "21139  [To make it short and not to spoil everything ...          68  \n",
       "4624   [this is a god   awful movie .,   God rest Dud...          68  \n",
       "\n",
       "[200 rows x 3 columns]"
      ]
     },
     "execution_count": 8,
     "metadata": {},
     "output_type": "execute_result"
    }
   ],
   "source": [
    "df.head(200)"
   ]
  },
  {
   "cell_type": "code",
   "execution_count": null,
   "metadata": {},
   "outputs": [],
   "source": []
  }
 ],
 "metadata": {
  "hide_input": false,
  "kernelspec": {
   "display_name": "Environment (conda_meg_nikita)",
   "language": "python",
   "name": "conda_meg_nikita"
  },
  "language_info": {
   "codemirror_mode": {
    "name": "ipython",
    "version": 3
   },
   "file_extension": ".py",
   "mimetype": "text/x-python",
   "name": "python",
   "nbconvert_exporter": "python",
   "pygments_lexer": "ipython3",
   "version": "3.6.10"
  },
  "toc": {
   "base_numbering": 1,
   "nav_menu": {},
   "number_sections": true,
   "sideBar": true,
   "skip_h1_title": false,
   "title_cell": "Table of Contents",
   "title_sidebar": "Contents",
   "toc_cell": false,
   "toc_position": {},
   "toc_section_display": true,
   "toc_window_display": false
  }
 },
 "nbformat": 4,
 "nbformat_minor": 2
}
